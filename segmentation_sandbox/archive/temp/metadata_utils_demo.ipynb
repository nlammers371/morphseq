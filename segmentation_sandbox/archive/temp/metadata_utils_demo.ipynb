{
 "cells": [
  {
   "cell_type": "markdown",
   "id": "abb374bb",
   "metadata": {},
   "source": [
    "# Experiment Metadata Utilities Demo\n",
    "\n",
    "This notebook demonstrates how to use the experiment metadata utilities for robust image path lookup and metadata queries."
   ]
  },
  {
   "cell_type": "code",
   "execution_count": 2,
   "id": "8e0b72dd",
   "metadata": {},
   "outputs": [],
   "source": [
    "# Add utils directory to path\n",
    "import sys\n",
    "from pathlib import Path\n",
    "sys.path.append(str(Path('/net/trapnell/vol1/home/mdcolon/proj/morphseq/segmentation_sandbox/scripts/utils')))\n",
    "\n",
    "# Import our utilities\n",
    "from experiment_metadata_utils import (\n",
    "    load_experiment_metadata,\n",
    "    get_image_id_path,\n",
    "    get_image_path_fast,\n",
    "    verify_image_exists,\n",
    "    find_video_for_image,\n",
    "    get_metadata_summary,\n",
    "    list_all_image_ids\n",
    ")"
   ]
  },
  {
   "cell_type": "code",
   "execution_count": 4,
   "id": "4620a9da",
   "metadata": {},
   "outputs": [
    {
     "name": "stdout",
     "output_type": "stream",
     "text": [
      "Metadata file exists: True\n"
     ]
    }
   ],
   "source": [
    "# Define metadata path\n",
    "metadata_path = Path(\"/net/trapnell/vol1/home/mdcolon/proj/morphseq/segmentation_sandbox/data/raw_data_organized/experiment_metadata.json\")\n",
    "print(f\"Metadata file exists: {metadata_path.exists()}\")"
   ]
  },
  {
   "cell_type": "code",
   "execution_count": 5,
   "id": "0fb13c55",
   "metadata": {},
   "outputs": [
    {
     "name": "stdout",
     "output_type": "stream",
     "text": [
      "Metadata Summary:\n",
      "  total_experiments: 16\n",
      "  total_videos: 1391\n",
      "  total_images: 84226\n",
      "  experiment_ids: ['20240812', '20231110', '20231206', '20231218', '20240306']... (showing first 5)\n",
      "  creation_time: 2025-06-27T14:45:58.619300\n",
      "  script_version: 01_prepare_videos.py\n"
     ]
    }
   ],
   "source": [
    "# Get metadata summary\n",
    "summary = get_metadata_summary(metadata_path)\n",
    "print(\"Metadata Summary:\")\n",
    "for key, value in summary.items():\n",
    "    if key == \"experiment_ids\":\n",
    "        print(f\"  {key}: {value[:5]}... (showing first 5)\")\n",
    "    else:\n",
    "        print(f\"  {key}: {value}\")"
   ]
  },
  {
   "cell_type": "markdown",
   "id": "ece4a5ed",
   "metadata": {},
   "source": [
    "## Method 1: Single Image Lookup (loads metadata each time)\n",
    "\n",
    "Good for one-off queries or when working with just a few images."
   ]
  },
  {
   "cell_type": "code",
   "execution_count": 6,
   "id": "6a398883",
   "metadata": {},
   "outputs": [
    {
     "name": "stdout",
     "output_type": "stream",
     "text": [
      "Image path: /net/trapnell/vol1/home/mdcolon/proj/morphseq/segmentation_sandbox/data/raw_data_organized/20241023/images/20241023_A01/20241023_A01_0000.jpg\n",
      "File exists: True\n",
      "Video ID: 20241023_A01\n",
      "Total images in video: 43\n"
     ]
    }
   ],
   "source": [
    "# Test with a valid image_id\n",
    "test_image_id = \"20241023_A01_0000\"\n",
    "\n",
    "try:\n",
    "    # Method 1: Pass metadata path (loads metadata each call)\n",
    "    image_path = get_image_id_path(test_image_id, metadata_path)\n",
    "    print(f\"Image path: {image_path}\")\n",
    "    print(f\"File exists: {image_path.exists()}\")\n",
    "    \n",
    "    # Get video information\n",
    "    video_info = find_video_for_image(test_image_id, metadata_path)\n",
    "    if video_info:\n",
    "        print(f\"Video ID: {video_info['video_id']}\")\n",
    "        print(f\"Total images in video: {len(video_info['image_ids'])}\")\n",
    "        \n",
    "except ValueError as e:\n",
    "    print(f\"Image not found: {e}\")\n",
    "except FileNotFoundError as e:\n",
    "    print(f\"File missing: {e}\")"
   ]
  },
  {
   "cell_type": "markdown",
   "id": "5156ddc2",
   "metadata": {},
   "source": [
    "## Method 2: Batch Processing (loads metadata once)\n",
    "\n",
    "More efficient when working with many images - loads metadata once and reuses it."
   ]
  },
  {
   "cell_type": "code",
   "execution_count": 7,
   "id": "dd680afa",
   "metadata": {},
   "outputs": [
    {
     "name": "stdout",
     "output_type": "stream",
     "text": [
      "Metadata loaded. Total images: 84226\n",
      "\n",
      "Testing with 10 sample images...\n"
     ]
    }
   ],
   "source": [
    "# Load metadata once for efficient batch processing\n",
    "metadata = load_experiment_metadata(metadata_path)\n",
    "print(f\"Metadata loaded. Total images: {len(metadata['image_ids'])}\")\n",
    "\n",
    "# Get some example image_ids to test with\n",
    "sample_image_ids = metadata['image_ids'][:10]  # First 10 images\n",
    "print(f\"\\nTesting with {len(sample_image_ids)} sample images...\")"
   ]
  },
  {
   "cell_type": "code",
   "execution_count": 8,
   "id": "37092cfd",
   "metadata": {},
   "outputs": [
    {
     "name": "stdout",
     "output_type": "stream",
     "text": [
      "Processed 10 images:\n",
      "  20240812_E12_0000: ✓ 20240812_E12_0000.jpg\n",
      "  20240812_E12_0001: ✓ 20240812_E12_0001.jpg\n",
      "  20240812_E12_0002: ✓ 20240812_E12_0002.jpg\n",
      "  20240812_E12_0003: ✓ 20240812_E12_0003.jpg\n",
      "  20240812_E12_0004: ✓ 20240812_E12_0004.jpg\n",
      "\n",
      "Summary: 10/10 files exist, 0 errors\n"
     ]
    }
   ],
   "source": [
    "# Process multiple images efficiently\n",
    "results = []\n",
    "\n",
    "for image_id in sample_image_ids:\n",
    "    try:\n",
    "        # Use loaded metadata for efficiency\n",
    "        image_path = get_image_id_path(image_id, metadata)\n",
    "        exists = image_path.exists()\n",
    "        \n",
    "        results.append({\n",
    "            'image_id': image_id,\n",
    "            'path': str(image_path),\n",
    "            'exists': exists\n",
    "        })\n",
    "        \n",
    "    except (ValueError, FileNotFoundError) as e:\n",
    "        results.append({\n",
    "            'image_id': image_id,\n",
    "            'path': None,\n",
    "            'exists': False,\n",
    "            'error': str(e)\n",
    "        })\n",
    "\n",
    "# Show results\n",
    "print(f\"Processed {len(results)} images:\")\n",
    "for result in results[:5]:  # Show first 5\n",
    "    if 'error' in result:\n",
    "        print(f\"  {result['image_id']}: ERROR - {result['error']}\")\n",
    "    else:\n",
    "        print(f\"  {result['image_id']}: {'✓' if result['exists'] else '✗'} {Path(result['path']).name}\")\n",
    "\n",
    "# Summary\n",
    "existing_count = sum(1 for r in results if r['exists'])\n",
    "error_count = sum(1 for r in results if 'error' in r)\n",
    "print(f\"\\nSummary: {existing_count}/{len(results)} files exist, {error_count} errors\")"
   ]
  },
  {
   "cell_type": "markdown",
   "id": "76486883",
   "metadata": {},
   "source": [
    "## Error Handling Demo\n",
    "\n",
    "Test how the utility handles invalid image_ids."
   ]
  },
  {
   "cell_type": "code",
   "execution_count": null,
   "id": "ed134aeb",
   "metadata": {},
   "outputs": [],
   "source": [
    "# Test with invalid image_ids\n",
    "invalid_image_ids = [\n",
    "    \"20241023_A01_9999\",  # Valid format but doesn't exist\n",
    "    \"20999999_Z99_0000\",  # Non-existent experiment\n",
    "    \"invalid_format\",     # Invalid format\n",
    "]\n",
    "\n",
    "print(\"Testing error handling:\")\n",
    "for invalid_id in invalid_image_ids:\n",
    "    try:\n",
    "        path = get_image_id_path(invalid_id, metadata)\n",
    "        print(f\"  {invalid_id}: ✓ Found at {path}\")\n",
    "    except ValueError as e:\n",
    "        print(f\"  {invalid_id}: ✗ ValueError - {e}\")\n",
    "    except FileNotFoundError as e:\n",
    "        print(f\"  {invalid_id}: ✗ FileNotFoundError - {e}\")\n",
    "    except Exception as e:\n",
    "        print(f\"  {invalid_id}: ✗ Other error - {e}\")"
   ]
  },
  {
   "cell_type": "markdown",
   "id": "c79e9e6a",
   "metadata": {},
   "source": [
    "## Performance Comparison\n",
    "\n",
    "Compare the performance of robust metadata lookup vs fast path construction."
   ]
  },
  {
   "cell_type": "code",
   "execution_count": 9,
   "id": "246bd76b",
   "metadata": {},
   "outputs": [
    {
     "name": "stdout",
     "output_type": "stream",
     "text": [
      "Performance comparison for 5 images:\n",
      "  Method 1 (load metadata each time): 0.1056s\n",
      "  Method 2 (use loaded metadata):     0.0003s\n",
      "  Method 3 (fast path construction):  0.0001s\n",
      "\n",
      "Speedup with loaded metadata: 317.0x\n",
      "Fast construction speedup:    902.0x\n"
     ]
    }
   ],
   "source": [
    "import time\n",
    "\n",
    "# Get a sample of image_ids for timing test\n",
    "test_ids = sample_image_ids[:5]\n",
    "\n",
    "# Time Method 1: Loading metadata each time\n",
    "start_time = time.time()\n",
    "for image_id in test_ids:\n",
    "    try:\n",
    "        path = get_image_id_path(image_id, metadata_path)  # Load metadata each time\n",
    "    except:\n",
    "        pass\n",
    "method1_time = time.time() - start_time\n",
    "\n",
    "# Time Method 2: Using loaded metadata\n",
    "start_time = time.time()\n",
    "for image_id in test_ids:\n",
    "    try:\n",
    "        path = get_image_id_path(image_id, metadata)  # Use loaded metadata\n",
    "    except:\n",
    "        pass\n",
    "method2_time = time.time() - start_time\n",
    "\n",
    "# Time Method 3: Fast path construction\n",
    "start_time = time.time()\n",
    "for image_id in test_ids:\n",
    "    try:\n",
    "        path = get_image_path_fast(image_id)\n",
    "    except:\n",
    "        pass\n",
    "method3_time = time.time() - start_time\n",
    "\n",
    "print(f\"Performance comparison for {len(test_ids)} images:\")\n",
    "print(f\"  Method 1 (load metadata each time): {method1_time:.4f}s\")\n",
    "print(f\"  Method 2 (use loaded metadata):     {method2_time:.4f}s\")\n",
    "print(f\"  Method 3 (fast path construction):  {method3_time:.4f}s\")\n",
    "print(f\"\\nSpeedup with loaded metadata: {method1_time/method2_time:.1f}x\")\n",
    "print(f\"Fast construction speedup:    {method1_time/method3_time:.1f}x\")"
   ]
  },
  {
   "cell_type": "markdown",
   "id": "2d8f57de",
   "metadata": {},
   "source": [
    "## Recommendation\n",
    "\n",
    "- **For single queries**: Use `get_image_id_path(image_id, metadata_path)` - simple and robust\n",
    "- **For batch processing**: Load metadata once with `load_experiment_metadata()`, then use `get_image_id_path(image_id, metadata)` for each image - much faster\n",
    "- **For maximum speed**: Use `get_image_path_fast()` if you're confident about the directory structure and don't need metadata validation\n",
    "- **Always handle errors**: Wrap calls in try/except blocks to handle missing images gracefully"
   ]
  }
 ],
 "metadata": {
  "kernelspec": {
   "display_name": "grounded_sam2",
   "language": "python",
   "name": "grounded_sam2"
  },
  "language_info": {
   "codemirror_mode": {
    "name": "ipython",
    "version": 3
   },
   "file_extension": ".py",
   "mimetype": "text/x-python",
   "name": "python",
   "nbconvert_exporter": "python",
   "pygments_lexer": "ipython3",
   "version": "3.10.13"
  }
 },
 "nbformat": 4,
 "nbformat_minor": 5
}
