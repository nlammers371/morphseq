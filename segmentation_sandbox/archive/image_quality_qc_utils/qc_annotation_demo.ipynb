{
 "cells": [
  {
   "cell_type": "markdown",
   "id": "d074b654",
   "metadata": {},
   "source": [
    "# Image Quality Control - Manual and Automatic Annotations Demo\n",
    "\n",
    "This notebook demonstrates how to use the image quality control utilities for both manual and automatic annotations. Each cell corresponds to a block in the `qc_annotation_demo.py` file.\n",
    "\n",
    "You can run each cell independently or all together to see the complete workflow."
   ]
  },
  {
   "cell_type": "code",
   "execution_count": 3,
   "id": "ff561b9b",
   "metadata": {},
   "outputs": [
    {
     "ename": "ModuleNotFoundError",
     "evalue": "No module named 'utils.mask_utils'",
     "output_type": "error",
     "traceback": [
      "\u001b[0;31m---------------------------------------------------------------------------\u001b[0m",
      "\u001b[0;31mModuleNotFoundError\u001b[0m                       Traceback (most recent call last)",
      "Cell \u001b[0;32mIn[3], line 11\u001b[0m\n\u001b[1;32m      8\u001b[0m current_dir \u001b[38;5;241m=\u001b[39m Path\u001b[38;5;241m.\u001b[39mcwd()\n\u001b[1;32m      9\u001b[0m sys\u001b[38;5;241m.\u001b[39mpath\u001b[38;5;241m.\u001b[39minsert(\u001b[38;5;241m0\u001b[39m, \u001b[38;5;28mstr\u001b[39m(current_dir))\n\u001b[0;32m---> 11\u001b[0m \u001b[38;5;28;01mfrom\u001b[39;00m\u001b[38;5;250m \u001b[39m\u001b[38;5;21;01mutils\u001b[39;00m\u001b[38;5;21;01m.\u001b[39;00m\u001b[38;5;21;01mimage_quality_qc_utils\u001b[39;00m\u001b[38;5;250m \u001b[39m\u001b[38;5;28;01mimport\u001b[39;00m (\n\u001b[1;32m     12\u001b[0m     load_qc_data, save_qc_data, flag_qc, remove_qc, \n\u001b[1;32m     13\u001b[0m     get_qc_summary, get_flagged_images, get_unflagged_images,\n\u001b[1;32m     14\u001b[0m     get_images_by_flag, get_images_by_annotator, QC_FLAGS,\n\u001b[1;32m     15\u001b[0m     manual_qc, auto_qc\n\u001b[1;32m     16\u001b[0m )\n\u001b[1;32m     18\u001b[0m \u001b[38;5;28mprint\u001b[39m(\u001b[38;5;124m\"\u001b[39m\u001b[38;5;124mSuccessfully imported QC utilities!\u001b[39m\u001b[38;5;124m\"\u001b[39m)\n\u001b[1;32m     19\u001b[0m \u001b[38;5;28mprint\u001b[39m(\u001b[38;5;124mf\u001b[39m\u001b[38;5;124m\"\u001b[39m\u001b[38;5;124mAvailable QC flags: \u001b[39m\u001b[38;5;132;01m{\u001b[39;00m\u001b[38;5;28mlist\u001b[39m(QC_FLAGS\u001b[38;5;241m.\u001b[39mkeys())\u001b[38;5;132;01m}\u001b[39;00m\u001b[38;5;124m\"\u001b[39m)\n",
      "File \u001b[0;32m~/proj/morphseq/segmentation_sandbox/utils/__init__.py:19\u001b[0m\n\u001b[1;32m     14\u001b[0m \u001b[38;5;28;01mfrom\u001b[39;00m\u001b[38;5;250m \u001b[39m\u001b[38;5;21;01m.\u001b[39;00m\u001b[38;5;21;01mconfig_utils\u001b[39;00m\u001b[38;5;250m \u001b[39m\u001b[38;5;28;01mimport\u001b[39;00m PipelineConfig, load_config\n\u001b[1;32m     15\u001b[0m \u001b[38;5;28;01mfrom\u001b[39;00m\u001b[38;5;250m \u001b[39m\u001b[38;5;21;01m.\u001b[39;00m\u001b[38;5;21;01mfile_utils\u001b[39;00m\u001b[38;5;250m \u001b[39m\u001b[38;5;28;01mimport\u001b[39;00m (\n\u001b[1;32m     16\u001b[0m     ensure_directory, save_json, load_json, save_pickle, load_pickle,\n\u001b[1;32m     17\u001b[0m     save_dataframe, load_dataframe, get_video_files, get_image_files\n\u001b[1;32m     18\u001b[0m )\n\u001b[0;32m---> 19\u001b[0m \u001b[38;5;28;01mfrom\u001b[39;00m\u001b[38;5;250m \u001b[39m\u001b[38;5;21;01m.\u001b[39;00m\u001b[38;5;21;01mmask_utils\u001b[39;00m\u001b[38;5;250m \u001b[39m\u001b[38;5;28;01mimport\u001b[39;00m (\n\u001b[1;32m     20\u001b[0m     load_mask, calculate_bbox_mask_overlap, calculate_mask_overlap,\n\u001b[1;32m     21\u001b[0m     calculate_mask_coverage, filter_masks_by_size, clean_mask,\n\u001b[1;32m     22\u001b[0m     get_mask_properties, compare_masks\n\u001b[1;32m     23\u001b[0m )\n\u001b[1;32m     24\u001b[0m \u001b[38;5;28;01mfrom\u001b[39;00m\u001b[38;5;250m \u001b[39m\u001b[38;5;21;01m.\u001b[39;00m\u001b[38;5;21;01mdetection_utils\u001b[39;00m\u001b[38;5;250m \u001b[39m\u001b[38;5;28;01mimport\u001b[39;00m (\n\u001b[1;32m     25\u001b[0m     Detection, DetectionProcessor, convert_groundingdino_output,\n\u001b[1;32m     26\u001b[0m     convert_sam2_output, draw_detections, calculate_detection_statistics\n\u001b[1;32m     27\u001b[0m )\n\u001b[1;32m     28\u001b[0m \u001b[38;5;28;01mfrom\u001b[39;00m\u001b[38;5;250m \u001b[39m\u001b[38;5;21;01m.\u001b[39;00m\u001b[38;5;21;01mtracking_utils\u001b[39;00m\u001b[38;5;250m \u001b[39m\u001b[38;5;28;01mimport\u001b[39;00m (\n\u001b[1;32m     29\u001b[0m     EmbryoTrack, EmbryoTracker, analyze_trajectories, detect_tracking_anomalies\n\u001b[1;32m     30\u001b[0m )\n",
      "\u001b[0;31mModuleNotFoundError\u001b[0m: No module named 'utils.mask_utils'"
     ]
    }
   ],
   "source": [
    "# Setup - Import required modules\n",
    "import sys\n",
    "import os\n",
    "import pandas as pd\n",
    "from pathlib import Path\n",
    "\n",
    "# Add the current directory to path for imports\n",
    "current_dir = Path.cwd()\n",
    "sys.path.insert(0, str(current_dir))\n",
    "\n",
    "from utils.image_quality_qc_utils import (\n",
    "    load_qc_data, save_qc_data, flag_qc, remove_qc, \n",
    "    get_qc_summary, get_flagged_images, get_unflagged_images,\n",
    "    get_images_by_flag, get_images_by_annotator, QC_FLAGS,\n",
    "    manual_qc, auto_qc\n",
    ")\n",
    "\n",
    "print(\"Successfully imported QC utilities!\")\n",
    "print(f\"Available QC flags: {list(QC_FLAGS.keys())}\")"
   ]
  },
  {
   "cell_type": "code",
   "execution_count": 2,
   "id": "238666c2",
   "metadata": {},
   "outputs": [
    {
     "data": {
      "text/plain": [
       "PosixPath('/net/trapnell/vol1/home/mdcolon/proj/morphseq/segmentation_sandbox')"
      ]
     },
     "execution_count": 2,
     "metadata": {},
     "output_type": "execute_result"
    }
   ],
   "source": [
    " Path.cwd()\n"
   ]
  },
  {
   "cell_type": "markdown",
   "id": "56f84b77",
   "metadata": {},
   "source": [
    "## Block 1: Setup Test Data\n",
    "\n",
    "First, we'll create some test data to work with."
   ]
  },
  {
   "cell_type": "code",
   "execution_count": null,
   "id": "4f3bc6bd",
   "metadata": {},
   "outputs": [],
   "source": [
    "# BLOCK 1: Setup and Initialize Test Data\n",
    "print(\"=== BLOCK 1: Setup Test Data ===\")\n",
    "\n",
    "# Create a test QC DataFrame with sample data\n",
    "test_data = [\n",
    "    {\n",
    "        'experiment_id': '20250101',\n",
    "        'video_id': '20250101_A01',\n",
    "        'image_id': '20250101_A01_t001',\n",
    "        'qc_flag': None,\n",
    "        'notes': None,\n",
    "        'annotator': None\n",
    "    },\n",
    "    {\n",
    "        'experiment_id': '20250101',\n",
    "        'video_id': '20250101_A01',\n",
    "        'image_id': '20250101_A01_t002',\n",
    "        'qc_flag': None,\n",
    "        'notes': None,\n",
    "        'annotator': None\n",
    "    },\n",
    "    {\n",
    "        'experiment_id': '20250101',\n",
    "        'video_id': '20250101_B01',\n",
    "        'image_id': '20250101_B01_t001',\n",
    "        'qc_flag': None,\n",
    "        'notes': None,\n",
    "        'annotator': None\n",
    "    },\n",
    "    {\n",
    "        'experiment_id': '20250102',\n",
    "        'video_id': '20250102_A01',\n",
    "        'image_id': '20250102_A01_t001',\n",
    "        'qc_flag': None,\n",
    "        'notes': None,\n",
    "        'annotator': None\n",
    "    }\n",
    "]\n",
    "\n",
    "qc_df = pd.DataFrame(test_data)\n",
    "\n",
    "# Save to test directory\n",
    "test_dir = Path('test')\n",
    "test_dir.mkdir(exist_ok=True)\n",
    "qc_csv_path = test_dir / 'demo_qc.csv'\n",
    "qc_df.to_csv(qc_csv_path, index=False)\n",
    "\n",
    "print(f\"Created test QC file with {len(qc_df)} images at: {qc_csv_path}\")\n",
    "print(\"Initial QC data:\")\n",
    "display(qc_df)"
   ]
  },
  {
   "cell_type": "markdown",
   "id": "1e9b38c9",
   "metadata": {},
   "source": [
    "## Block 2: Manual QC Annotations\n",
    "\n",
    "Now we'll demonstrate how to manually flag images with quality issues."
   ]
  },
  {
   "cell_type": "code",
   "execution_count": null,
   "id": "0a919fc4",
   "metadata": {},
   "outputs": [],
   "source": [
    "# BLOCK 2: Manual QC Annotations\n",
    "print(\"=== BLOCK 2: Manual QC Annotations ===\")\n",
    "\n",
    "# Load the current QC data\n",
    "qc_df = pd.read_csv(qc_csv_path)\n",
    "\n",
    "print(\"Available QC flags:\")\n",
    "for flag, description in QC_FLAGS.items():\n",
    "    print(f\"  {flag}: {description}\")\n",
    "\n",
    "# Example 1: Flag a single image as BLUR\n",
    "print(\"\\n1. Flagging image as BLUR...\")\n",
    "image_id = '20250101_A01_t001'\n",
    "mask = qc_df['image_id'] == image_id\n",
    "qc_df.loc[mask, 'qc_flag'] = 'BLUR'\n",
    "qc_df.loc[mask, 'notes'] = 'Manual review - image appears blurry'\n",
    "qc_df.loc[mask, 'annotator'] = 'mcolon'\n",
    "\n",
    "# Example 2: Flag multiple images by video\n",
    "print(\"2. Flagging frames in a video as DARK...\")\n",
    "image_id = '20250101_A01_t002'\n",
    "mask = qc_df['image_id'] == image_id\n",
    "qc_df.loc[mask, 'qc_flag'] = 'DARK'\n",
    "qc_df.loc[mask, 'notes'] = 'Video frames too dark for analysis'\n",
    "qc_df.loc[mask, 'annotator'] = 'mcolon'\n",
    "\n",
    "# Save updated data\n",
    "qc_df.to_csv(qc_csv_path, index=False)\n",
    "\n",
    "print(\"\\nUpdated QC data after manual annotations:\")\n",
    "flagged_data = qc_df.dropna(subset=['qc_flag'])\n",
    "display(flagged_data)"
   ]
  },
  {
   "cell_type": "markdown",
   "id": "9540059d",
   "metadata": {},
   "source": [
    "## Block 3: Automatic QC Annotations\n",
    "\n",
    "Here we simulate how automatic QC detection would work."
   ]
  },
  {
   "cell_type": "code",
   "execution_count": null,
   "id": "0c2b1f8d",
   "metadata": {},
   "outputs": [],
   "source": [
    "# BLOCK 3: Automatic QC Annotations\n",
    "print(\"=== BLOCK 3: Automatic QC Annotations ===\")\n",
    "\n",
    "qc_df = pd.read_csv(qc_csv_path)\n",
    "\n",
    "# Simulate automatic blur detection\n",
    "print(\"1. Simulating automatic blur detection...\")\n",
    "auto_blur_image = '20250101_B01_t001'\n",
    "mask = qc_df['image_id'] == auto_blur_image\n",
    "qc_df.loc[mask, 'qc_flag'] = 'BLUR'\n",
    "qc_df.loc[mask, 'notes'] = 'Automatic: Laplacian variance < threshold (blur_threshold=100)'\n",
    "qc_df.loc[mask, 'annotator'] = 'automatic'\n",
    "\n",
    "# Simulate automatic brightness detection\n",
    "print(\"2. Simulating automatic brightness detection...\")\n",
    "auto_dark_image = '20250102_A01_t001'\n",
    "mask = qc_df['image_id'] == auto_dark_image\n",
    "qc_df.loc[mask, 'qc_flag'] = 'DARK'\n",
    "qc_df.loc[mask, 'notes'] = 'Automatic: Mean brightness < threshold (brightness_threshold=50)'\n",
    "qc_df.loc[mask, 'annotator'] = 'automatic'\n",
    "\n",
    "# Save updated data\n",
    "qc_df.to_csv(qc_csv_path, index=False)\n",
    "\n",
    "print(\"\\nUpdated QC data after automatic annotations:\")\n",
    "auto_flagged = qc_df[qc_df['annotator'] == 'automatic']\n",
    "display(auto_flagged)"
   ]
  },
  {
   "cell_type": "markdown",
   "id": "41d27ce3",
   "metadata": {},
   "source": [
    "## Block 4: Analyzing QC Data\n",
    "\n",
    "Use the utility functions to analyze the QC data."
   ]
  },
  {
   "cell_type": "code",
   "execution_count": null,
   "id": "d8cb0aa2",
   "metadata": {},
   "outputs": [],
   "source": [
    "# BLOCK 4: Analyzing QC Data\n",
    "print(\"=== BLOCK 4: Analyzing QC Data ===\")\n",
    "\n",
    "qc_df = pd.read_csv(qc_csv_path)\n",
    "\n",
    "# Get flagged images\n",
    "flagged_images = get_flagged_images(qc_df)\n",
    "print(f\"Flagged images (excluding PASS): {len(flagged_images)}\")\n",
    "print(f\"  {flagged_images}\")\n",
    "\n",
    "# Get unflagged images\n",
    "unflagged_images = get_unflagged_images(qc_df)\n",
    "print(f\"\\nUnflagged images: {len(unflagged_images)}\")\n",
    "print(f\"  {unflagged_images}\")\n",
    "\n",
    "# Get images by specific flag\n",
    "blur_images = get_images_by_flag(qc_df, 'BLUR')\n",
    "print(f\"\\nImages flagged as BLUR: {len(blur_images)}\")\n",
    "print(f\"  {blur_images}\")\n",
    "\n",
    "# Get images by annotator\n",
    "manual_images = get_images_by_annotator(qc_df, 'mcolon')\n",
    "auto_images = get_images_by_annotator(qc_df, 'automatic')\n",
    "print(f\"\\nManually flagged images: {len(manual_images)}\")\n",
    "print(f\"  {manual_images}\")\n",
    "print(f\"\\nAutomatically flagged images: {len(auto_images)}\")\n",
    "print(f\"  {auto_images}\")\n",
    "\n",
    "# QC summary\n",
    "print(\"\\nQC Summary by flag:\")\n",
    "flag_counts = qc_df['qc_flag'].value_counts()\n",
    "print(flag_counts)\n",
    "\n",
    "print(\"\\nQC Summary by annotator:\")\n",
    "annotator_counts = qc_df['annotator'].value_counts()\n",
    "print(annotator_counts)"
   ]
  },
  {
   "cell_type": "markdown",
   "id": "033c4e44",
   "metadata": {},
   "source": [
    "## Block 5: Removing and Updating QC Flags\n",
    "\n",
    "Sometimes you need to remove or update existing QC flags."
   ]
  },
  {
   "cell_type": "code",
   "execution_count": null,
   "id": "0e311108",
   "metadata": {},
   "outputs": [],
   "source": [
    "# BLOCK 5: Removing and Updating QC Flags\n",
    "print(\"=== BLOCK 5: Removing and Updating QC Flags ===\")\n",
    "\n",
    "qc_df = pd.read_csv(qc_csv_path)\n",
    "\n",
    "print(\"Current flagged images:\")\n",
    "flagged_before = qc_df.dropna(subset=['qc_flag'])\n",
    "display(flagged_before[['image_id', 'qc_flag', 'annotator']])\n",
    "\n",
    "# Remove a QC flag\n",
    "print(\"\\n1. Removing QC flag from one image...\")\n",
    "image_to_clear = '20250101_A01_t002'\n",
    "mask = qc_df['image_id'] == image_to_clear\n",
    "qc_df.loc[mask, 'qc_flag'] = None\n",
    "qc_df.loc[mask, 'notes'] = None\n",
    "qc_df.loc[mask, 'annotator'] = None\n",
    "\n",
    "# Update an existing flag\n",
    "print(\"2. Updating an existing QC flag...\")\n",
    "image_to_update = '20250101_A01_t001'\n",
    "mask = qc_df['image_id'] == image_to_update\n",
    "qc_df.loc[mask, 'qc_flag'] = 'OUT_OF_FOCUS'\n",
    "qc_df.loc[mask, 'notes'] = 'Manual review - changed from BLUR to OUT_OF_FOCUS'\n",
    "qc_df.loc[mask, 'annotator'] = 'mcolon'\n",
    "\n",
    "# Save updated data\n",
    "qc_df.to_csv(qc_csv_path, index=False)\n",
    "\n",
    "print(\"\\nUpdated flagged images:\")\n",
    "flagged_after = qc_df.dropna(subset=['qc_flag'])\n",
    "display(flagged_after[['image_id', 'qc_flag', 'annotator']])"
   ]
  },
  {
   "cell_type": "markdown",
   "id": "fa832b2c",
   "metadata": {},
   "source": [
    "## Block 6: Final Summary\n",
    "\n",
    "Review the final state of our QC data."
   ]
  },
  {
   "cell_type": "code",
   "execution_count": null,
   "id": "4e589759",
   "metadata": {},
   "outputs": [],
   "source": [
    "# BLOCK 6: Final Summary and Cleanup\n",
    "print(\"=== BLOCK 6: Final Summary ===\")\n",
    "\n",
    "qc_df = pd.read_csv(qc_csv_path)\n",
    "\n",
    "print(\"Final QC data:\")\n",
    "display(qc_df)\n",
    "\n",
    "print(f\"\\nTotal images: {len(qc_df)}\")\n",
    "print(f\"Flagged images: {len(qc_df.dropna(subset=['qc_flag']))}\")\n",
    "print(f\"Unflagged images: {len(qc_df[qc_df['qc_flag'].isna()])}\")\n",
    "\n",
    "print(\"\\nFlag distribution:\")\n",
    "flag_dist = qc_df['qc_flag'].value_counts()\n",
    "print(flag_dist)\n",
    "\n",
    "print(\"\\nAnnotator distribution:\")\n",
    "annotator_dist = qc_df['annotator'].value_counts()\n",
    "print(annotator_dist)\n",
    "\n",
    "print(f\"\\nDemo complete! Check the results in: {qc_csv_path}\")"
   ]
  },
  {
   "cell_type": "markdown",
   "id": "df86840c",
   "metadata": {},
   "source": [
    "## Summary\n",
    "\n",
    "This notebook demonstrated:\n",
    "\n",
    "1. **Setup**: Creating initial QC data structure\n",
    "2. **Manual QC**: Adding manual quality control flags with human annotators\n",
    "3. **Automatic QC**: Simulating automatic detection and flagging\n",
    "4. **Analysis**: Using utility functions to analyze QC data\n",
    "5. **Updates**: Removing and updating existing QC flags\n",
    "6. **Summary**: Reviewing the final state of QC data\n",
    "\n",
    "### Key Functions Used:\n",
    "\n",
    "- `get_flagged_images()`: Get list of flagged images\n",
    "- `get_unflagged_images()`: Get list of unflagged images\n",
    "- `get_images_by_flag()`: Filter images by specific QC flag\n",
    "- `get_images_by_annotator()`: Filter images by annotator\n",
    "- Direct DataFrame manipulation for adding/removing flags\n",
    "\n",
    "### Next Steps:\n",
    "\n",
    "- Integrate with actual image processing pipeline\n",
    "- Add automatic blur detection algorithms\n",
    "- Create visualization tools for QC data\n",
    "- Set up batch processing workflows"
   ]
  }
 ],
 "metadata": {
  "kernelspec": {
   "display_name": "segmentation_grounded_sam",
   "language": "python",
   "name": "segmentation_grounded_sam"
  },
  "language_info": {
   "codemirror_mode": {
    "name": "ipython",
    "version": 3
   },
   "file_extension": ".py",
   "mimetype": "text/x-python",
   "name": "python",
   "nbconvert_exporter": "python",
   "pygments_lexer": "ipython3",
   "version": "3.10.13"
  }
 },
 "nbformat": 4,
 "nbformat_minor": 5
}
