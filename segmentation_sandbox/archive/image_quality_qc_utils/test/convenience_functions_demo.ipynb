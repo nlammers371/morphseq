{
 "cells": [
  {
   "cell_type": "markdown",
   "id": "98eacbae",
   "metadata": {},
   "source": [
    "# QC Convenience Functions Demo\n",
    "\n",
    "This notebook demonstrates the **recommended way** to use the image quality control system through the convenient `manual_qc()` and `auto_qc()` wrapper functions.\n",
    "\n",
    "## Why Use These Functions?\n",
    "\n",
    "- **`manual_qc()`**: Automatically sets annotator to your name for human review\n",
    "- **`auto_qc()`**: Automatically sets annotator to 'automatic' for algorithmic flagging\n",
    "- **Simpler syntax**: Less typing, fewer parameters to remember\n",
    "- **Consistent workflow**: Same interface for both manual and automatic QC"
   ]
  },
  {
   "cell_type": "code",
   "execution_count": null,
   "id": "ca207efb",
   "metadata": {},
   "outputs": [],
   "source": [
    "# Setup - Import the convenience functions\n",
    "import sys\n",
    "import os\n",
    "import pandas as pd\n",
    "from pathlib import Path\n",
    "\n",
    "# Robust path detection for imports\n",
    "current_dir = Path.cwd()\n",
    "print(f\"Current directory: {current_dir}\")\n",
    "\n",
    "utils_qc_path = None\n",
    "if current_dir.name == \"segmentation_sandbox\":\n",
    "    utils_qc_path = current_dir / \"utils\" / \"image_quality_qc_utils\"\n",
    "elif current_dir.name == \"test\":\n",
    "    utils_qc_path = current_dir.parent\n",
    "else:\n",
    "    for parent in current_dir.parents:\n",
    "        if parent.name == \"segmentation_sandbox\":\n",
    "            utils_qc_path = parent / \"utils\" / \"image_quality_qc_utils\"\n",
    "            break\n",
    "\n",
    "if utils_qc_path and utils_qc_path.exists():\n",
    "    sys.path.insert(0, str(utils_qc_path))\n",
    "    print(f\"Added to path: {utils_qc_path}\")\n",
    "else:\n",
    "    print(\"ERROR: Could not find image_quality_qc_utils directory\")\n",
    "\n",
    "# Import the star functions!\n",
    "from image_quality_qc_utils import (\n",
    "    load_qc_data, save_qc_data, get_qc_summary,\n",
    "    get_flagged_images, get_images_by_flag, get_images_by_annotator,\n",
    "    QC_FLAGS, manual_qc, auto_qc  # ← These are the convenience functions!\n",
    ")\n",
    "\n",
    "print(\"✓ Successfully imported QC convenience functions!\")\n",
    "print(f\"Available QC flags: {list(QC_FLAGS.keys())}\")"
   ]
  },
  {
   "cell_type": "markdown",
   "id": "71ee2044",
   "metadata": {},
   "source": [
    "## Setup Test Data"
   ]
  },
  {
   "cell_type": "code",
   "execution_count": null,
   "id": "e58f8d77",
   "metadata": {},
   "outputs": [],
   "source": [
    "# Create test environment\n",
    "test_data_dir = current_dir / \"notebook_convenience_test\"\n",
    "test_data_dir.mkdir(exist_ok=True)\n",
    "\n",
    "# Initialize with sample images\n",
    "qc_df = load_qc_data(test_data_dir)\n",
    "\n",
    "sample_images = [\n",
    "    {\"experiment_id\": \"20250101\", \"video_id\": \"20250101_A01\", \"image_id\": \"20250101_A01_t001\"},\n",
    "    {\"experiment_id\": \"20250101\", \"video_id\": \"20250101_A01\", \"image_id\": \"20250101_A01_t002\"},\n",
    "    {\"experiment_id\": \"20250101\", \"video_id\": \"20250101_B01\", \"image_id\": \"20250101_B01_t001\"},\n",
    "    {\"experiment_id\": \"20250102\", \"video_id\": \"20250102_A01\", \"image_id\": \"20250102_A01_t001\"},\n",
    "]\n",
    "\n",
    "for img in sample_images:\n",
    "    if len(qc_df) == 0 or img[\"image_id\"] not in qc_df[\"image_id\"].values:\n",
    "        new_row = pd.DataFrame([{\n",
    "            \"experiment_id\": img[\"experiment_id\"],\n",
    "            \"video_id\": img[\"video_id\"], \n",
    "            \"image_id\": img[\"image_id\"],\n",
    "            \"qc_flag\": None,\n",
    "            \"notes\": None,\n",
    "            \"annotator\": None\n",
    "        }])\n",
    "        qc_df = pd.concat([qc_df, new_row], ignore_index=True)\n",
    "\n",
    "save_qc_data(qc_df, test_data_dir)\n",
    "print(f\"Setup complete: {len(qc_df)} images ready for QC\")\n",
    "display(qc_df)"
   ]
  },
  {
   "cell_type": "markdown",
   "id": "ec060e2c",
   "metadata": {},
   "source": [
    "## Demo 1: Manual QC with `manual_qc()`\n",
    "\n",
    "The `manual_qc()` function simplifies human review by automatically setting the annotator field."
   ]
  },
  {
   "cell_type": "code",
   "execution_count": null,
   "id": "0ddc2174",
   "metadata": {},
   "outputs": [],
   "source": [
    "# Example 1: Flag a single image\n",
    "print(\"Example 1: Flagging a blurry image with manual_qc()\")\n",
    "\n",
    "qc_df = manual_qc(\n",
    "    data_dir=test_data_dir,\n",
    "    annotator=\"mcolon\",  # Your name - set once!\n",
    "    image_ids=[\"20250101_A01_t001\"],\n",
    "    qc_flag=\"BLUR\",\n",
    "    notes=\"Manual inspection - image appears out of focus\",\n",
    "    overwrite=True\n",
    ")\n",
    "\n",
    "print(\"✓ Flagged image as BLUR\")\n",
    "\n",
    "# Show the result\n",
    "flagged = qc_df[qc_df[\"qc_flag\"].notna()]\n",
    "display(flagged[[\"image_id\", \"qc_flag\", \"annotator\", \"notes\"]])"
   ]
  },
  {
   "cell_type": "code",
   "execution_count": null,
   "id": "193d4ac6",
   "metadata": {},
   "outputs": [],
   "source": [
    "# Example 2: Flag multiple images at once\n",
    "print(\"Example 2: Flagging multiple images with quality issues\")\n",
    "\n",
    "qc_df = manual_qc(\n",
    "    data_dir=test_data_dir,\n",
    "    annotator=\"mcolon\",\n",
    "    image_ids=[\"20250101_A01_t002\", \"20250101_B01_t001\"],\n",
    "    qc_flag=\"DARK\",\n",
    "    notes=\"Too dark to see embryo features clearly\",\n",
    "    overwrite=True\n",
    ")\n",
    "\n",
    "print(\"✓ Flagged multiple images as DARK\")\n",
    "\n",
    "# Show all manual flags\n",
    "manual_flags = qc_df[qc_df[\"annotator\"] == \"mcolon\"]\n",
    "display(manual_flags[[\"image_id\", \"qc_flag\", \"notes\"]])"
   ]
  },
  {
   "cell_type": "markdown",
   "id": "a8cd403a",
   "metadata": {},
   "source": [
    "## Demo 2: Automatic QC with `auto_qc()`\n",
    "\n",
    "The `auto_qc()` function is perfect for algorithmic quality control - no need to specify annotator!"
   ]
  },
  {
   "cell_type": "code",
   "execution_count": null,
   "id": "532e5008",
   "metadata": {},
   "outputs": [],
   "source": [
    "# Example 1: Automatic blur detection\n",
    "print(\"Example 1: Automatic blur detection with auto_qc()\")\n",
    "\n",
    "qc_df = auto_qc(\n",
    "    data_dir=test_data_dir,\n",
    "    image_ids=[\"20250102_A01_t001\"],\n",
    "    qc_flag=\"BLUR\",\n",
    "    notes=\"Automatic: Laplacian variance = 45.2 < threshold (100)\",\n",
    "    overwrite=True\n",
    ")\n",
    "\n",
    "print(\"✓ Automatically flagged image as BLUR\")\n",
    "\n",
    "# Show automatic flags\n",
    "auto_flags = qc_df[qc_df[\"annotator\"] == \"automatic\"]\n",
    "display(auto_flags[[\"image_id\", \"qc_flag\", \"notes\"]])"
   ]
  },
  {
   "cell_type": "code",
   "execution_count": null,
   "id": "f0a3633a",
   "metadata": {},
   "outputs": [],
   "source": [
    "# Example 2: Automatic PASS flags for good images\n",
    "print(\"Example 2: Automatic PASS flags for quality images\")\n",
    "\n",
    "# In real usage, you might process a batch of images that passed quality checks\n",
    "qc_df = auto_qc(\n",
    "    data_dir=test_data_dir,\n",
    "    image_ids=[\"20250101_A01_t001\"],  # Re-evaluate after fixing\n",
    "    qc_flag=\"PASS\",\n",
    "    notes=\"Automatic: All quality metrics within normal range\",\n",
    "    overwrite=True\n",
    ")\n",
    "\n",
    "print(\"✓ Automatically flagged good image as PASS\")\n",
    "\n",
    "# Show all automatic flags\n",
    "auto_flags = qc_df[qc_df[\"annotator\"] == \"automatic\"]\n",
    "display(auto_flags[[\"image_id\", \"qc_flag\", \"notes\"]])"
   ]
  },
  {
   "cell_type": "markdown",
   "id": "e0a9381b",
   "metadata": {},
   "source": [
    "## Demo 3: Analyzing Mixed QC Results\n",
    "\n",
    "The beauty of the system is that manual and automatic QC data coexist in the same file."
   ]
  },
  {
   "cell_type": "code",
   "execution_count": null,
   "id": "b995b027",
   "metadata": {},
   "outputs": [],
   "source": [
    "# Get overall summary\n",
    "summary = get_qc_summary(test_data_dir)\n",
    "print(\"Overall QC Summary:\")\n",
    "for key, value in summary.items():\n",
    "    print(f\"  {key}: {value}\")\n",
    "\n",
    "# Show breakdown by annotator\n",
    "print(\"\\nBreakdown by Annotator:\")\n",
    "manual_images = get_images_by_annotator(qc_df, \"mcolon\")\n",
    "auto_images = get_images_by_annotator(qc_df, \"automatic\")\n",
    "print(f\"  Manual (mcolon): {len(manual_images)} images\")\n",
    "print(f\"  Automatic: {len(auto_images)} images\")\n",
    "\n",
    "# Show breakdown by flag type\n",
    "print(\"\\nBreakdown by QC Flag:\")\n",
    "for flag in ['PASS', 'BLUR', 'DARK']:\n",
    "    flag_images = get_images_by_flag(qc_df, flag)\n",
    "    if flag_images:\n",
    "        print(f\"  {flag}: {len(flag_images)} images\")"
   ]
  },
  {
   "cell_type": "markdown",
   "id": "ed73d5b4",
   "metadata": {},
   "source": [
    "## Demo 4: Final Results\n",
    "\n",
    "See the complete QC data with both manual and automatic annotations."
   ]
  },
  {
   "cell_type": "code",
   "execution_count": null,
   "id": "6136ae79",
   "metadata": {},
   "outputs": [],
   "source": [
    "# Show final QC data\n",
    "print(\"Final QC Data (flagged images only):\")\n",
    "flagged_data = qc_df[qc_df[\"qc_flag\"].notna()]\n",
    "display(flagged_data[[\"image_id\", \"qc_flag\", \"annotator\", \"notes\"]])\n",
    "\n",
    "# Save results\n",
    "output_file = current_dir / \"convenience_notebook_results.csv\"\n",
    "qc_df.to_csv(output_file, index=False)\n",
    "print(f\"\\nResults saved to: {output_file}\")\n",
    "\n",
    "print(\"\\n🎉 Demo complete!\")"
   ]
  },
  {
   "cell_type": "markdown",
   "id": "68c70667",
   "metadata": {},
   "source": [
    "## Key Takeaways\n",
    "\n",
    "### Use `manual_qc()` for Human Review:\n",
    "```python\n",
    "manual_qc(data_dir=data_dir, annotator=\"your_name\",\n",
    "          image_ids=[\"img1\", \"img2\"], qc_flag=\"BLUR\",\n",
    "          notes=\"Manual inspection notes\")\n",
    "```\n",
    "\n",
    "### Use `auto_qc()` for Algorithmic Flagging:\n",
    "```python\n",
    "auto_qc(data_dir=data_dir, \n",
    "        image_ids=[\"img1\"], qc_flag=\"BLUR\",\n",
    "        notes=\"Automatic: quality_score < threshold\")\n",
    "```\n",
    "\n",
    "### Benefits:\n",
    "- **Simpler syntax** - fewer parameters to remember\n",
    "- **Automatic annotator handling** - no risk of forgetting to set it\n",
    "- **Consistent workflow** - same interface for manual and automatic QC\n",
    "- **Mixed data** - manual and automatic flags coexist in same file\n",
    "- **Easy analysis** - filter by annotator to see human vs algorithmic decisions\n",
    "\n",
    "### Common Usage Patterns:\n",
    "1. **Batch manual review**: Flag multiple images with same issue\n",
    "2. **Automatic pipeline**: Process all images algorithmically \n",
    "3. **Video flagging**: Flag entire sequences by video + frames\n",
    "4. **Mixed workflow**: Combine manual spot-checks with automatic processing"
   ]
  }
 ],
 "metadata": {
  "language_info": {
   "name": "python"
  }
 },
 "nbformat": 4,
 "nbformat_minor": 5
}
