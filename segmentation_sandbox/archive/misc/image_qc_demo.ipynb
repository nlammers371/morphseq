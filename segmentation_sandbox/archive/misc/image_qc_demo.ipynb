{
 "cells": [],
 "metadata": {
  "kernelspec": {
   "display_name": "segmentation_grounded_sam",
   "language": "python",
   "name": "segmentation_grounded_sam"
  }
 },
 "nbformat": 4,
 "nbformat_minor": 5
}
