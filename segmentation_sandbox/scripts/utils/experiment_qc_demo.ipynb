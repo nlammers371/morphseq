{
 "cells": [
  {
   "cell_type": "markdown",
   "metadata": {},
   "source": [
    "# 🎯 MorphSeq Quality Control System Demo\n",
    "\n",
    "This notebook demonstrates the comprehensive QC flagging system for hierarchical experiment data.\n",
    "\n",
    "## What You'll Learn:\n",
    "- 🏗️ **Initialize** the QC system from experiment metadata\n",
    "- 🏷️ **Flag entities** at all levels (experiment → video → image → embryo)\n",
    "- 📦 **Batch operations** for efficient large-scale QC\n",
    "- 🔍 **Validate and summarize** QC data\n",
    "- 💾 **Save and manage** QC flags\n",
    "\n",
    "## Key Features:\n",
    "- **Author designation**: Set once, used automatically\n",
    "- **Flexible batching**: Accumulate or apply directly \n",
    "- **Flag validation**: Ensures only valid flags are used\n",
    "- **In-memory operations**: Fast performance until you save"
   ]
  },
  {
   "cell_type": "markdown",
   "metadata": {},
   "source": [
    "## 📋 Setup and Imports"
   ]
  },
  {
   "cell_type": "code",
   "execution_count": 1,
   "metadata": {},
   "outputs": [
    {
     "name": "stdout",
     "output_type": "stream",
     "text": [
      "✅ Imports successful!\n"
     ]
    }
   ],
   "source": [
    "# Import the QC utilities\n",
    "import sys\n",
    "sys.path.append('/net/trapnell/vol1/home/mdcolon/proj/morphseq/segmentation_sandbox/scripts/utils')  # Update this path\n",
    "\n",
    "from experiment_data_qc_utils import (\n",
    "    ExperimentDataQC,\n",
    "    initialize_qc_structure_from_metadata,\n",
    "    show_valid_qc_categories,\n",
    "    gen_flag_batch,\n",
    "    add_flags_to_qc_data,\n",
    "    load_qc_data,\n",
    "    save_qc_data\n",
    ")\n",
    "\n",
    "import json\n",
    "from pathlib import Path\n",
    "from pprint import pprint\n",
    "\n",
    "print(\"✅ Imports successful!\")"
   ]
  },
  {
   "cell_type": "markdown",
   "metadata": {},
   "source": [
    "## 🏗️ Step 1: Initialize the QC System\n",
    "\n",
    "First, we'll set up the QC system from your existing experiment metadata."
   ]
  },
  {
   "cell_type": "code",
   "execution_count": 2,
   "metadata": {},
   "outputs": [
    {
     "name": "stdout",
     "output_type": "stream",
     "text": [
      "Demo QC directory: /net/trapnell/vol1/home/mdcolon/proj/morphseq/segmentation_sandbox/data/quality_control/demo_qc\n"
     ]
    }
   ],
   "source": [
    "# Define paths (update these for your setup)\n",
    "quality_control_dir = \"/net/trapnell/vol1/home/mdcolon/proj/morphseq/segmentation_sandbox/data/quality_control\"  # Update this\n",
    "experiment_metadata_path = \"/net/trapnell/vol1/home/mdcolon/proj/morphseq/segmentation_sandbox/data/raw_data_organized/experiment_metadata.json\"  # Update this\n",
    "\n",
    "# Create demo paths for this notebook\n",
    "demo_dir = Path(quality_control_dir + \"/demo_qc\")\n",
    "demo_dir.mkdir(exist_ok=True)\n",
    "\n",
    "quality_control_dir = demo_dir\n",
    "print(f\"Demo QC directory: {quality_control_dir}\")"
   ]
  },
  {
   "cell_type": "code",
   "execution_count": 3,
   "metadata": {},
   "outputs": [
    {
     "name": "stdout",
     "output_type": "stream",
     "text": [
      "📋 Created mock experiment metadata\n",
      "   - 2 experiments\n",
      "   - 3 videos total\n",
      "   - 7 images total\n"
     ]
    }
   ],
   "source": [
    "# Create a mock experiment metadata file for this demo\n",
    "mock_metadata = {\n",
    "    \"experiments\": {\n",
    "        \"20241215\": {\n",
    "            \"videos\": {\n",
    "                \"20241215_A01\": {\n",
    "                    \"image_ids\": [\"20241215_A01_t001\", \"20241215_A01_t002\", \"20241215_A01_t003\"]\n",
    "                },\n",
    "                \"20241215_A02\": {\n",
    "                    \"image_ids\": [\"20241215_A02_t001\", \"20241215_A02_t002\"]\n",
    "                }\n",
    "            }\n",
    "        },\n",
    "        \"20241216\": {\n",
    "            \"videos\": {\n",
    "                \"20241216_B01\": {\n",
    "                    \"image_ids\": [\"20241216_B01_t001\", \"20241216_B01_t002\"]\n",
    "                }\n",
    "            }\n",
    "        }\n",
    "    }\n",
    "}\n",
    "\n",
    "# Save mock metadata\n",
    "experiment_metadata_path = demo_dir / \"experiment_metadata.json\"\n",
    "with open(experiment_metadata_path, 'w') as f:\n",
    "    json.dump(mock_metadata, f, indent=2)\n",
    "\n",
    "print(\"📋 Created mock experiment metadata\")\n",
    "print(f\"   - 2 experiments\")\n",
    "print(f\"   - 3 videos total\")\n",
    "print(f\"   - 7 images total\")"
   ]
  },
  {
   "cell_type": "code",
   "execution_count": 4,
   "metadata": {},
   "outputs": [
    {
     "name": "stdout",
     "output_type": "stream",
     "text": [
      "🏗️ Initializing QC system...\n",
      "🔍 Checking flag integrity...\n",
      "✅ All flags are valid!\n",
      "QC structure initialized: 2 experiments, 3 videos, 7 images added\n",
      "\n",
      "✅ QC system initialized!\n"
     ]
    }
   ],
   "source": [
    "# Initialize the QC system from metadata\n",
    "print(\"🏗️ Initializing QC system...\")\n",
    "\n",
    "qc_data = initialize_qc_structure_from_metadata(\n",
    "    quality_control_dir=quality_control_dir,\n",
    "    experiment_metadata_path=experiment_metadata_path,\n",
    "    overwrite=True  # Start fresh for demo\n",
    ")\n",
    "\n",
    "print(\"\\n✅ QC system initialized!\")"
   ]
  },
  {
   "cell_type": "markdown",
   "metadata": {},
   "source": [
    "## 🏷️ Step 2: View Available QC Flag Categories\n",
    "\n",
    "Let's see what QC flags are available at each level."
   ]
  },
  {
   "cell_type": "code",
   "execution_count": 5,
   "metadata": {},
   "outputs": [
    {
     "name": "stdout",
     "output_type": "stream",
     "text": [
      "📋 Valid QC Flag Categories (from JSON file):\n",
      "============================================================\n",
      "\n",
      "🏷️  Experiment Level:\n",
      "   • PROTOCOL_DEVIATION: Deviation from standard imaging protocol\n",
      "   • INCOMPLETE: Experiment was not completed\n",
      "\n",
      "🏷️  Video Level:\n",
      "   • TECHNICAL_ISSUE: Technical problems during video acquisition\n",
      "\n",
      "🏷️  Image Level:\n",
      "   • BLUR: Image is blurry (low variance of Laplacian)\n",
      "   • DRY_WELL: Well dried out during imaging\n",
      "\n",
      "🏷️  Embryo Level:\n",
      "   • DEAD_EMBRYO: Embryo appears dead\n",
      "   • EMBRYO_NOT_DETECTED: No embryo detected in expected location\n",
      "   • ABNORMAL_DEVELOPMENT: Embryo shows abnormal development patterns\n",
      "\n",
      "💡 To add new flag categories, edit the 'valid_qc_flag_categories'\n",
      "   section in the experiment_data_qc.json file manually.\n"
     ]
    }
   ],
   "source": [
    "# Show all valid QC flag categories\n",
    "show_valid_qc_categories(quality_control_dir)"
   ]
  },
  {
   "cell_type": "markdown",
   "metadata": {},
   "source": [
    "## 🎭 Step 3: Create QC Manager with Author Designation\n",
    "\n",
    "Now we'll create our main QC interface with a default author."
   ]
  },
  {
   "cell_type": "code",
   "execution_count": 6,
   "metadata": {},
   "outputs": [
    {
     "name": "stdout",
     "output_type": "stream",
     "text": [
      "🎭 Created QC manager: ExperimentDataQC(author='demo_analyst', experiments=2, categories=4, status=✅ saved)\n",
      "📝 Default author: demo_analyst\n",
      "💾 Unsaved changes: False\n"
     ]
    }
   ],
   "source": [
    "# Create QC manager with author designation\n",
    "qc = ExperimentDataQC(\n",
    "    quality_control_dir=quality_control_dir,\n",
    "    author_designation=\"demo_analyst\"  # This will be used for all flags by default\n",
    ")\n",
    "\n",
    "print(f\"🎭 Created QC manager: {qc}\")\n",
    "print(f\"📝 Default author: {qc.author_designation}\")\n",
    "print(f\"💾 Unsaved changes: {qc.has_unsaved_changes}\")"
   ]
  },
  {
   "cell_type": "markdown",
   "metadata": {},
   "source": [
    "## 🚩 Step 4: Individual Flag Operations\n",
    "\n",
    "Let's flag some issues at different levels. Notice how we don't need to specify the author each time!"
   ]
  },
  {
   "cell_type": "code",
   "execution_count": 10,
   "metadata": {},
   "outputs": [
    {
     "name": "stdout",
     "output_type": "stream",
     "text": [
      "🔬 Flagging experiment-level issue...\n",
      "📹 Flagging video-level issue...\n",
      "🖼️ Flagging image-level issues...\n",
      "\n",
      "✅ Individual flags added!\n",
      "💾 Unsaved changes: True\n"
     ]
    }
   ],
   "source": [
    "# Flag an experiment-level issue\n",
    "print(\"🔬 Flagging experiment-level issue...\")\n",
    "qc.flag_experiment(\n",
    "    experiment_id=\"20241215\",\n",
    "    qc_flag=\"PROTOCOL_DEVIATION\",\n",
    "    notes=\"Temperature control failed during imaging\"\n",
    ")\n",
    "\n",
    "# Flag a video-level issue  \n",
    "print(\"📹 Flagging video-level issue...\")\n",
    "qc.flag_video(\n",
    "    video_id=\"20241215_A01\",\n",
    "    qc_flag=\"TECHNICAL_ISSUE\",\n",
    "    notes=\"Camera focus drifted during acquisition\"\n",
    ")\n",
    "\n",
    "# Flag multiple image-level issues\n",
    "print(\"🖼️ Flagging image-level issues...\")\n",
    "qc.flag_image(\n",
    "    image_id=\"20241215_A01_t001\",\n",
    "    qc_flag=\"BLUR\",\n",
    "    notes=\"Variance of Laplacian: 42 (below threshold of 100)\"\n",
    ")\n",
    "\n",
    "# Flag with override author for special case\n",
    "qc.flag_image(\n",
    "    image_id=\"20241215_A02_t001\",\n",
    "    qc_flag=\"DRY_WELL\",\n",
    "    author=\"expert_reviewer\",  # Override default author\n",
    "    notes=\"Manual review: file corruption detected\"\n",
    ")\n",
    "\n",
    "print(f\"\\n✅ Individual flags added!\")\n",
    "print(f\"💾 Unsaved changes: {qc.has_unsaved_changes}\")"
   ]
  },
  {
   "cell_type": "code",
   "execution_count": 11,
   "metadata": {},
   "outputs": [
    {
     "ename": "ValueError",
     "evalue": "Invalid QC flag 'CORRUPT' for level 'image'. Valid flags: ['BLUR', 'DRY_WELL']",
     "output_type": "error",
     "traceback": [
      "\u001b[0;31m---------------------------------------------------------------------------\u001b[0m",
      "\u001b[0;31mValueError\u001b[0m                                Traceback (most recent call last)",
      "Cell \u001b[0;32mIn[11], line 2\u001b[0m\n\u001b[1;32m      1\u001b[0m \u001b[38;5;66;03m# Raises error if pass invlaged qc_flag\u001b[39;00m\n\u001b[0;32m----> 2\u001b[0m \u001b[43mqc\u001b[49m\u001b[38;5;241;43m.\u001b[39;49m\u001b[43mflag_image\u001b[49m\u001b[43m(\u001b[49m\n\u001b[1;32m      3\u001b[0m \u001b[43m    \u001b[49m\u001b[43mimage_id\u001b[49m\u001b[38;5;241;43m=\u001b[39;49m\u001b[38;5;124;43m\"\u001b[39;49m\u001b[38;5;124;43m20241215_A02_t001\u001b[39;49m\u001b[38;5;124;43m\"\u001b[39;49m\u001b[43m,\u001b[49m\n\u001b[1;32m      4\u001b[0m \u001b[43m    \u001b[49m\u001b[43mqc_flag\u001b[49m\u001b[38;5;241;43m=\u001b[39;49m\u001b[38;5;124;43m\"\u001b[39;49m\u001b[38;5;124;43mCORRUPT\u001b[39;49m\u001b[38;5;124;43m\"\u001b[39;49m\u001b[43m,\u001b[49m\n\u001b[1;32m      5\u001b[0m \u001b[43m    \u001b[49m\u001b[43mnotes\u001b[49m\u001b[38;5;241;43m=\u001b[39;49m\u001b[38;5;124;43m\"\u001b[39;49m\u001b[38;5;124;43mManual review: file corruption detected\u001b[39;49m\u001b[38;5;124;43m\"\u001b[39;49m\n\u001b[1;32m      6\u001b[0m \u001b[43m)\u001b[49m\n",
      "File \u001b[0;32m~/proj/morphseq/segmentation_sandbox/scripts/utils/experiment_data_qc_utils.py:411\u001b[0m, in \u001b[0;36mExperimentDataQC.flag_image\u001b[0;34m(self, image_id, qc_flag, author, notes)\u001b[0m\n\u001b[1;32m    397\u001b[0m \u001b[38;5;250m\u001b[39m\u001b[38;5;124;03m\"\"\"\u001b[39;00m\n\u001b[1;32m    398\u001b[0m \u001b[38;5;124;03mFlag an image.\u001b[39;00m\n\u001b[1;32m    399\u001b[0m \u001b[38;5;124;03m\u001b[39;00m\n\u001b[0;32m   (...)\u001b[0m\n\u001b[1;32m    408\u001b[0m \u001b[38;5;124;03m    qc.flag_image(\"20241215_A01_t002\", [\"BLUR\", \"DRY_WELL\"], notes=\"Multiple issues\")\u001b[39;00m\n\u001b[1;32m    409\u001b[0m \u001b[38;5;124;03m\"\"\"\u001b[39;00m\n\u001b[1;32m    410\u001b[0m final_author \u001b[38;5;241m=\u001b[39m author \u001b[38;5;28;01mif\u001b[39;00m author \u001b[38;5;129;01mis\u001b[39;00m \u001b[38;5;129;01mnot\u001b[39;00m \u001b[38;5;28;01mNone\u001b[39;00m \u001b[38;5;28;01melse\u001b[39;00m \u001b[38;5;28mself\u001b[39m\u001b[38;5;241m.\u001b[39mauthor_designation\n\u001b[0;32m--> 411\u001b[0m \u001b[38;5;28;43mself\u001b[39;49m\u001b[38;5;241;43m.\u001b[39;49m\u001b[43mflag_entity\u001b[49m\u001b[43m(\u001b[49m\u001b[38;5;124;43m\"\u001b[39;49m\u001b[38;5;124;43mimage\u001b[39;49m\u001b[38;5;124;43m\"\u001b[39;49m\u001b[43m,\u001b[49m\u001b[43m \u001b[49m\u001b[43mimage_id\u001b[49m\u001b[43m,\u001b[49m\u001b[43m \u001b[49m\u001b[43mqc_flag\u001b[49m\u001b[43m,\u001b[49m\u001b[43m \u001b[49m\u001b[43mfinal_author\u001b[49m\u001b[43m,\u001b[49m\u001b[43m \u001b[49m\u001b[43mnotes\u001b[49m\u001b[43m)\u001b[49m\n",
      "File \u001b[0;32m~/proj/morphseq/segmentation_sandbox/scripts/utils/experiment_data_qc_utils.py:446\u001b[0m, in \u001b[0;36mExperimentDataQC.flag_entity\u001b[0;34m(self, level, entity_id, qc_flag, author, notes)\u001b[0m\n\u001b[1;32m    444\u001b[0m final_author \u001b[38;5;241m=\u001b[39m author \u001b[38;5;28;01mif\u001b[39;00m author \u001b[38;5;129;01mis\u001b[39;00m \u001b[38;5;129;01mnot\u001b[39;00m \u001b[38;5;28;01mNone\u001b[39;00m \u001b[38;5;28;01melse\u001b[39;00m \u001b[38;5;28mself\u001b[39m\u001b[38;5;241m.\u001b[39mauthor_designation\n\u001b[1;32m    445\u001b[0m batch \u001b[38;5;241m=\u001b[39m gen_flag_batch(level, entity_id, qc_flag, final_author, notes)\n\u001b[0;32m--> 446\u001b[0m \u001b[38;5;28mself\u001b[39m\u001b[38;5;241m.\u001b[39m_qc_data \u001b[38;5;241m=\u001b[39m \u001b[43madd_flags_to_qc_data\u001b[49m\u001b[43m(\u001b[49m\u001b[38;5;28;43mself\u001b[39;49m\u001b[38;5;241;43m.\u001b[39;49m\u001b[43m_qc_data\u001b[49m\u001b[43m,\u001b[49m\u001b[43m \u001b[49m\u001b[43mbatch\u001b[49m\u001b[43m,\u001b[49m\u001b[43m \u001b[49m\u001b[43mvalidate_flags\u001b[49m\u001b[38;5;241;43m=\u001b[39;49m\u001b[38;5;28;43mself\u001b[39;49m\u001b[38;5;241;43m.\u001b[39;49m\u001b[43mauto_validate\u001b[49m\u001b[43m)\u001b[49m\n\u001b[1;32m    447\u001b[0m \u001b[38;5;28mself\u001b[39m\u001b[38;5;241m.\u001b[39m_unsaved_changes \u001b[38;5;241m=\u001b[39m \u001b[38;5;28;01mTrue\u001b[39;00m\n",
      "File \u001b[0;32m~/proj/morphseq/segmentation_sandbox/scripts/utils/experiment_data_qc_utils.py:1167\u001b[0m, in \u001b[0;36madd_flags_to_qc_data\u001b[0;34m(qc_data, flag_batch, validate_flags)\u001b[0m\n\u001b[1;32m   1165\u001b[0m     \u001b[38;5;28;01mif\u001b[39;00m \u001b[38;5;129;01mnot\u001b[39;00m is_valid_qc_flag(qc_data, level, qc_flag):\n\u001b[1;32m   1166\u001b[0m         valid_flags \u001b[38;5;241m=\u001b[39m qc_data\u001b[38;5;241m.\u001b[39mget(\u001b[38;5;124m\"\u001b[39m\u001b[38;5;124mvalid_qc_flag_categories\u001b[39m\u001b[38;5;124m\"\u001b[39m, {})\u001b[38;5;241m.\u001b[39mget(\u001b[38;5;124mf\u001b[39m\u001b[38;5;124m\"\u001b[39m\u001b[38;5;132;01m{\u001b[39;00mlevel\u001b[38;5;132;01m}\u001b[39;00m\u001b[38;5;124m_level\u001b[39m\u001b[38;5;124m\"\u001b[39m, {})\n\u001b[0;32m-> 1167\u001b[0m         \u001b[38;5;28;01mraise\u001b[39;00m \u001b[38;5;167;01mValueError\u001b[39;00m(\n\u001b[1;32m   1168\u001b[0m             \u001b[38;5;124mf\u001b[39m\u001b[38;5;124m\"\u001b[39m\u001b[38;5;124mInvalid QC flag \u001b[39m\u001b[38;5;124m'\u001b[39m\u001b[38;5;132;01m{\u001b[39;00mqc_flag\u001b[38;5;132;01m}\u001b[39;00m\u001b[38;5;124m'\u001b[39m\u001b[38;5;124m for level \u001b[39m\u001b[38;5;124m'\u001b[39m\u001b[38;5;132;01m{\u001b[39;00mlevel\u001b[38;5;132;01m}\u001b[39;00m\u001b[38;5;124m'\u001b[39m\u001b[38;5;124m. \u001b[39m\u001b[38;5;124m\"\u001b[39m\n\u001b[1;32m   1169\u001b[0m             \u001b[38;5;124mf\u001b[39m\u001b[38;5;124m\"\u001b[39m\u001b[38;5;124mValid flags: \u001b[39m\u001b[38;5;132;01m{\u001b[39;00m\u001b[38;5;28mlist\u001b[39m(valid_flags\u001b[38;5;241m.\u001b[39mkeys())\u001b[38;5;132;01m}\u001b[39;00m\u001b[38;5;124m\"\u001b[39m\n\u001b[1;32m   1170\u001b[0m         )\n\u001b[1;32m   1172\u001b[0m \u001b[38;5;66;03m# Determine parent_ids based on level and entity_id\u001b[39;00m\n\u001b[1;32m   1173\u001b[0m parent_ids \u001b[38;5;241m=\u001b[39m \u001b[38;5;28;01mNone\u001b[39;00m\n",
      "\u001b[0;31mValueError\u001b[0m: Invalid QC flag 'CORRUPT' for level 'image'. Valid flags: ['BLUR', 'DRY_WELL']"
     ]
    }
   ],
   "source": [
    "# This will raise an error because CORRUPT is not in the default valid flags\n",
    "# Let's first add it to the valid flags for this demo\n",
    "qc._qc_data[\"valid_qc_flag_categories\"][\"image_level\"][\"CORRUPT\"] = \"Cannot read/process image\"\n",
    "\n",
    "# Now this will work\n",
    "qc.flag_image(\n",
    "    image_id=\"20241215_A02_t001\",\n",
    "    qc_flag=\"CORRUPT\",\n",
    "    notes=\"Manual review: file corruption detected\"\n",
    ")\n",
    "\n",
    "print(\"✅ Added CORRUPT flag category and applied it successfully!\")\n"
   ]
  },
  {
   "cell_type": "markdown",
   "metadata": {},
   "source": [
    "## 📦 Step 5: Batch Operations - Images\n",
    "\n",
    "For large-scale QC, batch operations are much more efficient."
   ]
  },
  {
   "cell_type": "code",
   "execution_count": 14,
   "metadata": {},
   "outputs": [
    {
     "name": "stdout",
     "output_type": "stream",
     "text": [
      "📦 Demonstrating batch image flagging...\n",
      "✅ Batch image flags applied!\n",
      "📊 Flagged 3 images with various issues\n"
     ]
    }
   ],
   "source": [
    "# Demonstrate batch image flagging with different formats\n",
    "print(\"📦 Demonstrating batch image flagging...\")\n",
    "\n",
    "# Prepare batch data in different formats\n",
    "image_flags = {\n",
    "    # Single flag per image\n",
    "    \"20241215_A01_t003\": \"BLUR\",\n",
    "    \n",
    "    # Multiple flags per image (list of strings)\n",
    "    \"20241215_A02_t002\": [\"BLUR\", \"DRY_WELL\"],\n",
    "    \n",
    "    # Detailed flags with custom authors/notes (list of dicts)\n",
    "    \"20241216_B01_t001\": [\n",
    "        {\n",
    "            \"qc_flag\": \"DRY_WELL\", \n",
    "            \"author\": \"automated_detector\", \n",
    "            \"notes\": \"Pixel intensity analysis detected drying\"\n",
    "        },\n",
    "        {\n",
    "            \"qc_flag\": \"BLUR\",\n",
    "            \"notes\": \"Confirmed by automated blur detection\"\n",
    "            # Uses default author since not specified\n",
    "        }\n",
    "    ]\n",
    "}\n",
    "\n",
    "# Apply batch flags\n",
    "qc.flag_images_batch(image_flags)\n",
    "\n",
    "print(\"✅ Batch image flags applied!\")\n",
    "print(f\"📊 Flagged {len(image_flags)} images with various issues\")"
   ]
  },
  {
   "cell_type": "markdown",
   "metadata": {},
   "source": [
    "## ⚡ Step 6: Advanced Batch Operations with gen_flag_batch\n",
    "\n",
    "The most flexible approach - works across ALL entity types!"
   ]
  },
  {
   "cell_type": "code",
   "execution_count": 16,
   "metadata": {},
   "outputs": [
    {
     "name": "stdout",
     "output_type": "stream",
     "text": [
      "⚡ Method 1: Building accumulated batch...\n",
      "📋 Built batch with 3 flag entries\n",
      "✅ Accumulated batch applied!\n"
     ]
    }
   ],
   "source": [
    "# Method 1: Build batches for accumulation (DEFAULT)\n",
    "print(\"⚡ Method 1: Building accumulated batch...\")\n",
    "\n",
    "batch = []\n",
    "batch += qc.gen_flag_batch(\"experiment\", \"20241216\", \"INCOMPLETE\", qc.author_designation, notes=\"Missing final time points\")\n",
    "batch += qc.gen_flag_batch(\"video\", \"20241216_B01\", \"TECHNICAL_ISSUE\", qc.author_designation, notes=\"Lighting fluctuations\")\n",
    "batch += qc.gen_flag_batch(\"image\", \"20241216_B01_t002\", \"BLUR\", qc.author_designation, notes=\"Motion blur detected\")\n",
    "\n",
    "print(f\"📋 Built batch with {len(batch)} flag entries\")\n",
    "\n",
    "# Apply the accumulated batch\n",
    "qc.add_flag_batch(batch)\n",
    "print(\"✅ Accumulated batch applied!\")"
   ]
  },
  {
   "cell_type": "code",
   "execution_count": 19,
   "metadata": {},
   "outputs": [
    {
     "name": "stdout",
     "output_type": "stream",
     "text": [
      "⚡ Method 2: Direct application...\n",
      "✅ Direct flags applied immediately!\n"
     ]
    }
   ],
   "source": [
    "# Method 2: Apply directly to memory (no batch needed)\n",
    "print(\"⚡ Method 2: Direct application...\")\n",
    "\n",
    "# These flags are applied immediately\n",
    "qc.gen_flag_batch(\n",
    "    level=\"experiment\", \n",
    "    entity_id=\"20241215\", \n",
    "    qc_flag=\"INCOMPLETE\",\n",
    "    author=qc.author_designation,\n",
    "    notes=\"Missing metadata file\",\n",
    "    apply_directly=True  # Applied immediately!\n",
    ")\n",
    "\n",
    "qc.gen_flag_batch(\n",
    "    level=\"image\",\n",
    "    entity_id=\"20241215_A02_t002\", \n",
    "    qc_flag=\"BLUR\",\n",
    "    author=qc.author_designation,\n",
    "    notes=\"File header corruption\",\n",
    "    apply_directly=True\n",
    ")\n",
    "\n",
    "print(\"✅ Direct flags applied immediately!\")"
   ]
  },
  {
   "cell_type": "code",
   "execution_count": 21,
   "metadata": {},
   "outputs": [
    {
     "name": "stdout",
     "output_type": "stream",
     "text": [
      "⚡ Method 3: Mixed mode with conditional logic...\n",
      "📋 Applied 1 flags needing review\n",
      "✅ Mixed mode processing complete!\n"
     ]
    }
   ],
   "source": [
    "# Method 3: Mixed mode - conditional logic\n",
    "print(\"⚡ Method 3: Mixed mode with conditional logic...\")\n",
    "\n",
    "# Simulate automated analysis results\n",
    "automated_analysis = {\n",
    "    \"20241215_A01_t001\": {\"blur_score\": 35, \"confidence\": 0.95, \"needs_review\": False},\n",
    "    \"20241215_A01_t002\": {\"blur_score\": 65, \"confidence\": 0.70, \"needs_review\": True},\n",
    "    \"20241215_A01_t003\": {\"blur_score\": 25, \"confidence\": 0.98, \"needs_review\": False}\n",
    "}\n",
    "\n",
    "batch = []\n",
    "for image_id, analysis in automated_analysis.items():\n",
    "    if analysis['needs_review']:\n",
    "        # Low confidence -> add to batch for manual review\n",
    "        batch += qc.gen_flag_batch(\n",
    "            \"image\", image_id, \"BLUR\", qc.author_designation,\n",
    "            notes=f\"Needs review: blur_score={analysis['blur_score']}, confidence={analysis['confidence']}\"\n",
    "        )\n",
    "    else:\n",
    "        # High confidence -> apply directly\n",
    "        qc.gen_flag_batch(\n",
    "            \"image\", image_id, \"DRY_WELL\", qc.author_designation,\n",
    "            notes=f\"Auto-confirmed: blur_score={analysis['blur_score']}\",\n",
    "            apply_directly=True\n",
    "        )\n",
    "\n",
    "# Apply batched flags that need review\n",
    "if batch:\n",
    "    qc.add_flag_batch(batch)\n",
    "    print(f\"📋 Applied {len(batch)} flags needing review\")\n",
    "\n",
    "print(\"✅ Mixed mode processing complete!\")"
   ]
  },
  {
   "cell_type": "markdown",
   "metadata": {},
   "source": [
    "## 📊 Step 7: Check QC Summary and Status\n",
    "\n",
    "Let's see what flags we've added and get a summary."
   ]
  },
  {
   "cell_type": "code",
   "execution_count": 22,
   "metadata": {},
   "outputs": [
    {
     "name": "stdout",
     "output_type": "stream",
     "text": [
      "📊 QC Summary:\n",
      "==================================================\n",
      "\n",
      "🔍 Detailed Flag Examples:\n",
      "==================================================\n",
      "\n",
      "📸 Image '20241215_A01_t002':\n",
      "   Flags: []\n",
      "   Authors: []\n",
      "   Notes: []\n",
      "\n",
      "💾 Manager Status: ExperimentDataQC(author='demo_analyst', experiments=2, categories=4, status=⚠️  unsaved changes)\n"
     ]
    }
   ],
   "source": [
    "# Get QC summary\n",
    "print(\"📊 QC Summary:\")\n",
    "print(\"=\" * 50)\n",
    "\n",
    "summary = qc.get_summary()\n",
    "for level, flag_counts in summary.items():\n",
    "    if flag_counts:  # Only show levels with flags\n",
    "        print(f\"\\n🏷️ {level.replace('_', ' ').title()}:\")\n",
    "        for flag, count in flag_counts.items():\n",
    "            print(f\"   • {flag}: {count} occurrences\")\n",
    "\n",
    "# Check specific entity flags\n",
    "print(\"\\n🔍 Detailed Flag Examples:\")\n",
    "print(\"=\" * 50)\n",
    "\n",
    "# Check flags for a specific image\n",
    "image_flags = qc.get_image_flags(\"20241215_A01_t002\")\n",
    "print(f\"\\n📸 Image '20241215_A01_t002':\")\n",
    "print(f\"   Flags: {image_flags['flags']}\")\n",
    "print(f\"   Authors: {image_flags['authors']}\")\n",
    "print(f\"   Notes: {image_flags['notes']}\")\n",
    "\n",
    "# Check manager status\n",
    "print(f\"\\n💾 Manager Status: {qc}\")"
   ]
  },
  {
   "cell_type": "markdown",
   "metadata": {},
   "source": [
    "## ✅ Step 8: Validation and Integrity\n",
    "\n",
    "Let's validate our flags and check data integrity."
   ]
  },
  {
   "cell_type": "code",
   "execution_count": 23,
   "metadata": {},
   "outputs": [
    {
     "name": "stdout",
     "output_type": "stream",
     "text": [
      "🔍 Checking flag integrity...\n",
      "✅ All flags are valid!\n",
      "\n",
      "✅ All flags are valid!\n",
      "\n",
      "📋 Available flag categories:\n",
      "📋 Valid QC Flag Categories (from JSON file):\n",
      "============================================================\n",
      "\n",
      "🏷️  Experiment Level:\n",
      "   • PROTOCOL_DEVIATION: Deviation from standard imaging protocol\n",
      "   • INCOMPLETE: Experiment was not completed\n",
      "\n",
      "🏷️  Video Level:\n",
      "   • TECHNICAL_ISSUE: Technical problems during video acquisition\n",
      "\n",
      "🏷️  Image Level:\n",
      "   • BLUR: Image is blurry (low variance of Laplacian)\n",
      "   • DRY_WELL: Well dried out during imaging\n",
      "\n",
      "🏷️  Embryo Level:\n",
      "   • DEAD_EMBRYO: Embryo appears dead\n",
      "   • EMBRYO_NOT_DETECTED: No embryo detected in expected location\n",
      "   • ABNORMAL_DEVELOPMENT: Embryo shows abnormal development patterns\n"
     ]
    }
   ],
   "source": [
    "# Check flag integrity\n",
    "print(\"🔍 Checking flag integrity...\")\n",
    "integrity_result = qc.check_flag_integrity()\n",
    "\n",
    "if integrity_result['valid']:\n",
    "    print(\"\\n✅ All flags are valid!\")\n",
    "else:\n",
    "    print(f\"\\n⚠️ Found {len(integrity_result['issues'])} integrity issues\")\n",
    "    \n",
    "# Show valid flags available\n",
    "print(\"\\n📋 Available flag categories:\")\n",
    "qc.show_valid_flags()"
   ]
  },
  {
   "cell_type": "markdown",
   "metadata": {},
   "source": [
    "## 💾 Step 9: Save QC Data\n",
    "\n",
    "Finally, let's save our QC flags to disk."
   ]
  },
  {
   "cell_type": "code",
   "execution_count": 24,
   "metadata": {},
   "outputs": [
    {
     "name": "stdout",
     "output_type": "stream",
     "text": [
      "💾 Saving QC data...\n",
      "📋 Created backup: /net/trapnell/vol1/home/mdcolon/proj/morphseq/segmentation_sandbox/data/quality_control/demo_qc/experiment_data_qc.backup_20250702_153713.json\n",
      "💾 Saved QC data to /net/trapnell/vol1/home/mdcolon/proj/morphseq/segmentation_sandbox/data/quality_control/demo_qc/experiment_data_qc.json\n",
      "\n",
      "📁 QC data saved to: /net/trapnell/vol1/home/mdcolon/proj/morphseq/segmentation_sandbox/data/quality_control/demo_qc/experiment_data_qc.json\n",
      "💾 Unsaved changes: False\n",
      "\n",
      "🎯 Final Status: ExperimentDataQC(author='demo_analyst', experiments=2, categories=4, status=✅ saved)\n"
     ]
    }
   ],
   "source": [
    "# Save with backup\n",
    "print(\"💾 Saving QC data...\")\n",
    "qc.save(backup=True)\n",
    "\n",
    "print(f\"\\n📁 QC data saved to: {qc.qc_json_path}\")\n",
    "print(f\"💾 Unsaved changes: {qc.has_unsaved_changes}\")\n",
    "\n",
    "# Show final status\n",
    "print(f\"\\n🎯 Final Status: {qc}\")"
   ]
  },
  {
   "cell_type": "markdown",
   "metadata": {},
   "source": [
    "## 🔍 Step 10: Inspect the Saved QC File\n",
    "\n",
    "Let's look at the structure of our saved QC data."
   ]
  },
  {
   "cell_type": "code",
   "execution_count": 25,
   "metadata": {},
   "outputs": [
    {
     "name": "stdout",
     "output_type": "stream",
     "text": [
      "📋 QC JSON Structure:\n",
      "==================================================\n",
      "\n",
      "🏷️ Valid QC Flag Categories:\n",
      "{'embryo_level': {'ABNORMAL_DEVELOPMENT': 'Embryo shows abnormal development '\n",
      "                                          'patterns',\n",
      "                  'DEAD_EMBRYO': 'Embryo appears dead',\n",
      "                  'EMBRYO_NOT_DETECTED': 'No embryo detected in expected '\n",
      "                                         'location'},\n",
      " 'experiment_level': {'INCOMPLETE': 'Experiment was not completed',\n",
      "                      'PROTOCOL_DEVIATION': 'Deviation from standard imaging '\n",
      "                                            'protocol'},\n",
      " 'image_level': {'BLUR': 'Image is blurry (low variance of Laplacian)',\n",
      "                 'DRY_WELL': 'Well dried out during imaging'},\n",
      " 'video_level': {'TECHNICAL_ISSUE': 'Technical problems during video '\n",
      "                                    'acquisition'}}\n",
      "\n",
      "🔬 Experiments with QC Data:\n",
      "\n",
      "📊 Experiment 20241215:\n",
      "   Flags: ['PROTOCOL_DEVIATION', 'PROTOCOL_DEVIATION', 'PROTOCOL_DEVIATION', 'PROTOCOL_DEVIATION', 'INCOMPLETE', 'INCOMPLETE', 'INCOMPLETE']\n",
      "   Videos: ['20241215_A01', '20241215_A02']\n",
      "     📹 20241215_A01:\n",
      "       Flags: ['TECHNICAL_ISSUE', 'TECHNICAL_ISSUE', 'TECHNICAL_ISSUE', 'TECHNICAL_ISSUE']\n",
      "       Flagged images: 3\n",
      "         📸 20241215_A01_t001: ['BLUR', 'BLUR', 'BLUR', 'BLUR', 'DRY_WELL']\n",
      "         📸 20241215_A01_t002: ['BLUR', 'DRY_WELL', 'BLUR', 'DRY_WELL', 'BLUR']\n",
      "         📸 20241215_A01_t003: ['BLUR', 'BLUR', 'DRY_WELL']\n",
      "     📹 20241215_A02:\n",
      "       Flagged images: 2\n",
      "         📸 20241215_A02_t001: ['DRY_WELL']\n",
      "         📸 20241215_A02_t002: ['BLUR', 'BLUR', 'DRY_WELL', 'BLUR']\n",
      "\n",
      "📊 Experiment 20241216:\n",
      "   Flags: ['INCOMPLETE']\n",
      "   Videos: ['20241216_B01']\n",
      "     📹 20241216_B01:\n",
      "       Flags: ['TECHNICAL_ISSUE']\n",
      "       Flagged images: 2\n",
      "         📸 20241216_B01_t001: ['DRY_WELL', 'BLUR']\n",
      "         📸 20241216_B01_t002: ['BLUR']\n"
     ]
    }
   ],
   "source": [
    "# Load and display the QC JSON structure\n",
    "with open(qc.qc_json_path, 'r') as f:\n",
    "    saved_qc_data = json.load(f)\n",
    "\n",
    "print(\"📋 QC JSON Structure:\")\n",
    "print(\"=\" * 50)\n",
    "\n",
    "# Show valid categories\n",
    "print(\"\\n🏷️ Valid QC Flag Categories:\")\n",
    "pprint(saved_qc_data['valid_qc_flag_categories'])\n",
    "\n",
    "# Show experiment structure (just keys for overview)\n",
    "print(\"\\n🔬 Experiments with QC Data:\")\n",
    "for exp_id, exp_data in saved_qc_data['experiments'].items():\n",
    "    print(f\"\\n📊 Experiment {exp_id}:\")\n",
    "    if exp_data.get('flags'):\n",
    "        print(f\"   Flags: {exp_data['flags']}\")\n",
    "    \n",
    "    print(f\"   Videos: {list(exp_data.get('videos', {}).keys())}\")\n",
    "    \n",
    "    # Show video details\n",
    "    for vid_id, vid_data in exp_data.get('videos', {}).items():\n",
    "        if vid_data.get('flags') or vid_data.get('images', {}):\n",
    "            print(f\"     📹 {vid_id}:\")\n",
    "            if vid_data.get('flags'):\n",
    "                print(f\"       Flags: {vid_data['flags']}\")\n",
    "            \n",
    "            flagged_images = {img_id: img_data['flags'] \n",
    "                            for img_id, img_data in vid_data.get('images', {}).items() \n",
    "                            if img_data.get('flags')}\n",
    "            if flagged_images:\n",
    "                print(f\"       Flagged images: {len(flagged_images)}\")\n",
    "                for img_id, flags in list(flagged_images.items())[:3]:  # Show first 3\n",
    "                    print(f\"         📸 {img_id}: {flags}\")"
   ]
  },
  {
   "cell_type": "markdown",
   "metadata": {},
   "source": [
    "## 🚀 Step 11: Advanced Usage - Standalone Functions\n",
    "\n",
    "For scripts and pipelines, you can also use the standalone functions."
   ]
  },
  {
   "cell_type": "code",
   "execution_count": null,
   "metadata": {},
   "outputs": [],
   "source": [
    "# Demonstrate standalone functions for pipeline use\n",
    "print(\"🚀 Standalone function examples for pipelines...\")\n",
    "\n",
    "# Load QC data directly\n",
    "qc_data = load_qc_data(quality_control_dir)\n",
    "print(f\"📂 Loaded QC data with {len(qc_data['experiments'])} experiments\")\n",
    "\n",
    "# Build batch with standalone function\n",
    "batch = []\n",
    "batch += gen_flag_batch(\"image\", \"20241216_B01_t001\", \"OVEREXPOSURE\", \"pipeline_script\", \"Auto-detected\")\n",
    "batch += gen_flag_batch(\"image\", \"20241216_B01_t002\", \"CORRUPT\", \"pipeline_script\", \"Read error\")\n",
    "\n",
    "print(f\"📋 Built batch with {len(batch)} entries\")\n",
    "\n",
    "# Apply batch to QC data\n",
    "qc_data = add_flags_to_qc_data(qc_data, batch)\n",
    "print(\"✅ Applied batch to QC data\")\n",
    "\n",
    "# Save directly\n",
    "save_qc_data(qc_data, quality_control_dir)\n",
    "print(\"💾 Saved QC data\")\n",
    "\n",
    "print(\"\\n🎯 Perfect for automated QC pipelines!\")"
   ]
  },
  {
   "cell_type": "markdown",
   "metadata": {},
   "source": [
    "## 🎉 Demo Complete!\n",
    "\n",
    "### What We Accomplished:\n",
    "\n",
    "✅ **Initialized** QC system from experiment metadata  \n",
    "✅ **Created** QC manager with author designation  \n",
    "✅ **Flagged** entities at all levels (experiment → video → image → embryo)  \n",
    "✅ **Used batch operations** for efficient large-scale QC  \n",
    "✅ **Demonstrated** flexible `gen_flag_batch` functionality  \n",
    "✅ **Validated** flag integrity and viewed summaries  \n",
    "✅ **Saved** QC data to persistent storage  \n",
    "✅ **Explored** standalone functions for pipelines  \n",
    "\n",
    "### Key Benefits:\n",
    "\n",
    "🎭 **Author designation** eliminates repetitive author specification  \n",
    "⚡ **Flexible batching** supports both accumulation and direct application  \n",
    "🔍 **Automatic validation** ensures only valid flags are used  \n",
    "💾 **In-memory operations** provide fast performance until saving  \n",
    "📦 **Multiple interfaces** support both interactive and pipeline use  \n",
    "\n",
    "### Next Steps:\n",
    "\n",
    "1. **Integrate** with your image analysis pipelines\n",
    "2. **Customize** QC flag categories in the JSON file\n",
    "3. **Build** automated QC detection algorithms\n",
    "4. **Create** QC reports and visualizations\n",
    "5. **Scale** to your full dataset!"
   ]
  },
  {
   "cell_type": "code",
   "execution_count": null,
   "metadata": {},
   "outputs": [],
   "source": [
    "# Clean up demo files (optional)\n",
    "import shutil\n",
    "\n",
    "# Uncomment to remove demo directory\n",
    "# shutil.rmtree(demo_dir)\n",
    "# print(\"🧹 Demo files cleaned up\")\n",
    "\n",
    "print(\"🎉 Demo complete! Ready to implement in your MorphSeq pipeline.\")"
   ]
  }
 ],
 "metadata": {
  "kernelspec": {
   "display_name": "segmentation_grounded_sam",
   "language": "python",
   "name": "segmentation_grounded_sam"
  },
  "language_info": {
   "codemirror_mode": {
    "name": "ipython",
    "version": 3
   },
   "file_extension": ".py",
   "mimetype": "text/x-python",
   "name": "python",
   "nbconvert_exporter": "python",
   "pygments_lexer": "ipython3",
   "version": "3.10.13"
  }
 },
 "nbformat": 4,
 "nbformat_minor": 4
}
