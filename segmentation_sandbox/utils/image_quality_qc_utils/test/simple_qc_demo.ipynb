{
 "cells": [
  {
   "cell_type": "markdown",
   "id": "c4e0c908",
   "metadata": {},
   "source": [
    "# Image Quality Control Demo\n",
    "\n",
    "This notebook demonstrates the image quality control utilities for manual and automatic QC flagging.\n",
    "\n",
    "Run each cell in order to see the complete workflow."
   ]
  },
  {
   "cell_type": "code",
   "execution_count": 6,
   "id": "2f33bbb6",
   "metadata": {},
   "outputs": [
    {
     "name": "stdout",
     "output_type": "stream",
     "text": [
      "Current directory: /net/trapnell/vol1/home/mdcolon/proj/morphseq/segmentation_sandbox\n",
      "Parent directory: /net/trapnell/vol1/home/mdcolon/proj/morphseq\n"
     ]
    },
    {
     "ename": "ModuleNotFoundError",
     "evalue": "No module named 'image_quality_qc_utils'",
     "output_type": "error",
     "traceback": [
      "\u001b[0;31m---------------------------------------------------------------------------\u001b[0m",
      "\u001b[0;31mModuleNotFoundError\u001b[0m                       Traceback (most recent call last)",
      "Cell \u001b[0;32mIn[6], line 16\u001b[0m\n\u001b[1;32m     13\u001b[0m \u001b[38;5;28mprint\u001b[39m(\u001b[38;5;124mf\u001b[39m\u001b[38;5;124m\"\u001b[39m\u001b[38;5;124mParent directory: \u001b[39m\u001b[38;5;132;01m{\u001b[39;00mparent_dir\u001b[38;5;132;01m}\u001b[39;00m\u001b[38;5;124m\"\u001b[39m)\n\u001b[1;32m     15\u001b[0m \u001b[38;5;66;03m# Import directly from image_quality_qc_utils (not utils.image_quality_qc_utils)\u001b[39;00m\n\u001b[0;32m---> 16\u001b[0m \u001b[38;5;28;01mfrom\u001b[39;00m\u001b[38;5;250m \u001b[39m\u001b[38;5;21;01mimage_quality_qc_utils\u001b[39;00m\u001b[38;5;250m \u001b[39m\u001b[38;5;28;01mimport\u001b[39;00m (\n\u001b[1;32m     17\u001b[0m     load_qc_data, save_qc_data, flag_qc, remove_qc, \n\u001b[1;32m     18\u001b[0m     get_qc_summary, get_flagged_images, get_unflagged_images,\n\u001b[1;32m     19\u001b[0m     get_images_by_flag, get_images_by_annotator, QC_FLAGS,\n\u001b[1;32m     20\u001b[0m     manual_qc, auto_qc\n\u001b[1;32m     21\u001b[0m )\n\u001b[1;32m     23\u001b[0m \u001b[38;5;28mprint\u001b[39m(\u001b[38;5;124m\"\u001b[39m\u001b[38;5;124mSuccessfully imported QC utilities!\u001b[39m\u001b[38;5;124m\"\u001b[39m)\n\u001b[1;32m     24\u001b[0m \u001b[38;5;28mprint\u001b[39m(\u001b[38;5;124mf\u001b[39m\u001b[38;5;124m\"\u001b[39m\u001b[38;5;124mAvailable QC flags: \u001b[39m\u001b[38;5;132;01m{\u001b[39;00m\u001b[38;5;28mlist\u001b[39m(QC_FLAGS\u001b[38;5;241m.\u001b[39mkeys())\u001b[38;5;132;01m}\u001b[39;00m\u001b[38;5;124m\"\u001b[39m)\n",
      "\u001b[0;31mModuleNotFoundError\u001b[0m: No module named 'image_quality_qc_utils'"
     ]
    }
   ],
   "source": [
    "# Setup - Import required modules\n",
    "import sys\n",
    "import os\n",
    "import pandas as pd\n",
    "from pathlib import Path\n",
    "\n",
    "# Determine the correct path to the image_quality_qc_utils module\n",
    "current_dir = Path.cwd()\n",
    "print(f\"Current directory: {current_dir}\")\n",
    "\n",
    "# Look for the utils/image_quality_qc_utils directory\n",
    "utils_qc_path = None\n",
    "\n",
    "# Check if we're in the segmentation_sandbox directory\n",
    "if current_dir.name == \"segmentation_sandbox\":\n",
    "    utils_qc_path = current_dir / \"utils\" / \"image_quality_qc_utils\"\n",
    "# Check if we're in the test directory\n",
    "elif current_dir.name == \"test\":\n",
    "    utils_qc_path = current_dir.parent\n",
    "# Check if we're somewhere else in the project\n",
    "else:\n",
    "    # Try to find segmentation_sandbox in the path\n",
    "    for parent in current_dir.parents:\n",
    "        if parent.name == \"segmentation_sandbox\":\n",
    "            utils_qc_path = parent / \"utils\" / \"image_quality_qc_utils\"\n",
    "            break\n",
    "\n",
    "if utils_qc_path and utils_qc_path.exists():\n",
    "    sys.path.insert(0, str(utils_qc_path))\n",
    "    print(f\"Added to path: {utils_qc_path}\")\n",
    "else:\n",
    "    print(\"ERROR: Could not find image_quality_qc_utils directory\")\n",
    "    print(f\"Current directory: {current_dir}\")\n",
    "    print(\"Please run this notebook from the segmentation_sandbox directory or test directory\")\n",
    "\n",
    "# Import directly from image_quality_qc_utils\n",
    "from image_quality_qc_utils import (\n",
    "    load_qc_data, save_qc_data, flag_qc, remove_qc, \n",
    "    get_qc_summary, get_flagged_images, get_unflagged_images,\n",
    "    get_images_by_flag, get_images_by_annotator, QC_FLAGS,\n",
    "    manual_qc, auto_qc\n",
    ")\n",
    "\n",
    "print(\"Successfully imported QC utilities!\")\n",
    "print(f\"Available QC flags: {list(QC_FLAGS.keys())}\")"
   ]
  },
  {
   "cell_type": "markdown",
   "id": "7a29f2e6",
   "metadata": {},
   "source": [
    "## Setup Test Data\n",
    "\n",
    "Create a test directory and some sample QC data."
   ]
  },
  {
   "cell_type": "code",
   "execution_count": null,
   "id": "f7484356",
   "metadata": {},
   "outputs": [],
   "source": [
    "# Create test data directory\n",
    "test_data_dir = current_dir / \"notebook_test_data\"\n",
    "test_data_dir.mkdir(exist_ok=True)\n",
    "\n",
    "print(f\"Test data directory: {test_data_dir}\")\n",
    "\n",
    "# Load or create QC data\n",
    "qc_df = load_qc_data(test_data_dir)\n",
    "print(f\"Initial QC records: {len(qc_df)}\")"
   ]
  },
  {
   "cell_type": "markdown",
   "id": "8564e388",
   "metadata": {},
   "source": [
    "## Add Sample Images"
   ]
  },
  {
   "cell_type": "code",
   "execution_count": null,
   "id": "0c974560",
   "metadata": {},
   "outputs": [],
   "source": [
    "# Add some sample images if not already present\n",
    "sample_images = [\n",
    "    {\"experiment_id\": \"20241215\", \"video_id\": \"20241215_A01\", \"image_id\": \"20241215_A01_t001\"},\n",
    "    {\"experiment_id\": \"20241215\", \"video_id\": \"20241215_A01\", \"image_id\": \"20241215_A01_t002\"},\n",
    "    {\"experiment_id\": \"20241215\", \"video_id\": \"20241215_B01\", \"image_id\": \"20241215_B01_t001\"},\n",
    "    {\"experiment_id\": \"20241216\", \"video_id\": \"20241216_A01\", \"image_id\": \"20241216_A01_t001\"},\n",
    "]\n",
    "\n",
    "for img in sample_images:\n",
    "    if img[\"image_id\"] not in qc_df[\"image_id\"].values:\n",
    "        new_row = pd.DataFrame([{\n",
    "            \"experiment_id\": img[\"experiment_id\"],\n",
    "            \"video_id\": img[\"video_id\"], \n",
    "            \"image_id\": img[\"image_id\"],\n",
    "            \"qc_flag\": None,\n",
    "            \"notes\": None,\n",
    "            \"annotator\": None\n",
    "        }])\n",
    "        qc_df = pd.concat([qc_df, new_row], ignore_index=True)\n",
    "\n",
    "save_qc_data(qc_df, test_data_dir)\n",
    "print(f\"Total records: {len(qc_df)}\")\n",
    "display(qc_df.head())"
   ]
  },
  {
   "cell_type": "markdown",
   "id": "75cc0c60",
   "metadata": {},
   "source": [
    "## Manual QC Flagging"
   ]
  },
  {
   "cell_type": "code",
   "execution_count": null,
   "id": "e77e42de",
   "metadata": {},
   "outputs": [],
   "source": [
    "# Flag an image manually\n",
    "qc_df = flag_qc(\n",
    "    data_dir=test_data_dir,\n",
    "    image_ids=[\"20241215_A01_t001\"],\n",
    "    qc_flag=\"BLUR\",\n",
    "    annotator=\"mcolon\",\n",
    "    notes=\"Manual inspection - image appears blurry\",\n",
    "    overwrite=True\n",
    ")\n",
    "\n",
    "print(\"Flagged image as BLUR\")\n",
    "\n",
    "# Show flagged images\n",
    "flagged = qc_df[qc_df[\"qc_flag\"].notna()]\n",
    "display(flagged)"
   ]
  },
  {
   "cell_type": "markdown",
   "id": "92dd67a1",
   "metadata": {},
   "source": [
    "## Automatic QC Flagging"
   ]
  },
  {
   "cell_type": "code",
   "execution_count": null,
   "id": "769070b1",
   "metadata": {},
   "outputs": [],
   "source": [
    "# Simulate automatic flagging\n",
    "qc_df = flag_qc(\n",
    "    data_dir=test_data_dir,\n",
    "    image_ids=[\"20241215_A01_t002\"],\n",
    "    qc_flag=\"PASS\",\n",
    "    annotator=\"automatic\",\n",
    "    notes=\"Automatic: Quality metrics within normal range\",\n",
    "    overwrite=True\n",
    ")\n",
    "\n",
    "print(\"Automatically flagged image as PASS\")\n",
    "\n",
    "# Show all flagged images\n",
    "flagged = qc_df[qc_df[\"qc_flag\"].notna()]\n",
    "display(flagged)"
   ]
  },
  {
   "cell_type": "markdown",
   "id": "7af42853",
   "metadata": {},
   "source": [
    "## Analyze QC Data"
   ]
  },
  {
   "cell_type": "code",
   "execution_count": null,
   "id": "e404b455",
   "metadata": {},
   "outputs": [],
   "source": [
    "# Get QC summary\n",
    "summary = get_qc_summary(test_data_dir)\n",
    "print(\"QC Summary:\")\n",
    "for key, value in summary.items():\n",
    "    print(f\"  {key}: {value}\")\n",
    "\n",
    "# Use analysis functions\n",
    "flagged_images = get_flagged_images(qc_df)\n",
    "unflagged_images = get_unflagged_images(qc_df)\n",
    "\n",
    "print(f\"\\nFlagged images: {len(flagged_images)}\")\n",
    "print(f\"Unflagged images: {len(unflagged_images)}\")\n",
    "\n",
    "# Get images by specific criteria\n",
    "blur_images = get_images_by_flag(qc_df, \"BLUR\")\n",
    "manual_images = get_images_by_annotator(qc_df, \"mcolon\")\n",
    "\n",
    "print(f\"\\nBLUR flagged images: {blur_images}\")\n",
    "print(f\"Manually flagged images: {manual_images}\")"
   ]
  },
  {
   "cell_type": "markdown",
   "id": "1db96f9a",
   "metadata": {},
   "source": [
    "## Final Results"
   ]
  },
  {
   "cell_type": "code",
   "execution_count": null,
   "id": "4ad015f7",
   "metadata": {},
   "outputs": [],
   "source": [
    "# Show final QC data\n",
    "print(\"Final QC data:\")\n",
    "display(qc_df)\n",
    "\n",
    "# Save to CSV for inspection\n",
    "output_file = current_dir / \"notebook_qc_results.csv\"\n",
    "qc_df.to_csv(output_file, index=False)\n",
    "print(f\"\\nResults saved to: {output_file}\")"
   ]
  }
 ],
 "metadata": {
  "kernelspec": {
   "display_name": "segmentation_grounded_sam",
   "language": "python",
   "name": "segmentation_grounded_sam"
  },
  "language_info": {
   "codemirror_mode": {
    "name": "ipython",
    "version": 3
   },
   "file_extension": ".py",
   "mimetype": "text/x-python",
   "name": "python",
   "nbconvert_exporter": "python",
   "pygments_lexer": "ipython3",
   "version": "3.10.13"
  }
 },
 "nbformat": 4,
 "nbformat_minor": 5
}
