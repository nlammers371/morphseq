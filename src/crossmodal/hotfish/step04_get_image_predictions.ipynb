{
 "cells": [
  {
   "metadata": {},
   "cell_type": "markdown",
   "source": "# Do the thing",
   "id": "143bb2c5b2a9058b"
  },
  {
   "metadata": {
    "ExecuteTime": {
     "end_time": "2025-05-06T16:38:22.156737Z",
     "start_time": "2025-05-06T16:38:21.825785Z"
    }
   },
   "cell_type": "code",
   "source": [
    "import numpy as np\n",
    "import pandas as pd\n",
    "import plotly.express as px\n",
    "import plotly.graph_objects as go\n",
    "import os\n",
    "from glob2 import glob"
   ],
   "id": "888e0eb2b5b6e395",
   "outputs": [],
   "execution_count": 1
  },
  {
   "metadata": {
    "ExecuteTime": {
     "end_time": "2025-05-06T16:38:22.879285Z",
     "start_time": "2025-05-06T16:38:22.873609Z"
    }
   },
   "cell_type": "code",
   "source": [
    "root = \"/media/nick/hdd021/Cole Trapnell's Lab Dropbox/Nick Lammers/Nick/morphseq/\"\n",
    "\n",
    "# path to save data\n",
    "out_path = os.path.join(root, \"analyses\", \"crossmodal\", \"hotfish\", \"\")\n",
    "os.makedirs(out_path, exist_ok=True)\n",
    "\n",
    "# path to figures and data\n",
    "fig_path = os.path.join(root, \"figures\", \"crossmodal\", \"hotfish\", \"\")\n",
    "os.makedirs(fig_path, exist_ok=True)\n",
    "\n",
    "train_name = \"20241107_ds\"\n",
    "model_name = \"ntxent_256_20250504_091524\"\n",
    "train_dir = os.path.join(root, \"training_data\", train_name, \"hydra_outputs\", \"\")\n",
    "model_dir = os.path.join(train_dir, model_name, \"lightning_logs\", \"\")\n",
    "\n",
    "# get path to model\n",
    "training_path = sorted(glob(os.path.join(model_dir, \"*\")))[-1]\n",
    "training_name = os.path.dirname(training_path)"
   ],
   "id": "bac3c614f4267c3d",
   "outputs": [],
   "execution_count": 2
  },
  {
   "metadata": {
    "ExecuteTime": {
     "end_time": "2025-05-06T16:40:27.878141Z",
     "start_time": "2025-05-06T16:40:27.867238Z"
    }
   },
   "cell_type": "code",
   "source": [
    "# load the morph predictions\n",
    "morph_pd_df = pd.read_csv(os.path.join(out_path, \"seq_to_morph_pd.csv\"))"
   ],
   "id": "4f450a8514130db3",
   "outputs": [],
   "execution_count": 3
  },
  {
   "metadata": {},
   "cell_type": "code",
   "outputs": [],
   "execution_count": null,
   "source": "",
   "id": "f1c7fa2ad3c1ad7d"
  }
 ],
 "metadata": {
  "kernelspec": {
   "display_name": "Python 3",
   "language": "python",
   "name": "python3"
  },
  "language_info": {
   "codemirror_mode": {
    "name": "ipython",
    "version": 2
   },
   "file_extension": ".py",
   "mimetype": "text/x-python",
   "name": "python",
   "nbconvert_exporter": "python",
   "pygments_lexer": "ipython2",
   "version": "2.7.6"
  }
 },
 "nbformat": 4,
 "nbformat_minor": 5
}
