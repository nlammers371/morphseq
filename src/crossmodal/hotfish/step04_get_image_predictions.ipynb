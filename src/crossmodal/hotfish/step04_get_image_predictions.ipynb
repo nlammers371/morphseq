{
 "cells": [
  {
   "metadata": {},
   "cell_type": "markdown",
   "source": "# Do the thing",
   "id": "143bb2c5b2a9058b"
  },
  {
   "metadata": {
    "ExecuteTime": {
     "end_time": "2025-05-06T16:38:22.156737Z",
     "start_time": "2025-05-06T16:38:21.825785Z"
    }
   },
   "cell_type": "code",
   "source": [
    "import numpy as np\n",
    "import pandas as pd\n",
    "import plotly.express as px\n",
    "import plotly.graph_objects as go\n",
    "import os\n",
    "from glob2 import glob"
   ],
   "id": "888e0eb2b5b6e395",
   "outputs": [],
   "execution_count": 1
  },
  {
   "metadata": {
    "ExecuteTime": {
     "end_time": "2025-05-06T16:38:22.879285Z",
     "start_time": "2025-05-06T16:38:22.873609Z"
    }
   },
   "cell_type": "code",
   "source": [
    "root = \"/media/nick/hdd021/Cole Trapnell's Lab Dropbox/Nick Lammers/Nick/morphseq/\"\n",
    "\n",
    "# path to save data\n",
    "out_path = os.path.join(root, \"analyses\", \"crossmodal\", \"hotfish\", \"\")\n",
    "os.makedirs(out_path, exist_ok=True)\n",
    "\n",
    "# path to figures and data\n",
    "fig_path = os.path.join(root, \"figures\", \"crossmodal\", \"hotfish\", \"\")\n",
    "os.makedirs(fig_path, exist_ok=True)\n",
    "\n",
    "train_name = \"20241107_ds\"\n",
    "model_name = \"ntxent_256_20250504_091524\"\n",
    "train_dir = os.path.join(root, \"training_data\", train_name, \"hydra_outputs\", \"\")\n",
    "model_dir = os.path.join(train_dir, model_name, \"lightning_logs\", \"\")\n",
    "\n",
    "# get path to model\n",
    "training_path = sorted(glob(os.path.join(model_dir, \"*\")))[-1]\n",
    "training_name = os.path.dirname(training_path)"
   ],
   "id": "bac3c614f4267c3d",
   "outputs": [],
   "execution_count": 2
  },
  {
   "metadata": {
    "ExecuteTime": {
     "end_time": "2025-05-06T17:01:40.142891Z",
     "start_time": "2025-05-06T17:01:40.132736Z"
    }
   },
   "cell_type": "code",
   "source": [
    "# load the morph predictions\n",
    "morph_pd_df = pd.read_csv(os.path.join(out_path, \"seq_to_morph_pd.csv\"))\n",
    "latent_cols = [col for col in morph_pd_df.columns if \"z_mu\" in col]\n",
    "Z = morph_pd_df.loc[:, latent_cols].to_numpy()"
   ],
   "id": "4f450a8514130db3",
   "outputs": [],
   "execution_count": 17
  },
  {
   "metadata": {
    "ExecuteTime": {
     "end_time": "2025-05-06T16:56:09.488057Z",
     "start_time": "2025-05-06T16:56:07.921513Z"
    }
   },
   "cell_type": "code",
   "source": [
    "from src.assess.assess_hydra_results import get_hydra_runs, initialize_model_to_asses, parse_hydra_paths\n",
    "from omegaconf import OmegaConf\n",
    "from src.lightning.pl_wrappers import LitModel\n",
    "\n",
    "# load trained model\n",
    "root = \"/media/nick/hdd021/Cole Trapnell's Lab Dropbox/Nick Lammers/Nick/morphseq/training_data/20241107_ds/\"\n",
    "run_name = \"ntxent_256_20250504_091524\"\n",
    "hydra_run_path = os.path.join(root, \"hydra_outputs\", run_name, \"\")\n",
    "_, cfg_path_list = get_hydra_runs(hydra_run_path, run_type=\"name\")\n",
    "\n",
    "cfg = cfg_path_list[0]\n",
    "config = OmegaConf.load(cfg)\n",
    "\n",
    "# initialize\n",
    "model, model_config = initialize_model_to_asses(config)\n",
    "loss_fn = model_config.lossconfig.create_module()\n",
    "run_path = os.path.join(os.path.dirname(os.path.dirname(cfg)), \"lightning_logs\")\n",
    "model_dir, latest_ckpt = parse_hydra_paths(run_path=run_path)\n",
    "\n",
    "# get model\n",
    "lit_model = LitModel.load_from_checkpoint(latest_ckpt,\n",
    "                                          model=model,\n",
    "                                          loss_fn=loss_fn,\n",
    "                                          data_cfg=OmegaConf.create({}),)\n",
    "\n",
    "lit_model.eval()  # 1) turn off dropout / switch BN to eval\n",
    "lit_model.freeze()\n",
    "\n",
    "decoder = lit_model.model.decoder"
   ],
   "id": "f1c7fa2ad3c1ad7d",
   "outputs": [
    {
     "name": "stdout",
     "output_type": "stream",
     "text": [
      "Setting up [LPIPS] perceptual loss: trunk [vgg], v[0.1], spatial [off]\n"
     ]
    },
    {
     "name": "stderr",
     "output_type": "stream",
     "text": [
      "/home/nick/miniconda3/envs/torch-env-plot/lib/python3.10/site-packages/torchvision/models/_utils.py:208: UserWarning: The parameter 'pretrained' is deprecated since 0.13 and may be removed in the future, please use 'weights' instead.\n",
      "  warnings.warn(\n",
      "/home/nick/miniconda3/envs/torch-env-plot/lib/python3.10/site-packages/torchvision/models/_utils.py:223: UserWarning: Arguments other than a weight enum or `None` for 'weights' are deprecated since 0.13 and may be removed in the future. The current behavior is equivalent to passing `weights=VGG16_Weights.IMAGENET1K_V1`. You can also use `weights=VGG16_Weights.DEFAULT` to get the most up-to-date weights.\n",
      "  warnings.warn(msg)\n"
     ]
    },
    {
     "name": "stdout",
     "output_type": "stream",
     "text": [
      "Loading model from: /home/nick/miniconda3/envs/torch-env-plot/lib/python3.10/site-packages/lpips/weights/v0.1/vgg.pth\n"
     ]
    },
    {
     "name": "stderr",
     "output_type": "stream",
     "text": [
      "/home/nick/miniconda3/envs/torch-env-plot/lib/python3.10/site-packages/lpips/lpips.py:107: FutureWarning: You are using `torch.load` with `weights_only=False` (the current default value), which uses the default pickle module implicitly. It is possible to construct malicious pickle data which will execute arbitrary code during unpickling (See https://github.com/pytorch/pytorch/blob/main/SECURITY.md#untrusted-models for more details). In a future release, the default value for `weights_only` will be flipped to `True`. This limits the functions that could be executed during unpickling. Arbitrary objects will no longer be allowed to be loaded via this mode unless they are explicitly allowlisted by the user via `torch.serialization.add_safe_globals`. We recommend you start setting `weights_only=True` for any use case where you don't have full control of the loaded file. Please open an issue on GitHub for any issues related to this experimental feature.\n",
      "  self.load_state_dict(torch.load(model_path, map_location='cpu'), strict=False)\n"
     ]
    }
   ],
   "execution_count": 7
  },
  {
   "metadata": {
    "ExecuteTime": {
     "end_time": "2025-05-06T17:05:10.807418Z",
     "start_time": "2025-05-06T17:05:10.589604Z"
    }
   },
   "cell_type": "code",
   "source": [
    "import torch\n",
    "\n",
    "Z_tensor = torch.from_numpy(Z).to(lit_model.device).float()\n",
    "\n",
    "with torch.no_grad():\n",
    "    im_recon = decoder(Z_tensor)"
   ],
   "id": "cbd7458eb2b3ca4",
   "outputs": [],
   "execution_count": 23
  },
  {
   "metadata": {
    "ExecuteTime": {
     "end_time": "2025-05-06T23:38:31.432189Z",
     "start_time": "2025-05-06T23:38:30.996948Z"
    }
   },
   "cell_type": "code",
   "source": [
    "from tqdm import tqdm\n",
    "from PIL import Image\n",
    "\n",
    "im_stack = im_recon[0].detach().cpu().numpy()  # now shape (C, H, W)\n",
    "im_path = os.path.join(fig_path, \"recon_images_i\", \"\")\n",
    "os.makedirs(im_path, exist_ok=True)\n",
    "\n",
    "for m in tqdm(range(10, im_stack.shape[0]-5), \"Writing reconstructions to file...\"):\n",
    "# reorder to (H, W, C) for px.imshow\n",
    "# grayscale\n",
    "    arr = im_stack[m].squeeze(0)  # (H, W)\n",
    "\n",
    "    # invert\n",
    "    arr = 1 - arr\n",
    "    arr = arr - np.min(arr)\n",
    "    arr = arr / np.max(arr)\n",
    "\n",
    "    # scale to 0–255 uint8\n",
    "    arr = np.clip(arr, 0, 1)\n",
    "\n",
    "    arr = (255 * arr).astype(np.uint8)\n",
    "    # arr = 255 - arr\n",
    "    # arr = arr - np.min\n",
    "    # make PIL image\n",
    "    im = Image.fromarray(arr[25:-25], mode=\"L\")\n",
    "\n",
    "    fname = os.path.join(im_path, f\"recon_{m:03d}.png\")\n",
    "    im.save(fname)\n",
    "    # print(f\"Saved {fname}\")\n"
   ],
   "id": "bbbb9c910217d22a",
   "outputs": [
    {
     "name": "stderr",
     "output_type": "stream",
     "text": [
      "Writing reconstructions to file...: 100%|██████████| 85/85 [00:00<00:00, 206.85it/s]\n"
     ]
    }
   ],
   "execution_count": 40
  },
  {
   "metadata": {
    "ExecuteTime": {
     "end_time": "2025-05-06T23:36:27.375977Z",
     "start_time": "2025-05-06T23:36:27.371002Z"
    }
   },
   "cell_type": "code",
   "source": "np.max(im)",
   "id": "3cf8b7683c5c683b",
   "outputs": [
    {
     "data": {
      "text/plain": [
       "np.uint8(247)"
      ]
     },
     "execution_count": 39,
     "metadata": {},
     "output_type": "execute_result"
    }
   ],
   "execution_count": 39
  },
  {
   "metadata": {},
   "cell_type": "code",
   "outputs": [],
   "execution_count": null,
   "source": "",
   "id": "b59213a8cf21b53f"
  }
 ],
 "metadata": {
  "kernelspec": {
   "display_name": "Python 3",
   "language": "python",
   "name": "python3"
  },
  "language_info": {
   "codemirror_mode": {
    "name": "ipython",
    "version": 2
   },
   "file_extension": ".py",
   "mimetype": "text/x-python",
   "name": "python",
   "nbconvert_exporter": "python",
   "pygments_lexer": "ipython2",
   "version": "2.7.6"
  }
 },
 "nbformat": 4,
 "nbformat_minor": 5
}
