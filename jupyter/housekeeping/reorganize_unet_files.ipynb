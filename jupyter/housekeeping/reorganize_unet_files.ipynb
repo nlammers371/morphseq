{
 "cells": [
  {
   "cell_type": "markdown",
   "metadata": {},
   "source": [
    "# I decided to switch to using raw FF output for unet segmentation training. This script replaces all processed training files with raw"
   ]
  },
  {
   "cell_type": "code",
   "execution_count": null,
   "metadata": {},
   "outputs": [],
   "source": [
    "import os\n",
    "import numpy as np\n",
    "import pandas as pd\n",
    "import plotly.express as px\n",
    "import plotly.graph_objects as go\n",
    "import plotly.offline as pyo\n",
    "from src.functions.utilities import path_leaf\n",
    "pyo.init_notebook_mode()"
   ]
  },
  {
   "cell_type": "markdown",
   "metadata": {},
   "source": [
    "### Get list of unet training directories"
   ]
  },
  {
   "cell_type": "code",
   "execution_count": null,
   "metadata": {},
   "outputs": [],
   "source": [
    "from glob2 import glob\n",
    "\n",
    "root = \"/media/nick/hdd02/Cole Trapnell's Lab Dropbox/Nick Lammers/Nick/morphseq/\"\n",
    "unet_root = os.path.join(root, \"built_image_data\", \"unet_training\", \"*\")\n",
    "unet_dirs = sorted(glob(unet_root))\n",
    "unet_dirs = [u for u in unet_dirs if os.path.isdir(u)]"
   ]
  },
  {
   "cell_type": "markdown",
   "metadata": {},
   "source": [
    "### iterate through each one and compile list of unique labels"
   ]
  },
  {
   "cell_type": "code",
   "execution_count": null,
   "metadata": {},
   "outputs": [],
   "source": [
    "import shutil\n",
    "from tqdm import tqdm\n",
    "\n",
    "image_root = os.path.join(root, \"built_image_data\", \"stitched_FF_images\")\n",
    "\n",
    "for u, udir in enumerate(tqdm(unet_dirs)):\n",
    "    # initialize list  to store label files\n",
    "    label_path_list = []\n",
    "    label_name_list = []\n",
    "    # get list of subdirectories\n",
    "    subdir_list = sorted(glob(os.path.join(udir, \"*\")))\n",
    "    subdir_list = [s for s in subdir_list if os.path.isdir(s)]\n",
    "    subdir_list = [s for s in subdir_list if \"training\" not in path_leaf(s)]\n",
    "    for s, sdir in enumerate(subdir_list):\n",
    "        a_dir = os.path.join(sdir, \"annotations\",\"\")\n",
    "        if os.path.isdir(a_dir):\n",
    "            lb_files = glob(a_dir + \"*.tif\") + glob(a_dir + \"*.jpg\")\n",
    "            lb_names = [path_leaf(im) for im in lb_files]\n",
    "            label_path_list += lb_files\n",
    "            label_name_list += lb_names\n",
    "\n",
    "    # make new directory\n",
    "    ann_dir = os.path.join(udir, \"training\", \"annotations\", \"\")\n",
    "    if not os.path.isdir(ann_dir):\n",
    "        os.makedirs(ann_dir)\n",
    "\n",
    "    # get de-duped list of images\n",
    "    lb_names_u, si_u = np.unique(label_name_list, return_index=True) \n",
    "    lb_paths_u = [label_path_list[i] for i in si_u]\n",
    "\n",
    "    # copy over\n",
    "    for i in range(len(lb_names_u)):\n",
    "        shutil.copyfile(lb_paths_u[i], os.path.join(ann_dir, lb_names_u[i]))\n",
    "\n",
    "    # make image directory\n",
    "    im_dir = os.path.join(udir, \"training\", \"images\", \"\")\n",
    "    if not os.path.isdir(im_dir):\n",
    "        os.makedirs(im_dir)\n",
    "\n",
    "    # copy images\n",
    "    for i in range(len(lb_names_u)):\n",
    "        date_folder = lb_names_u[i][0:8]\n",
    "        im_stub = lb_names_u[i][9:18]\n",
    "        im_path_from = glob(os.path.join(image_root, date_folder, im_stub + \"*\"))[0]\n",
    "        new_name = path_leaf(im_path_from)\n",
    "        im_path_to = os.path.join(im_dir, date_folder + \"_\" + new_name)\n",
    "        shutil.copyfile(im_path_from, im_path_to)\n",
    "    \n",
    "    \n",
    "print(label_path_list[0])"
   ]
  },
  {
   "cell_type": "markdown",
   "metadata": {},
   "source": [
    "### Split the live and dead labels into seperate sets"
   ]
  },
  {
   "cell_type": "code",
   "execution_count": null,
   "metadata": {},
   "outputs": [],
   "source": [
    "import skimage.io as io\n",
    "\n",
    "emb_dir = os.path.join(unet_root[:-1], \"UNET_training_emb\", \"training\") \n",
    "via_dir_lb = os.path.join(unet_root[:-1], \"UNET_training_via\", \"training\", \"annotations\") \n",
    "via_dir_im = os.path.join(unet_root[:-1], \"UNET_training_via\", \"training\", \"images\") \n",
    "if not os.path.isdir(os.path.join(via_dir_im)):\n",
    "    os.makedirs(via_dir_lb)\n",
    "    os.makedirs(via_dir_im)\n",
    "    \n",
    "mask_dir_lb = os.path.join(unet_root[:-1], \"UNET_training_mask\", \"training\", \"annotations\")\n",
    "mask_dir_im = os.path.join(unet_root[:-1], \"UNET_training_mask\", \"training\", \"images\")\n",
    "if not os.path.isdir(os.path.join(mask_dir_im)):\n",
    "    os.makedirs(mask_dir_lb)\n",
    "    os.makedirs(mask_dir_im)\n",
    "\n",
    "label_list = sorted(glob(os.path.join(emb_dir, \"annotations\", \"*\")))\n",
    "image_list = sorted(glob(os.path.join(emb_dir, \"images\", \"*\")))\n",
    "\n",
    "for i in tqdm(range(len(image_list))):\n",
    "\n",
    "    image_name = path_leaf(image_list[i])\n",
    "    anno_path = glob(os.path.join(emb_dir, \"annotations\", image_name[0:19] + \"*\"))\n",
    "    # loa\n",
    "    im = io.imread(image_list[i])\n",
    "\n",
    "    if len(anno_path) >0:\n",
    "        lb = io.imread(anno_path[0])\n",
    "         # make alternative labels\n",
    "        lb_mask = lb.copy()\n",
    "        lb_mask[lb_mask==2] = 1\n",
    "    \n",
    "        lb_via = lb.copy()\n",
    "        lb_via[lb_via==1] = 0\n",
    "        lb_via[lb_via==2] = 1\n",
    "\n",
    "        io.imsave(os.path.join(mask_dir_lb, image_name), lb_mask, check_contrast=False)\n",
    "        io.imsave(os.path.join(via_dir_lb, image_name), lb_via, check_contrast=False)\n",
    "        \n",
    "    # save\n",
    "    io.imsave(os.path.join(mask_dir_im, image_name), im, check_contrast=False)\n",
    "    io.imsave(os.path.join(via_dir_im, image_name), im, check_contrast=False)"
   ]
  },
  {
   "cell_type": "code",
   "execution_count": null,
   "metadata": {},
   "outputs": [],
   "source": [
    "/media/nick/hdd02/Cole Trapnell's Lab Dropbox/Nick Lammers/Nick/morphseq/built_image_data/unet_training/UNET_training_emb/training/annotations/"
   ]
  }
 ],
 "metadata": {
  "kernelspec": {
   "display_name": "morphseq-env",
   "language": "python",
   "name": "morphseq-env"
  },
  "language_info": {
   "codemirror_mode": {
    "name": "ipython",
    "version": 3
   },
   "file_extension": ".py",
   "mimetype": "text/x-python",
   "name": "python",
   "nbconvert_exporter": "python",
   "pygments_lexer": "ipython3",
   "version": "3.10.13"
  }
 },
 "nbformat": 4,
 "nbformat_minor": 4
}
