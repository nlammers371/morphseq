{
 "cells": [
  {
   "cell_type": "markdown",
   "metadata": {},
   "source": [
    "# I (UN) decided to switch to using raw FF output for unet segmentation training. This script replaces all processed training files with raw"
   ]
  },
  {
   "cell_type": "code",
   "execution_count": null,
   "metadata": {},
   "outputs": [],
   "source": [
    "import os\n",
    "import numpy as np\n",
    "import pandas as pd\n",
    "import plotly.express as px\n",
    "import plotly.graph_objects as go\n",
    "import plotly.offline as pyo\n",
    "from src.functions.utilities import path_leaf\n",
    "pyo.init_notebook_mode()"
   ]
  },
  {
   "cell_type": "markdown",
   "metadata": {},
   "source": [
    "### Get list of unet training directories"
   ]
  },
  {
   "cell_type": "code",
   "execution_count": null,
   "metadata": {},
   "outputs": [],
   "source": [
    "from glob2 import glob\n",
    "\n",
    "root = \"/media/nick/hdd02/Cole Trapnell's Lab Dropbox/Nick Lammers/Nick/morphseq/\"\n",
    "unet_root = os.path.join(root, \"built_image_data\", \"unet_training\", \"*\")\n",
    "unet_dirs = sorted(glob(unet_root))\n",
    "unet_dirs = [u for u in unet_dirs if os.path.isdir(u)]"
   ]
  },
  {
   "cell_type": "markdown",
   "metadata": {},
   "source": [
    "### Put all processed images into subdirectories by date"
   ]
  },
  {
   "cell_type": "code",
   "execution_count": null,
   "metadata": {},
   "outputs": [],
   "source": [
    "yolk_dir = unet_dirs[5]\n",
    "annotation_list = glob(os.path.join(yolk_dir, \"training\", \"annotations\", \"*\"))\n",
    "anno_names = [path_leaf(a)[:18] for a in annotation_list]\n",
    "\n",
    "image_list = glob(os.path.join(yolk_dir, \"training\", \"images\", \"*\"))\n",
    "image_names = [path_leaf(a)[:18] for a in image_list]\n",
    "\n",
    "off_images = list(set(image_names) - set(anno_names))"
   ]
  },
  {
   "cell_type": "code",
   "execution_count": null,
   "metadata": {},
   "outputs": [],
   "source": [
    "rm_indices = [i for i in range(len(image_names)) if image_names[i] in off_images]\n",
    "rm_paths = [image_list[i] for i in rm_indices]\n",
    "for rp in rm_paths:\n",
    "    os.remove(rp)"
   ]
  },
  {
   "cell_type": "code",
   "execution_count": null,
   "metadata": {},
   "outputs": [],
   "source": [
    "# import shutil\n",
    "# from tqdm import tqdm\n",
    "\n",
    "# image_root = os.path.join(root, \"built_image_data\", \"stitched_FF_images\", \"\")\n",
    "# image_list = glob(image_root + \"*\")\n",
    "# image_name_list = [path_leaf(im) for im in image_list]\n",
    "# image_date_list = [im[:8] for im in image_name_list]\n",
    "# image_stub_list = [im[9:] for im in image_name_list]\n",
    "\n",
    "# date_list = np.unique(image_date_list)\n",
    "\n",
    "# for date in tqdm(date_list):\n",
    "#     date_dir = os.path.join(image_root, date)\n",
    "#     if not os.path.isdir(date_dir):\n",
    "#         os.makedirs(date_dir)\n",
    "\n",
    "#     date_indices = np.where(np.asarray(image_date_list) == date)[0]\n",
    "\n",
    "#     for di in date_indices:\n",
    "#         from_path = image_list[di]\n",
    "#         to_path = os.path.join(date_dir, image_stub_list[di])\n",
    "#         shutil.move(from_path, to_path)"
   ]
  },
  {
   "cell_type": "markdown",
   "metadata": {},
   "source": [
    "### iterate through training images and replace with contrast-adjusted versions"
   ]
  },
  {
   "cell_type": "code",
   "execution_count": null,
   "metadata": {},
   "outputs": [],
   "source": [
    "import shutil\n",
    "from tqdm import tqdm\n",
    "\n",
    "image_root = os.path.join(root, \"built_image_data\", \"stitched_FF_images\")\n",
    "\n",
    "for u, udir in enumerate(tqdm(unet_dirs[1:-1])):\n",
    "\n",
    "    image_dir = os.path.join(udir, \"training\", \"images\", \"\")\n",
    "    image_list = sorted(glob(image_dir + \"*\"))\n",
    "\n",
    "    image_dir_new = os.path.join(udir, \"training\", \"images_new\", \"\")\n",
    "    if not os.path.isdir(image_dir_new):\n",
    "        os.makedirs(image_dir_new)\n",
    "\n",
    "    for im in image_list:\n",
    "        im_name = path_leaf(im)\n",
    "        date = im_name[:8]\n",
    "        stub = im_name[9:18]\n",
    "        from_path = glob(os.path.join(image_root, date, stub + \"*\"))[0]\n",
    "        to_path = os.path.join(image_dir_new, im_name)\n",
    "        shutil.copyfile(from_path, to_path)\n",
    "\n",
    "    # # copy images\n",
    "    # for i in range(len(lb_names_u)):\n",
    "    #     date_folder = lb_names_u[i][0:8]\n",
    "    #     im_stub = lb_names_u[i][9:18]\n",
    "    #     im_path_from = glob(os.path.join(image_root, date_folder, im_stub + \"*\"))[0]\n",
    "    #     new_name = path_leaf(im_path_from)\n",
    "    #     im_path_to = os.path.join(im_dir, date_folder + \"_\" + new_name)\n",
    "    #     shutil.copyfile(im_path_from, im_path_to)\n",
    "    \n",
    "    \n",
    "print(image_list)"
   ]
  },
  {
   "cell_type": "code",
   "execution_count": null,
   "metadata": {},
   "outputs": [],
   "source": [
    "udir"
   ]
  },
  {
   "cell_type": "markdown",
   "metadata": {},
   "source": [
    "### Split the live and dead labels into seperate sets"
   ]
  },
  {
   "cell_type": "code",
   "execution_count": null,
   "metadata": {},
   "outputs": [],
   "source": [
    "import skimage.io as io\n",
    "\n",
    "emb_dir = os.path.join(unet_root[:-1], \"UNET_training_emb\", \"training\") \n",
    "via_dir_lb = os.path.join(unet_root[:-1], \"UNET_training_via\", \"training\", \"annotations\") \n",
    "via_dir_im = os.path.join(unet_root[:-1], \"UNET_training_via\", \"training\", \"images\") \n",
    "if not os.path.isdir(os.path.join(via_dir_im)):\n",
    "    os.makedirs(via_dir_lb)\n",
    "    os.makedirs(via_dir_im)\n",
    "    \n",
    "mask_dir_lb = os.path.join(unet_root[:-1], \"UNET_training_mask\", \"training\", \"annotations\")\n",
    "mask_dir_im = os.path.join(unet_root[:-1], \"UNET_training_mask\", \"training\", \"images\")\n",
    "if not os.path.isdir(os.path.join(mask_dir_im)):\n",
    "    os.makedirs(mask_dir_lb)\n",
    "    os.makedirs(mask_dir_im)\n",
    "\n",
    "label_list = sorted(glob(os.path.join(emb_dir, \"annotations\", \"*\")))\n",
    "image_list = sorted(glob(os.path.join(emb_dir, \"images\", \"*\")))\n",
    "\n",
    "for i in tqdm(range(len(image_list))):\n",
    "\n",
    "    image_name = path_leaf(image_list[i])\n",
    "    anno_path = glob(os.path.join(emb_dir, \"annotations\", image_name[0:19] + \"*\"))\n",
    "    # loa\n",
    "    im = io.imread(image_list[i])\n",
    "\n",
    "    if len(anno_path) >0:\n",
    "        lb = io.imread(anno_path[0])\n",
    "         # make alternative labels\n",
    "        lb_mask = lb.copy()\n",
    "        lb_mask[lb_mask==2] = 1\n",
    "    \n",
    "        lb_via = lb.copy()\n",
    "        lb_via[lb_via==1] = 0\n",
    "        lb_via[lb_via==2] = 1\n",
    "\n",
    "        io.imsave(os.path.join(mask_dir_lb, image_name), lb_mask, check_contrast=False)\n",
    "        io.imsave(os.path.join(via_dir_lb, image_name), lb_via, check_contrast=False)\n",
    "        \n",
    "    # save\n",
    "    io.imsave(os.path.join(mask_dir_im, image_name), im, check_contrast=False)\n",
    "    io.imsave(os.path.join(via_dir_im, image_name), im, check_contrast=False)"
   ]
  },
  {
   "cell_type": "code",
   "execution_count": null,
   "metadata": {},
   "outputs": [],
   "source": [
    "import skimage.io as io\n",
    "\n",
    "emb_dir = os.path.join(unet_root[:-1], \"UNET_training_emb\", \"training\") \n",
    "via_dir_lb = os.path.join(unet_root[:-1], \"UNET_training_via\", \"training\", \"annotations\") \n",
    "via_dir_im = os.path.join(unet_root[:-1], \"UNET_training_via\", \"training\", \"images\") \n",
    "if not os.path.isdir(os.path.join(via_dir_im)):\n",
    "    os.makedirs(via_dir_lb)\n",
    "    os.makedirs(via_dir_im)\n",
    "    \n",
    "mask_dir_lb = os.path.join(unet_root[:-1], \"UNET_training_mask\", \"training\", \"annotations\")\n",
    "mask_dir_im = os.path.join(unet_root[:-1], \"UNET_training_mask\", \"training\", \"images\")\n",
    "if not os.path.isdir(os.path.join(mask_dir_im)):\n",
    "    os.makedirs(mask_dir_lb)\n",
    "    os.makedirs(mask_dir_im)\n",
    "\n",
    "label_list = sorted(glob(os.path.join(emb_dir, \"annotations\", \"*\")))\n",
    "image_list = sorted(glob(os.path.join(emb_dir, \"images\", \"*\")))\n",
    "\n",
    "for i in tqdm(range(len(image_list))):\n",
    "\n",
    "    image_name = path_leaf(image_list[i])\n",
    "    anno_path = glob(os.path.join(emb_dir, \"annotations\", image_name[0:19] + \"*\"))\n",
    "    # loa\n",
    "    im = io.imread(image_list[i])\n",
    "\n",
    "    if len(anno_path) >0:\n",
    "        lb = io.imread(anno_path[0])\n",
    "         # make alternative labels\n",
    "        lb_mask = lb.copy()\n",
    "        lb_mask[lb_mask==2] = 1\n",
    "    \n",
    "        lb_via = lb.copy()\n",
    "        lb_via[lb_via==1] = 0\n",
    "        lb_via[lb_via==2] = 1\n",
    "\n",
    "        io.imsave(os.path.join(mask_dir_lb, image_name), lb_mask, check_contrast=False)\n",
    "        io.imsave(os.path.join(via_dir_lb, image_name), lb_via, check_contrast=False)\n",
    "        \n",
    "    # save\n",
    "    io.imsave(os.path.join(mask_dir_im, image_name), im, check_contrast=False)\n",
    "    io.imsave(os.path.join(via_dir_im, image_name), im, check_contrast=False)"
   ]
  },
  {
   "cell_type": "code",
   "execution_count": null,
   "metadata": {},
   "outputs": [],
   "source": [
    "/media/nick/hdd02/Cole Trapnell's Lab Dropbox/Nick Lammers/Nick/morphseq/built_image_data/unet_training/UNET_training_emb/training/annotations/"
   ]
  }
 ],
 "metadata": {
  "kernelspec": {
   "display_name": "morphseq-env",
   "language": "python",
   "name": "morphseq-env"
  },
  "language_info": {
   "codemirror_mode": {
    "name": "ipython",
    "version": 3
   },
   "file_extension": ".py",
   "mimetype": "text/x-python",
   "name": "python",
   "nbconvert_exporter": "python",
   "pygments_lexer": "ipython3",
   "version": "3.10.13"
  }
 },
 "nbformat": 4,
 "nbformat_minor": 4
}
