{
 "cells": [
  {
   "cell_type": "code",
   "execution_count": null,
   "metadata": {},
   "outputs": [],
   "source": [
    "import os\n",
    "import numpy as np\n",
    "import pandas as pd\n",
    "import plotly.express as px\n",
    "import plotly.graph_objects as go\n",
    "import plotly.offline as pyo\n",
    "\n",
    "pyo.init_notebook_mode()"
   ]
  },
  {
   "cell_type": "code",
   "execution_count": null,
   "metadata": {},
   "outputs": [],
   "source": [
    "from glob2 import glob\n",
    "\n",
    "root = \"/Users/nick/Cole Trapnell's Lab Dropbox/Nick Lammers/Nick/morphseq/\"\n",
    "train_name = \"20240507\"\n",
    "model_name = \"VAE_z100_ne250_base_model\"\n",
    "training_name = \"VAE_training_2024-05-07_21-11-49\" # \"SeqVAE_training_2024-01-09_13-17-47\"\n",
    "train_dir = os.path.join(root, \"training_data\", train_name)\n",
    "output_dir = os.path.join(train_dir, model_name) \n",
    "\n",
    "# get path to model\n",
    "training_path = os.path.join(output_dir, training_name)\n",
    "\n",
    "read_path = os.path.join(training_path, \"figures\", \"\")\n",
    "# path to figures and data\n",
    "fig_root = \"/Users/nick/Cole Trapnell's Lab Dropbox/Nick Lammers/Nick/slides/20240515/\"\n",
    "figure_path = os.path.join(fig_root, training_name, )\n",
    "if not os.path.isdir(figure_path):\n",
    "    os.makedirs(figure_path)"
   ]
  },
  {
   "cell_type": "code",
   "execution_count": null,
   "metadata": {},
   "outputs": [],
   "source": [
    "# load datasets\n",
    "umap_df = pd.read_csv(os.path.join(read_path, \"umap_df.csv\"), index_col=0)\n",
    "meta_df = pd.read_csv(os.path.join(read_path, \"meta_summary_df.csv\"), index_col=0)\n",
    "age_key = pd.read_csv(os.path.join(root, \"metadata\", \"age_key_df.csv\"))\n",
    "\n",
    "umap_df = umap_df.merge(age_key.loc[:, [\"snip_id\", \"inferred_stage_hpf_reg\"]], how=\"left\", on=\"snip_id\")\n",
    "# metric_df = pd.read_csv(os.path.join(figure_path, \"metric_df.csv\"), index_col=0)"
   ]
  },
  {
   "cell_type": "code",
   "execution_count": null,
   "metadata": {},
   "outputs": [],
   "source": [
    "np.unique(umap_df[\"master_perturbation\"])\n",
    "pert_key = dict({'DMSO':\"WT\", 'Fgf_025':\"Chem\", 'Fgf_050':\"Chem\", 'Fgf_075':\"Chem\", 'Fgf_100':\"Chem\", \n",
    "                 'Fgf_150':\"Chem\", 'H2B-mScarlet':\"WT\", 'Shh_025':\"Chem\", 'Shh_050':\"Chem\", 'Shh_075':\"Chem\", \n",
    "                 'Shh_100':\"Chem\", \"TGFB-i\":\"Chem\", \"Uncertain\": \"Other\", 'Wnt-i':\"Chem\", 'ethanol_ctrl':\"WT\", \n",
    "                 'gdf3':\"Gene\", 'lmx1b':\"Gene\", \"notch-i\":\"Chem\", \"noto\":\"Gene\", 'sox10GFP':\"WT\", \n",
    "                 'sox10GFP-inj-cr':\"Gene\", 'sox10GFP-inj-nick':\"Gene\", 'tbx5a-SG':\"WT\", 'tbxta':\"Gene\", 'wik':\"WT\",\n",
    "                 'wik-ctrl-inj':\"WT\",'wik-inj-ctrl':\"WT\"})\n",
    "\n",
    "cat_vec = [pert_key[pert] for pert in umap_df[\"master_perturbation\"].tolist()]\n",
    "umap_df[\"pert_class\"] = cat_vec"
   ]
  },
  {
   "cell_type": "code",
   "execution_count": null,
   "metadata": {},
   "outputs": [],
   "source": [
    "pert_count_df = umap_df.loc[:, [\"pert_class\", \"master_perturbation\", \n",
    "                                \"inferred_stage_hpf_reg\"]].groupby([\"pert_class\", \"master_perturbation\"\n",
    "                                                                   ],  as_index=False).agg(\n",
    "                                            {'inferred_stage_hpf_reg':['count', 'min', 'max']})\n",
    "\n",
    "# create an empty list to save the\n",
    "# names of the flattened columns\n",
    "flat_cols = []\n",
    " \n",
    "# iterate through this tuples and\n",
    "# join them as single string\n",
    "for ii, i in enumerate(pert_count_df.columns):\n",
    "    if ii < 2:\n",
    "        flat_cols.append(i[0])\n",
    "    else:\n",
    "        flat_cols.append(i[1])\n",
    " \n",
    "# columns to the grouped columns.\n",
    "pert_count_df.columns = flat_cols\n",
    "\n",
    "pert_count_df[\"stage_range\"] = pert_count_df[\"max\"] - pert_count_df[\"min\"]\n",
    "pert_count_df[\"stage_range_norm\"] = pert_count_df[\"stage_range\"] / np.max(pert_count_df[\"stage_range\"])\n",
    "\n",
    "pert_count_df[\"width_norm\"] = pert_count_df[\"count\"] / np.sum(pert_count_df[\"count\"]) * 360"
   ]
  },
  {
   "cell_type": "code",
   "execution_count": null,
   "metadata": {},
   "outputs": [],
   "source": [
    "pert_count_df.head()"
   ]
  },
  {
   "cell_type": "markdown",
   "metadata": {},
   "source": [
    "### What about sunburst?"
   ]
  },
  {
   "cell_type": "code",
   "execution_count": null,
   "metadata": {},
   "outputs": [],
   "source": [
    "import plotly.express as px\n",
    "import numpy as np\n",
    "\n",
    "fig = px.sunburst(pert_count_df, path=['pert_class', 'master_perturbation'], values='count', template=\"plotly\",\n",
    "                  color='pert_class', hover_data=['stage_range'],\n",
    "                  color_continuous_scale='RdBu')\n",
    "fig.show()"
   ]
  },
  {
   "cell_type": "markdown",
   "metadata": {},
   "source": [
    "### Let's try making a polar bar plot"
   ]
  },
  {
   "cell_type": "code",
   "execution_count": null,
   "metadata": {},
   "outputs": [],
   "source": [
    "import plotly.graph_objects as go\n",
    "\n",
    "fig = go.Figure(go.Barpolar(\n",
    "    r0=pert_count_df[\"min\"].to_numpy(),\n",
    "    r=pert_count_df[\"stage_range\"].to_numpy(),\n",
    "    theta=np.linspace(0, 360, pert_count_df.shape[0]),\n",
    "    #theta=[65, 15, 210, 110, 312.5, 180, 270],\n",
    "    width=pert_count_df[\"width_norm\"].to_numpy(),\n",
    "    marker_color=[\"#E4FF87\", '#709BFF', '#709BFF', '#FFAA70', '#FFAA70', '#FFDF70', '#B6FFB4'],\n",
    "    marker_line_color=\"black\",\n",
    "    marker_line_width=2,\n",
    "    opacity=0.8\n",
    "))\n",
    "\n",
    "fig.update_layout(\n",
    "    template=None,\n",
    "    polar = dict(\n",
    "        radialaxis = dict(range=[0, 72], showticklabels=False, ticks=''),\n",
    "        angularaxis = dict(showticklabels=False, ticks='')\n",
    "    )\n",
    ")\n",
    "\n",
    "fig.show()"
   ]
  },
  {
   "cell_type": "code",
   "execution_count": null,
   "metadata": {},
   "outputs": [],
   "source": [
    "import plotly.express as px\n",
    "import numpy as np\n",
    "# df = px.data.gapminder().query(\"year == 2007\")\n",
    "fig = px.treemap(pert_count_df, path=[\"pert_class\", 'master_perturbation'], values=\"counts\",\n",
    "                  color='counts', #hover_data=['iso_alpha'],\n",
    "                  color_continuous_scale='RdBu',\n",
    "                  color_continuous_midpoint=np.average(pert_count_df['counts'], weights=pert_count_df['counts']))\n",
    "fig.update_layout(margin = dict(t=50, l=25, r=25, b=25))\n",
    "fig.show()"
   ]
  },
  {
   "cell_type": "code",
   "execution_count": null,
   "metadata": {},
   "outputs": [],
   "source": [
    "import math\n",
    "color_var=\"predicted_stage_hpf\"\n",
    "marker_size=6\n",
    "marker_opacity=0.1\n",
    "angle=0\n",
    "\n",
    "fig = px.scatter_3d(umap_df, x=\"UMAP_00_3\", y=\"UMAP_01_3\", z=\"UMAP_02_3\",\n",
    "                            color=color_var, opacity=0.005,\n",
    "                            labels={'predicted_stage_hpf': \"age (hpf)\",\n",
    "                                    'master_perturbation': \"genotype\"},\n",
    "                           hover_data=[\"snip_id\"])\n",
    "        \n",
    "fig.update_traces(marker={'size': marker_size})\n",
    "\n",
    "fig.update_layout(template=\"plotly\")\n",
    "\n",
    "\n",
    "za = 0.5\n",
    "vec = np.asarray([math.cos(angle), math.sin(angle), za])\n",
    "vec = vec\n",
    "camera = dict(\n",
    "    eye=dict(x=vec[0], y=vec[1], z=vec[2]))\n",
    "\n",
    "fig.update_layout(scene_camera=camera, scene_dragmode='orbit')\n",
    "\n",
    "fig.update_layout(scene = dict(\n",
    "                xaxis_title='UMAP 1',\n",
    "                yaxis_title='UMAP 2',\n",
    "                zaxis_title='UMAP 3',\n",
    "                xaxis = dict(showticklabels=False),\n",
    "                yaxis = dict(showticklabels=False),\n",
    "                zaxis = dict(showticklabels=False)))\n",
    "\n",
    "fig.show()"
   ]
  },
  {
   "cell_type": "code",
   "execution_count": null,
   "metadata": {},
   "outputs": [],
   "source": [
    "fig = px.scatter_3d(umap_df.loc[wik_indices], x=\"UMAP_00_3\", y=\"UMAP_01_3\", z=\"UMAP_02_3\",\n",
    "                            color=color_var, opacity=0.005,\n",
    "                            labels={'predicted_stage_hpf': \"age (hpf)\",\n",
    "                                    'master_perturbation': \"genotype\"},  hover_data=[\"snip_id\"])\n",
    "        \n",
    "fig.update_traces(marker={'size': marker_size})\n",
    "\n",
    "fig.update_layout(template=\"plotly\")\n",
    "\n",
    "\n",
    "za = 0.5\n",
    "vec = np.asarray([math.cos(angle), math.sin(angle), za])\n",
    "vec = vec\n",
    "camera = dict(\n",
    "    eye=dict(x=vec[0], y=vec[1], z=vec[2]))\n",
    "\n",
    "fig.update_layout(scene_camera=camera, scene_dragmode='orbit')\n",
    "\n",
    "fig.update_layout(scene = dict(\n",
    "                xaxis_title='UMAP 1',\n",
    "                yaxis_title='UMAP 2',\n",
    "                zaxis_title='UMAP 3',\n",
    "                xaxis = dict(showticklabels=False),\n",
    "                yaxis = dict(showticklabels=False),\n",
    "                zaxis = dict(showticklabels=False)))\n",
    "\n",
    "fig.show()"
   ]
  },
  {
   "cell_type": "code",
   "execution_count": null,
   "metadata": {
    "jupyter": {
     "is_executing": true
    }
   },
   "outputs": [],
   "source": [
    "from sklearn.svm import OneClassSVM\n",
    "\n",
    "X = umap_df.loc[:, [\"UMAP_00_3\", \"UMAP_01_3\", \"UMAP_02_3\"]].to_numpy()\n",
    "clf = OneClassSVM(gamma='auto').fit(X)\n",
    "umap_df[\"outlier_flags\"] = clf.predict(X)"
   ]
  },
  {
   "cell_type": "code",
   "execution_count": null,
   "metadata": {
    "jupyter": {
     "is_executing": true
    }
   },
   "outputs": [],
   "source": [
    "fig = px.scatter_3d(umap_df.loc[wik_indices], x=\"UMAP_00_3\", y=\"UMAP_01_3\", z=\"UMAP_02_3\",\n",
    "                            color=\"outlier_flags\", opacity=0.05,\n",
    "                            labels={'predicted_stage_hpf': \"age (hpf)\",\n",
    "                                    'master_perturbation': \"genotype\"})\n",
    "        \n",
    "fig.update_traces(marker={'size': marker_size})\n",
    "\n",
    "fig.update_layout(template=\"plotly\")\n",
    "\n",
    "\n",
    "za = 0.5\n",
    "vec = np.asarray([math.cos(angle), math.sin(angle), za])\n",
    "vec = vec\n",
    "camera = dict(\n",
    "    eye=dict(x=vec[0], y=vec[1], z=vec[2]))\n",
    "\n",
    "fig.update_layout(scene_camera=camera, scene_dragmode='orbit')\n",
    "\n",
    "fig.update_layout(scene = dict(\n",
    "                xaxis_title='UMAP 1',\n",
    "                yaxis_title='UMAP 2',\n",
    "                zaxis_title='UMAP 3',\n",
    "                xaxis = dict(showticklabels=False),\n",
    "                yaxis = dict(showticklabels=False),\n",
    "                zaxis = dict(showticklabels=False)))\n",
    "\n",
    "fig.show()"
   ]
  },
  {
   "cell_type": "code",
   "execution_count": null,
   "metadata": {
    "jupyter": {
     "is_executing": true
    }
   },
   "outputs": [],
   "source": [
    "import math\n",
    "from tqdm import tqdm\n",
    "\n",
    "def make_rotating_figure(plot_df, angle_vec, frame_dir, marker_opacity=0.5, marker_size=6, color_var=None):\n",
    "\n",
    "    if color_var is None:\n",
    "        color_var = \"predicted_stage_hpf\"\n",
    "        \n",
    "    for iter_i, a in enumerate(tqdm(angle_vec)):\n",
    "        angle = a\n",
    "        za = 0.3\n",
    "        vec = np.asarray([math.cos(angle), math.sin(angle), za])\n",
    "        vec = vec*2\n",
    "        camera = dict(\n",
    "            eye=dict(x=vec[0], y=vec[1], z=vec[2]))\n",
    "        \n",
    "        fig = px.scatter_3d(plot_df, x=\"UMAP_00_bio_3\", y=\"UMAP_01_bio_3\", z=\"UMAP_02_bio_3\",\n",
    "                            color=color_var, opacity=marker_opacity,\n",
    "                            labels={'predicted_stage_hpf': \"age (hpf)\",\n",
    "                                    'master_perturbation': \"genotype\"})\n",
    "        \n",
    "        fig.update_traces(marker={'size': marker_size})\n",
    "        \n",
    "        fig.update_layout(template=\"plotly\")\n",
    "\n",
    "        fig.update_layout(scene_camera=camera, scene_dragmode='orbit')\n",
    "\n",
    "        fig.update_layout(scene = dict(\n",
    "                        xaxis_title='UMAP 1',\n",
    "                        yaxis_title='UMAP 2',\n",
    "                        zaxis_title='UMAP 3',\n",
    "                        xaxis = dict(showticklabels=False),\n",
    "                        yaxis = dict(showticklabels=False),\n",
    "                        zaxis = dict(showticklabels=False)))\n",
    "\n",
    "#         fig.update_layout(coloraxis_showscale=False)\n",
    "        \n",
    "#         fig.update_layout(\n",
    "#                 scene=dict(aspectratio=dict(x=1, y=1, z=1))\n",
    "#         )\n",
    "\n",
    "        fig.write_image(os.path.join(frame_dir, \"umap_scatter\" + \"_\" + color_var + f\"_{iter_i:03}\" + \".png\"), scale=2)\n",
    "            \n",
    "    return fig"
   ]
  },
  {
   "cell_type": "code",
   "execution_count": null,
   "metadata": {
    "jupyter": {
     "is_executing": true
    }
   },
   "outputs": [],
   "source": [
    "angle_vec = np.linspace(1.25*np.pi, 3.25*np.pi, 25)\n",
    "frame_dir = os.path.join(figure_path, \"hpf_umap_frames\", \"\")\n",
    "if not os.path.isdir(frame_dir):\n",
    "    os.makedirs(frame_dir)\n",
    "    \n",
    "fig = make_rotating_figure(umap_df.iloc[wik_indices], angle_vec, frame_dir)\n",
    "fig.show()"
   ]
  },
  {
   "cell_type": "code",
   "execution_count": null,
   "metadata": {
    "jupyter": {
     "is_executing": true
    }
   },
   "outputs": [],
   "source": [
    "frame_dir"
   ]
  },
  {
   "cell_type": "code",
   "execution_count": null,
   "metadata": {
    "jupyter": {
     "is_executing": true
    }
   },
   "outputs": [],
   "source": [
    "# look at the umap\n",
    "fig = px.scatter_3d(umap_df.iloc[wik_indices], x=\"UMAP_00_bio_3\", y=\"UMAP_01_bio_3\", z=\"UMAP_02_bio_3\",\n",
    "                         color='predicted_stage_hpf', opacity=0.5,\n",
    "                         template=\"plotly\")\n",
    "\n",
    "\n",
    "# fig.update_layout(\n",
    "#                 xaxis_title=\"UMAP 1\",\n",
    "#                 yaxis_title=\"UMAP 2\"\n",
    "#             )\n",
    "fig.update_traces(\n",
    "    marker=dict(size=6)\n",
    "    )\n",
    "\n",
    "\n",
    "fig.show()\n",
    "# fig.write_image(os.path.join(out_figure_path, \"UMAP_wt_scatter_bio.png\"))"
   ]
  },
  {
   "cell_type": "code",
   "execution_count": null,
   "metadata": {
    "jupyter": {
     "is_executing": true
    }
   },
   "outputs": [],
   "source": [
    "import plotly.graph_objects as go\n",
    "\n",
    "fig = px.scatter_3d(umap_df.iloc[wik_indices], x=\"UMAP_00_bio_3\", y=\"UMAP_01_bio_3\", z=\"UMAP_02_bio_3\",\n",
    "                         opacity=0.5,\n",
    "                         template=\"plotly\")\n",
    "\n",
    "fig.add_trace(go.Scatter3d(x=umap_df.loc[gdf3_indices, \"UMAP_00_bio_3\"],\n",
    "                           y=umap_df.loc[gdf3_indices, \"UMAP_01_bio_3\"],\n",
    "                           z=umap_df.loc[gdf3_indices, \"UMAP_02_bio_3\"],\n",
    "                           mode=\"markers\", \n",
    "                           marker=dict(opacity=0.5)))\n",
    "\n",
    "\n",
    "fig.update_traces(\n",
    "    marker=dict(size=6)\n",
    "    )\n",
    "\n",
    "\n",
    "fig.show()"
   ]
  },
  {
   "cell_type": "code",
   "execution_count": null,
   "metadata": {
    "jupyter": {
     "is_executing": true
    }
   },
   "outputs": [],
   "source": [
    "import plotly.graph_objects as go\n",
    "\n",
    "fig = go.Figure(data=[go.Histogram(x=metric_df.loc[:, \"euc_bio_rand\"], name=\"euc_bio_rand\")])\n",
    "fig.add_trace(go.Histogram(x=metric_df.loc[:, \"euc_bio\"], name=\"euc_bio\"))\n",
    "\n",
    "fig.add_trace(go.Histogram(x=metric_df.loc[:, \"euc_nbio_rand\"], name=\"euc_nbio_rand\"))\n",
    "fig.add_trace(go.Histogram(x=metric_df.loc[:, \"euc_nbio\"], name=\"euc_nbio\"))\n",
    "\n",
    "fig.show()"
   ]
  }
 ],
 "metadata": {
  "kernelspec": {
   "display_name": "Python 3 (ipykernel)",
   "language": "python",
   "name": "python3"
  },
  "language_info": {
   "codemirror_mode": {
    "name": "ipython",
    "version": 3
   },
   "file_extension": ".py",
   "mimetype": "text/x-python",
   "name": "python",
   "nbconvert_exporter": "python",
   "pygments_lexer": "ipython3",
   "version": "3.10.8"
  }
 },
 "nbformat": 4,
 "nbformat_minor": 4
}
