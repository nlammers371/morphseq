{
 "cells": [
  {
   "cell_type": "code",
   "execution_count": null,
   "metadata": {},
   "outputs": [],
   "source": [
    "import pandas as pd\n",
    "import plotly.express as px\n",
    "import numpy as np\n",
    "import plotly.offline as pyo\n",
    "from os.path import join, isdir\n",
    "from os import makedirs\n",
    "\n",
    "# path to shared dropbox folder\n",
    "dropbox_path = \"/Users/nick/Cole Trapnell's Lab Dropbox/Nick Lammers/Nick/morphseq/zfin/\"\n",
    "\n",
    "# path to subdirectory with built data\n",
    "zfin_data_dir = join(dropbox_path, \"20240326/built_data/\")"
   ]
  },
  {
   "cell_type": "markdown",
   "metadata": {},
   "source": [
    "## Load phenotype data files"
   ]
  },
  {
   "cell_type": "code",
   "execution_count": null,
   "metadata": {},
   "outputs": [],
   "source": [
    "# load full data files\n",
    "# these have one row per gene-phenotype. So one gene can have multiple entries if it present multiple phenotypes\n",
    "full_gene_df = pd.read_csv(join(zfin_data_dir, \"sing_mut_df.csv\")) # all genes with abnormal phenotype between 0 and 72 hpf.\n",
    "full_tf_df = pd.read_csv(join(zfin_data_dir, \"sing_mut_TF_df.csv\")) # only TFs\n",
    "\n",
    "# generate shortened datasets with just one row per gene\n",
    "# tf_df_short = pd.read_csv(join(zfin_data_dir, \"tf_df_short.csv\")) #\n",
    "tf_df_short = full_tf_df.loc[:,\n",
    "                                 [\"gene\", \"start_hpf\", \"end_hpf\", \"start_stage\", \"umap1\", \"umap2\", \"group\"]\n",
    "                                ].dropna().drop_duplicates().dropna().sort_values(by=\"group\")\n",
    "gene_df_short = full_gene_df.loc[:, \n",
    "                                 [\"gene\", \"start_hpf\", \"end_hpf\", \"start_stage\", \"umap1\", \"umap2\", \"group\"]\n",
    "                                ].dropna().drop_duplicates().dropna().sort_values(by=\"group\")\n",
    "\n",
    "\n",
    "# load phenotype data frame. This contains top 5 phenotypes per cluster\n",
    "pheno_df = pd.read_csv(join(zfin_data_dir, \"top_phenotypes_per_cluster.csv\"))\n",
    "pheno_df = pheno_df.dropna()\n",
    "n_keep = 5\n",
    "\n",
    "# switch from long to wide format\n",
    "group_iter = 0\n",
    "group_prev = -1\n",
    "for i in range(pheno_df.shape[0]):\n",
    "    group = pheno_df.loc[i, \"group\"]\n",
    "    if group != group_prev:\n",
    "        group_iter = -1\n",
    "    \n",
    "    group_iter += 1\n",
    "    pheno_df.loc[i, \"pheno_rank\"] = \"phenotype \" + str(group_iter)\n",
    "    \n",
    "    group_prev=group.copy()\n",
    "\n",
    "pheno_df = pheno_df.rename(columns={\"aff_struct_super_1\": \"phenotype\"})\n",
    "pheno_df = pheno_df.pivot(index=['group'], columns=['pheno_rank'], values=[\"phenotype\"])\n",
    "\n",
    "pheno_df.columns = pheno_df.columns.get_level_values(1)\n",
    "\n",
    "\n",
    "# join phenotype info onto TF and gene tables\n",
    "tf_df_short = tf_df_short.merge(pheno_df, how=\"left\", on=\"group\")\n",
    "gene_df_short = gene_df_short.merge(pheno_df, how=\"left\", on=\"group\")                                                                   "
   ]
  },
  {
   "cell_type": "markdown",
   "metadata": {},
   "source": [
    "## Look at distribution of phenotypes across all genes inzfin database"
   ]
  },
  {
   "cell_type": "code",
   "execution_count": null,
   "metadata": {},
   "outputs": [],
   "source": [
    "import plotly.graph_objects as go\n",
    "\n",
    "# get colormap\n",
    "cmap = px.colors.qualitative.Light24[::-1]\n",
    "\n",
    "# generate string version of the cluster group variable\n",
    "g_vec = gene_df_short.loc[:, \"group\"].values\n",
    "g_vec = [str(int(g)) for g in g_vec]\n",
    "gene_df_short[\"group_str\"] = g_vec\n",
    "\n",
    "gene_df_short = gene_df_short.reset_index(drop=True)\n",
    "\n",
    "# make scatter plot\n",
    "fig = px.scatter(gene_df_short, x=gene_df_short.loc[:, \"umap1\"], y=gene_df_short.loc[:, \"umap2\"]\n",
    "                ,hover_data=[\"gene\", \"phenotype 1\", \"phenotype 2\", \"phenotype 3\"])\n",
    "\n",
    "fig.update_traces(marker=dict(size=8, opacity=1, color=gene_df_short.loc[:, \"group\"],\n",
    "                              colorscale=cmap,\n",
    "                              line=dict(width=1, color=\"SlateGray\")))\n",
    "fig.update_layout(showlegend=False, template=\"plotly\", \n",
    "                  )\n",
    "fig.update_xaxes(title=\"UMAP 1\")\n",
    "fig.update_yaxes(title=\"UMAP 2\")\n",
    "\n",
    "fig.show()"
   ]
  },
  {
   "cell_type": "code",
   "execution_count": null,
   "metadata": {},
   "outputs": [],
   "source": [
    "# Note: this is a pointless piece of code that duplicates the TF df because data frame size controls\n",
    "# order of display for some god-forsaken reason\n",
    "# I will fix this\n",
    "tflist = []\n",
    "for i in range(10):\n",
    "    tflist.append(tf_df_short)\n",
    "\n",
    "tf_df_short = pd.concat(tflist,axis=0, ignore_index=True)\n",
    "tf_df_short = tf_df_short.sort_values(by=\"group\")\n",
    "tf_df_short = tf_df_short.reset_index(drop=True)"
   ]
  },
  {
   "cell_type": "markdown",
   "metadata": {},
   "source": [
    "## Overlay TFs"
   ]
  },
  {
   "cell_type": "code",
   "execution_count": null,
   "metadata": {},
   "outputs": [],
   "source": [
    "g_vec = tf_df_short.loc[:, \"group\"].values\n",
    "g_vec = [str(int(g)) for g in g_vec]\n",
    "tf_df_short[\"group_str\"] = g_vec\n",
    "tf_df_short = tf_df_short.sort_values(by=\"group\")\n",
    "tf_df_short = tf_df_short.reset_index(drop=True)\n",
    "\n",
    "\n",
    "\n",
    "fig = px.scatter(gene_df_short, x=\"umap1\", y=\"umap2\", color=\"group_str\", template=\"plotly\", \n",
    "                 color_discrete_sequence=cmap,\n",
    "                hover_data=[\"gene\", \"phenotype 1\", \"phenotype 2\", \"phenotype 3\"])\n",
    "\n",
    "fig.update_traces(marker=dict(size=8, opacity=0.25))\n",
    "\n",
    "fig2 = px.scatter(tf_df_short, x=\"umap1\", y=\"umap2\", color=\"group_str\", template=\"plotly\", \n",
    "                 color_discrete_sequence=cmap,\n",
    "                 hover_data=[\"gene\", \"phenotype 1\", \"phenotype 2\", \"phenotype 3\"])\n",
    "\n",
    "fig2.update_traces(marker_symbol=\"x\", marker=dict(size=8, opacity=0.5, line=dict(width=1, color=\"SlateGray\")))\n",
    "\n",
    "for d in range(len(fig2.data)):\n",
    "    fig.add_trace(fig2.data[d])\n",
    "    \n",
    "# fig.data = fig.data[::-1]\n",
    "    \n",
    "fig.update_layout(showlegend=False)\n",
    "fig.update_xaxes(title=\"UMAP 1\")\n",
    "fig.update_yaxes(title=\"UMAP 2\")\n",
    "\n",
    "#, line=dict(width=1, color=\"SlateGray\")))\n",
    "\n",
    "fig.show()"
   ]
  },
  {
   "cell_type": "markdown",
   "metadata": {},
   "source": [
    "**Key:** <br>\n",
    "         Circles = all genes <br>\n",
    "         Diamonds = transcription factors <br>"
   ]
  },
  {
   "cell_type": "markdown",
   "metadata": {},
   "source": [
    "## Add targets from the GAP paper"
   ]
  },
  {
   "cell_type": "code",
   "execution_count": null,
   "metadata": {},
   "outputs": [],
   "source": [
    "# read in list of targets from GAP paper\n",
    "gap_df = pd.read_csv(join(zfin_data_dir, \"GAP_paper_target_key.csv\"))\n",
    "\n",
    "# join on phenotype coordinates\n",
    "gap_df = gap_df.merge(gene_df_short.loc[:, [\"gene\", \"umap1\", \"umap2\", \"group\", \"group_str\"]], on=\"gene\", how=\"left\")\n",
    "gap_df = gap_df.dropna().sort_values(by=\"group\")\n",
    "\n",
    "gap_group_index =np.unique(gap_df[\"group\"])\n",
    "all_index = np.unique(gene_df_short[\"group\"])\n",
    "gap_df = gap_df.merge(pheno_df, how=\"left\", on=\"group\")\n",
    "\n",
    "\n",
    "# Note: this is a pointless piece of code that duplicates the GAP df because data frame size controls\n",
    "# order of display for some god-forsaken reason\n",
    "glist = []\n",
    "for i in range(50):\n",
    "    glist.append(gap_df)\n",
    "\n",
    "gap_df = pd.concat(glist,axis=0, ignore_index=True)\n",
    "gap_df = gap_df.sort_values(by=\"group\")\n",
    "gap_df = gap_df.reset_index(drop=True)"
   ]
  },
  {
   "cell_type": "code",
   "execution_count": null,
   "metadata": {},
   "outputs": [],
   "source": [
    "import plotly.graph_objects as go\n",
    "\n",
    "fig = go.Figure()\n",
    "\n",
    "# fig.add_trace(go.Scatter(x=gap_df.loc[:, \"umap1\"], y=gap_df.loc[:,\"umap2\"], mode=\"markers\",\n",
    "#                         marker_symbol=\"cross-thin\", \n",
    "#                          marker=dict(size=8, opacity=1, line=dict(width=1, color=\"black\"))))\n",
    "\n",
    "fig4 = px.scatter(tf_df_short, \n",
    "                  x=\"umap1\",\n",
    "                  y=\"umap2\",\n",
    "                  color=\"group_str\", template=\"plotly\", color_discrete_sequence=cmap,\n",
    "                 hover_data=[\"gene\", \"phenotype 1\", \"phenotype 2\", \"phenotype 3\"])\n",
    "fig4.update_traces(marker_symbol=\"diamond\", marker=dict(size=8, opacity=1, line=dict(width=1, color=\"black\")))\n",
    "\n",
    "fig1 = px.scatter(gene_df_short, \n",
    "                  x=\"umap1\",\n",
    "                  y=\"umap2\",\n",
    "                  color=\"group_str\", template=\"plotly\", \n",
    "                 color_discrete_sequence=cmap,\n",
    "                 hover_data=[\"gene\", \"phenotype 1\", \"phenotype 2\", \"phenotype 3\"])\n",
    "\n",
    "fig1.update_traces(marker=dict(size=8, opacity=0.25))\n",
    "\n",
    "\n",
    "# fig2 = px.scatter(x=gap_df.loc[:, \"umap1\"], y=gap_df.loc[:, \"umap2\"], template=\"plotly\",\n",
    "#                  color=gap_df.loc[:,\"group_str\"])\n",
    "# fig2.update_traces(marker_symbol=\"cross\", marker=dict(size=8, opacity=0.75, line=dict(width=1, color=\"black\")))\n",
    "fig2 = px.scatter(gap_df,\n",
    "                  x=\"umap1\",\n",
    "                  y=\"umap2\", \n",
    "                  color=\"group_str\", template=\"plotly\",\n",
    "                 hover_data=[\"gene\", \"phenotype 1\", \"phenotype 2\", \"phenotype 3\"])\n",
    "fig2.update_traces(marker_symbol=\"cross-thin\", marker=dict(size=8, opacity=1, line=dict(width=2, color=\"black\")))\n",
    "\n",
    "\n",
    "\n",
    "for d in range(len(fig1.data)):\n",
    "    fig.add_trace(fig1.data[d])\n",
    "    \n",
    "for d in range(len(fig4.data)):\n",
    "    fig.add_trace(fig4.data[d])   \n",
    "\n",
    "for d in range(len(fig2.data)):\n",
    "    fig.add_trace(fig2.data[d])\n",
    "    \n",
    "    \n",
    "fig.update_layout(showlegend=False)\n",
    "fig.update_xaxes(title=\"UMAP 1\")\n",
    "fig.update_yaxes(title=\"UMAP 2\")\n",
    "\n",
    "# fig.data = fig.data[::-1]    \n",
    "\n",
    "fig.show()"
   ]
  },
  {
   "cell_type": "markdown",
   "metadata": {
    "pycharm": {
     "is_executing": true
    }
   },
   "source": [
    "**Key:** <br>\n",
    "         Circles = all genes <br>\n",
    "         Diamonds = transcription factors <br>\n",
    "         Crosses = GAP targets"
   ]
  },
  {
   "cell_type": "code",
   "execution_count": null,
   "metadata": {},
   "outputs": [],
   "source": []
  }
 ],
 "metadata": {
  "kernelspec": {
   "display_name": "Python 3 (ipykernel)",
   "language": "python",
   "name": "python3"
  },
  "language_info": {
   "codemirror_mode": {
    "name": "ipython",
    "version": 3
   },
   "file_extension": ".py",
   "mimetype": "text/x-python",
   "name": "python",
   "nbconvert_exporter": "python",
   "pygments_lexer": "ipython3",
   "version": "3.10.8"
  }
 },
 "nbformat": 4,
 "nbformat_minor": 1
}
