{
 "cells": [
  {
   "cell_type": "code",
   "execution_count": null,
   "metadata": {},
   "outputs": [],
   "source": [
    "import numpy as np\n",
    "import pandas as pd\n",
    "import plotly.express as px\n",
    "import plotly.graph_objects as go\n",
    "import os\n",
    "import plotly.offline as pyo\n",
    "# Set notebook mode to work in offline\n",
    "pyo.init_notebook_mode()"
   ]
  },
  {
   "cell_type": "code",
   "execution_count": null,
   "metadata": {},
   "outputs": [],
   "source": [
    "# set path to data\n",
    "zfin_folder = \"/Users/nick/Cole Trapnell's Lab Dropbox/Nick Lammers/Nick/morphseq/zfin/20240312/\"\n",
    "\n",
    "gene_pheno_df = pd.read_csv(os.path.join(zfin_folder, \"phenoGeneCleanData_fish_2024.03.11.txt\"), sep=\"\\t\", header=1)\n",
    "gene_pheno_df.head()"
   ]
  },
  {
   "cell_type": "code",
   "execution_count": null,
   "metadata": {},
   "outputs": [],
   "source": [
    "prev_names_df = pd.read_csv(os.path.join(zfin_folder, \"aliases_2024.03.11.txt\"), sep=\"\\t\")\n",
    "prev_names_df.head()\n"
   ]
  },
  {
   "cell_type": "code",
   "execution_count": null,
   "metadata": {},
   "outputs": [],
   "source": [
    "gene_onto_df = pd.read_csv(os.path.join(zfin_folder, \"zfin_gene_ontology\"), sep=\"\\t\", \n",
    "                           usecols=[1,2,3,11], names=[\"Gene ID\", \"gene_name\", \"relation\", \"gene_type\"], header=36)\n",
    "gene_onto_df.head()"
   ]
  },
  {
   "cell_type": "code",
   "execution_count": null,
   "metadata": {},
   "outputs": [],
   "source": [
    "variant_ncbi_df = pd.read_csv(os.path.join(zfin_folder, \"VARIANT-ALLELE_NCBITaxon7955.tsv\"), sep=\"\\t\", header=14)\n",
    "variant_ncbi_df.head()"
   ]
  },
  {
   "cell_type": "markdown",
   "metadata": {},
   "source": [
    "### Merge phenotype DF with gene name df and use names to look for paralogs"
   ]
  },
  {
   "cell_type": "code",
   "execution_count": null,
   "metadata": {},
   "outputs": [],
   "source": [
    "gene_name_key = gene_onto_df.loc[gene_onto_df[\"gene_type\"]==\"protein_coding_gene\", [\"Gene ID\", \"gene_name\"]].drop_duplicates()\n",
    "\n",
    "gene_pheno_key = gene_pheno_df.loc[:, [\"Gene ID\"]].drop_duplicates()\n",
    "gene_pheno_key[\"has_phenotype\"] = 1\n",
    "\n",
    "print(gene_name_key.shape)\n",
    "print(gene_pheno_key.shape)"
   ]
  },
  {
   "cell_type": "code",
   "execution_count": null,
   "metadata": {},
   "outputs": [],
   "source": [
    "gene_pheno_key.head()"
   ]
  },
  {
   "cell_type": "code",
   "execution_count": null,
   "metadata": {},
   "outputs": [],
   "source": [
    "gene_key_out"
   ]
  },
  {
   "cell_type": "code",
   "execution_count": null,
   "metadata": {},
   "outputs": [],
   "source": [
    "write_dir = os.path.join(zfin_folder, \"build_datasets\", \"\")\n",
    "if not os.path.isdir(write_dir):\n",
    "    os.makedirs(write_dir)\n",
    "\n",
    "gene_key_out = gene_name_key.copy()\n",
    "gene_key_out.loc[:, \"Gene ID\"] = gene_key_out.loc[:, \"Gene ID\"].astype(str)\n",
    "gene_key_out = gene_key_out.loc[:, \"Gene ID\"]\n",
    "# gene_key_out[\"Gene ID\"] = gene_key_out[\"Gene ID\"].astype(str)\n",
    "gene_key_out.to_csv(os.path.join(write_dir, \"gene_key_df.tsv\"), sep=\"\\t\", index=False)\n",
    "\n",
    "pheno_gene_key_out = gene_pheno_key.copy()\n",
    "pheno_gene_key_out.loc[:, \"Gene ID\"] = pheno_gene_key_out.loc[:, \"Gene ID\"].astype(str)\n",
    "pheno_gene_key_out = pheno_gene_key_out.loc[:, \"Gene ID\"]\n",
    "# gene_key_out[\"Gene ID\"] = gene_key_out[\"Gene ID\"].astype(str)\n",
    "pheno_gene_key_out.to_csv(os.path.join(write_dir, \"pheno_gene_key_df.tsv\"), sep=\"\\t\", index=False)"
   ]
  },
  {
   "cell_type": "code",
   "execution_count": null,
   "metadata": {},
   "outputs": [],
   "source": [
    "# merge\n",
    "gene_df = gene_name_key.merge(gene_pheno_key, how=\"left\", on=\"Gene ID\")\n",
    "gene_df.loc[np.isnan(gene_df[\"has_phenotype\"]), \"has_phenotype\"] = 0\n",
    "\n",
    "gene_name_list = gene_df[\"gene_name\"].to_numpy().tolist()\n",
    "gene_name_root = [g[:-1] for g in gene_name_list]\n",
    "gene_suffix = [g[-1] for g in gene_name_list]\n",
    "\n",
    "possible_paralog_flag = [s in [\"a\", \"b\", \"c\", \"d\"] for s in gene_suffix]\n",
    "\n",
    "gene_df[\"gene_name_root\"] = gene_name_root\n",
    "gene_df[\"gene_suffix\"] = gene_suffix\n",
    "gene_df[\"possible_paralog_flag\"] = possible_paralog_flag\n",
    "gene_df.head()"
   ]
  },
  {
   "cell_type": "code",
   "execution_count": null,
   "metadata": {},
   "outputs": [],
   "source": [
    "paralog_index, paralog_ids, counts = np.unique(gene_df[\"gene_name_root\"], return_inverse=True, return_counts=True)\n",
    "\n",
    "counts_long = np.empty(paralog_ids.shape)\n",
    "valid_par_vec = gene_df.loc[:, \"possible_paralog_flag\"].to_numpy()\n",
    "counts_long[:] = np.nan\n",
    "\n",
    "for p, pi in enumerate(paralog_index):\n",
    "    valid_paralogs = valid_par_vec[paralog_ids==p]\n",
    "    counts_long[(paralog_ids==p) & valid_par_vec] = np.sum(valid_paralogs==True)\n",
    "\n",
    "gene_df[\"paralog_ID\"] = paralog_ids.astype(np.uint16)\n",
    "gene_df[\"n_paralogs\"] = counts_long.astype(np.uint16)\n",
    "gene_df.loc[gene_df[\"possible_paralog_flag\"]==False, \"paralog_ID\"] = np.nan\n",
    "gene_df.loc[gene_df[\"possible_paralog_flag\"]==False, \"n_paralogs\"] = np.nan\n",
    "\n",
    "gene_df.head()"
   ]
  },
  {
   "cell_type": "code",
   "execution_count": null,
   "metadata": {},
   "outputs": [],
   "source": [
    "paralog_df = gene_df.loc[gene_df[\"n_paralogs\"] > 1, [\"Gene ID\", \"gene_name\", \"gene_name_root\", \n",
    "                                                     \"gene_suffix\", \"has_phenotype\", \"paralog_ID\", \"n_paralogs\"]]\n",
    "\n",
    "paralog_df = paralog_df.sort_values(by=[\"gene_name_root\", \"gene_suffix\"])\n",
    "\n",
    "paralog_df.reset_index(inplace=True, drop=True)\n",
    "\n",
    "print(paralog_df.shape)\n",
    "print(len(np.unique(paralog_df[\"paralog_ID\"])))\n",
    "paralog_df.head(10)"
   ]
  },
  {
   "cell_type": "markdown",
   "metadata": {},
   "source": [
    "### Now look for paralog groups with differing phenotype flags\n",
    "I'm interested in cases where one paralog has a documented phenotype and the other(s) does not"
   ]
  },
  {
   "cell_type": "code",
   "execution_count": null,
   "metadata": {},
   "outputs": [],
   "source": [
    "paralog_index = np.unique(paralog_df[\"paralog_ID\"])\n",
    "\n",
    "pheno_class_vec = np.zeros(paralog_index.shape)\n",
    "\n",
    "for p, pi in enumerate(paralog_index):\n",
    "    pheno_flags = paralog_df.loc[paralog_df[\"paralog_ID\"]==pi, \"has_phenotype\"].to_numpy()\n",
    "    if np.all(pheno_flags==0):\n",
    "        paralog_df.loc[paralog_df[\"paralog_ID\"]==pi, \"phenotype_class\"] = 0\n",
    "        pheno_class_vec[p] = 0\n",
    "    elif np.all(pheno_flags==1):\n",
    "        paralog_df.loc[paralog_df[\"paralog_ID\"]==pi, \"phenotype_class\"] = 2\n",
    "        pheno_class_vec[p] = 2\n",
    "    else:\n",
    "        paralog_df.loc[paralog_df[\"paralog_ID\"]==pi, \"phenotype_class\"] = 1\n",
    "        pheno_class_vec[p] = 1"
   ]
  },
  {
   "cell_type": "code",
   "execution_count": null,
   "metadata": {},
   "outputs": [],
   "source": [
    "class_index, counts = np.unique(pheno_class_vec, return_counts=True)\n",
    "print(class_index)\n",
    "print(counts)"
   ]
  },
  {
   "cell_type": "code",
   "execution_count": null,
   "metadata": {},
   "outputs": [],
   "source": [
    "paralog_df.loc[(paralog_df[\"n_paralogs\"]>2) & (paralog_df[\"phenotype_class\"]==1), :].drop_duplicates(subset=\"gene_name_root\")\n",
    "\n"
   ]
  },
  {
   "cell_type": "code",
   "execution_count": null,
   "metadata": {},
   "outputs": [],
   "source": [
    "gene_df.loc[gene_df[\"gene_name_root\"]==\"dusp\"]"
   ]
  },
  {
   "cell_type": "code",
   "execution_count": null,
   "metadata": {},
   "outputs": [],
   "source": []
  }
 ],
 "metadata": {
  "kernelspec": {
   "display_name": "Python 3 (ipykernel)",
   "language": "python",
   "name": "python3"
  },
  "language_info": {
   "codemirror_mode": {
    "name": "ipython",
    "version": 3
   },
   "file_extension": ".py",
   "mimetype": "text/x-python",
   "name": "python",
   "nbconvert_exporter": "python",
   "pygments_lexer": "ipython3",
   "version": "3.10.8"
  }
 },
 "nbformat": 4,
 "nbformat_minor": 1
}
