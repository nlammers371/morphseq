{
 "cells": [
  {
   "cell_type": "code",
   "execution_count": null,
   "id": "0",
   "metadata": {},
   "outputs": [],
   "source": [
    "import plotly.express as px\n",
    "import plotly.graph_objects as go\n",
    "import pandas as pd\n",
    "import numpy as np\n",
    "import os"
   ]
  },
  {
   "cell_type": "code",
   "execution_count": null,
   "id": "1",
   "metadata": {},
   "outputs": [],
   "source": [
    "root = \"/Users/nick/Cole Trapnell's Lab Dropbox/Nick Lammers/Nick/morphseq/\"\n",
    "metadata_df = pd.read_csv(os.path.join(root, \"metadata\", \"combined_metadata_files\", \"embryo_metadata_df01.csv\"))\n",
    "metadata_df = metadata_df.loc[metadata_df[\"use_embryo_flag\"]==1, :]\n",
    "np.mean(metadata_df[\"use_embryo_flag\"])"
   ]
  },
  {
   "cell_type": "code",
   "execution_count": null,
   "id": "2",
   "metadata": {},
   "outputs": [],
   "source": [
    "np.unique(metadata_df[\"experiment_date\"].astype(str))"
   ]
  },
  {
   "cell_type": "markdown",
   "id": "3",
   "metadata": {},
   "source": [
    "### Look at embryo length vs. predicted stage"
   ]
  },
  {
   "cell_type": "code",
   "execution_count": null,
   "id": "4",
   "metadata": {},
   "outputs": [],
   "source": [
    "sample_date = \"20231206\"\n",
    "metadata_df[\"experiment_date\"] = metadata_df[\"experiment_date\"].astype(str)\n",
    "ft = (metadata_df[\"experiment_date\"]==sample_date)# & (metadata_df[\"embryo_id\"]==\"20230531_D03_e00\")\n",
    "fig = px.scatter(metadata_df.loc[ft, :], \n",
    "                 x=\"predicted_stage_hpf\", y=\"surface_area_um\", color=\"use_embryo_flag\", hover_data={\"snip_id\"})\n",
    "fig.show()"
   ]
  },
  {
   "cell_type": "markdown",
   "id": "5",
   "metadata": {},
   "source": [
    "### Write outline for stage calibration function that uses embryo length"
   ]
  },
  {
   "cell_type": "markdown",
   "id": "6",
   "metadata": {},
   "source": [
    "#### Build reference key"
   ]
  },
  {
   "cell_type": "code",
   "execution_count": null,
   "id": "7",
   "metadata": {},
   "outputs": [],
   "source": [
    "ref_date01 = \"20230620\"\n",
    "stage_df01 = metadata_df.loc[metadata_df[\"experiment_date\"]==ref_date01, [\"snip_id\", \"embryo_id\", \"predicted_stage_hpf\", \"surface_area_um\", \"length_um\", \"use_embryo_flag\"]].reset_index(drop=True)\n",
    "# ref_bool = (stage_df.loc[:, \"phenotype\"].to_numpy() == \"wt\") | (stage_df.loc[:, \"control_flag\"].to_numpy() == 1)\n",
    "# ref_bool = ref_bool | (stage_df.loc[:, \"phenotype\"].to_numpy() == \"uncertain\")\n",
    "# ref_bool = ref_bool & stage_df[\"use_embryo_flag\"]\n",
    "# stage_df = stage_df.loc[ref_bool]\n",
    "stage_df01[\"stage_group_hpf\"] = np.round(stage_df01[\"predicted_stage_hpf\"])\n",
    "stage_key_df01 = stage_df01.groupby('stage_group_hpf').quantile(.90).reset_index()\n",
    "\n",
    "ref_date02 = \"20240626\"\n",
    "stage_df02 = metadata_df.loc[metadata_df[\"experiment_date\"]==ref_date02, [\"snip_id\", \"embryo_id\", \"predicted_stage_hpf\", \"surface_area_um\", \"length_um\", \"use_embryo_flag\"]].reset_index(drop=True)\n",
    "stage_df02[\"stage_group_hpf\"] = np.round(stage_df02[\"predicted_stage_hpf\"])\n",
    "stage_key_df02 = stage_df02.groupby('stage_group_hpf').quantile(.90).reset_index()\n",
    "\n",
    "stage_key_df = pd.concat([stage_key_df01.loc[stage_key_df01[\"predicted_stage_hpf\"] <= 12, :], stage_key_df02], axis=0, ignore_index=True)\n",
    "\n",
    "fig = px.scatter(stage_key_df, x=\"stage_group_hpf\", y=\"surface_area_um\")\n",
    "fig.show()"
   ]
  },
  {
   "cell_type": "code",
   "execution_count": null,
   "id": "8",
   "metadata": {},
   "outputs": [],
   "source": [
    "import scipy\n",
    "\n",
    "# A vs time\n",
    "ref_time_vec = stage_key_df[\"stage_group_hpf\"]\n",
    "ref_sa_vec = stage_key_df[\"surface_area_um\"]\n",
    "\n",
    "\n",
    "def sigmoid(params, t_vec=ref_time_vec):\n",
    "    sa_pd = params[0] + params[1]* np.divide(t_vec**params[2], params[3]**params[2] + t_vec**params[2])\n",
    "    return sa_pd\n",
    "\n",
    "# define loss\n",
    "def loss_fun(params, sa=ref_sa_vec):\n",
    "    loss = sigmoid(params) - ref_sa_vec\n",
    "    return loss\n",
    "\n",
    "# def height_fun(params, repo_areas=repo_lengths[boot_indices]):\n",
    "#         h = np.divide(params[0] * repo_areas**params[2], (params[1]**params[2] + repo_areas**params[2]))\n",
    "#         return h\n",
    "\n",
    "# def loss_fun(params, repo_heights=repo_heights[boot_indices]):\n",
    "#     h_hat = height_fun(params)\n",
    "#     return repo_heights - h_hat\n",
    "\n",
    "x0 = [3e5, 1.9e6, 2, 24] \n",
    "# sigmoid(x0)\n",
    "params_fit = scipy.optimize.least_squares(loss_fun, x0, bounds=[(0, 0, 0, 0), (np.inf, np.inf, np.inf, np.inf)])\n",
    "\n",
    "print(params_fit)\n",
    "full_time = np.linspace(0, 96)\n",
    "sa_pd = sigmoid(params_fit.x, t_vec=full_time)\n",
    "\n",
    "fig = px.scatter(stage_key_df, x=\"stage_group_hpf\", y=\"surface_area_um\")\n",
    "fig.add_trace(go.Scatter(x=full_time, y=sa_pd, mode=\"lines\"))\n",
    "fig.show()\n"
   ]
  },
  {
   "cell_type": "code",
   "execution_count": null,
   "id": "9",
   "metadata": {},
   "outputs": [],
   "source": [
    "# save \n",
    "stage_ref_df = pd.DataFrame(full_time, columns=[\"stage_hpf\"])\n",
    "stage_ref_df[\"sa_um\"] = sa_pd\n",
    "stage_ref_df.to_csv(os.path.join(root, \"metadata\", \"stage_ref_df.csv\"), index=False)\n",
    "\n",
    "param_df = pd.DataFrame([params_fit.x], columns=[\"offset\", \"sa_max\", \"hill_coeff\", \"inflection_point\"])\n",
    "param_df.to_csv(os.path.join(root, \"metadata\", \"stage_ref_params.csv\"), index=False)\n",
    "\n",
    "param_df.head()"
   ]
  },
  {
   "cell_type": "code",
   "execution_count": null,
   "id": "10",
   "metadata": {},
   "outputs": [],
   "source": [
    "def t_from_sa(params, sa_vec):\n",
    "    t_pd = params[3] * np.divide(sa_vec-params[0], params[1] - sa_vec + params[0])**(1/params[2])\n",
    "    return t_pd\n",
    "\n",
    "t_test = t_from_sa(params_fit.x, sa_pd)\n",
    "\n",
    "px.scatter(x=full_time, y=t_test)"
   ]
  },
  {
   "cell_type": "code",
   "execution_count": null,
   "id": "11",
   "metadata": {},
   "outputs": [],
   "source": []
  }
 ],
 "metadata": {
  "kernelspec": {
   "display_name": "Python 3 (ipykernel)",
   "language": "python",
   "name": "python3"
  },
  "language_info": {
   "codemirror_mode": {
    "name": "ipython",
    "version": 3
   },
   "file_extension": ".py",
   "mimetype": "text/x-python",
   "name": "python",
   "nbconvert_exporter": "python",
   "pygments_lexer": "ipython3",
   "version": "3.10.8"
  }
 },
 "nbformat": 4,
 "nbformat_minor": 5
}
