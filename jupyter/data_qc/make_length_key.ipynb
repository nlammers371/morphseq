{
 "cells": [
  {
   "cell_type": "code",
   "execution_count": null,
   "id": "0",
   "metadata": {},
   "outputs": [],
   "source": [
    "import numpy as np\n",
    "import pandas as pd\n",
    "import plotly.express as px\n",
    "import plotly.graph_objects as go\n",
    "import os"
   ]
  },
  {
   "cell_type": "code",
   "execution_count": null,
   "id": "1",
   "metadata": {},
   "outputs": [],
   "source": [
    "root = \"/Users/nick/Cole Trapnell's Lab Dropbox/Nick Lammers/Nick/morphseq/\"\n",
    "metadata_path = os.path.join(root, \"metadata\", \"\")\n",
    "\n",
    "stage_vec_hpf = [24, 30, 36, 48, 60, 72]\n",
    "length_vec_um = [2.1, 2.42, 2.9, 3.21, 3.48, 3.76]\n",
    "length_key = pd.DataFrame(stage_vec_hpf, columns=[\"stage_hpf\"])\n",
    "length_key[\"length_um\"] = length_vec_um\n",
    "\n",
    "# write to file\n",
    "# length_key.to_csv(metadata_path + \"stage_length_key.csv\", index=False)\n",
    "\n",
    "px.scatter(length_key, x=\"stage_hpf\", y=\"length_um\")"
   ]
  },
  {
   "cell_type": "markdown",
   "id": "2",
   "metadata": {},
   "source": [
    "### Interpolate to get a length-to-stage key"
   ]
  },
  {
   "cell_type": "code",
   "execution_count": null,
   "id": "3",
   "metadata": {},
   "outputs": [],
   "source": [
    "import scipy \n",
    "time_vec = np.arange(24, 73)\n",
    "interp_cubic = scipy.interpolate.interp1d(stage_vec_hpf, length_vec_um, kind=\"cubic\")\n",
    "length_interp_cu = interp_cubic(time_vec)\n",
    "interp_lin = scipy.interpolate.interp1d(stage_vec_hpf, length_vec_um, kind=\"linear\")\n",
    "length_interp_lin = interp_lin(time_vec)\n",
    "\n",
    "fig = px.scatter(length_key, x=\"stage_hpf\", y=\"length_um\")\n",
    "fig.add_trace(go.Scatter(x=time_vec, y=length_interp_cu, mode=\"lines\"))\n",
    "fig.add_trace(go.Scatter(x=time_vec, y=length_interp_lin, mode=\"lines\"))\n",
    "fig.show()"
   ]
  },
  {
   "cell_type": "code",
   "execution_count": null,
   "id": "4",
   "metadata": {},
   "outputs": [],
   "source": [
    "stage_length_key = pd.DataFrame(time_vec, columns=[\"stage_hpf\"])\n",
    "stage_length_key[\"length_mm_cu\"] = length_interp_cu\n",
    "stage_length_key[\"length_mm_lin\"] = length_interp_lin\n",
    "\n",
    "# write to file\n",
    "stage_length_key.to_csv(metadata_path + \"stage_length_key.csv\", index=False)"
   ]
  },
  {
   "cell_type": "code",
   "execution_count": null,
   "id": "5",
   "metadata": {},
   "outputs": [],
   "source": []
  }
 ],
 "metadata": {
  "kernelspec": {
   "display_name": "Python 3 (ipykernel)",
   "language": "python",
   "name": "python3"
  },
  "language_info": {
   "codemirror_mode": {
    "name": "ipython",
    "version": 3
   },
   "file_extension": ".py",
   "mimetype": "text/x-python",
   "name": "python",
   "nbconvert_exporter": "python",
   "pygments_lexer": "ipython3",
   "version": "3.10.8"
  }
 },
 "nbformat": 4,
 "nbformat_minor": 5
}
