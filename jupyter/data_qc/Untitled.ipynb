{
 "cells": [
  {
   "cell_type": "raw",
   "id": "0",
   "metadata": {
    "pycharm": {
     "name": ""
    }
   },
   "source": []
  }
 ],
 "metadata": {},
 "nbformat": 4,
 "nbformat_minor": 5
}
