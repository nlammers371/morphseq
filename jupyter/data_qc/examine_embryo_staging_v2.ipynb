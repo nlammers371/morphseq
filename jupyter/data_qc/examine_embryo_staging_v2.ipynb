{
 "cells": [
  {
   "cell_type": "code",
   "execution_count": null,
   "metadata": {},
   "outputs": [],
   "source": [
    "import plotly.express as px\n",
    "import plotly.graph_objects as go\n",
    "import pandas as pd\n",
    "import numpy as np\n",
    "import os"
   ]
  },
  {
   "cell_type": "code",
   "execution_count": null,
   "metadata": {},
   "outputs": [],
   "source": [
    "# load age key\n",
    "# root = \"/media/nick/hdd02/Cole Trapnell's Lab Dropbox/Nick Lammers/Nick/morphseq/\"\n",
    "# root = \"/net/trapnell/vol1/home/nlammers/projects/data/morphseq/\"\n",
    "root = \"/Users/nick/Cole Trapnell's Lab Dropbox/Nick Lammers/Nick/morphseq/\"\n",
    "# root = \"/Users/nick/Desktop/\"\n",
    "\n",
    "metadata_path = os.path.join(root, \"metadata\", \"combined_metadata_files\")\n",
    "embryo_df = pd.read_csv(os.path.join(metadata_path, \"embryo_metadata_df02.csv\"))\n",
    "\n",
    "# remove rows and add variables\n",
    "morph_experiments = []#\"20230830\", \"20230831\", \"20231207\", \"20231208\"]\n",
    "ref_experiments = [\"20240626\"]\n",
    "# generate an absolute referemce\n",
    "# eid_vec = np.asarray([snip[:12] for snip in age_key_df[\"snip_id\"]])\n",
    "# date_vec = np.asarray([snip[:8] for snip in age_key_df[\"snip_id\"]])\n",
    "# age_key_df[\"embryo_id\"] = eid_vec\n",
    "# age_key_df[\"experiment_date\"] = date_vec\n",
    "eid_vec = embryo_df[\"embryo_id\"].to_numpy()\n",
    "eid_index = np.unique(eid_vec)\n",
    "embryo_df[\"abs_stage_hpf\"] = np.nan\n",
    "\n",
    "for eid in eid_index:\n",
    "    abs_time_vec = embryo_df.loc[eid_vec==eid, \"Time Rel (s)\"].to_numpy() / 3600\n",
    "    snip_id0 = embryo_df.loc[eid_vec==eid, \"snip_id\"].to_numpy()[0]\n",
    "    time_int = int(snip_id0[-4:])\n",
    "    if time_int > 1:\n",
    "        abs_time_vec = abs_time_vec - abs_time_vec[0]\n",
    "    pd_stage_vec = embryo_df.loc[eid_vec==eid, \"inferred_stage_hpf\"].to_numpy()\n",
    "    embryo_df.loc[eid_vec==eid, \"abs_stage_hpf\"] = pd_stage_vec[0] + abs_time_vec\n",
    "\n",
    "    \n",
    "embryo_df[\"experiment_date\"] = embryo_df[\"experiment_date\"].astype(str)\n",
    "\n",
    "embryo_df = embryo_df.loc[embryo_df[\"use_embryo_flag\"]==1, :]\n",
    "# ref_flags = np.asarray([True if embryo_df.loc[i, \"experiment_date\"] in ref_experiments\n",
    "#                          else False for i in embryo_df.index])\n"
   ]
  },
  {
   "cell_type": "markdown",
   "metadata": {},
   "source": [
    "### Plot inferred stage vs. prediction using simple linear formula"
   ]
  },
  {
   "cell_type": "code",
   "execution_count": null,
   "metadata": {},
   "outputs": [],
   "source": [
    "fig = px.scatter(embryo_df, x=\"predicted_stage_hpf\", y=\"inferred_stage_hpf\",opacity=0.25,\n",
    "                 color=\"experiment_date\", template=\"plotly\")\n",
    "\n",
    "fig.update(layout_yaxis_range = [0,80])\n",
    "fig.update(layout_xaxis_range = [0,80])\n",
    "\n",
    "fig.update_scenes(aspectmode='data')\n",
    "fig.show()"
   ]
  },
  {
   "cell_type": "code",
   "execution_count": null,
   "metadata": {},
   "outputs": [],
   "source": [
    "# import pandas as pd\n",
    "# import plotly.express as px\n",
    "# import os \n",
    "# import numpy as np\n",
    "\n",
    "# root = \"/Users/nick/Cole Trapnell's Lab Dropbox/Nick Lammers/Nick/morphseq/\"\n",
    "# metadata_path = os.path.join(root, \"metadata\", \"combined_metadata_files\")\n",
    "                             \n",
    "# embryo_df = pd.read_csv(os.path.join(metadata_path, \"embryo_metadata_df.csv\"), index_col=0)\n",
    "# embryo_df.head()"
   ]
  },
  {
   "cell_type": "code",
   "execution_count": null,
   "metadata": {},
   "outputs": [],
   "source": [
    "# old_df = pd.read_csv(os.path.join(metadata_path, \"_Archive\", \"embryo_metadata_df01.csv\"))\n",
    "# old_df.head()"
   ]
  },
  {
   "cell_type": "code",
   "execution_count": null,
   "metadata": {},
   "outputs": [],
   "source": [
    "# old_merge_skel = old_df.loc[:, [\"snip_id\", \"out_of_frame_flag\"]].drop_duplicates(subset=\"snip_id\")\n",
    "# print(old_merge_skel.shape)\n",
    "\n",
    "# embryo_df_merge = embryo_df.drop_duplicates(subset=\"snip_id\")\n",
    "# print(embryo_df.shape)\n",
    "\n",
    "# embryo_df01 = embryo_df_merge.merge(old_merge_skel, how=\"left\", on=\"snip_id\", indicator=True)\n",
    "# print(np.mean(embryo_df01[\"_merge\"]==\"both\"))\n",
    "# embryo_df01 = embryo_df01.drop(labels=[\"_merge\"], axis=1)\n",
    "# embryo_df01.head()"
   ]
  },
  {
   "cell_type": "code",
   "execution_count": null,
   "metadata": {},
   "outputs": [],
   "source": [
    "# embryo_df01.to_csv(os.path.join(metadata_path, \"embryo_metadata_df01.csv\"), index=False)"
   ]
  },
  {
   "cell_type": "code",
   "execution_count": null,
   "metadata": {},
   "outputs": [],
   "source": [
    "# embryo_df_merge.to_csv(os.path.join(metadata_path, \"embryo_metadata_df.csv\"), index=False)"
   ]
  },
  {
   "cell_type": "code",
   "execution_count": null,
   "metadata": {},
   "outputs": [],
   "source": [
    "fig = px.scatter(embryo_df.loc[embryo_df[\"experiment_date\"]==\"20231110\", :], x=\"predicted_stage_hpf\", y=\"length_um\",opacity=0.25,\n",
    "                 color=\"experiment_date\", template=\"plotly\")\n",
    "fig.show()"
   ]
  },
  {
   "cell_type": "code",
   "execution_count": null,
   "metadata": {},
   "outputs": [],
   "source": [
    "stage_df = pd.read_csv(os.path.join(root, \"stage_ref_df.csv\"), index_col=0)\n",
    "stage_df.head()\n",
    "\n",
    "px.scatter(stage_df, x=\"stage_hpf\", y=\"sa_um\")"
   ]
  },
  {
   "cell_type": "markdown",
   "metadata": {},
   "source": [
    "### Plot inferred stage vs. real time"
   ]
  },
  {
   "cell_type": "code",
   "execution_count": null,
   "metadata": {},
   "outputs": [],
   "source": [
    "fig = px.scatter(age_key_df, x=\"abs_stage_hpf\", y=\"inferred_stage_hpf_reg\",opacity=0.25,\n",
    "                 color=\"experiment_date\", template=\"plotly\")\n",
    "fig.show()"
   ]
  },
  {
   "cell_type": "code",
   "execution_count": null,
   "metadata": {},
   "outputs": [],
   "source": [
    "fig = px.scatter(age_key_df.loc[age_key_df[\"experiment_date\"].astype(str)==\"20240509\", :], \n",
    "                 x=\"calc_stage_hpf\", y=\"inferred_stage_hpf_reg\",opacity=0.75,\n",
    "                 color=\"short_pert_name\", template=\"plotly\", hover_data={\"embryo_id\"})\n",
    "fig.show()"
   ]
  },
  {
   "cell_type": "code",
   "execution_count": null,
   "metadata": {},
   "outputs": [],
   "source": [
    "dispersion = age_key_df.loc[age_key_df[\"experiment_date\"].astype(str)==\"20231206\", :].groupby(\n",
    "                'embryo_id')[['calc_stage_hpf', 'abs_stage_hpf']].agg(lambda x: x.max() - x.min()).reset_index()"
   ]
  },
  {
   "cell_type": "code",
   "execution_count": null,
   "metadata": {},
   "outputs": [],
   "source": [
    "px.scatter(dispersion, x=\"abs_stage_hpf\", y=\"calc_stage_hpf\")"
   ]
  },
  {
   "cell_type": "code",
   "execution_count": null,
   "metadata": {},
   "outputs": [],
   "source": [
    "start_df = age_key_df.loc[age_key_df[\"experiment_date\"].astype(str)==\"20231206\", :].groupby(\n",
    "                'embryo_id')[['calc_stage_hpf', 'abs_stage_hpf']].agg(['max', 'min']).reset_index()\n",
    "\n",
    "start_df.columns = ['_'.join(col).strip() if isinstance(col, tuple) else col for col in start_df.columns]\n",
    "start_df.head()"
   ]
  },
  {
   "cell_type": "code",
   "execution_count": null,
   "metadata": {},
   "outputs": [],
   "source": [
    "px.scatter(start_df, x=\"calc_stage_hpf_min\", y=\"calc_stage_hpf_max\")"
   ]
  },
  {
   "cell_type": "code",
   "execution_count": null,
   "metadata": {},
   "outputs": [],
   "source": [
    "px.scatter(start_df, x=\"abs_stage_hpf_min\", y=\"abs_stage_hpf_max\")"
   ]
  },
  {
   "cell_type": "markdown",
   "metadata": {},
   "source": [
    "#### That is super weird. Let's check the embryo df to see if the issue is there as well"
   ]
  },
  {
   "cell_type": "code",
   "execution_count": null,
   "metadata": {},
   "outputs": [],
   "source": [
    "data_path = \"/Users/nick/Cole Trapnell's Lab Dropbox/Nick Lammers/Nick/morphseq/training_data/20241008/VAE_z100_ne250_base_model/VAE_training_2024-10-08_21-40-44/figures/embryo_stats_df.csv\"\n",
    "embryo_df = pd.read_csv(data_path, index_col=0)\n",
    "embryo_df.head()\n",
    "\n",
    "metadata_df = pd.read_csv(\"/Users/nick/Cole Trapnell's Lab Dropbox/Nick Lammers/Nick/morphseq/training_data/20241008/embryo_metadata_df_train.csv\")\n",
    "metadata_df = metadata_df.loc[:, [\"snip_id\", \"temperature\", \"embryo_id\", \"Time Rel (s)\"]]\n",
    "\n",
    "# add temperature and \n",
    "embryo_df = embryo_df.merge(metadata_df, on=\"snip_id\", how=\"left\")\n",
    "embryo_df.reset_index(inplace=True, drop=True)\n",
    "\n",
    "embryo_df.head()"
   ]
  },
  {
   "cell_type": "code",
   "execution_count": null,
   "metadata": {},
   "outputs": [],
   "source": [
    "embryo_df = embryo_df.rename(columns={\"Time Rel (s)\":\"time_rel\"})\n",
    "embryo_df[\"time_rel\"] = embryo_df[\"time_rel\"] / 3600\n",
    "start_df2 = embryo_df.loc[embryo_df[\"experiment_date\"].astype(str)==\"20231206\", :].groupby(\n",
    "                'embryo_id')[['predicted_stage_hpf', 'time_rel']].agg(['max', 'min']).reset_index()\n",
    "\n",
    "start_df2.columns = ['_'.join(col).strip() if isinstance(col, tuple) else col for col in start_df2.columns]\n",
    "start_df2.head()"
   ]
  },
  {
   "cell_type": "code",
   "execution_count": null,
   "metadata": {},
   "outputs": [],
   "source": [
    "px.scatter(start_df2, x=\"predicted_stage_hpf_min\", y=\"time_rel_max\")"
   ]
  },
  {
   "cell_type": "code",
   "execution_count": null,
   "metadata": {},
   "outputs": [],
   "source": [
    "px.scatter(age_key_df.loc[age_key_df[\"experiment_date\"]==\"20231206\", :], x=\"calc_stage_hpf\", y=\"abs_time_hr\")"
   ]
  },
  {
   "cell_type": "code",
   "execution_count": null,
   "metadata": {},
   "outputs": [],
   "source": []
  }
 ],
 "metadata": {
  "kernelspec": {
   "display_name": "Python 3 (ipykernel)",
   "language": "python",
   "name": "python3"
  },
  "language_info": {
   "codemirror_mode": {
    "name": "ipython",
    "version": 3
   },
   "file_extension": ".py",
   "mimetype": "text/x-python",
   "name": "python",
   "nbconvert_exporter": "python",
   "pygments_lexer": "ipython3",
   "version": "3.10.8"
  }
 },
 "nbformat": 4,
 "nbformat_minor": 4
}
