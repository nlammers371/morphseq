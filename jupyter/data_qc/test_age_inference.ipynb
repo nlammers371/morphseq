{
 "cells": [
  {
   "cell_type": "code",
   "execution_count": null,
   "id": "0",
   "metadata": {},
   "outputs": [],
   "source": [
    "import plotly.express as px\n",
    "import plotly.graph_objects as go\n",
    "import pandas as pd\n",
    "import numpy as np\n",
    "import os"
   ]
  },
  {
   "cell_type": "code",
   "execution_count": null,
   "id": "1",
   "metadata": {},
   "outputs": [],
   "source": [
    "root = \"/Users/nick/Cole Trapnell's Lab Dropbox/Nick Lammers/Nick/morphseq/\"\n",
    "metadata_df = pd.read_csv(os.path.join(root, \"metadata\", \"combined_metadata_files\", \"embryo_metadata_df01.csv\"))\n",
    "metadata_df = metadata_df.loc[metadata_df[\"use_embryo_flag\"]==1, :]\n",
    "np.mean(metadata_df[\"use_embryo_flag\"])"
   ]
  },
  {
   "cell_type": "code",
   "execution_count": null,
   "id": "2",
   "metadata": {},
   "outputs": [],
   "source": [
    "np.unique(metadata_df[\"experiment_date\"].astype(str))"
   ]
  },
  {
   "cell_type": "markdown",
   "id": "3",
   "metadata": {},
   "source": [
    "### Look at embryo length vs. predicted stage"
   ]
  },
  {
   "cell_type": "code",
   "execution_count": null,
   "id": "4",
   "metadata": {},
   "outputs": [],
   "source": [
    "sample_date = \"20240306\"\n",
    "metadata_df[\"experiment_date\"] = metadata_df[\"experiment_date\"].astype(str)\n",
    "ft = (metadata_df[\"experiment_date\"]==sample_date)# & (metadata_df[\"embryo_id\"]==\"20230531_D03_e00\")\n",
    "fig = px.scatter(metadata_df.loc[ft, :], \n",
    "                 x=\"predicted_stage_hpf\", y=\"surface_area_um\", color=\"use_embryo_flag\", hover_data={\"snip_id\"})\n",
    "fig.show()"
   ]
  },
  {
   "cell_type": "markdown",
   "id": "5",
   "metadata": {},
   "source": [
    "### Write outline for stage calibration function that uses embryo length"
   ]
  },
  {
   "cell_type": "markdown",
   "id": "6",
   "metadata": {},
   "source": [
    "#### Build reference key"
   ]
  },
  {
   "cell_type": "code",
   "execution_count": null,
   "id": "7",
   "metadata": {},
   "outputs": [],
   "source": [
    "ref_date01 = \"20230620\"\n",
    "stage_df01 = metadata_df.loc[metadata_df[\"experiment_date\"]==ref_date01, [\"snip_id\", \"embryo_id\", \"predicted_stage_hpf\", \"surface_area_um\", \"length_um\", \"use_embryo_flag\"]].reset_index(drop=True)\n",
    "# ref_bool = (stage_df.loc[:, \"phenotype\"].to_numpy() == \"wt\") | (stage_df.loc[:, \"control_flag\"].to_numpy() == 1)\n",
    "# ref_bool = ref_bool | (stage_df.loc[:, \"phenotype\"].to_numpy() == \"uncertain\")\n",
    "# ref_bool = ref_bool & stage_df[\"use_embryo_flag\"]\n",
    "# stage_df = stage_df.loc[ref_bool]\n",
    "stage_df01[\"stage_group_hpf\"] = np.round(stage_df01[\"predicted_stage_hpf\"])\n",
    "stage_key_df01 = stage_df01.groupby('stage_group_hpf').quantile(.90).reset_index()\n",
    "\n",
    "ref_date02 = \"20240626\"\n",
    "stage_df02 = metadata_df.loc[metadata_df[\"experiment_date\"]==ref_date02, [\"snip_id\", \"embryo_id\", \"predicted_stage_hpf\", \"surface_area_um\", \"length_um\", \"use_embryo_flag\"]].reset_index(drop=True)\n",
    "stage_df02[\"stage_group_hpf\"] = np.round(stage_df02[\"predicted_stage_hpf\"])\n",
    "stage_key_df02 = stage_df02.groupby('stage_group_hpf').quantile(.90).reset_index()\n",
    "\n",
    "stage_key_df = pd.concat([stage_key_df01.loc[stage_key_df01[\"predicted_stage_hpf\"] <= 12, :], stage_key_df02], axis=0, ignore_index=True)\n",
    "\n",
    "fig = px.scatter(stage_key_df, x=\"stage_group_hpf\", y=\"surface_area_um\")\n",
    "fig.show()"
   ]
  },
  {
   "cell_type": "code",
   "execution_count": null,
   "id": "8",
   "metadata": {},
   "outputs": [],
   "source": [
    "import scipy\n",
    "\n",
    "# A vs time\n",
    "ref_time_vec = stage_key_df[\"stage_group_hpf\"]\n",
    "ref_sa_vec = stage_key_df[\"surface_area_um\"]\n",
    "\n",
    "\n",
    "def sigmoid(params, t_vec=ref_time_vec):\n",
    "    sa_pd = params[0] + params[1]* np.divide(t_vec**params[2], params[3]**params[2] + t_vec**params[2])\n",
    "    return sa_pd\n",
    "\n",
    "# define loss\n",
    "def loss_fun(params, sa=ref_sa_vec):\n",
    "    loss = sigmoid(params) - ref_sa_vec\n",
    "    return loss\n",
    "\n",
    "# def height_fun(params, repo_areas=repo_lengths[boot_indices]):\n",
    "#         h = np.divide(params[0] * repo_areas**params[2], (params[1]**params[2] + repo_areas**params[2]))\n",
    "#         return h\n",
    "\n",
    "# def loss_fun(params, repo_heights=repo_heights[boot_indices]):\n",
    "#     h_hat = height_fun(params)\n",
    "#     return repo_heights - h_hat\n",
    "\n",
    "x0 = [3e5, 1.6e6, 2, 24] \n",
    "# sigmoid(x0)\n",
    "params_fit = scipy.optimize.least_squares(loss_fun, x0, bounds=[(0, 0, 0, 0), (np.inf, np.inf, np.inf, np.inf)])\n",
    "\n",
    "print(params_fit)\n",
    "full_time = np.linspace(0, 96)\n",
    "sa_pd = sigmoid(params_fit.x, t_vec=full_time)\n",
    "\n",
    "fig = px.scatter(stage_key_df, x=\"stage_group_hpf\", y=\"surface_area_um\")\n",
    "fig.add_trace(go.Scatter(x=full_time, y=sa_pd, mode=\"lines\"))\n",
    "fig.show()\n"
   ]
  },
  {
   "cell_type": "code",
   "execution_count": null,
   "id": "9",
   "metadata": {},
   "outputs": [],
   "source": [
    "# save \n",
    "stage_ref_df ="
   ]
  },
  {
   "cell_type": "code",
   "execution_count": null,
   "id": "10",
   "metadata": {},
   "outputs": [],
   "source": []
  },
  {
   "cell_type": "markdown",
   "id": "11",
   "metadata": {},
   "source": [
    "### Test on a sample dataset"
   ]
  },
  {
   "cell_type": "code",
   "execution_count": null,
   "id": "12",
   "metadata": {},
   "outputs": [],
   "source": [
    "register_date = \"20240813_30hpf\"\n",
    "register_df = metadata_df.loc[metadata_df[\"experiment_date\"].astype(str)==register_date, \n",
    "                              [\"snip_id\", \"embryo_id\", \"time_int\",\"short_pert_name\", \n",
    "                        \"phenotype\", \"control_flag\", \"predicted_stage_hpf\", \"length_um\", \"use_embryo_flag\"]].reset_index(drop=True)\n",
    "\n",
    "# check for multiple age cohorts\n",
    "min_t = np.min(register_df[\"time_int\"])\n",
    "cohort_key = register_df.loc[register_df[\"time_int\"]==min_t, [\"embryo_id\", \"predicted_stage_hpf\"]]\n",
    "age_u, age_cohort = np.unique(np.round(cohort_key[\"predicted_stage_hpf\"]/ 2.5) * 2.5, return_inverse=True)\n",
    "cohort_key[\"cohort_id\"] = age_cohort\n",
    "\n",
    "# join onto main df\n",
    "register_df = register_df.merge(cohort_key.loc[:, [\"embryo_id\", \"cohort_id\"]], how=\"left\", on=\"embryo_id\")\n",
    "\n",
    "# calculate length percentiles\n",
    "ref_bool = (register_df.loc[:, \"phenotype\"].to_numpy() == \"wt\") | (register_df.loc[:, \"control_flag\"].to_numpy() == 1)\n",
    "ref_bool = ref_bool #& register_df[\"use_embryo_flag\"]\n",
    "\n",
    "register_df = register_df.loc[ref_bool]\n",
    "register_df[\"stage_group_hpf\"] = np.round(register_df[\"predicted_stage_hpf\"])\n",
    "register_key_df = register_df.groupby(['stage_group_hpf', \"cohort_id\"]).quantile(.95).reset_index()\n",
    "\n",
    "fig = px.scatter(register_key_df, x=\"stage_group_hpf\", y=\"length_um\", color=\"cohort_id\")\n",
    "fig.show()"
   ]
  },
  {
   "cell_type": "code",
   "execution_count": null,
   "id": "13",
   "metadata": {},
   "outputs": [],
   "source": [
    "import scipy \n",
    "\n",
    "interp = scipy.interpolate.interp1d(stage_key_df[\"length_um\"], stage_key_df[\"stage_group_hpf\"], \n",
    "                                    kind=\"linear\", fill_value=np.nan, bounds_error=False)\n",
    "\n",
    "ref_hpf_interp = interp(register_key_df[\"length_um\"])\n",
    "register_key_df[\"stage_hpf_interp\"] = ref_hpf_interp\n",
    "\n",
    "fig = px.scatter(register_key_df, x=\"stage_group_hpf\", y=\"stage_hpf_interp\", color=\"cohort_id\")\n",
    "fig.show()"
   ]
  },
  {
   "cell_type": "markdown",
   "id": "14",
   "metadata": {},
   "source": [
    "#### Fit simple linear regression model"
   ]
  },
  {
   "cell_type": "code",
   "execution_count": null,
   "id": "15",
   "metadata": {},
   "outputs": [],
   "source": [
    "import statsmodels.api as sm\n",
    "\n",
    "\n",
    "Y = register_key_df['stage_hpf_interp']\n",
    "\n",
    "nan_ft = ~np.isnan(Y)\n",
    "\n",
    "\n",
    "X = register_key_df[['stage_group_hpf', 'cohort_id']] #, columns=['cohort_id'], drop_first=True)\n",
    "X = X.rename(columns={'stage_group_hpf':'stage'})\n",
    "X[\"stage2\"] = X[\"stage\"]**2\n",
    "X[\"interaction\"] = np.prod(X[['stage', 'cohort_id']].to_numpy(), axis=1)\n",
    "X[\"interaction2\"] = np.prod(X[['stage2', 'cohort_id']].to_numpy(), axis=1)\n",
    "\n",
    "# Add a constant (intercept term) to the predictor matrix\n",
    "# X = sm.add_constant(X)\n",
    "\n",
    "X_ft = X[nan_ft]\n",
    "Y_ft = Y[nan_ft]\n",
    "\n",
    "# Fit the OLS regression model\n",
    "model = sm.OLS(Y_ft, X_ft).fit()\n",
    "\n",
    "# Print the regression results\n",
    "print(model.summary())"
   ]
  },
  {
   "cell_type": "code",
   "execution_count": null,
   "id": "16",
   "metadata": {},
   "outputs": [],
   "source": [
    "fig = px.scatter(register_key_df, x=\"stage_group_hpf\", y=\"stage_hpf_interp\", color=\"cohort_id\")\n",
    "fig.update_layout(coloraxis_showscale=False)\n",
    "predictions = model.predict(X)\n",
    "g0 = X[\"cohort_id\"]==0\n",
    "g1 = X[\"cohort_id\"]==1\n",
    "fig.add_trace(go.Scatter(x=X.loc[g0, \"stage\"], y=predictions[g0], mode=\"lines\"))\n",
    "fig.add_trace(go.Scatter(x=X.loc[g1, \"stage\"], y=predictions[g1], mode=\"lines\"))\n",
    "fig.show()\n"
   ]
  },
  {
   "cell_type": "code",
   "execution_count": null,
   "id": "17",
   "metadata": {},
   "outputs": [],
   "source": [
    "from sklearn.linear_model import Ridge\n",
    "\n",
    "Y = register_key_df['stage_hpf_interp']\n",
    "\n",
    "# Fit a Ridge model (which includes regularization)\n",
    "ridge_model = Ridge(alpha=100.0, fit_intercept=True)  # Regularization strength controlled by alpha\n",
    "ridge_model.fit(X, Y)\n",
    "\n",
    "# Coefficients (including the intercept)\n",
    "print(f\"Intercept: {ridge_model.intercept_}\")\n",
    "print(f\"Other Coefficients: {ridge_model.coef_}\")"
   ]
  },
  {
   "cell_type": "markdown",
   "id": "18",
   "metadata": {},
   "source": [
    "### Use length deciles to estimate stage"
   ]
  },
  {
   "cell_type": "code",
   "execution_count": null,
   "id": "19",
   "metadata": {},
   "outputs": [],
   "source": [
    "metadata_path = os.path.join(root, \"metadata\", \"\")\n",
    "length_key = pd.read_csv(metadata_path + \"stage_length_key.csv\")\n",
    "px.scatter(length_key, x=\"length_mm_lin\", y=\"stage_hpf\")"
   ]
  },
  {
   "cell_type": "code",
   "execution_count": null,
   "id": "20",
   "metadata": {},
   "outputs": [],
   "source": [
    "import scipy \n",
    "\n",
    "interp = scipy.interpolate.interp1d(length_key[\"length_mm_lin\"], length_key[\"stage_hpf\"], \n",
    "                                    kind=\"linear\", fill_value=np.nan, bounds_error=False)\n",
    "\n",
    "stage_hpf_interp = interp(length_df[\"length_mm\"])\n",
    "length_df[\"stage_hpf_interp\"] = stage_hpf_interp\n",
    "\n",
    "fig = px.scatter(length_df, x=\"stage_group\", y=\"stage_hpf_interp\")\n",
    "fig.show()"
   ]
  },
  {
   "cell_type": "code",
   "execution_count": null,
   "id": "21",
   "metadata": {},
   "outputs": [],
   "source": [
    "length_df[\"length_mm\"]"
   ]
  },
  {
   "cell_type": "code",
   "execution_count": null,
   "id": "22",
   "metadata": {},
   "outputs": [],
   "source": []
  }
 ],
 "metadata": {
  "kernelspec": {
   "display_name": "Python 3 (ipykernel)",
   "language": "python",
   "name": "python3"
  },
  "language_info": {
   "codemirror_mode": {
    "name": "ipython",
    "version": 3
   },
   "file_extension": ".py",
   "mimetype": "text/x-python",
   "name": "python",
   "nbconvert_exporter": "python",
   "pygments_lexer": "ipython3",
   "version": "3.10.8"
  }
 },
 "nbformat": 4,
 "nbformat_minor": 5
}
