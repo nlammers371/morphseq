{
 "cells": [
  {
   "cell_type": "code",
   "execution_count": 1,
   "id": "f5394be4",
   "metadata": {},
   "outputs": [],
   "source": [
    "import plotly.express as px\n",
    "import pandas as pd\n",
    "import numpy as np\n",
    "import umap.umap_ as umap\n",
    "import os"
   ]
  },
  {
   "cell_type": "code",
   "execution_count": 20,
   "id": "7be951f4",
   "metadata": {},
   "outputs": [],
   "source": [
    "read_dir = \"/Users/nick/Cole Trapnell's Lab Dropbox/Nick Lammers/Nick/morphseq/morphseq_analyses/lmx1b\"\n",
    "figure_dir = \"/Users/nick/Cole Trapnell's Lab Dropbox/Nick Lammers/Nick/slides/20240207/\"\n",
    "master_df_ref = pd.read_csv(os.path.join(read_dir, \"morphseq_df.csv\"), index_col=0)\n",
    "hooke_latent_df = pd.read_csv(os.path.join(read_dir, \"hooke_latent_df_clean.csv\"))\n",
    "morph_df = pd.read_csv(os.path.join(read_dir, \"morph_latent_df_clean.csv\"))"
   ]
  },
  {
   "cell_type": "code",
   "execution_count": 198,
   "id": "e8c47d97",
   "metadata": {},
   "outputs": [
    {
     "data": {
      "text/plain": [
       "(174, 432)"
      ]
     },
     "execution_count": 198,
     "metadata": {},
     "output_type": "execute_result"
    }
   ],
   "source": [
    "master_df_ref.shape"
   ]
  },
  {
   "cell_type": "markdown",
   "id": "22bea560",
   "metadata": {},
   "source": [
    "#### Can hooke latent space predict distance morphological distance from WT reference? "
   ]
  },
  {
   "cell_type": "code",
   "execution_count": 190,
   "id": "25964f60",
   "metadata": {},
   "outputs": [],
   "source": [
    "from sklearn.neural_network import MLPRegressor\n",
    "\n",
    "n_train = 100\n",
    "np.random.seed(314)\n",
    "option_vec = master_df_ref.index\n",
    "train_indices = np.random.choice(option_vec, n_train, replace=False)\n",
    "test_indices = np.asarray([i for i in option_vec if i not in train_indices])\n",
    "\n",
    "# get test and train datasets\n",
    "Y_train = master_df_ref.loc[train_indices, \"ctrl_dist_morph\"]\n",
    "nan_train_indices = np.isnan(Y_train)\n",
    "\n",
    "Y_train = Y_train[~nan_train_indices]\n",
    "Y_test = master_df_ref.loc[test_indices, \"ctrl_dist_morph\"]\n",
    "nan_test_indices = np.isnan(Y_test)\n",
    "Y_test = Y_test[~nan_test_indices]\n",
    "\n",
    "X_train = master_df_ref.loc[train_indices, [\"UMAP_hooke_00_3\", \"UMAP_hooke_01_3\", \"UMAP_hooke_02_3\"]]\n",
    "X_train = X_train.loc[~nan_train_indices, :]\n",
    "\n",
    "X_test = master_df_ref.loc[test_indices, [\"UMAP_hooke_00_3\", \"UMAP_hooke_01_3\", \"UMAP_hooke_02_3\"]]\n",
    "X_test = X_test.loc[~nan_test_indices, :]"
   ]
  },
  {
   "cell_type": "code",
   "execution_count": 191,
   "id": "9d7ee654",
   "metadata": {},
   "outputs": [
    {
     "name": "stdout",
     "output_type": "stream",
     "text": [
      "0.9388704818523632\n",
      "0.9183773204963906\n"
     ]
    }
   ],
   "source": [
    "# fit model\n",
    "regr_dist = MLPRegressor(random_state=1, max_iter=5000, hidden_layer_sizes=(500,))\n",
    "regr_dist.fit(X_train, Y_train)\n",
    "\n",
    "# get model scores\n",
    "reg_score_train = regr_dist.score(X_train, Y_train)\n",
    "reg_score_test = regr_dist.score(X_test, Y_test)\n",
    "\n",
    "print(reg_score_train)\n",
    "print(reg_score_test)"
   ]
  },
  {
   "cell_type": "code",
   "execution_count": 196,
   "id": "9106fb86",
   "metadata": {},
   "outputs": [
    {
     "data": {
      "text/html": [
       "<div>\n",
       "<style scoped>\n",
       "    .dataframe tbody tr th:only-of-type {\n",
       "        vertical-align: middle;\n",
       "    }\n",
       "\n",
       "    .dataframe tbody tr th {\n",
       "        vertical-align: top;\n",
       "    }\n",
       "\n",
       "    .dataframe thead th {\n",
       "        text-align: right;\n",
       "    }\n",
       "</style>\n",
       "<table border=\"1\" class=\"dataframe\">\n",
       "  <thead>\n",
       "    <tr style=\"text-align: right;\">\n",
       "      <th></th>\n",
       "      <th>morph_ctrl_dist_pd</th>\n",
       "      <th>morph_ctrl_dist_actual</th>\n",
       "      <th>master_perturbation</th>\n",
       "    </tr>\n",
       "  </thead>\n",
       "  <tbody>\n",
       "    <tr>\n",
       "      <th>0</th>\n",
       "      <td>1.646413</td>\n",
       "      <td>2.092099</td>\n",
       "      <td>lmx1b</td>\n",
       "    </tr>\n",
       "    <tr>\n",
       "      <th>1</th>\n",
       "      <td>1.226114</td>\n",
       "      <td>0.995113</td>\n",
       "      <td>wik-inj-ctrl</td>\n",
       "    </tr>\n",
       "    <tr>\n",
       "      <th>2</th>\n",
       "      <td>1.713180</td>\n",
       "      <td>1.865148</td>\n",
       "      <td>lmx1b</td>\n",
       "    </tr>\n",
       "    <tr>\n",
       "      <th>3</th>\n",
       "      <td>1.155698</td>\n",
       "      <td>0.601148</td>\n",
       "      <td>wik-inj-ctrl</td>\n",
       "    </tr>\n",
       "    <tr>\n",
       "      <th>4</th>\n",
       "      <td>1.617090</td>\n",
       "      <td>1.760015</td>\n",
       "      <td>lmx1b</td>\n",
       "    </tr>\n",
       "    <tr>\n",
       "      <th>5</th>\n",
       "      <td>1.697254</td>\n",
       "      <td>1.670301</td>\n",
       "      <td>lmx1b</td>\n",
       "    </tr>\n",
       "  </tbody>\n",
       "</table>\n",
       "</div>"
      ],
      "text/plain": [
       "   morph_ctrl_dist_pd  morph_ctrl_dist_actual master_perturbation\n",
       "0            1.646413                2.092099               lmx1b\n",
       "1            1.226114                0.995113        wik-inj-ctrl\n",
       "2            1.713180                1.865148               lmx1b\n",
       "3            1.155698                0.601148        wik-inj-ctrl\n",
       "4            1.617090                1.760015               lmx1b\n",
       "5            1.697254                1.670301               lmx1b"
      ]
     },
     "execution_count": 196,
     "metadata": {},
     "output_type": "execute_result"
    }
   ],
   "source": [
    "Y_test_pd = regr_dist.predict(X_test)\n",
    "\n",
    "res_df_test = pd.DataFrame(Y_test_pd[:, np.newaxis], columns=[\"morph_ctrl_dist_pd\"])\n",
    "res_df_test[\"morph_ctrl_dist_actual\"] = Y_test.to_numpy()\n",
    "\n",
    "pert = master_df_ref.loc[test_indices, [\"master_perturbation\"]].copy()\n",
    "pert = pert.loc[~nan_test_indices, :].to_numpy()\n",
    "                      \n",
    "                      \n",
    "res_df_test[\"master_perturbation\"] = pert\n",
    "\n",
    "res_df_test.head(6)"
   ]
  },
  {
   "cell_type": "code",
   "execution_count": 197,
   "id": "99cfdb73",
   "metadata": {},
   "outputs": [
    {
     "data": {
      "application/vnd.plotly.v1+json": {
       "config": {
        "plotlyServerURL": "https://plot.ly"
       },
       "data": [
        {
         "hovertemplate": "perturbation=lmx1b<br>predicted distance from WT reference=%{x}<br>actual distance from WT reference=%{y}<extra></extra>",
         "legendgroup": "lmx1b",
         "marker": {
          "color": "#636efa",
          "line": {
           "color": "DarkSlateGrey",
           "width": 1
          },
          "opacity": 0.8,
          "size": 10,
          "symbol": "circle"
         },
         "mode": "markers",
         "name": "lmx1b",
         "orientation": "v",
         "showlegend": true,
         "type": "scatter",
         "x": [
          1.6464128666552125,
          1.7131795212894703,
          1.617089549424441,
          1.6972540844375996,
          1.6240084948060083,
          1.6567780237400578,
          2.284142842222721,
          2.1602722525748863,
          2.212897847743691,
          2.693015090732958,
          2.260031705036968,
          2.055743477798435,
          2.695844868559467,
          2.2656512783152447,
          2.483424974526784,
          2.6110098550305194,
          2.1916608692537567,
          2.4912374359807794,
          1.9314738295731353,
          1.8586375469377165,
          1.2126333189040597,
          1.3543888695738289,
          1.4982263283057757,
          1.835420697390645,
          2.4252095869545034,
          1.280694020716633,
          3.3751595886176284,
          3.2864150110042134,
          3.286409894720302,
          3.4315566620513094,
          3.2853800496857453,
          3.3738361372177312,
          3.407817464653279,
          3.1896918052122354,
          3.2934185978733677,
          3.624709474558494,
          3.642258691698168,
          3.228960207839635,
          3.366758975812785,
          3.265259621534449,
          3.281354058941628,
          3.2858065171362094
         ],
         "xaxis": "x",
         "y": [
          2.092098886948005,
          1.8651475282527643,
          1.7600150952088165,
          1.670300688931419,
          4.198551072054666,
          2.8445981258951423,
          3.0193775805137437,
          2.111161587427146,
          4.095706289517205,
          3.0936049221057833,
          2.532677933594445,
          2.2149812303534953,
          4.8215753514153805,
          2.696613846592872,
          2.2737796580027503,
          2.865728519047535,
          0.6875335131147503,
          2.8617482170985276,
          1.9790567684621856,
          2.2958596438675407,
          2.468605639086686,
          2.2888540960509367,
          1.7483286359825276,
          2.068514282060622,
          2.4333781133686263,
          2.17360413039227,
          3.0160461520352957,
          3.1374781576749924,
          3.2378930079652166,
          2.5612024904056603,
          3.0792567896106706,
          3.4896503306671955,
          3.430930260261371,
          3.575692345337727,
          2.025905711888832,
          3.509238776856408,
          4.477959330221722,
          4.340176592822279,
          3.506122216637515,
          2.9796811553645473,
          2.6223093915788067,
          2.8014414547572724
         ],
         "yaxis": "y"
        },
        {
         "hovertemplate": "perturbation=wik-inj-ctrl<br>predicted distance from WT reference=%{x}<br>actual distance from WT reference=%{y}<extra></extra>",
         "legendgroup": "wik-inj-ctrl",
         "marker": {
          "color": "#EF553B",
          "line": {
           "color": "DarkSlateGrey",
           "width": 1
          },
          "opacity": 0.8,
          "size": 10,
          "symbol": "circle"
         },
         "mode": "markers",
         "name": "wik-inj-ctrl",
         "orientation": "v",
         "showlegend": true,
         "type": "scatter",
         "x": [
          1.2261141097849868,
          1.1556978152249722,
          1.1921470662128562,
          2.252518183955745,
          1.1784267895091214,
          1.2163941210284086,
          0.7135613222314344,
          0.7417489394234014,
          0.754067970107104,
          0.754149971742863,
          1.0573337417715414,
          1.5986647502224467,
          1.2352746554208716,
          1.6010824988112795,
          1.4701736611204796,
          1.1510256878538496,
          1.4259698324381969,
          1.0690180194426535
         ],
         "xaxis": "x",
         "y": [
          0.9951126733027932,
          0.6011483041504216,
          0.8163522603324664,
          1.876899876922009,
          1.3159370812688602,
          1.7266389094903165,
          2.006223546885221,
          1.1709159040772676,
          0.9500921908927584,
          1.3230359036232924,
          1.2239145048603424,
          1.1020098198717958,
          1.1819951536361246,
          1.259477020645161,
          1.1624350194806918,
          1.407093750957505,
          1.2990871010802825,
          1.507341009832434
         ],
         "yaxis": "y"
        },
        {
         "hovertemplate": "perturbation=tbxta<br>predicted distance from WT reference=%{x}<br>actual distance from WT reference=%{y}<extra></extra>",
         "legendgroup": "tbxta",
         "marker": {
          "color": "#00cc96",
          "line": {
           "color": "DarkSlateGrey",
           "width": 1
          },
          "opacity": 0.8,
          "size": 10,
          "symbol": "circle"
         },
         "mode": "markers",
         "name": "tbxta",
         "orientation": "v",
         "showlegend": true,
         "type": "scatter",
         "x": [
          12.961952766132983,
          13.291049345385202,
          13.39073383732764
         ],
         "xaxis": "x",
         "y": [
          13.351809428724083,
          13.023984062567347,
          13.088354861712183
         ],
         "yaxis": "y"
        },
        {
         "line": {
          "color": "gray",
          "dash": "dot",
          "width": 1
         },
         "mode": "lines",
         "showlegend": false,
         "type": "scatter",
         "x": [
          -1,
          -0.6734693877551021,
          -0.34693877551020413,
          -0.020408163265306145,
          0.30612244897959173,
          0.6326530612244896,
          0.9591836734693877,
          1.2857142857142856,
          1.6122448979591835,
          1.9387755102040813,
          2.265306122448979,
          2.591836734693877,
          2.9183673469387754,
          3.244897959183673,
          3.571428571428571,
          3.8979591836734686,
          4.224489795918367,
          4.551020408163265,
          4.877551020408163,
          5.204081632653061,
          5.530612244897958,
          5.857142857142857,
          6.183673469387754,
          6.5102040816326525,
          6.836734693877551,
          7.163265306122449,
          7.489795918367346,
          7.816326530612244,
          8.142857142857142,
          8.46938775510204,
          8.795918367346937,
          9.122448979591836,
          9.448979591836734,
          9.775510204081632,
          10.10204081632653,
          10.428571428571427,
          10.755102040816325,
          11.081632653061224,
          11.408163265306122,
          11.734693877551019,
          12.061224489795917,
          12.387755102040815,
          12.714285714285714,
          13.040816326530612,
          13.367346938775508,
          13.693877551020407,
          14.020408163265305,
          14.346938775510203,
          14.673469387755102,
          15
         ],
         "y": [
          -1,
          -0.6734693877551021,
          -0.34693877551020413,
          -0.020408163265306145,
          0.30612244897959173,
          0.6326530612244896,
          0.9591836734693877,
          1.2857142857142856,
          1.6122448979591835,
          1.9387755102040813,
          2.265306122448979,
          2.591836734693877,
          2.9183673469387754,
          3.244897959183673,
          3.571428571428571,
          3.8979591836734686,
          4.224489795918367,
          4.551020408163265,
          4.877551020408163,
          5.204081632653061,
          5.530612244897958,
          5.857142857142857,
          6.183673469387754,
          6.5102040816326525,
          6.836734693877551,
          7.163265306122449,
          7.489795918367346,
          7.816326530612244,
          8.142857142857142,
          8.46938775510204,
          8.795918367346937,
          9.122448979591836,
          9.448979591836734,
          9.775510204081632,
          10.10204081632653,
          10.428571428571427,
          10.755102040816325,
          11.081632653061224,
          11.408163265306122,
          11.734693877551019,
          12.061224489795917,
          12.387755102040815,
          12.714285714285714,
          13.040816326530612,
          13.367346938775508,
          13.693877551020407,
          14.020408163265305,
          14.346938775510203,
          14.673469387755102,
          15
         ]
        }
       ],
       "layout": {
        "legend": {
         "title": {
          "text": "perturbation"
         },
         "tracegroupgap": 0
        },
        "margin": {
         "t": 60
        },
        "template": {
         "data": {
          "bar": [
           {
            "error_x": {
             "color": "#2a3f5f"
            },
            "error_y": {
             "color": "#2a3f5f"
            },
            "marker": {
             "line": {
              "color": "#E5ECF6",
              "width": 0.5
             },
             "pattern": {
              "fillmode": "overlay",
              "size": 10,
              "solidity": 0.2
             }
            },
            "type": "bar"
           }
          ],
          "barpolar": [
           {
            "marker": {
             "line": {
              "color": "#E5ECF6",
              "width": 0.5
             },
             "pattern": {
              "fillmode": "overlay",
              "size": 10,
              "solidity": 0.2
             }
            },
            "type": "barpolar"
           }
          ],
          "carpet": [
           {
            "aaxis": {
             "endlinecolor": "#2a3f5f",
             "gridcolor": "white",
             "linecolor": "white",
             "minorgridcolor": "white",
             "startlinecolor": "#2a3f5f"
            },
            "baxis": {
             "endlinecolor": "#2a3f5f",
             "gridcolor": "white",
             "linecolor": "white",
             "minorgridcolor": "white",
             "startlinecolor": "#2a3f5f"
            },
            "type": "carpet"
           }
          ],
          "choropleth": [
           {
            "colorbar": {
             "outlinewidth": 0,
             "ticks": ""
            },
            "type": "choropleth"
           }
          ],
          "contour": [
           {
            "colorbar": {
             "outlinewidth": 0,
             "ticks": ""
            },
            "colorscale": [
             [
              0,
              "#0d0887"
             ],
             [
              0.1111111111111111,
              "#46039f"
             ],
             [
              0.2222222222222222,
              "#7201a8"
             ],
             [
              0.3333333333333333,
              "#9c179e"
             ],
             [
              0.4444444444444444,
              "#bd3786"
             ],
             [
              0.5555555555555556,
              "#d8576b"
             ],
             [
              0.6666666666666666,
              "#ed7953"
             ],
             [
              0.7777777777777778,
              "#fb9f3a"
             ],
             [
              0.8888888888888888,
              "#fdca26"
             ],
             [
              1,
              "#f0f921"
             ]
            ],
            "type": "contour"
           }
          ],
          "contourcarpet": [
           {
            "colorbar": {
             "outlinewidth": 0,
             "ticks": ""
            },
            "type": "contourcarpet"
           }
          ],
          "heatmap": [
           {
            "colorbar": {
             "outlinewidth": 0,
             "ticks": ""
            },
            "colorscale": [
             [
              0,
              "#0d0887"
             ],
             [
              0.1111111111111111,
              "#46039f"
             ],
             [
              0.2222222222222222,
              "#7201a8"
             ],
             [
              0.3333333333333333,
              "#9c179e"
             ],
             [
              0.4444444444444444,
              "#bd3786"
             ],
             [
              0.5555555555555556,
              "#d8576b"
             ],
             [
              0.6666666666666666,
              "#ed7953"
             ],
             [
              0.7777777777777778,
              "#fb9f3a"
             ],
             [
              0.8888888888888888,
              "#fdca26"
             ],
             [
              1,
              "#f0f921"
             ]
            ],
            "type": "heatmap"
           }
          ],
          "heatmapgl": [
           {
            "colorbar": {
             "outlinewidth": 0,
             "ticks": ""
            },
            "colorscale": [
             [
              0,
              "#0d0887"
             ],
             [
              0.1111111111111111,
              "#46039f"
             ],
             [
              0.2222222222222222,
              "#7201a8"
             ],
             [
              0.3333333333333333,
              "#9c179e"
             ],
             [
              0.4444444444444444,
              "#bd3786"
             ],
             [
              0.5555555555555556,
              "#d8576b"
             ],
             [
              0.6666666666666666,
              "#ed7953"
             ],
             [
              0.7777777777777778,
              "#fb9f3a"
             ],
             [
              0.8888888888888888,
              "#fdca26"
             ],
             [
              1,
              "#f0f921"
             ]
            ],
            "type": "heatmapgl"
           }
          ],
          "histogram": [
           {
            "marker": {
             "pattern": {
              "fillmode": "overlay",
              "size": 10,
              "solidity": 0.2
             }
            },
            "type": "histogram"
           }
          ],
          "histogram2d": [
           {
            "colorbar": {
             "outlinewidth": 0,
             "ticks": ""
            },
            "colorscale": [
             [
              0,
              "#0d0887"
             ],
             [
              0.1111111111111111,
              "#46039f"
             ],
             [
              0.2222222222222222,
              "#7201a8"
             ],
             [
              0.3333333333333333,
              "#9c179e"
             ],
             [
              0.4444444444444444,
              "#bd3786"
             ],
             [
              0.5555555555555556,
              "#d8576b"
             ],
             [
              0.6666666666666666,
              "#ed7953"
             ],
             [
              0.7777777777777778,
              "#fb9f3a"
             ],
             [
              0.8888888888888888,
              "#fdca26"
             ],
             [
              1,
              "#f0f921"
             ]
            ],
            "type": "histogram2d"
           }
          ],
          "histogram2dcontour": [
           {
            "colorbar": {
             "outlinewidth": 0,
             "ticks": ""
            },
            "colorscale": [
             [
              0,
              "#0d0887"
             ],
             [
              0.1111111111111111,
              "#46039f"
             ],
             [
              0.2222222222222222,
              "#7201a8"
             ],
             [
              0.3333333333333333,
              "#9c179e"
             ],
             [
              0.4444444444444444,
              "#bd3786"
             ],
             [
              0.5555555555555556,
              "#d8576b"
             ],
             [
              0.6666666666666666,
              "#ed7953"
             ],
             [
              0.7777777777777778,
              "#fb9f3a"
             ],
             [
              0.8888888888888888,
              "#fdca26"
             ],
             [
              1,
              "#f0f921"
             ]
            ],
            "type": "histogram2dcontour"
           }
          ],
          "mesh3d": [
           {
            "colorbar": {
             "outlinewidth": 0,
             "ticks": ""
            },
            "type": "mesh3d"
           }
          ],
          "parcoords": [
           {
            "line": {
             "colorbar": {
              "outlinewidth": 0,
              "ticks": ""
             }
            },
            "type": "parcoords"
           }
          ],
          "pie": [
           {
            "automargin": true,
            "type": "pie"
           }
          ],
          "scatter": [
           {
            "fillpattern": {
             "fillmode": "overlay",
             "size": 10,
             "solidity": 0.2
            },
            "type": "scatter"
           }
          ],
          "scatter3d": [
           {
            "line": {
             "colorbar": {
              "outlinewidth": 0,
              "ticks": ""
             }
            },
            "marker": {
             "colorbar": {
              "outlinewidth": 0,
              "ticks": ""
             }
            },
            "type": "scatter3d"
           }
          ],
          "scattercarpet": [
           {
            "marker": {
             "colorbar": {
              "outlinewidth": 0,
              "ticks": ""
             }
            },
            "type": "scattercarpet"
           }
          ],
          "scattergeo": [
           {
            "marker": {
             "colorbar": {
              "outlinewidth": 0,
              "ticks": ""
             }
            },
            "type": "scattergeo"
           }
          ],
          "scattergl": [
           {
            "marker": {
             "colorbar": {
              "outlinewidth": 0,
              "ticks": ""
             }
            },
            "type": "scattergl"
           }
          ],
          "scattermapbox": [
           {
            "marker": {
             "colorbar": {
              "outlinewidth": 0,
              "ticks": ""
             }
            },
            "type": "scattermapbox"
           }
          ],
          "scatterpolar": [
           {
            "marker": {
             "colorbar": {
              "outlinewidth": 0,
              "ticks": ""
             }
            },
            "type": "scatterpolar"
           }
          ],
          "scatterpolargl": [
           {
            "marker": {
             "colorbar": {
              "outlinewidth": 0,
              "ticks": ""
             }
            },
            "type": "scatterpolargl"
           }
          ],
          "scatterternary": [
           {
            "marker": {
             "colorbar": {
              "outlinewidth": 0,
              "ticks": ""
             }
            },
            "type": "scatterternary"
           }
          ],
          "surface": [
           {
            "colorbar": {
             "outlinewidth": 0,
             "ticks": ""
            },
            "colorscale": [
             [
              0,
              "#0d0887"
             ],
             [
              0.1111111111111111,
              "#46039f"
             ],
             [
              0.2222222222222222,
              "#7201a8"
             ],
             [
              0.3333333333333333,
              "#9c179e"
             ],
             [
              0.4444444444444444,
              "#bd3786"
             ],
             [
              0.5555555555555556,
              "#d8576b"
             ],
             [
              0.6666666666666666,
              "#ed7953"
             ],
             [
              0.7777777777777778,
              "#fb9f3a"
             ],
             [
              0.8888888888888888,
              "#fdca26"
             ],
             [
              1,
              "#f0f921"
             ]
            ],
            "type": "surface"
           }
          ],
          "table": [
           {
            "cells": {
             "fill": {
              "color": "#EBF0F8"
             },
             "line": {
              "color": "white"
             }
            },
            "header": {
             "fill": {
              "color": "#C8D4E3"
             },
             "line": {
              "color": "white"
             }
            },
            "type": "table"
           }
          ]
         },
         "layout": {
          "annotationdefaults": {
           "arrowcolor": "#2a3f5f",
           "arrowhead": 0,
           "arrowwidth": 1
          },
          "autotypenumbers": "strict",
          "coloraxis": {
           "colorbar": {
            "outlinewidth": 0,
            "ticks": ""
           }
          },
          "colorscale": {
           "diverging": [
            [
             0,
             "#8e0152"
            ],
            [
             0.1,
             "#c51b7d"
            ],
            [
             0.2,
             "#de77ae"
            ],
            [
             0.3,
             "#f1b6da"
            ],
            [
             0.4,
             "#fde0ef"
            ],
            [
             0.5,
             "#f7f7f7"
            ],
            [
             0.6,
             "#e6f5d0"
            ],
            [
             0.7,
             "#b8e186"
            ],
            [
             0.8,
             "#7fbc41"
            ],
            [
             0.9,
             "#4d9221"
            ],
            [
             1,
             "#276419"
            ]
           ],
           "sequential": [
            [
             0,
             "#0d0887"
            ],
            [
             0.1111111111111111,
             "#46039f"
            ],
            [
             0.2222222222222222,
             "#7201a8"
            ],
            [
             0.3333333333333333,
             "#9c179e"
            ],
            [
             0.4444444444444444,
             "#bd3786"
            ],
            [
             0.5555555555555556,
             "#d8576b"
            ],
            [
             0.6666666666666666,
             "#ed7953"
            ],
            [
             0.7777777777777778,
             "#fb9f3a"
            ],
            [
             0.8888888888888888,
             "#fdca26"
            ],
            [
             1,
             "#f0f921"
            ]
           ],
           "sequentialminus": [
            [
             0,
             "#0d0887"
            ],
            [
             0.1111111111111111,
             "#46039f"
            ],
            [
             0.2222222222222222,
             "#7201a8"
            ],
            [
             0.3333333333333333,
             "#9c179e"
            ],
            [
             0.4444444444444444,
             "#bd3786"
            ],
            [
             0.5555555555555556,
             "#d8576b"
            ],
            [
             0.6666666666666666,
             "#ed7953"
            ],
            [
             0.7777777777777778,
             "#fb9f3a"
            ],
            [
             0.8888888888888888,
             "#fdca26"
            ],
            [
             1,
             "#f0f921"
            ]
           ]
          },
          "colorway": [
           "#636efa",
           "#EF553B",
           "#00cc96",
           "#ab63fa",
           "#FFA15A",
           "#19d3f3",
           "#FF6692",
           "#B6E880",
           "#FF97FF",
           "#FECB52"
          ],
          "font": {
           "color": "#2a3f5f"
          },
          "geo": {
           "bgcolor": "white",
           "lakecolor": "white",
           "landcolor": "#E5ECF6",
           "showlakes": true,
           "showland": true,
           "subunitcolor": "white"
          },
          "hoverlabel": {
           "align": "left"
          },
          "hovermode": "closest",
          "mapbox": {
           "style": "light"
          },
          "paper_bgcolor": "white",
          "plot_bgcolor": "#E5ECF6",
          "polar": {
           "angularaxis": {
            "gridcolor": "white",
            "linecolor": "white",
            "ticks": ""
           },
           "bgcolor": "#E5ECF6",
           "radialaxis": {
            "gridcolor": "white",
            "linecolor": "white",
            "ticks": ""
           }
          },
          "scene": {
           "xaxis": {
            "backgroundcolor": "#E5ECF6",
            "gridcolor": "white",
            "gridwidth": 2,
            "linecolor": "white",
            "showbackground": true,
            "ticks": "",
            "zerolinecolor": "white"
           },
           "yaxis": {
            "backgroundcolor": "#E5ECF6",
            "gridcolor": "white",
            "gridwidth": 2,
            "linecolor": "white",
            "showbackground": true,
            "ticks": "",
            "zerolinecolor": "white"
           },
           "zaxis": {
            "backgroundcolor": "#E5ECF6",
            "gridcolor": "white",
            "gridwidth": 2,
            "linecolor": "white",
            "showbackground": true,
            "ticks": "",
            "zerolinecolor": "white"
           }
          },
          "shapedefaults": {
           "line": {
            "color": "#2a3f5f"
           }
          },
          "ternary": {
           "aaxis": {
            "gridcolor": "white",
            "linecolor": "white",
            "ticks": ""
           },
           "baxis": {
            "gridcolor": "white",
            "linecolor": "white",
            "ticks": ""
           },
           "bgcolor": "#E5ECF6",
           "caxis": {
            "gridcolor": "white",
            "linecolor": "white",
            "ticks": ""
           }
          },
          "title": {
           "x": 0.05
          },
          "xaxis": {
           "automargin": true,
           "gridcolor": "white",
           "linecolor": "white",
           "ticks": "",
           "title": {
            "standoff": 15
           },
           "zerolinecolor": "white",
           "zerolinewidth": 2
          },
          "yaxis": {
           "automargin": true,
           "gridcolor": "white",
           "linecolor": "white",
           "ticks": "",
           "title": {
            "standoff": 15
           },
           "zerolinecolor": "white",
           "zerolinewidth": 2
          }
         }
        },
        "xaxis": {
         "anchor": "y",
         "domain": [
          0,
          1
         ],
         "title": {
          "text": "predicted distance from WT reference"
         }
        },
        "yaxis": {
         "anchor": "x",
         "domain": [
          0,
          1
         ],
         "title": {
          "text": "actual distance from WT reference"
         }
        }
       }
      },
      "text/html": [
       "<div>                            <div id=\"3e540a08-75c4-4c55-ba0f-4c45ce47e672\" class=\"plotly-graph-div\" style=\"height:525px; width:100%;\"></div>            <script type=\"text/javascript\">                require([\"plotly\"], function(Plotly) {                    window.PLOTLYENV=window.PLOTLYENV || {};                                    if (document.getElementById(\"3e540a08-75c4-4c55-ba0f-4c45ce47e672\")) {                    Plotly.newPlot(                        \"3e540a08-75c4-4c55-ba0f-4c45ce47e672\",                        [{\"hovertemplate\":\"perturbation=lmx1b<br>predicted distance from WT reference=%{x}<br>actual distance from WT reference=%{y}<extra></extra>\",\"legendgroup\":\"lmx1b\",\"marker\":{\"color\":\"#636efa\",\"opacity\":0.8,\"symbol\":\"circle\",\"line\":{\"color\":\"DarkSlateGrey\",\"width\":1},\"size\":10},\"mode\":\"markers\",\"name\":\"lmx1b\",\"orientation\":\"v\",\"showlegend\":true,\"x\":[1.6464128666552125,1.7131795212894703,1.617089549424441,1.6972540844375996,1.6240084948060083,1.6567780237400578,2.284142842222721,2.1602722525748863,2.212897847743691,2.693015090732958,2.260031705036968,2.055743477798435,2.695844868559467,2.2656512783152447,2.483424974526784,2.6110098550305194,2.1916608692537567,2.4912374359807794,1.9314738295731353,1.8586375469377165,1.2126333189040597,1.3543888695738289,1.4982263283057757,1.835420697390645,2.4252095869545034,1.280694020716633,3.3751595886176284,3.2864150110042134,3.286409894720302,3.4315566620513094,3.2853800496857453,3.3738361372177312,3.407817464653279,3.1896918052122354,3.2934185978733677,3.624709474558494,3.642258691698168,3.228960207839635,3.366758975812785,3.265259621534449,3.281354058941628,3.2858065171362094],\"xaxis\":\"x\",\"y\":[2.092098886948005,1.8651475282527643,1.7600150952088165,1.670300688931419,4.198551072054666,2.8445981258951423,3.0193775805137437,2.111161587427146,4.095706289517205,3.0936049221057833,2.532677933594445,2.2149812303534953,4.8215753514153805,2.696613846592872,2.2737796580027503,2.865728519047535,0.6875335131147503,2.8617482170985276,1.9790567684621856,2.2958596438675407,2.468605639086686,2.2888540960509367,1.7483286359825276,2.068514282060622,2.4333781133686263,2.17360413039227,3.0160461520352957,3.1374781576749924,3.2378930079652166,2.5612024904056603,3.0792567896106706,3.4896503306671955,3.430930260261371,3.575692345337727,2.025905711888832,3.509238776856408,4.477959330221722,4.340176592822279,3.506122216637515,2.9796811553645473,2.6223093915788067,2.8014414547572724],\"yaxis\":\"y\",\"type\":\"scatter\"},{\"hovertemplate\":\"perturbation=wik-inj-ctrl<br>predicted distance from WT reference=%{x}<br>actual distance from WT reference=%{y}<extra></extra>\",\"legendgroup\":\"wik-inj-ctrl\",\"marker\":{\"color\":\"#EF553B\",\"opacity\":0.8,\"symbol\":\"circle\",\"line\":{\"color\":\"DarkSlateGrey\",\"width\":1},\"size\":10},\"mode\":\"markers\",\"name\":\"wik-inj-ctrl\",\"orientation\":\"v\",\"showlegend\":true,\"x\":[1.2261141097849868,1.1556978152249722,1.1921470662128562,2.252518183955745,1.1784267895091214,1.2163941210284086,0.7135613222314344,0.7417489394234014,0.754067970107104,0.754149971742863,1.0573337417715414,1.5986647502224467,1.2352746554208716,1.6010824988112795,1.4701736611204796,1.1510256878538496,1.4259698324381969,1.0690180194426535],\"xaxis\":\"x\",\"y\":[0.9951126733027932,0.6011483041504216,0.8163522603324664,1.876899876922009,1.3159370812688602,1.7266389094903165,2.006223546885221,1.1709159040772676,0.9500921908927584,1.3230359036232924,1.2239145048603424,1.1020098198717958,1.1819951536361246,1.259477020645161,1.1624350194806918,1.407093750957505,1.2990871010802825,1.507341009832434],\"yaxis\":\"y\",\"type\":\"scatter\"},{\"hovertemplate\":\"perturbation=tbxta<br>predicted distance from WT reference=%{x}<br>actual distance from WT reference=%{y}<extra></extra>\",\"legendgroup\":\"tbxta\",\"marker\":{\"color\":\"#00cc96\",\"opacity\":0.8,\"symbol\":\"circle\",\"line\":{\"color\":\"DarkSlateGrey\",\"width\":1},\"size\":10},\"mode\":\"markers\",\"name\":\"tbxta\",\"orientation\":\"v\",\"showlegend\":true,\"x\":[12.961952766132983,13.291049345385202,13.39073383732764],\"xaxis\":\"x\",\"y\":[13.351809428724083,13.023984062567347,13.088354861712183],\"yaxis\":\"y\",\"type\":\"scatter\"},{\"line\":{\"color\":\"gray\",\"dash\":\"dot\",\"width\":1},\"mode\":\"lines\",\"showlegend\":false,\"x\":[-1.0,-0.6734693877551021,-0.34693877551020413,-0.020408163265306145,0.30612244897959173,0.6326530612244896,0.9591836734693877,1.2857142857142856,1.6122448979591835,1.9387755102040813,2.265306122448979,2.591836734693877,2.9183673469387754,3.244897959183673,3.571428571428571,3.8979591836734686,4.224489795918367,4.551020408163265,4.877551020408163,5.204081632653061,5.530612244897958,5.857142857142857,6.183673469387754,6.5102040816326525,6.836734693877551,7.163265306122449,7.489795918367346,7.816326530612244,8.142857142857142,8.46938775510204,8.795918367346937,9.122448979591836,9.448979591836734,9.775510204081632,10.10204081632653,10.428571428571427,10.755102040816325,11.081632653061224,11.408163265306122,11.734693877551019,12.061224489795917,12.387755102040815,12.714285714285714,13.040816326530612,13.367346938775508,13.693877551020407,14.020408163265305,14.346938775510203,14.673469387755102,15.0],\"y\":[-1.0,-0.6734693877551021,-0.34693877551020413,-0.020408163265306145,0.30612244897959173,0.6326530612244896,0.9591836734693877,1.2857142857142856,1.6122448979591835,1.9387755102040813,2.265306122448979,2.591836734693877,2.9183673469387754,3.244897959183673,3.571428571428571,3.8979591836734686,4.224489795918367,4.551020408163265,4.877551020408163,5.204081632653061,5.530612244897958,5.857142857142857,6.183673469387754,6.5102040816326525,6.836734693877551,7.163265306122449,7.489795918367346,7.816326530612244,8.142857142857142,8.46938775510204,8.795918367346937,9.122448979591836,9.448979591836734,9.775510204081632,10.10204081632653,10.428571428571427,10.755102040816325,11.081632653061224,11.408163265306122,11.734693877551019,12.061224489795917,12.387755102040815,12.714285714285714,13.040816326530612,13.367346938775508,13.693877551020407,14.020408163265305,14.346938775510203,14.673469387755102,15.0],\"type\":\"scatter\"}],                        {\"template\":{\"data\":{\"histogram2dcontour\":[{\"type\":\"histogram2dcontour\",\"colorbar\":{\"outlinewidth\":0,\"ticks\":\"\"},\"colorscale\":[[0.0,\"#0d0887\"],[0.1111111111111111,\"#46039f\"],[0.2222222222222222,\"#7201a8\"],[0.3333333333333333,\"#9c179e\"],[0.4444444444444444,\"#bd3786\"],[0.5555555555555556,\"#d8576b\"],[0.6666666666666666,\"#ed7953\"],[0.7777777777777778,\"#fb9f3a\"],[0.8888888888888888,\"#fdca26\"],[1.0,\"#f0f921\"]]}],\"choropleth\":[{\"type\":\"choropleth\",\"colorbar\":{\"outlinewidth\":0,\"ticks\":\"\"}}],\"histogram2d\":[{\"type\":\"histogram2d\",\"colorbar\":{\"outlinewidth\":0,\"ticks\":\"\"},\"colorscale\":[[0.0,\"#0d0887\"],[0.1111111111111111,\"#46039f\"],[0.2222222222222222,\"#7201a8\"],[0.3333333333333333,\"#9c179e\"],[0.4444444444444444,\"#bd3786\"],[0.5555555555555556,\"#d8576b\"],[0.6666666666666666,\"#ed7953\"],[0.7777777777777778,\"#fb9f3a\"],[0.8888888888888888,\"#fdca26\"],[1.0,\"#f0f921\"]]}],\"heatmap\":[{\"type\":\"heatmap\",\"colorbar\":{\"outlinewidth\":0,\"ticks\":\"\"},\"colorscale\":[[0.0,\"#0d0887\"],[0.1111111111111111,\"#46039f\"],[0.2222222222222222,\"#7201a8\"],[0.3333333333333333,\"#9c179e\"],[0.4444444444444444,\"#bd3786\"],[0.5555555555555556,\"#d8576b\"],[0.6666666666666666,\"#ed7953\"],[0.7777777777777778,\"#fb9f3a\"],[0.8888888888888888,\"#fdca26\"],[1.0,\"#f0f921\"]]}],\"heatmapgl\":[{\"type\":\"heatmapgl\",\"colorbar\":{\"outlinewidth\":0,\"ticks\":\"\"},\"colorscale\":[[0.0,\"#0d0887\"],[0.1111111111111111,\"#46039f\"],[0.2222222222222222,\"#7201a8\"],[0.3333333333333333,\"#9c179e\"],[0.4444444444444444,\"#bd3786\"],[0.5555555555555556,\"#d8576b\"],[0.6666666666666666,\"#ed7953\"],[0.7777777777777778,\"#fb9f3a\"],[0.8888888888888888,\"#fdca26\"],[1.0,\"#f0f921\"]]}],\"contourcarpet\":[{\"type\":\"contourcarpet\",\"colorbar\":{\"outlinewidth\":0,\"ticks\":\"\"}}],\"contour\":[{\"type\":\"contour\",\"colorbar\":{\"outlinewidth\":0,\"ticks\":\"\"},\"colorscale\":[[0.0,\"#0d0887\"],[0.1111111111111111,\"#46039f\"],[0.2222222222222222,\"#7201a8\"],[0.3333333333333333,\"#9c179e\"],[0.4444444444444444,\"#bd3786\"],[0.5555555555555556,\"#d8576b\"],[0.6666666666666666,\"#ed7953\"],[0.7777777777777778,\"#fb9f3a\"],[0.8888888888888888,\"#fdca26\"],[1.0,\"#f0f921\"]]}],\"surface\":[{\"type\":\"surface\",\"colorbar\":{\"outlinewidth\":0,\"ticks\":\"\"},\"colorscale\":[[0.0,\"#0d0887\"],[0.1111111111111111,\"#46039f\"],[0.2222222222222222,\"#7201a8\"],[0.3333333333333333,\"#9c179e\"],[0.4444444444444444,\"#bd3786\"],[0.5555555555555556,\"#d8576b\"],[0.6666666666666666,\"#ed7953\"],[0.7777777777777778,\"#fb9f3a\"],[0.8888888888888888,\"#fdca26\"],[1.0,\"#f0f921\"]]}],\"mesh3d\":[{\"type\":\"mesh3d\",\"colorbar\":{\"outlinewidth\":0,\"ticks\":\"\"}}],\"scatter\":[{\"fillpattern\":{\"fillmode\":\"overlay\",\"size\":10,\"solidity\":0.2},\"type\":\"scatter\"}],\"parcoords\":[{\"type\":\"parcoords\",\"line\":{\"colorbar\":{\"outlinewidth\":0,\"ticks\":\"\"}}}],\"scatterpolargl\":[{\"type\":\"scatterpolargl\",\"marker\":{\"colorbar\":{\"outlinewidth\":0,\"ticks\":\"\"}}}],\"bar\":[{\"error_x\":{\"color\":\"#2a3f5f\"},\"error_y\":{\"color\":\"#2a3f5f\"},\"marker\":{\"line\":{\"color\":\"#E5ECF6\",\"width\":0.5},\"pattern\":{\"fillmode\":\"overlay\",\"size\":10,\"solidity\":0.2}},\"type\":\"bar\"}],\"scattergeo\":[{\"type\":\"scattergeo\",\"marker\":{\"colorbar\":{\"outlinewidth\":0,\"ticks\":\"\"}}}],\"scatterpolar\":[{\"type\":\"scatterpolar\",\"marker\":{\"colorbar\":{\"outlinewidth\":0,\"ticks\":\"\"}}}],\"histogram\":[{\"marker\":{\"pattern\":{\"fillmode\":\"overlay\",\"size\":10,\"solidity\":0.2}},\"type\":\"histogram\"}],\"scattergl\":[{\"type\":\"scattergl\",\"marker\":{\"colorbar\":{\"outlinewidth\":0,\"ticks\":\"\"}}}],\"scatter3d\":[{\"type\":\"scatter3d\",\"line\":{\"colorbar\":{\"outlinewidth\":0,\"ticks\":\"\"}},\"marker\":{\"colorbar\":{\"outlinewidth\":0,\"ticks\":\"\"}}}],\"scattermapbox\":[{\"type\":\"scattermapbox\",\"marker\":{\"colorbar\":{\"outlinewidth\":0,\"ticks\":\"\"}}}],\"scatterternary\":[{\"type\":\"scatterternary\",\"marker\":{\"colorbar\":{\"outlinewidth\":0,\"ticks\":\"\"}}}],\"scattercarpet\":[{\"type\":\"scattercarpet\",\"marker\":{\"colorbar\":{\"outlinewidth\":0,\"ticks\":\"\"}}}],\"carpet\":[{\"aaxis\":{\"endlinecolor\":\"#2a3f5f\",\"gridcolor\":\"white\",\"linecolor\":\"white\",\"minorgridcolor\":\"white\",\"startlinecolor\":\"#2a3f5f\"},\"baxis\":{\"endlinecolor\":\"#2a3f5f\",\"gridcolor\":\"white\",\"linecolor\":\"white\",\"minorgridcolor\":\"white\",\"startlinecolor\":\"#2a3f5f\"},\"type\":\"carpet\"}],\"table\":[{\"cells\":{\"fill\":{\"color\":\"#EBF0F8\"},\"line\":{\"color\":\"white\"}},\"header\":{\"fill\":{\"color\":\"#C8D4E3\"},\"line\":{\"color\":\"white\"}},\"type\":\"table\"}],\"barpolar\":[{\"marker\":{\"line\":{\"color\":\"#E5ECF6\",\"width\":0.5},\"pattern\":{\"fillmode\":\"overlay\",\"size\":10,\"solidity\":0.2}},\"type\":\"barpolar\"}],\"pie\":[{\"automargin\":true,\"type\":\"pie\"}]},\"layout\":{\"autotypenumbers\":\"strict\",\"colorway\":[\"#636efa\",\"#EF553B\",\"#00cc96\",\"#ab63fa\",\"#FFA15A\",\"#19d3f3\",\"#FF6692\",\"#B6E880\",\"#FF97FF\",\"#FECB52\"],\"font\":{\"color\":\"#2a3f5f\"},\"hovermode\":\"closest\",\"hoverlabel\":{\"align\":\"left\"},\"paper_bgcolor\":\"white\",\"plot_bgcolor\":\"#E5ECF6\",\"polar\":{\"bgcolor\":\"#E5ECF6\",\"angularaxis\":{\"gridcolor\":\"white\",\"linecolor\":\"white\",\"ticks\":\"\"},\"radialaxis\":{\"gridcolor\":\"white\",\"linecolor\":\"white\",\"ticks\":\"\"}},\"ternary\":{\"bgcolor\":\"#E5ECF6\",\"aaxis\":{\"gridcolor\":\"white\",\"linecolor\":\"white\",\"ticks\":\"\"},\"baxis\":{\"gridcolor\":\"white\",\"linecolor\":\"white\",\"ticks\":\"\"},\"caxis\":{\"gridcolor\":\"white\",\"linecolor\":\"white\",\"ticks\":\"\"}},\"coloraxis\":{\"colorbar\":{\"outlinewidth\":0,\"ticks\":\"\"}},\"colorscale\":{\"sequential\":[[0.0,\"#0d0887\"],[0.1111111111111111,\"#46039f\"],[0.2222222222222222,\"#7201a8\"],[0.3333333333333333,\"#9c179e\"],[0.4444444444444444,\"#bd3786\"],[0.5555555555555556,\"#d8576b\"],[0.6666666666666666,\"#ed7953\"],[0.7777777777777778,\"#fb9f3a\"],[0.8888888888888888,\"#fdca26\"],[1.0,\"#f0f921\"]],\"sequentialminus\":[[0.0,\"#0d0887\"],[0.1111111111111111,\"#46039f\"],[0.2222222222222222,\"#7201a8\"],[0.3333333333333333,\"#9c179e\"],[0.4444444444444444,\"#bd3786\"],[0.5555555555555556,\"#d8576b\"],[0.6666666666666666,\"#ed7953\"],[0.7777777777777778,\"#fb9f3a\"],[0.8888888888888888,\"#fdca26\"],[1.0,\"#f0f921\"]],\"diverging\":[[0,\"#8e0152\"],[0.1,\"#c51b7d\"],[0.2,\"#de77ae\"],[0.3,\"#f1b6da\"],[0.4,\"#fde0ef\"],[0.5,\"#f7f7f7\"],[0.6,\"#e6f5d0\"],[0.7,\"#b8e186\"],[0.8,\"#7fbc41\"],[0.9,\"#4d9221\"],[1,\"#276419\"]]},\"xaxis\":{\"gridcolor\":\"white\",\"linecolor\":\"white\",\"ticks\":\"\",\"title\":{\"standoff\":15},\"zerolinecolor\":\"white\",\"automargin\":true,\"zerolinewidth\":2},\"yaxis\":{\"gridcolor\":\"white\",\"linecolor\":\"white\",\"ticks\":\"\",\"title\":{\"standoff\":15},\"zerolinecolor\":\"white\",\"automargin\":true,\"zerolinewidth\":2},\"scene\":{\"xaxis\":{\"backgroundcolor\":\"#E5ECF6\",\"gridcolor\":\"white\",\"linecolor\":\"white\",\"showbackground\":true,\"ticks\":\"\",\"zerolinecolor\":\"white\",\"gridwidth\":2},\"yaxis\":{\"backgroundcolor\":\"#E5ECF6\",\"gridcolor\":\"white\",\"linecolor\":\"white\",\"showbackground\":true,\"ticks\":\"\",\"zerolinecolor\":\"white\",\"gridwidth\":2},\"zaxis\":{\"backgroundcolor\":\"#E5ECF6\",\"gridcolor\":\"white\",\"linecolor\":\"white\",\"showbackground\":true,\"ticks\":\"\",\"zerolinecolor\":\"white\",\"gridwidth\":2}},\"shapedefaults\":{\"line\":{\"color\":\"#2a3f5f\"}},\"annotationdefaults\":{\"arrowcolor\":\"#2a3f5f\",\"arrowhead\":0,\"arrowwidth\":1},\"geo\":{\"bgcolor\":\"white\",\"landcolor\":\"#E5ECF6\",\"subunitcolor\":\"white\",\"showland\":true,\"showlakes\":true,\"lakecolor\":\"white\"},\"title\":{\"x\":0.05},\"mapbox\":{\"style\":\"light\"}}},\"xaxis\":{\"anchor\":\"y\",\"domain\":[0.0,1.0],\"title\":{\"text\":\"predicted distance from WT reference\"}},\"yaxis\":{\"anchor\":\"x\",\"domain\":[0.0,1.0],\"title\":{\"text\":\"actual distance from WT reference\"}},\"legend\":{\"title\":{\"text\":\"perturbation\"},\"tracegroupgap\":0},\"margin\":{\"t\":60}},                        {\"responsive\": true}                    ).then(function(){\n",
       "                            \n",
       "var gd = document.getElementById('3e540a08-75c4-4c55-ba0f-4c45ce47e672');\n",
       "var x = new MutationObserver(function (mutations, observer) {{\n",
       "        var display = window.getComputedStyle(gd).display;\n",
       "        if (!display || display === 'none') {{\n",
       "            console.log([gd, 'removed!']);\n",
       "            Plotly.purge(gd);\n",
       "            observer.disconnect();\n",
       "        }}\n",
       "}});\n",
       "\n",
       "// Listen for the removal of the full notebook cells\n",
       "var notebookContainer = gd.closest('#notebook-container');\n",
       "if (notebookContainer) {{\n",
       "    x.observe(notebookContainer, {childList: true});\n",
       "}}\n",
       "\n",
       "// Listen for the clearing of the current output cell\n",
       "var outputEl = gd.closest('.output');\n",
       "if (outputEl) {{\n",
       "    x.observe(outputEl, {childList: true});\n",
       "}}\n",
       "\n",
       "                        })                };                });            </script>        </div>"
      ]
     },
     "metadata": {},
     "output_type": "display_data"
    }
   ],
   "source": [
    "tbxta_bool = (res_df_test[\"master_perturbation\"] == \"tbxta\").to_numpy()\n",
    "lmx_bool = (res_df_test[\"master_perturbation\"] == \"lmx1b\").to_numpy()\n",
    "ctrl_bool = (res_df_test[\"master_perturbation\"] == \"wik-inj-ctrl\").to_numpy()\n",
    "\n",
    "all_bool = tbxta_bool | lmx_bool | ctrl_bool\n",
    "\n",
    "fig = px.scatter(res_df_test.loc[all_bool], x=\"morph_ctrl_dist_pd\", y=\"morph_ctrl_dist_actual\", color=\"master_perturbation\",\n",
    "                 opacity =0.8,\n",
    "                 labels={\"morph_ctrl_dist_actual\": \"actual distance from WT reference\",\n",
    "                         \"morph_ctrl_dist_pd\": \"predicted distance from WT reference\",\n",
    "                         \"master_perturbation\":\"perturbation\"})\n",
    "\n",
    "fig.update_traces(marker=dict(size=10,\n",
    "                              line=dict(width=1,\n",
    "                                        color='DarkSlateGrey')))\n",
    "\n",
    "ref_line = np.linspace(-1, 15)\n",
    "fig.add_scatter(\n",
    "        x=ref_line, \n",
    "        y=ref_line, \n",
    "        mode='lines', \n",
    "        line_color='gray', \n",
    "        showlegend=False,\n",
    "        line=dict(width=1, dash='dot')\n",
    "    )\n",
    "\n",
    "                  \n",
    "fig.show()\n",
    "# save\n",
    "fig.write_image(os.path.join(figure_dir, \"lmx_distance_prediction_plot.png\"), scale=4)"
   ]
  },
  {
   "cell_type": "markdown",
   "id": "93140ed8",
   "metadata": {},
   "source": [
    "Switch up the plotting style"
   ]
  },
  {
   "cell_type": "code",
   "execution_count": 200,
   "id": "aeefb457",
   "metadata": {},
   "outputs": [
    {
     "data": {
      "application/vnd.plotly.v1+json": {
       "config": {
        "plotlyServerURL": "https://plot.ly"
       },
       "data": [
        {
         "line": {
          "color": "gray",
          "dash": "dot",
          "width": 2
         },
         "mode": "lines",
         "showlegend": false,
         "type": "scatter",
         "x": [
          -1,
          -0.6734693877551021,
          -0.34693877551020413,
          -0.020408163265306145,
          0.30612244897959173,
          0.6326530612244896,
          0.9591836734693877,
          1.2857142857142856,
          1.6122448979591835,
          1.9387755102040813,
          2.265306122448979,
          2.591836734693877,
          2.9183673469387754,
          3.244897959183673,
          3.571428571428571,
          3.8979591836734686,
          4.224489795918367,
          4.551020408163265,
          4.877551020408163,
          5.204081632653061,
          5.530612244897958,
          5.857142857142857,
          6.183673469387754,
          6.5102040816326525,
          6.836734693877551,
          7.163265306122449,
          7.489795918367346,
          7.816326530612244,
          8.142857142857142,
          8.46938775510204,
          8.795918367346937,
          9.122448979591836,
          9.448979591836734,
          9.775510204081632,
          10.10204081632653,
          10.428571428571427,
          10.755102040816325,
          11.081632653061224,
          11.408163265306122,
          11.734693877551019,
          12.061224489795917,
          12.387755102040815,
          12.714285714285714,
          13.040816326530612,
          13.367346938775508,
          13.693877551020407,
          14.020408163265305,
          14.346938775510203,
          14.673469387755102,
          15
         ],
         "y": [
          -1,
          -0.6734693877551021,
          -0.34693877551020413,
          -0.020408163265306145,
          0.30612244897959173,
          0.6326530612244896,
          0.9591836734693877,
          1.2857142857142856,
          1.6122448979591835,
          1.9387755102040813,
          2.265306122448979,
          2.591836734693877,
          2.9183673469387754,
          3.244897959183673,
          3.571428571428571,
          3.8979591836734686,
          4.224489795918367,
          4.551020408163265,
          4.877551020408163,
          5.204081632653061,
          5.530612244897958,
          5.857142857142857,
          6.183673469387754,
          6.5102040816326525,
          6.836734693877551,
          7.163265306122449,
          7.489795918367346,
          7.816326530612244,
          8.142857142857142,
          8.46938775510204,
          8.795918367346937,
          9.122448979591836,
          9.448979591836734,
          9.775510204081632,
          10.10204081632653,
          10.428571428571427,
          10.755102040816325,
          11.081632653061224,
          11.408163265306122,
          11.734693877551019,
          12.061224489795917,
          12.387755102040815,
          12.714285714285714,
          13.040816326530612,
          13.367346938775508,
          13.693877551020407,
          14.020408163265305,
          14.346938775510203,
          14.673469387755102,
          15
         ]
        },
        {
         "marker": {
          "color": [
           "#00CC96",
           "#00CC96",
           "#00CC96"
          ],
          "line": {
           "color": "DarkSlateGrey",
           "width": 0.8
          },
          "opacity": 1,
          "size": 10
         },
         "mode": "markers",
         "name": "tbxta",
         "showlegend": true,
         "type": "scatter",
         "x": [
          12.961952766132983,
          13.291049345385202,
          13.39073383732764
         ],
         "y": [
          13.351809428724083,
          13.023984062567347,
          13.088354861712183
         ]
        },
        {
         "marker": {
          "color": [
           "#636EFA",
           "#636EFA",
           "#636EFA",
           "#636EFA",
           "#636EFA",
           "#636EFA",
           "#636EFA",
           "#636EFA",
           "#636EFA",
           "#636EFA",
           "#636EFA",
           "#636EFA",
           "#636EFA",
           "#636EFA",
           "#636EFA",
           "#636EFA",
           "#636EFA",
           "#636EFA"
          ],
          "line": {
           "color": "DarkSlateGrey",
           "width": 0.8
          },
          "opacity": 1,
          "size": 10
         },
         "mode": "markers",
         "name": "wik-inj-ctrl",
         "type": "scatter",
         "x": [
          1.2261141097849868,
          1.1556978152249722,
          1.1921470662128562,
          2.252518183955745,
          1.1784267895091214,
          1.2163941210284086,
          0.7135613222314344,
          0.7417489394234014,
          0.754067970107104,
          0.754149971742863,
          1.0573337417715414,
          1.5986647502224467,
          1.2352746554208716,
          1.6010824988112795,
          1.4701736611204796,
          1.1510256878538496,
          1.4259698324381969,
          1.0690180194426535
         ],
         "y": [
          0.9951126733027932,
          0.6011483041504216,
          0.8163522603324664,
          1.876899876922009,
          1.3159370812688602,
          1.7266389094903165,
          2.006223546885221,
          1.1709159040772676,
          0.9500921908927584,
          1.3230359036232924,
          1.2239145048603424,
          1.1020098198717958,
          1.1819951536361246,
          1.259477020645161,
          1.1624350194806918,
          1.407093750957505,
          1.2990871010802825,
          1.507341009832434
         ]
        },
        {
         "marker": {
          "color": [
           "#EF553B",
           "#EF553B",
           "#EF553B",
           "#EF553B",
           "#EF553B",
           "#EF553B",
           "#EF553B",
           "#EF553B",
           "#EF553B",
           "#EF553B",
           "#EF553B",
           "#EF553B",
           "#EF553B",
           "#EF553B",
           "#EF553B",
           "#EF553B",
           "#EF553B",
           "#EF553B",
           "#EF553B",
           "#EF553B",
           "#EF553B",
           "#EF553B",
           "#EF553B",
           "#EF553B",
           "#EF553B",
           "#EF553B",
           "#EF553B",
           "#EF553B",
           "#EF553B",
           "#EF553B",
           "#EF553B",
           "#EF553B",
           "#EF553B",
           "#EF553B",
           "#EF553B",
           "#EF553B",
           "#EF553B",
           "#EF553B",
           "#EF553B",
           "#EF553B",
           "#EF553B",
           "#EF553B"
          ],
          "line": {
           "color": "DarkSlateGrey",
           "width": 1.3
          },
          "opacity": 1,
          "size": 10.5
         },
         "mode": "markers",
         "name": "lmx1b",
         "type": "scatter",
         "x": [
          1.6464128666552125,
          1.7131795212894703,
          1.617089549424441,
          1.6972540844375996,
          1.6240084948060083,
          1.6567780237400578,
          2.284142842222721,
          2.1602722525748863,
          2.212897847743691,
          2.693015090732958,
          2.260031705036968,
          2.055743477798435,
          2.695844868559467,
          2.2656512783152447,
          2.483424974526784,
          2.6110098550305194,
          2.1916608692537567,
          2.4912374359807794,
          1.9314738295731353,
          1.8586375469377165,
          1.2126333189040597,
          1.3543888695738289,
          1.4982263283057757,
          1.835420697390645,
          2.4252095869545034,
          1.280694020716633,
          3.3751595886176284,
          3.2864150110042134,
          3.286409894720302,
          3.4315566620513094,
          3.2853800496857453,
          3.3738361372177312,
          3.407817464653279,
          3.1896918052122354,
          3.2934185978733677,
          3.624709474558494,
          3.642258691698168,
          3.228960207839635,
          3.366758975812785,
          3.265259621534449,
          3.281354058941628,
          3.2858065171362094
         ],
         "y": [
          2.092098886948005,
          1.8651475282527643,
          1.7600150952088165,
          1.670300688931419,
          4.198551072054666,
          2.8445981258951423,
          3.0193775805137437,
          2.111161587427146,
          4.095706289517205,
          3.0936049221057833,
          2.532677933594445,
          2.2149812303534953,
          4.8215753514153805,
          2.696613846592872,
          2.2737796580027503,
          2.865728519047535,
          0.6875335131147503,
          2.8617482170985276,
          1.9790567684621856,
          2.2958596438675407,
          2.468605639086686,
          2.2888540960509367,
          1.7483286359825276,
          2.068514282060622,
          2.4333781133686263,
          2.17360413039227,
          3.0160461520352957,
          3.1374781576749924,
          3.2378930079652166,
          2.5612024904056603,
          3.0792567896106706,
          3.4896503306671955,
          3.430930260261371,
          3.575692345337727,
          2.025905711888832,
          3.509238776856408,
          4.477959330221722,
          4.340176592822279,
          3.506122216637515,
          2.9796811553645473,
          2.6223093915788067,
          2.8014414547572724
         ]
        }
       ],
       "layout": {
        "font": {
         "color": "Black",
         "family": "Arial",
         "size": 14
        },
        "legend": {
         "title": {
          "text": "perturbation"
         }
        },
        "template": {
         "data": {
          "bar": [
           {
            "error_x": {
             "color": "#2a3f5f"
            },
            "error_y": {
             "color": "#2a3f5f"
            },
            "marker": {
             "line": {
              "color": "#E5ECF6",
              "width": 0.5
             },
             "pattern": {
              "fillmode": "overlay",
              "size": 10,
              "solidity": 0.2
             }
            },
            "type": "bar"
           }
          ],
          "barpolar": [
           {
            "marker": {
             "line": {
              "color": "#E5ECF6",
              "width": 0.5
             },
             "pattern": {
              "fillmode": "overlay",
              "size": 10,
              "solidity": 0.2
             }
            },
            "type": "barpolar"
           }
          ],
          "carpet": [
           {
            "aaxis": {
             "endlinecolor": "#2a3f5f",
             "gridcolor": "white",
             "linecolor": "white",
             "minorgridcolor": "white",
             "startlinecolor": "#2a3f5f"
            },
            "baxis": {
             "endlinecolor": "#2a3f5f",
             "gridcolor": "white",
             "linecolor": "white",
             "minorgridcolor": "white",
             "startlinecolor": "#2a3f5f"
            },
            "type": "carpet"
           }
          ],
          "choropleth": [
           {
            "colorbar": {
             "outlinewidth": 0,
             "ticks": ""
            },
            "type": "choropleth"
           }
          ],
          "contour": [
           {
            "colorbar": {
             "outlinewidth": 0,
             "ticks": ""
            },
            "colorscale": [
             [
              0,
              "#0d0887"
             ],
             [
              0.1111111111111111,
              "#46039f"
             ],
             [
              0.2222222222222222,
              "#7201a8"
             ],
             [
              0.3333333333333333,
              "#9c179e"
             ],
             [
              0.4444444444444444,
              "#bd3786"
             ],
             [
              0.5555555555555556,
              "#d8576b"
             ],
             [
              0.6666666666666666,
              "#ed7953"
             ],
             [
              0.7777777777777778,
              "#fb9f3a"
             ],
             [
              0.8888888888888888,
              "#fdca26"
             ],
             [
              1,
              "#f0f921"
             ]
            ],
            "type": "contour"
           }
          ],
          "contourcarpet": [
           {
            "colorbar": {
             "outlinewidth": 0,
             "ticks": ""
            },
            "type": "contourcarpet"
           }
          ],
          "heatmap": [
           {
            "colorbar": {
             "outlinewidth": 0,
             "ticks": ""
            },
            "colorscale": [
             [
              0,
              "#0d0887"
             ],
             [
              0.1111111111111111,
              "#46039f"
             ],
             [
              0.2222222222222222,
              "#7201a8"
             ],
             [
              0.3333333333333333,
              "#9c179e"
             ],
             [
              0.4444444444444444,
              "#bd3786"
             ],
             [
              0.5555555555555556,
              "#d8576b"
             ],
             [
              0.6666666666666666,
              "#ed7953"
             ],
             [
              0.7777777777777778,
              "#fb9f3a"
             ],
             [
              0.8888888888888888,
              "#fdca26"
             ],
             [
              1,
              "#f0f921"
             ]
            ],
            "type": "heatmap"
           }
          ],
          "heatmapgl": [
           {
            "colorbar": {
             "outlinewidth": 0,
             "ticks": ""
            },
            "colorscale": [
             [
              0,
              "#0d0887"
             ],
             [
              0.1111111111111111,
              "#46039f"
             ],
             [
              0.2222222222222222,
              "#7201a8"
             ],
             [
              0.3333333333333333,
              "#9c179e"
             ],
             [
              0.4444444444444444,
              "#bd3786"
             ],
             [
              0.5555555555555556,
              "#d8576b"
             ],
             [
              0.6666666666666666,
              "#ed7953"
             ],
             [
              0.7777777777777778,
              "#fb9f3a"
             ],
             [
              0.8888888888888888,
              "#fdca26"
             ],
             [
              1,
              "#f0f921"
             ]
            ],
            "type": "heatmapgl"
           }
          ],
          "histogram": [
           {
            "marker": {
             "pattern": {
              "fillmode": "overlay",
              "size": 10,
              "solidity": 0.2
             }
            },
            "type": "histogram"
           }
          ],
          "histogram2d": [
           {
            "colorbar": {
             "outlinewidth": 0,
             "ticks": ""
            },
            "colorscale": [
             [
              0,
              "#0d0887"
             ],
             [
              0.1111111111111111,
              "#46039f"
             ],
             [
              0.2222222222222222,
              "#7201a8"
             ],
             [
              0.3333333333333333,
              "#9c179e"
             ],
             [
              0.4444444444444444,
              "#bd3786"
             ],
             [
              0.5555555555555556,
              "#d8576b"
             ],
             [
              0.6666666666666666,
              "#ed7953"
             ],
             [
              0.7777777777777778,
              "#fb9f3a"
             ],
             [
              0.8888888888888888,
              "#fdca26"
             ],
             [
              1,
              "#f0f921"
             ]
            ],
            "type": "histogram2d"
           }
          ],
          "histogram2dcontour": [
           {
            "colorbar": {
             "outlinewidth": 0,
             "ticks": ""
            },
            "colorscale": [
             [
              0,
              "#0d0887"
             ],
             [
              0.1111111111111111,
              "#46039f"
             ],
             [
              0.2222222222222222,
              "#7201a8"
             ],
             [
              0.3333333333333333,
              "#9c179e"
             ],
             [
              0.4444444444444444,
              "#bd3786"
             ],
             [
              0.5555555555555556,
              "#d8576b"
             ],
             [
              0.6666666666666666,
              "#ed7953"
             ],
             [
              0.7777777777777778,
              "#fb9f3a"
             ],
             [
              0.8888888888888888,
              "#fdca26"
             ],
             [
              1,
              "#f0f921"
             ]
            ],
            "type": "histogram2dcontour"
           }
          ],
          "mesh3d": [
           {
            "colorbar": {
             "outlinewidth": 0,
             "ticks": ""
            },
            "type": "mesh3d"
           }
          ],
          "parcoords": [
           {
            "line": {
             "colorbar": {
              "outlinewidth": 0,
              "ticks": ""
             }
            },
            "type": "parcoords"
           }
          ],
          "pie": [
           {
            "automargin": true,
            "type": "pie"
           }
          ],
          "scatter": [
           {
            "fillpattern": {
             "fillmode": "overlay",
             "size": 10,
             "solidity": 0.2
            },
            "type": "scatter"
           }
          ],
          "scatter3d": [
           {
            "line": {
             "colorbar": {
              "outlinewidth": 0,
              "ticks": ""
             }
            },
            "marker": {
             "colorbar": {
              "outlinewidth": 0,
              "ticks": ""
             }
            },
            "type": "scatter3d"
           }
          ],
          "scattercarpet": [
           {
            "marker": {
             "colorbar": {
              "outlinewidth": 0,
              "ticks": ""
             }
            },
            "type": "scattercarpet"
           }
          ],
          "scattergeo": [
           {
            "marker": {
             "colorbar": {
              "outlinewidth": 0,
              "ticks": ""
             }
            },
            "type": "scattergeo"
           }
          ],
          "scattergl": [
           {
            "marker": {
             "colorbar": {
              "outlinewidth": 0,
              "ticks": ""
             }
            },
            "type": "scattergl"
           }
          ],
          "scattermapbox": [
           {
            "marker": {
             "colorbar": {
              "outlinewidth": 0,
              "ticks": ""
             }
            },
            "type": "scattermapbox"
           }
          ],
          "scatterpolar": [
           {
            "marker": {
             "colorbar": {
              "outlinewidth": 0,
              "ticks": ""
             }
            },
            "type": "scatterpolar"
           }
          ],
          "scatterpolargl": [
           {
            "marker": {
             "colorbar": {
              "outlinewidth": 0,
              "ticks": ""
             }
            },
            "type": "scatterpolargl"
           }
          ],
          "scatterternary": [
           {
            "marker": {
             "colorbar": {
              "outlinewidth": 0,
              "ticks": ""
             }
            },
            "type": "scatterternary"
           }
          ],
          "surface": [
           {
            "colorbar": {
             "outlinewidth": 0,
             "ticks": ""
            },
            "colorscale": [
             [
              0,
              "#0d0887"
             ],
             [
              0.1111111111111111,
              "#46039f"
             ],
             [
              0.2222222222222222,
              "#7201a8"
             ],
             [
              0.3333333333333333,
              "#9c179e"
             ],
             [
              0.4444444444444444,
              "#bd3786"
             ],
             [
              0.5555555555555556,
              "#d8576b"
             ],
             [
              0.6666666666666666,
              "#ed7953"
             ],
             [
              0.7777777777777778,
              "#fb9f3a"
             ],
             [
              0.8888888888888888,
              "#fdca26"
             ],
             [
              1,
              "#f0f921"
             ]
            ],
            "type": "surface"
           }
          ],
          "table": [
           {
            "cells": {
             "fill": {
              "color": "#EBF0F8"
             },
             "line": {
              "color": "white"
             }
            },
            "header": {
             "fill": {
              "color": "#C8D4E3"
             },
             "line": {
              "color": "white"
             }
            },
            "type": "table"
           }
          ]
         },
         "layout": {
          "annotationdefaults": {
           "arrowcolor": "#2a3f5f",
           "arrowhead": 0,
           "arrowwidth": 1
          },
          "autotypenumbers": "strict",
          "coloraxis": {
           "colorbar": {
            "outlinewidth": 0,
            "ticks": ""
           }
          },
          "colorscale": {
           "diverging": [
            [
             0,
             "#8e0152"
            ],
            [
             0.1,
             "#c51b7d"
            ],
            [
             0.2,
             "#de77ae"
            ],
            [
             0.3,
             "#f1b6da"
            ],
            [
             0.4,
             "#fde0ef"
            ],
            [
             0.5,
             "#f7f7f7"
            ],
            [
             0.6,
             "#e6f5d0"
            ],
            [
             0.7,
             "#b8e186"
            ],
            [
             0.8,
             "#7fbc41"
            ],
            [
             0.9,
             "#4d9221"
            ],
            [
             1,
             "#276419"
            ]
           ],
           "sequential": [
            [
             0,
             "#0d0887"
            ],
            [
             0.1111111111111111,
             "#46039f"
            ],
            [
             0.2222222222222222,
             "#7201a8"
            ],
            [
             0.3333333333333333,
             "#9c179e"
            ],
            [
             0.4444444444444444,
             "#bd3786"
            ],
            [
             0.5555555555555556,
             "#d8576b"
            ],
            [
             0.6666666666666666,
             "#ed7953"
            ],
            [
             0.7777777777777778,
             "#fb9f3a"
            ],
            [
             0.8888888888888888,
             "#fdca26"
            ],
            [
             1,
             "#f0f921"
            ]
           ],
           "sequentialminus": [
            [
             0,
             "#0d0887"
            ],
            [
             0.1111111111111111,
             "#46039f"
            ],
            [
             0.2222222222222222,
             "#7201a8"
            ],
            [
             0.3333333333333333,
             "#9c179e"
            ],
            [
             0.4444444444444444,
             "#bd3786"
            ],
            [
             0.5555555555555556,
             "#d8576b"
            ],
            [
             0.6666666666666666,
             "#ed7953"
            ],
            [
             0.7777777777777778,
             "#fb9f3a"
            ],
            [
             0.8888888888888888,
             "#fdca26"
            ],
            [
             1,
             "#f0f921"
            ]
           ]
          },
          "colorway": [
           "#636efa",
           "#EF553B",
           "#00cc96",
           "#ab63fa",
           "#FFA15A",
           "#19d3f3",
           "#FF6692",
           "#B6E880",
           "#FF97FF",
           "#FECB52"
          ],
          "font": {
           "color": "#2a3f5f"
          },
          "geo": {
           "bgcolor": "white",
           "lakecolor": "white",
           "landcolor": "#E5ECF6",
           "showlakes": true,
           "showland": true,
           "subunitcolor": "white"
          },
          "hoverlabel": {
           "align": "left"
          },
          "hovermode": "closest",
          "mapbox": {
           "style": "light"
          },
          "paper_bgcolor": "white",
          "plot_bgcolor": "#E5ECF6",
          "polar": {
           "angularaxis": {
            "gridcolor": "white",
            "linecolor": "white",
            "ticks": ""
           },
           "bgcolor": "#E5ECF6",
           "radialaxis": {
            "gridcolor": "white",
            "linecolor": "white",
            "ticks": ""
           }
          },
          "scene": {
           "xaxis": {
            "backgroundcolor": "#E5ECF6",
            "gridcolor": "white",
            "gridwidth": 2,
            "linecolor": "white",
            "showbackground": true,
            "ticks": "",
            "zerolinecolor": "white"
           },
           "yaxis": {
            "backgroundcolor": "#E5ECF6",
            "gridcolor": "white",
            "gridwidth": 2,
            "linecolor": "white",
            "showbackground": true,
            "ticks": "",
            "zerolinecolor": "white"
           },
           "zaxis": {
            "backgroundcolor": "#E5ECF6",
            "gridcolor": "white",
            "gridwidth": 2,
            "linecolor": "white",
            "showbackground": true,
            "ticks": "",
            "zerolinecolor": "white"
           }
          },
          "shapedefaults": {
           "line": {
            "color": "#2a3f5f"
           }
          },
          "ternary": {
           "aaxis": {
            "gridcolor": "white",
            "linecolor": "white",
            "ticks": ""
           },
           "baxis": {
            "gridcolor": "white",
            "linecolor": "white",
            "ticks": ""
           },
           "bgcolor": "#E5ECF6",
           "caxis": {
            "gridcolor": "white",
            "linecolor": "white",
            "ticks": ""
           }
          },
          "title": {
           "x": 0.05
          },
          "xaxis": {
           "automargin": true,
           "gridcolor": "white",
           "linecolor": "white",
           "ticks": "",
           "title": {
            "standoff": 15
           },
           "zerolinecolor": "white",
           "zerolinewidth": 2
          },
          "yaxis": {
           "automargin": true,
           "gridcolor": "white",
           "linecolor": "white",
           "ticks": "",
           "title": {
            "standoff": 15
           },
           "zerolinecolor": "white",
           "zerolinewidth": 2
          }
         }
        },
        "xaxis": {
         "title": {
          "text": "predicted distance from WT reference"
         }
        },
        "yaxis": {
         "title": {
          "text": "actual distance from WT reference"
         }
        }
       }
      },
      "text/html": [
       "<div>                            <div id=\"cdf2a591-697f-427b-a54b-18de2443c9c4\" class=\"plotly-graph-div\" style=\"height:525px; width:100%;\"></div>            <script type=\"text/javascript\">                require([\"plotly\"], function(Plotly) {                    window.PLOTLYENV=window.PLOTLYENV || {};                                    if (document.getElementById(\"cdf2a591-697f-427b-a54b-18de2443c9c4\")) {                    Plotly.newPlot(                        \"cdf2a591-697f-427b-a54b-18de2443c9c4\",                        [{\"line\":{\"color\":\"gray\",\"dash\":\"dot\",\"width\":2},\"mode\":\"lines\",\"showlegend\":false,\"x\":[-1.0,-0.6734693877551021,-0.34693877551020413,-0.020408163265306145,0.30612244897959173,0.6326530612244896,0.9591836734693877,1.2857142857142856,1.6122448979591835,1.9387755102040813,2.265306122448979,2.591836734693877,2.9183673469387754,3.244897959183673,3.571428571428571,3.8979591836734686,4.224489795918367,4.551020408163265,4.877551020408163,5.204081632653061,5.530612244897958,5.857142857142857,6.183673469387754,6.5102040816326525,6.836734693877551,7.163265306122449,7.489795918367346,7.816326530612244,8.142857142857142,8.46938775510204,8.795918367346937,9.122448979591836,9.448979591836734,9.775510204081632,10.10204081632653,10.428571428571427,10.755102040816325,11.081632653061224,11.408163265306122,11.734693877551019,12.061224489795917,12.387755102040815,12.714285714285714,13.040816326530612,13.367346938775508,13.693877551020407,14.020408163265305,14.346938775510203,14.673469387755102,15.0],\"y\":[-1.0,-0.6734693877551021,-0.34693877551020413,-0.020408163265306145,0.30612244897959173,0.6326530612244896,0.9591836734693877,1.2857142857142856,1.6122448979591835,1.9387755102040813,2.265306122448979,2.591836734693877,2.9183673469387754,3.244897959183673,3.571428571428571,3.8979591836734686,4.224489795918367,4.551020408163265,4.877551020408163,5.204081632653061,5.530612244897958,5.857142857142857,6.183673469387754,6.5102040816326525,6.836734693877551,7.163265306122449,7.489795918367346,7.816326530612244,8.142857142857142,8.46938775510204,8.795918367346937,9.122448979591836,9.448979591836734,9.775510204081632,10.10204081632653,10.428571428571427,10.755102040816325,11.081632653061224,11.408163265306122,11.734693877551019,12.061224489795917,12.387755102040815,12.714285714285714,13.040816326530612,13.367346938775508,13.693877551020407,14.020408163265305,14.346938775510203,14.673469387755102,15.0],\"type\":\"scatter\"},{\"marker\":{\"color\":[\"#00CC96\",\"#00CC96\",\"#00CC96\"],\"line\":{\"color\":\"DarkSlateGrey\",\"width\":0.8},\"opacity\":1,\"size\":10},\"mode\":\"markers\",\"name\":\"tbxta\",\"showlegend\":true,\"x\":[12.961952766132983,13.291049345385202,13.39073383732764],\"y\":[13.351809428724083,13.023984062567347,13.088354861712183],\"type\":\"scatter\"},{\"marker\":{\"color\":[\"#636EFA\",\"#636EFA\",\"#636EFA\",\"#636EFA\",\"#636EFA\",\"#636EFA\",\"#636EFA\",\"#636EFA\",\"#636EFA\",\"#636EFA\",\"#636EFA\",\"#636EFA\",\"#636EFA\",\"#636EFA\",\"#636EFA\",\"#636EFA\",\"#636EFA\",\"#636EFA\"],\"line\":{\"color\":\"DarkSlateGrey\",\"width\":0.8},\"opacity\":1,\"size\":10},\"mode\":\"markers\",\"name\":\"wik-inj-ctrl\",\"x\":[1.2261141097849868,1.1556978152249722,1.1921470662128562,2.252518183955745,1.1784267895091214,1.2163941210284086,0.7135613222314344,0.7417489394234014,0.754067970107104,0.754149971742863,1.0573337417715414,1.5986647502224467,1.2352746554208716,1.6010824988112795,1.4701736611204796,1.1510256878538496,1.4259698324381969,1.0690180194426535],\"y\":[0.9951126733027932,0.6011483041504216,0.8163522603324664,1.876899876922009,1.3159370812688602,1.7266389094903165,2.006223546885221,1.1709159040772676,0.9500921908927584,1.3230359036232924,1.2239145048603424,1.1020098198717958,1.1819951536361246,1.259477020645161,1.1624350194806918,1.407093750957505,1.2990871010802825,1.507341009832434],\"type\":\"scatter\"},{\"marker\":{\"color\":[\"#EF553B\",\"#EF553B\",\"#EF553B\",\"#EF553B\",\"#EF553B\",\"#EF553B\",\"#EF553B\",\"#EF553B\",\"#EF553B\",\"#EF553B\",\"#EF553B\",\"#EF553B\",\"#EF553B\",\"#EF553B\",\"#EF553B\",\"#EF553B\",\"#EF553B\",\"#EF553B\",\"#EF553B\",\"#EF553B\",\"#EF553B\",\"#EF553B\",\"#EF553B\",\"#EF553B\",\"#EF553B\",\"#EF553B\",\"#EF553B\",\"#EF553B\",\"#EF553B\",\"#EF553B\",\"#EF553B\",\"#EF553B\",\"#EF553B\",\"#EF553B\",\"#EF553B\",\"#EF553B\",\"#EF553B\",\"#EF553B\",\"#EF553B\",\"#EF553B\",\"#EF553B\",\"#EF553B\"],\"line\":{\"color\":\"DarkSlateGrey\",\"width\":1.3},\"opacity\":1,\"size\":10.5},\"mode\":\"markers\",\"name\":\"lmx1b\",\"x\":[1.6464128666552125,1.7131795212894703,1.617089549424441,1.6972540844375996,1.6240084948060083,1.6567780237400578,2.284142842222721,2.1602722525748863,2.212897847743691,2.693015090732958,2.260031705036968,2.055743477798435,2.695844868559467,2.2656512783152447,2.483424974526784,2.6110098550305194,2.1916608692537567,2.4912374359807794,1.9314738295731353,1.8586375469377165,1.2126333189040597,1.3543888695738289,1.4982263283057757,1.835420697390645,2.4252095869545034,1.280694020716633,3.3751595886176284,3.2864150110042134,3.286409894720302,3.4315566620513094,3.2853800496857453,3.3738361372177312,3.407817464653279,3.1896918052122354,3.2934185978733677,3.624709474558494,3.642258691698168,3.228960207839635,3.366758975812785,3.265259621534449,3.281354058941628,3.2858065171362094],\"y\":[2.092098886948005,1.8651475282527643,1.7600150952088165,1.670300688931419,4.198551072054666,2.8445981258951423,3.0193775805137437,2.111161587427146,4.095706289517205,3.0936049221057833,2.532677933594445,2.2149812303534953,4.8215753514153805,2.696613846592872,2.2737796580027503,2.865728519047535,0.6875335131147503,2.8617482170985276,1.9790567684621856,2.2958596438675407,2.468605639086686,2.2888540960509367,1.7483286359825276,2.068514282060622,2.4333781133686263,2.17360413039227,3.0160461520352957,3.1374781576749924,3.2378930079652166,2.5612024904056603,3.0792567896106706,3.4896503306671955,3.430930260261371,3.575692345337727,2.025905711888832,3.509238776856408,4.477959330221722,4.340176592822279,3.506122216637515,2.9796811553645473,2.6223093915788067,2.8014414547572724],\"type\":\"scatter\"}],                        {\"template\":{\"data\":{\"histogram2dcontour\":[{\"type\":\"histogram2dcontour\",\"colorbar\":{\"outlinewidth\":0,\"ticks\":\"\"},\"colorscale\":[[0.0,\"#0d0887\"],[0.1111111111111111,\"#46039f\"],[0.2222222222222222,\"#7201a8\"],[0.3333333333333333,\"#9c179e\"],[0.4444444444444444,\"#bd3786\"],[0.5555555555555556,\"#d8576b\"],[0.6666666666666666,\"#ed7953\"],[0.7777777777777778,\"#fb9f3a\"],[0.8888888888888888,\"#fdca26\"],[1.0,\"#f0f921\"]]}],\"choropleth\":[{\"type\":\"choropleth\",\"colorbar\":{\"outlinewidth\":0,\"ticks\":\"\"}}],\"histogram2d\":[{\"type\":\"histogram2d\",\"colorbar\":{\"outlinewidth\":0,\"ticks\":\"\"},\"colorscale\":[[0.0,\"#0d0887\"],[0.1111111111111111,\"#46039f\"],[0.2222222222222222,\"#7201a8\"],[0.3333333333333333,\"#9c179e\"],[0.4444444444444444,\"#bd3786\"],[0.5555555555555556,\"#d8576b\"],[0.6666666666666666,\"#ed7953\"],[0.7777777777777778,\"#fb9f3a\"],[0.8888888888888888,\"#fdca26\"],[1.0,\"#f0f921\"]]}],\"heatmap\":[{\"type\":\"heatmap\",\"colorbar\":{\"outlinewidth\":0,\"ticks\":\"\"},\"colorscale\":[[0.0,\"#0d0887\"],[0.1111111111111111,\"#46039f\"],[0.2222222222222222,\"#7201a8\"],[0.3333333333333333,\"#9c179e\"],[0.4444444444444444,\"#bd3786\"],[0.5555555555555556,\"#d8576b\"],[0.6666666666666666,\"#ed7953\"],[0.7777777777777778,\"#fb9f3a\"],[0.8888888888888888,\"#fdca26\"],[1.0,\"#f0f921\"]]}],\"heatmapgl\":[{\"type\":\"heatmapgl\",\"colorbar\":{\"outlinewidth\":0,\"ticks\":\"\"},\"colorscale\":[[0.0,\"#0d0887\"],[0.1111111111111111,\"#46039f\"],[0.2222222222222222,\"#7201a8\"],[0.3333333333333333,\"#9c179e\"],[0.4444444444444444,\"#bd3786\"],[0.5555555555555556,\"#d8576b\"],[0.6666666666666666,\"#ed7953\"],[0.7777777777777778,\"#fb9f3a\"],[0.8888888888888888,\"#fdca26\"],[1.0,\"#f0f921\"]]}],\"contourcarpet\":[{\"type\":\"contourcarpet\",\"colorbar\":{\"outlinewidth\":0,\"ticks\":\"\"}}],\"contour\":[{\"type\":\"contour\",\"colorbar\":{\"outlinewidth\":0,\"ticks\":\"\"},\"colorscale\":[[0.0,\"#0d0887\"],[0.1111111111111111,\"#46039f\"],[0.2222222222222222,\"#7201a8\"],[0.3333333333333333,\"#9c179e\"],[0.4444444444444444,\"#bd3786\"],[0.5555555555555556,\"#d8576b\"],[0.6666666666666666,\"#ed7953\"],[0.7777777777777778,\"#fb9f3a\"],[0.8888888888888888,\"#fdca26\"],[1.0,\"#f0f921\"]]}],\"surface\":[{\"type\":\"surface\",\"colorbar\":{\"outlinewidth\":0,\"ticks\":\"\"},\"colorscale\":[[0.0,\"#0d0887\"],[0.1111111111111111,\"#46039f\"],[0.2222222222222222,\"#7201a8\"],[0.3333333333333333,\"#9c179e\"],[0.4444444444444444,\"#bd3786\"],[0.5555555555555556,\"#d8576b\"],[0.6666666666666666,\"#ed7953\"],[0.7777777777777778,\"#fb9f3a\"],[0.8888888888888888,\"#fdca26\"],[1.0,\"#f0f921\"]]}],\"mesh3d\":[{\"type\":\"mesh3d\",\"colorbar\":{\"outlinewidth\":0,\"ticks\":\"\"}}],\"scatter\":[{\"fillpattern\":{\"fillmode\":\"overlay\",\"size\":10,\"solidity\":0.2},\"type\":\"scatter\"}],\"parcoords\":[{\"type\":\"parcoords\",\"line\":{\"colorbar\":{\"outlinewidth\":0,\"ticks\":\"\"}}}],\"scatterpolargl\":[{\"type\":\"scatterpolargl\",\"marker\":{\"colorbar\":{\"outlinewidth\":0,\"ticks\":\"\"}}}],\"bar\":[{\"error_x\":{\"color\":\"#2a3f5f\"},\"error_y\":{\"color\":\"#2a3f5f\"},\"marker\":{\"line\":{\"color\":\"#E5ECF6\",\"width\":0.5},\"pattern\":{\"fillmode\":\"overlay\",\"size\":10,\"solidity\":0.2}},\"type\":\"bar\"}],\"scattergeo\":[{\"type\":\"scattergeo\",\"marker\":{\"colorbar\":{\"outlinewidth\":0,\"ticks\":\"\"}}}],\"scatterpolar\":[{\"type\":\"scatterpolar\",\"marker\":{\"colorbar\":{\"outlinewidth\":0,\"ticks\":\"\"}}}],\"histogram\":[{\"marker\":{\"pattern\":{\"fillmode\":\"overlay\",\"size\":10,\"solidity\":0.2}},\"type\":\"histogram\"}],\"scattergl\":[{\"type\":\"scattergl\",\"marker\":{\"colorbar\":{\"outlinewidth\":0,\"ticks\":\"\"}}}],\"scatter3d\":[{\"type\":\"scatter3d\",\"line\":{\"colorbar\":{\"outlinewidth\":0,\"ticks\":\"\"}},\"marker\":{\"colorbar\":{\"outlinewidth\":0,\"ticks\":\"\"}}}],\"scattermapbox\":[{\"type\":\"scattermapbox\",\"marker\":{\"colorbar\":{\"outlinewidth\":0,\"ticks\":\"\"}}}],\"scatterternary\":[{\"type\":\"scatterternary\",\"marker\":{\"colorbar\":{\"outlinewidth\":0,\"ticks\":\"\"}}}],\"scattercarpet\":[{\"type\":\"scattercarpet\",\"marker\":{\"colorbar\":{\"outlinewidth\":0,\"ticks\":\"\"}}}],\"carpet\":[{\"aaxis\":{\"endlinecolor\":\"#2a3f5f\",\"gridcolor\":\"white\",\"linecolor\":\"white\",\"minorgridcolor\":\"white\",\"startlinecolor\":\"#2a3f5f\"},\"baxis\":{\"endlinecolor\":\"#2a3f5f\",\"gridcolor\":\"white\",\"linecolor\":\"white\",\"minorgridcolor\":\"white\",\"startlinecolor\":\"#2a3f5f\"},\"type\":\"carpet\"}],\"table\":[{\"cells\":{\"fill\":{\"color\":\"#EBF0F8\"},\"line\":{\"color\":\"white\"}},\"header\":{\"fill\":{\"color\":\"#C8D4E3\"},\"line\":{\"color\":\"white\"}},\"type\":\"table\"}],\"barpolar\":[{\"marker\":{\"line\":{\"color\":\"#E5ECF6\",\"width\":0.5},\"pattern\":{\"fillmode\":\"overlay\",\"size\":10,\"solidity\":0.2}},\"type\":\"barpolar\"}],\"pie\":[{\"automargin\":true,\"type\":\"pie\"}]},\"layout\":{\"autotypenumbers\":\"strict\",\"colorway\":[\"#636efa\",\"#EF553B\",\"#00cc96\",\"#ab63fa\",\"#FFA15A\",\"#19d3f3\",\"#FF6692\",\"#B6E880\",\"#FF97FF\",\"#FECB52\"],\"font\":{\"color\":\"#2a3f5f\"},\"hovermode\":\"closest\",\"hoverlabel\":{\"align\":\"left\"},\"paper_bgcolor\":\"white\",\"plot_bgcolor\":\"#E5ECF6\",\"polar\":{\"bgcolor\":\"#E5ECF6\",\"angularaxis\":{\"gridcolor\":\"white\",\"linecolor\":\"white\",\"ticks\":\"\"},\"radialaxis\":{\"gridcolor\":\"white\",\"linecolor\":\"white\",\"ticks\":\"\"}},\"ternary\":{\"bgcolor\":\"#E5ECF6\",\"aaxis\":{\"gridcolor\":\"white\",\"linecolor\":\"white\",\"ticks\":\"\"},\"baxis\":{\"gridcolor\":\"white\",\"linecolor\":\"white\",\"ticks\":\"\"},\"caxis\":{\"gridcolor\":\"white\",\"linecolor\":\"white\",\"ticks\":\"\"}},\"coloraxis\":{\"colorbar\":{\"outlinewidth\":0,\"ticks\":\"\"}},\"colorscale\":{\"sequential\":[[0.0,\"#0d0887\"],[0.1111111111111111,\"#46039f\"],[0.2222222222222222,\"#7201a8\"],[0.3333333333333333,\"#9c179e\"],[0.4444444444444444,\"#bd3786\"],[0.5555555555555556,\"#d8576b\"],[0.6666666666666666,\"#ed7953\"],[0.7777777777777778,\"#fb9f3a\"],[0.8888888888888888,\"#fdca26\"],[1.0,\"#f0f921\"]],\"sequentialminus\":[[0.0,\"#0d0887\"],[0.1111111111111111,\"#46039f\"],[0.2222222222222222,\"#7201a8\"],[0.3333333333333333,\"#9c179e\"],[0.4444444444444444,\"#bd3786\"],[0.5555555555555556,\"#d8576b\"],[0.6666666666666666,\"#ed7953\"],[0.7777777777777778,\"#fb9f3a\"],[0.8888888888888888,\"#fdca26\"],[1.0,\"#f0f921\"]],\"diverging\":[[0,\"#8e0152\"],[0.1,\"#c51b7d\"],[0.2,\"#de77ae\"],[0.3,\"#f1b6da\"],[0.4,\"#fde0ef\"],[0.5,\"#f7f7f7\"],[0.6,\"#e6f5d0\"],[0.7,\"#b8e186\"],[0.8,\"#7fbc41\"],[0.9,\"#4d9221\"],[1,\"#276419\"]]},\"xaxis\":{\"gridcolor\":\"white\",\"linecolor\":\"white\",\"ticks\":\"\",\"title\":{\"standoff\":15},\"zerolinecolor\":\"white\",\"automargin\":true,\"zerolinewidth\":2},\"yaxis\":{\"gridcolor\":\"white\",\"linecolor\":\"white\",\"ticks\":\"\",\"title\":{\"standoff\":15},\"zerolinecolor\":\"white\",\"automargin\":true,\"zerolinewidth\":2},\"scene\":{\"xaxis\":{\"backgroundcolor\":\"#E5ECF6\",\"gridcolor\":\"white\",\"linecolor\":\"white\",\"showbackground\":true,\"ticks\":\"\",\"zerolinecolor\":\"white\",\"gridwidth\":2},\"yaxis\":{\"backgroundcolor\":\"#E5ECF6\",\"gridcolor\":\"white\",\"linecolor\":\"white\",\"showbackground\":true,\"ticks\":\"\",\"zerolinecolor\":\"white\",\"gridwidth\":2},\"zaxis\":{\"backgroundcolor\":\"#E5ECF6\",\"gridcolor\":\"white\",\"linecolor\":\"white\",\"showbackground\":true,\"ticks\":\"\",\"zerolinecolor\":\"white\",\"gridwidth\":2}},\"shapedefaults\":{\"line\":{\"color\":\"#2a3f5f\"}},\"annotationdefaults\":{\"arrowcolor\":\"#2a3f5f\",\"arrowhead\":0,\"arrowwidth\":1},\"geo\":{\"bgcolor\":\"white\",\"landcolor\":\"#E5ECF6\",\"subunitcolor\":\"white\",\"showland\":true,\"showlakes\":true,\"lakecolor\":\"white\"},\"title\":{\"x\":0.05},\"mapbox\":{\"style\":\"light\"}}},\"font\":{\"family\":\"Arial\",\"size\":14,\"color\":\"Black\"},\"xaxis\":{\"title\":{\"text\":\"predicted distance from WT reference\"}},\"yaxis\":{\"title\":{\"text\":\"actual distance from WT reference\"}},\"legend\":{\"title\":{\"text\":\"perturbation\"}}},                        {\"responsive\": true}                    ).then(function(){\n",
       "                            \n",
       "var gd = document.getElementById('cdf2a591-697f-427b-a54b-18de2443c9c4');\n",
       "var x = new MutationObserver(function (mutations, observer) {{\n",
       "        var display = window.getComputedStyle(gd).display;\n",
       "        if (!display || display === 'none') {{\n",
       "            console.log([gd, 'removed!']);\n",
       "            Plotly.purge(gd);\n",
       "            observer.disconnect();\n",
       "        }}\n",
       "}});\n",
       "\n",
       "// Listen for the removal of the full notebook cells\n",
       "var notebookContainer = gd.closest('#notebook-container');\n",
       "if (notebookContainer) {{\n",
       "    x.observe(notebookContainer, {childList: true});\n",
       "}}\n",
       "\n",
       "// Listen for the clearing of the current output cell\n",
       "var outputEl = gd.closest('.output');\n",
       "if (outputEl) {{\n",
       "    x.observe(outputEl, {childList: true});\n",
       "}}\n",
       "\n",
       "                        })                };                });            </script>        </div>"
      ]
     },
     "metadata": {},
     "output_type": "display_data"
    }
   ],
   "source": [
    "import plotly.graph_objects as go\n",
    "\n",
    "label_dict = {\"morph_wik_dist_actual\": \"actual distance from WT reference\",\n",
    "                         \"morph_wik_dist_pd\": \"predicted distance from WT reference\",\n",
    "                         \"master_perturbation\":\"perturbation\"}\n",
    "pastel_red = \"rgb(251,180,174)\"\n",
    "\n",
    "color_dict = dict({\"lmx1b\" :\"#EF553B\" , \"wik\":\"black\", \"wik-inj-ctrl\":\"#636EFA\", \"tbxta\":\"#00CC96\"})\n",
    "color_vec = np.asarray([color_dict[p] for p in res_df_test.loc[:, \"master_perturbation\"].tolist()])\n",
    "\n",
    "# just the line\n",
    "fig = go.Figure()\n",
    "\n",
    "ref_line = np.linspace(-1, 15)\n",
    "fig.add_scatter(\n",
    "        x=ref_line, \n",
    "        y=ref_line, \n",
    "        mode='lines', \n",
    "        line_color='gray', \n",
    "        showlegend=False,\n",
    "        line=dict(width=2, dash='dot')\n",
    "    )\n",
    "\n",
    "\n",
    "fig.update_layout(\n",
    "    xaxis_title=\"predicted distance from WT reference\",\n",
    "    yaxis_title=\"actual distance from WT reference\",\n",
    "    legend_title=\"perturbation\",\n",
    "    font=dict(\n",
    "        family=\"Arial\",\n",
    "        size=14,\n",
    "        color=\"Black\"\n",
    "    )\n",
    ")\n",
    "\n",
    "fig.add_scatter(x=res_df_test.loc[tbxta_bool, \"morph_ctrl_dist_pd\"], \n",
    "                y=res_df_test.loc[tbxta_bool, \"morph_ctrl_dist_actual\"], \n",
    "                mode=\"markers\",\n",
    "                marker=dict(size=10, opacity=0, color=color_vec[tbxta_bool],\n",
    "                                      ),\n",
    "                name=\"wik-inj-ctrl\"\n",
    "               )\n",
    "\n",
    "fig.write_image(os.path.join(figure_dir, \"lmx_distance_prediction_plot00.png\"), scale=4)\n",
    "\n",
    "#######\n",
    "# add tbxta and inj-ctrl\n",
    "\n",
    "fig = go.Figure()\n",
    "\n",
    "ref_line = np.linspace(-1, 15)\n",
    "fig.add_scatter(\n",
    "        x=ref_line, \n",
    "        y=ref_line, \n",
    "        mode='lines', \n",
    "        line_color='gray', \n",
    "        showlegend=False,\n",
    "        line=dict(width=2, dash='dot')\n",
    "    )\n",
    "\n",
    "\n",
    "fig.update_layout(\n",
    "    xaxis_title=\"predicted distance from WT reference\",\n",
    "    yaxis_title=\"actual distance from WT reference\",\n",
    "    legend_title=\"perturbation\",\n",
    "    font=dict(\n",
    "        family=\"Arial\",\n",
    "        size=14,\n",
    "        color=\"Black\"\n",
    "    )\n",
    ")\n",
    "\n",
    "fig.add_scatter(x=res_df_test.loc[tbxta_bool, \"morph_ctrl_dist_pd\"], \n",
    "                y=res_df_test.loc[tbxta_bool, \"morph_ctrl_dist_actual\"], \n",
    "                mode=\"markers\",\n",
    "                marker=dict(size=10, opacity=1, color=color_vec[tbxta_bool],\n",
    "                                      line=dict(width=0.8,\n",
    "                                        color='DarkSlateGrey')),\n",
    "                name=\"tbxta\",\n",
    "                showlegend=True\n",
    "               )\n",
    "\n",
    "fig.add_scatter(x=res_df_test.loc[ctrl_bool, \"morph_ctrl_dist_pd\"], \n",
    "                y=res_df_test.loc[ctrl_bool, \"morph_ctrl_dist_actual\"], \n",
    "                mode=\"markers\",\n",
    "                marker=dict(size=10, opacity=1, color=color_vec[ctrl_bool],\n",
    "                                      line=dict(width=0.8,\n",
    "                                        color='DarkSlateGrey')),\n",
    "                name=\"wik-inj-ctrl\"\n",
    "               )\n",
    "\n",
    "\n",
    "\n",
    "fig.write_image(os.path.join(figure_dir, \"lmx_distance_prediction_plot01.png\"), scale=4)\n",
    "     \n",
    "fig.add_scatter(x=res_df_test.loc[lmx_bool, \"morph_ctrl_dist_pd\"], \n",
    "                y=res_df_test.loc[lmx_bool, \"morph_ctrl_dist_actual\"], \n",
    "                mode=\"markers\",\n",
    "                marker=dict(size=10.5, opacity=1, color=color_vec[lmx_bool],\n",
    "                                      line=dict(width=1.3,\n",
    "                                        color='DarkSlateGrey')),\n",
    "                name=\"lmx1b\"\n",
    "               )\n",
    "\n",
    "\n",
    "fig.write_image(os.path.join(figure_dir, \"lmx_distance_prediction_plot02.png\"), scale=4)\n",
    "                            \n",
    "fig.show()\n",
    "# # # save\n",
    "# # fig.write_image(os.path.join(figure_dir, \"lmx_distance_prediction_plot.png\"), scale=4)"
   ]
  },
  {
   "cell_type": "markdown",
   "id": "8ad82dc2",
   "metadata": {},
   "source": [
    "### Latent space plots"
   ]
  },
  {
   "cell_type": "code",
   "execution_count": 105,
   "id": "8f08935a",
   "metadata": {},
   "outputs": [
    {
     "data": {
      "application/vnd.plotly.v1+json": {
       "config": {
        "plotlyServerURL": "https://plot.ly"
       },
       "data": [
        {
         "hovertemplate": "master_perturbation=lmx1b<br>UMAP_00_bio_3=%{x}<br>UMAP_01_bio_3=%{y}<br>UMAP_02_bio_3=%{z}<extra></extra>",
         "legendgroup": "lmx1b",
         "marker": {
          "color": "#EF553B",
          "line": {
           "color": "DarkSlateGrey",
           "width": 2
          },
          "opacity": 1,
          "size": 7,
          "symbol": "circle"
         },
         "mode": "markers",
         "name": "lmx1b",
         "scene": "scene",
         "showlegend": true,
         "type": "scatter3d",
         "x": [
          11.113815,
          10.509127,
          11.36551,
          10.835118,
          11.465577,
          11.397931,
          10.759049,
          10.5637045,
          9.014369,
          10.445036,
          12.550689,
          11.332528,
          11.379938,
          13.895308,
          10.635856,
          12.50844,
          9.392196,
          10.542673,
          11.1650505,
          10.6894655,
          11.568377,
          9.571724,
          10.03844,
          10.783549,
          12.072484,
          12.15091,
          10.333715,
          11.403646,
          12.503125,
          11.317299,
          14.728319,
          9.387027,
          11.01177,
          11.611861,
          13.15005,
          9.071554,
          11.635203,
          12.711079,
          10.9997635,
          13.384659,
          10.106556,
          11.004806,
          9.879027,
          12.923541,
          11.276823,
          9.785246,
          11.87844,
          10.709195,
          11.177637,
          10.918215,
          10.495303,
          9.285706,
          10.888228,
          11.481734,
          11.04935,
          10.8213,
          11.169366,
          10.637614,
          9.720586,
          10.721133,
          10.564259,
          10.381359,
          10.667335,
          11.114493,
          10.998121,
          11.03274,
          11.066662,
          11.797396,
          10.460791,
          10.302871,
          11.052477,
          10.541386,
          10.34781,
          10.090337,
          10.271494,
          11.910392,
          10.175466,
          9.36597,
          9.704807,
          10.916359,
          10.566479,
          9.481849,
          11.146661,
          12.355327,
          11.689244,
          11.270695,
          10.383198
         ],
         "y": [
          10.275453,
          10.2426815,
          10.008437,
          8.409733,
          9.634446,
          9.302566,
          10.265801,
          9.233887,
          10.452098,
          10.473545,
          9.368522,
          9.893155,
          8.770681,
          9.453449,
          9.115284,
          10.426614,
          9.708928,
          8.764806,
          8.547125,
          7.6750703,
          9.057268,
          9.554189,
          10.28524,
          7.9557395,
          9.8546,
          9.743152,
          8.334828,
          8.426901,
          10.513237,
          9.487897,
          9.1496725,
          9.537378,
          8.816903,
          8.592716,
          7.586764,
          10.459967,
          10.004491,
          8.594034,
          7.823455,
          9.57302,
          8.8484,
          7.781951,
          8.967493,
          9.680329,
          10.3449135,
          10.086016,
          10.257847,
          9.118463,
          10.357198,
          10.162161,
          9.104143,
          10.321602,
          10.450801,
          10.248935,
          10.404863,
          10.248566,
          10.014798,
          10.116172,
          9.464348,
          7.790931,
          8.233401,
          10.535375,
          7.9203553,
          9.722349,
          9.863325,
          7.704589,
          9.851558,
          7.697239,
          7.7014294,
          7.8838487,
          9.593743,
          10.328006,
          10.424635,
          9.349282,
          7.8539495,
          7.922406,
          8.155363,
          10.249665,
          9.260765,
          7.818674,
          10.373944,
          9.726981,
          8.629356,
          10.322425,
          7.958031,
          8.488235,
          8.307453
         ],
         "z": [
          19.99639,
          20.643076,
          19.95813,
          21.057095,
          20.000305,
          20.424665,
          20.528341,
          20.915344,
          19.482859,
          19.699467,
          21.379549,
          20.803663,
          20.651272,
          22.471893,
          20.76769,
          21.800508,
          19.803595,
          20.817991,
          20.630726,
          21.082008,
          20.262426,
          20.006601,
          20.24779,
          20.717484,
          20.663563,
          20.550396,
          20.986237,
          20.466372,
          21.65924,
          21.053545,
          21.750814,
          19.789116,
          20.147186,
          21.65834,
          20.13383,
          19.508976,
          21.195066,
          21.391214,
          20.991306,
          20.477922,
          20.738785,
          21.091736,
          20.668093,
          20.541866,
          19.9917,
          19.926916,
          20.295336,
          20.993391,
          20.5179,
          19.87842,
          20.849371,
          19.635359,
          20.074379,
          20.07151,
          20.23692,
          19.797485,
          19.707117,
          20.931118,
          20.338837,
          21.216028,
          21.292156,
          19.640472,
          21.210566,
          21.549475,
          21.368938,
          21.130587,
          21.46488,
          20.65153,
          21.157217,
          21.025805,
          21.53712,
          19.603868,
          19.56124,
          20.933596,
          21.106485,
          20.638878,
          21.020044,
          19.724329,
          20.238384,
          21.431036,
          19.549604,
          19.933332,
          19.942024,
          20.45541,
          20.46745,
          20.06832,
          21.122974
         ]
        },
        {
         "hovertemplate": "master_perturbation=wik<br>UMAP_00_bio_3=%{x}<br>UMAP_01_bio_3=%{y}<br>UMAP_02_bio_3=%{z}<extra></extra>",
         "legendgroup": "wik",
         "marker": {
          "color": "rgb(179, 205, 227)",
          "line": {
           "color": "DarkSlateGrey",
           "width": 2
          },
          "opacity": 1,
          "size": 7,
          "symbol": "circle"
         },
         "mode": "markers",
         "name": "wik",
         "scene": "scene",
         "showlegend": true,
         "type": "scatter3d",
         "x": [
          12.084709,
          13.110988,
          12.529695,
          13.156654,
          13.084762,
          12.804479,
          12.359628,
          12.530627,
          13.980909,
          14.984334,
          13.578907,
          14.357714,
          13.688384,
          14.246235,
          13.779974,
          14.87136,
          14.444235,
          14.841174,
          14.087184,
          14.160736,
          13.899393,
          13.927085,
          13.4673395
         ],
         "y": [
          10.1779585,
          10.106932,
          9.985684,
          10.410767,
          10.21043,
          10.137667,
          10.4085455,
          9.953819,
          9.581523,
          9.230558,
          9.954361,
          9.182938,
          9.642592,
          9.57484,
          9.684966,
          9.443645,
          9.259825,
          9.16361,
          9.466405,
          9.898229,
          9.378218,
          9.93893,
          7.4712152
         ],
         "z": [
          21.216225,
          21.516912,
          21.380505,
          21.708588,
          21.951578,
          21.761398,
          21.309177,
          21.343512,
          21.898815,
          22.091549,
          21.908054,
          22.392056,
          22.253792,
          22.520487,
          22.073275,
          22.199211,
          21.444412,
          21.887238,
          21.292673,
          22.446274,
          20.95106,
          21.777493,
          20.080341
         ]
        },
        {
         "hovertemplate": "master_perturbation=wik-inj-ctrl<br>UMAP_00_bio_3=%{x}<br>UMAP_01_bio_3=%{y}<br>UMAP_02_bio_3=%{z}<extra></extra>",
         "legendgroup": "wik-inj-ctrl",
         "marker": {
          "color": "#636EFA",
          "line": {
           "color": "DarkSlateGrey",
           "width": 2
          },
          "opacity": 1,
          "size": 7,
          "symbol": "circle"
         },
         "mode": "markers",
         "name": "wik-inj-ctrl",
         "scene": "scene",
         "showlegend": true,
         "type": "scatter3d",
         "x": [
          13.193277,
          12.275262,
          13.189636,
          12.87883,
          13.155558,
          12.5729265,
          12.975131,
          13.257747,
          13.395449,
          14.419122,
          13.878804,
          14.719851,
          12.256071,
          14.772277,
          14.013532,
          14.110971,
          13.648256,
          14.935595,
          14.559676,
          13.439817,
          13.759699,
          13.413413,
          12.761199,
          13.557788,
          13.367299,
          11.280384,
          11.736194,
          13.705573,
          13.209538,
          13.456529,
          12.180122,
          13.12622,
          13.441044,
          13.196257,
          13.288882,
          13.470309,
          13.855052,
          13.987912,
          13.962059,
          13.315049,
          13.009435,
          13.4742985,
          13.51771,
          13.391838,
          13.277376,
          13.438237,
          13.645536,
          13.473852
         ],
         "y": [
          9.613187,
          9.9499035,
          10.427094,
          10.5961275,
          9.826146,
          10.514854,
          10.262372,
          10.090738,
          9.919135,
          9.202228,
          9.799175,
          9.139926,
          10.13774,
          9.154314,
          9.643714,
          9.530474,
          8.506605,
          9.174598,
          9.074194,
          7.376989,
          10.084288,
          7.485315,
          10.722335,
          10.4989395,
          9.559884,
          9.838772,
          9.50602,
          9.489034,
          9.215751,
          9.0321665,
          9.967655,
          9.207477,
          10.229832,
          7.4771304,
          7.907915,
          7.7454424,
          8.886627,
          9.07226,
          9.798265,
          7.5526156,
          7.5211225,
          7.2245054,
          8.776751,
          7.3386655,
          8.3686075,
          7.296065,
          8.256078,
          7.2579927
         ],
         "z": [
          21.984776,
          20.945478,
          21.67693,
          21.625702,
          21.762333,
          21.400473,
          21.872038,
          21.98457,
          21.47064,
          22.40866,
          21.618704,
          22.28182,
          20.847113,
          22.151924,
          22.144506,
          22.583776,
          19.963802,
          22.065077,
          21.899012,
          20.213516,
          22.148813,
          20.100918,
          21.47465,
          21.731035,
          20.439081,
          19.8221,
          21.270308,
          20.916037,
          20.435629,
          20.202145,
          20.346783,
          20.508398,
          21.754719,
          20.79219,
          19.927237,
          19.853336,
          22.137373,
          22.368763,
          21.113905,
          20.514107,
          20.534338,
          20.623318,
          20.000025,
          20.686281,
          19.968266,
          20.458323,
          19.911388,
          20.559423
         ]
        },
        {
         "hovertemplate": "master_perturbation=tbxta<br>UMAP_00_bio_3=%{x}<br>UMAP_01_bio_3=%{y}<br>UMAP_02_bio_3=%{z}<extra></extra>",
         "legendgroup": "tbxta",
         "marker": {
          "color": "#00CC96",
          "line": {
           "color": "DarkSlateGrey",
           "width": 2
          },
          "opacity": 1,
          "size": 7,
          "symbol": "circle"
         },
         "mode": "markers",
         "name": "tbxta",
         "scene": "scene",
         "showlegend": true,
         "type": "scatter3d",
         "x": [
          2.296146,
          2.7155824,
          2.251292,
          2.347755,
          2.5718184,
          2.4788532,
          2.3643413,
          2.7690554,
          2.4550478,
          2.182789,
          2.676034,
          2.8291597,
          2.6270823,
          2.3844202,
          2.4084601,
          2.3938568
         ],
         "y": [
          6.772567,
          6.9326477,
          6.8336124,
          6.7369547,
          7.092851,
          6.8702316,
          6.7128386,
          6.9402366,
          6.7710013,
          6.7961287,
          7.1147323,
          7.098556,
          7.119021,
          7.089623,
          6.9791403,
          7.1064425
         ],
         "z": [
          13.071213,
          13.220984,
          13.019254,
          13.09614,
          13.154282,
          13.10236,
          13.058315,
          13.188827,
          13.265595,
          13.017539,
          13.177173,
          13.209548,
          13.357022,
          13.272285,
          13.261661,
          13.18161
         ]
        }
       ],
       "layout": {
        "font": {
         "color": "Black",
         "family": "Arial",
         "size": 14
        },
        "legend": {
         "title": {
          "text": "perturbation"
         },
         "tracegroupgap": 0
        },
        "margin": {
         "t": 60
        },
        "scene": {
         "domain": {
          "x": [
           0,
           1
          ],
          "y": [
           0,
           1
          ]
         },
         "xaxis": {
          "showticklabels": false,
          "title": {
           "text": "UMAP 1"
          }
         },
         "yaxis": {
          "showticklabels": false,
          "title": {
           "text": "UMAP 2"
          }
         },
         "zaxis": {
          "showticklabels": false,
          "title": {
           "text": "UMAP 3"
          }
         }
        },
        "template": {
         "data": {
          "bar": [
           {
            "error_x": {
             "color": "#2a3f5f"
            },
            "error_y": {
             "color": "#2a3f5f"
            },
            "marker": {
             "line": {
              "color": "#E5ECF6",
              "width": 0.5
             },
             "pattern": {
              "fillmode": "overlay",
              "size": 10,
              "solidity": 0.2
             }
            },
            "type": "bar"
           }
          ],
          "barpolar": [
           {
            "marker": {
             "line": {
              "color": "#E5ECF6",
              "width": 0.5
             },
             "pattern": {
              "fillmode": "overlay",
              "size": 10,
              "solidity": 0.2
             }
            },
            "type": "barpolar"
           }
          ],
          "carpet": [
           {
            "aaxis": {
             "endlinecolor": "#2a3f5f",
             "gridcolor": "white",
             "linecolor": "white",
             "minorgridcolor": "white",
             "startlinecolor": "#2a3f5f"
            },
            "baxis": {
             "endlinecolor": "#2a3f5f",
             "gridcolor": "white",
             "linecolor": "white",
             "minorgridcolor": "white",
             "startlinecolor": "#2a3f5f"
            },
            "type": "carpet"
           }
          ],
          "choropleth": [
           {
            "colorbar": {
             "outlinewidth": 0,
             "ticks": ""
            },
            "type": "choropleth"
           }
          ],
          "contour": [
           {
            "colorbar": {
             "outlinewidth": 0,
             "ticks": ""
            },
            "colorscale": [
             [
              0,
              "#0d0887"
             ],
             [
              0.1111111111111111,
              "#46039f"
             ],
             [
              0.2222222222222222,
              "#7201a8"
             ],
             [
              0.3333333333333333,
              "#9c179e"
             ],
             [
              0.4444444444444444,
              "#bd3786"
             ],
             [
              0.5555555555555556,
              "#d8576b"
             ],
             [
              0.6666666666666666,
              "#ed7953"
             ],
             [
              0.7777777777777778,
              "#fb9f3a"
             ],
             [
              0.8888888888888888,
              "#fdca26"
             ],
             [
              1,
              "#f0f921"
             ]
            ],
            "type": "contour"
           }
          ],
          "contourcarpet": [
           {
            "colorbar": {
             "outlinewidth": 0,
             "ticks": ""
            },
            "type": "contourcarpet"
           }
          ],
          "heatmap": [
           {
            "colorbar": {
             "outlinewidth": 0,
             "ticks": ""
            },
            "colorscale": [
             [
              0,
              "#0d0887"
             ],
             [
              0.1111111111111111,
              "#46039f"
             ],
             [
              0.2222222222222222,
              "#7201a8"
             ],
             [
              0.3333333333333333,
              "#9c179e"
             ],
             [
              0.4444444444444444,
              "#bd3786"
             ],
             [
              0.5555555555555556,
              "#d8576b"
             ],
             [
              0.6666666666666666,
              "#ed7953"
             ],
             [
              0.7777777777777778,
              "#fb9f3a"
             ],
             [
              0.8888888888888888,
              "#fdca26"
             ],
             [
              1,
              "#f0f921"
             ]
            ],
            "type": "heatmap"
           }
          ],
          "heatmapgl": [
           {
            "colorbar": {
             "outlinewidth": 0,
             "ticks": ""
            },
            "colorscale": [
             [
              0,
              "#0d0887"
             ],
             [
              0.1111111111111111,
              "#46039f"
             ],
             [
              0.2222222222222222,
              "#7201a8"
             ],
             [
              0.3333333333333333,
              "#9c179e"
             ],
             [
              0.4444444444444444,
              "#bd3786"
             ],
             [
              0.5555555555555556,
              "#d8576b"
             ],
             [
              0.6666666666666666,
              "#ed7953"
             ],
             [
              0.7777777777777778,
              "#fb9f3a"
             ],
             [
              0.8888888888888888,
              "#fdca26"
             ],
             [
              1,
              "#f0f921"
             ]
            ],
            "type": "heatmapgl"
           }
          ],
          "histogram": [
           {
            "marker": {
             "pattern": {
              "fillmode": "overlay",
              "size": 10,
              "solidity": 0.2
             }
            },
            "type": "histogram"
           }
          ],
          "histogram2d": [
           {
            "colorbar": {
             "outlinewidth": 0,
             "ticks": ""
            },
            "colorscale": [
             [
              0,
              "#0d0887"
             ],
             [
              0.1111111111111111,
              "#46039f"
             ],
             [
              0.2222222222222222,
              "#7201a8"
             ],
             [
              0.3333333333333333,
              "#9c179e"
             ],
             [
              0.4444444444444444,
              "#bd3786"
             ],
             [
              0.5555555555555556,
              "#d8576b"
             ],
             [
              0.6666666666666666,
              "#ed7953"
             ],
             [
              0.7777777777777778,
              "#fb9f3a"
             ],
             [
              0.8888888888888888,
              "#fdca26"
             ],
             [
              1,
              "#f0f921"
             ]
            ],
            "type": "histogram2d"
           }
          ],
          "histogram2dcontour": [
           {
            "colorbar": {
             "outlinewidth": 0,
             "ticks": ""
            },
            "colorscale": [
             [
              0,
              "#0d0887"
             ],
             [
              0.1111111111111111,
              "#46039f"
             ],
             [
              0.2222222222222222,
              "#7201a8"
             ],
             [
              0.3333333333333333,
              "#9c179e"
             ],
             [
              0.4444444444444444,
              "#bd3786"
             ],
             [
              0.5555555555555556,
              "#d8576b"
             ],
             [
              0.6666666666666666,
              "#ed7953"
             ],
             [
              0.7777777777777778,
              "#fb9f3a"
             ],
             [
              0.8888888888888888,
              "#fdca26"
             ],
             [
              1,
              "#f0f921"
             ]
            ],
            "type": "histogram2dcontour"
           }
          ],
          "mesh3d": [
           {
            "colorbar": {
             "outlinewidth": 0,
             "ticks": ""
            },
            "type": "mesh3d"
           }
          ],
          "parcoords": [
           {
            "line": {
             "colorbar": {
              "outlinewidth": 0,
              "ticks": ""
             }
            },
            "type": "parcoords"
           }
          ],
          "pie": [
           {
            "automargin": true,
            "type": "pie"
           }
          ],
          "scatter": [
           {
            "fillpattern": {
             "fillmode": "overlay",
             "size": 10,
             "solidity": 0.2
            },
            "type": "scatter"
           }
          ],
          "scatter3d": [
           {
            "line": {
             "colorbar": {
              "outlinewidth": 0,
              "ticks": ""
             }
            },
            "marker": {
             "colorbar": {
              "outlinewidth": 0,
              "ticks": ""
             }
            },
            "type": "scatter3d"
           }
          ],
          "scattercarpet": [
           {
            "marker": {
             "colorbar": {
              "outlinewidth": 0,
              "ticks": ""
             }
            },
            "type": "scattercarpet"
           }
          ],
          "scattergeo": [
           {
            "marker": {
             "colorbar": {
              "outlinewidth": 0,
              "ticks": ""
             }
            },
            "type": "scattergeo"
           }
          ],
          "scattergl": [
           {
            "marker": {
             "colorbar": {
              "outlinewidth": 0,
              "ticks": ""
             }
            },
            "type": "scattergl"
           }
          ],
          "scattermapbox": [
           {
            "marker": {
             "colorbar": {
              "outlinewidth": 0,
              "ticks": ""
             }
            },
            "type": "scattermapbox"
           }
          ],
          "scatterpolar": [
           {
            "marker": {
             "colorbar": {
              "outlinewidth": 0,
              "ticks": ""
             }
            },
            "type": "scatterpolar"
           }
          ],
          "scatterpolargl": [
           {
            "marker": {
             "colorbar": {
              "outlinewidth": 0,
              "ticks": ""
             }
            },
            "type": "scatterpolargl"
           }
          ],
          "scatterternary": [
           {
            "marker": {
             "colorbar": {
              "outlinewidth": 0,
              "ticks": ""
             }
            },
            "type": "scatterternary"
           }
          ],
          "surface": [
           {
            "colorbar": {
             "outlinewidth": 0,
             "ticks": ""
            },
            "colorscale": [
             [
              0,
              "#0d0887"
             ],
             [
              0.1111111111111111,
              "#46039f"
             ],
             [
              0.2222222222222222,
              "#7201a8"
             ],
             [
              0.3333333333333333,
              "#9c179e"
             ],
             [
              0.4444444444444444,
              "#bd3786"
             ],
             [
              0.5555555555555556,
              "#d8576b"
             ],
             [
              0.6666666666666666,
              "#ed7953"
             ],
             [
              0.7777777777777778,
              "#fb9f3a"
             ],
             [
              0.8888888888888888,
              "#fdca26"
             ],
             [
              1,
              "#f0f921"
             ]
            ],
            "type": "surface"
           }
          ],
          "table": [
           {
            "cells": {
             "fill": {
              "color": "#EBF0F8"
             },
             "line": {
              "color": "white"
             }
            },
            "header": {
             "fill": {
              "color": "#C8D4E3"
             },
             "line": {
              "color": "white"
             }
            },
            "type": "table"
           }
          ]
         },
         "layout": {
          "annotationdefaults": {
           "arrowcolor": "#2a3f5f",
           "arrowhead": 0,
           "arrowwidth": 1
          },
          "autotypenumbers": "strict",
          "coloraxis": {
           "colorbar": {
            "outlinewidth": 0,
            "ticks": ""
           }
          },
          "colorscale": {
           "diverging": [
            [
             0,
             "#8e0152"
            ],
            [
             0.1,
             "#c51b7d"
            ],
            [
             0.2,
             "#de77ae"
            ],
            [
             0.3,
             "#f1b6da"
            ],
            [
             0.4,
             "#fde0ef"
            ],
            [
             0.5,
             "#f7f7f7"
            ],
            [
             0.6,
             "#e6f5d0"
            ],
            [
             0.7,
             "#b8e186"
            ],
            [
             0.8,
             "#7fbc41"
            ],
            [
             0.9,
             "#4d9221"
            ],
            [
             1,
             "#276419"
            ]
           ],
           "sequential": [
            [
             0,
             "#0d0887"
            ],
            [
             0.1111111111111111,
             "#46039f"
            ],
            [
             0.2222222222222222,
             "#7201a8"
            ],
            [
             0.3333333333333333,
             "#9c179e"
            ],
            [
             0.4444444444444444,
             "#bd3786"
            ],
            [
             0.5555555555555556,
             "#d8576b"
            ],
            [
             0.6666666666666666,
             "#ed7953"
            ],
            [
             0.7777777777777778,
             "#fb9f3a"
            ],
            [
             0.8888888888888888,
             "#fdca26"
            ],
            [
             1,
             "#f0f921"
            ]
           ],
           "sequentialminus": [
            [
             0,
             "#0d0887"
            ],
            [
             0.1111111111111111,
             "#46039f"
            ],
            [
             0.2222222222222222,
             "#7201a8"
            ],
            [
             0.3333333333333333,
             "#9c179e"
            ],
            [
             0.4444444444444444,
             "#bd3786"
            ],
            [
             0.5555555555555556,
             "#d8576b"
            ],
            [
             0.6666666666666666,
             "#ed7953"
            ],
            [
             0.7777777777777778,
             "#fb9f3a"
            ],
            [
             0.8888888888888888,
             "#fdca26"
            ],
            [
             1,
             "#f0f921"
            ]
           ]
          },
          "colorway": [
           "#636efa",
           "#EF553B",
           "#00cc96",
           "#ab63fa",
           "#FFA15A",
           "#19d3f3",
           "#FF6692",
           "#B6E880",
           "#FF97FF",
           "#FECB52"
          ],
          "font": {
           "color": "#2a3f5f"
          },
          "geo": {
           "bgcolor": "white",
           "lakecolor": "white",
           "landcolor": "#E5ECF6",
           "showlakes": true,
           "showland": true,
           "subunitcolor": "white"
          },
          "hoverlabel": {
           "align": "left"
          },
          "hovermode": "closest",
          "mapbox": {
           "style": "light"
          },
          "paper_bgcolor": "white",
          "plot_bgcolor": "#E5ECF6",
          "polar": {
           "angularaxis": {
            "gridcolor": "white",
            "linecolor": "white",
            "ticks": ""
           },
           "bgcolor": "#E5ECF6",
           "radialaxis": {
            "gridcolor": "white",
            "linecolor": "white",
            "ticks": ""
           }
          },
          "scene": {
           "xaxis": {
            "backgroundcolor": "#E5ECF6",
            "gridcolor": "white",
            "gridwidth": 2,
            "linecolor": "white",
            "showbackground": true,
            "ticks": "",
            "zerolinecolor": "white"
           },
           "yaxis": {
            "backgroundcolor": "#E5ECF6",
            "gridcolor": "white",
            "gridwidth": 2,
            "linecolor": "white",
            "showbackground": true,
            "ticks": "",
            "zerolinecolor": "white"
           },
           "zaxis": {
            "backgroundcolor": "#E5ECF6",
            "gridcolor": "white",
            "gridwidth": 2,
            "linecolor": "white",
            "showbackground": true,
            "ticks": "",
            "zerolinecolor": "white"
           }
          },
          "shapedefaults": {
           "line": {
            "color": "#2a3f5f"
           }
          },
          "ternary": {
           "aaxis": {
            "gridcolor": "white",
            "linecolor": "white",
            "ticks": ""
           },
           "baxis": {
            "gridcolor": "white",
            "linecolor": "white",
            "ticks": ""
           },
           "bgcolor": "#E5ECF6",
           "caxis": {
            "gridcolor": "white",
            "linecolor": "white",
            "ticks": ""
           }
          },
          "title": {
           "x": 0.05
          },
          "xaxis": {
           "automargin": true,
           "gridcolor": "white",
           "linecolor": "white",
           "ticks": "",
           "title": {
            "standoff": 15
           },
           "zerolinecolor": "white",
           "zerolinewidth": 2
          },
          "yaxis": {
           "automargin": true,
           "gridcolor": "white",
           "linecolor": "white",
           "ticks": "",
           "title": {
            "standoff": 15
           },
           "zerolinecolor": "white",
           "zerolinewidth": 2
          }
         }
        }
       }
      },
      "text/html": [
       "<div>                            <div id=\"0b09dd8e-818a-486b-8b19-c5f5c56223b4\" class=\"plotly-graph-div\" style=\"height:525px; width:100%;\"></div>            <script type=\"text/javascript\">                require([\"plotly\"], function(Plotly) {                    window.PLOTLYENV=window.PLOTLYENV || {};                                    if (document.getElementById(\"0b09dd8e-818a-486b-8b19-c5f5c56223b4\")) {                    Plotly.newPlot(                        \"0b09dd8e-818a-486b-8b19-c5f5c56223b4\",                        [{\"hovertemplate\":\"master_perturbation=lmx1b<br>UMAP_00_bio_3=%{x}<br>UMAP_01_bio_3=%{y}<br>UMAP_02_bio_3=%{z}<extra></extra>\",\"legendgroup\":\"lmx1b\",\"marker\":{\"color\":\"#EF553B\",\"opacity\":1,\"symbol\":\"circle\",\"line\":{\"color\":\"DarkSlateGrey\",\"width\":2},\"size\":7},\"mode\":\"markers\",\"name\":\"lmx1b\",\"scene\":\"scene\",\"showlegend\":true,\"x\":[11.113815,10.509127,11.36551,10.835118,11.465577,11.397931,10.759049,10.5637045,9.014369,10.445036,12.550689,11.332528,11.379938,13.895308,10.635856,12.50844,9.392196,10.542673,11.1650505,10.6894655,11.568377,9.571724,10.03844,10.783549,12.072484,12.15091,10.333715,11.403646,12.503125,11.317299,14.728319,9.387027,11.01177,11.611861,13.15005,9.071554,11.635203,12.711079,10.9997635,13.384659,10.106556,11.004806,9.879027,12.923541,11.276823,9.785246,11.87844,10.709195,11.177637,10.918215,10.495303,9.285706,10.888228,11.481734,11.04935,10.8213,11.169366,10.637614,9.720586,10.721133,10.564259,10.381359,10.667335,11.114493,10.998121,11.03274,11.066662,11.797396,10.460791,10.302871,11.052477,10.541386,10.34781,10.090337,10.271494,11.910392,10.175466,9.36597,9.704807,10.916359,10.566479,9.481849,11.146661,12.355327,11.689244,11.270695,10.383198],\"y\":[10.275453,10.2426815,10.008437,8.409733,9.634446,9.302566,10.265801,9.233887,10.452098,10.473545,9.368522,9.893155,8.770681,9.453449,9.115284,10.426614,9.708928,8.764806,8.547125,7.6750703,9.057268,9.554189,10.28524,7.9557395,9.8546,9.743152,8.334828,8.426901,10.513237,9.487897,9.1496725,9.537378,8.816903,8.592716,7.586764,10.459967,10.004491,8.594034,7.823455,9.57302,8.8484,7.781951,8.967493,9.680329,10.3449135,10.086016,10.257847,9.118463,10.357198,10.162161,9.104143,10.321602,10.450801,10.248935,10.404863,10.248566,10.014798,10.116172,9.464348,7.790931,8.233401,10.535375,7.9203553,9.722349,9.863325,7.704589,9.851558,7.697239,7.7014294,7.8838487,9.593743,10.328006,10.424635,9.349282,7.8539495,7.922406,8.155363,10.249665,9.260765,7.818674,10.373944,9.726981,8.629356,10.322425,7.958031,8.488235,8.307453],\"z\":[19.99639,20.643076,19.95813,21.057095,20.000305,20.424665,20.528341,20.915344,19.482859,19.699467,21.379549,20.803663,20.651272,22.471893,20.76769,21.800508,19.803595,20.817991,20.630726,21.082008,20.262426,20.006601,20.24779,20.717484,20.663563,20.550396,20.986237,20.466372,21.65924,21.053545,21.750814,19.789116,20.147186,21.65834,20.13383,19.508976,21.195066,21.391214,20.991306,20.477922,20.738785,21.091736,20.668093,20.541866,19.9917,19.926916,20.295336,20.993391,20.5179,19.87842,20.849371,19.635359,20.074379,20.07151,20.23692,19.797485,19.707117,20.931118,20.338837,21.216028,21.292156,19.640472,21.210566,21.549475,21.368938,21.130587,21.46488,20.65153,21.157217,21.025805,21.53712,19.603868,19.56124,20.933596,21.106485,20.638878,21.020044,19.724329,20.238384,21.431036,19.549604,19.933332,19.942024,20.45541,20.46745,20.06832,21.122974],\"type\":\"scatter3d\"},{\"hovertemplate\":\"master_perturbation=wik<br>UMAP_00_bio_3=%{x}<br>UMAP_01_bio_3=%{y}<br>UMAP_02_bio_3=%{z}<extra></extra>\",\"legendgroup\":\"wik\",\"marker\":{\"color\":\"rgb(179, 205, 227)\",\"opacity\":1,\"symbol\":\"circle\",\"line\":{\"color\":\"DarkSlateGrey\",\"width\":2},\"size\":7},\"mode\":\"markers\",\"name\":\"wik\",\"scene\":\"scene\",\"showlegend\":true,\"x\":[12.084709,13.110988,12.529695,13.156654,13.084762,12.804479,12.359628,12.530627,13.980909,14.984334,13.578907,14.357714,13.688384,14.246235,13.779974,14.87136,14.444235,14.841174,14.087184,14.160736,13.899393,13.927085,13.4673395],\"y\":[10.1779585,10.106932,9.985684,10.410767,10.21043,10.137667,10.4085455,9.953819,9.581523,9.230558,9.954361,9.182938,9.642592,9.57484,9.684966,9.443645,9.259825,9.16361,9.466405,9.898229,9.378218,9.93893,7.4712152],\"z\":[21.216225,21.516912,21.380505,21.708588,21.951578,21.761398,21.309177,21.343512,21.898815,22.091549,21.908054,22.392056,22.253792,22.520487,22.073275,22.199211,21.444412,21.887238,21.292673,22.446274,20.95106,21.777493,20.080341],\"type\":\"scatter3d\"},{\"hovertemplate\":\"master_perturbation=wik-inj-ctrl<br>UMAP_00_bio_3=%{x}<br>UMAP_01_bio_3=%{y}<br>UMAP_02_bio_3=%{z}<extra></extra>\",\"legendgroup\":\"wik-inj-ctrl\",\"marker\":{\"color\":\"#636EFA\",\"opacity\":1,\"symbol\":\"circle\",\"line\":{\"color\":\"DarkSlateGrey\",\"width\":2},\"size\":7},\"mode\":\"markers\",\"name\":\"wik-inj-ctrl\",\"scene\":\"scene\",\"showlegend\":true,\"x\":[13.193277,12.275262,13.189636,12.87883,13.155558,12.5729265,12.975131,13.257747,13.395449,14.419122,13.878804,14.719851,12.256071,14.772277,14.013532,14.110971,13.648256,14.935595,14.559676,13.439817,13.759699,13.413413,12.761199,13.557788,13.367299,11.280384,11.736194,13.705573,13.209538,13.456529,12.180122,13.12622,13.441044,13.196257,13.288882,13.470309,13.855052,13.987912,13.962059,13.315049,13.009435,13.4742985,13.51771,13.391838,13.277376,13.438237,13.645536,13.473852],\"y\":[9.613187,9.9499035,10.427094,10.5961275,9.826146,10.514854,10.262372,10.090738,9.919135,9.202228,9.799175,9.139926,10.13774,9.154314,9.643714,9.530474,8.506605,9.174598,9.074194,7.376989,10.084288,7.485315,10.722335,10.4989395,9.559884,9.838772,9.50602,9.489034,9.215751,9.0321665,9.967655,9.207477,10.229832,7.4771304,7.907915,7.7454424,8.886627,9.07226,9.798265,7.5526156,7.5211225,7.2245054,8.776751,7.3386655,8.3686075,7.296065,8.256078,7.2579927],\"z\":[21.984776,20.945478,21.67693,21.625702,21.762333,21.400473,21.872038,21.98457,21.47064,22.40866,21.618704,22.28182,20.847113,22.151924,22.144506,22.583776,19.963802,22.065077,21.899012,20.213516,22.148813,20.100918,21.47465,21.731035,20.439081,19.8221,21.270308,20.916037,20.435629,20.202145,20.346783,20.508398,21.754719,20.79219,19.927237,19.853336,22.137373,22.368763,21.113905,20.514107,20.534338,20.623318,20.000025,20.686281,19.968266,20.458323,19.911388,20.559423],\"type\":\"scatter3d\"},{\"hovertemplate\":\"master_perturbation=tbxta<br>UMAP_00_bio_3=%{x}<br>UMAP_01_bio_3=%{y}<br>UMAP_02_bio_3=%{z}<extra></extra>\",\"legendgroup\":\"tbxta\",\"marker\":{\"color\":\"#00CC96\",\"opacity\":1,\"symbol\":\"circle\",\"line\":{\"color\":\"DarkSlateGrey\",\"width\":2},\"size\":7},\"mode\":\"markers\",\"name\":\"tbxta\",\"scene\":\"scene\",\"showlegend\":true,\"x\":[2.296146,2.7155824,2.251292,2.347755,2.5718184,2.4788532,2.3643413,2.7690554,2.4550478,2.182789,2.676034,2.8291597,2.6270823,2.3844202,2.4084601,2.3938568],\"y\":[6.772567,6.9326477,6.8336124,6.7369547,7.092851,6.8702316,6.7128386,6.9402366,6.7710013,6.7961287,7.1147323,7.098556,7.119021,7.089623,6.9791403,7.1064425],\"z\":[13.071213,13.220984,13.019254,13.09614,13.154282,13.10236,13.058315,13.188827,13.265595,13.017539,13.177173,13.209548,13.357022,13.272285,13.261661,13.18161],\"type\":\"scatter3d\"}],                        {\"template\":{\"data\":{\"histogram2dcontour\":[{\"type\":\"histogram2dcontour\",\"colorbar\":{\"outlinewidth\":0,\"ticks\":\"\"},\"colorscale\":[[0.0,\"#0d0887\"],[0.1111111111111111,\"#46039f\"],[0.2222222222222222,\"#7201a8\"],[0.3333333333333333,\"#9c179e\"],[0.4444444444444444,\"#bd3786\"],[0.5555555555555556,\"#d8576b\"],[0.6666666666666666,\"#ed7953\"],[0.7777777777777778,\"#fb9f3a\"],[0.8888888888888888,\"#fdca26\"],[1.0,\"#f0f921\"]]}],\"choropleth\":[{\"type\":\"choropleth\",\"colorbar\":{\"outlinewidth\":0,\"ticks\":\"\"}}],\"histogram2d\":[{\"type\":\"histogram2d\",\"colorbar\":{\"outlinewidth\":0,\"ticks\":\"\"},\"colorscale\":[[0.0,\"#0d0887\"],[0.1111111111111111,\"#46039f\"],[0.2222222222222222,\"#7201a8\"],[0.3333333333333333,\"#9c179e\"],[0.4444444444444444,\"#bd3786\"],[0.5555555555555556,\"#d8576b\"],[0.6666666666666666,\"#ed7953\"],[0.7777777777777778,\"#fb9f3a\"],[0.8888888888888888,\"#fdca26\"],[1.0,\"#f0f921\"]]}],\"heatmap\":[{\"type\":\"heatmap\",\"colorbar\":{\"outlinewidth\":0,\"ticks\":\"\"},\"colorscale\":[[0.0,\"#0d0887\"],[0.1111111111111111,\"#46039f\"],[0.2222222222222222,\"#7201a8\"],[0.3333333333333333,\"#9c179e\"],[0.4444444444444444,\"#bd3786\"],[0.5555555555555556,\"#d8576b\"],[0.6666666666666666,\"#ed7953\"],[0.7777777777777778,\"#fb9f3a\"],[0.8888888888888888,\"#fdca26\"],[1.0,\"#f0f921\"]]}],\"heatmapgl\":[{\"type\":\"heatmapgl\",\"colorbar\":{\"outlinewidth\":0,\"ticks\":\"\"},\"colorscale\":[[0.0,\"#0d0887\"],[0.1111111111111111,\"#46039f\"],[0.2222222222222222,\"#7201a8\"],[0.3333333333333333,\"#9c179e\"],[0.4444444444444444,\"#bd3786\"],[0.5555555555555556,\"#d8576b\"],[0.6666666666666666,\"#ed7953\"],[0.7777777777777778,\"#fb9f3a\"],[0.8888888888888888,\"#fdca26\"],[1.0,\"#f0f921\"]]}],\"contourcarpet\":[{\"type\":\"contourcarpet\",\"colorbar\":{\"outlinewidth\":0,\"ticks\":\"\"}}],\"contour\":[{\"type\":\"contour\",\"colorbar\":{\"outlinewidth\":0,\"ticks\":\"\"},\"colorscale\":[[0.0,\"#0d0887\"],[0.1111111111111111,\"#46039f\"],[0.2222222222222222,\"#7201a8\"],[0.3333333333333333,\"#9c179e\"],[0.4444444444444444,\"#bd3786\"],[0.5555555555555556,\"#d8576b\"],[0.6666666666666666,\"#ed7953\"],[0.7777777777777778,\"#fb9f3a\"],[0.8888888888888888,\"#fdca26\"],[1.0,\"#f0f921\"]]}],\"surface\":[{\"type\":\"surface\",\"colorbar\":{\"outlinewidth\":0,\"ticks\":\"\"},\"colorscale\":[[0.0,\"#0d0887\"],[0.1111111111111111,\"#46039f\"],[0.2222222222222222,\"#7201a8\"],[0.3333333333333333,\"#9c179e\"],[0.4444444444444444,\"#bd3786\"],[0.5555555555555556,\"#d8576b\"],[0.6666666666666666,\"#ed7953\"],[0.7777777777777778,\"#fb9f3a\"],[0.8888888888888888,\"#fdca26\"],[1.0,\"#f0f921\"]]}],\"mesh3d\":[{\"type\":\"mesh3d\",\"colorbar\":{\"outlinewidth\":0,\"ticks\":\"\"}}],\"scatter\":[{\"fillpattern\":{\"fillmode\":\"overlay\",\"size\":10,\"solidity\":0.2},\"type\":\"scatter\"}],\"parcoords\":[{\"type\":\"parcoords\",\"line\":{\"colorbar\":{\"outlinewidth\":0,\"ticks\":\"\"}}}],\"scatterpolargl\":[{\"type\":\"scatterpolargl\",\"marker\":{\"colorbar\":{\"outlinewidth\":0,\"ticks\":\"\"}}}],\"bar\":[{\"error_x\":{\"color\":\"#2a3f5f\"},\"error_y\":{\"color\":\"#2a3f5f\"},\"marker\":{\"line\":{\"color\":\"#E5ECF6\",\"width\":0.5},\"pattern\":{\"fillmode\":\"overlay\",\"size\":10,\"solidity\":0.2}},\"type\":\"bar\"}],\"scattergeo\":[{\"type\":\"scattergeo\",\"marker\":{\"colorbar\":{\"outlinewidth\":0,\"ticks\":\"\"}}}],\"scatterpolar\":[{\"type\":\"scatterpolar\",\"marker\":{\"colorbar\":{\"outlinewidth\":0,\"ticks\":\"\"}}}],\"histogram\":[{\"marker\":{\"pattern\":{\"fillmode\":\"overlay\",\"size\":10,\"solidity\":0.2}},\"type\":\"histogram\"}],\"scattergl\":[{\"type\":\"scattergl\",\"marker\":{\"colorbar\":{\"outlinewidth\":0,\"ticks\":\"\"}}}],\"scatter3d\":[{\"type\":\"scatter3d\",\"line\":{\"colorbar\":{\"outlinewidth\":0,\"ticks\":\"\"}},\"marker\":{\"colorbar\":{\"outlinewidth\":0,\"ticks\":\"\"}}}],\"scattermapbox\":[{\"type\":\"scattermapbox\",\"marker\":{\"colorbar\":{\"outlinewidth\":0,\"ticks\":\"\"}}}],\"scatterternary\":[{\"type\":\"scatterternary\",\"marker\":{\"colorbar\":{\"outlinewidth\":0,\"ticks\":\"\"}}}],\"scattercarpet\":[{\"type\":\"scattercarpet\",\"marker\":{\"colorbar\":{\"outlinewidth\":0,\"ticks\":\"\"}}}],\"carpet\":[{\"aaxis\":{\"endlinecolor\":\"#2a3f5f\",\"gridcolor\":\"white\",\"linecolor\":\"white\",\"minorgridcolor\":\"white\",\"startlinecolor\":\"#2a3f5f\"},\"baxis\":{\"endlinecolor\":\"#2a3f5f\",\"gridcolor\":\"white\",\"linecolor\":\"white\",\"minorgridcolor\":\"white\",\"startlinecolor\":\"#2a3f5f\"},\"type\":\"carpet\"}],\"table\":[{\"cells\":{\"fill\":{\"color\":\"#EBF0F8\"},\"line\":{\"color\":\"white\"}},\"header\":{\"fill\":{\"color\":\"#C8D4E3\"},\"line\":{\"color\":\"white\"}},\"type\":\"table\"}],\"barpolar\":[{\"marker\":{\"line\":{\"color\":\"#E5ECF6\",\"width\":0.5},\"pattern\":{\"fillmode\":\"overlay\",\"size\":10,\"solidity\":0.2}},\"type\":\"barpolar\"}],\"pie\":[{\"automargin\":true,\"type\":\"pie\"}]},\"layout\":{\"autotypenumbers\":\"strict\",\"colorway\":[\"#636efa\",\"#EF553B\",\"#00cc96\",\"#ab63fa\",\"#FFA15A\",\"#19d3f3\",\"#FF6692\",\"#B6E880\",\"#FF97FF\",\"#FECB52\"],\"font\":{\"color\":\"#2a3f5f\"},\"hovermode\":\"closest\",\"hoverlabel\":{\"align\":\"left\"},\"paper_bgcolor\":\"white\",\"plot_bgcolor\":\"#E5ECF6\",\"polar\":{\"bgcolor\":\"#E5ECF6\",\"angularaxis\":{\"gridcolor\":\"white\",\"linecolor\":\"white\",\"ticks\":\"\"},\"radialaxis\":{\"gridcolor\":\"white\",\"linecolor\":\"white\",\"ticks\":\"\"}},\"ternary\":{\"bgcolor\":\"#E5ECF6\",\"aaxis\":{\"gridcolor\":\"white\",\"linecolor\":\"white\",\"ticks\":\"\"},\"baxis\":{\"gridcolor\":\"white\",\"linecolor\":\"white\",\"ticks\":\"\"},\"caxis\":{\"gridcolor\":\"white\",\"linecolor\":\"white\",\"ticks\":\"\"}},\"coloraxis\":{\"colorbar\":{\"outlinewidth\":0,\"ticks\":\"\"}},\"colorscale\":{\"sequential\":[[0.0,\"#0d0887\"],[0.1111111111111111,\"#46039f\"],[0.2222222222222222,\"#7201a8\"],[0.3333333333333333,\"#9c179e\"],[0.4444444444444444,\"#bd3786\"],[0.5555555555555556,\"#d8576b\"],[0.6666666666666666,\"#ed7953\"],[0.7777777777777778,\"#fb9f3a\"],[0.8888888888888888,\"#fdca26\"],[1.0,\"#f0f921\"]],\"sequentialminus\":[[0.0,\"#0d0887\"],[0.1111111111111111,\"#46039f\"],[0.2222222222222222,\"#7201a8\"],[0.3333333333333333,\"#9c179e\"],[0.4444444444444444,\"#bd3786\"],[0.5555555555555556,\"#d8576b\"],[0.6666666666666666,\"#ed7953\"],[0.7777777777777778,\"#fb9f3a\"],[0.8888888888888888,\"#fdca26\"],[1.0,\"#f0f921\"]],\"diverging\":[[0,\"#8e0152\"],[0.1,\"#c51b7d\"],[0.2,\"#de77ae\"],[0.3,\"#f1b6da\"],[0.4,\"#fde0ef\"],[0.5,\"#f7f7f7\"],[0.6,\"#e6f5d0\"],[0.7,\"#b8e186\"],[0.8,\"#7fbc41\"],[0.9,\"#4d9221\"],[1,\"#276419\"]]},\"xaxis\":{\"gridcolor\":\"white\",\"linecolor\":\"white\",\"ticks\":\"\",\"title\":{\"standoff\":15},\"zerolinecolor\":\"white\",\"automargin\":true,\"zerolinewidth\":2},\"yaxis\":{\"gridcolor\":\"white\",\"linecolor\":\"white\",\"ticks\":\"\",\"title\":{\"standoff\":15},\"zerolinecolor\":\"white\",\"automargin\":true,\"zerolinewidth\":2},\"scene\":{\"xaxis\":{\"backgroundcolor\":\"#E5ECF6\",\"gridcolor\":\"white\",\"linecolor\":\"white\",\"showbackground\":true,\"ticks\":\"\",\"zerolinecolor\":\"white\",\"gridwidth\":2},\"yaxis\":{\"backgroundcolor\":\"#E5ECF6\",\"gridcolor\":\"white\",\"linecolor\":\"white\",\"showbackground\":true,\"ticks\":\"\",\"zerolinecolor\":\"white\",\"gridwidth\":2},\"zaxis\":{\"backgroundcolor\":\"#E5ECF6\",\"gridcolor\":\"white\",\"linecolor\":\"white\",\"showbackground\":true,\"ticks\":\"\",\"zerolinecolor\":\"white\",\"gridwidth\":2}},\"shapedefaults\":{\"line\":{\"color\":\"#2a3f5f\"}},\"annotationdefaults\":{\"arrowcolor\":\"#2a3f5f\",\"arrowhead\":0,\"arrowwidth\":1},\"geo\":{\"bgcolor\":\"white\",\"landcolor\":\"#E5ECF6\",\"subunitcolor\":\"white\",\"showland\":true,\"showlakes\":true,\"lakecolor\":\"white\"},\"title\":{\"x\":0.05},\"mapbox\":{\"style\":\"light\"}}},\"scene\":{\"domain\":{\"x\":[0.0,1.0],\"y\":[0.0,1.0]},\"xaxis\":{\"title\":{\"text\":\"UMAP 1\"},\"showticklabels\":false},\"yaxis\":{\"title\":{\"text\":\"UMAP 2\"},\"showticklabels\":false},\"zaxis\":{\"title\":{\"text\":\"UMAP 3\"},\"showticklabels\":false}},\"legend\":{\"title\":{\"text\":\"perturbation\"},\"tracegroupgap\":0},\"margin\":{\"t\":60},\"font\":{\"family\":\"Arial\",\"size\":14,\"color\":\"Black\"}},                        {\"responsive\": true}                    ).then(function(){\n",
       "                            \n",
       "var gd = document.getElementById('0b09dd8e-818a-486b-8b19-c5f5c56223b4');\n",
       "var x = new MutationObserver(function (mutations, observer) {{\n",
       "        var display = window.getComputedStyle(gd).display;\n",
       "        if (!display || display === 'none') {{\n",
       "            console.log([gd, 'removed!']);\n",
       "            Plotly.purge(gd);\n",
       "            observer.disconnect();\n",
       "        }}\n",
       "}});\n",
       "\n",
       "// Listen for the removal of the full notebook cells\n",
       "var notebookContainer = gd.closest('#notebook-container');\n",
       "if (notebookContainer) {{\n",
       "    x.observe(notebookContainer, {childList: true});\n",
       "}}\n",
       "\n",
       "// Listen for the clearing of the current output cell\n",
       "var outputEl = gd.closest('.output');\n",
       "if (outputEl) {{\n",
       "    x.observe(outputEl, {childList: true});\n",
       "}}\n",
       "\n",
       "                        })                };                });            </script>        </div>"
      ]
     },
     "metadata": {},
     "output_type": "display_data"
    }
   ],
   "source": [
    "# color_vec2 = np.asarray([color_dict[p] for p in master_df_ref.loc[:, \"master_perturbation\"].tolist()])\n",
    "\n",
    "color_discrete_map = {\"lmx1b\" :\"#EF553B\" , \"wik\":\"rgb(179, 205, 227)\", \"wik-inj-ctrl\":\"#636EFA\", \"tbxta\":\"#00CC96\"}\n",
    "\n",
    "morph_fig = px.scatter_3d(master_df_ref, x=\"UMAP_00_bio_3\", y=\"UMAP_01_bio_3\", z=\"UMAP_02_bio_3\",\n",
    "                    color=\"master_perturbation\", color_discrete_map=color_discrete_map,opacity=1)\n",
    "\n",
    "morph_fig.update_traces(marker=dict(size=7, \n",
    "                              line=dict(width=2,\n",
    "                                        color='DarkSlateGrey'))\n",
    "                 )\n",
    "\n",
    "morph_fig.update_layout(scene = dict(\n",
    "                    xaxis_title=\"UMAP 1\",\n",
    "                    yaxis_title=\"UMAP 2\",\n",
    "                    zaxis_title=\"UMAP 3\",\n",
    "                    xaxis = dict(showticklabels=False),\n",
    "                    yaxis = dict(showticklabels=False),\n",
    "                    zaxis = dict(showticklabels=False)\n",
    "                    ),   \n",
    "    legend_title=\"perturbation\",\n",
    "    font=dict(\n",
    "        family=\"Arial\",\n",
    "        size=14,\n",
    "        color=\"Black\"\n",
    "    )\n",
    ")\n",
    "                  \n",
    "morph_fig.show()"
   ]
  },
  {
   "cell_type": "code",
   "execution_count": 106,
   "id": "ccbad7d3",
   "metadata": {},
   "outputs": [
    {
     "name": "stderr",
     "output_type": "stream",
     "text": [
      "100%|██████████| 50/50 [01:13<00:00,  1.47s/it]\n"
     ]
    },
    {
     "data": {
      "application/vnd.plotly.v1+json": {
       "config": {
        "plotlyServerURL": "https://plot.ly"
       },
       "data": [
        {
         "hovertemplate": "master_perturbation=lmx1b<br>UMAP_00_bio_3=%{x}<br>UMAP_01_bio_3=%{y}<br>UMAP_02_bio_3=%{z}<extra></extra>",
         "legendgroup": "lmx1b",
         "marker": {
          "color": "#EF553B",
          "line": {
           "color": "DarkSlateGrey",
           "width": 2
          },
          "opacity": 1,
          "size": 7,
          "symbol": "circle"
         },
         "mode": "markers",
         "name": "lmx1b",
         "scene": "scene",
         "showlegend": true,
         "type": "scatter3d",
         "x": [
          11.113815,
          10.509127,
          11.36551,
          10.835118,
          11.465577,
          11.397931,
          10.759049,
          10.5637045,
          9.014369,
          10.445036,
          12.550689,
          11.332528,
          11.379938,
          13.895308,
          10.635856,
          12.50844,
          9.392196,
          10.542673,
          11.1650505,
          10.6894655,
          11.568377,
          9.571724,
          10.03844,
          10.783549,
          12.072484,
          12.15091,
          10.333715,
          11.403646,
          12.503125,
          11.317299,
          14.728319,
          9.387027,
          11.01177,
          11.611861,
          13.15005,
          9.071554,
          11.635203,
          12.711079,
          10.9997635,
          13.384659,
          10.106556,
          11.004806,
          9.879027,
          12.923541,
          11.276823,
          9.785246,
          11.87844,
          10.709195,
          11.177637,
          10.918215,
          10.495303,
          9.285706,
          10.888228,
          11.481734,
          11.04935,
          10.8213,
          11.169366,
          10.637614,
          9.720586,
          10.721133,
          10.564259,
          10.381359,
          10.667335,
          11.114493,
          10.998121,
          11.03274,
          11.066662,
          11.797396,
          10.460791,
          10.302871,
          11.052477,
          10.541386,
          10.34781,
          10.090337,
          10.271494,
          11.910392,
          10.175466,
          9.36597,
          9.704807,
          10.916359,
          10.566479,
          9.481849,
          11.146661,
          12.355327,
          11.689244,
          11.270695,
          10.383198
         ],
         "y": [
          10.275453,
          10.2426815,
          10.008437,
          8.409733,
          9.634446,
          9.302566,
          10.265801,
          9.233887,
          10.452098,
          10.473545,
          9.368522,
          9.893155,
          8.770681,
          9.453449,
          9.115284,
          10.426614,
          9.708928,
          8.764806,
          8.547125,
          7.6750703,
          9.057268,
          9.554189,
          10.28524,
          7.9557395,
          9.8546,
          9.743152,
          8.334828,
          8.426901,
          10.513237,
          9.487897,
          9.1496725,
          9.537378,
          8.816903,
          8.592716,
          7.586764,
          10.459967,
          10.004491,
          8.594034,
          7.823455,
          9.57302,
          8.8484,
          7.781951,
          8.967493,
          9.680329,
          10.3449135,
          10.086016,
          10.257847,
          9.118463,
          10.357198,
          10.162161,
          9.104143,
          10.321602,
          10.450801,
          10.248935,
          10.404863,
          10.248566,
          10.014798,
          10.116172,
          9.464348,
          7.790931,
          8.233401,
          10.535375,
          7.9203553,
          9.722349,
          9.863325,
          7.704589,
          9.851558,
          7.697239,
          7.7014294,
          7.8838487,
          9.593743,
          10.328006,
          10.424635,
          9.349282,
          7.8539495,
          7.922406,
          8.155363,
          10.249665,
          9.260765,
          7.818674,
          10.373944,
          9.726981,
          8.629356,
          10.322425,
          7.958031,
          8.488235,
          8.307453
         ],
         "z": [
          19.99639,
          20.643076,
          19.95813,
          21.057095,
          20.000305,
          20.424665,
          20.528341,
          20.915344,
          19.482859,
          19.699467,
          21.379549,
          20.803663,
          20.651272,
          22.471893,
          20.76769,
          21.800508,
          19.803595,
          20.817991,
          20.630726,
          21.082008,
          20.262426,
          20.006601,
          20.24779,
          20.717484,
          20.663563,
          20.550396,
          20.986237,
          20.466372,
          21.65924,
          21.053545,
          21.750814,
          19.789116,
          20.147186,
          21.65834,
          20.13383,
          19.508976,
          21.195066,
          21.391214,
          20.991306,
          20.477922,
          20.738785,
          21.091736,
          20.668093,
          20.541866,
          19.9917,
          19.926916,
          20.295336,
          20.993391,
          20.5179,
          19.87842,
          20.849371,
          19.635359,
          20.074379,
          20.07151,
          20.23692,
          19.797485,
          19.707117,
          20.931118,
          20.338837,
          21.216028,
          21.292156,
          19.640472,
          21.210566,
          21.549475,
          21.368938,
          21.130587,
          21.46488,
          20.65153,
          21.157217,
          21.025805,
          21.53712,
          19.603868,
          19.56124,
          20.933596,
          21.106485,
          20.638878,
          21.020044,
          19.724329,
          20.238384,
          21.431036,
          19.549604,
          19.933332,
          19.942024,
          20.45541,
          20.46745,
          20.06832,
          21.122974
         ]
        },
        {
         "hovertemplate": "master_perturbation=wik<br>UMAP_00_bio_3=%{x}<br>UMAP_01_bio_3=%{y}<br>UMAP_02_bio_3=%{z}<extra></extra>",
         "legendgroup": "wik",
         "marker": {
          "color": "rgb(179, 205, 227)",
          "line": {
           "color": "DarkSlateGrey",
           "width": 2
          },
          "opacity": 1,
          "size": 7,
          "symbol": "circle"
         },
         "mode": "markers",
         "name": "wik",
         "scene": "scene",
         "showlegend": true,
         "type": "scatter3d",
         "x": [
          12.084709,
          13.110988,
          12.529695,
          13.156654,
          13.084762,
          12.804479,
          12.359628,
          12.530627,
          13.980909,
          14.984334,
          13.578907,
          14.357714,
          13.688384,
          14.246235,
          13.779974,
          14.87136,
          14.444235,
          14.841174,
          14.087184,
          14.160736,
          13.899393,
          13.927085,
          13.4673395
         ],
         "y": [
          10.1779585,
          10.106932,
          9.985684,
          10.410767,
          10.21043,
          10.137667,
          10.4085455,
          9.953819,
          9.581523,
          9.230558,
          9.954361,
          9.182938,
          9.642592,
          9.57484,
          9.684966,
          9.443645,
          9.259825,
          9.16361,
          9.466405,
          9.898229,
          9.378218,
          9.93893,
          7.4712152
         ],
         "z": [
          21.216225,
          21.516912,
          21.380505,
          21.708588,
          21.951578,
          21.761398,
          21.309177,
          21.343512,
          21.898815,
          22.091549,
          21.908054,
          22.392056,
          22.253792,
          22.520487,
          22.073275,
          22.199211,
          21.444412,
          21.887238,
          21.292673,
          22.446274,
          20.95106,
          21.777493,
          20.080341
         ]
        },
        {
         "hovertemplate": "master_perturbation=wik-inj-ctrl<br>UMAP_00_bio_3=%{x}<br>UMAP_01_bio_3=%{y}<br>UMAP_02_bio_3=%{z}<extra></extra>",
         "legendgroup": "wik-inj-ctrl",
         "marker": {
          "color": "#636EFA",
          "line": {
           "color": "DarkSlateGrey",
           "width": 2
          },
          "opacity": 1,
          "size": 7,
          "symbol": "circle"
         },
         "mode": "markers",
         "name": "wik-inj-ctrl",
         "scene": "scene",
         "showlegend": true,
         "type": "scatter3d",
         "x": [
          13.193277,
          12.275262,
          13.189636,
          12.87883,
          13.155558,
          12.5729265,
          12.975131,
          13.257747,
          13.395449,
          14.419122,
          13.878804,
          14.719851,
          12.256071,
          14.772277,
          14.013532,
          14.110971,
          13.648256,
          14.935595,
          14.559676,
          13.439817,
          13.759699,
          13.413413,
          12.761199,
          13.557788,
          13.367299,
          11.280384,
          11.736194,
          13.705573,
          13.209538,
          13.456529,
          12.180122,
          13.12622,
          13.441044,
          13.196257,
          13.288882,
          13.470309,
          13.855052,
          13.987912,
          13.962059,
          13.315049,
          13.009435,
          13.4742985,
          13.51771,
          13.391838,
          13.277376,
          13.438237,
          13.645536,
          13.473852
         ],
         "y": [
          9.613187,
          9.9499035,
          10.427094,
          10.5961275,
          9.826146,
          10.514854,
          10.262372,
          10.090738,
          9.919135,
          9.202228,
          9.799175,
          9.139926,
          10.13774,
          9.154314,
          9.643714,
          9.530474,
          8.506605,
          9.174598,
          9.074194,
          7.376989,
          10.084288,
          7.485315,
          10.722335,
          10.4989395,
          9.559884,
          9.838772,
          9.50602,
          9.489034,
          9.215751,
          9.0321665,
          9.967655,
          9.207477,
          10.229832,
          7.4771304,
          7.907915,
          7.7454424,
          8.886627,
          9.07226,
          9.798265,
          7.5526156,
          7.5211225,
          7.2245054,
          8.776751,
          7.3386655,
          8.3686075,
          7.296065,
          8.256078,
          7.2579927
         ],
         "z": [
          21.984776,
          20.945478,
          21.67693,
          21.625702,
          21.762333,
          21.400473,
          21.872038,
          21.98457,
          21.47064,
          22.40866,
          21.618704,
          22.28182,
          20.847113,
          22.151924,
          22.144506,
          22.583776,
          19.963802,
          22.065077,
          21.899012,
          20.213516,
          22.148813,
          20.100918,
          21.47465,
          21.731035,
          20.439081,
          19.8221,
          21.270308,
          20.916037,
          20.435629,
          20.202145,
          20.346783,
          20.508398,
          21.754719,
          20.79219,
          19.927237,
          19.853336,
          22.137373,
          22.368763,
          21.113905,
          20.514107,
          20.534338,
          20.623318,
          20.000025,
          20.686281,
          19.968266,
          20.458323,
          19.911388,
          20.559423
         ]
        },
        {
         "hovertemplate": "master_perturbation=tbxta<br>UMAP_00_bio_3=%{x}<br>UMAP_01_bio_3=%{y}<br>UMAP_02_bio_3=%{z}<extra></extra>",
         "legendgroup": "tbxta",
         "marker": {
          "color": "#00CC96",
          "line": {
           "color": "DarkSlateGrey",
           "width": 2
          },
          "opacity": 1,
          "size": 7,
          "symbol": "circle"
         },
         "mode": "markers",
         "name": "tbxta",
         "scene": "scene",
         "showlegend": true,
         "type": "scatter3d",
         "x": [
          2.296146,
          2.7155824,
          2.251292,
          2.347755,
          2.5718184,
          2.4788532,
          2.3643413,
          2.7690554,
          2.4550478,
          2.182789,
          2.676034,
          2.8291597,
          2.6270823,
          2.3844202,
          2.4084601,
          2.3938568
         ],
         "y": [
          6.772567,
          6.9326477,
          6.8336124,
          6.7369547,
          7.092851,
          6.8702316,
          6.7128386,
          6.9402366,
          6.7710013,
          6.7961287,
          7.1147323,
          7.098556,
          7.119021,
          7.089623,
          6.9791403,
          7.1064425
         ],
         "z": [
          13.071213,
          13.220984,
          13.019254,
          13.09614,
          13.154282,
          13.10236,
          13.058315,
          13.188827,
          13.265595,
          13.017539,
          13.177173,
          13.209548,
          13.357022,
          13.272285,
          13.261661,
          13.18161
         ]
        }
       ],
       "layout": {
        "font": {
         "color": "Black",
         "family": "Arial",
         "size": 14
        },
        "legend": {
         "title": {
          "text": "perturbation"
         },
         "tracegroupgap": 0
        },
        "margin": {
         "t": 60
        },
        "scene": {
         "camera": {
          "eye": {
           "x": 0.4819184226109091,
           "y": 2.4531112151609054,
           "z": 1.5
          }
         },
         "domain": {
          "x": [
           0,
           1
          ],
          "y": [
           0,
           1
          ]
         },
         "dragmode": "orbit",
         "xaxis": {
          "showticklabels": false,
          "title": {
           "text": ""
          }
         },
         "yaxis": {
          "showticklabels": false,
          "title": {
           "text": ""
          }
         },
         "zaxis": {
          "showticklabels": false,
          "title": {
           "text": ""
          }
         }
        },
        "template": {
         "data": {
          "bar": [
           {
            "error_x": {
             "color": "#2a3f5f"
            },
            "error_y": {
             "color": "#2a3f5f"
            },
            "marker": {
             "line": {
              "color": "#E5ECF6",
              "width": 0.5
             },
             "pattern": {
              "fillmode": "overlay",
              "size": 10,
              "solidity": 0.2
             }
            },
            "type": "bar"
           }
          ],
          "barpolar": [
           {
            "marker": {
             "line": {
              "color": "#E5ECF6",
              "width": 0.5
             },
             "pattern": {
              "fillmode": "overlay",
              "size": 10,
              "solidity": 0.2
             }
            },
            "type": "barpolar"
           }
          ],
          "carpet": [
           {
            "aaxis": {
             "endlinecolor": "#2a3f5f",
             "gridcolor": "white",
             "linecolor": "white",
             "minorgridcolor": "white",
             "startlinecolor": "#2a3f5f"
            },
            "baxis": {
             "endlinecolor": "#2a3f5f",
             "gridcolor": "white",
             "linecolor": "white",
             "minorgridcolor": "white",
             "startlinecolor": "#2a3f5f"
            },
            "type": "carpet"
           }
          ],
          "choropleth": [
           {
            "colorbar": {
             "outlinewidth": 0,
             "ticks": ""
            },
            "type": "choropleth"
           }
          ],
          "contour": [
           {
            "colorbar": {
             "outlinewidth": 0,
             "ticks": ""
            },
            "colorscale": [
             [
              0,
              "#0d0887"
             ],
             [
              0.1111111111111111,
              "#46039f"
             ],
             [
              0.2222222222222222,
              "#7201a8"
             ],
             [
              0.3333333333333333,
              "#9c179e"
             ],
             [
              0.4444444444444444,
              "#bd3786"
             ],
             [
              0.5555555555555556,
              "#d8576b"
             ],
             [
              0.6666666666666666,
              "#ed7953"
             ],
             [
              0.7777777777777778,
              "#fb9f3a"
             ],
             [
              0.8888888888888888,
              "#fdca26"
             ],
             [
              1,
              "#f0f921"
             ]
            ],
            "type": "contour"
           }
          ],
          "contourcarpet": [
           {
            "colorbar": {
             "outlinewidth": 0,
             "ticks": ""
            },
            "type": "contourcarpet"
           }
          ],
          "heatmap": [
           {
            "colorbar": {
             "outlinewidth": 0,
             "ticks": ""
            },
            "colorscale": [
             [
              0,
              "#0d0887"
             ],
             [
              0.1111111111111111,
              "#46039f"
             ],
             [
              0.2222222222222222,
              "#7201a8"
             ],
             [
              0.3333333333333333,
              "#9c179e"
             ],
             [
              0.4444444444444444,
              "#bd3786"
             ],
             [
              0.5555555555555556,
              "#d8576b"
             ],
             [
              0.6666666666666666,
              "#ed7953"
             ],
             [
              0.7777777777777778,
              "#fb9f3a"
             ],
             [
              0.8888888888888888,
              "#fdca26"
             ],
             [
              1,
              "#f0f921"
             ]
            ],
            "type": "heatmap"
           }
          ],
          "heatmapgl": [
           {
            "colorbar": {
             "outlinewidth": 0,
             "ticks": ""
            },
            "colorscale": [
             [
              0,
              "#0d0887"
             ],
             [
              0.1111111111111111,
              "#46039f"
             ],
             [
              0.2222222222222222,
              "#7201a8"
             ],
             [
              0.3333333333333333,
              "#9c179e"
             ],
             [
              0.4444444444444444,
              "#bd3786"
             ],
             [
              0.5555555555555556,
              "#d8576b"
             ],
             [
              0.6666666666666666,
              "#ed7953"
             ],
             [
              0.7777777777777778,
              "#fb9f3a"
             ],
             [
              0.8888888888888888,
              "#fdca26"
             ],
             [
              1,
              "#f0f921"
             ]
            ],
            "type": "heatmapgl"
           }
          ],
          "histogram": [
           {
            "marker": {
             "pattern": {
              "fillmode": "overlay",
              "size": 10,
              "solidity": 0.2
             }
            },
            "type": "histogram"
           }
          ],
          "histogram2d": [
           {
            "colorbar": {
             "outlinewidth": 0,
             "ticks": ""
            },
            "colorscale": [
             [
              0,
              "#0d0887"
             ],
             [
              0.1111111111111111,
              "#46039f"
             ],
             [
              0.2222222222222222,
              "#7201a8"
             ],
             [
              0.3333333333333333,
              "#9c179e"
             ],
             [
              0.4444444444444444,
              "#bd3786"
             ],
             [
              0.5555555555555556,
              "#d8576b"
             ],
             [
              0.6666666666666666,
              "#ed7953"
             ],
             [
              0.7777777777777778,
              "#fb9f3a"
             ],
             [
              0.8888888888888888,
              "#fdca26"
             ],
             [
              1,
              "#f0f921"
             ]
            ],
            "type": "histogram2d"
           }
          ],
          "histogram2dcontour": [
           {
            "colorbar": {
             "outlinewidth": 0,
             "ticks": ""
            },
            "colorscale": [
             [
              0,
              "#0d0887"
             ],
             [
              0.1111111111111111,
              "#46039f"
             ],
             [
              0.2222222222222222,
              "#7201a8"
             ],
             [
              0.3333333333333333,
              "#9c179e"
             ],
             [
              0.4444444444444444,
              "#bd3786"
             ],
             [
              0.5555555555555556,
              "#d8576b"
             ],
             [
              0.6666666666666666,
              "#ed7953"
             ],
             [
              0.7777777777777778,
              "#fb9f3a"
             ],
             [
              0.8888888888888888,
              "#fdca26"
             ],
             [
              1,
              "#f0f921"
             ]
            ],
            "type": "histogram2dcontour"
           }
          ],
          "mesh3d": [
           {
            "colorbar": {
             "outlinewidth": 0,
             "ticks": ""
            },
            "type": "mesh3d"
           }
          ],
          "parcoords": [
           {
            "line": {
             "colorbar": {
              "outlinewidth": 0,
              "ticks": ""
             }
            },
            "type": "parcoords"
           }
          ],
          "pie": [
           {
            "automargin": true,
            "type": "pie"
           }
          ],
          "scatter": [
           {
            "fillpattern": {
             "fillmode": "overlay",
             "size": 10,
             "solidity": 0.2
            },
            "type": "scatter"
           }
          ],
          "scatter3d": [
           {
            "line": {
             "colorbar": {
              "outlinewidth": 0,
              "ticks": ""
             }
            },
            "marker": {
             "colorbar": {
              "outlinewidth": 0,
              "ticks": ""
             }
            },
            "type": "scatter3d"
           }
          ],
          "scattercarpet": [
           {
            "marker": {
             "colorbar": {
              "outlinewidth": 0,
              "ticks": ""
             }
            },
            "type": "scattercarpet"
           }
          ],
          "scattergeo": [
           {
            "marker": {
             "colorbar": {
              "outlinewidth": 0,
              "ticks": ""
             }
            },
            "type": "scattergeo"
           }
          ],
          "scattergl": [
           {
            "marker": {
             "colorbar": {
              "outlinewidth": 0,
              "ticks": ""
             }
            },
            "type": "scattergl"
           }
          ],
          "scattermapbox": [
           {
            "marker": {
             "colorbar": {
              "outlinewidth": 0,
              "ticks": ""
             }
            },
            "type": "scattermapbox"
           }
          ],
          "scatterpolar": [
           {
            "marker": {
             "colorbar": {
              "outlinewidth": 0,
              "ticks": ""
             }
            },
            "type": "scatterpolar"
           }
          ],
          "scatterpolargl": [
           {
            "marker": {
             "colorbar": {
              "outlinewidth": 0,
              "ticks": ""
             }
            },
            "type": "scatterpolargl"
           }
          ],
          "scatterternary": [
           {
            "marker": {
             "colorbar": {
              "outlinewidth": 0,
              "ticks": ""
             }
            },
            "type": "scatterternary"
           }
          ],
          "surface": [
           {
            "colorbar": {
             "outlinewidth": 0,
             "ticks": ""
            },
            "colorscale": [
             [
              0,
              "#0d0887"
             ],
             [
              0.1111111111111111,
              "#46039f"
             ],
             [
              0.2222222222222222,
              "#7201a8"
             ],
             [
              0.3333333333333333,
              "#9c179e"
             ],
             [
              0.4444444444444444,
              "#bd3786"
             ],
             [
              0.5555555555555556,
              "#d8576b"
             ],
             [
              0.6666666666666666,
              "#ed7953"
             ],
             [
              0.7777777777777778,
              "#fb9f3a"
             ],
             [
              0.8888888888888888,
              "#fdca26"
             ],
             [
              1,
              "#f0f921"
             ]
            ],
            "type": "surface"
           }
          ],
          "table": [
           {
            "cells": {
             "fill": {
              "color": "#EBF0F8"
             },
             "line": {
              "color": "white"
             }
            },
            "header": {
             "fill": {
              "color": "#C8D4E3"
             },
             "line": {
              "color": "white"
             }
            },
            "type": "table"
           }
          ]
         },
         "layout": {
          "annotationdefaults": {
           "arrowcolor": "#2a3f5f",
           "arrowhead": 0,
           "arrowwidth": 1
          },
          "autotypenumbers": "strict",
          "coloraxis": {
           "colorbar": {
            "outlinewidth": 0,
            "ticks": ""
           }
          },
          "colorscale": {
           "diverging": [
            [
             0,
             "#8e0152"
            ],
            [
             0.1,
             "#c51b7d"
            ],
            [
             0.2,
             "#de77ae"
            ],
            [
             0.3,
             "#f1b6da"
            ],
            [
             0.4,
             "#fde0ef"
            ],
            [
             0.5,
             "#f7f7f7"
            ],
            [
             0.6,
             "#e6f5d0"
            ],
            [
             0.7,
             "#b8e186"
            ],
            [
             0.8,
             "#7fbc41"
            ],
            [
             0.9,
             "#4d9221"
            ],
            [
             1,
             "#276419"
            ]
           ],
           "sequential": [
            [
             0,
             "#0d0887"
            ],
            [
             0.1111111111111111,
             "#46039f"
            ],
            [
             0.2222222222222222,
             "#7201a8"
            ],
            [
             0.3333333333333333,
             "#9c179e"
            ],
            [
             0.4444444444444444,
             "#bd3786"
            ],
            [
             0.5555555555555556,
             "#d8576b"
            ],
            [
             0.6666666666666666,
             "#ed7953"
            ],
            [
             0.7777777777777778,
             "#fb9f3a"
            ],
            [
             0.8888888888888888,
             "#fdca26"
            ],
            [
             1,
             "#f0f921"
            ]
           ],
           "sequentialminus": [
            [
             0,
             "#0d0887"
            ],
            [
             0.1111111111111111,
             "#46039f"
            ],
            [
             0.2222222222222222,
             "#7201a8"
            ],
            [
             0.3333333333333333,
             "#9c179e"
            ],
            [
             0.4444444444444444,
             "#bd3786"
            ],
            [
             0.5555555555555556,
             "#d8576b"
            ],
            [
             0.6666666666666666,
             "#ed7953"
            ],
            [
             0.7777777777777778,
             "#fb9f3a"
            ],
            [
             0.8888888888888888,
             "#fdca26"
            ],
            [
             1,
             "#f0f921"
            ]
           ]
          },
          "colorway": [
           "#636efa",
           "#EF553B",
           "#00cc96",
           "#ab63fa",
           "#FFA15A",
           "#19d3f3",
           "#FF6692",
           "#B6E880",
           "#FF97FF",
           "#FECB52"
          ],
          "font": {
           "color": "#2a3f5f"
          },
          "geo": {
           "bgcolor": "white",
           "lakecolor": "white",
           "landcolor": "#E5ECF6",
           "showlakes": true,
           "showland": true,
           "subunitcolor": "white"
          },
          "hoverlabel": {
           "align": "left"
          },
          "hovermode": "closest",
          "mapbox": {
           "style": "light"
          },
          "paper_bgcolor": "white",
          "plot_bgcolor": "#E5ECF6",
          "polar": {
           "angularaxis": {
            "gridcolor": "white",
            "linecolor": "white",
            "ticks": ""
           },
           "bgcolor": "#E5ECF6",
           "radialaxis": {
            "gridcolor": "white",
            "linecolor": "white",
            "ticks": ""
           }
          },
          "scene": {
           "xaxis": {
            "backgroundcolor": "#E5ECF6",
            "gridcolor": "white",
            "gridwidth": 2,
            "linecolor": "white",
            "showbackground": true,
            "ticks": "",
            "zerolinecolor": "white"
           },
           "yaxis": {
            "backgroundcolor": "#E5ECF6",
            "gridcolor": "white",
            "gridwidth": 2,
            "linecolor": "white",
            "showbackground": true,
            "ticks": "",
            "zerolinecolor": "white"
           },
           "zaxis": {
            "backgroundcolor": "#E5ECF6",
            "gridcolor": "white",
            "gridwidth": 2,
            "linecolor": "white",
            "showbackground": true,
            "ticks": "",
            "zerolinecolor": "white"
           }
          },
          "shapedefaults": {
           "line": {
            "color": "#2a3f5f"
           }
          },
          "ternary": {
           "aaxis": {
            "gridcolor": "white",
            "linecolor": "white",
            "ticks": ""
           },
           "baxis": {
            "gridcolor": "white",
            "linecolor": "white",
            "ticks": ""
           },
           "bgcolor": "#E5ECF6",
           "caxis": {
            "gridcolor": "white",
            "linecolor": "white",
            "ticks": ""
           }
          },
          "title": {
           "x": 0.05
          },
          "xaxis": {
           "automargin": true,
           "gridcolor": "white",
           "linecolor": "white",
           "ticks": "",
           "title": {
            "standoff": 15
           },
           "zerolinecolor": "white",
           "zerolinewidth": 2
          },
          "yaxis": {
           "automargin": true,
           "gridcolor": "white",
           "linecolor": "white",
           "ticks": "",
           "title": {
            "standoff": 15
           },
           "zerolinecolor": "white",
           "zerolinewidth": 2
          }
         }
        }
       }
      },
      "text/html": [
       "<div>                            <div id=\"df331db7-dcbb-479f-923f-96ab5b154533\" class=\"plotly-graph-div\" style=\"height:525px; width:100%;\"></div>            <script type=\"text/javascript\">                require([\"plotly\"], function(Plotly) {                    window.PLOTLYENV=window.PLOTLYENV || {};                                    if (document.getElementById(\"df331db7-dcbb-479f-923f-96ab5b154533\")) {                    Plotly.newPlot(                        \"df331db7-dcbb-479f-923f-96ab5b154533\",                        [{\"hovertemplate\":\"master_perturbation=lmx1b<br>UMAP_00_bio_3=%{x}<br>UMAP_01_bio_3=%{y}<br>UMAP_02_bio_3=%{z}<extra></extra>\",\"legendgroup\":\"lmx1b\",\"marker\":{\"color\":\"#EF553B\",\"opacity\":1,\"symbol\":\"circle\",\"line\":{\"color\":\"DarkSlateGrey\",\"width\":2},\"size\":7},\"mode\":\"markers\",\"name\":\"lmx1b\",\"scene\":\"scene\",\"showlegend\":true,\"x\":[11.113815,10.509127,11.36551,10.835118,11.465577,11.397931,10.759049,10.5637045,9.014369,10.445036,12.550689,11.332528,11.379938,13.895308,10.635856,12.50844,9.392196,10.542673,11.1650505,10.6894655,11.568377,9.571724,10.03844,10.783549,12.072484,12.15091,10.333715,11.403646,12.503125,11.317299,14.728319,9.387027,11.01177,11.611861,13.15005,9.071554,11.635203,12.711079,10.9997635,13.384659,10.106556,11.004806,9.879027,12.923541,11.276823,9.785246,11.87844,10.709195,11.177637,10.918215,10.495303,9.285706,10.888228,11.481734,11.04935,10.8213,11.169366,10.637614,9.720586,10.721133,10.564259,10.381359,10.667335,11.114493,10.998121,11.03274,11.066662,11.797396,10.460791,10.302871,11.052477,10.541386,10.34781,10.090337,10.271494,11.910392,10.175466,9.36597,9.704807,10.916359,10.566479,9.481849,11.146661,12.355327,11.689244,11.270695,10.383198],\"y\":[10.275453,10.2426815,10.008437,8.409733,9.634446,9.302566,10.265801,9.233887,10.452098,10.473545,9.368522,9.893155,8.770681,9.453449,9.115284,10.426614,9.708928,8.764806,8.547125,7.6750703,9.057268,9.554189,10.28524,7.9557395,9.8546,9.743152,8.334828,8.426901,10.513237,9.487897,9.1496725,9.537378,8.816903,8.592716,7.586764,10.459967,10.004491,8.594034,7.823455,9.57302,8.8484,7.781951,8.967493,9.680329,10.3449135,10.086016,10.257847,9.118463,10.357198,10.162161,9.104143,10.321602,10.450801,10.248935,10.404863,10.248566,10.014798,10.116172,9.464348,7.790931,8.233401,10.535375,7.9203553,9.722349,9.863325,7.704589,9.851558,7.697239,7.7014294,7.8838487,9.593743,10.328006,10.424635,9.349282,7.8539495,7.922406,8.155363,10.249665,9.260765,7.818674,10.373944,9.726981,8.629356,10.322425,7.958031,8.488235,8.307453],\"z\":[19.99639,20.643076,19.95813,21.057095,20.000305,20.424665,20.528341,20.915344,19.482859,19.699467,21.379549,20.803663,20.651272,22.471893,20.76769,21.800508,19.803595,20.817991,20.630726,21.082008,20.262426,20.006601,20.24779,20.717484,20.663563,20.550396,20.986237,20.466372,21.65924,21.053545,21.750814,19.789116,20.147186,21.65834,20.13383,19.508976,21.195066,21.391214,20.991306,20.477922,20.738785,21.091736,20.668093,20.541866,19.9917,19.926916,20.295336,20.993391,20.5179,19.87842,20.849371,19.635359,20.074379,20.07151,20.23692,19.797485,19.707117,20.931118,20.338837,21.216028,21.292156,19.640472,21.210566,21.549475,21.368938,21.130587,21.46488,20.65153,21.157217,21.025805,21.53712,19.603868,19.56124,20.933596,21.106485,20.638878,21.020044,19.724329,20.238384,21.431036,19.549604,19.933332,19.942024,20.45541,20.46745,20.06832,21.122974],\"type\":\"scatter3d\"},{\"hovertemplate\":\"master_perturbation=wik<br>UMAP_00_bio_3=%{x}<br>UMAP_01_bio_3=%{y}<br>UMAP_02_bio_3=%{z}<extra></extra>\",\"legendgroup\":\"wik\",\"marker\":{\"color\":\"rgb(179, 205, 227)\",\"opacity\":1,\"symbol\":\"circle\",\"line\":{\"color\":\"DarkSlateGrey\",\"width\":2},\"size\":7},\"mode\":\"markers\",\"name\":\"wik\",\"scene\":\"scene\",\"showlegend\":true,\"x\":[12.084709,13.110988,12.529695,13.156654,13.084762,12.804479,12.359628,12.530627,13.980909,14.984334,13.578907,14.357714,13.688384,14.246235,13.779974,14.87136,14.444235,14.841174,14.087184,14.160736,13.899393,13.927085,13.4673395],\"y\":[10.1779585,10.106932,9.985684,10.410767,10.21043,10.137667,10.4085455,9.953819,9.581523,9.230558,9.954361,9.182938,9.642592,9.57484,9.684966,9.443645,9.259825,9.16361,9.466405,9.898229,9.378218,9.93893,7.4712152],\"z\":[21.216225,21.516912,21.380505,21.708588,21.951578,21.761398,21.309177,21.343512,21.898815,22.091549,21.908054,22.392056,22.253792,22.520487,22.073275,22.199211,21.444412,21.887238,21.292673,22.446274,20.95106,21.777493,20.080341],\"type\":\"scatter3d\"},{\"hovertemplate\":\"master_perturbation=wik-inj-ctrl<br>UMAP_00_bio_3=%{x}<br>UMAP_01_bio_3=%{y}<br>UMAP_02_bio_3=%{z}<extra></extra>\",\"legendgroup\":\"wik-inj-ctrl\",\"marker\":{\"color\":\"#636EFA\",\"opacity\":1,\"symbol\":\"circle\",\"line\":{\"color\":\"DarkSlateGrey\",\"width\":2},\"size\":7},\"mode\":\"markers\",\"name\":\"wik-inj-ctrl\",\"scene\":\"scene\",\"showlegend\":true,\"x\":[13.193277,12.275262,13.189636,12.87883,13.155558,12.5729265,12.975131,13.257747,13.395449,14.419122,13.878804,14.719851,12.256071,14.772277,14.013532,14.110971,13.648256,14.935595,14.559676,13.439817,13.759699,13.413413,12.761199,13.557788,13.367299,11.280384,11.736194,13.705573,13.209538,13.456529,12.180122,13.12622,13.441044,13.196257,13.288882,13.470309,13.855052,13.987912,13.962059,13.315049,13.009435,13.4742985,13.51771,13.391838,13.277376,13.438237,13.645536,13.473852],\"y\":[9.613187,9.9499035,10.427094,10.5961275,9.826146,10.514854,10.262372,10.090738,9.919135,9.202228,9.799175,9.139926,10.13774,9.154314,9.643714,9.530474,8.506605,9.174598,9.074194,7.376989,10.084288,7.485315,10.722335,10.4989395,9.559884,9.838772,9.50602,9.489034,9.215751,9.0321665,9.967655,9.207477,10.229832,7.4771304,7.907915,7.7454424,8.886627,9.07226,9.798265,7.5526156,7.5211225,7.2245054,8.776751,7.3386655,8.3686075,7.296065,8.256078,7.2579927],\"z\":[21.984776,20.945478,21.67693,21.625702,21.762333,21.400473,21.872038,21.98457,21.47064,22.40866,21.618704,22.28182,20.847113,22.151924,22.144506,22.583776,19.963802,22.065077,21.899012,20.213516,22.148813,20.100918,21.47465,21.731035,20.439081,19.8221,21.270308,20.916037,20.435629,20.202145,20.346783,20.508398,21.754719,20.79219,19.927237,19.853336,22.137373,22.368763,21.113905,20.514107,20.534338,20.623318,20.000025,20.686281,19.968266,20.458323,19.911388,20.559423],\"type\":\"scatter3d\"},{\"hovertemplate\":\"master_perturbation=tbxta<br>UMAP_00_bio_3=%{x}<br>UMAP_01_bio_3=%{y}<br>UMAP_02_bio_3=%{z}<extra></extra>\",\"legendgroup\":\"tbxta\",\"marker\":{\"color\":\"#00CC96\",\"opacity\":1,\"symbol\":\"circle\",\"line\":{\"color\":\"DarkSlateGrey\",\"width\":2},\"size\":7},\"mode\":\"markers\",\"name\":\"tbxta\",\"scene\":\"scene\",\"showlegend\":true,\"x\":[2.296146,2.7155824,2.251292,2.347755,2.5718184,2.4788532,2.3643413,2.7690554,2.4550478,2.182789,2.676034,2.8291597,2.6270823,2.3844202,2.4084601,2.3938568],\"y\":[6.772567,6.9326477,6.8336124,6.7369547,7.092851,6.8702316,6.7128386,6.9402366,6.7710013,6.7961287,7.1147323,7.098556,7.119021,7.089623,6.9791403,7.1064425],\"z\":[13.071213,13.220984,13.019254,13.09614,13.154282,13.10236,13.058315,13.188827,13.265595,13.017539,13.177173,13.209548,13.357022,13.272285,13.261661,13.18161],\"type\":\"scatter3d\"}],                        {\"template\":{\"data\":{\"histogram2dcontour\":[{\"type\":\"histogram2dcontour\",\"colorbar\":{\"outlinewidth\":0,\"ticks\":\"\"},\"colorscale\":[[0.0,\"#0d0887\"],[0.1111111111111111,\"#46039f\"],[0.2222222222222222,\"#7201a8\"],[0.3333333333333333,\"#9c179e\"],[0.4444444444444444,\"#bd3786\"],[0.5555555555555556,\"#d8576b\"],[0.6666666666666666,\"#ed7953\"],[0.7777777777777778,\"#fb9f3a\"],[0.8888888888888888,\"#fdca26\"],[1.0,\"#f0f921\"]]}],\"choropleth\":[{\"type\":\"choropleth\",\"colorbar\":{\"outlinewidth\":0,\"ticks\":\"\"}}],\"histogram2d\":[{\"type\":\"histogram2d\",\"colorbar\":{\"outlinewidth\":0,\"ticks\":\"\"},\"colorscale\":[[0.0,\"#0d0887\"],[0.1111111111111111,\"#46039f\"],[0.2222222222222222,\"#7201a8\"],[0.3333333333333333,\"#9c179e\"],[0.4444444444444444,\"#bd3786\"],[0.5555555555555556,\"#d8576b\"],[0.6666666666666666,\"#ed7953\"],[0.7777777777777778,\"#fb9f3a\"],[0.8888888888888888,\"#fdca26\"],[1.0,\"#f0f921\"]]}],\"heatmap\":[{\"type\":\"heatmap\",\"colorbar\":{\"outlinewidth\":0,\"ticks\":\"\"},\"colorscale\":[[0.0,\"#0d0887\"],[0.1111111111111111,\"#46039f\"],[0.2222222222222222,\"#7201a8\"],[0.3333333333333333,\"#9c179e\"],[0.4444444444444444,\"#bd3786\"],[0.5555555555555556,\"#d8576b\"],[0.6666666666666666,\"#ed7953\"],[0.7777777777777778,\"#fb9f3a\"],[0.8888888888888888,\"#fdca26\"],[1.0,\"#f0f921\"]]}],\"heatmapgl\":[{\"type\":\"heatmapgl\",\"colorbar\":{\"outlinewidth\":0,\"ticks\":\"\"},\"colorscale\":[[0.0,\"#0d0887\"],[0.1111111111111111,\"#46039f\"],[0.2222222222222222,\"#7201a8\"],[0.3333333333333333,\"#9c179e\"],[0.4444444444444444,\"#bd3786\"],[0.5555555555555556,\"#d8576b\"],[0.6666666666666666,\"#ed7953\"],[0.7777777777777778,\"#fb9f3a\"],[0.8888888888888888,\"#fdca26\"],[1.0,\"#f0f921\"]]}],\"contourcarpet\":[{\"type\":\"contourcarpet\",\"colorbar\":{\"outlinewidth\":0,\"ticks\":\"\"}}],\"contour\":[{\"type\":\"contour\",\"colorbar\":{\"outlinewidth\":0,\"ticks\":\"\"},\"colorscale\":[[0.0,\"#0d0887\"],[0.1111111111111111,\"#46039f\"],[0.2222222222222222,\"#7201a8\"],[0.3333333333333333,\"#9c179e\"],[0.4444444444444444,\"#bd3786\"],[0.5555555555555556,\"#d8576b\"],[0.6666666666666666,\"#ed7953\"],[0.7777777777777778,\"#fb9f3a\"],[0.8888888888888888,\"#fdca26\"],[1.0,\"#f0f921\"]]}],\"surface\":[{\"type\":\"surface\",\"colorbar\":{\"outlinewidth\":0,\"ticks\":\"\"},\"colorscale\":[[0.0,\"#0d0887\"],[0.1111111111111111,\"#46039f\"],[0.2222222222222222,\"#7201a8\"],[0.3333333333333333,\"#9c179e\"],[0.4444444444444444,\"#bd3786\"],[0.5555555555555556,\"#d8576b\"],[0.6666666666666666,\"#ed7953\"],[0.7777777777777778,\"#fb9f3a\"],[0.8888888888888888,\"#fdca26\"],[1.0,\"#f0f921\"]]}],\"mesh3d\":[{\"type\":\"mesh3d\",\"colorbar\":{\"outlinewidth\":0,\"ticks\":\"\"}}],\"scatter\":[{\"fillpattern\":{\"fillmode\":\"overlay\",\"size\":10,\"solidity\":0.2},\"type\":\"scatter\"}],\"parcoords\":[{\"type\":\"parcoords\",\"line\":{\"colorbar\":{\"outlinewidth\":0,\"ticks\":\"\"}}}],\"scatterpolargl\":[{\"type\":\"scatterpolargl\",\"marker\":{\"colorbar\":{\"outlinewidth\":0,\"ticks\":\"\"}}}],\"bar\":[{\"error_x\":{\"color\":\"#2a3f5f\"},\"error_y\":{\"color\":\"#2a3f5f\"},\"marker\":{\"line\":{\"color\":\"#E5ECF6\",\"width\":0.5},\"pattern\":{\"fillmode\":\"overlay\",\"size\":10,\"solidity\":0.2}},\"type\":\"bar\"}],\"scattergeo\":[{\"type\":\"scattergeo\",\"marker\":{\"colorbar\":{\"outlinewidth\":0,\"ticks\":\"\"}}}],\"scatterpolar\":[{\"type\":\"scatterpolar\",\"marker\":{\"colorbar\":{\"outlinewidth\":0,\"ticks\":\"\"}}}],\"histogram\":[{\"marker\":{\"pattern\":{\"fillmode\":\"overlay\",\"size\":10,\"solidity\":0.2}},\"type\":\"histogram\"}],\"scattergl\":[{\"type\":\"scattergl\",\"marker\":{\"colorbar\":{\"outlinewidth\":0,\"ticks\":\"\"}}}],\"scatter3d\":[{\"type\":\"scatter3d\",\"line\":{\"colorbar\":{\"outlinewidth\":0,\"ticks\":\"\"}},\"marker\":{\"colorbar\":{\"outlinewidth\":0,\"ticks\":\"\"}}}],\"scattermapbox\":[{\"type\":\"scattermapbox\",\"marker\":{\"colorbar\":{\"outlinewidth\":0,\"ticks\":\"\"}}}],\"scatterternary\":[{\"type\":\"scatterternary\",\"marker\":{\"colorbar\":{\"outlinewidth\":0,\"ticks\":\"\"}}}],\"scattercarpet\":[{\"type\":\"scattercarpet\",\"marker\":{\"colorbar\":{\"outlinewidth\":0,\"ticks\":\"\"}}}],\"carpet\":[{\"aaxis\":{\"endlinecolor\":\"#2a3f5f\",\"gridcolor\":\"white\",\"linecolor\":\"white\",\"minorgridcolor\":\"white\",\"startlinecolor\":\"#2a3f5f\"},\"baxis\":{\"endlinecolor\":\"#2a3f5f\",\"gridcolor\":\"white\",\"linecolor\":\"white\",\"minorgridcolor\":\"white\",\"startlinecolor\":\"#2a3f5f\"},\"type\":\"carpet\"}],\"table\":[{\"cells\":{\"fill\":{\"color\":\"#EBF0F8\"},\"line\":{\"color\":\"white\"}},\"header\":{\"fill\":{\"color\":\"#C8D4E3\"},\"line\":{\"color\":\"white\"}},\"type\":\"table\"}],\"barpolar\":[{\"marker\":{\"line\":{\"color\":\"#E5ECF6\",\"width\":0.5},\"pattern\":{\"fillmode\":\"overlay\",\"size\":10,\"solidity\":0.2}},\"type\":\"barpolar\"}],\"pie\":[{\"automargin\":true,\"type\":\"pie\"}]},\"layout\":{\"autotypenumbers\":\"strict\",\"colorway\":[\"#636efa\",\"#EF553B\",\"#00cc96\",\"#ab63fa\",\"#FFA15A\",\"#19d3f3\",\"#FF6692\",\"#B6E880\",\"#FF97FF\",\"#FECB52\"],\"font\":{\"color\":\"#2a3f5f\"},\"hovermode\":\"closest\",\"hoverlabel\":{\"align\":\"left\"},\"paper_bgcolor\":\"white\",\"plot_bgcolor\":\"#E5ECF6\",\"polar\":{\"bgcolor\":\"#E5ECF6\",\"angularaxis\":{\"gridcolor\":\"white\",\"linecolor\":\"white\",\"ticks\":\"\"},\"radialaxis\":{\"gridcolor\":\"white\",\"linecolor\":\"white\",\"ticks\":\"\"}},\"ternary\":{\"bgcolor\":\"#E5ECF6\",\"aaxis\":{\"gridcolor\":\"white\",\"linecolor\":\"white\",\"ticks\":\"\"},\"baxis\":{\"gridcolor\":\"white\",\"linecolor\":\"white\",\"ticks\":\"\"},\"caxis\":{\"gridcolor\":\"white\",\"linecolor\":\"white\",\"ticks\":\"\"}},\"coloraxis\":{\"colorbar\":{\"outlinewidth\":0,\"ticks\":\"\"}},\"colorscale\":{\"sequential\":[[0.0,\"#0d0887\"],[0.1111111111111111,\"#46039f\"],[0.2222222222222222,\"#7201a8\"],[0.3333333333333333,\"#9c179e\"],[0.4444444444444444,\"#bd3786\"],[0.5555555555555556,\"#d8576b\"],[0.6666666666666666,\"#ed7953\"],[0.7777777777777778,\"#fb9f3a\"],[0.8888888888888888,\"#fdca26\"],[1.0,\"#f0f921\"]],\"sequentialminus\":[[0.0,\"#0d0887\"],[0.1111111111111111,\"#46039f\"],[0.2222222222222222,\"#7201a8\"],[0.3333333333333333,\"#9c179e\"],[0.4444444444444444,\"#bd3786\"],[0.5555555555555556,\"#d8576b\"],[0.6666666666666666,\"#ed7953\"],[0.7777777777777778,\"#fb9f3a\"],[0.8888888888888888,\"#fdca26\"],[1.0,\"#f0f921\"]],\"diverging\":[[0,\"#8e0152\"],[0.1,\"#c51b7d\"],[0.2,\"#de77ae\"],[0.3,\"#f1b6da\"],[0.4,\"#fde0ef\"],[0.5,\"#f7f7f7\"],[0.6,\"#e6f5d0\"],[0.7,\"#b8e186\"],[0.8,\"#7fbc41\"],[0.9,\"#4d9221\"],[1,\"#276419\"]]},\"xaxis\":{\"gridcolor\":\"white\",\"linecolor\":\"white\",\"ticks\":\"\",\"title\":{\"standoff\":15},\"zerolinecolor\":\"white\",\"automargin\":true,\"zerolinewidth\":2},\"yaxis\":{\"gridcolor\":\"white\",\"linecolor\":\"white\",\"ticks\":\"\",\"title\":{\"standoff\":15},\"zerolinecolor\":\"white\",\"automargin\":true,\"zerolinewidth\":2},\"scene\":{\"xaxis\":{\"backgroundcolor\":\"#E5ECF6\",\"gridcolor\":\"white\",\"linecolor\":\"white\",\"showbackground\":true,\"ticks\":\"\",\"zerolinecolor\":\"white\",\"gridwidth\":2},\"yaxis\":{\"backgroundcolor\":\"#E5ECF6\",\"gridcolor\":\"white\",\"linecolor\":\"white\",\"showbackground\":true,\"ticks\":\"\",\"zerolinecolor\":\"white\",\"gridwidth\":2},\"zaxis\":{\"backgroundcolor\":\"#E5ECF6\",\"gridcolor\":\"white\",\"linecolor\":\"white\",\"showbackground\":true,\"ticks\":\"\",\"zerolinecolor\":\"white\",\"gridwidth\":2}},\"shapedefaults\":{\"line\":{\"color\":\"#2a3f5f\"}},\"annotationdefaults\":{\"arrowcolor\":\"#2a3f5f\",\"arrowhead\":0,\"arrowwidth\":1},\"geo\":{\"bgcolor\":\"white\",\"landcolor\":\"#E5ECF6\",\"subunitcolor\":\"white\",\"showland\":true,\"showlakes\":true,\"lakecolor\":\"white\"},\"title\":{\"x\":0.05},\"mapbox\":{\"style\":\"light\"}}},\"scene\":{\"domain\":{\"x\":[0.0,1.0],\"y\":[0.0,1.0]},\"xaxis\":{\"title\":{\"text\":\"\"},\"showticklabels\":false},\"yaxis\":{\"title\":{\"text\":\"\"},\"showticklabels\":false},\"zaxis\":{\"title\":{\"text\":\"\"},\"showticklabels\":false},\"camera\":{\"eye\":{\"x\":0.4819184226109091,\"y\":2.4531112151609054,\"z\":1.5}},\"dragmode\":\"orbit\"},\"legend\":{\"title\":{\"text\":\"perturbation\"},\"tracegroupgap\":0},\"margin\":{\"t\":60},\"font\":{\"family\":\"Arial\",\"size\":14,\"color\":\"Black\"}},                        {\"responsive\": true}                    ).then(function(){\n",
       "                            \n",
       "var gd = document.getElementById('df331db7-dcbb-479f-923f-96ab5b154533');\n",
       "var x = new MutationObserver(function (mutations, observer) {{\n",
       "        var display = window.getComputedStyle(gd).display;\n",
       "        if (!display || display === 'none') {{\n",
       "            console.log([gd, 'removed!']);\n",
       "            Plotly.purge(gd);\n",
       "            observer.disconnect();\n",
       "        }}\n",
       "}});\n",
       "\n",
       "// Listen for the removal of the full notebook cells\n",
       "var notebookContainer = gd.closest('#notebook-container');\n",
       "if (notebookContainer) {{\n",
       "    x.observe(notebookContainer, {childList: true});\n",
       "}}\n",
       "\n",
       "// Listen for the clearing of the current output cell\n",
       "var outputEl = gd.closest('.output');\n",
       "if (outputEl) {{\n",
       "    x.observe(outputEl, {childList: true});\n",
       "}}\n",
       "\n",
       "                        })                };                });            </script>        </div>"
      ]
     },
     "metadata": {},
     "output_type": "display_data"
    }
   ],
   "source": [
    "import math\n",
    "from tqdm import tqdm\n",
    "\n",
    "angle_vec = np.linspace(1.36, 7.66, 50)\n",
    "frame_dir = os.path.join(figure_dir, \"lmx_morph_UMAP_frames\", \"\")\n",
    "if not os.path.isdir(frame_dir):\n",
    "    os.makedirs(frame_dir)\n",
    "\n",
    "# make rotating plots\n",
    "for iter_i, a in enumerate(tqdm(angle_vec)):\n",
    "    angle = a\n",
    "    za = 0.6\n",
    "    vec = np.asarray([math.cos(angle), math.sin(angle), za])\n",
    "    vec = vec*2.5\n",
    "    camera = dict(\n",
    "        eye=dict(x=vec[0], y=vec[1], z=vec[2]))\n",
    "    \n",
    "    morph_fig.update_layout(scene_camera=camera, scene_dragmode='orbit')\n",
    "    \n",
    "    if iter_i == 0:\n",
    "        morph_fig.write_image(os.path.join(figure_dir, \"umap_scatter_lmx\" + f\"_{iter_i:03}\" + \".png\"), scale=3)\n",
    "        \n",
    "        morph_fig.update_layout(scene = dict(\n",
    "                    xaxis_title=\"\",\n",
    "                    yaxis_title=\"\",\n",
    "                    zaxis_title=\"\",\n",
    "                    xaxis = dict(showticklabels=False),\n",
    "                    yaxis = dict(showticklabels=False),\n",
    "                    zaxis = dict(showticklabels=False)\n",
    "                    ))\n",
    "        \n",
    "    morph_fig.write_image(os.path.join(frame_dir, \"umap_scatter_lmx\" + f\"_{iter_i:03}\" + \".png\"), scale=2)\n",
    "    \n",
    "morph_fig.show()"
   ]
  },
  {
   "cell_type": "markdown",
   "id": "8a20efe8",
   "metadata": {},
   "source": [
    "## Hooke latent space plots"
   ]
  },
  {
   "cell_type": "code",
   "execution_count": 146,
   "id": "6830207b",
   "metadata": {},
   "outputs": [
    {
     "data": {
      "application/vnd.plotly.v1+json": {
       "config": {
        "plotlyServerURL": "https://plot.ly"
       },
       "data": [
        {
         "hovertemplate": "master_perturbation=lmx1b<br>UMAP_hooke_00_3=%{x}<br>UMAP_hooke_01_3=%{y}<br>UMAP_hooke_02_3=%{z}<extra></extra>",
         "legendgroup": "lmx1b",
         "marker": {
          "color": "#EF553B",
          "line": {
           "color": "DarkSlateGrey",
           "width": 2
          },
          "opacity": 1,
          "size": 7,
          "symbol": "circle"
         },
         "mode": "markers",
         "name": "lmx1b",
         "scene": "scene",
         "showlegend": true,
         "type": "scatter3d",
         "x": [
          13.292174,
          13.305437,
          13.295934,
          14.256061,
          13.755331,
          13.334316,
          13.236151,
          13.205227,
          13.8230915,
          14.246836,
          13.956982,
          14.199878,
          15.365539,
          15.636905,
          9.626239,
          10.098592,
          15.808278,
          15.455971,
          10.576498,
          8.908661,
          15.801746,
          15.856234,
          8.970035,
          9.016842,
          10.909352,
          15.641212,
          8.987577,
          9.870324,
          10.99194,
          10.921147,
          9.458634,
          9.025038,
          15.620426,
          9.255738,
          10.4186325,
          11.022275,
          15.606818,
          10.511289,
          9.092684,
          15.715881,
          15.471368,
          9.301951,
          9.139588,
          -3.270507,
          -3.3600261,
          -3.51444,
          -3.107007,
          -3.4221203,
          -3.167362,
          -3.2064874,
          -3.0605786,
          -3.4636257,
          -3.161526,
          -3.1435914,
          -3.1890898,
          -3.4044955,
          -3.1284752,
          21.703114,
          22.593018,
          6.46674,
          7.232598,
          21.813526,
          22.455885,
          6.9557447,
          6.5483327,
          7.0978255,
          21.818565,
          7.1629252,
          21.644573,
          7.0186806,
          6.5411854,
          21.769745,
          22.496088,
          22.492077,
          7.2235518,
          6.674154,
          22.45545,
          22.09752,
          6.649443,
          7.3523335,
          21.654459,
          22.230505,
          6.5100975,
          6.921312,
          22.055748,
          6.4711175,
          6.868714
         ],
         "y": [
          8.045684,
          7.8918595,
          7.9241095,
          7.497188,
          7.7375107,
          7.9503675,
          7.8498797,
          8.081196,
          7.691095,
          7.5213857,
          7.6228743,
          7.45282,
          9.397553,
          9.498635,
          12.706289,
          12.972543,
          9.464592,
          9.289569,
          13.0949335,
          12.353934,
          9.34452,
          9.571277,
          12.202656,
          12.347217,
          13.097236,
          9.596752,
          12.388079,
          12.830276,
          12.968304,
          12.860974,
          12.632447,
          12.402559,
          9.414549,
          12.226968,
          12.937863,
          12.809595,
          9.458678,
          13.081727,
          12.374916,
          9.336512,
          9.285143,
          12.192195,
          12.29314,
          7.9278574,
          7.8080153,
          7.463451,
          8.08219,
          7.524183,
          8.008384,
          7.662678,
          8.113301,
          7.460033,
          7.725244,
          8.033367,
          7.427995,
          7.5949006,
          8.008872,
          4.0301476,
          4.164208,
          15.727231,
          15.365631,
          3.918967,
          3.9671881,
          15.658888,
          15.714758,
          15.481701,
          3.9469786,
          15.410589,
          4.0345817,
          15.581214,
          15.675702,
          4.053281,
          4.019652,
          4.0647473,
          15.255223,
          15.741638,
          3.8842943,
          3.7656803,
          15.484332,
          15.149698,
          3.9844813,
          3.9124045,
          15.627398,
          15.643564,
          3.7597463,
          15.723268,
          15.568093
         ],
         "z": [
          0.3116706,
          0.13502787,
          0.16682935,
          0.21147427,
          0.28167644,
          0.20142111,
          0.108825386,
          0.31735963,
          0.2647661,
          0.26119426,
          0.28861907,
          0.23732926,
          14.673777,
          14.809739,
          2.831914,
          2.8694584,
          14.57316,
          14.536869,
          2.805889,
          2.1577842,
          14.564709,
          14.761883,
          2.1558506,
          2.2343554,
          2.8245974,
          14.653829,
          2.2177167,
          2.9618208,
          2.9345305,
          3.0041273,
          2.7140164,
          2.2552059,
          14.64903,
          2.4273317,
          2.9352171,
          3.024884,
          14.761792,
          2.8195343,
          2.3558166,
          14.559654,
          14.537208,
          2.3787322,
          2.3354828,
          -0.16708119,
          -0.18309866,
          -0.035299573,
          -0.10083615,
          0.015821904,
          -0.096279025,
          -0.11541436,
          -0.14606047,
          0.025830597,
          -0.28765377,
          -0.07936594,
          -0.19026929,
          -0.09058803,
          -0.17480303,
          10.556174,
          10.545038,
          2.2500973,
          2.479498,
          10.544911,
          10.71604,
          2.4280019,
          2.2721655,
          2.3151712,
          10.506548,
          2.3988962,
          10.423124,
          2.4064121,
          2.208021,
          10.587012,
          10.592696,
          10.518885,
          2.3868058,
          2.292546,
          10.747551,
          10.618873,
          2.4013877,
          2.3907385,
          10.449497,
          10.5416765,
          2.33061,
          2.33653,
          10.52557,
          2.2543294,
          2.3222814
         ]
        },
        {
         "hovertemplate": "master_perturbation=wik<br>UMAP_hooke_00_3=%{x}<br>UMAP_hooke_01_3=%{y}<br>UMAP_hooke_02_3=%{z}<extra></extra>",
         "legendgroup": "wik",
         "marker": {
          "color": "rgb(179, 205, 227)",
          "line": {
           "color": "DarkSlateGrey",
           "width": 2
          },
          "opacity": 1,
          "size": 7,
          "symbol": "circle"
         },
         "mode": "markers",
         "name": "wik",
         "scene": "scene",
         "showlegend": true,
         "type": "scatter3d",
         "x": [
          12.286528,
          12.089639,
          12.0228615,
          12.108326,
          11.944588,
          12.032045,
          12.141294,
          12.211592,
          15.584575,
          9.990176,
          15.793318,
          9.784709,
          15.668521,
          9.950774,
          15.717899,
          10.521115,
          10.784782,
          9.87504,
          10.908327,
          10.1400385,
          15.614556,
          15.671328,
          9.887674
         ],
         "y": [
          8.722249,
          8.748684,
          8.821037,
          8.742707,
          8.880392,
          8.798981,
          8.717594,
          8.769173,
          8.656884,
          12.363834,
          8.450336,
          12.273924,
          8.595229,
          12.374682,
          8.546656,
          12.860351,
          12.6976,
          12.281024,
          12.563428,
          12.5837145,
          8.635102,
          8.6002865,
          12.263032
         ],
         "z": [
          1.3469874,
          1.5643543,
          1.6339489,
          1.5477269,
          1.7142305,
          1.6242448,
          1.5136346,
          1.4319655,
          13.04931,
          3.593685,
          13.261182,
          3.7921257,
          13.111854,
          3.5915942,
          13.18049,
          3.0422893,
          3.0554266,
          3.787813,
          3.206567,
          3.365249,
          13.072235,
          13.10963,
          3.70079
         ]
        },
        {
         "hovertemplate": "master_perturbation=wik-inj-ctrl<br>UMAP_hooke_00_3=%{x}<br>UMAP_hooke_01_3=%{y}<br>UMAP_hooke_02_3=%{z}<extra></extra>",
         "legendgroup": "wik-inj-ctrl",
         "marker": {
          "color": "#636EFA",
          "line": {
           "color": "DarkSlateGrey",
           "width": 2
          },
          "opacity": 1,
          "size": 7,
          "symbol": "circle"
         },
         "mode": "markers",
         "name": "wik-inj-ctrl",
         "scene": "scene",
         "showlegend": true,
         "type": "scatter3d",
         "x": [
          12.877974,
          12.797462,
          12.914015,
          12.861817,
          12.77648,
          12.867115,
          13.053007,
          12.87104,
          17.910732,
          9.499134,
          17.772182,
          9.458613,
          17.77046,
          9.384375,
          11.004248,
          10.594316,
          17.713858,
          9.353983,
          17.876429,
          9.577666,
          17.661144,
          9.409471,
          17.894903,
          9.474775,
          13.012533,
          13.0602865,
          13.02115,
          13.110608,
          13.106889,
          13.198739,
          13.084359,
          13.130896,
          18.504496,
          9.052309,
          18.431528,
          8.976395,
          18.325092,
          9.051837,
          18.521084,
          8.98791,
          18.315208,
          8.990659,
          18.277893,
          9.174224,
          18.430527,
          9.270412,
          18.492815,
          9.247391
         ],
         "y": [
          7.417014,
          7.285392,
          7.4084373,
          7.2559648,
          7.1970463,
          7.365319,
          7.681411,
          7.3808646,
          8.551662,
          13.277976,
          8.695998,
          13.271308,
          8.714984,
          13.386522,
          13.00013,
          13.012103,
          8.75184,
          13.437859,
          8.51119,
          13.184822,
          8.82242,
          13.34545,
          8.598256,
          13.282223,
          6.6386833,
          6.6155186,
          6.7875223,
          6.723414,
          6.7503567,
          6.6555624,
          6.6752343,
          6.810025,
          8.492248,
          14.130764,
          8.431131,
          14.179466,
          8.32005,
          14.118671,
          8.440755,
          14.165227,
          8.32384,
          14.029317,
          8.158211,
          14.047214,
          8.355349,
          14.050337,
          8.484469,
          13.967638
         ],
         "z": [
          -1.073803,
          -1.258629,
          -0.98509175,
          -1.3827913,
          -1.3002797,
          -1.1629303,
          -0.4981002,
          -1.1325362,
          13.26197,
          4.5105224,
          13.177095,
          4.1576395,
          13.150101,
          4.7252846,
          2.9209447,
          2.884559,
          13.224117,
          4.4943037,
          13.271298,
          4.7967606,
          13.193304,
          4.6579313,
          13.198455,
          4.6070547,
          -2.9068606,
          -2.927893,
          -2.7575846,
          -2.8117404,
          -2.773884,
          -2.8531427,
          -2.84885,
          -2.702929,
          12.901475,
          4.8129606,
          12.965665,
          4.7648206,
          13.056193,
          4.8278956,
          12.8885145,
          4.8666887,
          13.040529,
          4.76485,
          13.050098,
          4.977833,
          12.950804,
          5.063392,
          12.914406,
          5.0315876
         ]
        },
        {
         "hovertemplate": "master_perturbation=tbxta<br>UMAP_hooke_00_3=%{x}<br>UMAP_hooke_01_3=%{y}<br>UMAP_hooke_02_3=%{z}<extra></extra>",
         "legendgroup": "tbxta",
         "marker": {
          "color": "#00CC96",
          "line": {
           "color": "DarkSlateGrey",
           "width": 2
          },
          "opacity": 1,
          "size": 7,
          "symbol": "circle"
         },
         "mode": "markers",
         "name": "tbxta",
         "scene": "scene",
         "showlegend": true,
         "type": "scatter3d",
         "x": [
          4.971718,
          4.7844625,
          4.8811727,
          4.698205,
          4.6516943,
          4.8076262,
          4.640381,
          4.6427884,
          5.7887535,
          5.993543,
          5.997774,
          5.8910575,
          5.9405355,
          5.9229946,
          6.032182,
          5.8975916
         ],
         "y": [
          -5.5359497,
          -5.752328,
          -5.5776215,
          -5.683065,
          -5.7745104,
          -5.665338,
          -5.6889405,
          -5.7639446,
          -5.021933,
          -5.121466,
          -5.2789507,
          -5.193396,
          -5.235079,
          -5.1667757,
          -5.319506,
          -5.1905127
         ],
         "z": [
          5.0446506,
          4.851619,
          4.9485426,
          4.7653847,
          4.7184978,
          4.8765473,
          4.7078094,
          4.710026,
          6.0121107,
          6.2201276,
          6.2259874,
          6.119495,
          6.169733,
          6.150116,
          6.2608786,
          6.1249714
         ]
        }
       ],
       "layout": {
        "font": {
         "color": "Black",
         "family": "Arial",
         "size": 14
        },
        "legend": {
         "title": {
          "text": "perturbation"
         },
         "tracegroupgap": 0
        },
        "margin": {
         "t": 60
        },
        "scene": {
         "domain": {
          "x": [
           0,
           1
          ],
          "y": [
           0,
           1
          ]
         },
         "xaxis": {
          "showticklabels": false,
          "title": {
           "text": "UMAP 1"
          }
         },
         "yaxis": {
          "showticklabels": false,
          "title": {
           "text": "UMAP 2"
          }
         },
         "zaxis": {
          "showticklabels": false,
          "title": {
           "text": "UMAP 3"
          }
         }
        },
        "template": {
         "data": {
          "bar": [
           {
            "error_x": {
             "color": "#2a3f5f"
            },
            "error_y": {
             "color": "#2a3f5f"
            },
            "marker": {
             "line": {
              "color": "#E5ECF6",
              "width": 0.5
             },
             "pattern": {
              "fillmode": "overlay",
              "size": 10,
              "solidity": 0.2
             }
            },
            "type": "bar"
           }
          ],
          "barpolar": [
           {
            "marker": {
             "line": {
              "color": "#E5ECF6",
              "width": 0.5
             },
             "pattern": {
              "fillmode": "overlay",
              "size": 10,
              "solidity": 0.2
             }
            },
            "type": "barpolar"
           }
          ],
          "carpet": [
           {
            "aaxis": {
             "endlinecolor": "#2a3f5f",
             "gridcolor": "white",
             "linecolor": "white",
             "minorgridcolor": "white",
             "startlinecolor": "#2a3f5f"
            },
            "baxis": {
             "endlinecolor": "#2a3f5f",
             "gridcolor": "white",
             "linecolor": "white",
             "minorgridcolor": "white",
             "startlinecolor": "#2a3f5f"
            },
            "type": "carpet"
           }
          ],
          "choropleth": [
           {
            "colorbar": {
             "outlinewidth": 0,
             "ticks": ""
            },
            "type": "choropleth"
           }
          ],
          "contour": [
           {
            "colorbar": {
             "outlinewidth": 0,
             "ticks": ""
            },
            "colorscale": [
             [
              0,
              "#0d0887"
             ],
             [
              0.1111111111111111,
              "#46039f"
             ],
             [
              0.2222222222222222,
              "#7201a8"
             ],
             [
              0.3333333333333333,
              "#9c179e"
             ],
             [
              0.4444444444444444,
              "#bd3786"
             ],
             [
              0.5555555555555556,
              "#d8576b"
             ],
             [
              0.6666666666666666,
              "#ed7953"
             ],
             [
              0.7777777777777778,
              "#fb9f3a"
             ],
             [
              0.8888888888888888,
              "#fdca26"
             ],
             [
              1,
              "#f0f921"
             ]
            ],
            "type": "contour"
           }
          ],
          "contourcarpet": [
           {
            "colorbar": {
             "outlinewidth": 0,
             "ticks": ""
            },
            "type": "contourcarpet"
           }
          ],
          "heatmap": [
           {
            "colorbar": {
             "outlinewidth": 0,
             "ticks": ""
            },
            "colorscale": [
             [
              0,
              "#0d0887"
             ],
             [
              0.1111111111111111,
              "#46039f"
             ],
             [
              0.2222222222222222,
              "#7201a8"
             ],
             [
              0.3333333333333333,
              "#9c179e"
             ],
             [
              0.4444444444444444,
              "#bd3786"
             ],
             [
              0.5555555555555556,
              "#d8576b"
             ],
             [
              0.6666666666666666,
              "#ed7953"
             ],
             [
              0.7777777777777778,
              "#fb9f3a"
             ],
             [
              0.8888888888888888,
              "#fdca26"
             ],
             [
              1,
              "#f0f921"
             ]
            ],
            "type": "heatmap"
           }
          ],
          "heatmapgl": [
           {
            "colorbar": {
             "outlinewidth": 0,
             "ticks": ""
            },
            "colorscale": [
             [
              0,
              "#0d0887"
             ],
             [
              0.1111111111111111,
              "#46039f"
             ],
             [
              0.2222222222222222,
              "#7201a8"
             ],
             [
              0.3333333333333333,
              "#9c179e"
             ],
             [
              0.4444444444444444,
              "#bd3786"
             ],
             [
              0.5555555555555556,
              "#d8576b"
             ],
             [
              0.6666666666666666,
              "#ed7953"
             ],
             [
              0.7777777777777778,
              "#fb9f3a"
             ],
             [
              0.8888888888888888,
              "#fdca26"
             ],
             [
              1,
              "#f0f921"
             ]
            ],
            "type": "heatmapgl"
           }
          ],
          "histogram": [
           {
            "marker": {
             "pattern": {
              "fillmode": "overlay",
              "size": 10,
              "solidity": 0.2
             }
            },
            "type": "histogram"
           }
          ],
          "histogram2d": [
           {
            "colorbar": {
             "outlinewidth": 0,
             "ticks": ""
            },
            "colorscale": [
             [
              0,
              "#0d0887"
             ],
             [
              0.1111111111111111,
              "#46039f"
             ],
             [
              0.2222222222222222,
              "#7201a8"
             ],
             [
              0.3333333333333333,
              "#9c179e"
             ],
             [
              0.4444444444444444,
              "#bd3786"
             ],
             [
              0.5555555555555556,
              "#d8576b"
             ],
             [
              0.6666666666666666,
              "#ed7953"
             ],
             [
              0.7777777777777778,
              "#fb9f3a"
             ],
             [
              0.8888888888888888,
              "#fdca26"
             ],
             [
              1,
              "#f0f921"
             ]
            ],
            "type": "histogram2d"
           }
          ],
          "histogram2dcontour": [
           {
            "colorbar": {
             "outlinewidth": 0,
             "ticks": ""
            },
            "colorscale": [
             [
              0,
              "#0d0887"
             ],
             [
              0.1111111111111111,
              "#46039f"
             ],
             [
              0.2222222222222222,
              "#7201a8"
             ],
             [
              0.3333333333333333,
              "#9c179e"
             ],
             [
              0.4444444444444444,
              "#bd3786"
             ],
             [
              0.5555555555555556,
              "#d8576b"
             ],
             [
              0.6666666666666666,
              "#ed7953"
             ],
             [
              0.7777777777777778,
              "#fb9f3a"
             ],
             [
              0.8888888888888888,
              "#fdca26"
             ],
             [
              1,
              "#f0f921"
             ]
            ],
            "type": "histogram2dcontour"
           }
          ],
          "mesh3d": [
           {
            "colorbar": {
             "outlinewidth": 0,
             "ticks": ""
            },
            "type": "mesh3d"
           }
          ],
          "parcoords": [
           {
            "line": {
             "colorbar": {
              "outlinewidth": 0,
              "ticks": ""
             }
            },
            "type": "parcoords"
           }
          ],
          "pie": [
           {
            "automargin": true,
            "type": "pie"
           }
          ],
          "scatter": [
           {
            "fillpattern": {
             "fillmode": "overlay",
             "size": 10,
             "solidity": 0.2
            },
            "type": "scatter"
           }
          ],
          "scatter3d": [
           {
            "line": {
             "colorbar": {
              "outlinewidth": 0,
              "ticks": ""
             }
            },
            "marker": {
             "colorbar": {
              "outlinewidth": 0,
              "ticks": ""
             }
            },
            "type": "scatter3d"
           }
          ],
          "scattercarpet": [
           {
            "marker": {
             "colorbar": {
              "outlinewidth": 0,
              "ticks": ""
             }
            },
            "type": "scattercarpet"
           }
          ],
          "scattergeo": [
           {
            "marker": {
             "colorbar": {
              "outlinewidth": 0,
              "ticks": ""
             }
            },
            "type": "scattergeo"
           }
          ],
          "scattergl": [
           {
            "marker": {
             "colorbar": {
              "outlinewidth": 0,
              "ticks": ""
             }
            },
            "type": "scattergl"
           }
          ],
          "scattermapbox": [
           {
            "marker": {
             "colorbar": {
              "outlinewidth": 0,
              "ticks": ""
             }
            },
            "type": "scattermapbox"
           }
          ],
          "scatterpolar": [
           {
            "marker": {
             "colorbar": {
              "outlinewidth": 0,
              "ticks": ""
             }
            },
            "type": "scatterpolar"
           }
          ],
          "scatterpolargl": [
           {
            "marker": {
             "colorbar": {
              "outlinewidth": 0,
              "ticks": ""
             }
            },
            "type": "scatterpolargl"
           }
          ],
          "scatterternary": [
           {
            "marker": {
             "colorbar": {
              "outlinewidth": 0,
              "ticks": ""
             }
            },
            "type": "scatterternary"
           }
          ],
          "surface": [
           {
            "colorbar": {
             "outlinewidth": 0,
             "ticks": ""
            },
            "colorscale": [
             [
              0,
              "#0d0887"
             ],
             [
              0.1111111111111111,
              "#46039f"
             ],
             [
              0.2222222222222222,
              "#7201a8"
             ],
             [
              0.3333333333333333,
              "#9c179e"
             ],
             [
              0.4444444444444444,
              "#bd3786"
             ],
             [
              0.5555555555555556,
              "#d8576b"
             ],
             [
              0.6666666666666666,
              "#ed7953"
             ],
             [
              0.7777777777777778,
              "#fb9f3a"
             ],
             [
              0.8888888888888888,
              "#fdca26"
             ],
             [
              1,
              "#f0f921"
             ]
            ],
            "type": "surface"
           }
          ],
          "table": [
           {
            "cells": {
             "fill": {
              "color": "#EBF0F8"
             },
             "line": {
              "color": "white"
             }
            },
            "header": {
             "fill": {
              "color": "#C8D4E3"
             },
             "line": {
              "color": "white"
             }
            },
            "type": "table"
           }
          ]
         },
         "layout": {
          "annotationdefaults": {
           "arrowcolor": "#2a3f5f",
           "arrowhead": 0,
           "arrowwidth": 1
          },
          "autotypenumbers": "strict",
          "coloraxis": {
           "colorbar": {
            "outlinewidth": 0,
            "ticks": ""
           }
          },
          "colorscale": {
           "diverging": [
            [
             0,
             "#8e0152"
            ],
            [
             0.1,
             "#c51b7d"
            ],
            [
             0.2,
             "#de77ae"
            ],
            [
             0.3,
             "#f1b6da"
            ],
            [
             0.4,
             "#fde0ef"
            ],
            [
             0.5,
             "#f7f7f7"
            ],
            [
             0.6,
             "#e6f5d0"
            ],
            [
             0.7,
             "#b8e186"
            ],
            [
             0.8,
             "#7fbc41"
            ],
            [
             0.9,
             "#4d9221"
            ],
            [
             1,
             "#276419"
            ]
           ],
           "sequential": [
            [
             0,
             "#0d0887"
            ],
            [
             0.1111111111111111,
             "#46039f"
            ],
            [
             0.2222222222222222,
             "#7201a8"
            ],
            [
             0.3333333333333333,
             "#9c179e"
            ],
            [
             0.4444444444444444,
             "#bd3786"
            ],
            [
             0.5555555555555556,
             "#d8576b"
            ],
            [
             0.6666666666666666,
             "#ed7953"
            ],
            [
             0.7777777777777778,
             "#fb9f3a"
            ],
            [
             0.8888888888888888,
             "#fdca26"
            ],
            [
             1,
             "#f0f921"
            ]
           ],
           "sequentialminus": [
            [
             0,
             "#0d0887"
            ],
            [
             0.1111111111111111,
             "#46039f"
            ],
            [
             0.2222222222222222,
             "#7201a8"
            ],
            [
             0.3333333333333333,
             "#9c179e"
            ],
            [
             0.4444444444444444,
             "#bd3786"
            ],
            [
             0.5555555555555556,
             "#d8576b"
            ],
            [
             0.6666666666666666,
             "#ed7953"
            ],
            [
             0.7777777777777778,
             "#fb9f3a"
            ],
            [
             0.8888888888888888,
             "#fdca26"
            ],
            [
             1,
             "#f0f921"
            ]
           ]
          },
          "colorway": [
           "#636efa",
           "#EF553B",
           "#00cc96",
           "#ab63fa",
           "#FFA15A",
           "#19d3f3",
           "#FF6692",
           "#B6E880",
           "#FF97FF",
           "#FECB52"
          ],
          "font": {
           "color": "#2a3f5f"
          },
          "geo": {
           "bgcolor": "white",
           "lakecolor": "white",
           "landcolor": "#E5ECF6",
           "showlakes": true,
           "showland": true,
           "subunitcolor": "white"
          },
          "hoverlabel": {
           "align": "left"
          },
          "hovermode": "closest",
          "mapbox": {
           "style": "light"
          },
          "paper_bgcolor": "white",
          "plot_bgcolor": "#E5ECF6",
          "polar": {
           "angularaxis": {
            "gridcolor": "white",
            "linecolor": "white",
            "ticks": ""
           },
           "bgcolor": "#E5ECF6",
           "radialaxis": {
            "gridcolor": "white",
            "linecolor": "white",
            "ticks": ""
           }
          },
          "scene": {
           "xaxis": {
            "backgroundcolor": "#E5ECF6",
            "gridcolor": "white",
            "gridwidth": 2,
            "linecolor": "white",
            "showbackground": true,
            "ticks": "",
            "zerolinecolor": "white"
           },
           "yaxis": {
            "backgroundcolor": "#E5ECF6",
            "gridcolor": "white",
            "gridwidth": 2,
            "linecolor": "white",
            "showbackground": true,
            "ticks": "",
            "zerolinecolor": "white"
           },
           "zaxis": {
            "backgroundcolor": "#E5ECF6",
            "gridcolor": "white",
            "gridwidth": 2,
            "linecolor": "white",
            "showbackground": true,
            "ticks": "",
            "zerolinecolor": "white"
           }
          },
          "shapedefaults": {
           "line": {
            "color": "#2a3f5f"
           }
          },
          "ternary": {
           "aaxis": {
            "gridcolor": "white",
            "linecolor": "white",
            "ticks": ""
           },
           "baxis": {
            "gridcolor": "white",
            "linecolor": "white",
            "ticks": ""
           },
           "bgcolor": "#E5ECF6",
           "caxis": {
            "gridcolor": "white",
            "linecolor": "white",
            "ticks": ""
           }
          },
          "title": {
           "x": 0.05
          },
          "xaxis": {
           "automargin": true,
           "gridcolor": "white",
           "linecolor": "white",
           "ticks": "",
           "title": {
            "standoff": 15
           },
           "zerolinecolor": "white",
           "zerolinewidth": 2
          },
          "yaxis": {
           "automargin": true,
           "gridcolor": "white",
           "linecolor": "white",
           "ticks": "",
           "title": {
            "standoff": 15
           },
           "zerolinecolor": "white",
           "zerolinewidth": 2
          }
         }
        }
       }
      },
      "text/html": [
       "<div>                            <div id=\"c05ac98a-6730-40ff-a5ad-da12a53a7ee8\" class=\"plotly-graph-div\" style=\"height:525px; width:100%;\"></div>            <script type=\"text/javascript\">                require([\"plotly\"], function(Plotly) {                    window.PLOTLYENV=window.PLOTLYENV || {};                                    if (document.getElementById(\"c05ac98a-6730-40ff-a5ad-da12a53a7ee8\")) {                    Plotly.newPlot(                        \"c05ac98a-6730-40ff-a5ad-da12a53a7ee8\",                        [{\"hovertemplate\":\"master_perturbation=lmx1b<br>UMAP_hooke_00_3=%{x}<br>UMAP_hooke_01_3=%{y}<br>UMAP_hooke_02_3=%{z}<extra></extra>\",\"legendgroup\":\"lmx1b\",\"marker\":{\"color\":\"#EF553B\",\"opacity\":1,\"symbol\":\"circle\",\"line\":{\"color\":\"DarkSlateGrey\",\"width\":2},\"size\":7},\"mode\":\"markers\",\"name\":\"lmx1b\",\"scene\":\"scene\",\"showlegend\":true,\"x\":[13.292174,13.305437,13.295934,14.256061,13.755331,13.334316,13.236151,13.205227,13.8230915,14.246836,13.956982,14.199878,15.365539,15.636905,9.626239,10.098592,15.808278,15.455971,10.576498,8.908661,15.801746,15.856234,8.970035,9.016842,10.909352,15.641212,8.987577,9.870324,10.99194,10.921147,9.458634,9.025038,15.620426,9.255738,10.4186325,11.022275,15.606818,10.511289,9.092684,15.715881,15.471368,9.301951,9.139588,-3.270507,-3.3600261,-3.51444,-3.107007,-3.4221203,-3.167362,-3.2064874,-3.0605786,-3.4636257,-3.161526,-3.1435914,-3.1890898,-3.4044955,-3.1284752,21.703114,22.593018,6.46674,7.232598,21.813526,22.455885,6.9557447,6.5483327,7.0978255,21.818565,7.1629252,21.644573,7.0186806,6.5411854,21.769745,22.496088,22.492077,7.2235518,6.674154,22.45545,22.09752,6.649443,7.3523335,21.654459,22.230505,6.5100975,6.921312,22.055748,6.4711175,6.868714],\"y\":[8.045684,7.8918595,7.9241095,7.497188,7.7375107,7.9503675,7.8498797,8.081196,7.691095,7.5213857,7.6228743,7.45282,9.397553,9.498635,12.706289,12.972543,9.464592,9.289569,13.0949335,12.353934,9.34452,9.571277,12.202656,12.347217,13.097236,9.596752,12.388079,12.830276,12.968304,12.860974,12.632447,12.402559,9.414549,12.226968,12.937863,12.809595,9.458678,13.081727,12.374916,9.336512,9.285143,12.192195,12.29314,7.9278574,7.8080153,7.463451,8.08219,7.524183,8.008384,7.662678,8.113301,7.460033,7.725244,8.033367,7.427995,7.5949006,8.008872,4.0301476,4.164208,15.727231,15.365631,3.918967,3.9671881,15.658888,15.714758,15.481701,3.9469786,15.410589,4.0345817,15.581214,15.675702,4.053281,4.019652,4.0647473,15.255223,15.741638,3.8842943,3.7656803,15.484332,15.149698,3.9844813,3.9124045,15.627398,15.643564,3.7597463,15.723268,15.568093],\"z\":[0.3116706,0.13502787,0.16682935,0.21147427,0.28167644,0.20142111,0.108825386,0.31735963,0.2647661,0.26119426,0.28861907,0.23732926,14.673777,14.809739,2.831914,2.8694584,14.57316,14.536869,2.805889,2.1577842,14.564709,14.761883,2.1558506,2.2343554,2.8245974,14.653829,2.2177167,2.9618208,2.9345305,3.0041273,2.7140164,2.2552059,14.64903,2.4273317,2.9352171,3.024884,14.761792,2.8195343,2.3558166,14.559654,14.537208,2.3787322,2.3354828,-0.16708119,-0.18309866,-0.035299573,-0.10083615,0.015821904,-0.096279025,-0.11541436,-0.14606047,0.025830597,-0.28765377,-0.07936594,-0.19026929,-0.09058803,-0.17480303,10.556174,10.545038,2.2500973,2.479498,10.544911,10.71604,2.4280019,2.2721655,2.3151712,10.506548,2.3988962,10.423124,2.4064121,2.208021,10.587012,10.592696,10.518885,2.3868058,2.292546,10.747551,10.618873,2.4013877,2.3907385,10.449497,10.5416765,2.33061,2.33653,10.52557,2.2543294,2.3222814],\"type\":\"scatter3d\"},{\"hovertemplate\":\"master_perturbation=wik<br>UMAP_hooke_00_3=%{x}<br>UMAP_hooke_01_3=%{y}<br>UMAP_hooke_02_3=%{z}<extra></extra>\",\"legendgroup\":\"wik\",\"marker\":{\"color\":\"rgb(179, 205, 227)\",\"opacity\":1,\"symbol\":\"circle\",\"line\":{\"color\":\"DarkSlateGrey\",\"width\":2},\"size\":7},\"mode\":\"markers\",\"name\":\"wik\",\"scene\":\"scene\",\"showlegend\":true,\"x\":[12.286528,12.089639,12.0228615,12.108326,11.944588,12.032045,12.141294,12.211592,15.584575,9.990176,15.793318,9.784709,15.668521,9.950774,15.717899,10.521115,10.784782,9.87504,10.908327,10.1400385,15.614556,15.671328,9.887674],\"y\":[8.722249,8.748684,8.821037,8.742707,8.880392,8.798981,8.717594,8.769173,8.656884,12.363834,8.450336,12.273924,8.595229,12.374682,8.546656,12.860351,12.6976,12.281024,12.563428,12.5837145,8.635102,8.6002865,12.263032],\"z\":[1.3469874,1.5643543,1.6339489,1.5477269,1.7142305,1.6242448,1.5136346,1.4319655,13.04931,3.593685,13.261182,3.7921257,13.111854,3.5915942,13.18049,3.0422893,3.0554266,3.787813,3.206567,3.365249,13.072235,13.10963,3.70079],\"type\":\"scatter3d\"},{\"hovertemplate\":\"master_perturbation=wik-inj-ctrl<br>UMAP_hooke_00_3=%{x}<br>UMAP_hooke_01_3=%{y}<br>UMAP_hooke_02_3=%{z}<extra></extra>\",\"legendgroup\":\"wik-inj-ctrl\",\"marker\":{\"color\":\"#636EFA\",\"opacity\":1,\"symbol\":\"circle\",\"line\":{\"color\":\"DarkSlateGrey\",\"width\":2},\"size\":7},\"mode\":\"markers\",\"name\":\"wik-inj-ctrl\",\"scene\":\"scene\",\"showlegend\":true,\"x\":[12.877974,12.797462,12.914015,12.861817,12.77648,12.867115,13.053007,12.87104,17.910732,9.499134,17.772182,9.458613,17.77046,9.384375,11.004248,10.594316,17.713858,9.353983,17.876429,9.577666,17.661144,9.409471,17.894903,9.474775,13.012533,13.0602865,13.02115,13.110608,13.106889,13.198739,13.084359,13.130896,18.504496,9.052309,18.431528,8.976395,18.325092,9.051837,18.521084,8.98791,18.315208,8.990659,18.277893,9.174224,18.430527,9.270412,18.492815,9.247391],\"y\":[7.417014,7.285392,7.4084373,7.2559648,7.1970463,7.365319,7.681411,7.3808646,8.551662,13.277976,8.695998,13.271308,8.714984,13.386522,13.00013,13.012103,8.75184,13.437859,8.51119,13.184822,8.82242,13.34545,8.598256,13.282223,6.6386833,6.6155186,6.7875223,6.723414,6.7503567,6.6555624,6.6752343,6.810025,8.492248,14.130764,8.431131,14.179466,8.32005,14.118671,8.440755,14.165227,8.32384,14.029317,8.158211,14.047214,8.355349,14.050337,8.484469,13.967638],\"z\":[-1.073803,-1.258629,-0.98509175,-1.3827913,-1.3002797,-1.1629303,-0.4981002,-1.1325362,13.26197,4.5105224,13.177095,4.1576395,13.150101,4.7252846,2.9209447,2.884559,13.224117,4.4943037,13.271298,4.7967606,13.193304,4.6579313,13.198455,4.6070547,-2.9068606,-2.927893,-2.7575846,-2.8117404,-2.773884,-2.8531427,-2.84885,-2.702929,12.901475,4.8129606,12.965665,4.7648206,13.056193,4.8278956,12.8885145,4.8666887,13.040529,4.76485,13.050098,4.977833,12.950804,5.063392,12.914406,5.0315876],\"type\":\"scatter3d\"},{\"hovertemplate\":\"master_perturbation=tbxta<br>UMAP_hooke_00_3=%{x}<br>UMAP_hooke_01_3=%{y}<br>UMAP_hooke_02_3=%{z}<extra></extra>\",\"legendgroup\":\"tbxta\",\"marker\":{\"color\":\"#00CC96\",\"opacity\":1,\"symbol\":\"circle\",\"line\":{\"color\":\"DarkSlateGrey\",\"width\":2},\"size\":7},\"mode\":\"markers\",\"name\":\"tbxta\",\"scene\":\"scene\",\"showlegend\":true,\"x\":[4.971718,4.7844625,4.8811727,4.698205,4.6516943,4.8076262,4.640381,4.6427884,5.7887535,5.993543,5.997774,5.8910575,5.9405355,5.9229946,6.032182,5.8975916],\"y\":[-5.5359497,-5.752328,-5.5776215,-5.683065,-5.7745104,-5.665338,-5.6889405,-5.7639446,-5.021933,-5.121466,-5.2789507,-5.193396,-5.235079,-5.1667757,-5.319506,-5.1905127],\"z\":[5.0446506,4.851619,4.9485426,4.7653847,4.7184978,4.8765473,4.7078094,4.710026,6.0121107,6.2201276,6.2259874,6.119495,6.169733,6.150116,6.2608786,6.1249714],\"type\":\"scatter3d\"}],                        {\"template\":{\"data\":{\"histogram2dcontour\":[{\"type\":\"histogram2dcontour\",\"colorbar\":{\"outlinewidth\":0,\"ticks\":\"\"},\"colorscale\":[[0.0,\"#0d0887\"],[0.1111111111111111,\"#46039f\"],[0.2222222222222222,\"#7201a8\"],[0.3333333333333333,\"#9c179e\"],[0.4444444444444444,\"#bd3786\"],[0.5555555555555556,\"#d8576b\"],[0.6666666666666666,\"#ed7953\"],[0.7777777777777778,\"#fb9f3a\"],[0.8888888888888888,\"#fdca26\"],[1.0,\"#f0f921\"]]}],\"choropleth\":[{\"type\":\"choropleth\",\"colorbar\":{\"outlinewidth\":0,\"ticks\":\"\"}}],\"histogram2d\":[{\"type\":\"histogram2d\",\"colorbar\":{\"outlinewidth\":0,\"ticks\":\"\"},\"colorscale\":[[0.0,\"#0d0887\"],[0.1111111111111111,\"#46039f\"],[0.2222222222222222,\"#7201a8\"],[0.3333333333333333,\"#9c179e\"],[0.4444444444444444,\"#bd3786\"],[0.5555555555555556,\"#d8576b\"],[0.6666666666666666,\"#ed7953\"],[0.7777777777777778,\"#fb9f3a\"],[0.8888888888888888,\"#fdca26\"],[1.0,\"#f0f921\"]]}],\"heatmap\":[{\"type\":\"heatmap\",\"colorbar\":{\"outlinewidth\":0,\"ticks\":\"\"},\"colorscale\":[[0.0,\"#0d0887\"],[0.1111111111111111,\"#46039f\"],[0.2222222222222222,\"#7201a8\"],[0.3333333333333333,\"#9c179e\"],[0.4444444444444444,\"#bd3786\"],[0.5555555555555556,\"#d8576b\"],[0.6666666666666666,\"#ed7953\"],[0.7777777777777778,\"#fb9f3a\"],[0.8888888888888888,\"#fdca26\"],[1.0,\"#f0f921\"]]}],\"heatmapgl\":[{\"type\":\"heatmapgl\",\"colorbar\":{\"outlinewidth\":0,\"ticks\":\"\"},\"colorscale\":[[0.0,\"#0d0887\"],[0.1111111111111111,\"#46039f\"],[0.2222222222222222,\"#7201a8\"],[0.3333333333333333,\"#9c179e\"],[0.4444444444444444,\"#bd3786\"],[0.5555555555555556,\"#d8576b\"],[0.6666666666666666,\"#ed7953\"],[0.7777777777777778,\"#fb9f3a\"],[0.8888888888888888,\"#fdca26\"],[1.0,\"#f0f921\"]]}],\"contourcarpet\":[{\"type\":\"contourcarpet\",\"colorbar\":{\"outlinewidth\":0,\"ticks\":\"\"}}],\"contour\":[{\"type\":\"contour\",\"colorbar\":{\"outlinewidth\":0,\"ticks\":\"\"},\"colorscale\":[[0.0,\"#0d0887\"],[0.1111111111111111,\"#46039f\"],[0.2222222222222222,\"#7201a8\"],[0.3333333333333333,\"#9c179e\"],[0.4444444444444444,\"#bd3786\"],[0.5555555555555556,\"#d8576b\"],[0.6666666666666666,\"#ed7953\"],[0.7777777777777778,\"#fb9f3a\"],[0.8888888888888888,\"#fdca26\"],[1.0,\"#f0f921\"]]}],\"surface\":[{\"type\":\"surface\",\"colorbar\":{\"outlinewidth\":0,\"ticks\":\"\"},\"colorscale\":[[0.0,\"#0d0887\"],[0.1111111111111111,\"#46039f\"],[0.2222222222222222,\"#7201a8\"],[0.3333333333333333,\"#9c179e\"],[0.4444444444444444,\"#bd3786\"],[0.5555555555555556,\"#d8576b\"],[0.6666666666666666,\"#ed7953\"],[0.7777777777777778,\"#fb9f3a\"],[0.8888888888888888,\"#fdca26\"],[1.0,\"#f0f921\"]]}],\"mesh3d\":[{\"type\":\"mesh3d\",\"colorbar\":{\"outlinewidth\":0,\"ticks\":\"\"}}],\"scatter\":[{\"fillpattern\":{\"fillmode\":\"overlay\",\"size\":10,\"solidity\":0.2},\"type\":\"scatter\"}],\"parcoords\":[{\"type\":\"parcoords\",\"line\":{\"colorbar\":{\"outlinewidth\":0,\"ticks\":\"\"}}}],\"scatterpolargl\":[{\"type\":\"scatterpolargl\",\"marker\":{\"colorbar\":{\"outlinewidth\":0,\"ticks\":\"\"}}}],\"bar\":[{\"error_x\":{\"color\":\"#2a3f5f\"},\"error_y\":{\"color\":\"#2a3f5f\"},\"marker\":{\"line\":{\"color\":\"#E5ECF6\",\"width\":0.5},\"pattern\":{\"fillmode\":\"overlay\",\"size\":10,\"solidity\":0.2}},\"type\":\"bar\"}],\"scattergeo\":[{\"type\":\"scattergeo\",\"marker\":{\"colorbar\":{\"outlinewidth\":0,\"ticks\":\"\"}}}],\"scatterpolar\":[{\"type\":\"scatterpolar\",\"marker\":{\"colorbar\":{\"outlinewidth\":0,\"ticks\":\"\"}}}],\"histogram\":[{\"marker\":{\"pattern\":{\"fillmode\":\"overlay\",\"size\":10,\"solidity\":0.2}},\"type\":\"histogram\"}],\"scattergl\":[{\"type\":\"scattergl\",\"marker\":{\"colorbar\":{\"outlinewidth\":0,\"ticks\":\"\"}}}],\"scatter3d\":[{\"type\":\"scatter3d\",\"line\":{\"colorbar\":{\"outlinewidth\":0,\"ticks\":\"\"}},\"marker\":{\"colorbar\":{\"outlinewidth\":0,\"ticks\":\"\"}}}],\"scattermapbox\":[{\"type\":\"scattermapbox\",\"marker\":{\"colorbar\":{\"outlinewidth\":0,\"ticks\":\"\"}}}],\"scatterternary\":[{\"type\":\"scatterternary\",\"marker\":{\"colorbar\":{\"outlinewidth\":0,\"ticks\":\"\"}}}],\"scattercarpet\":[{\"type\":\"scattercarpet\",\"marker\":{\"colorbar\":{\"outlinewidth\":0,\"ticks\":\"\"}}}],\"carpet\":[{\"aaxis\":{\"endlinecolor\":\"#2a3f5f\",\"gridcolor\":\"white\",\"linecolor\":\"white\",\"minorgridcolor\":\"white\",\"startlinecolor\":\"#2a3f5f\"},\"baxis\":{\"endlinecolor\":\"#2a3f5f\",\"gridcolor\":\"white\",\"linecolor\":\"white\",\"minorgridcolor\":\"white\",\"startlinecolor\":\"#2a3f5f\"},\"type\":\"carpet\"}],\"table\":[{\"cells\":{\"fill\":{\"color\":\"#EBF0F8\"},\"line\":{\"color\":\"white\"}},\"header\":{\"fill\":{\"color\":\"#C8D4E3\"},\"line\":{\"color\":\"white\"}},\"type\":\"table\"}],\"barpolar\":[{\"marker\":{\"line\":{\"color\":\"#E5ECF6\",\"width\":0.5},\"pattern\":{\"fillmode\":\"overlay\",\"size\":10,\"solidity\":0.2}},\"type\":\"barpolar\"}],\"pie\":[{\"automargin\":true,\"type\":\"pie\"}]},\"layout\":{\"autotypenumbers\":\"strict\",\"colorway\":[\"#636efa\",\"#EF553B\",\"#00cc96\",\"#ab63fa\",\"#FFA15A\",\"#19d3f3\",\"#FF6692\",\"#B6E880\",\"#FF97FF\",\"#FECB52\"],\"font\":{\"color\":\"#2a3f5f\"},\"hovermode\":\"closest\",\"hoverlabel\":{\"align\":\"left\"},\"paper_bgcolor\":\"white\",\"plot_bgcolor\":\"#E5ECF6\",\"polar\":{\"bgcolor\":\"#E5ECF6\",\"angularaxis\":{\"gridcolor\":\"white\",\"linecolor\":\"white\",\"ticks\":\"\"},\"radialaxis\":{\"gridcolor\":\"white\",\"linecolor\":\"white\",\"ticks\":\"\"}},\"ternary\":{\"bgcolor\":\"#E5ECF6\",\"aaxis\":{\"gridcolor\":\"white\",\"linecolor\":\"white\",\"ticks\":\"\"},\"baxis\":{\"gridcolor\":\"white\",\"linecolor\":\"white\",\"ticks\":\"\"},\"caxis\":{\"gridcolor\":\"white\",\"linecolor\":\"white\",\"ticks\":\"\"}},\"coloraxis\":{\"colorbar\":{\"outlinewidth\":0,\"ticks\":\"\"}},\"colorscale\":{\"sequential\":[[0.0,\"#0d0887\"],[0.1111111111111111,\"#46039f\"],[0.2222222222222222,\"#7201a8\"],[0.3333333333333333,\"#9c179e\"],[0.4444444444444444,\"#bd3786\"],[0.5555555555555556,\"#d8576b\"],[0.6666666666666666,\"#ed7953\"],[0.7777777777777778,\"#fb9f3a\"],[0.8888888888888888,\"#fdca26\"],[1.0,\"#f0f921\"]],\"sequentialminus\":[[0.0,\"#0d0887\"],[0.1111111111111111,\"#46039f\"],[0.2222222222222222,\"#7201a8\"],[0.3333333333333333,\"#9c179e\"],[0.4444444444444444,\"#bd3786\"],[0.5555555555555556,\"#d8576b\"],[0.6666666666666666,\"#ed7953\"],[0.7777777777777778,\"#fb9f3a\"],[0.8888888888888888,\"#fdca26\"],[1.0,\"#f0f921\"]],\"diverging\":[[0,\"#8e0152\"],[0.1,\"#c51b7d\"],[0.2,\"#de77ae\"],[0.3,\"#f1b6da\"],[0.4,\"#fde0ef\"],[0.5,\"#f7f7f7\"],[0.6,\"#e6f5d0\"],[0.7,\"#b8e186\"],[0.8,\"#7fbc41\"],[0.9,\"#4d9221\"],[1,\"#276419\"]]},\"xaxis\":{\"gridcolor\":\"white\",\"linecolor\":\"white\",\"ticks\":\"\",\"title\":{\"standoff\":15},\"zerolinecolor\":\"white\",\"automargin\":true,\"zerolinewidth\":2},\"yaxis\":{\"gridcolor\":\"white\",\"linecolor\":\"white\",\"ticks\":\"\",\"title\":{\"standoff\":15},\"zerolinecolor\":\"white\",\"automargin\":true,\"zerolinewidth\":2},\"scene\":{\"xaxis\":{\"backgroundcolor\":\"#E5ECF6\",\"gridcolor\":\"white\",\"linecolor\":\"white\",\"showbackground\":true,\"ticks\":\"\",\"zerolinecolor\":\"white\",\"gridwidth\":2},\"yaxis\":{\"backgroundcolor\":\"#E5ECF6\",\"gridcolor\":\"white\",\"linecolor\":\"white\",\"showbackground\":true,\"ticks\":\"\",\"zerolinecolor\":\"white\",\"gridwidth\":2},\"zaxis\":{\"backgroundcolor\":\"#E5ECF6\",\"gridcolor\":\"white\",\"linecolor\":\"white\",\"showbackground\":true,\"ticks\":\"\",\"zerolinecolor\":\"white\",\"gridwidth\":2}},\"shapedefaults\":{\"line\":{\"color\":\"#2a3f5f\"}},\"annotationdefaults\":{\"arrowcolor\":\"#2a3f5f\",\"arrowhead\":0,\"arrowwidth\":1},\"geo\":{\"bgcolor\":\"white\",\"landcolor\":\"#E5ECF6\",\"subunitcolor\":\"white\",\"showland\":true,\"showlakes\":true,\"lakecolor\":\"white\"},\"title\":{\"x\":0.05},\"mapbox\":{\"style\":\"light\"}}},\"scene\":{\"domain\":{\"x\":[0.0,1.0],\"y\":[0.0,1.0]},\"xaxis\":{\"title\":{\"text\":\"UMAP 1\"},\"showticklabels\":false},\"yaxis\":{\"title\":{\"text\":\"UMAP 2\"},\"showticklabels\":false},\"zaxis\":{\"title\":{\"text\":\"UMAP 3\"},\"showticklabels\":false}},\"legend\":{\"title\":{\"text\":\"perturbation\"},\"tracegroupgap\":0},\"margin\":{\"t\":60},\"font\":{\"family\":\"Arial\",\"size\":14,\"color\":\"Black\"}},                        {\"responsive\": true}                    ).then(function(){\n",
       "                            \n",
       "var gd = document.getElementById('c05ac98a-6730-40ff-a5ad-da12a53a7ee8');\n",
       "var x = new MutationObserver(function (mutations, observer) {{\n",
       "        var display = window.getComputedStyle(gd).display;\n",
       "        if (!display || display === 'none') {{\n",
       "            console.log([gd, 'removed!']);\n",
       "            Plotly.purge(gd);\n",
       "            observer.disconnect();\n",
       "        }}\n",
       "}});\n",
       "\n",
       "// Listen for the removal of the full notebook cells\n",
       "var notebookContainer = gd.closest('#notebook-container');\n",
       "if (notebookContainer) {{\n",
       "    x.observe(notebookContainer, {childList: true});\n",
       "}}\n",
       "\n",
       "// Listen for the clearing of the current output cell\n",
       "var outputEl = gd.closest('.output');\n",
       "if (outputEl) {{\n",
       "    x.observe(outputEl, {childList: true});\n",
       "}}\n",
       "\n",
       "                        })                };                });            </script>        </div>"
      ]
     },
     "metadata": {},
     "output_type": "display_data"
    }
   ],
   "source": [
    "hooke_fig1 = px.scatter_3d(master_df_ref, x=\"UMAP_hooke_00_3\", y=\"UMAP_hooke_01_3\", z=\"UMAP_hooke_02_3\",\n",
    "                    color=\"master_perturbation\", color_discrete_map=color_discrete_map, opacity=1)\n",
    "\n",
    "hooke_fig1.update_traces(marker=dict(size=7, \n",
    "                              line=dict(width=2,\n",
    "                                        color='DarkSlateGrey'))\n",
    "                 )\n",
    "\n",
    "hooke_fig1.update_layout(scene = dict(\n",
    "                    xaxis_title=\"UMAP 1\",\n",
    "                    yaxis_title=\"UMAP 2\",\n",
    "                    zaxis_title=\"UMAP 3\",\n",
    "                    xaxis = dict(showticklabels=False),\n",
    "                    yaxis = dict(showticklabels=False),\n",
    "                    zaxis = dict(showticklabels=False)\n",
    "                    ),   \n",
    "    legend_title=\"perturbation\",\n",
    "    font=dict(\n",
    "        family=\"Arial\",\n",
    "        size=14,\n",
    "        color=\"Black\"\n",
    "    )\n",
    ")\n",
    "                  \n",
    "hooke_fig1.show()"
   ]
  },
  {
   "cell_type": "code",
   "execution_count": 147,
   "id": "11040b14",
   "metadata": {},
   "outputs": [],
   "source": [
    "def make_rotating_figure(angle_vec, frame_dir, fig, prefix):\n",
    "    \n",
    "    for iter_i, a in enumerate(tqdm(angle_vec)):\n",
    "        angle = a\n",
    "        za = 0.5\n",
    "        vec = np.asarray([math.cos(angle), math.sin(angle), za])\n",
    "        vec = vec*2\n",
    "        camera = dict(\n",
    "            eye=dict(x=vec[0], y=vec[1], z=vec[2]))\n",
    "\n",
    "        fig.update_layout(scene_camera=camera, scene_dragmode='orbit')\n",
    "\n",
    "        if iter_i == 0:\n",
    "            fig.write_image(os.path.join(figure_dir, prefix + \"_umap_scatter_lmx\" + f\"_{iter_i:03}\" + \".png\"), scale=3)\n",
    "\n",
    "            fig.update_layout(scene = dict(\n",
    "                        xaxis_title=\"\",\n",
    "                        yaxis_title=\"\",\n",
    "                        zaxis_title=\"\",\n",
    "                        xaxis = dict(showticklabels=False),\n",
    "                        yaxis = dict(showticklabels=False),\n",
    "                        zaxis = dict(showticklabels=False)\n",
    "                        ),\n",
    "                        showlegend=False)\n",
    "            fig.update_coloraxes(showscale=False)\n",
    "\n",
    "        fig.write_image(os.path.join(frame_dir, \"umap_scatter_lmx\" + f\"_{iter_i:03}\" + \".png\"), scale=2)\n",
    "        \n",
    "    return fig"
   ]
  },
  {
   "cell_type": "code",
   "execution_count": 148,
   "id": "3bf8b838",
   "metadata": {},
   "outputs": [
    {
     "name": "stderr",
     "output_type": "stream",
     "text": [
      "100%|██████████| 2/2 [00:05<00:00,  2.68s/it]\n"
     ]
    },
    {
     "data": {
      "application/vnd.plotly.v1+json": {
       "config": {
        "plotlyServerURL": "https://plot.ly"
       },
       "data": [
        {
         "hovertemplate": "master_perturbation=lmx1b<br>UMAP_hooke_00_3=%{x}<br>UMAP_hooke_01_3=%{y}<br>UMAP_hooke_02_3=%{z}<extra></extra>",
         "legendgroup": "lmx1b",
         "marker": {
          "color": "#EF553B",
          "line": {
           "color": "DarkSlateGrey",
           "width": 2
          },
          "opacity": 1,
          "size": 7,
          "symbol": "circle"
         },
         "mode": "markers",
         "name": "lmx1b",
         "scene": "scene",
         "showlegend": true,
         "type": "scatter3d",
         "x": [
          13.292174,
          13.305437,
          13.295934,
          14.256061,
          13.755331,
          13.334316,
          13.236151,
          13.205227,
          13.8230915,
          14.246836,
          13.956982,
          14.199878,
          15.365539,
          15.636905,
          9.626239,
          10.098592,
          15.808278,
          15.455971,
          10.576498,
          8.908661,
          15.801746,
          15.856234,
          8.970035,
          9.016842,
          10.909352,
          15.641212,
          8.987577,
          9.870324,
          10.99194,
          10.921147,
          9.458634,
          9.025038,
          15.620426,
          9.255738,
          10.4186325,
          11.022275,
          15.606818,
          10.511289,
          9.092684,
          15.715881,
          15.471368,
          9.301951,
          9.139588,
          -3.270507,
          -3.3600261,
          -3.51444,
          -3.107007,
          -3.4221203,
          -3.167362,
          -3.2064874,
          -3.0605786,
          -3.4636257,
          -3.161526,
          -3.1435914,
          -3.1890898,
          -3.4044955,
          -3.1284752,
          21.703114,
          22.593018,
          6.46674,
          7.232598,
          21.813526,
          22.455885,
          6.9557447,
          6.5483327,
          7.0978255,
          21.818565,
          7.1629252,
          21.644573,
          7.0186806,
          6.5411854,
          21.769745,
          22.496088,
          22.492077,
          7.2235518,
          6.674154,
          22.45545,
          22.09752,
          6.649443,
          7.3523335,
          21.654459,
          22.230505,
          6.5100975,
          6.921312,
          22.055748,
          6.4711175,
          6.868714
         ],
         "y": [
          8.045684,
          7.8918595,
          7.9241095,
          7.497188,
          7.7375107,
          7.9503675,
          7.8498797,
          8.081196,
          7.691095,
          7.5213857,
          7.6228743,
          7.45282,
          9.397553,
          9.498635,
          12.706289,
          12.972543,
          9.464592,
          9.289569,
          13.0949335,
          12.353934,
          9.34452,
          9.571277,
          12.202656,
          12.347217,
          13.097236,
          9.596752,
          12.388079,
          12.830276,
          12.968304,
          12.860974,
          12.632447,
          12.402559,
          9.414549,
          12.226968,
          12.937863,
          12.809595,
          9.458678,
          13.081727,
          12.374916,
          9.336512,
          9.285143,
          12.192195,
          12.29314,
          7.9278574,
          7.8080153,
          7.463451,
          8.08219,
          7.524183,
          8.008384,
          7.662678,
          8.113301,
          7.460033,
          7.725244,
          8.033367,
          7.427995,
          7.5949006,
          8.008872,
          4.0301476,
          4.164208,
          15.727231,
          15.365631,
          3.918967,
          3.9671881,
          15.658888,
          15.714758,
          15.481701,
          3.9469786,
          15.410589,
          4.0345817,
          15.581214,
          15.675702,
          4.053281,
          4.019652,
          4.0647473,
          15.255223,
          15.741638,
          3.8842943,
          3.7656803,
          15.484332,
          15.149698,
          3.9844813,
          3.9124045,
          15.627398,
          15.643564,
          3.7597463,
          15.723268,
          15.568093
         ],
         "z": [
          0.3116706,
          0.13502787,
          0.16682935,
          0.21147427,
          0.28167644,
          0.20142111,
          0.108825386,
          0.31735963,
          0.2647661,
          0.26119426,
          0.28861907,
          0.23732926,
          14.673777,
          14.809739,
          2.831914,
          2.8694584,
          14.57316,
          14.536869,
          2.805889,
          2.1577842,
          14.564709,
          14.761883,
          2.1558506,
          2.2343554,
          2.8245974,
          14.653829,
          2.2177167,
          2.9618208,
          2.9345305,
          3.0041273,
          2.7140164,
          2.2552059,
          14.64903,
          2.4273317,
          2.9352171,
          3.024884,
          14.761792,
          2.8195343,
          2.3558166,
          14.559654,
          14.537208,
          2.3787322,
          2.3354828,
          -0.16708119,
          -0.18309866,
          -0.035299573,
          -0.10083615,
          0.015821904,
          -0.096279025,
          -0.11541436,
          -0.14606047,
          0.025830597,
          -0.28765377,
          -0.07936594,
          -0.19026929,
          -0.09058803,
          -0.17480303,
          10.556174,
          10.545038,
          2.2500973,
          2.479498,
          10.544911,
          10.71604,
          2.4280019,
          2.2721655,
          2.3151712,
          10.506548,
          2.3988962,
          10.423124,
          2.4064121,
          2.208021,
          10.587012,
          10.592696,
          10.518885,
          2.3868058,
          2.292546,
          10.747551,
          10.618873,
          2.4013877,
          2.3907385,
          10.449497,
          10.5416765,
          2.33061,
          2.33653,
          10.52557,
          2.2543294,
          2.3222814
         ]
        },
        {
         "hovertemplate": "master_perturbation=wik<br>UMAP_hooke_00_3=%{x}<br>UMAP_hooke_01_3=%{y}<br>UMAP_hooke_02_3=%{z}<extra></extra>",
         "legendgroup": "wik",
         "marker": {
          "color": "rgb(179, 205, 227)",
          "line": {
           "color": "DarkSlateGrey",
           "width": 2
          },
          "opacity": 1,
          "size": 7,
          "symbol": "circle"
         },
         "mode": "markers",
         "name": "wik",
         "scene": "scene",
         "showlegend": true,
         "type": "scatter3d",
         "x": [
          12.286528,
          12.089639,
          12.0228615,
          12.108326,
          11.944588,
          12.032045,
          12.141294,
          12.211592,
          15.584575,
          9.990176,
          15.793318,
          9.784709,
          15.668521,
          9.950774,
          15.717899,
          10.521115,
          10.784782,
          9.87504,
          10.908327,
          10.1400385,
          15.614556,
          15.671328,
          9.887674
         ],
         "y": [
          8.722249,
          8.748684,
          8.821037,
          8.742707,
          8.880392,
          8.798981,
          8.717594,
          8.769173,
          8.656884,
          12.363834,
          8.450336,
          12.273924,
          8.595229,
          12.374682,
          8.546656,
          12.860351,
          12.6976,
          12.281024,
          12.563428,
          12.5837145,
          8.635102,
          8.6002865,
          12.263032
         ],
         "z": [
          1.3469874,
          1.5643543,
          1.6339489,
          1.5477269,
          1.7142305,
          1.6242448,
          1.5136346,
          1.4319655,
          13.04931,
          3.593685,
          13.261182,
          3.7921257,
          13.111854,
          3.5915942,
          13.18049,
          3.0422893,
          3.0554266,
          3.787813,
          3.206567,
          3.365249,
          13.072235,
          13.10963,
          3.70079
         ]
        },
        {
         "hovertemplate": "master_perturbation=wik-inj-ctrl<br>UMAP_hooke_00_3=%{x}<br>UMAP_hooke_01_3=%{y}<br>UMAP_hooke_02_3=%{z}<extra></extra>",
         "legendgroup": "wik-inj-ctrl",
         "marker": {
          "color": "#636EFA",
          "line": {
           "color": "DarkSlateGrey",
           "width": 2
          },
          "opacity": 1,
          "size": 7,
          "symbol": "circle"
         },
         "mode": "markers",
         "name": "wik-inj-ctrl",
         "scene": "scene",
         "showlegend": true,
         "type": "scatter3d",
         "x": [
          12.877974,
          12.797462,
          12.914015,
          12.861817,
          12.77648,
          12.867115,
          13.053007,
          12.87104,
          17.910732,
          9.499134,
          17.772182,
          9.458613,
          17.77046,
          9.384375,
          11.004248,
          10.594316,
          17.713858,
          9.353983,
          17.876429,
          9.577666,
          17.661144,
          9.409471,
          17.894903,
          9.474775,
          13.012533,
          13.0602865,
          13.02115,
          13.110608,
          13.106889,
          13.198739,
          13.084359,
          13.130896,
          18.504496,
          9.052309,
          18.431528,
          8.976395,
          18.325092,
          9.051837,
          18.521084,
          8.98791,
          18.315208,
          8.990659,
          18.277893,
          9.174224,
          18.430527,
          9.270412,
          18.492815,
          9.247391
         ],
         "y": [
          7.417014,
          7.285392,
          7.4084373,
          7.2559648,
          7.1970463,
          7.365319,
          7.681411,
          7.3808646,
          8.551662,
          13.277976,
          8.695998,
          13.271308,
          8.714984,
          13.386522,
          13.00013,
          13.012103,
          8.75184,
          13.437859,
          8.51119,
          13.184822,
          8.82242,
          13.34545,
          8.598256,
          13.282223,
          6.6386833,
          6.6155186,
          6.7875223,
          6.723414,
          6.7503567,
          6.6555624,
          6.6752343,
          6.810025,
          8.492248,
          14.130764,
          8.431131,
          14.179466,
          8.32005,
          14.118671,
          8.440755,
          14.165227,
          8.32384,
          14.029317,
          8.158211,
          14.047214,
          8.355349,
          14.050337,
          8.484469,
          13.967638
         ],
         "z": [
          -1.073803,
          -1.258629,
          -0.98509175,
          -1.3827913,
          -1.3002797,
          -1.1629303,
          -0.4981002,
          -1.1325362,
          13.26197,
          4.5105224,
          13.177095,
          4.1576395,
          13.150101,
          4.7252846,
          2.9209447,
          2.884559,
          13.224117,
          4.4943037,
          13.271298,
          4.7967606,
          13.193304,
          4.6579313,
          13.198455,
          4.6070547,
          -2.9068606,
          -2.927893,
          -2.7575846,
          -2.8117404,
          -2.773884,
          -2.8531427,
          -2.84885,
          -2.702929,
          12.901475,
          4.8129606,
          12.965665,
          4.7648206,
          13.056193,
          4.8278956,
          12.8885145,
          4.8666887,
          13.040529,
          4.76485,
          13.050098,
          4.977833,
          12.950804,
          5.063392,
          12.914406,
          5.0315876
         ]
        },
        {
         "hovertemplate": "master_perturbation=tbxta<br>UMAP_hooke_00_3=%{x}<br>UMAP_hooke_01_3=%{y}<br>UMAP_hooke_02_3=%{z}<extra></extra>",
         "legendgroup": "tbxta",
         "marker": {
          "color": "#00CC96",
          "line": {
           "color": "DarkSlateGrey",
           "width": 2
          },
          "opacity": 1,
          "size": 7,
          "symbol": "circle"
         },
         "mode": "markers",
         "name": "tbxta",
         "scene": "scene",
         "showlegend": true,
         "type": "scatter3d",
         "x": [
          4.971718,
          4.7844625,
          4.8811727,
          4.698205,
          4.6516943,
          4.8076262,
          4.640381,
          4.6427884,
          5.7887535,
          5.993543,
          5.997774,
          5.8910575,
          5.9405355,
          5.9229946,
          6.032182,
          5.8975916
         ],
         "y": [
          -5.5359497,
          -5.752328,
          -5.5776215,
          -5.683065,
          -5.7745104,
          -5.665338,
          -5.6889405,
          -5.7639446,
          -5.021933,
          -5.121466,
          -5.2789507,
          -5.193396,
          -5.235079,
          -5.1667757,
          -5.319506,
          -5.1905127
         ],
         "z": [
          5.0446506,
          4.851619,
          4.9485426,
          4.7653847,
          4.7184978,
          4.8765473,
          4.7078094,
          4.710026,
          6.0121107,
          6.2201276,
          6.2259874,
          6.119495,
          6.169733,
          6.150116,
          6.2608786,
          6.1249714
         ]
        }
       ],
       "layout": {
        "coloraxis": {
         "showscale": false
        },
        "font": {
         "color": "Black",
         "family": "Arial",
         "size": 14
        },
        "legend": {
         "title": {
          "text": "perturbation"
         },
         "tracegroupgap": 0
        },
        "margin": {
         "t": 60
        },
        "scene": {
         "camera": {
          "eye": {
           "x": 0.8565230204571884,
           "y": 1.8073096899609913,
           "z": 1
          }
         },
         "domain": {
          "x": [
           0,
           1
          ],
          "y": [
           0,
           1
          ]
         },
         "dragmode": "orbit",
         "xaxis": {
          "showticklabels": false,
          "title": {
           "text": ""
          }
         },
         "yaxis": {
          "showticklabels": false,
          "title": {
           "text": ""
          }
         },
         "zaxis": {
          "showticklabels": false,
          "title": {
           "text": ""
          }
         }
        },
        "showlegend": false,
        "template": {
         "data": {
          "bar": [
           {
            "error_x": {
             "color": "#2a3f5f"
            },
            "error_y": {
             "color": "#2a3f5f"
            },
            "marker": {
             "line": {
              "color": "#E5ECF6",
              "width": 0.5
             },
             "pattern": {
              "fillmode": "overlay",
              "size": 10,
              "solidity": 0.2
             }
            },
            "type": "bar"
           }
          ],
          "barpolar": [
           {
            "marker": {
             "line": {
              "color": "#E5ECF6",
              "width": 0.5
             },
             "pattern": {
              "fillmode": "overlay",
              "size": 10,
              "solidity": 0.2
             }
            },
            "type": "barpolar"
           }
          ],
          "carpet": [
           {
            "aaxis": {
             "endlinecolor": "#2a3f5f",
             "gridcolor": "white",
             "linecolor": "white",
             "minorgridcolor": "white",
             "startlinecolor": "#2a3f5f"
            },
            "baxis": {
             "endlinecolor": "#2a3f5f",
             "gridcolor": "white",
             "linecolor": "white",
             "minorgridcolor": "white",
             "startlinecolor": "#2a3f5f"
            },
            "type": "carpet"
           }
          ],
          "choropleth": [
           {
            "colorbar": {
             "outlinewidth": 0,
             "ticks": ""
            },
            "type": "choropleth"
           }
          ],
          "contour": [
           {
            "colorbar": {
             "outlinewidth": 0,
             "ticks": ""
            },
            "colorscale": [
             [
              0,
              "#0d0887"
             ],
             [
              0.1111111111111111,
              "#46039f"
             ],
             [
              0.2222222222222222,
              "#7201a8"
             ],
             [
              0.3333333333333333,
              "#9c179e"
             ],
             [
              0.4444444444444444,
              "#bd3786"
             ],
             [
              0.5555555555555556,
              "#d8576b"
             ],
             [
              0.6666666666666666,
              "#ed7953"
             ],
             [
              0.7777777777777778,
              "#fb9f3a"
             ],
             [
              0.8888888888888888,
              "#fdca26"
             ],
             [
              1,
              "#f0f921"
             ]
            ],
            "type": "contour"
           }
          ],
          "contourcarpet": [
           {
            "colorbar": {
             "outlinewidth": 0,
             "ticks": ""
            },
            "type": "contourcarpet"
           }
          ],
          "heatmap": [
           {
            "colorbar": {
             "outlinewidth": 0,
             "ticks": ""
            },
            "colorscale": [
             [
              0,
              "#0d0887"
             ],
             [
              0.1111111111111111,
              "#46039f"
             ],
             [
              0.2222222222222222,
              "#7201a8"
             ],
             [
              0.3333333333333333,
              "#9c179e"
             ],
             [
              0.4444444444444444,
              "#bd3786"
             ],
             [
              0.5555555555555556,
              "#d8576b"
             ],
             [
              0.6666666666666666,
              "#ed7953"
             ],
             [
              0.7777777777777778,
              "#fb9f3a"
             ],
             [
              0.8888888888888888,
              "#fdca26"
             ],
             [
              1,
              "#f0f921"
             ]
            ],
            "type": "heatmap"
           }
          ],
          "heatmapgl": [
           {
            "colorbar": {
             "outlinewidth": 0,
             "ticks": ""
            },
            "colorscale": [
             [
              0,
              "#0d0887"
             ],
             [
              0.1111111111111111,
              "#46039f"
             ],
             [
              0.2222222222222222,
              "#7201a8"
             ],
             [
              0.3333333333333333,
              "#9c179e"
             ],
             [
              0.4444444444444444,
              "#bd3786"
             ],
             [
              0.5555555555555556,
              "#d8576b"
             ],
             [
              0.6666666666666666,
              "#ed7953"
             ],
             [
              0.7777777777777778,
              "#fb9f3a"
             ],
             [
              0.8888888888888888,
              "#fdca26"
             ],
             [
              1,
              "#f0f921"
             ]
            ],
            "type": "heatmapgl"
           }
          ],
          "histogram": [
           {
            "marker": {
             "pattern": {
              "fillmode": "overlay",
              "size": 10,
              "solidity": 0.2
             }
            },
            "type": "histogram"
           }
          ],
          "histogram2d": [
           {
            "colorbar": {
             "outlinewidth": 0,
             "ticks": ""
            },
            "colorscale": [
             [
              0,
              "#0d0887"
             ],
             [
              0.1111111111111111,
              "#46039f"
             ],
             [
              0.2222222222222222,
              "#7201a8"
             ],
             [
              0.3333333333333333,
              "#9c179e"
             ],
             [
              0.4444444444444444,
              "#bd3786"
             ],
             [
              0.5555555555555556,
              "#d8576b"
             ],
             [
              0.6666666666666666,
              "#ed7953"
             ],
             [
              0.7777777777777778,
              "#fb9f3a"
             ],
             [
              0.8888888888888888,
              "#fdca26"
             ],
             [
              1,
              "#f0f921"
             ]
            ],
            "type": "histogram2d"
           }
          ],
          "histogram2dcontour": [
           {
            "colorbar": {
             "outlinewidth": 0,
             "ticks": ""
            },
            "colorscale": [
             [
              0,
              "#0d0887"
             ],
             [
              0.1111111111111111,
              "#46039f"
             ],
             [
              0.2222222222222222,
              "#7201a8"
             ],
             [
              0.3333333333333333,
              "#9c179e"
             ],
             [
              0.4444444444444444,
              "#bd3786"
             ],
             [
              0.5555555555555556,
              "#d8576b"
             ],
             [
              0.6666666666666666,
              "#ed7953"
             ],
             [
              0.7777777777777778,
              "#fb9f3a"
             ],
             [
              0.8888888888888888,
              "#fdca26"
             ],
             [
              1,
              "#f0f921"
             ]
            ],
            "type": "histogram2dcontour"
           }
          ],
          "mesh3d": [
           {
            "colorbar": {
             "outlinewidth": 0,
             "ticks": ""
            },
            "type": "mesh3d"
           }
          ],
          "parcoords": [
           {
            "line": {
             "colorbar": {
              "outlinewidth": 0,
              "ticks": ""
             }
            },
            "type": "parcoords"
           }
          ],
          "pie": [
           {
            "automargin": true,
            "type": "pie"
           }
          ],
          "scatter": [
           {
            "fillpattern": {
             "fillmode": "overlay",
             "size": 10,
             "solidity": 0.2
            },
            "type": "scatter"
           }
          ],
          "scatter3d": [
           {
            "line": {
             "colorbar": {
              "outlinewidth": 0,
              "ticks": ""
             }
            },
            "marker": {
             "colorbar": {
              "outlinewidth": 0,
              "ticks": ""
             }
            },
            "type": "scatter3d"
           }
          ],
          "scattercarpet": [
           {
            "marker": {
             "colorbar": {
              "outlinewidth": 0,
              "ticks": ""
             }
            },
            "type": "scattercarpet"
           }
          ],
          "scattergeo": [
           {
            "marker": {
             "colorbar": {
              "outlinewidth": 0,
              "ticks": ""
             }
            },
            "type": "scattergeo"
           }
          ],
          "scattergl": [
           {
            "marker": {
             "colorbar": {
              "outlinewidth": 0,
              "ticks": ""
             }
            },
            "type": "scattergl"
           }
          ],
          "scattermapbox": [
           {
            "marker": {
             "colorbar": {
              "outlinewidth": 0,
              "ticks": ""
             }
            },
            "type": "scattermapbox"
           }
          ],
          "scatterpolar": [
           {
            "marker": {
             "colorbar": {
              "outlinewidth": 0,
              "ticks": ""
             }
            },
            "type": "scatterpolar"
           }
          ],
          "scatterpolargl": [
           {
            "marker": {
             "colorbar": {
              "outlinewidth": 0,
              "ticks": ""
             }
            },
            "type": "scatterpolargl"
           }
          ],
          "scatterternary": [
           {
            "marker": {
             "colorbar": {
              "outlinewidth": 0,
              "ticks": ""
             }
            },
            "type": "scatterternary"
           }
          ],
          "surface": [
           {
            "colorbar": {
             "outlinewidth": 0,
             "ticks": ""
            },
            "colorscale": [
             [
              0,
              "#0d0887"
             ],
             [
              0.1111111111111111,
              "#46039f"
             ],
             [
              0.2222222222222222,
              "#7201a8"
             ],
             [
              0.3333333333333333,
              "#9c179e"
             ],
             [
              0.4444444444444444,
              "#bd3786"
             ],
             [
              0.5555555555555556,
              "#d8576b"
             ],
             [
              0.6666666666666666,
              "#ed7953"
             ],
             [
              0.7777777777777778,
              "#fb9f3a"
             ],
             [
              0.8888888888888888,
              "#fdca26"
             ],
             [
              1,
              "#f0f921"
             ]
            ],
            "type": "surface"
           }
          ],
          "table": [
           {
            "cells": {
             "fill": {
              "color": "#EBF0F8"
             },
             "line": {
              "color": "white"
             }
            },
            "header": {
             "fill": {
              "color": "#C8D4E3"
             },
             "line": {
              "color": "white"
             }
            },
            "type": "table"
           }
          ]
         },
         "layout": {
          "annotationdefaults": {
           "arrowcolor": "#2a3f5f",
           "arrowhead": 0,
           "arrowwidth": 1
          },
          "autotypenumbers": "strict",
          "coloraxis": {
           "colorbar": {
            "outlinewidth": 0,
            "ticks": ""
           }
          },
          "colorscale": {
           "diverging": [
            [
             0,
             "#8e0152"
            ],
            [
             0.1,
             "#c51b7d"
            ],
            [
             0.2,
             "#de77ae"
            ],
            [
             0.3,
             "#f1b6da"
            ],
            [
             0.4,
             "#fde0ef"
            ],
            [
             0.5,
             "#f7f7f7"
            ],
            [
             0.6,
             "#e6f5d0"
            ],
            [
             0.7,
             "#b8e186"
            ],
            [
             0.8,
             "#7fbc41"
            ],
            [
             0.9,
             "#4d9221"
            ],
            [
             1,
             "#276419"
            ]
           ],
           "sequential": [
            [
             0,
             "#0d0887"
            ],
            [
             0.1111111111111111,
             "#46039f"
            ],
            [
             0.2222222222222222,
             "#7201a8"
            ],
            [
             0.3333333333333333,
             "#9c179e"
            ],
            [
             0.4444444444444444,
             "#bd3786"
            ],
            [
             0.5555555555555556,
             "#d8576b"
            ],
            [
             0.6666666666666666,
             "#ed7953"
            ],
            [
             0.7777777777777778,
             "#fb9f3a"
            ],
            [
             0.8888888888888888,
             "#fdca26"
            ],
            [
             1,
             "#f0f921"
            ]
           ],
           "sequentialminus": [
            [
             0,
             "#0d0887"
            ],
            [
             0.1111111111111111,
             "#46039f"
            ],
            [
             0.2222222222222222,
             "#7201a8"
            ],
            [
             0.3333333333333333,
             "#9c179e"
            ],
            [
             0.4444444444444444,
             "#bd3786"
            ],
            [
             0.5555555555555556,
             "#d8576b"
            ],
            [
             0.6666666666666666,
             "#ed7953"
            ],
            [
             0.7777777777777778,
             "#fb9f3a"
            ],
            [
             0.8888888888888888,
             "#fdca26"
            ],
            [
             1,
             "#f0f921"
            ]
           ]
          },
          "colorway": [
           "#636efa",
           "#EF553B",
           "#00cc96",
           "#ab63fa",
           "#FFA15A",
           "#19d3f3",
           "#FF6692",
           "#B6E880",
           "#FF97FF",
           "#FECB52"
          ],
          "font": {
           "color": "#2a3f5f"
          },
          "geo": {
           "bgcolor": "white",
           "lakecolor": "white",
           "landcolor": "#E5ECF6",
           "showlakes": true,
           "showland": true,
           "subunitcolor": "white"
          },
          "hoverlabel": {
           "align": "left"
          },
          "hovermode": "closest",
          "mapbox": {
           "style": "light"
          },
          "paper_bgcolor": "white",
          "plot_bgcolor": "#E5ECF6",
          "polar": {
           "angularaxis": {
            "gridcolor": "white",
            "linecolor": "white",
            "ticks": ""
           },
           "bgcolor": "#E5ECF6",
           "radialaxis": {
            "gridcolor": "white",
            "linecolor": "white",
            "ticks": ""
           }
          },
          "scene": {
           "xaxis": {
            "backgroundcolor": "#E5ECF6",
            "gridcolor": "white",
            "gridwidth": 2,
            "linecolor": "white",
            "showbackground": true,
            "ticks": "",
            "zerolinecolor": "white"
           },
           "yaxis": {
            "backgroundcolor": "#E5ECF6",
            "gridcolor": "white",
            "gridwidth": 2,
            "linecolor": "white",
            "showbackground": true,
            "ticks": "",
            "zerolinecolor": "white"
           },
           "zaxis": {
            "backgroundcolor": "#E5ECF6",
            "gridcolor": "white",
            "gridwidth": 2,
            "linecolor": "white",
            "showbackground": true,
            "ticks": "",
            "zerolinecolor": "white"
           }
          },
          "shapedefaults": {
           "line": {
            "color": "#2a3f5f"
           }
          },
          "ternary": {
           "aaxis": {
            "gridcolor": "white",
            "linecolor": "white",
            "ticks": ""
           },
           "baxis": {
            "gridcolor": "white",
            "linecolor": "white",
            "ticks": ""
           },
           "bgcolor": "#E5ECF6",
           "caxis": {
            "gridcolor": "white",
            "linecolor": "white",
            "ticks": ""
           }
          },
          "title": {
           "x": 0.05
          },
          "xaxis": {
           "automargin": true,
           "gridcolor": "white",
           "linecolor": "white",
           "ticks": "",
           "title": {
            "standoff": 15
           },
           "zerolinecolor": "white",
           "zerolinewidth": 2
          },
          "yaxis": {
           "automargin": true,
           "gridcolor": "white",
           "linecolor": "white",
           "ticks": "",
           "title": {
            "standoff": 15
           },
           "zerolinecolor": "white",
           "zerolinewidth": 2
          }
         }
        }
       }
      },
      "text/html": [
       "<div>                            <div id=\"8c8660a4-3815-4c36-b5c4-6b889bae09ee\" class=\"plotly-graph-div\" style=\"height:525px; width:100%;\"></div>            <script type=\"text/javascript\">                require([\"plotly\"], function(Plotly) {                    window.PLOTLYENV=window.PLOTLYENV || {};                                    if (document.getElementById(\"8c8660a4-3815-4c36-b5c4-6b889bae09ee\")) {                    Plotly.newPlot(                        \"8c8660a4-3815-4c36-b5c4-6b889bae09ee\",                        [{\"hovertemplate\":\"master_perturbation=lmx1b<br>UMAP_hooke_00_3=%{x}<br>UMAP_hooke_01_3=%{y}<br>UMAP_hooke_02_3=%{z}<extra></extra>\",\"legendgroup\":\"lmx1b\",\"marker\":{\"color\":\"#EF553B\",\"opacity\":1,\"symbol\":\"circle\",\"line\":{\"color\":\"DarkSlateGrey\",\"width\":2},\"size\":7},\"mode\":\"markers\",\"name\":\"lmx1b\",\"scene\":\"scene\",\"showlegend\":true,\"x\":[13.292174,13.305437,13.295934,14.256061,13.755331,13.334316,13.236151,13.205227,13.8230915,14.246836,13.956982,14.199878,15.365539,15.636905,9.626239,10.098592,15.808278,15.455971,10.576498,8.908661,15.801746,15.856234,8.970035,9.016842,10.909352,15.641212,8.987577,9.870324,10.99194,10.921147,9.458634,9.025038,15.620426,9.255738,10.4186325,11.022275,15.606818,10.511289,9.092684,15.715881,15.471368,9.301951,9.139588,-3.270507,-3.3600261,-3.51444,-3.107007,-3.4221203,-3.167362,-3.2064874,-3.0605786,-3.4636257,-3.161526,-3.1435914,-3.1890898,-3.4044955,-3.1284752,21.703114,22.593018,6.46674,7.232598,21.813526,22.455885,6.9557447,6.5483327,7.0978255,21.818565,7.1629252,21.644573,7.0186806,6.5411854,21.769745,22.496088,22.492077,7.2235518,6.674154,22.45545,22.09752,6.649443,7.3523335,21.654459,22.230505,6.5100975,6.921312,22.055748,6.4711175,6.868714],\"y\":[8.045684,7.8918595,7.9241095,7.497188,7.7375107,7.9503675,7.8498797,8.081196,7.691095,7.5213857,7.6228743,7.45282,9.397553,9.498635,12.706289,12.972543,9.464592,9.289569,13.0949335,12.353934,9.34452,9.571277,12.202656,12.347217,13.097236,9.596752,12.388079,12.830276,12.968304,12.860974,12.632447,12.402559,9.414549,12.226968,12.937863,12.809595,9.458678,13.081727,12.374916,9.336512,9.285143,12.192195,12.29314,7.9278574,7.8080153,7.463451,8.08219,7.524183,8.008384,7.662678,8.113301,7.460033,7.725244,8.033367,7.427995,7.5949006,8.008872,4.0301476,4.164208,15.727231,15.365631,3.918967,3.9671881,15.658888,15.714758,15.481701,3.9469786,15.410589,4.0345817,15.581214,15.675702,4.053281,4.019652,4.0647473,15.255223,15.741638,3.8842943,3.7656803,15.484332,15.149698,3.9844813,3.9124045,15.627398,15.643564,3.7597463,15.723268,15.568093],\"z\":[0.3116706,0.13502787,0.16682935,0.21147427,0.28167644,0.20142111,0.108825386,0.31735963,0.2647661,0.26119426,0.28861907,0.23732926,14.673777,14.809739,2.831914,2.8694584,14.57316,14.536869,2.805889,2.1577842,14.564709,14.761883,2.1558506,2.2343554,2.8245974,14.653829,2.2177167,2.9618208,2.9345305,3.0041273,2.7140164,2.2552059,14.64903,2.4273317,2.9352171,3.024884,14.761792,2.8195343,2.3558166,14.559654,14.537208,2.3787322,2.3354828,-0.16708119,-0.18309866,-0.035299573,-0.10083615,0.015821904,-0.096279025,-0.11541436,-0.14606047,0.025830597,-0.28765377,-0.07936594,-0.19026929,-0.09058803,-0.17480303,10.556174,10.545038,2.2500973,2.479498,10.544911,10.71604,2.4280019,2.2721655,2.3151712,10.506548,2.3988962,10.423124,2.4064121,2.208021,10.587012,10.592696,10.518885,2.3868058,2.292546,10.747551,10.618873,2.4013877,2.3907385,10.449497,10.5416765,2.33061,2.33653,10.52557,2.2543294,2.3222814],\"type\":\"scatter3d\"},{\"hovertemplate\":\"master_perturbation=wik<br>UMAP_hooke_00_3=%{x}<br>UMAP_hooke_01_3=%{y}<br>UMAP_hooke_02_3=%{z}<extra></extra>\",\"legendgroup\":\"wik\",\"marker\":{\"color\":\"rgb(179, 205, 227)\",\"opacity\":1,\"symbol\":\"circle\",\"line\":{\"color\":\"DarkSlateGrey\",\"width\":2},\"size\":7},\"mode\":\"markers\",\"name\":\"wik\",\"scene\":\"scene\",\"showlegend\":true,\"x\":[12.286528,12.089639,12.0228615,12.108326,11.944588,12.032045,12.141294,12.211592,15.584575,9.990176,15.793318,9.784709,15.668521,9.950774,15.717899,10.521115,10.784782,9.87504,10.908327,10.1400385,15.614556,15.671328,9.887674],\"y\":[8.722249,8.748684,8.821037,8.742707,8.880392,8.798981,8.717594,8.769173,8.656884,12.363834,8.450336,12.273924,8.595229,12.374682,8.546656,12.860351,12.6976,12.281024,12.563428,12.5837145,8.635102,8.6002865,12.263032],\"z\":[1.3469874,1.5643543,1.6339489,1.5477269,1.7142305,1.6242448,1.5136346,1.4319655,13.04931,3.593685,13.261182,3.7921257,13.111854,3.5915942,13.18049,3.0422893,3.0554266,3.787813,3.206567,3.365249,13.072235,13.10963,3.70079],\"type\":\"scatter3d\"},{\"hovertemplate\":\"master_perturbation=wik-inj-ctrl<br>UMAP_hooke_00_3=%{x}<br>UMAP_hooke_01_3=%{y}<br>UMAP_hooke_02_3=%{z}<extra></extra>\",\"legendgroup\":\"wik-inj-ctrl\",\"marker\":{\"color\":\"#636EFA\",\"opacity\":1,\"symbol\":\"circle\",\"line\":{\"color\":\"DarkSlateGrey\",\"width\":2},\"size\":7},\"mode\":\"markers\",\"name\":\"wik-inj-ctrl\",\"scene\":\"scene\",\"showlegend\":true,\"x\":[12.877974,12.797462,12.914015,12.861817,12.77648,12.867115,13.053007,12.87104,17.910732,9.499134,17.772182,9.458613,17.77046,9.384375,11.004248,10.594316,17.713858,9.353983,17.876429,9.577666,17.661144,9.409471,17.894903,9.474775,13.012533,13.0602865,13.02115,13.110608,13.106889,13.198739,13.084359,13.130896,18.504496,9.052309,18.431528,8.976395,18.325092,9.051837,18.521084,8.98791,18.315208,8.990659,18.277893,9.174224,18.430527,9.270412,18.492815,9.247391],\"y\":[7.417014,7.285392,7.4084373,7.2559648,7.1970463,7.365319,7.681411,7.3808646,8.551662,13.277976,8.695998,13.271308,8.714984,13.386522,13.00013,13.012103,8.75184,13.437859,8.51119,13.184822,8.82242,13.34545,8.598256,13.282223,6.6386833,6.6155186,6.7875223,6.723414,6.7503567,6.6555624,6.6752343,6.810025,8.492248,14.130764,8.431131,14.179466,8.32005,14.118671,8.440755,14.165227,8.32384,14.029317,8.158211,14.047214,8.355349,14.050337,8.484469,13.967638],\"z\":[-1.073803,-1.258629,-0.98509175,-1.3827913,-1.3002797,-1.1629303,-0.4981002,-1.1325362,13.26197,4.5105224,13.177095,4.1576395,13.150101,4.7252846,2.9209447,2.884559,13.224117,4.4943037,13.271298,4.7967606,13.193304,4.6579313,13.198455,4.6070547,-2.9068606,-2.927893,-2.7575846,-2.8117404,-2.773884,-2.8531427,-2.84885,-2.702929,12.901475,4.8129606,12.965665,4.7648206,13.056193,4.8278956,12.8885145,4.8666887,13.040529,4.76485,13.050098,4.977833,12.950804,5.063392,12.914406,5.0315876],\"type\":\"scatter3d\"},{\"hovertemplate\":\"master_perturbation=tbxta<br>UMAP_hooke_00_3=%{x}<br>UMAP_hooke_01_3=%{y}<br>UMAP_hooke_02_3=%{z}<extra></extra>\",\"legendgroup\":\"tbxta\",\"marker\":{\"color\":\"#00CC96\",\"opacity\":1,\"symbol\":\"circle\",\"line\":{\"color\":\"DarkSlateGrey\",\"width\":2},\"size\":7},\"mode\":\"markers\",\"name\":\"tbxta\",\"scene\":\"scene\",\"showlegend\":true,\"x\":[4.971718,4.7844625,4.8811727,4.698205,4.6516943,4.8076262,4.640381,4.6427884,5.7887535,5.993543,5.997774,5.8910575,5.9405355,5.9229946,6.032182,5.8975916],\"y\":[-5.5359497,-5.752328,-5.5776215,-5.683065,-5.7745104,-5.665338,-5.6889405,-5.7639446,-5.021933,-5.121466,-5.2789507,-5.193396,-5.235079,-5.1667757,-5.319506,-5.1905127],\"z\":[5.0446506,4.851619,4.9485426,4.7653847,4.7184978,4.8765473,4.7078094,4.710026,6.0121107,6.2201276,6.2259874,6.119495,6.169733,6.150116,6.2608786,6.1249714],\"type\":\"scatter3d\"}],                        {\"template\":{\"data\":{\"histogram2dcontour\":[{\"type\":\"histogram2dcontour\",\"colorbar\":{\"outlinewidth\":0,\"ticks\":\"\"},\"colorscale\":[[0.0,\"#0d0887\"],[0.1111111111111111,\"#46039f\"],[0.2222222222222222,\"#7201a8\"],[0.3333333333333333,\"#9c179e\"],[0.4444444444444444,\"#bd3786\"],[0.5555555555555556,\"#d8576b\"],[0.6666666666666666,\"#ed7953\"],[0.7777777777777778,\"#fb9f3a\"],[0.8888888888888888,\"#fdca26\"],[1.0,\"#f0f921\"]]}],\"choropleth\":[{\"type\":\"choropleth\",\"colorbar\":{\"outlinewidth\":0,\"ticks\":\"\"}}],\"histogram2d\":[{\"type\":\"histogram2d\",\"colorbar\":{\"outlinewidth\":0,\"ticks\":\"\"},\"colorscale\":[[0.0,\"#0d0887\"],[0.1111111111111111,\"#46039f\"],[0.2222222222222222,\"#7201a8\"],[0.3333333333333333,\"#9c179e\"],[0.4444444444444444,\"#bd3786\"],[0.5555555555555556,\"#d8576b\"],[0.6666666666666666,\"#ed7953\"],[0.7777777777777778,\"#fb9f3a\"],[0.8888888888888888,\"#fdca26\"],[1.0,\"#f0f921\"]]}],\"heatmap\":[{\"type\":\"heatmap\",\"colorbar\":{\"outlinewidth\":0,\"ticks\":\"\"},\"colorscale\":[[0.0,\"#0d0887\"],[0.1111111111111111,\"#46039f\"],[0.2222222222222222,\"#7201a8\"],[0.3333333333333333,\"#9c179e\"],[0.4444444444444444,\"#bd3786\"],[0.5555555555555556,\"#d8576b\"],[0.6666666666666666,\"#ed7953\"],[0.7777777777777778,\"#fb9f3a\"],[0.8888888888888888,\"#fdca26\"],[1.0,\"#f0f921\"]]}],\"heatmapgl\":[{\"type\":\"heatmapgl\",\"colorbar\":{\"outlinewidth\":0,\"ticks\":\"\"},\"colorscale\":[[0.0,\"#0d0887\"],[0.1111111111111111,\"#46039f\"],[0.2222222222222222,\"#7201a8\"],[0.3333333333333333,\"#9c179e\"],[0.4444444444444444,\"#bd3786\"],[0.5555555555555556,\"#d8576b\"],[0.6666666666666666,\"#ed7953\"],[0.7777777777777778,\"#fb9f3a\"],[0.8888888888888888,\"#fdca26\"],[1.0,\"#f0f921\"]]}],\"contourcarpet\":[{\"type\":\"contourcarpet\",\"colorbar\":{\"outlinewidth\":0,\"ticks\":\"\"}}],\"contour\":[{\"type\":\"contour\",\"colorbar\":{\"outlinewidth\":0,\"ticks\":\"\"},\"colorscale\":[[0.0,\"#0d0887\"],[0.1111111111111111,\"#46039f\"],[0.2222222222222222,\"#7201a8\"],[0.3333333333333333,\"#9c179e\"],[0.4444444444444444,\"#bd3786\"],[0.5555555555555556,\"#d8576b\"],[0.6666666666666666,\"#ed7953\"],[0.7777777777777778,\"#fb9f3a\"],[0.8888888888888888,\"#fdca26\"],[1.0,\"#f0f921\"]]}],\"surface\":[{\"type\":\"surface\",\"colorbar\":{\"outlinewidth\":0,\"ticks\":\"\"},\"colorscale\":[[0.0,\"#0d0887\"],[0.1111111111111111,\"#46039f\"],[0.2222222222222222,\"#7201a8\"],[0.3333333333333333,\"#9c179e\"],[0.4444444444444444,\"#bd3786\"],[0.5555555555555556,\"#d8576b\"],[0.6666666666666666,\"#ed7953\"],[0.7777777777777778,\"#fb9f3a\"],[0.8888888888888888,\"#fdca26\"],[1.0,\"#f0f921\"]]}],\"mesh3d\":[{\"type\":\"mesh3d\",\"colorbar\":{\"outlinewidth\":0,\"ticks\":\"\"}}],\"scatter\":[{\"fillpattern\":{\"fillmode\":\"overlay\",\"size\":10,\"solidity\":0.2},\"type\":\"scatter\"}],\"parcoords\":[{\"type\":\"parcoords\",\"line\":{\"colorbar\":{\"outlinewidth\":0,\"ticks\":\"\"}}}],\"scatterpolargl\":[{\"type\":\"scatterpolargl\",\"marker\":{\"colorbar\":{\"outlinewidth\":0,\"ticks\":\"\"}}}],\"bar\":[{\"error_x\":{\"color\":\"#2a3f5f\"},\"error_y\":{\"color\":\"#2a3f5f\"},\"marker\":{\"line\":{\"color\":\"#E5ECF6\",\"width\":0.5},\"pattern\":{\"fillmode\":\"overlay\",\"size\":10,\"solidity\":0.2}},\"type\":\"bar\"}],\"scattergeo\":[{\"type\":\"scattergeo\",\"marker\":{\"colorbar\":{\"outlinewidth\":0,\"ticks\":\"\"}}}],\"scatterpolar\":[{\"type\":\"scatterpolar\",\"marker\":{\"colorbar\":{\"outlinewidth\":0,\"ticks\":\"\"}}}],\"histogram\":[{\"marker\":{\"pattern\":{\"fillmode\":\"overlay\",\"size\":10,\"solidity\":0.2}},\"type\":\"histogram\"}],\"scattergl\":[{\"type\":\"scattergl\",\"marker\":{\"colorbar\":{\"outlinewidth\":0,\"ticks\":\"\"}}}],\"scatter3d\":[{\"type\":\"scatter3d\",\"line\":{\"colorbar\":{\"outlinewidth\":0,\"ticks\":\"\"}},\"marker\":{\"colorbar\":{\"outlinewidth\":0,\"ticks\":\"\"}}}],\"scattermapbox\":[{\"type\":\"scattermapbox\",\"marker\":{\"colorbar\":{\"outlinewidth\":0,\"ticks\":\"\"}}}],\"scatterternary\":[{\"type\":\"scatterternary\",\"marker\":{\"colorbar\":{\"outlinewidth\":0,\"ticks\":\"\"}}}],\"scattercarpet\":[{\"type\":\"scattercarpet\",\"marker\":{\"colorbar\":{\"outlinewidth\":0,\"ticks\":\"\"}}}],\"carpet\":[{\"aaxis\":{\"endlinecolor\":\"#2a3f5f\",\"gridcolor\":\"white\",\"linecolor\":\"white\",\"minorgridcolor\":\"white\",\"startlinecolor\":\"#2a3f5f\"},\"baxis\":{\"endlinecolor\":\"#2a3f5f\",\"gridcolor\":\"white\",\"linecolor\":\"white\",\"minorgridcolor\":\"white\",\"startlinecolor\":\"#2a3f5f\"},\"type\":\"carpet\"}],\"table\":[{\"cells\":{\"fill\":{\"color\":\"#EBF0F8\"},\"line\":{\"color\":\"white\"}},\"header\":{\"fill\":{\"color\":\"#C8D4E3\"},\"line\":{\"color\":\"white\"}},\"type\":\"table\"}],\"barpolar\":[{\"marker\":{\"line\":{\"color\":\"#E5ECF6\",\"width\":0.5},\"pattern\":{\"fillmode\":\"overlay\",\"size\":10,\"solidity\":0.2}},\"type\":\"barpolar\"}],\"pie\":[{\"automargin\":true,\"type\":\"pie\"}]},\"layout\":{\"autotypenumbers\":\"strict\",\"colorway\":[\"#636efa\",\"#EF553B\",\"#00cc96\",\"#ab63fa\",\"#FFA15A\",\"#19d3f3\",\"#FF6692\",\"#B6E880\",\"#FF97FF\",\"#FECB52\"],\"font\":{\"color\":\"#2a3f5f\"},\"hovermode\":\"closest\",\"hoverlabel\":{\"align\":\"left\"},\"paper_bgcolor\":\"white\",\"plot_bgcolor\":\"#E5ECF6\",\"polar\":{\"bgcolor\":\"#E5ECF6\",\"angularaxis\":{\"gridcolor\":\"white\",\"linecolor\":\"white\",\"ticks\":\"\"},\"radialaxis\":{\"gridcolor\":\"white\",\"linecolor\":\"white\",\"ticks\":\"\"}},\"ternary\":{\"bgcolor\":\"#E5ECF6\",\"aaxis\":{\"gridcolor\":\"white\",\"linecolor\":\"white\",\"ticks\":\"\"},\"baxis\":{\"gridcolor\":\"white\",\"linecolor\":\"white\",\"ticks\":\"\"},\"caxis\":{\"gridcolor\":\"white\",\"linecolor\":\"white\",\"ticks\":\"\"}},\"coloraxis\":{\"colorbar\":{\"outlinewidth\":0,\"ticks\":\"\"}},\"colorscale\":{\"sequential\":[[0.0,\"#0d0887\"],[0.1111111111111111,\"#46039f\"],[0.2222222222222222,\"#7201a8\"],[0.3333333333333333,\"#9c179e\"],[0.4444444444444444,\"#bd3786\"],[0.5555555555555556,\"#d8576b\"],[0.6666666666666666,\"#ed7953\"],[0.7777777777777778,\"#fb9f3a\"],[0.8888888888888888,\"#fdca26\"],[1.0,\"#f0f921\"]],\"sequentialminus\":[[0.0,\"#0d0887\"],[0.1111111111111111,\"#46039f\"],[0.2222222222222222,\"#7201a8\"],[0.3333333333333333,\"#9c179e\"],[0.4444444444444444,\"#bd3786\"],[0.5555555555555556,\"#d8576b\"],[0.6666666666666666,\"#ed7953\"],[0.7777777777777778,\"#fb9f3a\"],[0.8888888888888888,\"#fdca26\"],[1.0,\"#f0f921\"]],\"diverging\":[[0,\"#8e0152\"],[0.1,\"#c51b7d\"],[0.2,\"#de77ae\"],[0.3,\"#f1b6da\"],[0.4,\"#fde0ef\"],[0.5,\"#f7f7f7\"],[0.6,\"#e6f5d0\"],[0.7,\"#b8e186\"],[0.8,\"#7fbc41\"],[0.9,\"#4d9221\"],[1,\"#276419\"]]},\"xaxis\":{\"gridcolor\":\"white\",\"linecolor\":\"white\",\"ticks\":\"\",\"title\":{\"standoff\":15},\"zerolinecolor\":\"white\",\"automargin\":true,\"zerolinewidth\":2},\"yaxis\":{\"gridcolor\":\"white\",\"linecolor\":\"white\",\"ticks\":\"\",\"title\":{\"standoff\":15},\"zerolinecolor\":\"white\",\"automargin\":true,\"zerolinewidth\":2},\"scene\":{\"xaxis\":{\"backgroundcolor\":\"#E5ECF6\",\"gridcolor\":\"white\",\"linecolor\":\"white\",\"showbackground\":true,\"ticks\":\"\",\"zerolinecolor\":\"white\",\"gridwidth\":2},\"yaxis\":{\"backgroundcolor\":\"#E5ECF6\",\"gridcolor\":\"white\",\"linecolor\":\"white\",\"showbackground\":true,\"ticks\":\"\",\"zerolinecolor\":\"white\",\"gridwidth\":2},\"zaxis\":{\"backgroundcolor\":\"#E5ECF6\",\"gridcolor\":\"white\",\"linecolor\":\"white\",\"showbackground\":true,\"ticks\":\"\",\"zerolinecolor\":\"white\",\"gridwidth\":2}},\"shapedefaults\":{\"line\":{\"color\":\"#2a3f5f\"}},\"annotationdefaults\":{\"arrowcolor\":\"#2a3f5f\",\"arrowhead\":0,\"arrowwidth\":1},\"geo\":{\"bgcolor\":\"white\",\"landcolor\":\"#E5ECF6\",\"subunitcolor\":\"white\",\"showland\":true,\"showlakes\":true,\"lakecolor\":\"white\"},\"title\":{\"x\":0.05},\"mapbox\":{\"style\":\"light\"}}},\"scene\":{\"domain\":{\"x\":[0.0,1.0],\"y\":[0.0,1.0]},\"xaxis\":{\"title\":{\"text\":\"\"},\"showticklabels\":false},\"yaxis\":{\"title\":{\"text\":\"\"},\"showticklabels\":false},\"zaxis\":{\"title\":{\"text\":\"\"},\"showticklabels\":false},\"camera\":{\"eye\":{\"x\":0.8565230204571884,\"y\":1.8073096899609913,\"z\":1.0}},\"dragmode\":\"orbit\"},\"legend\":{\"title\":{\"text\":\"perturbation\"},\"tracegroupgap\":0},\"margin\":{\"t\":60},\"font\":{\"family\":\"Arial\",\"size\":14,\"color\":\"Black\"},\"showlegend\":false,\"coloraxis\":{\"showscale\":false}},                        {\"responsive\": true}                    ).then(function(){\n",
       "                            \n",
       "var gd = document.getElementById('8c8660a4-3815-4c36-b5c4-6b889bae09ee');\n",
       "var x = new MutationObserver(function (mutations, observer) {{\n",
       "        var display = window.getComputedStyle(gd).display;\n",
       "        if (!display || display === 'none') {{\n",
       "            console.log([gd, 'removed!']);\n",
       "            Plotly.purge(gd);\n",
       "            observer.disconnect();\n",
       "        }}\n",
       "}});\n",
       "\n",
       "// Listen for the removal of the full notebook cells\n",
       "var notebookContainer = gd.closest('#notebook-container');\n",
       "if (notebookContainer) {{\n",
       "    x.observe(notebookContainer, {childList: true});\n",
       "}}\n",
       "\n",
       "// Listen for the clearing of the current output cell\n",
       "var outputEl = gd.closest('.output');\n",
       "if (outputEl) {{\n",
       "    x.observe(outputEl, {childList: true});\n",
       "}}\n",
       "\n",
       "                        })                };                });            </script>        </div>"
      ]
     },
     "metadata": {},
     "output_type": "display_data"
    }
   ],
   "source": [
    "angle_vec = np.linspace(1, 1+2*np.pi, 50)\n",
    "frame_dir = os.path.join(figure_dir, \"lmx_hooke_UMAP_genotype_frames\", \"\")\n",
    "if not os.path.isdir(frame_dir):\n",
    "    os.makedirs(frame_dir)\n",
    "\n",
    "# make rotating plots\n",
    "\n",
    "hooke_fig1 = make_rotating_figure(angle_vec[:2], frame_dir, hooke_fig1, \"hooke_genotype_\")\n",
    "hooke_fig1.show()"
   ]
  },
  {
   "cell_type": "code",
   "execution_count": 149,
   "id": "77a791cd",
   "metadata": {},
   "outputs": [
    {
     "data": {
      "application/vnd.plotly.v1+json": {
       "config": {
        "plotlyServerURL": "https://plot.ly"
       },
       "data": [
        {
         "hovertemplate": "UMAP_hooke_00_3=%{x}<br>UMAP_hooke_01_3=%{y}<br>UMAP_hooke_02_3=%{z}<br>predicted_stage_hpf=%{marker.color}<extra></extra>",
         "legendgroup": "",
         "marker": {
          "color": [
           48,
           48,
           48,
           48,
           48,
           48,
           48,
           48,
           48,
           48,
           48,
           48,
           48,
           48,
           48,
           48,
           48,
           48,
           48,
           48,
           48,
           48,
           48,
           48,
           48,
           48,
           48,
           48,
           60,
           60,
           60,
           60,
           72,
           72,
           72,
           72,
           60,
           60,
           60,
           60,
           72,
           72,
           72,
           72,
           60,
           60,
           60,
           60,
           72,
           72,
           72,
           72,
           60,
           60,
           60,
           60,
           72,
           72,
           72,
           72,
           60,
           60,
           60,
           60,
           72,
           72,
           72,
           72,
           60,
           60,
           60,
           72,
           72,
           72,
           72,
           60,
           60,
           60,
           60,
           72,
           72,
           72,
           60,
           60,
           60,
           60,
           72,
           72,
           72,
           72,
           48,
           48,
           48,
           24,
           24,
           48,
           48,
           48,
           48,
           48,
           48,
           24,
           48,
           48,
           24,
           48,
           48,
           48,
           24,
           48,
           48,
           48,
           24,
           48,
           48,
           48,
           24,
           48,
           48,
           24,
           60,
           60,
           60,
           48,
           72,
           72,
           72,
           60,
           60,
           60,
           48,
           72,
           72,
           72,
           72,
           60,
           60,
           48,
           72,
           72,
           60,
           60,
           48,
           72,
           72,
           72,
           60,
           60,
           60,
           60,
           48,
           72,
           72,
           72,
           60,
           60,
           60,
           48,
           72,
           72,
           72,
           60,
           60,
           60,
           48,
           72,
           72,
           72,
           60,
           60,
           48,
           72,
           72,
           72
          ],
          "coloraxis": "coloraxis",
          "line": {
           "color": "DarkSlateGrey",
           "width": 2
          },
          "opacity": 1,
          "size": 7,
          "symbol": "circle"
         },
         "mode": "markers",
         "name": "",
         "scene": "scene",
         "showlegend": false,
         "type": "scatter3d",
         "x": [
          13.292174,
          13.305437,
          12.286528,
          12.877974,
          13.295934,
          14.256061,
          12.089639,
          12.797462,
          13.755331,
          13.334316,
          12.0228615,
          12.914015,
          13.236151,
          13.205227,
          12.108326,
          12.861817,
          13.8230915,
          14.246836,
          11.944588,
          12.77648,
          13.956982,
          12.032045,
          12.867115,
          12.141294,
          13.053007,
          14.199878,
          12.211592,
          12.87104,
          15.365539,
          15.636905,
          15.584575,
          17.910732,
          9.626239,
          10.098592,
          9.990176,
          9.499134,
          15.808278,
          15.455971,
          15.793318,
          17.772182,
          10.576498,
          8.908661,
          9.784709,
          9.458613,
          15.801746,
          15.856234,
          15.668521,
          17.77046,
          8.970035,
          9.016842,
          9.950774,
          9.384375,
          10.909352,
          15.641212,
          15.717899,
          11.004248,
          8.987577,
          9.870324,
          10.521115,
          10.594316,
          10.99194,
          10.921147,
          10.784782,
          17.713858,
          9.458634,
          9.025038,
          9.87504,
          9.353983,
          15.620426,
          10.908327,
          17.876429,
          9.255738,
          10.4186325,
          10.1400385,
          9.577666,
          11.022275,
          15.606818,
          15.614556,
          17.661144,
          10.511289,
          9.092684,
          9.409471,
          15.715881,
          15.471368,
          15.671328,
          17.894903,
          9.301951,
          9.139588,
          9.887674,
          9.474775,
          -3.270507,
          -3.3600261,
          13.012533,
          4.971718,
          4.7844625,
          -3.51444,
          -3.107007,
          13.0602865,
          -3.4221203,
          -3.167362,
          13.02115,
          4.8811727,
          -3.2064874,
          13.110608,
          4.698205,
          -3.0605786,
          -3.4636257,
          13.106889,
          4.6516943,
          -3.161526,
          -3.1435914,
          13.198739,
          4.8076262,
          -3.1890898,
          -3.4044955,
          13.084359,
          4.640381,
          -3.1284752,
          13.130896,
          4.6427884,
          21.703114,
          22.593018,
          18.504496,
          5.7887535,
          6.46674,
          7.232598,
          9.052309,
          21.813526,
          22.455885,
          18.431528,
          5.993543,
          6.9557447,
          6.5483327,
          8.976395,
          7.0978255,
          21.818565,
          18.325092,
          5.997774,
          7.1629252,
          9.051837,
          21.644573,
          18.521084,
          5.8910575,
          7.0186806,
          6.5411854,
          8.98791,
          21.769745,
          22.496088,
          22.492077,
          18.315208,
          5.9405355,
          7.2235518,
          6.674154,
          8.990659,
          22.45545,
          22.09752,
          18.277893,
          5.9229946,
          6.649443,
          7.3523335,
          9.174224,
          21.654459,
          22.230505,
          18.430527,
          6.032182,
          6.5100975,
          6.921312,
          9.270412,
          22.055748,
          18.492815,
          5.8975916,
          6.4711175,
          6.868714,
          9.247391
         ],
         "y": [
          8.045684,
          7.8918595,
          8.722249,
          7.417014,
          7.9241095,
          7.497188,
          8.748684,
          7.285392,
          7.7375107,
          7.9503675,
          8.821037,
          7.4084373,
          7.8498797,
          8.081196,
          8.742707,
          7.2559648,
          7.691095,
          7.5213857,
          8.880392,
          7.1970463,
          7.6228743,
          8.798981,
          7.365319,
          8.717594,
          7.681411,
          7.45282,
          8.769173,
          7.3808646,
          9.397553,
          9.498635,
          8.656884,
          8.551662,
          12.706289,
          12.972543,
          12.363834,
          13.277976,
          9.464592,
          9.289569,
          8.450336,
          8.695998,
          13.0949335,
          12.353934,
          12.273924,
          13.271308,
          9.34452,
          9.571277,
          8.595229,
          8.714984,
          12.202656,
          12.347217,
          12.374682,
          13.386522,
          13.097236,
          9.596752,
          8.546656,
          13.00013,
          12.388079,
          12.830276,
          12.860351,
          13.012103,
          12.968304,
          12.860974,
          12.6976,
          8.75184,
          12.632447,
          12.402559,
          12.281024,
          13.437859,
          9.414549,
          12.563428,
          8.51119,
          12.226968,
          12.937863,
          12.5837145,
          13.184822,
          12.809595,
          9.458678,
          8.635102,
          8.82242,
          13.081727,
          12.374916,
          13.34545,
          9.336512,
          9.285143,
          8.6002865,
          8.598256,
          12.192195,
          12.29314,
          12.263032,
          13.282223,
          7.9278574,
          7.8080153,
          6.6386833,
          -5.5359497,
          -5.752328,
          7.463451,
          8.08219,
          6.6155186,
          7.524183,
          8.008384,
          6.7875223,
          -5.5776215,
          7.662678,
          6.723414,
          -5.683065,
          8.113301,
          7.460033,
          6.7503567,
          -5.7745104,
          7.725244,
          8.033367,
          6.6555624,
          -5.665338,
          7.427995,
          7.5949006,
          6.6752343,
          -5.6889405,
          8.008872,
          6.810025,
          -5.7639446,
          4.0301476,
          4.164208,
          8.492248,
          -5.021933,
          15.727231,
          15.365631,
          14.130764,
          3.918967,
          3.9671881,
          8.431131,
          -5.121466,
          15.658888,
          15.714758,
          14.179466,
          15.481701,
          3.9469786,
          8.32005,
          -5.2789507,
          15.410589,
          14.118671,
          4.0345817,
          8.440755,
          -5.193396,
          15.581214,
          15.675702,
          14.165227,
          4.053281,
          4.019652,
          4.0647473,
          8.32384,
          -5.235079,
          15.255223,
          15.741638,
          14.029317,
          3.8842943,
          3.7656803,
          8.158211,
          -5.1667757,
          15.484332,
          15.149698,
          14.047214,
          3.9844813,
          3.9124045,
          8.355349,
          -5.319506,
          15.627398,
          15.643564,
          14.050337,
          3.7597463,
          8.484469,
          -5.1905127,
          15.723268,
          15.568093,
          13.967638
         ],
         "z": [
          0.3116706,
          0.13502787,
          1.3469874,
          -1.073803,
          0.16682935,
          0.21147427,
          1.5643543,
          -1.258629,
          0.28167644,
          0.20142111,
          1.6339489,
          -0.98509175,
          0.108825386,
          0.31735963,
          1.5477269,
          -1.3827913,
          0.2647661,
          0.26119426,
          1.7142305,
          -1.3002797,
          0.28861907,
          1.6242448,
          -1.1629303,
          1.5136346,
          -0.4981002,
          0.23732926,
          1.4319655,
          -1.1325362,
          14.673777,
          14.809739,
          13.04931,
          13.26197,
          2.831914,
          2.8694584,
          3.593685,
          4.5105224,
          14.57316,
          14.536869,
          13.261182,
          13.177095,
          2.805889,
          2.1577842,
          3.7921257,
          4.1576395,
          14.564709,
          14.761883,
          13.111854,
          13.150101,
          2.1558506,
          2.2343554,
          3.5915942,
          4.7252846,
          2.8245974,
          14.653829,
          13.18049,
          2.9209447,
          2.2177167,
          2.9618208,
          3.0422893,
          2.884559,
          2.9345305,
          3.0041273,
          3.0554266,
          13.224117,
          2.7140164,
          2.2552059,
          3.787813,
          4.4943037,
          14.64903,
          3.206567,
          13.271298,
          2.4273317,
          2.9352171,
          3.365249,
          4.7967606,
          3.024884,
          14.761792,
          13.072235,
          13.193304,
          2.8195343,
          2.3558166,
          4.6579313,
          14.559654,
          14.537208,
          13.10963,
          13.198455,
          2.3787322,
          2.3354828,
          3.70079,
          4.6070547,
          -0.16708119,
          -0.18309866,
          -2.9068606,
          5.0446506,
          4.851619,
          -0.035299573,
          -0.10083615,
          -2.927893,
          0.015821904,
          -0.096279025,
          -2.7575846,
          4.9485426,
          -0.11541436,
          -2.8117404,
          4.7653847,
          -0.14606047,
          0.025830597,
          -2.773884,
          4.7184978,
          -0.28765377,
          -0.07936594,
          -2.8531427,
          4.8765473,
          -0.19026929,
          -0.09058803,
          -2.84885,
          4.7078094,
          -0.17480303,
          -2.702929,
          4.710026,
          10.556174,
          10.545038,
          12.901475,
          6.0121107,
          2.2500973,
          2.479498,
          4.8129606,
          10.544911,
          10.71604,
          12.965665,
          6.2201276,
          2.4280019,
          2.2721655,
          4.7648206,
          2.3151712,
          10.506548,
          13.056193,
          6.2259874,
          2.3988962,
          4.8278956,
          10.423124,
          12.8885145,
          6.119495,
          2.4064121,
          2.208021,
          4.8666887,
          10.587012,
          10.592696,
          10.518885,
          13.040529,
          6.169733,
          2.3868058,
          2.292546,
          4.76485,
          10.747551,
          10.618873,
          13.050098,
          6.150116,
          2.4013877,
          2.3907385,
          4.977833,
          10.449497,
          10.5416765,
          12.950804,
          6.2608786,
          2.33061,
          2.33653,
          5.063392,
          10.52557,
          12.914406,
          6.1249714,
          2.2543294,
          2.3222814,
          5.0315876
         ]
        }
       ],
       "layout": {
        "coloraxis": {
         "colorbar": {
          "title": {
           "text": "predicted_stage_hpf"
          }
         },
         "colorscale": [
          [
           0,
           "#0d0887"
          ],
          [
           0.1111111111111111,
           "#46039f"
          ],
          [
           0.2222222222222222,
           "#7201a8"
          ],
          [
           0.3333333333333333,
           "#9c179e"
          ],
          [
           0.4444444444444444,
           "#bd3786"
          ],
          [
           0.5555555555555556,
           "#d8576b"
          ],
          [
           0.6666666666666666,
           "#ed7953"
          ],
          [
           0.7777777777777778,
           "#fb9f3a"
          ],
          [
           0.8888888888888888,
           "#fdca26"
          ],
          [
           1,
           "#f0f921"
          ]
         ]
        },
        "font": {
         "color": "Black",
         "family": "Arial",
         "size": 14
        },
        "legend": {
         "title": {
          "text": "stage (hpf)"
         },
         "tracegroupgap": 0
        },
        "margin": {
         "t": 60
        },
        "scene": {
         "domain": {
          "x": [
           0,
           1
          ],
          "y": [
           0,
           1
          ]
         },
         "xaxis": {
          "showticklabels": false,
          "title": {
           "text": "UMAP 1"
          }
         },
         "yaxis": {
          "showticklabels": false,
          "title": {
           "text": "UMAP 2"
          }
         },
         "zaxis": {
          "showticklabels": false,
          "title": {
           "text": "UMAP 3"
          }
         }
        },
        "template": {
         "data": {
          "bar": [
           {
            "error_x": {
             "color": "#2a3f5f"
            },
            "error_y": {
             "color": "#2a3f5f"
            },
            "marker": {
             "line": {
              "color": "#E5ECF6",
              "width": 0.5
             },
             "pattern": {
              "fillmode": "overlay",
              "size": 10,
              "solidity": 0.2
             }
            },
            "type": "bar"
           }
          ],
          "barpolar": [
           {
            "marker": {
             "line": {
              "color": "#E5ECF6",
              "width": 0.5
             },
             "pattern": {
              "fillmode": "overlay",
              "size": 10,
              "solidity": 0.2
             }
            },
            "type": "barpolar"
           }
          ],
          "carpet": [
           {
            "aaxis": {
             "endlinecolor": "#2a3f5f",
             "gridcolor": "white",
             "linecolor": "white",
             "minorgridcolor": "white",
             "startlinecolor": "#2a3f5f"
            },
            "baxis": {
             "endlinecolor": "#2a3f5f",
             "gridcolor": "white",
             "linecolor": "white",
             "minorgridcolor": "white",
             "startlinecolor": "#2a3f5f"
            },
            "type": "carpet"
           }
          ],
          "choropleth": [
           {
            "colorbar": {
             "outlinewidth": 0,
             "ticks": ""
            },
            "type": "choropleth"
           }
          ],
          "contour": [
           {
            "colorbar": {
             "outlinewidth": 0,
             "ticks": ""
            },
            "colorscale": [
             [
              0,
              "#0d0887"
             ],
             [
              0.1111111111111111,
              "#46039f"
             ],
             [
              0.2222222222222222,
              "#7201a8"
             ],
             [
              0.3333333333333333,
              "#9c179e"
             ],
             [
              0.4444444444444444,
              "#bd3786"
             ],
             [
              0.5555555555555556,
              "#d8576b"
             ],
             [
              0.6666666666666666,
              "#ed7953"
             ],
             [
              0.7777777777777778,
              "#fb9f3a"
             ],
             [
              0.8888888888888888,
              "#fdca26"
             ],
             [
              1,
              "#f0f921"
             ]
            ],
            "type": "contour"
           }
          ],
          "contourcarpet": [
           {
            "colorbar": {
             "outlinewidth": 0,
             "ticks": ""
            },
            "type": "contourcarpet"
           }
          ],
          "heatmap": [
           {
            "colorbar": {
             "outlinewidth": 0,
             "ticks": ""
            },
            "colorscale": [
             [
              0,
              "#0d0887"
             ],
             [
              0.1111111111111111,
              "#46039f"
             ],
             [
              0.2222222222222222,
              "#7201a8"
             ],
             [
              0.3333333333333333,
              "#9c179e"
             ],
             [
              0.4444444444444444,
              "#bd3786"
             ],
             [
              0.5555555555555556,
              "#d8576b"
             ],
             [
              0.6666666666666666,
              "#ed7953"
             ],
             [
              0.7777777777777778,
              "#fb9f3a"
             ],
             [
              0.8888888888888888,
              "#fdca26"
             ],
             [
              1,
              "#f0f921"
             ]
            ],
            "type": "heatmap"
           }
          ],
          "heatmapgl": [
           {
            "colorbar": {
             "outlinewidth": 0,
             "ticks": ""
            },
            "colorscale": [
             [
              0,
              "#0d0887"
             ],
             [
              0.1111111111111111,
              "#46039f"
             ],
             [
              0.2222222222222222,
              "#7201a8"
             ],
             [
              0.3333333333333333,
              "#9c179e"
             ],
             [
              0.4444444444444444,
              "#bd3786"
             ],
             [
              0.5555555555555556,
              "#d8576b"
             ],
             [
              0.6666666666666666,
              "#ed7953"
             ],
             [
              0.7777777777777778,
              "#fb9f3a"
             ],
             [
              0.8888888888888888,
              "#fdca26"
             ],
             [
              1,
              "#f0f921"
             ]
            ],
            "type": "heatmapgl"
           }
          ],
          "histogram": [
           {
            "marker": {
             "pattern": {
              "fillmode": "overlay",
              "size": 10,
              "solidity": 0.2
             }
            },
            "type": "histogram"
           }
          ],
          "histogram2d": [
           {
            "colorbar": {
             "outlinewidth": 0,
             "ticks": ""
            },
            "colorscale": [
             [
              0,
              "#0d0887"
             ],
             [
              0.1111111111111111,
              "#46039f"
             ],
             [
              0.2222222222222222,
              "#7201a8"
             ],
             [
              0.3333333333333333,
              "#9c179e"
             ],
             [
              0.4444444444444444,
              "#bd3786"
             ],
             [
              0.5555555555555556,
              "#d8576b"
             ],
             [
              0.6666666666666666,
              "#ed7953"
             ],
             [
              0.7777777777777778,
              "#fb9f3a"
             ],
             [
              0.8888888888888888,
              "#fdca26"
             ],
             [
              1,
              "#f0f921"
             ]
            ],
            "type": "histogram2d"
           }
          ],
          "histogram2dcontour": [
           {
            "colorbar": {
             "outlinewidth": 0,
             "ticks": ""
            },
            "colorscale": [
             [
              0,
              "#0d0887"
             ],
             [
              0.1111111111111111,
              "#46039f"
             ],
             [
              0.2222222222222222,
              "#7201a8"
             ],
             [
              0.3333333333333333,
              "#9c179e"
             ],
             [
              0.4444444444444444,
              "#bd3786"
             ],
             [
              0.5555555555555556,
              "#d8576b"
             ],
             [
              0.6666666666666666,
              "#ed7953"
             ],
             [
              0.7777777777777778,
              "#fb9f3a"
             ],
             [
              0.8888888888888888,
              "#fdca26"
             ],
             [
              1,
              "#f0f921"
             ]
            ],
            "type": "histogram2dcontour"
           }
          ],
          "mesh3d": [
           {
            "colorbar": {
             "outlinewidth": 0,
             "ticks": ""
            },
            "type": "mesh3d"
           }
          ],
          "parcoords": [
           {
            "line": {
             "colorbar": {
              "outlinewidth": 0,
              "ticks": ""
             }
            },
            "type": "parcoords"
           }
          ],
          "pie": [
           {
            "automargin": true,
            "type": "pie"
           }
          ],
          "scatter": [
           {
            "fillpattern": {
             "fillmode": "overlay",
             "size": 10,
             "solidity": 0.2
            },
            "type": "scatter"
           }
          ],
          "scatter3d": [
           {
            "line": {
             "colorbar": {
              "outlinewidth": 0,
              "ticks": ""
             }
            },
            "marker": {
             "colorbar": {
              "outlinewidth": 0,
              "ticks": ""
             }
            },
            "type": "scatter3d"
           }
          ],
          "scattercarpet": [
           {
            "marker": {
             "colorbar": {
              "outlinewidth": 0,
              "ticks": ""
             }
            },
            "type": "scattercarpet"
           }
          ],
          "scattergeo": [
           {
            "marker": {
             "colorbar": {
              "outlinewidth": 0,
              "ticks": ""
             }
            },
            "type": "scattergeo"
           }
          ],
          "scattergl": [
           {
            "marker": {
             "colorbar": {
              "outlinewidth": 0,
              "ticks": ""
             }
            },
            "type": "scattergl"
           }
          ],
          "scattermapbox": [
           {
            "marker": {
             "colorbar": {
              "outlinewidth": 0,
              "ticks": ""
             }
            },
            "type": "scattermapbox"
           }
          ],
          "scatterpolar": [
           {
            "marker": {
             "colorbar": {
              "outlinewidth": 0,
              "ticks": ""
             }
            },
            "type": "scatterpolar"
           }
          ],
          "scatterpolargl": [
           {
            "marker": {
             "colorbar": {
              "outlinewidth": 0,
              "ticks": ""
             }
            },
            "type": "scatterpolargl"
           }
          ],
          "scatterternary": [
           {
            "marker": {
             "colorbar": {
              "outlinewidth": 0,
              "ticks": ""
             }
            },
            "type": "scatterternary"
           }
          ],
          "surface": [
           {
            "colorbar": {
             "outlinewidth": 0,
             "ticks": ""
            },
            "colorscale": [
             [
              0,
              "#0d0887"
             ],
             [
              0.1111111111111111,
              "#46039f"
             ],
             [
              0.2222222222222222,
              "#7201a8"
             ],
             [
              0.3333333333333333,
              "#9c179e"
             ],
             [
              0.4444444444444444,
              "#bd3786"
             ],
             [
              0.5555555555555556,
              "#d8576b"
             ],
             [
              0.6666666666666666,
              "#ed7953"
             ],
             [
              0.7777777777777778,
              "#fb9f3a"
             ],
             [
              0.8888888888888888,
              "#fdca26"
             ],
             [
              1,
              "#f0f921"
             ]
            ],
            "type": "surface"
           }
          ],
          "table": [
           {
            "cells": {
             "fill": {
              "color": "#EBF0F8"
             },
             "line": {
              "color": "white"
             }
            },
            "header": {
             "fill": {
              "color": "#C8D4E3"
             },
             "line": {
              "color": "white"
             }
            },
            "type": "table"
           }
          ]
         },
         "layout": {
          "annotationdefaults": {
           "arrowcolor": "#2a3f5f",
           "arrowhead": 0,
           "arrowwidth": 1
          },
          "autotypenumbers": "strict",
          "coloraxis": {
           "colorbar": {
            "outlinewidth": 0,
            "ticks": ""
           }
          },
          "colorscale": {
           "diverging": [
            [
             0,
             "#8e0152"
            ],
            [
             0.1,
             "#c51b7d"
            ],
            [
             0.2,
             "#de77ae"
            ],
            [
             0.3,
             "#f1b6da"
            ],
            [
             0.4,
             "#fde0ef"
            ],
            [
             0.5,
             "#f7f7f7"
            ],
            [
             0.6,
             "#e6f5d0"
            ],
            [
             0.7,
             "#b8e186"
            ],
            [
             0.8,
             "#7fbc41"
            ],
            [
             0.9,
             "#4d9221"
            ],
            [
             1,
             "#276419"
            ]
           ],
           "sequential": [
            [
             0,
             "#0d0887"
            ],
            [
             0.1111111111111111,
             "#46039f"
            ],
            [
             0.2222222222222222,
             "#7201a8"
            ],
            [
             0.3333333333333333,
             "#9c179e"
            ],
            [
             0.4444444444444444,
             "#bd3786"
            ],
            [
             0.5555555555555556,
             "#d8576b"
            ],
            [
             0.6666666666666666,
             "#ed7953"
            ],
            [
             0.7777777777777778,
             "#fb9f3a"
            ],
            [
             0.8888888888888888,
             "#fdca26"
            ],
            [
             1,
             "#f0f921"
            ]
           ],
           "sequentialminus": [
            [
             0,
             "#0d0887"
            ],
            [
             0.1111111111111111,
             "#46039f"
            ],
            [
             0.2222222222222222,
             "#7201a8"
            ],
            [
             0.3333333333333333,
             "#9c179e"
            ],
            [
             0.4444444444444444,
             "#bd3786"
            ],
            [
             0.5555555555555556,
             "#d8576b"
            ],
            [
             0.6666666666666666,
             "#ed7953"
            ],
            [
             0.7777777777777778,
             "#fb9f3a"
            ],
            [
             0.8888888888888888,
             "#fdca26"
            ],
            [
             1,
             "#f0f921"
            ]
           ]
          },
          "colorway": [
           "#636efa",
           "#EF553B",
           "#00cc96",
           "#ab63fa",
           "#FFA15A",
           "#19d3f3",
           "#FF6692",
           "#B6E880",
           "#FF97FF",
           "#FECB52"
          ],
          "font": {
           "color": "#2a3f5f"
          },
          "geo": {
           "bgcolor": "white",
           "lakecolor": "white",
           "landcolor": "#E5ECF6",
           "showlakes": true,
           "showland": true,
           "subunitcolor": "white"
          },
          "hoverlabel": {
           "align": "left"
          },
          "hovermode": "closest",
          "mapbox": {
           "style": "light"
          },
          "paper_bgcolor": "white",
          "plot_bgcolor": "#E5ECF6",
          "polar": {
           "angularaxis": {
            "gridcolor": "white",
            "linecolor": "white",
            "ticks": ""
           },
           "bgcolor": "#E5ECF6",
           "radialaxis": {
            "gridcolor": "white",
            "linecolor": "white",
            "ticks": ""
           }
          },
          "scene": {
           "xaxis": {
            "backgroundcolor": "#E5ECF6",
            "gridcolor": "white",
            "gridwidth": 2,
            "linecolor": "white",
            "showbackground": true,
            "ticks": "",
            "zerolinecolor": "white"
           },
           "yaxis": {
            "backgroundcolor": "#E5ECF6",
            "gridcolor": "white",
            "gridwidth": 2,
            "linecolor": "white",
            "showbackground": true,
            "ticks": "",
            "zerolinecolor": "white"
           },
           "zaxis": {
            "backgroundcolor": "#E5ECF6",
            "gridcolor": "white",
            "gridwidth": 2,
            "linecolor": "white",
            "showbackground": true,
            "ticks": "",
            "zerolinecolor": "white"
           }
          },
          "shapedefaults": {
           "line": {
            "color": "#2a3f5f"
           }
          },
          "ternary": {
           "aaxis": {
            "gridcolor": "white",
            "linecolor": "white",
            "ticks": ""
           },
           "baxis": {
            "gridcolor": "white",
            "linecolor": "white",
            "ticks": ""
           },
           "bgcolor": "#E5ECF6",
           "caxis": {
            "gridcolor": "white",
            "linecolor": "white",
            "ticks": ""
           }
          },
          "title": {
           "x": 0.05
          },
          "xaxis": {
           "automargin": true,
           "gridcolor": "white",
           "linecolor": "white",
           "ticks": "",
           "title": {
            "standoff": 15
           },
           "zerolinecolor": "white",
           "zerolinewidth": 2
          },
          "yaxis": {
           "automargin": true,
           "gridcolor": "white",
           "linecolor": "white",
           "ticks": "",
           "title": {
            "standoff": 15
           },
           "zerolinecolor": "white",
           "zerolinewidth": 2
          }
         }
        }
       }
      },
      "text/html": [
       "<div>                            <div id=\"8f250387-0e31-46a3-90db-b0651d66cb1b\" class=\"plotly-graph-div\" style=\"height:525px; width:100%;\"></div>            <script type=\"text/javascript\">                require([\"plotly\"], function(Plotly) {                    window.PLOTLYENV=window.PLOTLYENV || {};                                    if (document.getElementById(\"8f250387-0e31-46a3-90db-b0651d66cb1b\")) {                    Plotly.newPlot(                        \"8f250387-0e31-46a3-90db-b0651d66cb1b\",                        [{\"hovertemplate\":\"UMAP_hooke_00_3=%{x}<br>UMAP_hooke_01_3=%{y}<br>UMAP_hooke_02_3=%{z}<br>predicted_stage_hpf=%{marker.color}<extra></extra>\",\"legendgroup\":\"\",\"marker\":{\"color\":[48.0,48.0,48.0,48.0,48.0,48.0,48.0,48.0,48.0,48.0,48.0,48.0,48.0,48.0,48.0,48.0,48.0,48.0,48.0,48.0,48.0,48.0,48.0,48.0,48.0,48.0,48.0,48.0,60.0,60.0,60.0,60.0,72.0,72.0,72.0,72.0,60.0,60.0,60.0,60.0,72.0,72.0,72.0,72.0,60.0,60.0,60.0,60.0,72.0,72.0,72.0,72.0,60.0,60.0,60.0,60.0,72.0,72.0,72.0,72.0,60.0,60.0,60.0,60.0,72.0,72.0,72.0,72.0,60.0,60.0,60.0,72.0,72.0,72.0,72.0,60.0,60.0,60.0,60.0,72.0,72.0,72.0,60.0,60.0,60.0,60.0,72.0,72.0,72.0,72.0,48.0,48.0,48.0,24.0,24.0,48.0,48.0,48.0,48.0,48.0,48.0,24.0,48.0,48.0,24.0,48.0,48.0,48.0,24.0,48.0,48.0,48.0,24.0,48.0,48.0,48.0,24.0,48.0,48.0,24.0,60.0,60.0,60.0,48.0,72.0,72.0,72.0,60.0,60.0,60.0,48.0,72.0,72.0,72.0,72.0,60.0,60.0,48.0,72.0,72.0,60.0,60.0,48.0,72.0,72.0,72.0,60.0,60.0,60.0,60.0,48.0,72.0,72.0,72.0,60.0,60.0,60.0,48.0,72.0,72.0,72.0,60.0,60.0,60.0,48.0,72.0,72.0,72.0,60.0,60.0,48.0,72.0,72.0,72.0],\"coloraxis\":\"coloraxis\",\"opacity\":1,\"symbol\":\"circle\",\"line\":{\"color\":\"DarkSlateGrey\",\"width\":2},\"size\":7},\"mode\":\"markers\",\"name\":\"\",\"scene\":\"scene\",\"showlegend\":false,\"x\":[13.292174,13.305437,12.286528,12.877974,13.295934,14.256061,12.089639,12.797462,13.755331,13.334316,12.0228615,12.914015,13.236151,13.205227,12.108326,12.861817,13.8230915,14.246836,11.944588,12.77648,13.956982,12.032045,12.867115,12.141294,13.053007,14.199878,12.211592,12.87104,15.365539,15.636905,15.584575,17.910732,9.626239,10.098592,9.990176,9.499134,15.808278,15.455971,15.793318,17.772182,10.576498,8.908661,9.784709,9.458613,15.801746,15.856234,15.668521,17.77046,8.970035,9.016842,9.950774,9.384375,10.909352,15.641212,15.717899,11.004248,8.987577,9.870324,10.521115,10.594316,10.99194,10.921147,10.784782,17.713858,9.458634,9.025038,9.87504,9.353983,15.620426,10.908327,17.876429,9.255738,10.4186325,10.1400385,9.577666,11.022275,15.606818,15.614556,17.661144,10.511289,9.092684,9.409471,15.715881,15.471368,15.671328,17.894903,9.301951,9.139588,9.887674,9.474775,-3.270507,-3.3600261,13.012533,4.971718,4.7844625,-3.51444,-3.107007,13.0602865,-3.4221203,-3.167362,13.02115,4.8811727,-3.2064874,13.110608,4.698205,-3.0605786,-3.4636257,13.106889,4.6516943,-3.161526,-3.1435914,13.198739,4.8076262,-3.1890898,-3.4044955,13.084359,4.640381,-3.1284752,13.130896,4.6427884,21.703114,22.593018,18.504496,5.7887535,6.46674,7.232598,9.052309,21.813526,22.455885,18.431528,5.993543,6.9557447,6.5483327,8.976395,7.0978255,21.818565,18.325092,5.997774,7.1629252,9.051837,21.644573,18.521084,5.8910575,7.0186806,6.5411854,8.98791,21.769745,22.496088,22.492077,18.315208,5.9405355,7.2235518,6.674154,8.990659,22.45545,22.09752,18.277893,5.9229946,6.649443,7.3523335,9.174224,21.654459,22.230505,18.430527,6.032182,6.5100975,6.921312,9.270412,22.055748,18.492815,5.8975916,6.4711175,6.868714,9.247391],\"y\":[8.045684,7.8918595,8.722249,7.417014,7.9241095,7.497188,8.748684,7.285392,7.7375107,7.9503675,8.821037,7.4084373,7.8498797,8.081196,8.742707,7.2559648,7.691095,7.5213857,8.880392,7.1970463,7.6228743,8.798981,7.365319,8.717594,7.681411,7.45282,8.769173,7.3808646,9.397553,9.498635,8.656884,8.551662,12.706289,12.972543,12.363834,13.277976,9.464592,9.289569,8.450336,8.695998,13.0949335,12.353934,12.273924,13.271308,9.34452,9.571277,8.595229,8.714984,12.202656,12.347217,12.374682,13.386522,13.097236,9.596752,8.546656,13.00013,12.388079,12.830276,12.860351,13.012103,12.968304,12.860974,12.6976,8.75184,12.632447,12.402559,12.281024,13.437859,9.414549,12.563428,8.51119,12.226968,12.937863,12.5837145,13.184822,12.809595,9.458678,8.635102,8.82242,13.081727,12.374916,13.34545,9.336512,9.285143,8.6002865,8.598256,12.192195,12.29314,12.263032,13.282223,7.9278574,7.8080153,6.6386833,-5.5359497,-5.752328,7.463451,8.08219,6.6155186,7.524183,8.008384,6.7875223,-5.5776215,7.662678,6.723414,-5.683065,8.113301,7.460033,6.7503567,-5.7745104,7.725244,8.033367,6.6555624,-5.665338,7.427995,7.5949006,6.6752343,-5.6889405,8.008872,6.810025,-5.7639446,4.0301476,4.164208,8.492248,-5.021933,15.727231,15.365631,14.130764,3.918967,3.9671881,8.431131,-5.121466,15.658888,15.714758,14.179466,15.481701,3.9469786,8.32005,-5.2789507,15.410589,14.118671,4.0345817,8.440755,-5.193396,15.581214,15.675702,14.165227,4.053281,4.019652,4.0647473,8.32384,-5.235079,15.255223,15.741638,14.029317,3.8842943,3.7656803,8.158211,-5.1667757,15.484332,15.149698,14.047214,3.9844813,3.9124045,8.355349,-5.319506,15.627398,15.643564,14.050337,3.7597463,8.484469,-5.1905127,15.723268,15.568093,13.967638],\"z\":[0.3116706,0.13502787,1.3469874,-1.073803,0.16682935,0.21147427,1.5643543,-1.258629,0.28167644,0.20142111,1.6339489,-0.98509175,0.108825386,0.31735963,1.5477269,-1.3827913,0.2647661,0.26119426,1.7142305,-1.3002797,0.28861907,1.6242448,-1.1629303,1.5136346,-0.4981002,0.23732926,1.4319655,-1.1325362,14.673777,14.809739,13.04931,13.26197,2.831914,2.8694584,3.593685,4.5105224,14.57316,14.536869,13.261182,13.177095,2.805889,2.1577842,3.7921257,4.1576395,14.564709,14.761883,13.111854,13.150101,2.1558506,2.2343554,3.5915942,4.7252846,2.8245974,14.653829,13.18049,2.9209447,2.2177167,2.9618208,3.0422893,2.884559,2.9345305,3.0041273,3.0554266,13.224117,2.7140164,2.2552059,3.787813,4.4943037,14.64903,3.206567,13.271298,2.4273317,2.9352171,3.365249,4.7967606,3.024884,14.761792,13.072235,13.193304,2.8195343,2.3558166,4.6579313,14.559654,14.537208,13.10963,13.198455,2.3787322,2.3354828,3.70079,4.6070547,-0.16708119,-0.18309866,-2.9068606,5.0446506,4.851619,-0.035299573,-0.10083615,-2.927893,0.015821904,-0.096279025,-2.7575846,4.9485426,-0.11541436,-2.8117404,4.7653847,-0.14606047,0.025830597,-2.773884,4.7184978,-0.28765377,-0.07936594,-2.8531427,4.8765473,-0.19026929,-0.09058803,-2.84885,4.7078094,-0.17480303,-2.702929,4.710026,10.556174,10.545038,12.901475,6.0121107,2.2500973,2.479498,4.8129606,10.544911,10.71604,12.965665,6.2201276,2.4280019,2.2721655,4.7648206,2.3151712,10.506548,13.056193,6.2259874,2.3988962,4.8278956,10.423124,12.8885145,6.119495,2.4064121,2.208021,4.8666887,10.587012,10.592696,10.518885,13.040529,6.169733,2.3868058,2.292546,4.76485,10.747551,10.618873,13.050098,6.150116,2.4013877,2.3907385,4.977833,10.449497,10.5416765,12.950804,6.2608786,2.33061,2.33653,5.063392,10.52557,12.914406,6.1249714,2.2543294,2.3222814,5.0315876],\"type\":\"scatter3d\"}],                        {\"template\":{\"data\":{\"histogram2dcontour\":[{\"type\":\"histogram2dcontour\",\"colorbar\":{\"outlinewidth\":0,\"ticks\":\"\"},\"colorscale\":[[0.0,\"#0d0887\"],[0.1111111111111111,\"#46039f\"],[0.2222222222222222,\"#7201a8\"],[0.3333333333333333,\"#9c179e\"],[0.4444444444444444,\"#bd3786\"],[0.5555555555555556,\"#d8576b\"],[0.6666666666666666,\"#ed7953\"],[0.7777777777777778,\"#fb9f3a\"],[0.8888888888888888,\"#fdca26\"],[1.0,\"#f0f921\"]]}],\"choropleth\":[{\"type\":\"choropleth\",\"colorbar\":{\"outlinewidth\":0,\"ticks\":\"\"}}],\"histogram2d\":[{\"type\":\"histogram2d\",\"colorbar\":{\"outlinewidth\":0,\"ticks\":\"\"},\"colorscale\":[[0.0,\"#0d0887\"],[0.1111111111111111,\"#46039f\"],[0.2222222222222222,\"#7201a8\"],[0.3333333333333333,\"#9c179e\"],[0.4444444444444444,\"#bd3786\"],[0.5555555555555556,\"#d8576b\"],[0.6666666666666666,\"#ed7953\"],[0.7777777777777778,\"#fb9f3a\"],[0.8888888888888888,\"#fdca26\"],[1.0,\"#f0f921\"]]}],\"heatmap\":[{\"type\":\"heatmap\",\"colorbar\":{\"outlinewidth\":0,\"ticks\":\"\"},\"colorscale\":[[0.0,\"#0d0887\"],[0.1111111111111111,\"#46039f\"],[0.2222222222222222,\"#7201a8\"],[0.3333333333333333,\"#9c179e\"],[0.4444444444444444,\"#bd3786\"],[0.5555555555555556,\"#d8576b\"],[0.6666666666666666,\"#ed7953\"],[0.7777777777777778,\"#fb9f3a\"],[0.8888888888888888,\"#fdca26\"],[1.0,\"#f0f921\"]]}],\"heatmapgl\":[{\"type\":\"heatmapgl\",\"colorbar\":{\"outlinewidth\":0,\"ticks\":\"\"},\"colorscale\":[[0.0,\"#0d0887\"],[0.1111111111111111,\"#46039f\"],[0.2222222222222222,\"#7201a8\"],[0.3333333333333333,\"#9c179e\"],[0.4444444444444444,\"#bd3786\"],[0.5555555555555556,\"#d8576b\"],[0.6666666666666666,\"#ed7953\"],[0.7777777777777778,\"#fb9f3a\"],[0.8888888888888888,\"#fdca26\"],[1.0,\"#f0f921\"]]}],\"contourcarpet\":[{\"type\":\"contourcarpet\",\"colorbar\":{\"outlinewidth\":0,\"ticks\":\"\"}}],\"contour\":[{\"type\":\"contour\",\"colorbar\":{\"outlinewidth\":0,\"ticks\":\"\"},\"colorscale\":[[0.0,\"#0d0887\"],[0.1111111111111111,\"#46039f\"],[0.2222222222222222,\"#7201a8\"],[0.3333333333333333,\"#9c179e\"],[0.4444444444444444,\"#bd3786\"],[0.5555555555555556,\"#d8576b\"],[0.6666666666666666,\"#ed7953\"],[0.7777777777777778,\"#fb9f3a\"],[0.8888888888888888,\"#fdca26\"],[1.0,\"#f0f921\"]]}],\"surface\":[{\"type\":\"surface\",\"colorbar\":{\"outlinewidth\":0,\"ticks\":\"\"},\"colorscale\":[[0.0,\"#0d0887\"],[0.1111111111111111,\"#46039f\"],[0.2222222222222222,\"#7201a8\"],[0.3333333333333333,\"#9c179e\"],[0.4444444444444444,\"#bd3786\"],[0.5555555555555556,\"#d8576b\"],[0.6666666666666666,\"#ed7953\"],[0.7777777777777778,\"#fb9f3a\"],[0.8888888888888888,\"#fdca26\"],[1.0,\"#f0f921\"]]}],\"mesh3d\":[{\"type\":\"mesh3d\",\"colorbar\":{\"outlinewidth\":0,\"ticks\":\"\"}}],\"scatter\":[{\"fillpattern\":{\"fillmode\":\"overlay\",\"size\":10,\"solidity\":0.2},\"type\":\"scatter\"}],\"parcoords\":[{\"type\":\"parcoords\",\"line\":{\"colorbar\":{\"outlinewidth\":0,\"ticks\":\"\"}}}],\"scatterpolargl\":[{\"type\":\"scatterpolargl\",\"marker\":{\"colorbar\":{\"outlinewidth\":0,\"ticks\":\"\"}}}],\"bar\":[{\"error_x\":{\"color\":\"#2a3f5f\"},\"error_y\":{\"color\":\"#2a3f5f\"},\"marker\":{\"line\":{\"color\":\"#E5ECF6\",\"width\":0.5},\"pattern\":{\"fillmode\":\"overlay\",\"size\":10,\"solidity\":0.2}},\"type\":\"bar\"}],\"scattergeo\":[{\"type\":\"scattergeo\",\"marker\":{\"colorbar\":{\"outlinewidth\":0,\"ticks\":\"\"}}}],\"scatterpolar\":[{\"type\":\"scatterpolar\",\"marker\":{\"colorbar\":{\"outlinewidth\":0,\"ticks\":\"\"}}}],\"histogram\":[{\"marker\":{\"pattern\":{\"fillmode\":\"overlay\",\"size\":10,\"solidity\":0.2}},\"type\":\"histogram\"}],\"scattergl\":[{\"type\":\"scattergl\",\"marker\":{\"colorbar\":{\"outlinewidth\":0,\"ticks\":\"\"}}}],\"scatter3d\":[{\"type\":\"scatter3d\",\"line\":{\"colorbar\":{\"outlinewidth\":0,\"ticks\":\"\"}},\"marker\":{\"colorbar\":{\"outlinewidth\":0,\"ticks\":\"\"}}}],\"scattermapbox\":[{\"type\":\"scattermapbox\",\"marker\":{\"colorbar\":{\"outlinewidth\":0,\"ticks\":\"\"}}}],\"scatterternary\":[{\"type\":\"scatterternary\",\"marker\":{\"colorbar\":{\"outlinewidth\":0,\"ticks\":\"\"}}}],\"scattercarpet\":[{\"type\":\"scattercarpet\",\"marker\":{\"colorbar\":{\"outlinewidth\":0,\"ticks\":\"\"}}}],\"carpet\":[{\"aaxis\":{\"endlinecolor\":\"#2a3f5f\",\"gridcolor\":\"white\",\"linecolor\":\"white\",\"minorgridcolor\":\"white\",\"startlinecolor\":\"#2a3f5f\"},\"baxis\":{\"endlinecolor\":\"#2a3f5f\",\"gridcolor\":\"white\",\"linecolor\":\"white\",\"minorgridcolor\":\"white\",\"startlinecolor\":\"#2a3f5f\"},\"type\":\"carpet\"}],\"table\":[{\"cells\":{\"fill\":{\"color\":\"#EBF0F8\"},\"line\":{\"color\":\"white\"}},\"header\":{\"fill\":{\"color\":\"#C8D4E3\"},\"line\":{\"color\":\"white\"}},\"type\":\"table\"}],\"barpolar\":[{\"marker\":{\"line\":{\"color\":\"#E5ECF6\",\"width\":0.5},\"pattern\":{\"fillmode\":\"overlay\",\"size\":10,\"solidity\":0.2}},\"type\":\"barpolar\"}],\"pie\":[{\"automargin\":true,\"type\":\"pie\"}]},\"layout\":{\"autotypenumbers\":\"strict\",\"colorway\":[\"#636efa\",\"#EF553B\",\"#00cc96\",\"#ab63fa\",\"#FFA15A\",\"#19d3f3\",\"#FF6692\",\"#B6E880\",\"#FF97FF\",\"#FECB52\"],\"font\":{\"color\":\"#2a3f5f\"},\"hovermode\":\"closest\",\"hoverlabel\":{\"align\":\"left\"},\"paper_bgcolor\":\"white\",\"plot_bgcolor\":\"#E5ECF6\",\"polar\":{\"bgcolor\":\"#E5ECF6\",\"angularaxis\":{\"gridcolor\":\"white\",\"linecolor\":\"white\",\"ticks\":\"\"},\"radialaxis\":{\"gridcolor\":\"white\",\"linecolor\":\"white\",\"ticks\":\"\"}},\"ternary\":{\"bgcolor\":\"#E5ECF6\",\"aaxis\":{\"gridcolor\":\"white\",\"linecolor\":\"white\",\"ticks\":\"\"},\"baxis\":{\"gridcolor\":\"white\",\"linecolor\":\"white\",\"ticks\":\"\"},\"caxis\":{\"gridcolor\":\"white\",\"linecolor\":\"white\",\"ticks\":\"\"}},\"coloraxis\":{\"colorbar\":{\"outlinewidth\":0,\"ticks\":\"\"}},\"colorscale\":{\"sequential\":[[0.0,\"#0d0887\"],[0.1111111111111111,\"#46039f\"],[0.2222222222222222,\"#7201a8\"],[0.3333333333333333,\"#9c179e\"],[0.4444444444444444,\"#bd3786\"],[0.5555555555555556,\"#d8576b\"],[0.6666666666666666,\"#ed7953\"],[0.7777777777777778,\"#fb9f3a\"],[0.8888888888888888,\"#fdca26\"],[1.0,\"#f0f921\"]],\"sequentialminus\":[[0.0,\"#0d0887\"],[0.1111111111111111,\"#46039f\"],[0.2222222222222222,\"#7201a8\"],[0.3333333333333333,\"#9c179e\"],[0.4444444444444444,\"#bd3786\"],[0.5555555555555556,\"#d8576b\"],[0.6666666666666666,\"#ed7953\"],[0.7777777777777778,\"#fb9f3a\"],[0.8888888888888888,\"#fdca26\"],[1.0,\"#f0f921\"]],\"diverging\":[[0,\"#8e0152\"],[0.1,\"#c51b7d\"],[0.2,\"#de77ae\"],[0.3,\"#f1b6da\"],[0.4,\"#fde0ef\"],[0.5,\"#f7f7f7\"],[0.6,\"#e6f5d0\"],[0.7,\"#b8e186\"],[0.8,\"#7fbc41\"],[0.9,\"#4d9221\"],[1,\"#276419\"]]},\"xaxis\":{\"gridcolor\":\"white\",\"linecolor\":\"white\",\"ticks\":\"\",\"title\":{\"standoff\":15},\"zerolinecolor\":\"white\",\"automargin\":true,\"zerolinewidth\":2},\"yaxis\":{\"gridcolor\":\"white\",\"linecolor\":\"white\",\"ticks\":\"\",\"title\":{\"standoff\":15},\"zerolinecolor\":\"white\",\"automargin\":true,\"zerolinewidth\":2},\"scene\":{\"xaxis\":{\"backgroundcolor\":\"#E5ECF6\",\"gridcolor\":\"white\",\"linecolor\":\"white\",\"showbackground\":true,\"ticks\":\"\",\"zerolinecolor\":\"white\",\"gridwidth\":2},\"yaxis\":{\"backgroundcolor\":\"#E5ECF6\",\"gridcolor\":\"white\",\"linecolor\":\"white\",\"showbackground\":true,\"ticks\":\"\",\"zerolinecolor\":\"white\",\"gridwidth\":2},\"zaxis\":{\"backgroundcolor\":\"#E5ECF6\",\"gridcolor\":\"white\",\"linecolor\":\"white\",\"showbackground\":true,\"ticks\":\"\",\"zerolinecolor\":\"white\",\"gridwidth\":2}},\"shapedefaults\":{\"line\":{\"color\":\"#2a3f5f\"}},\"annotationdefaults\":{\"arrowcolor\":\"#2a3f5f\",\"arrowhead\":0,\"arrowwidth\":1},\"geo\":{\"bgcolor\":\"white\",\"landcolor\":\"#E5ECF6\",\"subunitcolor\":\"white\",\"showland\":true,\"showlakes\":true,\"lakecolor\":\"white\"},\"title\":{\"x\":0.05},\"mapbox\":{\"style\":\"light\"}}},\"scene\":{\"domain\":{\"x\":[0.0,1.0],\"y\":[0.0,1.0]},\"xaxis\":{\"title\":{\"text\":\"UMAP 1\"},\"showticklabels\":false},\"yaxis\":{\"title\":{\"text\":\"UMAP 2\"},\"showticklabels\":false},\"zaxis\":{\"title\":{\"text\":\"UMAP 3\"},\"showticklabels\":false}},\"coloraxis\":{\"colorbar\":{\"title\":{\"text\":\"predicted_stage_hpf\"}},\"colorscale\":[[0.0,\"#0d0887\"],[0.1111111111111111,\"#46039f\"],[0.2222222222222222,\"#7201a8\"],[0.3333333333333333,\"#9c179e\"],[0.4444444444444444,\"#bd3786\"],[0.5555555555555556,\"#d8576b\"],[0.6666666666666666,\"#ed7953\"],[0.7777777777777778,\"#fb9f3a\"],[0.8888888888888888,\"#fdca26\"],[1.0,\"#f0f921\"]]},\"legend\":{\"tracegroupgap\":0,\"title\":{\"text\":\"stage (hpf)\"}},\"margin\":{\"t\":60},\"font\":{\"family\":\"Arial\",\"size\":14,\"color\":\"Black\"}},                        {\"responsive\": true}                    ).then(function(){\n",
       "                            \n",
       "var gd = document.getElementById('8f250387-0e31-46a3-90db-b0651d66cb1b');\n",
       "var x = new MutationObserver(function (mutations, observer) {{\n",
       "        var display = window.getComputedStyle(gd).display;\n",
       "        if (!display || display === 'none') {{\n",
       "            console.log([gd, 'removed!']);\n",
       "            Plotly.purge(gd);\n",
       "            observer.disconnect();\n",
       "        }}\n",
       "}});\n",
       "\n",
       "// Listen for the removal of the full notebook cells\n",
       "var notebookContainer = gd.closest('#notebook-container');\n",
       "if (notebookContainer) {{\n",
       "    x.observe(notebookContainer, {childList: true});\n",
       "}}\n",
       "\n",
       "// Listen for the clearing of the current output cell\n",
       "var outputEl = gd.closest('.output');\n",
       "if (outputEl) {{\n",
       "    x.observe(outputEl, {childList: true});\n",
       "}}\n",
       "\n",
       "                        })                };                });            </script>        </div>"
      ]
     },
     "metadata": {},
     "output_type": "display_data"
    }
   ],
   "source": [
    "hooke_fig2 = px.scatter_3d(master_df_ref, x=\"UMAP_hooke_00_3\", y=\"UMAP_hooke_01_3\", z=\"UMAP_hooke_02_3\",\n",
    "                    color=\"predicted_stage_hpf\", color_discrete_map=color_discrete_map, opacity=1)\n",
    "\n",
    "hooke_fig2.update_traces(marker=dict(size=7, \n",
    "                              line=dict(width=2,\n",
    "                                        color='DarkSlateGrey'))\n",
    "                 )\n",
    "\n",
    "hooke_fig2.update_layout(scene = dict(\n",
    "                    xaxis_title=\"UMAP 1\",\n",
    "                    yaxis_title=\"UMAP 2\",\n",
    "                    zaxis_title=\"UMAP 3\",\n",
    "                    xaxis = dict(showticklabels=False),\n",
    "                    yaxis = dict(showticklabels=False),\n",
    "                    zaxis = dict(showticklabels=False)\n",
    "                    ),   \n",
    "    legend_title=\"stage (hpf)\",\n",
    "    font=dict(\n",
    "        family=\"Arial\",\n",
    "        size=14,\n",
    "        color=\"Black\"\n",
    "    )\n",
    ")\n",
    "                  \n",
    "hooke_fig2.show()"
   ]
  },
  {
   "cell_type": "code",
   "execution_count": 151,
   "id": "15196b6c",
   "metadata": {},
   "outputs": [
    {
     "name": "stderr",
     "output_type": "stream",
     "text": [
      "100%|██████████| 2/2 [00:04<00:00,  2.16s/it]\n"
     ]
    },
    {
     "data": {
      "application/vnd.plotly.v1+json": {
       "config": {
        "plotlyServerURL": "https://plot.ly"
       },
       "data": [
        {
         "hovertemplate": "UMAP_hooke_00_3=%{x}<br>UMAP_hooke_01_3=%{y}<br>UMAP_hooke_02_3=%{z}<br>predicted_stage_hpf=%{marker.color}<extra></extra>",
         "legendgroup": "",
         "marker": {
          "color": [
           48,
           48,
           48,
           48,
           48,
           48,
           48,
           48,
           48,
           48,
           48,
           48,
           48,
           48,
           48,
           48,
           48,
           48,
           48,
           48,
           48,
           48,
           48,
           48,
           48,
           48,
           48,
           48,
           60,
           60,
           60,
           60,
           72,
           72,
           72,
           72,
           60,
           60,
           60,
           60,
           72,
           72,
           72,
           72,
           60,
           60,
           60,
           60,
           72,
           72,
           72,
           72,
           60,
           60,
           60,
           60,
           72,
           72,
           72,
           72,
           60,
           60,
           60,
           60,
           72,
           72,
           72,
           72,
           60,
           60,
           60,
           72,
           72,
           72,
           72,
           60,
           60,
           60,
           60,
           72,
           72,
           72,
           60,
           60,
           60,
           60,
           72,
           72,
           72,
           72,
           48,
           48,
           48,
           24,
           24,
           48,
           48,
           48,
           48,
           48,
           48,
           24,
           48,
           48,
           24,
           48,
           48,
           48,
           24,
           48,
           48,
           48,
           24,
           48,
           48,
           48,
           24,
           48,
           48,
           24,
           60,
           60,
           60,
           48,
           72,
           72,
           72,
           60,
           60,
           60,
           48,
           72,
           72,
           72,
           72,
           60,
           60,
           48,
           72,
           72,
           60,
           60,
           48,
           72,
           72,
           72,
           60,
           60,
           60,
           60,
           48,
           72,
           72,
           72,
           60,
           60,
           60,
           48,
           72,
           72,
           72,
           60,
           60,
           60,
           48,
           72,
           72,
           72,
           60,
           60,
           48,
           72,
           72,
           72
          ],
          "coloraxis": "coloraxis",
          "line": {
           "color": "DarkSlateGrey",
           "width": 2
          },
          "opacity": 1,
          "size": 7,
          "symbol": "circle"
         },
         "mode": "markers",
         "name": "",
         "scene": "scene",
         "showlegend": false,
         "type": "scatter3d",
         "x": [
          13.292174,
          13.305437,
          12.286528,
          12.877974,
          13.295934,
          14.256061,
          12.089639,
          12.797462,
          13.755331,
          13.334316,
          12.0228615,
          12.914015,
          13.236151,
          13.205227,
          12.108326,
          12.861817,
          13.8230915,
          14.246836,
          11.944588,
          12.77648,
          13.956982,
          12.032045,
          12.867115,
          12.141294,
          13.053007,
          14.199878,
          12.211592,
          12.87104,
          15.365539,
          15.636905,
          15.584575,
          17.910732,
          9.626239,
          10.098592,
          9.990176,
          9.499134,
          15.808278,
          15.455971,
          15.793318,
          17.772182,
          10.576498,
          8.908661,
          9.784709,
          9.458613,
          15.801746,
          15.856234,
          15.668521,
          17.77046,
          8.970035,
          9.016842,
          9.950774,
          9.384375,
          10.909352,
          15.641212,
          15.717899,
          11.004248,
          8.987577,
          9.870324,
          10.521115,
          10.594316,
          10.99194,
          10.921147,
          10.784782,
          17.713858,
          9.458634,
          9.025038,
          9.87504,
          9.353983,
          15.620426,
          10.908327,
          17.876429,
          9.255738,
          10.4186325,
          10.1400385,
          9.577666,
          11.022275,
          15.606818,
          15.614556,
          17.661144,
          10.511289,
          9.092684,
          9.409471,
          15.715881,
          15.471368,
          15.671328,
          17.894903,
          9.301951,
          9.139588,
          9.887674,
          9.474775,
          -3.270507,
          -3.3600261,
          13.012533,
          4.971718,
          4.7844625,
          -3.51444,
          -3.107007,
          13.0602865,
          -3.4221203,
          -3.167362,
          13.02115,
          4.8811727,
          -3.2064874,
          13.110608,
          4.698205,
          -3.0605786,
          -3.4636257,
          13.106889,
          4.6516943,
          -3.161526,
          -3.1435914,
          13.198739,
          4.8076262,
          -3.1890898,
          -3.4044955,
          13.084359,
          4.640381,
          -3.1284752,
          13.130896,
          4.6427884,
          21.703114,
          22.593018,
          18.504496,
          5.7887535,
          6.46674,
          7.232598,
          9.052309,
          21.813526,
          22.455885,
          18.431528,
          5.993543,
          6.9557447,
          6.5483327,
          8.976395,
          7.0978255,
          21.818565,
          18.325092,
          5.997774,
          7.1629252,
          9.051837,
          21.644573,
          18.521084,
          5.8910575,
          7.0186806,
          6.5411854,
          8.98791,
          21.769745,
          22.496088,
          22.492077,
          18.315208,
          5.9405355,
          7.2235518,
          6.674154,
          8.990659,
          22.45545,
          22.09752,
          18.277893,
          5.9229946,
          6.649443,
          7.3523335,
          9.174224,
          21.654459,
          22.230505,
          18.430527,
          6.032182,
          6.5100975,
          6.921312,
          9.270412,
          22.055748,
          18.492815,
          5.8975916,
          6.4711175,
          6.868714,
          9.247391
         ],
         "y": [
          8.045684,
          7.8918595,
          8.722249,
          7.417014,
          7.9241095,
          7.497188,
          8.748684,
          7.285392,
          7.7375107,
          7.9503675,
          8.821037,
          7.4084373,
          7.8498797,
          8.081196,
          8.742707,
          7.2559648,
          7.691095,
          7.5213857,
          8.880392,
          7.1970463,
          7.6228743,
          8.798981,
          7.365319,
          8.717594,
          7.681411,
          7.45282,
          8.769173,
          7.3808646,
          9.397553,
          9.498635,
          8.656884,
          8.551662,
          12.706289,
          12.972543,
          12.363834,
          13.277976,
          9.464592,
          9.289569,
          8.450336,
          8.695998,
          13.0949335,
          12.353934,
          12.273924,
          13.271308,
          9.34452,
          9.571277,
          8.595229,
          8.714984,
          12.202656,
          12.347217,
          12.374682,
          13.386522,
          13.097236,
          9.596752,
          8.546656,
          13.00013,
          12.388079,
          12.830276,
          12.860351,
          13.012103,
          12.968304,
          12.860974,
          12.6976,
          8.75184,
          12.632447,
          12.402559,
          12.281024,
          13.437859,
          9.414549,
          12.563428,
          8.51119,
          12.226968,
          12.937863,
          12.5837145,
          13.184822,
          12.809595,
          9.458678,
          8.635102,
          8.82242,
          13.081727,
          12.374916,
          13.34545,
          9.336512,
          9.285143,
          8.6002865,
          8.598256,
          12.192195,
          12.29314,
          12.263032,
          13.282223,
          7.9278574,
          7.8080153,
          6.6386833,
          -5.5359497,
          -5.752328,
          7.463451,
          8.08219,
          6.6155186,
          7.524183,
          8.008384,
          6.7875223,
          -5.5776215,
          7.662678,
          6.723414,
          -5.683065,
          8.113301,
          7.460033,
          6.7503567,
          -5.7745104,
          7.725244,
          8.033367,
          6.6555624,
          -5.665338,
          7.427995,
          7.5949006,
          6.6752343,
          -5.6889405,
          8.008872,
          6.810025,
          -5.7639446,
          4.0301476,
          4.164208,
          8.492248,
          -5.021933,
          15.727231,
          15.365631,
          14.130764,
          3.918967,
          3.9671881,
          8.431131,
          -5.121466,
          15.658888,
          15.714758,
          14.179466,
          15.481701,
          3.9469786,
          8.32005,
          -5.2789507,
          15.410589,
          14.118671,
          4.0345817,
          8.440755,
          -5.193396,
          15.581214,
          15.675702,
          14.165227,
          4.053281,
          4.019652,
          4.0647473,
          8.32384,
          -5.235079,
          15.255223,
          15.741638,
          14.029317,
          3.8842943,
          3.7656803,
          8.158211,
          -5.1667757,
          15.484332,
          15.149698,
          14.047214,
          3.9844813,
          3.9124045,
          8.355349,
          -5.319506,
          15.627398,
          15.643564,
          14.050337,
          3.7597463,
          8.484469,
          -5.1905127,
          15.723268,
          15.568093,
          13.967638
         ],
         "z": [
          0.3116706,
          0.13502787,
          1.3469874,
          -1.073803,
          0.16682935,
          0.21147427,
          1.5643543,
          -1.258629,
          0.28167644,
          0.20142111,
          1.6339489,
          -0.98509175,
          0.108825386,
          0.31735963,
          1.5477269,
          -1.3827913,
          0.2647661,
          0.26119426,
          1.7142305,
          -1.3002797,
          0.28861907,
          1.6242448,
          -1.1629303,
          1.5136346,
          -0.4981002,
          0.23732926,
          1.4319655,
          -1.1325362,
          14.673777,
          14.809739,
          13.04931,
          13.26197,
          2.831914,
          2.8694584,
          3.593685,
          4.5105224,
          14.57316,
          14.536869,
          13.261182,
          13.177095,
          2.805889,
          2.1577842,
          3.7921257,
          4.1576395,
          14.564709,
          14.761883,
          13.111854,
          13.150101,
          2.1558506,
          2.2343554,
          3.5915942,
          4.7252846,
          2.8245974,
          14.653829,
          13.18049,
          2.9209447,
          2.2177167,
          2.9618208,
          3.0422893,
          2.884559,
          2.9345305,
          3.0041273,
          3.0554266,
          13.224117,
          2.7140164,
          2.2552059,
          3.787813,
          4.4943037,
          14.64903,
          3.206567,
          13.271298,
          2.4273317,
          2.9352171,
          3.365249,
          4.7967606,
          3.024884,
          14.761792,
          13.072235,
          13.193304,
          2.8195343,
          2.3558166,
          4.6579313,
          14.559654,
          14.537208,
          13.10963,
          13.198455,
          2.3787322,
          2.3354828,
          3.70079,
          4.6070547,
          -0.16708119,
          -0.18309866,
          -2.9068606,
          5.0446506,
          4.851619,
          -0.035299573,
          -0.10083615,
          -2.927893,
          0.015821904,
          -0.096279025,
          -2.7575846,
          4.9485426,
          -0.11541436,
          -2.8117404,
          4.7653847,
          -0.14606047,
          0.025830597,
          -2.773884,
          4.7184978,
          -0.28765377,
          -0.07936594,
          -2.8531427,
          4.8765473,
          -0.19026929,
          -0.09058803,
          -2.84885,
          4.7078094,
          -0.17480303,
          -2.702929,
          4.710026,
          10.556174,
          10.545038,
          12.901475,
          6.0121107,
          2.2500973,
          2.479498,
          4.8129606,
          10.544911,
          10.71604,
          12.965665,
          6.2201276,
          2.4280019,
          2.2721655,
          4.7648206,
          2.3151712,
          10.506548,
          13.056193,
          6.2259874,
          2.3988962,
          4.8278956,
          10.423124,
          12.8885145,
          6.119495,
          2.4064121,
          2.208021,
          4.8666887,
          10.587012,
          10.592696,
          10.518885,
          13.040529,
          6.169733,
          2.3868058,
          2.292546,
          4.76485,
          10.747551,
          10.618873,
          13.050098,
          6.150116,
          2.4013877,
          2.3907385,
          4.977833,
          10.449497,
          10.5416765,
          12.950804,
          6.2608786,
          2.33061,
          2.33653,
          5.063392,
          10.52557,
          12.914406,
          6.1249714,
          2.2543294,
          2.3222814,
          5.0315876
         ]
        }
       ],
       "layout": {
        "coloraxis": {
         "colorbar": {
          "title": {
           "text": "predicted_stage_hpf"
          }
         },
         "colorscale": [
          [
           0,
           "#0d0887"
          ],
          [
           0.1111111111111111,
           "#46039f"
          ],
          [
           0.2222222222222222,
           "#7201a8"
          ],
          [
           0.3333333333333333,
           "#9c179e"
          ],
          [
           0.4444444444444444,
           "#bd3786"
          ],
          [
           0.5555555555555556,
           "#d8576b"
          ],
          [
           0.6666666666666666,
           "#ed7953"
          ],
          [
           0.7777777777777778,
           "#fb9f3a"
          ],
          [
           0.8888888888888888,
           "#fdca26"
          ],
          [
           1,
           "#f0f921"
          ]
         ],
         "showscale": false
        },
        "font": {
         "color": "Black",
         "family": "Arial",
         "size": 14
        },
        "legend": {
         "title": {
          "text": "stage (hpf)"
         },
         "tracegroupgap": 0
        },
        "margin": {
         "t": 60
        },
        "scene": {
         "camera": {
          "eye": {
           "x": 0.8565230204571884,
           "y": 1.8073096899609913,
           "z": 1
          }
         },
         "domain": {
          "x": [
           0,
           1
          ],
          "y": [
           0,
           1
          ]
         },
         "dragmode": "orbit",
         "xaxis": {
          "showticklabels": false,
          "title": {
           "text": ""
          }
         },
         "yaxis": {
          "showticklabels": false,
          "title": {
           "text": ""
          }
         },
         "zaxis": {
          "showticklabels": false,
          "title": {
           "text": ""
          }
         }
        },
        "showlegend": false,
        "template": {
         "data": {
          "bar": [
           {
            "error_x": {
             "color": "#2a3f5f"
            },
            "error_y": {
             "color": "#2a3f5f"
            },
            "marker": {
             "line": {
              "color": "#E5ECF6",
              "width": 0.5
             },
             "pattern": {
              "fillmode": "overlay",
              "size": 10,
              "solidity": 0.2
             }
            },
            "type": "bar"
           }
          ],
          "barpolar": [
           {
            "marker": {
             "line": {
              "color": "#E5ECF6",
              "width": 0.5
             },
             "pattern": {
              "fillmode": "overlay",
              "size": 10,
              "solidity": 0.2
             }
            },
            "type": "barpolar"
           }
          ],
          "carpet": [
           {
            "aaxis": {
             "endlinecolor": "#2a3f5f",
             "gridcolor": "white",
             "linecolor": "white",
             "minorgridcolor": "white",
             "startlinecolor": "#2a3f5f"
            },
            "baxis": {
             "endlinecolor": "#2a3f5f",
             "gridcolor": "white",
             "linecolor": "white",
             "minorgridcolor": "white",
             "startlinecolor": "#2a3f5f"
            },
            "type": "carpet"
           }
          ],
          "choropleth": [
           {
            "colorbar": {
             "outlinewidth": 0,
             "ticks": ""
            },
            "type": "choropleth"
           }
          ],
          "contour": [
           {
            "colorbar": {
             "outlinewidth": 0,
             "ticks": ""
            },
            "colorscale": [
             [
              0,
              "#0d0887"
             ],
             [
              0.1111111111111111,
              "#46039f"
             ],
             [
              0.2222222222222222,
              "#7201a8"
             ],
             [
              0.3333333333333333,
              "#9c179e"
             ],
             [
              0.4444444444444444,
              "#bd3786"
             ],
             [
              0.5555555555555556,
              "#d8576b"
             ],
             [
              0.6666666666666666,
              "#ed7953"
             ],
             [
              0.7777777777777778,
              "#fb9f3a"
             ],
             [
              0.8888888888888888,
              "#fdca26"
             ],
             [
              1,
              "#f0f921"
             ]
            ],
            "type": "contour"
           }
          ],
          "contourcarpet": [
           {
            "colorbar": {
             "outlinewidth": 0,
             "ticks": ""
            },
            "type": "contourcarpet"
           }
          ],
          "heatmap": [
           {
            "colorbar": {
             "outlinewidth": 0,
             "ticks": ""
            },
            "colorscale": [
             [
              0,
              "#0d0887"
             ],
             [
              0.1111111111111111,
              "#46039f"
             ],
             [
              0.2222222222222222,
              "#7201a8"
             ],
             [
              0.3333333333333333,
              "#9c179e"
             ],
             [
              0.4444444444444444,
              "#bd3786"
             ],
             [
              0.5555555555555556,
              "#d8576b"
             ],
             [
              0.6666666666666666,
              "#ed7953"
             ],
             [
              0.7777777777777778,
              "#fb9f3a"
             ],
             [
              0.8888888888888888,
              "#fdca26"
             ],
             [
              1,
              "#f0f921"
             ]
            ],
            "type": "heatmap"
           }
          ],
          "heatmapgl": [
           {
            "colorbar": {
             "outlinewidth": 0,
             "ticks": ""
            },
            "colorscale": [
             [
              0,
              "#0d0887"
             ],
             [
              0.1111111111111111,
              "#46039f"
             ],
             [
              0.2222222222222222,
              "#7201a8"
             ],
             [
              0.3333333333333333,
              "#9c179e"
             ],
             [
              0.4444444444444444,
              "#bd3786"
             ],
             [
              0.5555555555555556,
              "#d8576b"
             ],
             [
              0.6666666666666666,
              "#ed7953"
             ],
             [
              0.7777777777777778,
              "#fb9f3a"
             ],
             [
              0.8888888888888888,
              "#fdca26"
             ],
             [
              1,
              "#f0f921"
             ]
            ],
            "type": "heatmapgl"
           }
          ],
          "histogram": [
           {
            "marker": {
             "pattern": {
              "fillmode": "overlay",
              "size": 10,
              "solidity": 0.2
             }
            },
            "type": "histogram"
           }
          ],
          "histogram2d": [
           {
            "colorbar": {
             "outlinewidth": 0,
             "ticks": ""
            },
            "colorscale": [
             [
              0,
              "#0d0887"
             ],
             [
              0.1111111111111111,
              "#46039f"
             ],
             [
              0.2222222222222222,
              "#7201a8"
             ],
             [
              0.3333333333333333,
              "#9c179e"
             ],
             [
              0.4444444444444444,
              "#bd3786"
             ],
             [
              0.5555555555555556,
              "#d8576b"
             ],
             [
              0.6666666666666666,
              "#ed7953"
             ],
             [
              0.7777777777777778,
              "#fb9f3a"
             ],
             [
              0.8888888888888888,
              "#fdca26"
             ],
             [
              1,
              "#f0f921"
             ]
            ],
            "type": "histogram2d"
           }
          ],
          "histogram2dcontour": [
           {
            "colorbar": {
             "outlinewidth": 0,
             "ticks": ""
            },
            "colorscale": [
             [
              0,
              "#0d0887"
             ],
             [
              0.1111111111111111,
              "#46039f"
             ],
             [
              0.2222222222222222,
              "#7201a8"
             ],
             [
              0.3333333333333333,
              "#9c179e"
             ],
             [
              0.4444444444444444,
              "#bd3786"
             ],
             [
              0.5555555555555556,
              "#d8576b"
             ],
             [
              0.6666666666666666,
              "#ed7953"
             ],
             [
              0.7777777777777778,
              "#fb9f3a"
             ],
             [
              0.8888888888888888,
              "#fdca26"
             ],
             [
              1,
              "#f0f921"
             ]
            ],
            "type": "histogram2dcontour"
           }
          ],
          "mesh3d": [
           {
            "colorbar": {
             "outlinewidth": 0,
             "ticks": ""
            },
            "type": "mesh3d"
           }
          ],
          "parcoords": [
           {
            "line": {
             "colorbar": {
              "outlinewidth": 0,
              "ticks": ""
             }
            },
            "type": "parcoords"
           }
          ],
          "pie": [
           {
            "automargin": true,
            "type": "pie"
           }
          ],
          "scatter": [
           {
            "fillpattern": {
             "fillmode": "overlay",
             "size": 10,
             "solidity": 0.2
            },
            "type": "scatter"
           }
          ],
          "scatter3d": [
           {
            "line": {
             "colorbar": {
              "outlinewidth": 0,
              "ticks": ""
             }
            },
            "marker": {
             "colorbar": {
              "outlinewidth": 0,
              "ticks": ""
             }
            },
            "type": "scatter3d"
           }
          ],
          "scattercarpet": [
           {
            "marker": {
             "colorbar": {
              "outlinewidth": 0,
              "ticks": ""
             }
            },
            "type": "scattercarpet"
           }
          ],
          "scattergeo": [
           {
            "marker": {
             "colorbar": {
              "outlinewidth": 0,
              "ticks": ""
             }
            },
            "type": "scattergeo"
           }
          ],
          "scattergl": [
           {
            "marker": {
             "colorbar": {
              "outlinewidth": 0,
              "ticks": ""
             }
            },
            "type": "scattergl"
           }
          ],
          "scattermapbox": [
           {
            "marker": {
             "colorbar": {
              "outlinewidth": 0,
              "ticks": ""
             }
            },
            "type": "scattermapbox"
           }
          ],
          "scatterpolar": [
           {
            "marker": {
             "colorbar": {
              "outlinewidth": 0,
              "ticks": ""
             }
            },
            "type": "scatterpolar"
           }
          ],
          "scatterpolargl": [
           {
            "marker": {
             "colorbar": {
              "outlinewidth": 0,
              "ticks": ""
             }
            },
            "type": "scatterpolargl"
           }
          ],
          "scatterternary": [
           {
            "marker": {
             "colorbar": {
              "outlinewidth": 0,
              "ticks": ""
             }
            },
            "type": "scatterternary"
           }
          ],
          "surface": [
           {
            "colorbar": {
             "outlinewidth": 0,
             "ticks": ""
            },
            "colorscale": [
             [
              0,
              "#0d0887"
             ],
             [
              0.1111111111111111,
              "#46039f"
             ],
             [
              0.2222222222222222,
              "#7201a8"
             ],
             [
              0.3333333333333333,
              "#9c179e"
             ],
             [
              0.4444444444444444,
              "#bd3786"
             ],
             [
              0.5555555555555556,
              "#d8576b"
             ],
             [
              0.6666666666666666,
              "#ed7953"
             ],
             [
              0.7777777777777778,
              "#fb9f3a"
             ],
             [
              0.8888888888888888,
              "#fdca26"
             ],
             [
              1,
              "#f0f921"
             ]
            ],
            "type": "surface"
           }
          ],
          "table": [
           {
            "cells": {
             "fill": {
              "color": "#EBF0F8"
             },
             "line": {
              "color": "white"
             }
            },
            "header": {
             "fill": {
              "color": "#C8D4E3"
             },
             "line": {
              "color": "white"
             }
            },
            "type": "table"
           }
          ]
         },
         "layout": {
          "annotationdefaults": {
           "arrowcolor": "#2a3f5f",
           "arrowhead": 0,
           "arrowwidth": 1
          },
          "autotypenumbers": "strict",
          "coloraxis": {
           "colorbar": {
            "outlinewidth": 0,
            "ticks": ""
           }
          },
          "colorscale": {
           "diverging": [
            [
             0,
             "#8e0152"
            ],
            [
             0.1,
             "#c51b7d"
            ],
            [
             0.2,
             "#de77ae"
            ],
            [
             0.3,
             "#f1b6da"
            ],
            [
             0.4,
             "#fde0ef"
            ],
            [
             0.5,
             "#f7f7f7"
            ],
            [
             0.6,
             "#e6f5d0"
            ],
            [
             0.7,
             "#b8e186"
            ],
            [
             0.8,
             "#7fbc41"
            ],
            [
             0.9,
             "#4d9221"
            ],
            [
             1,
             "#276419"
            ]
           ],
           "sequential": [
            [
             0,
             "#0d0887"
            ],
            [
             0.1111111111111111,
             "#46039f"
            ],
            [
             0.2222222222222222,
             "#7201a8"
            ],
            [
             0.3333333333333333,
             "#9c179e"
            ],
            [
             0.4444444444444444,
             "#bd3786"
            ],
            [
             0.5555555555555556,
             "#d8576b"
            ],
            [
             0.6666666666666666,
             "#ed7953"
            ],
            [
             0.7777777777777778,
             "#fb9f3a"
            ],
            [
             0.8888888888888888,
             "#fdca26"
            ],
            [
             1,
             "#f0f921"
            ]
           ],
           "sequentialminus": [
            [
             0,
             "#0d0887"
            ],
            [
             0.1111111111111111,
             "#46039f"
            ],
            [
             0.2222222222222222,
             "#7201a8"
            ],
            [
             0.3333333333333333,
             "#9c179e"
            ],
            [
             0.4444444444444444,
             "#bd3786"
            ],
            [
             0.5555555555555556,
             "#d8576b"
            ],
            [
             0.6666666666666666,
             "#ed7953"
            ],
            [
             0.7777777777777778,
             "#fb9f3a"
            ],
            [
             0.8888888888888888,
             "#fdca26"
            ],
            [
             1,
             "#f0f921"
            ]
           ]
          },
          "colorway": [
           "#636efa",
           "#EF553B",
           "#00cc96",
           "#ab63fa",
           "#FFA15A",
           "#19d3f3",
           "#FF6692",
           "#B6E880",
           "#FF97FF",
           "#FECB52"
          ],
          "font": {
           "color": "#2a3f5f"
          },
          "geo": {
           "bgcolor": "white",
           "lakecolor": "white",
           "landcolor": "#E5ECF6",
           "showlakes": true,
           "showland": true,
           "subunitcolor": "white"
          },
          "hoverlabel": {
           "align": "left"
          },
          "hovermode": "closest",
          "mapbox": {
           "style": "light"
          },
          "paper_bgcolor": "white",
          "plot_bgcolor": "#E5ECF6",
          "polar": {
           "angularaxis": {
            "gridcolor": "white",
            "linecolor": "white",
            "ticks": ""
           },
           "bgcolor": "#E5ECF6",
           "radialaxis": {
            "gridcolor": "white",
            "linecolor": "white",
            "ticks": ""
           }
          },
          "scene": {
           "xaxis": {
            "backgroundcolor": "#E5ECF6",
            "gridcolor": "white",
            "gridwidth": 2,
            "linecolor": "white",
            "showbackground": true,
            "ticks": "",
            "zerolinecolor": "white"
           },
           "yaxis": {
            "backgroundcolor": "#E5ECF6",
            "gridcolor": "white",
            "gridwidth": 2,
            "linecolor": "white",
            "showbackground": true,
            "ticks": "",
            "zerolinecolor": "white"
           },
           "zaxis": {
            "backgroundcolor": "#E5ECF6",
            "gridcolor": "white",
            "gridwidth": 2,
            "linecolor": "white",
            "showbackground": true,
            "ticks": "",
            "zerolinecolor": "white"
           }
          },
          "shapedefaults": {
           "line": {
            "color": "#2a3f5f"
           }
          },
          "ternary": {
           "aaxis": {
            "gridcolor": "white",
            "linecolor": "white",
            "ticks": ""
           },
           "baxis": {
            "gridcolor": "white",
            "linecolor": "white",
            "ticks": ""
           },
           "bgcolor": "#E5ECF6",
           "caxis": {
            "gridcolor": "white",
            "linecolor": "white",
            "ticks": ""
           }
          },
          "title": {
           "x": 0.05
          },
          "xaxis": {
           "automargin": true,
           "gridcolor": "white",
           "linecolor": "white",
           "ticks": "",
           "title": {
            "standoff": 15
           },
           "zerolinecolor": "white",
           "zerolinewidth": 2
          },
          "yaxis": {
           "automargin": true,
           "gridcolor": "white",
           "linecolor": "white",
           "ticks": "",
           "title": {
            "standoff": 15
           },
           "zerolinecolor": "white",
           "zerolinewidth": 2
          }
         }
        }
       }
      },
      "text/html": [
       "<div>                            <div id=\"cef69018-f037-49b9-89df-9cec90a2f82a\" class=\"plotly-graph-div\" style=\"height:525px; width:100%;\"></div>            <script type=\"text/javascript\">                require([\"plotly\"], function(Plotly) {                    window.PLOTLYENV=window.PLOTLYENV || {};                                    if (document.getElementById(\"cef69018-f037-49b9-89df-9cec90a2f82a\")) {                    Plotly.newPlot(                        \"cef69018-f037-49b9-89df-9cec90a2f82a\",                        [{\"hovertemplate\":\"UMAP_hooke_00_3=%{x}<br>UMAP_hooke_01_3=%{y}<br>UMAP_hooke_02_3=%{z}<br>predicted_stage_hpf=%{marker.color}<extra></extra>\",\"legendgroup\":\"\",\"marker\":{\"color\":[48.0,48.0,48.0,48.0,48.0,48.0,48.0,48.0,48.0,48.0,48.0,48.0,48.0,48.0,48.0,48.0,48.0,48.0,48.0,48.0,48.0,48.0,48.0,48.0,48.0,48.0,48.0,48.0,60.0,60.0,60.0,60.0,72.0,72.0,72.0,72.0,60.0,60.0,60.0,60.0,72.0,72.0,72.0,72.0,60.0,60.0,60.0,60.0,72.0,72.0,72.0,72.0,60.0,60.0,60.0,60.0,72.0,72.0,72.0,72.0,60.0,60.0,60.0,60.0,72.0,72.0,72.0,72.0,60.0,60.0,60.0,72.0,72.0,72.0,72.0,60.0,60.0,60.0,60.0,72.0,72.0,72.0,60.0,60.0,60.0,60.0,72.0,72.0,72.0,72.0,48.0,48.0,48.0,24.0,24.0,48.0,48.0,48.0,48.0,48.0,48.0,24.0,48.0,48.0,24.0,48.0,48.0,48.0,24.0,48.0,48.0,48.0,24.0,48.0,48.0,48.0,24.0,48.0,48.0,24.0,60.0,60.0,60.0,48.0,72.0,72.0,72.0,60.0,60.0,60.0,48.0,72.0,72.0,72.0,72.0,60.0,60.0,48.0,72.0,72.0,60.0,60.0,48.0,72.0,72.0,72.0,60.0,60.0,60.0,60.0,48.0,72.0,72.0,72.0,60.0,60.0,60.0,48.0,72.0,72.0,72.0,60.0,60.0,60.0,48.0,72.0,72.0,72.0,60.0,60.0,48.0,72.0,72.0,72.0],\"coloraxis\":\"coloraxis\",\"opacity\":1,\"symbol\":\"circle\",\"line\":{\"color\":\"DarkSlateGrey\",\"width\":2},\"size\":7},\"mode\":\"markers\",\"name\":\"\",\"scene\":\"scene\",\"showlegend\":false,\"x\":[13.292174,13.305437,12.286528,12.877974,13.295934,14.256061,12.089639,12.797462,13.755331,13.334316,12.0228615,12.914015,13.236151,13.205227,12.108326,12.861817,13.8230915,14.246836,11.944588,12.77648,13.956982,12.032045,12.867115,12.141294,13.053007,14.199878,12.211592,12.87104,15.365539,15.636905,15.584575,17.910732,9.626239,10.098592,9.990176,9.499134,15.808278,15.455971,15.793318,17.772182,10.576498,8.908661,9.784709,9.458613,15.801746,15.856234,15.668521,17.77046,8.970035,9.016842,9.950774,9.384375,10.909352,15.641212,15.717899,11.004248,8.987577,9.870324,10.521115,10.594316,10.99194,10.921147,10.784782,17.713858,9.458634,9.025038,9.87504,9.353983,15.620426,10.908327,17.876429,9.255738,10.4186325,10.1400385,9.577666,11.022275,15.606818,15.614556,17.661144,10.511289,9.092684,9.409471,15.715881,15.471368,15.671328,17.894903,9.301951,9.139588,9.887674,9.474775,-3.270507,-3.3600261,13.012533,4.971718,4.7844625,-3.51444,-3.107007,13.0602865,-3.4221203,-3.167362,13.02115,4.8811727,-3.2064874,13.110608,4.698205,-3.0605786,-3.4636257,13.106889,4.6516943,-3.161526,-3.1435914,13.198739,4.8076262,-3.1890898,-3.4044955,13.084359,4.640381,-3.1284752,13.130896,4.6427884,21.703114,22.593018,18.504496,5.7887535,6.46674,7.232598,9.052309,21.813526,22.455885,18.431528,5.993543,6.9557447,6.5483327,8.976395,7.0978255,21.818565,18.325092,5.997774,7.1629252,9.051837,21.644573,18.521084,5.8910575,7.0186806,6.5411854,8.98791,21.769745,22.496088,22.492077,18.315208,5.9405355,7.2235518,6.674154,8.990659,22.45545,22.09752,18.277893,5.9229946,6.649443,7.3523335,9.174224,21.654459,22.230505,18.430527,6.032182,6.5100975,6.921312,9.270412,22.055748,18.492815,5.8975916,6.4711175,6.868714,9.247391],\"y\":[8.045684,7.8918595,8.722249,7.417014,7.9241095,7.497188,8.748684,7.285392,7.7375107,7.9503675,8.821037,7.4084373,7.8498797,8.081196,8.742707,7.2559648,7.691095,7.5213857,8.880392,7.1970463,7.6228743,8.798981,7.365319,8.717594,7.681411,7.45282,8.769173,7.3808646,9.397553,9.498635,8.656884,8.551662,12.706289,12.972543,12.363834,13.277976,9.464592,9.289569,8.450336,8.695998,13.0949335,12.353934,12.273924,13.271308,9.34452,9.571277,8.595229,8.714984,12.202656,12.347217,12.374682,13.386522,13.097236,9.596752,8.546656,13.00013,12.388079,12.830276,12.860351,13.012103,12.968304,12.860974,12.6976,8.75184,12.632447,12.402559,12.281024,13.437859,9.414549,12.563428,8.51119,12.226968,12.937863,12.5837145,13.184822,12.809595,9.458678,8.635102,8.82242,13.081727,12.374916,13.34545,9.336512,9.285143,8.6002865,8.598256,12.192195,12.29314,12.263032,13.282223,7.9278574,7.8080153,6.6386833,-5.5359497,-5.752328,7.463451,8.08219,6.6155186,7.524183,8.008384,6.7875223,-5.5776215,7.662678,6.723414,-5.683065,8.113301,7.460033,6.7503567,-5.7745104,7.725244,8.033367,6.6555624,-5.665338,7.427995,7.5949006,6.6752343,-5.6889405,8.008872,6.810025,-5.7639446,4.0301476,4.164208,8.492248,-5.021933,15.727231,15.365631,14.130764,3.918967,3.9671881,8.431131,-5.121466,15.658888,15.714758,14.179466,15.481701,3.9469786,8.32005,-5.2789507,15.410589,14.118671,4.0345817,8.440755,-5.193396,15.581214,15.675702,14.165227,4.053281,4.019652,4.0647473,8.32384,-5.235079,15.255223,15.741638,14.029317,3.8842943,3.7656803,8.158211,-5.1667757,15.484332,15.149698,14.047214,3.9844813,3.9124045,8.355349,-5.319506,15.627398,15.643564,14.050337,3.7597463,8.484469,-5.1905127,15.723268,15.568093,13.967638],\"z\":[0.3116706,0.13502787,1.3469874,-1.073803,0.16682935,0.21147427,1.5643543,-1.258629,0.28167644,0.20142111,1.6339489,-0.98509175,0.108825386,0.31735963,1.5477269,-1.3827913,0.2647661,0.26119426,1.7142305,-1.3002797,0.28861907,1.6242448,-1.1629303,1.5136346,-0.4981002,0.23732926,1.4319655,-1.1325362,14.673777,14.809739,13.04931,13.26197,2.831914,2.8694584,3.593685,4.5105224,14.57316,14.536869,13.261182,13.177095,2.805889,2.1577842,3.7921257,4.1576395,14.564709,14.761883,13.111854,13.150101,2.1558506,2.2343554,3.5915942,4.7252846,2.8245974,14.653829,13.18049,2.9209447,2.2177167,2.9618208,3.0422893,2.884559,2.9345305,3.0041273,3.0554266,13.224117,2.7140164,2.2552059,3.787813,4.4943037,14.64903,3.206567,13.271298,2.4273317,2.9352171,3.365249,4.7967606,3.024884,14.761792,13.072235,13.193304,2.8195343,2.3558166,4.6579313,14.559654,14.537208,13.10963,13.198455,2.3787322,2.3354828,3.70079,4.6070547,-0.16708119,-0.18309866,-2.9068606,5.0446506,4.851619,-0.035299573,-0.10083615,-2.927893,0.015821904,-0.096279025,-2.7575846,4.9485426,-0.11541436,-2.8117404,4.7653847,-0.14606047,0.025830597,-2.773884,4.7184978,-0.28765377,-0.07936594,-2.8531427,4.8765473,-0.19026929,-0.09058803,-2.84885,4.7078094,-0.17480303,-2.702929,4.710026,10.556174,10.545038,12.901475,6.0121107,2.2500973,2.479498,4.8129606,10.544911,10.71604,12.965665,6.2201276,2.4280019,2.2721655,4.7648206,2.3151712,10.506548,13.056193,6.2259874,2.3988962,4.8278956,10.423124,12.8885145,6.119495,2.4064121,2.208021,4.8666887,10.587012,10.592696,10.518885,13.040529,6.169733,2.3868058,2.292546,4.76485,10.747551,10.618873,13.050098,6.150116,2.4013877,2.3907385,4.977833,10.449497,10.5416765,12.950804,6.2608786,2.33061,2.33653,5.063392,10.52557,12.914406,6.1249714,2.2543294,2.3222814,5.0315876],\"type\":\"scatter3d\"}],                        {\"template\":{\"data\":{\"histogram2dcontour\":[{\"type\":\"histogram2dcontour\",\"colorbar\":{\"outlinewidth\":0,\"ticks\":\"\"},\"colorscale\":[[0.0,\"#0d0887\"],[0.1111111111111111,\"#46039f\"],[0.2222222222222222,\"#7201a8\"],[0.3333333333333333,\"#9c179e\"],[0.4444444444444444,\"#bd3786\"],[0.5555555555555556,\"#d8576b\"],[0.6666666666666666,\"#ed7953\"],[0.7777777777777778,\"#fb9f3a\"],[0.8888888888888888,\"#fdca26\"],[1.0,\"#f0f921\"]]}],\"choropleth\":[{\"type\":\"choropleth\",\"colorbar\":{\"outlinewidth\":0,\"ticks\":\"\"}}],\"histogram2d\":[{\"type\":\"histogram2d\",\"colorbar\":{\"outlinewidth\":0,\"ticks\":\"\"},\"colorscale\":[[0.0,\"#0d0887\"],[0.1111111111111111,\"#46039f\"],[0.2222222222222222,\"#7201a8\"],[0.3333333333333333,\"#9c179e\"],[0.4444444444444444,\"#bd3786\"],[0.5555555555555556,\"#d8576b\"],[0.6666666666666666,\"#ed7953\"],[0.7777777777777778,\"#fb9f3a\"],[0.8888888888888888,\"#fdca26\"],[1.0,\"#f0f921\"]]}],\"heatmap\":[{\"type\":\"heatmap\",\"colorbar\":{\"outlinewidth\":0,\"ticks\":\"\"},\"colorscale\":[[0.0,\"#0d0887\"],[0.1111111111111111,\"#46039f\"],[0.2222222222222222,\"#7201a8\"],[0.3333333333333333,\"#9c179e\"],[0.4444444444444444,\"#bd3786\"],[0.5555555555555556,\"#d8576b\"],[0.6666666666666666,\"#ed7953\"],[0.7777777777777778,\"#fb9f3a\"],[0.8888888888888888,\"#fdca26\"],[1.0,\"#f0f921\"]]}],\"heatmapgl\":[{\"type\":\"heatmapgl\",\"colorbar\":{\"outlinewidth\":0,\"ticks\":\"\"},\"colorscale\":[[0.0,\"#0d0887\"],[0.1111111111111111,\"#46039f\"],[0.2222222222222222,\"#7201a8\"],[0.3333333333333333,\"#9c179e\"],[0.4444444444444444,\"#bd3786\"],[0.5555555555555556,\"#d8576b\"],[0.6666666666666666,\"#ed7953\"],[0.7777777777777778,\"#fb9f3a\"],[0.8888888888888888,\"#fdca26\"],[1.0,\"#f0f921\"]]}],\"contourcarpet\":[{\"type\":\"contourcarpet\",\"colorbar\":{\"outlinewidth\":0,\"ticks\":\"\"}}],\"contour\":[{\"type\":\"contour\",\"colorbar\":{\"outlinewidth\":0,\"ticks\":\"\"},\"colorscale\":[[0.0,\"#0d0887\"],[0.1111111111111111,\"#46039f\"],[0.2222222222222222,\"#7201a8\"],[0.3333333333333333,\"#9c179e\"],[0.4444444444444444,\"#bd3786\"],[0.5555555555555556,\"#d8576b\"],[0.6666666666666666,\"#ed7953\"],[0.7777777777777778,\"#fb9f3a\"],[0.8888888888888888,\"#fdca26\"],[1.0,\"#f0f921\"]]}],\"surface\":[{\"type\":\"surface\",\"colorbar\":{\"outlinewidth\":0,\"ticks\":\"\"},\"colorscale\":[[0.0,\"#0d0887\"],[0.1111111111111111,\"#46039f\"],[0.2222222222222222,\"#7201a8\"],[0.3333333333333333,\"#9c179e\"],[0.4444444444444444,\"#bd3786\"],[0.5555555555555556,\"#d8576b\"],[0.6666666666666666,\"#ed7953\"],[0.7777777777777778,\"#fb9f3a\"],[0.8888888888888888,\"#fdca26\"],[1.0,\"#f0f921\"]]}],\"mesh3d\":[{\"type\":\"mesh3d\",\"colorbar\":{\"outlinewidth\":0,\"ticks\":\"\"}}],\"scatter\":[{\"fillpattern\":{\"fillmode\":\"overlay\",\"size\":10,\"solidity\":0.2},\"type\":\"scatter\"}],\"parcoords\":[{\"type\":\"parcoords\",\"line\":{\"colorbar\":{\"outlinewidth\":0,\"ticks\":\"\"}}}],\"scatterpolargl\":[{\"type\":\"scatterpolargl\",\"marker\":{\"colorbar\":{\"outlinewidth\":0,\"ticks\":\"\"}}}],\"bar\":[{\"error_x\":{\"color\":\"#2a3f5f\"},\"error_y\":{\"color\":\"#2a3f5f\"},\"marker\":{\"line\":{\"color\":\"#E5ECF6\",\"width\":0.5},\"pattern\":{\"fillmode\":\"overlay\",\"size\":10,\"solidity\":0.2}},\"type\":\"bar\"}],\"scattergeo\":[{\"type\":\"scattergeo\",\"marker\":{\"colorbar\":{\"outlinewidth\":0,\"ticks\":\"\"}}}],\"scatterpolar\":[{\"type\":\"scatterpolar\",\"marker\":{\"colorbar\":{\"outlinewidth\":0,\"ticks\":\"\"}}}],\"histogram\":[{\"marker\":{\"pattern\":{\"fillmode\":\"overlay\",\"size\":10,\"solidity\":0.2}},\"type\":\"histogram\"}],\"scattergl\":[{\"type\":\"scattergl\",\"marker\":{\"colorbar\":{\"outlinewidth\":0,\"ticks\":\"\"}}}],\"scatter3d\":[{\"type\":\"scatter3d\",\"line\":{\"colorbar\":{\"outlinewidth\":0,\"ticks\":\"\"}},\"marker\":{\"colorbar\":{\"outlinewidth\":0,\"ticks\":\"\"}}}],\"scattermapbox\":[{\"type\":\"scattermapbox\",\"marker\":{\"colorbar\":{\"outlinewidth\":0,\"ticks\":\"\"}}}],\"scatterternary\":[{\"type\":\"scatterternary\",\"marker\":{\"colorbar\":{\"outlinewidth\":0,\"ticks\":\"\"}}}],\"scattercarpet\":[{\"type\":\"scattercarpet\",\"marker\":{\"colorbar\":{\"outlinewidth\":0,\"ticks\":\"\"}}}],\"carpet\":[{\"aaxis\":{\"endlinecolor\":\"#2a3f5f\",\"gridcolor\":\"white\",\"linecolor\":\"white\",\"minorgridcolor\":\"white\",\"startlinecolor\":\"#2a3f5f\"},\"baxis\":{\"endlinecolor\":\"#2a3f5f\",\"gridcolor\":\"white\",\"linecolor\":\"white\",\"minorgridcolor\":\"white\",\"startlinecolor\":\"#2a3f5f\"},\"type\":\"carpet\"}],\"table\":[{\"cells\":{\"fill\":{\"color\":\"#EBF0F8\"},\"line\":{\"color\":\"white\"}},\"header\":{\"fill\":{\"color\":\"#C8D4E3\"},\"line\":{\"color\":\"white\"}},\"type\":\"table\"}],\"barpolar\":[{\"marker\":{\"line\":{\"color\":\"#E5ECF6\",\"width\":0.5},\"pattern\":{\"fillmode\":\"overlay\",\"size\":10,\"solidity\":0.2}},\"type\":\"barpolar\"}],\"pie\":[{\"automargin\":true,\"type\":\"pie\"}]},\"layout\":{\"autotypenumbers\":\"strict\",\"colorway\":[\"#636efa\",\"#EF553B\",\"#00cc96\",\"#ab63fa\",\"#FFA15A\",\"#19d3f3\",\"#FF6692\",\"#B6E880\",\"#FF97FF\",\"#FECB52\"],\"font\":{\"color\":\"#2a3f5f\"},\"hovermode\":\"closest\",\"hoverlabel\":{\"align\":\"left\"},\"paper_bgcolor\":\"white\",\"plot_bgcolor\":\"#E5ECF6\",\"polar\":{\"bgcolor\":\"#E5ECF6\",\"angularaxis\":{\"gridcolor\":\"white\",\"linecolor\":\"white\",\"ticks\":\"\"},\"radialaxis\":{\"gridcolor\":\"white\",\"linecolor\":\"white\",\"ticks\":\"\"}},\"ternary\":{\"bgcolor\":\"#E5ECF6\",\"aaxis\":{\"gridcolor\":\"white\",\"linecolor\":\"white\",\"ticks\":\"\"},\"baxis\":{\"gridcolor\":\"white\",\"linecolor\":\"white\",\"ticks\":\"\"},\"caxis\":{\"gridcolor\":\"white\",\"linecolor\":\"white\",\"ticks\":\"\"}},\"coloraxis\":{\"colorbar\":{\"outlinewidth\":0,\"ticks\":\"\"}},\"colorscale\":{\"sequential\":[[0.0,\"#0d0887\"],[0.1111111111111111,\"#46039f\"],[0.2222222222222222,\"#7201a8\"],[0.3333333333333333,\"#9c179e\"],[0.4444444444444444,\"#bd3786\"],[0.5555555555555556,\"#d8576b\"],[0.6666666666666666,\"#ed7953\"],[0.7777777777777778,\"#fb9f3a\"],[0.8888888888888888,\"#fdca26\"],[1.0,\"#f0f921\"]],\"sequentialminus\":[[0.0,\"#0d0887\"],[0.1111111111111111,\"#46039f\"],[0.2222222222222222,\"#7201a8\"],[0.3333333333333333,\"#9c179e\"],[0.4444444444444444,\"#bd3786\"],[0.5555555555555556,\"#d8576b\"],[0.6666666666666666,\"#ed7953\"],[0.7777777777777778,\"#fb9f3a\"],[0.8888888888888888,\"#fdca26\"],[1.0,\"#f0f921\"]],\"diverging\":[[0,\"#8e0152\"],[0.1,\"#c51b7d\"],[0.2,\"#de77ae\"],[0.3,\"#f1b6da\"],[0.4,\"#fde0ef\"],[0.5,\"#f7f7f7\"],[0.6,\"#e6f5d0\"],[0.7,\"#b8e186\"],[0.8,\"#7fbc41\"],[0.9,\"#4d9221\"],[1,\"#276419\"]]},\"xaxis\":{\"gridcolor\":\"white\",\"linecolor\":\"white\",\"ticks\":\"\",\"title\":{\"standoff\":15},\"zerolinecolor\":\"white\",\"automargin\":true,\"zerolinewidth\":2},\"yaxis\":{\"gridcolor\":\"white\",\"linecolor\":\"white\",\"ticks\":\"\",\"title\":{\"standoff\":15},\"zerolinecolor\":\"white\",\"automargin\":true,\"zerolinewidth\":2},\"scene\":{\"xaxis\":{\"backgroundcolor\":\"#E5ECF6\",\"gridcolor\":\"white\",\"linecolor\":\"white\",\"showbackground\":true,\"ticks\":\"\",\"zerolinecolor\":\"white\",\"gridwidth\":2},\"yaxis\":{\"backgroundcolor\":\"#E5ECF6\",\"gridcolor\":\"white\",\"linecolor\":\"white\",\"showbackground\":true,\"ticks\":\"\",\"zerolinecolor\":\"white\",\"gridwidth\":2},\"zaxis\":{\"backgroundcolor\":\"#E5ECF6\",\"gridcolor\":\"white\",\"linecolor\":\"white\",\"showbackground\":true,\"ticks\":\"\",\"zerolinecolor\":\"white\",\"gridwidth\":2}},\"shapedefaults\":{\"line\":{\"color\":\"#2a3f5f\"}},\"annotationdefaults\":{\"arrowcolor\":\"#2a3f5f\",\"arrowhead\":0,\"arrowwidth\":1},\"geo\":{\"bgcolor\":\"white\",\"landcolor\":\"#E5ECF6\",\"subunitcolor\":\"white\",\"showland\":true,\"showlakes\":true,\"lakecolor\":\"white\"},\"title\":{\"x\":0.05},\"mapbox\":{\"style\":\"light\"}}},\"scene\":{\"domain\":{\"x\":[0.0,1.0],\"y\":[0.0,1.0]},\"xaxis\":{\"title\":{\"text\":\"\"},\"showticklabels\":false},\"yaxis\":{\"title\":{\"text\":\"\"},\"showticklabels\":false},\"zaxis\":{\"title\":{\"text\":\"\"},\"showticklabels\":false},\"camera\":{\"eye\":{\"x\":0.8565230204571884,\"y\":1.8073096899609913,\"z\":1.0}},\"dragmode\":\"orbit\"},\"coloraxis\":{\"colorbar\":{\"title\":{\"text\":\"predicted_stage_hpf\"}},\"colorscale\":[[0.0,\"#0d0887\"],[0.1111111111111111,\"#46039f\"],[0.2222222222222222,\"#7201a8\"],[0.3333333333333333,\"#9c179e\"],[0.4444444444444444,\"#bd3786\"],[0.5555555555555556,\"#d8576b\"],[0.6666666666666666,\"#ed7953\"],[0.7777777777777778,\"#fb9f3a\"],[0.8888888888888888,\"#fdca26\"],[1.0,\"#f0f921\"]],\"showscale\":false},\"legend\":{\"tracegroupgap\":0,\"title\":{\"text\":\"stage (hpf)\"}},\"margin\":{\"t\":60},\"font\":{\"family\":\"Arial\",\"size\":14,\"color\":\"Black\"},\"showlegend\":false},                        {\"responsive\": true}                    ).then(function(){\n",
       "                            \n",
       "var gd = document.getElementById('cef69018-f037-49b9-89df-9cec90a2f82a');\n",
       "var x = new MutationObserver(function (mutations, observer) {{\n",
       "        var display = window.getComputedStyle(gd).display;\n",
       "        if (!display || display === 'none') {{\n",
       "            console.log([gd, 'removed!']);\n",
       "            Plotly.purge(gd);\n",
       "            observer.disconnect();\n",
       "        }}\n",
       "}});\n",
       "\n",
       "// Listen for the removal of the full notebook cells\n",
       "var notebookContainer = gd.closest('#notebook-container');\n",
       "if (notebookContainer) {{\n",
       "    x.observe(notebookContainer, {childList: true});\n",
       "}}\n",
       "\n",
       "// Listen for the clearing of the current output cell\n",
       "var outputEl = gd.closest('.output');\n",
       "if (outputEl) {{\n",
       "    x.observe(outputEl, {childList: true});\n",
       "}}\n",
       "\n",
       "                        })                };                });            </script>        </div>"
      ]
     },
     "metadata": {},
     "output_type": "display_data"
    }
   ],
   "source": [
    "angle_vec = np.linspace(1, 1+2*np.pi, 50)\n",
    "frame_dir = os.path.join(figure_dir, \"lmx_hooke_UMAP_stage_frames\", \"\")\n",
    "if not os.path.isdir(frame_dir):\n",
    "    os.makedirs(frame_dir)\n",
    "\n",
    "# make rotating plots\n",
    "\n",
    "hooke_fig2 = make_rotating_figure(angle_vec[:2], frame_dir, hooke_fig2, \"hooke_stage_\")\n",
    "hooke_fig2.show()"
   ]
  },
  {
   "cell_type": "markdown",
   "id": "483f23c1",
   "metadata": {},
   "source": [
    "## Latent space regression results"
   ]
  },
  {
   "cell_type": "code",
   "execution_count": 153,
   "id": "4cae9004",
   "metadata": {},
   "outputs": [],
   "source": [
    "Y_train_u = master_df_ref.loc[train_indices, [\"UMAP_00_bio_3\", \"UMAP_01_bio_3\", \"UMAP_02_bio_3\"]]\n",
    "Y_test_u = master_df_ref.loc[test_indices, [\"UMAP_00_bio_3\", \"UMAP_01_bio_3\", \"UMAP_02_bio_3\"]]\n",
    "\n",
    "X_train_u = master_df_ref.loc[train_indices, [\"UMAP_hooke_00_3\", \"UMAP_hooke_01_3\", \"UMAP_hooke_02_3\"]]\n",
    "X_test_u = master_df_ref.loc[test_indices, [\"UMAP_hooke_00_3\", \"UMAP_hooke_01_3\", \"UMAP_hooke_02_3\"]]"
   ]
  },
  {
   "cell_type": "code",
   "execution_count": 159,
   "id": "8f4b1fac",
   "metadata": {},
   "outputs": [
    {
     "name": "stdout",
     "output_type": "stream",
     "text": [
      "0.7165798387208518\n"
     ]
    }
   ],
   "source": [
    "regr_u = MLPRegressor(random_state=1, max_iter=5000, hidden_layer_sizes=(500,))\n",
    "regr_u.fit(X_train_u, Y_train_u)\n",
    "test_score = regr_u.score(X_test_u, Y_test_u)\n",
    "print(test_score)"
   ]
  },
  {
   "cell_type": "code",
   "execution_count": 175,
   "id": "b1876ada",
   "metadata": {},
   "outputs": [
    {
     "data": {
      "application/vnd.plotly.v1+json": {
       "config": {
        "plotlyServerURL": "https://plot.ly"
       },
       "data": [
        {
         "line": {
          "color": "DarkSlateGrey"
         },
         "marker": {
          "line": {
           "color": "DarkSlateGrey",
           "width": 2
          },
          "size": 1
         },
         "mode": "lines+markers",
         "showlegend": false,
         "type": "scatter3d",
         "x": [
          11.113815,
          12.482991062543608
         ],
         "y": [
          10.275453,
          10.004631585314542
         ],
         "z": [
          19.99639,
          21.319504825802333
         ]
        },
        {
         "line": {
          "color": "DarkSlateGrey"
         },
         "marker": {
          "line": {
           "color": "DarkSlateGrey",
           "width": 2
          },
          "size": 1
         },
         "mode": "lines+markers",
         "showlegend": false,
         "type": "scatter3d",
         "x": [
          13.193277,
          12.53002723163182
         ],
         "y": [
          9.613187,
          9.850936633574928
         ],
         "z": [
          21.984776,
          21.067068872810605
         ]
        },
        {
         "line": {
          "color": "DarkSlateGrey"
         },
         "marker": {
          "line": {
           "color": "DarkSlateGrey",
           "width": 2
          },
          "size": 1
         },
         "mode": "lines+markers",
         "showlegend": false,
         "type": "scatter3d",
         "x": [
          11.36551,
          12.45849393492836
         ],
         "y": [
          10.008437,
          9.992034390314734
         ],
         "z": [
          19.95813,
          21.279393627594338
         ]
        },
        {
         "line": {
          "color": "DarkSlateGrey"
         },
         "marker": {
          "line": {
           "color": "DarkSlateGrey",
           "width": 2
          },
          "size": 1
         },
         "mode": "lines+markers",
         "showlegend": false,
         "type": "scatter3d",
         "x": [
          12.275262,
          12.502442092868884
         ],
         "y": [
          9.9499035,
          9.797278632655201
         ],
         "z": [
          20.945478,
          20.97042205914776
         ]
        },
        {
         "line": {
          "color": "DarkSlateGrey"
         },
         "marker": {
          "line": {
           "color": "DarkSlateGrey",
           "width": 2
          },
          "size": 1
         },
         "mode": "lines+markers",
         "showlegend": false,
         "type": "scatter3d",
         "x": [
          11.465577,
          12.515973444836451
         ],
         "y": [
          9.634446,
          10.085133913551385
         ],
         "z": [
          20.000305,
          21.460969541628504
         ]
        },
        {
         "line": {
          "color": "DarkSlateGrey"
         },
         "marker": {
          "line": {
           "color": "DarkSlateGrey",
           "width": 2
          },
          "size": 1
         },
         "mode": "lines+markers",
         "showlegend": false,
         "type": "scatter3d",
         "x": [
          11.397931,
          12.480891630016139
         ],
         "y": [
          9.302566,
          10.011774046765513
         ],
         "z": [
          20.424665,
          21.321995587131337
         ]
        },
        {
         "line": {
          "color": "DarkSlateGrey"
         },
         "marker": {
          "line": {
           "color": "DarkSlateGrey",
           "width": 2
          },
          "size": 1
         },
         "mode": "lines+markers",
         "showlegend": false,
         "type": "scatter3d",
         "x": [
          9.014369,
          12.527631299024424
         ],
         "y": [
          10.452098,
          10.097800215049267
         ],
         "z": [
          19.482859,
          21.489063802552206
         ]
        },
        {
         "line": {
          "color": "DarkSlateGrey"
         },
         "marker": {
          "line": {
           "color": "DarkSlateGrey",
           "width": 2
          },
          "size": 1
         },
         "mode": "lines+markers",
         "showlegend": false,
         "type": "scatter3d",
         "x": [
          10.445036,
          12.640444391994405
         ],
         "y": [
          10.473545,
          10.204799784240643
         ],
         "z": [
          19.699467,
          21.724839318733675
         ]
        },
        {
         "line": {
          "color": "DarkSlateGrey"
         },
         "marker": {
          "line": {
           "color": "DarkSlateGrey",
           "width": 2
          },
          "size": 1
         },
         "mode": "lines+markers",
         "showlegend": false,
         "type": "scatter3d",
         "x": [
          13.084762,
          11.940691775286725
         ],
         "y": [
          10.21043,
          9.352846157434865
         ],
         "z": [
          21.951578,
          20.145409263479365
         ]
        },
        {
         "line": {
          "color": "DarkSlateGrey"
         },
         "marker": {
          "line": {
           "color": "DarkSlateGrey",
           "width": 2
          },
          "size": 1
         },
         "mode": "lines+markers",
         "showlegend": false,
         "type": "scatter3d",
         "x": [
          12.5729265,
          12.537889286689099
         ],
         "y": [
          10.514854,
          9.842975644656342
         ],
         "z": [
          21.400473,
          21.057614161793786
         ]
        },
        {
         "line": {
          "color": "DarkSlateGrey"
         },
         "marker": {
          "line": {
           "color": "DarkSlateGrey",
           "width": 2
          },
          "size": 1
         },
         "mode": "lines+markers",
         "showlegend": false,
         "type": "scatter3d",
         "x": [
          12.530627,
          12.080757897899067
         ],
         "y": [
          9.953819,
          9.51606505616264
         ],
         "z": [
          21.343512,
          20.44666681156137
         ]
        },
        {
         "line": {
          "color": "DarkSlateGrey"
         },
         "marker": {
          "line": {
           "color": "DarkSlateGrey",
           "width": 2
          },
          "size": 1
         },
         "mode": "lines+markers",
         "showlegend": false,
         "type": "scatter3d",
         "x": [
          10.542673,
          12.145492997406327
         ],
         "y": [
          8.764806,
          9.568306589074865
         ],
         "z": [
          20.817991,
          21.295929115273506
         ]
        },
        {
         "line": {
          "color": "DarkSlateGrey"
         },
         "marker": {
          "line": {
           "color": "DarkSlateGrey",
           "width": 2
          },
          "size": 1
         },
         "mode": "lines+markers",
         "showlegend": false,
         "type": "scatter3d",
         "x": [
          14.357714,
          12.887482072298162
         ],
         "y": [
          9.182938,
          8.829610849701513
         ],
         "z": [
          22.392056,
          20.50432959600432
         ]
        },
        {
         "line": {
          "color": "DarkSlateGrey"
         },
         "marker": {
          "line": {
           "color": "DarkSlateGrey",
           "width": 2
          },
          "size": 1
         },
         "mode": "lines+markers",
         "showlegend": false,
         "type": "scatter3d",
         "x": [
          11.568377,
          12.401340976124974
         ],
         "y": [
          9.057268,
          9.64949035945086
         ],
         "z": [
          20.262426,
          21.520488467239364
         ]
        },
        {
         "line": {
          "color": "DarkSlateGrey"
         },
         "marker": {
          "line": {
           "color": "DarkSlateGrey",
           "width": 2
          },
          "size": 1
         },
         "mode": "lines+markers",
         "showlegend": false,
         "type": "scatter3d",
         "x": [
          9.571724,
          12.543754635279768
         ],
         "y": [
          9.554189,
          9.780108465012226
         ],
         "z": [
          20.006601,
          21.80832982098822
         ]
        },
        {
         "line": {
          "color": "DarkSlateGrey"
         },
         "marker": {
          "line": {
           "color": "DarkSlateGrey",
           "width": 2
          },
          "size": 1
         },
         "mode": "lines+markers",
         "showlegend": false,
         "type": "scatter3d",
         "x": [
          10.783549,
          11.208657888249295
         ],
         "y": [
          7.9557395,
          8.566298491665396
         ],
         "z": [
          20.717484,
          20.053364750904993
         ]
        },
        {
         "line": {
          "color": "DarkSlateGrey"
         },
         "marker": {
          "line": {
           "color": "DarkSlateGrey",
           "width": 2
          },
          "size": 1
         },
         "mode": "lines+markers",
         "showlegend": false,
         "type": "scatter3d",
         "x": [
          14.246235,
          12.885160070889022
         ],
         "y": [
          9.57484,
          8.985059771661001
         ],
         "z": [
          22.520487,
          20.762531992101295
         ]
        },
        {
         "line": {
          "color": "DarkSlateGrey"
         },
         "marker": {
          "line": {
           "color": "DarkSlateGrey",
           "width": 2
          },
          "size": 1
         },
         "mode": "lines+markers",
         "showlegend": false,
         "type": "scatter3d",
         "x": [
          13.779974,
          12.25454192175661
         ],
         "y": [
          9.684966,
          9.043484668173573
         ],
         "z": [
          22.073275,
          20.355868012206283
         ]
        },
        {
         "line": {
          "color": "DarkSlateGrey"
         },
         "marker": {
          "line": {
           "color": "DarkSlateGrey",
           "width": 2
          },
          "size": 1
         },
         "mode": "lines+markers",
         "showlegend": false,
         "type": "scatter3d",
         "x": [
          11.403646,
          12.450628481071977
         ],
         "y": [
          8.426901,
          9.103630578769923
         ],
         "z": [
          20.466372,
          21.160928007479747
         ]
        },
        {
         "line": {
          "color": "DarkSlateGrey"
         },
         "marker": {
          "line": {
           "color": "DarkSlateGrey",
           "width": 2
          },
          "size": 1
         },
         "mode": "lines+markers",
         "showlegend": false,
         "type": "scatter3d",
         "x": [
          14.87136,
          12.923612352214274
         ],
         "y": [
          9.443645,
          9.500403142917238
         ],
         "z": [
          22.199211,
          21.74022906691685
         ]
        },
        {
         "line": {
          "color": "DarkSlateGrey"
         },
         "marker": {
          "line": {
           "color": "DarkSlateGrey",
           "width": 2
          },
          "size": 1
         },
         "mode": "lines+markers",
         "showlegend": false,
         "type": "scatter3d",
         "x": [
          14.110971,
          12.88079015443888
         ],
         "y": [
          9.530474,
          9.595574191235213
         ],
         "z": [
          22.583776,
          21.95509812328525
         ]
        },
        {
         "line": {
          "color": "DarkSlateGrey"
         },
         "marker": {
          "line": {
           "color": "DarkSlateGrey",
           "width": 2
          },
          "size": 1
         },
         "mode": "lines+markers",
         "showlegend": false,
         "type": "scatter3d",
         "x": [
          11.317299,
          13.130731020096285
         ],
         "y": [
          9.487897,
          9.75309441463724
         ],
         "z": [
          21.053545,
          22.093431595162595
         ]
        },
        {
         "line": {
          "color": "DarkSlateGrey"
         },
         "marker": {
          "line": {
           "color": "DarkSlateGrey",
           "width": 2
          },
          "size": 1
         },
         "mode": "lines+markers",
         "showlegend": false,
         "type": "scatter3d",
         "x": [
          13.648256,
          13.665690862496318
         ],
         "y": [
          8.506605,
          9.418404584664625
         ],
         "z": [
          19.963802,
          21.52519867501288
         ]
        },
        {
         "line": {
          "color": "DarkSlateGrey"
         },
         "marker": {
          "line": {
           "color": "DarkSlateGrey",
           "width": 2
          },
          "size": 1
         },
         "mode": "lines+markers",
         "showlegend": false,
         "type": "scatter3d",
         "x": [
          9.387027,
          11.244786183673085
         ],
         "y": [
          9.537378,
          8.580797178791185
         ],
         "z": [
          19.789116,
          20.108445984763673
         ]
        },
        {
         "line": {
          "color": "DarkSlateGrey"
         },
         "marker": {
          "line": {
           "color": "DarkSlateGrey",
           "width": 2
          },
          "size": 1
         },
         "mode": "lines+markers",
         "showlegend": false,
         "type": "scatter3d",
         "x": [
          14.841174,
          12.920687038947857
         ],
         "y": [
          9.16361,
          8.881125025851613
         ],
         "z": [
          21.887238,
          20.58391130212223
         ]
        },
        {
         "line": {
          "color": "DarkSlateGrey"
         },
         "marker": {
          "line": {
           "color": "DarkSlateGrey",
           "width": 2
          },
          "size": 1
         },
         "mode": "lines+markers",
         "showlegend": false,
         "type": "scatter3d",
         "x": [
          11.01177,
          12.308734365706401
         ],
         "y": [
          8.816903,
          9.663046736567136
         ],
         "z": [
          20.147186,
          21.520442741927784
         ]
        },
        {
         "line": {
          "color": "DarkSlateGrey"
         },
         "marker": {
          "line": {
           "color": "DarkSlateGrey",
           "width": 2
          },
          "size": 1
         },
         "mode": "lines+markers",
         "showlegend": false,
         "type": "scatter3d",
         "x": [
          11.611861,
          11.482527652730326
         ],
         "y": [
          8.592716,
          8.661345317066155
         ],
         "z": [
          21.65834,
          20.13436779921281
         ]
        },
        {
         "line": {
          "color": "DarkSlateGrey"
         },
         "marker": {
          "line": {
           "color": "DarkSlateGrey",
           "width": 2
          },
          "size": 1
         },
         "mode": "lines+markers",
         "showlegend": false,
         "type": "scatter3d",
         "x": [
          10.9997635,
          11.361412287560583
         ],
         "y": [
          7.823455,
          8.602999648723648
         ],
         "z": [
          20.991306,
          20.134278922891713
         ]
        },
        {
         "line": {
          "color": "DarkSlateGrey"
         },
         "marker": {
          "line": {
           "color": "DarkSlateGrey",
           "width": 2
          },
          "size": 1
         },
         "mode": "lines+markers",
         "showlegend": false,
         "type": "scatter3d",
         "x": [
          13.384659,
          12.341494903263944
         ],
         "y": [
          9.57302,
          9.631862997400416
         ],
         "z": [
          20.477922,
          21.470419265611586
         ]
        },
        {
         "line": {
          "color": "DarkSlateGrey"
         },
         "marker": {
          "line": {
           "color": "DarkSlateGrey",
           "width": 2
          },
          "size": 1
         },
         "mode": "lines+markers",
         "showlegend": false,
         "type": "scatter3d",
         "x": [
          12.761199,
          13.658238201043925
         ],
         "y": [
          10.722335,
          9.382882013807844
         ],
         "z": [
          21.47465,
          21.4698520498003
         ]
        },
        {
         "line": {
          "color": "DarkSlateGrey"
         },
         "marker": {
          "line": {
           "color": "DarkSlateGrey",
           "width": 2
          },
          "size": 1
         },
         "mode": "lines+markers",
         "showlegend": false,
         "type": "scatter3d",
         "x": [
          11.004806,
          11.463265612486532
         ],
         "y": [
          7.781951,
          8.688295124666658
         ],
         "z": [
          21.091736,
          20.1470620296637
         ]
        },
        {
         "line": {
          "color": "DarkSlateGrey"
         },
         "marker": {
          "line": {
           "color": "DarkSlateGrey",
           "width": 2
          },
          "size": 1
         },
         "mode": "lines+markers",
         "showlegend": false,
         "type": "scatter3d",
         "x": [
          13.4673395,
          12.890213542679247
         ],
         "y": [
          7.4712152,
          8.906063378229117
         ],
         "z": [
          20.080341,
          20.596436465740123
         ]
        },
        {
         "line": {
          "color": "DarkSlateGrey"
         },
         "marker": {
          "line": {
           "color": "DarkSlateGrey",
           "width": 2
          },
          "size": 1
         },
         "mode": "lines+markers",
         "showlegend": false,
         "type": "scatter3d",
         "x": [
          11.276823,
          11.207448619148852
         ],
         "y": [
          10.3449135,
          10.148061898700817
         ],
         "z": [
          19.9917,
          20.623728759202265
         ]
        },
        {
         "line": {
          "color": "DarkSlateGrey"
         },
         "marker": {
          "line": {
           "color": "DarkSlateGrey",
           "width": 2
          },
          "size": 1
         },
         "mode": "lines+markers",
         "showlegend": false,
         "type": "scatter3d",
         "x": [
          2.7155824,
          2.471670227292634
         ],
         "y": [
          6.9326477,
          6.905503937850509
         ],
         "z": [
          13.220984,
          13.231705363629224
         ]
        },
        {
         "line": {
          "color": "DarkSlateGrey"
         },
         "marker": {
          "line": {
           "color": "DarkSlateGrey",
           "width": 2
          },
          "size": 1
         },
         "mode": "lines+markers",
         "showlegend": false,
         "type": "scatter3d",
         "x": [
          11.280384,
          12.542644371241543
         ],
         "y": [
          9.838772,
          9.839248187273945
         ],
         "z": [
          19.8221,
          21.33042618485169
         ]
        },
        {
         "line": {
          "color": "DarkSlateGrey"
         },
         "marker": {
          "line": {
           "color": "DarkSlateGrey",
           "width": 2
          },
          "size": 1
         },
         "mode": "lines+markers",
         "showlegend": false,
         "type": "scatter3d",
         "x": [
          11.736194,
          12.550598912770235
         ],
         "y": [
          9.50602,
          9.861251184678846
         ],
         "z": [
          21.270308,
          21.361928977249537
         ]
        },
        {
         "line": {
          "color": "DarkSlateGrey"
         },
         "marker": {
          "line": {
           "color": "DarkSlateGrey",
           "width": 2
          },
          "size": 1
         },
         "mode": "lines+markers",
         "showlegend": false,
         "type": "scatter3d",
         "x": [
          10.918215,
          10.898517759387392
         ],
         "y": [
          10.162161,
          9.853340288347507
         ],
         "z": [
          19.87842,
          20.075685799736462
         ]
        },
        {
         "line": {
          "color": "DarkSlateGrey"
         },
         "marker": {
          "line": {
           "color": "DarkSlateGrey",
           "width": 2
          },
          "size": 1
         },
         "mode": "lines+markers",
         "showlegend": false,
         "type": "scatter3d",
         "x": [
          2.347755,
          2.458726477562794
         ],
         "y": [
          6.7369547,
          6.818162112047188
         ],
         "z": [
          13.09614,
          13.086472615414046
         ]
        },
        {
         "line": {
          "color": "DarkSlateGrey"
         },
         "marker": {
          "line": {
           "color": "DarkSlateGrey",
           "width": 2
          },
          "size": 1
         },
         "mode": "lines+markers",
         "showlegend": false,
         "type": "scatter3d",
         "x": [
          10.495303,
          11.358456258754856
         ],
         "y": [
          9.104143,
          10.112221515615609
         ],
         "z": [
          20.849371,
          20.71153064383822
         ]
        },
        {
         "line": {
          "color": "DarkSlateGrey"
         },
         "marker": {
          "line": {
           "color": "DarkSlateGrey",
           "width": 2
          },
          "size": 1
         },
         "mode": "lines+markers",
         "showlegend": false,
         "type": "scatter3d",
         "x": [
          13.209538,
          12.61071924321136
         ],
         "y": [
          9.215751,
          9.897109171073058
         ],
         "z": [
          20.435629,
          21.42741135350219
         ]
        },
        {
         "line": {
          "color": "DarkSlateGrey"
         },
         "marker": {
          "line": {
           "color": "DarkSlateGrey",
           "width": 2
          },
          "size": 1
         },
         "mode": "lines+markers",
         "showlegend": false,
         "type": "scatter3d",
         "x": [
          2.5718184,
          2.4976462099075762
         ],
         "y": [
          7.092851,
          6.8597219310909585
         ],
         "z": [
          13.154282,
          13.208095204745185
         ]
        },
        {
         "line": {
          "color": "DarkSlateGrey"
         },
         "marker": {
          "line": {
           "color": "DarkSlateGrey",
           "width": 2
          },
          "size": 1
         },
         "mode": "lines+markers",
         "showlegend": false,
         "type": "scatter3d",
         "x": [
          10.888228,
          11.184828144316356
         ],
         "y": [
          10.450801,
          9.999884971735924
         ],
         "z": [
          20.074379,
          20.33939696755589
         ]
        },
        {
         "line": {
          "color": "DarkSlateGrey"
         },
         "marker": {
          "line": {
           "color": "DarkSlateGrey",
           "width": 2
          },
          "size": 1
         },
         "mode": "lines+markers",
         "showlegend": false,
         "type": "scatter3d",
         "x": [
          11.481734,
          11.216278113908036
         ],
         "y": [
          10.248935,
          10.064313909966566
         ],
         "z": [
          20.07151,
          20.598864077031262
         ]
        },
        {
         "line": {
          "color": "DarkSlateGrey"
         },
         "marker": {
          "line": {
           "color": "DarkSlateGrey",
           "width": 2
          },
          "size": 1
         },
         "mode": "lines+markers",
         "showlegend": false,
         "type": "scatter3d",
         "x": [
          13.456529,
          12.66116366880005
         ],
         "y": [
          9.0321665,
          9.921279520159322
         ],
         "z": [
          20.202145,
          21.47737298343588
         ]
        },
        {
         "line": {
          "color": "DarkSlateGrey"
         },
         "marker": {
          "line": {
           "color": "DarkSlateGrey",
           "width": 2
          },
          "size": 1
         },
         "mode": "lines+markers",
         "showlegend": false,
         "type": "scatter3d",
         "x": [
          11.04935,
          10.746996420676313
         ],
         "y": [
          10.404863,
          9.712600204597184
         ],
         "z": [
          20.23692,
          19.731620915505165
         ]
        },
        {
         "line": {
          "color": "DarkSlateGrey"
         },
         "marker": {
          "line": {
           "color": "DarkSlateGrey",
           "width": 2
          },
          "size": 1
         },
         "mode": "lines+markers",
         "showlegend": false,
         "type": "scatter3d",
         "x": [
          10.8213,
          10.872115116037639
         ],
         "y": [
          10.248566,
          9.946424435735914
         ],
         "z": [
          19.797485,
          20.193055530599693
         ]
        },
        {
         "line": {
          "color": "DarkSlateGrey"
         },
         "marker": {
          "line": {
           "color": "DarkSlateGrey",
           "width": 2
          },
          "size": 1
         },
         "mode": "lines+markers",
         "showlegend": false,
         "type": "scatter3d",
         "x": [
          11.169366,
          11.315322041304988
         ],
         "y": [
          10.014798,
          10.10809928691341
         ],
         "z": [
          19.707117,
          20.654615938160774
         ]
        },
        {
         "line": {
          "color": "DarkSlateGrey"
         },
         "marker": {
          "line": {
           "color": "DarkSlateGrey",
           "width": 2
          },
          "size": 1
         },
         "mode": "lines+markers",
         "showlegend": false,
         "type": "scatter3d",
         "x": [
          10.637614,
          10.363787683130035
         ],
         "y": [
          10.116172,
          8.99134026426245
         ],
         "z": [
          20.931118,
          20.0054397194919
         ]
        },
        {
         "line": {
          "color": "DarkSlateGrey"
         },
         "marker": {
          "line": {
           "color": "DarkSlateGrey",
           "width": 2
          },
          "size": 1
         },
         "mode": "lines+markers",
         "showlegend": false,
         "type": "scatter3d",
         "x": [
          13.441044,
          13.981317339849163
         ],
         "y": [
          10.229832,
          9.400749270251733
         ],
         "z": [
          21.754719,
          21.63358270426447
         ]
        },
        {
         "line": {
          "color": "DarkSlateGrey"
         },
         "marker": {
          "line": {
           "color": "DarkSlateGrey",
           "width": 2
          },
          "size": 1
         },
         "mode": "lines+markers",
         "showlegend": false,
         "type": "scatter3d",
         "x": [
          2.4550478,
          2.331352474980598
         ],
         "y": [
          6.7710013,
          6.804338451944885
         ],
         "z": [
          13.265595,
          12.803060955185327
         ]
        },
        {
         "line": {
          "color": "DarkSlateGrey"
         },
         "marker": {
          "line": {
           "color": "DarkSlateGrey",
           "width": 2
          },
          "size": 1
         },
         "mode": "lines+markers",
         "showlegend": false,
         "type": "scatter3d",
         "x": [
          10.721133,
          11.010966621778486
         ],
         "y": [
          7.790931,
          8.319835252177445
         ],
         "z": [
          21.216028,
          21.643554930981313
         ]
        },
        {
         "line": {
          "color": "DarkSlateGrey"
         },
         "marker": {
          "line": {
           "color": "DarkSlateGrey",
           "width": 2
          },
          "size": 1
         },
         "mode": "lines+markers",
         "showlegend": false,
         "type": "scatter3d",
         "x": [
          13.196257,
          13.785707205156612
         ],
         "y": [
          7.4771304,
          8.710975581708762
         ],
         "z": [
          20.79219,
          21.502413948939434
         ]
        },
        {
         "line": {
          "color": "DarkSlateGrey"
         },
         "marker": {
          "line": {
           "color": "DarkSlateGrey",
           "width": 2
          },
          "size": 1
         },
         "mode": "lines+markers",
         "showlegend": false,
         "type": "scatter3d",
         "x": [
          10.998121,
          10.957489307261683
         ],
         "y": [
          9.863325,
          8.270110424643802
         ],
         "z": [
          21.368938,
          21.555809104366013
         ]
        },
        {
         "line": {
          "color": "DarkSlateGrey"
         },
         "marker": {
          "line": {
           "color": "DarkSlateGrey",
           "width": 2
          },
          "size": 1
         },
         "mode": "lines+markers",
         "showlegend": false,
         "type": "scatter3d",
         "x": [
          11.066662,
          10.305476073298504
         ],
         "y": [
          9.851558,
          9.003991086399271
         ],
         "z": [
          21.46488,
          20.017367823101598
         ]
        },
        {
         "line": {
          "color": "DarkSlateGrey"
         },
         "marker": {
          "line": {
           "color": "DarkSlateGrey",
           "width": 2
          },
          "size": 1
         },
         "mode": "lines+markers",
         "showlegend": false,
         "type": "scatter3d",
         "x": [
          13.855052,
          13.747155997726292
         ],
         "y": [
          8.886627,
          9.309724715714989
         ],
         "z": [
          22.137373,
          21.39218115149578
         ]
        },
        {
         "line": {
          "color": "DarkSlateGrey"
         },
         "marker": {
          "line": {
           "color": "DarkSlateGrey",
           "width": 2
          },
          "size": 1
         },
         "mode": "lines+markers",
         "showlegend": false,
         "type": "scatter3d",
         "x": [
          2.8291597,
          2.3818615416784326
         ],
         "y": [
          7.098556,
          6.970411031467816
         ],
         "z": [
          13.209548,
          13.10526439605582
         ]
        },
        {
         "line": {
          "color": "DarkSlateGrey"
         },
         "marker": {
          "line": {
           "color": "DarkSlateGrey",
           "width": 2
          },
          "size": 1
         },
         "mode": "lines+markers",
         "showlegend": false,
         "type": "scatter3d",
         "x": [
          11.052477,
          10.95339967459998
         ],
         "y": [
          9.593743,
          8.303020712682864
         ],
         "z": [
          21.53712,
          21.576430149041727
         ]
        },
        {
         "line": {
          "color": "DarkSlateGrey"
         },
         "marker": {
          "line": {
           "color": "DarkSlateGrey",
           "width": 2
          },
          "size": 1
         },
         "mode": "lines+markers",
         "showlegend": false,
         "type": "scatter3d",
         "x": [
          10.541386,
          10.402220314480301
         ],
         "y": [
          10.328006,
          9.021578750064386
         ],
         "z": [
          19.603868,
          20.072951757755394
         ]
        },
        {
         "line": {
          "color": "DarkSlateGrey"
         },
         "marker": {
          "line": {
           "color": "DarkSlateGrey",
           "width": 2
          },
          "size": 1
         },
         "mode": "lines+markers",
         "showlegend": false,
         "type": "scatter3d",
         "x": [
          10.090337,
          10.52987443660259
         ],
         "y": [
          9.349282,
          9.32009879372896
         ],
         "z": [
          20.933596,
          20.633275740039306
         ]
        },
        {
         "line": {
          "color": "DarkSlateGrey"
         },
         "marker": {
          "line": {
           "color": "DarkSlateGrey",
           "width": 2
          },
          "size": 1
         },
         "mode": "lines+markers",
         "showlegend": false,
         "type": "scatter3d",
         "x": [
          2.6270823,
          2.3955826861889404
         ],
         "y": [
          7.119021,
          7.01932573870654
         ],
         "z": [
          13.357022,
          13.195078656371576
         ]
        },
        {
         "line": {
          "color": "DarkSlateGrey"
         },
         "marker": {
          "line": {
           "color": "DarkSlateGrey",
           "width": 2
          },
          "size": 1
         },
         "mode": "lines+markers",
         "showlegend": false,
         "type": "scatter3d",
         "x": [
          10.271494,
          10.907489555823112
         ],
         "y": [
          7.8539495,
          8.1438054354264
         ],
         "z": [
          21.106485,
          21.105130578351606
         ]
        },
        {
         "line": {
          "color": "DarkSlateGrey"
         },
         "marker": {
          "line": {
           "color": "DarkSlateGrey",
           "width": 2
          },
          "size": 1
         },
         "mode": "lines+markers",
         "showlegend": false,
         "type": "scatter3d",
         "x": [
          11.910392,
          10.921381665445159
         ],
         "y": [
          7.922406,
          8.240997105642307
         ],
         "z": [
          20.638878,
          21.51523106708896
         ]
        },
        {
         "line": {
          "color": "DarkSlateGrey"
         },
         "marker": {
          "line": {
           "color": "DarkSlateGrey",
           "width": 2
          },
          "size": 1
         },
         "mode": "lines+markers",
         "showlegend": false,
         "type": "scatter3d",
         "x": [
          13.4742985,
          13.682103474435674
         ],
         "y": [
          7.2245054,
          8.65624742518368
         ],
         "z": [
          20.623318,
          21.361034262228628
         ]
        },
        {
         "line": {
          "color": "DarkSlateGrey"
         },
         "marker": {
          "line": {
           "color": "DarkSlateGrey",
           "width": 2
          },
          "size": 1
         },
         "mode": "lines+markers",
         "showlegend": false,
         "type": "scatter3d",
         "x": [
          10.175466,
          10.433011374048458
         ],
         "y": [
          8.155363,
          9.182046649474687
         ],
         "z": [
          21.020044,
          20.429869806706343
         ]
        },
        {
         "line": {
          "color": "DarkSlateGrey"
         },
         "marker": {
          "line": {
           "color": "DarkSlateGrey",
           "width": 2
          },
          "size": 1
         },
         "mode": "lines+markers",
         "showlegend": false,
         "type": "scatter3d",
         "x": [
          9.36597,
          10.24082455239975
         ],
         "y": [
          10.249665,
          9.01825794872516
         ],
         "z": [
          19.724329,
          20.07820125636381
         ]
        },
        {
         "line": {
          "color": "DarkSlateGrey"
         },
         "marker": {
          "line": {
           "color": "DarkSlateGrey",
           "width": 2
          },
          "size": 1
         },
         "mode": "lines+markers",
         "showlegend": false,
         "type": "scatter3d",
         "x": [
          9.704807,
          10.67722452144554
         ],
         "y": [
          9.260765,
          7.979730430808904
         ],
         "z": [
          20.238384,
          20.983901327569185
         ]
        },
        {
         "line": {
          "color": "DarkSlateGrey"
         },
         "marker": {
          "line": {
           "color": "DarkSlateGrey",
           "width": 2
          },
          "size": 1
         },
         "mode": "lines+markers",
         "showlegend": false,
         "type": "scatter3d",
         "x": [
          13.391838,
          13.973884992306942
         ],
         "y": [
          7.3386655,
          8.750153310296776
         ],
         "z": [
          20.686281,
          21.520314822020946
         ]
        },
        {
         "line": {
          "color": "DarkSlateGrey"
         },
         "marker": {
          "line": {
           "color": "DarkSlateGrey",
           "width": 2
          },
          "size": 1
         },
         "mode": "lines+markers",
         "showlegend": false,
         "type": "scatter3d",
         "x": [
          10.566479,
          10.291850298641123
         ],
         "y": [
          10.373944,
          8.96571537532758
         ],
         "z": [
          19.549604,
          19.93392531361295
         ]
        },
        {
         "line": {
          "color": "DarkSlateGrey"
         },
         "marker": {
          "line": {
           "color": "DarkSlateGrey",
           "width": 2
          },
          "size": 1
         },
         "mode": "lines+markers",
         "showlegend": false,
         "type": "scatter3d",
         "x": [
          13.277376,
          13.8672326924782
         ],
         "y": [
          8.3686075,
          9.318608840115086
         ],
         "z": [
          19.968266,
          21.454643134671052
         ]
        },
        {
         "line": {
          "color": "DarkSlateGrey"
         },
         "marker": {
          "line": {
           "color": "DarkSlateGrey",
           "width": 2
          },
          "size": 1
         },
         "mode": "lines+markers",
         "showlegend": false,
         "type": "scatter3d",
         "x": [
          11.146661,
          10.876090966068745
         ],
         "y": [
          8.629356,
          8.16645731809349
         ],
         "z": [
          19.942024,
          21.359724781193272
         ]
        },
        {
         "line": {
          "color": "DarkSlateGrey"
         },
         "marker": {
          "line": {
           "color": "DarkSlateGrey",
           "width": 2
          },
          "size": 1
         },
         "mode": "lines+markers",
         "showlegend": false,
         "type": "scatter3d",
         "x": [
          12.355327,
          10.76923244400512
         ],
         "y": [
          10.322425,
          8.119580951552635
         ],
         "z": [
          20.45541,
          21.252740174602675
         ]
        },
        {
         "marker": {
          "color": [
           "#EF553B",
           "#636EFA",
           "#EF553B",
           "#636EFA",
           "#EF553B",
           "#EF553B",
           "#EF553B",
           "#EF553B",
           "rgb(179, 205, 227)",
           "#636EFA",
           "rgb(179, 205, 227)",
           "#EF553B",
           "rgb(179, 205, 227)",
           "#EF553B",
           "#EF553B",
           "#EF553B",
           "rgb(179, 205, 227)",
           "rgb(179, 205, 227)",
           "#EF553B",
           "rgb(179, 205, 227)",
           "#636EFA",
           "#EF553B",
           "#636EFA",
           "#EF553B",
           "rgb(179, 205, 227)",
           "#EF553B",
           "#EF553B",
           "#EF553B",
           "#EF553B",
           "#636EFA",
           "#EF553B",
           "rgb(179, 205, 227)",
           "#EF553B",
           "#00CC96",
           "#636EFA",
           "#636EFA",
           "#EF553B",
           "#00CC96",
           "#EF553B",
           "#636EFA",
           "#00CC96",
           "#EF553B",
           "#EF553B",
           "#636EFA",
           "#EF553B",
           "#EF553B",
           "#EF553B",
           "#EF553B",
           "#636EFA",
           "#00CC96",
           "#EF553B",
           "#636EFA",
           "#EF553B",
           "#EF553B",
           "#636EFA",
           "#00CC96",
           "#EF553B",
           "#EF553B",
           "#EF553B",
           "#00CC96",
           "#EF553B",
           "#EF553B",
           "#636EFA",
           "#EF553B",
           "#EF553B",
           "#EF553B",
           "#636EFA",
           "#EF553B",
           "#636EFA",
           "#EF553B",
           "#EF553B",
           "#636EFA",
           "#636EFA",
           "#EF553B"
          ],
          "line": {
           "color": "DarkSlateGrey",
           "width": 2
          },
          "size": 5
         },
         "mode": "markers",
         "showlegend": false,
         "type": "scatter3d",
         "x": [
          11.113815,
          13.193277,
          11.36551,
          12.275262,
          11.465577,
          11.397931,
          9.014369,
          10.445036,
          13.084762,
          12.5729265,
          12.530627,
          10.542673,
          14.357714,
          11.568377,
          9.571724,
          10.783549,
          14.246235,
          13.779974,
          11.403646,
          14.87136,
          14.110971,
          11.317299,
          13.648256,
          9.387027,
          14.841174,
          11.01177,
          11.611861,
          10.9997635,
          13.384659,
          12.761199,
          11.004806,
          13.4673395,
          11.276823,
          2.7155824,
          11.280384,
          11.736194,
          10.918215,
          2.347755,
          10.495303,
          13.209538,
          2.5718184,
          10.888228,
          11.481734,
          13.456529,
          11.04935,
          10.8213,
          11.169366,
          10.637614,
          13.441044,
          2.4550478,
          10.721133,
          13.196257,
          10.998121,
          11.066662,
          13.855052,
          2.8291597,
          11.052477,
          10.541386,
          10.090337,
          2.6270823,
          10.271494,
          11.910392,
          13.4742985,
          10.175466,
          9.36597,
          9.704807,
          13.391838,
          10.566479,
          13.277376,
          11.146661,
          12.355327,
          13.438237,
          13.645536,
          11.270695
         ],
         "y": [
          10.275453,
          9.613187,
          10.008437,
          9.9499035,
          9.634446,
          9.302566,
          10.452098,
          10.473545,
          10.21043,
          10.514854,
          9.953819,
          8.764806,
          9.182938,
          9.057268,
          9.554189,
          7.9557395,
          9.57484,
          9.684966,
          8.426901,
          9.443645,
          9.530474,
          9.487897,
          8.506605,
          9.537378,
          9.16361,
          8.816903,
          8.592716,
          7.823455,
          9.57302,
          10.722335,
          7.781951,
          7.4712152,
          10.3449135,
          6.9326477,
          9.838772,
          9.50602,
          10.162161,
          6.7369547,
          9.104143,
          9.215751,
          7.092851,
          10.450801,
          10.248935,
          9.0321665,
          10.404863,
          10.248566,
          10.014798,
          10.116172,
          10.229832,
          6.7710013,
          7.790931,
          7.4771304,
          9.863325,
          9.851558,
          8.886627,
          7.098556,
          9.593743,
          10.328006,
          9.349282,
          7.119021,
          7.8539495,
          7.922406,
          7.2245054,
          8.155363,
          10.249665,
          9.260765,
          7.3386655,
          10.373944,
          8.3686075,
          8.629356,
          10.322425,
          7.296065,
          8.256078,
          8.488235
         ],
         "z": [
          19.99639,
          21.984776,
          19.95813,
          20.945478,
          20.000305,
          20.424665,
          19.482859,
          19.699467,
          21.951578,
          21.400473,
          21.343512,
          20.817991,
          22.392056,
          20.262426,
          20.006601,
          20.717484,
          22.520487,
          22.073275,
          20.466372,
          22.199211,
          22.583776,
          21.053545,
          19.963802,
          19.789116,
          21.887238,
          20.147186,
          21.65834,
          20.991306,
          20.477922,
          21.47465,
          21.091736,
          20.080341,
          19.9917,
          13.220984,
          19.8221,
          21.270308,
          19.87842,
          13.09614,
          20.849371,
          20.435629,
          13.154282,
          20.074379,
          20.07151,
          20.202145,
          20.23692,
          19.797485,
          19.707117,
          20.931118,
          21.754719,
          13.265595,
          21.216028,
          20.79219,
          21.368938,
          21.46488,
          22.137373,
          13.209548,
          21.53712,
          19.603868,
          20.933596,
          13.357022,
          21.106485,
          20.638878,
          20.623318,
          21.020044,
          19.724329,
          20.238384,
          20.686281,
          19.549604,
          19.968266,
          19.942024,
          20.45541,
          20.458323,
          19.911388,
          20.06832
         ]
        },
        {
         "marker": {
          "color": [
           "#EF553B",
           "#636EFA",
           "#EF553B",
           "#636EFA",
           "#EF553B",
           "#EF553B",
           "#EF553B",
           "#EF553B",
           "rgb(179, 205, 227)",
           "#636EFA",
           "rgb(179, 205, 227)",
           "#EF553B",
           "rgb(179, 205, 227)",
           "#EF553B",
           "#EF553B",
           "#EF553B",
           "rgb(179, 205, 227)",
           "rgb(179, 205, 227)",
           "#EF553B",
           "rgb(179, 205, 227)",
           "#636EFA",
           "#EF553B",
           "#636EFA",
           "#EF553B",
           "rgb(179, 205, 227)",
           "#EF553B",
           "#EF553B",
           "#EF553B",
           "#EF553B",
           "#636EFA",
           "#EF553B",
           "rgb(179, 205, 227)",
           "#EF553B",
           "#00CC96",
           "#636EFA",
           "#636EFA",
           "#EF553B",
           "#00CC96",
           "#EF553B",
           "#636EFA",
           "#00CC96",
           "#EF553B",
           "#EF553B",
           "#636EFA",
           "#EF553B",
           "#EF553B",
           "#EF553B",
           "#EF553B",
           "#636EFA",
           "#00CC96",
           "#EF553B",
           "#636EFA",
           "#EF553B",
           "#EF553B",
           "#636EFA",
           "#00CC96",
           "#EF553B",
           "#EF553B",
           "#EF553B",
           "#00CC96",
           "#EF553B",
           "#EF553B",
           "#636EFA",
           "#EF553B",
           "#EF553B",
           "#EF553B",
           "#636EFA",
           "#EF553B",
           "#636EFA",
           "#EF553B",
           "#EF553B",
           "#636EFA",
           "#636EFA",
           "#EF553B"
          ],
          "line": {
           "color": "DarkSlateGrey",
           "width": 2
          },
          "size": 10,
          "symbol": "diamond"
         },
         "mode": "markers",
         "showlegend": false,
         "type": "scatter3d",
         "x": [
          12.482991062543608,
          12.53002723163182,
          12.45849393492836,
          12.502442092868884,
          12.515973444836451,
          12.480891630016139,
          12.527631299024424,
          12.640444391994405,
          11.940691775286725,
          12.537889286689099,
          12.080757897899067,
          12.145492997406327,
          12.887482072298162,
          12.401340976124974,
          12.543754635279768,
          11.208657888249295,
          12.885160070889022,
          12.25454192175661,
          12.450628481071977,
          12.923612352214274,
          12.88079015443888,
          13.130731020096285,
          13.665690862496318,
          11.244786183673085,
          12.920687038947857,
          12.308734365706401,
          11.482527652730326,
          11.361412287560583,
          12.341494903263944,
          13.658238201043925,
          11.463265612486532,
          12.890213542679247,
          11.207448619148852,
          2.471670227292634,
          12.542644371241543,
          12.550598912770235,
          10.898517759387392,
          2.458726477562794,
          11.358456258754856,
          12.61071924321136,
          2.4976462099075762,
          11.184828144316356,
          11.216278113908036,
          12.66116366880005,
          10.746996420676313,
          10.872115116037639,
          11.315322041304988,
          10.363787683130035,
          13.981317339849163,
          2.331352474980598,
          11.010966621778486,
          13.785707205156612,
          10.957489307261683,
          10.305476073298504,
          13.747155997726292,
          2.3818615416784326,
          10.95339967459998,
          10.402220314480301,
          10.52987443660259,
          2.3955826861889404,
          10.907489555823112,
          10.921381665445159,
          13.682103474435674,
          10.433011374048458,
          10.24082455239975,
          10.67722452144554,
          13.973884992306942,
          10.291850298641123,
          13.8672326924782,
          10.876090966068745,
          10.76923244400512,
          14.103935667439469,
          13.97563465479217,
          11.004021431752589
         ],
         "y": [
          10.004631585314542,
          9.850936633574928,
          9.992034390314734,
          9.797278632655201,
          10.085133913551385,
          10.011774046765513,
          10.097800215049267,
          10.204799784240643,
          9.352846157434865,
          9.842975644656342,
          9.51606505616264,
          9.568306589074865,
          8.829610849701513,
          9.64949035945086,
          9.780108465012226,
          8.566298491665396,
          8.985059771661001,
          9.043484668173573,
          9.103630578769923,
          9.500403142917238,
          9.595574191235213,
          9.75309441463724,
          9.418404584664625,
          8.580797178791185,
          8.881125025851613,
          9.663046736567136,
          8.661345317066155,
          8.602999648723648,
          9.631862997400416,
          9.382882013807844,
          8.688295124666658,
          8.906063378229117,
          10.148061898700817,
          6.905503937850509,
          9.839248187273945,
          9.861251184678846,
          9.853340288347507,
          6.818162112047188,
          10.112221515615609,
          9.897109171073058,
          6.8597219310909585,
          9.999884971735924,
          10.064313909966566,
          9.921279520159322,
          9.712600204597184,
          9.946424435735914,
          10.10809928691341,
          8.99134026426245,
          9.400749270251733,
          6.804338451944885,
          8.319835252177445,
          8.710975581708762,
          8.270110424643802,
          9.003991086399271,
          9.309724715714989,
          6.970411031467816,
          8.303020712682864,
          9.021578750064386,
          9.32009879372896,
          7.01932573870654,
          8.1438054354264,
          8.240997105642307,
          8.65624742518368,
          9.182046649474687,
          9.01825794872516,
          7.979730430808904,
          8.750153310296776,
          8.96571537532758,
          9.318608840115086,
          8.16645731809349,
          8.119580951552635,
          8.80031034443677,
          9.39239873555316,
          8.31201640992534
         ],
         "z": [
          21.319504825802333,
          21.067068872810605,
          21.279393627594338,
          20.97042205914776,
          21.460969541628504,
          21.321995587131337,
          21.489063802552206,
          21.724839318733675,
          20.145409263479365,
          21.057614161793786,
          20.44666681156137,
          21.295929115273506,
          20.50432959600432,
          21.520488467239364,
          21.80832982098822,
          20.053364750904993,
          20.762531992101295,
          20.355868012206283,
          21.160928007479747,
          21.74022906691685,
          21.95509812328525,
          22.093431595162595,
          21.52519867501288,
          20.108445984763673,
          20.58391130212223,
          21.520442741927784,
          20.13436779921281,
          20.134278922891713,
          21.470419265611586,
          21.4698520498003,
          20.1470620296637,
          20.596436465740123,
          20.623728759202265,
          13.231705363629224,
          21.33042618485169,
          21.361928977249537,
          20.075685799736462,
          13.086472615414046,
          20.71153064383822,
          21.42741135350219,
          13.208095204745185,
          20.33939696755589,
          20.598864077031262,
          21.47737298343588,
          19.731620915505165,
          20.193055530599693,
          20.654615938160774,
          20.0054397194919,
          21.63358270426447,
          12.803060955185327,
          21.643554930981313,
          21.502413948939434,
          21.555809104366013,
          20.017367823101598,
          21.39218115149578,
          13.10526439605582,
          21.576430149041727,
          20.072951757755394,
          20.633275740039306,
          13.195078656371576,
          21.105130578351606,
          21.51523106708896,
          21.361034262228628,
          20.429869806706343,
          20.07820125636381,
          20.983901327569185,
          21.520314822020946,
          19.93392531361295,
          21.454643134671052,
          21.359724781193272,
          21.252740174602675,
          21.599692418804477,
          21.61712154539911,
          21.629653250372925
         ]
        }
       ],
       "layout": {
        "template": {
         "data": {
          "bar": [
           {
            "error_x": {
             "color": "#2a3f5f"
            },
            "error_y": {
             "color": "#2a3f5f"
            },
            "marker": {
             "line": {
              "color": "#E5ECF6",
              "width": 0.5
             },
             "pattern": {
              "fillmode": "overlay",
              "size": 10,
              "solidity": 0.2
             }
            },
            "type": "bar"
           }
          ],
          "barpolar": [
           {
            "marker": {
             "line": {
              "color": "#E5ECF6",
              "width": 0.5
             },
             "pattern": {
              "fillmode": "overlay",
              "size": 10,
              "solidity": 0.2
             }
            },
            "type": "barpolar"
           }
          ],
          "carpet": [
           {
            "aaxis": {
             "endlinecolor": "#2a3f5f",
             "gridcolor": "white",
             "linecolor": "white",
             "minorgridcolor": "white",
             "startlinecolor": "#2a3f5f"
            },
            "baxis": {
             "endlinecolor": "#2a3f5f",
             "gridcolor": "white",
             "linecolor": "white",
             "minorgridcolor": "white",
             "startlinecolor": "#2a3f5f"
            },
            "type": "carpet"
           }
          ],
          "choropleth": [
           {
            "colorbar": {
             "outlinewidth": 0,
             "ticks": ""
            },
            "type": "choropleth"
           }
          ],
          "contour": [
           {
            "colorbar": {
             "outlinewidth": 0,
             "ticks": ""
            },
            "colorscale": [
             [
              0,
              "#0d0887"
             ],
             [
              0.1111111111111111,
              "#46039f"
             ],
             [
              0.2222222222222222,
              "#7201a8"
             ],
             [
              0.3333333333333333,
              "#9c179e"
             ],
             [
              0.4444444444444444,
              "#bd3786"
             ],
             [
              0.5555555555555556,
              "#d8576b"
             ],
             [
              0.6666666666666666,
              "#ed7953"
             ],
             [
              0.7777777777777778,
              "#fb9f3a"
             ],
             [
              0.8888888888888888,
              "#fdca26"
             ],
             [
              1,
              "#f0f921"
             ]
            ],
            "type": "contour"
           }
          ],
          "contourcarpet": [
           {
            "colorbar": {
             "outlinewidth": 0,
             "ticks": ""
            },
            "type": "contourcarpet"
           }
          ],
          "heatmap": [
           {
            "colorbar": {
             "outlinewidth": 0,
             "ticks": ""
            },
            "colorscale": [
             [
              0,
              "#0d0887"
             ],
             [
              0.1111111111111111,
              "#46039f"
             ],
             [
              0.2222222222222222,
              "#7201a8"
             ],
             [
              0.3333333333333333,
              "#9c179e"
             ],
             [
              0.4444444444444444,
              "#bd3786"
             ],
             [
              0.5555555555555556,
              "#d8576b"
             ],
             [
              0.6666666666666666,
              "#ed7953"
             ],
             [
              0.7777777777777778,
              "#fb9f3a"
             ],
             [
              0.8888888888888888,
              "#fdca26"
             ],
             [
              1,
              "#f0f921"
             ]
            ],
            "type": "heatmap"
           }
          ],
          "heatmapgl": [
           {
            "colorbar": {
             "outlinewidth": 0,
             "ticks": ""
            },
            "colorscale": [
             [
              0,
              "#0d0887"
             ],
             [
              0.1111111111111111,
              "#46039f"
             ],
             [
              0.2222222222222222,
              "#7201a8"
             ],
             [
              0.3333333333333333,
              "#9c179e"
             ],
             [
              0.4444444444444444,
              "#bd3786"
             ],
             [
              0.5555555555555556,
              "#d8576b"
             ],
             [
              0.6666666666666666,
              "#ed7953"
             ],
             [
              0.7777777777777778,
              "#fb9f3a"
             ],
             [
              0.8888888888888888,
              "#fdca26"
             ],
             [
              1,
              "#f0f921"
             ]
            ],
            "type": "heatmapgl"
           }
          ],
          "histogram": [
           {
            "marker": {
             "pattern": {
              "fillmode": "overlay",
              "size": 10,
              "solidity": 0.2
             }
            },
            "type": "histogram"
           }
          ],
          "histogram2d": [
           {
            "colorbar": {
             "outlinewidth": 0,
             "ticks": ""
            },
            "colorscale": [
             [
              0,
              "#0d0887"
             ],
             [
              0.1111111111111111,
              "#46039f"
             ],
             [
              0.2222222222222222,
              "#7201a8"
             ],
             [
              0.3333333333333333,
              "#9c179e"
             ],
             [
              0.4444444444444444,
              "#bd3786"
             ],
             [
              0.5555555555555556,
              "#d8576b"
             ],
             [
              0.6666666666666666,
              "#ed7953"
             ],
             [
              0.7777777777777778,
              "#fb9f3a"
             ],
             [
              0.8888888888888888,
              "#fdca26"
             ],
             [
              1,
              "#f0f921"
             ]
            ],
            "type": "histogram2d"
           }
          ],
          "histogram2dcontour": [
           {
            "colorbar": {
             "outlinewidth": 0,
             "ticks": ""
            },
            "colorscale": [
             [
              0,
              "#0d0887"
             ],
             [
              0.1111111111111111,
              "#46039f"
             ],
             [
              0.2222222222222222,
              "#7201a8"
             ],
             [
              0.3333333333333333,
              "#9c179e"
             ],
             [
              0.4444444444444444,
              "#bd3786"
             ],
             [
              0.5555555555555556,
              "#d8576b"
             ],
             [
              0.6666666666666666,
              "#ed7953"
             ],
             [
              0.7777777777777778,
              "#fb9f3a"
             ],
             [
              0.8888888888888888,
              "#fdca26"
             ],
             [
              1,
              "#f0f921"
             ]
            ],
            "type": "histogram2dcontour"
           }
          ],
          "mesh3d": [
           {
            "colorbar": {
             "outlinewidth": 0,
             "ticks": ""
            },
            "type": "mesh3d"
           }
          ],
          "parcoords": [
           {
            "line": {
             "colorbar": {
              "outlinewidth": 0,
              "ticks": ""
             }
            },
            "type": "parcoords"
           }
          ],
          "pie": [
           {
            "automargin": true,
            "type": "pie"
           }
          ],
          "scatter": [
           {
            "fillpattern": {
             "fillmode": "overlay",
             "size": 10,
             "solidity": 0.2
            },
            "type": "scatter"
           }
          ],
          "scatter3d": [
           {
            "line": {
             "colorbar": {
              "outlinewidth": 0,
              "ticks": ""
             }
            },
            "marker": {
             "colorbar": {
              "outlinewidth": 0,
              "ticks": ""
             }
            },
            "type": "scatter3d"
           }
          ],
          "scattercarpet": [
           {
            "marker": {
             "colorbar": {
              "outlinewidth": 0,
              "ticks": ""
             }
            },
            "type": "scattercarpet"
           }
          ],
          "scattergeo": [
           {
            "marker": {
             "colorbar": {
              "outlinewidth": 0,
              "ticks": ""
             }
            },
            "type": "scattergeo"
           }
          ],
          "scattergl": [
           {
            "marker": {
             "colorbar": {
              "outlinewidth": 0,
              "ticks": ""
             }
            },
            "type": "scattergl"
           }
          ],
          "scattermapbox": [
           {
            "marker": {
             "colorbar": {
              "outlinewidth": 0,
              "ticks": ""
             }
            },
            "type": "scattermapbox"
           }
          ],
          "scatterpolar": [
           {
            "marker": {
             "colorbar": {
              "outlinewidth": 0,
              "ticks": ""
             }
            },
            "type": "scatterpolar"
           }
          ],
          "scatterpolargl": [
           {
            "marker": {
             "colorbar": {
              "outlinewidth": 0,
              "ticks": ""
             }
            },
            "type": "scatterpolargl"
           }
          ],
          "scatterternary": [
           {
            "marker": {
             "colorbar": {
              "outlinewidth": 0,
              "ticks": ""
             }
            },
            "type": "scatterternary"
           }
          ],
          "surface": [
           {
            "colorbar": {
             "outlinewidth": 0,
             "ticks": ""
            },
            "colorscale": [
             [
              0,
              "#0d0887"
             ],
             [
              0.1111111111111111,
              "#46039f"
             ],
             [
              0.2222222222222222,
              "#7201a8"
             ],
             [
              0.3333333333333333,
              "#9c179e"
             ],
             [
              0.4444444444444444,
              "#bd3786"
             ],
             [
              0.5555555555555556,
              "#d8576b"
             ],
             [
              0.6666666666666666,
              "#ed7953"
             ],
             [
              0.7777777777777778,
              "#fb9f3a"
             ],
             [
              0.8888888888888888,
              "#fdca26"
             ],
             [
              1,
              "#f0f921"
             ]
            ],
            "type": "surface"
           }
          ],
          "table": [
           {
            "cells": {
             "fill": {
              "color": "#EBF0F8"
             },
             "line": {
              "color": "white"
             }
            },
            "header": {
             "fill": {
              "color": "#C8D4E3"
             },
             "line": {
              "color": "white"
             }
            },
            "type": "table"
           }
          ]
         },
         "layout": {
          "annotationdefaults": {
           "arrowcolor": "#2a3f5f",
           "arrowhead": 0,
           "arrowwidth": 1
          },
          "autotypenumbers": "strict",
          "coloraxis": {
           "colorbar": {
            "outlinewidth": 0,
            "ticks": ""
           }
          },
          "colorscale": {
           "diverging": [
            [
             0,
             "#8e0152"
            ],
            [
             0.1,
             "#c51b7d"
            ],
            [
             0.2,
             "#de77ae"
            ],
            [
             0.3,
             "#f1b6da"
            ],
            [
             0.4,
             "#fde0ef"
            ],
            [
             0.5,
             "#f7f7f7"
            ],
            [
             0.6,
             "#e6f5d0"
            ],
            [
             0.7,
             "#b8e186"
            ],
            [
             0.8,
             "#7fbc41"
            ],
            [
             0.9,
             "#4d9221"
            ],
            [
             1,
             "#276419"
            ]
           ],
           "sequential": [
            [
             0,
             "#0d0887"
            ],
            [
             0.1111111111111111,
             "#46039f"
            ],
            [
             0.2222222222222222,
             "#7201a8"
            ],
            [
             0.3333333333333333,
             "#9c179e"
            ],
            [
             0.4444444444444444,
             "#bd3786"
            ],
            [
             0.5555555555555556,
             "#d8576b"
            ],
            [
             0.6666666666666666,
             "#ed7953"
            ],
            [
             0.7777777777777778,
             "#fb9f3a"
            ],
            [
             0.8888888888888888,
             "#fdca26"
            ],
            [
             1,
             "#f0f921"
            ]
           ],
           "sequentialminus": [
            [
             0,
             "#0d0887"
            ],
            [
             0.1111111111111111,
             "#46039f"
            ],
            [
             0.2222222222222222,
             "#7201a8"
            ],
            [
             0.3333333333333333,
             "#9c179e"
            ],
            [
             0.4444444444444444,
             "#bd3786"
            ],
            [
             0.5555555555555556,
             "#d8576b"
            ],
            [
             0.6666666666666666,
             "#ed7953"
            ],
            [
             0.7777777777777778,
             "#fb9f3a"
            ],
            [
             0.8888888888888888,
             "#fdca26"
            ],
            [
             1,
             "#f0f921"
            ]
           ]
          },
          "colorway": [
           "#636efa",
           "#EF553B",
           "#00cc96",
           "#ab63fa",
           "#FFA15A",
           "#19d3f3",
           "#FF6692",
           "#B6E880",
           "#FF97FF",
           "#FECB52"
          ],
          "font": {
           "color": "#2a3f5f"
          },
          "geo": {
           "bgcolor": "white",
           "lakecolor": "white",
           "landcolor": "#E5ECF6",
           "showlakes": true,
           "showland": true,
           "subunitcolor": "white"
          },
          "hoverlabel": {
           "align": "left"
          },
          "hovermode": "closest",
          "mapbox": {
           "style": "light"
          },
          "paper_bgcolor": "white",
          "plot_bgcolor": "#E5ECF6",
          "polar": {
           "angularaxis": {
            "gridcolor": "white",
            "linecolor": "white",
            "ticks": ""
           },
           "bgcolor": "#E5ECF6",
           "radialaxis": {
            "gridcolor": "white",
            "linecolor": "white",
            "ticks": ""
           }
          },
          "scene": {
           "xaxis": {
            "backgroundcolor": "#E5ECF6",
            "gridcolor": "white",
            "gridwidth": 2,
            "linecolor": "white",
            "showbackground": true,
            "ticks": "",
            "zerolinecolor": "white"
           },
           "yaxis": {
            "backgroundcolor": "#E5ECF6",
            "gridcolor": "white",
            "gridwidth": 2,
            "linecolor": "white",
            "showbackground": true,
            "ticks": "",
            "zerolinecolor": "white"
           },
           "zaxis": {
            "backgroundcolor": "#E5ECF6",
            "gridcolor": "white",
            "gridwidth": 2,
            "linecolor": "white",
            "showbackground": true,
            "ticks": "",
            "zerolinecolor": "white"
           }
          },
          "shapedefaults": {
           "line": {
            "color": "#2a3f5f"
           }
          },
          "ternary": {
           "aaxis": {
            "gridcolor": "white",
            "linecolor": "white",
            "ticks": ""
           },
           "baxis": {
            "gridcolor": "white",
            "linecolor": "white",
            "ticks": ""
           },
           "bgcolor": "#E5ECF6",
           "caxis": {
            "gridcolor": "white",
            "linecolor": "white",
            "ticks": ""
           }
          },
          "title": {
           "x": 0.05
          },
          "xaxis": {
           "automargin": true,
           "gridcolor": "white",
           "linecolor": "white",
           "ticks": "",
           "title": {
            "standoff": 15
           },
           "zerolinecolor": "white",
           "zerolinewidth": 2
          },
          "yaxis": {
           "automargin": true,
           "gridcolor": "white",
           "linecolor": "white",
           "ticks": "",
           "title": {
            "standoff": 15
           },
           "zerolinecolor": "white",
           "zerolinewidth": 2
          }
         }
        }
       }
      },
      "text/html": [
       "<div>                            <div id=\"78a6fce1-e261-44ce-9a9d-9323fa55f527\" class=\"plotly-graph-div\" style=\"height:525px; width:100%;\"></div>            <script type=\"text/javascript\">                require([\"plotly\"], function(Plotly) {                    window.PLOTLYENV=window.PLOTLYENV || {};                                    if (document.getElementById(\"78a6fce1-e261-44ce-9a9d-9323fa55f527\")) {                    Plotly.newPlot(                        \"78a6fce1-e261-44ce-9a9d-9323fa55f527\",                        [{\"line\":{\"color\":\"DarkSlateGrey\"},\"marker\":{\"size\":1,\"line\":{\"color\":\"DarkSlateGrey\",\"width\":2}},\"mode\":\"lines+markers\",\"showlegend\":false,\"x\":[11.113815,12.482991062543608],\"y\":[10.275453,10.004631585314542],\"z\":[19.99639,21.319504825802333],\"type\":\"scatter3d\"},{\"line\":{\"color\":\"DarkSlateGrey\"},\"marker\":{\"size\":1,\"line\":{\"color\":\"DarkSlateGrey\",\"width\":2}},\"mode\":\"lines+markers\",\"showlegend\":false,\"x\":[13.193277,12.53002723163182],\"y\":[9.613187,9.850936633574928],\"z\":[21.984776,21.067068872810605],\"type\":\"scatter3d\"},{\"line\":{\"color\":\"DarkSlateGrey\"},\"marker\":{\"size\":1,\"line\":{\"color\":\"DarkSlateGrey\",\"width\":2}},\"mode\":\"lines+markers\",\"showlegend\":false,\"x\":[11.36551,12.45849393492836],\"y\":[10.008437,9.992034390314734],\"z\":[19.95813,21.279393627594338],\"type\":\"scatter3d\"},{\"line\":{\"color\":\"DarkSlateGrey\"},\"marker\":{\"size\":1,\"line\":{\"color\":\"DarkSlateGrey\",\"width\":2}},\"mode\":\"lines+markers\",\"showlegend\":false,\"x\":[12.275262,12.502442092868884],\"y\":[9.9499035,9.797278632655201],\"z\":[20.945478,20.97042205914776],\"type\":\"scatter3d\"},{\"line\":{\"color\":\"DarkSlateGrey\"},\"marker\":{\"size\":1,\"line\":{\"color\":\"DarkSlateGrey\",\"width\":2}},\"mode\":\"lines+markers\",\"showlegend\":false,\"x\":[11.465577,12.515973444836451],\"y\":[9.634446,10.085133913551385],\"z\":[20.000305,21.460969541628504],\"type\":\"scatter3d\"},{\"line\":{\"color\":\"DarkSlateGrey\"},\"marker\":{\"size\":1,\"line\":{\"color\":\"DarkSlateGrey\",\"width\":2}},\"mode\":\"lines+markers\",\"showlegend\":false,\"x\":[11.397931,12.480891630016139],\"y\":[9.302566,10.011774046765513],\"z\":[20.424665,21.321995587131337],\"type\":\"scatter3d\"},{\"line\":{\"color\":\"DarkSlateGrey\"},\"marker\":{\"size\":1,\"line\":{\"color\":\"DarkSlateGrey\",\"width\":2}},\"mode\":\"lines+markers\",\"showlegend\":false,\"x\":[9.014369,12.527631299024424],\"y\":[10.452098,10.097800215049267],\"z\":[19.482859,21.489063802552206],\"type\":\"scatter3d\"},{\"line\":{\"color\":\"DarkSlateGrey\"},\"marker\":{\"size\":1,\"line\":{\"color\":\"DarkSlateGrey\",\"width\":2}},\"mode\":\"lines+markers\",\"showlegend\":false,\"x\":[10.445036,12.640444391994405],\"y\":[10.473545,10.204799784240643],\"z\":[19.699467,21.724839318733675],\"type\":\"scatter3d\"},{\"line\":{\"color\":\"DarkSlateGrey\"},\"marker\":{\"size\":1,\"line\":{\"color\":\"DarkSlateGrey\",\"width\":2}},\"mode\":\"lines+markers\",\"showlegend\":false,\"x\":[13.084762,11.940691775286725],\"y\":[10.21043,9.352846157434865],\"z\":[21.951578,20.145409263479365],\"type\":\"scatter3d\"},{\"line\":{\"color\":\"DarkSlateGrey\"},\"marker\":{\"size\":1,\"line\":{\"color\":\"DarkSlateGrey\",\"width\":2}},\"mode\":\"lines+markers\",\"showlegend\":false,\"x\":[12.5729265,12.537889286689099],\"y\":[10.514854,9.842975644656342],\"z\":[21.400473,21.057614161793786],\"type\":\"scatter3d\"},{\"line\":{\"color\":\"DarkSlateGrey\"},\"marker\":{\"size\":1,\"line\":{\"color\":\"DarkSlateGrey\",\"width\":2}},\"mode\":\"lines+markers\",\"showlegend\":false,\"x\":[12.530627,12.080757897899067],\"y\":[9.953819,9.51606505616264],\"z\":[21.343512,20.44666681156137],\"type\":\"scatter3d\"},{\"line\":{\"color\":\"DarkSlateGrey\"},\"marker\":{\"size\":1,\"line\":{\"color\":\"DarkSlateGrey\",\"width\":2}},\"mode\":\"lines+markers\",\"showlegend\":false,\"x\":[10.542673,12.145492997406327],\"y\":[8.764806,9.568306589074865],\"z\":[20.817991,21.295929115273506],\"type\":\"scatter3d\"},{\"line\":{\"color\":\"DarkSlateGrey\"},\"marker\":{\"size\":1,\"line\":{\"color\":\"DarkSlateGrey\",\"width\":2}},\"mode\":\"lines+markers\",\"showlegend\":false,\"x\":[14.357714,12.887482072298162],\"y\":[9.182938,8.829610849701513],\"z\":[22.392056,20.50432959600432],\"type\":\"scatter3d\"},{\"line\":{\"color\":\"DarkSlateGrey\"},\"marker\":{\"size\":1,\"line\":{\"color\":\"DarkSlateGrey\",\"width\":2}},\"mode\":\"lines+markers\",\"showlegend\":false,\"x\":[11.568377,12.401340976124974],\"y\":[9.057268,9.64949035945086],\"z\":[20.262426,21.520488467239364],\"type\":\"scatter3d\"},{\"line\":{\"color\":\"DarkSlateGrey\"},\"marker\":{\"size\":1,\"line\":{\"color\":\"DarkSlateGrey\",\"width\":2}},\"mode\":\"lines+markers\",\"showlegend\":false,\"x\":[9.571724,12.543754635279768],\"y\":[9.554189,9.780108465012226],\"z\":[20.006601,21.80832982098822],\"type\":\"scatter3d\"},{\"line\":{\"color\":\"DarkSlateGrey\"},\"marker\":{\"size\":1,\"line\":{\"color\":\"DarkSlateGrey\",\"width\":2}},\"mode\":\"lines+markers\",\"showlegend\":false,\"x\":[10.783549,11.208657888249295],\"y\":[7.9557395,8.566298491665396],\"z\":[20.717484,20.053364750904993],\"type\":\"scatter3d\"},{\"line\":{\"color\":\"DarkSlateGrey\"},\"marker\":{\"size\":1,\"line\":{\"color\":\"DarkSlateGrey\",\"width\":2}},\"mode\":\"lines+markers\",\"showlegend\":false,\"x\":[14.246235,12.885160070889022],\"y\":[9.57484,8.985059771661001],\"z\":[22.520487,20.762531992101295],\"type\":\"scatter3d\"},{\"line\":{\"color\":\"DarkSlateGrey\"},\"marker\":{\"size\":1,\"line\":{\"color\":\"DarkSlateGrey\",\"width\":2}},\"mode\":\"lines+markers\",\"showlegend\":false,\"x\":[13.779974,12.25454192175661],\"y\":[9.684966,9.043484668173573],\"z\":[22.073275,20.355868012206283],\"type\":\"scatter3d\"},{\"line\":{\"color\":\"DarkSlateGrey\"},\"marker\":{\"size\":1,\"line\":{\"color\":\"DarkSlateGrey\",\"width\":2}},\"mode\":\"lines+markers\",\"showlegend\":false,\"x\":[11.403646,12.450628481071977],\"y\":[8.426901,9.103630578769923],\"z\":[20.466372,21.160928007479747],\"type\":\"scatter3d\"},{\"line\":{\"color\":\"DarkSlateGrey\"},\"marker\":{\"size\":1,\"line\":{\"color\":\"DarkSlateGrey\",\"width\":2}},\"mode\":\"lines+markers\",\"showlegend\":false,\"x\":[14.87136,12.923612352214274],\"y\":[9.443645,9.500403142917238],\"z\":[22.199211,21.74022906691685],\"type\":\"scatter3d\"},{\"line\":{\"color\":\"DarkSlateGrey\"},\"marker\":{\"size\":1,\"line\":{\"color\":\"DarkSlateGrey\",\"width\":2}},\"mode\":\"lines+markers\",\"showlegend\":false,\"x\":[14.110971,12.88079015443888],\"y\":[9.530474,9.595574191235213],\"z\":[22.583776,21.95509812328525],\"type\":\"scatter3d\"},{\"line\":{\"color\":\"DarkSlateGrey\"},\"marker\":{\"size\":1,\"line\":{\"color\":\"DarkSlateGrey\",\"width\":2}},\"mode\":\"lines+markers\",\"showlegend\":false,\"x\":[11.317299,13.130731020096285],\"y\":[9.487897,9.75309441463724],\"z\":[21.053545,22.093431595162595],\"type\":\"scatter3d\"},{\"line\":{\"color\":\"DarkSlateGrey\"},\"marker\":{\"size\":1,\"line\":{\"color\":\"DarkSlateGrey\",\"width\":2}},\"mode\":\"lines+markers\",\"showlegend\":false,\"x\":[13.648256,13.665690862496318],\"y\":[8.506605,9.418404584664625],\"z\":[19.963802,21.52519867501288],\"type\":\"scatter3d\"},{\"line\":{\"color\":\"DarkSlateGrey\"},\"marker\":{\"size\":1,\"line\":{\"color\":\"DarkSlateGrey\",\"width\":2}},\"mode\":\"lines+markers\",\"showlegend\":false,\"x\":[9.387027,11.244786183673085],\"y\":[9.537378,8.580797178791185],\"z\":[19.789116,20.108445984763673],\"type\":\"scatter3d\"},{\"line\":{\"color\":\"DarkSlateGrey\"},\"marker\":{\"size\":1,\"line\":{\"color\":\"DarkSlateGrey\",\"width\":2}},\"mode\":\"lines+markers\",\"showlegend\":false,\"x\":[14.841174,12.920687038947857],\"y\":[9.16361,8.881125025851613],\"z\":[21.887238,20.58391130212223],\"type\":\"scatter3d\"},{\"line\":{\"color\":\"DarkSlateGrey\"},\"marker\":{\"size\":1,\"line\":{\"color\":\"DarkSlateGrey\",\"width\":2}},\"mode\":\"lines+markers\",\"showlegend\":false,\"x\":[11.01177,12.308734365706401],\"y\":[8.816903,9.663046736567136],\"z\":[20.147186,21.520442741927784],\"type\":\"scatter3d\"},{\"line\":{\"color\":\"DarkSlateGrey\"},\"marker\":{\"size\":1,\"line\":{\"color\":\"DarkSlateGrey\",\"width\":2}},\"mode\":\"lines+markers\",\"showlegend\":false,\"x\":[11.611861,11.482527652730326],\"y\":[8.592716,8.661345317066155],\"z\":[21.65834,20.13436779921281],\"type\":\"scatter3d\"},{\"line\":{\"color\":\"DarkSlateGrey\"},\"marker\":{\"size\":1,\"line\":{\"color\":\"DarkSlateGrey\",\"width\":2}},\"mode\":\"lines+markers\",\"showlegend\":false,\"x\":[10.9997635,11.361412287560583],\"y\":[7.823455,8.602999648723648],\"z\":[20.991306,20.134278922891713],\"type\":\"scatter3d\"},{\"line\":{\"color\":\"DarkSlateGrey\"},\"marker\":{\"size\":1,\"line\":{\"color\":\"DarkSlateGrey\",\"width\":2}},\"mode\":\"lines+markers\",\"showlegend\":false,\"x\":[13.384659,12.341494903263944],\"y\":[9.57302,9.631862997400416],\"z\":[20.477922,21.470419265611586],\"type\":\"scatter3d\"},{\"line\":{\"color\":\"DarkSlateGrey\"},\"marker\":{\"size\":1,\"line\":{\"color\":\"DarkSlateGrey\",\"width\":2}},\"mode\":\"lines+markers\",\"showlegend\":false,\"x\":[12.761199,13.658238201043925],\"y\":[10.722335,9.382882013807844],\"z\":[21.47465,21.4698520498003],\"type\":\"scatter3d\"},{\"line\":{\"color\":\"DarkSlateGrey\"},\"marker\":{\"size\":1,\"line\":{\"color\":\"DarkSlateGrey\",\"width\":2}},\"mode\":\"lines+markers\",\"showlegend\":false,\"x\":[11.004806,11.463265612486532],\"y\":[7.781951,8.688295124666658],\"z\":[21.091736,20.1470620296637],\"type\":\"scatter3d\"},{\"line\":{\"color\":\"DarkSlateGrey\"},\"marker\":{\"size\":1,\"line\":{\"color\":\"DarkSlateGrey\",\"width\":2}},\"mode\":\"lines+markers\",\"showlegend\":false,\"x\":[13.4673395,12.890213542679247],\"y\":[7.4712152,8.906063378229117],\"z\":[20.080341,20.596436465740123],\"type\":\"scatter3d\"},{\"line\":{\"color\":\"DarkSlateGrey\"},\"marker\":{\"size\":1,\"line\":{\"color\":\"DarkSlateGrey\",\"width\":2}},\"mode\":\"lines+markers\",\"showlegend\":false,\"x\":[11.276823,11.207448619148852],\"y\":[10.3449135,10.148061898700817],\"z\":[19.9917,20.623728759202265],\"type\":\"scatter3d\"},{\"line\":{\"color\":\"DarkSlateGrey\"},\"marker\":{\"size\":1,\"line\":{\"color\":\"DarkSlateGrey\",\"width\":2}},\"mode\":\"lines+markers\",\"showlegend\":false,\"x\":[2.7155824,2.471670227292634],\"y\":[6.9326477,6.905503937850509],\"z\":[13.220984,13.231705363629224],\"type\":\"scatter3d\"},{\"line\":{\"color\":\"DarkSlateGrey\"},\"marker\":{\"size\":1,\"line\":{\"color\":\"DarkSlateGrey\",\"width\":2}},\"mode\":\"lines+markers\",\"showlegend\":false,\"x\":[11.280384,12.542644371241543],\"y\":[9.838772,9.839248187273945],\"z\":[19.8221,21.33042618485169],\"type\":\"scatter3d\"},{\"line\":{\"color\":\"DarkSlateGrey\"},\"marker\":{\"size\":1,\"line\":{\"color\":\"DarkSlateGrey\",\"width\":2}},\"mode\":\"lines+markers\",\"showlegend\":false,\"x\":[11.736194,12.550598912770235],\"y\":[9.50602,9.861251184678846],\"z\":[21.270308,21.361928977249537],\"type\":\"scatter3d\"},{\"line\":{\"color\":\"DarkSlateGrey\"},\"marker\":{\"size\":1,\"line\":{\"color\":\"DarkSlateGrey\",\"width\":2}},\"mode\":\"lines+markers\",\"showlegend\":false,\"x\":[10.918215,10.898517759387392],\"y\":[10.162161,9.853340288347507],\"z\":[19.87842,20.075685799736462],\"type\":\"scatter3d\"},{\"line\":{\"color\":\"DarkSlateGrey\"},\"marker\":{\"size\":1,\"line\":{\"color\":\"DarkSlateGrey\",\"width\":2}},\"mode\":\"lines+markers\",\"showlegend\":false,\"x\":[2.347755,2.458726477562794],\"y\":[6.7369547,6.818162112047188],\"z\":[13.09614,13.086472615414046],\"type\":\"scatter3d\"},{\"line\":{\"color\":\"DarkSlateGrey\"},\"marker\":{\"size\":1,\"line\":{\"color\":\"DarkSlateGrey\",\"width\":2}},\"mode\":\"lines+markers\",\"showlegend\":false,\"x\":[10.495303,11.358456258754856],\"y\":[9.104143,10.112221515615609],\"z\":[20.849371,20.71153064383822],\"type\":\"scatter3d\"},{\"line\":{\"color\":\"DarkSlateGrey\"},\"marker\":{\"size\":1,\"line\":{\"color\":\"DarkSlateGrey\",\"width\":2}},\"mode\":\"lines+markers\",\"showlegend\":false,\"x\":[13.209538,12.61071924321136],\"y\":[9.215751,9.897109171073058],\"z\":[20.435629,21.42741135350219],\"type\":\"scatter3d\"},{\"line\":{\"color\":\"DarkSlateGrey\"},\"marker\":{\"size\":1,\"line\":{\"color\":\"DarkSlateGrey\",\"width\":2}},\"mode\":\"lines+markers\",\"showlegend\":false,\"x\":[2.5718184,2.4976462099075762],\"y\":[7.092851,6.8597219310909585],\"z\":[13.154282,13.208095204745185],\"type\":\"scatter3d\"},{\"line\":{\"color\":\"DarkSlateGrey\"},\"marker\":{\"size\":1,\"line\":{\"color\":\"DarkSlateGrey\",\"width\":2}},\"mode\":\"lines+markers\",\"showlegend\":false,\"x\":[10.888228,11.184828144316356],\"y\":[10.450801,9.999884971735924],\"z\":[20.074379,20.33939696755589],\"type\":\"scatter3d\"},{\"line\":{\"color\":\"DarkSlateGrey\"},\"marker\":{\"size\":1,\"line\":{\"color\":\"DarkSlateGrey\",\"width\":2}},\"mode\":\"lines+markers\",\"showlegend\":false,\"x\":[11.481734,11.216278113908036],\"y\":[10.248935,10.064313909966566],\"z\":[20.07151,20.598864077031262],\"type\":\"scatter3d\"},{\"line\":{\"color\":\"DarkSlateGrey\"},\"marker\":{\"size\":1,\"line\":{\"color\":\"DarkSlateGrey\",\"width\":2}},\"mode\":\"lines+markers\",\"showlegend\":false,\"x\":[13.456529,12.66116366880005],\"y\":[9.0321665,9.921279520159322],\"z\":[20.202145,21.47737298343588],\"type\":\"scatter3d\"},{\"line\":{\"color\":\"DarkSlateGrey\"},\"marker\":{\"size\":1,\"line\":{\"color\":\"DarkSlateGrey\",\"width\":2}},\"mode\":\"lines+markers\",\"showlegend\":false,\"x\":[11.04935,10.746996420676313],\"y\":[10.404863,9.712600204597184],\"z\":[20.23692,19.731620915505165],\"type\":\"scatter3d\"},{\"line\":{\"color\":\"DarkSlateGrey\"},\"marker\":{\"size\":1,\"line\":{\"color\":\"DarkSlateGrey\",\"width\":2}},\"mode\":\"lines+markers\",\"showlegend\":false,\"x\":[10.8213,10.872115116037639],\"y\":[10.248566,9.946424435735914],\"z\":[19.797485,20.193055530599693],\"type\":\"scatter3d\"},{\"line\":{\"color\":\"DarkSlateGrey\"},\"marker\":{\"size\":1,\"line\":{\"color\":\"DarkSlateGrey\",\"width\":2}},\"mode\":\"lines+markers\",\"showlegend\":false,\"x\":[11.169366,11.315322041304988],\"y\":[10.014798,10.10809928691341],\"z\":[19.707117,20.654615938160774],\"type\":\"scatter3d\"},{\"line\":{\"color\":\"DarkSlateGrey\"},\"marker\":{\"size\":1,\"line\":{\"color\":\"DarkSlateGrey\",\"width\":2}},\"mode\":\"lines+markers\",\"showlegend\":false,\"x\":[10.637614,10.363787683130035],\"y\":[10.116172,8.99134026426245],\"z\":[20.931118,20.0054397194919],\"type\":\"scatter3d\"},{\"line\":{\"color\":\"DarkSlateGrey\"},\"marker\":{\"size\":1,\"line\":{\"color\":\"DarkSlateGrey\",\"width\":2}},\"mode\":\"lines+markers\",\"showlegend\":false,\"x\":[13.441044,13.981317339849163],\"y\":[10.229832,9.400749270251733],\"z\":[21.754719,21.63358270426447],\"type\":\"scatter3d\"},{\"line\":{\"color\":\"DarkSlateGrey\"},\"marker\":{\"size\":1,\"line\":{\"color\":\"DarkSlateGrey\",\"width\":2}},\"mode\":\"lines+markers\",\"showlegend\":false,\"x\":[2.4550478,2.331352474980598],\"y\":[6.7710013,6.804338451944885],\"z\":[13.265595,12.803060955185327],\"type\":\"scatter3d\"},{\"line\":{\"color\":\"DarkSlateGrey\"},\"marker\":{\"size\":1,\"line\":{\"color\":\"DarkSlateGrey\",\"width\":2}},\"mode\":\"lines+markers\",\"showlegend\":false,\"x\":[10.721133,11.010966621778486],\"y\":[7.790931,8.319835252177445],\"z\":[21.216028,21.643554930981313],\"type\":\"scatter3d\"},{\"line\":{\"color\":\"DarkSlateGrey\"},\"marker\":{\"size\":1,\"line\":{\"color\":\"DarkSlateGrey\",\"width\":2}},\"mode\":\"lines+markers\",\"showlegend\":false,\"x\":[13.196257,13.785707205156612],\"y\":[7.4771304,8.710975581708762],\"z\":[20.79219,21.502413948939434],\"type\":\"scatter3d\"},{\"line\":{\"color\":\"DarkSlateGrey\"},\"marker\":{\"size\":1,\"line\":{\"color\":\"DarkSlateGrey\",\"width\":2}},\"mode\":\"lines+markers\",\"showlegend\":false,\"x\":[10.998121,10.957489307261683],\"y\":[9.863325,8.270110424643802],\"z\":[21.368938,21.555809104366013],\"type\":\"scatter3d\"},{\"line\":{\"color\":\"DarkSlateGrey\"},\"marker\":{\"size\":1,\"line\":{\"color\":\"DarkSlateGrey\",\"width\":2}},\"mode\":\"lines+markers\",\"showlegend\":false,\"x\":[11.066662,10.305476073298504],\"y\":[9.851558,9.003991086399271],\"z\":[21.46488,20.017367823101598],\"type\":\"scatter3d\"},{\"line\":{\"color\":\"DarkSlateGrey\"},\"marker\":{\"size\":1,\"line\":{\"color\":\"DarkSlateGrey\",\"width\":2}},\"mode\":\"lines+markers\",\"showlegend\":false,\"x\":[13.855052,13.747155997726292],\"y\":[8.886627,9.309724715714989],\"z\":[22.137373,21.39218115149578],\"type\":\"scatter3d\"},{\"line\":{\"color\":\"DarkSlateGrey\"},\"marker\":{\"size\":1,\"line\":{\"color\":\"DarkSlateGrey\",\"width\":2}},\"mode\":\"lines+markers\",\"showlegend\":false,\"x\":[2.8291597,2.3818615416784326],\"y\":[7.098556,6.970411031467816],\"z\":[13.209548,13.10526439605582],\"type\":\"scatter3d\"},{\"line\":{\"color\":\"DarkSlateGrey\"},\"marker\":{\"size\":1,\"line\":{\"color\":\"DarkSlateGrey\",\"width\":2}},\"mode\":\"lines+markers\",\"showlegend\":false,\"x\":[11.052477,10.95339967459998],\"y\":[9.593743,8.303020712682864],\"z\":[21.53712,21.576430149041727],\"type\":\"scatter3d\"},{\"line\":{\"color\":\"DarkSlateGrey\"},\"marker\":{\"size\":1,\"line\":{\"color\":\"DarkSlateGrey\",\"width\":2}},\"mode\":\"lines+markers\",\"showlegend\":false,\"x\":[10.541386,10.402220314480301],\"y\":[10.328006,9.021578750064386],\"z\":[19.603868,20.072951757755394],\"type\":\"scatter3d\"},{\"line\":{\"color\":\"DarkSlateGrey\"},\"marker\":{\"size\":1,\"line\":{\"color\":\"DarkSlateGrey\",\"width\":2}},\"mode\":\"lines+markers\",\"showlegend\":false,\"x\":[10.090337,10.52987443660259],\"y\":[9.349282,9.32009879372896],\"z\":[20.933596,20.633275740039306],\"type\":\"scatter3d\"},{\"line\":{\"color\":\"DarkSlateGrey\"},\"marker\":{\"size\":1,\"line\":{\"color\":\"DarkSlateGrey\",\"width\":2}},\"mode\":\"lines+markers\",\"showlegend\":false,\"x\":[2.6270823,2.3955826861889404],\"y\":[7.119021,7.01932573870654],\"z\":[13.357022,13.195078656371576],\"type\":\"scatter3d\"},{\"line\":{\"color\":\"DarkSlateGrey\"},\"marker\":{\"size\":1,\"line\":{\"color\":\"DarkSlateGrey\",\"width\":2}},\"mode\":\"lines+markers\",\"showlegend\":false,\"x\":[10.271494,10.907489555823112],\"y\":[7.8539495,8.1438054354264],\"z\":[21.106485,21.105130578351606],\"type\":\"scatter3d\"},{\"line\":{\"color\":\"DarkSlateGrey\"},\"marker\":{\"size\":1,\"line\":{\"color\":\"DarkSlateGrey\",\"width\":2}},\"mode\":\"lines+markers\",\"showlegend\":false,\"x\":[11.910392,10.921381665445159],\"y\":[7.922406,8.240997105642307],\"z\":[20.638878,21.51523106708896],\"type\":\"scatter3d\"},{\"line\":{\"color\":\"DarkSlateGrey\"},\"marker\":{\"size\":1,\"line\":{\"color\":\"DarkSlateGrey\",\"width\":2}},\"mode\":\"lines+markers\",\"showlegend\":false,\"x\":[13.4742985,13.682103474435674],\"y\":[7.2245054,8.65624742518368],\"z\":[20.623318,21.361034262228628],\"type\":\"scatter3d\"},{\"line\":{\"color\":\"DarkSlateGrey\"},\"marker\":{\"size\":1,\"line\":{\"color\":\"DarkSlateGrey\",\"width\":2}},\"mode\":\"lines+markers\",\"showlegend\":false,\"x\":[10.175466,10.433011374048458],\"y\":[8.155363,9.182046649474687],\"z\":[21.020044,20.429869806706343],\"type\":\"scatter3d\"},{\"line\":{\"color\":\"DarkSlateGrey\"},\"marker\":{\"size\":1,\"line\":{\"color\":\"DarkSlateGrey\",\"width\":2}},\"mode\":\"lines+markers\",\"showlegend\":false,\"x\":[9.36597,10.24082455239975],\"y\":[10.249665,9.01825794872516],\"z\":[19.724329,20.07820125636381],\"type\":\"scatter3d\"},{\"line\":{\"color\":\"DarkSlateGrey\"},\"marker\":{\"size\":1,\"line\":{\"color\":\"DarkSlateGrey\",\"width\":2}},\"mode\":\"lines+markers\",\"showlegend\":false,\"x\":[9.704807,10.67722452144554],\"y\":[9.260765,7.979730430808904],\"z\":[20.238384,20.983901327569185],\"type\":\"scatter3d\"},{\"line\":{\"color\":\"DarkSlateGrey\"},\"marker\":{\"size\":1,\"line\":{\"color\":\"DarkSlateGrey\",\"width\":2}},\"mode\":\"lines+markers\",\"showlegend\":false,\"x\":[13.391838,13.973884992306942],\"y\":[7.3386655,8.750153310296776],\"z\":[20.686281,21.520314822020946],\"type\":\"scatter3d\"},{\"line\":{\"color\":\"DarkSlateGrey\"},\"marker\":{\"size\":1,\"line\":{\"color\":\"DarkSlateGrey\",\"width\":2}},\"mode\":\"lines+markers\",\"showlegend\":false,\"x\":[10.566479,10.291850298641123],\"y\":[10.373944,8.96571537532758],\"z\":[19.549604,19.93392531361295],\"type\":\"scatter3d\"},{\"line\":{\"color\":\"DarkSlateGrey\"},\"marker\":{\"size\":1,\"line\":{\"color\":\"DarkSlateGrey\",\"width\":2}},\"mode\":\"lines+markers\",\"showlegend\":false,\"x\":[13.277376,13.8672326924782],\"y\":[8.3686075,9.318608840115086],\"z\":[19.968266,21.454643134671052],\"type\":\"scatter3d\"},{\"line\":{\"color\":\"DarkSlateGrey\"},\"marker\":{\"size\":1,\"line\":{\"color\":\"DarkSlateGrey\",\"width\":2}},\"mode\":\"lines+markers\",\"showlegend\":false,\"x\":[11.146661,10.876090966068745],\"y\":[8.629356,8.16645731809349],\"z\":[19.942024,21.359724781193272],\"type\":\"scatter3d\"},{\"line\":{\"color\":\"DarkSlateGrey\"},\"marker\":{\"size\":1,\"line\":{\"color\":\"DarkSlateGrey\",\"width\":2}},\"mode\":\"lines+markers\",\"showlegend\":false,\"x\":[12.355327,10.76923244400512],\"y\":[10.322425,8.119580951552635],\"z\":[20.45541,21.252740174602675],\"type\":\"scatter3d\"},{\"marker\":{\"color\":[\"#EF553B\",\"#636EFA\",\"#EF553B\",\"#636EFA\",\"#EF553B\",\"#EF553B\",\"#EF553B\",\"#EF553B\",\"rgb(179, 205, 227)\",\"#636EFA\",\"rgb(179, 205, 227)\",\"#EF553B\",\"rgb(179, 205, 227)\",\"#EF553B\",\"#EF553B\",\"#EF553B\",\"rgb(179, 205, 227)\",\"rgb(179, 205, 227)\",\"#EF553B\",\"rgb(179, 205, 227)\",\"#636EFA\",\"#EF553B\",\"#636EFA\",\"#EF553B\",\"rgb(179, 205, 227)\",\"#EF553B\",\"#EF553B\",\"#EF553B\",\"#EF553B\",\"#636EFA\",\"#EF553B\",\"rgb(179, 205, 227)\",\"#EF553B\",\"#00CC96\",\"#636EFA\",\"#636EFA\",\"#EF553B\",\"#00CC96\",\"#EF553B\",\"#636EFA\",\"#00CC96\",\"#EF553B\",\"#EF553B\",\"#636EFA\",\"#EF553B\",\"#EF553B\",\"#EF553B\",\"#EF553B\",\"#636EFA\",\"#00CC96\",\"#EF553B\",\"#636EFA\",\"#EF553B\",\"#EF553B\",\"#636EFA\",\"#00CC96\",\"#EF553B\",\"#EF553B\",\"#EF553B\",\"#00CC96\",\"#EF553B\",\"#EF553B\",\"#636EFA\",\"#EF553B\",\"#EF553B\",\"#EF553B\",\"#636EFA\",\"#EF553B\",\"#636EFA\",\"#EF553B\",\"#EF553B\",\"#636EFA\",\"#636EFA\",\"#EF553B\"],\"size\":5,\"line\":{\"color\":\"DarkSlateGrey\",\"width\":2}},\"mode\":\"markers\",\"showlegend\":false,\"x\":[11.113815,13.193277,11.36551,12.275262,11.465577,11.397931,9.014369,10.445036,13.084762,12.5729265,12.530627,10.542673,14.357714,11.568377,9.571724,10.783549,14.246235,13.779974,11.403646,14.87136,14.110971,11.317299,13.648256,9.387027,14.841174,11.01177,11.611861,10.9997635,13.384659,12.761199,11.004806,13.4673395,11.276823,2.7155824,11.280384,11.736194,10.918215,2.347755,10.495303,13.209538,2.5718184,10.888228,11.481734,13.456529,11.04935,10.8213,11.169366,10.637614,13.441044,2.4550478,10.721133,13.196257,10.998121,11.066662,13.855052,2.8291597,11.052477,10.541386,10.090337,2.6270823,10.271494,11.910392,13.4742985,10.175466,9.36597,9.704807,13.391838,10.566479,13.277376,11.146661,12.355327,13.438237,13.645536,11.270695],\"y\":[10.275453,9.613187,10.008437,9.9499035,9.634446,9.302566,10.452098,10.473545,10.21043,10.514854,9.953819,8.764806,9.182938,9.057268,9.554189,7.9557395,9.57484,9.684966,8.426901,9.443645,9.530474,9.487897,8.506605,9.537378,9.16361,8.816903,8.592716,7.823455,9.57302,10.722335,7.781951,7.4712152,10.3449135,6.9326477,9.838772,9.50602,10.162161,6.7369547,9.104143,9.215751,7.092851,10.450801,10.248935,9.0321665,10.404863,10.248566,10.014798,10.116172,10.229832,6.7710013,7.790931,7.4771304,9.863325,9.851558,8.886627,7.098556,9.593743,10.328006,9.349282,7.119021,7.8539495,7.922406,7.2245054,8.155363,10.249665,9.260765,7.3386655,10.373944,8.3686075,8.629356,10.322425,7.296065,8.256078,8.488235],\"z\":[19.99639,21.984776,19.95813,20.945478,20.000305,20.424665,19.482859,19.699467,21.951578,21.400473,21.343512,20.817991,22.392056,20.262426,20.006601,20.717484,22.520487,22.073275,20.466372,22.199211,22.583776,21.053545,19.963802,19.789116,21.887238,20.147186,21.65834,20.991306,20.477922,21.47465,21.091736,20.080341,19.9917,13.220984,19.8221,21.270308,19.87842,13.09614,20.849371,20.435629,13.154282,20.074379,20.07151,20.202145,20.23692,19.797485,19.707117,20.931118,21.754719,13.265595,21.216028,20.79219,21.368938,21.46488,22.137373,13.209548,21.53712,19.603868,20.933596,13.357022,21.106485,20.638878,20.623318,21.020044,19.724329,20.238384,20.686281,19.549604,19.968266,19.942024,20.45541,20.458323,19.911388,20.06832],\"type\":\"scatter3d\"},{\"marker\":{\"color\":[\"#EF553B\",\"#636EFA\",\"#EF553B\",\"#636EFA\",\"#EF553B\",\"#EF553B\",\"#EF553B\",\"#EF553B\",\"rgb(179, 205, 227)\",\"#636EFA\",\"rgb(179, 205, 227)\",\"#EF553B\",\"rgb(179, 205, 227)\",\"#EF553B\",\"#EF553B\",\"#EF553B\",\"rgb(179, 205, 227)\",\"rgb(179, 205, 227)\",\"#EF553B\",\"rgb(179, 205, 227)\",\"#636EFA\",\"#EF553B\",\"#636EFA\",\"#EF553B\",\"rgb(179, 205, 227)\",\"#EF553B\",\"#EF553B\",\"#EF553B\",\"#EF553B\",\"#636EFA\",\"#EF553B\",\"rgb(179, 205, 227)\",\"#EF553B\",\"#00CC96\",\"#636EFA\",\"#636EFA\",\"#EF553B\",\"#00CC96\",\"#EF553B\",\"#636EFA\",\"#00CC96\",\"#EF553B\",\"#EF553B\",\"#636EFA\",\"#EF553B\",\"#EF553B\",\"#EF553B\",\"#EF553B\",\"#636EFA\",\"#00CC96\",\"#EF553B\",\"#636EFA\",\"#EF553B\",\"#EF553B\",\"#636EFA\",\"#00CC96\",\"#EF553B\",\"#EF553B\",\"#EF553B\",\"#00CC96\",\"#EF553B\",\"#EF553B\",\"#636EFA\",\"#EF553B\",\"#EF553B\",\"#EF553B\",\"#636EFA\",\"#EF553B\",\"#636EFA\",\"#EF553B\",\"#EF553B\",\"#636EFA\",\"#636EFA\",\"#EF553B\"],\"size\":10,\"symbol\":\"diamond\",\"line\":{\"color\":\"DarkSlateGrey\",\"width\":2}},\"mode\":\"markers\",\"showlegend\":false,\"x\":[12.482991062543608,12.53002723163182,12.45849393492836,12.502442092868884,12.515973444836451,12.480891630016139,12.527631299024424,12.640444391994405,11.940691775286725,12.537889286689099,12.080757897899067,12.145492997406327,12.887482072298162,12.401340976124974,12.543754635279768,11.208657888249295,12.885160070889022,12.25454192175661,12.450628481071977,12.923612352214274,12.88079015443888,13.130731020096285,13.665690862496318,11.244786183673085,12.920687038947857,12.308734365706401,11.482527652730326,11.361412287560583,12.341494903263944,13.658238201043925,11.463265612486532,12.890213542679247,11.207448619148852,2.471670227292634,12.542644371241543,12.550598912770235,10.898517759387392,2.458726477562794,11.358456258754856,12.61071924321136,2.4976462099075762,11.184828144316356,11.216278113908036,12.66116366880005,10.746996420676313,10.872115116037639,11.315322041304988,10.363787683130035,13.981317339849163,2.331352474980598,11.010966621778486,13.785707205156612,10.957489307261683,10.305476073298504,13.747155997726292,2.3818615416784326,10.95339967459998,10.402220314480301,10.52987443660259,2.3955826861889404,10.907489555823112,10.921381665445159,13.682103474435674,10.433011374048458,10.24082455239975,10.67722452144554,13.973884992306942,10.291850298641123,13.8672326924782,10.876090966068745,10.76923244400512,14.103935667439469,13.97563465479217,11.004021431752589],\"y\":[10.004631585314542,9.850936633574928,9.992034390314734,9.797278632655201,10.085133913551385,10.011774046765513,10.097800215049267,10.204799784240643,9.352846157434865,9.842975644656342,9.51606505616264,9.568306589074865,8.829610849701513,9.64949035945086,9.780108465012226,8.566298491665396,8.985059771661001,9.043484668173573,9.103630578769923,9.500403142917238,9.595574191235213,9.75309441463724,9.418404584664625,8.580797178791185,8.881125025851613,9.663046736567136,8.661345317066155,8.602999648723648,9.631862997400416,9.382882013807844,8.688295124666658,8.906063378229117,10.148061898700817,6.905503937850509,9.839248187273945,9.861251184678846,9.853340288347507,6.818162112047188,10.112221515615609,9.897109171073058,6.8597219310909585,9.999884971735924,10.064313909966566,9.921279520159322,9.712600204597184,9.946424435735914,10.10809928691341,8.99134026426245,9.400749270251733,6.804338451944885,8.319835252177445,8.710975581708762,8.270110424643802,9.003991086399271,9.309724715714989,6.970411031467816,8.303020712682864,9.021578750064386,9.32009879372896,7.01932573870654,8.1438054354264,8.240997105642307,8.65624742518368,9.182046649474687,9.01825794872516,7.979730430808904,8.750153310296776,8.96571537532758,9.318608840115086,8.16645731809349,8.119580951552635,8.80031034443677,9.39239873555316,8.31201640992534],\"z\":[21.319504825802333,21.067068872810605,21.279393627594338,20.97042205914776,21.460969541628504,21.321995587131337,21.489063802552206,21.724839318733675,20.145409263479365,21.057614161793786,20.44666681156137,21.295929115273506,20.50432959600432,21.520488467239364,21.80832982098822,20.053364750904993,20.762531992101295,20.355868012206283,21.160928007479747,21.74022906691685,21.95509812328525,22.093431595162595,21.52519867501288,20.108445984763673,20.58391130212223,21.520442741927784,20.13436779921281,20.134278922891713,21.470419265611586,21.4698520498003,20.1470620296637,20.596436465740123,20.623728759202265,13.231705363629224,21.33042618485169,21.361928977249537,20.075685799736462,13.086472615414046,20.71153064383822,21.42741135350219,13.208095204745185,20.33939696755589,20.598864077031262,21.47737298343588,19.731620915505165,20.193055530599693,20.654615938160774,20.0054397194919,21.63358270426447,12.803060955185327,21.643554930981313,21.502413948939434,21.555809104366013,20.017367823101598,21.39218115149578,13.10526439605582,21.576430149041727,20.072951757755394,20.633275740039306,13.195078656371576,21.105130578351606,21.51523106708896,21.361034262228628,20.429869806706343,20.07820125636381,20.983901327569185,21.520314822020946,19.93392531361295,21.454643134671052,21.359724781193272,21.252740174602675,21.599692418804477,21.61712154539911,21.629653250372925],\"type\":\"scatter3d\"}],                        {\"template\":{\"data\":{\"histogram2dcontour\":[{\"type\":\"histogram2dcontour\",\"colorbar\":{\"outlinewidth\":0,\"ticks\":\"\"},\"colorscale\":[[0.0,\"#0d0887\"],[0.1111111111111111,\"#46039f\"],[0.2222222222222222,\"#7201a8\"],[0.3333333333333333,\"#9c179e\"],[0.4444444444444444,\"#bd3786\"],[0.5555555555555556,\"#d8576b\"],[0.6666666666666666,\"#ed7953\"],[0.7777777777777778,\"#fb9f3a\"],[0.8888888888888888,\"#fdca26\"],[1.0,\"#f0f921\"]]}],\"choropleth\":[{\"type\":\"choropleth\",\"colorbar\":{\"outlinewidth\":0,\"ticks\":\"\"}}],\"histogram2d\":[{\"type\":\"histogram2d\",\"colorbar\":{\"outlinewidth\":0,\"ticks\":\"\"},\"colorscale\":[[0.0,\"#0d0887\"],[0.1111111111111111,\"#46039f\"],[0.2222222222222222,\"#7201a8\"],[0.3333333333333333,\"#9c179e\"],[0.4444444444444444,\"#bd3786\"],[0.5555555555555556,\"#d8576b\"],[0.6666666666666666,\"#ed7953\"],[0.7777777777777778,\"#fb9f3a\"],[0.8888888888888888,\"#fdca26\"],[1.0,\"#f0f921\"]]}],\"heatmap\":[{\"type\":\"heatmap\",\"colorbar\":{\"outlinewidth\":0,\"ticks\":\"\"},\"colorscale\":[[0.0,\"#0d0887\"],[0.1111111111111111,\"#46039f\"],[0.2222222222222222,\"#7201a8\"],[0.3333333333333333,\"#9c179e\"],[0.4444444444444444,\"#bd3786\"],[0.5555555555555556,\"#d8576b\"],[0.6666666666666666,\"#ed7953\"],[0.7777777777777778,\"#fb9f3a\"],[0.8888888888888888,\"#fdca26\"],[1.0,\"#f0f921\"]]}],\"heatmapgl\":[{\"type\":\"heatmapgl\",\"colorbar\":{\"outlinewidth\":0,\"ticks\":\"\"},\"colorscale\":[[0.0,\"#0d0887\"],[0.1111111111111111,\"#46039f\"],[0.2222222222222222,\"#7201a8\"],[0.3333333333333333,\"#9c179e\"],[0.4444444444444444,\"#bd3786\"],[0.5555555555555556,\"#d8576b\"],[0.6666666666666666,\"#ed7953\"],[0.7777777777777778,\"#fb9f3a\"],[0.8888888888888888,\"#fdca26\"],[1.0,\"#f0f921\"]]}],\"contourcarpet\":[{\"type\":\"contourcarpet\",\"colorbar\":{\"outlinewidth\":0,\"ticks\":\"\"}}],\"contour\":[{\"type\":\"contour\",\"colorbar\":{\"outlinewidth\":0,\"ticks\":\"\"},\"colorscale\":[[0.0,\"#0d0887\"],[0.1111111111111111,\"#46039f\"],[0.2222222222222222,\"#7201a8\"],[0.3333333333333333,\"#9c179e\"],[0.4444444444444444,\"#bd3786\"],[0.5555555555555556,\"#d8576b\"],[0.6666666666666666,\"#ed7953\"],[0.7777777777777778,\"#fb9f3a\"],[0.8888888888888888,\"#fdca26\"],[1.0,\"#f0f921\"]]}],\"surface\":[{\"type\":\"surface\",\"colorbar\":{\"outlinewidth\":0,\"ticks\":\"\"},\"colorscale\":[[0.0,\"#0d0887\"],[0.1111111111111111,\"#46039f\"],[0.2222222222222222,\"#7201a8\"],[0.3333333333333333,\"#9c179e\"],[0.4444444444444444,\"#bd3786\"],[0.5555555555555556,\"#d8576b\"],[0.6666666666666666,\"#ed7953\"],[0.7777777777777778,\"#fb9f3a\"],[0.8888888888888888,\"#fdca26\"],[1.0,\"#f0f921\"]]}],\"mesh3d\":[{\"type\":\"mesh3d\",\"colorbar\":{\"outlinewidth\":0,\"ticks\":\"\"}}],\"scatter\":[{\"fillpattern\":{\"fillmode\":\"overlay\",\"size\":10,\"solidity\":0.2},\"type\":\"scatter\"}],\"parcoords\":[{\"type\":\"parcoords\",\"line\":{\"colorbar\":{\"outlinewidth\":0,\"ticks\":\"\"}}}],\"scatterpolargl\":[{\"type\":\"scatterpolargl\",\"marker\":{\"colorbar\":{\"outlinewidth\":0,\"ticks\":\"\"}}}],\"bar\":[{\"error_x\":{\"color\":\"#2a3f5f\"},\"error_y\":{\"color\":\"#2a3f5f\"},\"marker\":{\"line\":{\"color\":\"#E5ECF6\",\"width\":0.5},\"pattern\":{\"fillmode\":\"overlay\",\"size\":10,\"solidity\":0.2}},\"type\":\"bar\"}],\"scattergeo\":[{\"type\":\"scattergeo\",\"marker\":{\"colorbar\":{\"outlinewidth\":0,\"ticks\":\"\"}}}],\"scatterpolar\":[{\"type\":\"scatterpolar\",\"marker\":{\"colorbar\":{\"outlinewidth\":0,\"ticks\":\"\"}}}],\"histogram\":[{\"marker\":{\"pattern\":{\"fillmode\":\"overlay\",\"size\":10,\"solidity\":0.2}},\"type\":\"histogram\"}],\"scattergl\":[{\"type\":\"scattergl\",\"marker\":{\"colorbar\":{\"outlinewidth\":0,\"ticks\":\"\"}}}],\"scatter3d\":[{\"type\":\"scatter3d\",\"line\":{\"colorbar\":{\"outlinewidth\":0,\"ticks\":\"\"}},\"marker\":{\"colorbar\":{\"outlinewidth\":0,\"ticks\":\"\"}}}],\"scattermapbox\":[{\"type\":\"scattermapbox\",\"marker\":{\"colorbar\":{\"outlinewidth\":0,\"ticks\":\"\"}}}],\"scatterternary\":[{\"type\":\"scatterternary\",\"marker\":{\"colorbar\":{\"outlinewidth\":0,\"ticks\":\"\"}}}],\"scattercarpet\":[{\"type\":\"scattercarpet\",\"marker\":{\"colorbar\":{\"outlinewidth\":0,\"ticks\":\"\"}}}],\"carpet\":[{\"aaxis\":{\"endlinecolor\":\"#2a3f5f\",\"gridcolor\":\"white\",\"linecolor\":\"white\",\"minorgridcolor\":\"white\",\"startlinecolor\":\"#2a3f5f\"},\"baxis\":{\"endlinecolor\":\"#2a3f5f\",\"gridcolor\":\"white\",\"linecolor\":\"white\",\"minorgridcolor\":\"white\",\"startlinecolor\":\"#2a3f5f\"},\"type\":\"carpet\"}],\"table\":[{\"cells\":{\"fill\":{\"color\":\"#EBF0F8\"},\"line\":{\"color\":\"white\"}},\"header\":{\"fill\":{\"color\":\"#C8D4E3\"},\"line\":{\"color\":\"white\"}},\"type\":\"table\"}],\"barpolar\":[{\"marker\":{\"line\":{\"color\":\"#E5ECF6\",\"width\":0.5},\"pattern\":{\"fillmode\":\"overlay\",\"size\":10,\"solidity\":0.2}},\"type\":\"barpolar\"}],\"pie\":[{\"automargin\":true,\"type\":\"pie\"}]},\"layout\":{\"autotypenumbers\":\"strict\",\"colorway\":[\"#636efa\",\"#EF553B\",\"#00cc96\",\"#ab63fa\",\"#FFA15A\",\"#19d3f3\",\"#FF6692\",\"#B6E880\",\"#FF97FF\",\"#FECB52\"],\"font\":{\"color\":\"#2a3f5f\"},\"hovermode\":\"closest\",\"hoverlabel\":{\"align\":\"left\"},\"paper_bgcolor\":\"white\",\"plot_bgcolor\":\"#E5ECF6\",\"polar\":{\"bgcolor\":\"#E5ECF6\",\"angularaxis\":{\"gridcolor\":\"white\",\"linecolor\":\"white\",\"ticks\":\"\"},\"radialaxis\":{\"gridcolor\":\"white\",\"linecolor\":\"white\",\"ticks\":\"\"}},\"ternary\":{\"bgcolor\":\"#E5ECF6\",\"aaxis\":{\"gridcolor\":\"white\",\"linecolor\":\"white\",\"ticks\":\"\"},\"baxis\":{\"gridcolor\":\"white\",\"linecolor\":\"white\",\"ticks\":\"\"},\"caxis\":{\"gridcolor\":\"white\",\"linecolor\":\"white\",\"ticks\":\"\"}},\"coloraxis\":{\"colorbar\":{\"outlinewidth\":0,\"ticks\":\"\"}},\"colorscale\":{\"sequential\":[[0.0,\"#0d0887\"],[0.1111111111111111,\"#46039f\"],[0.2222222222222222,\"#7201a8\"],[0.3333333333333333,\"#9c179e\"],[0.4444444444444444,\"#bd3786\"],[0.5555555555555556,\"#d8576b\"],[0.6666666666666666,\"#ed7953\"],[0.7777777777777778,\"#fb9f3a\"],[0.8888888888888888,\"#fdca26\"],[1.0,\"#f0f921\"]],\"sequentialminus\":[[0.0,\"#0d0887\"],[0.1111111111111111,\"#46039f\"],[0.2222222222222222,\"#7201a8\"],[0.3333333333333333,\"#9c179e\"],[0.4444444444444444,\"#bd3786\"],[0.5555555555555556,\"#d8576b\"],[0.6666666666666666,\"#ed7953\"],[0.7777777777777778,\"#fb9f3a\"],[0.8888888888888888,\"#fdca26\"],[1.0,\"#f0f921\"]],\"diverging\":[[0,\"#8e0152\"],[0.1,\"#c51b7d\"],[0.2,\"#de77ae\"],[0.3,\"#f1b6da\"],[0.4,\"#fde0ef\"],[0.5,\"#f7f7f7\"],[0.6,\"#e6f5d0\"],[0.7,\"#b8e186\"],[0.8,\"#7fbc41\"],[0.9,\"#4d9221\"],[1,\"#276419\"]]},\"xaxis\":{\"gridcolor\":\"white\",\"linecolor\":\"white\",\"ticks\":\"\",\"title\":{\"standoff\":15},\"zerolinecolor\":\"white\",\"automargin\":true,\"zerolinewidth\":2},\"yaxis\":{\"gridcolor\":\"white\",\"linecolor\":\"white\",\"ticks\":\"\",\"title\":{\"standoff\":15},\"zerolinecolor\":\"white\",\"automargin\":true,\"zerolinewidth\":2},\"scene\":{\"xaxis\":{\"backgroundcolor\":\"#E5ECF6\",\"gridcolor\":\"white\",\"linecolor\":\"white\",\"showbackground\":true,\"ticks\":\"\",\"zerolinecolor\":\"white\",\"gridwidth\":2},\"yaxis\":{\"backgroundcolor\":\"#E5ECF6\",\"gridcolor\":\"white\",\"linecolor\":\"white\",\"showbackground\":true,\"ticks\":\"\",\"zerolinecolor\":\"white\",\"gridwidth\":2},\"zaxis\":{\"backgroundcolor\":\"#E5ECF6\",\"gridcolor\":\"white\",\"linecolor\":\"white\",\"showbackground\":true,\"ticks\":\"\",\"zerolinecolor\":\"white\",\"gridwidth\":2}},\"shapedefaults\":{\"line\":{\"color\":\"#2a3f5f\"}},\"annotationdefaults\":{\"arrowcolor\":\"#2a3f5f\",\"arrowhead\":0,\"arrowwidth\":1},\"geo\":{\"bgcolor\":\"white\",\"landcolor\":\"#E5ECF6\",\"subunitcolor\":\"white\",\"showland\":true,\"showlakes\":true,\"lakecolor\":\"white\"},\"title\":{\"x\":0.05},\"mapbox\":{\"style\":\"light\"}}}},                        {\"responsive\": true}                    ).then(function(){\n",
       "                            \n",
       "var gd = document.getElementById('78a6fce1-e261-44ce-9a9d-9323fa55f527');\n",
       "var x = new MutationObserver(function (mutations, observer) {{\n",
       "        var display = window.getComputedStyle(gd).display;\n",
       "        if (!display || display === 'none') {{\n",
       "            console.log([gd, 'removed!']);\n",
       "            Plotly.purge(gd);\n",
       "            observer.disconnect();\n",
       "        }}\n",
       "}});\n",
       "\n",
       "// Listen for the removal of the full notebook cells\n",
       "var notebookContainer = gd.closest('#notebook-container');\n",
       "if (notebookContainer) {{\n",
       "    x.observe(notebookContainer, {childList: true});\n",
       "}}\n",
       "\n",
       "// Listen for the clearing of the current output cell\n",
       "var outputEl = gd.closest('.output');\n",
       "if (outputEl) {{\n",
       "    x.observe(outputEl, {childList: true});\n",
       "}}\n",
       "\n",
       "                        })                };                });            </script>        </div>"
      ]
     },
     "metadata": {},
     "output_type": "display_data"
    }
   ],
   "source": [
    "Y_test_pd = regr_u.predict(X_test_u)\n",
    "Y_test_arr = Y_test_u.to_numpy()\n",
    "\n",
    "color_dict2 = dict({\"lmx1b\" :\"#EF553B\" , \"wik\":\"rgb(179, 205, 227)\", \"wik-inj-ctrl\":\"#636EFA\", \"tbxta\":\"#00CC96\"})\n",
    "color_vec_u = np.asarray([color_dict2[p] for p in master_df_ref.loc[test_indices, \"master_perturbation\"].tolist()])\n",
    "fig = go.Figure()\n",
    "\n",
    "for r in range(Y_test.shape[0]):\n",
    "    data = np.concatenate((Y_test_arr[r, :].reshape((1,3)), Y_test_pd[r, :].reshape((1,3))), axis=0)\n",
    "\n",
    "    fig.add_trace(go.Scatter3d(x=data[:, 0], y=data[:, 1], z=data[:, 2], mode=\"lines+markers\", \n",
    "                               line=dict(color='DarkSlateGrey'), marker=dict(size=1),\n",
    "                            showlegend=False))\n",
    "    \n",
    "fig.add_trace(go.Scatter3d(x=Y_test_arr[:, 0], y=Y_test_arr[:, 1], z=Y_test_arr[:, 2], mode=\"markers\", \n",
    "                         marker=dict(color=color_vec_u, size=5), showlegend=False))\n",
    "fig.add_trace(go.Scatter3d(x=Y_test_pd[:, 0], y=Y_test_pd[:, 1], z=Y_test_pd[:, 2], mode=\"markers\", \n",
    "                         marker=dict(color=color_vec_u, size=10, symbol=\"diamond\"), showlegend=False))\n",
    "\n",
    "fig.update_traces(marker=dict( \n",
    "                              line=dict(width=2,\n",
    "                                        color='DarkSlateGrey'))\n",
    "                 )\n",
    "    \n",
    "fig.show()"
   ]
  },
  {
   "cell_type": "code",
   "execution_count": 187,
   "id": "e38b368c",
   "metadata": {},
   "outputs": [
    {
     "data": {
      "application/vnd.plotly.v1+json": {
       "config": {
        "plotlyServerURL": "https://plot.ly"
       },
       "data": [
        {
         "marker": {
          "color": [
           "#EF553B",
           "#636EFA",
           "#EF553B",
           "#636EFA",
           "#EF553B",
           "#EF553B",
           "#EF553B",
           "#EF553B",
           "rgb(179, 205, 227)",
           "#636EFA",
           "rgb(179, 205, 227)",
           "#EF553B",
           "rgb(179, 205, 227)",
           "#EF553B",
           "#EF553B",
           "#EF553B",
           "rgb(179, 205, 227)",
           "rgb(179, 205, 227)",
           "#EF553B",
           "rgb(179, 205, 227)",
           "#636EFA",
           "#EF553B",
           "#636EFA",
           "#EF553B",
           "rgb(179, 205, 227)",
           "#EF553B",
           "#EF553B",
           "#EF553B",
           "#EF553B",
           "#636EFA",
           "#EF553B",
           "rgb(179, 205, 227)",
           "#EF553B",
           "#00CC96",
           "#636EFA",
           "#636EFA",
           "#EF553B",
           "#00CC96",
           "#EF553B",
           "#636EFA",
           "#00CC96",
           "#EF553B",
           "#EF553B",
           "#636EFA",
           "#EF553B",
           "#EF553B",
           "#EF553B",
           "#EF553B",
           "#636EFA",
           "#00CC96",
           "#EF553B",
           "#636EFA",
           "#EF553B",
           "#EF553B",
           "#636EFA",
           "#00CC96",
           "#EF553B",
           "#EF553B",
           "#EF553B",
           "#00CC96",
           "#EF553B",
           "#EF553B",
           "#636EFA",
           "#EF553B",
           "#EF553B",
           "#EF553B",
           "#636EFA",
           "#EF553B",
           "#636EFA",
           "#EF553B",
           "#EF553B",
           "#636EFA",
           "#636EFA",
           "#EF553B"
          ],
          "line": {
           "color": "DarkSlateGrey",
           "width": 2
          },
          "size": 7
         },
         "mode": "markers",
         "showlegend": false,
         "type": "scatter",
         "x": [
          11.113815,
          13.193277,
          11.36551,
          12.275262,
          11.465577,
          11.397931,
          9.014369,
          10.445036,
          13.084762,
          12.5729265,
          12.530627,
          10.542673,
          14.357714,
          11.568377,
          9.571724,
          10.783549,
          14.246235,
          13.779974,
          11.403646,
          14.87136,
          14.110971,
          11.317299,
          13.648256,
          9.387027,
          14.841174,
          11.01177,
          11.611861,
          10.9997635,
          13.384659,
          12.761199,
          11.004806,
          13.4673395,
          11.276823,
          2.7155824,
          11.280384,
          11.736194,
          10.918215,
          2.347755,
          10.495303,
          13.209538,
          2.5718184,
          10.888228,
          11.481734,
          13.456529,
          11.04935,
          10.8213,
          11.169366,
          10.637614,
          13.441044,
          2.4550478,
          10.721133,
          13.196257,
          10.998121,
          11.066662,
          13.855052,
          2.8291597,
          11.052477,
          10.541386,
          10.090337,
          2.6270823,
          10.271494,
          11.910392,
          13.4742985,
          10.175466,
          9.36597,
          9.704807,
          13.391838,
          10.566479,
          13.277376,
          11.146661,
          12.355327,
          13.438237,
          13.645536,
          11.270695
         ],
         "y": [
          10.275453,
          9.613187,
          10.008437,
          9.9499035,
          9.634446,
          9.302566,
          10.452098,
          10.473545,
          10.21043,
          10.514854,
          9.953819,
          8.764806,
          9.182938,
          9.057268,
          9.554189,
          7.9557395,
          9.57484,
          9.684966,
          8.426901,
          9.443645,
          9.530474,
          9.487897,
          8.506605,
          9.537378,
          9.16361,
          8.816903,
          8.592716,
          7.823455,
          9.57302,
          10.722335,
          7.781951,
          7.4712152,
          10.3449135,
          6.9326477,
          9.838772,
          9.50602,
          10.162161,
          6.7369547,
          9.104143,
          9.215751,
          7.092851,
          10.450801,
          10.248935,
          9.0321665,
          10.404863,
          10.248566,
          10.014798,
          10.116172,
          10.229832,
          6.7710013,
          7.790931,
          7.4771304,
          9.863325,
          9.851558,
          8.886627,
          7.098556,
          9.593743,
          10.328006,
          9.349282,
          7.119021,
          7.8539495,
          7.922406,
          7.2245054,
          8.155363,
          10.249665,
          9.260765,
          7.3386655,
          10.373944,
          8.3686075,
          8.629356,
          10.322425,
          7.296065,
          8.256078,
          8.488235
         ]
        }
       ],
       "layout": {
        "font": {
         "color": "Black",
         "family": "Arial",
         "size": 14
        },
        "legend": {
         "title": {
          "text": "stage (hpf)"
         }
        },
        "template": {
         "data": {
          "bar": [
           {
            "error_x": {
             "color": "#2a3f5f"
            },
            "error_y": {
             "color": "#2a3f5f"
            },
            "marker": {
             "line": {
              "color": "#E5ECF6",
              "width": 0.5
             },
             "pattern": {
              "fillmode": "overlay",
              "size": 10,
              "solidity": 0.2
             }
            },
            "type": "bar"
           }
          ],
          "barpolar": [
           {
            "marker": {
             "line": {
              "color": "#E5ECF6",
              "width": 0.5
             },
             "pattern": {
              "fillmode": "overlay",
              "size": 10,
              "solidity": 0.2
             }
            },
            "type": "barpolar"
           }
          ],
          "carpet": [
           {
            "aaxis": {
             "endlinecolor": "#2a3f5f",
             "gridcolor": "white",
             "linecolor": "white",
             "minorgridcolor": "white",
             "startlinecolor": "#2a3f5f"
            },
            "baxis": {
             "endlinecolor": "#2a3f5f",
             "gridcolor": "white",
             "linecolor": "white",
             "minorgridcolor": "white",
             "startlinecolor": "#2a3f5f"
            },
            "type": "carpet"
           }
          ],
          "choropleth": [
           {
            "colorbar": {
             "outlinewidth": 0,
             "ticks": ""
            },
            "type": "choropleth"
           }
          ],
          "contour": [
           {
            "colorbar": {
             "outlinewidth": 0,
             "ticks": ""
            },
            "colorscale": [
             [
              0,
              "#0d0887"
             ],
             [
              0.1111111111111111,
              "#46039f"
             ],
             [
              0.2222222222222222,
              "#7201a8"
             ],
             [
              0.3333333333333333,
              "#9c179e"
             ],
             [
              0.4444444444444444,
              "#bd3786"
             ],
             [
              0.5555555555555556,
              "#d8576b"
             ],
             [
              0.6666666666666666,
              "#ed7953"
             ],
             [
              0.7777777777777778,
              "#fb9f3a"
             ],
             [
              0.8888888888888888,
              "#fdca26"
             ],
             [
              1,
              "#f0f921"
             ]
            ],
            "type": "contour"
           }
          ],
          "contourcarpet": [
           {
            "colorbar": {
             "outlinewidth": 0,
             "ticks": ""
            },
            "type": "contourcarpet"
           }
          ],
          "heatmap": [
           {
            "colorbar": {
             "outlinewidth": 0,
             "ticks": ""
            },
            "colorscale": [
             [
              0,
              "#0d0887"
             ],
             [
              0.1111111111111111,
              "#46039f"
             ],
             [
              0.2222222222222222,
              "#7201a8"
             ],
             [
              0.3333333333333333,
              "#9c179e"
             ],
             [
              0.4444444444444444,
              "#bd3786"
             ],
             [
              0.5555555555555556,
              "#d8576b"
             ],
             [
              0.6666666666666666,
              "#ed7953"
             ],
             [
              0.7777777777777778,
              "#fb9f3a"
             ],
             [
              0.8888888888888888,
              "#fdca26"
             ],
             [
              1,
              "#f0f921"
             ]
            ],
            "type": "heatmap"
           }
          ],
          "heatmapgl": [
           {
            "colorbar": {
             "outlinewidth": 0,
             "ticks": ""
            },
            "colorscale": [
             [
              0,
              "#0d0887"
             ],
             [
              0.1111111111111111,
              "#46039f"
             ],
             [
              0.2222222222222222,
              "#7201a8"
             ],
             [
              0.3333333333333333,
              "#9c179e"
             ],
             [
              0.4444444444444444,
              "#bd3786"
             ],
             [
              0.5555555555555556,
              "#d8576b"
             ],
             [
              0.6666666666666666,
              "#ed7953"
             ],
             [
              0.7777777777777778,
              "#fb9f3a"
             ],
             [
              0.8888888888888888,
              "#fdca26"
             ],
             [
              1,
              "#f0f921"
             ]
            ],
            "type": "heatmapgl"
           }
          ],
          "histogram": [
           {
            "marker": {
             "pattern": {
              "fillmode": "overlay",
              "size": 10,
              "solidity": 0.2
             }
            },
            "type": "histogram"
           }
          ],
          "histogram2d": [
           {
            "colorbar": {
             "outlinewidth": 0,
             "ticks": ""
            },
            "colorscale": [
             [
              0,
              "#0d0887"
             ],
             [
              0.1111111111111111,
              "#46039f"
             ],
             [
              0.2222222222222222,
              "#7201a8"
             ],
             [
              0.3333333333333333,
              "#9c179e"
             ],
             [
              0.4444444444444444,
              "#bd3786"
             ],
             [
              0.5555555555555556,
              "#d8576b"
             ],
             [
              0.6666666666666666,
              "#ed7953"
             ],
             [
              0.7777777777777778,
              "#fb9f3a"
             ],
             [
              0.8888888888888888,
              "#fdca26"
             ],
             [
              1,
              "#f0f921"
             ]
            ],
            "type": "histogram2d"
           }
          ],
          "histogram2dcontour": [
           {
            "colorbar": {
             "outlinewidth": 0,
             "ticks": ""
            },
            "colorscale": [
             [
              0,
              "#0d0887"
             ],
             [
              0.1111111111111111,
              "#46039f"
             ],
             [
              0.2222222222222222,
              "#7201a8"
             ],
             [
              0.3333333333333333,
              "#9c179e"
             ],
             [
              0.4444444444444444,
              "#bd3786"
             ],
             [
              0.5555555555555556,
              "#d8576b"
             ],
             [
              0.6666666666666666,
              "#ed7953"
             ],
             [
              0.7777777777777778,
              "#fb9f3a"
             ],
             [
              0.8888888888888888,
              "#fdca26"
             ],
             [
              1,
              "#f0f921"
             ]
            ],
            "type": "histogram2dcontour"
           }
          ],
          "mesh3d": [
           {
            "colorbar": {
             "outlinewidth": 0,
             "ticks": ""
            },
            "type": "mesh3d"
           }
          ],
          "parcoords": [
           {
            "line": {
             "colorbar": {
              "outlinewidth": 0,
              "ticks": ""
             }
            },
            "type": "parcoords"
           }
          ],
          "pie": [
           {
            "automargin": true,
            "type": "pie"
           }
          ],
          "scatter": [
           {
            "fillpattern": {
             "fillmode": "overlay",
             "size": 10,
             "solidity": 0.2
            },
            "type": "scatter"
           }
          ],
          "scatter3d": [
           {
            "line": {
             "colorbar": {
              "outlinewidth": 0,
              "ticks": ""
             }
            },
            "marker": {
             "colorbar": {
              "outlinewidth": 0,
              "ticks": ""
             }
            },
            "type": "scatter3d"
           }
          ],
          "scattercarpet": [
           {
            "marker": {
             "colorbar": {
              "outlinewidth": 0,
              "ticks": ""
             }
            },
            "type": "scattercarpet"
           }
          ],
          "scattergeo": [
           {
            "marker": {
             "colorbar": {
              "outlinewidth": 0,
              "ticks": ""
             }
            },
            "type": "scattergeo"
           }
          ],
          "scattergl": [
           {
            "marker": {
             "colorbar": {
              "outlinewidth": 0,
              "ticks": ""
             }
            },
            "type": "scattergl"
           }
          ],
          "scattermapbox": [
           {
            "marker": {
             "colorbar": {
              "outlinewidth": 0,
              "ticks": ""
             }
            },
            "type": "scattermapbox"
           }
          ],
          "scatterpolar": [
           {
            "marker": {
             "colorbar": {
              "outlinewidth": 0,
              "ticks": ""
             }
            },
            "type": "scatterpolar"
           }
          ],
          "scatterpolargl": [
           {
            "marker": {
             "colorbar": {
              "outlinewidth": 0,
              "ticks": ""
             }
            },
            "type": "scatterpolargl"
           }
          ],
          "scatterternary": [
           {
            "marker": {
             "colorbar": {
              "outlinewidth": 0,
              "ticks": ""
             }
            },
            "type": "scatterternary"
           }
          ],
          "surface": [
           {
            "colorbar": {
             "outlinewidth": 0,
             "ticks": ""
            },
            "colorscale": [
             [
              0,
              "#0d0887"
             ],
             [
              0.1111111111111111,
              "#46039f"
             ],
             [
              0.2222222222222222,
              "#7201a8"
             ],
             [
              0.3333333333333333,
              "#9c179e"
             ],
             [
              0.4444444444444444,
              "#bd3786"
             ],
             [
              0.5555555555555556,
              "#d8576b"
             ],
             [
              0.6666666666666666,
              "#ed7953"
             ],
             [
              0.7777777777777778,
              "#fb9f3a"
             ],
             [
              0.8888888888888888,
              "#fdca26"
             ],
             [
              1,
              "#f0f921"
             ]
            ],
            "type": "surface"
           }
          ],
          "table": [
           {
            "cells": {
             "fill": {
              "color": "#EBF0F8"
             },
             "line": {
              "color": "white"
             }
            },
            "header": {
             "fill": {
              "color": "#C8D4E3"
             },
             "line": {
              "color": "white"
             }
            },
            "type": "table"
           }
          ]
         },
         "layout": {
          "annotationdefaults": {
           "arrowcolor": "#2a3f5f",
           "arrowhead": 0,
           "arrowwidth": 1
          },
          "autotypenumbers": "strict",
          "coloraxis": {
           "colorbar": {
            "outlinewidth": 0,
            "ticks": ""
           }
          },
          "colorscale": {
           "diverging": [
            [
             0,
             "#8e0152"
            ],
            [
             0.1,
             "#c51b7d"
            ],
            [
             0.2,
             "#de77ae"
            ],
            [
             0.3,
             "#f1b6da"
            ],
            [
             0.4,
             "#fde0ef"
            ],
            [
             0.5,
             "#f7f7f7"
            ],
            [
             0.6,
             "#e6f5d0"
            ],
            [
             0.7,
             "#b8e186"
            ],
            [
             0.8,
             "#7fbc41"
            ],
            [
             0.9,
             "#4d9221"
            ],
            [
             1,
             "#276419"
            ]
           ],
           "sequential": [
            [
             0,
             "#0d0887"
            ],
            [
             0.1111111111111111,
             "#46039f"
            ],
            [
             0.2222222222222222,
             "#7201a8"
            ],
            [
             0.3333333333333333,
             "#9c179e"
            ],
            [
             0.4444444444444444,
             "#bd3786"
            ],
            [
             0.5555555555555556,
             "#d8576b"
            ],
            [
             0.6666666666666666,
             "#ed7953"
            ],
            [
             0.7777777777777778,
             "#fb9f3a"
            ],
            [
             0.8888888888888888,
             "#fdca26"
            ],
            [
             1,
             "#f0f921"
            ]
           ],
           "sequentialminus": [
            [
             0,
             "#0d0887"
            ],
            [
             0.1111111111111111,
             "#46039f"
            ],
            [
             0.2222222222222222,
             "#7201a8"
            ],
            [
             0.3333333333333333,
             "#9c179e"
            ],
            [
             0.4444444444444444,
             "#bd3786"
            ],
            [
             0.5555555555555556,
             "#d8576b"
            ],
            [
             0.6666666666666666,
             "#ed7953"
            ],
            [
             0.7777777777777778,
             "#fb9f3a"
            ],
            [
             0.8888888888888888,
             "#fdca26"
            ],
            [
             1,
             "#f0f921"
            ]
           ]
          },
          "colorway": [
           "#636efa",
           "#EF553B",
           "#00cc96",
           "#ab63fa",
           "#FFA15A",
           "#19d3f3",
           "#FF6692",
           "#B6E880",
           "#FF97FF",
           "#FECB52"
          ],
          "font": {
           "color": "#2a3f5f"
          },
          "geo": {
           "bgcolor": "white",
           "lakecolor": "white",
           "landcolor": "#E5ECF6",
           "showlakes": true,
           "showland": true,
           "subunitcolor": "white"
          },
          "hoverlabel": {
           "align": "left"
          },
          "hovermode": "closest",
          "mapbox": {
           "style": "light"
          },
          "paper_bgcolor": "white",
          "plot_bgcolor": "#E5ECF6",
          "polar": {
           "angularaxis": {
            "gridcolor": "white",
            "linecolor": "white",
            "ticks": ""
           },
           "bgcolor": "#E5ECF6",
           "radialaxis": {
            "gridcolor": "white",
            "linecolor": "white",
            "ticks": ""
           }
          },
          "scene": {
           "xaxis": {
            "backgroundcolor": "#E5ECF6",
            "gridcolor": "white",
            "gridwidth": 2,
            "linecolor": "white",
            "showbackground": true,
            "ticks": "",
            "zerolinecolor": "white"
           },
           "yaxis": {
            "backgroundcolor": "#E5ECF6",
            "gridcolor": "white",
            "gridwidth": 2,
            "linecolor": "white",
            "showbackground": true,
            "ticks": "",
            "zerolinecolor": "white"
           },
           "zaxis": {
            "backgroundcolor": "#E5ECF6",
            "gridcolor": "white",
            "gridwidth": 2,
            "linecolor": "white",
            "showbackground": true,
            "ticks": "",
            "zerolinecolor": "white"
           }
          },
          "shapedefaults": {
           "line": {
            "color": "#2a3f5f"
           }
          },
          "ternary": {
           "aaxis": {
            "gridcolor": "white",
            "linecolor": "white",
            "ticks": ""
           },
           "baxis": {
            "gridcolor": "white",
            "linecolor": "white",
            "ticks": ""
           },
           "bgcolor": "#E5ECF6",
           "caxis": {
            "gridcolor": "white",
            "linecolor": "white",
            "ticks": ""
           }
          },
          "title": {
           "x": 0.05
          },
          "xaxis": {
           "automargin": true,
           "gridcolor": "white",
           "linecolor": "white",
           "ticks": "",
           "title": {
            "standoff": 15
           },
           "zerolinecolor": "white",
           "zerolinewidth": 2
          },
          "yaxis": {
           "automargin": true,
           "gridcolor": "white",
           "linecolor": "white",
           "ticks": "",
           "title": {
            "standoff": 15
           },
           "zerolinecolor": "white",
           "zerolinewidth": 2
          }
         }
        },
        "xaxis": {
         "title": {
          "text": "UMAP 1"
         }
        },
        "yaxis": {
         "title": {
          "text": "UMAP 2"
         }
        }
       }
      },
      "text/html": [
       "<div>                            <div id=\"5ea14c06-2da3-4303-a397-167ffee5c115\" class=\"plotly-graph-div\" style=\"height:525px; width:100%;\"></div>            <script type=\"text/javascript\">                require([\"plotly\"], function(Plotly) {                    window.PLOTLYENV=window.PLOTLYENV || {};                                    if (document.getElementById(\"5ea14c06-2da3-4303-a397-167ffee5c115\")) {                    Plotly.newPlot(                        \"5ea14c06-2da3-4303-a397-167ffee5c115\",                        [{\"marker\":{\"color\":[\"#EF553B\",\"#636EFA\",\"#EF553B\",\"#636EFA\",\"#EF553B\",\"#EF553B\",\"#EF553B\",\"#EF553B\",\"rgb(179, 205, 227)\",\"#636EFA\",\"rgb(179, 205, 227)\",\"#EF553B\",\"rgb(179, 205, 227)\",\"#EF553B\",\"#EF553B\",\"#EF553B\",\"rgb(179, 205, 227)\",\"rgb(179, 205, 227)\",\"#EF553B\",\"rgb(179, 205, 227)\",\"#636EFA\",\"#EF553B\",\"#636EFA\",\"#EF553B\",\"rgb(179, 205, 227)\",\"#EF553B\",\"#EF553B\",\"#EF553B\",\"#EF553B\",\"#636EFA\",\"#EF553B\",\"rgb(179, 205, 227)\",\"#EF553B\",\"#00CC96\",\"#636EFA\",\"#636EFA\",\"#EF553B\",\"#00CC96\",\"#EF553B\",\"#636EFA\",\"#00CC96\",\"#EF553B\",\"#EF553B\",\"#636EFA\",\"#EF553B\",\"#EF553B\",\"#EF553B\",\"#EF553B\",\"#636EFA\",\"#00CC96\",\"#EF553B\",\"#636EFA\",\"#EF553B\",\"#EF553B\",\"#636EFA\",\"#00CC96\",\"#EF553B\",\"#EF553B\",\"#EF553B\",\"#00CC96\",\"#EF553B\",\"#EF553B\",\"#636EFA\",\"#EF553B\",\"#EF553B\",\"#EF553B\",\"#636EFA\",\"#EF553B\",\"#636EFA\",\"#EF553B\",\"#EF553B\",\"#636EFA\",\"#636EFA\",\"#EF553B\"],\"size\":7,\"line\":{\"color\":\"DarkSlateGrey\",\"width\":2}},\"mode\":\"markers\",\"showlegend\":false,\"x\":[11.113815,13.193277,11.36551,12.275262,11.465577,11.397931,9.014369,10.445036,13.084762,12.5729265,12.530627,10.542673,14.357714,11.568377,9.571724,10.783549,14.246235,13.779974,11.403646,14.87136,14.110971,11.317299,13.648256,9.387027,14.841174,11.01177,11.611861,10.9997635,13.384659,12.761199,11.004806,13.4673395,11.276823,2.7155824,11.280384,11.736194,10.918215,2.347755,10.495303,13.209538,2.5718184,10.888228,11.481734,13.456529,11.04935,10.8213,11.169366,10.637614,13.441044,2.4550478,10.721133,13.196257,10.998121,11.066662,13.855052,2.8291597,11.052477,10.541386,10.090337,2.6270823,10.271494,11.910392,13.4742985,10.175466,9.36597,9.704807,13.391838,10.566479,13.277376,11.146661,12.355327,13.438237,13.645536,11.270695],\"y\":[10.275453,9.613187,10.008437,9.9499035,9.634446,9.302566,10.452098,10.473545,10.21043,10.514854,9.953819,8.764806,9.182938,9.057268,9.554189,7.9557395,9.57484,9.684966,8.426901,9.443645,9.530474,9.487897,8.506605,9.537378,9.16361,8.816903,8.592716,7.823455,9.57302,10.722335,7.781951,7.4712152,10.3449135,6.9326477,9.838772,9.50602,10.162161,6.7369547,9.104143,9.215751,7.092851,10.450801,10.248935,9.0321665,10.404863,10.248566,10.014798,10.116172,10.229832,6.7710013,7.790931,7.4771304,9.863325,9.851558,8.886627,7.098556,9.593743,10.328006,9.349282,7.119021,7.8539495,7.922406,7.2245054,8.155363,10.249665,9.260765,7.3386655,10.373944,8.3686075,8.629356,10.322425,7.296065,8.256078,8.488235],\"type\":\"scatter\"}],                        {\"template\":{\"data\":{\"histogram2dcontour\":[{\"type\":\"histogram2dcontour\",\"colorbar\":{\"outlinewidth\":0,\"ticks\":\"\"},\"colorscale\":[[0.0,\"#0d0887\"],[0.1111111111111111,\"#46039f\"],[0.2222222222222222,\"#7201a8\"],[0.3333333333333333,\"#9c179e\"],[0.4444444444444444,\"#bd3786\"],[0.5555555555555556,\"#d8576b\"],[0.6666666666666666,\"#ed7953\"],[0.7777777777777778,\"#fb9f3a\"],[0.8888888888888888,\"#fdca26\"],[1.0,\"#f0f921\"]]}],\"choropleth\":[{\"type\":\"choropleth\",\"colorbar\":{\"outlinewidth\":0,\"ticks\":\"\"}}],\"histogram2d\":[{\"type\":\"histogram2d\",\"colorbar\":{\"outlinewidth\":0,\"ticks\":\"\"},\"colorscale\":[[0.0,\"#0d0887\"],[0.1111111111111111,\"#46039f\"],[0.2222222222222222,\"#7201a8\"],[0.3333333333333333,\"#9c179e\"],[0.4444444444444444,\"#bd3786\"],[0.5555555555555556,\"#d8576b\"],[0.6666666666666666,\"#ed7953\"],[0.7777777777777778,\"#fb9f3a\"],[0.8888888888888888,\"#fdca26\"],[1.0,\"#f0f921\"]]}],\"heatmap\":[{\"type\":\"heatmap\",\"colorbar\":{\"outlinewidth\":0,\"ticks\":\"\"},\"colorscale\":[[0.0,\"#0d0887\"],[0.1111111111111111,\"#46039f\"],[0.2222222222222222,\"#7201a8\"],[0.3333333333333333,\"#9c179e\"],[0.4444444444444444,\"#bd3786\"],[0.5555555555555556,\"#d8576b\"],[0.6666666666666666,\"#ed7953\"],[0.7777777777777778,\"#fb9f3a\"],[0.8888888888888888,\"#fdca26\"],[1.0,\"#f0f921\"]]}],\"heatmapgl\":[{\"type\":\"heatmapgl\",\"colorbar\":{\"outlinewidth\":0,\"ticks\":\"\"},\"colorscale\":[[0.0,\"#0d0887\"],[0.1111111111111111,\"#46039f\"],[0.2222222222222222,\"#7201a8\"],[0.3333333333333333,\"#9c179e\"],[0.4444444444444444,\"#bd3786\"],[0.5555555555555556,\"#d8576b\"],[0.6666666666666666,\"#ed7953\"],[0.7777777777777778,\"#fb9f3a\"],[0.8888888888888888,\"#fdca26\"],[1.0,\"#f0f921\"]]}],\"contourcarpet\":[{\"type\":\"contourcarpet\",\"colorbar\":{\"outlinewidth\":0,\"ticks\":\"\"}}],\"contour\":[{\"type\":\"contour\",\"colorbar\":{\"outlinewidth\":0,\"ticks\":\"\"},\"colorscale\":[[0.0,\"#0d0887\"],[0.1111111111111111,\"#46039f\"],[0.2222222222222222,\"#7201a8\"],[0.3333333333333333,\"#9c179e\"],[0.4444444444444444,\"#bd3786\"],[0.5555555555555556,\"#d8576b\"],[0.6666666666666666,\"#ed7953\"],[0.7777777777777778,\"#fb9f3a\"],[0.8888888888888888,\"#fdca26\"],[1.0,\"#f0f921\"]]}],\"surface\":[{\"type\":\"surface\",\"colorbar\":{\"outlinewidth\":0,\"ticks\":\"\"},\"colorscale\":[[0.0,\"#0d0887\"],[0.1111111111111111,\"#46039f\"],[0.2222222222222222,\"#7201a8\"],[0.3333333333333333,\"#9c179e\"],[0.4444444444444444,\"#bd3786\"],[0.5555555555555556,\"#d8576b\"],[0.6666666666666666,\"#ed7953\"],[0.7777777777777778,\"#fb9f3a\"],[0.8888888888888888,\"#fdca26\"],[1.0,\"#f0f921\"]]}],\"mesh3d\":[{\"type\":\"mesh3d\",\"colorbar\":{\"outlinewidth\":0,\"ticks\":\"\"}}],\"scatter\":[{\"fillpattern\":{\"fillmode\":\"overlay\",\"size\":10,\"solidity\":0.2},\"type\":\"scatter\"}],\"parcoords\":[{\"type\":\"parcoords\",\"line\":{\"colorbar\":{\"outlinewidth\":0,\"ticks\":\"\"}}}],\"scatterpolargl\":[{\"type\":\"scatterpolargl\",\"marker\":{\"colorbar\":{\"outlinewidth\":0,\"ticks\":\"\"}}}],\"bar\":[{\"error_x\":{\"color\":\"#2a3f5f\"},\"error_y\":{\"color\":\"#2a3f5f\"},\"marker\":{\"line\":{\"color\":\"#E5ECF6\",\"width\":0.5},\"pattern\":{\"fillmode\":\"overlay\",\"size\":10,\"solidity\":0.2}},\"type\":\"bar\"}],\"scattergeo\":[{\"type\":\"scattergeo\",\"marker\":{\"colorbar\":{\"outlinewidth\":0,\"ticks\":\"\"}}}],\"scatterpolar\":[{\"type\":\"scatterpolar\",\"marker\":{\"colorbar\":{\"outlinewidth\":0,\"ticks\":\"\"}}}],\"histogram\":[{\"marker\":{\"pattern\":{\"fillmode\":\"overlay\",\"size\":10,\"solidity\":0.2}},\"type\":\"histogram\"}],\"scattergl\":[{\"type\":\"scattergl\",\"marker\":{\"colorbar\":{\"outlinewidth\":0,\"ticks\":\"\"}}}],\"scatter3d\":[{\"type\":\"scatter3d\",\"line\":{\"colorbar\":{\"outlinewidth\":0,\"ticks\":\"\"}},\"marker\":{\"colorbar\":{\"outlinewidth\":0,\"ticks\":\"\"}}}],\"scattermapbox\":[{\"type\":\"scattermapbox\",\"marker\":{\"colorbar\":{\"outlinewidth\":0,\"ticks\":\"\"}}}],\"scatterternary\":[{\"type\":\"scatterternary\",\"marker\":{\"colorbar\":{\"outlinewidth\":0,\"ticks\":\"\"}}}],\"scattercarpet\":[{\"type\":\"scattercarpet\",\"marker\":{\"colorbar\":{\"outlinewidth\":0,\"ticks\":\"\"}}}],\"carpet\":[{\"aaxis\":{\"endlinecolor\":\"#2a3f5f\",\"gridcolor\":\"white\",\"linecolor\":\"white\",\"minorgridcolor\":\"white\",\"startlinecolor\":\"#2a3f5f\"},\"baxis\":{\"endlinecolor\":\"#2a3f5f\",\"gridcolor\":\"white\",\"linecolor\":\"white\",\"minorgridcolor\":\"white\",\"startlinecolor\":\"#2a3f5f\"},\"type\":\"carpet\"}],\"table\":[{\"cells\":{\"fill\":{\"color\":\"#EBF0F8\"},\"line\":{\"color\":\"white\"}},\"header\":{\"fill\":{\"color\":\"#C8D4E3\"},\"line\":{\"color\":\"white\"}},\"type\":\"table\"}],\"barpolar\":[{\"marker\":{\"line\":{\"color\":\"#E5ECF6\",\"width\":0.5},\"pattern\":{\"fillmode\":\"overlay\",\"size\":10,\"solidity\":0.2}},\"type\":\"barpolar\"}],\"pie\":[{\"automargin\":true,\"type\":\"pie\"}]},\"layout\":{\"autotypenumbers\":\"strict\",\"colorway\":[\"#636efa\",\"#EF553B\",\"#00cc96\",\"#ab63fa\",\"#FFA15A\",\"#19d3f3\",\"#FF6692\",\"#B6E880\",\"#FF97FF\",\"#FECB52\"],\"font\":{\"color\":\"#2a3f5f\"},\"hovermode\":\"closest\",\"hoverlabel\":{\"align\":\"left\"},\"paper_bgcolor\":\"white\",\"plot_bgcolor\":\"#E5ECF6\",\"polar\":{\"bgcolor\":\"#E5ECF6\",\"angularaxis\":{\"gridcolor\":\"white\",\"linecolor\":\"white\",\"ticks\":\"\"},\"radialaxis\":{\"gridcolor\":\"white\",\"linecolor\":\"white\",\"ticks\":\"\"}},\"ternary\":{\"bgcolor\":\"#E5ECF6\",\"aaxis\":{\"gridcolor\":\"white\",\"linecolor\":\"white\",\"ticks\":\"\"},\"baxis\":{\"gridcolor\":\"white\",\"linecolor\":\"white\",\"ticks\":\"\"},\"caxis\":{\"gridcolor\":\"white\",\"linecolor\":\"white\",\"ticks\":\"\"}},\"coloraxis\":{\"colorbar\":{\"outlinewidth\":0,\"ticks\":\"\"}},\"colorscale\":{\"sequential\":[[0.0,\"#0d0887\"],[0.1111111111111111,\"#46039f\"],[0.2222222222222222,\"#7201a8\"],[0.3333333333333333,\"#9c179e\"],[0.4444444444444444,\"#bd3786\"],[0.5555555555555556,\"#d8576b\"],[0.6666666666666666,\"#ed7953\"],[0.7777777777777778,\"#fb9f3a\"],[0.8888888888888888,\"#fdca26\"],[1.0,\"#f0f921\"]],\"sequentialminus\":[[0.0,\"#0d0887\"],[0.1111111111111111,\"#46039f\"],[0.2222222222222222,\"#7201a8\"],[0.3333333333333333,\"#9c179e\"],[0.4444444444444444,\"#bd3786\"],[0.5555555555555556,\"#d8576b\"],[0.6666666666666666,\"#ed7953\"],[0.7777777777777778,\"#fb9f3a\"],[0.8888888888888888,\"#fdca26\"],[1.0,\"#f0f921\"]],\"diverging\":[[0,\"#8e0152\"],[0.1,\"#c51b7d\"],[0.2,\"#de77ae\"],[0.3,\"#f1b6da\"],[0.4,\"#fde0ef\"],[0.5,\"#f7f7f7\"],[0.6,\"#e6f5d0\"],[0.7,\"#b8e186\"],[0.8,\"#7fbc41\"],[0.9,\"#4d9221\"],[1,\"#276419\"]]},\"xaxis\":{\"gridcolor\":\"white\",\"linecolor\":\"white\",\"ticks\":\"\",\"title\":{\"standoff\":15},\"zerolinecolor\":\"white\",\"automargin\":true,\"zerolinewidth\":2},\"yaxis\":{\"gridcolor\":\"white\",\"linecolor\":\"white\",\"ticks\":\"\",\"title\":{\"standoff\":15},\"zerolinecolor\":\"white\",\"automargin\":true,\"zerolinewidth\":2},\"scene\":{\"xaxis\":{\"backgroundcolor\":\"#E5ECF6\",\"gridcolor\":\"white\",\"linecolor\":\"white\",\"showbackground\":true,\"ticks\":\"\",\"zerolinecolor\":\"white\",\"gridwidth\":2},\"yaxis\":{\"backgroundcolor\":\"#E5ECF6\",\"gridcolor\":\"white\",\"linecolor\":\"white\",\"showbackground\":true,\"ticks\":\"\",\"zerolinecolor\":\"white\",\"gridwidth\":2},\"zaxis\":{\"backgroundcolor\":\"#E5ECF6\",\"gridcolor\":\"white\",\"linecolor\":\"white\",\"showbackground\":true,\"ticks\":\"\",\"zerolinecolor\":\"white\",\"gridwidth\":2}},\"shapedefaults\":{\"line\":{\"color\":\"#2a3f5f\"}},\"annotationdefaults\":{\"arrowcolor\":\"#2a3f5f\",\"arrowhead\":0,\"arrowwidth\":1},\"geo\":{\"bgcolor\":\"white\",\"landcolor\":\"#E5ECF6\",\"subunitcolor\":\"white\",\"showland\":true,\"showlakes\":true,\"lakecolor\":\"white\"},\"title\":{\"x\":0.05},\"mapbox\":{\"style\":\"light\"}}},\"font\":{\"family\":\"Arial\",\"size\":14,\"color\":\"Black\"},\"xaxis\":{\"title\":{\"text\":\"UMAP 1\"}},\"yaxis\":{\"title\":{\"text\":\"UMAP 2\"}},\"legend\":{\"title\":{\"text\":\"stage (hpf)\"}}},                        {\"responsive\": true}                    ).then(function(){\n",
       "                            \n",
       "var gd = document.getElementById('5ea14c06-2da3-4303-a397-167ffee5c115');\n",
       "var x = new MutationObserver(function (mutations, observer) {{\n",
       "        var display = window.getComputedStyle(gd).display;\n",
       "        if (!display || display === 'none') {{\n",
       "            console.log([gd, 'removed!']);\n",
       "            Plotly.purge(gd);\n",
       "            observer.disconnect();\n",
       "        }}\n",
       "}});\n",
       "\n",
       "// Listen for the removal of the full notebook cells\n",
       "var notebookContainer = gd.closest('#notebook-container');\n",
       "if (notebookContainer) {{\n",
       "    x.observe(notebookContainer, {childList: true});\n",
       "}}\n",
       "\n",
       "// Listen for the clearing of the current output cell\n",
       "var outputEl = gd.closest('.output');\n",
       "if (outputEl) {{\n",
       "    x.observe(outputEl, {childList: true});\n",
       "}}\n",
       "\n",
       "                        })                };                });            </script>        </div>"
      ]
     },
     "metadata": {},
     "output_type": "display_data"
    }
   ],
   "source": [
    "fig = go.Figure()\n",
    "plot0 = 0\n",
    "plot1 = 1\n",
    "\n",
    "fig.add_trace(go.Scatter(x=Y_test_arr[:, plot0], y=Y_test_arr[:, plot1], mode=\"markers\", \n",
    "                         marker=dict(color=color_vec_u, size=7), showlegend=False))\n",
    "\n",
    "fig.update_layout(\n",
    "                    xaxis_title=\"UMAP 1\",\n",
    "                    yaxis_title=\"UMAP 2\",   \n",
    "    legend_title=\"stage (hpf)\",\n",
    "    font=dict(\n",
    "        family=\"Arial\",\n",
    "        size=14,\n",
    "        color=\"Black\"\n",
    "    ))\n",
    "        \n",
    "fig.update_traces(marker=dict( \n",
    "                              line=dict(width=2,\n",
    "                                        color='DarkSlateGrey'))\n",
    "                 )\n",
    "\n",
    "fig.show()\n",
    "fig.write_image(os.path.join(figure_dir, \"umap_2d_pd_pre.png\"), scale=2)"
   ]
  },
  {
   "cell_type": "code",
   "execution_count": 188,
   "id": "bd750f7c",
   "metadata": {},
   "outputs": [],
   "source": [
    "\n",
    "for r in range(Y_test.shape[0]):\n",
    "    data = np.concatenate((Y_test_arr[r, :].reshape((1,3)), Y_test_pd[r, :].reshape((1,3))), axis=0)\n",
    "\n",
    "    fig.add_trace(go.Scatter(x=data[:, plot0], y=data[:, plot1], mode=\"lines+markers\", \n",
    "                               line=dict(color='DarkSlateGrey', width=1), marker=dict(size=1),\n",
    "                            showlegend=False))\n",
    "    \n",
    "fig.add_trace(go.Scatter(x=Y_test_arr[:, plot0], y=Y_test_arr[:, plot1], mode=\"markers\", \n",
    "                         marker=dict(color=color_vec_u, size=7), showlegend=False))\n",
    "fig.add_trace(go.Scatter(x=Y_test_pd[:, plot0], y=Y_test_pd[:, plot1], mode=\"markers\", \n",
    "                         marker=dict(color=color_vec_u, size=10, symbol=\"diamond\"), showlegend=False))\n",
    "\n",
    "fig.update_traces(marker=dict( \n",
    "                              line=dict(width=2,\n",
    "                                        color='DarkSlateGrey'))\n",
    "                 )\n",
    "    \n",
    "fig.write_image(os.path.join(figure_dir, \"umap_2d_pd_genotype.png\"), scale=2)"
   ]
  },
  {
   "cell_type": "code",
   "execution_count": 189,
   "id": "ab83c419",
   "metadata": {},
   "outputs": [
    {
     "data": {
      "application/vnd.plotly.v1+json": {
       "config": {
        "plotlyServerURL": "https://plot.ly"
       },
       "data": [
        {
         "marker": {
          "color": [
           48,
           48,
           48,
           48,
           48,
           48,
           48,
           48,
           48,
           48,
           48,
           60,
           72,
           60,
           60,
           72,
           72,
           60,
           72,
           72,
           72,
           60,
           60,
           72,
           72,
           60,
           72,
           72,
           60,
           60,
           72,
           72,
           48,
           24,
           48,
           48,
           48,
           24,
           48,
           48,
           24,
           48,
           48,
           48,
           48,
           48,
           48,
           60,
           60,
           48,
           72,
           72,
           72,
           60,
           60,
           48,
           72,
           60,
           60,
           48,
           72,
           72,
           72,
           60,
           60,
           72,
           72,
           60,
           60,
           72,
           72,
           72,
           60,
           72
          ],
          "line": {
           "color": "DarkSlateGrey",
           "width": 2
          },
          "size": 7
         },
         "mode": "markers",
         "showlegend": false,
         "type": "scatter",
         "x": [
          11.113815,
          13.193277,
          11.36551,
          12.275262,
          11.465577,
          11.397931,
          9.014369,
          10.445036,
          13.084762,
          12.5729265,
          12.530627,
          10.542673,
          14.357714,
          11.568377,
          9.571724,
          10.783549,
          14.246235,
          13.779974,
          11.403646,
          14.87136,
          14.110971,
          11.317299,
          13.648256,
          9.387027,
          14.841174,
          11.01177,
          11.611861,
          10.9997635,
          13.384659,
          12.761199,
          11.004806,
          13.4673395,
          11.276823,
          2.7155824,
          11.280384,
          11.736194,
          10.918215,
          2.347755,
          10.495303,
          13.209538,
          2.5718184,
          10.888228,
          11.481734,
          13.456529,
          11.04935,
          10.8213,
          11.169366,
          10.637614,
          13.441044,
          2.4550478,
          10.721133,
          13.196257,
          10.998121,
          11.066662,
          13.855052,
          2.8291597,
          11.052477,
          10.541386,
          10.090337,
          2.6270823,
          10.271494,
          11.910392,
          13.4742985,
          10.175466,
          9.36597,
          9.704807,
          13.391838,
          10.566479,
          13.277376,
          11.146661,
          12.355327,
          13.438237,
          13.645536,
          11.270695
         ],
         "y": [
          10.275453,
          9.613187,
          10.008437,
          9.9499035,
          9.634446,
          9.302566,
          10.452098,
          10.473545,
          10.21043,
          10.514854,
          9.953819,
          8.764806,
          9.182938,
          9.057268,
          9.554189,
          7.9557395,
          9.57484,
          9.684966,
          8.426901,
          9.443645,
          9.530474,
          9.487897,
          8.506605,
          9.537378,
          9.16361,
          8.816903,
          8.592716,
          7.823455,
          9.57302,
          10.722335,
          7.781951,
          7.4712152,
          10.3449135,
          6.9326477,
          9.838772,
          9.50602,
          10.162161,
          6.7369547,
          9.104143,
          9.215751,
          7.092851,
          10.450801,
          10.248935,
          9.0321665,
          10.404863,
          10.248566,
          10.014798,
          10.116172,
          10.229832,
          6.7710013,
          7.790931,
          7.4771304,
          9.863325,
          9.851558,
          8.886627,
          7.098556,
          9.593743,
          10.328006,
          9.349282,
          7.119021,
          7.8539495,
          7.922406,
          7.2245054,
          8.155363,
          10.249665,
          9.260765,
          7.3386655,
          10.373944,
          8.3686075,
          8.629356,
          10.322425,
          7.296065,
          8.256078,
          8.488235
         ]
        },
        {
         "line": {
          "color": "DarkSlateGrey",
          "width": 1
         },
         "marker": {
          "color": [
           48,
           48,
           48,
           48,
           48,
           48,
           48,
           48,
           48,
           48,
           48,
           60,
           72,
           60,
           60,
           72,
           72,
           60,
           72,
           72,
           72,
           60,
           60,
           72,
           72,
           60,
           72,
           72,
           60,
           60,
           72,
           72,
           48,
           24,
           48,
           48,
           48,
           24,
           48,
           48,
           24,
           48,
           48,
           48,
           48,
           48,
           48,
           60,
           60,
           48,
           72,
           72,
           72,
           60,
           60,
           48,
           72,
           60,
           60,
           48,
           72,
           72,
           72,
           60,
           60,
           72,
           72,
           60,
           60,
           72,
           72,
           72,
           60,
           72
          ],
          "line": {
           "color": "DarkSlateGrey",
           "width": 2
          },
          "size": 1
         },
         "mode": "lines+markers",
         "showlegend": false,
         "type": "scatter",
         "x": [
          11.113815,
          12.482991062543608
         ],
         "y": [
          10.275453,
          10.004631585314542
         ]
        },
        {
         "line": {
          "color": "DarkSlateGrey",
          "width": 1
         },
         "marker": {
          "color": [
           48,
           48,
           48,
           48,
           48,
           48,
           48,
           48,
           48,
           48,
           48,
           60,
           72,
           60,
           60,
           72,
           72,
           60,
           72,
           72,
           72,
           60,
           60,
           72,
           72,
           60,
           72,
           72,
           60,
           60,
           72,
           72,
           48,
           24,
           48,
           48,
           48,
           24,
           48,
           48,
           24,
           48,
           48,
           48,
           48,
           48,
           48,
           60,
           60,
           48,
           72,
           72,
           72,
           60,
           60,
           48,
           72,
           60,
           60,
           48,
           72,
           72,
           72,
           60,
           60,
           72,
           72,
           60,
           60,
           72,
           72,
           72,
           60,
           72
          ],
          "line": {
           "color": "DarkSlateGrey",
           "width": 2
          },
          "size": 1
         },
         "mode": "lines+markers",
         "showlegend": false,
         "type": "scatter",
         "x": [
          13.193277,
          12.53002723163182
         ],
         "y": [
          9.613187,
          9.850936633574928
         ]
        },
        {
         "line": {
          "color": "DarkSlateGrey",
          "width": 1
         },
         "marker": {
          "color": [
           48,
           48,
           48,
           48,
           48,
           48,
           48,
           48,
           48,
           48,
           48,
           60,
           72,
           60,
           60,
           72,
           72,
           60,
           72,
           72,
           72,
           60,
           60,
           72,
           72,
           60,
           72,
           72,
           60,
           60,
           72,
           72,
           48,
           24,
           48,
           48,
           48,
           24,
           48,
           48,
           24,
           48,
           48,
           48,
           48,
           48,
           48,
           60,
           60,
           48,
           72,
           72,
           72,
           60,
           60,
           48,
           72,
           60,
           60,
           48,
           72,
           72,
           72,
           60,
           60,
           72,
           72,
           60,
           60,
           72,
           72,
           72,
           60,
           72
          ],
          "line": {
           "color": "DarkSlateGrey",
           "width": 2
          },
          "size": 1
         },
         "mode": "lines+markers",
         "showlegend": false,
         "type": "scatter",
         "x": [
          11.36551,
          12.45849393492836
         ],
         "y": [
          10.008437,
          9.992034390314734
         ]
        },
        {
         "line": {
          "color": "DarkSlateGrey",
          "width": 1
         },
         "marker": {
          "color": [
           48,
           48,
           48,
           48,
           48,
           48,
           48,
           48,
           48,
           48,
           48,
           60,
           72,
           60,
           60,
           72,
           72,
           60,
           72,
           72,
           72,
           60,
           60,
           72,
           72,
           60,
           72,
           72,
           60,
           60,
           72,
           72,
           48,
           24,
           48,
           48,
           48,
           24,
           48,
           48,
           24,
           48,
           48,
           48,
           48,
           48,
           48,
           60,
           60,
           48,
           72,
           72,
           72,
           60,
           60,
           48,
           72,
           60,
           60,
           48,
           72,
           72,
           72,
           60,
           60,
           72,
           72,
           60,
           60,
           72,
           72,
           72,
           60,
           72
          ],
          "line": {
           "color": "DarkSlateGrey",
           "width": 2
          },
          "size": 1
         },
         "mode": "lines+markers",
         "showlegend": false,
         "type": "scatter",
         "x": [
          12.275262,
          12.502442092868884
         ],
         "y": [
          9.9499035,
          9.797278632655201
         ]
        },
        {
         "line": {
          "color": "DarkSlateGrey",
          "width": 1
         },
         "marker": {
          "color": [
           48,
           48,
           48,
           48,
           48,
           48,
           48,
           48,
           48,
           48,
           48,
           60,
           72,
           60,
           60,
           72,
           72,
           60,
           72,
           72,
           72,
           60,
           60,
           72,
           72,
           60,
           72,
           72,
           60,
           60,
           72,
           72,
           48,
           24,
           48,
           48,
           48,
           24,
           48,
           48,
           24,
           48,
           48,
           48,
           48,
           48,
           48,
           60,
           60,
           48,
           72,
           72,
           72,
           60,
           60,
           48,
           72,
           60,
           60,
           48,
           72,
           72,
           72,
           60,
           60,
           72,
           72,
           60,
           60,
           72,
           72,
           72,
           60,
           72
          ],
          "line": {
           "color": "DarkSlateGrey",
           "width": 2
          },
          "size": 1
         },
         "mode": "lines+markers",
         "showlegend": false,
         "type": "scatter",
         "x": [
          11.465577,
          12.515973444836451
         ],
         "y": [
          9.634446,
          10.085133913551385
         ]
        },
        {
         "line": {
          "color": "DarkSlateGrey",
          "width": 1
         },
         "marker": {
          "color": [
           48,
           48,
           48,
           48,
           48,
           48,
           48,
           48,
           48,
           48,
           48,
           60,
           72,
           60,
           60,
           72,
           72,
           60,
           72,
           72,
           72,
           60,
           60,
           72,
           72,
           60,
           72,
           72,
           60,
           60,
           72,
           72,
           48,
           24,
           48,
           48,
           48,
           24,
           48,
           48,
           24,
           48,
           48,
           48,
           48,
           48,
           48,
           60,
           60,
           48,
           72,
           72,
           72,
           60,
           60,
           48,
           72,
           60,
           60,
           48,
           72,
           72,
           72,
           60,
           60,
           72,
           72,
           60,
           60,
           72,
           72,
           72,
           60,
           72
          ],
          "line": {
           "color": "DarkSlateGrey",
           "width": 2
          },
          "size": 1
         },
         "mode": "lines+markers",
         "showlegend": false,
         "type": "scatter",
         "x": [
          11.397931,
          12.480891630016139
         ],
         "y": [
          9.302566,
          10.011774046765513
         ]
        },
        {
         "line": {
          "color": "DarkSlateGrey",
          "width": 1
         },
         "marker": {
          "color": [
           48,
           48,
           48,
           48,
           48,
           48,
           48,
           48,
           48,
           48,
           48,
           60,
           72,
           60,
           60,
           72,
           72,
           60,
           72,
           72,
           72,
           60,
           60,
           72,
           72,
           60,
           72,
           72,
           60,
           60,
           72,
           72,
           48,
           24,
           48,
           48,
           48,
           24,
           48,
           48,
           24,
           48,
           48,
           48,
           48,
           48,
           48,
           60,
           60,
           48,
           72,
           72,
           72,
           60,
           60,
           48,
           72,
           60,
           60,
           48,
           72,
           72,
           72,
           60,
           60,
           72,
           72,
           60,
           60,
           72,
           72,
           72,
           60,
           72
          ],
          "line": {
           "color": "DarkSlateGrey",
           "width": 2
          },
          "size": 1
         },
         "mode": "lines+markers",
         "showlegend": false,
         "type": "scatter",
         "x": [
          9.014369,
          12.527631299024424
         ],
         "y": [
          10.452098,
          10.097800215049267
         ]
        },
        {
         "line": {
          "color": "DarkSlateGrey",
          "width": 1
         },
         "marker": {
          "color": [
           48,
           48,
           48,
           48,
           48,
           48,
           48,
           48,
           48,
           48,
           48,
           60,
           72,
           60,
           60,
           72,
           72,
           60,
           72,
           72,
           72,
           60,
           60,
           72,
           72,
           60,
           72,
           72,
           60,
           60,
           72,
           72,
           48,
           24,
           48,
           48,
           48,
           24,
           48,
           48,
           24,
           48,
           48,
           48,
           48,
           48,
           48,
           60,
           60,
           48,
           72,
           72,
           72,
           60,
           60,
           48,
           72,
           60,
           60,
           48,
           72,
           72,
           72,
           60,
           60,
           72,
           72,
           60,
           60,
           72,
           72,
           72,
           60,
           72
          ],
          "line": {
           "color": "DarkSlateGrey",
           "width": 2
          },
          "size": 1
         },
         "mode": "lines+markers",
         "showlegend": false,
         "type": "scatter",
         "x": [
          10.445036,
          12.640444391994405
         ],
         "y": [
          10.473545,
          10.204799784240643
         ]
        },
        {
         "line": {
          "color": "DarkSlateGrey",
          "width": 1
         },
         "marker": {
          "color": [
           48,
           48,
           48,
           48,
           48,
           48,
           48,
           48,
           48,
           48,
           48,
           60,
           72,
           60,
           60,
           72,
           72,
           60,
           72,
           72,
           72,
           60,
           60,
           72,
           72,
           60,
           72,
           72,
           60,
           60,
           72,
           72,
           48,
           24,
           48,
           48,
           48,
           24,
           48,
           48,
           24,
           48,
           48,
           48,
           48,
           48,
           48,
           60,
           60,
           48,
           72,
           72,
           72,
           60,
           60,
           48,
           72,
           60,
           60,
           48,
           72,
           72,
           72,
           60,
           60,
           72,
           72,
           60,
           60,
           72,
           72,
           72,
           60,
           72
          ],
          "line": {
           "color": "DarkSlateGrey",
           "width": 2
          },
          "size": 1
         },
         "mode": "lines+markers",
         "showlegend": false,
         "type": "scatter",
         "x": [
          13.084762,
          11.940691775286725
         ],
         "y": [
          10.21043,
          9.352846157434865
         ]
        },
        {
         "line": {
          "color": "DarkSlateGrey",
          "width": 1
         },
         "marker": {
          "color": [
           48,
           48,
           48,
           48,
           48,
           48,
           48,
           48,
           48,
           48,
           48,
           60,
           72,
           60,
           60,
           72,
           72,
           60,
           72,
           72,
           72,
           60,
           60,
           72,
           72,
           60,
           72,
           72,
           60,
           60,
           72,
           72,
           48,
           24,
           48,
           48,
           48,
           24,
           48,
           48,
           24,
           48,
           48,
           48,
           48,
           48,
           48,
           60,
           60,
           48,
           72,
           72,
           72,
           60,
           60,
           48,
           72,
           60,
           60,
           48,
           72,
           72,
           72,
           60,
           60,
           72,
           72,
           60,
           60,
           72,
           72,
           72,
           60,
           72
          ],
          "line": {
           "color": "DarkSlateGrey",
           "width": 2
          },
          "size": 1
         },
         "mode": "lines+markers",
         "showlegend": false,
         "type": "scatter",
         "x": [
          12.5729265,
          12.537889286689099
         ],
         "y": [
          10.514854,
          9.842975644656342
         ]
        },
        {
         "line": {
          "color": "DarkSlateGrey",
          "width": 1
         },
         "marker": {
          "color": [
           48,
           48,
           48,
           48,
           48,
           48,
           48,
           48,
           48,
           48,
           48,
           60,
           72,
           60,
           60,
           72,
           72,
           60,
           72,
           72,
           72,
           60,
           60,
           72,
           72,
           60,
           72,
           72,
           60,
           60,
           72,
           72,
           48,
           24,
           48,
           48,
           48,
           24,
           48,
           48,
           24,
           48,
           48,
           48,
           48,
           48,
           48,
           60,
           60,
           48,
           72,
           72,
           72,
           60,
           60,
           48,
           72,
           60,
           60,
           48,
           72,
           72,
           72,
           60,
           60,
           72,
           72,
           60,
           60,
           72,
           72,
           72,
           60,
           72
          ],
          "line": {
           "color": "DarkSlateGrey",
           "width": 2
          },
          "size": 1
         },
         "mode": "lines+markers",
         "showlegend": false,
         "type": "scatter",
         "x": [
          12.530627,
          12.080757897899067
         ],
         "y": [
          9.953819,
          9.51606505616264
         ]
        },
        {
         "line": {
          "color": "DarkSlateGrey",
          "width": 1
         },
         "marker": {
          "color": [
           48,
           48,
           48,
           48,
           48,
           48,
           48,
           48,
           48,
           48,
           48,
           60,
           72,
           60,
           60,
           72,
           72,
           60,
           72,
           72,
           72,
           60,
           60,
           72,
           72,
           60,
           72,
           72,
           60,
           60,
           72,
           72,
           48,
           24,
           48,
           48,
           48,
           24,
           48,
           48,
           24,
           48,
           48,
           48,
           48,
           48,
           48,
           60,
           60,
           48,
           72,
           72,
           72,
           60,
           60,
           48,
           72,
           60,
           60,
           48,
           72,
           72,
           72,
           60,
           60,
           72,
           72,
           60,
           60,
           72,
           72,
           72,
           60,
           72
          ],
          "line": {
           "color": "DarkSlateGrey",
           "width": 2
          },
          "size": 1
         },
         "mode": "lines+markers",
         "showlegend": false,
         "type": "scatter",
         "x": [
          10.542673,
          12.145492997406327
         ],
         "y": [
          8.764806,
          9.568306589074865
         ]
        },
        {
         "line": {
          "color": "DarkSlateGrey",
          "width": 1
         },
         "marker": {
          "color": [
           48,
           48,
           48,
           48,
           48,
           48,
           48,
           48,
           48,
           48,
           48,
           60,
           72,
           60,
           60,
           72,
           72,
           60,
           72,
           72,
           72,
           60,
           60,
           72,
           72,
           60,
           72,
           72,
           60,
           60,
           72,
           72,
           48,
           24,
           48,
           48,
           48,
           24,
           48,
           48,
           24,
           48,
           48,
           48,
           48,
           48,
           48,
           60,
           60,
           48,
           72,
           72,
           72,
           60,
           60,
           48,
           72,
           60,
           60,
           48,
           72,
           72,
           72,
           60,
           60,
           72,
           72,
           60,
           60,
           72,
           72,
           72,
           60,
           72
          ],
          "line": {
           "color": "DarkSlateGrey",
           "width": 2
          },
          "size": 1
         },
         "mode": "lines+markers",
         "showlegend": false,
         "type": "scatter",
         "x": [
          14.357714,
          12.887482072298162
         ],
         "y": [
          9.182938,
          8.829610849701513
         ]
        },
        {
         "line": {
          "color": "DarkSlateGrey",
          "width": 1
         },
         "marker": {
          "color": [
           48,
           48,
           48,
           48,
           48,
           48,
           48,
           48,
           48,
           48,
           48,
           60,
           72,
           60,
           60,
           72,
           72,
           60,
           72,
           72,
           72,
           60,
           60,
           72,
           72,
           60,
           72,
           72,
           60,
           60,
           72,
           72,
           48,
           24,
           48,
           48,
           48,
           24,
           48,
           48,
           24,
           48,
           48,
           48,
           48,
           48,
           48,
           60,
           60,
           48,
           72,
           72,
           72,
           60,
           60,
           48,
           72,
           60,
           60,
           48,
           72,
           72,
           72,
           60,
           60,
           72,
           72,
           60,
           60,
           72,
           72,
           72,
           60,
           72
          ],
          "line": {
           "color": "DarkSlateGrey",
           "width": 2
          },
          "size": 1
         },
         "mode": "lines+markers",
         "showlegend": false,
         "type": "scatter",
         "x": [
          11.568377,
          12.401340976124974
         ],
         "y": [
          9.057268,
          9.64949035945086
         ]
        },
        {
         "line": {
          "color": "DarkSlateGrey",
          "width": 1
         },
         "marker": {
          "color": [
           48,
           48,
           48,
           48,
           48,
           48,
           48,
           48,
           48,
           48,
           48,
           60,
           72,
           60,
           60,
           72,
           72,
           60,
           72,
           72,
           72,
           60,
           60,
           72,
           72,
           60,
           72,
           72,
           60,
           60,
           72,
           72,
           48,
           24,
           48,
           48,
           48,
           24,
           48,
           48,
           24,
           48,
           48,
           48,
           48,
           48,
           48,
           60,
           60,
           48,
           72,
           72,
           72,
           60,
           60,
           48,
           72,
           60,
           60,
           48,
           72,
           72,
           72,
           60,
           60,
           72,
           72,
           60,
           60,
           72,
           72,
           72,
           60,
           72
          ],
          "line": {
           "color": "DarkSlateGrey",
           "width": 2
          },
          "size": 1
         },
         "mode": "lines+markers",
         "showlegend": false,
         "type": "scatter",
         "x": [
          9.571724,
          12.543754635279768
         ],
         "y": [
          9.554189,
          9.780108465012226
         ]
        },
        {
         "line": {
          "color": "DarkSlateGrey",
          "width": 1
         },
         "marker": {
          "color": [
           48,
           48,
           48,
           48,
           48,
           48,
           48,
           48,
           48,
           48,
           48,
           60,
           72,
           60,
           60,
           72,
           72,
           60,
           72,
           72,
           72,
           60,
           60,
           72,
           72,
           60,
           72,
           72,
           60,
           60,
           72,
           72,
           48,
           24,
           48,
           48,
           48,
           24,
           48,
           48,
           24,
           48,
           48,
           48,
           48,
           48,
           48,
           60,
           60,
           48,
           72,
           72,
           72,
           60,
           60,
           48,
           72,
           60,
           60,
           48,
           72,
           72,
           72,
           60,
           60,
           72,
           72,
           60,
           60,
           72,
           72,
           72,
           60,
           72
          ],
          "line": {
           "color": "DarkSlateGrey",
           "width": 2
          },
          "size": 1
         },
         "mode": "lines+markers",
         "showlegend": false,
         "type": "scatter",
         "x": [
          10.783549,
          11.208657888249295
         ],
         "y": [
          7.9557395,
          8.566298491665396
         ]
        },
        {
         "line": {
          "color": "DarkSlateGrey",
          "width": 1
         },
         "marker": {
          "color": [
           48,
           48,
           48,
           48,
           48,
           48,
           48,
           48,
           48,
           48,
           48,
           60,
           72,
           60,
           60,
           72,
           72,
           60,
           72,
           72,
           72,
           60,
           60,
           72,
           72,
           60,
           72,
           72,
           60,
           60,
           72,
           72,
           48,
           24,
           48,
           48,
           48,
           24,
           48,
           48,
           24,
           48,
           48,
           48,
           48,
           48,
           48,
           60,
           60,
           48,
           72,
           72,
           72,
           60,
           60,
           48,
           72,
           60,
           60,
           48,
           72,
           72,
           72,
           60,
           60,
           72,
           72,
           60,
           60,
           72,
           72,
           72,
           60,
           72
          ],
          "line": {
           "color": "DarkSlateGrey",
           "width": 2
          },
          "size": 1
         },
         "mode": "lines+markers",
         "showlegend": false,
         "type": "scatter",
         "x": [
          14.246235,
          12.885160070889022
         ],
         "y": [
          9.57484,
          8.985059771661001
         ]
        },
        {
         "line": {
          "color": "DarkSlateGrey",
          "width": 1
         },
         "marker": {
          "color": [
           48,
           48,
           48,
           48,
           48,
           48,
           48,
           48,
           48,
           48,
           48,
           60,
           72,
           60,
           60,
           72,
           72,
           60,
           72,
           72,
           72,
           60,
           60,
           72,
           72,
           60,
           72,
           72,
           60,
           60,
           72,
           72,
           48,
           24,
           48,
           48,
           48,
           24,
           48,
           48,
           24,
           48,
           48,
           48,
           48,
           48,
           48,
           60,
           60,
           48,
           72,
           72,
           72,
           60,
           60,
           48,
           72,
           60,
           60,
           48,
           72,
           72,
           72,
           60,
           60,
           72,
           72,
           60,
           60,
           72,
           72,
           72,
           60,
           72
          ],
          "line": {
           "color": "DarkSlateGrey",
           "width": 2
          },
          "size": 1
         },
         "mode": "lines+markers",
         "showlegend": false,
         "type": "scatter",
         "x": [
          13.779974,
          12.25454192175661
         ],
         "y": [
          9.684966,
          9.043484668173573
         ]
        },
        {
         "line": {
          "color": "DarkSlateGrey",
          "width": 1
         },
         "marker": {
          "color": [
           48,
           48,
           48,
           48,
           48,
           48,
           48,
           48,
           48,
           48,
           48,
           60,
           72,
           60,
           60,
           72,
           72,
           60,
           72,
           72,
           72,
           60,
           60,
           72,
           72,
           60,
           72,
           72,
           60,
           60,
           72,
           72,
           48,
           24,
           48,
           48,
           48,
           24,
           48,
           48,
           24,
           48,
           48,
           48,
           48,
           48,
           48,
           60,
           60,
           48,
           72,
           72,
           72,
           60,
           60,
           48,
           72,
           60,
           60,
           48,
           72,
           72,
           72,
           60,
           60,
           72,
           72,
           60,
           60,
           72,
           72,
           72,
           60,
           72
          ],
          "line": {
           "color": "DarkSlateGrey",
           "width": 2
          },
          "size": 1
         },
         "mode": "lines+markers",
         "showlegend": false,
         "type": "scatter",
         "x": [
          11.403646,
          12.450628481071977
         ],
         "y": [
          8.426901,
          9.103630578769923
         ]
        },
        {
         "line": {
          "color": "DarkSlateGrey",
          "width": 1
         },
         "marker": {
          "color": [
           48,
           48,
           48,
           48,
           48,
           48,
           48,
           48,
           48,
           48,
           48,
           60,
           72,
           60,
           60,
           72,
           72,
           60,
           72,
           72,
           72,
           60,
           60,
           72,
           72,
           60,
           72,
           72,
           60,
           60,
           72,
           72,
           48,
           24,
           48,
           48,
           48,
           24,
           48,
           48,
           24,
           48,
           48,
           48,
           48,
           48,
           48,
           60,
           60,
           48,
           72,
           72,
           72,
           60,
           60,
           48,
           72,
           60,
           60,
           48,
           72,
           72,
           72,
           60,
           60,
           72,
           72,
           60,
           60,
           72,
           72,
           72,
           60,
           72
          ],
          "line": {
           "color": "DarkSlateGrey",
           "width": 2
          },
          "size": 1
         },
         "mode": "lines+markers",
         "showlegend": false,
         "type": "scatter",
         "x": [
          14.87136,
          12.923612352214274
         ],
         "y": [
          9.443645,
          9.500403142917238
         ]
        },
        {
         "line": {
          "color": "DarkSlateGrey",
          "width": 1
         },
         "marker": {
          "color": [
           48,
           48,
           48,
           48,
           48,
           48,
           48,
           48,
           48,
           48,
           48,
           60,
           72,
           60,
           60,
           72,
           72,
           60,
           72,
           72,
           72,
           60,
           60,
           72,
           72,
           60,
           72,
           72,
           60,
           60,
           72,
           72,
           48,
           24,
           48,
           48,
           48,
           24,
           48,
           48,
           24,
           48,
           48,
           48,
           48,
           48,
           48,
           60,
           60,
           48,
           72,
           72,
           72,
           60,
           60,
           48,
           72,
           60,
           60,
           48,
           72,
           72,
           72,
           60,
           60,
           72,
           72,
           60,
           60,
           72,
           72,
           72,
           60,
           72
          ],
          "line": {
           "color": "DarkSlateGrey",
           "width": 2
          },
          "size": 1
         },
         "mode": "lines+markers",
         "showlegend": false,
         "type": "scatter",
         "x": [
          14.110971,
          12.88079015443888
         ],
         "y": [
          9.530474,
          9.595574191235213
         ]
        },
        {
         "line": {
          "color": "DarkSlateGrey",
          "width": 1
         },
         "marker": {
          "color": [
           48,
           48,
           48,
           48,
           48,
           48,
           48,
           48,
           48,
           48,
           48,
           60,
           72,
           60,
           60,
           72,
           72,
           60,
           72,
           72,
           72,
           60,
           60,
           72,
           72,
           60,
           72,
           72,
           60,
           60,
           72,
           72,
           48,
           24,
           48,
           48,
           48,
           24,
           48,
           48,
           24,
           48,
           48,
           48,
           48,
           48,
           48,
           60,
           60,
           48,
           72,
           72,
           72,
           60,
           60,
           48,
           72,
           60,
           60,
           48,
           72,
           72,
           72,
           60,
           60,
           72,
           72,
           60,
           60,
           72,
           72,
           72,
           60,
           72
          ],
          "line": {
           "color": "DarkSlateGrey",
           "width": 2
          },
          "size": 1
         },
         "mode": "lines+markers",
         "showlegend": false,
         "type": "scatter",
         "x": [
          11.317299,
          13.130731020096285
         ],
         "y": [
          9.487897,
          9.75309441463724
         ]
        },
        {
         "line": {
          "color": "DarkSlateGrey",
          "width": 1
         },
         "marker": {
          "color": [
           48,
           48,
           48,
           48,
           48,
           48,
           48,
           48,
           48,
           48,
           48,
           60,
           72,
           60,
           60,
           72,
           72,
           60,
           72,
           72,
           72,
           60,
           60,
           72,
           72,
           60,
           72,
           72,
           60,
           60,
           72,
           72,
           48,
           24,
           48,
           48,
           48,
           24,
           48,
           48,
           24,
           48,
           48,
           48,
           48,
           48,
           48,
           60,
           60,
           48,
           72,
           72,
           72,
           60,
           60,
           48,
           72,
           60,
           60,
           48,
           72,
           72,
           72,
           60,
           60,
           72,
           72,
           60,
           60,
           72,
           72,
           72,
           60,
           72
          ],
          "line": {
           "color": "DarkSlateGrey",
           "width": 2
          },
          "size": 1
         },
         "mode": "lines+markers",
         "showlegend": false,
         "type": "scatter",
         "x": [
          13.648256,
          13.665690862496318
         ],
         "y": [
          8.506605,
          9.418404584664625
         ]
        },
        {
         "line": {
          "color": "DarkSlateGrey",
          "width": 1
         },
         "marker": {
          "color": [
           48,
           48,
           48,
           48,
           48,
           48,
           48,
           48,
           48,
           48,
           48,
           60,
           72,
           60,
           60,
           72,
           72,
           60,
           72,
           72,
           72,
           60,
           60,
           72,
           72,
           60,
           72,
           72,
           60,
           60,
           72,
           72,
           48,
           24,
           48,
           48,
           48,
           24,
           48,
           48,
           24,
           48,
           48,
           48,
           48,
           48,
           48,
           60,
           60,
           48,
           72,
           72,
           72,
           60,
           60,
           48,
           72,
           60,
           60,
           48,
           72,
           72,
           72,
           60,
           60,
           72,
           72,
           60,
           60,
           72,
           72,
           72,
           60,
           72
          ],
          "line": {
           "color": "DarkSlateGrey",
           "width": 2
          },
          "size": 1
         },
         "mode": "lines+markers",
         "showlegend": false,
         "type": "scatter",
         "x": [
          9.387027,
          11.244786183673085
         ],
         "y": [
          9.537378,
          8.580797178791185
         ]
        },
        {
         "line": {
          "color": "DarkSlateGrey",
          "width": 1
         },
         "marker": {
          "color": [
           48,
           48,
           48,
           48,
           48,
           48,
           48,
           48,
           48,
           48,
           48,
           60,
           72,
           60,
           60,
           72,
           72,
           60,
           72,
           72,
           72,
           60,
           60,
           72,
           72,
           60,
           72,
           72,
           60,
           60,
           72,
           72,
           48,
           24,
           48,
           48,
           48,
           24,
           48,
           48,
           24,
           48,
           48,
           48,
           48,
           48,
           48,
           60,
           60,
           48,
           72,
           72,
           72,
           60,
           60,
           48,
           72,
           60,
           60,
           48,
           72,
           72,
           72,
           60,
           60,
           72,
           72,
           60,
           60,
           72,
           72,
           72,
           60,
           72
          ],
          "line": {
           "color": "DarkSlateGrey",
           "width": 2
          },
          "size": 1
         },
         "mode": "lines+markers",
         "showlegend": false,
         "type": "scatter",
         "x": [
          14.841174,
          12.920687038947857
         ],
         "y": [
          9.16361,
          8.881125025851613
         ]
        },
        {
         "line": {
          "color": "DarkSlateGrey",
          "width": 1
         },
         "marker": {
          "color": [
           48,
           48,
           48,
           48,
           48,
           48,
           48,
           48,
           48,
           48,
           48,
           60,
           72,
           60,
           60,
           72,
           72,
           60,
           72,
           72,
           72,
           60,
           60,
           72,
           72,
           60,
           72,
           72,
           60,
           60,
           72,
           72,
           48,
           24,
           48,
           48,
           48,
           24,
           48,
           48,
           24,
           48,
           48,
           48,
           48,
           48,
           48,
           60,
           60,
           48,
           72,
           72,
           72,
           60,
           60,
           48,
           72,
           60,
           60,
           48,
           72,
           72,
           72,
           60,
           60,
           72,
           72,
           60,
           60,
           72,
           72,
           72,
           60,
           72
          ],
          "line": {
           "color": "DarkSlateGrey",
           "width": 2
          },
          "size": 1
         },
         "mode": "lines+markers",
         "showlegend": false,
         "type": "scatter",
         "x": [
          11.01177,
          12.308734365706401
         ],
         "y": [
          8.816903,
          9.663046736567136
         ]
        },
        {
         "line": {
          "color": "DarkSlateGrey",
          "width": 1
         },
         "marker": {
          "color": [
           48,
           48,
           48,
           48,
           48,
           48,
           48,
           48,
           48,
           48,
           48,
           60,
           72,
           60,
           60,
           72,
           72,
           60,
           72,
           72,
           72,
           60,
           60,
           72,
           72,
           60,
           72,
           72,
           60,
           60,
           72,
           72,
           48,
           24,
           48,
           48,
           48,
           24,
           48,
           48,
           24,
           48,
           48,
           48,
           48,
           48,
           48,
           60,
           60,
           48,
           72,
           72,
           72,
           60,
           60,
           48,
           72,
           60,
           60,
           48,
           72,
           72,
           72,
           60,
           60,
           72,
           72,
           60,
           60,
           72,
           72,
           72,
           60,
           72
          ],
          "line": {
           "color": "DarkSlateGrey",
           "width": 2
          },
          "size": 1
         },
         "mode": "lines+markers",
         "showlegend": false,
         "type": "scatter",
         "x": [
          11.611861,
          11.482527652730326
         ],
         "y": [
          8.592716,
          8.661345317066155
         ]
        },
        {
         "line": {
          "color": "DarkSlateGrey",
          "width": 1
         },
         "marker": {
          "color": [
           48,
           48,
           48,
           48,
           48,
           48,
           48,
           48,
           48,
           48,
           48,
           60,
           72,
           60,
           60,
           72,
           72,
           60,
           72,
           72,
           72,
           60,
           60,
           72,
           72,
           60,
           72,
           72,
           60,
           60,
           72,
           72,
           48,
           24,
           48,
           48,
           48,
           24,
           48,
           48,
           24,
           48,
           48,
           48,
           48,
           48,
           48,
           60,
           60,
           48,
           72,
           72,
           72,
           60,
           60,
           48,
           72,
           60,
           60,
           48,
           72,
           72,
           72,
           60,
           60,
           72,
           72,
           60,
           60,
           72,
           72,
           72,
           60,
           72
          ],
          "line": {
           "color": "DarkSlateGrey",
           "width": 2
          },
          "size": 1
         },
         "mode": "lines+markers",
         "showlegend": false,
         "type": "scatter",
         "x": [
          10.9997635,
          11.361412287560583
         ],
         "y": [
          7.823455,
          8.602999648723648
         ]
        },
        {
         "line": {
          "color": "DarkSlateGrey",
          "width": 1
         },
         "marker": {
          "color": [
           48,
           48,
           48,
           48,
           48,
           48,
           48,
           48,
           48,
           48,
           48,
           60,
           72,
           60,
           60,
           72,
           72,
           60,
           72,
           72,
           72,
           60,
           60,
           72,
           72,
           60,
           72,
           72,
           60,
           60,
           72,
           72,
           48,
           24,
           48,
           48,
           48,
           24,
           48,
           48,
           24,
           48,
           48,
           48,
           48,
           48,
           48,
           60,
           60,
           48,
           72,
           72,
           72,
           60,
           60,
           48,
           72,
           60,
           60,
           48,
           72,
           72,
           72,
           60,
           60,
           72,
           72,
           60,
           60,
           72,
           72,
           72,
           60,
           72
          ],
          "line": {
           "color": "DarkSlateGrey",
           "width": 2
          },
          "size": 1
         },
         "mode": "lines+markers",
         "showlegend": false,
         "type": "scatter",
         "x": [
          13.384659,
          12.341494903263944
         ],
         "y": [
          9.57302,
          9.631862997400416
         ]
        },
        {
         "line": {
          "color": "DarkSlateGrey",
          "width": 1
         },
         "marker": {
          "color": [
           48,
           48,
           48,
           48,
           48,
           48,
           48,
           48,
           48,
           48,
           48,
           60,
           72,
           60,
           60,
           72,
           72,
           60,
           72,
           72,
           72,
           60,
           60,
           72,
           72,
           60,
           72,
           72,
           60,
           60,
           72,
           72,
           48,
           24,
           48,
           48,
           48,
           24,
           48,
           48,
           24,
           48,
           48,
           48,
           48,
           48,
           48,
           60,
           60,
           48,
           72,
           72,
           72,
           60,
           60,
           48,
           72,
           60,
           60,
           48,
           72,
           72,
           72,
           60,
           60,
           72,
           72,
           60,
           60,
           72,
           72,
           72,
           60,
           72
          ],
          "line": {
           "color": "DarkSlateGrey",
           "width": 2
          },
          "size": 1
         },
         "mode": "lines+markers",
         "showlegend": false,
         "type": "scatter",
         "x": [
          12.761199,
          13.658238201043925
         ],
         "y": [
          10.722335,
          9.382882013807844
         ]
        },
        {
         "line": {
          "color": "DarkSlateGrey",
          "width": 1
         },
         "marker": {
          "color": [
           48,
           48,
           48,
           48,
           48,
           48,
           48,
           48,
           48,
           48,
           48,
           60,
           72,
           60,
           60,
           72,
           72,
           60,
           72,
           72,
           72,
           60,
           60,
           72,
           72,
           60,
           72,
           72,
           60,
           60,
           72,
           72,
           48,
           24,
           48,
           48,
           48,
           24,
           48,
           48,
           24,
           48,
           48,
           48,
           48,
           48,
           48,
           60,
           60,
           48,
           72,
           72,
           72,
           60,
           60,
           48,
           72,
           60,
           60,
           48,
           72,
           72,
           72,
           60,
           60,
           72,
           72,
           60,
           60,
           72,
           72,
           72,
           60,
           72
          ],
          "line": {
           "color": "DarkSlateGrey",
           "width": 2
          },
          "size": 1
         },
         "mode": "lines+markers",
         "showlegend": false,
         "type": "scatter",
         "x": [
          11.004806,
          11.463265612486532
         ],
         "y": [
          7.781951,
          8.688295124666658
         ]
        },
        {
         "line": {
          "color": "DarkSlateGrey",
          "width": 1
         },
         "marker": {
          "color": [
           48,
           48,
           48,
           48,
           48,
           48,
           48,
           48,
           48,
           48,
           48,
           60,
           72,
           60,
           60,
           72,
           72,
           60,
           72,
           72,
           72,
           60,
           60,
           72,
           72,
           60,
           72,
           72,
           60,
           60,
           72,
           72,
           48,
           24,
           48,
           48,
           48,
           24,
           48,
           48,
           24,
           48,
           48,
           48,
           48,
           48,
           48,
           60,
           60,
           48,
           72,
           72,
           72,
           60,
           60,
           48,
           72,
           60,
           60,
           48,
           72,
           72,
           72,
           60,
           60,
           72,
           72,
           60,
           60,
           72,
           72,
           72,
           60,
           72
          ],
          "line": {
           "color": "DarkSlateGrey",
           "width": 2
          },
          "size": 1
         },
         "mode": "lines+markers",
         "showlegend": false,
         "type": "scatter",
         "x": [
          13.4673395,
          12.890213542679247
         ],
         "y": [
          7.4712152,
          8.906063378229117
         ]
        },
        {
         "line": {
          "color": "DarkSlateGrey",
          "width": 1
         },
         "marker": {
          "color": [
           48,
           48,
           48,
           48,
           48,
           48,
           48,
           48,
           48,
           48,
           48,
           60,
           72,
           60,
           60,
           72,
           72,
           60,
           72,
           72,
           72,
           60,
           60,
           72,
           72,
           60,
           72,
           72,
           60,
           60,
           72,
           72,
           48,
           24,
           48,
           48,
           48,
           24,
           48,
           48,
           24,
           48,
           48,
           48,
           48,
           48,
           48,
           60,
           60,
           48,
           72,
           72,
           72,
           60,
           60,
           48,
           72,
           60,
           60,
           48,
           72,
           72,
           72,
           60,
           60,
           72,
           72,
           60,
           60,
           72,
           72,
           72,
           60,
           72
          ],
          "line": {
           "color": "DarkSlateGrey",
           "width": 2
          },
          "size": 1
         },
         "mode": "lines+markers",
         "showlegend": false,
         "type": "scatter",
         "x": [
          11.276823,
          11.207448619148852
         ],
         "y": [
          10.3449135,
          10.148061898700817
         ]
        },
        {
         "line": {
          "color": "DarkSlateGrey",
          "width": 1
         },
         "marker": {
          "color": [
           48,
           48,
           48,
           48,
           48,
           48,
           48,
           48,
           48,
           48,
           48,
           60,
           72,
           60,
           60,
           72,
           72,
           60,
           72,
           72,
           72,
           60,
           60,
           72,
           72,
           60,
           72,
           72,
           60,
           60,
           72,
           72,
           48,
           24,
           48,
           48,
           48,
           24,
           48,
           48,
           24,
           48,
           48,
           48,
           48,
           48,
           48,
           60,
           60,
           48,
           72,
           72,
           72,
           60,
           60,
           48,
           72,
           60,
           60,
           48,
           72,
           72,
           72,
           60,
           60,
           72,
           72,
           60,
           60,
           72,
           72,
           72,
           60,
           72
          ],
          "line": {
           "color": "DarkSlateGrey",
           "width": 2
          },
          "size": 1
         },
         "mode": "lines+markers",
         "showlegend": false,
         "type": "scatter",
         "x": [
          2.7155824,
          2.471670227292634
         ],
         "y": [
          6.9326477,
          6.905503937850509
         ]
        },
        {
         "line": {
          "color": "DarkSlateGrey",
          "width": 1
         },
         "marker": {
          "color": [
           48,
           48,
           48,
           48,
           48,
           48,
           48,
           48,
           48,
           48,
           48,
           60,
           72,
           60,
           60,
           72,
           72,
           60,
           72,
           72,
           72,
           60,
           60,
           72,
           72,
           60,
           72,
           72,
           60,
           60,
           72,
           72,
           48,
           24,
           48,
           48,
           48,
           24,
           48,
           48,
           24,
           48,
           48,
           48,
           48,
           48,
           48,
           60,
           60,
           48,
           72,
           72,
           72,
           60,
           60,
           48,
           72,
           60,
           60,
           48,
           72,
           72,
           72,
           60,
           60,
           72,
           72,
           60,
           60,
           72,
           72,
           72,
           60,
           72
          ],
          "line": {
           "color": "DarkSlateGrey",
           "width": 2
          },
          "size": 1
         },
         "mode": "lines+markers",
         "showlegend": false,
         "type": "scatter",
         "x": [
          11.280384,
          12.542644371241543
         ],
         "y": [
          9.838772,
          9.839248187273945
         ]
        },
        {
         "line": {
          "color": "DarkSlateGrey",
          "width": 1
         },
         "marker": {
          "color": [
           48,
           48,
           48,
           48,
           48,
           48,
           48,
           48,
           48,
           48,
           48,
           60,
           72,
           60,
           60,
           72,
           72,
           60,
           72,
           72,
           72,
           60,
           60,
           72,
           72,
           60,
           72,
           72,
           60,
           60,
           72,
           72,
           48,
           24,
           48,
           48,
           48,
           24,
           48,
           48,
           24,
           48,
           48,
           48,
           48,
           48,
           48,
           60,
           60,
           48,
           72,
           72,
           72,
           60,
           60,
           48,
           72,
           60,
           60,
           48,
           72,
           72,
           72,
           60,
           60,
           72,
           72,
           60,
           60,
           72,
           72,
           72,
           60,
           72
          ],
          "line": {
           "color": "DarkSlateGrey",
           "width": 2
          },
          "size": 1
         },
         "mode": "lines+markers",
         "showlegend": false,
         "type": "scatter",
         "x": [
          11.736194,
          12.550598912770235
         ],
         "y": [
          9.50602,
          9.861251184678846
         ]
        },
        {
         "line": {
          "color": "DarkSlateGrey",
          "width": 1
         },
         "marker": {
          "color": [
           48,
           48,
           48,
           48,
           48,
           48,
           48,
           48,
           48,
           48,
           48,
           60,
           72,
           60,
           60,
           72,
           72,
           60,
           72,
           72,
           72,
           60,
           60,
           72,
           72,
           60,
           72,
           72,
           60,
           60,
           72,
           72,
           48,
           24,
           48,
           48,
           48,
           24,
           48,
           48,
           24,
           48,
           48,
           48,
           48,
           48,
           48,
           60,
           60,
           48,
           72,
           72,
           72,
           60,
           60,
           48,
           72,
           60,
           60,
           48,
           72,
           72,
           72,
           60,
           60,
           72,
           72,
           60,
           60,
           72,
           72,
           72,
           60,
           72
          ],
          "line": {
           "color": "DarkSlateGrey",
           "width": 2
          },
          "size": 1
         },
         "mode": "lines+markers",
         "showlegend": false,
         "type": "scatter",
         "x": [
          10.918215,
          10.898517759387392
         ],
         "y": [
          10.162161,
          9.853340288347507
         ]
        },
        {
         "line": {
          "color": "DarkSlateGrey",
          "width": 1
         },
         "marker": {
          "color": [
           48,
           48,
           48,
           48,
           48,
           48,
           48,
           48,
           48,
           48,
           48,
           60,
           72,
           60,
           60,
           72,
           72,
           60,
           72,
           72,
           72,
           60,
           60,
           72,
           72,
           60,
           72,
           72,
           60,
           60,
           72,
           72,
           48,
           24,
           48,
           48,
           48,
           24,
           48,
           48,
           24,
           48,
           48,
           48,
           48,
           48,
           48,
           60,
           60,
           48,
           72,
           72,
           72,
           60,
           60,
           48,
           72,
           60,
           60,
           48,
           72,
           72,
           72,
           60,
           60,
           72,
           72,
           60,
           60,
           72,
           72,
           72,
           60,
           72
          ],
          "line": {
           "color": "DarkSlateGrey",
           "width": 2
          },
          "size": 1
         },
         "mode": "lines+markers",
         "showlegend": false,
         "type": "scatter",
         "x": [
          2.347755,
          2.458726477562794
         ],
         "y": [
          6.7369547,
          6.818162112047188
         ]
        },
        {
         "line": {
          "color": "DarkSlateGrey",
          "width": 1
         },
         "marker": {
          "color": [
           48,
           48,
           48,
           48,
           48,
           48,
           48,
           48,
           48,
           48,
           48,
           60,
           72,
           60,
           60,
           72,
           72,
           60,
           72,
           72,
           72,
           60,
           60,
           72,
           72,
           60,
           72,
           72,
           60,
           60,
           72,
           72,
           48,
           24,
           48,
           48,
           48,
           24,
           48,
           48,
           24,
           48,
           48,
           48,
           48,
           48,
           48,
           60,
           60,
           48,
           72,
           72,
           72,
           60,
           60,
           48,
           72,
           60,
           60,
           48,
           72,
           72,
           72,
           60,
           60,
           72,
           72,
           60,
           60,
           72,
           72,
           72,
           60,
           72
          ],
          "line": {
           "color": "DarkSlateGrey",
           "width": 2
          },
          "size": 1
         },
         "mode": "lines+markers",
         "showlegend": false,
         "type": "scatter",
         "x": [
          10.495303,
          11.358456258754856
         ],
         "y": [
          9.104143,
          10.112221515615609
         ]
        },
        {
         "line": {
          "color": "DarkSlateGrey",
          "width": 1
         },
         "marker": {
          "color": [
           48,
           48,
           48,
           48,
           48,
           48,
           48,
           48,
           48,
           48,
           48,
           60,
           72,
           60,
           60,
           72,
           72,
           60,
           72,
           72,
           72,
           60,
           60,
           72,
           72,
           60,
           72,
           72,
           60,
           60,
           72,
           72,
           48,
           24,
           48,
           48,
           48,
           24,
           48,
           48,
           24,
           48,
           48,
           48,
           48,
           48,
           48,
           60,
           60,
           48,
           72,
           72,
           72,
           60,
           60,
           48,
           72,
           60,
           60,
           48,
           72,
           72,
           72,
           60,
           60,
           72,
           72,
           60,
           60,
           72,
           72,
           72,
           60,
           72
          ],
          "line": {
           "color": "DarkSlateGrey",
           "width": 2
          },
          "size": 1
         },
         "mode": "lines+markers",
         "showlegend": false,
         "type": "scatter",
         "x": [
          13.209538,
          12.61071924321136
         ],
         "y": [
          9.215751,
          9.897109171073058
         ]
        },
        {
         "line": {
          "color": "DarkSlateGrey",
          "width": 1
         },
         "marker": {
          "color": [
           48,
           48,
           48,
           48,
           48,
           48,
           48,
           48,
           48,
           48,
           48,
           60,
           72,
           60,
           60,
           72,
           72,
           60,
           72,
           72,
           72,
           60,
           60,
           72,
           72,
           60,
           72,
           72,
           60,
           60,
           72,
           72,
           48,
           24,
           48,
           48,
           48,
           24,
           48,
           48,
           24,
           48,
           48,
           48,
           48,
           48,
           48,
           60,
           60,
           48,
           72,
           72,
           72,
           60,
           60,
           48,
           72,
           60,
           60,
           48,
           72,
           72,
           72,
           60,
           60,
           72,
           72,
           60,
           60,
           72,
           72,
           72,
           60,
           72
          ],
          "line": {
           "color": "DarkSlateGrey",
           "width": 2
          },
          "size": 1
         },
         "mode": "lines+markers",
         "showlegend": false,
         "type": "scatter",
         "x": [
          2.5718184,
          2.4976462099075762
         ],
         "y": [
          7.092851,
          6.8597219310909585
         ]
        },
        {
         "line": {
          "color": "DarkSlateGrey",
          "width": 1
         },
         "marker": {
          "color": [
           48,
           48,
           48,
           48,
           48,
           48,
           48,
           48,
           48,
           48,
           48,
           60,
           72,
           60,
           60,
           72,
           72,
           60,
           72,
           72,
           72,
           60,
           60,
           72,
           72,
           60,
           72,
           72,
           60,
           60,
           72,
           72,
           48,
           24,
           48,
           48,
           48,
           24,
           48,
           48,
           24,
           48,
           48,
           48,
           48,
           48,
           48,
           60,
           60,
           48,
           72,
           72,
           72,
           60,
           60,
           48,
           72,
           60,
           60,
           48,
           72,
           72,
           72,
           60,
           60,
           72,
           72,
           60,
           60,
           72,
           72,
           72,
           60,
           72
          ],
          "line": {
           "color": "DarkSlateGrey",
           "width": 2
          },
          "size": 1
         },
         "mode": "lines+markers",
         "showlegend": false,
         "type": "scatter",
         "x": [
          10.888228,
          11.184828144316356
         ],
         "y": [
          10.450801,
          9.999884971735924
         ]
        },
        {
         "line": {
          "color": "DarkSlateGrey",
          "width": 1
         },
         "marker": {
          "color": [
           48,
           48,
           48,
           48,
           48,
           48,
           48,
           48,
           48,
           48,
           48,
           60,
           72,
           60,
           60,
           72,
           72,
           60,
           72,
           72,
           72,
           60,
           60,
           72,
           72,
           60,
           72,
           72,
           60,
           60,
           72,
           72,
           48,
           24,
           48,
           48,
           48,
           24,
           48,
           48,
           24,
           48,
           48,
           48,
           48,
           48,
           48,
           60,
           60,
           48,
           72,
           72,
           72,
           60,
           60,
           48,
           72,
           60,
           60,
           48,
           72,
           72,
           72,
           60,
           60,
           72,
           72,
           60,
           60,
           72,
           72,
           72,
           60,
           72
          ],
          "line": {
           "color": "DarkSlateGrey",
           "width": 2
          },
          "size": 1
         },
         "mode": "lines+markers",
         "showlegend": false,
         "type": "scatter",
         "x": [
          11.481734,
          11.216278113908036
         ],
         "y": [
          10.248935,
          10.064313909966566
         ]
        },
        {
         "line": {
          "color": "DarkSlateGrey",
          "width": 1
         },
         "marker": {
          "color": [
           48,
           48,
           48,
           48,
           48,
           48,
           48,
           48,
           48,
           48,
           48,
           60,
           72,
           60,
           60,
           72,
           72,
           60,
           72,
           72,
           72,
           60,
           60,
           72,
           72,
           60,
           72,
           72,
           60,
           60,
           72,
           72,
           48,
           24,
           48,
           48,
           48,
           24,
           48,
           48,
           24,
           48,
           48,
           48,
           48,
           48,
           48,
           60,
           60,
           48,
           72,
           72,
           72,
           60,
           60,
           48,
           72,
           60,
           60,
           48,
           72,
           72,
           72,
           60,
           60,
           72,
           72,
           60,
           60,
           72,
           72,
           72,
           60,
           72
          ],
          "line": {
           "color": "DarkSlateGrey",
           "width": 2
          },
          "size": 1
         },
         "mode": "lines+markers",
         "showlegend": false,
         "type": "scatter",
         "x": [
          13.456529,
          12.66116366880005
         ],
         "y": [
          9.0321665,
          9.921279520159322
         ]
        },
        {
         "line": {
          "color": "DarkSlateGrey",
          "width": 1
         },
         "marker": {
          "color": [
           48,
           48,
           48,
           48,
           48,
           48,
           48,
           48,
           48,
           48,
           48,
           60,
           72,
           60,
           60,
           72,
           72,
           60,
           72,
           72,
           72,
           60,
           60,
           72,
           72,
           60,
           72,
           72,
           60,
           60,
           72,
           72,
           48,
           24,
           48,
           48,
           48,
           24,
           48,
           48,
           24,
           48,
           48,
           48,
           48,
           48,
           48,
           60,
           60,
           48,
           72,
           72,
           72,
           60,
           60,
           48,
           72,
           60,
           60,
           48,
           72,
           72,
           72,
           60,
           60,
           72,
           72,
           60,
           60,
           72,
           72,
           72,
           60,
           72
          ],
          "line": {
           "color": "DarkSlateGrey",
           "width": 2
          },
          "size": 1
         },
         "mode": "lines+markers",
         "showlegend": false,
         "type": "scatter",
         "x": [
          11.04935,
          10.746996420676313
         ],
         "y": [
          10.404863,
          9.712600204597184
         ]
        },
        {
         "line": {
          "color": "DarkSlateGrey",
          "width": 1
         },
         "marker": {
          "color": [
           48,
           48,
           48,
           48,
           48,
           48,
           48,
           48,
           48,
           48,
           48,
           60,
           72,
           60,
           60,
           72,
           72,
           60,
           72,
           72,
           72,
           60,
           60,
           72,
           72,
           60,
           72,
           72,
           60,
           60,
           72,
           72,
           48,
           24,
           48,
           48,
           48,
           24,
           48,
           48,
           24,
           48,
           48,
           48,
           48,
           48,
           48,
           60,
           60,
           48,
           72,
           72,
           72,
           60,
           60,
           48,
           72,
           60,
           60,
           48,
           72,
           72,
           72,
           60,
           60,
           72,
           72,
           60,
           60,
           72,
           72,
           72,
           60,
           72
          ],
          "line": {
           "color": "DarkSlateGrey",
           "width": 2
          },
          "size": 1
         },
         "mode": "lines+markers",
         "showlegend": false,
         "type": "scatter",
         "x": [
          10.8213,
          10.872115116037639
         ],
         "y": [
          10.248566,
          9.946424435735914
         ]
        },
        {
         "line": {
          "color": "DarkSlateGrey",
          "width": 1
         },
         "marker": {
          "color": [
           48,
           48,
           48,
           48,
           48,
           48,
           48,
           48,
           48,
           48,
           48,
           60,
           72,
           60,
           60,
           72,
           72,
           60,
           72,
           72,
           72,
           60,
           60,
           72,
           72,
           60,
           72,
           72,
           60,
           60,
           72,
           72,
           48,
           24,
           48,
           48,
           48,
           24,
           48,
           48,
           24,
           48,
           48,
           48,
           48,
           48,
           48,
           60,
           60,
           48,
           72,
           72,
           72,
           60,
           60,
           48,
           72,
           60,
           60,
           48,
           72,
           72,
           72,
           60,
           60,
           72,
           72,
           60,
           60,
           72,
           72,
           72,
           60,
           72
          ],
          "line": {
           "color": "DarkSlateGrey",
           "width": 2
          },
          "size": 1
         },
         "mode": "lines+markers",
         "showlegend": false,
         "type": "scatter",
         "x": [
          11.169366,
          11.315322041304988
         ],
         "y": [
          10.014798,
          10.10809928691341
         ]
        },
        {
         "line": {
          "color": "DarkSlateGrey",
          "width": 1
         },
         "marker": {
          "color": [
           48,
           48,
           48,
           48,
           48,
           48,
           48,
           48,
           48,
           48,
           48,
           60,
           72,
           60,
           60,
           72,
           72,
           60,
           72,
           72,
           72,
           60,
           60,
           72,
           72,
           60,
           72,
           72,
           60,
           60,
           72,
           72,
           48,
           24,
           48,
           48,
           48,
           24,
           48,
           48,
           24,
           48,
           48,
           48,
           48,
           48,
           48,
           60,
           60,
           48,
           72,
           72,
           72,
           60,
           60,
           48,
           72,
           60,
           60,
           48,
           72,
           72,
           72,
           60,
           60,
           72,
           72,
           60,
           60,
           72,
           72,
           72,
           60,
           72
          ],
          "line": {
           "color": "DarkSlateGrey",
           "width": 2
          },
          "size": 1
         },
         "mode": "lines+markers",
         "showlegend": false,
         "type": "scatter",
         "x": [
          10.637614,
          10.363787683130035
         ],
         "y": [
          10.116172,
          8.99134026426245
         ]
        },
        {
         "line": {
          "color": "DarkSlateGrey",
          "width": 1
         },
         "marker": {
          "color": [
           48,
           48,
           48,
           48,
           48,
           48,
           48,
           48,
           48,
           48,
           48,
           60,
           72,
           60,
           60,
           72,
           72,
           60,
           72,
           72,
           72,
           60,
           60,
           72,
           72,
           60,
           72,
           72,
           60,
           60,
           72,
           72,
           48,
           24,
           48,
           48,
           48,
           24,
           48,
           48,
           24,
           48,
           48,
           48,
           48,
           48,
           48,
           60,
           60,
           48,
           72,
           72,
           72,
           60,
           60,
           48,
           72,
           60,
           60,
           48,
           72,
           72,
           72,
           60,
           60,
           72,
           72,
           60,
           60,
           72,
           72,
           72,
           60,
           72
          ],
          "line": {
           "color": "DarkSlateGrey",
           "width": 2
          },
          "size": 1
         },
         "mode": "lines+markers",
         "showlegend": false,
         "type": "scatter",
         "x": [
          13.441044,
          13.981317339849163
         ],
         "y": [
          10.229832,
          9.400749270251733
         ]
        },
        {
         "line": {
          "color": "DarkSlateGrey",
          "width": 1
         },
         "marker": {
          "color": [
           48,
           48,
           48,
           48,
           48,
           48,
           48,
           48,
           48,
           48,
           48,
           60,
           72,
           60,
           60,
           72,
           72,
           60,
           72,
           72,
           72,
           60,
           60,
           72,
           72,
           60,
           72,
           72,
           60,
           60,
           72,
           72,
           48,
           24,
           48,
           48,
           48,
           24,
           48,
           48,
           24,
           48,
           48,
           48,
           48,
           48,
           48,
           60,
           60,
           48,
           72,
           72,
           72,
           60,
           60,
           48,
           72,
           60,
           60,
           48,
           72,
           72,
           72,
           60,
           60,
           72,
           72,
           60,
           60,
           72,
           72,
           72,
           60,
           72
          ],
          "line": {
           "color": "DarkSlateGrey",
           "width": 2
          },
          "size": 1
         },
         "mode": "lines+markers",
         "showlegend": false,
         "type": "scatter",
         "x": [
          2.4550478,
          2.331352474980598
         ],
         "y": [
          6.7710013,
          6.804338451944885
         ]
        },
        {
         "line": {
          "color": "DarkSlateGrey",
          "width": 1
         },
         "marker": {
          "color": [
           48,
           48,
           48,
           48,
           48,
           48,
           48,
           48,
           48,
           48,
           48,
           60,
           72,
           60,
           60,
           72,
           72,
           60,
           72,
           72,
           72,
           60,
           60,
           72,
           72,
           60,
           72,
           72,
           60,
           60,
           72,
           72,
           48,
           24,
           48,
           48,
           48,
           24,
           48,
           48,
           24,
           48,
           48,
           48,
           48,
           48,
           48,
           60,
           60,
           48,
           72,
           72,
           72,
           60,
           60,
           48,
           72,
           60,
           60,
           48,
           72,
           72,
           72,
           60,
           60,
           72,
           72,
           60,
           60,
           72,
           72,
           72,
           60,
           72
          ],
          "line": {
           "color": "DarkSlateGrey",
           "width": 2
          },
          "size": 1
         },
         "mode": "lines+markers",
         "showlegend": false,
         "type": "scatter",
         "x": [
          10.721133,
          11.010966621778486
         ],
         "y": [
          7.790931,
          8.319835252177445
         ]
        },
        {
         "line": {
          "color": "DarkSlateGrey",
          "width": 1
         },
         "marker": {
          "color": [
           48,
           48,
           48,
           48,
           48,
           48,
           48,
           48,
           48,
           48,
           48,
           60,
           72,
           60,
           60,
           72,
           72,
           60,
           72,
           72,
           72,
           60,
           60,
           72,
           72,
           60,
           72,
           72,
           60,
           60,
           72,
           72,
           48,
           24,
           48,
           48,
           48,
           24,
           48,
           48,
           24,
           48,
           48,
           48,
           48,
           48,
           48,
           60,
           60,
           48,
           72,
           72,
           72,
           60,
           60,
           48,
           72,
           60,
           60,
           48,
           72,
           72,
           72,
           60,
           60,
           72,
           72,
           60,
           60,
           72,
           72,
           72,
           60,
           72
          ],
          "line": {
           "color": "DarkSlateGrey",
           "width": 2
          },
          "size": 1
         },
         "mode": "lines+markers",
         "showlegend": false,
         "type": "scatter",
         "x": [
          13.196257,
          13.785707205156612
         ],
         "y": [
          7.4771304,
          8.710975581708762
         ]
        },
        {
         "line": {
          "color": "DarkSlateGrey",
          "width": 1
         },
         "marker": {
          "color": [
           48,
           48,
           48,
           48,
           48,
           48,
           48,
           48,
           48,
           48,
           48,
           60,
           72,
           60,
           60,
           72,
           72,
           60,
           72,
           72,
           72,
           60,
           60,
           72,
           72,
           60,
           72,
           72,
           60,
           60,
           72,
           72,
           48,
           24,
           48,
           48,
           48,
           24,
           48,
           48,
           24,
           48,
           48,
           48,
           48,
           48,
           48,
           60,
           60,
           48,
           72,
           72,
           72,
           60,
           60,
           48,
           72,
           60,
           60,
           48,
           72,
           72,
           72,
           60,
           60,
           72,
           72,
           60,
           60,
           72,
           72,
           72,
           60,
           72
          ],
          "line": {
           "color": "DarkSlateGrey",
           "width": 2
          },
          "size": 1
         },
         "mode": "lines+markers",
         "showlegend": false,
         "type": "scatter",
         "x": [
          10.998121,
          10.957489307261683
         ],
         "y": [
          9.863325,
          8.270110424643802
         ]
        },
        {
         "line": {
          "color": "DarkSlateGrey",
          "width": 1
         },
         "marker": {
          "color": [
           48,
           48,
           48,
           48,
           48,
           48,
           48,
           48,
           48,
           48,
           48,
           60,
           72,
           60,
           60,
           72,
           72,
           60,
           72,
           72,
           72,
           60,
           60,
           72,
           72,
           60,
           72,
           72,
           60,
           60,
           72,
           72,
           48,
           24,
           48,
           48,
           48,
           24,
           48,
           48,
           24,
           48,
           48,
           48,
           48,
           48,
           48,
           60,
           60,
           48,
           72,
           72,
           72,
           60,
           60,
           48,
           72,
           60,
           60,
           48,
           72,
           72,
           72,
           60,
           60,
           72,
           72,
           60,
           60,
           72,
           72,
           72,
           60,
           72
          ],
          "line": {
           "color": "DarkSlateGrey",
           "width": 2
          },
          "size": 1
         },
         "mode": "lines+markers",
         "showlegend": false,
         "type": "scatter",
         "x": [
          11.066662,
          10.305476073298504
         ],
         "y": [
          9.851558,
          9.003991086399271
         ]
        },
        {
         "line": {
          "color": "DarkSlateGrey",
          "width": 1
         },
         "marker": {
          "color": [
           48,
           48,
           48,
           48,
           48,
           48,
           48,
           48,
           48,
           48,
           48,
           60,
           72,
           60,
           60,
           72,
           72,
           60,
           72,
           72,
           72,
           60,
           60,
           72,
           72,
           60,
           72,
           72,
           60,
           60,
           72,
           72,
           48,
           24,
           48,
           48,
           48,
           24,
           48,
           48,
           24,
           48,
           48,
           48,
           48,
           48,
           48,
           60,
           60,
           48,
           72,
           72,
           72,
           60,
           60,
           48,
           72,
           60,
           60,
           48,
           72,
           72,
           72,
           60,
           60,
           72,
           72,
           60,
           60,
           72,
           72,
           72,
           60,
           72
          ],
          "line": {
           "color": "DarkSlateGrey",
           "width": 2
          },
          "size": 1
         },
         "mode": "lines+markers",
         "showlegend": false,
         "type": "scatter",
         "x": [
          13.855052,
          13.747155997726292
         ],
         "y": [
          8.886627,
          9.309724715714989
         ]
        },
        {
         "line": {
          "color": "DarkSlateGrey",
          "width": 1
         },
         "marker": {
          "color": [
           48,
           48,
           48,
           48,
           48,
           48,
           48,
           48,
           48,
           48,
           48,
           60,
           72,
           60,
           60,
           72,
           72,
           60,
           72,
           72,
           72,
           60,
           60,
           72,
           72,
           60,
           72,
           72,
           60,
           60,
           72,
           72,
           48,
           24,
           48,
           48,
           48,
           24,
           48,
           48,
           24,
           48,
           48,
           48,
           48,
           48,
           48,
           60,
           60,
           48,
           72,
           72,
           72,
           60,
           60,
           48,
           72,
           60,
           60,
           48,
           72,
           72,
           72,
           60,
           60,
           72,
           72,
           60,
           60,
           72,
           72,
           72,
           60,
           72
          ],
          "line": {
           "color": "DarkSlateGrey",
           "width": 2
          },
          "size": 1
         },
         "mode": "lines+markers",
         "showlegend": false,
         "type": "scatter",
         "x": [
          2.8291597,
          2.3818615416784326
         ],
         "y": [
          7.098556,
          6.970411031467816
         ]
        },
        {
         "line": {
          "color": "DarkSlateGrey",
          "width": 1
         },
         "marker": {
          "color": [
           48,
           48,
           48,
           48,
           48,
           48,
           48,
           48,
           48,
           48,
           48,
           60,
           72,
           60,
           60,
           72,
           72,
           60,
           72,
           72,
           72,
           60,
           60,
           72,
           72,
           60,
           72,
           72,
           60,
           60,
           72,
           72,
           48,
           24,
           48,
           48,
           48,
           24,
           48,
           48,
           24,
           48,
           48,
           48,
           48,
           48,
           48,
           60,
           60,
           48,
           72,
           72,
           72,
           60,
           60,
           48,
           72,
           60,
           60,
           48,
           72,
           72,
           72,
           60,
           60,
           72,
           72,
           60,
           60,
           72,
           72,
           72,
           60,
           72
          ],
          "line": {
           "color": "DarkSlateGrey",
           "width": 2
          },
          "size": 1
         },
         "mode": "lines+markers",
         "showlegend": false,
         "type": "scatter",
         "x": [
          11.052477,
          10.95339967459998
         ],
         "y": [
          9.593743,
          8.303020712682864
         ]
        },
        {
         "line": {
          "color": "DarkSlateGrey",
          "width": 1
         },
         "marker": {
          "color": [
           48,
           48,
           48,
           48,
           48,
           48,
           48,
           48,
           48,
           48,
           48,
           60,
           72,
           60,
           60,
           72,
           72,
           60,
           72,
           72,
           72,
           60,
           60,
           72,
           72,
           60,
           72,
           72,
           60,
           60,
           72,
           72,
           48,
           24,
           48,
           48,
           48,
           24,
           48,
           48,
           24,
           48,
           48,
           48,
           48,
           48,
           48,
           60,
           60,
           48,
           72,
           72,
           72,
           60,
           60,
           48,
           72,
           60,
           60,
           48,
           72,
           72,
           72,
           60,
           60,
           72,
           72,
           60,
           60,
           72,
           72,
           72,
           60,
           72
          ],
          "line": {
           "color": "DarkSlateGrey",
           "width": 2
          },
          "size": 1
         },
         "mode": "lines+markers",
         "showlegend": false,
         "type": "scatter",
         "x": [
          10.541386,
          10.402220314480301
         ],
         "y": [
          10.328006,
          9.021578750064386
         ]
        },
        {
         "line": {
          "color": "DarkSlateGrey",
          "width": 1
         },
         "marker": {
          "color": [
           48,
           48,
           48,
           48,
           48,
           48,
           48,
           48,
           48,
           48,
           48,
           60,
           72,
           60,
           60,
           72,
           72,
           60,
           72,
           72,
           72,
           60,
           60,
           72,
           72,
           60,
           72,
           72,
           60,
           60,
           72,
           72,
           48,
           24,
           48,
           48,
           48,
           24,
           48,
           48,
           24,
           48,
           48,
           48,
           48,
           48,
           48,
           60,
           60,
           48,
           72,
           72,
           72,
           60,
           60,
           48,
           72,
           60,
           60,
           48,
           72,
           72,
           72,
           60,
           60,
           72,
           72,
           60,
           60,
           72,
           72,
           72,
           60,
           72
          ],
          "line": {
           "color": "DarkSlateGrey",
           "width": 2
          },
          "size": 1
         },
         "mode": "lines+markers",
         "showlegend": false,
         "type": "scatter",
         "x": [
          10.090337,
          10.52987443660259
         ],
         "y": [
          9.349282,
          9.32009879372896
         ]
        },
        {
         "line": {
          "color": "DarkSlateGrey",
          "width": 1
         },
         "marker": {
          "color": [
           48,
           48,
           48,
           48,
           48,
           48,
           48,
           48,
           48,
           48,
           48,
           60,
           72,
           60,
           60,
           72,
           72,
           60,
           72,
           72,
           72,
           60,
           60,
           72,
           72,
           60,
           72,
           72,
           60,
           60,
           72,
           72,
           48,
           24,
           48,
           48,
           48,
           24,
           48,
           48,
           24,
           48,
           48,
           48,
           48,
           48,
           48,
           60,
           60,
           48,
           72,
           72,
           72,
           60,
           60,
           48,
           72,
           60,
           60,
           48,
           72,
           72,
           72,
           60,
           60,
           72,
           72,
           60,
           60,
           72,
           72,
           72,
           60,
           72
          ],
          "line": {
           "color": "DarkSlateGrey",
           "width": 2
          },
          "size": 1
         },
         "mode": "lines+markers",
         "showlegend": false,
         "type": "scatter",
         "x": [
          2.6270823,
          2.3955826861889404
         ],
         "y": [
          7.119021,
          7.01932573870654
         ]
        },
        {
         "line": {
          "color": "DarkSlateGrey",
          "width": 1
         },
         "marker": {
          "color": [
           48,
           48,
           48,
           48,
           48,
           48,
           48,
           48,
           48,
           48,
           48,
           60,
           72,
           60,
           60,
           72,
           72,
           60,
           72,
           72,
           72,
           60,
           60,
           72,
           72,
           60,
           72,
           72,
           60,
           60,
           72,
           72,
           48,
           24,
           48,
           48,
           48,
           24,
           48,
           48,
           24,
           48,
           48,
           48,
           48,
           48,
           48,
           60,
           60,
           48,
           72,
           72,
           72,
           60,
           60,
           48,
           72,
           60,
           60,
           48,
           72,
           72,
           72,
           60,
           60,
           72,
           72,
           60,
           60,
           72,
           72,
           72,
           60,
           72
          ],
          "line": {
           "color": "DarkSlateGrey",
           "width": 2
          },
          "size": 1
         },
         "mode": "lines+markers",
         "showlegend": false,
         "type": "scatter",
         "x": [
          10.271494,
          10.907489555823112
         ],
         "y": [
          7.8539495,
          8.1438054354264
         ]
        },
        {
         "line": {
          "color": "DarkSlateGrey",
          "width": 1
         },
         "marker": {
          "color": [
           48,
           48,
           48,
           48,
           48,
           48,
           48,
           48,
           48,
           48,
           48,
           60,
           72,
           60,
           60,
           72,
           72,
           60,
           72,
           72,
           72,
           60,
           60,
           72,
           72,
           60,
           72,
           72,
           60,
           60,
           72,
           72,
           48,
           24,
           48,
           48,
           48,
           24,
           48,
           48,
           24,
           48,
           48,
           48,
           48,
           48,
           48,
           60,
           60,
           48,
           72,
           72,
           72,
           60,
           60,
           48,
           72,
           60,
           60,
           48,
           72,
           72,
           72,
           60,
           60,
           72,
           72,
           60,
           60,
           72,
           72,
           72,
           60,
           72
          ],
          "line": {
           "color": "DarkSlateGrey",
           "width": 2
          },
          "size": 1
         },
         "mode": "lines+markers",
         "showlegend": false,
         "type": "scatter",
         "x": [
          11.910392,
          10.921381665445159
         ],
         "y": [
          7.922406,
          8.240997105642307
         ]
        },
        {
         "line": {
          "color": "DarkSlateGrey",
          "width": 1
         },
         "marker": {
          "color": [
           48,
           48,
           48,
           48,
           48,
           48,
           48,
           48,
           48,
           48,
           48,
           60,
           72,
           60,
           60,
           72,
           72,
           60,
           72,
           72,
           72,
           60,
           60,
           72,
           72,
           60,
           72,
           72,
           60,
           60,
           72,
           72,
           48,
           24,
           48,
           48,
           48,
           24,
           48,
           48,
           24,
           48,
           48,
           48,
           48,
           48,
           48,
           60,
           60,
           48,
           72,
           72,
           72,
           60,
           60,
           48,
           72,
           60,
           60,
           48,
           72,
           72,
           72,
           60,
           60,
           72,
           72,
           60,
           60,
           72,
           72,
           72,
           60,
           72
          ],
          "line": {
           "color": "DarkSlateGrey",
           "width": 2
          },
          "size": 1
         },
         "mode": "lines+markers",
         "showlegend": false,
         "type": "scatter",
         "x": [
          13.4742985,
          13.682103474435674
         ],
         "y": [
          7.2245054,
          8.65624742518368
         ]
        },
        {
         "line": {
          "color": "DarkSlateGrey",
          "width": 1
         },
         "marker": {
          "color": [
           48,
           48,
           48,
           48,
           48,
           48,
           48,
           48,
           48,
           48,
           48,
           60,
           72,
           60,
           60,
           72,
           72,
           60,
           72,
           72,
           72,
           60,
           60,
           72,
           72,
           60,
           72,
           72,
           60,
           60,
           72,
           72,
           48,
           24,
           48,
           48,
           48,
           24,
           48,
           48,
           24,
           48,
           48,
           48,
           48,
           48,
           48,
           60,
           60,
           48,
           72,
           72,
           72,
           60,
           60,
           48,
           72,
           60,
           60,
           48,
           72,
           72,
           72,
           60,
           60,
           72,
           72,
           60,
           60,
           72,
           72,
           72,
           60,
           72
          ],
          "line": {
           "color": "DarkSlateGrey",
           "width": 2
          },
          "size": 1
         },
         "mode": "lines+markers",
         "showlegend": false,
         "type": "scatter",
         "x": [
          10.175466,
          10.433011374048458
         ],
         "y": [
          8.155363,
          9.182046649474687
         ]
        },
        {
         "line": {
          "color": "DarkSlateGrey",
          "width": 1
         },
         "marker": {
          "color": [
           48,
           48,
           48,
           48,
           48,
           48,
           48,
           48,
           48,
           48,
           48,
           60,
           72,
           60,
           60,
           72,
           72,
           60,
           72,
           72,
           72,
           60,
           60,
           72,
           72,
           60,
           72,
           72,
           60,
           60,
           72,
           72,
           48,
           24,
           48,
           48,
           48,
           24,
           48,
           48,
           24,
           48,
           48,
           48,
           48,
           48,
           48,
           60,
           60,
           48,
           72,
           72,
           72,
           60,
           60,
           48,
           72,
           60,
           60,
           48,
           72,
           72,
           72,
           60,
           60,
           72,
           72,
           60,
           60,
           72,
           72,
           72,
           60,
           72
          ],
          "line": {
           "color": "DarkSlateGrey",
           "width": 2
          },
          "size": 1
         },
         "mode": "lines+markers",
         "showlegend": false,
         "type": "scatter",
         "x": [
          9.36597,
          10.24082455239975
         ],
         "y": [
          10.249665,
          9.01825794872516
         ]
        },
        {
         "line": {
          "color": "DarkSlateGrey",
          "width": 1
         },
         "marker": {
          "color": [
           48,
           48,
           48,
           48,
           48,
           48,
           48,
           48,
           48,
           48,
           48,
           60,
           72,
           60,
           60,
           72,
           72,
           60,
           72,
           72,
           72,
           60,
           60,
           72,
           72,
           60,
           72,
           72,
           60,
           60,
           72,
           72,
           48,
           24,
           48,
           48,
           48,
           24,
           48,
           48,
           24,
           48,
           48,
           48,
           48,
           48,
           48,
           60,
           60,
           48,
           72,
           72,
           72,
           60,
           60,
           48,
           72,
           60,
           60,
           48,
           72,
           72,
           72,
           60,
           60,
           72,
           72,
           60,
           60,
           72,
           72,
           72,
           60,
           72
          ],
          "line": {
           "color": "DarkSlateGrey",
           "width": 2
          },
          "size": 1
         },
         "mode": "lines+markers",
         "showlegend": false,
         "type": "scatter",
         "x": [
          9.704807,
          10.67722452144554
         ],
         "y": [
          9.260765,
          7.979730430808904
         ]
        },
        {
         "line": {
          "color": "DarkSlateGrey",
          "width": 1
         },
         "marker": {
          "color": [
           48,
           48,
           48,
           48,
           48,
           48,
           48,
           48,
           48,
           48,
           48,
           60,
           72,
           60,
           60,
           72,
           72,
           60,
           72,
           72,
           72,
           60,
           60,
           72,
           72,
           60,
           72,
           72,
           60,
           60,
           72,
           72,
           48,
           24,
           48,
           48,
           48,
           24,
           48,
           48,
           24,
           48,
           48,
           48,
           48,
           48,
           48,
           60,
           60,
           48,
           72,
           72,
           72,
           60,
           60,
           48,
           72,
           60,
           60,
           48,
           72,
           72,
           72,
           60,
           60,
           72,
           72,
           60,
           60,
           72,
           72,
           72,
           60,
           72
          ],
          "line": {
           "color": "DarkSlateGrey",
           "width": 2
          },
          "size": 1
         },
         "mode": "lines+markers",
         "showlegend": false,
         "type": "scatter",
         "x": [
          13.391838,
          13.973884992306942
         ],
         "y": [
          7.3386655,
          8.750153310296776
         ]
        },
        {
         "line": {
          "color": "DarkSlateGrey",
          "width": 1
         },
         "marker": {
          "color": [
           48,
           48,
           48,
           48,
           48,
           48,
           48,
           48,
           48,
           48,
           48,
           60,
           72,
           60,
           60,
           72,
           72,
           60,
           72,
           72,
           72,
           60,
           60,
           72,
           72,
           60,
           72,
           72,
           60,
           60,
           72,
           72,
           48,
           24,
           48,
           48,
           48,
           24,
           48,
           48,
           24,
           48,
           48,
           48,
           48,
           48,
           48,
           60,
           60,
           48,
           72,
           72,
           72,
           60,
           60,
           48,
           72,
           60,
           60,
           48,
           72,
           72,
           72,
           60,
           60,
           72,
           72,
           60,
           60,
           72,
           72,
           72,
           60,
           72
          ],
          "line": {
           "color": "DarkSlateGrey",
           "width": 2
          },
          "size": 1
         },
         "mode": "lines+markers",
         "showlegend": false,
         "type": "scatter",
         "x": [
          10.566479,
          10.291850298641123
         ],
         "y": [
          10.373944,
          8.96571537532758
         ]
        },
        {
         "line": {
          "color": "DarkSlateGrey",
          "width": 1
         },
         "marker": {
          "color": [
           48,
           48,
           48,
           48,
           48,
           48,
           48,
           48,
           48,
           48,
           48,
           60,
           72,
           60,
           60,
           72,
           72,
           60,
           72,
           72,
           72,
           60,
           60,
           72,
           72,
           60,
           72,
           72,
           60,
           60,
           72,
           72,
           48,
           24,
           48,
           48,
           48,
           24,
           48,
           48,
           24,
           48,
           48,
           48,
           48,
           48,
           48,
           60,
           60,
           48,
           72,
           72,
           72,
           60,
           60,
           48,
           72,
           60,
           60,
           48,
           72,
           72,
           72,
           60,
           60,
           72,
           72,
           60,
           60,
           72,
           72,
           72,
           60,
           72
          ],
          "line": {
           "color": "DarkSlateGrey",
           "width": 2
          },
          "size": 1
         },
         "mode": "lines+markers",
         "showlegend": false,
         "type": "scatter",
         "x": [
          13.277376,
          13.8672326924782
         ],
         "y": [
          8.3686075,
          9.318608840115086
         ]
        },
        {
         "line": {
          "color": "DarkSlateGrey",
          "width": 1
         },
         "marker": {
          "color": [
           48,
           48,
           48,
           48,
           48,
           48,
           48,
           48,
           48,
           48,
           48,
           60,
           72,
           60,
           60,
           72,
           72,
           60,
           72,
           72,
           72,
           60,
           60,
           72,
           72,
           60,
           72,
           72,
           60,
           60,
           72,
           72,
           48,
           24,
           48,
           48,
           48,
           24,
           48,
           48,
           24,
           48,
           48,
           48,
           48,
           48,
           48,
           60,
           60,
           48,
           72,
           72,
           72,
           60,
           60,
           48,
           72,
           60,
           60,
           48,
           72,
           72,
           72,
           60,
           60,
           72,
           72,
           60,
           60,
           72,
           72,
           72,
           60,
           72
          ],
          "line": {
           "color": "DarkSlateGrey",
           "width": 2
          },
          "size": 1
         },
         "mode": "lines+markers",
         "showlegend": false,
         "type": "scatter",
         "x": [
          11.146661,
          10.876090966068745
         ],
         "y": [
          8.629356,
          8.16645731809349
         ]
        },
        {
         "line": {
          "color": "DarkSlateGrey",
          "width": 1
         },
         "marker": {
          "color": [
           48,
           48,
           48,
           48,
           48,
           48,
           48,
           48,
           48,
           48,
           48,
           60,
           72,
           60,
           60,
           72,
           72,
           60,
           72,
           72,
           72,
           60,
           60,
           72,
           72,
           60,
           72,
           72,
           60,
           60,
           72,
           72,
           48,
           24,
           48,
           48,
           48,
           24,
           48,
           48,
           24,
           48,
           48,
           48,
           48,
           48,
           48,
           60,
           60,
           48,
           72,
           72,
           72,
           60,
           60,
           48,
           72,
           60,
           60,
           48,
           72,
           72,
           72,
           60,
           60,
           72,
           72,
           60,
           60,
           72,
           72,
           72,
           60,
           72
          ],
          "line": {
           "color": "DarkSlateGrey",
           "width": 2
          },
          "size": 1
         },
         "mode": "lines+markers",
         "showlegend": false,
         "type": "scatter",
         "x": [
          12.355327,
          10.76923244400512
         ],
         "y": [
          10.322425,
          8.119580951552635
         ]
        },
        {
         "marker": {
          "color": [
           48,
           48,
           48,
           48,
           48,
           48,
           48,
           48,
           48,
           48,
           48,
           60,
           72,
           60,
           60,
           72,
           72,
           60,
           72,
           72,
           72,
           60,
           60,
           72,
           72,
           60,
           72,
           72,
           60,
           60,
           72,
           72,
           48,
           24,
           48,
           48,
           48,
           24,
           48,
           48,
           24,
           48,
           48,
           48,
           48,
           48,
           48,
           60,
           60,
           48,
           72,
           72,
           72,
           60,
           60,
           48,
           72,
           60,
           60,
           48,
           72,
           72,
           72,
           60,
           60,
           72,
           72,
           60,
           60,
           72,
           72,
           72,
           60,
           72
          ],
          "line": {
           "color": "DarkSlateGrey",
           "width": 2
          },
          "size": 7
         },
         "mode": "markers",
         "showlegend": false,
         "type": "scatter",
         "x": [
          11.113815,
          13.193277,
          11.36551,
          12.275262,
          11.465577,
          11.397931,
          9.014369,
          10.445036,
          13.084762,
          12.5729265,
          12.530627,
          10.542673,
          14.357714,
          11.568377,
          9.571724,
          10.783549,
          14.246235,
          13.779974,
          11.403646,
          14.87136,
          14.110971,
          11.317299,
          13.648256,
          9.387027,
          14.841174,
          11.01177,
          11.611861,
          10.9997635,
          13.384659,
          12.761199,
          11.004806,
          13.4673395,
          11.276823,
          2.7155824,
          11.280384,
          11.736194,
          10.918215,
          2.347755,
          10.495303,
          13.209538,
          2.5718184,
          10.888228,
          11.481734,
          13.456529,
          11.04935,
          10.8213,
          11.169366,
          10.637614,
          13.441044,
          2.4550478,
          10.721133,
          13.196257,
          10.998121,
          11.066662,
          13.855052,
          2.8291597,
          11.052477,
          10.541386,
          10.090337,
          2.6270823,
          10.271494,
          11.910392,
          13.4742985,
          10.175466,
          9.36597,
          9.704807,
          13.391838,
          10.566479,
          13.277376,
          11.146661,
          12.355327,
          13.438237,
          13.645536,
          11.270695
         ],
         "y": [
          10.275453,
          9.613187,
          10.008437,
          9.9499035,
          9.634446,
          9.302566,
          10.452098,
          10.473545,
          10.21043,
          10.514854,
          9.953819,
          8.764806,
          9.182938,
          9.057268,
          9.554189,
          7.9557395,
          9.57484,
          9.684966,
          8.426901,
          9.443645,
          9.530474,
          9.487897,
          8.506605,
          9.537378,
          9.16361,
          8.816903,
          8.592716,
          7.823455,
          9.57302,
          10.722335,
          7.781951,
          7.4712152,
          10.3449135,
          6.9326477,
          9.838772,
          9.50602,
          10.162161,
          6.7369547,
          9.104143,
          9.215751,
          7.092851,
          10.450801,
          10.248935,
          9.0321665,
          10.404863,
          10.248566,
          10.014798,
          10.116172,
          10.229832,
          6.7710013,
          7.790931,
          7.4771304,
          9.863325,
          9.851558,
          8.886627,
          7.098556,
          9.593743,
          10.328006,
          9.349282,
          7.119021,
          7.8539495,
          7.922406,
          7.2245054,
          8.155363,
          10.249665,
          9.260765,
          7.3386655,
          10.373944,
          8.3686075,
          8.629356,
          10.322425,
          7.296065,
          8.256078,
          8.488235
         ]
        },
        {
         "marker": {
          "color": [
           48,
           48,
           48,
           48,
           48,
           48,
           48,
           48,
           48,
           48,
           48,
           60,
           72,
           60,
           60,
           72,
           72,
           60,
           72,
           72,
           72,
           60,
           60,
           72,
           72,
           60,
           72,
           72,
           60,
           60,
           72,
           72,
           48,
           24,
           48,
           48,
           48,
           24,
           48,
           48,
           24,
           48,
           48,
           48,
           48,
           48,
           48,
           60,
           60,
           48,
           72,
           72,
           72,
           60,
           60,
           48,
           72,
           60,
           60,
           48,
           72,
           72,
           72,
           60,
           60,
           72,
           72,
           60,
           60,
           72,
           72,
           72,
           60,
           72
          ],
          "line": {
           "color": "DarkSlateGrey",
           "width": 2
          },
          "size": 10,
          "symbol": "diamond"
         },
         "mode": "markers",
         "showlegend": false,
         "type": "scatter",
         "x": [
          12.482991062543608,
          12.53002723163182,
          12.45849393492836,
          12.502442092868884,
          12.515973444836451,
          12.480891630016139,
          12.527631299024424,
          12.640444391994405,
          11.940691775286725,
          12.537889286689099,
          12.080757897899067,
          12.145492997406327,
          12.887482072298162,
          12.401340976124974,
          12.543754635279768,
          11.208657888249295,
          12.885160070889022,
          12.25454192175661,
          12.450628481071977,
          12.923612352214274,
          12.88079015443888,
          13.130731020096285,
          13.665690862496318,
          11.244786183673085,
          12.920687038947857,
          12.308734365706401,
          11.482527652730326,
          11.361412287560583,
          12.341494903263944,
          13.658238201043925,
          11.463265612486532,
          12.890213542679247,
          11.207448619148852,
          2.471670227292634,
          12.542644371241543,
          12.550598912770235,
          10.898517759387392,
          2.458726477562794,
          11.358456258754856,
          12.61071924321136,
          2.4976462099075762,
          11.184828144316356,
          11.216278113908036,
          12.66116366880005,
          10.746996420676313,
          10.872115116037639,
          11.315322041304988,
          10.363787683130035,
          13.981317339849163,
          2.331352474980598,
          11.010966621778486,
          13.785707205156612,
          10.957489307261683,
          10.305476073298504,
          13.747155997726292,
          2.3818615416784326,
          10.95339967459998,
          10.402220314480301,
          10.52987443660259,
          2.3955826861889404,
          10.907489555823112,
          10.921381665445159,
          13.682103474435674,
          10.433011374048458,
          10.24082455239975,
          10.67722452144554,
          13.973884992306942,
          10.291850298641123,
          13.8672326924782,
          10.876090966068745,
          10.76923244400512,
          14.103935667439469,
          13.97563465479217,
          11.004021431752589
         ],
         "y": [
          10.004631585314542,
          9.850936633574928,
          9.992034390314734,
          9.797278632655201,
          10.085133913551385,
          10.011774046765513,
          10.097800215049267,
          10.204799784240643,
          9.352846157434865,
          9.842975644656342,
          9.51606505616264,
          9.568306589074865,
          8.829610849701513,
          9.64949035945086,
          9.780108465012226,
          8.566298491665396,
          8.985059771661001,
          9.043484668173573,
          9.103630578769923,
          9.500403142917238,
          9.595574191235213,
          9.75309441463724,
          9.418404584664625,
          8.580797178791185,
          8.881125025851613,
          9.663046736567136,
          8.661345317066155,
          8.602999648723648,
          9.631862997400416,
          9.382882013807844,
          8.688295124666658,
          8.906063378229117,
          10.148061898700817,
          6.905503937850509,
          9.839248187273945,
          9.861251184678846,
          9.853340288347507,
          6.818162112047188,
          10.112221515615609,
          9.897109171073058,
          6.8597219310909585,
          9.999884971735924,
          10.064313909966566,
          9.921279520159322,
          9.712600204597184,
          9.946424435735914,
          10.10809928691341,
          8.99134026426245,
          9.400749270251733,
          6.804338451944885,
          8.319835252177445,
          8.710975581708762,
          8.270110424643802,
          9.003991086399271,
          9.309724715714989,
          6.970411031467816,
          8.303020712682864,
          9.021578750064386,
          9.32009879372896,
          7.01932573870654,
          8.1438054354264,
          8.240997105642307,
          8.65624742518368,
          9.182046649474687,
          9.01825794872516,
          7.979730430808904,
          8.750153310296776,
          8.96571537532758,
          9.318608840115086,
          8.16645731809349,
          8.119580951552635,
          8.80031034443677,
          9.39239873555316,
          8.31201640992534
         ]
        }
       ],
       "layout": {
        "font": {
         "color": "Black",
         "family": "Arial",
         "size": 14
        },
        "legend": {
         "title": {
          "text": "stage (hpf)"
         }
        },
        "template": {
         "data": {
          "bar": [
           {
            "error_x": {
             "color": "#2a3f5f"
            },
            "error_y": {
             "color": "#2a3f5f"
            },
            "marker": {
             "line": {
              "color": "#E5ECF6",
              "width": 0.5
             },
             "pattern": {
              "fillmode": "overlay",
              "size": 10,
              "solidity": 0.2
             }
            },
            "type": "bar"
           }
          ],
          "barpolar": [
           {
            "marker": {
             "line": {
              "color": "#E5ECF6",
              "width": 0.5
             },
             "pattern": {
              "fillmode": "overlay",
              "size": 10,
              "solidity": 0.2
             }
            },
            "type": "barpolar"
           }
          ],
          "carpet": [
           {
            "aaxis": {
             "endlinecolor": "#2a3f5f",
             "gridcolor": "white",
             "linecolor": "white",
             "minorgridcolor": "white",
             "startlinecolor": "#2a3f5f"
            },
            "baxis": {
             "endlinecolor": "#2a3f5f",
             "gridcolor": "white",
             "linecolor": "white",
             "minorgridcolor": "white",
             "startlinecolor": "#2a3f5f"
            },
            "type": "carpet"
           }
          ],
          "choropleth": [
           {
            "colorbar": {
             "outlinewidth": 0,
             "ticks": ""
            },
            "type": "choropleth"
           }
          ],
          "contour": [
           {
            "colorbar": {
             "outlinewidth": 0,
             "ticks": ""
            },
            "colorscale": [
             [
              0,
              "#0d0887"
             ],
             [
              0.1111111111111111,
              "#46039f"
             ],
             [
              0.2222222222222222,
              "#7201a8"
             ],
             [
              0.3333333333333333,
              "#9c179e"
             ],
             [
              0.4444444444444444,
              "#bd3786"
             ],
             [
              0.5555555555555556,
              "#d8576b"
             ],
             [
              0.6666666666666666,
              "#ed7953"
             ],
             [
              0.7777777777777778,
              "#fb9f3a"
             ],
             [
              0.8888888888888888,
              "#fdca26"
             ],
             [
              1,
              "#f0f921"
             ]
            ],
            "type": "contour"
           }
          ],
          "contourcarpet": [
           {
            "colorbar": {
             "outlinewidth": 0,
             "ticks": ""
            },
            "type": "contourcarpet"
           }
          ],
          "heatmap": [
           {
            "colorbar": {
             "outlinewidth": 0,
             "ticks": ""
            },
            "colorscale": [
             [
              0,
              "#0d0887"
             ],
             [
              0.1111111111111111,
              "#46039f"
             ],
             [
              0.2222222222222222,
              "#7201a8"
             ],
             [
              0.3333333333333333,
              "#9c179e"
             ],
             [
              0.4444444444444444,
              "#bd3786"
             ],
             [
              0.5555555555555556,
              "#d8576b"
             ],
             [
              0.6666666666666666,
              "#ed7953"
             ],
             [
              0.7777777777777778,
              "#fb9f3a"
             ],
             [
              0.8888888888888888,
              "#fdca26"
             ],
             [
              1,
              "#f0f921"
             ]
            ],
            "type": "heatmap"
           }
          ],
          "heatmapgl": [
           {
            "colorbar": {
             "outlinewidth": 0,
             "ticks": ""
            },
            "colorscale": [
             [
              0,
              "#0d0887"
             ],
             [
              0.1111111111111111,
              "#46039f"
             ],
             [
              0.2222222222222222,
              "#7201a8"
             ],
             [
              0.3333333333333333,
              "#9c179e"
             ],
             [
              0.4444444444444444,
              "#bd3786"
             ],
             [
              0.5555555555555556,
              "#d8576b"
             ],
             [
              0.6666666666666666,
              "#ed7953"
             ],
             [
              0.7777777777777778,
              "#fb9f3a"
             ],
             [
              0.8888888888888888,
              "#fdca26"
             ],
             [
              1,
              "#f0f921"
             ]
            ],
            "type": "heatmapgl"
           }
          ],
          "histogram": [
           {
            "marker": {
             "pattern": {
              "fillmode": "overlay",
              "size": 10,
              "solidity": 0.2
             }
            },
            "type": "histogram"
           }
          ],
          "histogram2d": [
           {
            "colorbar": {
             "outlinewidth": 0,
             "ticks": ""
            },
            "colorscale": [
             [
              0,
              "#0d0887"
             ],
             [
              0.1111111111111111,
              "#46039f"
             ],
             [
              0.2222222222222222,
              "#7201a8"
             ],
             [
              0.3333333333333333,
              "#9c179e"
             ],
             [
              0.4444444444444444,
              "#bd3786"
             ],
             [
              0.5555555555555556,
              "#d8576b"
             ],
             [
              0.6666666666666666,
              "#ed7953"
             ],
             [
              0.7777777777777778,
              "#fb9f3a"
             ],
             [
              0.8888888888888888,
              "#fdca26"
             ],
             [
              1,
              "#f0f921"
             ]
            ],
            "type": "histogram2d"
           }
          ],
          "histogram2dcontour": [
           {
            "colorbar": {
             "outlinewidth": 0,
             "ticks": ""
            },
            "colorscale": [
             [
              0,
              "#0d0887"
             ],
             [
              0.1111111111111111,
              "#46039f"
             ],
             [
              0.2222222222222222,
              "#7201a8"
             ],
             [
              0.3333333333333333,
              "#9c179e"
             ],
             [
              0.4444444444444444,
              "#bd3786"
             ],
             [
              0.5555555555555556,
              "#d8576b"
             ],
             [
              0.6666666666666666,
              "#ed7953"
             ],
             [
              0.7777777777777778,
              "#fb9f3a"
             ],
             [
              0.8888888888888888,
              "#fdca26"
             ],
             [
              1,
              "#f0f921"
             ]
            ],
            "type": "histogram2dcontour"
           }
          ],
          "mesh3d": [
           {
            "colorbar": {
             "outlinewidth": 0,
             "ticks": ""
            },
            "type": "mesh3d"
           }
          ],
          "parcoords": [
           {
            "line": {
             "colorbar": {
              "outlinewidth": 0,
              "ticks": ""
             }
            },
            "type": "parcoords"
           }
          ],
          "pie": [
           {
            "automargin": true,
            "type": "pie"
           }
          ],
          "scatter": [
           {
            "fillpattern": {
             "fillmode": "overlay",
             "size": 10,
             "solidity": 0.2
            },
            "type": "scatter"
           }
          ],
          "scatter3d": [
           {
            "line": {
             "colorbar": {
              "outlinewidth": 0,
              "ticks": ""
             }
            },
            "marker": {
             "colorbar": {
              "outlinewidth": 0,
              "ticks": ""
             }
            },
            "type": "scatter3d"
           }
          ],
          "scattercarpet": [
           {
            "marker": {
             "colorbar": {
              "outlinewidth": 0,
              "ticks": ""
             }
            },
            "type": "scattercarpet"
           }
          ],
          "scattergeo": [
           {
            "marker": {
             "colorbar": {
              "outlinewidth": 0,
              "ticks": ""
             }
            },
            "type": "scattergeo"
           }
          ],
          "scattergl": [
           {
            "marker": {
             "colorbar": {
              "outlinewidth": 0,
              "ticks": ""
             }
            },
            "type": "scattergl"
           }
          ],
          "scattermapbox": [
           {
            "marker": {
             "colorbar": {
              "outlinewidth": 0,
              "ticks": ""
             }
            },
            "type": "scattermapbox"
           }
          ],
          "scatterpolar": [
           {
            "marker": {
             "colorbar": {
              "outlinewidth": 0,
              "ticks": ""
             }
            },
            "type": "scatterpolar"
           }
          ],
          "scatterpolargl": [
           {
            "marker": {
             "colorbar": {
              "outlinewidth": 0,
              "ticks": ""
             }
            },
            "type": "scatterpolargl"
           }
          ],
          "scatterternary": [
           {
            "marker": {
             "colorbar": {
              "outlinewidth": 0,
              "ticks": ""
             }
            },
            "type": "scatterternary"
           }
          ],
          "surface": [
           {
            "colorbar": {
             "outlinewidth": 0,
             "ticks": ""
            },
            "colorscale": [
             [
              0,
              "#0d0887"
             ],
             [
              0.1111111111111111,
              "#46039f"
             ],
             [
              0.2222222222222222,
              "#7201a8"
             ],
             [
              0.3333333333333333,
              "#9c179e"
             ],
             [
              0.4444444444444444,
              "#bd3786"
             ],
             [
              0.5555555555555556,
              "#d8576b"
             ],
             [
              0.6666666666666666,
              "#ed7953"
             ],
             [
              0.7777777777777778,
              "#fb9f3a"
             ],
             [
              0.8888888888888888,
              "#fdca26"
             ],
             [
              1,
              "#f0f921"
             ]
            ],
            "type": "surface"
           }
          ],
          "table": [
           {
            "cells": {
             "fill": {
              "color": "#EBF0F8"
             },
             "line": {
              "color": "white"
             }
            },
            "header": {
             "fill": {
              "color": "#C8D4E3"
             },
             "line": {
              "color": "white"
             }
            },
            "type": "table"
           }
          ]
         },
         "layout": {
          "annotationdefaults": {
           "arrowcolor": "#2a3f5f",
           "arrowhead": 0,
           "arrowwidth": 1
          },
          "autotypenumbers": "strict",
          "coloraxis": {
           "colorbar": {
            "outlinewidth": 0,
            "ticks": ""
           }
          },
          "colorscale": {
           "diverging": [
            [
             0,
             "#8e0152"
            ],
            [
             0.1,
             "#c51b7d"
            ],
            [
             0.2,
             "#de77ae"
            ],
            [
             0.3,
             "#f1b6da"
            ],
            [
             0.4,
             "#fde0ef"
            ],
            [
             0.5,
             "#f7f7f7"
            ],
            [
             0.6,
             "#e6f5d0"
            ],
            [
             0.7,
             "#b8e186"
            ],
            [
             0.8,
             "#7fbc41"
            ],
            [
             0.9,
             "#4d9221"
            ],
            [
             1,
             "#276419"
            ]
           ],
           "sequential": [
            [
             0,
             "#0d0887"
            ],
            [
             0.1111111111111111,
             "#46039f"
            ],
            [
             0.2222222222222222,
             "#7201a8"
            ],
            [
             0.3333333333333333,
             "#9c179e"
            ],
            [
             0.4444444444444444,
             "#bd3786"
            ],
            [
             0.5555555555555556,
             "#d8576b"
            ],
            [
             0.6666666666666666,
             "#ed7953"
            ],
            [
             0.7777777777777778,
             "#fb9f3a"
            ],
            [
             0.8888888888888888,
             "#fdca26"
            ],
            [
             1,
             "#f0f921"
            ]
           ],
           "sequentialminus": [
            [
             0,
             "#0d0887"
            ],
            [
             0.1111111111111111,
             "#46039f"
            ],
            [
             0.2222222222222222,
             "#7201a8"
            ],
            [
             0.3333333333333333,
             "#9c179e"
            ],
            [
             0.4444444444444444,
             "#bd3786"
            ],
            [
             0.5555555555555556,
             "#d8576b"
            ],
            [
             0.6666666666666666,
             "#ed7953"
            ],
            [
             0.7777777777777778,
             "#fb9f3a"
            ],
            [
             0.8888888888888888,
             "#fdca26"
            ],
            [
             1,
             "#f0f921"
            ]
           ]
          },
          "colorway": [
           "#636efa",
           "#EF553B",
           "#00cc96",
           "#ab63fa",
           "#FFA15A",
           "#19d3f3",
           "#FF6692",
           "#B6E880",
           "#FF97FF",
           "#FECB52"
          ],
          "font": {
           "color": "#2a3f5f"
          },
          "geo": {
           "bgcolor": "white",
           "lakecolor": "white",
           "landcolor": "#E5ECF6",
           "showlakes": true,
           "showland": true,
           "subunitcolor": "white"
          },
          "hoverlabel": {
           "align": "left"
          },
          "hovermode": "closest",
          "mapbox": {
           "style": "light"
          },
          "paper_bgcolor": "white",
          "plot_bgcolor": "#E5ECF6",
          "polar": {
           "angularaxis": {
            "gridcolor": "white",
            "linecolor": "white",
            "ticks": ""
           },
           "bgcolor": "#E5ECF6",
           "radialaxis": {
            "gridcolor": "white",
            "linecolor": "white",
            "ticks": ""
           }
          },
          "scene": {
           "xaxis": {
            "backgroundcolor": "#E5ECF6",
            "gridcolor": "white",
            "gridwidth": 2,
            "linecolor": "white",
            "showbackground": true,
            "ticks": "",
            "zerolinecolor": "white"
           },
           "yaxis": {
            "backgroundcolor": "#E5ECF6",
            "gridcolor": "white",
            "gridwidth": 2,
            "linecolor": "white",
            "showbackground": true,
            "ticks": "",
            "zerolinecolor": "white"
           },
           "zaxis": {
            "backgroundcolor": "#E5ECF6",
            "gridcolor": "white",
            "gridwidth": 2,
            "linecolor": "white",
            "showbackground": true,
            "ticks": "",
            "zerolinecolor": "white"
           }
          },
          "shapedefaults": {
           "line": {
            "color": "#2a3f5f"
           }
          },
          "ternary": {
           "aaxis": {
            "gridcolor": "white",
            "linecolor": "white",
            "ticks": ""
           },
           "baxis": {
            "gridcolor": "white",
            "linecolor": "white",
            "ticks": ""
           },
           "bgcolor": "#E5ECF6",
           "caxis": {
            "gridcolor": "white",
            "linecolor": "white",
            "ticks": ""
           }
          },
          "title": {
           "x": 0.05
          },
          "xaxis": {
           "automargin": true,
           "gridcolor": "white",
           "linecolor": "white",
           "ticks": "",
           "title": {
            "standoff": 15
           },
           "zerolinecolor": "white",
           "zerolinewidth": 2
          },
          "yaxis": {
           "automargin": true,
           "gridcolor": "white",
           "linecolor": "white",
           "ticks": "",
           "title": {
            "standoff": 15
           },
           "zerolinecolor": "white",
           "zerolinewidth": 2
          }
         }
        },
        "xaxis": {
         "title": {
          "text": "UMAP 1"
         }
        },
        "yaxis": {
         "title": {
          "text": "UMAP 2"
         }
        }
       }
      },
      "text/html": [
       "<div>                            <div id=\"c7209077-8986-40a6-a10a-00517df52434\" class=\"plotly-graph-div\" style=\"height:525px; width:100%;\"></div>            <script type=\"text/javascript\">                require([\"plotly\"], function(Plotly) {                    window.PLOTLYENV=window.PLOTLYENV || {};                                    if (document.getElementById(\"c7209077-8986-40a6-a10a-00517df52434\")) {                    Plotly.newPlot(                        \"c7209077-8986-40a6-a10a-00517df52434\",                        [{\"marker\":{\"color\":[48.0,48.0,48.0,48.0,48.0,48.0,48.0,48.0,48.0,48.0,48.0,60.0,72.0,60.0,60.0,72.0,72.0,60.0,72.0,72.0,72.0,60.0,60.0,72.0,72.0,60.0,72.0,72.0,60.0,60.0,72.0,72.0,48.0,24.0,48.0,48.0,48.0,24.0,48.0,48.0,24.0,48.0,48.0,48.0,48.0,48.0,48.0,60.0,60.0,48.0,72.0,72.0,72.0,60.0,60.0,48.0,72.0,60.0,60.0,48.0,72.0,72.0,72.0,60.0,60.0,72.0,72.0,60.0,60.0,72.0,72.0,72.0,60.0,72.0],\"size\":7,\"line\":{\"color\":\"DarkSlateGrey\",\"width\":2}},\"mode\":\"markers\",\"showlegend\":false,\"x\":[11.113815,13.193277,11.36551,12.275262,11.465577,11.397931,9.014369,10.445036,13.084762,12.5729265,12.530627,10.542673,14.357714,11.568377,9.571724,10.783549,14.246235,13.779974,11.403646,14.87136,14.110971,11.317299,13.648256,9.387027,14.841174,11.01177,11.611861,10.9997635,13.384659,12.761199,11.004806,13.4673395,11.276823,2.7155824,11.280384,11.736194,10.918215,2.347755,10.495303,13.209538,2.5718184,10.888228,11.481734,13.456529,11.04935,10.8213,11.169366,10.637614,13.441044,2.4550478,10.721133,13.196257,10.998121,11.066662,13.855052,2.8291597,11.052477,10.541386,10.090337,2.6270823,10.271494,11.910392,13.4742985,10.175466,9.36597,9.704807,13.391838,10.566479,13.277376,11.146661,12.355327,13.438237,13.645536,11.270695],\"y\":[10.275453,9.613187,10.008437,9.9499035,9.634446,9.302566,10.452098,10.473545,10.21043,10.514854,9.953819,8.764806,9.182938,9.057268,9.554189,7.9557395,9.57484,9.684966,8.426901,9.443645,9.530474,9.487897,8.506605,9.537378,9.16361,8.816903,8.592716,7.823455,9.57302,10.722335,7.781951,7.4712152,10.3449135,6.9326477,9.838772,9.50602,10.162161,6.7369547,9.104143,9.215751,7.092851,10.450801,10.248935,9.0321665,10.404863,10.248566,10.014798,10.116172,10.229832,6.7710013,7.790931,7.4771304,9.863325,9.851558,8.886627,7.098556,9.593743,10.328006,9.349282,7.119021,7.8539495,7.922406,7.2245054,8.155363,10.249665,9.260765,7.3386655,10.373944,8.3686075,8.629356,10.322425,7.296065,8.256078,8.488235],\"type\":\"scatter\"},{\"line\":{\"color\":\"DarkSlateGrey\",\"width\":1},\"marker\":{\"size\":1,\"line\":{\"color\":\"DarkSlateGrey\",\"width\":2},\"color\":[48.0,48.0,48.0,48.0,48.0,48.0,48.0,48.0,48.0,48.0,48.0,60.0,72.0,60.0,60.0,72.0,72.0,60.0,72.0,72.0,72.0,60.0,60.0,72.0,72.0,60.0,72.0,72.0,60.0,60.0,72.0,72.0,48.0,24.0,48.0,48.0,48.0,24.0,48.0,48.0,24.0,48.0,48.0,48.0,48.0,48.0,48.0,60.0,60.0,48.0,72.0,72.0,72.0,60.0,60.0,48.0,72.0,60.0,60.0,48.0,72.0,72.0,72.0,60.0,60.0,72.0,72.0,60.0,60.0,72.0,72.0,72.0,60.0,72.0]},\"mode\":\"lines+markers\",\"showlegend\":false,\"x\":[11.113815,12.482991062543608],\"y\":[10.275453,10.004631585314542],\"type\":\"scatter\"},{\"line\":{\"color\":\"DarkSlateGrey\",\"width\":1},\"marker\":{\"size\":1,\"line\":{\"color\":\"DarkSlateGrey\",\"width\":2},\"color\":[48.0,48.0,48.0,48.0,48.0,48.0,48.0,48.0,48.0,48.0,48.0,60.0,72.0,60.0,60.0,72.0,72.0,60.0,72.0,72.0,72.0,60.0,60.0,72.0,72.0,60.0,72.0,72.0,60.0,60.0,72.0,72.0,48.0,24.0,48.0,48.0,48.0,24.0,48.0,48.0,24.0,48.0,48.0,48.0,48.0,48.0,48.0,60.0,60.0,48.0,72.0,72.0,72.0,60.0,60.0,48.0,72.0,60.0,60.0,48.0,72.0,72.0,72.0,60.0,60.0,72.0,72.0,60.0,60.0,72.0,72.0,72.0,60.0,72.0]},\"mode\":\"lines+markers\",\"showlegend\":false,\"x\":[13.193277,12.53002723163182],\"y\":[9.613187,9.850936633574928],\"type\":\"scatter\"},{\"line\":{\"color\":\"DarkSlateGrey\",\"width\":1},\"marker\":{\"size\":1,\"line\":{\"color\":\"DarkSlateGrey\",\"width\":2},\"color\":[48.0,48.0,48.0,48.0,48.0,48.0,48.0,48.0,48.0,48.0,48.0,60.0,72.0,60.0,60.0,72.0,72.0,60.0,72.0,72.0,72.0,60.0,60.0,72.0,72.0,60.0,72.0,72.0,60.0,60.0,72.0,72.0,48.0,24.0,48.0,48.0,48.0,24.0,48.0,48.0,24.0,48.0,48.0,48.0,48.0,48.0,48.0,60.0,60.0,48.0,72.0,72.0,72.0,60.0,60.0,48.0,72.0,60.0,60.0,48.0,72.0,72.0,72.0,60.0,60.0,72.0,72.0,60.0,60.0,72.0,72.0,72.0,60.0,72.0]},\"mode\":\"lines+markers\",\"showlegend\":false,\"x\":[11.36551,12.45849393492836],\"y\":[10.008437,9.992034390314734],\"type\":\"scatter\"},{\"line\":{\"color\":\"DarkSlateGrey\",\"width\":1},\"marker\":{\"size\":1,\"line\":{\"color\":\"DarkSlateGrey\",\"width\":2},\"color\":[48.0,48.0,48.0,48.0,48.0,48.0,48.0,48.0,48.0,48.0,48.0,60.0,72.0,60.0,60.0,72.0,72.0,60.0,72.0,72.0,72.0,60.0,60.0,72.0,72.0,60.0,72.0,72.0,60.0,60.0,72.0,72.0,48.0,24.0,48.0,48.0,48.0,24.0,48.0,48.0,24.0,48.0,48.0,48.0,48.0,48.0,48.0,60.0,60.0,48.0,72.0,72.0,72.0,60.0,60.0,48.0,72.0,60.0,60.0,48.0,72.0,72.0,72.0,60.0,60.0,72.0,72.0,60.0,60.0,72.0,72.0,72.0,60.0,72.0]},\"mode\":\"lines+markers\",\"showlegend\":false,\"x\":[12.275262,12.502442092868884],\"y\":[9.9499035,9.797278632655201],\"type\":\"scatter\"},{\"line\":{\"color\":\"DarkSlateGrey\",\"width\":1},\"marker\":{\"size\":1,\"line\":{\"color\":\"DarkSlateGrey\",\"width\":2},\"color\":[48.0,48.0,48.0,48.0,48.0,48.0,48.0,48.0,48.0,48.0,48.0,60.0,72.0,60.0,60.0,72.0,72.0,60.0,72.0,72.0,72.0,60.0,60.0,72.0,72.0,60.0,72.0,72.0,60.0,60.0,72.0,72.0,48.0,24.0,48.0,48.0,48.0,24.0,48.0,48.0,24.0,48.0,48.0,48.0,48.0,48.0,48.0,60.0,60.0,48.0,72.0,72.0,72.0,60.0,60.0,48.0,72.0,60.0,60.0,48.0,72.0,72.0,72.0,60.0,60.0,72.0,72.0,60.0,60.0,72.0,72.0,72.0,60.0,72.0]},\"mode\":\"lines+markers\",\"showlegend\":false,\"x\":[11.465577,12.515973444836451],\"y\":[9.634446,10.085133913551385],\"type\":\"scatter\"},{\"line\":{\"color\":\"DarkSlateGrey\",\"width\":1},\"marker\":{\"size\":1,\"line\":{\"color\":\"DarkSlateGrey\",\"width\":2},\"color\":[48.0,48.0,48.0,48.0,48.0,48.0,48.0,48.0,48.0,48.0,48.0,60.0,72.0,60.0,60.0,72.0,72.0,60.0,72.0,72.0,72.0,60.0,60.0,72.0,72.0,60.0,72.0,72.0,60.0,60.0,72.0,72.0,48.0,24.0,48.0,48.0,48.0,24.0,48.0,48.0,24.0,48.0,48.0,48.0,48.0,48.0,48.0,60.0,60.0,48.0,72.0,72.0,72.0,60.0,60.0,48.0,72.0,60.0,60.0,48.0,72.0,72.0,72.0,60.0,60.0,72.0,72.0,60.0,60.0,72.0,72.0,72.0,60.0,72.0]},\"mode\":\"lines+markers\",\"showlegend\":false,\"x\":[11.397931,12.480891630016139],\"y\":[9.302566,10.011774046765513],\"type\":\"scatter\"},{\"line\":{\"color\":\"DarkSlateGrey\",\"width\":1},\"marker\":{\"size\":1,\"line\":{\"color\":\"DarkSlateGrey\",\"width\":2},\"color\":[48.0,48.0,48.0,48.0,48.0,48.0,48.0,48.0,48.0,48.0,48.0,60.0,72.0,60.0,60.0,72.0,72.0,60.0,72.0,72.0,72.0,60.0,60.0,72.0,72.0,60.0,72.0,72.0,60.0,60.0,72.0,72.0,48.0,24.0,48.0,48.0,48.0,24.0,48.0,48.0,24.0,48.0,48.0,48.0,48.0,48.0,48.0,60.0,60.0,48.0,72.0,72.0,72.0,60.0,60.0,48.0,72.0,60.0,60.0,48.0,72.0,72.0,72.0,60.0,60.0,72.0,72.0,60.0,60.0,72.0,72.0,72.0,60.0,72.0]},\"mode\":\"lines+markers\",\"showlegend\":false,\"x\":[9.014369,12.527631299024424],\"y\":[10.452098,10.097800215049267],\"type\":\"scatter\"},{\"line\":{\"color\":\"DarkSlateGrey\",\"width\":1},\"marker\":{\"size\":1,\"line\":{\"color\":\"DarkSlateGrey\",\"width\":2},\"color\":[48.0,48.0,48.0,48.0,48.0,48.0,48.0,48.0,48.0,48.0,48.0,60.0,72.0,60.0,60.0,72.0,72.0,60.0,72.0,72.0,72.0,60.0,60.0,72.0,72.0,60.0,72.0,72.0,60.0,60.0,72.0,72.0,48.0,24.0,48.0,48.0,48.0,24.0,48.0,48.0,24.0,48.0,48.0,48.0,48.0,48.0,48.0,60.0,60.0,48.0,72.0,72.0,72.0,60.0,60.0,48.0,72.0,60.0,60.0,48.0,72.0,72.0,72.0,60.0,60.0,72.0,72.0,60.0,60.0,72.0,72.0,72.0,60.0,72.0]},\"mode\":\"lines+markers\",\"showlegend\":false,\"x\":[10.445036,12.640444391994405],\"y\":[10.473545,10.204799784240643],\"type\":\"scatter\"},{\"line\":{\"color\":\"DarkSlateGrey\",\"width\":1},\"marker\":{\"size\":1,\"line\":{\"color\":\"DarkSlateGrey\",\"width\":2},\"color\":[48.0,48.0,48.0,48.0,48.0,48.0,48.0,48.0,48.0,48.0,48.0,60.0,72.0,60.0,60.0,72.0,72.0,60.0,72.0,72.0,72.0,60.0,60.0,72.0,72.0,60.0,72.0,72.0,60.0,60.0,72.0,72.0,48.0,24.0,48.0,48.0,48.0,24.0,48.0,48.0,24.0,48.0,48.0,48.0,48.0,48.0,48.0,60.0,60.0,48.0,72.0,72.0,72.0,60.0,60.0,48.0,72.0,60.0,60.0,48.0,72.0,72.0,72.0,60.0,60.0,72.0,72.0,60.0,60.0,72.0,72.0,72.0,60.0,72.0]},\"mode\":\"lines+markers\",\"showlegend\":false,\"x\":[13.084762,11.940691775286725],\"y\":[10.21043,9.352846157434865],\"type\":\"scatter\"},{\"line\":{\"color\":\"DarkSlateGrey\",\"width\":1},\"marker\":{\"size\":1,\"line\":{\"color\":\"DarkSlateGrey\",\"width\":2},\"color\":[48.0,48.0,48.0,48.0,48.0,48.0,48.0,48.0,48.0,48.0,48.0,60.0,72.0,60.0,60.0,72.0,72.0,60.0,72.0,72.0,72.0,60.0,60.0,72.0,72.0,60.0,72.0,72.0,60.0,60.0,72.0,72.0,48.0,24.0,48.0,48.0,48.0,24.0,48.0,48.0,24.0,48.0,48.0,48.0,48.0,48.0,48.0,60.0,60.0,48.0,72.0,72.0,72.0,60.0,60.0,48.0,72.0,60.0,60.0,48.0,72.0,72.0,72.0,60.0,60.0,72.0,72.0,60.0,60.0,72.0,72.0,72.0,60.0,72.0]},\"mode\":\"lines+markers\",\"showlegend\":false,\"x\":[12.5729265,12.537889286689099],\"y\":[10.514854,9.842975644656342],\"type\":\"scatter\"},{\"line\":{\"color\":\"DarkSlateGrey\",\"width\":1},\"marker\":{\"size\":1,\"line\":{\"color\":\"DarkSlateGrey\",\"width\":2},\"color\":[48.0,48.0,48.0,48.0,48.0,48.0,48.0,48.0,48.0,48.0,48.0,60.0,72.0,60.0,60.0,72.0,72.0,60.0,72.0,72.0,72.0,60.0,60.0,72.0,72.0,60.0,72.0,72.0,60.0,60.0,72.0,72.0,48.0,24.0,48.0,48.0,48.0,24.0,48.0,48.0,24.0,48.0,48.0,48.0,48.0,48.0,48.0,60.0,60.0,48.0,72.0,72.0,72.0,60.0,60.0,48.0,72.0,60.0,60.0,48.0,72.0,72.0,72.0,60.0,60.0,72.0,72.0,60.0,60.0,72.0,72.0,72.0,60.0,72.0]},\"mode\":\"lines+markers\",\"showlegend\":false,\"x\":[12.530627,12.080757897899067],\"y\":[9.953819,9.51606505616264],\"type\":\"scatter\"},{\"line\":{\"color\":\"DarkSlateGrey\",\"width\":1},\"marker\":{\"size\":1,\"line\":{\"color\":\"DarkSlateGrey\",\"width\":2},\"color\":[48.0,48.0,48.0,48.0,48.0,48.0,48.0,48.0,48.0,48.0,48.0,60.0,72.0,60.0,60.0,72.0,72.0,60.0,72.0,72.0,72.0,60.0,60.0,72.0,72.0,60.0,72.0,72.0,60.0,60.0,72.0,72.0,48.0,24.0,48.0,48.0,48.0,24.0,48.0,48.0,24.0,48.0,48.0,48.0,48.0,48.0,48.0,60.0,60.0,48.0,72.0,72.0,72.0,60.0,60.0,48.0,72.0,60.0,60.0,48.0,72.0,72.0,72.0,60.0,60.0,72.0,72.0,60.0,60.0,72.0,72.0,72.0,60.0,72.0]},\"mode\":\"lines+markers\",\"showlegend\":false,\"x\":[10.542673,12.145492997406327],\"y\":[8.764806,9.568306589074865],\"type\":\"scatter\"},{\"line\":{\"color\":\"DarkSlateGrey\",\"width\":1},\"marker\":{\"size\":1,\"line\":{\"color\":\"DarkSlateGrey\",\"width\":2},\"color\":[48.0,48.0,48.0,48.0,48.0,48.0,48.0,48.0,48.0,48.0,48.0,60.0,72.0,60.0,60.0,72.0,72.0,60.0,72.0,72.0,72.0,60.0,60.0,72.0,72.0,60.0,72.0,72.0,60.0,60.0,72.0,72.0,48.0,24.0,48.0,48.0,48.0,24.0,48.0,48.0,24.0,48.0,48.0,48.0,48.0,48.0,48.0,60.0,60.0,48.0,72.0,72.0,72.0,60.0,60.0,48.0,72.0,60.0,60.0,48.0,72.0,72.0,72.0,60.0,60.0,72.0,72.0,60.0,60.0,72.0,72.0,72.0,60.0,72.0]},\"mode\":\"lines+markers\",\"showlegend\":false,\"x\":[14.357714,12.887482072298162],\"y\":[9.182938,8.829610849701513],\"type\":\"scatter\"},{\"line\":{\"color\":\"DarkSlateGrey\",\"width\":1},\"marker\":{\"size\":1,\"line\":{\"color\":\"DarkSlateGrey\",\"width\":2},\"color\":[48.0,48.0,48.0,48.0,48.0,48.0,48.0,48.0,48.0,48.0,48.0,60.0,72.0,60.0,60.0,72.0,72.0,60.0,72.0,72.0,72.0,60.0,60.0,72.0,72.0,60.0,72.0,72.0,60.0,60.0,72.0,72.0,48.0,24.0,48.0,48.0,48.0,24.0,48.0,48.0,24.0,48.0,48.0,48.0,48.0,48.0,48.0,60.0,60.0,48.0,72.0,72.0,72.0,60.0,60.0,48.0,72.0,60.0,60.0,48.0,72.0,72.0,72.0,60.0,60.0,72.0,72.0,60.0,60.0,72.0,72.0,72.0,60.0,72.0]},\"mode\":\"lines+markers\",\"showlegend\":false,\"x\":[11.568377,12.401340976124974],\"y\":[9.057268,9.64949035945086],\"type\":\"scatter\"},{\"line\":{\"color\":\"DarkSlateGrey\",\"width\":1},\"marker\":{\"size\":1,\"line\":{\"color\":\"DarkSlateGrey\",\"width\":2},\"color\":[48.0,48.0,48.0,48.0,48.0,48.0,48.0,48.0,48.0,48.0,48.0,60.0,72.0,60.0,60.0,72.0,72.0,60.0,72.0,72.0,72.0,60.0,60.0,72.0,72.0,60.0,72.0,72.0,60.0,60.0,72.0,72.0,48.0,24.0,48.0,48.0,48.0,24.0,48.0,48.0,24.0,48.0,48.0,48.0,48.0,48.0,48.0,60.0,60.0,48.0,72.0,72.0,72.0,60.0,60.0,48.0,72.0,60.0,60.0,48.0,72.0,72.0,72.0,60.0,60.0,72.0,72.0,60.0,60.0,72.0,72.0,72.0,60.0,72.0]},\"mode\":\"lines+markers\",\"showlegend\":false,\"x\":[9.571724,12.543754635279768],\"y\":[9.554189,9.780108465012226],\"type\":\"scatter\"},{\"line\":{\"color\":\"DarkSlateGrey\",\"width\":1},\"marker\":{\"size\":1,\"line\":{\"color\":\"DarkSlateGrey\",\"width\":2},\"color\":[48.0,48.0,48.0,48.0,48.0,48.0,48.0,48.0,48.0,48.0,48.0,60.0,72.0,60.0,60.0,72.0,72.0,60.0,72.0,72.0,72.0,60.0,60.0,72.0,72.0,60.0,72.0,72.0,60.0,60.0,72.0,72.0,48.0,24.0,48.0,48.0,48.0,24.0,48.0,48.0,24.0,48.0,48.0,48.0,48.0,48.0,48.0,60.0,60.0,48.0,72.0,72.0,72.0,60.0,60.0,48.0,72.0,60.0,60.0,48.0,72.0,72.0,72.0,60.0,60.0,72.0,72.0,60.0,60.0,72.0,72.0,72.0,60.0,72.0]},\"mode\":\"lines+markers\",\"showlegend\":false,\"x\":[10.783549,11.208657888249295],\"y\":[7.9557395,8.566298491665396],\"type\":\"scatter\"},{\"line\":{\"color\":\"DarkSlateGrey\",\"width\":1},\"marker\":{\"size\":1,\"line\":{\"color\":\"DarkSlateGrey\",\"width\":2},\"color\":[48.0,48.0,48.0,48.0,48.0,48.0,48.0,48.0,48.0,48.0,48.0,60.0,72.0,60.0,60.0,72.0,72.0,60.0,72.0,72.0,72.0,60.0,60.0,72.0,72.0,60.0,72.0,72.0,60.0,60.0,72.0,72.0,48.0,24.0,48.0,48.0,48.0,24.0,48.0,48.0,24.0,48.0,48.0,48.0,48.0,48.0,48.0,60.0,60.0,48.0,72.0,72.0,72.0,60.0,60.0,48.0,72.0,60.0,60.0,48.0,72.0,72.0,72.0,60.0,60.0,72.0,72.0,60.0,60.0,72.0,72.0,72.0,60.0,72.0]},\"mode\":\"lines+markers\",\"showlegend\":false,\"x\":[14.246235,12.885160070889022],\"y\":[9.57484,8.985059771661001],\"type\":\"scatter\"},{\"line\":{\"color\":\"DarkSlateGrey\",\"width\":1},\"marker\":{\"size\":1,\"line\":{\"color\":\"DarkSlateGrey\",\"width\":2},\"color\":[48.0,48.0,48.0,48.0,48.0,48.0,48.0,48.0,48.0,48.0,48.0,60.0,72.0,60.0,60.0,72.0,72.0,60.0,72.0,72.0,72.0,60.0,60.0,72.0,72.0,60.0,72.0,72.0,60.0,60.0,72.0,72.0,48.0,24.0,48.0,48.0,48.0,24.0,48.0,48.0,24.0,48.0,48.0,48.0,48.0,48.0,48.0,60.0,60.0,48.0,72.0,72.0,72.0,60.0,60.0,48.0,72.0,60.0,60.0,48.0,72.0,72.0,72.0,60.0,60.0,72.0,72.0,60.0,60.0,72.0,72.0,72.0,60.0,72.0]},\"mode\":\"lines+markers\",\"showlegend\":false,\"x\":[13.779974,12.25454192175661],\"y\":[9.684966,9.043484668173573],\"type\":\"scatter\"},{\"line\":{\"color\":\"DarkSlateGrey\",\"width\":1},\"marker\":{\"size\":1,\"line\":{\"color\":\"DarkSlateGrey\",\"width\":2},\"color\":[48.0,48.0,48.0,48.0,48.0,48.0,48.0,48.0,48.0,48.0,48.0,60.0,72.0,60.0,60.0,72.0,72.0,60.0,72.0,72.0,72.0,60.0,60.0,72.0,72.0,60.0,72.0,72.0,60.0,60.0,72.0,72.0,48.0,24.0,48.0,48.0,48.0,24.0,48.0,48.0,24.0,48.0,48.0,48.0,48.0,48.0,48.0,60.0,60.0,48.0,72.0,72.0,72.0,60.0,60.0,48.0,72.0,60.0,60.0,48.0,72.0,72.0,72.0,60.0,60.0,72.0,72.0,60.0,60.0,72.0,72.0,72.0,60.0,72.0]},\"mode\":\"lines+markers\",\"showlegend\":false,\"x\":[11.403646,12.450628481071977],\"y\":[8.426901,9.103630578769923],\"type\":\"scatter\"},{\"line\":{\"color\":\"DarkSlateGrey\",\"width\":1},\"marker\":{\"size\":1,\"line\":{\"color\":\"DarkSlateGrey\",\"width\":2},\"color\":[48.0,48.0,48.0,48.0,48.0,48.0,48.0,48.0,48.0,48.0,48.0,60.0,72.0,60.0,60.0,72.0,72.0,60.0,72.0,72.0,72.0,60.0,60.0,72.0,72.0,60.0,72.0,72.0,60.0,60.0,72.0,72.0,48.0,24.0,48.0,48.0,48.0,24.0,48.0,48.0,24.0,48.0,48.0,48.0,48.0,48.0,48.0,60.0,60.0,48.0,72.0,72.0,72.0,60.0,60.0,48.0,72.0,60.0,60.0,48.0,72.0,72.0,72.0,60.0,60.0,72.0,72.0,60.0,60.0,72.0,72.0,72.0,60.0,72.0]},\"mode\":\"lines+markers\",\"showlegend\":false,\"x\":[14.87136,12.923612352214274],\"y\":[9.443645,9.500403142917238],\"type\":\"scatter\"},{\"line\":{\"color\":\"DarkSlateGrey\",\"width\":1},\"marker\":{\"size\":1,\"line\":{\"color\":\"DarkSlateGrey\",\"width\":2},\"color\":[48.0,48.0,48.0,48.0,48.0,48.0,48.0,48.0,48.0,48.0,48.0,60.0,72.0,60.0,60.0,72.0,72.0,60.0,72.0,72.0,72.0,60.0,60.0,72.0,72.0,60.0,72.0,72.0,60.0,60.0,72.0,72.0,48.0,24.0,48.0,48.0,48.0,24.0,48.0,48.0,24.0,48.0,48.0,48.0,48.0,48.0,48.0,60.0,60.0,48.0,72.0,72.0,72.0,60.0,60.0,48.0,72.0,60.0,60.0,48.0,72.0,72.0,72.0,60.0,60.0,72.0,72.0,60.0,60.0,72.0,72.0,72.0,60.0,72.0]},\"mode\":\"lines+markers\",\"showlegend\":false,\"x\":[14.110971,12.88079015443888],\"y\":[9.530474,9.595574191235213],\"type\":\"scatter\"},{\"line\":{\"color\":\"DarkSlateGrey\",\"width\":1},\"marker\":{\"size\":1,\"line\":{\"color\":\"DarkSlateGrey\",\"width\":2},\"color\":[48.0,48.0,48.0,48.0,48.0,48.0,48.0,48.0,48.0,48.0,48.0,60.0,72.0,60.0,60.0,72.0,72.0,60.0,72.0,72.0,72.0,60.0,60.0,72.0,72.0,60.0,72.0,72.0,60.0,60.0,72.0,72.0,48.0,24.0,48.0,48.0,48.0,24.0,48.0,48.0,24.0,48.0,48.0,48.0,48.0,48.0,48.0,60.0,60.0,48.0,72.0,72.0,72.0,60.0,60.0,48.0,72.0,60.0,60.0,48.0,72.0,72.0,72.0,60.0,60.0,72.0,72.0,60.0,60.0,72.0,72.0,72.0,60.0,72.0]},\"mode\":\"lines+markers\",\"showlegend\":false,\"x\":[11.317299,13.130731020096285],\"y\":[9.487897,9.75309441463724],\"type\":\"scatter\"},{\"line\":{\"color\":\"DarkSlateGrey\",\"width\":1},\"marker\":{\"size\":1,\"line\":{\"color\":\"DarkSlateGrey\",\"width\":2},\"color\":[48.0,48.0,48.0,48.0,48.0,48.0,48.0,48.0,48.0,48.0,48.0,60.0,72.0,60.0,60.0,72.0,72.0,60.0,72.0,72.0,72.0,60.0,60.0,72.0,72.0,60.0,72.0,72.0,60.0,60.0,72.0,72.0,48.0,24.0,48.0,48.0,48.0,24.0,48.0,48.0,24.0,48.0,48.0,48.0,48.0,48.0,48.0,60.0,60.0,48.0,72.0,72.0,72.0,60.0,60.0,48.0,72.0,60.0,60.0,48.0,72.0,72.0,72.0,60.0,60.0,72.0,72.0,60.0,60.0,72.0,72.0,72.0,60.0,72.0]},\"mode\":\"lines+markers\",\"showlegend\":false,\"x\":[13.648256,13.665690862496318],\"y\":[8.506605,9.418404584664625],\"type\":\"scatter\"},{\"line\":{\"color\":\"DarkSlateGrey\",\"width\":1},\"marker\":{\"size\":1,\"line\":{\"color\":\"DarkSlateGrey\",\"width\":2},\"color\":[48.0,48.0,48.0,48.0,48.0,48.0,48.0,48.0,48.0,48.0,48.0,60.0,72.0,60.0,60.0,72.0,72.0,60.0,72.0,72.0,72.0,60.0,60.0,72.0,72.0,60.0,72.0,72.0,60.0,60.0,72.0,72.0,48.0,24.0,48.0,48.0,48.0,24.0,48.0,48.0,24.0,48.0,48.0,48.0,48.0,48.0,48.0,60.0,60.0,48.0,72.0,72.0,72.0,60.0,60.0,48.0,72.0,60.0,60.0,48.0,72.0,72.0,72.0,60.0,60.0,72.0,72.0,60.0,60.0,72.0,72.0,72.0,60.0,72.0]},\"mode\":\"lines+markers\",\"showlegend\":false,\"x\":[9.387027,11.244786183673085],\"y\":[9.537378,8.580797178791185],\"type\":\"scatter\"},{\"line\":{\"color\":\"DarkSlateGrey\",\"width\":1},\"marker\":{\"size\":1,\"line\":{\"color\":\"DarkSlateGrey\",\"width\":2},\"color\":[48.0,48.0,48.0,48.0,48.0,48.0,48.0,48.0,48.0,48.0,48.0,60.0,72.0,60.0,60.0,72.0,72.0,60.0,72.0,72.0,72.0,60.0,60.0,72.0,72.0,60.0,72.0,72.0,60.0,60.0,72.0,72.0,48.0,24.0,48.0,48.0,48.0,24.0,48.0,48.0,24.0,48.0,48.0,48.0,48.0,48.0,48.0,60.0,60.0,48.0,72.0,72.0,72.0,60.0,60.0,48.0,72.0,60.0,60.0,48.0,72.0,72.0,72.0,60.0,60.0,72.0,72.0,60.0,60.0,72.0,72.0,72.0,60.0,72.0]},\"mode\":\"lines+markers\",\"showlegend\":false,\"x\":[14.841174,12.920687038947857],\"y\":[9.16361,8.881125025851613],\"type\":\"scatter\"},{\"line\":{\"color\":\"DarkSlateGrey\",\"width\":1},\"marker\":{\"size\":1,\"line\":{\"color\":\"DarkSlateGrey\",\"width\":2},\"color\":[48.0,48.0,48.0,48.0,48.0,48.0,48.0,48.0,48.0,48.0,48.0,60.0,72.0,60.0,60.0,72.0,72.0,60.0,72.0,72.0,72.0,60.0,60.0,72.0,72.0,60.0,72.0,72.0,60.0,60.0,72.0,72.0,48.0,24.0,48.0,48.0,48.0,24.0,48.0,48.0,24.0,48.0,48.0,48.0,48.0,48.0,48.0,60.0,60.0,48.0,72.0,72.0,72.0,60.0,60.0,48.0,72.0,60.0,60.0,48.0,72.0,72.0,72.0,60.0,60.0,72.0,72.0,60.0,60.0,72.0,72.0,72.0,60.0,72.0]},\"mode\":\"lines+markers\",\"showlegend\":false,\"x\":[11.01177,12.308734365706401],\"y\":[8.816903,9.663046736567136],\"type\":\"scatter\"},{\"line\":{\"color\":\"DarkSlateGrey\",\"width\":1},\"marker\":{\"size\":1,\"line\":{\"color\":\"DarkSlateGrey\",\"width\":2},\"color\":[48.0,48.0,48.0,48.0,48.0,48.0,48.0,48.0,48.0,48.0,48.0,60.0,72.0,60.0,60.0,72.0,72.0,60.0,72.0,72.0,72.0,60.0,60.0,72.0,72.0,60.0,72.0,72.0,60.0,60.0,72.0,72.0,48.0,24.0,48.0,48.0,48.0,24.0,48.0,48.0,24.0,48.0,48.0,48.0,48.0,48.0,48.0,60.0,60.0,48.0,72.0,72.0,72.0,60.0,60.0,48.0,72.0,60.0,60.0,48.0,72.0,72.0,72.0,60.0,60.0,72.0,72.0,60.0,60.0,72.0,72.0,72.0,60.0,72.0]},\"mode\":\"lines+markers\",\"showlegend\":false,\"x\":[11.611861,11.482527652730326],\"y\":[8.592716,8.661345317066155],\"type\":\"scatter\"},{\"line\":{\"color\":\"DarkSlateGrey\",\"width\":1},\"marker\":{\"size\":1,\"line\":{\"color\":\"DarkSlateGrey\",\"width\":2},\"color\":[48.0,48.0,48.0,48.0,48.0,48.0,48.0,48.0,48.0,48.0,48.0,60.0,72.0,60.0,60.0,72.0,72.0,60.0,72.0,72.0,72.0,60.0,60.0,72.0,72.0,60.0,72.0,72.0,60.0,60.0,72.0,72.0,48.0,24.0,48.0,48.0,48.0,24.0,48.0,48.0,24.0,48.0,48.0,48.0,48.0,48.0,48.0,60.0,60.0,48.0,72.0,72.0,72.0,60.0,60.0,48.0,72.0,60.0,60.0,48.0,72.0,72.0,72.0,60.0,60.0,72.0,72.0,60.0,60.0,72.0,72.0,72.0,60.0,72.0]},\"mode\":\"lines+markers\",\"showlegend\":false,\"x\":[10.9997635,11.361412287560583],\"y\":[7.823455,8.602999648723648],\"type\":\"scatter\"},{\"line\":{\"color\":\"DarkSlateGrey\",\"width\":1},\"marker\":{\"size\":1,\"line\":{\"color\":\"DarkSlateGrey\",\"width\":2},\"color\":[48.0,48.0,48.0,48.0,48.0,48.0,48.0,48.0,48.0,48.0,48.0,60.0,72.0,60.0,60.0,72.0,72.0,60.0,72.0,72.0,72.0,60.0,60.0,72.0,72.0,60.0,72.0,72.0,60.0,60.0,72.0,72.0,48.0,24.0,48.0,48.0,48.0,24.0,48.0,48.0,24.0,48.0,48.0,48.0,48.0,48.0,48.0,60.0,60.0,48.0,72.0,72.0,72.0,60.0,60.0,48.0,72.0,60.0,60.0,48.0,72.0,72.0,72.0,60.0,60.0,72.0,72.0,60.0,60.0,72.0,72.0,72.0,60.0,72.0]},\"mode\":\"lines+markers\",\"showlegend\":false,\"x\":[13.384659,12.341494903263944],\"y\":[9.57302,9.631862997400416],\"type\":\"scatter\"},{\"line\":{\"color\":\"DarkSlateGrey\",\"width\":1},\"marker\":{\"size\":1,\"line\":{\"color\":\"DarkSlateGrey\",\"width\":2},\"color\":[48.0,48.0,48.0,48.0,48.0,48.0,48.0,48.0,48.0,48.0,48.0,60.0,72.0,60.0,60.0,72.0,72.0,60.0,72.0,72.0,72.0,60.0,60.0,72.0,72.0,60.0,72.0,72.0,60.0,60.0,72.0,72.0,48.0,24.0,48.0,48.0,48.0,24.0,48.0,48.0,24.0,48.0,48.0,48.0,48.0,48.0,48.0,60.0,60.0,48.0,72.0,72.0,72.0,60.0,60.0,48.0,72.0,60.0,60.0,48.0,72.0,72.0,72.0,60.0,60.0,72.0,72.0,60.0,60.0,72.0,72.0,72.0,60.0,72.0]},\"mode\":\"lines+markers\",\"showlegend\":false,\"x\":[12.761199,13.658238201043925],\"y\":[10.722335,9.382882013807844],\"type\":\"scatter\"},{\"line\":{\"color\":\"DarkSlateGrey\",\"width\":1},\"marker\":{\"size\":1,\"line\":{\"color\":\"DarkSlateGrey\",\"width\":2},\"color\":[48.0,48.0,48.0,48.0,48.0,48.0,48.0,48.0,48.0,48.0,48.0,60.0,72.0,60.0,60.0,72.0,72.0,60.0,72.0,72.0,72.0,60.0,60.0,72.0,72.0,60.0,72.0,72.0,60.0,60.0,72.0,72.0,48.0,24.0,48.0,48.0,48.0,24.0,48.0,48.0,24.0,48.0,48.0,48.0,48.0,48.0,48.0,60.0,60.0,48.0,72.0,72.0,72.0,60.0,60.0,48.0,72.0,60.0,60.0,48.0,72.0,72.0,72.0,60.0,60.0,72.0,72.0,60.0,60.0,72.0,72.0,72.0,60.0,72.0]},\"mode\":\"lines+markers\",\"showlegend\":false,\"x\":[11.004806,11.463265612486532],\"y\":[7.781951,8.688295124666658],\"type\":\"scatter\"},{\"line\":{\"color\":\"DarkSlateGrey\",\"width\":1},\"marker\":{\"size\":1,\"line\":{\"color\":\"DarkSlateGrey\",\"width\":2},\"color\":[48.0,48.0,48.0,48.0,48.0,48.0,48.0,48.0,48.0,48.0,48.0,60.0,72.0,60.0,60.0,72.0,72.0,60.0,72.0,72.0,72.0,60.0,60.0,72.0,72.0,60.0,72.0,72.0,60.0,60.0,72.0,72.0,48.0,24.0,48.0,48.0,48.0,24.0,48.0,48.0,24.0,48.0,48.0,48.0,48.0,48.0,48.0,60.0,60.0,48.0,72.0,72.0,72.0,60.0,60.0,48.0,72.0,60.0,60.0,48.0,72.0,72.0,72.0,60.0,60.0,72.0,72.0,60.0,60.0,72.0,72.0,72.0,60.0,72.0]},\"mode\":\"lines+markers\",\"showlegend\":false,\"x\":[13.4673395,12.890213542679247],\"y\":[7.4712152,8.906063378229117],\"type\":\"scatter\"},{\"line\":{\"color\":\"DarkSlateGrey\",\"width\":1},\"marker\":{\"size\":1,\"line\":{\"color\":\"DarkSlateGrey\",\"width\":2},\"color\":[48.0,48.0,48.0,48.0,48.0,48.0,48.0,48.0,48.0,48.0,48.0,60.0,72.0,60.0,60.0,72.0,72.0,60.0,72.0,72.0,72.0,60.0,60.0,72.0,72.0,60.0,72.0,72.0,60.0,60.0,72.0,72.0,48.0,24.0,48.0,48.0,48.0,24.0,48.0,48.0,24.0,48.0,48.0,48.0,48.0,48.0,48.0,60.0,60.0,48.0,72.0,72.0,72.0,60.0,60.0,48.0,72.0,60.0,60.0,48.0,72.0,72.0,72.0,60.0,60.0,72.0,72.0,60.0,60.0,72.0,72.0,72.0,60.0,72.0]},\"mode\":\"lines+markers\",\"showlegend\":false,\"x\":[11.276823,11.207448619148852],\"y\":[10.3449135,10.148061898700817],\"type\":\"scatter\"},{\"line\":{\"color\":\"DarkSlateGrey\",\"width\":1},\"marker\":{\"size\":1,\"line\":{\"color\":\"DarkSlateGrey\",\"width\":2},\"color\":[48.0,48.0,48.0,48.0,48.0,48.0,48.0,48.0,48.0,48.0,48.0,60.0,72.0,60.0,60.0,72.0,72.0,60.0,72.0,72.0,72.0,60.0,60.0,72.0,72.0,60.0,72.0,72.0,60.0,60.0,72.0,72.0,48.0,24.0,48.0,48.0,48.0,24.0,48.0,48.0,24.0,48.0,48.0,48.0,48.0,48.0,48.0,60.0,60.0,48.0,72.0,72.0,72.0,60.0,60.0,48.0,72.0,60.0,60.0,48.0,72.0,72.0,72.0,60.0,60.0,72.0,72.0,60.0,60.0,72.0,72.0,72.0,60.0,72.0]},\"mode\":\"lines+markers\",\"showlegend\":false,\"x\":[2.7155824,2.471670227292634],\"y\":[6.9326477,6.905503937850509],\"type\":\"scatter\"},{\"line\":{\"color\":\"DarkSlateGrey\",\"width\":1},\"marker\":{\"size\":1,\"line\":{\"color\":\"DarkSlateGrey\",\"width\":2},\"color\":[48.0,48.0,48.0,48.0,48.0,48.0,48.0,48.0,48.0,48.0,48.0,60.0,72.0,60.0,60.0,72.0,72.0,60.0,72.0,72.0,72.0,60.0,60.0,72.0,72.0,60.0,72.0,72.0,60.0,60.0,72.0,72.0,48.0,24.0,48.0,48.0,48.0,24.0,48.0,48.0,24.0,48.0,48.0,48.0,48.0,48.0,48.0,60.0,60.0,48.0,72.0,72.0,72.0,60.0,60.0,48.0,72.0,60.0,60.0,48.0,72.0,72.0,72.0,60.0,60.0,72.0,72.0,60.0,60.0,72.0,72.0,72.0,60.0,72.0]},\"mode\":\"lines+markers\",\"showlegend\":false,\"x\":[11.280384,12.542644371241543],\"y\":[9.838772,9.839248187273945],\"type\":\"scatter\"},{\"line\":{\"color\":\"DarkSlateGrey\",\"width\":1},\"marker\":{\"size\":1,\"line\":{\"color\":\"DarkSlateGrey\",\"width\":2},\"color\":[48.0,48.0,48.0,48.0,48.0,48.0,48.0,48.0,48.0,48.0,48.0,60.0,72.0,60.0,60.0,72.0,72.0,60.0,72.0,72.0,72.0,60.0,60.0,72.0,72.0,60.0,72.0,72.0,60.0,60.0,72.0,72.0,48.0,24.0,48.0,48.0,48.0,24.0,48.0,48.0,24.0,48.0,48.0,48.0,48.0,48.0,48.0,60.0,60.0,48.0,72.0,72.0,72.0,60.0,60.0,48.0,72.0,60.0,60.0,48.0,72.0,72.0,72.0,60.0,60.0,72.0,72.0,60.0,60.0,72.0,72.0,72.0,60.0,72.0]},\"mode\":\"lines+markers\",\"showlegend\":false,\"x\":[11.736194,12.550598912770235],\"y\":[9.50602,9.861251184678846],\"type\":\"scatter\"},{\"line\":{\"color\":\"DarkSlateGrey\",\"width\":1},\"marker\":{\"size\":1,\"line\":{\"color\":\"DarkSlateGrey\",\"width\":2},\"color\":[48.0,48.0,48.0,48.0,48.0,48.0,48.0,48.0,48.0,48.0,48.0,60.0,72.0,60.0,60.0,72.0,72.0,60.0,72.0,72.0,72.0,60.0,60.0,72.0,72.0,60.0,72.0,72.0,60.0,60.0,72.0,72.0,48.0,24.0,48.0,48.0,48.0,24.0,48.0,48.0,24.0,48.0,48.0,48.0,48.0,48.0,48.0,60.0,60.0,48.0,72.0,72.0,72.0,60.0,60.0,48.0,72.0,60.0,60.0,48.0,72.0,72.0,72.0,60.0,60.0,72.0,72.0,60.0,60.0,72.0,72.0,72.0,60.0,72.0]},\"mode\":\"lines+markers\",\"showlegend\":false,\"x\":[10.918215,10.898517759387392],\"y\":[10.162161,9.853340288347507],\"type\":\"scatter\"},{\"line\":{\"color\":\"DarkSlateGrey\",\"width\":1},\"marker\":{\"size\":1,\"line\":{\"color\":\"DarkSlateGrey\",\"width\":2},\"color\":[48.0,48.0,48.0,48.0,48.0,48.0,48.0,48.0,48.0,48.0,48.0,60.0,72.0,60.0,60.0,72.0,72.0,60.0,72.0,72.0,72.0,60.0,60.0,72.0,72.0,60.0,72.0,72.0,60.0,60.0,72.0,72.0,48.0,24.0,48.0,48.0,48.0,24.0,48.0,48.0,24.0,48.0,48.0,48.0,48.0,48.0,48.0,60.0,60.0,48.0,72.0,72.0,72.0,60.0,60.0,48.0,72.0,60.0,60.0,48.0,72.0,72.0,72.0,60.0,60.0,72.0,72.0,60.0,60.0,72.0,72.0,72.0,60.0,72.0]},\"mode\":\"lines+markers\",\"showlegend\":false,\"x\":[2.347755,2.458726477562794],\"y\":[6.7369547,6.818162112047188],\"type\":\"scatter\"},{\"line\":{\"color\":\"DarkSlateGrey\",\"width\":1},\"marker\":{\"size\":1,\"line\":{\"color\":\"DarkSlateGrey\",\"width\":2},\"color\":[48.0,48.0,48.0,48.0,48.0,48.0,48.0,48.0,48.0,48.0,48.0,60.0,72.0,60.0,60.0,72.0,72.0,60.0,72.0,72.0,72.0,60.0,60.0,72.0,72.0,60.0,72.0,72.0,60.0,60.0,72.0,72.0,48.0,24.0,48.0,48.0,48.0,24.0,48.0,48.0,24.0,48.0,48.0,48.0,48.0,48.0,48.0,60.0,60.0,48.0,72.0,72.0,72.0,60.0,60.0,48.0,72.0,60.0,60.0,48.0,72.0,72.0,72.0,60.0,60.0,72.0,72.0,60.0,60.0,72.0,72.0,72.0,60.0,72.0]},\"mode\":\"lines+markers\",\"showlegend\":false,\"x\":[10.495303,11.358456258754856],\"y\":[9.104143,10.112221515615609],\"type\":\"scatter\"},{\"line\":{\"color\":\"DarkSlateGrey\",\"width\":1},\"marker\":{\"size\":1,\"line\":{\"color\":\"DarkSlateGrey\",\"width\":2},\"color\":[48.0,48.0,48.0,48.0,48.0,48.0,48.0,48.0,48.0,48.0,48.0,60.0,72.0,60.0,60.0,72.0,72.0,60.0,72.0,72.0,72.0,60.0,60.0,72.0,72.0,60.0,72.0,72.0,60.0,60.0,72.0,72.0,48.0,24.0,48.0,48.0,48.0,24.0,48.0,48.0,24.0,48.0,48.0,48.0,48.0,48.0,48.0,60.0,60.0,48.0,72.0,72.0,72.0,60.0,60.0,48.0,72.0,60.0,60.0,48.0,72.0,72.0,72.0,60.0,60.0,72.0,72.0,60.0,60.0,72.0,72.0,72.0,60.0,72.0]},\"mode\":\"lines+markers\",\"showlegend\":false,\"x\":[13.209538,12.61071924321136],\"y\":[9.215751,9.897109171073058],\"type\":\"scatter\"},{\"line\":{\"color\":\"DarkSlateGrey\",\"width\":1},\"marker\":{\"size\":1,\"line\":{\"color\":\"DarkSlateGrey\",\"width\":2},\"color\":[48.0,48.0,48.0,48.0,48.0,48.0,48.0,48.0,48.0,48.0,48.0,60.0,72.0,60.0,60.0,72.0,72.0,60.0,72.0,72.0,72.0,60.0,60.0,72.0,72.0,60.0,72.0,72.0,60.0,60.0,72.0,72.0,48.0,24.0,48.0,48.0,48.0,24.0,48.0,48.0,24.0,48.0,48.0,48.0,48.0,48.0,48.0,60.0,60.0,48.0,72.0,72.0,72.0,60.0,60.0,48.0,72.0,60.0,60.0,48.0,72.0,72.0,72.0,60.0,60.0,72.0,72.0,60.0,60.0,72.0,72.0,72.0,60.0,72.0]},\"mode\":\"lines+markers\",\"showlegend\":false,\"x\":[2.5718184,2.4976462099075762],\"y\":[7.092851,6.8597219310909585],\"type\":\"scatter\"},{\"line\":{\"color\":\"DarkSlateGrey\",\"width\":1},\"marker\":{\"size\":1,\"line\":{\"color\":\"DarkSlateGrey\",\"width\":2},\"color\":[48.0,48.0,48.0,48.0,48.0,48.0,48.0,48.0,48.0,48.0,48.0,60.0,72.0,60.0,60.0,72.0,72.0,60.0,72.0,72.0,72.0,60.0,60.0,72.0,72.0,60.0,72.0,72.0,60.0,60.0,72.0,72.0,48.0,24.0,48.0,48.0,48.0,24.0,48.0,48.0,24.0,48.0,48.0,48.0,48.0,48.0,48.0,60.0,60.0,48.0,72.0,72.0,72.0,60.0,60.0,48.0,72.0,60.0,60.0,48.0,72.0,72.0,72.0,60.0,60.0,72.0,72.0,60.0,60.0,72.0,72.0,72.0,60.0,72.0]},\"mode\":\"lines+markers\",\"showlegend\":false,\"x\":[10.888228,11.184828144316356],\"y\":[10.450801,9.999884971735924],\"type\":\"scatter\"},{\"line\":{\"color\":\"DarkSlateGrey\",\"width\":1},\"marker\":{\"size\":1,\"line\":{\"color\":\"DarkSlateGrey\",\"width\":2},\"color\":[48.0,48.0,48.0,48.0,48.0,48.0,48.0,48.0,48.0,48.0,48.0,60.0,72.0,60.0,60.0,72.0,72.0,60.0,72.0,72.0,72.0,60.0,60.0,72.0,72.0,60.0,72.0,72.0,60.0,60.0,72.0,72.0,48.0,24.0,48.0,48.0,48.0,24.0,48.0,48.0,24.0,48.0,48.0,48.0,48.0,48.0,48.0,60.0,60.0,48.0,72.0,72.0,72.0,60.0,60.0,48.0,72.0,60.0,60.0,48.0,72.0,72.0,72.0,60.0,60.0,72.0,72.0,60.0,60.0,72.0,72.0,72.0,60.0,72.0]},\"mode\":\"lines+markers\",\"showlegend\":false,\"x\":[11.481734,11.216278113908036],\"y\":[10.248935,10.064313909966566],\"type\":\"scatter\"},{\"line\":{\"color\":\"DarkSlateGrey\",\"width\":1},\"marker\":{\"size\":1,\"line\":{\"color\":\"DarkSlateGrey\",\"width\":2},\"color\":[48.0,48.0,48.0,48.0,48.0,48.0,48.0,48.0,48.0,48.0,48.0,60.0,72.0,60.0,60.0,72.0,72.0,60.0,72.0,72.0,72.0,60.0,60.0,72.0,72.0,60.0,72.0,72.0,60.0,60.0,72.0,72.0,48.0,24.0,48.0,48.0,48.0,24.0,48.0,48.0,24.0,48.0,48.0,48.0,48.0,48.0,48.0,60.0,60.0,48.0,72.0,72.0,72.0,60.0,60.0,48.0,72.0,60.0,60.0,48.0,72.0,72.0,72.0,60.0,60.0,72.0,72.0,60.0,60.0,72.0,72.0,72.0,60.0,72.0]},\"mode\":\"lines+markers\",\"showlegend\":false,\"x\":[13.456529,12.66116366880005],\"y\":[9.0321665,9.921279520159322],\"type\":\"scatter\"},{\"line\":{\"color\":\"DarkSlateGrey\",\"width\":1},\"marker\":{\"size\":1,\"line\":{\"color\":\"DarkSlateGrey\",\"width\":2},\"color\":[48.0,48.0,48.0,48.0,48.0,48.0,48.0,48.0,48.0,48.0,48.0,60.0,72.0,60.0,60.0,72.0,72.0,60.0,72.0,72.0,72.0,60.0,60.0,72.0,72.0,60.0,72.0,72.0,60.0,60.0,72.0,72.0,48.0,24.0,48.0,48.0,48.0,24.0,48.0,48.0,24.0,48.0,48.0,48.0,48.0,48.0,48.0,60.0,60.0,48.0,72.0,72.0,72.0,60.0,60.0,48.0,72.0,60.0,60.0,48.0,72.0,72.0,72.0,60.0,60.0,72.0,72.0,60.0,60.0,72.0,72.0,72.0,60.0,72.0]},\"mode\":\"lines+markers\",\"showlegend\":false,\"x\":[11.04935,10.746996420676313],\"y\":[10.404863,9.712600204597184],\"type\":\"scatter\"},{\"line\":{\"color\":\"DarkSlateGrey\",\"width\":1},\"marker\":{\"size\":1,\"line\":{\"color\":\"DarkSlateGrey\",\"width\":2},\"color\":[48.0,48.0,48.0,48.0,48.0,48.0,48.0,48.0,48.0,48.0,48.0,60.0,72.0,60.0,60.0,72.0,72.0,60.0,72.0,72.0,72.0,60.0,60.0,72.0,72.0,60.0,72.0,72.0,60.0,60.0,72.0,72.0,48.0,24.0,48.0,48.0,48.0,24.0,48.0,48.0,24.0,48.0,48.0,48.0,48.0,48.0,48.0,60.0,60.0,48.0,72.0,72.0,72.0,60.0,60.0,48.0,72.0,60.0,60.0,48.0,72.0,72.0,72.0,60.0,60.0,72.0,72.0,60.0,60.0,72.0,72.0,72.0,60.0,72.0]},\"mode\":\"lines+markers\",\"showlegend\":false,\"x\":[10.8213,10.872115116037639],\"y\":[10.248566,9.946424435735914],\"type\":\"scatter\"},{\"line\":{\"color\":\"DarkSlateGrey\",\"width\":1},\"marker\":{\"size\":1,\"line\":{\"color\":\"DarkSlateGrey\",\"width\":2},\"color\":[48.0,48.0,48.0,48.0,48.0,48.0,48.0,48.0,48.0,48.0,48.0,60.0,72.0,60.0,60.0,72.0,72.0,60.0,72.0,72.0,72.0,60.0,60.0,72.0,72.0,60.0,72.0,72.0,60.0,60.0,72.0,72.0,48.0,24.0,48.0,48.0,48.0,24.0,48.0,48.0,24.0,48.0,48.0,48.0,48.0,48.0,48.0,60.0,60.0,48.0,72.0,72.0,72.0,60.0,60.0,48.0,72.0,60.0,60.0,48.0,72.0,72.0,72.0,60.0,60.0,72.0,72.0,60.0,60.0,72.0,72.0,72.0,60.0,72.0]},\"mode\":\"lines+markers\",\"showlegend\":false,\"x\":[11.169366,11.315322041304988],\"y\":[10.014798,10.10809928691341],\"type\":\"scatter\"},{\"line\":{\"color\":\"DarkSlateGrey\",\"width\":1},\"marker\":{\"size\":1,\"line\":{\"color\":\"DarkSlateGrey\",\"width\":2},\"color\":[48.0,48.0,48.0,48.0,48.0,48.0,48.0,48.0,48.0,48.0,48.0,60.0,72.0,60.0,60.0,72.0,72.0,60.0,72.0,72.0,72.0,60.0,60.0,72.0,72.0,60.0,72.0,72.0,60.0,60.0,72.0,72.0,48.0,24.0,48.0,48.0,48.0,24.0,48.0,48.0,24.0,48.0,48.0,48.0,48.0,48.0,48.0,60.0,60.0,48.0,72.0,72.0,72.0,60.0,60.0,48.0,72.0,60.0,60.0,48.0,72.0,72.0,72.0,60.0,60.0,72.0,72.0,60.0,60.0,72.0,72.0,72.0,60.0,72.0]},\"mode\":\"lines+markers\",\"showlegend\":false,\"x\":[10.637614,10.363787683130035],\"y\":[10.116172,8.99134026426245],\"type\":\"scatter\"},{\"line\":{\"color\":\"DarkSlateGrey\",\"width\":1},\"marker\":{\"size\":1,\"line\":{\"color\":\"DarkSlateGrey\",\"width\":2},\"color\":[48.0,48.0,48.0,48.0,48.0,48.0,48.0,48.0,48.0,48.0,48.0,60.0,72.0,60.0,60.0,72.0,72.0,60.0,72.0,72.0,72.0,60.0,60.0,72.0,72.0,60.0,72.0,72.0,60.0,60.0,72.0,72.0,48.0,24.0,48.0,48.0,48.0,24.0,48.0,48.0,24.0,48.0,48.0,48.0,48.0,48.0,48.0,60.0,60.0,48.0,72.0,72.0,72.0,60.0,60.0,48.0,72.0,60.0,60.0,48.0,72.0,72.0,72.0,60.0,60.0,72.0,72.0,60.0,60.0,72.0,72.0,72.0,60.0,72.0]},\"mode\":\"lines+markers\",\"showlegend\":false,\"x\":[13.441044,13.981317339849163],\"y\":[10.229832,9.400749270251733],\"type\":\"scatter\"},{\"line\":{\"color\":\"DarkSlateGrey\",\"width\":1},\"marker\":{\"size\":1,\"line\":{\"color\":\"DarkSlateGrey\",\"width\":2},\"color\":[48.0,48.0,48.0,48.0,48.0,48.0,48.0,48.0,48.0,48.0,48.0,60.0,72.0,60.0,60.0,72.0,72.0,60.0,72.0,72.0,72.0,60.0,60.0,72.0,72.0,60.0,72.0,72.0,60.0,60.0,72.0,72.0,48.0,24.0,48.0,48.0,48.0,24.0,48.0,48.0,24.0,48.0,48.0,48.0,48.0,48.0,48.0,60.0,60.0,48.0,72.0,72.0,72.0,60.0,60.0,48.0,72.0,60.0,60.0,48.0,72.0,72.0,72.0,60.0,60.0,72.0,72.0,60.0,60.0,72.0,72.0,72.0,60.0,72.0]},\"mode\":\"lines+markers\",\"showlegend\":false,\"x\":[2.4550478,2.331352474980598],\"y\":[6.7710013,6.804338451944885],\"type\":\"scatter\"},{\"line\":{\"color\":\"DarkSlateGrey\",\"width\":1},\"marker\":{\"size\":1,\"line\":{\"color\":\"DarkSlateGrey\",\"width\":2},\"color\":[48.0,48.0,48.0,48.0,48.0,48.0,48.0,48.0,48.0,48.0,48.0,60.0,72.0,60.0,60.0,72.0,72.0,60.0,72.0,72.0,72.0,60.0,60.0,72.0,72.0,60.0,72.0,72.0,60.0,60.0,72.0,72.0,48.0,24.0,48.0,48.0,48.0,24.0,48.0,48.0,24.0,48.0,48.0,48.0,48.0,48.0,48.0,60.0,60.0,48.0,72.0,72.0,72.0,60.0,60.0,48.0,72.0,60.0,60.0,48.0,72.0,72.0,72.0,60.0,60.0,72.0,72.0,60.0,60.0,72.0,72.0,72.0,60.0,72.0]},\"mode\":\"lines+markers\",\"showlegend\":false,\"x\":[10.721133,11.010966621778486],\"y\":[7.790931,8.319835252177445],\"type\":\"scatter\"},{\"line\":{\"color\":\"DarkSlateGrey\",\"width\":1},\"marker\":{\"size\":1,\"line\":{\"color\":\"DarkSlateGrey\",\"width\":2},\"color\":[48.0,48.0,48.0,48.0,48.0,48.0,48.0,48.0,48.0,48.0,48.0,60.0,72.0,60.0,60.0,72.0,72.0,60.0,72.0,72.0,72.0,60.0,60.0,72.0,72.0,60.0,72.0,72.0,60.0,60.0,72.0,72.0,48.0,24.0,48.0,48.0,48.0,24.0,48.0,48.0,24.0,48.0,48.0,48.0,48.0,48.0,48.0,60.0,60.0,48.0,72.0,72.0,72.0,60.0,60.0,48.0,72.0,60.0,60.0,48.0,72.0,72.0,72.0,60.0,60.0,72.0,72.0,60.0,60.0,72.0,72.0,72.0,60.0,72.0]},\"mode\":\"lines+markers\",\"showlegend\":false,\"x\":[13.196257,13.785707205156612],\"y\":[7.4771304,8.710975581708762],\"type\":\"scatter\"},{\"line\":{\"color\":\"DarkSlateGrey\",\"width\":1},\"marker\":{\"size\":1,\"line\":{\"color\":\"DarkSlateGrey\",\"width\":2},\"color\":[48.0,48.0,48.0,48.0,48.0,48.0,48.0,48.0,48.0,48.0,48.0,60.0,72.0,60.0,60.0,72.0,72.0,60.0,72.0,72.0,72.0,60.0,60.0,72.0,72.0,60.0,72.0,72.0,60.0,60.0,72.0,72.0,48.0,24.0,48.0,48.0,48.0,24.0,48.0,48.0,24.0,48.0,48.0,48.0,48.0,48.0,48.0,60.0,60.0,48.0,72.0,72.0,72.0,60.0,60.0,48.0,72.0,60.0,60.0,48.0,72.0,72.0,72.0,60.0,60.0,72.0,72.0,60.0,60.0,72.0,72.0,72.0,60.0,72.0]},\"mode\":\"lines+markers\",\"showlegend\":false,\"x\":[10.998121,10.957489307261683],\"y\":[9.863325,8.270110424643802],\"type\":\"scatter\"},{\"line\":{\"color\":\"DarkSlateGrey\",\"width\":1},\"marker\":{\"size\":1,\"line\":{\"color\":\"DarkSlateGrey\",\"width\":2},\"color\":[48.0,48.0,48.0,48.0,48.0,48.0,48.0,48.0,48.0,48.0,48.0,60.0,72.0,60.0,60.0,72.0,72.0,60.0,72.0,72.0,72.0,60.0,60.0,72.0,72.0,60.0,72.0,72.0,60.0,60.0,72.0,72.0,48.0,24.0,48.0,48.0,48.0,24.0,48.0,48.0,24.0,48.0,48.0,48.0,48.0,48.0,48.0,60.0,60.0,48.0,72.0,72.0,72.0,60.0,60.0,48.0,72.0,60.0,60.0,48.0,72.0,72.0,72.0,60.0,60.0,72.0,72.0,60.0,60.0,72.0,72.0,72.0,60.0,72.0]},\"mode\":\"lines+markers\",\"showlegend\":false,\"x\":[11.066662,10.305476073298504],\"y\":[9.851558,9.003991086399271],\"type\":\"scatter\"},{\"line\":{\"color\":\"DarkSlateGrey\",\"width\":1},\"marker\":{\"size\":1,\"line\":{\"color\":\"DarkSlateGrey\",\"width\":2},\"color\":[48.0,48.0,48.0,48.0,48.0,48.0,48.0,48.0,48.0,48.0,48.0,60.0,72.0,60.0,60.0,72.0,72.0,60.0,72.0,72.0,72.0,60.0,60.0,72.0,72.0,60.0,72.0,72.0,60.0,60.0,72.0,72.0,48.0,24.0,48.0,48.0,48.0,24.0,48.0,48.0,24.0,48.0,48.0,48.0,48.0,48.0,48.0,60.0,60.0,48.0,72.0,72.0,72.0,60.0,60.0,48.0,72.0,60.0,60.0,48.0,72.0,72.0,72.0,60.0,60.0,72.0,72.0,60.0,60.0,72.0,72.0,72.0,60.0,72.0]},\"mode\":\"lines+markers\",\"showlegend\":false,\"x\":[13.855052,13.747155997726292],\"y\":[8.886627,9.309724715714989],\"type\":\"scatter\"},{\"line\":{\"color\":\"DarkSlateGrey\",\"width\":1},\"marker\":{\"size\":1,\"line\":{\"color\":\"DarkSlateGrey\",\"width\":2},\"color\":[48.0,48.0,48.0,48.0,48.0,48.0,48.0,48.0,48.0,48.0,48.0,60.0,72.0,60.0,60.0,72.0,72.0,60.0,72.0,72.0,72.0,60.0,60.0,72.0,72.0,60.0,72.0,72.0,60.0,60.0,72.0,72.0,48.0,24.0,48.0,48.0,48.0,24.0,48.0,48.0,24.0,48.0,48.0,48.0,48.0,48.0,48.0,60.0,60.0,48.0,72.0,72.0,72.0,60.0,60.0,48.0,72.0,60.0,60.0,48.0,72.0,72.0,72.0,60.0,60.0,72.0,72.0,60.0,60.0,72.0,72.0,72.0,60.0,72.0]},\"mode\":\"lines+markers\",\"showlegend\":false,\"x\":[2.8291597,2.3818615416784326],\"y\":[7.098556,6.970411031467816],\"type\":\"scatter\"},{\"line\":{\"color\":\"DarkSlateGrey\",\"width\":1},\"marker\":{\"size\":1,\"line\":{\"color\":\"DarkSlateGrey\",\"width\":2},\"color\":[48.0,48.0,48.0,48.0,48.0,48.0,48.0,48.0,48.0,48.0,48.0,60.0,72.0,60.0,60.0,72.0,72.0,60.0,72.0,72.0,72.0,60.0,60.0,72.0,72.0,60.0,72.0,72.0,60.0,60.0,72.0,72.0,48.0,24.0,48.0,48.0,48.0,24.0,48.0,48.0,24.0,48.0,48.0,48.0,48.0,48.0,48.0,60.0,60.0,48.0,72.0,72.0,72.0,60.0,60.0,48.0,72.0,60.0,60.0,48.0,72.0,72.0,72.0,60.0,60.0,72.0,72.0,60.0,60.0,72.0,72.0,72.0,60.0,72.0]},\"mode\":\"lines+markers\",\"showlegend\":false,\"x\":[11.052477,10.95339967459998],\"y\":[9.593743,8.303020712682864],\"type\":\"scatter\"},{\"line\":{\"color\":\"DarkSlateGrey\",\"width\":1},\"marker\":{\"size\":1,\"line\":{\"color\":\"DarkSlateGrey\",\"width\":2},\"color\":[48.0,48.0,48.0,48.0,48.0,48.0,48.0,48.0,48.0,48.0,48.0,60.0,72.0,60.0,60.0,72.0,72.0,60.0,72.0,72.0,72.0,60.0,60.0,72.0,72.0,60.0,72.0,72.0,60.0,60.0,72.0,72.0,48.0,24.0,48.0,48.0,48.0,24.0,48.0,48.0,24.0,48.0,48.0,48.0,48.0,48.0,48.0,60.0,60.0,48.0,72.0,72.0,72.0,60.0,60.0,48.0,72.0,60.0,60.0,48.0,72.0,72.0,72.0,60.0,60.0,72.0,72.0,60.0,60.0,72.0,72.0,72.0,60.0,72.0]},\"mode\":\"lines+markers\",\"showlegend\":false,\"x\":[10.541386,10.402220314480301],\"y\":[10.328006,9.021578750064386],\"type\":\"scatter\"},{\"line\":{\"color\":\"DarkSlateGrey\",\"width\":1},\"marker\":{\"size\":1,\"line\":{\"color\":\"DarkSlateGrey\",\"width\":2},\"color\":[48.0,48.0,48.0,48.0,48.0,48.0,48.0,48.0,48.0,48.0,48.0,60.0,72.0,60.0,60.0,72.0,72.0,60.0,72.0,72.0,72.0,60.0,60.0,72.0,72.0,60.0,72.0,72.0,60.0,60.0,72.0,72.0,48.0,24.0,48.0,48.0,48.0,24.0,48.0,48.0,24.0,48.0,48.0,48.0,48.0,48.0,48.0,60.0,60.0,48.0,72.0,72.0,72.0,60.0,60.0,48.0,72.0,60.0,60.0,48.0,72.0,72.0,72.0,60.0,60.0,72.0,72.0,60.0,60.0,72.0,72.0,72.0,60.0,72.0]},\"mode\":\"lines+markers\",\"showlegend\":false,\"x\":[10.090337,10.52987443660259],\"y\":[9.349282,9.32009879372896],\"type\":\"scatter\"},{\"line\":{\"color\":\"DarkSlateGrey\",\"width\":1},\"marker\":{\"size\":1,\"line\":{\"color\":\"DarkSlateGrey\",\"width\":2},\"color\":[48.0,48.0,48.0,48.0,48.0,48.0,48.0,48.0,48.0,48.0,48.0,60.0,72.0,60.0,60.0,72.0,72.0,60.0,72.0,72.0,72.0,60.0,60.0,72.0,72.0,60.0,72.0,72.0,60.0,60.0,72.0,72.0,48.0,24.0,48.0,48.0,48.0,24.0,48.0,48.0,24.0,48.0,48.0,48.0,48.0,48.0,48.0,60.0,60.0,48.0,72.0,72.0,72.0,60.0,60.0,48.0,72.0,60.0,60.0,48.0,72.0,72.0,72.0,60.0,60.0,72.0,72.0,60.0,60.0,72.0,72.0,72.0,60.0,72.0]},\"mode\":\"lines+markers\",\"showlegend\":false,\"x\":[2.6270823,2.3955826861889404],\"y\":[7.119021,7.01932573870654],\"type\":\"scatter\"},{\"line\":{\"color\":\"DarkSlateGrey\",\"width\":1},\"marker\":{\"size\":1,\"line\":{\"color\":\"DarkSlateGrey\",\"width\":2},\"color\":[48.0,48.0,48.0,48.0,48.0,48.0,48.0,48.0,48.0,48.0,48.0,60.0,72.0,60.0,60.0,72.0,72.0,60.0,72.0,72.0,72.0,60.0,60.0,72.0,72.0,60.0,72.0,72.0,60.0,60.0,72.0,72.0,48.0,24.0,48.0,48.0,48.0,24.0,48.0,48.0,24.0,48.0,48.0,48.0,48.0,48.0,48.0,60.0,60.0,48.0,72.0,72.0,72.0,60.0,60.0,48.0,72.0,60.0,60.0,48.0,72.0,72.0,72.0,60.0,60.0,72.0,72.0,60.0,60.0,72.0,72.0,72.0,60.0,72.0]},\"mode\":\"lines+markers\",\"showlegend\":false,\"x\":[10.271494,10.907489555823112],\"y\":[7.8539495,8.1438054354264],\"type\":\"scatter\"},{\"line\":{\"color\":\"DarkSlateGrey\",\"width\":1},\"marker\":{\"size\":1,\"line\":{\"color\":\"DarkSlateGrey\",\"width\":2},\"color\":[48.0,48.0,48.0,48.0,48.0,48.0,48.0,48.0,48.0,48.0,48.0,60.0,72.0,60.0,60.0,72.0,72.0,60.0,72.0,72.0,72.0,60.0,60.0,72.0,72.0,60.0,72.0,72.0,60.0,60.0,72.0,72.0,48.0,24.0,48.0,48.0,48.0,24.0,48.0,48.0,24.0,48.0,48.0,48.0,48.0,48.0,48.0,60.0,60.0,48.0,72.0,72.0,72.0,60.0,60.0,48.0,72.0,60.0,60.0,48.0,72.0,72.0,72.0,60.0,60.0,72.0,72.0,60.0,60.0,72.0,72.0,72.0,60.0,72.0]},\"mode\":\"lines+markers\",\"showlegend\":false,\"x\":[11.910392,10.921381665445159],\"y\":[7.922406,8.240997105642307],\"type\":\"scatter\"},{\"line\":{\"color\":\"DarkSlateGrey\",\"width\":1},\"marker\":{\"size\":1,\"line\":{\"color\":\"DarkSlateGrey\",\"width\":2},\"color\":[48.0,48.0,48.0,48.0,48.0,48.0,48.0,48.0,48.0,48.0,48.0,60.0,72.0,60.0,60.0,72.0,72.0,60.0,72.0,72.0,72.0,60.0,60.0,72.0,72.0,60.0,72.0,72.0,60.0,60.0,72.0,72.0,48.0,24.0,48.0,48.0,48.0,24.0,48.0,48.0,24.0,48.0,48.0,48.0,48.0,48.0,48.0,60.0,60.0,48.0,72.0,72.0,72.0,60.0,60.0,48.0,72.0,60.0,60.0,48.0,72.0,72.0,72.0,60.0,60.0,72.0,72.0,60.0,60.0,72.0,72.0,72.0,60.0,72.0]},\"mode\":\"lines+markers\",\"showlegend\":false,\"x\":[13.4742985,13.682103474435674],\"y\":[7.2245054,8.65624742518368],\"type\":\"scatter\"},{\"line\":{\"color\":\"DarkSlateGrey\",\"width\":1},\"marker\":{\"size\":1,\"line\":{\"color\":\"DarkSlateGrey\",\"width\":2},\"color\":[48.0,48.0,48.0,48.0,48.0,48.0,48.0,48.0,48.0,48.0,48.0,60.0,72.0,60.0,60.0,72.0,72.0,60.0,72.0,72.0,72.0,60.0,60.0,72.0,72.0,60.0,72.0,72.0,60.0,60.0,72.0,72.0,48.0,24.0,48.0,48.0,48.0,24.0,48.0,48.0,24.0,48.0,48.0,48.0,48.0,48.0,48.0,60.0,60.0,48.0,72.0,72.0,72.0,60.0,60.0,48.0,72.0,60.0,60.0,48.0,72.0,72.0,72.0,60.0,60.0,72.0,72.0,60.0,60.0,72.0,72.0,72.0,60.0,72.0]},\"mode\":\"lines+markers\",\"showlegend\":false,\"x\":[10.175466,10.433011374048458],\"y\":[8.155363,9.182046649474687],\"type\":\"scatter\"},{\"line\":{\"color\":\"DarkSlateGrey\",\"width\":1},\"marker\":{\"size\":1,\"line\":{\"color\":\"DarkSlateGrey\",\"width\":2},\"color\":[48.0,48.0,48.0,48.0,48.0,48.0,48.0,48.0,48.0,48.0,48.0,60.0,72.0,60.0,60.0,72.0,72.0,60.0,72.0,72.0,72.0,60.0,60.0,72.0,72.0,60.0,72.0,72.0,60.0,60.0,72.0,72.0,48.0,24.0,48.0,48.0,48.0,24.0,48.0,48.0,24.0,48.0,48.0,48.0,48.0,48.0,48.0,60.0,60.0,48.0,72.0,72.0,72.0,60.0,60.0,48.0,72.0,60.0,60.0,48.0,72.0,72.0,72.0,60.0,60.0,72.0,72.0,60.0,60.0,72.0,72.0,72.0,60.0,72.0]},\"mode\":\"lines+markers\",\"showlegend\":false,\"x\":[9.36597,10.24082455239975],\"y\":[10.249665,9.01825794872516],\"type\":\"scatter\"},{\"line\":{\"color\":\"DarkSlateGrey\",\"width\":1},\"marker\":{\"size\":1,\"line\":{\"color\":\"DarkSlateGrey\",\"width\":2},\"color\":[48.0,48.0,48.0,48.0,48.0,48.0,48.0,48.0,48.0,48.0,48.0,60.0,72.0,60.0,60.0,72.0,72.0,60.0,72.0,72.0,72.0,60.0,60.0,72.0,72.0,60.0,72.0,72.0,60.0,60.0,72.0,72.0,48.0,24.0,48.0,48.0,48.0,24.0,48.0,48.0,24.0,48.0,48.0,48.0,48.0,48.0,48.0,60.0,60.0,48.0,72.0,72.0,72.0,60.0,60.0,48.0,72.0,60.0,60.0,48.0,72.0,72.0,72.0,60.0,60.0,72.0,72.0,60.0,60.0,72.0,72.0,72.0,60.0,72.0]},\"mode\":\"lines+markers\",\"showlegend\":false,\"x\":[9.704807,10.67722452144554],\"y\":[9.260765,7.979730430808904],\"type\":\"scatter\"},{\"line\":{\"color\":\"DarkSlateGrey\",\"width\":1},\"marker\":{\"size\":1,\"line\":{\"color\":\"DarkSlateGrey\",\"width\":2},\"color\":[48.0,48.0,48.0,48.0,48.0,48.0,48.0,48.0,48.0,48.0,48.0,60.0,72.0,60.0,60.0,72.0,72.0,60.0,72.0,72.0,72.0,60.0,60.0,72.0,72.0,60.0,72.0,72.0,60.0,60.0,72.0,72.0,48.0,24.0,48.0,48.0,48.0,24.0,48.0,48.0,24.0,48.0,48.0,48.0,48.0,48.0,48.0,60.0,60.0,48.0,72.0,72.0,72.0,60.0,60.0,48.0,72.0,60.0,60.0,48.0,72.0,72.0,72.0,60.0,60.0,72.0,72.0,60.0,60.0,72.0,72.0,72.0,60.0,72.0]},\"mode\":\"lines+markers\",\"showlegend\":false,\"x\":[13.391838,13.973884992306942],\"y\":[7.3386655,8.750153310296776],\"type\":\"scatter\"},{\"line\":{\"color\":\"DarkSlateGrey\",\"width\":1},\"marker\":{\"size\":1,\"line\":{\"color\":\"DarkSlateGrey\",\"width\":2},\"color\":[48.0,48.0,48.0,48.0,48.0,48.0,48.0,48.0,48.0,48.0,48.0,60.0,72.0,60.0,60.0,72.0,72.0,60.0,72.0,72.0,72.0,60.0,60.0,72.0,72.0,60.0,72.0,72.0,60.0,60.0,72.0,72.0,48.0,24.0,48.0,48.0,48.0,24.0,48.0,48.0,24.0,48.0,48.0,48.0,48.0,48.0,48.0,60.0,60.0,48.0,72.0,72.0,72.0,60.0,60.0,48.0,72.0,60.0,60.0,48.0,72.0,72.0,72.0,60.0,60.0,72.0,72.0,60.0,60.0,72.0,72.0,72.0,60.0,72.0]},\"mode\":\"lines+markers\",\"showlegend\":false,\"x\":[10.566479,10.291850298641123],\"y\":[10.373944,8.96571537532758],\"type\":\"scatter\"},{\"line\":{\"color\":\"DarkSlateGrey\",\"width\":1},\"marker\":{\"size\":1,\"line\":{\"color\":\"DarkSlateGrey\",\"width\":2},\"color\":[48.0,48.0,48.0,48.0,48.0,48.0,48.0,48.0,48.0,48.0,48.0,60.0,72.0,60.0,60.0,72.0,72.0,60.0,72.0,72.0,72.0,60.0,60.0,72.0,72.0,60.0,72.0,72.0,60.0,60.0,72.0,72.0,48.0,24.0,48.0,48.0,48.0,24.0,48.0,48.0,24.0,48.0,48.0,48.0,48.0,48.0,48.0,60.0,60.0,48.0,72.0,72.0,72.0,60.0,60.0,48.0,72.0,60.0,60.0,48.0,72.0,72.0,72.0,60.0,60.0,72.0,72.0,60.0,60.0,72.0,72.0,72.0,60.0,72.0]},\"mode\":\"lines+markers\",\"showlegend\":false,\"x\":[13.277376,13.8672326924782],\"y\":[8.3686075,9.318608840115086],\"type\":\"scatter\"},{\"line\":{\"color\":\"DarkSlateGrey\",\"width\":1},\"marker\":{\"size\":1,\"line\":{\"color\":\"DarkSlateGrey\",\"width\":2},\"color\":[48.0,48.0,48.0,48.0,48.0,48.0,48.0,48.0,48.0,48.0,48.0,60.0,72.0,60.0,60.0,72.0,72.0,60.0,72.0,72.0,72.0,60.0,60.0,72.0,72.0,60.0,72.0,72.0,60.0,60.0,72.0,72.0,48.0,24.0,48.0,48.0,48.0,24.0,48.0,48.0,24.0,48.0,48.0,48.0,48.0,48.0,48.0,60.0,60.0,48.0,72.0,72.0,72.0,60.0,60.0,48.0,72.0,60.0,60.0,48.0,72.0,72.0,72.0,60.0,60.0,72.0,72.0,60.0,60.0,72.0,72.0,72.0,60.0,72.0]},\"mode\":\"lines+markers\",\"showlegend\":false,\"x\":[11.146661,10.876090966068745],\"y\":[8.629356,8.16645731809349],\"type\":\"scatter\"},{\"line\":{\"color\":\"DarkSlateGrey\",\"width\":1},\"marker\":{\"size\":1,\"line\":{\"color\":\"DarkSlateGrey\",\"width\":2},\"color\":[48.0,48.0,48.0,48.0,48.0,48.0,48.0,48.0,48.0,48.0,48.0,60.0,72.0,60.0,60.0,72.0,72.0,60.0,72.0,72.0,72.0,60.0,60.0,72.0,72.0,60.0,72.0,72.0,60.0,60.0,72.0,72.0,48.0,24.0,48.0,48.0,48.0,24.0,48.0,48.0,24.0,48.0,48.0,48.0,48.0,48.0,48.0,60.0,60.0,48.0,72.0,72.0,72.0,60.0,60.0,48.0,72.0,60.0,60.0,48.0,72.0,72.0,72.0,60.0,60.0,72.0,72.0,60.0,60.0,72.0,72.0,72.0,60.0,72.0]},\"mode\":\"lines+markers\",\"showlegend\":false,\"x\":[12.355327,10.76923244400512],\"y\":[10.322425,8.119580951552635],\"type\":\"scatter\"},{\"marker\":{\"color\":[48.0,48.0,48.0,48.0,48.0,48.0,48.0,48.0,48.0,48.0,48.0,60.0,72.0,60.0,60.0,72.0,72.0,60.0,72.0,72.0,72.0,60.0,60.0,72.0,72.0,60.0,72.0,72.0,60.0,60.0,72.0,72.0,48.0,24.0,48.0,48.0,48.0,24.0,48.0,48.0,24.0,48.0,48.0,48.0,48.0,48.0,48.0,60.0,60.0,48.0,72.0,72.0,72.0,60.0,60.0,48.0,72.0,60.0,60.0,48.0,72.0,72.0,72.0,60.0,60.0,72.0,72.0,60.0,60.0,72.0,72.0,72.0,60.0,72.0],\"size\":7,\"line\":{\"color\":\"DarkSlateGrey\",\"width\":2}},\"mode\":\"markers\",\"showlegend\":false,\"x\":[11.113815,13.193277,11.36551,12.275262,11.465577,11.397931,9.014369,10.445036,13.084762,12.5729265,12.530627,10.542673,14.357714,11.568377,9.571724,10.783549,14.246235,13.779974,11.403646,14.87136,14.110971,11.317299,13.648256,9.387027,14.841174,11.01177,11.611861,10.9997635,13.384659,12.761199,11.004806,13.4673395,11.276823,2.7155824,11.280384,11.736194,10.918215,2.347755,10.495303,13.209538,2.5718184,10.888228,11.481734,13.456529,11.04935,10.8213,11.169366,10.637614,13.441044,2.4550478,10.721133,13.196257,10.998121,11.066662,13.855052,2.8291597,11.052477,10.541386,10.090337,2.6270823,10.271494,11.910392,13.4742985,10.175466,9.36597,9.704807,13.391838,10.566479,13.277376,11.146661,12.355327,13.438237,13.645536,11.270695],\"y\":[10.275453,9.613187,10.008437,9.9499035,9.634446,9.302566,10.452098,10.473545,10.21043,10.514854,9.953819,8.764806,9.182938,9.057268,9.554189,7.9557395,9.57484,9.684966,8.426901,9.443645,9.530474,9.487897,8.506605,9.537378,9.16361,8.816903,8.592716,7.823455,9.57302,10.722335,7.781951,7.4712152,10.3449135,6.9326477,9.838772,9.50602,10.162161,6.7369547,9.104143,9.215751,7.092851,10.450801,10.248935,9.0321665,10.404863,10.248566,10.014798,10.116172,10.229832,6.7710013,7.790931,7.4771304,9.863325,9.851558,8.886627,7.098556,9.593743,10.328006,9.349282,7.119021,7.8539495,7.922406,7.2245054,8.155363,10.249665,9.260765,7.3386655,10.373944,8.3686075,8.629356,10.322425,7.296065,8.256078,8.488235],\"type\":\"scatter\"},{\"marker\":{\"color\":[48.0,48.0,48.0,48.0,48.0,48.0,48.0,48.0,48.0,48.0,48.0,60.0,72.0,60.0,60.0,72.0,72.0,60.0,72.0,72.0,72.0,60.0,60.0,72.0,72.0,60.0,72.0,72.0,60.0,60.0,72.0,72.0,48.0,24.0,48.0,48.0,48.0,24.0,48.0,48.0,24.0,48.0,48.0,48.0,48.0,48.0,48.0,60.0,60.0,48.0,72.0,72.0,72.0,60.0,60.0,48.0,72.0,60.0,60.0,48.0,72.0,72.0,72.0,60.0,60.0,72.0,72.0,60.0,60.0,72.0,72.0,72.0,60.0,72.0],\"size\":10,\"symbol\":\"diamond\",\"line\":{\"color\":\"DarkSlateGrey\",\"width\":2}},\"mode\":\"markers\",\"showlegend\":false,\"x\":[12.482991062543608,12.53002723163182,12.45849393492836,12.502442092868884,12.515973444836451,12.480891630016139,12.527631299024424,12.640444391994405,11.940691775286725,12.537889286689099,12.080757897899067,12.145492997406327,12.887482072298162,12.401340976124974,12.543754635279768,11.208657888249295,12.885160070889022,12.25454192175661,12.450628481071977,12.923612352214274,12.88079015443888,13.130731020096285,13.665690862496318,11.244786183673085,12.920687038947857,12.308734365706401,11.482527652730326,11.361412287560583,12.341494903263944,13.658238201043925,11.463265612486532,12.890213542679247,11.207448619148852,2.471670227292634,12.542644371241543,12.550598912770235,10.898517759387392,2.458726477562794,11.358456258754856,12.61071924321136,2.4976462099075762,11.184828144316356,11.216278113908036,12.66116366880005,10.746996420676313,10.872115116037639,11.315322041304988,10.363787683130035,13.981317339849163,2.331352474980598,11.010966621778486,13.785707205156612,10.957489307261683,10.305476073298504,13.747155997726292,2.3818615416784326,10.95339967459998,10.402220314480301,10.52987443660259,2.3955826861889404,10.907489555823112,10.921381665445159,13.682103474435674,10.433011374048458,10.24082455239975,10.67722452144554,13.973884992306942,10.291850298641123,13.8672326924782,10.876090966068745,10.76923244400512,14.103935667439469,13.97563465479217,11.004021431752589],\"y\":[10.004631585314542,9.850936633574928,9.992034390314734,9.797278632655201,10.085133913551385,10.011774046765513,10.097800215049267,10.204799784240643,9.352846157434865,9.842975644656342,9.51606505616264,9.568306589074865,8.829610849701513,9.64949035945086,9.780108465012226,8.566298491665396,8.985059771661001,9.043484668173573,9.103630578769923,9.500403142917238,9.595574191235213,9.75309441463724,9.418404584664625,8.580797178791185,8.881125025851613,9.663046736567136,8.661345317066155,8.602999648723648,9.631862997400416,9.382882013807844,8.688295124666658,8.906063378229117,10.148061898700817,6.905503937850509,9.839248187273945,9.861251184678846,9.853340288347507,6.818162112047188,10.112221515615609,9.897109171073058,6.8597219310909585,9.999884971735924,10.064313909966566,9.921279520159322,9.712600204597184,9.946424435735914,10.10809928691341,8.99134026426245,9.400749270251733,6.804338451944885,8.319835252177445,8.710975581708762,8.270110424643802,9.003991086399271,9.309724715714989,6.970411031467816,8.303020712682864,9.021578750064386,9.32009879372896,7.01932573870654,8.1438054354264,8.240997105642307,8.65624742518368,9.182046649474687,9.01825794872516,7.979730430808904,8.750153310296776,8.96571537532758,9.318608840115086,8.16645731809349,8.119580951552635,8.80031034443677,9.39239873555316,8.31201640992534],\"type\":\"scatter\"}],                        {\"template\":{\"data\":{\"histogram2dcontour\":[{\"type\":\"histogram2dcontour\",\"colorbar\":{\"outlinewidth\":0,\"ticks\":\"\"},\"colorscale\":[[0.0,\"#0d0887\"],[0.1111111111111111,\"#46039f\"],[0.2222222222222222,\"#7201a8\"],[0.3333333333333333,\"#9c179e\"],[0.4444444444444444,\"#bd3786\"],[0.5555555555555556,\"#d8576b\"],[0.6666666666666666,\"#ed7953\"],[0.7777777777777778,\"#fb9f3a\"],[0.8888888888888888,\"#fdca26\"],[1.0,\"#f0f921\"]]}],\"choropleth\":[{\"type\":\"choropleth\",\"colorbar\":{\"outlinewidth\":0,\"ticks\":\"\"}}],\"histogram2d\":[{\"type\":\"histogram2d\",\"colorbar\":{\"outlinewidth\":0,\"ticks\":\"\"},\"colorscale\":[[0.0,\"#0d0887\"],[0.1111111111111111,\"#46039f\"],[0.2222222222222222,\"#7201a8\"],[0.3333333333333333,\"#9c179e\"],[0.4444444444444444,\"#bd3786\"],[0.5555555555555556,\"#d8576b\"],[0.6666666666666666,\"#ed7953\"],[0.7777777777777778,\"#fb9f3a\"],[0.8888888888888888,\"#fdca26\"],[1.0,\"#f0f921\"]]}],\"heatmap\":[{\"type\":\"heatmap\",\"colorbar\":{\"outlinewidth\":0,\"ticks\":\"\"},\"colorscale\":[[0.0,\"#0d0887\"],[0.1111111111111111,\"#46039f\"],[0.2222222222222222,\"#7201a8\"],[0.3333333333333333,\"#9c179e\"],[0.4444444444444444,\"#bd3786\"],[0.5555555555555556,\"#d8576b\"],[0.6666666666666666,\"#ed7953\"],[0.7777777777777778,\"#fb9f3a\"],[0.8888888888888888,\"#fdca26\"],[1.0,\"#f0f921\"]]}],\"heatmapgl\":[{\"type\":\"heatmapgl\",\"colorbar\":{\"outlinewidth\":0,\"ticks\":\"\"},\"colorscale\":[[0.0,\"#0d0887\"],[0.1111111111111111,\"#46039f\"],[0.2222222222222222,\"#7201a8\"],[0.3333333333333333,\"#9c179e\"],[0.4444444444444444,\"#bd3786\"],[0.5555555555555556,\"#d8576b\"],[0.6666666666666666,\"#ed7953\"],[0.7777777777777778,\"#fb9f3a\"],[0.8888888888888888,\"#fdca26\"],[1.0,\"#f0f921\"]]}],\"contourcarpet\":[{\"type\":\"contourcarpet\",\"colorbar\":{\"outlinewidth\":0,\"ticks\":\"\"}}],\"contour\":[{\"type\":\"contour\",\"colorbar\":{\"outlinewidth\":0,\"ticks\":\"\"},\"colorscale\":[[0.0,\"#0d0887\"],[0.1111111111111111,\"#46039f\"],[0.2222222222222222,\"#7201a8\"],[0.3333333333333333,\"#9c179e\"],[0.4444444444444444,\"#bd3786\"],[0.5555555555555556,\"#d8576b\"],[0.6666666666666666,\"#ed7953\"],[0.7777777777777778,\"#fb9f3a\"],[0.8888888888888888,\"#fdca26\"],[1.0,\"#f0f921\"]]}],\"surface\":[{\"type\":\"surface\",\"colorbar\":{\"outlinewidth\":0,\"ticks\":\"\"},\"colorscale\":[[0.0,\"#0d0887\"],[0.1111111111111111,\"#46039f\"],[0.2222222222222222,\"#7201a8\"],[0.3333333333333333,\"#9c179e\"],[0.4444444444444444,\"#bd3786\"],[0.5555555555555556,\"#d8576b\"],[0.6666666666666666,\"#ed7953\"],[0.7777777777777778,\"#fb9f3a\"],[0.8888888888888888,\"#fdca26\"],[1.0,\"#f0f921\"]]}],\"mesh3d\":[{\"type\":\"mesh3d\",\"colorbar\":{\"outlinewidth\":0,\"ticks\":\"\"}}],\"scatter\":[{\"fillpattern\":{\"fillmode\":\"overlay\",\"size\":10,\"solidity\":0.2},\"type\":\"scatter\"}],\"parcoords\":[{\"type\":\"parcoords\",\"line\":{\"colorbar\":{\"outlinewidth\":0,\"ticks\":\"\"}}}],\"scatterpolargl\":[{\"type\":\"scatterpolargl\",\"marker\":{\"colorbar\":{\"outlinewidth\":0,\"ticks\":\"\"}}}],\"bar\":[{\"error_x\":{\"color\":\"#2a3f5f\"},\"error_y\":{\"color\":\"#2a3f5f\"},\"marker\":{\"line\":{\"color\":\"#E5ECF6\",\"width\":0.5},\"pattern\":{\"fillmode\":\"overlay\",\"size\":10,\"solidity\":0.2}},\"type\":\"bar\"}],\"scattergeo\":[{\"type\":\"scattergeo\",\"marker\":{\"colorbar\":{\"outlinewidth\":0,\"ticks\":\"\"}}}],\"scatterpolar\":[{\"type\":\"scatterpolar\",\"marker\":{\"colorbar\":{\"outlinewidth\":0,\"ticks\":\"\"}}}],\"histogram\":[{\"marker\":{\"pattern\":{\"fillmode\":\"overlay\",\"size\":10,\"solidity\":0.2}},\"type\":\"histogram\"}],\"scattergl\":[{\"type\":\"scattergl\",\"marker\":{\"colorbar\":{\"outlinewidth\":0,\"ticks\":\"\"}}}],\"scatter3d\":[{\"type\":\"scatter3d\",\"line\":{\"colorbar\":{\"outlinewidth\":0,\"ticks\":\"\"}},\"marker\":{\"colorbar\":{\"outlinewidth\":0,\"ticks\":\"\"}}}],\"scattermapbox\":[{\"type\":\"scattermapbox\",\"marker\":{\"colorbar\":{\"outlinewidth\":0,\"ticks\":\"\"}}}],\"scatterternary\":[{\"type\":\"scatterternary\",\"marker\":{\"colorbar\":{\"outlinewidth\":0,\"ticks\":\"\"}}}],\"scattercarpet\":[{\"type\":\"scattercarpet\",\"marker\":{\"colorbar\":{\"outlinewidth\":0,\"ticks\":\"\"}}}],\"carpet\":[{\"aaxis\":{\"endlinecolor\":\"#2a3f5f\",\"gridcolor\":\"white\",\"linecolor\":\"white\",\"minorgridcolor\":\"white\",\"startlinecolor\":\"#2a3f5f\"},\"baxis\":{\"endlinecolor\":\"#2a3f5f\",\"gridcolor\":\"white\",\"linecolor\":\"white\",\"minorgridcolor\":\"white\",\"startlinecolor\":\"#2a3f5f\"},\"type\":\"carpet\"}],\"table\":[{\"cells\":{\"fill\":{\"color\":\"#EBF0F8\"},\"line\":{\"color\":\"white\"}},\"header\":{\"fill\":{\"color\":\"#C8D4E3\"},\"line\":{\"color\":\"white\"}},\"type\":\"table\"}],\"barpolar\":[{\"marker\":{\"line\":{\"color\":\"#E5ECF6\",\"width\":0.5},\"pattern\":{\"fillmode\":\"overlay\",\"size\":10,\"solidity\":0.2}},\"type\":\"barpolar\"}],\"pie\":[{\"automargin\":true,\"type\":\"pie\"}]},\"layout\":{\"autotypenumbers\":\"strict\",\"colorway\":[\"#636efa\",\"#EF553B\",\"#00cc96\",\"#ab63fa\",\"#FFA15A\",\"#19d3f3\",\"#FF6692\",\"#B6E880\",\"#FF97FF\",\"#FECB52\"],\"font\":{\"color\":\"#2a3f5f\"},\"hovermode\":\"closest\",\"hoverlabel\":{\"align\":\"left\"},\"paper_bgcolor\":\"white\",\"plot_bgcolor\":\"#E5ECF6\",\"polar\":{\"bgcolor\":\"#E5ECF6\",\"angularaxis\":{\"gridcolor\":\"white\",\"linecolor\":\"white\",\"ticks\":\"\"},\"radialaxis\":{\"gridcolor\":\"white\",\"linecolor\":\"white\",\"ticks\":\"\"}},\"ternary\":{\"bgcolor\":\"#E5ECF6\",\"aaxis\":{\"gridcolor\":\"white\",\"linecolor\":\"white\",\"ticks\":\"\"},\"baxis\":{\"gridcolor\":\"white\",\"linecolor\":\"white\",\"ticks\":\"\"},\"caxis\":{\"gridcolor\":\"white\",\"linecolor\":\"white\",\"ticks\":\"\"}},\"coloraxis\":{\"colorbar\":{\"outlinewidth\":0,\"ticks\":\"\"}},\"colorscale\":{\"sequential\":[[0.0,\"#0d0887\"],[0.1111111111111111,\"#46039f\"],[0.2222222222222222,\"#7201a8\"],[0.3333333333333333,\"#9c179e\"],[0.4444444444444444,\"#bd3786\"],[0.5555555555555556,\"#d8576b\"],[0.6666666666666666,\"#ed7953\"],[0.7777777777777778,\"#fb9f3a\"],[0.8888888888888888,\"#fdca26\"],[1.0,\"#f0f921\"]],\"sequentialminus\":[[0.0,\"#0d0887\"],[0.1111111111111111,\"#46039f\"],[0.2222222222222222,\"#7201a8\"],[0.3333333333333333,\"#9c179e\"],[0.4444444444444444,\"#bd3786\"],[0.5555555555555556,\"#d8576b\"],[0.6666666666666666,\"#ed7953\"],[0.7777777777777778,\"#fb9f3a\"],[0.8888888888888888,\"#fdca26\"],[1.0,\"#f0f921\"]],\"diverging\":[[0,\"#8e0152\"],[0.1,\"#c51b7d\"],[0.2,\"#de77ae\"],[0.3,\"#f1b6da\"],[0.4,\"#fde0ef\"],[0.5,\"#f7f7f7\"],[0.6,\"#e6f5d0\"],[0.7,\"#b8e186\"],[0.8,\"#7fbc41\"],[0.9,\"#4d9221\"],[1,\"#276419\"]]},\"xaxis\":{\"gridcolor\":\"white\",\"linecolor\":\"white\",\"ticks\":\"\",\"title\":{\"standoff\":15},\"zerolinecolor\":\"white\",\"automargin\":true,\"zerolinewidth\":2},\"yaxis\":{\"gridcolor\":\"white\",\"linecolor\":\"white\",\"ticks\":\"\",\"title\":{\"standoff\":15},\"zerolinecolor\":\"white\",\"automargin\":true,\"zerolinewidth\":2},\"scene\":{\"xaxis\":{\"backgroundcolor\":\"#E5ECF6\",\"gridcolor\":\"white\",\"linecolor\":\"white\",\"showbackground\":true,\"ticks\":\"\",\"zerolinecolor\":\"white\",\"gridwidth\":2},\"yaxis\":{\"backgroundcolor\":\"#E5ECF6\",\"gridcolor\":\"white\",\"linecolor\":\"white\",\"showbackground\":true,\"ticks\":\"\",\"zerolinecolor\":\"white\",\"gridwidth\":2},\"zaxis\":{\"backgroundcolor\":\"#E5ECF6\",\"gridcolor\":\"white\",\"linecolor\":\"white\",\"showbackground\":true,\"ticks\":\"\",\"zerolinecolor\":\"white\",\"gridwidth\":2}},\"shapedefaults\":{\"line\":{\"color\":\"#2a3f5f\"}},\"annotationdefaults\":{\"arrowcolor\":\"#2a3f5f\",\"arrowhead\":0,\"arrowwidth\":1},\"geo\":{\"bgcolor\":\"white\",\"landcolor\":\"#E5ECF6\",\"subunitcolor\":\"white\",\"showland\":true,\"showlakes\":true,\"lakecolor\":\"white\"},\"title\":{\"x\":0.05},\"mapbox\":{\"style\":\"light\"}}},\"font\":{\"family\":\"Arial\",\"size\":14,\"color\":\"Black\"},\"xaxis\":{\"title\":{\"text\":\"UMAP 1\"}},\"yaxis\":{\"title\":{\"text\":\"UMAP 2\"}},\"legend\":{\"title\":{\"text\":\"stage (hpf)\"}}},                        {\"responsive\": true}                    ).then(function(){\n",
       "                            \n",
       "var gd = document.getElementById('c7209077-8986-40a6-a10a-00517df52434');\n",
       "var x = new MutationObserver(function (mutations, observer) {{\n",
       "        var display = window.getComputedStyle(gd).display;\n",
       "        if (!display || display === 'none') {{\n",
       "            console.log([gd, 'removed!']);\n",
       "            Plotly.purge(gd);\n",
       "            observer.disconnect();\n",
       "        }}\n",
       "}});\n",
       "\n",
       "// Listen for the removal of the full notebook cells\n",
       "var notebookContainer = gd.closest('#notebook-container');\n",
       "if (notebookContainer) {{\n",
       "    x.observe(notebookContainer, {childList: true});\n",
       "}}\n",
       "\n",
       "// Listen for the clearing of the current output cell\n",
       "var outputEl = gd.closest('.output');\n",
       "if (outputEl) {{\n",
       "    x.observe(outputEl, {childList: true});\n",
       "}}\n",
       "\n",
       "                        })                };                });            </script>        </div>"
      ]
     },
     "metadata": {},
     "output_type": "display_data"
    }
   ],
   "source": [
    "color_vec_u2 = master_df_ref.loc[test_indices, \"predicted_stage_hpf\"].to_numpy()\n",
    "\n",
    "# fig = go.Figure()\n",
    "\n",
    "# plot0 = 0\n",
    "# plot1 = 1\n",
    "\n",
    "# for r in range(Y_test.shape[0]):\n",
    "#     data = np.concatenate((Y_test_arr[r, :].reshape((1,3)), Y_test_pd[r, :].reshape((1,3))), axis=0)\n",
    "\n",
    "#     fig.add_trace(go.Scatter(x=data[:, plot0], y=data[:, plot1], mode=\"lines+markers\", \n",
    "#                                line=dict(color='DarkSlateGrey', width=1), marker=dict(size=1),\n",
    "#                             showlegend=False))\n",
    "    \n",
    "# fig.add_trace(go.Scatter(x=Y_test_arr[:, plot0], y=Y_test_arr[:, plot1], mode=\"markers\", \n",
    "#                          marker=dict(color=color_vec_u, size=5), showlegend=False))\n",
    "# fig.add_trace(go.Scatter(x=Y_test_pd[:, plot0], y=Y_test_pd[:, plot1], mode=\"markers\", \n",
    "#                          marker=dict(color=color_vec_u2, size=10, symbol=\"diamond\"), showlegend=False))\n",
    "\n",
    "fig.update_traces(marker=dict( \n",
    "                              color=color_vec_u2)\n",
    "                 )\n",
    "    \n",
    "fig.show()\n",
    "fig.write_image(os.path.join(figure_dir, \"umap_2d_pd_stage.png\"), scale=2)"
   ]
  },
  {
   "cell_type": "code",
   "execution_count": null,
   "id": "bd0b6ede",
   "metadata": {},
   "outputs": [],
   "source": []
  }
 ],
 "metadata": {
  "kernelspec": {
   "display_name": "Python 3 (ipykernel)",
   "language": "python",
   "name": "python3"
  },
  "language_info": {
   "codemirror_mode": {
    "name": "ipython",
    "version": 3
   },
   "file_extension": ".py",
   "mimetype": "text/x-python",
   "name": "python",
   "nbconvert_exporter": "python",
   "pygments_lexer": "ipython3",
   "version": "3.10.8"
  }
 },
 "nbformat": 4,
 "nbformat_minor": 5
}
