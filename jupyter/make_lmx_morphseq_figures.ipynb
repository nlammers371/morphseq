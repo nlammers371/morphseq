{
 "cells": [
  {
   "cell_type": "code",
   "execution_count": 1,
   "id": "61a7db01",
   "metadata": {},
   "outputs": [],
   "source": [
    "import plotly.express as px\n",
    "import pandas as pd\n",
    "import numpy as np\n",
    "import umap.umap_ as umap\n",
    "import os"
   ]
  },
  {
   "cell_type": "code",
   "execution_count": 20,
   "id": "ebb1768c",
   "metadata": {},
   "outputs": [],
   "source": [
    "read_dir = \"/Users/nick/Cole Trapnell's Lab Dropbox/Nick Lammers/Nick/morphseq/morphseq_analyses/lmx1b\"\n",
    "figure_dir = \"/Users/nick/Cole Trapnell's Lab Dropbox/Nick Lammers/Nick/slides/20240207/\"\n",
    "master_df_ref = pd.read_csv(os.path.join(read_dir, \"morphseq_df.csv\"), index_col=0)\n",
    "hooke_latent_df = pd.read_csv(os.path.join(read_dir, \"hooke_latent_df_clean.csv\"))\n",
    "morph_df = pd.read_csv(os.path.join(read_dir, \"morph_latent_df_clean.csv\"))"
   ]
  },
  {
   "cell_type": "markdown",
   "id": "a7668c83",
   "metadata": {},
   "source": [
    "#### Can hooke latent space predict distance morphological distance from WT reference? "
   ]
  },
  {
   "cell_type": "code",
   "execution_count": 6,
   "id": "992cfbcd",
   "metadata": {},
   "outputs": [],
   "source": [
    "from sklearn.neural_network import MLPRegressor\n",
    "\n",
    "n_train = 100\n",
    "np.random.seed(314)\n",
    "option_vec = master_df_ref.index\n",
    "train_indices = np.random.choice(option_vec, n_train, replace=False)\n",
    "test_indices = np.asarray([i for i in option_vec if i not in train_indices])\n",
    "\n",
    "# get test and train datasets\n",
    "Y_train = master_df_ref.loc[train_indices, \"wik_dist_morph\"]\n",
    "nan_train_indices = np.isnan(Y_train)\n",
    "\n",
    "Y_train = Y_train[~nan_train_indices]\n",
    "Y_test = master_df_ref.loc[test_indices, \"wik_dist_morph\"]\n",
    "nan_test_indices = np.isnan(Y_test)\n",
    "Y_test = Y_test[~nan_test_indices]\n",
    "\n",
    "X_train = master_df_ref.loc[train_indices, [\"UMAP_hooke_00_3\", \"UMAP_hooke_01_3\", \"UMAP_hooke_02_3\"]]\n",
    "X_train = X_train.loc[~nan_train_indices, :]\n",
    "\n",
    "X_test = master_df_ref.loc[test_indices, [\"UMAP_hooke_00_3\", \"UMAP_hooke_01_3\", \"UMAP_hooke_02_3\"]]\n",
    "X_test = X_test.loc[~nan_test_indices, :]"
   ]
  },
  {
   "cell_type": "code",
   "execution_count": null,
   "id": "e4db175c",
   "metadata": {},
   "outputs": [],
   "source": [
    "# fit model\n",
    "regr_dist = MLPRegressor(random_state=1, max_iter=5000, hidden_layer_sizes=(5000,))\n",
    "regr_dist.fit(X_train, Y_train)\n",
    "\n",
    "# get model scores\n",
    "reg_score_train = regr_dist.score(X_train, Y_train)\n",
    "reg_score_test = regr_dist.score(X_test, Y_test)\n",
    "\n",
    "print(reg_score_train)\n",
    "print(reg_score_test)"
   ]
  },
  {
   "cell_type": "code",
   "execution_count": 9,
   "id": "c0d0d1b9",
   "metadata": {},
   "outputs": [
    {
     "data": {
      "text/html": [
       "<div>\n",
       "<style scoped>\n",
       "    .dataframe tbody tr th:only-of-type {\n",
       "        vertical-align: middle;\n",
       "    }\n",
       "\n",
       "    .dataframe tbody tr th {\n",
       "        vertical-align: top;\n",
       "    }\n",
       "\n",
       "    .dataframe thead th {\n",
       "        text-align: right;\n",
       "    }\n",
       "</style>\n",
       "<table border=\"1\" class=\"dataframe\">\n",
       "  <thead>\n",
       "    <tr style=\"text-align: right;\">\n",
       "      <th></th>\n",
       "      <th>morph_wik_dist_pd</th>\n",
       "      <th>morph_wik_dist_actual</th>\n",
       "      <th>master_perturbation</th>\n",
       "    </tr>\n",
       "  </thead>\n",
       "  <tbody>\n",
       "    <tr>\n",
       "      <th>0</th>\n",
       "      <td>2.022837</td>\n",
       "      <td>2.209699</td>\n",
       "      <td>lmx1b</td>\n",
       "    </tr>\n",
       "    <tr>\n",
       "      <th>1</th>\n",
       "      <td>0.675039</td>\n",
       "      <td>0.873535</td>\n",
       "      <td>wik-inj-ctrl</td>\n",
       "    </tr>\n",
       "    <tr>\n",
       "      <th>2</th>\n",
       "      <td>2.067292</td>\n",
       "      <td>2.068623</td>\n",
       "      <td>lmx1b</td>\n",
       "    </tr>\n",
       "    <tr>\n",
       "      <th>3</th>\n",
       "      <td>0.667817</td>\n",
       "      <td>0.755843</td>\n",
       "      <td>wik-inj-ctrl</td>\n",
       "    </tr>\n",
       "    <tr>\n",
       "      <th>4</th>\n",
       "      <td>1.886633</td>\n",
       "      <td>2.038143</td>\n",
       "      <td>lmx1b</td>\n",
       "    </tr>\n",
       "    <tr>\n",
       "      <th>5</th>\n",
       "      <td>2.100224</td>\n",
       "      <td>1.918916</td>\n",
       "      <td>lmx1b</td>\n",
       "    </tr>\n",
       "  </tbody>\n",
       "</table>\n",
       "</div>"
      ],
      "text/plain": [
       "   morph_wik_dist_pd  morph_wik_dist_actual master_perturbation\n",
       "0           2.022837               2.209699               lmx1b\n",
       "1           0.675039               0.873535        wik-inj-ctrl\n",
       "2           2.067292               2.068623               lmx1b\n",
       "3           0.667817               0.755843        wik-inj-ctrl\n",
       "4           1.886633               2.038143               lmx1b\n",
       "5           2.100224               1.918916               lmx1b"
      ]
     },
     "execution_count": 9,
     "metadata": {},
     "output_type": "execute_result"
    }
   ],
   "source": [
    "Y_test_pd = regr_dist.predict(X_test)\n",
    "\n",
    "res_df_test = pd.DataFrame(Y_test_pd[:, np.newaxis], columns=[\"morph_wik_dist_pd\"])\n",
    "res_df_test[\"morph_wik_dist_actual\"] = Y_test.to_numpy()\n",
    "\n",
    "pert = master_df_ref.loc[test_indices, [\"master_perturbation\"]].copy()\n",
    "pert = pert.loc[~nan_test_indices, :].to_numpy()\n",
    "                      \n",
    "                      \n",
    "res_df_test[\"master_perturbation\"] = pert\n",
    "\n",
    "res_df_test.head(6)"
   ]
  },
  {
   "cell_type": "code",
   "execution_count": 30,
   "id": "bcba611d",
   "metadata": {},
   "outputs": [
    {
     "data": {
      "application/vnd.plotly.v1+json": {
       "config": {
        "plotlyServerURL": "https://plot.ly"
       },
       "data": [
        {
         "hovertemplate": "perturbation=lmx1b<br>predicted distance from WT reference=%{x}<br>actual distance from WT reference=%{y}<extra></extra>",
         "legendgroup": "lmx1b",
         "marker": {
          "color": "#636efa",
          "line": {
           "color": "DarkSlateGrey",
           "width": 1
          },
          "opacity": 0.8,
          "size": 10,
          "symbol": "circle"
         },
         "mode": "markers",
         "name": "lmx1b",
         "orientation": "v",
         "showlegend": true,
         "type": "scatter",
         "x": [
          2.022837205338475,
          2.0672918267865024,
          1.8866327336480277,
          2.100223653412616,
          1.8873962370696553,
          1.8822722092767041,
          2.734795744975039,
          2.4320268674958436,
          2.5717874818143303,
          4.083273346036233,
          2.491159916434698,
          1.8203318492425553,
          4.083998895639476,
          2.6922830806950606,
          3.3954052742574827,
          3.8019301539791996,
          2.507635100422859,
          3.4404176197986542,
          1.7208223745037834,
          1.8638959630928513,
          0.9463437213036981,
          0.8425769134825111,
          1.5535088172508662,
          1.6627525605964284,
          2.5168879766278023,
          1.0539495119703044,
          4.070445799548852,
          3.8882985972740016,
          3.886116826670981,
          4.068066865004308,
          3.9708310201890704,
          4.083481612971448,
          4.1443003283425925,
          3.891719673578444,
          3.9120698892886137,
          4.16498301142307,
          4.101343296905257,
          3.685779026144484,
          4.045343608285869,
          3.7654240976553766,
          3.9237149239548046,
          3.88300116351751
         ],
         "xaxis": "x",
         "y": [
          2.209698815665938,
          2.068622641784855,
          2.038142906475023,
          1.9189162706015752,
          4.228729672263047,
          2.9217128594265054,
          3.595307770674135,
          2.814456345908446,
          4.669772576594772,
          4.014623723535782,
          3.432424629282793,
          2.687861822154056,
          5.4884992553017105,
          3.3944315020397116,
          2.8733726372956343,
          3.78483181889138,
          1.3360617596199789,
          3.770914276062538,
          2.1030879949412067,
          2.4307643284415623,
          2.5482625314967473,
          2.342434211784016,
          1.90179668934838,
          2.111554899997382,
          2.5579530568589304,
          2.3855787870629954,
          3.4116546339013523,
          4.001993738365234,
          3.5435712951261924,
          2.8761335058452286,
          3.421106746630833,
          4.04244231794649,
          3.9176927905145034,
          4.421424515130376,
          3.078029152050218,
          4.07847429383447,
          5.007678202717309,
          5.014656338214986,
          4.058379541338493,
          3.8698950712804097,
          2.8070108430166236,
          3.7219926612700784
         ],
         "yaxis": "y"
        },
        {
         "hovertemplate": "perturbation=wik-inj-ctrl<br>predicted distance from WT reference=%{x}<br>actual distance from WT reference=%{y}<extra></extra>",
         "legendgroup": "wik-inj-ctrl",
         "marker": {
          "color": "#EF553B",
          "line": {
           "color": "DarkSlateGrey",
           "width": 1
          },
          "opacity": 0.8,
          "size": 10,
          "symbol": "circle"
         },
         "mode": "markers",
         "name": "wik-inj-ctrl",
         "orientation": "v",
         "showlegend": true,
         "type": "scatter",
         "x": [
          0.6750391158893131,
          0.6678173499707951,
          0.6695890090875342,
          2.4304153445753105,
          1.0262984099129944,
          1.2337521029383804,
          1.439316129312513,
          1.306444932229046,
          1.3407367839649897,
          1.4211997820305649,
          1.3342279532750796,
          1.8650459968521582,
          1.5805824473385894,
          1.8578431543959597,
          1.7583719171476537,
          1.5053591432544216,
          1.7140162769864709,
          1.3478603000616318
         ],
         "xaxis": "x",
         "y": [
          0.8735349576442115,
          0.7558431175120526,
          0.3866427195273,
          0.8101272431433859,
          2.077189255452445,
          1.6220308147355962,
          2.245949435953581,
          1.2058498028316875,
          1.5341047434876205,
          1.9001125195554425,
          0.7845878911642565,
          2.362493799076193,
          0.8509546723160858,
          2.5099689816016366,
          2.424069784431629,
          2.2282892593116896,
          2.5620473496715,
          2.2623586068194608
         ],
         "yaxis": "y"
        },
        {
         "hovertemplate": "perturbation=tbxta<br>predicted distance from WT reference=%{x}<br>actual distance from WT reference=%{y}<extra></extra>",
         "legendgroup": "tbxta",
         "marker": {
          "color": "#00cc96",
          "line": {
           "color": "DarkSlateGrey",
           "width": 1
          },
          "opacity": 0.8,
          "size": 10,
          "symbol": "circle"
         },
         "mode": "markers",
         "name": "tbxta",
         "orientation": "v",
         "showlegend": true,
         "type": "scatter",
         "x": [
          13.262090987834533,
          13.532429142861412,
          13.625008583726165
         ],
         "xaxis": "x",
         "y": [
          13.597416638651389,
          13.27272387904246,
          13.328263271431489
         ],
         "yaxis": "y"
        },
        {
         "line": {
          "color": "gray",
          "dash": "dot",
          "width": 1
         },
         "mode": "lines",
         "showlegend": false,
         "type": "scatter",
         "x": [
          -1,
          -0.6734693877551021,
          -0.34693877551020413,
          -0.020408163265306145,
          0.30612244897959173,
          0.6326530612244896,
          0.9591836734693877,
          1.2857142857142856,
          1.6122448979591835,
          1.9387755102040813,
          2.265306122448979,
          2.591836734693877,
          2.9183673469387754,
          3.244897959183673,
          3.571428571428571,
          3.8979591836734686,
          4.224489795918367,
          4.551020408163265,
          4.877551020408163,
          5.204081632653061,
          5.530612244897958,
          5.857142857142857,
          6.183673469387754,
          6.5102040816326525,
          6.836734693877551,
          7.163265306122449,
          7.489795918367346,
          7.816326530612244,
          8.142857142857142,
          8.46938775510204,
          8.795918367346937,
          9.122448979591836,
          9.448979591836734,
          9.775510204081632,
          10.10204081632653,
          10.428571428571427,
          10.755102040816325,
          11.081632653061224,
          11.408163265306122,
          11.734693877551019,
          12.061224489795917,
          12.387755102040815,
          12.714285714285714,
          13.040816326530612,
          13.367346938775508,
          13.693877551020407,
          14.020408163265305,
          14.346938775510203,
          14.673469387755102,
          15
         ],
         "y": [
          -1,
          -0.6734693877551021,
          -0.34693877551020413,
          -0.020408163265306145,
          0.30612244897959173,
          0.6326530612244896,
          0.9591836734693877,
          1.2857142857142856,
          1.6122448979591835,
          1.9387755102040813,
          2.265306122448979,
          2.591836734693877,
          2.9183673469387754,
          3.244897959183673,
          3.571428571428571,
          3.8979591836734686,
          4.224489795918367,
          4.551020408163265,
          4.877551020408163,
          5.204081632653061,
          5.530612244897958,
          5.857142857142857,
          6.183673469387754,
          6.5102040816326525,
          6.836734693877551,
          7.163265306122449,
          7.489795918367346,
          7.816326530612244,
          8.142857142857142,
          8.46938775510204,
          8.795918367346937,
          9.122448979591836,
          9.448979591836734,
          9.775510204081632,
          10.10204081632653,
          10.428571428571427,
          10.755102040816325,
          11.081632653061224,
          11.408163265306122,
          11.734693877551019,
          12.061224489795917,
          12.387755102040815,
          12.714285714285714,
          13.040816326530612,
          13.367346938775508,
          13.693877551020407,
          14.020408163265305,
          14.346938775510203,
          14.673469387755102,
          15
         ]
        }
       ],
       "layout": {
        "legend": {
         "title": {
          "text": "perturbation"
         },
         "tracegroupgap": 0
        },
        "margin": {
         "t": 60
        },
        "template": {
         "data": {
          "bar": [
           {
            "error_x": {
             "color": "#2a3f5f"
            },
            "error_y": {
             "color": "#2a3f5f"
            },
            "marker": {
             "line": {
              "color": "#E5ECF6",
              "width": 0.5
             },
             "pattern": {
              "fillmode": "overlay",
              "size": 10,
              "solidity": 0.2
             }
            },
            "type": "bar"
           }
          ],
          "barpolar": [
           {
            "marker": {
             "line": {
              "color": "#E5ECF6",
              "width": 0.5
             },
             "pattern": {
              "fillmode": "overlay",
              "size": 10,
              "solidity": 0.2
             }
            },
            "type": "barpolar"
           }
          ],
          "carpet": [
           {
            "aaxis": {
             "endlinecolor": "#2a3f5f",
             "gridcolor": "white",
             "linecolor": "white",
             "minorgridcolor": "white",
             "startlinecolor": "#2a3f5f"
            },
            "baxis": {
             "endlinecolor": "#2a3f5f",
             "gridcolor": "white",
             "linecolor": "white",
             "minorgridcolor": "white",
             "startlinecolor": "#2a3f5f"
            },
            "type": "carpet"
           }
          ],
          "choropleth": [
           {
            "colorbar": {
             "outlinewidth": 0,
             "ticks": ""
            },
            "type": "choropleth"
           }
          ],
          "contour": [
           {
            "colorbar": {
             "outlinewidth": 0,
             "ticks": ""
            },
            "colorscale": [
             [
              0,
              "#0d0887"
             ],
             [
              0.1111111111111111,
              "#46039f"
             ],
             [
              0.2222222222222222,
              "#7201a8"
             ],
             [
              0.3333333333333333,
              "#9c179e"
             ],
             [
              0.4444444444444444,
              "#bd3786"
             ],
             [
              0.5555555555555556,
              "#d8576b"
             ],
             [
              0.6666666666666666,
              "#ed7953"
             ],
             [
              0.7777777777777778,
              "#fb9f3a"
             ],
             [
              0.8888888888888888,
              "#fdca26"
             ],
             [
              1,
              "#f0f921"
             ]
            ],
            "type": "contour"
           }
          ],
          "contourcarpet": [
           {
            "colorbar": {
             "outlinewidth": 0,
             "ticks": ""
            },
            "type": "contourcarpet"
           }
          ],
          "heatmap": [
           {
            "colorbar": {
             "outlinewidth": 0,
             "ticks": ""
            },
            "colorscale": [
             [
              0,
              "#0d0887"
             ],
             [
              0.1111111111111111,
              "#46039f"
             ],
             [
              0.2222222222222222,
              "#7201a8"
             ],
             [
              0.3333333333333333,
              "#9c179e"
             ],
             [
              0.4444444444444444,
              "#bd3786"
             ],
             [
              0.5555555555555556,
              "#d8576b"
             ],
             [
              0.6666666666666666,
              "#ed7953"
             ],
             [
              0.7777777777777778,
              "#fb9f3a"
             ],
             [
              0.8888888888888888,
              "#fdca26"
             ],
             [
              1,
              "#f0f921"
             ]
            ],
            "type": "heatmap"
           }
          ],
          "heatmapgl": [
           {
            "colorbar": {
             "outlinewidth": 0,
             "ticks": ""
            },
            "colorscale": [
             [
              0,
              "#0d0887"
             ],
             [
              0.1111111111111111,
              "#46039f"
             ],
             [
              0.2222222222222222,
              "#7201a8"
             ],
             [
              0.3333333333333333,
              "#9c179e"
             ],
             [
              0.4444444444444444,
              "#bd3786"
             ],
             [
              0.5555555555555556,
              "#d8576b"
             ],
             [
              0.6666666666666666,
              "#ed7953"
             ],
             [
              0.7777777777777778,
              "#fb9f3a"
             ],
             [
              0.8888888888888888,
              "#fdca26"
             ],
             [
              1,
              "#f0f921"
             ]
            ],
            "type": "heatmapgl"
           }
          ],
          "histogram": [
           {
            "marker": {
             "pattern": {
              "fillmode": "overlay",
              "size": 10,
              "solidity": 0.2
             }
            },
            "type": "histogram"
           }
          ],
          "histogram2d": [
           {
            "colorbar": {
             "outlinewidth": 0,
             "ticks": ""
            },
            "colorscale": [
             [
              0,
              "#0d0887"
             ],
             [
              0.1111111111111111,
              "#46039f"
             ],
             [
              0.2222222222222222,
              "#7201a8"
             ],
             [
              0.3333333333333333,
              "#9c179e"
             ],
             [
              0.4444444444444444,
              "#bd3786"
             ],
             [
              0.5555555555555556,
              "#d8576b"
             ],
             [
              0.6666666666666666,
              "#ed7953"
             ],
             [
              0.7777777777777778,
              "#fb9f3a"
             ],
             [
              0.8888888888888888,
              "#fdca26"
             ],
             [
              1,
              "#f0f921"
             ]
            ],
            "type": "histogram2d"
           }
          ],
          "histogram2dcontour": [
           {
            "colorbar": {
             "outlinewidth": 0,
             "ticks": ""
            },
            "colorscale": [
             [
              0,
              "#0d0887"
             ],
             [
              0.1111111111111111,
              "#46039f"
             ],
             [
              0.2222222222222222,
              "#7201a8"
             ],
             [
              0.3333333333333333,
              "#9c179e"
             ],
             [
              0.4444444444444444,
              "#bd3786"
             ],
             [
              0.5555555555555556,
              "#d8576b"
             ],
             [
              0.6666666666666666,
              "#ed7953"
             ],
             [
              0.7777777777777778,
              "#fb9f3a"
             ],
             [
              0.8888888888888888,
              "#fdca26"
             ],
             [
              1,
              "#f0f921"
             ]
            ],
            "type": "histogram2dcontour"
           }
          ],
          "mesh3d": [
           {
            "colorbar": {
             "outlinewidth": 0,
             "ticks": ""
            },
            "type": "mesh3d"
           }
          ],
          "parcoords": [
           {
            "line": {
             "colorbar": {
              "outlinewidth": 0,
              "ticks": ""
             }
            },
            "type": "parcoords"
           }
          ],
          "pie": [
           {
            "automargin": true,
            "type": "pie"
           }
          ],
          "scatter": [
           {
            "fillpattern": {
             "fillmode": "overlay",
             "size": 10,
             "solidity": 0.2
            },
            "type": "scatter"
           }
          ],
          "scatter3d": [
           {
            "line": {
             "colorbar": {
              "outlinewidth": 0,
              "ticks": ""
             }
            },
            "marker": {
             "colorbar": {
              "outlinewidth": 0,
              "ticks": ""
             }
            },
            "type": "scatter3d"
           }
          ],
          "scattercarpet": [
           {
            "marker": {
             "colorbar": {
              "outlinewidth": 0,
              "ticks": ""
             }
            },
            "type": "scattercarpet"
           }
          ],
          "scattergeo": [
           {
            "marker": {
             "colorbar": {
              "outlinewidth": 0,
              "ticks": ""
             }
            },
            "type": "scattergeo"
           }
          ],
          "scattergl": [
           {
            "marker": {
             "colorbar": {
              "outlinewidth": 0,
              "ticks": ""
             }
            },
            "type": "scattergl"
           }
          ],
          "scattermapbox": [
           {
            "marker": {
             "colorbar": {
              "outlinewidth": 0,
              "ticks": ""
             }
            },
            "type": "scattermapbox"
           }
          ],
          "scatterpolar": [
           {
            "marker": {
             "colorbar": {
              "outlinewidth": 0,
              "ticks": ""
             }
            },
            "type": "scatterpolar"
           }
          ],
          "scatterpolargl": [
           {
            "marker": {
             "colorbar": {
              "outlinewidth": 0,
              "ticks": ""
             }
            },
            "type": "scatterpolargl"
           }
          ],
          "scatterternary": [
           {
            "marker": {
             "colorbar": {
              "outlinewidth": 0,
              "ticks": ""
             }
            },
            "type": "scatterternary"
           }
          ],
          "surface": [
           {
            "colorbar": {
             "outlinewidth": 0,
             "ticks": ""
            },
            "colorscale": [
             [
              0,
              "#0d0887"
             ],
             [
              0.1111111111111111,
              "#46039f"
             ],
             [
              0.2222222222222222,
              "#7201a8"
             ],
             [
              0.3333333333333333,
              "#9c179e"
             ],
             [
              0.4444444444444444,
              "#bd3786"
             ],
             [
              0.5555555555555556,
              "#d8576b"
             ],
             [
              0.6666666666666666,
              "#ed7953"
             ],
             [
              0.7777777777777778,
              "#fb9f3a"
             ],
             [
              0.8888888888888888,
              "#fdca26"
             ],
             [
              1,
              "#f0f921"
             ]
            ],
            "type": "surface"
           }
          ],
          "table": [
           {
            "cells": {
             "fill": {
              "color": "#EBF0F8"
             },
             "line": {
              "color": "white"
             }
            },
            "header": {
             "fill": {
              "color": "#C8D4E3"
             },
             "line": {
              "color": "white"
             }
            },
            "type": "table"
           }
          ]
         },
         "layout": {
          "annotationdefaults": {
           "arrowcolor": "#2a3f5f",
           "arrowhead": 0,
           "arrowwidth": 1
          },
          "autotypenumbers": "strict",
          "coloraxis": {
           "colorbar": {
            "outlinewidth": 0,
            "ticks": ""
           }
          },
          "colorscale": {
           "diverging": [
            [
             0,
             "#8e0152"
            ],
            [
             0.1,
             "#c51b7d"
            ],
            [
             0.2,
             "#de77ae"
            ],
            [
             0.3,
             "#f1b6da"
            ],
            [
             0.4,
             "#fde0ef"
            ],
            [
             0.5,
             "#f7f7f7"
            ],
            [
             0.6,
             "#e6f5d0"
            ],
            [
             0.7,
             "#b8e186"
            ],
            [
             0.8,
             "#7fbc41"
            ],
            [
             0.9,
             "#4d9221"
            ],
            [
             1,
             "#276419"
            ]
           ],
           "sequential": [
            [
             0,
             "#0d0887"
            ],
            [
             0.1111111111111111,
             "#46039f"
            ],
            [
             0.2222222222222222,
             "#7201a8"
            ],
            [
             0.3333333333333333,
             "#9c179e"
            ],
            [
             0.4444444444444444,
             "#bd3786"
            ],
            [
             0.5555555555555556,
             "#d8576b"
            ],
            [
             0.6666666666666666,
             "#ed7953"
            ],
            [
             0.7777777777777778,
             "#fb9f3a"
            ],
            [
             0.8888888888888888,
             "#fdca26"
            ],
            [
             1,
             "#f0f921"
            ]
           ],
           "sequentialminus": [
            [
             0,
             "#0d0887"
            ],
            [
             0.1111111111111111,
             "#46039f"
            ],
            [
             0.2222222222222222,
             "#7201a8"
            ],
            [
             0.3333333333333333,
             "#9c179e"
            ],
            [
             0.4444444444444444,
             "#bd3786"
            ],
            [
             0.5555555555555556,
             "#d8576b"
            ],
            [
             0.6666666666666666,
             "#ed7953"
            ],
            [
             0.7777777777777778,
             "#fb9f3a"
            ],
            [
             0.8888888888888888,
             "#fdca26"
            ],
            [
             1,
             "#f0f921"
            ]
           ]
          },
          "colorway": [
           "#636efa",
           "#EF553B",
           "#00cc96",
           "#ab63fa",
           "#FFA15A",
           "#19d3f3",
           "#FF6692",
           "#B6E880",
           "#FF97FF",
           "#FECB52"
          ],
          "font": {
           "color": "#2a3f5f"
          },
          "geo": {
           "bgcolor": "white",
           "lakecolor": "white",
           "landcolor": "#E5ECF6",
           "showlakes": true,
           "showland": true,
           "subunitcolor": "white"
          },
          "hoverlabel": {
           "align": "left"
          },
          "hovermode": "closest",
          "mapbox": {
           "style": "light"
          },
          "paper_bgcolor": "white",
          "plot_bgcolor": "#E5ECF6",
          "polar": {
           "angularaxis": {
            "gridcolor": "white",
            "linecolor": "white",
            "ticks": ""
           },
           "bgcolor": "#E5ECF6",
           "radialaxis": {
            "gridcolor": "white",
            "linecolor": "white",
            "ticks": ""
           }
          },
          "scene": {
           "xaxis": {
            "backgroundcolor": "#E5ECF6",
            "gridcolor": "white",
            "gridwidth": 2,
            "linecolor": "white",
            "showbackground": true,
            "ticks": "",
            "zerolinecolor": "white"
           },
           "yaxis": {
            "backgroundcolor": "#E5ECF6",
            "gridcolor": "white",
            "gridwidth": 2,
            "linecolor": "white",
            "showbackground": true,
            "ticks": "",
            "zerolinecolor": "white"
           },
           "zaxis": {
            "backgroundcolor": "#E5ECF6",
            "gridcolor": "white",
            "gridwidth": 2,
            "linecolor": "white",
            "showbackground": true,
            "ticks": "",
            "zerolinecolor": "white"
           }
          },
          "shapedefaults": {
           "line": {
            "color": "#2a3f5f"
           }
          },
          "ternary": {
           "aaxis": {
            "gridcolor": "white",
            "linecolor": "white",
            "ticks": ""
           },
           "baxis": {
            "gridcolor": "white",
            "linecolor": "white",
            "ticks": ""
           },
           "bgcolor": "#E5ECF6",
           "caxis": {
            "gridcolor": "white",
            "linecolor": "white",
            "ticks": ""
           }
          },
          "title": {
           "x": 0.05
          },
          "xaxis": {
           "automargin": true,
           "gridcolor": "white",
           "linecolor": "white",
           "ticks": "",
           "title": {
            "standoff": 15
           },
           "zerolinecolor": "white",
           "zerolinewidth": 2
          },
          "yaxis": {
           "automargin": true,
           "gridcolor": "white",
           "linecolor": "white",
           "ticks": "",
           "title": {
            "standoff": 15
           },
           "zerolinecolor": "white",
           "zerolinewidth": 2
          }
         }
        },
        "xaxis": {
         "anchor": "y",
         "domain": [
          0,
          1
         ],
         "title": {
          "text": "predicted distance from WT reference"
         }
        },
        "yaxis": {
         "anchor": "x",
         "domain": [
          0,
          1
         ],
         "title": {
          "text": "actual distance from WT reference"
         }
        }
       }
      },
      "text/html": [
       "<div>                            <div id=\"8dc78f6f-1778-4604-8a19-cd2d060ba4ba\" class=\"plotly-graph-div\" style=\"height:525px; width:100%;\"></div>            <script type=\"text/javascript\">                require([\"plotly\"], function(Plotly) {                    window.PLOTLYENV=window.PLOTLYENV || {};                                    if (document.getElementById(\"8dc78f6f-1778-4604-8a19-cd2d060ba4ba\")) {                    Plotly.newPlot(                        \"8dc78f6f-1778-4604-8a19-cd2d060ba4ba\",                        [{\"hovertemplate\":\"perturbation=lmx1b<br>predicted distance from WT reference=%{x}<br>actual distance from WT reference=%{y}<extra></extra>\",\"legendgroup\":\"lmx1b\",\"marker\":{\"color\":\"#636efa\",\"opacity\":0.8,\"symbol\":\"circle\",\"line\":{\"color\":\"DarkSlateGrey\",\"width\":1},\"size\":10},\"mode\":\"markers\",\"name\":\"lmx1b\",\"orientation\":\"v\",\"showlegend\":true,\"x\":[2.022837205338475,2.0672918267865024,1.8866327336480277,2.100223653412616,1.8873962370696553,1.8822722092767041,2.734795744975039,2.4320268674958436,2.5717874818143303,4.083273346036233,2.491159916434698,1.8203318492425553,4.083998895639476,2.6922830806950606,3.3954052742574827,3.8019301539791996,2.507635100422859,3.4404176197986542,1.7208223745037834,1.8638959630928513,0.9463437213036981,0.8425769134825111,1.5535088172508662,1.6627525605964284,2.5168879766278023,1.0539495119703044,4.070445799548852,3.8882985972740016,3.886116826670981,4.068066865004308,3.9708310201890704,4.083481612971448,4.1443003283425925,3.891719673578444,3.9120698892886137,4.16498301142307,4.101343296905257,3.685779026144484,4.045343608285869,3.7654240976553766,3.9237149239548046,3.88300116351751],\"xaxis\":\"x\",\"y\":[2.209698815665938,2.068622641784855,2.038142906475023,1.9189162706015752,4.228729672263047,2.9217128594265054,3.595307770674135,2.814456345908446,4.669772576594772,4.014623723535782,3.432424629282793,2.687861822154056,5.4884992553017105,3.3944315020397116,2.8733726372956343,3.78483181889138,1.3360617596199789,3.770914276062538,2.1030879949412067,2.4307643284415623,2.5482625314967473,2.342434211784016,1.90179668934838,2.111554899997382,2.5579530568589304,2.3855787870629954,3.4116546339013523,4.001993738365234,3.5435712951261924,2.8761335058452286,3.421106746630833,4.04244231794649,3.9176927905145034,4.421424515130376,3.078029152050218,4.07847429383447,5.007678202717309,5.014656338214986,4.058379541338493,3.8698950712804097,2.8070108430166236,3.7219926612700784],\"yaxis\":\"y\",\"type\":\"scatter\"},{\"hovertemplate\":\"perturbation=wik-inj-ctrl<br>predicted distance from WT reference=%{x}<br>actual distance from WT reference=%{y}<extra></extra>\",\"legendgroup\":\"wik-inj-ctrl\",\"marker\":{\"color\":\"#EF553B\",\"opacity\":0.8,\"symbol\":\"circle\",\"line\":{\"color\":\"DarkSlateGrey\",\"width\":1},\"size\":10},\"mode\":\"markers\",\"name\":\"wik-inj-ctrl\",\"orientation\":\"v\",\"showlegend\":true,\"x\":[0.6750391158893131,0.6678173499707951,0.6695890090875342,2.4304153445753105,1.0262984099129944,1.2337521029383804,1.439316129312513,1.306444932229046,1.3407367839649897,1.4211997820305649,1.3342279532750796,1.8650459968521582,1.5805824473385894,1.8578431543959597,1.7583719171476537,1.5053591432544216,1.7140162769864709,1.3478603000616318],\"xaxis\":\"x\",\"y\":[0.8735349576442115,0.7558431175120526,0.3866427195273,0.8101272431433859,2.077189255452445,1.6220308147355962,2.245949435953581,1.2058498028316875,1.5341047434876205,1.9001125195554425,0.7845878911642565,2.362493799076193,0.8509546723160858,2.5099689816016366,2.424069784431629,2.2282892593116896,2.5620473496715,2.2623586068194608],\"yaxis\":\"y\",\"type\":\"scatter\"},{\"hovertemplate\":\"perturbation=tbxta<br>predicted distance from WT reference=%{x}<br>actual distance from WT reference=%{y}<extra></extra>\",\"legendgroup\":\"tbxta\",\"marker\":{\"color\":\"#00cc96\",\"opacity\":0.8,\"symbol\":\"circle\",\"line\":{\"color\":\"DarkSlateGrey\",\"width\":1},\"size\":10},\"mode\":\"markers\",\"name\":\"tbxta\",\"orientation\":\"v\",\"showlegend\":true,\"x\":[13.262090987834533,13.532429142861412,13.625008583726165],\"xaxis\":\"x\",\"y\":[13.597416638651389,13.27272387904246,13.328263271431489],\"yaxis\":\"y\",\"type\":\"scatter\"},{\"line\":{\"color\":\"gray\",\"dash\":\"dot\",\"width\":1},\"mode\":\"lines\",\"showlegend\":false,\"x\":[-1.0,-0.6734693877551021,-0.34693877551020413,-0.020408163265306145,0.30612244897959173,0.6326530612244896,0.9591836734693877,1.2857142857142856,1.6122448979591835,1.9387755102040813,2.265306122448979,2.591836734693877,2.9183673469387754,3.244897959183673,3.571428571428571,3.8979591836734686,4.224489795918367,4.551020408163265,4.877551020408163,5.204081632653061,5.530612244897958,5.857142857142857,6.183673469387754,6.5102040816326525,6.836734693877551,7.163265306122449,7.489795918367346,7.816326530612244,8.142857142857142,8.46938775510204,8.795918367346937,9.122448979591836,9.448979591836734,9.775510204081632,10.10204081632653,10.428571428571427,10.755102040816325,11.081632653061224,11.408163265306122,11.734693877551019,12.061224489795917,12.387755102040815,12.714285714285714,13.040816326530612,13.367346938775508,13.693877551020407,14.020408163265305,14.346938775510203,14.673469387755102,15.0],\"y\":[-1.0,-0.6734693877551021,-0.34693877551020413,-0.020408163265306145,0.30612244897959173,0.6326530612244896,0.9591836734693877,1.2857142857142856,1.6122448979591835,1.9387755102040813,2.265306122448979,2.591836734693877,2.9183673469387754,3.244897959183673,3.571428571428571,3.8979591836734686,4.224489795918367,4.551020408163265,4.877551020408163,5.204081632653061,5.530612244897958,5.857142857142857,6.183673469387754,6.5102040816326525,6.836734693877551,7.163265306122449,7.489795918367346,7.816326530612244,8.142857142857142,8.46938775510204,8.795918367346937,9.122448979591836,9.448979591836734,9.775510204081632,10.10204081632653,10.428571428571427,10.755102040816325,11.081632653061224,11.408163265306122,11.734693877551019,12.061224489795917,12.387755102040815,12.714285714285714,13.040816326530612,13.367346938775508,13.693877551020407,14.020408163265305,14.346938775510203,14.673469387755102,15.0],\"type\":\"scatter\"}],                        {\"template\":{\"data\":{\"histogram2dcontour\":[{\"type\":\"histogram2dcontour\",\"colorbar\":{\"outlinewidth\":0,\"ticks\":\"\"},\"colorscale\":[[0.0,\"#0d0887\"],[0.1111111111111111,\"#46039f\"],[0.2222222222222222,\"#7201a8\"],[0.3333333333333333,\"#9c179e\"],[0.4444444444444444,\"#bd3786\"],[0.5555555555555556,\"#d8576b\"],[0.6666666666666666,\"#ed7953\"],[0.7777777777777778,\"#fb9f3a\"],[0.8888888888888888,\"#fdca26\"],[1.0,\"#f0f921\"]]}],\"choropleth\":[{\"type\":\"choropleth\",\"colorbar\":{\"outlinewidth\":0,\"ticks\":\"\"}}],\"histogram2d\":[{\"type\":\"histogram2d\",\"colorbar\":{\"outlinewidth\":0,\"ticks\":\"\"},\"colorscale\":[[0.0,\"#0d0887\"],[0.1111111111111111,\"#46039f\"],[0.2222222222222222,\"#7201a8\"],[0.3333333333333333,\"#9c179e\"],[0.4444444444444444,\"#bd3786\"],[0.5555555555555556,\"#d8576b\"],[0.6666666666666666,\"#ed7953\"],[0.7777777777777778,\"#fb9f3a\"],[0.8888888888888888,\"#fdca26\"],[1.0,\"#f0f921\"]]}],\"heatmap\":[{\"type\":\"heatmap\",\"colorbar\":{\"outlinewidth\":0,\"ticks\":\"\"},\"colorscale\":[[0.0,\"#0d0887\"],[0.1111111111111111,\"#46039f\"],[0.2222222222222222,\"#7201a8\"],[0.3333333333333333,\"#9c179e\"],[0.4444444444444444,\"#bd3786\"],[0.5555555555555556,\"#d8576b\"],[0.6666666666666666,\"#ed7953\"],[0.7777777777777778,\"#fb9f3a\"],[0.8888888888888888,\"#fdca26\"],[1.0,\"#f0f921\"]]}],\"heatmapgl\":[{\"type\":\"heatmapgl\",\"colorbar\":{\"outlinewidth\":0,\"ticks\":\"\"},\"colorscale\":[[0.0,\"#0d0887\"],[0.1111111111111111,\"#46039f\"],[0.2222222222222222,\"#7201a8\"],[0.3333333333333333,\"#9c179e\"],[0.4444444444444444,\"#bd3786\"],[0.5555555555555556,\"#d8576b\"],[0.6666666666666666,\"#ed7953\"],[0.7777777777777778,\"#fb9f3a\"],[0.8888888888888888,\"#fdca26\"],[1.0,\"#f0f921\"]]}],\"contourcarpet\":[{\"type\":\"contourcarpet\",\"colorbar\":{\"outlinewidth\":0,\"ticks\":\"\"}}],\"contour\":[{\"type\":\"contour\",\"colorbar\":{\"outlinewidth\":0,\"ticks\":\"\"},\"colorscale\":[[0.0,\"#0d0887\"],[0.1111111111111111,\"#46039f\"],[0.2222222222222222,\"#7201a8\"],[0.3333333333333333,\"#9c179e\"],[0.4444444444444444,\"#bd3786\"],[0.5555555555555556,\"#d8576b\"],[0.6666666666666666,\"#ed7953\"],[0.7777777777777778,\"#fb9f3a\"],[0.8888888888888888,\"#fdca26\"],[1.0,\"#f0f921\"]]}],\"surface\":[{\"type\":\"surface\",\"colorbar\":{\"outlinewidth\":0,\"ticks\":\"\"},\"colorscale\":[[0.0,\"#0d0887\"],[0.1111111111111111,\"#46039f\"],[0.2222222222222222,\"#7201a8\"],[0.3333333333333333,\"#9c179e\"],[0.4444444444444444,\"#bd3786\"],[0.5555555555555556,\"#d8576b\"],[0.6666666666666666,\"#ed7953\"],[0.7777777777777778,\"#fb9f3a\"],[0.8888888888888888,\"#fdca26\"],[1.0,\"#f0f921\"]]}],\"mesh3d\":[{\"type\":\"mesh3d\",\"colorbar\":{\"outlinewidth\":0,\"ticks\":\"\"}}],\"scatter\":[{\"fillpattern\":{\"fillmode\":\"overlay\",\"size\":10,\"solidity\":0.2},\"type\":\"scatter\"}],\"parcoords\":[{\"type\":\"parcoords\",\"line\":{\"colorbar\":{\"outlinewidth\":0,\"ticks\":\"\"}}}],\"scatterpolargl\":[{\"type\":\"scatterpolargl\",\"marker\":{\"colorbar\":{\"outlinewidth\":0,\"ticks\":\"\"}}}],\"bar\":[{\"error_x\":{\"color\":\"#2a3f5f\"},\"error_y\":{\"color\":\"#2a3f5f\"},\"marker\":{\"line\":{\"color\":\"#E5ECF6\",\"width\":0.5},\"pattern\":{\"fillmode\":\"overlay\",\"size\":10,\"solidity\":0.2}},\"type\":\"bar\"}],\"scattergeo\":[{\"type\":\"scattergeo\",\"marker\":{\"colorbar\":{\"outlinewidth\":0,\"ticks\":\"\"}}}],\"scatterpolar\":[{\"type\":\"scatterpolar\",\"marker\":{\"colorbar\":{\"outlinewidth\":0,\"ticks\":\"\"}}}],\"histogram\":[{\"marker\":{\"pattern\":{\"fillmode\":\"overlay\",\"size\":10,\"solidity\":0.2}},\"type\":\"histogram\"}],\"scattergl\":[{\"type\":\"scattergl\",\"marker\":{\"colorbar\":{\"outlinewidth\":0,\"ticks\":\"\"}}}],\"scatter3d\":[{\"type\":\"scatter3d\",\"line\":{\"colorbar\":{\"outlinewidth\":0,\"ticks\":\"\"}},\"marker\":{\"colorbar\":{\"outlinewidth\":0,\"ticks\":\"\"}}}],\"scattermapbox\":[{\"type\":\"scattermapbox\",\"marker\":{\"colorbar\":{\"outlinewidth\":0,\"ticks\":\"\"}}}],\"scatterternary\":[{\"type\":\"scatterternary\",\"marker\":{\"colorbar\":{\"outlinewidth\":0,\"ticks\":\"\"}}}],\"scattercarpet\":[{\"type\":\"scattercarpet\",\"marker\":{\"colorbar\":{\"outlinewidth\":0,\"ticks\":\"\"}}}],\"carpet\":[{\"aaxis\":{\"endlinecolor\":\"#2a3f5f\",\"gridcolor\":\"white\",\"linecolor\":\"white\",\"minorgridcolor\":\"white\",\"startlinecolor\":\"#2a3f5f\"},\"baxis\":{\"endlinecolor\":\"#2a3f5f\",\"gridcolor\":\"white\",\"linecolor\":\"white\",\"minorgridcolor\":\"white\",\"startlinecolor\":\"#2a3f5f\"},\"type\":\"carpet\"}],\"table\":[{\"cells\":{\"fill\":{\"color\":\"#EBF0F8\"},\"line\":{\"color\":\"white\"}},\"header\":{\"fill\":{\"color\":\"#C8D4E3\"},\"line\":{\"color\":\"white\"}},\"type\":\"table\"}],\"barpolar\":[{\"marker\":{\"line\":{\"color\":\"#E5ECF6\",\"width\":0.5},\"pattern\":{\"fillmode\":\"overlay\",\"size\":10,\"solidity\":0.2}},\"type\":\"barpolar\"}],\"pie\":[{\"automargin\":true,\"type\":\"pie\"}]},\"layout\":{\"autotypenumbers\":\"strict\",\"colorway\":[\"#636efa\",\"#EF553B\",\"#00cc96\",\"#ab63fa\",\"#FFA15A\",\"#19d3f3\",\"#FF6692\",\"#B6E880\",\"#FF97FF\",\"#FECB52\"],\"font\":{\"color\":\"#2a3f5f\"},\"hovermode\":\"closest\",\"hoverlabel\":{\"align\":\"left\"},\"paper_bgcolor\":\"white\",\"plot_bgcolor\":\"#E5ECF6\",\"polar\":{\"bgcolor\":\"#E5ECF6\",\"angularaxis\":{\"gridcolor\":\"white\",\"linecolor\":\"white\",\"ticks\":\"\"},\"radialaxis\":{\"gridcolor\":\"white\",\"linecolor\":\"white\",\"ticks\":\"\"}},\"ternary\":{\"bgcolor\":\"#E5ECF6\",\"aaxis\":{\"gridcolor\":\"white\",\"linecolor\":\"white\",\"ticks\":\"\"},\"baxis\":{\"gridcolor\":\"white\",\"linecolor\":\"white\",\"ticks\":\"\"},\"caxis\":{\"gridcolor\":\"white\",\"linecolor\":\"white\",\"ticks\":\"\"}},\"coloraxis\":{\"colorbar\":{\"outlinewidth\":0,\"ticks\":\"\"}},\"colorscale\":{\"sequential\":[[0.0,\"#0d0887\"],[0.1111111111111111,\"#46039f\"],[0.2222222222222222,\"#7201a8\"],[0.3333333333333333,\"#9c179e\"],[0.4444444444444444,\"#bd3786\"],[0.5555555555555556,\"#d8576b\"],[0.6666666666666666,\"#ed7953\"],[0.7777777777777778,\"#fb9f3a\"],[0.8888888888888888,\"#fdca26\"],[1.0,\"#f0f921\"]],\"sequentialminus\":[[0.0,\"#0d0887\"],[0.1111111111111111,\"#46039f\"],[0.2222222222222222,\"#7201a8\"],[0.3333333333333333,\"#9c179e\"],[0.4444444444444444,\"#bd3786\"],[0.5555555555555556,\"#d8576b\"],[0.6666666666666666,\"#ed7953\"],[0.7777777777777778,\"#fb9f3a\"],[0.8888888888888888,\"#fdca26\"],[1.0,\"#f0f921\"]],\"diverging\":[[0,\"#8e0152\"],[0.1,\"#c51b7d\"],[0.2,\"#de77ae\"],[0.3,\"#f1b6da\"],[0.4,\"#fde0ef\"],[0.5,\"#f7f7f7\"],[0.6,\"#e6f5d0\"],[0.7,\"#b8e186\"],[0.8,\"#7fbc41\"],[0.9,\"#4d9221\"],[1,\"#276419\"]]},\"xaxis\":{\"gridcolor\":\"white\",\"linecolor\":\"white\",\"ticks\":\"\",\"title\":{\"standoff\":15},\"zerolinecolor\":\"white\",\"automargin\":true,\"zerolinewidth\":2},\"yaxis\":{\"gridcolor\":\"white\",\"linecolor\":\"white\",\"ticks\":\"\",\"title\":{\"standoff\":15},\"zerolinecolor\":\"white\",\"automargin\":true,\"zerolinewidth\":2},\"scene\":{\"xaxis\":{\"backgroundcolor\":\"#E5ECF6\",\"gridcolor\":\"white\",\"linecolor\":\"white\",\"showbackground\":true,\"ticks\":\"\",\"zerolinecolor\":\"white\",\"gridwidth\":2},\"yaxis\":{\"backgroundcolor\":\"#E5ECF6\",\"gridcolor\":\"white\",\"linecolor\":\"white\",\"showbackground\":true,\"ticks\":\"\",\"zerolinecolor\":\"white\",\"gridwidth\":2},\"zaxis\":{\"backgroundcolor\":\"#E5ECF6\",\"gridcolor\":\"white\",\"linecolor\":\"white\",\"showbackground\":true,\"ticks\":\"\",\"zerolinecolor\":\"white\",\"gridwidth\":2}},\"shapedefaults\":{\"line\":{\"color\":\"#2a3f5f\"}},\"annotationdefaults\":{\"arrowcolor\":\"#2a3f5f\",\"arrowhead\":0,\"arrowwidth\":1},\"geo\":{\"bgcolor\":\"white\",\"landcolor\":\"#E5ECF6\",\"subunitcolor\":\"white\",\"showland\":true,\"showlakes\":true,\"lakecolor\":\"white\"},\"title\":{\"x\":0.05},\"mapbox\":{\"style\":\"light\"}}},\"xaxis\":{\"anchor\":\"y\",\"domain\":[0.0,1.0],\"title\":{\"text\":\"predicted distance from WT reference\"}},\"yaxis\":{\"anchor\":\"x\",\"domain\":[0.0,1.0],\"title\":{\"text\":\"actual distance from WT reference\"}},\"legend\":{\"title\":{\"text\":\"perturbation\"},\"tracegroupgap\":0},\"margin\":{\"t\":60}},                        {\"responsive\": true}                    ).then(function(){\n",
       "                            \n",
       "var gd = document.getElementById('8dc78f6f-1778-4604-8a19-cd2d060ba4ba');\n",
       "var x = new MutationObserver(function (mutations, observer) {{\n",
       "        var display = window.getComputedStyle(gd).display;\n",
       "        if (!display || display === 'none') {{\n",
       "            console.log([gd, 'removed!']);\n",
       "            Plotly.purge(gd);\n",
       "            observer.disconnect();\n",
       "        }}\n",
       "}});\n",
       "\n",
       "// Listen for the removal of the full notebook cells\n",
       "var notebookContainer = gd.closest('#notebook-container');\n",
       "if (notebookContainer) {{\n",
       "    x.observe(notebookContainer, {childList: true});\n",
       "}}\n",
       "\n",
       "// Listen for the clearing of the current output cell\n",
       "var outputEl = gd.closest('.output');\n",
       "if (outputEl) {{\n",
       "    x.observe(outputEl, {childList: true});\n",
       "}}\n",
       "\n",
       "                        })                };                });            </script>        </div>"
      ]
     },
     "metadata": {},
     "output_type": "display_data"
    }
   ],
   "source": [
    "tbxta_bool = (res_df_test[\"master_perturbation\"] == \"tbxta\").to_numpy()\n",
    "lmx_bool = (res_df_test[\"master_perturbation\"] == \"lmx1b\").to_numpy()\n",
    "ctrl_bool = (res_df_test[\"master_perturbation\"] == \"wik-inj-ctrl\").to_numpy()\n",
    "\n",
    "all_bool = tbxta_bool | lmx_bool | ctrl_bool\n",
    "\n",
    "fig = px.scatter(res_df_test.loc[all_bool], x=\"morph_wik_dist_pd\", y=\"morph_wik_dist_actual\", color=\"master_perturbation\",\n",
    "                 opacity =0.8,\n",
    "                 labels={\"morph_wik_dist_actual\": \"actual distance from WT reference\",\n",
    "                         \"morph_wik_dist_pd\": \"predicted distance from WT reference\",\n",
    "                         \"master_perturbation\":\"perturbation\"})\n",
    "\n",
    "fig.update_traces(marker=dict(size=10,\n",
    "                              line=dict(width=1,\n",
    "                                        color='DarkSlateGrey')))\n",
    "\n",
    "ref_line = np.linspace(-1, 15)\n",
    "fig.add_scatter(\n",
    "        x=ref_line, \n",
    "        y=ref_line, \n",
    "        mode='lines', \n",
    "        line_color='gray', \n",
    "        showlegend=False,\n",
    "        line=dict(width=1, dash='dot')\n",
    "    )\n",
    "\n",
    "                  \n",
    "fig.show()\n",
    "# save\n",
    "fig.write_image(os.path.join(figure_dir, \"lmx_distance_prediction_plot.png\"), scale=4)"
   ]
  },
  {
   "cell_type": "markdown",
   "id": "6e8796f1",
   "metadata": {},
   "source": [
    "Switch up the plotting style"
   ]
  },
  {
   "cell_type": "code",
   "execution_count": 50,
   "id": "0db9c139",
   "metadata": {},
   "outputs": [
    {
     "data": {
      "application/vnd.plotly.v1+json": {
       "config": {
        "plotlyServerURL": "https://plot.ly"
       },
       "data": [
        {
         "line": {
          "color": "gray",
          "dash": "dot",
          "width": 2
         },
         "mode": "lines",
         "showlegend": false,
         "type": "scatter",
         "x": [
          -1,
          -0.6734693877551021,
          -0.34693877551020413,
          -0.020408163265306145,
          0.30612244897959173,
          0.6326530612244896,
          0.9591836734693877,
          1.2857142857142856,
          1.6122448979591835,
          1.9387755102040813,
          2.265306122448979,
          2.591836734693877,
          2.9183673469387754,
          3.244897959183673,
          3.571428571428571,
          3.8979591836734686,
          4.224489795918367,
          4.551020408163265,
          4.877551020408163,
          5.204081632653061,
          5.530612244897958,
          5.857142857142857,
          6.183673469387754,
          6.5102040816326525,
          6.836734693877551,
          7.163265306122449,
          7.489795918367346,
          7.816326530612244,
          8.142857142857142,
          8.46938775510204,
          8.795918367346937,
          9.122448979591836,
          9.448979591836734,
          9.775510204081632,
          10.10204081632653,
          10.428571428571427,
          10.755102040816325,
          11.081632653061224,
          11.408163265306122,
          11.734693877551019,
          12.061224489795917,
          12.387755102040815,
          12.714285714285714,
          13.040816326530612,
          13.367346938775508,
          13.693877551020407,
          14.020408163265305,
          14.346938775510203,
          14.673469387755102,
          15
         ],
         "y": [
          -1,
          -0.6734693877551021,
          -0.34693877551020413,
          -0.020408163265306145,
          0.30612244897959173,
          0.6326530612244896,
          0.9591836734693877,
          1.2857142857142856,
          1.6122448979591835,
          1.9387755102040813,
          2.265306122448979,
          2.591836734693877,
          2.9183673469387754,
          3.244897959183673,
          3.571428571428571,
          3.8979591836734686,
          4.224489795918367,
          4.551020408163265,
          4.877551020408163,
          5.204081632653061,
          5.530612244897958,
          5.857142857142857,
          6.183673469387754,
          6.5102040816326525,
          6.836734693877551,
          7.163265306122449,
          7.489795918367346,
          7.816326530612244,
          8.142857142857142,
          8.46938775510204,
          8.795918367346937,
          9.122448979591836,
          9.448979591836734,
          9.775510204081632,
          10.10204081632653,
          10.428571428571427,
          10.755102040816325,
          11.081632653061224,
          11.408163265306122,
          11.734693877551019,
          12.061224489795917,
          12.387755102040815,
          12.714285714285714,
          13.040816326530612,
          13.367346938775508,
          13.693877551020407,
          14.020408163265305,
          14.346938775510203,
          14.673469387755102,
          15
         ]
        },
        {
         "marker": {
          "color": [
           "#00CC96",
           "#00CC96",
           "#00CC96"
          ],
          "line": {
           "color": "DarkSlateGrey",
           "width": 0.8
          },
          "opacity": 1,
          "size": 10
         },
         "mode": "markers",
         "name": "tbxta",
         "showlegend": true,
         "type": "scatter",
         "x": [
          13.262090987834533,
          13.532429142861412,
          13.625008583726165
         ],
         "y": [
          13.597416638651389,
          13.27272387904246,
          13.328263271431489
         ]
        },
        {
         "marker": {
          "color": [
           "#636EFA",
           "#636EFA",
           "#636EFA",
           "#636EFA",
           "#636EFA",
           "#636EFA",
           "#636EFA",
           "#636EFA",
           "#636EFA",
           "#636EFA",
           "#636EFA",
           "#636EFA",
           "#636EFA",
           "#636EFA",
           "#636EFA",
           "#636EFA",
           "#636EFA",
           "#636EFA"
          ],
          "line": {
           "color": "DarkSlateGrey",
           "width": 0.8
          },
          "opacity": 1,
          "size": 10
         },
         "mode": "markers",
         "name": "wik-inj-ctrl",
         "type": "scatter",
         "x": [
          0.6750391158893131,
          0.6678173499707951,
          0.6695890090875342,
          2.4304153445753105,
          1.0262984099129944,
          1.2337521029383804,
          1.439316129312513,
          1.306444932229046,
          1.3407367839649897,
          1.4211997820305649,
          1.3342279532750796,
          1.8650459968521582,
          1.5805824473385894,
          1.8578431543959597,
          1.7583719171476537,
          1.5053591432544216,
          1.7140162769864709,
          1.3478603000616318
         ],
         "y": [
          0.8735349576442115,
          0.7558431175120526,
          0.3866427195273,
          0.8101272431433859,
          2.077189255452445,
          1.6220308147355962,
          2.245949435953581,
          1.2058498028316875,
          1.5341047434876205,
          1.9001125195554425,
          0.7845878911642565,
          2.362493799076193,
          0.8509546723160858,
          2.5099689816016366,
          2.424069784431629,
          2.2282892593116896,
          2.5620473496715,
          2.2623586068194608
         ]
        },
        {
         "marker": {
          "color": [
           "#EF553B",
           "#EF553B",
           "#EF553B",
           "#EF553B",
           "#EF553B",
           "#EF553B",
           "#EF553B",
           "#EF553B",
           "#EF553B",
           "#EF553B",
           "#EF553B",
           "#EF553B",
           "#EF553B",
           "#EF553B",
           "#EF553B",
           "#EF553B",
           "#EF553B",
           "#EF553B",
           "#EF553B",
           "#EF553B",
           "#EF553B",
           "#EF553B",
           "#EF553B",
           "#EF553B",
           "#EF553B",
           "#EF553B",
           "#EF553B",
           "#EF553B",
           "#EF553B",
           "#EF553B",
           "#EF553B",
           "#EF553B",
           "#EF553B",
           "#EF553B",
           "#EF553B",
           "#EF553B",
           "#EF553B",
           "#EF553B",
           "#EF553B",
           "#EF553B",
           "#EF553B",
           "#EF553B"
          ],
          "line": {
           "color": "DarkSlateGrey",
           "width": 1.3
          },
          "opacity": 1,
          "size": 10.5
         },
         "mode": "markers",
         "name": "lmx1b",
         "type": "scatter",
         "x": [
          2.022837205338475,
          2.0672918267865024,
          1.8866327336480277,
          2.100223653412616,
          1.8873962370696553,
          1.8822722092767041,
          2.734795744975039,
          2.4320268674958436,
          2.5717874818143303,
          4.083273346036233,
          2.491159916434698,
          1.8203318492425553,
          4.083998895639476,
          2.6922830806950606,
          3.3954052742574827,
          3.8019301539791996,
          2.507635100422859,
          3.4404176197986542,
          1.7208223745037834,
          1.8638959630928513,
          0.9463437213036981,
          0.8425769134825111,
          1.5535088172508662,
          1.6627525605964284,
          2.5168879766278023,
          1.0539495119703044,
          4.070445799548852,
          3.8882985972740016,
          3.886116826670981,
          4.068066865004308,
          3.9708310201890704,
          4.083481612971448,
          4.1443003283425925,
          3.891719673578444,
          3.9120698892886137,
          4.16498301142307,
          4.101343296905257,
          3.685779026144484,
          4.045343608285869,
          3.7654240976553766,
          3.9237149239548046,
          3.88300116351751
         ],
         "y": [
          2.209698815665938,
          2.068622641784855,
          2.038142906475023,
          1.9189162706015752,
          4.228729672263047,
          2.9217128594265054,
          3.595307770674135,
          2.814456345908446,
          4.669772576594772,
          4.014623723535782,
          3.432424629282793,
          2.687861822154056,
          5.4884992553017105,
          3.3944315020397116,
          2.8733726372956343,
          3.78483181889138,
          1.3360617596199789,
          3.770914276062538,
          2.1030879949412067,
          2.4307643284415623,
          2.5482625314967473,
          2.342434211784016,
          1.90179668934838,
          2.111554899997382,
          2.5579530568589304,
          2.3855787870629954,
          3.4116546339013523,
          4.001993738365234,
          3.5435712951261924,
          2.8761335058452286,
          3.421106746630833,
          4.04244231794649,
          3.9176927905145034,
          4.421424515130376,
          3.078029152050218,
          4.07847429383447,
          5.007678202717309,
          5.014656338214986,
          4.058379541338493,
          3.8698950712804097,
          2.8070108430166236,
          3.7219926612700784
         ]
        }
       ],
       "layout": {
        "font": {
         "color": "Black",
         "family": "Arial",
         "size": 14
        },
        "legend": {
         "title": {
          "text": "perturbation"
         }
        },
        "template": {
         "data": {
          "bar": [
           {
            "error_x": {
             "color": "#2a3f5f"
            },
            "error_y": {
             "color": "#2a3f5f"
            },
            "marker": {
             "line": {
              "color": "#E5ECF6",
              "width": 0.5
             },
             "pattern": {
              "fillmode": "overlay",
              "size": 10,
              "solidity": 0.2
             }
            },
            "type": "bar"
           }
          ],
          "barpolar": [
           {
            "marker": {
             "line": {
              "color": "#E5ECF6",
              "width": 0.5
             },
             "pattern": {
              "fillmode": "overlay",
              "size": 10,
              "solidity": 0.2
             }
            },
            "type": "barpolar"
           }
          ],
          "carpet": [
           {
            "aaxis": {
             "endlinecolor": "#2a3f5f",
             "gridcolor": "white",
             "linecolor": "white",
             "minorgridcolor": "white",
             "startlinecolor": "#2a3f5f"
            },
            "baxis": {
             "endlinecolor": "#2a3f5f",
             "gridcolor": "white",
             "linecolor": "white",
             "minorgridcolor": "white",
             "startlinecolor": "#2a3f5f"
            },
            "type": "carpet"
           }
          ],
          "choropleth": [
           {
            "colorbar": {
             "outlinewidth": 0,
             "ticks": ""
            },
            "type": "choropleth"
           }
          ],
          "contour": [
           {
            "colorbar": {
             "outlinewidth": 0,
             "ticks": ""
            },
            "colorscale": [
             [
              0,
              "#0d0887"
             ],
             [
              0.1111111111111111,
              "#46039f"
             ],
             [
              0.2222222222222222,
              "#7201a8"
             ],
             [
              0.3333333333333333,
              "#9c179e"
             ],
             [
              0.4444444444444444,
              "#bd3786"
             ],
             [
              0.5555555555555556,
              "#d8576b"
             ],
             [
              0.6666666666666666,
              "#ed7953"
             ],
             [
              0.7777777777777778,
              "#fb9f3a"
             ],
             [
              0.8888888888888888,
              "#fdca26"
             ],
             [
              1,
              "#f0f921"
             ]
            ],
            "type": "contour"
           }
          ],
          "contourcarpet": [
           {
            "colorbar": {
             "outlinewidth": 0,
             "ticks": ""
            },
            "type": "contourcarpet"
           }
          ],
          "heatmap": [
           {
            "colorbar": {
             "outlinewidth": 0,
             "ticks": ""
            },
            "colorscale": [
             [
              0,
              "#0d0887"
             ],
             [
              0.1111111111111111,
              "#46039f"
             ],
             [
              0.2222222222222222,
              "#7201a8"
             ],
             [
              0.3333333333333333,
              "#9c179e"
             ],
             [
              0.4444444444444444,
              "#bd3786"
             ],
             [
              0.5555555555555556,
              "#d8576b"
             ],
             [
              0.6666666666666666,
              "#ed7953"
             ],
             [
              0.7777777777777778,
              "#fb9f3a"
             ],
             [
              0.8888888888888888,
              "#fdca26"
             ],
             [
              1,
              "#f0f921"
             ]
            ],
            "type": "heatmap"
           }
          ],
          "heatmapgl": [
           {
            "colorbar": {
             "outlinewidth": 0,
             "ticks": ""
            },
            "colorscale": [
             [
              0,
              "#0d0887"
             ],
             [
              0.1111111111111111,
              "#46039f"
             ],
             [
              0.2222222222222222,
              "#7201a8"
             ],
             [
              0.3333333333333333,
              "#9c179e"
             ],
             [
              0.4444444444444444,
              "#bd3786"
             ],
             [
              0.5555555555555556,
              "#d8576b"
             ],
             [
              0.6666666666666666,
              "#ed7953"
             ],
             [
              0.7777777777777778,
              "#fb9f3a"
             ],
             [
              0.8888888888888888,
              "#fdca26"
             ],
             [
              1,
              "#f0f921"
             ]
            ],
            "type": "heatmapgl"
           }
          ],
          "histogram": [
           {
            "marker": {
             "pattern": {
              "fillmode": "overlay",
              "size": 10,
              "solidity": 0.2
             }
            },
            "type": "histogram"
           }
          ],
          "histogram2d": [
           {
            "colorbar": {
             "outlinewidth": 0,
             "ticks": ""
            },
            "colorscale": [
             [
              0,
              "#0d0887"
             ],
             [
              0.1111111111111111,
              "#46039f"
             ],
             [
              0.2222222222222222,
              "#7201a8"
             ],
             [
              0.3333333333333333,
              "#9c179e"
             ],
             [
              0.4444444444444444,
              "#bd3786"
             ],
             [
              0.5555555555555556,
              "#d8576b"
             ],
             [
              0.6666666666666666,
              "#ed7953"
             ],
             [
              0.7777777777777778,
              "#fb9f3a"
             ],
             [
              0.8888888888888888,
              "#fdca26"
             ],
             [
              1,
              "#f0f921"
             ]
            ],
            "type": "histogram2d"
           }
          ],
          "histogram2dcontour": [
           {
            "colorbar": {
             "outlinewidth": 0,
             "ticks": ""
            },
            "colorscale": [
             [
              0,
              "#0d0887"
             ],
             [
              0.1111111111111111,
              "#46039f"
             ],
             [
              0.2222222222222222,
              "#7201a8"
             ],
             [
              0.3333333333333333,
              "#9c179e"
             ],
             [
              0.4444444444444444,
              "#bd3786"
             ],
             [
              0.5555555555555556,
              "#d8576b"
             ],
             [
              0.6666666666666666,
              "#ed7953"
             ],
             [
              0.7777777777777778,
              "#fb9f3a"
             ],
             [
              0.8888888888888888,
              "#fdca26"
             ],
             [
              1,
              "#f0f921"
             ]
            ],
            "type": "histogram2dcontour"
           }
          ],
          "mesh3d": [
           {
            "colorbar": {
             "outlinewidth": 0,
             "ticks": ""
            },
            "type": "mesh3d"
           }
          ],
          "parcoords": [
           {
            "line": {
             "colorbar": {
              "outlinewidth": 0,
              "ticks": ""
             }
            },
            "type": "parcoords"
           }
          ],
          "pie": [
           {
            "automargin": true,
            "type": "pie"
           }
          ],
          "scatter": [
           {
            "fillpattern": {
             "fillmode": "overlay",
             "size": 10,
             "solidity": 0.2
            },
            "type": "scatter"
           }
          ],
          "scatter3d": [
           {
            "line": {
             "colorbar": {
              "outlinewidth": 0,
              "ticks": ""
             }
            },
            "marker": {
             "colorbar": {
              "outlinewidth": 0,
              "ticks": ""
             }
            },
            "type": "scatter3d"
           }
          ],
          "scattercarpet": [
           {
            "marker": {
             "colorbar": {
              "outlinewidth": 0,
              "ticks": ""
             }
            },
            "type": "scattercarpet"
           }
          ],
          "scattergeo": [
           {
            "marker": {
             "colorbar": {
              "outlinewidth": 0,
              "ticks": ""
             }
            },
            "type": "scattergeo"
           }
          ],
          "scattergl": [
           {
            "marker": {
             "colorbar": {
              "outlinewidth": 0,
              "ticks": ""
             }
            },
            "type": "scattergl"
           }
          ],
          "scattermapbox": [
           {
            "marker": {
             "colorbar": {
              "outlinewidth": 0,
              "ticks": ""
             }
            },
            "type": "scattermapbox"
           }
          ],
          "scatterpolar": [
           {
            "marker": {
             "colorbar": {
              "outlinewidth": 0,
              "ticks": ""
             }
            },
            "type": "scatterpolar"
           }
          ],
          "scatterpolargl": [
           {
            "marker": {
             "colorbar": {
              "outlinewidth": 0,
              "ticks": ""
             }
            },
            "type": "scatterpolargl"
           }
          ],
          "scatterternary": [
           {
            "marker": {
             "colorbar": {
              "outlinewidth": 0,
              "ticks": ""
             }
            },
            "type": "scatterternary"
           }
          ],
          "surface": [
           {
            "colorbar": {
             "outlinewidth": 0,
             "ticks": ""
            },
            "colorscale": [
             [
              0,
              "#0d0887"
             ],
             [
              0.1111111111111111,
              "#46039f"
             ],
             [
              0.2222222222222222,
              "#7201a8"
             ],
             [
              0.3333333333333333,
              "#9c179e"
             ],
             [
              0.4444444444444444,
              "#bd3786"
             ],
             [
              0.5555555555555556,
              "#d8576b"
             ],
             [
              0.6666666666666666,
              "#ed7953"
             ],
             [
              0.7777777777777778,
              "#fb9f3a"
             ],
             [
              0.8888888888888888,
              "#fdca26"
             ],
             [
              1,
              "#f0f921"
             ]
            ],
            "type": "surface"
           }
          ],
          "table": [
           {
            "cells": {
             "fill": {
              "color": "#EBF0F8"
             },
             "line": {
              "color": "white"
             }
            },
            "header": {
             "fill": {
              "color": "#C8D4E3"
             },
             "line": {
              "color": "white"
             }
            },
            "type": "table"
           }
          ]
         },
         "layout": {
          "annotationdefaults": {
           "arrowcolor": "#2a3f5f",
           "arrowhead": 0,
           "arrowwidth": 1
          },
          "autotypenumbers": "strict",
          "coloraxis": {
           "colorbar": {
            "outlinewidth": 0,
            "ticks": ""
           }
          },
          "colorscale": {
           "diverging": [
            [
             0,
             "#8e0152"
            ],
            [
             0.1,
             "#c51b7d"
            ],
            [
             0.2,
             "#de77ae"
            ],
            [
             0.3,
             "#f1b6da"
            ],
            [
             0.4,
             "#fde0ef"
            ],
            [
             0.5,
             "#f7f7f7"
            ],
            [
             0.6,
             "#e6f5d0"
            ],
            [
             0.7,
             "#b8e186"
            ],
            [
             0.8,
             "#7fbc41"
            ],
            [
             0.9,
             "#4d9221"
            ],
            [
             1,
             "#276419"
            ]
           ],
           "sequential": [
            [
             0,
             "#0d0887"
            ],
            [
             0.1111111111111111,
             "#46039f"
            ],
            [
             0.2222222222222222,
             "#7201a8"
            ],
            [
             0.3333333333333333,
             "#9c179e"
            ],
            [
             0.4444444444444444,
             "#bd3786"
            ],
            [
             0.5555555555555556,
             "#d8576b"
            ],
            [
             0.6666666666666666,
             "#ed7953"
            ],
            [
             0.7777777777777778,
             "#fb9f3a"
            ],
            [
             0.8888888888888888,
             "#fdca26"
            ],
            [
             1,
             "#f0f921"
            ]
           ],
           "sequentialminus": [
            [
             0,
             "#0d0887"
            ],
            [
             0.1111111111111111,
             "#46039f"
            ],
            [
             0.2222222222222222,
             "#7201a8"
            ],
            [
             0.3333333333333333,
             "#9c179e"
            ],
            [
             0.4444444444444444,
             "#bd3786"
            ],
            [
             0.5555555555555556,
             "#d8576b"
            ],
            [
             0.6666666666666666,
             "#ed7953"
            ],
            [
             0.7777777777777778,
             "#fb9f3a"
            ],
            [
             0.8888888888888888,
             "#fdca26"
            ],
            [
             1,
             "#f0f921"
            ]
           ]
          },
          "colorway": [
           "#636efa",
           "#EF553B",
           "#00cc96",
           "#ab63fa",
           "#FFA15A",
           "#19d3f3",
           "#FF6692",
           "#B6E880",
           "#FF97FF",
           "#FECB52"
          ],
          "font": {
           "color": "#2a3f5f"
          },
          "geo": {
           "bgcolor": "white",
           "lakecolor": "white",
           "landcolor": "#E5ECF6",
           "showlakes": true,
           "showland": true,
           "subunitcolor": "white"
          },
          "hoverlabel": {
           "align": "left"
          },
          "hovermode": "closest",
          "mapbox": {
           "style": "light"
          },
          "paper_bgcolor": "white",
          "plot_bgcolor": "#E5ECF6",
          "polar": {
           "angularaxis": {
            "gridcolor": "white",
            "linecolor": "white",
            "ticks": ""
           },
           "bgcolor": "#E5ECF6",
           "radialaxis": {
            "gridcolor": "white",
            "linecolor": "white",
            "ticks": ""
           }
          },
          "scene": {
           "xaxis": {
            "backgroundcolor": "#E5ECF6",
            "gridcolor": "white",
            "gridwidth": 2,
            "linecolor": "white",
            "showbackground": true,
            "ticks": "",
            "zerolinecolor": "white"
           },
           "yaxis": {
            "backgroundcolor": "#E5ECF6",
            "gridcolor": "white",
            "gridwidth": 2,
            "linecolor": "white",
            "showbackground": true,
            "ticks": "",
            "zerolinecolor": "white"
           },
           "zaxis": {
            "backgroundcolor": "#E5ECF6",
            "gridcolor": "white",
            "gridwidth": 2,
            "linecolor": "white",
            "showbackground": true,
            "ticks": "",
            "zerolinecolor": "white"
           }
          },
          "shapedefaults": {
           "line": {
            "color": "#2a3f5f"
           }
          },
          "ternary": {
           "aaxis": {
            "gridcolor": "white",
            "linecolor": "white",
            "ticks": ""
           },
           "baxis": {
            "gridcolor": "white",
            "linecolor": "white",
            "ticks": ""
           },
           "bgcolor": "#E5ECF6",
           "caxis": {
            "gridcolor": "white",
            "linecolor": "white",
            "ticks": ""
           }
          },
          "title": {
           "x": 0.05
          },
          "xaxis": {
           "automargin": true,
           "gridcolor": "white",
           "linecolor": "white",
           "ticks": "",
           "title": {
            "standoff": 15
           },
           "zerolinecolor": "white",
           "zerolinewidth": 2
          },
          "yaxis": {
           "automargin": true,
           "gridcolor": "white",
           "linecolor": "white",
           "ticks": "",
           "title": {
            "standoff": 15
           },
           "zerolinecolor": "white",
           "zerolinewidth": 2
          }
         }
        },
        "xaxis": {
         "title": {
          "text": "predicted distance from WT reference"
         }
        },
        "yaxis": {
         "title": {
          "text": "actual distance from WT reference"
         }
        }
       }
      },
      "text/html": [
       "<div>                            <div id=\"17fbe22a-9b74-4e1d-91ba-68447528ee3a\" class=\"plotly-graph-div\" style=\"height:525px; width:100%;\"></div>            <script type=\"text/javascript\">                require([\"plotly\"], function(Plotly) {                    window.PLOTLYENV=window.PLOTLYENV || {};                                    if (document.getElementById(\"17fbe22a-9b74-4e1d-91ba-68447528ee3a\")) {                    Plotly.newPlot(                        \"17fbe22a-9b74-4e1d-91ba-68447528ee3a\",                        [{\"line\":{\"color\":\"gray\",\"dash\":\"dot\",\"width\":2},\"mode\":\"lines\",\"showlegend\":false,\"x\":[-1.0,-0.6734693877551021,-0.34693877551020413,-0.020408163265306145,0.30612244897959173,0.6326530612244896,0.9591836734693877,1.2857142857142856,1.6122448979591835,1.9387755102040813,2.265306122448979,2.591836734693877,2.9183673469387754,3.244897959183673,3.571428571428571,3.8979591836734686,4.224489795918367,4.551020408163265,4.877551020408163,5.204081632653061,5.530612244897958,5.857142857142857,6.183673469387754,6.5102040816326525,6.836734693877551,7.163265306122449,7.489795918367346,7.816326530612244,8.142857142857142,8.46938775510204,8.795918367346937,9.122448979591836,9.448979591836734,9.775510204081632,10.10204081632653,10.428571428571427,10.755102040816325,11.081632653061224,11.408163265306122,11.734693877551019,12.061224489795917,12.387755102040815,12.714285714285714,13.040816326530612,13.367346938775508,13.693877551020407,14.020408163265305,14.346938775510203,14.673469387755102,15.0],\"y\":[-1.0,-0.6734693877551021,-0.34693877551020413,-0.020408163265306145,0.30612244897959173,0.6326530612244896,0.9591836734693877,1.2857142857142856,1.6122448979591835,1.9387755102040813,2.265306122448979,2.591836734693877,2.9183673469387754,3.244897959183673,3.571428571428571,3.8979591836734686,4.224489795918367,4.551020408163265,4.877551020408163,5.204081632653061,5.530612244897958,5.857142857142857,6.183673469387754,6.5102040816326525,6.836734693877551,7.163265306122449,7.489795918367346,7.816326530612244,8.142857142857142,8.46938775510204,8.795918367346937,9.122448979591836,9.448979591836734,9.775510204081632,10.10204081632653,10.428571428571427,10.755102040816325,11.081632653061224,11.408163265306122,11.734693877551019,12.061224489795917,12.387755102040815,12.714285714285714,13.040816326530612,13.367346938775508,13.693877551020407,14.020408163265305,14.346938775510203,14.673469387755102,15.0],\"type\":\"scatter\"},{\"marker\":{\"color\":[\"#00CC96\",\"#00CC96\",\"#00CC96\"],\"line\":{\"color\":\"DarkSlateGrey\",\"width\":0.8},\"opacity\":1,\"size\":10},\"mode\":\"markers\",\"name\":\"tbxta\",\"showlegend\":true,\"x\":[13.262090987834533,13.532429142861412,13.625008583726165],\"y\":[13.597416638651389,13.27272387904246,13.328263271431489],\"type\":\"scatter\"},{\"marker\":{\"color\":[\"#636EFA\",\"#636EFA\",\"#636EFA\",\"#636EFA\",\"#636EFA\",\"#636EFA\",\"#636EFA\",\"#636EFA\",\"#636EFA\",\"#636EFA\",\"#636EFA\",\"#636EFA\",\"#636EFA\",\"#636EFA\",\"#636EFA\",\"#636EFA\",\"#636EFA\",\"#636EFA\"],\"line\":{\"color\":\"DarkSlateGrey\",\"width\":0.8},\"opacity\":1,\"size\":10},\"mode\":\"markers\",\"name\":\"wik-inj-ctrl\",\"x\":[0.6750391158893131,0.6678173499707951,0.6695890090875342,2.4304153445753105,1.0262984099129944,1.2337521029383804,1.439316129312513,1.306444932229046,1.3407367839649897,1.4211997820305649,1.3342279532750796,1.8650459968521582,1.5805824473385894,1.8578431543959597,1.7583719171476537,1.5053591432544216,1.7140162769864709,1.3478603000616318],\"y\":[0.8735349576442115,0.7558431175120526,0.3866427195273,0.8101272431433859,2.077189255452445,1.6220308147355962,2.245949435953581,1.2058498028316875,1.5341047434876205,1.9001125195554425,0.7845878911642565,2.362493799076193,0.8509546723160858,2.5099689816016366,2.424069784431629,2.2282892593116896,2.5620473496715,2.2623586068194608],\"type\":\"scatter\"},{\"marker\":{\"color\":[\"#EF553B\",\"#EF553B\",\"#EF553B\",\"#EF553B\",\"#EF553B\",\"#EF553B\",\"#EF553B\",\"#EF553B\",\"#EF553B\",\"#EF553B\",\"#EF553B\",\"#EF553B\",\"#EF553B\",\"#EF553B\",\"#EF553B\",\"#EF553B\",\"#EF553B\",\"#EF553B\",\"#EF553B\",\"#EF553B\",\"#EF553B\",\"#EF553B\",\"#EF553B\",\"#EF553B\",\"#EF553B\",\"#EF553B\",\"#EF553B\",\"#EF553B\",\"#EF553B\",\"#EF553B\",\"#EF553B\",\"#EF553B\",\"#EF553B\",\"#EF553B\",\"#EF553B\",\"#EF553B\",\"#EF553B\",\"#EF553B\",\"#EF553B\",\"#EF553B\",\"#EF553B\",\"#EF553B\"],\"line\":{\"color\":\"DarkSlateGrey\",\"width\":1.3},\"opacity\":1,\"size\":10.5},\"mode\":\"markers\",\"name\":\"lmx1b\",\"x\":[2.022837205338475,2.0672918267865024,1.8866327336480277,2.100223653412616,1.8873962370696553,1.8822722092767041,2.734795744975039,2.4320268674958436,2.5717874818143303,4.083273346036233,2.491159916434698,1.8203318492425553,4.083998895639476,2.6922830806950606,3.3954052742574827,3.8019301539791996,2.507635100422859,3.4404176197986542,1.7208223745037834,1.8638959630928513,0.9463437213036981,0.8425769134825111,1.5535088172508662,1.6627525605964284,2.5168879766278023,1.0539495119703044,4.070445799548852,3.8882985972740016,3.886116826670981,4.068066865004308,3.9708310201890704,4.083481612971448,4.1443003283425925,3.891719673578444,3.9120698892886137,4.16498301142307,4.101343296905257,3.685779026144484,4.045343608285869,3.7654240976553766,3.9237149239548046,3.88300116351751],\"y\":[2.209698815665938,2.068622641784855,2.038142906475023,1.9189162706015752,4.228729672263047,2.9217128594265054,3.595307770674135,2.814456345908446,4.669772576594772,4.014623723535782,3.432424629282793,2.687861822154056,5.4884992553017105,3.3944315020397116,2.8733726372956343,3.78483181889138,1.3360617596199789,3.770914276062538,2.1030879949412067,2.4307643284415623,2.5482625314967473,2.342434211784016,1.90179668934838,2.111554899997382,2.5579530568589304,2.3855787870629954,3.4116546339013523,4.001993738365234,3.5435712951261924,2.8761335058452286,3.421106746630833,4.04244231794649,3.9176927905145034,4.421424515130376,3.078029152050218,4.07847429383447,5.007678202717309,5.014656338214986,4.058379541338493,3.8698950712804097,2.8070108430166236,3.7219926612700784],\"type\":\"scatter\"}],                        {\"template\":{\"data\":{\"histogram2dcontour\":[{\"type\":\"histogram2dcontour\",\"colorbar\":{\"outlinewidth\":0,\"ticks\":\"\"},\"colorscale\":[[0.0,\"#0d0887\"],[0.1111111111111111,\"#46039f\"],[0.2222222222222222,\"#7201a8\"],[0.3333333333333333,\"#9c179e\"],[0.4444444444444444,\"#bd3786\"],[0.5555555555555556,\"#d8576b\"],[0.6666666666666666,\"#ed7953\"],[0.7777777777777778,\"#fb9f3a\"],[0.8888888888888888,\"#fdca26\"],[1.0,\"#f0f921\"]]}],\"choropleth\":[{\"type\":\"choropleth\",\"colorbar\":{\"outlinewidth\":0,\"ticks\":\"\"}}],\"histogram2d\":[{\"type\":\"histogram2d\",\"colorbar\":{\"outlinewidth\":0,\"ticks\":\"\"},\"colorscale\":[[0.0,\"#0d0887\"],[0.1111111111111111,\"#46039f\"],[0.2222222222222222,\"#7201a8\"],[0.3333333333333333,\"#9c179e\"],[0.4444444444444444,\"#bd3786\"],[0.5555555555555556,\"#d8576b\"],[0.6666666666666666,\"#ed7953\"],[0.7777777777777778,\"#fb9f3a\"],[0.8888888888888888,\"#fdca26\"],[1.0,\"#f0f921\"]]}],\"heatmap\":[{\"type\":\"heatmap\",\"colorbar\":{\"outlinewidth\":0,\"ticks\":\"\"},\"colorscale\":[[0.0,\"#0d0887\"],[0.1111111111111111,\"#46039f\"],[0.2222222222222222,\"#7201a8\"],[0.3333333333333333,\"#9c179e\"],[0.4444444444444444,\"#bd3786\"],[0.5555555555555556,\"#d8576b\"],[0.6666666666666666,\"#ed7953\"],[0.7777777777777778,\"#fb9f3a\"],[0.8888888888888888,\"#fdca26\"],[1.0,\"#f0f921\"]]}],\"heatmapgl\":[{\"type\":\"heatmapgl\",\"colorbar\":{\"outlinewidth\":0,\"ticks\":\"\"},\"colorscale\":[[0.0,\"#0d0887\"],[0.1111111111111111,\"#46039f\"],[0.2222222222222222,\"#7201a8\"],[0.3333333333333333,\"#9c179e\"],[0.4444444444444444,\"#bd3786\"],[0.5555555555555556,\"#d8576b\"],[0.6666666666666666,\"#ed7953\"],[0.7777777777777778,\"#fb9f3a\"],[0.8888888888888888,\"#fdca26\"],[1.0,\"#f0f921\"]]}],\"contourcarpet\":[{\"type\":\"contourcarpet\",\"colorbar\":{\"outlinewidth\":0,\"ticks\":\"\"}}],\"contour\":[{\"type\":\"contour\",\"colorbar\":{\"outlinewidth\":0,\"ticks\":\"\"},\"colorscale\":[[0.0,\"#0d0887\"],[0.1111111111111111,\"#46039f\"],[0.2222222222222222,\"#7201a8\"],[0.3333333333333333,\"#9c179e\"],[0.4444444444444444,\"#bd3786\"],[0.5555555555555556,\"#d8576b\"],[0.6666666666666666,\"#ed7953\"],[0.7777777777777778,\"#fb9f3a\"],[0.8888888888888888,\"#fdca26\"],[1.0,\"#f0f921\"]]}],\"surface\":[{\"type\":\"surface\",\"colorbar\":{\"outlinewidth\":0,\"ticks\":\"\"},\"colorscale\":[[0.0,\"#0d0887\"],[0.1111111111111111,\"#46039f\"],[0.2222222222222222,\"#7201a8\"],[0.3333333333333333,\"#9c179e\"],[0.4444444444444444,\"#bd3786\"],[0.5555555555555556,\"#d8576b\"],[0.6666666666666666,\"#ed7953\"],[0.7777777777777778,\"#fb9f3a\"],[0.8888888888888888,\"#fdca26\"],[1.0,\"#f0f921\"]]}],\"mesh3d\":[{\"type\":\"mesh3d\",\"colorbar\":{\"outlinewidth\":0,\"ticks\":\"\"}}],\"scatter\":[{\"fillpattern\":{\"fillmode\":\"overlay\",\"size\":10,\"solidity\":0.2},\"type\":\"scatter\"}],\"parcoords\":[{\"type\":\"parcoords\",\"line\":{\"colorbar\":{\"outlinewidth\":0,\"ticks\":\"\"}}}],\"scatterpolargl\":[{\"type\":\"scatterpolargl\",\"marker\":{\"colorbar\":{\"outlinewidth\":0,\"ticks\":\"\"}}}],\"bar\":[{\"error_x\":{\"color\":\"#2a3f5f\"},\"error_y\":{\"color\":\"#2a3f5f\"},\"marker\":{\"line\":{\"color\":\"#E5ECF6\",\"width\":0.5},\"pattern\":{\"fillmode\":\"overlay\",\"size\":10,\"solidity\":0.2}},\"type\":\"bar\"}],\"scattergeo\":[{\"type\":\"scattergeo\",\"marker\":{\"colorbar\":{\"outlinewidth\":0,\"ticks\":\"\"}}}],\"scatterpolar\":[{\"type\":\"scatterpolar\",\"marker\":{\"colorbar\":{\"outlinewidth\":0,\"ticks\":\"\"}}}],\"histogram\":[{\"marker\":{\"pattern\":{\"fillmode\":\"overlay\",\"size\":10,\"solidity\":0.2}},\"type\":\"histogram\"}],\"scattergl\":[{\"type\":\"scattergl\",\"marker\":{\"colorbar\":{\"outlinewidth\":0,\"ticks\":\"\"}}}],\"scatter3d\":[{\"type\":\"scatter3d\",\"line\":{\"colorbar\":{\"outlinewidth\":0,\"ticks\":\"\"}},\"marker\":{\"colorbar\":{\"outlinewidth\":0,\"ticks\":\"\"}}}],\"scattermapbox\":[{\"type\":\"scattermapbox\",\"marker\":{\"colorbar\":{\"outlinewidth\":0,\"ticks\":\"\"}}}],\"scatterternary\":[{\"type\":\"scatterternary\",\"marker\":{\"colorbar\":{\"outlinewidth\":0,\"ticks\":\"\"}}}],\"scattercarpet\":[{\"type\":\"scattercarpet\",\"marker\":{\"colorbar\":{\"outlinewidth\":0,\"ticks\":\"\"}}}],\"carpet\":[{\"aaxis\":{\"endlinecolor\":\"#2a3f5f\",\"gridcolor\":\"white\",\"linecolor\":\"white\",\"minorgridcolor\":\"white\",\"startlinecolor\":\"#2a3f5f\"},\"baxis\":{\"endlinecolor\":\"#2a3f5f\",\"gridcolor\":\"white\",\"linecolor\":\"white\",\"minorgridcolor\":\"white\",\"startlinecolor\":\"#2a3f5f\"},\"type\":\"carpet\"}],\"table\":[{\"cells\":{\"fill\":{\"color\":\"#EBF0F8\"},\"line\":{\"color\":\"white\"}},\"header\":{\"fill\":{\"color\":\"#C8D4E3\"},\"line\":{\"color\":\"white\"}},\"type\":\"table\"}],\"barpolar\":[{\"marker\":{\"line\":{\"color\":\"#E5ECF6\",\"width\":0.5},\"pattern\":{\"fillmode\":\"overlay\",\"size\":10,\"solidity\":0.2}},\"type\":\"barpolar\"}],\"pie\":[{\"automargin\":true,\"type\":\"pie\"}]},\"layout\":{\"autotypenumbers\":\"strict\",\"colorway\":[\"#636efa\",\"#EF553B\",\"#00cc96\",\"#ab63fa\",\"#FFA15A\",\"#19d3f3\",\"#FF6692\",\"#B6E880\",\"#FF97FF\",\"#FECB52\"],\"font\":{\"color\":\"#2a3f5f\"},\"hovermode\":\"closest\",\"hoverlabel\":{\"align\":\"left\"},\"paper_bgcolor\":\"white\",\"plot_bgcolor\":\"#E5ECF6\",\"polar\":{\"bgcolor\":\"#E5ECF6\",\"angularaxis\":{\"gridcolor\":\"white\",\"linecolor\":\"white\",\"ticks\":\"\"},\"radialaxis\":{\"gridcolor\":\"white\",\"linecolor\":\"white\",\"ticks\":\"\"}},\"ternary\":{\"bgcolor\":\"#E5ECF6\",\"aaxis\":{\"gridcolor\":\"white\",\"linecolor\":\"white\",\"ticks\":\"\"},\"baxis\":{\"gridcolor\":\"white\",\"linecolor\":\"white\",\"ticks\":\"\"},\"caxis\":{\"gridcolor\":\"white\",\"linecolor\":\"white\",\"ticks\":\"\"}},\"coloraxis\":{\"colorbar\":{\"outlinewidth\":0,\"ticks\":\"\"}},\"colorscale\":{\"sequential\":[[0.0,\"#0d0887\"],[0.1111111111111111,\"#46039f\"],[0.2222222222222222,\"#7201a8\"],[0.3333333333333333,\"#9c179e\"],[0.4444444444444444,\"#bd3786\"],[0.5555555555555556,\"#d8576b\"],[0.6666666666666666,\"#ed7953\"],[0.7777777777777778,\"#fb9f3a\"],[0.8888888888888888,\"#fdca26\"],[1.0,\"#f0f921\"]],\"sequentialminus\":[[0.0,\"#0d0887\"],[0.1111111111111111,\"#46039f\"],[0.2222222222222222,\"#7201a8\"],[0.3333333333333333,\"#9c179e\"],[0.4444444444444444,\"#bd3786\"],[0.5555555555555556,\"#d8576b\"],[0.6666666666666666,\"#ed7953\"],[0.7777777777777778,\"#fb9f3a\"],[0.8888888888888888,\"#fdca26\"],[1.0,\"#f0f921\"]],\"diverging\":[[0,\"#8e0152\"],[0.1,\"#c51b7d\"],[0.2,\"#de77ae\"],[0.3,\"#f1b6da\"],[0.4,\"#fde0ef\"],[0.5,\"#f7f7f7\"],[0.6,\"#e6f5d0\"],[0.7,\"#b8e186\"],[0.8,\"#7fbc41\"],[0.9,\"#4d9221\"],[1,\"#276419\"]]},\"xaxis\":{\"gridcolor\":\"white\",\"linecolor\":\"white\",\"ticks\":\"\",\"title\":{\"standoff\":15},\"zerolinecolor\":\"white\",\"automargin\":true,\"zerolinewidth\":2},\"yaxis\":{\"gridcolor\":\"white\",\"linecolor\":\"white\",\"ticks\":\"\",\"title\":{\"standoff\":15},\"zerolinecolor\":\"white\",\"automargin\":true,\"zerolinewidth\":2},\"scene\":{\"xaxis\":{\"backgroundcolor\":\"#E5ECF6\",\"gridcolor\":\"white\",\"linecolor\":\"white\",\"showbackground\":true,\"ticks\":\"\",\"zerolinecolor\":\"white\",\"gridwidth\":2},\"yaxis\":{\"backgroundcolor\":\"#E5ECF6\",\"gridcolor\":\"white\",\"linecolor\":\"white\",\"showbackground\":true,\"ticks\":\"\",\"zerolinecolor\":\"white\",\"gridwidth\":2},\"zaxis\":{\"backgroundcolor\":\"#E5ECF6\",\"gridcolor\":\"white\",\"linecolor\":\"white\",\"showbackground\":true,\"ticks\":\"\",\"zerolinecolor\":\"white\",\"gridwidth\":2}},\"shapedefaults\":{\"line\":{\"color\":\"#2a3f5f\"}},\"annotationdefaults\":{\"arrowcolor\":\"#2a3f5f\",\"arrowhead\":0,\"arrowwidth\":1},\"geo\":{\"bgcolor\":\"white\",\"landcolor\":\"#E5ECF6\",\"subunitcolor\":\"white\",\"showland\":true,\"showlakes\":true,\"lakecolor\":\"white\"},\"title\":{\"x\":0.05},\"mapbox\":{\"style\":\"light\"}}},\"font\":{\"family\":\"Arial\",\"size\":14,\"color\":\"Black\"},\"xaxis\":{\"title\":{\"text\":\"predicted distance from WT reference\"}},\"yaxis\":{\"title\":{\"text\":\"actual distance from WT reference\"}},\"legend\":{\"title\":{\"text\":\"perturbation\"}}},                        {\"responsive\": true}                    ).then(function(){\n",
       "                            \n",
       "var gd = document.getElementById('17fbe22a-9b74-4e1d-91ba-68447528ee3a');\n",
       "var x = new MutationObserver(function (mutations, observer) {{\n",
       "        var display = window.getComputedStyle(gd).display;\n",
       "        if (!display || display === 'none') {{\n",
       "            console.log([gd, 'removed!']);\n",
       "            Plotly.purge(gd);\n",
       "            observer.disconnect();\n",
       "        }}\n",
       "}});\n",
       "\n",
       "// Listen for the removal of the full notebook cells\n",
       "var notebookContainer = gd.closest('#notebook-container');\n",
       "if (notebookContainer) {{\n",
       "    x.observe(notebookContainer, {childList: true});\n",
       "}}\n",
       "\n",
       "// Listen for the clearing of the current output cell\n",
       "var outputEl = gd.closest('.output');\n",
       "if (outputEl) {{\n",
       "    x.observe(outputEl, {childList: true});\n",
       "}}\n",
       "\n",
       "                        })                };                });            </script>        </div>"
      ]
     },
     "metadata": {},
     "output_type": "display_data"
    }
   ],
   "source": [
    "import plotly.graph_objects as go\n",
    "\n",
    "label_dict = {\"morph_wik_dist_actual\": \"actual distance from WT reference\",\n",
    "                         \"morph_wik_dist_pd\": \"predicted distance from WT reference\",\n",
    "                         \"master_perturbation\":\"perturbation\"}\n",
    "pastel_red = \"rgb(251,180,174)\"\n",
    "\n",
    "color_dict = dict({\"lmx1b\" :\"#EF553B\" , \"wik\":\"black\", \"wik-inj-ctrl\":\"#636EFA\", \"tbxta\":\"#00CC96\"})\n",
    "color_vec = np.asarray([color_dict[p] for p in res_df_test.loc[:, \"master_perturbation\"].tolist()])\n",
    "\n",
    "# just the line\n",
    "fig = go.Figure()\n",
    "\n",
    "ref_line = np.linspace(-1, 15)\n",
    "fig.add_scatter(\n",
    "        x=ref_line, \n",
    "        y=ref_line, \n",
    "        mode='lines', \n",
    "        line_color='gray', \n",
    "        showlegend=False,\n",
    "        line=dict(width=2, dash='dot')\n",
    "    )\n",
    "\n",
    "\n",
    "fig.update_layout(\n",
    "    xaxis_title=\"predicted distance from WT reference\",\n",
    "    yaxis_title=\"actual distance from WT reference\",\n",
    "    legend_title=\"perturbation\",\n",
    "    font=dict(\n",
    "        family=\"Arial\",\n",
    "        size=14,\n",
    "        color=\"Black\"\n",
    "    )\n",
    ")\n",
    "\n",
    "fig.add_scatter(x=res_df_test.loc[tbxta_bool, \"morph_wik_dist_pd\"], \n",
    "                y=res_df_test.loc[tbxta_bool, \"morph_wik_dist_actual\"], \n",
    "                mode=\"markers\",\n",
    "                marker=dict(size=10, opacity=0, color=color_vec[tbxta_bool],\n",
    "                                      ),\n",
    "                name=\"wik-inj-ctrl\"\n",
    "               )\n",
    "\n",
    "fig.write_image(os.path.join(figure_dir, \"lmx_distance_prediction_plot00.png\"), scale=4)\n",
    "\n",
    "#######\n",
    "# add tbxta and inj-ctrl\n",
    "\n",
    "fig = go.Figure()\n",
    "\n",
    "ref_line = np.linspace(-1, 15)\n",
    "fig.add_scatter(\n",
    "        x=ref_line, \n",
    "        y=ref_line, \n",
    "        mode='lines', \n",
    "        line_color='gray', \n",
    "        showlegend=False,\n",
    "        line=dict(width=2, dash='dot')\n",
    "    )\n",
    "\n",
    "\n",
    "fig.update_layout(\n",
    "    xaxis_title=\"predicted distance from WT reference\",\n",
    "    yaxis_title=\"actual distance from WT reference\",\n",
    "    legend_title=\"perturbation\",\n",
    "    font=dict(\n",
    "        family=\"Arial\",\n",
    "        size=14,\n",
    "        color=\"Black\"\n",
    "    )\n",
    ")\n",
    "\n",
    "fig.add_scatter(x=res_df_test.loc[tbxta_bool, \"morph_wik_dist_pd\"], \n",
    "                y=res_df_test.loc[tbxta_bool, \"morph_wik_dist_actual\"], \n",
    "                mode=\"markers\",\n",
    "                marker=dict(size=10, opacity=1, color=color_vec[tbxta_bool],\n",
    "                                      line=dict(width=0.8,\n",
    "                                        color='DarkSlateGrey')),\n",
    "                name=\"tbxta\",\n",
    "                showlegend=True\n",
    "               )\n",
    "\n",
    "fig.add_scatter(x=res_df_test.loc[ctrl_bool, \"morph_wik_dist_pd\"], \n",
    "                y=res_df_test.loc[ctrl_bool, \"morph_wik_dist_actual\"], \n",
    "                mode=\"markers\",\n",
    "                marker=dict(size=10, opacity=1, color=color_vec[ctrl_bool],\n",
    "                                      line=dict(width=0.8,\n",
    "                                        color='DarkSlateGrey')),\n",
    "                name=\"wik-inj-ctrl\"\n",
    "               )\n",
    "\n",
    "\n",
    "\n",
    "fig.write_image(os.path.join(figure_dir, \"lmx_distance_prediction_plot01.png\"), scale=4)\n",
    "     \n",
    "fig.add_scatter(x=res_df_test.loc[lmx_bool, \"morph_wik_dist_pd\"], \n",
    "                y=res_df_test.loc[lmx_bool, \"morph_wik_dist_actual\"], \n",
    "                mode=\"markers\",\n",
    "                marker=dict(size=10.5, opacity=1, color=color_vec[lmx_bool],\n",
    "                                      line=dict(width=1.3,\n",
    "                                        color='DarkSlateGrey')),\n",
    "                name=\"lmx1b\"\n",
    "               )\n",
    "\n",
    "\n",
    "fig.write_image(os.path.join(figure_dir, \"lmx_distance_prediction_plot02.png\"), scale=4)\n",
    "                            \n",
    "fig.show()\n",
    "# # # save\n",
    "# # fig.write_image(os.path.join(figure_dir, \"lmx_distance_prediction_plot.png\"), scale=4)"
   ]
  },
  {
   "cell_type": "markdown",
   "id": "a520cbe3",
   "metadata": {},
   "source": [
    "### Latent space plots"
   ]
  },
  {
   "cell_type": "code",
   "execution_count": null,
   "id": "e7c43307",
   "metadata": {},
   "outputs": [],
   "source": []
  }
 ],
 "metadata": {
  "kernelspec": {
   "display_name": "Python 3 (ipykernel)",
   "language": "python",
   "name": "python3"
  },
  "language_info": {
   "codemirror_mode": {
    "name": "ipython",
    "version": 3
   },
   "file_extension": ".py",
   "mimetype": "text/x-python",
   "name": "python",
   "nbconvert_exporter": "python",
   "pygments_lexer": "ipython3",
   "version": "3.10.8"
  }
 },
 "nbformat": 4,
 "nbformat_minor": 5
}
