{
 "cells": [
  {
   "cell_type": "code",
   "execution_count": 1,
   "id": "initial_id",
   "metadata": {
    "ExecuteTime": {
     "end_time": "2024-04-17T17:40:35.664630Z",
     "start_time": "2024-04-17T17:40:35.075460Z"
    }
   },
   "outputs": [
    {
     "ename": "ImportError",
     "evalue": "cannot import name 'collate_dataset_output' from 'pythae.data.datasets' (/Users/nick/miniforge3/envs/network-env/lib/python3.10/site-packages/pythae/data/datasets.py)",
     "output_type": "error",
     "traceback": [
      "\u001b[0;31m---------------------------------------------------------------------------\u001b[0m",
      "\u001b[0;31mImportError\u001b[0m                               Traceback (most recent call last)",
      "Cell \u001b[0;32mIn[1], line 3\u001b[0m\n\u001b[1;32m      1\u001b[0m \u001b[38;5;28;01mimport\u001b[39;00m \u001b[38;5;21;01mskimage\u001b[39;00m\u001b[38;5;21;01m.\u001b[39;00m\u001b[38;5;21;01mio\u001b[39;00m \u001b[38;5;28;01mas\u001b[39;00m \u001b[38;5;21;01mio\u001b[39;00m\n\u001b[1;32m      2\u001b[0m \u001b[38;5;28;01mimport\u001b[39;00m \u001b[38;5;21;01mnumpy\u001b[39;00m \u001b[38;5;28;01mas\u001b[39;00m \u001b[38;5;21;01mnp\u001b[39;00m\n\u001b[0;32m----> 3\u001b[0m \u001b[38;5;28;01mfrom\u001b[39;00m \u001b[38;5;21;01msrc\u001b[39;00m\u001b[38;5;21;01m.\u001b[39;00m\u001b[38;5;21;01mfunctions\u001b[39;00m\u001b[38;5;21;01m.\u001b[39;00m\u001b[38;5;21;01mimage_utils\u001b[39;00m \u001b[38;5;28;01mimport\u001b[39;00m gaussian_focus_stacker, LoG_focus_stacker\n\u001b[1;32m      4\u001b[0m \u001b[38;5;28;01mfrom\u001b[39;00m \u001b[38;5;21;01msrc\u001b[39;00m\u001b[38;5;21;01m.\u001b[39;00m\u001b[38;5;21;01mfunctions\u001b[39;00m\u001b[38;5;21;01m.\u001b[39;00m\u001b[38;5;21;01mutilities\u001b[39;00m \u001b[38;5;28;01mimport\u001b[39;00m path_leaf\n\u001b[1;32m      5\u001b[0m \u001b[38;5;28;01mimport\u001b[39;00m \u001b[38;5;21;01mos\u001b[39;00m\n",
      "File \u001b[0;32m~/Projects/morphseq/src/functions/image_utils.py:5\u001b[0m\n\u001b[1;32m      3\u001b[0m \u001b[38;5;28;01mimport\u001b[39;00m \u001b[38;5;21;01mtorch\u001b[39;00m\n\u001b[1;32m      4\u001b[0m \u001b[38;5;28;01mimport\u001b[39;00m \u001b[38;5;21;01mtorch\u001b[39;00m\u001b[38;5;21;01m.\u001b[39;00m\u001b[38;5;21;01mnn\u001b[39;00m\u001b[38;5;21;01m.\u001b[39;00m\u001b[38;5;21;01mfunctional\u001b[39;00m \u001b[38;5;28;01mas\u001b[39;00m \u001b[38;5;21;01mF\u001b[39;00m\n\u001b[0;32m----> 5\u001b[0m \u001b[38;5;28;01mfrom\u001b[39;00m \u001b[38;5;21;01msrc\u001b[39;00m\u001b[38;5;21;01m.\u001b[39;00m\u001b[38;5;21;01mfunctions\u001b[39;00m\u001b[38;5;21;01m.\u001b[39;00m\u001b[38;5;21;01mdataset_utils\u001b[39;00m \u001b[38;5;28;01mimport\u001b[39;00m set_inputs_to_device\n\u001b[1;32m      7\u001b[0m \u001b[38;5;28;01mdef\u001b[39;00m \u001b[38;5;21mdoLap\u001b[39m(image, lap_size\u001b[38;5;241m=\u001b[39m\u001b[38;5;241m3\u001b[39m, blur_size\u001b[38;5;241m=\u001b[39m\u001b[38;5;241m3\u001b[39m):\n\u001b[1;32m      8\u001b[0m \n\u001b[1;32m      9\u001b[0m     \u001b[38;5;66;03m# YOU SHOULD TUNE THESE VALUES TO SUIT YOUR NEEDS\u001b[39;00m\n\u001b[0;32m   (...)\u001b[0m\n\u001b[1;32m     12\u001b[0m     \u001b[38;5;66;03m# Generally, keeping these two values the same or very close works well\u001b[39;00m\n\u001b[1;32m     13\u001b[0m     \u001b[38;5;66;03m# Also, odd numbers, please...\u001b[39;00m\n\u001b[1;32m     15\u001b[0m     blurred \u001b[38;5;241m=\u001b[39m cv2\u001b[38;5;241m.\u001b[39mGaussianBlur(image, (blur_size, blur_size), \u001b[38;5;241m0\u001b[39m)\n",
      "File \u001b[0;32m~/Projects/morphseq/src/functions/dataset_utils.py:9\u001b[0m\n\u001b[1;32m      7\u001b[0m \u001b[38;5;28;01mfrom\u001b[39;00m \u001b[38;5;21;01mtorch\u001b[39;00m\u001b[38;5;21;01m.\u001b[39;00m\u001b[38;5;21;01mutils\u001b[39;00m\u001b[38;5;21;01m.\u001b[39;00m\u001b[38;5;21;01mdata\u001b[39;00m\u001b[38;5;21;01m.\u001b[39;00m\u001b[38;5;21;01msampler\u001b[39;00m \u001b[38;5;28;01mimport\u001b[39;00m SubsetRandomSampler\n\u001b[1;32m      8\u001b[0m \u001b[38;5;28;01mfrom\u001b[39;00m \u001b[38;5;21;01mtorch\u001b[39;00m\u001b[38;5;21;01m.\u001b[39;00m\u001b[38;5;21;01mutils\u001b[39;00m\u001b[38;5;21;01m.\u001b[39;00m\u001b[38;5;21;01mdata\u001b[39;00m \u001b[38;5;28;01mimport\u001b[39;00m DataLoader\n\u001b[0;32m----> 9\u001b[0m \u001b[38;5;28;01mfrom\u001b[39;00m \u001b[38;5;21;01mpythae\u001b[39;00m\u001b[38;5;21;01m.\u001b[39;00m\u001b[38;5;21;01mdata\u001b[39;00m\u001b[38;5;21;01m.\u001b[39;00m\u001b[38;5;21;01mdatasets\u001b[39;00m \u001b[38;5;28;01mimport\u001b[39;00m collate_dataset_output\n\u001b[1;32m     11\u001b[0m \u001b[38;5;28;01mdef\u001b[39;00m \u001b[38;5;21mpreload_data\u001b[39m(root, training_config, load_batch_size\u001b[38;5;241m=\u001b[39m\u001b[38;5;241m128\u001b[39m):\n\u001b[1;32m     12\u001b[0m     \u001b[38;5;66;03m# look for device \u001b[39;00m\n\u001b[1;32m     13\u001b[0m     device \u001b[38;5;241m=\u001b[39m (\n\u001b[1;32m     14\u001b[0m         \u001b[38;5;124m\"\u001b[39m\u001b[38;5;124mcuda\u001b[39m\u001b[38;5;124m\"\u001b[39m\n\u001b[1;32m     15\u001b[0m         \u001b[38;5;28;01mif\u001b[39;00m torch\u001b[38;5;241m.\u001b[39mcuda\u001b[38;5;241m.\u001b[39mis_available() \u001b[38;5;129;01mand\u001b[39;00m \u001b[38;5;129;01mnot\u001b[39;00m training_config\u001b[38;5;241m.\u001b[39mno_cuda\n\u001b[1;32m     16\u001b[0m         \u001b[38;5;28;01melse\u001b[39;00m \u001b[38;5;124m\"\u001b[39m\u001b[38;5;124mcpu\u001b[39m\u001b[38;5;124m\"\u001b[39m\n\u001b[1;32m     17\u001b[0m     )\n",
      "\u001b[0;31mImportError\u001b[0m: cannot import name 'collate_dataset_output' from 'pythae.data.datasets' (/Users/nick/miniforge3/envs/network-env/lib/python3.10/site-packages/pythae/data/datasets.py)"
     ]
    }
   ],
   "source": [
    "import skimage.io as io\n",
    "import numpy as np\n",
    "from src.functions.image_utils import gaussian_focus_stacker, LoG_focus_stacker\n",
    "from src.functions.utilities import path_leaf\n",
    "import os\n",
    "import glob2 as glob\n",
    "from skimage.transform import resize\n",
    "from matplotlib import pyplot as plt\n",
    "import torch"
   ]
  },
  {
   "cell_type": "code",
   "execution_count": null,
   "id": "84f111d6-945a-4f49-92dc-8d26f43cb408",
   "metadata": {},
   "outputs": [],
   "source": [
    "# set path to image files\n",
    "experiment_date = \"20230613\"\n",
    "root = \"/media/nick/hdd01/data/morphseq/built_image_data/\"\n",
    "stacked_image_path = os.path.join(root, \"keyence_stitched_z\", experiment_date, \"\")\n",
    "seg_image_path = os.path.join(root, \"segmentation\", experiment_date, \"\")\n",
    "\n",
    "# get list of image stacks\n",
    "image_list = sorted(glob.glob(stacked_image_path + \"*.tif\"))"
   ]
  },
  {
   "cell_type": "markdown",
   "id": "32ede86c-9f6e-4ad9-9967-333981d66c2a",
   "metadata": {},
   "source": [
    "### Load a sample image stack"
   ]
  },
  {
   "cell_type": "code",
   "execution_count": null,
   "id": "e1992159-2d28-49e4-b8a6-fbc92ad8868a",
   "metadata": {},
   "outputs": [],
   "source": [
    "im_ind = 131\n",
    "im_path = image_list[im_ind]\n",
    "im_name = path_leaf(im_path)\n",
    "\n",
    "# load stack\n",
    "im_stack = io.imread(im_path)\n",
    "\n",
    "# load mask\n",
    "mask_path = seg_image_path + im_name[:9] + \"_stitch.jpg\"\n",
    "im_mask = io.imread(mask_path)\n",
    "\n",
    "f, axarr = plt.subplots(1,2)\n",
    "axarr[0].imshow(im_stack[15, :, :])\n",
    "axarr[1].imshow(im_mask)\n",
    "plt.show()                    "
   ]
  },
  {
   "cell_type": "markdown",
   "id": "6faece8e-ba8c-4628-833f-b57b97de93c7",
   "metadata": {},
   "source": [
    "### Calculate FF using standard method"
   ]
  },
  {
   "cell_type": "code",
   "execution_count": null,
   "id": "0e099640-0754-4ce8-8071-57da8b5f1839",
   "metadata": {},
   "outputs": [],
   "source": [
    "im_FF, log_maxima = LoG_focus_stacker(torch.tensor(im_stack.astype(np.double)), filter_size=3, device=\"cpu\")\n",
    "\n",
    "plt.imshow(im_FF[0:450, 200:500])\n",
    "plt.show()"
   ]
  },
  {
   "cell_type": "markdown",
   "id": "2986cb4c-a552-43b5-8018-c8c7b3cd000b",
   "metadata": {},
   "source": [
    "### What if we used a z stack with half the the z resolution?"
   ]
  },
  {
   "cell_type": "code",
   "execution_count": null,
   "id": "44b49816-cd05-4e77-8087-4c8acaf98165",
   "metadata": {},
   "outputs": [],
   "source": [
    "im_stack_ds = im_stack[np.arange(0, im_stack.shape[0], 2), :, :]\n",
    "im_stack_ds2 = im_stack[np.arange(0, im_stack.shape[0], 4), :, :]\n",
    "im_stack_ds3 = im_stack[np.arange(0, im_stack.shape[0], 6), :, :]\n",
    "im_FF_ds, _ = LoG_focus_stacker(torch.tensor(im_stack_ds.astype(np.double)), filter_size=3, device=\"cpu\")\n",
    "im_FF_ds2, _ = LoG_focus_stacker(torch.tensor(im_stack_ds2.astype(np.double)), filter_size=3, device=\"cpu\")\n",
    "im_FF_ds3, _ = LoG_focus_stacker(torch.tensor(im_stack_ds3.astype(np.double)), filter_size=3, device=\"cpu\")\n",
    "\n",
    "f, axarr = plt.subplots(2,2)\n",
    "axarr[0,0].imshow(255-im_FF[0:450, 200:500])\n",
    "axarr[0,1].imshow(255-im_FF_ds[0:450, 200:500])\n",
    "axarr[1,0].imshow(255-im_FF_ds2[0:450, 200:500])\n",
    "axarr[1,1].imshow(255-im_FF_ds3[0:450, 200:500])\n",
    "f.set_figheight(15)\n",
    "f.set_figwidth(15)\n",
    "plt.show()      "
   ]
  },
  {
   "cell_type": "markdown",
   "id": "9e2240fe-3eba-4af8-9665-4ade43193fdb",
   "metadata": {},
   "source": [
    "To my eye, the 2x reduction in z resolution so 80um has almost no impact on quality. Border artifacts a reduction in image sharpness are evident once we go further."
   ]
  },
  {
   "cell_type": "markdown",
   "id": "b78f825b-b9e0-491e-be98-9a0eef561a78",
   "metadata": {},
   "source": [
    "### What if we just take the most in-focus slice?"
   ]
  },
  {
   "cell_type": "code",
   "execution_count": null,
   "id": "ecdc0a6e-205a-47ef-ab6c-1efc89bdf42f",
   "metadata": {},
   "outputs": [],
   "source": [
    "# resize the mask\n",
    "im_mask_rs = resize(im_mask, im_stack.shape[1:], order=0, preserve_range=True)\n",
    "\n",
    "# turncate the stack\n",
    "im_stack_trunc = im_stack[6:-6, :, :] # simulate a narrower stack\n",
    "im_FF, im_laps = LoG_focus_stacker(torch.tensor(im_stack_trunc.astype(np.double)), filter_size=3, device=\"cpu\")\n",
    "im_FF_g = gaussian_focus_stacker(torch.tensor(im_stack_trunc.astype(np.double)), filter_size=3, device=\"cpu\")\n",
    "\n",
    "im_laps = np.asarray(im_laps)\n",
    "\n",
    "focus_vec = np.empty((im_stack_trunc.shape[0]))\n",
    "for z in range(im_stack_trunc.shape[0]):\n",
    "    lap_slice = im_laps[z]\n",
    "    mean_lap = np.mean(lap_slice[im_mask_rs>0])\n",
    "    focus_vec[z] = mean_lap\n",
    "\n",
    "best_z = np.argmax(focus_vec)\n",
    "\n",
    "f, axarr = plt.subplots(1, 3)\n",
    "axarr[0].imshow(im_FF[100:450, 200:500])\n",
    "axarr[1].imshow(im_FF_g[100:450, 200:500])\n",
    "axarr[2].imshow(im_stack_trunc[best_z, 100:450, 200:500])\n",
    "axarr[0].title.set_text('FF (truncated stack)')\n",
    "axarr[1].title.set_text('FF (Gauss)')\n",
    "axarr[2].title.set_text('focus slice')\n",
    "f.set_figheight(10)\n",
    "f.set_figwidth(15)\n",
    "plt.show()    "
   ]
  },
  {
   "cell_type": "code",
   "execution_count": null,
   "id": "2e01cd63-0468-48ac-b00f-a0a91202eaec",
   "metadata": {},
   "outputs": [],
   "source": [
    "focus_vec"
   ]
  },
  {
   "cell_type": "code",
   "execution_count": null,
   "id": "44630655-8a39-4aa7-a134-fbbe8a8c4a5b",
   "metadata": {},
   "outputs": [],
   "source": [
    "im_laps"
   ]
  },
  {
   "cell_type": "code",
   "execution_count": null,
   "id": "ece8e63c-f114-48d6-add9-f7ac5d1f1466",
   "metadata": {},
   "outputs": [],
   "source": []
  }
 ],
 "metadata": {
  "kernelspec": {
   "display_name": "morphseq-env",
   "language": "python",
   "name": "morphseq-env"
  },
  "language_info": {
   "codemirror_mode": {
    "name": "ipython",
    "version": 3
   },
   "file_extension": ".py",
   "mimetype": "text/x-python",
   "name": "python",
   "nbconvert_exporter": "python",
   "pygments_lexer": "ipython3",
   "version": "3.10.13"
  }
 },
 "nbformat": 4,
 "nbformat_minor": 5
}
