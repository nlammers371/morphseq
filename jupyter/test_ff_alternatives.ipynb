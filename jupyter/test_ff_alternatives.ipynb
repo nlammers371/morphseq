{
 "cells": [
  {
   "cell_type": "code",
   "execution_count": null,
   "id": "0",
   "metadata": {},
   "outputs": [],
   "source": [
    "import skimage.io as io\n",
    "import numpy as np\n",
    "from src.functions.image_utils import gaussian_focus_stacker, LoG_focus_stacker\n",
    "from src.functions.utilities import path_leaf\n",
    "import os\n",
    "import glob2 as glob\n",
    "from skimage.transform import resize\n",
    "from matplotlib import pyplot as plt\n",
    "import torch"
   ]
  },
  {
   "cell_type": "code",
   "execution_count": null,
   "id": "1",
   "metadata": {},
   "outputs": [],
   "source": [
    "# set path to image files\n",
    "experiment_date = \"20230613\"\n",
    "# root = \"/media/nick/hdd01/data/morphseq/built_image_data/\"\n",
    "stacked_image_path = os.path.join(root, \"keyence_stitched_z\", experiment_date, \"\")\n",
    "seg_image_path = os.path.join(root, \"segmentation\", experiment_date, \"\")\n",
    "\n",
    "# get list of image stacks\n",
    "image_list = sorted(glob.glob(stacked_image_path + \"*.tif\"))"
   ]
  },
  {
   "cell_type": "markdown",
   "id": "2",
   "metadata": {},
   "source": [
    "### Load a sample image stack"
   ]
  },
  {
   "cell_type": "code",
   "execution_count": null,
   "id": "3",
   "metadata": {},
   "outputs": [],
   "source": [
    "im_ind = 131\n",
    "im_path = image_list[im_ind]\n",
    "im_name = path_leaf(im_path)\n",
    "\n",
    "# load stack\n",
    "im_stack = io.imread(im_path)\n",
    "\n",
    "# load mask\n",
    "mask_path = seg_image_path + im_name[:9] + \"_stitch.jpg\"\n",
    "im_mask = io.imread(mask_path)\n",
    "\n",
    "f, axarr = plt.subplots(1,2)\n",
    "axarr[0].imshow(im_stack[15, :, :])\n",
    "axarr[1].imshow(im_mask)\n",
    "plt.show()                    "
   ]
  },
  {
   "cell_type": "markdown",
   "id": "4",
   "metadata": {},
   "source": [
    "### Calculate FF using standard method"
   ]
  },
  {
   "cell_type": "code",
   "execution_count": null,
   "id": "5",
   "metadata": {},
   "outputs": [],
   "source": [
    "im_FF, log_maxima = LoG_focus_stacker(torch.tensor(im_stack.astype(np.double)), filter_size=3, device=\"cpu\")\n",
    "\n",
    "plt.imshow(im_FF[0:450, 200:500])\n",
    "plt.show()"
   ]
  },
  {
   "cell_type": "markdown",
   "id": "6",
   "metadata": {},
   "source": [
    "### What if we used a z stack with half the the z resolution?"
   ]
  },
  {
   "cell_type": "code",
   "execution_count": null,
   "id": "7",
   "metadata": {},
   "outputs": [],
   "source": [
    "im_stack_ds = im_stack[np.arange(0, im_stack.shape[0], 2), :, :]\n",
    "im_stack_ds2 = im_stack[np.arange(0, im_stack.shape[0], 4), :, :]\n",
    "im_stack_ds3 = im_stack[np.arange(0, im_stack.shape[0], 6), :, :]\n",
    "im_FF_ds, _ = LoG_focus_stacker(torch.tensor(im_stack_ds.astype(np.double)), filter_size=3, device=\"cpu\")\n",
    "im_FF_ds2, _ = LoG_focus_stacker(torch.tensor(im_stack_ds2.astype(np.double)), filter_size=3, device=\"cpu\")\n",
    "im_FF_ds3, _ = LoG_focus_stacker(torch.tensor(im_stack_ds3.astype(np.double)), filter_size=3, device=\"cpu\")\n",
    "\n",
    "f, axarr = plt.subplots(2,2)\n",
    "axarr[0,0].imshow(255-im_FF[0:450, 200:500])\n",
    "axarr[0,1].imshow(255-im_FF_ds[0:450, 200:500])\n",
    "axarr[1,0].imshow(255-im_FF_ds2[0:450, 200:500])\n",
    "axarr[1,1].imshow(255-im_FF_ds3[0:450, 200:500])\n",
    "f.set_figheight(15)\n",
    "f.set_figwidth(15)\n",
    "plt.show()      "
   ]
  },
  {
   "cell_type": "markdown",
   "id": "8",
   "metadata": {},
   "source": [
    "To my eye, the 2x reduction in z resolution so 80um has almost no impact on quality. Border artifacts a reduction in image sharpness are evident once we go further."
   ]
  },
  {
   "cell_type": "markdown",
   "id": "9",
   "metadata": {},
   "source": [
    "### What if we just take the most in-focus slice?"
   ]
  },
  {
   "cell_type": "code",
   "execution_count": null,
   "id": "10",
   "metadata": {},
   "outputs": [],
   "source": [
    "# resize the mask\n",
    "im_mask_rs = resize(im_mask, im_stack.shape[1:], order=0, preserve_range=True)\n",
    "\n",
    "# turncate the stack\n",
    "im_stack_trunc = im_stack[6:-6, :, :] # simulate a narrower stack\n",
    "im_FF, im_laps = LoG_focus_stacker(torch.tensor(im_stack_trunc.astype(np.double)), filter_size=3, device=\"cpu\")\n",
    "im_FF_g = gaussian_focus_stacker(torch.tensor(im_stack_trunc.astype(np.double)), filter_size=3, device=\"cpu\")\n",
    "\n",
    "im_laps = np.asarray(im_laps)\n",
    "\n",
    "focus_vec = np.empty((im_stack_trunc.shape[0]))\n",
    "for z in range(im_stack_trunc.shape[0]):\n",
    "    lap_slice = im_laps[z]\n",
    "    mean_lap = np.mean(lap_slice[im_mask_rs>0])\n",
    "    focus_vec[z] = mean_lap\n",
    "\n",
    "best_z = np.argmax(focus_vec)\n",
    "\n",
    "f, axarr = plt.subplots(1, 3)\n",
    "axarr[0].imshow(im_FF[100:450, 200:500])\n",
    "axarr[1].imshow(im_FF_g[100:450, 200:500])\n",
    "axarr[2].imshow(im_stack_trunc[best_z, 100:450, 200:500])\n",
    "axarr[0].title.set_text('FF (truncated stack)')\n",
    "axarr[1].title.set_text('FF (Gauss)')\n",
    "axarr[2].title.set_text('focus slice')\n",
    "f.set_figheight(10)\n",
    "f.set_figwidth(15)\n",
    "plt.show()    "
   ]
  },
  {
   "cell_type": "code",
   "execution_count": null,
   "id": "11",
   "metadata": {},
   "outputs": [],
   "source": [
    "focus_vec"
   ]
  },
  {
   "cell_type": "code",
   "execution_count": null,
   "id": "12",
   "metadata": {},
   "outputs": [],
   "source": [
    "im_laps"
   ]
  },
  {
   "cell_type": "code",
   "execution_count": null,
   "id": "13",
   "metadata": {},
   "outputs": [],
   "source": []
  }
 ],
 "metadata": {
  "kernelspec": {
   "display_name": "Python 3 (ipykernel)",
   "language": "python",
   "name": "python3"
  },
  "language_info": {
   "codemirror_mode": {
    "name": "ipython",
    "version": 3
   },
   "file_extension": ".py",
   "mimetype": "text/x-python",
   "name": "python",
   "nbconvert_exporter": "python",
   "pygments_lexer": "ipython3",
   "version": "3.10.8"
  }
 },
 "nbformat": 4,
 "nbformat_minor": 5
}
