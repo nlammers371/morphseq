{
 "cells": [
  {
   "cell_type": "code",
   "execution_count": null,
   "id": "0",
   "metadata": {
    "pycharm": {
     "is_executing": true
    }
   },
   "outputs": [],
   "source": [
    "import skimage as ski\n",
    "import os \n",
    "import numpy as np\n",
    "import skimage.io as io\n",
    "import glob2 as glob"
   ]
  },
  {
   "cell_type": "code",
   "execution_count": null,
   "id": "1",
   "metadata": {
    "pycharm": {
     "is_executing": true
    }
   },
   "outputs": [],
   "source": [
    "ff_root = \"//Users/nick/Cole Trapnell's Lab Dropbox/Nick Lammers/Nick/morphseq/built_image_data/stitched_FF_images/\"\n",
    "bad_image_folder = \"20240418\"\n",
    "good_image_folder = \"20240411\"\n",
    "\n",
    "bad_images = sorted(glob.glob(os.path.join(ff_root, bad_image_folder, \"*.png\")))\n",
    "good_images = sorted(glob.glob(os.path.join(ff_root, good_image_folder, \"*.png\")))"
   ]
  },
  {
   "cell_type": "code",
   "execution_count": null,
   "id": "2",
   "metadata": {},
   "outputs": [],
   "source": [
    "import matplotlib.pyplot as plt\n",
    "\n",
    "bad_image = io.imread(bad_images[10])\n",
    "good_image = io.imread(good_images[10])\n",
    "\n",
    "fig, axs = plt.subplots(1, 2, figsize=(10, 5))  # Adjust the figure size as needed\n",
    "\n",
    "# Display the bad image\n",
    "axs[0].imshow(bad_image, cmap=\"gray\")\n",
    "axs[0].set_title('Bad Image')\n",
    "axs[0].axis('off')  # Turn off axis labels\n",
    "\n",
    "# Display the good image\n",
    "axs[1].imshow(good_image, cmap=\"gray\")\n",
    "axs[1].set_title('Good Image')\n",
    "axs[1].axis('off')  # Turn off axis labels\n",
    "\n",
    "# Show the plot\n",
    "plt.show()"
   ]
  },
  {
   "cell_type": "code",
   "execution_count": null,
   "id": "3",
   "metadata": {},
   "outputs": [],
   "source": [
    "# Create a figure with two subplots\n",
    "fig, axs = plt.subplots(1, 2, figsize=(10, 5))\n",
    "\n",
    "# Plot histogram for the bad image\n",
    "axs[0].hist(bad_image.ravel(), bins=256, color='gray', alpha=0.75)\n",
    "axs[0].set_title('Histogram of Bad Image')\n",
    "axs[0].set_xlim([0, 2**16])\n",
    "axs[0].set_xlabel('Pixel Intensity')\n",
    "axs[0].set_ylabel('Frequency')\n",
    "\n",
    "# Plot histogram for the good image\n",
    "axs[1].hist(good_image.ravel(), bins=256, color='gray', alpha=0.75)\n",
    "axs[1].set_title('Histogram of Good Image')\n",
    "axs[1].set_xlim([0, 2**16])\n",
    "axs[1].set_xlabel('Pixel Intensity')\n",
    "axs[1].set_ylabel('Frequency')\n",
    "\n",
    "# Show the plot\n",
    "plt.tight_layout()\n",
    "plt.show()"
   ]
  },
  {
   "cell_type": "markdown",
   "id": "4",
   "metadata": {},
   "source": [
    "## Now let's experiment with some correction schemes to see if we can equalize the \"bad\" image"
   ]
  },
  {
   "cell_type": "code",
   "execution_count": null,
   "id": "5",
   "metadata": {},
   "outputs": [],
   "source": [
    "from skimage import exposure\n",
    "\n",
    "# Contrast stretching\n",
    "p2, p98 = np.percentile(bad_image, (2, 98))\n",
    "bad_rescale = exposure.rescale_intensity(bad_image, in_range=(p2, p98))\n",
    "\n",
    "# Equalization\n",
    "bad_eq = exposure.equalize_hist(bad_image)\n",
    "\n",
    "# Adaptive Equalization\n",
    "bad_adapteq = exposure.equalize_adapthist(bad_image)\n",
    "\n",
    "\n",
    "fig, axs = plt.subplots(2, 2, figsize=(20, 20))  # Adjust the figure size as needed\n",
    "\n",
    "# Display the bad image\n",
    "axs[0, 0].imshow(bad_image, cmap=\"gray\")\n",
    "axs[0, 0].set_title('Original')\n",
    "axs[0, 0].axis('off')  # Turn off axis labels\n",
    "\n",
    "# Display the bad image\n",
    "axs[0, 1].imshow(bad_rescale, cmap=\"gray\")\n",
    "axs[0, 1].set_title('Stretching')\n",
    "axs[0, 1].axis('off')  # Turn off axis labels\n",
    "\n",
    "# Display the good image\n",
    "axs[1,0].imshow(bad_eq, cmap=\"gray\")\n",
    "axs[1,0].set_title('Equalization')\n",
    "axs[1,0].axis('off')  # Turn off axis labels\n",
    "\n",
    "axs[1,1].imshow(bad_adapteq, cmap=\"gray\")\n",
    "axs[1,1].set_title('Adaptive Equalization')\n",
    "axs[1,1].axis('off')  # Turn off axis labels\n",
    "\n",
    "# Show the plot\n",
    "plt.show()"
   ]
  },
  {
   "cell_type": "markdown",
   "id": "6",
   "metadata": {},
   "source": [
    "## Equalization and adaptive equalization both look encouraging...let's make sure they don't dramatically screw up \"good\" images"
   ]
  },
  {
   "cell_type": "code",
   "execution_count": null,
   "id": "7",
   "metadata": {},
   "outputs": [],
   "source": [
    "# Contrast stretching\n",
    "p2, p98 = np.percentile(good_image, (2, 98))\n",
    "\n",
    "\n",
    "good_rescale = exposure.rescale_intensity(good_image, in_range=(p2, p98))\n",
    "\n",
    "# Equalization\n",
    "good_eq = exposure.equalize_hist(good_image)\n",
    "\n",
    "# Adaptive Equalization\n",
    "good_adapteq = exposure.equalize_adapthist(good_image, clip_limit=0.03)\n",
    "\n",
    "\n",
    "fig, axs = plt.subplots(2, 2, figsize=(20, 20))  # Adjust the figure size as needed\n",
    "\n",
    "# Display the bad image\n",
    "axs[0, 0].imshow(good_image, cmap=\"gray\")\n",
    "axs[0, 0].set_title('Original')\n",
    "axs[0, 0].axis('off')  # Turn off axis labels\n",
    "\n",
    "# Display the bad image\n",
    "axs[0, 1].imshow(good_rescale, cmap=\"gray\")\n",
    "axs[0, 1].set_title('Stretching')\n",
    "axs[0, 1].axis('off')  # Turn off axis labels\n",
    "\n",
    "# Display the good image\n",
    "axs[1,0].imshow(good_eq, cmap=\"gray\")\n",
    "axs[1,0].set_title('Equalization')\n",
    "axs[1,0].axis('off')  # Turn off axis labels\n",
    "\n",
    "axs[1,1].imshow(good_adapteq, cmap=\"gray\")\n",
    "axs[1,1].set_title('Adaptive Equalization')\n",
    "axs[1,1].axis('off')  # Turn off axis labels\n",
    "\n",
    "# Show the plot\n",
    "plt.show()"
   ]
  },
  {
   "cell_type": "code",
   "execution_count": null,
   "id": "8",
   "metadata": {},
   "outputs": [],
   "source": [
    "bad_adapteq = exposure.equalize_adapthist(bad_image)\n",
    "bad_adapteq2 = exposure.equalize_adapthist(bad_adapteq)"
   ]
  },
  {
   "cell_type": "code",
   "execution_count": null,
   "id": "9",
   "metadata": {},
   "outputs": [],
   "source": [
    "fig, axs = plt.subplots(1, 2, figsize=(20, 20))  # Adjust the figure size as needed\n",
    "\n",
    "# Display the bad image\n",
    "axs[0].imshow(bad_adapteq, cmap=\"gray\")\n",
    "axs[0].set_title('Original')\n",
    "axs[0].axis('off')  # Turn off axis labels\n",
    "\n",
    "# Display the bad image\n",
    "axs[1].imshow(bad_adapteq2, cmap=\"gray\")\n",
    "axs[1].set_title('Stretching')\n",
    "axs[1].axis('off')  # Turn off axis labels\n",
    "\n",
    "plt.show()"
   ]
  },
  {
   "cell_type": "code",
   "execution_count": null,
   "id": "10",
   "metadata": {},
   "outputs": [],
   "source": []
  }
 ],
 "metadata": {
  "kernelspec": {
   "display_name": "Python 3 (ipykernel)",
   "language": "python",
   "name": "python3"
  },
  "language_info": {
   "codemirror_mode": {
    "name": "ipython",
    "version": 3
   },
   "file_extension": ".py",
   "mimetype": "text/x-python",
   "name": "python",
   "nbconvert_exporter": "python",
   "pygments_lexer": "ipython3",
   "version": "3.10.8"
  }
 },
 "nbformat": 4,
 "nbformat_minor": 5
}
