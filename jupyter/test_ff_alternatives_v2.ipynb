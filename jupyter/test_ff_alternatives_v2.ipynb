{
 "cells": [
  {
   "cell_type": "code",
   "execution_count": null,
   "id": "0",
   "metadata": {
    "pycharm": {
     "is_executing": true
    }
   },
   "outputs": [],
   "source": [
    "import skimage.io as io\n",
    "import numpy as np\n",
    "from src.functions.image_utils import gaussian_focus_stacker, LoG_focus_stacker\n",
    "from src.functions.utilities import path_leaf\n",
    "import os\n",
    "import glob2 as glob\n",
    "from skimage.transform import resize\n",
    "from matplotlib import pyplot as plt\n",
    "import torch"
   ]
  },
  {
   "cell_type": "code",
   "execution_count": null,
   "id": "1",
   "metadata": {
    "pycharm": {
     "is_executing": true
    }
   },
   "outputs": [],
   "source": [
    "# set path to image files\n",
    "experiment_date = \"20230613\"\n",
    "root = \"/media/nick/hdd02/Cole Trapnell's Lab Dropbox/Nick Lammers/Nick/morphseq/built_image_data/\"\n",
    "# root = \"/Users/nick/Cole Trapnell's Lab Dropbox/Nick Lammers/Nick/morphseq/built_image_data\"\n",
    "model_name = \"mask_v0_0100\"\n",
    "yolk_model_name = \"yolk_v1_0050\"\n",
    "stacked_image_path = os.path.join(root, \"keyence_stitched_z\", experiment_date, \"\")\n",
    "seg_image_path = os.path.join(root, \"segmentation\", model_name + \"_predictions\", experiment_date, \"\")\n",
    "yolk_seg_image_path = os.path.join(root, \"segmentation\", yolk_model_name + \"_predictions\", experiment_date, \"\")\n",
    "\n",
    "# get list of image stacks\n",
    "image_list = sorted(glob.glob(stacked_image_path + \"*.tif\"))"
   ]
  },
  {
   "cell_type": "markdown",
   "id": "2",
   "metadata": {},
   "source": [
    "### Load a sample image stack"
   ]
  },
  {
   "cell_type": "code",
   "execution_count": null,
   "id": "3",
   "metadata": {
    "pycharm": {
     "is_executing": true
    }
   },
   "outputs": [],
   "source": [
    "from skimage.transform import resize \n",
    "\n",
    "im_ind = 100\n",
    "im_path = image_list[im_ind]\n",
    "im_name = path_leaf(im_path)\n",
    "\n",
    "# load stack\n",
    "im_stack = io.imread(im_path)\n",
    "\n",
    "# load mask\n",
    "mask_path = seg_image_path + im_name[:9] + \"_stitch.jpg\"\n",
    "im_mask = io.imread(mask_path)\n",
    "im_mask = resize(im_mask, im_stack.shape[1:], preserve_range=True, order=0)\n",
    "im_mask = im_mask - np.min(im_mask)\n",
    "im_mask = im_mask / np.max(im_mask)\n",
    "f, axarr = plt.subplots(1,2)\n",
    "axarr[0].imshow(im_stack[15, :, :])\n",
    "axarr[1].imshow(im_mask)\n",
    "plt.show()                    "
   ]
  },
  {
   "cell_type": "code",
   "execution_count": null,
   "id": "4",
   "metadata": {},
   "outputs": [],
   "source": [
    "# load yolk mask \n",
    "yolk_mask_path = yolk_seg_image_path + im_name[:9] + \"_stitch.jpg\"\n",
    "yolk_mask = io.imread(yolk_mask_path)\n",
    "yolk_mask = resize(yolk_mask, im_stack.shape[1:], preserve_range=True, order=0)\n",
    "yolk_mask = yolk_mask - np.min(yolk_mask)\n",
    "yolk_mask = yolk_mask / np.max(yolk_mask)\n",
    "f, axarr = plt.subplots(1,2)\n",
    "axarr[0].imshow(im_stack[15, :, :])\n",
    "axarr[1].imshow(yolk_mask)\n",
    "plt.show()  "
   ]
  },
  {
   "cell_type": "code",
   "execution_count": null,
   "id": "5",
   "metadata": {},
   "outputs": [],
   "source": [
    "np.min(yolk_mask)"
   ]
  },
  {
   "cell_type": "markdown",
   "id": "6",
   "metadata": {},
   "source": [
    "### Calculate FF using standard method"
   ]
  },
  {
   "cell_type": "code",
   "execution_count": null,
   "id": "7",
   "metadata": {
    "pycharm": {
     "is_executing": true
    }
   },
   "outputs": [],
   "source": [
    "im_FF, abs_laps = LoG_focus_stacker(torch.tensor(im_stack.astype(np.double)), filter_size=3, device=\"cpu\")\n",
    "\n",
    "y0 = 320-170\n",
    "y1 = 620-170\n",
    "x0 = 300-70\n",
    "x1 = 540-70\n",
    "\n",
    "plt.imshow(im_FF[y0:y1, x0:x1])\n",
    "plt.show()"
   ]
  },
  {
   "cell_type": "code",
   "execution_count": null,
   "id": "8",
   "metadata": {},
   "outputs": [],
   "source": [
    "import plotly.express as px\n",
    "import plotly.graph_objects as go\n",
    "\n",
    "abs_laps = abs_laps.numpy()\n",
    "max_i = np.argmax(abs_laps, axis=0)\n",
    "\n",
    "joint_mask = im_mask.copy()\n",
    "joint_mask[yolk_mask==1] = 0\n",
    "\n",
    "mask_laps = []\n",
    "for i in range(abs_laps.shape[0]):\n",
    "    mask_laps.append(np.mean(abs_laps[i][joint_mask==1]))\n",
    "\n",
    "# get moving average\n",
    "avg_ft = np.ones((5,)) / 5\n",
    "mask_laps_avg = np.convolve(mask_laps, avg_ft,mode=\"same\")\n",
    "    \n",
    "fig = px.scatter(x=range(len(mask_laps)), y=mask_laps)\n",
    "fig.add_trace(go.Scatter(x=np.arange(len(mask_laps)), y=mask_laps_avg))\n",
    "fig.show()"
   ]
  },
  {
   "cell_type": "code",
   "execution_count": null,
   "id": "9",
   "metadata": {},
   "outputs": [],
   "source": [
    "np.mean(np.asarray(abs_laps[i][joint_mask==1]))"
   ]
  },
  {
   "cell_type": "code",
   "execution_count": null,
   "id": "10",
   "metadata": {},
   "outputs": [],
   "source": [
    "plt.imshow(im_stack[17, y0:y1, x0:x1])\n",
    "plt.show()"
   ]
  },
  {
   "cell_type": "code",
   "execution_count": null,
   "id": "11",
   "metadata": {},
   "outputs": [],
   "source": [
    "max_i = np.argmax(mask_laps)\n",
    "\n",
    "im_FF_refined, _ = LoG_focus_stacker(torch.tensor(im_stack[max_i-3:max_i+3].astype(np.double)), filter_size=3, device=\"cpu\")\n",
    "\n",
    "plt.imshow(im_FF_refined[y0:y1, x0:x1])\n",
    "plt.show()"
   ]
  },
  {
   "cell_type": "code",
   "execution_count": null,
   "id": "12",
   "metadata": {},
   "outputs": [],
   "source": [
    "from matplotlib import pyplot\n",
    "\n",
    "fig = plt.figure(figsize=(20, 30))\n",
    "ax = fig.subplots(nrows=1, ncols=5)\n",
    "\n",
    "ax[0].imshow(im_stack[max_i-4, y0:y1, x0:x1])\n",
    "ax[1].imshow(im_stack[max_i-2, y0:y1, x0:x1])\n",
    "ax[2].imshow(im_stack[max_i-0, y0:y1, x0:x1])\n",
    "ax[3].imshow(im_stack[max_i+2, y0:y1, x0:x1])\n",
    "ax[4].imshow(im_stack[max_i+4, y0:y1, x0:x1])\n",
    "\n",
    "dummy = [a.axis(\"off\") for a in ax]"
   ]
  },
  {
   "cell_type": "code",
   "execution_count": null,
   "id": "13",
   "metadata": {},
   "outputs": [],
   "source": [
    "from skimage.filters import gaussian\n",
    "\n",
    "laps_max = np.multiply(gaussian(np.argmax(abs_laps, axis=0), sigma=2, preserve_range=True), im_mask>0.5)\n",
    "fig = plt.figure()\n",
    "im = plt.imshow(laps_max[y0:y1, x0:x1])\n",
    "fig.colorbar(im)"
   ]
  },
  {
   "cell_type": "code",
   "execution_count": null,
   "id": "14",
   "metadata": {},
   "outputs": [],
   "source": [
    "im_mask"
   ]
  },
  {
   "cell_type": "markdown",
   "id": "15",
   "metadata": {},
   "source": [
    "### What if we used a z stack with half the the z resolution?"
   ]
  },
  {
   "cell_type": "code",
   "execution_count": null,
   "id": "16",
   "metadata": {
    "pycharm": {
     "is_executing": true
    }
   },
   "outputs": [],
   "source": [
    "im_stack_ds = im_stack[np.arange(0, im_stack.shape[0], 2), :, :]\n",
    "im_stack_ds2 = im_stack[np.arange(0, im_stack.shape[0], 4), :, :]\n",
    "im_stack_ds3 = im_stack[np.arange(0, im_stack.shape[0], 6), :, :]\n",
    "im_FF_ds, _ = LoG_focus_stacker(torch.tensor(im_stack_ds.astype(np.double)), filter_size=3, device=\"cpu\")\n",
    "im_FF_ds2, _ = LoG_focus_stacker(torch.tensor(im_stack_ds2.astype(np.double)), filter_size=3, device=\"cpu\")\n",
    "im_FF_ds3, _ = LoG_focus_stacker(torch.tensor(im_stack_ds3.astype(np.double)), filter_size=3, device=\"cpu\")\n",
    "\n",
    "f, axarr = plt.subplots(2,2)\n",
    "axarr[0,0].imshow(255-im_FF[0:450, 200:500])\n",
    "axarr[0,1].imshow(255-im_FF_ds[0:450, 200:500])\n",
    "axarr[1,0].imshow(255-im_FF_ds2[0:450, 200:500])\n",
    "axarr[1,1].imshow(255-im_FF_ds3[0:450, 200:500])\n",
    "f.set_figheight(15)\n",
    "f.set_figwidth(15)\n",
    "plt.show()      "
   ]
  },
  {
   "cell_type": "markdown",
   "id": "17",
   "metadata": {},
   "source": [
    "To my eye, the 2x reduction in z resolution so 80um has almost no impact on quality. Border artifacts a reduction in image sharpness are evident once we go further."
   ]
  },
  {
   "cell_type": "markdown",
   "id": "18",
   "metadata": {},
   "source": [
    "### What if we just take the most in-focus slice?"
   ]
  },
  {
   "cell_type": "code",
   "execution_count": null,
   "id": "19",
   "metadata": {
    "pycharm": {
     "is_executing": true
    }
   },
   "outputs": [],
   "source": [
    "# resize the mask\n",
    "im_mask_rs = resize(im_mask, im_stack.shape[1:], order=0, preserve_range=True)\n",
    "\n",
    "# turncate the stack\n",
    "im_stack_trunc = im_stack[6:-6, :, :] # simulate a narrower stack\n",
    "im_FF, im_laps = LoG_focus_stacker(torch.tensor(im_stack_trunc.astype(np.double)), filter_size=3, device=\"cpu\")\n",
    "im_FF_g = gaussian_focus_stacker(torch.tensor(im_stack_trunc.astype(np.double)), filter_size=3, device=\"cpu\")\n",
    "\n",
    "im_laps = np.asarray(im_laps)\n",
    "\n",
    "focus_vec = np.empty((im_stack_trunc.shape[0]))\n",
    "for z in range(im_stack_trunc.shape[0]):\n",
    "    lap_slice = im_laps[z]\n",
    "    mean_lap = np.mean(lap_slice[im_mask_rs>0])\n",
    "    focus_vec[z] = mean_lap\n",
    "\n",
    "best_z = np.argmax(focus_vec)\n",
    "\n",
    "f, axarr = plt.subplots(1, 3)\n",
    "axarr[0].imshow(im_FF[100:450, 200:500])\n",
    "axarr[1].imshow(im_FF_g[100:450, 200:500])\n",
    "axarr[2].imshow(im_stack_trunc[best_z, 100:450, 200:500])\n",
    "axarr[0].title.set_text('FF (truncated stack)')\n",
    "axarr[1].title.set_text('FF (Gauss)')\n",
    "axarr[2].title.set_text('focus slice')\n",
    "f.set_figheight(10)\n",
    "f.set_figwidth(15)\n",
    "plt.show()    "
   ]
  },
  {
   "cell_type": "code",
   "execution_count": null,
   "id": "20",
   "metadata": {
    "pycharm": {
     "is_executing": true
    }
   },
   "outputs": [],
   "source": [
    "focus_vec"
   ]
  },
  {
   "cell_type": "code",
   "execution_count": null,
   "id": "21",
   "metadata": {
    "pycharm": {
     "is_executing": true
    }
   },
   "outputs": [],
   "source": [
    "im_laps"
   ]
  },
  {
   "cell_type": "code",
   "execution_count": null,
   "id": "22",
   "metadata": {
    "pycharm": {
     "is_executing": true
    }
   },
   "outputs": [],
   "source": []
  }
 ],
 "metadata": {
  "kernelspec": {
   "display_name": "Python 3 (ipykernel)",
   "language": "python",
   "name": "python3"
  },
  "language_info": {
   "codemirror_mode": {
    "name": "ipython",
    "version": 3
   },
   "file_extension": ".py",
   "mimetype": "text/x-python",
   "name": "python",
   "nbconvert_exporter": "python",
   "pygments_lexer": "ipython3",
   "version": "3.10.13"
  }
 },
 "nbformat": 4,
 "nbformat_minor": 5
}
