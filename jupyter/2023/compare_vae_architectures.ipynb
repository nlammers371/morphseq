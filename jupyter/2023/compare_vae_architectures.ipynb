{
 "cells": [
  {
   "cell_type": "code",
   "execution_count": null,
   "metadata": {},
   "outputs": [],
   "source": [
    "import os\n",
    "import numpy as np\n",
    "import pandas as pd\n",
    "import plotly.express as px\n",
    "import plotly.graph_objects as go\n",
    "import plotly.offline as pyo\n",
    "\n",
    "\n",
    "pyo.init_notebook_mode()"
   ]
  },
  {
   "cell_type": "code",
   "execution_count": null,
   "metadata": {},
   "outputs": [],
   "source": [
    "from glob2 import glob\n",
    "from src.functions.utilities import path_leaf\n",
    "\n",
    "root = \"/Users/nick/Cole Trapnell's Lab Dropbox/Nick Lammers/Nick/morphseq/\"\n",
    "\n",
    "# root = \"E:\\\\Nick\\\\Dropbox (Cole Trapnell's Lab)\\\\Nick\\\\morphseq\\\\\"\n",
    "train_name = \"20231106_ds\"\n",
    "model_name_list = [\"MetricVAE_z100_ne100_beta_temp_sweep\"]\n",
    "\n",
    "\n",
    "train_dir = os.path.join(root, \"training_data\", train_name)\n",
    "output_dir = os.path.join(train_dir, \"model_comparisons\", \"\")\n",
    "if not os.path.isdir(output_dir):\n",
    "    os.makedirs(output_dir)\n",
    "    \n",
    "meta_df_list = []\n",
    "metric_df_list = []\n",
    "umap_df_list = []\n",
    "embryo_df_list = []\n",
    "fig_path_list = []\n",
    "model_id = 0\n",
    "\n",
    "for m, model_name in enumerate(model_name_list):\n",
    "    read_dir = os.path.join(train_dir, model_name, '')\n",
    "    candidate_models = glob(read_dir + '*VAE*')\n",
    "    \n",
    "    for mdl in candidate_models:\n",
    "        mdl_name = path_leaf(mdl)\n",
    "        model_fig_path = os.path.join(mdl, \"figures\", \"\")\n",
    "        if os.path.isdir(model_fig_path):\n",
    "            fig_path_list.append(model_fig_path)\n",
    "            \n",
    "            # load data frames\n",
    "            meta_df = pd.read_csv(os.path.join(figure_path, \"meta_summary_df.csv\"), index_col=0)\n",
    "            meta_df[\"model_id\"] = model_id\n",
    "            meta_df[\"model_name\"] = mdl_name\n",
    "            meta_df_list.append(umap_df)\n",
    "            \n",
    "            umap_df = pd.read_csv(os.path.join(figure_path, \"umap_df.csv\"), index_col=0)\n",
    "            umap_df[\"model_id\"] = model_id\n",
    "            umap_df[\"model_name\"] = mdl_name\n",
    "            umap_df[\"temperature\"] = meta_df[\"temperature\"].copy()\n",
    "            umap_df_list.append(umap_df)\n",
    "            \n",
    "            metric_df = pd.read_csv(os.path.join(figure_path, \"metric_df.csv\"), index_col=0)\n",
    "            metric_df[\"model_id\"] = model_id\n",
    "            metric_df[\"model_name\"] = mdl_name\n",
    "            metric_df[\"temperature\"] = meta_df[\"temperature\"].copy()\n",
    "            metric_df_list.append(metric_df)\n",
    "            \n",
    "            embryo_df = pd.read_csv(os.path.join(figure_path, \"embryo_stats_df.csv\"), index_col=0)\n",
    "            embryo_df[\"model_id\"] = model_id\n",
    "            embryo_df[\"model_name\"] = mdl_name\n",
    "            embryo_df[\"temperature\"] = meta_df[\"temperature\"].copy()\n",
    "            embryo_df_list.append(embryo_df)\n",
    "            \n",
    "            \n",
    "master_meta_df = pd.concat(meta_df_list, axis=0, ignore_index=True)\n",
    "master_umap_df = pd.concat(umap_df_list, axis=0, ignore_index=True)\n",
    "master_metric_df = pd.concat(metric_df_list, axis=0, ignore_index=True)\n",
    "master_embryo_df = pd.concat(embryo_df_list, axis=0, ignore_index=True)\n"
   ]
  },
  {
   "cell_type": "code",
   "execution_count": null,
   "metadata": {},
   "outputs": [],
   "source": [
    "# load datasets\n",
    "umap_df = pd.read_csv(os.path.join(figure_path, \"umap_df.csv\"), index_col=0)\n",
    "wik_indices = np.where(umap_df[\"master_perturbation\"]==\"wck-AB\")[0]"
   ]
  },
  {
   "cell_type": "code",
   "execution_count": null,
   "metadata": {},
   "outputs": [],
   "source": [
    "# look at the umap\n",
    "fig = px.scatter_3d(umap_df.iloc[wik_indices], x=\"UMAP_00_bio_3\", y=\"UMAP_01_bio_3\", z=\"UMAP_02_bio_3\",\n",
    "                         color='predicted_stage_hpf', opacity=0.5, \n",
    "                         template=\"plotly\")\n",
    "\n",
    "fig.update_traces(\n",
    "    marker=dict(size=6)\n",
    "    )\n",
    "\n",
    "# fig.update_layout(\n",
    "#                 xaxis_title=\"UMAP 1\",\n",
    "#                 yaxis_title=\"UMAP 2\",\n",
    "#                 zaxis_title=\"UMAP 3\" \n",
    "#             )\n",
    "\n",
    "\n",
    "fig.show()\n",
    "# fig.write_image(os.path.join(out_figure_path, \"UMAP_wt_scatter_bio.png\"))"
   ]
  },
  {
   "cell_type": "code",
   "execution_count": null,
   "metadata": {},
   "outputs": [],
   "source": [
    "metric_df = pd.read_csv(os.path.join(figure_path, \"metric_df.csv\"), index_col=0)"
   ]
  },
  {
   "cell_type": "code",
   "execution_count": null,
   "metadata": {},
   "outputs": [],
   "source": [
    "import plotly.graph_objects as go\n",
    "\n",
    "fig = go.Figure(data=[go.Histogram(x=metric_df.loc[:, \"euc_bio_rand\"], name=\"euc_bio_rand\")])\n",
    "fig.add_trace(go.Histogram(x=metric_df.loc[:, \"euc_nbio_rand\"], name=\"euc_nbio_rand\"))\n",
    "\n",
    "fig.add_trace(go.Histogram(x=metric_df.loc[:, \"euc_bio\"], name=\"euc_bio\"))\n",
    "fig.add_trace(go.Histogram(x=metric_df.loc[:, \"euc_nbio\"], name=\"euc_nbio\"))\n",
    "\n",
    "fig.show()"
   ]
  },
  {
   "cell_type": "code",
   "execution_count": null,
   "metadata": {},
   "outputs": [],
   "source": [
    "from sklearn.metrics.pairwise import cosine_similarity, euclidean_distances\n",
    "\n",
    "col_list = metric_df.columns\n",
    "\n",
    "bio_indices = np.asarray([i for i in range(len(col_list)) if \"z_mu_b_\" in col_list[i]])\n",
    "nbio_indices = np.asarray([i for i in range(len(col_list)) if \"z_mu_n_\" in col_list[i]])"
   ]
  },
  {
   "cell_type": "code",
   "execution_count": null,
   "metadata": {},
   "outputs": [],
   "source": [
    "bio_z_array = metric_df.iloc[:, bio_indices].to_numpy()\n",
    "nbio_z_array = metric_df.iloc[:, nbio_indices].to_numpy()\n",
    "\n",
    "bio_var = np.var(bio_z_array)\n",
    "nbio_var = np.var(nbio_z_array)\n",
    "\n",
    "print(bio_var)\n",
    "print(nbio_var)"
   ]
  },
  {
   "cell_type": "code",
   "execution_count": null,
   "metadata": {},
   "outputs": [],
   "source": []
  }
 ],
 "metadata": {
  "kernelspec": {
   "display_name": "Python 3 (ipykernel)",
   "language": "python",
   "name": "python3"
  },
  "language_info": {
   "codemirror_mode": {
    "name": "ipython",
    "version": 3
   },
   "file_extension": ".py",
   "mimetype": "text/x-python",
   "name": "python",
   "nbconvert_exporter": "python",
   "pygments_lexer": "ipython3",
   "version": "3.10.8"
  }
 },
 "nbformat": 4,
 "nbformat_minor": 1
}
