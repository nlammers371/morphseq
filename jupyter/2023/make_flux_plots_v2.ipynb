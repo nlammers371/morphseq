{
 "cells": [
  {
   "cell_type": "markdown",
   "metadata": {},
   "source": [
    "## Exploring morph VAE output\n",
    "This notebook generates visualizations and conducts analyses to assess the biological content of the latent space representations learned by our VAE models"
   ]
  },
  {
   "cell_type": "code",
   "execution_count": null,
   "metadata": {},
   "outputs": [],
   "source": [
    "import os\n",
    "import numpy as np\n",
    "import pandas as pd\n",
    "import plotly.express as px\n",
    "import plotly.graph_objects as go\n",
    "import plotly.offline as pyo\n",
    "\n",
    "pyo.init_notebook_mode()"
   ]
  },
  {
   "cell_type": "markdown",
   "metadata": {},
   "source": [
    "#### Get paths to data, figures, and latent space outputs"
   ]
  },
  {
   "cell_type": "code",
   "execution_count": null,
   "metadata": {},
   "outputs": [],
   "source": [
    "root = \"/Users/nick/Dropbox (Cole Trapnell's Lab)/Nick/morphseq/\"\n",
    "# root = \"E:\\\\Nick\\\\Dropbox (Cole Trapnell's Lab)\\\\Nick\\\\morphseq\\\\\"\n",
    "train_name = \"20230915_vae\"\n",
    "# train_name = \"20231106_ds\"\n",
    "# /Users/nick/Dropbox (Cole Trapnell's Lab)/Nick/morphseq/training_data/20230915_vae_flipped/z100_bs032_ne100_depth05\n",
    "# model_name = \"20230804_vae_full_conv_z25_bs032_ne100_depth05\"\n",
    "model_name = \"z100_bs032_ne250_depth05_out16_temperature_sweep2\"\n",
    "# model_name = \"z100_bs064_ne250_depth05_out16_class_ignorance_test\"\n",
    "train_dir = os.path.join(root, \"training_data\", train_name)\n",
    "output_dir = os.path.join(train_dir, model_name) \n",
    "\n",
    "# get path to model\n",
    "last_training = sorted(os.listdir(output_dir))[-1]\n",
    "\n",
    "# path to figures and data\n",
    "figure_path = os.path.join(output_dir, last_training, \"figures\")\n",
    "out_figure_path = os.path.join(\"/Users/nick/Dropbox (Cole Trapnell's Lab)/Nick/slides/20231130/\")\n",
    "if not os.path.isdir(out_figure_path):\n",
    "    os.makedirs(out_figure_path)"
   ]
  },
  {
   "cell_type": "markdown",
   "metadata": {},
   "source": [
    "#### Create DataLoader objects for train, eval, and test sets\n",
    "- \"Train\" data were used to train the model\n",
    "- \"Eval\" data were used to assess model during training\n",
    "- \"Test\" data were untouched during training process"
   ]
  },
  {
   "cell_type": "code",
   "execution_count": null,
   "metadata": {},
   "outputs": [],
   "source": [
    "umap_df = pd.read_csv(os.path.join(figure_path, \"umap_df.csv\"), index_col=0)\n",
    "wik_indices = np.where(umap_df[\"master_perturbation\"]==\"wck-AB\")[0]\n",
    "from scipy.interpolate import LinearNDInterpolator\n",
    "from scipy import ndimage\n",
    "\n",
    "umap_df[\"UMAP_00_bio_2\"] = -umap_df[\"UMAP_00_bio_2\"]"
   ]
  },
  {
   "cell_type": "code",
   "execution_count": null,
   "metadata": {},
   "outputs": [],
   "source": [
    "fig = px.scatter(umap_df.iloc[wik_indices], x=\"UMAP_00_bio_2\", y=\"UMAP_01_bio_2\",\n",
    "                         color='predicted_stage_hpf', opacity=0.5,\n",
    "#                          labels=dict(UMAP_00=\"morphology UMAP dim 1\", \n",
    "#                                      UMAP_01=\"morphology UMAP dim 2\",),\n",
    "                         template=\"plotly\")\n",
    "\n",
    "# fig.update_layout(legend=[ f\"training images (mu={np.round(train_mu)})\", f\"eval images (mu={np.round(eval_mu)})\", f\"test images (mu={np.round(test_mu)})\"]) \n",
    "\n",
    "# fig.update_traces(contours_coloring=\"fill\", colorscale=\"Blues\")\n",
    "\n",
    "fig.update_layout(\n",
    "                xaxis_title=\"UMAP 1\",\n",
    "                yaxis_title=\"UMAP 2\"\n",
    "            )\n",
    "\n",
    "# fig.update_xaxes(range=[1, 18])\n",
    "# fig.update_yaxes(range=[-5, 14])\n",
    "\n",
    "fig.show()\n",
    "fig.write_image(os.path.join(out_figure_path, \"UMAP_wt_scatter_bio.png\"))"
   ]
  },
  {
   "cell_type": "code",
   "execution_count": null,
   "metadata": {},
   "outputs": [],
   "source": [
    "\n",
    "def make_rotating_figure(scatter, angle_vec, frame_dir, iter_lb=None, title_str=None, za=None):\n",
    "\n",
    "    for iter_i, a in enumerate(angle_vec):\n",
    "        angle = a\n",
    "        if za is None:\n",
    "            za = 0.8\n",
    "        vec = np.asarray([math.cos(angle), math.sin(angle), za])\n",
    "        vec = vec*2\n",
    "        camera = dict(\n",
    "            eye=dict(x=vec[0], y=vec[1], z=vec[2]))\n",
    "        \n",
    "        fig = go.Figure()\n",
    "\n",
    "        fig.add_trace(scatter)\n",
    "        fig.update_layout(template=\"plotly\")\n",
    "        \n",
    "        if title_str is not None:\n",
    "            fig.update_layout(title_text=title_str, title_x=0.5)\n",
    "\n",
    "        fig.update_layout(\n",
    "                    scene=dict(\n",
    "                        zaxis=dict(autorange=\"reversed\"),\n",
    "                        aspectratio=dict(x=1, y=1, z=1)))\n",
    "\n",
    "\n",
    "        fig.update_layout(scene_camera=camera, scene_dragmode='orbit')\n",
    "\n",
    "        fig.update_layout(scene = dict(\n",
    "                        xaxis_title='',#'UMAP 1',\n",
    "                        yaxis_title='',#'UMAP 2',\n",
    "                        zaxis_title='',#'UMAP 3',\n",
    "                        xaxis = dict(showticklabels=False),\n",
    "                        yaxis = dict(showticklabels=False),\n",
    "                        zaxis = dict(showticklabels=False)))\n",
    "\n",
    "        fig.update_layout(coloraxis_showscale=False)\n",
    "        \n",
    "#         fig.update_layout(\n",
    "#                 scene=dict(aspectratio=dict(x=1, y=1, z=1), \n",
    "#                     xaxis = dict(nticks=4, range=[-0.3, 0.3],),\n",
    "#                     yaxis = dict(nticks=4, range=[-0.3, 0.3],),\n",
    "#                     zaxis = dict(nticks=4, range=[-0.15, 0.15]),))\n",
    "\n",
    "#         fig.show()\n",
    "#     return fig\n",
    "#         if iter_lb is None:\n",
    "        fig.write_image(os.path.join(frame_dir, \"plot_a\" + \"_\" + f\"{iter_i:03}\" + \".png\"), scale=5)"
   ]
  },
  {
   "cell_type": "code",
   "execution_count": null,
   "metadata": {},
   "outputs": [],
   "source": [
    "import math \n",
    "frame_dir_bio = os.path.join(out_figure_path, \"3d_umaps\")\n",
    "if not os.path.isdir(frame_dir_bio):\n",
    "    os.makedirs(frame_dir_bio)\n",
    "    \n",
    "angle_vec = np.linspace(1.25*np.pi, 3.25*np.pi, 25)\n",
    "\n",
    "#define the trace for triangle sides\n",
    "scatter = go.Scatter3d(\n",
    "                   x=umap_df[\"UMAP_00_bio_3\"].iloc[wik_indices],\n",
    "                   y=umap_df[\"UMAP_01_bio_3\"].iloc[wik_indices],\n",
    "                   z=umap_df[\"UMAP_02_bio_3\"].iloc[wik_indices],\n",
    "                   mode='markers',\n",
    "                   marker = dict(color=umap_df[\"predicted_stage_hpf\"].iloc[wik_indices],\n",
    "                                 size=6,\n",
    "                                 line=dict(color= 'rgba(70,70,70, 0.5)', width=1))) \n",
    "\n",
    "\n",
    "# make_rotating_figure(scatter, [angle_vec[0]], frame_dir_bio)"
   ]
  },
  {
   "cell_type": "code",
   "execution_count": null,
   "metadata": {},
   "outputs": [],
   "source": [
    "fig = px.scatter_3d(umap_df.iloc[wik_indices], x=\"UMAP_00_bio_3\", y=\"UMAP_01_bio_3\", z=\"UMAP_02_bio_3\",\n",
    "                         color='predicted_stage_hpf', opacity=1, \n",
    "#                          labels=dict(UMAP_00=\"morphology UMAP dim 1\", \n",
    "#                                      UMAP_01=\"morphology UMAP dim 2\",),\n",
    "                         template=\"plotly\")\n",
    "\n",
    "# fig.update_layout(legend=[ f\"training images (mu={np.round(train_mu)})\", f\"eval images (mu={np.round(eval_mu)})\", f\"test images (mu={np.round(test_mu)})\"]) \n",
    "\n",
    "# fig.update_traces(contours_coloring=\"fill\", colorscale=\"Blues\")\n",
    "fig.update_traces(marker_size = 4)\n",
    "fig.update_layout(scene = dict(\n",
    "                    xaxis_title='UMAP 1',\n",
    "                    yaxis_title='UMAP 2',\n",
    "                    zaxis_title='UMAP 3')\n",
    "            )\n",
    "fig.show()"
   ]
  },
  {
   "cell_type": "code",
   "execution_count": null,
   "metadata": {},
   "outputs": [],
   "source": [
    "fig = px.scatter(umap_df.iloc[wik_indices], x=\"UMAP_00_n_2\", y=\"UMAP_01_n_2\",\n",
    "                         color='predicted_stage_hpf', opacity=0.5,\n",
    "#                          labels=dict(UMAP_00=\"morphology UMAP dim 1\", \n",
    "#                                      UMAP_01=\"morphology UMAP dim 2\",),\n",
    "                         template=\"plotly\")\n",
    "\n",
    "# fig.update_layout(legend=[ f\"training images (mu={np.round(train_mu)})\", f\"eval images (mu={np.round(eval_mu)})\", f\"test images (mu={np.round(test_mu)})\"]) \n",
    "\n",
    "# fig.update_traces(contours_coloring=\"fill\", colorscale=\"Blues\")\n",
    "\n",
    "fig.update_layout(\n",
    "                xaxis_title=\"UMAP 1\",\n",
    "                yaxis_title=\"UMAP 2\"\n",
    "            )\n",
    "\n",
    "# fig.update_xaxes(range=[1, 18])\n",
    "# fig.update_yaxes(range=[1, 10])\n",
    "\n",
    "fig.show()\n",
    "fig.write_image(os.path.join(out_figure_path, \"UMAP_wt_scatter_nbio.png\"))"
   ]
  },
  {
   "cell_type": "markdown",
   "metadata": {},
   "source": [
    "## calculate velocities in UMAP space"
   ]
  },
  {
   "cell_type": "code",
   "execution_count": null,
   "metadata": {},
   "outputs": [],
   "source": [
    "snip_vec = np.asarray([umap_df.loc[i, \"snip_id\"][:-10] for i in range(umap_df.shape[0])])\n",
    "snip_index = np.unique(snip_vec)\n",
    "\n",
    "umap_df.loc[:, \"UMAP_00_bio_3_vel\"] = np.nan\n",
    "umap_df.loc[:, \"UMAP_01_bio_3_vel\"] = np.nan\n",
    "umap_df.loc[:, \"UMAP_02_bio_3_vel\"] = np.nan\n",
    "\n",
    "for s, snip in enumerate(snip_index):\n",
    "    s_indices = np.where(snip_vec==snip)[0]\n",
    "    \n",
    "    u0 = umap_df.loc[s_indices, \"UMAP_00_bio_3\"].to_numpy()\n",
    "    u1 = umap_df.loc[s_indices, \"UMAP_01_bio_3\"].to_numpy()\n",
    "    u2 = umap_df.loc[s_indices, \"UMAP_02_bio_3\"].to_numpy()\n",
    "    \n",
    "    t = umap_df.loc[s_indices, \"predicted_stage_hpf\"].to_numpy()\n",
    "    \n",
    "    du0 = np.divide(np.diff(u0), np.diff(t))\n",
    "    du1 = np.divide(np.diff(u1), np.diff(t))\n",
    "    du2 = np.divide(np.diff(u2), np.diff(t))\n",
    "    \n",
    "    umap_df.loc[s_indices[:-1], \"UMAP_00_bio_3_vel\"] = du0\n",
    "    umap_df.loc[s_indices[:-1], \"UMAP_01_bio_3_vel\"] = du1\n",
    "    umap_df.loc[s_indices[:-1], \"UMAP_02_bio_3_vel\"] = du2"
   ]
  },
  {
   "cell_type": "markdown",
   "metadata": {},
   "source": [
    "## Use simple kmeans clustering approach to extract average velocities for different parts of UMAP space"
   ]
  },
  {
   "cell_type": "code",
   "execution_count": null,
   "metadata": {
    "pycharm": {
     "is_executing": true
    }
   },
   "outputs": [],
   "source": [
    "from sklearn.cluster import KMeans\n",
    "\n",
    "umap_df_wt = umap_df.iloc[wik_indices].dropna()\n",
    "n_points = umap_df_wt.shape[0]\n",
    "\n",
    "# lets aim for 100 obs per cluster\n",
    "n_points_per_cluster = 200\n",
    "n_clusters = int(np.floor(n_points/ n_points_per_cluster))\n",
    "\n",
    "# cluster\n",
    "kmeans_out = KMeans(n_clusters=n_clusters, random_state=0, n_init=\"auto\").fit(\n",
    "        umap_df_wt.loc[:, [\"UMAP_00_bio_3\", \"UMAP_01_bio_3\"]])\n",
    "\n",
    "umap_df_wt.loc[:, \"kmeans_label\"] = kmeans_out.labels_\n",
    "cols_to_average = [\"UMAP_00_bio_3\", \"UMAP_01_bio_3\", \n",
    "                   \"UMAP_00_bio_3_vel\", \"UMAP_01_bio_3_vel\", \"predicted_stage_hpf\"]\n",
    "avg_vel_wik_df = umap_df_wt.loc[:, cols_to_average + [\"kmeans_label\"]].groupby(\"kmeans_label\").mean()"
   ]
  },
  {
   "cell_type": "code",
   "execution_count": null,
   "metadata": {},
   "outputs": [],
   "source": [
    "from sklearn.cluster import KMeans\n",
    "gdf3_indices = np.where(umap_df[\"master_perturbation\"]==\"gdf3\")[0]\n",
    "\n",
    "umap_df_gdf3 = umap_df.iloc[gdf3_indices].dropna()\n",
    "n_points = umap_df_gdf3.shape[0]\n",
    "\n",
    "# lets aim for 100 obs per cluster\n",
    "n_points_per_cluster = 50\n",
    "n_clusters = int(np.floor(n_points/ n_points_per_cluster))\n",
    "\n",
    "# cluster\n",
    "kmeans_out_gdf3 = KMeans(n_clusters=n_clusters, random_state=0, n_init=\"auto\").fit(\n",
    "        umap_df_gdf3.loc[:, [\"UMAP_00_bio_3\", \"UMAP_01_bio_3\"]])\n",
    "\n",
    "umap_df_gdf3.loc[:, \"kmeans_label\"] = kmeans_out_gdf3.labels_\n",
    "\n",
    "avg_vel_gdf3_df = umap_df_gdf3.loc[:, cols_to_average + [\"kmeans_label\"]].groupby(\"kmeans_label\").mean()"
   ]
  },
  {
   "cell_type": "code",
   "execution_count": null,
   "metadata": {
    "pycharm": {
     "is_executing": true
    }
   },
   "outputs": [],
   "source": [
    "import plotly.figure_factory as ff\n",
    "\n",
    "X = umap_df_wt[\"UMAP_00_bio_3\"].to_numpy()\n",
    "Y = umap_df_wt[\"UMAP_01_bio_3\"].to_numpy()\n",
    "\n",
    "fig1 = go.Figure(go.Histogram2dContour(\n",
    "        x = -X,\n",
    "        y = Y,\n",
    "        colorscale = 'Blues',\n",
    "        ncontours = 30,\n",
    "        histnorm = \"percent\",\n",
    "        showscale=False\n",
    "))\n",
    "\n",
    "max_v = 1\n",
    "\n",
    "vx = -avg_vel_wik_df[\"UMAP_00_bio_3_vel\"]\n",
    "vx[np.where(vx>max_v)[0]] = max_v\n",
    "vx[np.where(vx<-max_v)[0]] = -max_v\n",
    "\n",
    "vy = avg_vel_wik_df[\"UMAP_01_bio_3_vel\"]\n",
    "vy[np.where(vy>max_v)[0]] = max_v\n",
    "vy[np.where(vy<-max_v)[0]] = -max_v\n",
    "\n",
    "fig2 = ff.create_quiver(x=-avg_vel_wik_df[\"UMAP_00_bio_3\"], y=avg_vel_wik_df[\"UMAP_01_bio_3\"], \n",
    "                       u=vx, v=vy,\n",
    "                       scale=1, arrow_scale=0.5, line=dict(color=\"black\"))\n",
    "\n",
    "fig2.add_traces(data = fig1.data)\n",
    "\n",
    "fig2.update_xaxes(title=\"UMAP 1\")#range=[-19, 0])\n",
    "fig2.update_yaxes(title=\"UMAP 2\") #range=[0, 10])\n",
    "\n",
    "fig2.show()\n",
    "fig2.write_image(os.path.join(out_figure_path, \"density_plot_with_quiver_wik.png\"), scale=2)"
   ]
  },
  {
   "cell_type": "code",
   "execution_count": null,
   "metadata": {},
   "outputs": [],
   "source": [
    "# same but for gdf3\n",
    "\n",
    "X = umap_df_gdf3[\"UMAP_00_bio_3\"].to_numpy()\n",
    "Y = umap_df_gdf3[\"UMAP_01_bio_3\"].to_numpy()\n",
    "\n",
    "fig1 = go.Figure(go.Histogram2dContour(\n",
    "        x = -X,\n",
    "        y = Y,\n",
    "        colorscale = 'Reds',\n",
    "        ncontours = 30,\n",
    "        histnorm = \"percent\",\n",
    "        showscale=False\n",
    "))\n",
    "\n",
    "max_v = 1\n",
    "\n",
    "vx = -avg_vel_gdf3_df[\"UMAP_00_bio_3_vel\"]\n",
    "vx[np.where(vx>max_v)[0]] = max_v\n",
    "vx[np.where(vx<-max_v)[0]] = -max_v\n",
    "\n",
    "vy = avg_vel_gdf3_df[\"UMAP_01_bio_3_vel\"]\n",
    "vy[np.where(vy>max_v)[0]] = max_v\n",
    "vy[np.where(vy<-max_v)[0]] = -max_v\n",
    "\n",
    "fig2 = ff.create_quiver(x=-avg_vel_gdf3_df[\"UMAP_00_bio_3\"], y=avg_vel_gdf3_df[\"UMAP_01_bio_3\"], \n",
    "                       u=vx, v=vy,\n",
    "                       scale=1, arrow_scale=0.5, line=dict(color=\"black\"))\n",
    "\n",
    "fig2.add_traces(data = fig1.data)\n",
    "\n",
    "fig2.update_xaxes(title=\"UMAP 1\")#range=[-19, 0])\n",
    "fig2.update_yaxes(title=\"UMAP 2\") #range=[0, 10])\n",
    "\n",
    "fig2.show()\n",
    "fig2.write_image(os.path.join(out_figure_path, \"density_plot_with_quiver_gdf3.png\"), scale=2)"
   ]
  },
  {
   "cell_type": "code",
   "execution_count": null,
   "metadata": {
    "pycharm": {
     "is_executing": true
    }
   },
   "outputs": [],
   "source": [
    "fig = px.density_contour(avg_vel_df_all, x=\"UMAP_00_bio_3\", y=\"UMAP_01_bio_3\", z=\"predicted_stage_hpf\",\n",
    "fig.update_traces(contours_coloring=\"fill\", colorscale=\"magma\")\n",
    "\n",
    "\n",
    "fig.show()"
   ]
  },
  {
   "cell_type": "code",
   "execution_count": null,
   "metadata": {
    "pycharm": {
     "is_executing": true
    }
   },
   "outputs": [],
   "source": [
    "fig = px.density_contour(avg_vel_df_all, x=\"UMAP_00_bio_3\", y=\"UMAP_01_bio_3\")\n",
    "\n",
    "fig.update_traces(contours_coloring=\"fill\")\n",
    "\n",
    "fig.show()"
   ]
  },
  {
   "cell_type": "code",
   "execution_count": null,
   "metadata": {
    "pycharm": {
     "is_executing": true
    }
   },
   "outputs": [],
   "source": [
    "X = avg_vel_df_all[\"UMAP_00_bio_3\"].to_numpy()\n",
    "Y = avg_vel_df_all[\"UMAP_01_bio_3\"].to_numpy()\n",
    "Z = avg_vel_df_all[\"UMAP_02_bio_3\"].to_numpy()\n",
    "\n",
    "dX = avg_vel_df_all[\"UMAP_00_bio_3_vel\"].to_numpy()\n",
    "dY = avg_vel_df_all[\"UMAP_01_bio_3_vel\"].to_numpy()\n",
    "dZ = avg_vel_df_all[\"UMAP_02_bio_3_vel\"].to_numpy()\n",
    "\n",
    "n_bins = 30\n",
    "xx = np.linspace(min(X), max(X), num=n_bins+1)\n",
    "yy = np.linspace(min(Y), max(Y), num=n_bins+1)\n",
    "zz = np.linspace(min(Z), max(Z), num=n_bins+1)\n",
    "\n",
    "Xg, Yg, Zg = np.meshgrid(xx, yy, zz)  # 3D grid for interpolation\n",
    "\n",
    "xyz_grid_long = np.concatenate((X[:, np.newaxis], Y[:, np.newaxis], Z[:, np.newaxis]), axis=1)\n",
    "\n",
    "# interpolate each direction\n",
    "interp_dx = LinearNDInterpolator(xyz_grid_long, dX.flatten(), fill_value=0)\n",
    "dXI = interp_dx(Xg, Yg, Zg)\n",
    "\n",
    "interp_dy = LinearNDInterpolator(xyz_grid_long, dY.flatten(), fill_value=0)\n",
    "dYI = interp_dy(Xg, Yg, Zg)\n",
    "\n",
    "interp_dz = LinearNDInterpolator(xyz_grid_long, dZ.flatten(), fill_value=0)\n",
    "dZI = interp_dz(Xg, Yg, Zg)\n",
    "\n",
    "# dXInn = dXI.copy()\n",
    "# dXIzeros[np.where(dXI==0)]\n",
    "# dXIzeros = dXI\n",
    "# dXIzeros = dXI\n",
    "\n",
    "# Apply mild gaussian smoothing\n",
    "dXIS = ndimage.gaussian_filter(dXI, 1)\n",
    "dYIS = ndimage.gaussian_filter(dYI, 1)\n",
    "dZIS = ndimage.gaussian_filter(dZI, 1)\n",
    "\n",
    "# calculate overall potential gradient magnitudes\n",
    "UM = np.sqrt(dXIS**2 + dYIS**2 + dZIS**2)\n",
    "\n",
    "\n",
    "fig = go.Figure(data=go.Volume(\n",
    "    x=Xg.flatten(), y=Yg.flatten(), z=Zg.flatten(),\n",
    "    value=UM.flatten(),\n",
    "    isomin=0.25,\n",
    "#     isomax=0.7,\n",
    "    opacity=0.25,\n",
    "    surface_count=25,\n",
    "    colorscale=\"ice\"\n",
    "    ))\n",
    "\n",
    "fig.update_layout(template=\"plotly\")\n",
    "# fig.update_layout(scene_xaxis_showticklabels=False,\n",
    "#                   scene_yaxis_showticklabels=False,\n",
    "#                   scene_zaxis_showticklabels=False)\n",
    "fig.show()"
   ]
  }
 ],
 "metadata": {
  "kernelspec": {
   "display_name": "Python 3 (ipykernel)",
   "language": "python",
   "name": "python3"
  },
  "language_info": {
   "codemirror_mode": {
    "name": "ipython",
    "version": 3
   },
   "file_extension": ".py",
   "mimetype": "text/x-python",
   "name": "python",
   "nbconvert_exporter": "python",
   "pygments_lexer": "ipython3",
   "version": "3.10.8"
  }
 },
 "nbformat": 4,
 "nbformat_minor": 1
}
