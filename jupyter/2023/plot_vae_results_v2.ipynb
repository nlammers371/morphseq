{
 "cells": [
  {
   "cell_type": "markdown",
   "metadata": {},
   "source": [
    "## Exploring morph VAE output\n",
    "This notebook generates visualizations and conducts analyses to assess the biological content of the latent space representations learned by our VAE models"
   ]
  },
  {
   "cell_type": "code",
   "execution_count": null,
   "metadata": {},
   "outputs": [],
   "source": [
    "from functions.pythae_utils import *\n",
    "import os\n",
    "from pythae.models import AutoModel\n",
    "import numpy as np\n",
    "from sklearn.preprocessing import StandardScaler\n",
    "from pythae.samplers import NormalSampler"
   ]
  },
  {
   "cell_type": "markdown",
   "metadata": {},
   "source": [
    "#### Get paths to data, figures, and latent space outputs"
   ]
  },
  {
   "cell_type": "code",
   "execution_count": null,
   "metadata": {},
   "outputs": [],
   "source": [
    "root = \"/Users/nick/Dropbox (Cole Trapnell's Lab)/Nick/morphseq/\"\n",
    "# root = \"E:\\\\Nick\\\\Dropbox (Cole Trapnell's Lab)\\\\Nick\\\\morphseq\\\\\"\n",
    "train_name = \"20230804_vae_full\"\n",
    "\n",
    "# model_name = \"20230804_vae_full_conv_z25_bs032_ne100_depth05\"\n",
    "model_name = \"20230804_vae_full_conv_z25_bs032_ne100_depth05_matchdec01\"\n",
    "train_dir = os.path.join(root, \"training_data\", train_name)\n",
    "output_dir = os.path.join(train_dir, model_name) \n",
    "\n",
    "# get path to model\n",
    "last_training = sorted(os.listdir(output_dir))[-1]\n",
    "trained_model = AutoModel.load_from_folder(\n",
    "    os.path.join(output_dir, last_training, 'final_model'))\n",
    "\n",
    "# path to figures and data\n",
    "figure_path = os.path.join(output_dir, last_training, \"figures\")\n",
    "out_figure_path = os.path.join(output_dir, last_training, \"figures\", \"model_assessment\")\n",
    "if not os.path.isdir(out_figure_path):\n",
    "    os.makedirs(out_figure_path)"
   ]
  },
  {
   "cell_type": "markdown",
   "metadata": {},
   "source": [
    "#### Create DataLoader objects for train, eval, and test sets\n",
    "- \"Train\" data were used to train the model\n",
    "- \"Eval\" data were used to assess model during training\n",
    "- \"Test\" data were untouched during training process"
   ]
  },
  {
   "cell_type": "code",
   "execution_count": null,
   "metadata": {},
   "outputs": [],
   "source": [
    "import pandas as pd\n",
    "# main_dims = (576, 256) # size of images used for training\n",
    "# data_transform = make_dynamic_rs_transform(main_dims)\n",
    "\n",
    "# mode_vec = [\"train\", \"eval\", \"test\"]\n",
    "# data_sampler_vec = []\n",
    "# for mode in mode_vec:\n",
    "#     ds_temp = MyCustomDataset(\n",
    "#         root=os.path.join(train_dir, mode),\n",
    "#         transform=data_transform\n",
    "#     )\n",
    "#     data_sampler_vec.append(ds_temp)\n",
    "\n",
    "# load data frame with results\n",
    "morph_df = pd.read_csv(os.path.join(figure_path, \"embryo_stats_df.csv\"), index_col=0)"
   ]
  },
  {
   "cell_type": "markdown",
   "metadata": {},
   "source": [
    "#### Question 1: how well does the model generalize?\n",
    "We can compare reconstruction error across the three data groups. In a perfect world, the model would do as well at reconstructing embryos it has never seen as on embryos that were in the training set"
   ]
  },
  {
   "cell_type": "code",
   "execution_count": null,
   "metadata": {},
   "outputs": [],
   "source": [
    "import plotly.express as px\n",
    "import plotly.graph_objects as go\n",
    "import plotly.offline as pyo\n",
    "\n",
    "pyo.init_notebook_mode()\n",
    "\n",
    "fig = px.histogram(morph_df, x=\"recon_mse\", color=\"train_cat\", histnorm='probability density', \n",
    "                   title=\"Comparing image reconstruction quality\",\n",
    "                   labels=dict(recon_mse=\"reconstruction error (MSE)\", train_cat=\"training class\"))\n",
    "\n",
    "# fig.update_layout(legend=[ f\"training images (mu={np.round(train_mu)})\", f\"eval images (mu={np.round(eval_mu)})\", f\"test images (mu={np.round(test_mu)})\"]) \n",
    "\n",
    "\n",
    "fig.update_layout(barmode='overlay')\n",
    "fig.update_traces(opacity=0.5)\n",
    "\n",
    "fig.show()\n",
    "fig.write_image(os.path.join(out_figure_path, \"tet_image_recon_hist.png\"))"
   ]
  },
  {
   "cell_type": "code",
   "execution_count": null,
   "metadata": {},
   "outputs": [],
   "source": [
    "fig = px.box(morph_df, x=\"train_cat\", y=\"recon_mse\", color=\"train_cat\",\n",
    "             title=\"Comparing image reconstruction quality\",\n",
    "             labels=dict(recon_mse=\"reconstruction error (MSE)\", train_cat=\"training class\"))\n",
    "fig.show()\n",
    "fig.write_image(os.path.join(out_figure_path, \"tet_image_recon_box.png\"))"
   ]
  },
  {
   "cell_type": "markdown",
   "metadata": {},
   "source": [
    "Note that the train and eval data compositions should be identical, so likely the eval set is a slightly better point of comparison. Overall, we see that the model does better on training data, but not overwhelmingly so. \n",
    "\n",
    "Let's look at a couple comparison images to get a sense for the qualitative implications of these reconstruction error values."
   ]
  },
  {
   "cell_type": "code",
   "execution_count": null,
   "metadata": {},
   "outputs": [],
   "source": [
    "from skimage import io\n",
    "import plotly.express as px\n",
    "\n",
    "im_train_avg = io.imread(\"/Users/nick/Dropbox (Cole Trapnell's Lab)/Nick/morphseq/training_data/20230804_vae_full/20230804_vae_full_conv_z25_bs032_ne100_depth05_matchdec01/VAE_training_2023-08-09_14-12-59/figures/train_images/im_0229_loss06735.tiff\")\n",
    "\n",
    "im_test_avg = io.imread(\"/Users/nick/Dropbox (Cole Trapnell's Lab)/Nick/morphseq/training_data/20230804_vae_full/20230804_vae_full_conv_z25_bs032_ne100_depth05_matchdec01/VAE_training_2023-08-09_14-12-59/figures/test_images/im_2724_loss06848.tiff\")\n",
    "\n",
    "fig = px.imshow(im_train_avg, title=\"Representative training image\")\n",
    "fig.show()"
   ]
  },
  {
   "cell_type": "code",
   "execution_count": null,
   "metadata": {},
   "outputs": [],
   "source": [
    "fig = px.imshow(im_test_avg, title=\"Representative test image\")\n",
    "fig.show()"
   ]
  },
  {
   "cell_type": "markdown",
   "metadata": {},
   "source": [
    "#### Question 2: What does latent space \"look\" like?\n",
    "We cannot visualize the full space, but we can use UMAP to generate reduced representations. Not clear how informative this kind of thing is, but worth having for reference"
   ]
  },
  {
   "cell_type": "code",
   "execution_count": null,
   "metadata": {},
   "outputs": [],
   "source": [
    "# load arrays with UMAP embeddings\n",
    "# morph_df[\"UMAP_00\"] = -morph_df[\"UMAP_00\"]\n",
    "wck_indices = np.where(morph_df[\"master_perturbation\"] == 'wck-AB')\n",
    "\n",
    "fig = px.scatter(morph_df.iloc[wck_indices], x=\"UMAP_00\", y=\"UMAP_01\", opacity=0.5, template=\"plotly\",\n",
    "#                 title=\"UMAP representation of morphology latent space\",\n",
    "                labels=dict(UMAP_00=\"morphology dim 1\", UMAP_01=\"morphology dim 2\"))\n",
    "\n",
    "fig.update_traces(marker=dict(size=5,\n",
    "                              color='gray'))\n",
    "\n",
    "fig.show()\n",
    "fig.write_image(os.path.join(out_figure_path, \"latent_UMAP_all_ab_only.png\"), width=save_dims[1], height=save_dims[0])"
   ]
  },
  {
   "cell_type": "code",
   "execution_count": null,
   "metadata": {},
   "outputs": [],
   "source": [
    "# load arrays with UMAP embeddings\n",
    "\n",
    "\n",
    "fig = px.scatter(morph_df.iloc[wck_indices], x=\"UMAP_00\", y=\"UMAP_01\", color=\"train_cat\", opacity=0.5, template=\"plotly\",\n",
    "                title=\"Latent space colored by training class\",\n",
    "                labels=dict(UMAP_00=\"UMAP dim 1\", UMAP_01=\"UMAP dim 2\", train_cat=\"training class\"))\n",
    "\n",
    "fig.show()\n",
    "fig.write_image(os.path.join(out_figure_path, \"latent_UMAP_train_class_ab_only.png\"))"
   ]
  },
  {
   "cell_type": "code",
   "execution_count": null,
   "metadata": {},
   "outputs": [],
   "source": [
    "\n",
    "morph_df_ab = morph_df.iloc[wck_indices]\n",
    "morph_df_ab[\"experiment_id\"] = morph_df_ab[\"experiment_date\"].astype('category',copy=True)\n",
    "\n",
    "fig = px.scatter(morph_df_ab, x=\"UMAP_00\", y=\"UMAP_01\", color=\"experiment_id\", \n",
    "                 opacity=0.5, template=\"plotly\",\n",
    "                 title=\"Latent space colored by experiment ID\",\n",
    "                 labels=dict(UMAP_00=\"UMAP dim 1\", UMAP_01=\"UMAP dim 2\", experiment_id=\"experiment ID\"))\n",
    "\n",
    "fig.show()\n",
    "fig.write_image(os.path.join(out_figure_path, \"latent_UMAP_experiment_id_ab_only.png\"))"
   ]
  },
  {
   "cell_type": "code",
   "execution_count": null,
   "metadata": {},
   "outputs": [],
   "source": [
    "fig = px.scatter(morph_df.iloc[wck_indices], x=\"UMAP_00\", y=\"UMAP_01\", color=\"master_perturbation\", opacity=0.25, template=\"plotly\",\n",
    "                title=\"Latent space colored by experimental perturbation\",\n",
    "                labels=dict(UMAP_00=\"UMAP dim 1\", UMAP_01=\"UMAP dim 2\", master_perturbation=\"perturbation\"))\n",
    "\n",
    "fig.show()\n",
    "fig.write_image(os.path.join(out_figure_path, \"latent_UMAP_perturbation_ab_only.png\"))"
   ]
  },
  {
   "cell_type": "markdown",
   "metadata": {},
   "source": [
    "### Plot by developmental stage"
   ]
  },
  {
   "cell_type": "code",
   "execution_count": null,
   "metadata": {},
   "outputs": [],
   "source": [
    "fig = px.scatter(morph_df, x=\"UMAP_00\", y=\"UMAP_01\", color=\"predicted_stage_hpf\", opacity=0.5, template=\"plotly\",\n",
    "                title=\"Latent space colored by developemntal age\",\n",
    "                labels=dict(UMAP_00=\"UMAP dim 1\", UMAP_01=\"UMAP dim 2\", predicted_stage_hpf=\"stage (hpf)\"))\n",
    "\n",
    "fig.show()\n",
    "fig.write_image(os.path.join(out_figure_path, \"latent_UMAP_age.png\"))"
   ]
  },
  {
   "cell_type": "code",
   "execution_count": null,
   "metadata": {},
   "outputs": [],
   "source": [
    "save_dims = [512, 1024]\n",
    "fig = px.scatter(morph_df.iloc[wck_indices], x=\"UMAP_00\", y=\"UMAP_01\", color=\"predicted_stage_hpf\", opacity=0.5, template=\"plotly\",\n",
    "                labels=dict(UMAP_00=\"morphology dim 1\", UMAP_01=\"morphology dim 2\", predicted_stage_hpf=\"stage (hpf)\"))\n",
    "\n",
    "fig.show()\n",
    "fig.write_image(os.path.join(out_figure_path, \"latent_UMAP_age_ab_only.png\"), width=save_dims[1], height=save_dims[0])"
   ]
  },
  {
   "cell_type": "code",
   "execution_count": null,
   "metadata": {},
   "outputs": [],
   "source": [
    "fig = px.scatter(morph_df.iloc[wck_indices], x=\"UMAP_00\", y=\"UMAP_01\", color=\"predicted_stage_hpf\", opacity=0.5, template=\"plotly\",\n",
    "#                 title=\"Latent space colored by developmental age\",\n",
    "                labels=dict(UMAP_00=\"morphology dim 1\", UMAP_01=\"morphology dim 2\", predicted_stage_hpf=\"stage (hpf)\"))\n",
    "\n",
    "fig.update_coloraxes(showscale=False)\n",
    "\n",
    "fig.show()\n",
    "fig.write_image(os.path.join(out_figure_path, \"latent_UMAP_age_ab_only_no_legend.png\"), width=save_dims[1], height=save_dims[0])"
   ]
  },
  {
   "cell_type": "code",
   "execution_count": null,
   "metadata": {},
   "outputs": [],
   "source": [
    "# top_id = \"20230531_D11\"\n",
    "# top_id = \"20230615_B09\"\n",
    "eid_vec =  np.asarray([morph_df.loc[i, \"snip_id\"][:-10] for i in range(morph_df.shape[0])])\n",
    "morph_df[\"embryo_id\"] = eid_vec\n",
    "\n",
    "wt_indices = wck_indices[0].copy()\n",
    "mc_flags = np.where([\"MC\" in med for med in morph_df[\"medium\"]])[0]\n",
    "\n",
    "wt_indices = np.asarray([w for w in wt_indices if w in mc_flags]).astype(int)\n",
    "wt_ids_to_plot = np.unique(eid_vec[wt_indices])\n",
    "wt_plot_id_vec = ['20230615_B09', \"20230608_D10\", \"20230608_C11\", \"20230622_H06\"]\n",
    "wt_color_vec = [\"lightblue\", \"cornflowerblue\", \"cadetblue\", \"darkblue\"]\n",
    "# n_plot = 5\n",
    "\n",
    "wt_color = \"cornflowerblue\"#'#1f77b4'\n",
    "# fig = px.scatter(morph_df.iloc[wck_indices], x=\"UMAP_00\", y=\"UMAP_01\", color=\"predicted_stage_hpf\", template=\"plotly\",\n",
    "#                 title=\"Latent space colored by experimental perturbation\", opacity=0.5,\n",
    "#                 labels=dict(UMAP_00=\"UMAP dim 1\", UMAP_01=\"UMAP dim 2\", predicted_stage_hpf=\"stage (hpf)\"))\n",
    "\n",
    "fig = px.scatter()\n",
    "\n",
    "fig.add_trace(go.Scatter(x=morph_df[\"UMAP_00\"].iloc[wck_indices],\n",
    "                         y=morph_df[\"UMAP_01\"].iloc[wck_indices],\n",
    "                         mode=\"markers\", \n",
    "                         marker=dict(size=5, opacity=0.5, #line=dict(width=0, color='DarkSlateGrey'),\n",
    "                         color=morph_df[\"predicted_stage_hpf\"].iloc[wck_indices]),\n",
    "                         showlegend=False))\n",
    "\n",
    "\n",
    "for n in range(len(wt_plot_id_vec)):\n",
    "    l_flag = n == 0\n",
    "    plot_id = wt_plot_id_vec[n]\n",
    "    fig.add_trace(go.Scatter(x=morph_df[\"UMAP_00\"].iloc[np.where(np.asarray(eid_vec)==plot_id)[0]],\n",
    "                         y=morph_df[\"UMAP_01\"].iloc[np.where(np.asarray(eid_vec)==plot_id)[0]],\n",
    "                         mode=\"markers+lines\", marker=dict(size=8, line=dict(width=0.5, color='black'),\n",
    "                                            color=wt_color),#morph_df[\"predicted_stage_hpf\"].iloc[np.where(np.asarray(eid_vec)==top_id)[0]]),\n",
    "                         line=dict(width=2),\n",
    "                         showlegend=False,\n",
    "                         name=\"WT embryos\" ))\n",
    "\n",
    "fig.update_layout(template=\"plotly\")\n",
    "\n",
    "fig.update_xaxes(title_text='morphology dim 1')\n",
    "fig.update_yaxes(title_text='morphology dim 2')\n",
    "\n",
    "fig.show()\n",
    "fig.write_image(os.path.join(out_figure_path, \"latent_UMAP_age_with_wt_trajectories2.png\"), width=save_dims[1], height=save_dims[0])"
   ]
  },
  {
   "cell_type": "code",
   "execution_count": null,
   "metadata": {},
   "outputs": [],
   "source": [
    "shh_indices = [i for i in range(morph_df.shape[0]) if 'Shh' in morph_df.loc[i, \"master_perturbation\"]]\n",
    "shh_embryos = np.unique(eid_vec[np.asarray(shh_indices)])\n",
    "shh_color = \"coral\"\n",
    "\n",
    "shh_ids_to_plot = [\"20230620_B09\", \"20230620_D02\", \"20230620_F09\"]#\"20230620_E09\",\n",
    "fig = px.scatter()\n",
    "\n",
    "fig.add_trace(go.Scatter(x=morph_df[\"UMAP_00\"].iloc[wck_indices],\n",
    "                         y=morph_df[\"UMAP_01\"].iloc[wck_indices],\n",
    "                         mode=\"markers\", \n",
    "                         marker=dict(size=5, opacity=0.5, #line=dict(width=0, color='DarkSlateGrey'),\n",
    "                         color=morph_df[\"predicted_stage_hpf\"].iloc[wck_indices]),\n",
    "                         showlegend=False))\n",
    "\n",
    "\n",
    "for n in range(len(wt_plot_id_vec)):\n",
    "    l_flag = n == 0\n",
    "    plot_id = wt_plot_id_vec[n]\n",
    "    fig.add_trace(go.Scatter(x=morph_df[\"UMAP_00\"].iloc[np.where(np.asarray(eid_vec)==plot_id)[0]],\n",
    "                         y=morph_df[\"UMAP_01\"].iloc[np.where(np.asarray(eid_vec)==plot_id)[0]],\n",
    "                         mode=\"markers+lines\", marker=dict(size=8, line=dict(width=0.5, color='black'),\n",
    "                                            color=wt_color),#morph_df[\"predicted_stage_hpf\"].iloc[np.where(np.asarray(eid_vec)==top_id)[0]]),\n",
    "                         line=dict( width=3),\n",
    "                         showlegend=False,\n",
    "                         name=\"WT embryos\" ))\n",
    "    \n",
    "    \n",
    "# for n in range(20,30):\n",
    "#     l_flag = n == 0\n",
    "#     plot_id = shh_embryos[n]\n",
    "#     fig.add_trace(go.Scatter(x=morph_df[\"UMAP_00\"].iloc[np.where(np.asarray(eid_vec)==plot_id)[0]],\n",
    "#                          y=morph_df[\"UMAP_01\"].iloc[np.where(np.asarray(eid_vec)==plot_id)[0]],\n",
    "#                          mode=\"markers+lines\", marker=dict(size=8, line=dict(width=1.5, color='black')),\n",
    "#                                             #color=shh_color),#morph_df[\"predicted_stage_hpf\"].iloc[np.where(np.asarray(eid_vec)==top_id)[0]]),\n",
    "# #                          line=dict(color=wt_color, width=3),\n",
    "#                          showlegend=True,\n",
    "#                          name=plot_id ))\n",
    "\n",
    "for n in range(len(shh_ids_to_plot)):\n",
    "    l_flag = n == 0\n",
    "    plot_id = shh_ids_to_plot[n]\n",
    "    fig.add_trace(go.Scatter(x=morph_df[\"UMAP_00\"].iloc[np.where(np.asarray(eid_vec)==plot_id)[0]][:-3],\n",
    "                         y=morph_df[\"UMAP_01\"].iloc[np.where(np.asarray(eid_vec)==plot_id)[0]][:-1],\n",
    "                         mode=\"markers+lines\", marker=dict(size=8, line=dict(width=0.5, color='black'),\n",
    "                                            color=shh_color),#morph_df[\"predicted_stage_hpf\"].iloc[np.where(np.asarray(eid_vec)==top_id)[0]]),\n",
    "                         line=dict(width=3),\n",
    "                         showlegend=False,\n",
    "                         name=\"Shh-i embryos\"))\n",
    "\n",
    "fig.update_layout(template=\"plotly\")\n",
    "\n",
    "fig.update_xaxes(title_text='morphology dim 1')\n",
    "fig.update_yaxes(title_text='morphology dim 2')\n",
    "\n",
    "fig.show()\n",
    "fig.write_image(os.path.join(out_figure_path, \"latent_UMAP_age_with_wt_and_shhi_trajectories2.png\"), width=save_dims[1], height=save_dims[0])"
   ]
  },
  {
   "cell_type": "markdown",
   "metadata": {},
   "source": [
    "Let's zoom in on a few specific perturbations"
   ]
  },
  {
   "cell_type": "code",
   "execution_count": null,
   "metadata": {},
   "outputs": [],
   "source": [
    "ft_indices = np.where((morph_df[\"master_perturbation\"]=='wck-AB') | (morph_df[\"master_perturbation\"]=='gdf3'))\n",
    "\n",
    "fig = px.scatter(morph_df.iloc[ft_indices], x=\"UMAP_00\", y=\"UMAP_01\", color=\"master_perturbation\", opacity=0.25, template=\"plotly\",\n",
    "                title=\"Latent space colored by experimental perturbation\",\n",
    "                labels=dict(UMAP_00=\"UMAP dim 1\", UMAP_01=\"UMAP dim 2\", master_perturbation=\"perturbation\"))\n",
    "\n",
    "fig.show()\n",
    "fig.write_image(os.path.join(out_figure_path, \"latent_UMAP_ab_gdf3.png\"))"
   ]
  },
  {
   "cell_type": "code",
   "execution_count": null,
   "metadata": {},
   "outputs": [],
   "source": [
    "gdf3_indices = np.where((morph_df[\"master_perturbation\"]=='gdf3'))[0]\n",
    "                               \n",
    "fig = go.Figure()\n",
    "\n",
    "fig.add_trace(go.Scatter(x=morph_df[\"UMAP_00\"].iloc[wck_indices],\n",
    "                         y=morph_df[\"UMAP_01\"].iloc[wck_indices],\n",
    "                         mode=\"markers\", marker=dict(size=5, opacity=0.25,\n",
    "                                            color='#636EFA'),\n",
    "                         name=\"wck-AB\"))\n",
    "\n",
    "fig.add_trace(go.Scatter(x=morph_df[\"UMAP_00\"].iloc[gdf3_indices],\n",
    "                         y=morph_df[\"UMAP_01\"].iloc[gdf3_indices],\n",
    "                         mode=\"markers\", marker=dict(size=5, opacity=0.25,\n",
    "                                            color='#EF553B'),\n",
    "                         name=\"gdf3\"))\n",
    "\n",
    "fig.update_layout(template=\"plotly\")\n",
    "\n",
    "fig.show()\n",
    "fig.write_image(os.path.join(out_figure_path, \"latent_UMAP_ab_gdf3_v2.png\"))"
   ]
  },
  {
   "cell_type": "code",
   "execution_count": null,
   "metadata": {},
   "outputs": [],
   "source": [
    "inlier_indices = np.where((morph_df[\"UMAP_00\"] < 4) & \n",
    "                          (morph_df[\"UMAP_01\"] > 3) & \n",
    "                          (morph_df[\"UMAP_01\"] < 6) & \n",
    "                          (morph_df[\"master_perturbation\"]=='gdf3'))\n",
    "\n",
    "print(morph_df.iloc[inlier_indices])\n",
    "                          "
   ]
  },
  {
   "cell_type": "code",
   "execution_count": null,
   "metadata": {},
   "outputs": [],
   "source": [
    "\n",
    "inlier_id = \"20230627_A08\"   \n",
    "inlier_id_list = [\"20230627_A08\", \"20230627_C08\", \"20230627_G08\"]\n",
    "fig = go.Figure()\n",
    "\n",
    "fig.add_trace(go.Scatter(x=morph_df[\"UMAP_00\"].iloc[wck_indices],\n",
    "                         y=morph_df[\"UMAP_01\"].iloc[wck_indices],\n",
    "                         mode=\"markers\", marker=dict(size=5, opacity=0.25,\n",
    "                                            color='#636EFA'),\n",
    "                         name=\"wck-AB\"))\n",
    "\n",
    "fig.add_trace(go.Scatter(x=morph_df[\"UMAP_00\"].iloc[gdf3_indices],\n",
    "                         y=morph_df[\"UMAP_01\"].iloc[gdf3_indices],\n",
    "                         mode=\"markers\", marker=dict(size=5, opacity=0.25,\n",
    "                                            color='#EF553B'),\n",
    "                         name=\"gdf3\"))\n",
    "         \n",
    "fig.add_trace(go.Scatter(x=morph_df[\"UMAP_00\"].iloc[np.where(np.asarray(eid_vec)==inlier_id)[0]],\n",
    "                         y=morph_df[\"UMAP_01\"].iloc[np.where(np.asarray(eid_vec)==inlier_id)[0]],\n",
    "                         mode=\"markers+lines\", marker=dict(size=8, opacity=1, line=dict(width=2, color=\"black\"),\n",
    "                                            color='#EF553B'),\n",
    "                         line=dict(color=\"black\"),\n",
    "                         name=\"gdf3 inlier\"))\n",
    "\n",
    "fig.update_layout(template=\"plotly\")\n",
    "\n",
    "fig.show()\n",
    "fig.write_image(os.path.join(out_figure_path, \"latent_UMAP_ab_gdf3_v2_inlier.png\"))"
   ]
  },
  {
   "cell_type": "code",
   "execution_count": null,
   "metadata": {},
   "outputs": [],
   "source": [
    "# let's try to find the one gdf3 embryo that remains in the WT cluster\n",
    "gdf3_inlier_indices = np.where((morph_df[\"master_perturbation\"]=='gdf3') &\n",
    "                                            (morph_df[\"UMAP_00\"]<3)&\n",
    "                                            (morph_df[\"UMAP_01\"]<-2.2))[0]\n",
    "morph_df.iloc[gdf3_inlier_indices]\n"
   ]
  },
  {
   "cell_type": "code",
   "execution_count": null,
   "metadata": {},
   "outputs": [],
   "source": [
    "fgf_indices = [i for i in range(morph_df.shape[0]) if 'Fgf' in morph_df.loc[i, \"master_perturbation\"]]\n",
    "wck_indices = np.where((morph_df[\"master_perturbation\"]=='wck-AB'))[0]\n",
    "ft_indices = np.asarray(wck_indices.tolist() + fgf_indices)\n",
    "\n",
    "fig = px.scatter(morph_df.iloc[ft_indices], x=\"UMAP_00\", y=\"UMAP_01\", color=\"master_perturbation\", opacity=0.25, template=\"plotly\",\n",
    "                title=\"Latent space colored by experimental perturbation\",\n",
    "                labels=dict(UMAP_00=\"UMAP dim 1\", UMAP_01=\"UMAP dim 2\", master_perturbation=\"perturbation\"))\n",
    "\n",
    "fig.show()\n",
    "fig.write_image(os.path.join(out_figure_path, \"latent_UMAP_ab_fgf.png\"))"
   ]
  },
  {
   "cell_type": "code",
   "execution_count": null,
   "metadata": {},
   "outputs": [],
   "source": [
    "shh_indices = [i for i in range(morph_df.shape[0]) if 'Shh' in morph_df.loc[i, \"master_perturbation\"]]\n",
    "wck_indices = np.where((morph_df[\"master_perturbation\"]=='wck-AB'))[0]\n",
    "ft_indices = np.asarray(wck_indices.tolist() + shh_indices)\n",
    "\n",
    "fig = px.scatter(morph_df.iloc[ft_indices], x=\"UMAP_00\", y=\"UMAP_01\", color=\"master_perturbation\", opacity=0.25, template=\"plotly\",\n",
    "                title=\"Latent space colored by experimental perturbation\",\n",
    "                labels=dict(UMAP_00=\"UMAP dim 1\", UMAP01=\"UMAP dim 2\", master_perturbation=\"perturbation\"))\n",
    "\n",
    "fig.show()\n",
    "fig.write_image(os.path.join(out_figure_path, \"latent_UMAP_ab_shh.png\"))"
   ]
  },
  {
   "cell_type": "markdown",
   "metadata": {},
   "source": [
    "### Next steps\n",
    "\n",
    "1. **Dig further into latent space**\n",
    "    - What causes the mirroring in UMAP space?\n",
    "    - What do the outlier points look like? \n",
    "    \n",
    "<br>\n",
    "\n",
    "2. **Build quantitative pipeline for assessing information content of latent space**\n",
    "    - Use simple NN to predict age and perturbation from latent space\n",
    "    - Use multivariate regression (or similar) to look at how much info is _linearly_ decodable\n",
    "    - Short-term: use these methods to identify optimal model architecture and hyperparameters\n",
    "    - Mid-term: I want to use a simple linear model to reduce latent space to a biologically salient subspace\n",
    "    \n",
    "<br>\n",
    "\n",
    "3. **Improve and extend the model**\n",
    "    - Deeper decoder to improve image fidelity\n",
    "    - Try incorporating embryoNET as the encoder\n",
    "    \n",
    "<br>\n",
    "\n",
    "4. **Test VAE variants to improve biological salience of latent space**\n",
    "    - TC-VAE to inforce statistical independent latent variables\n",
    "    - Apply metric constraint to incentivize model to learn representations of key biological variables (time, genotype) while minimizing the impact of \"nuisance variables (embryo pose, experimental variability, etc.) "
   ]
  },
  {
   "cell_type": "code",
   "execution_count": null,
   "metadata": {},
   "outputs": [],
   "source": [
    "import umap\n",
    "import hdbscan\n",
    "import sklearn.cluster as cluster\n",
    "\n",
    "morph_df2 = pd.read_csv(os.path.join(figure_path, \"embryo_stats_df.csv\"), index_col=0)\n",
    "wck_indices = np.where((morph_df2[\"master_perturbation\"]=='wck-AB'))[0]\n",
    "umap_array = morph_df2.loc[wck_indices, [\"UMAP_00\", \"UMAP_01\"]].to_numpy()\n",
    "\n",
    "labels = hdbscan.HDBSCAN(\n",
    "    min_samples=10,\n",
    "    min_cluster_size=500,\n",
    ").fit_predict(umap_array)"
   ]
  },
  {
   "cell_type": "code",
   "execution_count": null,
   "metadata": {},
   "outputs": [],
   "source": [
    "from matplotlib import pyplot as plt\n",
    "\n",
    "# umap_array = morph_df.loc[wck_indices, [\"UMAP_00\", \"UMAP_01\"]].to_numpy()\n",
    "clustered = (labels >= 0)\n",
    "lb_str = labels.astype('str')\n",
    "key = [\"no cluster\", \"young cluster\", \"lateral cluster 1\", \"lateral cluster 2\", \"dorsal/ventral cluster\"]\n",
    "name_vec = [key[l+1] for l in labels]\n",
    "# plt.scatter(umap_array[~clustered, 0],\n",
    "#             umap_array[~clustered, 1],\n",
    "#             color=(0.5, 0.5, 0.5),\n",
    "#             s=0.1,\n",
    "#             alpha=0.5)\n",
    "# plt.scatter(umap_array[clustered, 0],\n",
    "#             umap_array[clustered, 1],\n",
    "#             c=labels[clustered],\n",
    "#             s=0.1,\n",
    "#             cmap='Spectral');\n",
    "\n",
    "# plt.show()\n",
    "\n",
    "fig = px.scatter(x=-umap_array[:, 0], y=umap_array[:, 1], opacity=0.25, color=name_vec,\n",
    "                color_discrete_sequence=[\"#636EFA\", \"#EF553B\", \"#00CC96\", \"#AB63FA\", \"gray\"])\n",
    "\n",
    "# fig.add_trace(go.Scatter(x=umap_array[:, 0], y=umap_array[:, 1], mode=\"markers\",\n",
    "#                        marker=dict(color=labels, opacity=0.25)))\n",
    "\n",
    "fig.update_layout(template=\"plotly\")\n",
    "\n",
    "fig.update_xaxes(title_text='morphology dim 1')\n",
    "fig.update_yaxes(title_text='morphology dim 2')\n",
    "\n",
    "fig.show()\n",
    "\n",
    "fig.write_image(os.path.join(out_figure_path, \"latent_UMAP_orientation_clusters.png\"), width=save_dims[1], height=save_dims[0])"
   ]
  },
  {
   "cell_type": "code",
   "execution_count": null,
   "metadata": {},
   "outputs": [],
   "source": [
    "np.asarray(labels).astype(str)"
   ]
  },
  {
   "cell_type": "markdown",
   "metadata": {},
   "source": [
    "## How do we interpret the dual developmental forks?\n",
    "One hypothesis is that this could reflect information about embryo orientation"
   ]
  },
  {
   "cell_type": "code",
   "execution_count": null,
   "metadata": {},
   "outputs": [],
   "source": [
    "# plot two example embryos from the top and bottom forks\n",
    "\n",
    "morph_df[\"embryo_id\"] = eid_vec\n",
    "\n",
    "top_id = \"20230531_D11\"\n",
    "bottom_id = \"20230615_B09\"\n",
    "\n",
    "fig = px.scatter(morph_df, x=\"UMAP_00\", y=\"UMAP_01\", opacity=0.01, template=\"plotly\",\n",
    "                title=\"VAE latent space by age\")\n",
    "\n",
    "fig.add_trace(go.Scatter(x=morph_df[\"UMAP_00\"].iloc[np.where(np.asarray(eid_vec)==top_id)[0]],\n",
    "                         y=morph_df[\"UMAP_01\"].iloc[np.where(np.asarray(eid_vec)==top_id)[0]],\n",
    "                         mode=\"markers+lines\", name=top_id))\n",
    "\n",
    "fig.add_trace(go.Scatter(x=morph_df[\"UMAP_00\"].iloc[np.where(np.asarray(eid_vec)==bottom_id)[0]],\n",
    "                         y=morph_df[\"UMAP_01\"].iloc[np.where(np.asarray(eid_vec)==bottom_id)[0]],\n",
    "                         mode=\"markers+lines\", name=bottom_id, \n",
    "                         marker=dict(\n",
    "                         color=morph_df[\"predicted_stage_hpf\"].iloc[np.where(np.asarray(eid_vec)==bottom_id)[0]])))\n",
    "\n",
    "fig.show()"
   ]
  },
  {
   "cell_type": "markdown",
   "metadata": {},
   "source": [
    "**Let's examine embryos from either side of the fork**"
   ]
  },
  {
   "cell_type": "code",
   "execution_count": null,
   "metadata": {},
   "outputs": [],
   "source": [
    "plot_id = \"20230615_B09\"\n",
    "train_cat = morph_df[\"train_cat\"].iloc[np.where(np.asarray(eid_vec)==plot_id)[0][0]]\n",
    "frame_ind = 25 # which frame to pull\n",
    "snip_id = morph_df[\"snip_id\"].iloc[np.where(np.asarray(eid_vec)==plot_id)[0][frame_ind]]\n",
    "load_path = os.path.join(train_dir, train_cat, plot_id[:8], snip_id + \".jpg\")\n",
    "\n",
    "im = io.imread(load_path)\n",
    "px.imshow(im)"
   ]
  },
  {
   "cell_type": "code",
   "execution_count": null,
   "metadata": {},
   "outputs": [],
   "source": [
    "plot_id = \"20230531_D11\"\n",
    "train_cat = morph_df[\"train_cat\"].iloc[np.where(np.asarray(eid_vec)==plot_id)[0][0]]\n",
    "frame_ind = 20 # which frame to pull\n",
    "snip_id = morph_df[\"snip_id\"].iloc[np.where(np.asarray(eid_vec)==plot_id)[0][frame_ind]]\n",
    "load_path = os.path.join(train_dir, train_cat, plot_id[:8], snip_id + \".jpg\")\n",
    "\n",
    "im = io.imread(load_path)\n",
    "px.imshow(im)"
   ]
  },
  {
   "cell_type": "markdown",
   "metadata": {},
   "source": [
    "Wow, yes, it looks like the two forks reflect L-R variations on the lateral orientation. I wonder if that blob in the middle towards the end of the fork reflects embryos that are predominantly Dorsal or Ventral"
   ]
  },
  {
   "cell_type": "code",
   "execution_count": null,
   "metadata": {},
   "outputs": [],
   "source": [
    "middle_id = \"20230620_G07\"\n",
    "\n",
    "fig = px.scatter(morph_df, x=\"UMAP_00\", y=\"UMAP_01\", opacity=0.01, template=\"plotly\")\n",
    "\n",
    "fig.add_trace(go.Scatter(x=morph_df[\"UMAP_00\"].iloc[np.where(np.asarray(eid_vec)==middle_id)[0]],\n",
    "                         y=morph_df[\"UMAP_01\"].iloc[np.where(np.asarray(eid_vec)==middle_id)[0]],\n",
    "                         mode=\"markers+lines\", name=middle_id,\n",
    "                         marker=dict(\n",
    "                         color=morph_df[\"predicted_stage_hpf\"].iloc[np.where(np.asarray(eid_vec)==middle_id)[0]])))\n",
    "\n",
    "fig.show()"
   ]
  },
  {
   "cell_type": "code",
   "execution_count": null,
   "metadata": {},
   "outputs": [],
   "source": [
    "plot_id = \"20230620_G07\"\n",
    "umap01_vec = morph_df[\"UMAP_01\"].to_numpy()\n",
    "p_indices = np.where((np.asarray(eid_vec)==plot_id) &\n",
    "                    (umap01_vec>=0) &\n",
    "                    (umap01_vec<=2))[0]\n",
    "\n",
    "train_cat = morph_df[\"train_cat\"].iloc[p_indices[0]]\n",
    "frame_ind = 20 # which frame to pull\n",
    "snip_id = morph_df[\"snip_id\"].iloc[p_indices[-1]]\n",
    "load_path = os.path.join(train_dir, train_cat, plot_id[:8], snip_id + \".jpg\")\n",
    "\n",
    "im = io.imread(load_path)\n",
    "px.imshow(im)"
   ]
  },
  {
   "cell_type": "markdown",
   "metadata": {},
   "source": [
    "## How much biological information does latent space contain? \n",
    "We can get at this question by trying to predict key biological covariates from the values of the 25 latent encodings. We will test both how much information is available overall (using an MLP) and how much information is linearly decodable."
   ]
  },
  {
   "cell_type": "markdown",
   "metadata": {},
   "source": [
    "Let's look at MLP first. We will use the \"train\" and \"eval\" partitions to train the classifier, and will test it out on the \"test\" partition. Let's look at time first"
   ]
  },
  {
   "cell_type": "code",
   "execution_count": null,
   "metadata": {},
   "outputs": [],
   "source": [
    "from sklearn.neural_network import MLPRegressor\n",
    "from sklearn.datasets import make_classification\n",
    "from sklearn.model_selection import train_test_split\n",
    "\n",
    "train_indices = np.where((morph_df[\"train_cat\"]==\"train\") | (morph_df[\"train_cat\"]==\"test\"))[0]\n",
    "test_indices = np.where(morph_df[\"train_cat\"] ==\"eval\")[0]\n",
    "\n",
    "# extract target vector\n",
    "y_train = morph_df[\"predicted_stage_hpf\"].iloc[train_indices].to_numpy().astype(float)\n",
    "y_test = morph_df[\"predicted_stage_hpf\"].iloc[test_indices].to_numpy().astype(float)\n",
    "\n",
    "# extract predictor variables\n",
    "mu_indices = [i for i in range(len(morph_df.columns)) if \"z_mu_\" in morph_df.columns[i]]\n",
    "X_train = morph_df.iloc[train_indices, mu_indices].to_numpy().astype(float)\n",
    "X_test = morph_df.iloc[test_indices, mu_indices].to_numpy().astype(float)"
   ]
  },
  {
   "cell_type": "code",
   "execution_count": null,
   "metadata": {},
   "outputs": [],
   "source": [
    "clf = MLPRegressor(random_state=1, max_iter=1000).fit(X_train, y_train)"
   ]
  },
  {
   "cell_type": "code",
   "execution_count": null,
   "metadata": {},
   "outputs": [],
   "source": [
    "y_test_pd = clf.predict(X_test)\n",
    "y_train_pd = clf.predict(X_train)\n",
    "R2_nl = clf.score(X_test, y_test)\n",
    "R2_train_nl = clf.score(X_train, y_train)\n",
    "print(R2_train_nl)\n",
    "\n",
    "perturbation_vec_test = morph_df[\"master_perturbation\"].iloc[test_indices].values\n",
    "\n",
    "fig = px.scatter(x=y_test, y=y_test_pd, opacity=0.5,\n",
    "                title=f\"Predicted vs. Actual Developmental Ages (R^2={np.round(R2_nl,2)})\")\n",
    "fig.update_xaxes(title_text='actual age (hpf)')\n",
    "fig.update_yaxes(title_text='predicted age (hpf)')\n",
    "fig.show()\n"
   ]
  },
  {
   "cell_type": "markdown",
   "metadata": {},
   "source": [
    "### Next, examine whether latent space can distinguish between wt and gdf3 embryos"
   ]
  },
  {
   "cell_type": "code",
   "execution_count": null,
   "metadata": {},
   "outputs": [],
   "source": [
    "from sklearn.neural_network import MLPClassifier\n",
    "gdf3_class_train = np.asarray(morph_df[\"master_perturbation\"].iloc[train_indices])\n",
    "train_gdf3_sub_indices = np.where(gdf3_class_train==\"gdf3\")[0]\n",
    "train_wck_sub_indices = np.random.choice(np.where(gdf3_class_train==\"wck-AB\")[0], len(train_gdf3_sub_indices), replace=False)\n",
    "train_sub_indices = np.asarray(train_gdf3_sub_indices.tolist() + train_wck_sub_indices.tolist())\n",
    "\n",
    "gdf3_class_test = np.asarray(morph_df[\"master_perturbation\"].iloc[test_indices])\n",
    "test_sub_indices = np.where((gdf3_class_test==\"wck-AB\") | (gdf3_class_test==\"gdf3\"))[0]\n",
    "\n"
   ]
  },
  {
   "cell_type": "code",
   "execution_count": null,
   "metadata": {},
   "outputs": [],
   "source": [
    "clf_gdf3 = MLPClassifier(random_state=1, max_iter=1000).fit(X_train[train_sub_indices], gdf3_class_train[train_sub_indices])"
   ]
  },
  {
   "cell_type": "code",
   "execution_count": null,
   "metadata": {},
   "outputs": [],
   "source": [
    "accuracy = clf_gdf3.score(X_test[test_sub_indices], gdf3_class_test[test_sub_indices])\n",
    "print(accuracy)\n",
    "\n",
    "class_probs = clf_gdf3.predict_proba(X_test[test_sub_indices])\n",
    "class_log_probs = np.log2(class_probs)\n",
    "class_log_probs[np.where(np.isinf(class_log_probs))] = -1e6 # any valus should do here\n",
    "pd_entropy = np.sum(np.multiply(class_log_probs, class_probs), axis=1)\n",
    "\n",
    "fig = px.scatter(morph_df.iloc[test_indices[test_sub_indices]], x=\"UMAP_00\", y=\"UMAP_01\", color=pd_entropy)\n",
    "fig.show()"
   ]
  },
  {
   "cell_type": "code",
   "execution_count": null,
   "metadata": {},
   "outputs": [],
   "source": [
    "class_predictions = clf_gdf3.predict(X_test[test_sub_indices])\n",
    "true_vec = gdf3_class_test[test_sub_indices]\n",
    "ab_right_indices = np.where((class_predictions==true_vec) & (true_vec=='wck-AB'))[0]\n",
    "ab_wrong_indices = np.where((class_predictions!=true_vec) & (true_vec=='wck-AB'))[0]\n",
    "gdf3_right_indices = np.where((class_predictions==true_vec) & (true_vec=='gdf3'))[0]\n",
    "gdf3_wrong_indices = np.where((class_predictions!=true_vec) & (true_vec=='gdf3'))[0]\n",
    "\n",
    "# extract UMAP array\n",
    "umap_array = morph_df[[\"UMAP_00\", \"UMAP_01\"]].iloc[test_indices[test_sub_indices]].to_numpy()\n",
    "\n",
    "# fig = px.scatter(morph_df.iloc[train_sub_indices], x=\"UMAP_00\", y=\"UMAP_01\", opacity=0.05)\n",
    "\n",
    "# fig.update_traces(marker=dict(color='gray'),\n",
    "#                   name=\"training data\")\n",
    "\n",
    "fig = go.Figure()\n",
    "\n",
    "fig.add_trace(go.Scatter(x=umap_array[ab_right_indices, 0], y=umap_array[ab_right_indices, 1], mode=\"markers\",\n",
    "                        marker=dict(color=\"lightblue\", opacity=0.5), name='wck-AB (correct)'))\n",
    "\n",
    "fig.add_trace(go.Scatter(x=umap_array[ab_wrong_indices, 0], y=umap_array[ab_wrong_indices, 1], mode=\"markers\",\n",
    "                        marker=dict(color=\"blue\", opacity=0.5), name='wck-AB (incorrect)'))  \n",
    "\n",
    "fig.add_trace(go.Scatter(x=umap_array[gdf3_right_indices, 0], y=umap_array[gdf3_right_indices, 1], mode=\"markers\",\n",
    "                        marker=dict(color=\"lightsalmon\", opacity=0.5), name='gdf3 (correct)'))\n",
    "\n",
    "fig.add_trace(go.Scatter(x=umap_array[gdf3_wrong_indices, 0], y=umap_array[gdf3_wrong_indices, 1], mode=\"markers\",\n",
    "                        marker=dict(color=\"red\", opacity=0.5), name='gdf3 (incorrect)'))  \n",
    "\n",
    "fig.show()"
   ]
  },
  {
   "cell_type": "markdown",
   "metadata": {},
   "source": [
    "Could a classifier trained on just the UMAP coordinates do better (it should not!)"
   ]
  },
  {
   "cell_type": "code",
   "execution_count": null,
   "metadata": {},
   "outputs": [],
   "source": [
    "# does it do better with a simpler space?\n",
    "umap_array_train = morph_df[[\"UMAP_00\", \"UMAP_01\"]].iloc[train_indices[train_sub_indices]].to_numpy()\n",
    "clf_gdf3_umap = MLPClassifier(random_state=1, max_iter=1000).fit(umap_array_train, gdf3_class_train[train_sub_indices])"
   ]
  },
  {
   "cell_type": "code",
   "execution_count": null,
   "metadata": {},
   "outputs": [],
   "source": [
    "accuracy_umap = clf_gdf3_umap.score(umap_array, gdf3_class_test[test_sub_indices])\n",
    "print(accuracy_umap)\n",
    "\n",
    "class_predictions = clf_gdf3_umap.predict(umap_array)\n",
    "ab_right_indices = np.where((class_predictions==true_vec) & (true_vec=='wck-AB'))[0]\n",
    "ab_wrong_indices = np.where((class_predictions!=true_vec) & (true_vec=='wck-AB'))[0]\n",
    "gdf3_right_indices = np.where((class_predictions==true_vec) & (true_vec=='gdf3'))[0]\n",
    "gdf3_wrong_indices = np.where((class_predictions!=true_vec) & (true_vec=='gdf3'))[0]\n",
    "\n",
    "# extract UMAP array\n",
    "umap_array = morph_df[[\"UMAP_00\", \"UMAP_01\"]].iloc[test_indices[test_sub_indices]].to_numpy()\n",
    "\n",
    "# fig = px.scatter(morph_df.iloc[train_sub_indices], x=\"UMAP_00\", y=\"UMAP_01\", opacity=0.05)\n",
    "\n",
    "# fig.update_traces(marker=dict(color='gray'),\n",
    "#                   name=\"training data\")\n",
    "\n",
    "fig = go.Figure()\n",
    "\n",
    "fig.add_trace(go.Scatter(x=umap_array[ab_right_indices, 0], y=umap_array[ab_right_indices, 1], mode=\"markers\",\n",
    "                        marker=dict(color=\"lightblue\", opacity=0.5), name='wck-AB (correct)'))\n",
    "\n",
    "fig.add_trace(go.Scatter(x=umap_array[ab_wrong_indices, 0], y=umap_array[ab_wrong_indices, 1], mode=\"markers\",\n",
    "                        marker=dict(color=\"blue\", opacity=0.5), name='wck-AB (incorrect)'))  \n",
    "\n",
    "fig.add_trace(go.Scatter(x=umap_array[gdf3_right_indices, 0], y=umap_array[gdf3_right_indices, 1], mode=\"markers\",\n",
    "                        marker=dict(color=\"lightsalmon\", opacity=0.5), name='gdf3 (correct)'))\n",
    "\n",
    "fig.add_trace(go.Scatter(x=umap_array[gdf3_wrong_indices, 0], y=umap_array[gdf3_wrong_indices, 1], mode=\"markers\",\n",
    "                        marker=dict(color=\"red\", opacity=0.5), name='gdf3 (incorrect)'))  \n",
    "\n",
    "fig.show()"
   ]
  },
  {
   "cell_type": "markdown",
   "metadata": {},
   "source": [
    "### Use multivariate linear regression to test linear decodability of temporal information"
   ]
  },
  {
   "cell_type": "code",
   "execution_count": null,
   "metadata": {},
   "outputs": [],
   "source": [
    "from sklearn import linear_model\n",
    "import statsmodels.api as sm\n",
    "from scipy import stats\n",
    "\n",
    "reg = linear_model.LinearRegression().fit(X_train, y_train)\n",
    "# X2 = sm.add_constant(X_train)\n",
    "# est = sm.OLS(y_train, X2)\n",
    "# est2 = est.fit()\n",
    "# print(est2.summary())\n",
    "\n",
    "R2_lin = reg.score(X_test, y_test)\n",
    "print(R2_lin)\n",
    "y_test_pd_lin = reg.predict(X_test)\n",
    "\n",
    "fig = px.scatter(x=y_test, y=y_test_pd_lin, opacity=0.5,\n",
    "                title=f\"Predicted vs. Actual Developmental Ages (R^2={np.round(R2_lin,2)})\")\n",
    "fig.update_xaxes(title_text='actual age (hpf)')\n",
    "fig.update_yaxes(title_text='predicted age (hpf)')\n",
    "fig.show()"
   ]
  },
  {
   "cell_type": "markdown",
   "metadata": {},
   "source": [
    "### Now assess linear model for gdf3 classification task"
   ]
  },
  {
   "cell_type": "code",
   "execution_count": null,
   "metadata": {},
   "outputs": [],
   "source": [
    "from sklearn.linear_model import LogisticRegression\n",
    "clf_gdf3_lin = LogisticRegression(random_state=0).fit(X_train[train_sub_indices], gdf3_class_train[train_sub_indices])"
   ]
  },
  {
   "cell_type": "code",
   "execution_count": null,
   "metadata": {},
   "outputs": [],
   "source": [
    "accuracy_lin = clf_gdf3_lin.score(X_test[test_sub_indices], gdf3_class_test[test_sub_indices])\n",
    "print(accuracy_lin)\n",
    "\n",
    "class_predictions_lin = clf_gdf3_lin.predict(X_test[test_sub_indices])\n",
    "\n",
    "ab_right_indices = np.where((class_predictions_lin==true_vec) & (true_vec=='wck-AB'))[0]\n",
    "ab_wrong_indices = np.where((class_predictions_lin!=true_vec) & (true_vec=='wck-AB'))[0]\n",
    "gdf3_right_indices = np.where((class_predictions_lin==true_vec) & (true_vec=='gdf3'))[0]\n",
    "gdf3_wrong_indices = np.where((class_predictions_lin!=true_vec) & (true_vec=='gdf3'))[0]\n",
    "\n",
    "fig = go.Figure()\n",
    "\n",
    "fig.add_trace(go.Scatter(x=umap_array[ab_right_indices, 0], y=umap_array[ab_right_indices, 1], mode=\"markers\",\n",
    "                        marker=dict(color=\"lightblue\", opacity=0.5), name='wck-AB (correct)'))\n",
    "\n",
    "fig.add_trace(go.Scatter(x=umap_array[ab_wrong_indices, 0], y=umap_array[ab_wrong_indices, 1], mode=\"markers\",\n",
    "                        marker=dict(color=\"blue\", opacity=0.5), name='wck-AB (incorrect)'))  \n",
    "\n",
    "fig.add_trace(go.Scatter(x=umap_array[gdf3_right_indices, 0], y=umap_array[gdf3_right_indices, 1], mode=\"markers\",\n",
    "                        marker=dict(color=\"lightsalmon\", opacity=0.5), name='gdf3 (correct)'))\n",
    "\n",
    "fig.add_trace(go.Scatter(x=umap_array[gdf3_wrong_indices, 0], y=umap_array[gdf3_wrong_indices, 1], mode=\"markers\",\n",
    "                        marker=dict(color=\"red\", opacity=0.5), name='gdf3 (incorrect)'))  \n",
    "\n",
    "fig.show()"
   ]
  },
  {
   "cell_type": "code",
   "execution_count": null,
   "metadata": {},
   "outputs": [],
   "source": []
  }
 ],
 "metadata": {
  "kernelspec": {
   "display_name": "Python 3 (ipykernel)",
   "language": "python",
   "name": "python3"
  },
  "language_info": {
   "codemirror_mode": {
    "name": "ipython",
    "version": 3
   },
   "file_extension": ".py",
   "mimetype": "text/x-python",
   "name": "python",
   "nbconvert_exporter": "python",
   "pygments_lexer": "ipython3",
   "version": "3.10.8"
  }
 },
 "nbformat": 4,
 "nbformat_minor": 1
}
