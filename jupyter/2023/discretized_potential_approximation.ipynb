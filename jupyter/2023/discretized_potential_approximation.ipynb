{
 "cells": [
  {
   "cell_type": "markdown",
   "metadata": {},
   "source": [
    "## Exploring morph VAE output\n",
    "This notebook generates visualizations and conducts analyses to assess the biological content of the latent space representations learned by our VAE models"
   ]
  },
  {
   "cell_type": "code",
   "execution_count": null,
   "metadata": {
    "pycharm": {
     "is_executing": true
    }
   },
   "outputs": [],
   "source": [
    "import os\n",
    "import numpy as np\n",
    "import pandas as pd\n",
    "import plotly.express as px\n",
    "import plotly.graph_objects as go\n",
    "import plotly.offline as pyo\n",
    "\n",
    "pyo.init_notebook_mode()"
   ]
  },
  {
   "cell_type": "markdown",
   "metadata": {},
   "source": [
    "#### Get paths to data, figures, and latent space outputs"
   ]
  },
  {
   "cell_type": "code",
   "execution_count": null,
   "metadata": {
    "pycharm": {
     "is_executing": true
    }
   },
   "outputs": [],
   "source": [
    "root = \"/Users/nick/Dropbox (Cole Trapnell's Lab)/Nick/morphseq/\"\n",
    "# root = \"E:\\\\Nick\\\\Dropbox (Cole Trapnell's Lab)\\\\Nick\\\\morphseq\\\\\"\n",
    "train_name = \"20230915_vae\"\n",
    "# train_name = \"20231106_ds\"\n",
    "# /Users/nick/Dropbox (Cole Trapnell's Lab)/Nick/morphseq/training_data/20230915_vae_flipped/z100_bs032_ne100_depth05\n",
    "# model_name = \"20230804_vae_full_conv_z25_bs032_ne100_depth05\"\n",
    "model_name = \"z100_bs032_ne250_depth05_out16_temperature_sweep2\"\n",
    "# model_name = \"z100_bs064_ne250_depth05_out16_class_ignorance_test\"\n",
    "train_dir = os.path.join(root, \"training_data\", train_name)\n",
    "output_dir = os.path.join(train_dir, model_name) \n",
    "\n",
    "# get path to model\n",
    "last_training = sorted(os.listdir(output_dir))[-1]\n",
    "\n",
    "# path to figures and data\n",
    "figure_path = os.path.join(output_dir, last_training, \"figures\")\n",
    "out_figure_path = os.path.join(\"/Users/nick/Dropbox (Cole Trapnell's Lab)/Nick/slides/20231130/\")\n",
    "if not os.path.isdir(out_figure_path):\n",
    "    os.makedirs(out_figure_path)"
   ]
  },
  {
   "cell_type": "code",
   "execution_count": null,
   "metadata": {
    "pycharm": {
     "is_executing": true
    }
   },
   "outputs": [],
   "source": [
    "umap_df = pd.read_csv(os.path.join(figure_path, \"umap_df.csv\"), index_col=0)\n",
    "umap_df[\"UMAP_00_bio_3\"] = -umap_df[\"UMAP_00_bio_3\"] \n",
    "from scipy.interpolate import LinearNDInterpolator\n",
    "from scipy import ndimage"
   ]
  },
  {
   "cell_type": "code",
   "execution_count": null,
   "metadata": {},
   "outputs": [],
   "source": [
    "umap_df_interp_list = []\n",
    "snip_vec = np.asarray([umap_df.loc[i, \"snip_id\"][:-10] for i in range(umap_df.shape[0])])\n",
    "snip_index = np.unique(snip_vec)\n",
    "# tres = 0.25\n",
    "hpf_interp_vec = np.arange(0, 72, 0.5)\n",
    "\n",
    "for s, snip in enumerate(snip_index):\n",
    "    s_indices = np.where(snip_vec==snip)[0]\n",
    "    \n",
    "    u0 = umap_df.loc[s_indices, \"UMAP_00_bio_3\"].to_numpy()\n",
    "    u1 = umap_df.loc[s_indices, \"UMAP_01_bio_3\"].to_numpy()\n",
    "    u2 = umap_df.loc[s_indices, \"UMAP_02_bio_3\"].to_numpy()\n",
    "    \n",
    "    t = umap_df.loc[s_indices, \"predicted_stage_hpf\"].to_numpy()\n",
    "    \n",
    "    # interpolate\n",
    "    interp_ref_vec = hpf_interp_vec[(hpf_interp_vec>=t[0]) & (hpf_interp_vec<=t[-1])]\n",
    "    u0_interp = np.interp(interp_ref_vec, t, u0)\n",
    "    u1_interp = np.interp(interp_ref_vec, t, u1)\n",
    "    u2_interp = np.interp(interp_ref_vec, t, u2)\n",
    "    \n",
    "    umap_array_interp = np.concatenate((u0_interp[:, np.newaxis], u1_interp[:, np.newaxis]\n",
    "                                   ,u2_interp[:, np.newaxis], interp_ref_vec[:, np.newaxis]), \n",
    "                                  axis = 1)\n",
    "    \n",
    "    df_temp = pd.DataFrame(umap_array_interp, columns=[\"umap00\", \"umap01\", \"umap02\", \"hpf\"])\n",
    "    df_temp[\"snip_id\"] = snip\n",
    "    df_temp[\"master_perturbation\"] = umap_df.loc[s_indices, \"master_perturbation\"]\n",
    "    \n",
    "    umap_df_interp_list.append(df_temp)\n",
    "    \n",
    "umap_df_interp = pd.concat(umap_df_interp_list, axis=0)"
   ]
  },
  {
   "cell_type": "markdown",
   "metadata": {},
   "source": [
    "## Use kmeans to divide UMAP space into 50 discrete morphology \"states\""
   ]
  },
  {
   "cell_type": "code",
   "execution_count": null,
   "metadata": {
    "pycharm": {
     "is_executing": true
    }
   },
   "outputs": [],
   "source": [
    "from sklearn.cluster import KMeans\n",
    "\n",
    "# umap_df_nn = umap_df_interp.dropna()\n",
    "\n",
    "# lets aim for 100 obs per cluster\n",
    "# COARSE LEVEL IS USED ONLY TO FIX POSITIONS OF GAUSSIAN KERNELS\n",
    "n_states = 50\n",
    "\n",
    "# cluster\n",
    "kmeans_out = KMeans(n_clusters=n_states, random_state=0, n_init=\"auto\").fit(\n",
    "        umap_df_interp.loc[:, [\"umap00\", \"umap01\"]])\n",
    "\n",
    "umap_df_interp.loc[:, \"kmeans_label\"] = kmeans_out.labels_\n",
    "# cols_to_average = [\"UMAP_00_bio_3\", \"UMAP_01_bio_3\", \"UMAP_02_bio_3\", \n",
    "#                    \"UMAP_00_bio_3_vel\", \"UMAP_01_bio_3_vel\", \"UMAP_02_bio_3_vel\", \"predicted_stage_hpf\"]\n",
    "# avg_vel_df = umap_df_wt.loc[:, cols_to_average + [\"kmeans_label\"]].groupby(\"kmeans_label\").mean()\n",
    "\n"
   ]
  },
  {
   "cell_type": "markdown",
   "metadata": {},
   "source": [
    "#### Now, it should be possible to calculate empirical transition matrices for N times steps"
   ]
  },
  {
   "cell_type": "code",
   "execution_count": null,
   "metadata": {
    "pycharm": {
     "is_executing": true
    }
   },
   "outputs": [],
   "source": [
    "n_steps_max = 50\n",
    "transition_count_array = np.zeros((n_steps_max+1, n_states, n_states)) + 1e-3\n",
    "transition_count_array[0, :, :] = np.eye(n_states)\n",
    "snip_vec = umap_df_interp[\"snip_id\"].to_numpy()\n",
    "\n",
    "for s, snip in enumerate(snip_index):\n",
    "    s_indices = np.where(snip_vec==snip)[0]\n",
    "    state_vec = umap_df_interp[\"kmeans_label\"].iloc[s_indices].to_numpy()\n",
    "    sl = len(state_vec)\n",
    "    for n in range(n_steps_max):\n",
    "        tr_temp = transition_count_array[n+1, :, :].copy()\n",
    "        for s in range(sl-n-1):\n",
    "            fr = state_vec[s]\n",
    "            to = state_vec[s+n+1]\n",
    "            tr_temp[to, fr] += 1\n",
    "        transition_count_array[n+1, :, :] = tr_temp    \n",
    "        \n"
   ]
  },
  {
   "cell_type": "code",
   "execution_count": null,
   "metadata": {},
   "outputs": [],
   "source": [
    "avg_df = umap_df_interp.groupby(\"kmeans_label\").mean()\n",
    "avg_df"
   ]
  },
  {
   "cell_type": "code",
   "execution_count": null,
   "metadata": {},
   "outputs": [],
   "source": [
    "# umap_df_interp[\"umap00\"] = -umap_df_interp[\"umap00\"] \n",
    "\n",
    "fig = px.scatter(umap_df_interp, x=\"umap00\", y=\"umap01\", \n",
    "                    color=\"kmeans_label\", opacity=0.25)\n",
    "\n",
    "fig.update_xaxes(range=[-20, 0])\n",
    "fig.update_yaxes(range=[0, 12])\n",
    "\n",
    "fig.show()\n",
    "fig.write_image(os.path.join(out_figure_path, \"UMAP_wt_states.png\"), scale=2)\n",
    "#, color_continuous_scale=\"magma\")"
   ]
  },
  {
   "cell_type": "code",
   "execution_count": null,
   "metadata": {},
   "outputs": [],
   "source": [
    "import plotly.offline as pyo\n",
    "\n",
    "pyo.init_notebook_mode()\n",
    "\n",
    "state_id = 5\n",
    "# n_steps = 10\n",
    "\n",
    "hm_dir = os.path.join(out_figure_path, \"tr_frames_emp\", '')\n",
    "if not os.path.isdir(hm_dir):\n",
    "    os.makedirs(hm_dir)\n",
    "    \n",
    "\n",
    "step_vec = range(0, 48, 1)\n",
    "\n",
    "# transition_prob_array = np.divide(transition_count_array, np.sum(transition_count_array, axis=2))\n",
    "\n",
    "for n_step in step_vec:\n",
    "    \n",
    "    \n",
    "    s_emp = transition_count_array[n_step, :, :]\n",
    "    s_emp = s_emp / np.sum(s_emp, axis=0)\n",
    "#     A_pd = np.squeeze(transition_prob_array[1, :, :])\n",
    "#     A_pd = A_pd / np.sum(A_pd, axis=0)\n",
    "#     state_vec = np.zeros((n_states, 1))\n",
    "#     state_vec[state_id] = 1\n",
    "#     for i in range(1, n_step):\n",
    "#         state_vec = np.matmul(A_pd, state_vec)\n",
    "    \n",
    "    \n",
    "#     color_vec_norm = state_vec[umap_df_interp[\"kmeans_label\"].to_numpy()]#, state_id]\n",
    "\n",
    "\n",
    "\n",
    "#     color_vec_norm = color_vec# / np.max(color_vec)\n",
    "    color_vec_norm = s_emp[umap_df_interp[\"kmeans_label\"].to_numpy(), state_id]\n",
    "\n",
    "    fig = px.scatter(umap_df_interp, x=\"umap00\", y=\"umap01\", \n",
    "                        color=color_vec_norm.flatten(), opacity=0.5, color_continuous_scale=\"Blues\", \n",
    "                        range_color=[0,0.15], title=\"predicted state probabilities (\" + str(np.round(n_step/2,1)) + \" hrs)\")\n",
    "\n",
    "\n",
    "#     fig.add_trace(go.Scatter(x=umap_df_interp[\"umap00\"].iloc[kmeans_out.labels_==state_id],\n",
    "#                                y=umap_df_interp[\"umap01\"].iloc[kmeans_out.labels_==state_id],\n",
    "#                                mode=\"markers\", \n",
    "#                                marker=dict(size=5, opacity=1, line=dict(color=\"rgba(70, 70, 70, 0.5)\"))))\n",
    "    \n",
    "#     fig.update_xaxes(range=[-20, 0])\n",
    "    fig.update_layout(\n",
    "        coloraxis_colorbar=dict(\n",
    "            title=\"state probability\",\n",
    "        ),\n",
    "    )\n",
    "\n",
    "\n",
    "#     fig.show()\n",
    "\n",
    "    fig.write_image(os.path.join(hm_dir, f\"_UMAP_wt_states_pd_s{n_step:003}.png\"), scale=2)"
   ]
  },
  {
   "cell_type": "code",
   "execution_count": null,
   "metadata": {},
   "outputs": [],
   "source": [
    "import plotly.offline as pyo\n",
    "\n",
    "pyo.init_notebook_mode()\n",
    "\n",
    "state_id = 5\n",
    "# n_steps = 10\n",
    "\n",
    "hm_dir = os.path.join(out_figure_path, \"tr_frames\", '')\n",
    "if not os.path.isdir(hm_dir):\n",
    "    os.makedirs(hm_dir)\n",
    "    \n",
    "\n",
    "step_vec = range(0, 24, 1)\n",
    "\n",
    "A_pd = np.squeeze(transition_count_array[2, :, :])\n",
    "A_pd /= np.sum(A_pd, axis=0)\n",
    "\n",
    "# A_pd = np.linalg.matrix_power(A_base, 1/4)\n",
    "# transition_prob_array = np.divide(transition_count_array, np.sum(transition_count_array, axis=2))\n",
    "state_vec = np.zeros((n_states, 1))\n",
    "state_vec[state_id] = 1\n",
    "\n",
    "for n_step in step_vec:\n",
    "    \n",
    "    \n",
    "#     s_emp = transition_count_array[n_step, :, :]\n",
    "#     s_emp = s_emp / np.sum(s_emp, axis=0)\n",
    "#     A_pd = np.squeeze(transition_prob_array[1, :, :])\n",
    "#     A_pd = A_pd / np.sum(A_pd, axis=0)\n",
    "\n",
    "    if n_step > 0:\n",
    "        state_vec = np.matmul(A_pd, state_vec)\n",
    "    \n",
    "    \n",
    "#     color_vec_norm = state_vec[umap_df_interp[\"kmeans_label\"].to_numpy()]#, state_id]\n",
    "\n",
    "\n",
    "\n",
    "#     color_vec_norm = color_vec# / np.max(color_vec)\n",
    "    color_vec_norm = state_vec[umap_df_interp[\"kmeans_label\"].to_numpy()]\n",
    "\n",
    "    fig = px.scatter(umap_df_interp, x=\"umap00\", y=\"umap01\", \n",
    "                        color=color_vec_norm.flatten(), opacity=0.5, color_continuous_scale=\"Blues\", \n",
    "                        range_color=[0,0.15], title=\"predicted state probabilities (\" + str(np.round(n_step,1)) + \" hrs)\")\n",
    "\n",
    "\n",
    "#     fig.add_trace(go.Scatter(x=umap_df_interp[\"umap00\"].iloc[kmeans_out.labels_==state_id],\n",
    "#                                y=umap_df_interp[\"umap01\"].iloc[kmeans_out.labels_==state_id],\n",
    "#                                mode=\"markers\", \n",
    "#                                marker=dict(size=5, opacity=1, line=dict(color=\"rgba(70, 70, 70, 0.5)\"))))\n",
    "    \n",
    "#     fig.update_xaxes(range=[-20, 0])\n",
    "    fig.update_layout(\n",
    "        coloraxis_colorbar=dict(\n",
    "            title=\"state probability\",\n",
    "        ),\n",
    "    )\n",
    "\n",
    "\n",
    "#     fig.show()\n",
    "\n",
    "    fig.write_image(os.path.join(hm_dir, f\"_UMAP_wt_states_pd_s{n_step:003}.png\"), scale=2)"
   ]
  },
  {
   "cell_type": "code",
   "execution_count": null,
   "metadata": {},
   "outputs": [],
   "source": [
    "px.imshow(A_pd)"
   ]
  },
  {
   "cell_type": "code",
   "execution_count": null,
   "metadata": {},
   "outputs": [],
   "source": [
    "# define function to calculate predicted potential at each point in 3D space\n",
    "\n",
    "def predict_U_array(xyz_array, sigma_array, amp_array, Xg, Yg, Zg):\n",
    "    \n",
    "    U_array = np.zeros(Xg.shape)\n",
    "    for i in range(xyz_array.shape[0]):\n",
    "        xyz = xyz_array[i, :]\n",
    "        sig = sigma_array[i, :]\n",
    "        U_array += -amp_array[i]*np.exp(-0.5*(((Xg-xyz[0])/sig[0])**2 + \n",
    "                                             ((Yg-xyz[1])/sig[1])**2 + \n",
    "                                             ((Zg-xyz[2])/sig[2])**2))\n",
    "\n",
    "    return U_array"
   ]
  },
  {
   "cell_type": "code",
   "execution_count": null,
   "metadata": {},
   "outputs": [],
   "source": [
    "def predict_dU_array(xyz_array, sigma_array, amp_array, Xg, Yg, Zg):\n",
    "    \n",
    "    dUdX = np.zeros(Xg.shape)\n",
    "    dUdY = np.zeros(Yg.shape)\n",
    "    dUdZ = np.zeros(Zg.shape)\n",
    "    for i in range(xyz_array.shape[0]):\n",
    "        xyz = xyz_array[i, :]\n",
    "        sig = sigma_array[i, :]\n",
    "        gv = -amp_array[i]*np.exp(-0.5*(((Xg-xyz[0])/sig[0])**2 + \n",
    "                                             ((Yg-xyz[1])/sig[1])**2 + \n",
    "                                             ((Zg-xyz[2])/sig[2])**2))\n",
    "        \n",
    "        dUdX += (xyz[0]-Xg)/sig[0]**2 * gv\n",
    "        dUdY += (xyz[1]-Yg)/sig[1]**2 * gv\n",
    "        dUdZ += (xyz[2]-Zg)/sig[2]**2 * gv\n",
    "\n",
    "    return dUdX, dUdY, dUdZ"
   ]
  },
  {
   "cell_type": "code",
   "execution_count": null,
   "metadata": {},
   "outputs": [],
   "source": [
    "def predict_U_km(xyz_array, sigma_array, amp_array, xyz_km):\n",
    "    \n",
    "    U_array = np.zeros((xyz_km.shape[0],))\n",
    "    for i in range(xyz_array.shape[0]):\n",
    "        xyz = xyz_array[i, :]\n",
    "        sig = sigma_array[i, :]\n",
    "        U_array += -amp_array[i]*np.exp(-0.5*(((xyz_km[:, 0]-xyz[0])/sig[0])**2 + \n",
    "                                             ((xyz_km[:, 1]-xyz[1])/sig[1])**2 + \n",
    "                                             ((xyz_km[:, 2]-xyz[2])/sig[0])**2))\n",
    "\n",
    "    return U_array"
   ]
  },
  {
   "cell_type": "code",
   "execution_count": null,
   "metadata": {},
   "outputs": [],
   "source": [
    "def predict_dU_km(xyz_array, sigma_array, amp_array, xyz_km):\n",
    "    \n",
    "    dU_array = np.zeros((xyz_km.shape))\n",
    "    for i in range(xyz_array.shape[0]):\n",
    "        xyz = xyz_array[i, :]\n",
    "        sig = sigma_array[i, :]\n",
    "        gv = -amp_array[i]*np.exp(-0.5*(((xyz_km[:, 0]-xyz[0])/sig[0])**2 + \n",
    "                                             ((xyz_km[:, 1]-xyz[1])/sig[1])**2 + \n",
    "                                             ((xyz_km[:, 2]-xyz[2])/sig[2])**2))\n",
    "        \n",
    "        dU_array[:, 0] += (xyz_km[:, 0]-xyz[0])/sig[0]**2 * gv\n",
    "        dU_array[:, 1] += (xyz_km[:, 1]-xyz[1])/sig[1]**2 * gv\n",
    "        dU_array[:, 2] += (xyz_km[:, 2]-xyz[2])/sig[2]**2 * gv\n",
    "\n",
    "    return dU_array"
   ]
  },
  {
   "cell_type": "code",
   "execution_count": null,
   "metadata": {},
   "outputs": [],
   "source": [
    "sigma_array = np.random.rand(xyz_gauss.shape[0], xyz_gauss.shape[1])*5\n",
    "amp_array = np.random.rand(xyz_gauss.shape[0])\n",
    "\n",
    "U_out = predict_U_array(xyz_gauss, sigma_array, amp_array, Xg, Yg, Zg)\n",
    "fig = go.Figure(data=go.Volume(\n",
    "    x=Xg.flatten(), y=Yg.flatten(), z=Zg.flatten(),\n",
    "    value=U_out.flatten(),\n",
    "#     isomin=0.25,\n",
    "#     isomax=0.7,\n",
    "    opacity=0.25,\n",
    "    surface_count=25,\n",
    "    colorscale=\"ice\"\n",
    "    ))\n",
    "\n",
    "fig.show()\n"
   ]
  },
  {
   "cell_type": "code",
   "execution_count": null,
   "metadata": {},
   "outputs": [],
   "source": [
    "xyz_fine.shape"
   ]
  },
  {
   "cell_type": "code",
   "execution_count": null,
   "metadata": {},
   "outputs": [],
   "source": [
    "def objective(param_vec):\n",
    "    \n",
    "    param_array = np.reshape(param_vec, (xyz_gauss.shape[0], 4))\n",
    "    dU_pd = predict_dU_km(xyz_gauss, param_array[:, :-1], param_array[:, -1], xyz_fine) \n",
    "    \n",
    "    return np.sum((dU_pd - du_xyz_fine)**2)"
   ]
  },
  {
   "cell_type": "code",
   "execution_count": null,
   "metadata": {},
   "outputs": [],
   "source": [
    "objective(x0)"
   ]
  },
  {
   "cell_type": "code",
   "execution_count": null,
   "metadata": {},
   "outputs": [],
   "source": [
    "from scipy.optimize import minimize\n",
    "x0 = np.random.rand(xyz_gauss.shape[0], 4)*5\n",
    "bnd1 = (0.1, None)\n",
    "bnd2 = (None, None)\n",
    "bnds = ((bnd1, )*xyz_gauss.size) + ((bnd2, )*xyz_gauss.shape[0])\n",
    "\n",
    "solution = minimize(objective, x0.flatten(), options={'maxiter':5000}, bounds=bnds)\n",
    "# objective(x0)              "
   ]
  },
  {
   "cell_type": "code",
   "execution_count": null,
   "metadata": {},
   "outputs": [],
   "source": [
    "solution"
   ]
  },
  {
   "cell_type": "code",
   "execution_count": null,
   "metadata": {},
   "outputs": [],
   "source": [
    "sol_vec = solution.x\n",
    "param_array_sol = np.reshape(sol_vec, (xyz_gauss.shape[0], 4))\n",
    "\n",
    "U_pd = predict_U_array(xyz_gauss, param_array_sol[:, :-1], param_array_sol[:, -1], Xg, Yg, Zg) \n",
    "dU_pd = predict_dU_array(xyz_gauss, param_array_sol[:, :-1], param_array_sol[:, -1], Xg, Yg, Zg) \n",
    "\n",
    "fig = go.Figure(data=go.Volume(\n",
    "    x=Xg.flatten(), y=Yg.flatten(), z=Zg.flatten(),\n",
    "    value=U_pd.flatten(),\n",
    "#     isomin=0.25,\n",
    "#     isomax=0.7,\n",
    "    opacity=0.25,\n",
    "    surface_count=25,\n",
    "    colorscale=\"ice\"\n",
    "    ))\n",
    "fig.update_layout(template=\"plotly\")\n",
    "fig.show()"
   ]
  },
  {
   "cell_type": "code",
   "execution_count": null,
   "metadata": {},
   "outputs": [],
   "source": [
    "px.imshow(U_pd[:, :, 25])"
   ]
  },
  {
   "cell_type": "code",
   "execution_count": null,
   "metadata": {},
   "outputs": [],
   "source": []
  },
  {
   "cell_type": "code",
   "execution_count": null,
   "metadata": {},
   "outputs": [],
   "source": [
    "dUdX = np.diff(U_out, axis=0)\n",
    "dUdY = np.diff(U_out, axis=1)\n",
    "dUdZ = np.diff(U_out, axis=2)\n",
    "\n",
    "fig = go.Figure(data=go.Volume(\n",
    "    x=Xg[:-1, :, :].flatten(), \n",
    "    y=Yg[:-1, :, :].flatten(), \n",
    "    z=Zg[:-1, :, :].flatten(),\n",
    "    value=dUdX.flatten(),\n",
    "#     isomin=0.25,\n",
    "#     isomax=0.7,\n",
    "    opacity=0.25,\n",
    "    surface_count=25,\n",
    "    colorscale=\"ice\"\n",
    "    ))\n",
    "\n",
    "fig.show()"
   ]
  },
  {
   "cell_type": "code",
   "execution_count": null,
   "metadata": {},
   "outputs": [],
   "source": [
    "dU_out = predict_dU_array(xyz_gauss, sigma_array, amp_array, Xg, Yg, Zg)\n",
    "\n",
    "fig = go.Figure(data=go.Volume(\n",
    "    x=Xg.flatten(), \n",
    "    y=Yg.flatten(), \n",
    "    z=Zg.flatten(),\n",
    "    value=dU_out[0].flatten(),\n",
    "#     isomin=0.25,\n",
    "#     isomax=0.7,\n",
    "    opacity=0.25,\n",
    "    surface_count=25,\n",
    "    colorscale=\"ice\"\n",
    "    ))\n",
    "\n",
    "fig.show()"
   ]
  },
  {
   "cell_type": "code",
   "execution_count": null,
   "metadata": {},
   "outputs": [],
   "source": [
    "def objective(x):\n",
    "    return (x[0] - 3)**2 + (x[1] - 4)**2"
   ]
  },
  {
   "cell_type": "code",
   "execution_count": null,
   "metadata": {},
   "outputs": [],
   "source": [
    "Zg[:-1, :, :].shape"
   ]
  },
  {
   "cell_type": "code",
   "execution_count": null,
   "metadata": {
    "pycharm": {
     "is_executing": true
    }
   },
   "outputs": [],
   "source": [
    "df = avg_vel_df.copy()\n",
    "max_v = 1.5\n",
    "df.loc[df[\"UMAP_00_bio_3_vel\"]>max_v, [\"UMAP_00_bio_3_vel\"]] = max_v\n",
    "df.loc[df[\"UMAP_01_bio_3_vel\"]>max_v, [\"UMAP_01_bio_3_vel\"]] = max_v\n",
    "df.loc[df[\"UMAP_02_bio_3_vel\"]>max_v, [\"UMAP_02_bio_3_vel\"]] = max_v\n",
    "\n",
    "df.loc[df[\"UMAP_00_bio_3_vel\"]<-max_v, [\"UMAP_00_bio_3_vel\"]] = -max_v\n",
    "df.loc[df[\"UMAP_01_bio_3_vel\"]<-max_v, [\"UMAP_01_bio_3_vel\"]] = -max_v\n",
    "df.loc[df[\"UMAP_02_bio_3_vel\"]<-max_v, [\"UMAP_02_bio_3_vel\"]] = -max_v\n",
    "\n",
    "\n",
    "fig = go.Figure(data = go.Cone(\n",
    "    x=df[\"UMAP_00_bio_3\"],\n",
    "    y=df[\"UMAP_01_bio_3\"],\n",
    "    z=df[\"UMAP_02_bio_3\"],\n",
    "    u=df[\"UMAP_00_bio_3_vel\"],\n",
    "    v=df[\"UMAP_01_bio_3_vel\"],\n",
    "    w=df[\"UMAP_02_bio_3_vel\"],\n",
    "    colorscale='Blues',\n",
    "    sizemode=\"absolute\",\n",
    "        sizeref=1))\n",
    "\n",
    "fig.update_layout(scene=dict(aspectratio=dict(x=1, y=1, z=0.8),\n",
    "                             camera_eye=dict(x=1.2, y=1.2, z=0.6)))\n",
    "\n",
    "fig.show()"
   ]
  },
  {
   "cell_type": "markdown",
   "metadata": {},
   "source": [
    "### Experiment with using simple linear interpolation to obtain an estimate for the developmental \"potential\""
   ]
  },
  {
   "cell_type": "code",
   "execution_count": null,
   "metadata": {
    "pycharm": {
     "is_executing": true
    }
   },
   "outputs": [],
   "source": [
    "umap_df_all = umap_df.dropna()\n",
    "n_points = umap_df_all.shape[0]\n",
    "\n",
    "# lets aim for 25 obs per cluster\n",
    "n_points_per_cluster = 24\n",
    "n_clusters = int(np.floor(n_points/ n_points_per_cluster))\n",
    "\n",
    "# cluster\n",
    "kmeans_out = KMeans(n_clusters=n_clusters, random_state=0, n_init=\"auto\").fit(\n",
    "        umap_df_all.loc[:, [\"UMAP_00_bio_3\", \"UMAP_01_bio_3\", \"UMAP_02_bio_3\"]])\n",
    "\n",
    "umap_df_all.loc[:, \"kmeans_label\"] = kmeans_out.labels_\n",
    "cols_to_average = [\"UMAP_00_bio_3\", \"UMAP_01_bio_3\", \"UMAP_02_bio_3\", \n",
    "                   \"UMAP_00_bio_3_vel\", \"UMAP_01_bio_3_vel\", \"UMAP_02_bio_3_vel\", \"predicted_stage_hpf\"]\n",
    "avg_vel_df_all = umap_df_all.loc[:, cols_to_average + [\"kmeans_label\"]].groupby(\"kmeans_label\").mean()"
   ]
  },
  {
   "cell_type": "code",
   "execution_count": null,
   "metadata": {
    "pycharm": {
     "is_executing": true
    }
   },
   "outputs": [],
   "source": [
    "fig = ff.create_quiver(x=avg_vel_df_all[\"UMAP_00_bio_3\"], y=avg_vel_df_all[\"UMAP_01_bio_3\"], \n",
    "                       u=avg_vel_df_all[\"UMAP_00_bio_3_vel\"], v=avg_vel_df_all[\"UMAP_01_bio_3_vel\"],\n",
    "                       scale=0.25, showlegend=False)\n",
    "\n",
    "fig.add_trace(go.Scatter(x=avg_vel_df_all[\"UMAP_00_bio_3\"], y=avg_vel_df_all[\"UMAP_01_bio_3\"],\n",
    "                    mode='markers',\n",
    "                    marker=dict(color=avg_vel_df_all[\"predicted_stage_hpf\"], size=4),\n",
    "                        showlegend=False))\n",
    "\n",
    "fig.show()"
   ]
  },
  {
   "cell_type": "code",
   "execution_count": null,
   "metadata": {
    "pycharm": {
     "is_executing": true
    }
   },
   "outputs": [],
   "source": [
    "X = avg_vel_df_all[\"UMAP_00_bio_3\"].to_numpy()\n",
    "Y = avg_vel_df_all[\"UMAP_01_bio_3\"].to_numpy()\n",
    "Z = avg_vel_df_all[\"UMAP_02_bio_3\"].to_numpy()\n",
    "\n",
    "dX = avg_vel_df_all[\"UMAP_00_bio_3_vel\"].to_numpy()\n",
    "dY = avg_vel_df_all[\"UMAP_01_bio_3_vel\"].to_numpy()\n",
    "dZ = avg_vel_df_all[\"UMAP_02_bio_3_vel\"].to_numpy()\n",
    "\n",
    "n_bins = 30\n",
    "xx = np.linspace(min(X), max(X), num=n_bins+1)\n",
    "yy = np.linspace(min(Y), max(Y), num=n_bins+1)\n",
    "zz = np.linspace(min(Z), max(Z), num=n_bins+1)\n",
    "\n",
    "Xg, Yg, Zg = np.meshgrid(xx, yy, zz)  # 3D grid for interpolation\n",
    "\n",
    "xyz_grid_long = np.concatenate((X[:, np.newaxis], Y[:, np.newaxis], Z[:, np.newaxis]), axis=1)\n",
    "\n",
    "# interpolate each direction\n",
    "interp_dx = LinearNDInterpolator(xyz_grid_long, dX.flatten(), fill_value=0)\n",
    "dXI = interp_dx(Xg, Yg, Zg)\n",
    "\n",
    "interp_dy = LinearNDInterpolator(xyz_grid_long, dY.flatten(), fill_value=0)\n",
    "dYI = interp_dy(Xg, Yg, Zg)\n",
    "\n",
    "interp_dz = LinearNDInterpolator(xyz_grid_long, dZ.flatten(), fill_value=0)\n",
    "dZI = interp_dz(Xg, Yg, Zg)\n",
    "\n",
    "# dXInn = dXI.copy()\n",
    "# dXIzeros[np.where(dXI==0)]\n",
    "# dXIzeros = dXI\n",
    "# dXIzeros = dXI\n",
    "\n",
    "# Apply mild gaussian smoothing\n",
    "dXIS = ndimage.gaussian_filter(dXI, 1)\n",
    "dYIS = ndimage.gaussian_filter(dYI, 1)\n",
    "dZIS = ndimage.gaussian_filter(dZI, 1)\n",
    "\n",
    "# calculate overall potential gradient magnitudes\n",
    "UM = np.sqrt(dXIS**2 + dYIS**2 + dZIS**2)\n",
    "\n",
    "\n",
    "fig = go.Figure(data=go.Volume(\n",
    "    x=Xg.flatten(), y=Yg.flatten(), z=Zg.flatten(),\n",
    "    value=UM.flatten(),\n",
    "    isomin=0.25,\n",
    "#     isomax=0.7,\n",
    "    opacity=0.25,\n",
    "    surface_count=25,\n",
    "    colorscale=\"ice\"\n",
    "    ))\n",
    "\n",
    "fig.update_layout(template=\"plotly\")\n",
    "# fig.update_layout(scene_xaxis_showticklabels=False,\n",
    "#                   scene_yaxis_showticklabels=False,\n",
    "#                   scene_zaxis_showticklabels=False)\n",
    "fig.show()"
   ]
  },
  {
   "cell_type": "code",
   "execution_count": null,
   "metadata": {
    "pycharm": {
     "is_executing": true
    }
   },
   "outputs": [],
   "source": [
    "# now let's try a crude integration approach to get a representation of the potential itself"
   ]
  }
 ],
 "metadata": {
  "kernelspec": {
   "display_name": "Python 3 (ipykernel)",
   "language": "python",
   "name": "python3"
  },
  "language_info": {
   "codemirror_mode": {
    "name": "ipython",
    "version": 3
   },
   "file_extension": ".py",
   "mimetype": "text/x-python",
   "name": "python",
   "nbconvert_exporter": "python",
   "pygments_lexer": "ipython3",
   "version": "3.10.8"
  }
 },
 "nbformat": 4,
 "nbformat_minor": 1
}
