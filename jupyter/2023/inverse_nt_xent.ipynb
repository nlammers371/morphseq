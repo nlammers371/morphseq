{
 "cells": [
  {
   "cell_type": "markdown",
   "metadata": {
    "pycharm": {
     "is_executing": true
    }
   },
   "source": [
    "I'm losing my mind here trying to figure out my inverse nt-xent is not working as expected/ "
   ]
  },
  {
   "cell_type": "code",
   "execution_count": null,
   "metadata": {
    "pycharm": {
     "is_executing": true
    }
   },
   "outputs": [],
   "source": [
    "import torch\n",
    "from pytorch_metric_learning.losses import NTXentLoss\n",
    "from pytorch_metric_learning import distances\n",
    "import numpy as np\n",
    "\n",
    "# this is my implementation\n",
    "def nt_xent_loss_multiclass(logits, target, temperature, repel_flag=False):\n",
    "    # a multiclass version of the NT-Xent loss function\n",
    "    logit_sign = -1\n",
    "    if repel_flag:\n",
    "        logit_sign = 1\n",
    "\n",
    "#     temperature = self.temperature\n",
    "\n",
    "    # Apply temperature parameter\n",
    "    logits_tempered = logit_sign * logits / temperature\n",
    "    logits_tempered[target == -1] = -torch.inf\n",
    "    logits_num = logits_tempered.clone()\n",
    "    logits_num[target == 0] = -torch.inf\n",
    "\n",
    "    # calculate loss for each entry in the batch\n",
    "    numerator = -torch.logsumexp(logits_num, axis=1)\n",
    "    denominator = torch.logsumexp(logits_tempered, axis=1)\n",
    "    loss = numerator + denominator\n",
    "\n",
    "    return torch.mean(loss)"
   ]
  },
  {
   "cell_type": "code",
   "execution_count": null,
   "metadata": {},
   "outputs": [],
   "source": [
    "batch_size = 10\n",
    "mu_pos = 1\n",
    "mu_neg = 10\n",
    "\n",
    "temperature = .001\n",
    "\n",
    "logits = torch.zeros((batch_size, batch_size), dtype=torch.float32)\n",
    "n_pos = 7\n",
    "# target_array = torch.zeros((batch_size, batch_size), dtype=torch.float32)\n",
    "\n",
    "logits[:, :n_pos] = mu_pos\n",
    "logits[:, n_pos:] = mu_neg\n",
    "logits[:, -1] = 1\n",
    "# def nt_xent_multitarget(logits, temperature=1, target=None):\n",
    "target = torch.zeros((logits.shape), dtype=torch.float32)\n",
    "target[:, :n_pos] = 1\n",
    "\n",
    "target[:, -1] = -1\n",
    "\n",
    "print(nt_xent_loss_multiclass(logits, target, temperature, repel_flag=False))"
   ]
  },
  {
   "cell_type": "code",
   "execution_count": null,
   "metadata": {
    "pycharm": {
     "is_executing": true
    }
   },
   "outputs": [],
   "source": [
    "# let's try to engineer my own version of multi-target NT-Xent\n",
    "# target = None\n",
    "batch_size = 10\n",
    "mu_pos = 10\n",
    "mu_neg = 10\n",
    "\n",
    "temperature = .001\n",
    "\n",
    "logits = torch.zeros((batch_size, batch_size), dtype=torch.float32)\n",
    "n_pos = 7\n",
    "# target_array = torch.zeros((batch_size, batch_size), dtype=torch.float32)\n",
    "\n",
    "logits[:, :n_pos] = mu_pos\n",
    "logits[:, n_pos:] = mu_neg\n",
    "logits[:, -1] = 1\n",
    "# def nt_xent_multitarget(logits, temperature=1, target=None):\n",
    "target = torch.zeros((logits.shape), dtype=torch.float32)\n",
    "target[:, :n_pos] = 1\n",
    "\n",
    "target[:, -1] = -1\n",
    "# if target is None:\n",
    "#     target = torch.zeros((logits.shape), dtype=torch.float32)\n",
    "#     target[:, 0] = 1\n",
    "\n",
    "logits_tempered = logits/temperature\n",
    "# max_val = torch.max(logits_tempered)\n",
    "# logits_normed = logits_tempered - max_val # should prevent overflow\n",
    "logits_tempered[target==-1] = -torch.inf\n",
    "logits_num = logits_tempered.clone()\n",
    "logits_num[target==0] = -torch.inf\n",
    "# logits_exp = torch.exp(logits_normed)\n",
    "\n",
    "numerator = -torch.logsumexp(logits_num, axis=1)\n",
    "denominator = torch.logsumexp(logits_tempered, axis=1)\n",
    "\n",
    "loss = numerator + denominator\n",
    "\n",
    "\n",
    "print(torch.mean(loss))\n",
    "#     return loss\n"
   ]
  },
  {
   "cell_type": "code",
   "execution_count": null,
   "metadata": {
    "pycharm": {
     "is_executing": true
    }
   },
   "outputs": [],
   "source": [
    "print(torch.logsumexp(logits_num[0, :], axis=0))"
   ]
  },
  {
   "cell_type": "code",
   "execution_count": null,
   "metadata": {
    "pycharm": {
     "is_executing": true
    }
   },
   "outputs": [],
   "source": [
    "# calculate for different temperatures and difference sizes\n",
    "mu_neg = 100\n",
    "temp_vec = np.logspace(-4, 2)\n",
    "delta_vec = np.logspace(-3, 0)\n",
    "\n",
    "loss_array = np.empty((len(temp_vec), len(delta_vec)))\n",
    "\n",
    "for d, delta in enumerate(delta_vec):\n",
    "    \n",
    "    mu_pos = mu_neg*delta\n",
    "    \n",
    "    logit_array_sim = torch.rand((batch_size, batch_size))\n",
    "    logit_array_sim[:, 0] = mu_pos\n",
    "    logit_array_sim[:, 1:] = mu_neg\n",
    "    \n",
    "    for t, temp in enumerate(temp_vec):\n",
    "        loss_array[t, d] = nt_xent(logit_array_sim, temperature=temp)"
   ]
  },
  {
   "cell_type": "code",
   "execution_count": null,
   "metadata": {
    "pycharm": {
     "is_executing": true
    }
   },
   "outputs": [],
   "source": [
    "import plotly.express as px\n",
    "import plotly.graph_objects as go\n",
    "\n",
    "fig = go.Figure()\n",
    "fig.add_trace(go.Surface(z=loss_array, x=np.log10(delta_vec), y=np.log10(temp_vec)))\n",
    "\n",
    "fig.update_layout(scene = dict(\n",
    "                    xaxis_title='pos/neg',\n",
    "                    yaxis_title='temperature'))\n",
    "                  \n",
    "fig.show()"
   ]
  },
  {
   "cell_type": "code",
   "execution_count": null,
   "metadata": {
    "pycharm": {
     "is_executing": true
    }
   },
   "outputs": [],
   "source": [
    "np.max(loss_array)"
   ]
  },
  {
   "cell_type": "markdown",
   "metadata": {},
   "source": [
    "**What if we instead want to enforce a LACK of differentiation?** A nihilistic criterion, if you will"
   ]
  },
  {
   "cell_type": "code",
   "execution_count": null,
   "metadata": {
    "pycharm": {
     "is_executing": true
    }
   },
   "outputs": [],
   "source": [
    "def nt_xent_nil(inputs, labels=None, temperature=1):\n",
    "    \n",
    "    if labels is None:\n",
    "        labels = torch.zeros(inputs.shape[0], dtype=torch.long)\n",
    "        \n",
    "    loss_fun = torch.nn.CrossEntropyLoss()\n",
    "    \n",
    "    loss = loss_fun(inputs/temperature, labels)\n",
    "    \n",
    "    return loss"
   ]
  },
  {
   "cell_type": "code",
   "execution_count": null,
   "metadata": {
    "pycharm": {
     "is_executing": true
    }
   },
   "outputs": [],
   "source": [
    "mu_neg = 100\n",
    "temp_vec = np.logspace(-4, 2)\n",
    "delta_vec = np.logspace(-3, 0)\n",
    "\n",
    "loss_array_nil = np.empty((len(temp_vec), len(delta_vec)))\n",
    "\n",
    "for d, delta in enumerate(delta_vec):\n",
    "    \n",
    "    mu_pos = mu_neg*delta\n",
    "    \n",
    "    logit_array_sim = torch.rand((batch_size, batch_size))\n",
    "    logit_array_sim[:, 0] = mu_pos\n",
    "    logit_array_sim[:, 1:] = mu_neg\n",
    "    \n",
    "    for t, temp in enumerate(temp_vec):\n",
    "        loss_array_nil[t, d] = nt_xent_nil(logit_array_sim, temperature=temp)"
   ]
  },
  {
   "cell_type": "code",
   "execution_count": null,
   "metadata": {
    "pycharm": {
     "is_executing": true
    }
   },
   "outputs": [],
   "source": [
    "fig = go.Figure()\n",
    "fig.add_trace(go.Surface(z=loss_array_nil, x=np.log10(delta_vec), y=np.log10(temp_vec)))\n",
    "\n",
    "fig.update_layout(scene = dict(\n",
    "                    xaxis_title='pos/neg',\n",
    "                    yaxis_title='temperature'))\n",
    "                  \n",
    "fig.show()"
   ]
  },
  {
   "cell_type": "markdown",
   "metadata": {},
   "source": [
    "#### What about binary cross entropy? This is the recommended loss function when there are multiple positive examples"
   ]
  },
  {
   "cell_type": "code",
   "execution_count": null,
   "metadata": {
    "pycharm": {
     "is_executing": true
    }
   },
   "outputs": [],
   "source": [
    "def cross_entropy_multitarget(logits, temperature=1, target=None):\n",
    "\n",
    "    if target is None:\n",
    "        target = torch.zeros((logits.shape), dtype=torch.float32)\n",
    "        target[:, 0] = 1\n",
    "        \n",
    "    logits_exp = torch.exp(logits/temperature)\n",
    "    numerator = torch.sum(torch.multiply(logits_exp, target), axis=1)\n",
    "    denominator = torch.sum(logits_exp, axis=1)\n",
    "    \n",
    "    loss = -torch.log(torch.divide(numerator, denominator))\n",
    "    \n",
    "    return loss"
   ]
  },
  {
   "cell_type": "code",
   "execution_count": null,
   "metadata": {
    "pycharm": {
     "is_executing": true
    }
   },
   "outputs": [],
   "source": [
    "batch_size = 10 # so that we have a decent sample size\n",
    "mu_pos = 1\n",
    "mu_neg = 15\n",
    "temp = 1\n",
    "\n",
    "logit_array_sim = torch.rand((batch_size, batch_size))\n",
    "\n",
    "target_array = torch.zeros((batch_size, batch_size), dtype=torch.float32)\n",
    "\n",
    "logit_array_sim[:, 0:5] = mu_pos\n",
    "logit_array_sim[:, 5:] = mu_neg\n",
    "\n",
    "target_array[:, 0:1] = 1\n",
    "target_array[:, 1:] = 0\n",
    "\n",
    "loss = cross_entropy_multitarget(-logit_array_sim, temp, target=target_array)\n",
    "print(torch.mean(loss))\n",
    "\n",
    "# nt_xent(-logit_array_sim, temperature=temp)"
   ]
  },
  {
   "cell_type": "code",
   "execution_count": null,
   "metadata": {
    "pycharm": {
     "is_executing": true
    }
   },
   "outputs": [],
   "source": [
    "from pytorch.met"
   ]
  },
  {
   "cell_type": "code",
   "execution_count": null,
   "metadata": {
    "pycharm": {
     "is_executing": true
    }
   },
   "outputs": [],
   "source": [
    "batch_size = 1000 # so that we have a decent sample size\n",
    "mu_pos = 1\n",
    "mu_neg = 100\n",
    "temp=0.0001\n",
    "# n_classes = 5\n",
    "target = torch.randint(2, (batch_size, batch_size), dtype=torch.float32)  # 64 classes, batch size = 10\n",
    "output = torch.full([batch_size, batch_size], 1.5)  # A prediction (logit)\n",
    "output[target==1] = 100\n",
    "output[target==0] = 0.1\n",
    "# pos_weight = torch.ones([64])  # All weights are equal to 1\n",
    "criterion = torch.nn.BCEWithLogitsLoss()\n",
    "criterion(output, target) "
   ]
  },
  {
   "cell_type": "code",
   "execution_count": null,
   "metadata": {
    "pycharm": {
     "is_executing": true
    }
   },
   "outputs": [],
   "source": [
    "mu_pos = 1000\n",
    "mu_neg = 1\n",
    "temp = 100\n",
    "\n",
    "target_vec = torch.zeros((1, batch_size), dtype=torch.float32)\n",
    "target_vec[0, 0:int(batch_size/2)] = 0 \n",
    "target_vec[0, int(batch_size/2):] = 1\n",
    "\n",
    "logits = torch.zeros([1, batch_size], dtype=torch.float32)\n",
    "logits[0, 0:int(batch_size/2)] = mu_neg/temp\n",
    "logits[0, int(batch_size/2):] = mu_pos/temp\n",
    "# logits = logits.to(torch.long)\n",
    "\n",
    "criterion = torch.nn.BCEWithLogitsLoss()\n",
    "criterion(logits, target_vec) "
   ]
  },
  {
   "cell_type": "code",
   "execution_count": null,
   "metadata": {
    "pycharm": {
     "is_executing": true
    }
   },
   "outputs": [],
   "source": [
    "logits"
   ]
  },
  {
   "cell_type": "code",
   "execution_count": null,
   "metadata": {
    "pycharm": {
     "is_executing": true
    }
   },
   "outputs": [],
   "source": [
    "\n",
    "\n",
    "logit_array_sim = torch.rand((batch_size, batch_size))\n",
    "logit_array_sim[:, 0] = mu_pos#logit_array_sim[:, 0]*mu_pos\n",
    "logit_array_sim[:, 1:] = mu_neg#logit_array_sim[:, 1:]*mu_neg\n",
    "# logit_array_sim = logit_array_sim.long()\n",
    "\n",
    "print(nt_xent_nil(logit_array_sim, temperature=temp))"
   ]
  },
  {
   "cell_type": "code",
   "execution_count": null,
   "metadata": {
    "pycharm": {
     "is_executing": true
    }
   },
   "outputs": [],
   "source": [
    "temperature = .0001\n",
    "labels = torch.zeros(10, dtype=torch.long)\n",
    "inputs = torch.zeros((10, 100))\n",
    "inputs[:, 0] = 1\n",
    "inputs[:, 1:] = 50\n",
    "\n",
    "loss_fun = torch.nn.CrossEntropyLoss()\n",
    "loss = loss_fun(-inputs/temperature, labels)\n",
    "print(loss)"
   ]
  },
  {
   "cell_type": "code",
   "execution_count": null,
   "metadata": {
    "pycharm": {
     "is_executing": true
    }
   },
   "outputs": [],
   "source": [
    "mu_neg = 100\n",
    "delta = 0.001\n",
    "mu_pos = mu_neg*delta\n",
    "    \n",
    "logit_array_sim = torch.rand((batch_size, batch_size))\n",
    "logit_array_sim[:, 0] = logit_array_sim[:, 0]*mu_pos\n",
    "logit_array_sim[:, 1:] = logit_array_sim[:, 1:]*mu_neg\n",
    "\n",
    "print(torch.mean(logit_array_sim[:, 0]))\n",
    "print(torch.mean(logit_array_sim[:, 1:]))"
   ]
  }
 ],
 "metadata": {
  "kernelspec": {
   "display_name": "Python 3 (ipykernel)",
   "language": "python",
   "name": "python3"
  },
  "language_info": {
   "codemirror_mode": {
    "name": "ipython",
    "version": 3
   },
   "file_extension": ".py",
   "mimetype": "text/x-python",
   "name": "python",
   "nbconvert_exporter": "python",
   "pygments_lexer": "ipython3",
   "version": "3.10.8"
  }
 },
 "nbformat": 4,
 "nbformat_minor": 1
}
