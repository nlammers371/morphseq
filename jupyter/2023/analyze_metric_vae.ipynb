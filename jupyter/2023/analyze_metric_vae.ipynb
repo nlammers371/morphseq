{
 "cells": [
  {
   "attachments": {},
   "cell_type": "markdown",
   "metadata": {},
   "source": [
    "## Test methods for obtaining FF from raw image stacks\n"
   ]
  },
  {
   "cell_type": "code",
   "execution_count": null,
   "metadata": {
    "is_executing": true,
    "pycharm": {
     "is_executing": true
    }
   },
   "outputs": [],
   "source": [
    "import os\n",
    "import numpy as np\n",
    "from PIL import Image\n",
    "from skimage import (exposure, feature, filters, io, measure,\n",
    "                      morphology, restoration, segmentation, transform,\n",
    "                      util)\n",
    "import matplotlib\n",
    "from tqdm import tqdm\n",
    "from PIL import Image\n",
    "import glob2 as glob\n",
    "from src.functions.image_utils import doLap\n",
    "from src.functions.utilities import path_leaf\n",
    "from skimage.transform import resize\n",
    "from aicsimageio import AICSImage\n",
    "import json\n",
    "from tqdm import tqdm\n",
    "\n",
    "import pandas as pd\n",
    "import time\n",
    "import nd2"
   ]
  },
  {
   "cell_type": "markdown",
   "metadata": {},
   "source": [
    "#### Get paths to data, figures, and latent space outputs"
   ]
  },
  {
   "cell_type": "code",
   "execution_count": null,
   "metadata": {
    "is_executing": true,
    "pycharm": {
     "is_executing": true
    }
   },
   "outputs": [],
   "source": [
    "train_name = \"20230915_vae\"\n",
    "model_path = \"/Users/nick/Dropbox (Cole Trapnell's Lab)/Nick/morphseq/training_data/20230915_vae/z100_bs032_ne250_depth05_out16_temperature_sweep2/\"\n",
    "# model_path = \"/Users/nick/Dropbox (Cole Trapnell's Lab)/Nick/morphseq/training_data/20230915_vae/z100_bs032_ne100_depth05_out16/\""
   ]
  },
  {
   "cell_type": "code",
   "execution_count": null,
   "metadata": {
    "pycharm": {
     "is_executing": true
    }
   },
   "outputs": [],
   "source": [
    "os.listdir(model_path)"
   ]
  },
  {
   "cell_type": "code",
   "execution_count": null,
   "metadata": {
    "is_executing": true,
    "pycharm": {
     "is_executing": true
    }
   },
   "outputs": [],
   "source": [
    "import pandas as pd\n",
    "    \n",
    "last_training = sorted(os.listdir(model_path))[-2]\n",
    "    \n",
    "m_fig_path = os.path.join(model_path, last_training, \"figures\")\n",
    "    \n",
    "# load data frame with results\n",
    "morph_df = pd.read_csv(os.path.join(m_fig_path, \"embryo_stats_df.csv\"), index_col=0)\n",
    "metric_df = pd.read_csv(os.path.join(m_fig_path, \"metric_df.csv\"), index_col=0)\n",
    "meta_df = pd.read_csv(os.path.join(m_fig_path, \"meta_summary_df.csv\"), index_col=0)\n",
    "loss_df = pd.read_csv(os.path.join(model_path, last_training, \"loss_tracker.csv\"), index_col=0)"
   ]
  },
  {
   "cell_type": "code",
   "execution_count": null,
   "metadata": {
    "pycharm": {
     "is_executing": true
    }
   },
   "outputs": [],
   "source": [
    "import plotly.express as px \n",
    "import plotly.graph_objects as go\n",
    "\n",
    "wik_indices = np.where(morph_df[\"master_perturbation\"]==\"wck-AB\")[0]\n",
    "\n",
    "fig = px.scatter(morph_df.iloc[wik_indices], x=\"UMAP_00\", y=\"UMAP_01\", color=\"predicted_stage_hpf\", opacity=0.5)\n",
    "fig.show()"
   ]
  },
  {
   "cell_type": "code",
   "execution_count": null,
   "metadata": {
    "pycharm": {
     "is_executing": true
    }
   },
   "outputs": [],
   "source": [
    "fig = px.scatter(morph_df.iloc[wik_indices], x=\"UMAP_00_bio\", y=\"UMAP_01_bio\", color=\"predicted_stage_hpf\", \n",
    "                 opacity=0.5)\n",
    "fig.show()"
   ]
  },
  {
   "cell_type": "code",
   "execution_count": null,
   "metadata": {
    "pycharm": {
     "is_executing": true
    }
   },
   "outputs": [],
   "source": [
    "fig = px.scatter(morph_df.iloc[wik_indices], x=\"UMAP_00_bio\", y=\"UMAP_01_bio\", color=\"train_cat\", \n",
    "                 opacity=0.5)\n",
    "fig.show()"
   ]
  },
  {
   "cell_type": "code",
   "execution_count": null,
   "metadata": {
    "pycharm": {
     "is_executing": true
    }
   },
   "outputs": [],
   "source": [
    "fig = px.scatter(morph_df.iloc[wik_indices], x=\"UMAP_00_n\", y=\"UMAP_01_n\", color=\"predicted_stage_hpf\", \n",
    "                 opacity=0.5)\n",
    "fig.show()"
   ]
  },
  {
   "cell_type": "markdown",
   "metadata": {},
   "source": [
    "Despite the imposition of a metric constraint on the biological latent variables, they still quite obviously encode orientational differences. Why?\n",
    "\n",
    "It could be that the model doing a good job with cosine distance, but that this does not translate to the euclidean space that is being read out (and warped in obscure ways) by the UMAP compression.\n",
    "\n",
    "It is also possible that the metric loss is simply outcompeted by other terms."
   ]
  },
  {
   "cell_type": "code",
   "execution_count": null,
   "metadata": {
    "pycharm": {
     "is_executing": true
    }
   },
   "outputs": [],
   "source": [
    "from sklearn.metrics import pairwise_distances\n",
    "\n",
    "metric_df0 = metric_df.iloc[np.where(metric_df[\"contrast_id\"]==0)]\n",
    "\n",
    "fig = go.Figure()\n",
    "\n",
    "fig.add_trace(go.Histogram(x=metric_df0[\"cos_all\"], histnorm=\"probability\", name=\"all latent variables\"))\n",
    "fig.add_trace(go.Histogram(x=metric_df0[\"cos_bio\"], histnorm=\"probability\", name=\"biological partition\"))\n",
    "fig.add_trace(go.Histogram(x=metric_df0[\"cos_nbio\"], histnorm=\"probability\", name=\"non-biological partition\"))\n",
    "fig.update_layout(title=\"Cosine similarity scores between pairs of transformed images\")\n",
    "fig.show()\n"
   ]
  },
  {
   "cell_type": "markdown",
   "metadata": {},
   "source": [
    "Clearly, SOMETHING is being learned such that the distance between transformed versions of the same image look more similar in the biological partition (according to the cosine metric) than in the non-biological one."
   ]
  },
  {
   "cell_type": "code",
   "execution_count": null,
   "metadata": {
    "is_executing": true,
    "pycharm": {
     "is_executing": true
    }
   },
   "outputs": [],
   "source": [
    "# I think we need to normalize by number of bio and non-bio variables\n",
    "n_bio = 90\n",
    "n_nbio = 10\n",
    "\n",
    "metric_df0.loc[:, \"euc_all_norm\"] = metric_df0.loc[:, \"euc_all\"] / np.sqrt(n_bio + n_nbio)\n",
    "metric_df0.loc[:, \"euc_bio_norm\"] = metric_df0.loc[:, \"euc_bio\"] / np.sqrt(n_bio)\n",
    "metric_df0.loc[:, \"euc_nbio_norm\"] = metric_df0.loc[:, \"euc_nbio\"] / np.sqrt(n_nbio)\n",
    "\n",
    "fig = go.Figure()\n",
    "\n",
    "fig.add_trace(go.Histogram(x=metric_df0[\"euc_all_norm\"], histnorm=\"probability\", name=\"all latent variables\"))\n",
    "fig.add_trace(go.Histogram(x=metric_df0[\"euc_bio_norm\"], histnorm=\"probability\", name=\"biological partition\"))\n",
    "fig.add_trace(go.Histogram(x=metric_df0[\"euc_nbio_norm\"], histnorm=\"probability\", name=\"non-biological partition\"))\n",
    "fig.update_layout(title=\"Average Euclidean distance between pairs of transformed images\")\n",
    "fig.show()"
   ]
  },
  {
   "cell_type": "code",
   "execution_count": null,
   "metadata": {
    "is_executing": true,
    "pycharm": {
     "is_executing": true
    }
   },
   "outputs": [],
   "source": [
    "fig = px.line(loss_df, x=\"epoch\", y=\"ntxent_loss\", color=\"train_cat\", markers=False,\n",
    "             labels={\"ntxent_loss\":\"contrastive loss\"},\n",
    "             log_y=True)\n",
    "fig.show()"
   ]
  },
  {
   "cell_type": "code",
   "execution_count": null,
   "metadata": {
    "pycharm": {
     "is_executing": true
    }
   },
   "outputs": [],
   "source": [
    "fig = px.line(loss_df, x=\"epoch\", y=\"recon_loss\", color=\"train_cat\", markers=False, #, log_y=True,\n",
    "             labels={\"recon_loss\":\"reconstruction loss (MSE)\"},\n",
    "             log_y=True)\n",
    "\n",
    "# fig.update_xaxes(range=[0, 250])\n",
    "fig.update_yaxes(range=[2, 3])\n",
    "\n",
    "fig.show()"
   ]
  },
  {
   "cell_type": "code",
   "execution_count": null,
   "metadata": {
    "pycharm": {
     "is_executing": true
    }
   },
   "outputs": [],
   "source": [
    "fig = px.line(loss_df, x=\"epoch\", y=\"reg_loss\", color=\"train_cat\", markers=False, #, log_y=True,\n",
    "             labels={\"reg_loss\":\"Gaussian prior loss (KLD)\"})\n",
    "\n",
    "# fig.update_xaxes(range=[0, 250])\n",
    "# fig.update_yaxes(range=[0, 650])\n",
    "\n",
    "fig.show()"
   ]
  },
  {
   "cell_type": "code",
   "execution_count": null,
   "metadata": {
    "pycharm": {
     "is_executing": true
    }
   },
   "outputs": [],
   "source": [
    "import plotly.express as px \n",
    "import plotly.graph_objects as go\n",
    "\n",
    "gdf3_indices = np.where(morph_df[\"master_perturbation\"]==\"gdf3\")[0]\n",
    "\n",
    "fig = px.scatter(morph_df.iloc[gdf3_indices], x=\"UMAP_00\", y=\"UMAP_01\", color=\"predicted_stage_hpf\", \n",
    "                 opacity=0.5, template=\"plotly\")\n",
    "\n",
    "fig.add_trace(go.Scatter(x=morph_df[\"UMAP_00_bio\"].iloc[wik_indices], y=morph_df[\"UMAP_01_bio\"].iloc[wik_indices],\n",
    "              mode=\"markers\", marker=dict(color=\"blue\", opacity=0.1))\n",
    "             )\n",
    "\n",
    "fig.show()"
   ]
  },
  {
   "cell_type": "code",
   "execution_count": null,
   "metadata": {
    "pycharm": {
     "is_executing": true
    }
   },
   "outputs": [],
   "source": []
  }
 ],
 "metadata": {
  "kernelspec": {
   "display_name": "Python 3 (ipykernel)",
   "language": "python",
   "name": "python3"
  },
  "language_info": {
   "codemirror_mode": {
    "name": "ipython",
    "version": 3
   },
   "file_extension": ".py",
   "mimetype": "text/x-python",
   "name": "python",
   "nbconvert_exporter": "python",
   "pygments_lexer": "ipython3",
   "version": "3.10.8"
  }
 },
 "nbformat": 4,
 "nbformat_minor": 1
}
