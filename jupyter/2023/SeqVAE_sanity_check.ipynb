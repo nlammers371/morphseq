{
 "cells": [
  {
   "cell_type": "code",
   "execution_count": null,
   "metadata": {},
   "outputs": [],
   "source": [
    "import os\n",
    "import numpy as np\n",
    "import pandas as pd\n",
    "import plotly.express as px\n",
    "import plotly.graph_objects as go\n",
    "import plotly.offline as pyo\n",
    "\n",
    "pyo.init_notebook_mode()"
   ]
  },
  {
   "cell_type": "code",
   "execution_count": null,
   "metadata": {},
   "outputs": [],
   "source": [
    "from glob2 import glob\n",
    "\n",
    "root = \"/Users/nick/Cole Trapnell's Lab Dropbox/Nick Lammers/Nick/morphseq/\"\n",
    "# root = \"/net/trapnell/vol1/home/nlammers/projects/data/morphseq/\"\n",
    "# root = \"E:\\\\Nick\\\\Dropbox (Cole Trapnell's Lab)\\\\Nick\\\\morphseq\\\\\"\n",
    "train_name = \"20231106_ds\"\n",
    "# model_name = \"SeqVAE_z100_ne250_triplet_loss_test_self_and_other\"\n",
    "model_name = \"SeqVAE_z100_ne250_triplet_loss_SELF_ONLY\"\n",
    "train_dir = os.path.join(root, \"training_data\", train_name)\n",
    "output_dir = os.path.join(train_dir, model_name) \n",
    "\n",
    "# get path to model\n",
    "# last_training = sorted(glob(os.path.join(output_dir, \"*SeqVAE_training_2024-01-06_03-55-23*\")))[0]\n",
    "last_training = sorted(glob(os.path.join(output_dir, \"*SeqVAE_training_2024-01-09_13-17-47*\")))[0]\n",
    "\n",
    "# path to figures and data\n",
    "figure_path = os.path.join(output_dir, last_training, \"figures\")\n",
    "# out_figure_path = os.path.join(\"/Users/nick/Dropbox (Cole Trapnell's Lab)/Nick/slides/20231130/\")\n",
    "# if not os.path.isdir(out_figure_path):\n",
    "#     os.makedirs(out_figure_path)\n",
    "\n",
    "print(last_training)"
   ]
  },
  {
   "cell_type": "code",
   "execution_count": null,
   "metadata": {},
   "outputs": [],
   "source": [
    "# load datasets\n",
    "umap_df = pd.read_csv(os.path.join(figure_path, \"umap_df.csv\"), index_col=0)\n",
    "meta_df = pd.read_csv(os.path.join(figure_path, \"meta_summary_df.csv\"), index_col=0)\n",
    "# metric_df = pd.read_csv(os.path.join(figure_path, \"metric_df.csv\"), index_col=0)\n",
    "\n",
    "wik_indices = np.where(umap_df[\"master_perturbation\"]==\"wck-AB\")[0]\n",
    "gdf3_indices = np.where(umap_df[\"master_perturbation\"]==\"gdf3\")[0]\n",
    "\n",
    "umap_df.head(10)"
   ]
  },
  {
   "cell_type": "code",
   "execution_count": null,
   "metadata": {},
   "outputs": [],
   "source": [
    "temperature = meta_df[\"temperature\"].values\n",
    "print(temperature)\n",
    "gamma = meta_df[\"gamma\"].values\n",
    "print(gamma)"
   ]
  },
  {
   "cell_type": "code",
   "execution_count": null,
   "metadata": {},
   "outputs": [],
   "source": [
    "# look at the umap\n",
    "fig = px.scatter_3d(umap_df.iloc[wik_indices], x=\"UMAP_00_bio_3\", y=\"UMAP_01_bio_3\", z=\"UMAP_02_bio_3\",\n",
    "                         color='predicted_stage_hpf', opacity=0.5,\n",
    "                         template=\"plotly\")\n",
    "\n",
    "\n",
    "# fig.update_layout(\n",
    "#                 xaxis_title=\"UMAP 1\",\n",
    "#                 yaxis_title=\"UMAP 2\"\n",
    "#             )\n",
    "fig.update_traces(\n",
    "    marker=dict(size=6)\n",
    "    )\n",
    "\n",
    "\n",
    "fig.show()\n",
    "# fig.write_image(os.path.join(out_figure_path, \"UMAP_wt_scatter_bio.png\"))"
   ]
  },
  {
   "cell_type": "code",
   "execution_count": null,
   "metadata": {},
   "outputs": [],
   "source": [
    "import plotly.graph_objects as go\n",
    "\n",
    "fig = px.scatter_3d(umap_df.iloc[wik_indices], x=\"UMAP_00_bio_3\", y=\"UMAP_01_bio_3\", z=\"UMAP_02_bio_3\",\n",
    "                         opacity=0.5,\n",
    "                         template=\"plotly\")\n",
    "\n",
    "fig.add_trace(go.Scatter3d(x=umap_df.loc[gdf3_indices, \"UMAP_00_bio_3\"],\n",
    "                           y=umap_df.loc[gdf3_indices, \"UMAP_01_bio_3\"],\n",
    "                           z=umap_df.loc[gdf3_indices, \"UMAP_02_bio_3\"],\n",
    "                           mode=\"markers\", \n",
    "                           marker=dict(opacity=0.5)))\n",
    "\n",
    "\n",
    "# fig.update_layout(\n",
    "#                 xaxis_title=\"UMAP 1\",\n",
    "#                 yaxis_title=\"UMAP 2\"\n",
    "#             )\n",
    "fig.update_traces(\n",
    "    marker=dict(size=6)\n",
    "    )\n",
    "\n",
    "\n",
    "fig.show()"
   ]
  },
  {
   "cell_type": "code",
   "execution_count": null,
   "metadata": {},
   "outputs": [],
   "source": [
    "import plotly.graph_objects as go\n",
    "\n",
    "fig = go.Figure(data=[go.Histogram(x=metric_df.loc[:, \"euc_bio_rand\"], name=\"euc_bio_rand\")])\n",
    "fig.add_trace(go.Histogram(x=metric_df.loc[:, \"euc_bio\"], name=\"euc_bio\"))\n",
    "\n",
    "fig.add_trace(go.Histogram(x=metric_df.loc[:, \"euc_nbio_rand\"], name=\"euc_nbio_rand\"))\n",
    "fig.add_trace(go.Histogram(x=metric_df.loc[:, \"euc_nbio\"], name=\"euc_nbio\"))\n",
    "\n",
    "fig.show()"
   ]
  }
 ],
 "metadata": {
  "kernelspec": {
   "display_name": "Python 3 (ipykernel)",
   "language": "python",
   "name": "python3"
  },
  "language_info": {
   "codemirror_mode": {
    "name": "ipython",
    "version": 3
   },
   "file_extension": ".py",
   "mimetype": "text/x-python",
   "name": "python",
   "nbconvert_exporter": "python",
   "pygments_lexer": "ipython3",
   "version": "3.10.8"
  }
 },
 "nbformat": 4,
 "nbformat_minor": 1
}
