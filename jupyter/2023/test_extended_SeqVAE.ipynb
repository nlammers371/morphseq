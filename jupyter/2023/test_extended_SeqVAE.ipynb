{
 "cells": [
  {
   "cell_type": "code",
   "execution_count": null,
   "metadata": {},
   "outputs": [],
   "source": [
    "import os\n",
    "import numpy as np\n",
    "import pandas as pd\n",
    "import plotly.express as px\n",
    "import plotly.graph_objects as go\n",
    "import plotly.offline as pyo\n",
    "\n",
    "pyo.init_notebook_mode()"
   ]
  },
  {
   "cell_type": "code",
   "execution_count": null,
   "metadata": {},
   "outputs": [],
   "source": [
    "from glob2 import glob\n",
    "\n",
    "root = \"/Users/nick/Cole Trapnell's Lab Dropbox/Nick Lammers/Nick/morphseq/\"\n",
    "train_name = \"20240204_ds_v2\"\n",
    "model_name = \"SeqVAE_z100_ne250_triplet_loss_test_SELF_and_OTHER\"\n",
    "\n",
    "# training_name = \"SeqVAE_training_2024-02-05_23-23-11\" #\"SeqVAE_training_2024-02-06_03-12-13\" #\"SeqVAE_training_2024-02-05_21-41-32\"\n",
    "# training_name = \"SeqVAE_training_2024-02-05_04-16-08\" # best for v2\n",
    "training_name = \"SeqVAE_training_2024-02-06_16-36-54\"\n",
    "train_dir = os.path.join(root, \"training_data\", train_name)\n",
    "output_dir = os.path.join(train_dir, model_name) \n",
    "\n",
    "# get path to model\n",
    "training_path = os.path.join(output_dir, training_name)\n",
    "\n",
    "read_path = os.path.join(training_path, \"figures\", \"\")\n",
    "# path to figures and data\n",
    "fig_root = \"/Users/nick/Cole Trapnell's Lab Dropbox/Nick Lammers/Nick/slides/20240207/\"\n",
    "figure_path = os.path.join(fig_root, training_name, )\n",
    "if not os.path.isdir(figure_path):\n",
    "    os.makedirs(figure_path)"
   ]
  },
  {
   "cell_type": "code",
   "execution_count": null,
   "metadata": {},
   "outputs": [],
   "source": [
    "# load datasets\n",
    "umap_df = pd.read_csv(os.path.join(read_path, \"umap_df.csv\"), index_col=0)\n",
    "meta_df = pd.read_csv(os.path.join(read_path, \"meta_summary_df.csv\"), index_col=0)\n",
    "embryo_df = pd.read_csv(os.path.join(read_path, \"embryo_stats_df.csv\"), index_col=0)\n",
    "# metric_df = pd.read_csv(os.path.join(figure_path, \"metric_df.csv\"), index_col=0)\n",
    "\n",
    "wik_indices = umap_df[\"master_perturbation\"]==\"wik\"\n",
    "tbxta_indices = umap_df[\"master_perturbation\"]==\"tbxta\"\n",
    "gdf3_indices = umap_df[\"master_perturbation\"]==\"gdf3\"\n",
    "lmx_indices = umap_df[\"master_perturbation\"]==\"lmx1b\"\n",
    "\n"
   ]
  },
  {
   "cell_type": "code",
   "execution_count": null,
   "metadata": {},
   "outputs": [],
   "source": [
    "\n",
    "print(embryo_df.shape[0])\n",
    "eid_vec = [snip[:16] for snip in embryo_df[\"snip_id\"]]\n",
    "print(\"n_embryos: \"+ str(len(np.unique(eid_vec))))\n",
    "print(\"max age: \"+ str(np.max(embryo_df[\"predicted_stage_hpf\"])))\n",
    "print(\"min age: \"+ str(np.min(embryo_df[\"predicted_stage_hpf\"])))\n",
    "print(\"n experiments: \"+ str(len(np.unique(embryo_df[\"experiment_date\"]))))"
   ]
  },
  {
   "cell_type": "code",
   "execution_count": null,
   "metadata": {},
   "outputs": [],
   "source": [
    "temperature = meta_df[\"temperature\"].values\n",
    "print(temperature)\n",
    "gamma = meta_df[\"gamma\"].values\n",
    "print(gamma)"
   ]
  },
  {
   "cell_type": "code",
   "execution_count": null,
   "metadata": {},
   "outputs": [],
   "source": [
    "plot_bool =  wik_indices | gdf3_indices | tbxta_indices | lmx_indices\n",
    "\n",
    "color_discrete_map = {\"lmx1b\" :\"#EF553B\" , \"wik\":\"#636EFA\", \"gdf3\":\"#AB63FA\", \"tbxta\":\"#00CC96\"}\n",
    "\n",
    "\n",
    "fig = px.scatter(umap_df.loc[plot_bool], x=\"UMAP_00_bio_3\", y=\"UMAP_01_bio_3\",\n",
    "                         color='master_perturbation', opacity=0.5,\n",
    "                         template=\"plotly\", color_discrete_map=color_discrete_map)\n",
    "\n",
    "\n",
    "# fig.update_layout(\n",
    "#                 xaxis_title=\"UMAP 1\",\n",
    "#                 yaxis_title=\"UMAP 2\"\n",
    "#             )\n",
    "fig.update_traces(\n",
    "    marker=dict(size=6)\n",
    "    )\n",
    "\n",
    "\n",
    "fig.show()"
   ]
  },
  {
   "cell_type": "code",
   "execution_count": null,
   "metadata": {},
   "outputs": [],
   "source": [
    "plot_bool =  wik_indices | gdf3_indices | tbxta_indices | lmx_indices\n",
    "\n",
    "fig = px.scatter_3d(umap_df.loc[plot_bool], x=\"UMAP_00_bio_3\", y=\"UMAP_01_bio_3\", z=\"UMAP_02_bio_3\",\n",
    "                         color='master_perturbation', opacity=0.85,\n",
    "                         template=\"plotly\", color_discrete_map=color_discrete_map)\n",
    "\n",
    "\n",
    "# fig.update_layout(\n",
    "#                 xaxis_title=\"UMAP 1\",\n",
    "#                 yaxis_title=\"UMAP 2\"\n",
    "#             )\n",
    "# fig.update_traces(marker=dict(size= 10, line=dict(color=\"DarkSlateGrey\", width=0.1)))\n",
    "\n",
    "\n",
    "fig.show()"
   ]
  },
  {
   "cell_type": "code",
   "execution_count": null,
   "metadata": {},
   "outputs": [],
   "source": [
    "import math\n",
    "from tqdm import tqdm\n",
    "\n",
    "def make_rotating_figure(plot_df, angle_vec, frame_dir, marker_opacity=0.75, marker_size=4, color_var=None):\n",
    "\n",
    "    if color_var is None:\n",
    "        color_var = \"predicted_stage_hpf\"\n",
    "        \n",
    "    for iter_i, a in enumerate(tqdm(angle_vec)):\n",
    "        angle = a\n",
    "        za = 0.3\n",
    "        vec = np.asarray([math.cos(angle), math.sin(angle), za])\n",
    "        vec = vec*2\n",
    "        camera = dict(\n",
    "            eye=dict(x=vec[0], y=vec[1], z=vec[2]))\n",
    "        \n",
    "        fig = px.scatter_3d(plot_df, x=\"UMAP_00_bio_3\", y=\"UMAP_01_bio_3\", z=\"UMAP_02_bio_3\",\n",
    "                            color=color_var, opacity=marker_opacity,\n",
    "                         color_discrete_map=color_discrete_map,\n",
    "                            labels={'predicted_stage_hpf': \"age (hpf)\",\n",
    "                                    'master_perturbation': \"genotype\"})\n",
    "        \n",
    "        fig.update_traces(marker=dict(size=marker_size,line=dict(width=0.1, color='rgba(70,70,70,0.02)')))\n",
    "        \n",
    "        fig.update_layout(template=\"plotly\", showlegend=False)\n",
    "\n",
    "        fig.update_layout(scene_camera=camera, scene_dragmode='orbit')\n",
    "\n",
    "        fig.update_layout(scene = dict(\n",
    "                        xaxis_title='UMAP 1',\n",
    "                        yaxis_title='UMAP 2',\n",
    "                        zaxis_title='UMAP 3',\n",
    "                        xaxis = dict(showticklabels=False, range=[-5,15]),\n",
    "                        yaxis = dict(showticklabels=False, range=[-5, 15]),\n",
    "                        zaxis = dict(showticklabels=False, range=[-15, 15])))\n",
    "        \n",
    "        fig.write_image(os.path.join(frame_dir, \"umap_scatter\" + \"_\" + color_var + f\"_{iter_i:03}\" + \".png\"), scale=2)\n",
    "        \n",
    "    return fig"
   ]
  },
  {
   "cell_type": "code",
   "execution_count": null,
   "metadata": {},
   "outputs": [],
   "source": [
    "angle_vec[19]-2*np.pi"
   ]
  },
  {
   "cell_type": "code",
   "execution_count": null,
   "metadata": {},
   "outputs": [],
   "source": [
    "angle_vec = np.linspace(2.62, 2.62+2*np.pi, 25) #(1.25*np.pi, 3.25*np.pi, 25)\n",
    "frame_dir = os.path.join(figure_path, \"umap3D_WT_frames\", \"\")\n",
    "if not os.path.isdir(frame_dir):\n",
    "    os.makedirs(frame_dir)\n",
    "    \n",
    "fig = make_rotating_figure(umap_df.loc[wik_indices], angle_vec, frame_dir, color_var=\"master_perturbation\")\n",
    "fig.show()"
   ]
  },
  {
   "cell_type": "code",
   "execution_count": null,
   "metadata": {},
   "outputs": [],
   "source": [
    "angle_vec = np.linspace(2.62, 2.62+2*np.pi, 25)\n",
    "frame_dir = os.path.join(figure_path, \"umap3D_WT_gdf3_frames\", \"\")\n",
    "if not os.path.isdir(frame_dir):\n",
    "    os.makedirs(frame_dir)\n",
    "    \n",
    "fig = make_rotating_figure(umap_df.loc[wik_indices | gdf3_indices], angle_vec, frame_dir, color_var=\"master_perturbation\")\n",
    "fig.show()"
   ]
  },
  {
   "cell_type": "code",
   "execution_count": null,
   "metadata": {},
   "outputs": [],
   "source": [
    "angle_vec = np.linspace(2.62, 2.62+2*np.pi, 25)\n",
    "frame_dir = os.path.join(figure_path, \"umap3D_WT_gdf3_tbxta_frames\", \"\")\n",
    "if not os.path.isdir(frame_dir):\n",
    "    os.makedirs(frame_dir)\n",
    "    \n",
    "fig = make_rotating_figure(umap_df.loc[wik_indices | gdf3_indices | tbxta_indices], angle_vec, frame_dir, color_var=\"master_perturbation\")\n",
    "fig.show()"
   ]
  },
  {
   "cell_type": "code",
   "execution_count": null,
   "metadata": {},
   "outputs": [],
   "source": [
    "angle_vec = np.linspace(2.62, 2.62+2*np.pi, 25)\n",
    "frame_dir = os.path.join(figure_path, \"umap3D_all_frames\", \"\")\n",
    "if not os.path.isdir(frame_dir):\n",
    "    os.makedirs(frame_dir)\n",
    "    \n",
    "fig = make_rotating_figure(umap_df.loc[plot_bool], angle_vec, frame_dir, color_var=\"master_perturbation\")\n",
    "fig.show()"
   ]
  },
  {
   "cell_type": "code",
   "execution_count": null,
   "metadata": {},
   "outputs": [],
   "source": []
  }
 ],
 "metadata": {
  "kernelspec": {
   "display_name": "Python 3 (ipykernel)",
   "language": "python",
   "name": "python3"
  },
  "language_info": {
   "codemirror_mode": {
    "name": "ipython",
    "version": 3
   },
   "file_extension": ".py",
   "mimetype": "text/x-python",
   "name": "python",
   "nbconvert_exporter": "python",
   "pygments_lexer": "ipython3",
   "version": "3.10.8"
  }
 },
 "nbformat": 4,
 "nbformat_minor": 1
}
