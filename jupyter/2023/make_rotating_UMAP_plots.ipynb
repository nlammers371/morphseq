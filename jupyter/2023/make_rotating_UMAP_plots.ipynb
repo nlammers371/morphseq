{
 "cells": [
  {
   "cell_type": "code",
   "execution_count": null,
   "metadata": {},
   "outputs": [],
   "source": [
    "import os\n",
    "import numpy as np\n",
    "import pandas as pd\n",
    "import plotly.express as px\n",
    "import plotly.graph_objects as go\n",
    "import plotly.offline as pyo\n",
    "\n",
    "pyo.init_notebook_mode()"
   ]
  },
  {
   "cell_type": "code",
   "execution_count": null,
   "metadata": {},
   "outputs": [],
   "source": [
    "from glob2 import glob\n",
    "\n",
    "root = \"/Users/nick/Cole Trapnell's Lab Dropbox/Nick Lammers/Nick/morphseq/\"\n",
    "train_name = \"20231106_ds\"\n",
    "model_name = \"SeqVAE_z100_ne250_triplet_loss_test_self_and_other\"\n",
    "training_name = \"SeqVAE_training_2024-01-06_03-55-23\" # \"SeqVAE_training_2024-01-09_13-17-47\"\n",
    "train_dir = os.path.join(root, \"training_data\", train_name)\n",
    "output_dir = os.path.join(train_dir, model_name) \n",
    "\n",
    "# get path to model\n",
    "training_path = os.path.join(output_dir, training_name)\n",
    "\n",
    "read_path = os.path.join(training_path, \"figures\", \"\")\n",
    "# path to figures and data\n",
    "fig_root = \"/Users/nick/Cole Trapnell's Lab Dropbox/Nick Lammers/Nick/slides/20240116/\"\n",
    "figure_path = os.path.join(fig_root, training_name, )\n",
    "if not os.path.isdir(figure_path):\n",
    "    os.makedirs(figure_path)"
   ]
  },
  {
   "cell_type": "code",
   "execution_count": null,
   "metadata": {},
   "outputs": [],
   "source": [
    "# load datasets\n",
    "umap_df = pd.read_csv(os.path.join(read_path, \"umap_df.csv\"), index_col=0)\n",
    "meta_df = pd.read_csv(os.path.join(read_path, \"meta_summary_df.csv\"), index_col=0)\n",
    "# metric_df = pd.read_csv(os.path.join(figure_path, \"metric_df.csv\"), index_col=0)\n",
    "\n",
    "wik_indices = np.where(umap_df[\"master_perturbation\"]==\"wck-AB\")[0]\n",
    "gdf3_indices = np.where(umap_df[\"master_perturbation\"]==\"gdf3\")[0]"
   ]
  },
  {
   "cell_type": "code",
   "execution_count": null,
   "metadata": {},
   "outputs": [],
   "source": [
    "temperature = meta_df[\"temperature\"].values\n",
    "print(temperature)\n",
    "gamma = meta_df[\"gamma\"].values\n",
    "print(gamma)"
   ]
  },
  {
   "cell_type": "code",
   "execution_count": null,
   "metadata": {},
   "outputs": [],
   "source": [
    "import math\n",
    "from tqdm import tqdm\n",
    "\n",
    "def make_rotating_figure(plot_df, angle_vec, frame_dir, marker_opacity=0.5, marker_size=6, color_var=None):\n",
    "\n",
    "    if color_var is None:\n",
    "        color_var = \"predicted_stage_hpf\"\n",
    "        \n",
    "    for iter_i, a in enumerate(tqdm(angle_vec)):\n",
    "        angle = a\n",
    "        za = 0.3\n",
    "        vec = np.asarray([math.cos(angle), math.sin(angle), za])\n",
    "        vec = vec*2\n",
    "        camera = dict(\n",
    "            eye=dict(x=vec[0], y=vec[1], z=vec[2]))\n",
    "        \n",
    "        fig = px.scatter_3d(plot_df, x=\"UMAP_00_bio_3\", y=\"UMAP_01_bio_3\", z=\"UMAP_02_bio_3\",\n",
    "                            color=color_var, opacity=marker_opacity,\n",
    "                            labels={'predicted_stage_hpf': \"age (hpf)\",\n",
    "                                    'master_perturbation': \"genotype\"})\n",
    "        \n",
    "        fig.update_traces(marker={'size': marker_size})\n",
    "        \n",
    "        fig.update_layout(template=\"plotly\")\n",
    "\n",
    "        fig.update_layout(scene_camera=camera, scene_dragmode='orbit')\n",
    "\n",
    "        fig.update_layout(scene = dict(\n",
    "                        xaxis_title='UMAP 1',\n",
    "                        yaxis_title='UMAP 2',\n",
    "                        zaxis_title='UMAP 3',\n",
    "                        xaxis = dict(showticklabels=False),\n",
    "                        yaxis = dict(showticklabels=False),\n",
    "                        zaxis = dict(showticklabels=False)))\n",
    "\n",
    "#         fig.update_layout(coloraxis_showscale=False)\n",
    "        \n",
    "#         fig.update_layout(\n",
    "#                 scene=dict(aspectratio=dict(x=1, y=1, z=1))\n",
    "#         )\n",
    "\n",
    "        fig.write_image(os.path.join(frame_dir, \"umap_scatter\" + \"_\" + color_var + f\"_{iter_i:03}\" + \".png\"), scale=2)\n",
    "            \n",
    "    return fig"
   ]
  },
  {
   "cell_type": "code",
   "execution_count": null,
   "metadata": {},
   "outputs": [],
   "source": [
    "angle_vec = np.linspace(1.25*np.pi, 3.25*np.pi, 25)\n",
    "frame_dir = os.path.join(figure_path, \"hpf_umap_frames\", \"\")\n",
    "if not os.path.isdir(frame_dir):\n",
    "    os.makedirs(frame_dir)\n",
    "    \n",
    "fig = make_rotating_figure(umap_df.iloc[wik_indices], angle_vec, frame_dir)\n",
    "fig.show()"
   ]
  },
  {
   "cell_type": "code",
   "execution_count": null,
   "metadata": {},
   "outputs": [],
   "source": [
    "frame_dir"
   ]
  },
  {
   "cell_type": "code",
   "execution_count": null,
   "metadata": {},
   "outputs": [],
   "source": [
    "# look at the umap\n",
    "fig = px.scatter_3d(umap_df.iloc[wik_indices], x=\"UMAP_00_bio_3\", y=\"UMAP_01_bio_3\", z=\"UMAP_02_bio_3\",\n",
    "                         color='predicted_stage_hpf', opacity=0.5,\n",
    "                         template=\"plotly\")\n",
    "\n",
    "\n",
    "# fig.update_layout(\n",
    "#                 xaxis_title=\"UMAP 1\",\n",
    "#                 yaxis_title=\"UMAP 2\"\n",
    "#             )\n",
    "fig.update_traces(\n",
    "    marker=dict(size=6)\n",
    "    )\n",
    "\n",
    "\n",
    "fig.show()\n",
    "# fig.write_image(os.path.join(out_figure_path, \"UMAP_wt_scatter_bio.png\"))"
   ]
  },
  {
   "cell_type": "code",
   "execution_count": null,
   "metadata": {},
   "outputs": [],
   "source": [
    "import plotly.graph_objects as go\n",
    "\n",
    "fig = px.scatter_3d(umap_df.iloc[wik_indices], x=\"UMAP_00_bio_3\", y=\"UMAP_01_bio_3\", z=\"UMAP_02_bio_3\",\n",
    "                         opacity=0.5,\n",
    "                         template=\"plotly\")\n",
    "\n",
    "fig.add_trace(go.Scatter3d(x=umap_df.loc[gdf3_indices, \"UMAP_00_bio_3\"],\n",
    "                           y=umap_df.loc[gdf3_indices, \"UMAP_01_bio_3\"],\n",
    "                           z=umap_df.loc[gdf3_indices, \"UMAP_02_bio_3\"],\n",
    "                           mode=\"markers\", \n",
    "                           marker=dict(opacity=0.5)))\n",
    "\n",
    "\n",
    "fig.update_traces(\n",
    "    marker=dict(size=6)\n",
    "    )\n",
    "\n",
    "\n",
    "fig.show()"
   ]
  },
  {
   "cell_type": "code",
   "execution_count": null,
   "metadata": {},
   "outputs": [],
   "source": [
    "import plotly.graph_objects as go\n",
    "\n",
    "fig = go.Figure(data=[go.Histogram(x=metric_df.loc[:, \"euc_bio_rand\"], name=\"euc_bio_rand\")])\n",
    "fig.add_trace(go.Histogram(x=metric_df.loc[:, \"euc_bio\"], name=\"euc_bio\"))\n",
    "\n",
    "fig.add_trace(go.Histogram(x=metric_df.loc[:, \"euc_nbio_rand\"], name=\"euc_nbio_rand\"))\n",
    "fig.add_trace(go.Histogram(x=metric_df.loc[:, \"euc_nbio\"], name=\"euc_nbio\"))\n",
    "\n",
    "fig.show()"
   ]
  }
 ],
 "metadata": {
  "kernelspec": {
   "display_name": "Python 3 (ipykernel)",
   "language": "python",
   "name": "python3"
  },
  "language_info": {
   "codemirror_mode": {
    "name": "ipython",
    "version": 3
   },
   "file_extension": ".py",
   "mimetype": "text/x-python",
   "name": "python",
   "nbconvert_exporter": "python",
   "pygments_lexer": "ipython3",
   "version": "3.10.12"
  }
 },
 "nbformat": 4,
 "nbformat_minor": 4
}
