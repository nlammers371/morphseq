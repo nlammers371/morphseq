{
 "cells": [
  {
   "cell_type": "markdown",
   "metadata": {},
   "source": [
    "## Comparing VAE architectures\n",
    "This notebook compares the performance of different VAE architectures. Specifically, we are testing how model depth (num convolutional layers) and the size of the latent space impact:\n",
    "1. Image reconstruction quality\n",
    "2. Model generalizability\n",
    "3. Biological information content of the latent space"
   ]
  },
  {
   "cell_type": "code",
   "execution_count": null,
   "metadata": {
    "pycharm": {
     "is_executing": true
    }
   },
   "outputs": [],
   "source": [
    "import os\n",
    "from pythae.models import AutoModel\n",
    "import numpy as np\n",
    "import glob as glob\n",
    "from functions.utilities import path_leaf"
   ]
  },
  {
   "cell_type": "markdown",
   "metadata": {},
   "source": [
    "#### Get paths to data, figures, and latent space outputs"
   ]
  },
  {
   "cell_type": "code",
   "execution_count": null,
   "metadata": {
    "pycharm": {
     "is_executing": true
    }
   },
   "outputs": [],
   "source": [
    "# root = \"/Users/nick/Dropbox (Cole Trapnell's Lab)/Nick/morphseq/\"\n",
    "root = \"E:\\\\Nick\\\\Dropbox (Cole Trapnell's Lab)\\\\Nick\\\\morphseq\\\\\"\n",
    "\n",
    "train_name = \"20230815_vae\"\n",
    "train_dir = os.path.join(root, \"training_data\", train_name, '')\n",
    "model_path_list = sorted(glob.glob(train_dir + '*depth*'))\n",
    "model_name_list = [path_leaf(m) for m in model_path_list]\n",
    "\n",
    "output_dir = os.path.join(train_dir, \"figures\")\n",
    "if not os.path.isdir(output_dir):\n",
    "    os.makedirs(output_dir)\n",
    "\n",
    "# # get path to model\n",
    "# last_training = sorted(os.listdir(output_dir))[-1]\n",
    "\n",
    "\n",
    "# # path to figures and data\n",
    "# figure_path = os.path.join(output_dir, last_training, \"figures\")\n",
    "# out_figure_path = os.path.join(output_dir, last_training, \"figures\", \"model_assessment\")\n",
    "# if not os.path.isdir(out_figure_path):\n",
    "#     os.makedirs(out_figure_path)"
   ]
  },
  {
   "cell_type": "markdown",
   "metadata": {},
   "source": [
    "#### Create DataLoader objects for train, eval, and test sets\n",
    "- \"Train\" data were used to train the model\n",
    "- \"Eval\" data were used to assess model during training\n",
    "- \"Test\" data were untouched during training process"
   ]
  },
  {
   "cell_type": "code",
   "execution_count": null,
   "metadata": {
    "pycharm": {
     "is_executing": true
    }
   },
   "outputs": [],
   "source": [
    "import pandas as pd\n",
    "from functions.pythae_utils import *\n",
    "\n",
    "model_name = model_name_list[-3]\n",
    "    \n",
    "mdir = os.path.join(train_dir, model_name) \n",
    "\n",
    "last_training = sorted(os.listdir(mdir))[-1]\n",
    "\n",
    "trained_model = AutoModel.load_from_folder(\n",
    "    os.path.join(mdir, last_training, 'final_model'))\n",
    "\n",
    "m_fig_path = os.path.join(mdir, last_training, \"figures\")\n",
    "model_figpath_list.append(m_fig_path)\n",
    "\n",
    "# load data frame with results\n",
    "morph_df = pd.read_csv(os.path.join(m_fig_path, \"embryo_stats_df.csv\"), index_col=0)\n",
    "\n",
    "# mode_vec = [\"train\", \"eval\", \"test\"]\n",
    "# data_sampler_vec = []\n",
    "\n",
    "main_dims = (576, 256)\n",
    "data_transform = make_dynamic_rs_transform(main_dims)\n",
    "        \n",
    "train_dataset = MyCustomDataset(\n",
    "    root=os.path.join(train_dir, \"train\"),\n",
    "    transform=data_transform,\n",
    "    return_name=True\n",
    ")"
   ]
  },
  {
   "cell_type": "code",
   "execution_count": null,
   "metadata": {},
   "outputs": [],
   "source": [
    "from pythae.samplers import GaussianMixtureSampler, GaussianMixtureSamplerConfig\n",
    "from pythae.samplers import NormalSampler"
   ]
  },
  {
   "cell_type": "markdown",
   "metadata": {},
   "source": [
    "## Draw naive samples using the Gaussian prior"
   ]
  },
  {
   "cell_type": "code",
   "execution_count": null,
   "metadata": {},
   "outputs": [],
   "source": [
    "# create normal sampler\n",
    "normal_samper = NormalSampler(\n",
    "    model=trained_model\n",
    ")\n",
    "\n",
    "# sample\n",
    "gen_data = normal_samper.sample(\n",
    "    num_samples=25\n",
    ")\n",
    "\n",
    "# show results with normal sampler\n",
    "fig, axes = plt.subplots(nrows=5, ncols=5, figsize=(10, 10))\n",
    "\n",
    "for i in range(5):\n",
    "    for j in range(5):\n",
    "        axes[i][j].imshow(gen_data[i*5 +j].cpu().squeeze(0), cmap='gray')\n",
    "        axes[i][j].axis('off')\n",
    "plt.tight_layout(pad=0.)\n",
    "plt.show()"
   ]
  },
  {
   "cell_type": "markdown",
   "metadata": {},
   "source": [
    "## Fit a GMM and see if this leads to more plausible samples"
   ]
  },
  {
   "cell_type": "code",
   "execution_count": null,
   "metadata": {},
   "outputs": [],
   "source": [
    "# set up GMM sampler config\n",
    "gmm_sampler_config = GaussianMixtureSamplerConfig(\n",
    "    n_components=10\n",
    ")\n",
    "\n",
    "# create gmm sampler\n",
    "gmm_sampler = GaussianMixtureSampler(\n",
    "    sampler_config=gmm_sampler_config,\n",
    "    model=trained_model\n",
    ")\n",
    "\n",
    "n_images = len(train_dataset)\n",
    "train_stack = np.empty((n_images, 1, main_dims[0], main_dims[1]))\n",
    "\n",
    "for t in range(n_images):\n",
    "    train_stack[t, 0, :, :] = np.asarray(train_dataset[t][0]).tolist()[0]\n",
    "    \n",
    "# fit the sampler\n",
    "gmm_sampler.fit(train_stack)"
   ]
  },
  {
   "cell_type": "code",
   "execution_count": null,
   "metadata": {},
   "outputs": [],
   "source": [
    "# sample using GMM\n",
    "gen_data = gmm_sampler.sample(\n",
    "    num_samples=25\n",
    ")"
   ]
  },
  {
   "cell_type": "code",
   "execution_count": null,
   "metadata": {},
   "outputs": [],
   "source": [
    "from matplotlib import pyplot as plt\n",
    "\n",
    "# show results with gmm sampler\n",
    "fig, axes = plt.subplots(nrows=5, ncols=5, figsize=(10, 10))\n",
    "\n",
    "for i in range(5):\n",
    "    for j in range(5):\n",
    "        axes[i][j].imshow(gen_data[i*5 +j].cpu().squeeze(0), cmap='gray')\n",
    "        axes[i][j].axis('off')\n",
    "plt.tight_layout(pad=0.)\n",
    "plt.show()"
   ]
  }
 ],
 "metadata": {
  "kernelspec": {
   "display_name": "Python 3 (ipykernel)",
   "language": "python",
   "name": "python3"
  },
  "language_info": {
   "codemirror_mode": {
    "name": "ipython",
    "version": 3
   },
   "file_extension": ".py",
   "mimetype": "text/x-python",
   "name": "python",
   "nbconvert_exporter": "python",
   "pygments_lexer": "ipython3",
   "version": "3.9.16"
  }
 },
 "nbformat": 4,
 "nbformat_minor": 1
}
