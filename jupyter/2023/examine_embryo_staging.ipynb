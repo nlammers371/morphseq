{
 "cells": [
  {
   "cell_type": "code",
   "execution_count": null,
   "metadata": {},
   "outputs": [],
   "source": [
    "import plotly.express as px\n",
    "import plotly.graph_objects as go\n",
    "import pandas as pd\n",
    "import numpy as np\n",
    "import os"
   ]
  },
  {
   "cell_type": "code",
   "execution_count": null,
   "metadata": {},
   "outputs": [],
   "source": [
    "# load age key\n",
    "root = \"/media/nick/hdd02/Cole Trapnell's Lab Dropbox/Nick Lammers/Nick/morphseq/\"\n",
    "metadata_path = os.path.join(root, \"metadata\")\n",
    "age_key_df = pd.read_csv(os.path.join(metadata_path, \"age_key_df.csv\"), index_col=0)\n",
    "\n",
    "# remove rows and add variables\n",
    "morph_experiments = [\"20230830\", \"20230831\", \"20231207\", \"20231208\"]\n",
    "ref_experiments = [\"20231110\", \"20240307\", \"20231206\"]\n",
    "# generate an absolute referemce\n",
    "# eid_vec = np.asarray([snip[:12] for snip in age_key_df[\"snip_id\"]])\n",
    "# date_vec = np.asarray([snip[:8] for snip in age_key_df[\"snip_id\"]])\n",
    "# age_key_df[\"embryo_id\"] = eid_vec\n",
    "# age_key_df[\"experiment_date\"] = date_vec\n",
    "eid_vec = age_key_df[\"embryo_id\"].to_numpy()\n",
    "eid_index = np.unique(eid_vec)\n",
    "age_key_df[\"abs_stage_hpf\"] = np.nan\n",
    "\n",
    "for eid in eid_index:\n",
    "    abs_time_vec = age_key_df.loc[eid_vec==eid, \"abs_time_hr\"].to_numpy()\n",
    "    pd_stage_vec = age_key_df.loc[eid_vec==eid, \"inferred_stage_hpf_reg\"].to_numpy()\n",
    "    age_key_df.loc[eid_vec==eid, \"abs_stage_hpf\"] = pd_stage_vec[0] + abs_time_vec\n",
    "\n",
    "    \n",
    "age_key_df[\"experiment_date\"] = age_key_df[\"experiment_date\"].astype(str)\n",
    "keep_flags = np.asarray([True if age_key_df.loc[i, \"experiment_date\"] not in morph_experiments\n",
    "                         else False for i in age_key_df.index])\n",
    "\n",
    "\n",
    "age_key_df = age_key_df.loc[keep_flags, :]\n",
    "\n",
    "ref_flags = np.asarray([True if age_key_df.loc[i, \"experiment_date\"] in ref_experiments\n",
    "                         else False for i in age_key_df.index])\n",
    "age_key_df.head(5)"
   ]
  },
  {
   "cell_type": "code",
   "execution_count": null,
   "metadata": {},
   "outputs": [],
   "source": [
    "px.histogram(age_key_df.loc[ref_flags], x=\"calc_stage_hpf\")"
   ]
  },
  {
   "cell_type": "code",
   "execution_count": null,
   "metadata": {},
   "outputs": [],
   "source": [
    "fig = px.scatter(age_key_df, x=\"calc_stage_hpf\", y=\"inferred_stage_hpf_reg\",opacity=0.25,\n",
    "                 color=\"experiment_date\", template=\"plotly\")\n",
    "fig.show()"
   ]
  },
  {
   "cell_type": "code",
   "execution_count": null,
   "metadata": {},
   "outputs": [],
   "source": [
    "age_key_df_alt = pd.read_csv(os.path.join(metadata_path, \"age_key_df.csv\"), index_col=0)\n",
    "age_key_df_alt = age_key_df_alt.loc[~keep_flags, :]\n",
    "age_key_df_alt.tail(50)"
   ]
  },
  {
   "cell_type": "code",
   "execution_count": null,
   "metadata": {},
   "outputs": [],
   "source": []
  }
 ],
 "metadata": {
  "kernelspec": {
   "display_name": "morphseq-env",
   "language": "python",
   "name": "morphseq-env"
  },
  "language_info": {
   "codemirror_mode": {
    "name": "ipython",
    "version": 3
   },
   "file_extension": ".py",
   "mimetype": "text/x-python",
   "name": "python",
   "nbconvert_exporter": "python",
   "pygments_lexer": "ipython3",
   "version": "3.10.13"
  }
 },
 "nbformat": 4,
 "nbformat_minor": 4
}
