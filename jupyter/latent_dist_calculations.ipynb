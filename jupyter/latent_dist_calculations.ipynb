{
 "cells": [
  {
   "cell_type": "markdown",
   "metadata": {},
   "source": [
    "## Simple numerical calculations to set expectation for distance scaling in latent space\n"
   ]
  },
  {
   "cell_type": "code",
   "execution_count": null,
   "metadata": {
    "pycharm": {
     "is_executing": true
    }
   },
   "outputs": [],
   "source": [
    "import numpy as np\n",
    "import plotly.express as px\n",
    "from scipy.spatial.distance import cdist\n",
    "from tqdm import tqdm"
   ]
  },
  {
   "cell_type": "markdown",
   "metadata": {},
   "source": [
    "### Look at how the average pairwise distance between random samples scales with latent dim"
   ]
  },
  {
   "cell_type": "code",
   "execution_count": null,
   "metadata": {},
   "outputs": [],
   "source": [
    "dim_vec = np.arange(1, 100).astype(np.uint16)\n",
    "n_samples = 10000\n",
    "dist_vec = np.empty(dim_vec.shape)\n",
    "\n",
    "for d, dim in enumerate(tqdm(dim_vec)):\n",
    "    cov = np.eye(dim)\n",
    "    mu = np.zeros((dim,))\n",
    "    samples = np.random.multivariate_normal(mu, cov, n_samples)\n",
    "    \n",
    "    dist_mat = cdist(samples, samples)\n",
    "    dist_mean = np.mean(np.triu(dist_mat))\n",
    "    dist_vec[d] = dist_mean"
   ]
  },
  {
   "cell_type": "code",
   "execution_count": null,
   "metadata": {},
   "outputs": [],
   "source": [
    "import plotly.graph_objects as go\n",
    "# check our expectation that it will scale as sqrt(N)\n",
    "expectation_vec = np.sqrt(dim_vec/2)\n",
    "\n",
    "fig = px.scatter(x=dim_vec, y=dist_vec)\n",
    "fig.add_trace(go.Scatter(x=dim_vec, y=expectation_vec))\n",
    "fig.show()"
   ]
  },
  {
   "cell_type": "code",
   "execution_count": null,
   "metadata": {},
   "outputs": [],
   "source": [
    "# How does temperature impact logit scaling\n",
    "n_samples = 10000\n",
    "dim = 100\n",
    "cov = np.eye(dim)\n",
    "mu = np.zeros((dim,))\n",
    "samples = np.random.multivariate_normal(mu, cov, n_samples)\n",
    "\n",
    "temperature_vec = "
   ]
  },
  {
   "cell_type": "code",
   "execution_count": null,
   "metadata": {},
   "outputs": [],
   "source": []
  }
 ],
 "metadata": {
  "kernelspec": {
   "display_name": "Python 3 (ipykernel)",
   "language": "python",
   "name": "python3"
  },
  "language_info": {
   "codemirror_mode": {
    "name": "ipython",
    "version": 3
   },
   "file_extension": ".py",
   "mimetype": "text/x-python",
   "name": "python",
   "nbconvert_exporter": "python",
   "pygments_lexer": "ipython3",
   "version": "3.10.8"
  }
 },
 "nbformat": 4,
 "nbformat_minor": 1
}
