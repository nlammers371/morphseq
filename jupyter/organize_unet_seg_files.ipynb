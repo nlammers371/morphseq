{
 "cells": [
  {
   "cell_type": "code",
   "execution_count": null,
   "metadata": {
    "pycharm": {
     "is_executing": true
    }
   },
   "outputs": [],
   "source": [
    "import os\n",
    "import numpy as np\n",
    "import pandas as pd\n",
    "import plotly.offline as pyo\n",
    "from src.functions.utilities import path_leaf\n",
    "pyo.init_notebook_mode()"
   ]
  },
  {
   "cell_type": "markdown",
   "metadata": {},
   "source": [
    "### Get list of unet training directories"
   ]
  },
  {
   "cell_type": "code",
   "execution_count": null,
   "metadata": {},
   "outputs": [],
   "source": [
    "from glob2 import glob\n",
    "\n",
    "root = \"/media/nick/hdd02/Cole Trapnell's Lab Dropbox/Nick Lammers/Nick/morphseq/\"\n",
    "unet_root = os.path.join(root, \"built_image_data\", \"unet_training\", \"*\")\n",
    "unet_dirs = sorted(glob(unet_root))\n",
    "unet_dirs = [u for u in unet_dirs if os.path.isdir(u)]\n",
    "unet_dirs = [u for u in unet_dirs if \"Archive\" not in u]\n",
    "print(unet_dirs)"
   ]
  },
  {
   "cell_type": "markdown",
   "metadata": {},
   "source": [
    "### iterate through each one and compile list of unique labels"
   ]
  },
  {
   "cell_type": "code",
   "execution_count": null,
   "metadata": {},
   "outputs": [],
   "source": [
    "import shutil\n",
    "from tqdm import tqdm\n",
    "\n",
    "image_root = os.path.join(root, \"built_image_data\", \"stitched_FF_images_raw\")\n",
    "\n",
    "for u, udir in enumerate(tqdm(unet_dirs)):\n",
    "    # initialize list  to store label files\n",
    "    label_path_list = []\n",
    "    label_name_list = []\n",
    "    # # get list of subdirectories\n",
    "    # subdir_list = sorted(glob(os.path.join(udir, \"*\")))\n",
    "    # subdir_list = [s for s in subdir_list if os.path.isdir(s)]\n",
    "    # subdir_list = [s for s in subdir_list if \"training\" not in path_leaf(s)]\n",
    "    # for s, sdir in enumerate(subdir_list):\n",
    "    #     a_dir = os.path.join(sdir, \"annotations\",\"\")\n",
    "    #     if os.path.isdir(a_dir):\n",
    "    #         lb_files = glob(a_dir + \"*.tif\") + glob(a_dir + \"*.jpg\")\n",
    "    #         lb_names = [path_leaf(im) for im in lb_files]\n",
    "    #         label_path_list += lb_files\n",
    "    #         label_name_list += lb_names\n",
    "\n",
    "    # make temporary folder to store new images\n",
    "    im_dir_temp = os.path.join(udir, \"training\", \"images_temp\")\n",
    "    if not os.path.isdir(im_dir_temp):\n",
    "        os.makedirs(im_dir_temp)\n",
    "\n",
    "    # make new directory\n",
    "    im_dir = os.path.join(udir, \"training\", \"images\", \"\")\n",
    "    image_list = sorted(glob(im_dir + \"*\"))\n",
    "    image_name_list = [path_leaf(im) for im in image_list]\n",
    "    date_list = [im[:8] for im in image_name_list]\n",
    "    stub_list = [im[9:] for im in image_name_list]\n",
    "    \n",
    "    # copy over\n",
    "    for i in range(len(date_list)):\n",
    "        date_folder = date_list[i]\n",
    "        stub_name = stub_list[i][:-4]\n",
    "        from_path = glob(os.path.join(image_root, date_folder, stub_name + \"*\"))[0]\n",
    "        to_path = os.path.join(im_dir_temp, image_name_list[i]) \n",
    "        shutil.copyfile(from_path, to_path)\n",
    "\n",
    "    "
   ]
  },
  {
   "cell_type": "markdown",
   "metadata": {},
   "source": [
    "## Code to move selected images into training folder"
   ]
  },
  {
   "cell_type": "code",
   "execution_count": null,
   "metadata": {},
   "outputs": [],
   "source": [
    "import os \n",
    "import shutil\n",
    "\n",
    "root = \"/media/nick/hdd02/Cole Trapnell's Lab Dropbox/Nick Lammers/Nick/morphseq/\"\n",
    "unet_root = os.path.join(root, \"built_image_data\", \"unet_training\")\n",
    "image_root = os.path.join(root, \"built_image_data\", \"stitched_FF_images\")\n",
    "model_type = \"yolk\"\n",
    "date_folder = \"20240522\"\n",
    "stub_list = [\"B04_t0065\", \"A05_t0027\"] \n",
    "\n",
    "from_dir = os.path.join(image_root, date_folder, \"\")\n",
    "to_dir = os.path.join(unet_root, \"UNET_training_\" + model_type, \"training\", \"images\", \"\")\n",
    "for stub in stub_list:\n",
    "    from_path = glob(os.path.join(from_dir, stub + \"*\"))[0]\n",
    "    shutil.copyfile(from_path, os.path.join(to_dir, date_folder + \"_\" + stub + \"_stitch.png\"))"
   ]
  },
  {
   "cell_type": "code",
   "execution_count": null,
   "metadata": {},
   "outputs": [],
   "source": [
    "stub"
   ]
  },
  {
   "cell_type": "code",
   "execution_count": null,
   "metadata": {},
   "outputs": [],
   "source": [
    "stub"
   ]
  },
  {
   "cell_type": "code",
   "execution_count": null,
   "metadata": {},
   "outputs": [],
   "source": []
  }
 ],
 "metadata": {
  "kernelspec": {
   "display_name": "morphseq-env",
   "language": "python",
   "name": "morphseq-env"
  },
  "language_info": {
   "codemirror_mode": {
    "name": "ipython",
    "version": 3
   },
   "file_extension": ".py",
   "mimetype": "text/x-python",
   "name": "python",
   "nbconvert_exporter": "python",
   "pygments_lexer": "ipython3",
   "version": "3.10.13"
  }
 },
 "nbformat": 4,
 "nbformat_minor": 4
}
