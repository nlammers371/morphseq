{
 "cells": [
  {
   "cell_type": "code",
   "execution_count": null,
   "metadata": {
    "is_executing": true,
    "pycharm": {
     "is_executing": true
    }
   },
   "outputs": [],
   "source": [
    "import os\n",
    "import pandas as pd\n",
    "import glob as glob\n",
    "\n",
    "# set root path to directory\n",
    "root = \"/Users/nick/Dropbox (Cole Trapnell's Lab)/Nick/morphseq/\"\n",
    "# root = \"E:\\\\Nick\\\\Dropbox (Cole Trapnell's Lab)\\\\Nick\\\\morphseq\\\\\"\n",
    "\n",
    "# read in metadata\n",
    "metadata_path = os.path.join(root, 'metadata', '')\n",
    "embryo_metadata_df = pd.read_csv(os.path.join(metadata_path, \"embryo_metadata_df.csv\"), index_col=0)\n",
    "\n",
    "# path to image and snip files\n",
    "im_snip_dir = os.path.join(root, 'training_data', 'bf_embryo_snips', '')\n",
    "mask_snip_dir = os.path.join(root, 'training_data', 'bf_embryo_masks', '')\n",
    "\n",
    "# get lists of snips and masks\n",
    "im_snip_files = sorted(glob.glob(im_snip_dir + \"*.tif\"))\n",
    "emb_mask_files = sorted(glob.glob(mask_snip_dir + \"emb*.tif\"))"
   ]
  },
  {
   "cell_type": "markdown",
   "metadata": {},
   "source": [
    "## Plot basic trends in embryo growth over time"
   ]
  },
  {
   "cell_type": "code",
   "execution_count": null,
   "metadata": {
    "pycharm": {
     "is_executing": true
    }
   },
   "outputs": [],
   "source": [
    "import plotly.express as px\n",
    "import plotly.graph_objects as go\n",
    "import numpy as np\n",
    "import plotly.offline as pyo\n",
    "pyo.init_notebook_mode()\n",
    "\n",
    "# filter our low-quality frames\n",
    "embryo_metadata_use = embryo_metadata_df.iloc[np.where(embryo_metadata_df[\"use_embryo_flag\"]==1)]\n",
    "embryo_metadata_use.reset_index(inplace=True)\n",
    "embryo_metadata_use[\"snip_id\"] = embryo_metadata_use[\"embryo_id\"] + \"_\" + \\\n",
    "            embryo_metadata_use[\"time_int\"].astype(str)\n",
    "\n",
    "# plot surface area over time\n",
    "fig = px.scatter(embryo_metadata_use, x='predicted_stage_hpf', y=\"surface_area_um\", color=\"embryo_id\", \n",
    "                 opacity=0.5, title=\"surface area vs. age\", template=\"plotly\")\n",
    "fig.show()"
   ]
  },
  {
   "cell_type": "markdown",
   "metadata": {},
   "source": [
    "## Use wck-AB to calculate curve for flagging SA outliers"
   ]
  },
  {
   "cell_type": "code",
   "execution_count": null,
   "metadata": {},
   "outputs": [],
   "source": [
    "# Make a master perturbation class\n",
    "embryo_metadata_use[\"master_perturbation\"] = embryo_metadata_use[\"chem_perturbation\"].astype(str)\n",
    "embryo_metadata_use[\"master_perturbation\"].iloc[np.where(embryo_metadata_use[\"master_perturbation\"]==\"nan\")[0]] = \\\n",
    "    embryo_metadata_use[\"genotype\"].iloc[np.where(embryo_metadata_use[\"master_perturbation\"]==\"nan\")[0]].copy().values\n",
    "\n",
    "print(np.unique(embryo_metadata_use[\"master_perturbation\"].values))"
   ]
  },
  {
   "cell_type": "code",
   "execution_count": null,
   "metadata": {
    "pycharm": {
     "is_executing": true
    }
   },
   "outputs": [],
   "source": [
    "import scipy\n",
    "\n",
    "perturbation_class_vec = np.unique(embryo_metadata_use[\"master_perturbation\"])\n",
    "\n",
    "\n",
    "min_embryos = 10\n",
    "\n",
    "use_indices = np.where(embryo_metadata_use[\"master_perturbation\"]=='wck-AB')[0]\n",
    "\n",
    "sa_vec_ref = embryo_metadata_use[\"surface_area_um\"].iloc[use_indices].values\n",
    "time_vec_ref = embryo_metadata_use['predicted_stage_hpf'].iloc[use_indices].values\n",
    "\n",
    "sa_vec_all = embryo_metadata_use[\"surface_area_um\"].values\n",
    "time_vec_all = embryo_metadata_use['predicted_stage_hpf'].values\n",
    "\n",
    "embryo_metadata_use['sa_outlier_flag'] = True\n",
    "\n",
    "hpf_window = 0.75\n",
    "frac_cushion = 1.15\n",
    "offset_cushion = 100000\n",
    "prct = 95\n",
    "ul = np.max(embryo_metadata_use['predicted_stage_hpf'])\n",
    "ll = np.min(embryo_metadata_use['predicted_stage_hpf'])\n",
    "time_index = np.linspace(0, 72, 145)\n",
    "percentile_array = np.empty((len(time_index),))\n",
    "percentile_array[:] = np.nan\n",
    "\n",
    "# iterate through time points\n",
    "first_i = np.nan\n",
    "last_i = np.nan\n",
    "for t, time in enumerate(time_index):\n",
    "    t_indices_ref = np.where((time_vec_ref>=time-hpf_window) & (time_vec_ref<=time+hpf_window))[0]\n",
    "#     t_indices_all = np.where((time_vec_all>=time-hpf_window) & (time_vec_all<=time+hpf_window))[0]\n",
    "    \n",
    "    if len(t_indices_ref) >= min_embryos:\n",
    "        sa_vec_t_ref = sa_vec_ref[t_indices_ref].copy()\n",
    "#         sa_vec_t_all = sa_vec_all[t_indices_all].copy()\n",
    "        \n",
    "        percentile_array[t] = np.percentile(sa_vec_t_ref, prct)\n",
    "        \n",
    "#         out_flags = sa_vec_t_all >= (offset_cushion + percentile_array[t, 0])\n",
    "#         out_prev = embryo_metadata_use['sa_outlier_flag'].iloc[t_indices_all].values\n",
    "        \n",
    "        if np.isnan(first_i):\n",
    "            first_i = t\n",
    "    elif ~np.isnan(first_i):\n",
    "        last_i = t\n",
    "            \n",
    "#         out_prev[np.where(np.isnan(out_prev))] = 1\n",
    "        \n",
    "#         out_indices = np.where(np.multiply(out_flags, out_prev))[0]\n",
    "        \n",
    "#         embryo_metadata_use['sa_outlier_flag'].iloc[t_indices_all] = (out_flags & out_prev)#np.multiply(out_flags, out_prev)\n",
    "        \n",
    "#         if len(out_indices) > 0:\n",
    "#             embryo_metadata_use.loc[t_indices_all[out_indices], \"sa_outlier_flag\"] = 1\n",
    "        \n",
    "# fill in blanks\n",
    "percentile_array[:first_i] = percentile_array[first_i]\n",
    "percentile_array[last_i+1:] = percentile_array[last_i]\n",
    "\n",
    "# smooth\n",
    "sa_bound_sm = offset_cushion + scipy.signal.savgol_filter(percentile_array, window_length=5, polyorder=2)\n",
    "\n",
    "# flag outliers\n",
    "t_ids = np.digitize(time_vec_all,bins=time_index)        \n",
    "\n",
    "for t in range(len(time_index)-1):\n",
    "    t_indices = np.where(t_ids == t)\n",
    "    sa_vec_t_all = sa_vec_all[t_indices].copy()\n",
    "    embryo_metadata_use['sa_outlier_flag'].iloc[t_indices] = sa_vec_t_all > sa_bound_sm[t]\n",
    "\n",
    "# plot surface area over time\n",
    "fig = px.scatter(embryo_metadata_use, x='predicted_stage_hpf', y=\"surface_area_um\", color=\"sa_outlier_flag\", \n",
    "                 opacity=0.5, title=\"surface area vs. age\", template=\"plotly\")\n",
    "\n",
    "fig.add_trace(go.Scatter(x=time_index, y=sa_bound_sm, mode=\"lines\", name=\"decision boundary\"))\n",
    "\n",
    "fig.show()"
   ]
  },
  {
   "cell_type": "markdown",
   "metadata": {},
   "source": [
    "## How far prior to \"official\" death should I call embryos?"
   ]
  },
  {
   "cell_type": "code",
   "execution_count": null,
   "metadata": {
    "pycharm": {
     "is_executing": true
    }
   },
   "outputs": [],
   "source": [
    "# filter on QC metrics, excluding live/dead status\n",
    "embryo_metadata_df2 = embryo_metadata_df.copy()\n",
    "embryo_metadata_df2[\"qc_flag\"] = embryo_metadata_df[\"use_embryo_flag\"] = ~(\n",
    "                embryo_metadata_df[\"bubble_flag\"].values | embryo_metadata_df[\"focus_flag\"].values |\n",
    "                embryo_metadata_df[\"frame_flag\"].values |\n",
    "                embryo_metadata_df[\"no_yolk_flag\"].values)\n",
    "\n",
    "embryo_metadata_df2 = embryo_metadata_df2.iloc[np.where(embryo_metadata_df2[\"qc_flag\"]==True)]\n",
    "\n",
    "wck_indices = np.where(embryo_metadata_use[\"master_perturbation\"]=='wck-AB')[0]\n",
    "embryo_metadata_df2 = embryo_metadata_df2.iloc[wck_indices]\n",
    "\n",
    "# group embryos by age\n",
    "time_bins_death = np.linspace(8, 48, 5)\n",
    "\n",
    "\n",
    "embryo_metadata_df2[\"ever_dead_flag\"] = False\n",
    "embryo_metadata_df2[\"hours_from_death\"] = np.inf\n",
    "embryo_metadata_df2[\"age_at_death\"] = np.nan\n",
    "\n",
    "# calculate time relative to death\n",
    "embryo_id_index = np.unique(embryo_metadata_df2[\"embryo_id\"])\n",
    "\n",
    "for e, eid in enumerate(embryo_id_index):\n",
    "    e_indices = np.where(embryo_metadata_df2[\"embryo_id\"]==eid)[0]\n",
    "    ever_dead_flag = np.any(embryo_metadata_df2[\"dead_flag\"].iloc[e_indices]==True)\n",
    "    embryo_metadata_df2[\"ever_dead_flag\"].iloc[e_indices] = ever_dead_flag\n",
    "    if ever_dead_flag:\n",
    "        d_ind = np.where(embryo_metadata_df2[\"dead_flag\"].iloc[e_indices]==True)[0][0]\n",
    "        d_time = embryo_metadata_df2[\"predicted_stage_hpf\"].iloc[e_indices[d_ind]]\n",
    "        embryo_metadata_df2[\"age_at_death\"].iloc[e_indices] = d_time\n",
    "        embryo_metadata_df2[\"hours_from_death\"] = embryo_metadata_df2[\"predicted_stage_hpf\"].values - d_time\n",
    "        \n",
    "        \n",
    "embryo_metadata_df2[\"death_age_group\"] = np.digitize(embryo_metadata_df2[\"age_at_death\"], bins=time_bins_death)        \n",
    "embryo_metadata_df2[\"death_age_group\"].iloc[np.where(np.isnan(embryo_metadata_df2[\"age_at_death\"].values))] = np.inf"
   ]
  },
  {
   "cell_type": "code",
   "execution_count": null,
   "metadata": {
    "pycharm": {
     "is_executing": true
    }
   },
   "outputs": [],
   "source": [
    "# calculate a standard curve that features \"definitely healthy\" embryos at least 3 hours from death\n",
    "\n",
    "min_embryos = 5\n",
    "rel_time_ref = np.linspace(-6, 2, 16)\n",
    "\n",
    "dead_len_array = np.empty((len(rel_time_ref), len(time_bins_death)))\n",
    "dead_len_array[:] = np.nan\n",
    "healthy_len_array = np.empty((len(rel_time_ref), len(time_bins_death)))\n",
    "healthy_len_array[:] = np.nan\n",
    "\n",
    "for t, dt in enumerate(time_bins_death):\n",
    "    \n",
    "    died_indices = np.where(embryo_metadata_df2[\"death_age_group\"].values == t)[0]\n",
    "    died_eids = np.unique(embryo_metadata_df2[\"embryo_id\"].iloc[died_indices])\n",
    "    survived_indices = np.where(embryo_metadata_df2[\"death_age_group\"].values > t)[0]\n",
    "    survived_eids = np.unique(embryo_metadata_df2[\"embryo_id\"].iloc[survived_indices])\n",
    "\n",
    "    # initialize arrays\n",
    "    dt_array_dead = np.empty((len(rel_time_ref), len(died_eids)))\n",
    "    dt_array_dead[:] = np.nan\n",
    "    dt_array_live = np.empty((len(rel_time_ref), len(survived_eids)))\n",
    "    dt_array_live[:] = np.nan\n",
    "    \n",
    "    if len(died_eids) >= min_embryos:\n",
    "        d_times = []\n",
    "        for e, eid in enumerate(died_eids):\n",
    "            e_indices = np.where(embryo_metadata_df2[\"embryo_id\"] == eid)[0]\n",
    "            d_time = np.unique(embryo_metadata_df2[\"age_at_death\"].iloc[e_indices].values)\n",
    "            d_times.append(d_time[0])\n",
    "            len_vec = embryo_metadata_df2[\"length_um\"].iloc[e_indices]\n",
    "            rel_time_vec = embryo_metadata_df2[\"predicted_stage_hpf\"].iloc[e_indices] - d_time\n",
    "            \n",
    "            # interpolate for simplicity of comparison \n",
    "            len_vec_interp = np.interp(rel_time_ref, rel_time_vec, len_vec)\n",
    "            \n",
    "            dt_array_dead[:, e] = len_vec_interp\n",
    "            \n",
    "        # randomly sample death times\n",
    "        death_times_rd = np.random.choice(d_times, len(survived_eids), replace=True)\n",
    "        \n",
    "        for e, eid in enumerate(survived_eids):\n",
    "            e_indices = np.where(embryo_metadata_df2[\"embryo_id\"]==eid)[0]\n",
    "            d_time = death_times_rd[e]\n",
    "            len_vec = embryo_metadata_df2[\"length_um\"].iloc[e_indices]\n",
    "            rel_time_vec = embryo_metadata_df2[\"predicted_stage_hpf\"].iloc[e_indices] - d_time\n",
    "            \n",
    "            # interpolate for simplicity of comparison \n",
    "            len_vec_interp = np.interp(rel_time_ref, rel_time_vec, len_vec)\n",
    "            \n",
    "            dt_array_live[:, e] = len_vec_interp\n",
    "            \n",
    "            \n",
    "    # take averages\n",
    "    dead_len_array[:, t] = np.nanmean(dt_array_dead, axis=1)\n",
    "    healthy_len_array[:, t] = np.nanmean(dt_array_live, axis=1)\n",
    "        \n",
    "            \n",
    "            \n"
   ]
  },
  {
   "cell_type": "code",
   "execution_count": null,
   "metadata": {
    "pycharm": {
     "is_executing": true
    }
   },
   "outputs": [],
   "source": [
    "color_list = px.colors.qualitative.Alphabet\n",
    "fig = go.Figure()\n",
    "for t in range(len(time_bins_death)):\n",
    "    fig.add_trace(go.Scatter(x=rel_time_ref, y=dead_len_array[:, t]/dead_len_array[0, t], \n",
    "                             marker=dict(color=color_list[t]), line=dict(dash='dash')))\n",
    "    fig.add_trace(go.Scatter(x=rel_time_ref, y=healthy_len_array[:, t]/healthy_len_array[0, t], \n",
    "                              marker=dict(color=color_list[t]), line=dict(color=color_list[t])))\n",
    "    \n",
    "fig.update_layout(title='Change in length prior to death',\n",
    "                   xaxis_title='hours from death',\n",
    "                   yaxis_title='length (normalized)')\n",
    "    \n",
    "fig.show()"
   ]
  },
  {
   "cell_type": "markdown",
   "metadata": {},
   "source": [
    "Likely there is no perfect point at which to set the cuttoff. 4 hours would be the conservative choice, but I worry that this will rule out many perfectly healthy embryos. I might adopt 2 hours as a compromise position in the interest of putting as much data as possible into the model. This will likely be worth circling back to, though."
   ]
  }
 ],
 "metadata": {
  "kernelspec": {
   "display_name": "Python 3 (ipykernel)",
   "language": "python",
   "name": "python3"
  },
  "language_info": {
   "codemirror_mode": {
    "name": "ipython",
    "version": 3
   },
   "file_extension": ".py",
   "mimetype": "text/x-python",
   "name": "python",
   "nbconvert_exporter": "python",
   "pygments_lexer": "ipython3",
   "version": "3.10.8"
  }
 },
 "nbformat": 4,
 "nbformat_minor": 1
}
