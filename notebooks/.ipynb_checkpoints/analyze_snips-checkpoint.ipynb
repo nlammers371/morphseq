{
 "cells": [
  {
   "cell_type": "code",
   "execution_count": null,
   "metadata": {
    "is_executing": true,
    "pycharm": {
     "is_executing": true
    }
   },
   "outputs": [],
   "source": [
    "import os\n",
    "import pandas as pd\n",
    "import glob as glob\n",
    "\n",
    "# set root path to directory\n",
    "root = \"/Users/nick/Dropbox (Cole Trapnell's Lab)/Nick/morphseq/\"\n",
    "# root = \"E:\\\\Nick\\\\Dropbox (Cole Trapnell's Lab)\\\\Nick\\\\morphseq\\\\\"\n",
    "\n",
    "# read in metadata\n",
    "metadata_path = os.path.join(root, 'metadata', '')\n",
    "embryo_metadata_df = pd.read_csv(os.path.join(metadata_path, \"embryo_metadata_df.csv\"), index_col=0)\n",
    "\n",
    "# path to image and snip files\n",
    "im_snip_dir = os.path.join(root, 'training_data', 'bf_embryo_snips', '')\n",
    "mask_snip_dir = os.path.join(root, 'training_data', 'bf_embryo_masks', '')\n",
    "\n",
    "# get lists of snips and masks\n",
    "im_snip_files = sorted(glob.glob(im_snip_dir + \"*.tif\"))\n",
    "emb_mask_files = sorted(glob.glob(mask_snip_dir + \"emb*.tif\"))"
   ]
  },
  {
   "cell_type": "markdown",
   "metadata": {},
   "source": [
    "## Plot basic trends in embryo growth over time"
   ]
  },
  {
   "cell_type": "code",
   "execution_count": null,
   "metadata": {
    "pycharm": {
     "is_executing": true
    }
   },
   "outputs": [],
   "source": [
    "import plotly.express as px\n",
    "import plotly.graph_objects as go\n",
    "import numpy as np\n",
    "import plotly.offline as pyo\n",
    "pyo.init_notebook_mode()\n",
    "\n",
    "# filter our low-quality frames\n",
    "embryo_metadata_use = embryo_metadata_df.iloc[np.where(embryo_metadata_df[\"use_embryo_flag\"]==1)]\n",
    "embryo_metadata_use.reset_index(inplace=True)\n",
    "embryo_metadata_use[\"snip_id\"] = embryo_metadata_use[\"embryo_id\"] + \"_\" + \\\n",
    "            embryo_metadata_use[\"time_int\"].astype(str)\n",
    "\n",
    "# plot surface area over time\n",
    "fig = px.scatter(embryo_metadata_use, x='predicted_stage_hpf', y=\"surface_area_um\", color=\"fraction_alive\", \n",
    "                 opacity=0.1, title=\"surface area vs. age\")\n",
    "fig.show()"
   ]
  },
  {
   "cell_type": "code",
   "execution_count": null,
   "metadata": {
    "pycharm": {
     "is_executing": true
    }
   },
   "outputs": [],
   "source": [
    "# plot length over time\n",
    "fig = px.scatter(embryo_metadata_use, x='predicted_stage_hpf', y=\"length_um\", color=\"genotype\", \n",
    "                 opacity=0.1, title=\"embryo length vs. age\")\n",
    "fig.show()"
   ]
  },
  {
   "cell_type": "code",
   "execution_count": null,
   "metadata": {
    "pycharm": {
     "is_executing": true
    }
   },
   "outputs": [],
   "source": [
    "# plot length over time by experiment\n",
    "fig = px.scatter(embryo_metadata_use, x='predicted_stage_hpf', y=\"length_um\", color='chem_perturbation', \n",
    "                 opacity=0.5, title=\"embryo length vs. age\")\n",
    "fig.show()"
   ]
  },
  {
   "cell_type": "code",
   "execution_count": null,
   "metadata": {
    "pycharm": {
     "is_executing": true
    }
   },
   "outputs": [],
   "source": [
    "print(np.unique(embryo_metadata_df[\"chem_perturbation\"]))\n",
    "print(np.unique(embryo_metadata_df[\"genotype\"]))"
   ]
  },
  {
   "cell_type": "markdown",
   "metadata": {},
   "source": [
    "## Make a combined perturbation column"
   ]
  },
  {
   "cell_type": "code",
   "execution_count": null,
   "metadata": {
    "pycharm": {
     "is_executing": true
    }
   },
   "outputs": [],
   "source": [
    "embryo_metadata_use[\"master_perturbation\"] = embryo_metadata_use[\"chem_perturbation\"].astype(str)\n",
    "embryo_metadata_use[\"master_perturbation\"].iloc[np.where(embryo_metadata_use[\"master_perturbation\"]==\"nan\")[0]] = \\\n",
    "    embryo_metadata_use[\"genotype\"].iloc[np.where(embryo_metadata_use[\"master_perturbation\"]==\"nan\")[0]].copy().values"
   ]
  },
  {
   "cell_type": "code",
   "execution_count": null,
   "metadata": {
    "pycharm": {
     "is_executing": true
    }
   },
   "outputs": [],
   "source": [
    "np.unique(embryo_metadata_use[\"master_perturbation\"].values)"
   ]
  },
  {
   "cell_type": "code",
   "execution_count": null,
   "metadata": {
    "pycharm": {
     "is_executing": true
    }
   },
   "outputs": [],
   "source": [
    "# plot length over time by experiment\n",
    "fig = px.scatter(embryo_metadata_use, x='predicted_stage_hpf', y=\"length_um\", color='master_perturbation', \n",
    "                 opacity=0.25, title=\"embryo length vs. age\")\n",
    "fig.show()"
   ]
  },
  {
   "cell_type": "markdown",
   "metadata": {},
   "source": [
    "## Calculate a moving 2 hr average for each perturbation class"
   ]
  },
  {
   "cell_type": "code",
   "execution_count": null,
   "metadata": {
    "pycharm": {
     "is_executing": true
    }
   },
   "outputs": [],
   "source": [
    "perturbation_class_vec = np.unique(embryo_metadata_use[\"master_perturbation\"])\n",
    "time_index = range(8, 48)\n",
    "n_boots = 100\n",
    "min_embryos = 10\n",
    "length_array_boot = np.empty((len(time_index), len(perturbation_class_vec), n_boots))\n",
    "length_array_boot[:] = np.nan\n",
    "\n",
    "# calculate bootstrap averages\n",
    "for p, perturbation in enumerate(perturbation_class_vec):\n",
    "    # extract vectors\n",
    "    p_indices = np.where(embryo_metadata_use[\"master_perturbation\"]==perturbation)[0]\n",
    "    length_vec = embryo_metadata_use[\"length_um\"].iloc[p_indices].values\n",
    "    time_vec = embryo_metadata_use['predicted_stage_hpf'].iloc[p_indices].values\n",
    "    # iterate through time points\n",
    "    for t, time in enumerate(time_index):\n",
    "        t_indices = np.where((time_vec>=time-1) & (time_vec<=time+1))[0]\n",
    "        if len(t_indices) >= min_embryos:\n",
    "            for b in range(n_boots):\n",
    "                boot_indices = np.random.choice(t_indices, len(t_indices), replace=True)\n",
    "                length_array_boot[t, p, b] = np.mean(length_vec[boot_indices])\n",
    "                "
   ]
  },
  {
   "cell_type": "code",
   "execution_count": null,
   "metadata": {
    "pycharm": {
     "is_executing": true
    }
   },
   "outputs": [],
   "source": [
    "avg_len_df = pd.DataFrame(np.mean(length_array_boot, axis=2), columns=perturbation_class_vec)\n",
    "avg_len_df[\"time\"] = time_index\n",
    "std_len_df = pd.DataFrame(np. std(length_array_boot, axis=2), columns=perturbation_class_vec)\n",
    "std_len_df[\"time\"] = time_index\n",
    "\n",
    "avg_len_long = pd.melt(avg_len_df, id_vars=\"time\")\n",
    "avg_len_long = avg_len_long.rename(columns={\"value\": \"mean_length_um\"})\n",
    "std_len_long = pd.melt(std_len_df, id_vars=\"time\")\n",
    "avg_len_long = avg_len_long.merge(std_len_long, how=\"left\")\n",
    "avg_len_long = avg_len_long.rename(columns={\"value\": \"std_length_um\"})\n",
    "\n",
    "\n",
    "fig = px.scatter(avg_len_long, x=\"time\", y=\"mean_length_um\", color=\"variable\", error_y=\"std_length_um\", \n",
    "                color_discrete_sequence=px.colors.qualitative.Dark24)\n",
    "fig.show()"
   ]
  },
  {
   "cell_type": "markdown",
   "metadata": {},
   "source": [
    "**A few notes/observations:** \n",
    "- It looks like there is a significant issue with the staging for at least 1 of the FGF experiments. They rise much faster even than the wk-AB control\n",
    "- I suspect that the same staging issue is responsible for the early rise of the ethanol control and \"WT\" trends\n",
    "- Is \"WT\" truly WT? Or did I mess up those labels?\n",
    "- The shh-i treatment has a powerful effect, even at 1/4 dosage\n",
    "- Meanwhile, fgf-i only seems to have an effect once I get to 1.5x.\n",
    "- As expected, the gdf3 mutants also exhibit a pronounced decrease in embryo length"
   ]
  },
  {
   "cell_type": "code",
   "execution_count": null,
   "metadata": {
    "pycharm": {
     "is_executing": true
    }
   },
   "outputs": [],
   "source": [
    "fig = px.scatter(embryo_metadata_use, x='predicted_stage_hpf', y=\"length_um\", color='master_perturbation', \n",
    "                 opacity=0.25, title=\"embryo length vs. age\", trendline=\"lowess\")\n",
    "fig.show()"
   ]
  },
  {
   "cell_type": "markdown",
   "metadata": {},
   "source": [
    "## Figure out what drives outliers in surface area"
   ]
  },
  {
   "cell_type": "code",
   "execution_count": null,
   "metadata": {
    "pycharm": {
     "is_executing": true
    }
   },
   "outputs": [],
   "source": [
    "# plot surface area over time\n",
    "fig = px.scatter(embryo_metadata_use, x='predicted_stage_hpf', y=\"surface_area_um\", color=\"embryo_id\", \n",
    "                 opacity=0.5, title=\"surface area vs. age\")\n",
    "fig.show()"
   ]
  },
  {
   "cell_type": "code",
   "execution_count": null,
   "metadata": {
    "pycharm": {
     "is_executing": true
    }
   },
   "outputs": [],
   "source": [
    "from matplotlib import pyplot as plt\n",
    "import cv2\n",
    "\n",
    "sa_outlier_indices = np.where((embryo_metadata_use[\"predicted_stage_hpf\"].values <= 20) & \\\n",
    "                              (embryo_metadata_use[\"surface_area_um\"].values > 1e6))[0]\n",
    "\n",
    "embryo_metadata_use[\"snip_id\"] = embryo_metadata_use[\"embryo_id\"] + \"_\" + \\\n",
    "            embryo_metadata_use[\"time_int\"].astype(str)\n",
    "\n",
    "sa_outlier_df = embryo_metadata_use.iloc[sa_outlier_indices]\n",
    "\n",
    "print(sa_outlier_df[\"snip_id\"])\n"
   ]
  },
  {
   "cell_type": "code",
   "execution_count": null,
   "metadata": {
    "pycharm": {
     "is_executing": true
    }
   },
   "outputs": [],
   "source": [
    "embryo_id = sa_outlier_df[\"snip_id\"].iloc[-1]\n",
    "print(embryo_id)\n",
    "embryo_snip_indices = [i for i in range(len(im_snip_files)) if embryo_id in im_snip_files[i]]\n",
    "im_test = cv2.imread(im_snip_files[embryo_snip_indices[0]])\n",
    "\n",
    "plt.imshow(im_test.astype(int))\n",
    "plt.show()"
   ]
  },
  {
   "cell_type": "code",
   "execution_count": null,
   "metadata": {
    "pycharm": {
     "is_executing": true
    }
   },
   "outputs": [],
   "source": [
    "sa_ceil = np.floor(np.max(embryo_metadata_use[\"surface_area_um\"]))\n",
    "\n",
    "sa_outlier_indices2 = np.where((embryo_metadata_use[\"predicted_stage_hpf\"].values <= 40) & \\\n",
    "                               (embryo_metadata_use[\"surface_area_um\"].values > sa_ceil*0.99))[0]\n",
    "\n",
    "sa_outlier_df2 = embryo_metadata_use.iloc[sa_outlier_indices2]\n",
    "\n",
    "embryo_id2 = sa_outlier_df2[\"snip_id\"].iloc[3]\n",
    "print(embryo_id)\n",
    "embryo_snip_indices = [i for i in range(len(im_snip_files)) if embryo_id2 in im_snip_files[i]]\n",
    "im_test = cv2.imread(im_snip_files[embryo_snip_indices[0]])\n",
    "\n",
    "plt.imshow(im_test.astype(int))\n",
    "plt.show()"
   ]
  },
  {
   "cell_type": "code",
   "execution_count": null,
   "metadata": {
    "pycharm": {
     "is_executing": true
    }
   },
   "outputs": [],
   "source": [
    "print(sa_outlier_df2[\"Time Rel (s)\"].iloc[3] / 3600)\n",
    "print(sa_outlier_df2[\"predicted_stage_hpf\"].iloc[3])\n",
    "print(sa_outlier_df2[\"length_um\"].iloc[3]/1000)"
   ]
  },
  {
   "cell_type": "markdown",
   "metadata": {},
   "source": [
    "### Let's look at some weirdly small wk-AB embryos"
   ]
  },
  {
   "cell_type": "code",
   "execution_count": null,
   "metadata": {
    "pycharm": {
     "is_executing": true
    }
   },
   "outputs": [],
   "source": [
    "wck_outlier_indices = np.where((embryo_metadata_use[\"predicted_stage_hpf\"].values >= 30) & \\\n",
    "                              (embryo_metadata_use[\"master_perturbation\"].values ==\"wck-AB\") & \\\n",
    "                              (embryo_metadata_use[\"length_um\"].values <= 2000))[0]\n",
    "\n",
    "wck_outlier_df = embryo_metadata_use.iloc[wck_outlier_indices]\n",
    "\n",
    "embryo_id = wck_outlier_df[\"snip_id\"].iloc[350]\n",
    "print(embryo_id)\n",
    "\n",
    "embryo_snip_indices = [i for i in range(len(im_snip_files)) if embryo_id in im_snip_files[i]]\n",
    "im_test = cv2.imread(im_snip_files[embryo_snip_indices[0]])\n",
    "\n",
    "plt.imshow(im_test.astype(int))\n",
    "plt.show()"
   ]
  },
  {
   "cell_type": "code",
   "execution_count": null,
   "metadata": {
    "pycharm": {
     "is_executing": true
    }
   },
   "outputs": [],
   "source": [
    "# look at one weird mutant embryo\n",
    "embryo_id = \"20230627_D06_e00\"\n",
    "\n",
    "embryo_snip_indices = [i for i in range(len(im_snip_files)) if embryo_id in im_snip_files[i]]\n",
    "im_test = cv2.imread(im_snip_files[embryo_snip_indices[20]])\n",
    "\n",
    "plt.imshow(im_test.astype(int))\n",
    "plt.show()"
   ]
  },
  {
   "cell_type": "code",
   "execution_count": null,
   "metadata": {
    "pycharm": {
     "is_executing": true
    }
   },
   "outputs": [],
   "source": [
    "weird_indices = np.where(embryo_metadata_use[\"snip_id\"].values == embryo_id + \"_25\")\n",
    "embryo_metadata_use.iloc[weird_indices]"
   ]
  },
  {
   "cell_type": "code",
   "execution_count": null,
   "metadata": {
    "pycharm": {
     "is_executing": true
    }
   },
   "outputs": [],
   "source": [
    "i = [i for i in embryo_metadata_use.columns if 'pin' in i]\n",
    "print(i)"
   ]
  },
  {
   "cell_type": "markdown",
   "metadata": {},
   "source": [
    "**Notes on outliers:**\n",
    "- The early SA outliers look like they are mostly merged embryo masks\n",
    "- The current SA cap I have for all snips is too low for later time points\n",
    "- The fix is to use my data to develop a time-dependent SA bound\n",
    "- Unusually small wck-AB embryos seem to be either (i) true morphological outluiers, (ii) embryos in a curved pose (likely due to well constraints), (iii) or dead/dying embryos"
   ]
  },
  {
   "cell_type": "code",
   "execution_count": null,
   "metadata": {
    "pycharm": {
     "is_executing": true
    }
   },
   "outputs": [],
   "source": []
  }
 ],
 "metadata": {
  "kernelspec": {
   "display_name": "Python 3 (ipykernel)",
   "language": "python",
   "name": "python3"
  },
  "language_info": {
   "codemirror_mode": {
    "name": "ipython",
    "version": 3
   },
   "file_extension": ".py",
   "mimetype": "text/x-python",
   "name": "python",
   "nbconvert_exporter": "python",
   "pygments_lexer": "ipython3",
   "version": "3.10.8"
  }
 },
 "nbformat": 4,
 "nbformat_minor": 1
}
