{
 "cells": [
  {
   "cell_type": "markdown",
   "metadata": {},
   "source": [
    "# Experiment with extracting shape info from confocal images of fish embryos"
   ]
  },
  {
   "cell_type": "code",
   "execution_count": null,
   "metadata": {},
   "outputs": [],
   "source": [
    "from aicsimageio import AICSImage\n",
    "\n",
    "image_path = \"/Users/nick/Dropbox (Cole Trapnell's Lab)/Nick/morphMap/data/yx1_samples/20230322/RT/1A_LM010_RT_kikume.nd2\"\n",
    "\n",
    "imObject = AICSImage(image_path)"
   ]
  },
  {
   "cell_type": "markdown",
   "metadata": {},
   "source": [
    "# Step1: obtain rough \"surface prior\"\n",
    "For each xy coordinate in image, determine whether it contains \"inside\" pixels. Then, find the surface pixel for those that do have one ore more inside pixels.\n",
    "\n",
    "The most naive approach I can imagine is taking the brightest pixel in each Z column as my surface point. Let's try that first"
   ]
  },
  {
   "cell_type": "code",
   "execution_count": null,
   "metadata": {},
   "outputs": [],
   "source": [
    "import numpy as np\n",
    "import plotly.graph_objects as go\n",
    "import plotly.express as px\n",
    "\n",
    "# get resolution\n",
    "res_raw = imObject.physical_pixel_sizes\n",
    "res_array = np.asarray(res_raw)\n",
    "res_array = np.insert(res_array, 0, 1)\n",
    "pixel_size_z = res_array[1]\n",
    "pixel_size_x = res_array[2]\n",
    "pixel_size_y = res_array[3]\n",
    "\n",
    "# find brightest pixel\n",
    "imData = np.squeeze(imObject.data)\n",
    "max_pos_z = np.argmax(imData, axis=0)\n",
    "max_brightness_z = np.max(imData, axis=0)\n",
    "\n",
    "# generate x and y axes\n",
    "xg, yg = np.meshgrid(range(max_pos_z.shape[1]), range(max_pos_z.shape[0]))\n",
    "\n",
    "im95 = np.percentile(max_brightness_z, 90)\n",
    "x_plot = xg[np.where(max_brightness_z>=im95)]\n",
    "y_plot = yg[np.where(max_brightness_z>=im95)]\n",
    "z_plot = max_pos_z[np.where(max_brightness_z>=im95)]\n",
    "\n",
    "max_pos_z[np.where(max_brightness_z<=im95)] = 0\n",
    "\n",
    "fig = px.scatter_3d(x=x_plot*pixel_size_x, \n",
    "                    y=y_plot*pixel_size_y,\n",
    "                    z=z_plot*pixel_size_z,\n",
    "                    opacity=0.002,\n",
    "                    color=z_plot)\n",
    "fig.show()"
   ]
  },
  {
   "cell_type": "markdown",
   "metadata": {},
   "source": [
    "**Try to convert this to a 3D mesh.**"
   ]
  },
  {
   "cell_type": "code",
   "execution_count": null,
   "metadata": {
    "pycharm": {
     "is_executing": true
    }
   },
   "outputs": [],
   "source": [
    "import pyvista as pv\n",
    "import pymeshfix as mf\n",
    "from pymeshfix import MeshFix\n",
    "from pymeshfix._meshfix import PyTMesh\n",
    "\n",
    "# await pv.set_jupyter_backend('trame')\n",
    "np.random.seed(124)\n",
    "n_samples = x_plot.size\n",
    "index_vec = range(0, x_plot.size)\n",
    "mesh_indices = index_vec# np.random.choice(index_vec, n_samples)\n",
    "\n",
    "# convert xyz coordinates to a point cloud object\n",
    "xyz_array = np.concatenate((np.reshape(x_plot[mesh_indices]*pixel_size_x, (n_samples, 1)),\n",
    "                            np.reshape(y_plot[mesh_indices]*pixel_size_y, (n_samples, 1)),\n",
    "                            np.reshape(z_plot[mesh_indices]*pixel_size_z, (n_samples, 1))), axis=1)\n",
    "\n",
    "\n",
    "point_cloud = pv.PolyData(xyz_array)\n",
    "\n",
    "# plot point cloud\n",
    "point_cloud.plot(jupyter_backend='panel', scalars=z_plot, render_points_as_spheres=True, point_size=1)"
   ]
  },
  {
   "cell_type": "markdown",
   "metadata": {
    "pycharm": {
     "is_executing": true
    }
   },
   "source": [
    "**Step 1:** Remove outlier points"
   ]
  },
  {
   "cell_type": "code",
   "execution_count": null,
   "metadata": {},
   "outputs": [],
   "source": [
    "cl, ind = point_cloud.remove_statistical_outlier(nb_neighbors=20,\n",
    "                                                    std_ratio=2.0)"
   ]
  },
  {
   "cell_type": "code",
   "execution_count": null,
   "metadata": {},
   "outputs": [],
   "source": [
    "alpha=50\n",
    "surf = point_cloud.delaunay_2d(alpha=alpha)\n",
    "surf.plot(show_edges=False, jupyter_backend='panel')"
   ]
  },
  {
   "cell_type": "code",
   "execution_count": null,
   "metadata": {},
   "outputs": [],
   "source": [
    "# First, fix the holes\n",
    "\n",
    "# load and fix holes\n",
    "sf = PyTMesh(False)\n",
    "sf.load_file('test.ply')\n",
    "fix_size = 200\n",
    "sf.fill_small_boundaries(nbe=fix_size, refine=True)\n",
    "\n",
    "# convert to mesh\n",
    "vert, faces = sf.return_arrays()\n",
    "triangles = np.empty((faces.shape[0], 4), dtype=faces.dtype)\n",
    "triangles[:, -3:] = faces\n",
    "triangles[:, 0] = 3\n",
    "\n",
    "surf_fix = pv.PolyData(vert, triangles)\n",
    "\n",
    "surf_fix.plot(show_edges=False, jupyter_backend='panel')"
   ]
  },
  {
   "cell_type": "code",
   "execution_count": null,
   "metadata": {},
   "outputs": [],
   "source": [
    "surf_smooth = surf_fix.smooth()\n",
    "surf_smooth.plot(show_edges=False, jupyter_backend='panel')"
   ]
  },
  {
   "cell_type": "code",
   "execution_count": null,
   "metadata": {},
   "outputs": [],
   "source": []
  }
 ],
 "metadata": {
  "kernelspec": {
   "display_name": "Python 3 (ipykernel)",
   "language": "python",
   "name": "python3"
  },
  "language_info": {
   "codemirror_mode": {
    "name": "ipython",
    "version": 3
   },
   "file_extension": ".py",
   "mimetype": "text/x-python",
   "name": "python",
   "nbconvert_exporter": "python",
   "pygments_lexer": "ipython3",
   "version": "3.10.8"
  }
 },
 "nbformat": 4,
 "nbformat_minor": 1
}
