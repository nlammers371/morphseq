{
 "cells": [
  {
   "cell_type": "markdown",
   "metadata": {},
   "source": [
    "# Experiment with extracting shape info from confocal images of fish embryos"
   ]
  },
  {
   "cell_type": "code",
   "execution_count": null,
   "metadata": {},
   "outputs": [],
   "source": [
    "from aicsimageio import AICSImage\n",
    "import os \n",
    "import glob2 as glob\n",
    "\n",
    "# define path to image\n",
    "image_name = \"2024_StayGold_10x_s018_T0\"\n",
    "read_path = \"/Users/nick/Dropbox (Cole Trapnell's Lab)/Nick/morphSeq/data/yx1_samples/20230412/\"\n",
    "image_path = read_path + image_name + \".ome.tif\"\n",
    "\n",
    "# set path to segmentation\n",
    "seg_path = \"/Users/nick/Dropbox (Cole Trapnell's Lab)/Nick/morphSeq/data/20230412/segmentation/\"\n",
    "\n",
    "# set save path\n",
    "pcd_path = \"/Users/nick/Dropbox (Cole Trapnell's Lab)/Nick/morphSeq/data/yx1_pcd/20230412/\"\n",
    "\n",
    "# make save directory\n",
    "if not os.path.isdir(pcd_path):\n",
    "    os.makedirs(pcd_path)\n",
    "\n",
    "# get list of segmentation files\n",
    "seg_list = glob.glob(seg_path + \"*.tif\")\n",
    "\n",
    "# set time points\n",
    "time_ind = 1\n",
    "imObject = AICSImage(seg_list[time_ind])\n"
   ]
  },
  {
   "cell_type": "code",
   "execution_count": null,
   "metadata": {},
   "outputs": [],
   "source": [
    "import plotly.graph_objects as go\n",
    "from skimage.morphology import (erosion, dilation, opening, closing, white_tophat)\n",
    "import plotly.express as px\n",
    "from skimage import data\n",
    "from skimage import filters\n",
    "from skimage.segmentation import active_contour\n",
    "import matplotlib.pyplot as plt\n",
    "from skimage.measure import label, regionprops\n",
    "from skimage.morphology import black_tophat, skeletonize, convex_hull_image \n",
    "from skimage.morphology import disk\n",
    "import skimage\n",
    "import scipy\n",
    "import numpy as np\n",
    "\n",
    "# get resolution\n",
    "res_raw = imObject.physical_pixel_sizes\n",
    "res_array = np.asarray(res_raw)\n",
    "res_array = np.insert(res_array, 0, 1)\n",
    "pixel_size_z = 20#res_array[1]\n",
    "pixel_size_x = 1#res_array[2]\n",
    "pixel_size_y = 1#res_array[3]\n",
    "\n",
    "# extract raw image\n",
    "imData = np.squeeze(imObject.data)\n",
    "\n",
    "# resize image such that voxels are isotropic\n",
    "z_rs_factor = pixel_size_z/pixel_size_x\n",
    "ds_factor = 2\n",
    "pixel_size_new = pixel_size_x / ds_factor\n",
    "imData_rs = scipy.ndimage.zoom(imData, [z_rs_factor/ds_factor, 1/ds_factor, 1/ds_factor])\n",
    "\n",
    "imDataBin = imData_rs>0\n",
    "\n",
    "keep_indices = np.where(imDataBin ==1)\n",
    "\n",
    "z_grid3, y_grid3, x_grid3 = np.meshgrid(range(0, imDataBin.shape[0]), \n",
    "                                        range(0, imDataBin.shape[1]), \n",
    "                                        range(0, imDataBin.shape[2]),\n",
    "                                       indexing=\"ij\")\n",
    "\n",
    "# # calculate position of max point for each\n",
    "x_surf3 = x_grid3[keep_indices]\n",
    "y_surf3 = y_grid3[keep_indices]\n",
    "z_surf3 = z_grid3[keep_indices]\n"
   ]
  },
  {
   "cell_type": "code",
   "execution_count": null,
   "metadata": {},
   "outputs": [],
   "source": [
    "import open3d as o3d\n",
    "\n",
    "n_samples3 = x_surf3.size\n",
    "xyz_array3 = np.concatenate((np.reshape(x_surf3, (n_samples3, 1)),\n",
    "                             np.reshape(y_surf3, (n_samples3, 1)),\n",
    "                             np.reshape(z_surf3, (n_samples3, 1))), axis=1)\n",
    "\n",
    "dtype = o3d.core.float32\n",
    "device = o3d.core.Device(\"CPU:0\")\n",
    "\n",
    "pcd3 = o3d.geometry.PointCloud()\n",
    "pcd3.points = o3d.utility.Vector3dVector(xyz_array3)\n"
   ]
  },
  {
   "cell_type": "code",
   "execution_count": null,
   "metadata": {},
   "outputs": [],
   "source": [
    "import pyvista as pv\n",
    "\n",
    "downpcd3 = pcd3.voxel_down_sample(voxel_size=2)\n",
    "\n",
    "cl, ind = downpcd3.remove_statistical_outlier(nb_neighbors=20, std_ratio=1.5)\n",
    "\n",
    "# xyz_out = np.delete(xyz_array, ind, axis=0)\n",
    "# xyz_in = xyz_array[ind]\n",
    "\n",
    "pcd_in3 = downpcd3.select_by_index(ind)\n",
    "xyz = np.asarray(pcd_in3.points)\n",
    "pv_cloud3 = pv.PolyData(np.asarray(pcd_in3.points))\n",
    "pv_cloud3.plot(jupyter_backend='ipygany', scalars=xyz[:, 2])"
   ]
  },
  {
   "cell_type": "markdown",
   "metadata": {},
   "source": [
    "To simplify things, let's just focus on the first non-zero point at each xy position"
   ]
  },
  {
   "cell_type": "code",
   "execution_count": null,
   "metadata": {},
   "outputs": [],
   "source": [
    "max_z_val = np.max(imData_rs, axis=0)\n",
    "max_z_pos = np.argmax(imData_rs, axis=0)\n",
    "\n",
    "keep_indices2 = np.where(max_z_val>0)\n",
    "\n",
    "y_grid2, x_grid2 = np.meshgrid(\n",
    "                                range(0, imDataBin.shape[1]), \n",
    "                                range(0, imDataBin.shape[2]),\n",
    "                               indexing=\"ij\")\n",
    "\n",
    "# # calculate position of max point for each\n",
    "x_surf2 = x_grid2[keep_indices2]\n",
    "y_surf2 = y_grid2[keep_indices2]\n",
    "z_surf2 = max_z_pos[keep_indices2]\n",
    "\n",
    "n_samples2 = x_surf2.size\n",
    "xyz_array2 = np.concatenate((np.reshape(x_surf2, (n_samples2, 1)),\n",
    "                             np.reshape(y_surf2, (n_samples2, 1)),\n",
    "                             np.reshape(z_surf2, (n_samples2, 1))), axis=1)\n",
    "\n",
    "pcd2 = o3d.geometry.PointCloud()\n",
    "pcd2.points = o3d.utility.Vector3dVector(xyz_array2)\n",
    "\n",
    "downpcd2 = pcd2.voxel_down_sample(voxel_size=3)\n",
    "\n",
    "cl, ind = downpcd2.remove_statistical_outlier(nb_neighbors=20, std_ratio=1.5)\n",
    "\n",
    "# xyz_out = np.delete(xyz_array, ind, axis=0)\n",
    "# xyz_in = xyz_array[ind]\n",
    "\n",
    "pcd_in2 = downpcd2.select_by_index(ind)\n",
    "xyz2 = np.asarray(pcd_in2.points)\n",
    "pv_cloud2 = pv.PolyData(np.asarray(pcd_in2.points))\n",
    "pv_cloud2.plot(jupyter_backend='ipygany', scalars=xyz2[:, 2])"
   ]
  },
  {
   "cell_type": "code",
   "execution_count": null,
   "metadata": {},
   "outputs": [],
   "source": [
    "alpha = 30\n",
    "dl_3d_mesh = pv_cloud2.delaunay_2d(alpha=alpha)\n",
    "# dl_3d_mesh = alphashape.alphashape(xyz_in, alpha=8)\n",
    "dl_3d_mesh.fill_holes(200, inplace=True)\n",
    "smooth = dl_3d_mesh#.smooth_taubin(n_iter=50, pass_band=0.2)\n",
    "# smooth.plot(show_edges=True, jupyter_backend='ipygany')\n",
    "smooth.plot(show_edges=True, jupyter_backend='ipygany')"
   ]
  },
  {
   "cell_type": "markdown",
   "metadata": {},
   "source": [
    "**Experiment with Gaussian Process Regression as a way to smooth and interpolate the data prior to meshing**"
   ]
  },
  {
   "cell_type": "code",
   "execution_count": null,
   "metadata": {},
   "outputs": [],
   "source": [
    "import napari_process_points_and_surfaces as nppas\n",
    "import pyclesperanto_prototype as cle\n",
    "import vedo\n",
    "\n",
    "# set time points\n",
    "time_ind = 27\n",
    "imObject = AICSImage(seg_list[time_ind])\n",
    "imData = np.squeeze(imObject.data)\n",
    "# resize image such that voxels are isotropic\n",
    "z_rs_factor = pixel_size_z/pixel_size_x\n",
    "ds_factor = 8\n",
    "pixel_size_new = pixel_size_x / ds_factor\n",
    "imData_rs2 = scipy.ndimage.zoom(imData, [z_rs_factor/ds_factor, 1/ds_factor, 1/ds_factor])\n",
    "\n",
    "im_binary = imData_rs2>0\n",
    "\n",
    "embSurf = nppas.all_labels_to_surface(im_binary)"
   ]
  },
  {
   "cell_type": "code",
   "execution_count": null,
   "metadata": {},
   "outputs": [],
   "source": [
    "smoothed_surface = nppas.smooth_surface_moving_least_squares_2d(embSurf, smoothing_factor=0.2)\n",
    "smoothed_surface"
   ]
  },
  {
   "cell_type": "code",
   "execution_count": null,
   "metadata": {},
   "outputs": [],
   "source": [
    "nppas.fill_holes_in_surface(smoothed_surface, size_limit=300)"
   ]
  },
  {
   "cell_type": "code",
   "execution_count": null,
   "metadata": {},
   "outputs": [],
   "source": [
    "simplified_surface2 = nppas.decimate_quadric(smoothed_surface, fraction=0.01)\n",
    "simplified_surface2"
   ]
  },
  {
   "cell_type": "markdown",
   "metadata": {},
   "source": [
    "**Let's see if we can fill gaps using linear interpolation**"
   ]
  },
  {
   "cell_type": "code",
   "execution_count": null,
   "metadata": {},
   "outputs": [],
   "source": [
    "from skimage.morphology import disk\n",
    "from skimage.morphology import (erosion, dilation, opening, closing,  # noqa\n",
    "                                white_tophat)\n",
    "\n",
    "# first, generate 3D mask to identify interior pixels that we wish to interpolate\n",
    "fish_mask = (np.max(imDataBin, axis=0) == 1)*1\n",
    "\n",
    "# use morphological closure operation to fill in shape\n",
    "footprint = disk(15)\n",
    "fish_closed = closing(fish_mask, footprint)\n",
    "\n",
    "# plt.imshow(fish_mask)\n",
    "plt.imshow(fish_closed)\n"
   ]
  },
  {
   "cell_type": "code",
   "execution_count": null,
   "metadata": {},
   "outputs": [],
   "source": [
    "from scipy import interpolate\n",
    "\n",
    "# identify \"holes\" for which not a single pixel nonzero exists \n",
    "query_indices = np.where((fish_closed==1) & (fish_mask!=1))[0]\n",
    "ref_indices = np.where(fish_mask==1)[0]\n",
    "print(len(candidate_indices))\n",
    "print(len(ref_indices))\n",
    "\n",
    "f = interpolate.interp2d(xyz_array2[:, 0], xyz_array2[:, 1], xyz_array2[:, 2], kind='linear')\n",
    "x_query = x_grid2[query_indices]\n",
    "y_query = y_grid2[query_indices]\n",
    "z_query = f(x_query, y_query)"
   ]
  },
  {
   "cell_type": "markdown",
   "metadata": {
    "pycharm": {
     "is_executing": true
    }
   },
   "source": [
    "Try fitting to the surface points only"
   ]
  },
  {
   "cell_type": "code",
   "execution_count": null,
   "metadata": {},
   "outputs": [],
   "source": [
    "surf_mask_array = np.zeros(imData_rs.shape)\n",
    "sub_i = np.roll(xyz_array2, 1, axis=1)\n",
    "surf_indices = np.ravel_multi_index((1,2,2), imData_rs.shape)\n",
    "surf_mask_array[xyz_array2[:, 2], xyz_array2[:, 1], xyz_array2[:, 0]] = 1\n",
    "\n",
    "e_surf = nppas.all_labels_to_surface(surf_mask_array)\n",
    "e_surf"
   ]
  },
  {
   "cell_type": "code",
   "execution_count": null,
   "metadata": {},
   "outputs": [],
   "source": [
    "e_surf.__dict__.keys()"
   ]
  },
  {
   "cell_type": "markdown",
   "metadata": {},
   "source": [
    "**Attempt 2:** downsample, interpolate, and then infer mesh"
   ]
  },
  {
   "cell_type": "code",
   "execution_count": null,
   "metadata": {},
   "outputs": [],
   "source": [
    "# import numpy as np\n",
    "# import scipy\n",
    "# from scipy import interpolate\n",
    "\n",
    "\n",
    "# f = interpolate.interp2d(xyz_ds_in[:, 0], xyz_ds_in[:, 1], xyz_ds_in[:, 2], kind='linear')\n"
   ]
  },
  {
   "cell_type": "code",
   "execution_count": null,
   "metadata": {},
   "outputs": [],
   "source": [
    "# npoints = 150\n",
    "# xg = np.linspace(np.min(xyz_ds_in[:, 0]), np.max(xyz_ds_in[:, 0]), npoints)\n",
    "# yg = np.linspace(np.min(xyz_ds_in[:, 1]), np.max(xyz_ds_in[:, 1]), npoints)\n",
    "\n",
    "# x_grid, y_grid = np.meshgrid(xg, yg)\n",
    "\n",
    "# znew = f(xg, yg)\n",
    "\n",
    "# xyz_interp = np.concatenate((np.reshape(x_grid, (x_grid.size, 1)), \n",
    "#                              np.reshape(y_grid, (x_grid.size, 1)),\n",
    "#                              np.reshape(znew, (x_grid.size, 1))),\n",
    "#                              axis=1)\n",
    "\n",
    "# xyz_interp_filt = xyz_interp[np.where(xyz_interp[:, 2]<=350)]\n",
    "# xyz_interp_filt = xyz_interp_filt[xyz_interp_filt[:, 2]>0]\n",
    "# pv_cloud_interp = pv.PolyData(xyz_interp_filt)\n",
    "# pv_cloud_interp.plot(jupyter_backend='ipygany')"
   ]
  },
  {
   "cell_type": "code",
   "execution_count": null,
   "metadata": {},
   "outputs": [],
   "source": []
  }
 ],
 "metadata": {
  "kernelspec": {
   "display_name": "Python 3 (ipykernel)",
   "language": "python",
   "name": "python3"
  },
  "language_info": {
   "codemirror_mode": {
    "name": "ipython",
    "version": 3
   },
   "file_extension": ".py",
   "mimetype": "text/x-python",
   "name": "python",
   "nbconvert_exporter": "python",
   "pygments_lexer": "ipython3",
   "version": "3.10.8"
  }
 },
 "nbformat": 4,
 "nbformat_minor": 1
}
