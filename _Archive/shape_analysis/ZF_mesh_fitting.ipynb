{
 "cells": [
  {
   "cell_type": "code",
   "execution_count": null,
   "metadata": {},
   "outputs": [],
   "source": [
    "from aicsimageio import AICSImage\n",
    "import numpy as np\n",
    "import plotly.express as px\n",
    "import plotly.graph_objects as go\n",
    "\n",
    "full_filename = \"/Volumes/LaCie/YX1/20230112/RNA100_GFP_4x_wholeEmbryo_highResZ.nd2\"\n",
    "\n",
    "imObject = AICSImage(full_filename)\n",
    "imData = np.squeeze(imObject.data)\n",
    "\n",
    "# Extract pixel sizes and bit_depth\n",
    "res_raw = imObject.physical_pixel_sizes\n",
    "res_array = np.asarray(res_raw)\n",
    "\n"
   ]
  },
  {
   "cell_type": "markdown",
   "metadata": {},
   "source": [
    "## Make volume plot"
   ]
  },
  {
   "cell_type": "code",
   "execution_count": null,
   "metadata": {},
   "outputs": [],
   "source": [
    "new_shape = tuple(np.round(np.asarray(imData.shape).astype(float)/4).astype(int))\n",
    "\n",
    "imDataSmall = np.resize(imData, new_shape).astype(float)\n",
    "\n",
    "xx = np.asarray(range(0, imDataSmall.shape[2]))*res_array[2]\n",
    "yy = np.asarray(range(0, imDataSmall.shape[1]))*res_array[1]\n",
    "zz = np.asarray(range(0, imDataSmall.shape[0]))*res_array[0]\n",
    "\n",
    "X, Y, Z = np.meshgrid(xx, yy, zz)  # 3D grid for interpolation\n",
    "\n",
    "# X = np.moveaxis(X, [0, 1, 2], [1, 2, 0])\n",
    "# Y = np.moveaxis(Y, [0, 1, 2], [1, 2, 0])\n",
    "# Z = np.moveaxis(Z, [0, 1, 2], [1, 2, 0])\n",
    "\n",
    "# px.scatter_3d(\n",
    "#     x=X.flatten(),\n",
    "#     y=Y.flatten(),\n",
    "#     z=Z.flatten(),\n",
    "#     color=imDataSmall.flatten(),\n",
    "#     opacity=0.1,\n",
    "#     color_continuous_scale=\"inferno\"\n",
    "#     )\n",
    "\n",
    "fig = go.Figure(data=go.Volume(\n",
    "        value=imDataSmall,\n",
    "        opacity=0.1,\n",
    "        surface_count=10,\n",
    "        colorscale=\"inferno\"\n",
    "        ))\n",
    "                \n",
    "fig.show()"
   ]
  },
  {
   "cell_type": "code",
   "execution_count": null,
   "metadata": {},
   "outputs": [],
   "source": []
  }
 ],
 "metadata": {
  "kernelspec": {
   "display_name": "Python 3 (ipykernel)",
   "language": "python",
   "name": "python3"
  },
  "language_info": {
   "codemirror_mode": {
    "name": "ipython",
    "version": 3
   },
   "file_extension": ".py",
   "mimetype": "text/x-python",
   "name": "python",
   "nbconvert_exporter": "python",
   "pygments_lexer": "ipython3",
   "version": "3.10.8"
  }
 },
 "nbformat": 4,
 "nbformat_minor": 1
}
