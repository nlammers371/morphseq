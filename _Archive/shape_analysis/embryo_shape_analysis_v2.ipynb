{
 "cells": [
  {
   "cell_type": "markdown",
   "metadata": {},
   "source": [
    "# Experiment with extracting shape info from confocal images of fish embryos"
   ]
  },
  {
   "cell_type": "code",
   "execution_count": null,
   "metadata": {},
   "outputs": [],
   "source": [
    "from aicsimageio import AICSImage\n",
    "import os \n",
    "import glob2 as glob\n",
    "\n",
    "# define path to image\n",
    "image_name = \"2024_StayGold_10x_s018_T0\"\n",
    "read_path = \"/Users/nick/Dropbox (Cole Trapnell's Lab)/Nick/morphSeq/data/yx1_samples/20230412/\"\n",
    "\n",
    "image_path = read_path + image_name + \".ome.tif\"\n",
    "\n",
    "# set path to segmentation\n",
    "seg_path = \"/Users/nick/Dropbox (Cole Trapnell's Lab)/Nick/morphSeq/data/20230412/seg_24hpf_classifier/\"\n",
    "\n",
    "# set save path\n",
    "pcd_path = \"/Users/nick/Dropbox (Cole Trapnell's Lab)/Nick/morphSeq/data/yx1_pcd/20230412/\"\n",
    "\n",
    "# make save directory\n",
    "if not os.path.isdir(pcd_path):\n",
    "    os.makedirs(pcd_path)\n",
    "\n",
    "# get list of segmentation files\n",
    "seg_list = sorted(glob.glob(seg_path + \"*.tif\"))\n",
    "\n",
    "# set time points\n",
    "time_ind = 0\n",
    "labelObject = AICSImage(seg_list[time_ind])\n"
   ]
  },
  {
   "cell_type": "code",
   "execution_count": null,
   "metadata": {},
   "outputs": [],
   "source": [
    "import plotly.graph_objects as go\n",
    "from skimage.morphology import (erosion, dilation, opening, closing, white_tophat)\n",
    "import plotly.express as px\n",
    "from skimage import data\n",
    "from skimage import filters\n",
    "from skimage.segmentation import active_contour\n",
    "import matplotlib.pyplot as plt\n",
    "from skimage.measure import label, regionprops\n",
    "from skimage.morphology import black_tophat, skeletonize, convex_hull_image \n",
    "from skimage.morphology import disk\n",
    "import skimage\n",
    "import scipy\n",
    "import numpy as np\n",
    "\n",
    "# get resolution\n",
    "res_raw = labelObject.physical_pixel_sizes\n",
    "res_array = np.asarray(res_raw)\n",
    "res_array = np.insert(res_array, 0, 1)\n",
    "pixel_size_z = 20#res_array[1]\n",
    "pixel_size_x = 1#res_array[2]\n",
    "pixel_size_y = 1#res_array[3]\n",
    "\n",
    "# extract raw image\n",
    "labelData = np.squeeze(labelObject.data)\n",
    "\n",
    "# resize image such that voxels are isotropic\n",
    "z_rs_factor = pixel_size_z/pixel_size_x\n",
    "ds_factor = 4\n",
    "pixel_size_new = pixel_size_x / ds_factor\n",
    "labelData_rs = scipy.ndimage.zoom(labelData, [z_rs_factor/ds_factor, 1/ds_factor, 1/ds_factor])\n",
    "\n",
    "labelDataBin = labelData_rs>0\n",
    "\n",
    "keep_indices = np.where(labelDataBin ==1)\n",
    "\n",
    "z_grid3, y_grid3, x_grid3 = np.meshgrid(range(0, labelDataBin.shape[0]), \n",
    "                                        range(0, labelDataBin.shape[1]), \n",
    "                                        range(0, labelDataBin.shape[2]),\n",
    "                                       indexing=\"ij\")\n",
    "\n",
    "# # calculate position of max point for each\n",
    "x_surf3 = x_grid3[keep_indices]\n",
    "y_surf3 = y_grid3[keep_indices]\n",
    "z_surf3 = z_grid3[keep_indices]\n"
   ]
  },
  {
   "cell_type": "code",
   "execution_count": null,
   "metadata": {},
   "outputs": [],
   "source": [
    "# vizualise\n",
    "max_z_project = np.max(labelDataBin, axis=0)\n",
    "max_z_plane = np.divide(np.sum(np.multiply(labelDataBin,z_grid3), axis=0), np.sum(labelDataBin, axis=0))\n",
    "max_z_plane = max_z_plane.astype(float)\n",
    "max_z_plane[np.where(max_z_project==0)] = np.nan\n",
    "\n",
    "plt.imshow(max_z_plane)"
   ]
  },
  {
   "cell_type": "markdown",
   "metadata": {},
   "source": [
    "Attempt to infer a surface using marching cubes"
   ]
  },
  {
   "cell_type": "markdown",
   "metadata": {},
   "source": [
    "**Can we use linear interpolation to fill label gaps?**"
   ]
  },
  {
   "cell_type": "code",
   "execution_count": null,
   "metadata": {},
   "outputs": [],
   "source": [
    "from skimage.morphology import disk\n",
    "from skimage.morphology import (erosion, dilation, opening, closing,  # noqa\n",
    "                                white_tophat)\n",
    "\n",
    "# first, generate 3D mask to identify interior pixels that we wish to interpolate\n",
    "fish_mask = (np.max(labelDataBin, axis=0) == 1)*1\n",
    "\n",
    "# use morphological closure operation to fill in shape\n",
    "footprint = disk(13)\n",
    "fp_small = disk(2)\n",
    "fish_closed = closing(fish_mask > 0, footprint)\n",
    "fish_clean = skimage.morphology.remove_small_objects(label(fish_closed), min_size=64)\n",
    "fish_eroded = skimage.morphology.binary_erosion(fish_clean, fp_small)\n",
    "# plt.imshow(fish_mask)\n",
    "plt.imshow(fish_clean)"
   ]
  },
  {
   "cell_type": "markdown",
   "metadata": {},
   "source": [
    "Use known z label locations to interpolate missing ones"
   ]
  },
  {
   "cell_type": "code",
   "execution_count": null,
   "metadata": {},
   "outputs": [],
   "source": [
    "from scipy.interpolate import LinearNDInterpolator\n",
    "\n",
    "y_grid2, x_grid2 = np.meshgrid(\n",
    "                                range(0, max_z_plane.shape[0]), \n",
    "                                range(0, max_z_plane.shape[1]),\n",
    "                                indexing=\"ij\")\n",
    "\n",
    "x_flat = x_grid2.flatten()\n",
    "y_flat = y_grid2.flatten()\n",
    "\n",
    "# generate diplacement vectors\n",
    "max_z_plane_vals = max_z_plane.flatten()\n",
    "mask_flat = (fish_clean.flatten() > 0)*1\n",
    "mask_er = (fish_eroded.flatten() > 0)*1\n",
    "\n",
    "ref_x = x_flat[np.where((~np.isnan(max_z_plane_vals)) & (mask_flat==1))]\n",
    "ref_y = y_flat[np.where((~np.isnan(max_z_plane_vals)) & (mask_flat==1))]\n",
    "ref_z = max_z_plane_vals[np.where((~np.isnan(max_z_plane_vals)) & (mask_flat==1))]\n",
    "\n",
    "query_x = x_flat[np.where(mask_flat==1)]\n",
    "query_y = y_flat[np.where(mask_flat==1)]\n",
    "query_x_er = x_flat[np.where(mask_er==1)]\n",
    "query_y_er = y_flat[np.where(mask_er==1)]\n",
    "\n",
    "# interpolate\n",
    "interp_z = LinearNDInterpolator(list(zip(ref_x, ref_y)), ref_z)\n",
    "query_z = interp_z(query_x, query_y)\n",
    "            \n",
    "\n",
    "# disp_x = interp_x(source_xyz_norm[:, 0], source_xyz_norm[:, 1], source_xyz_norm[:, 2])\n",
    "# disp_y = interp_y(source_xyz_norm[:, 0], source_xyz_norm[:, 1], source_xyz_norm[:, 2])\n",
    "# disp_z = interp_z(source_xyz_norm[:, 0], source_xyz_norm[:, 1], source_xyz_norm[:, 2])"
   ]
  },
  {
   "cell_type": "code",
   "execution_count": null,
   "metadata": {},
   "outputs": [],
   "source": [
    "surf_mask_array_raw = np.zeros(labelData_rs.shape)\n",
    "surf_mask_array_raw[np.round(query_z).astype(int), query_y, query_x] = 1\n",
    "\n",
    "surf_mask_array = surf_mask_array_raw.copy() \n",
    "# surf_mask_array[40, query_y_er, query_x_er] = 1\n",
    "\n",
    "plt.imshow(np.argmax(surf_mask_array, axis=0))"
   ]
  },
  {
   "cell_type": "markdown",
   "metadata": {},
   "source": [
    "Maybe alphashape?"
   ]
  },
  {
   "cell_type": "code",
   "execution_count": null,
   "metadata": {},
   "outputs": [],
   "source": [
    "from alphashape import alphashape\n",
    "import open3d as o3d\n",
    "z_flat = query_z#max_z_plane.flatten()\n",
    "plot_x = query_x#[np.where((~np.isnan(max_z_plane_vals) & (mask_flat>0)))]\n",
    "plot_y = query_y#[np.where((~np.isnan(max_z_plane_vals) & (mask_flat>0)))]\n",
    "plot_z = z_flat#[np.where((~np.isnan(max_z_plane_vals) & (mask_flat>0)))]\n",
    "\n",
    "surf_flat = surf_mask_array.flatten()\n",
    "keep_indices = np.where(surf_mask_array>0)\n",
    "# x3 = x_grid3[keep_indices]\n",
    "# y3 = y_grid3[keep_indices]\n",
    "# z3 = z_grid3[keep_indices]\n",
    "# generate smooth bottom\n",
    "base_array = np.empty((len(plot_x), 3))\n",
    "base_array[:, 0] = plot_x\n",
    "base_array[:, 1] = plot_y\n",
    "base_array[:, 2] = plot_z + 10\n",
    "\n",
    "xyz_array3 = np.concatenate((plot_x[:, np.newaxis], plot_y[:, np.newaxis], plot_z[:, np.newaxis]), axis=1)\n",
    "# xyz_array3 = np.concatenate((x_surf3[:, np.newaxis], y_surf3[:, np.newaxis], z_surf3[:, np.newaxis]), axis=1)\n",
    "xyz_array3 = np.concatenate((xyz_array3, base_array), axis=0)\n",
    "xyz_array3_norm = xyz_array3.copy()\n",
    "xyz_array3_norm = xyz_array3_norm / np.max(xyz_array3_norm)\n",
    "\n",
    "print(xyz_array3_norm.shape)\n",
    "\n",
    "pcd = o3d.geometry.PointCloud()\n",
    "pcd.points = o3d.utility.Vector3dVector(xyz_array3_norm)\n",
    "pcd_ds = pcd.voxel_down_sample(voxel_size=0.0001)\n",
    "\n",
    "xyz_ds = np.asarray(pcd_ds.points)\n",
    "print(xyz_ds.shape)\n",
    "alpha_fish = alphashape(xyz_ds, alpha=65)\n",
    "alpha_fish.show()"
   ]
  },
  {
   "cell_type": "code",
   "execution_count": null,
   "metadata": {},
   "outputs": [],
   "source": [
    "import trimesh\n",
    "# trimesh.repair.fill_holes(alpha_fish)\n",
    "# print(test)\n",
    "mesh_out = trimesh.smoothing.filter_taubin(alpha_fish, iterations=10)\n",
    "# mesh_out = trimesh.smoothing.get_vertices_normals(mesh_out)\n",
    "mesh_out.show()\n",
    "print(mesh_out)"
   ]
  },
  {
   "cell_type": "code",
   "execution_count": null,
   "metadata": {},
   "outputs": [],
   "source": [
    "test = trimesh.load_mesh('test_mesh.stl')\n",
    "test.show()"
   ]
  },
  {
   "cell_type": "code",
   "execution_count": null,
   "metadata": {},
   "outputs": [],
   "source": [
    "# smoothed_surface = nppas.smooth_surface_moving_least_squares_2d(e_surf2)\n",
    "# smoothed_surface\n",
    "simplified_surface = nppas.decimate_quadric(e_surf2, fraction=0.1)\n",
    "simplified_surface"
   ]
  },
  {
   "cell_type": "code",
   "execution_count": null,
   "metadata": {},
   "outputs": [],
   "source": [
    "smoothed_surface = nppas.smooth_surface_moving_least_squares_2d(simplified_surface, smoothing_factor=0.2)\n",
    "smoothed_surface"
   ]
  },
  {
   "cell_type": "markdown",
   "metadata": {},
   "source": [
    "Well...let's try a different method"
   ]
  },
  {
   "cell_type": "code",
   "execution_count": null,
   "metadata": {},
   "outputs": [],
   "source": [
    "from skimage.filters import gaussian\n",
    "\n",
    "surf_mask_array_smooth = np.argmax(surf_mask_array_raw.copy(), axis=0)\n",
    "surf_mask_array_smooth[np.where(surf_mask_array_smooth==0)] = 84\n",
    "surf_mask_array_smooth = gaussian(surf_mask_array_smooth, sigma=2, preserve_range=True)\n",
    "plt.imshow(surf_mask_array_smooth)\n",
    "new_z = surf_mask_array_smooth[query_y_er, query_x_er]"
   ]
  },
  {
   "cell_type": "code",
   "execution_count": null,
   "metadata": {},
   "outputs": [],
   "source": [
    "xyz_array = np.concatenate((query_x_er[:, np.newaxis], query_y_er[:, np.newaxis], new_z[:, np.newaxis]), axis=1)\n",
    "\n",
    "base_array = np.empty((len(query_x_er), 3))\n",
    "base_array[:, 0] = query_x_er\n",
    "base_array[:, 1] = query_y_er\n",
    "base_array[:, 2] = new_z + 20\n",
    "\n",
    "# xyz_array3 = np.concatenate((plot_x[:, np.newaxis], plot_y[:, np.newaxis], plot_z[:, np.newaxis]), axis=1)\n",
    "# xyz_array3 = np.concatenate((x_surf3[:, np.newaxis], y_surf3[:, np.newaxis], z_surf3[:, np.newaxis]), axis=1)\n",
    "xyz_array3 = np.concatenate((xyz_array, base_array), axis=0)\n",
    "xyz_array3_norm = xyz_array3.copy()\n",
    "xyz_array3_norm = xyz_array3_norm / np.max(xyz_array3_norm)\n",
    "\n",
    "print(xyz_array3_norm.shape)\n",
    "\n",
    "pcd = o3d.geometry.PointCloud()\n",
    "pcd.points = o3d.utility.Vector3dVector(xyz_array3_norm)\n",
    "pcd_ds = pcd.voxel_down_sample(voxel_size=0.0001)\n",
    "cl, ind = pcd_ds.remove_statistical_outlier(nb_neighbors=20,\n",
    "                                                        std_ratio=2.0)\n",
    "\n",
    "xyz_ds = np.asarray(pcd_ds.points)\n",
    "print(xyz_ds.shape)\n",
    "alpha_fish = alphashape(xyz_ds[ind], alpha=50)\n",
    "alpha_fish.show()"
   ]
  },
  {
   "cell_type": "code",
   "execution_count": null,
   "metadata": {},
   "outputs": [],
   "source": [
    "alpha_fish"
   ]
  },
  {
   "cell_type": "code",
   "execution_count": null,
   "metadata": {},
   "outputs": [],
   "source": [
    "import pyvista as pv\n",
    "import open3d as o3d\n",
    "\n",
    "xyz_array = np.concatenate((query_x_er[:, np.newaxis], query_y_er[:, np.newaxis], new_z[:, np.newaxis]), axis=1)\n",
    "\n",
    "pcd = o3d.geometry.PointCloud()\n",
    "pcd.points = o3d.utility.Vector3dVector(xyz_array)\n",
    "pcd_ds = pcd.voxel_down_sample(voxel_size=1)\n",
    "\n",
    "xyz_ds = np.asarray(pcd_ds.points)\n",
    "pv_cloud = pv.PolyData(xyz_ds)\n",
    "print(xyz_ds.shape)\n",
    "print(xyz_array.shape)\n",
    "\n",
    "\n",
    "alpha = 10\n",
    "dl_3d_mesh = pv_cloud.delaunay_2d(alpha=alpha)\n",
    "# # dl_3d_mesh = alphashape.alphashape(xyz_in, alpha=8)\n",
    "# dl_3d_mesh.fill_holes(200, inplace=True)\n",
    "smooth = dl_3d_mesh.smooth_taubin(n_iter=5000)\n",
    "smooth.plot(jupyter_backend='ipygany', scalars=xyz_ds[:, 2])"
   ]
  },
  {
   "cell_type": "code",
   "execution_count": null,
   "metadata": {},
   "outputs": [],
   "source": [
    "from sklearn.datasets import fetch_openml\n",
    "\n",
    "mnist = fetch_openml('mnist_784', version=1)\n",
    "mnist.target = mnist.target.astype(int)"
   ]
  },
  {
   "cell_type": "code",
   "execution_count": null,
   "metadata": {},
   "outputs": [],
   "source": [
    "(mnist.data.shape)"
   ]
  },
  {
   "cell_type": "code",
   "execution_count": null,
   "metadata": {},
   "outputs": [],
   "source": [
    "nppas.fill_holes_in_surface(smoothed_surface, size_limit=300)"
   ]
  },
  {
   "cell_type": "code",
   "execution_count": null,
   "metadata": {},
   "outputs": [],
   "source": [
    "simplified_surface2 = nppas.decimate_quadric(smoothed_surface, fraction=0.01)\n",
    "simplified_surface2"
   ]
  },
  {
   "cell_type": "markdown",
   "metadata": {},
   "source": [
    "**Let's see if we can fill gaps using linear interpolation**"
   ]
  },
  {
   "cell_type": "code",
   "execution_count": null,
   "metadata": {},
   "outputs": [],
   "source": [
    "from skimage.morphology import disk\n",
    "from skimage.morphology import (erosion, dilation, opening, closing,  # noqa\n",
    "                                white_tophat)\n",
    "\n",
    "# first, generate 3D mask to identify interior pixels that we wish to interpolate\n",
    "fish_mask = (np.max(imDataBin, axis=0) == 1)*1\n",
    "\n",
    "# use morphological closure operation to fill in shape\n",
    "footprint = disk(15)\n",
    "fish_closed = closing(fish_mask, footprint)\n",
    "\n",
    "# plt.imshow(fish_mask)\n",
    "plt.imshow(fish_closed)\n"
   ]
  },
  {
   "cell_type": "code",
   "execution_count": null,
   "metadata": {},
   "outputs": [],
   "source": [
    "from scipy import interpolate\n",
    "\n",
    "# identify \"holes\" for which not a single pixel nonzero exists \n",
    "query_indices = np.where((fish_closed==1) & (fish_mask!=1))[0]\n",
    "ref_indices = np.where(fish_mask==1)[0]\n",
    "print(len(candidate_indices))\n",
    "print(len(ref_indices))\n",
    "\n",
    "f = interpolate.interp2d(xyz_array2[:, 0], xyz_array2[:, 1], xyz_array2[:, 2], kind='linear')\n",
    "x_query = x_grid2[query_indices]\n",
    "y_query = y_grid2[query_indices]\n",
    "z_query = f(x_query, y_query)"
   ]
  },
  {
   "cell_type": "markdown",
   "metadata": {
    "pycharm": {
     "is_executing": true
    }
   },
   "source": [
    "Try fitting to the surface points only"
   ]
  },
  {
   "cell_type": "code",
   "execution_count": null,
   "metadata": {},
   "outputs": [],
   "source": [
    "surf_mask_array = np.zeros(imData_rs.shape)\n",
    "sub_i = np.roll(xyz_array2, 1, axis=1)\n",
    "surf_indices = np.ravel_multi_index((1,2,2), imData_rs.shape)\n",
    "surf_mask_array[xyz_array2[:, 2], xyz_array2[:, 1], xyz_array2[:, 0]] = 1\n",
    "\n",
    "e_surf = nppas.all_labels_to_surface(surf_mask_array)\n",
    "e_surf"
   ]
  },
  {
   "cell_type": "code",
   "execution_count": null,
   "metadata": {},
   "outputs": [],
   "source": [
    "e_surf.__dict__.keys()"
   ]
  },
  {
   "cell_type": "markdown",
   "metadata": {},
   "source": [
    "**Attempt 2:** downsample, interpolate, and then infer mesh"
   ]
  },
  {
   "cell_type": "code",
   "execution_count": null,
   "metadata": {},
   "outputs": [],
   "source": [
    "# import numpy as np\n",
    "# import scipy\n",
    "# from scipy import interpolate\n",
    "\n",
    "\n",
    "# f = interpolate.interp2d(xyz_ds_in[:, 0], xyz_ds_in[:, 1], xyz_ds_in[:, 2], kind='linear')\n"
   ]
  },
  {
   "cell_type": "code",
   "execution_count": null,
   "metadata": {},
   "outputs": [],
   "source": [
    "# npoints = 150\n",
    "# xg = np.linspace(np.min(xyz_ds_in[:, 0]), np.max(xyz_ds_in[:, 0]), npoints)\n",
    "# yg = np.linspace(np.min(xyz_ds_in[:, 1]), np.max(xyz_ds_in[:, 1]), npoints)\n",
    "\n",
    "# x_grid, y_grid = np.meshgrid(xg, yg)\n",
    "\n",
    "# znew = f(xg, yg)\n",
    "\n",
    "# xyz_interp = np.concatenate((np.reshape(x_grid, (x_grid.size, 1)), \n",
    "#                              np.reshape(y_grid, (x_grid.size, 1)),\n",
    "#                              np.reshape(znew, (x_grid.size, 1))),\n",
    "#                              axis=1)\n",
    "\n",
    "# xyz_interp_filt = xyz_interp[np.where(xyz_interp[:, 2]<=350)]\n",
    "# xyz_interp_filt = xyz_interp_filt[xyz_interp_filt[:, 2]>0]\n",
    "# pv_cloud_interp = pv.PolyData(xyz_interp_filt)\n",
    "# pv_cloud_interp.plot(jupyter_backend='ipygany')"
   ]
  },
  {
   "cell_type": "code",
   "execution_count": null,
   "metadata": {},
   "outputs": [],
   "source": []
  }
 ],
 "metadata": {
  "kernelspec": {
   "display_name": "Python 3 (ipykernel)",
   "language": "python",
   "name": "python3"
  },
  "language_info": {
   "codemirror_mode": {
    "name": "ipython",
    "version": 3
   },
   "file_extension": ".py",
   "mimetype": "text/x-python",
   "name": "python",
   "nbconvert_exporter": "python",
   "pygments_lexer": "ipython3",
   "version": "3.10.8"
  }
 },
 "nbformat": 4,
 "nbformat_minor": 1
}
