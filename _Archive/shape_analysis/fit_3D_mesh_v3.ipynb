{
 "cells": [
  {
   "cell_type": "markdown",
   "metadata": {},
   "source": [
    "# Experiment with extracting shape info from confocal images of fish embryos"
   ]
  },
  {
   "cell_type": "code",
   "execution_count": 1,
   "metadata": {},
   "outputs": [
    {
     "ename": "FileNotFoundError",
     "evalue": "file:///Users/nick/Dropbox (Cole Trapnell's Lab)/Nick/morphMap/data/yx1_samples/20230322/RT/1C_LM010_RT_kikume.nd2",
     "output_type": "error",
     "traceback": [
      "\u001B[0;31m---------------------------------------------------------------------------\u001B[0m",
      "\u001B[0;31mFileNotFoundError\u001B[0m                         Traceback (most recent call last)",
      "Cell \u001B[0;32mIn[1], line 15\u001B[0m\n\u001B[1;32m     12\u001B[0m     os\u001B[38;5;241m.\u001B[39mmakedirs(pcd_path)\n\u001B[1;32m     14\u001B[0m \u001B[38;5;66;03m# load image\u001B[39;00m\n\u001B[0;32m---> 15\u001B[0m imObject \u001B[38;5;241m=\u001B[39m \u001B[43mAICSImage\u001B[49m\u001B[43m(\u001B[49m\u001B[43mimage_path\u001B[49m\u001B[43m)\u001B[49m\n",
      "File \u001B[0;32m~/miniforge3/envs/morphseq-env/lib/python3.10/site-packages/aicsimageio/aics_image.py:264\u001B[0m, in \u001B[0;36mAICSImage.__init__\u001B[0;34m(self, image, reader, reconstruct_mosaic, fs_kwargs, **kwargs)\u001B[0m\n\u001B[1;32m    254\u001B[0m \u001B[38;5;28;01mdef\u001B[39;00m \u001B[38;5;21m__init__\u001B[39m(\n\u001B[1;32m    255\u001B[0m     \u001B[38;5;28mself\u001B[39m,\n\u001B[1;32m    256\u001B[0m     image: types\u001B[38;5;241m.\u001B[39mImageLike,\n\u001B[0;32m   (...)\u001B[0m\n\u001B[1;32m    260\u001B[0m     \u001B[38;5;241m*\u001B[39m\u001B[38;5;241m*\u001B[39mkwargs: Any,\n\u001B[1;32m    261\u001B[0m ):\n\u001B[1;32m    262\u001B[0m     \u001B[38;5;28;01mif\u001B[39;00m reader \u001B[38;5;129;01mis\u001B[39;00m \u001B[38;5;28;01mNone\u001B[39;00m:\n\u001B[1;32m    263\u001B[0m         \u001B[38;5;66;03m# Determine reader class and create dask delayed array\u001B[39;00m\n\u001B[0;32m--> 264\u001B[0m         ReaderClass \u001B[38;5;241m=\u001B[39m \u001B[38;5;28;43mself\u001B[39;49m\u001B[38;5;241;43m.\u001B[39;49m\u001B[43mdetermine_reader\u001B[49m\u001B[43m(\u001B[49m\u001B[43mimage\u001B[49m\u001B[43m,\u001B[49m\u001B[43m \u001B[49m\u001B[43mfs_kwargs\u001B[49m\u001B[38;5;241;43m=\u001B[39;49m\u001B[43mfs_kwargs\u001B[49m\u001B[43m,\u001B[49m\u001B[43m \u001B[49m\u001B[38;5;241;43m*\u001B[39;49m\u001B[38;5;241;43m*\u001B[39;49m\u001B[43mkwargs\u001B[49m\u001B[43m)\u001B[49m\n\u001B[1;32m    265\u001B[0m     \u001B[38;5;28;01melse\u001B[39;00m:\n\u001B[1;32m    266\u001B[0m         \u001B[38;5;66;03m# Init reader\u001B[39;00m\n\u001B[1;32m    267\u001B[0m         ReaderClass \u001B[38;5;241m=\u001B[39m reader\n",
      "File \u001B[0;32m~/miniforge3/envs/morphseq-env/lib/python3.10/site-packages/aicsimageio/aics_image.py:176\u001B[0m, in \u001B[0;36mAICSImage.determine_reader\u001B[0;34m(image, fs_kwargs, **kwargs)\u001B[0m\n\u001B[1;32m    174\u001B[0m \u001B[38;5;66;03m# Try reader detection based off of file path extension\u001B[39;00m\n\u001B[1;32m    175\u001B[0m \u001B[38;5;28;01mif\u001B[39;00m \u001B[38;5;28misinstance\u001B[39m(image, (\u001B[38;5;28mstr\u001B[39m, Path)):\n\u001B[0;32m--> 176\u001B[0m     _, path \u001B[38;5;241m=\u001B[39m \u001B[43mpathlike_to_fs\u001B[49m\u001B[43m(\u001B[49m\u001B[43mimage\u001B[49m\u001B[43m,\u001B[49m\u001B[43m \u001B[49m\u001B[43menforce_exists\u001B[49m\u001B[38;5;241;43m=\u001B[39;49m\u001B[38;5;28;43;01mTrue\u001B[39;49;00m\u001B[43m,\u001B[49m\u001B[43m \u001B[49m\u001B[43mfs_kwargs\u001B[49m\u001B[38;5;241;43m=\u001B[39;49m\u001B[43mfs_kwargs\u001B[49m\u001B[43m)\u001B[49m\n\u001B[1;32m    178\u001B[0m     \u001B[38;5;66;03m# Check for extension in FORMAT_IMPLEMENTATIONS\u001B[39;00m\n\u001B[1;32m    179\u001B[0m     \u001B[38;5;28;01mfor\u001B[39;00m format_ext, readers \u001B[38;5;129;01min\u001B[39;00m FORMAT_IMPLEMENTATIONS\u001B[38;5;241m.\u001B[39mitems():\n",
      "File \u001B[0;32m~/miniforge3/envs/morphseq-env/lib/python3.10/site-packages/aicsimageio/utils/io_utils.py:56\u001B[0m, in \u001B[0;36mpathlike_to_fs\u001B[0;34m(uri, enforce_exists, fs_kwargs)\u001B[0m\n\u001B[1;32m     54\u001B[0m \u001B[38;5;28;01mif\u001B[39;00m enforce_exists:\n\u001B[1;32m     55\u001B[0m     \u001B[38;5;28;01mif\u001B[39;00m \u001B[38;5;129;01mnot\u001B[39;00m fs\u001B[38;5;241m.\u001B[39mexists(path):\n\u001B[0;32m---> 56\u001B[0m         \u001B[38;5;28;01mraise\u001B[39;00m \u001B[38;5;167;01mFileNotFoundError\u001B[39;00m(\u001B[38;5;124mf\u001B[39m\u001B[38;5;124m\"\u001B[39m\u001B[38;5;132;01m{\u001B[39;00mfs\u001B[38;5;241m.\u001B[39mprotocol\u001B[38;5;132;01m}\u001B[39;00m\u001B[38;5;124m://\u001B[39m\u001B[38;5;132;01m{\u001B[39;00mpath\u001B[38;5;132;01m}\u001B[39;00m\u001B[38;5;124m\"\u001B[39m)\n\u001B[1;32m     58\u001B[0m \u001B[38;5;66;03m# Get and store details\u001B[39;00m\n\u001B[1;32m     59\u001B[0m \u001B[38;5;66;03m# We do not return an AbstractBufferedFile (i.e. fs.open) as we do not want to have\u001B[39;00m\n\u001B[1;32m     60\u001B[0m \u001B[38;5;66;03m# any open file buffers _after_ any API call. API calls must themselves call\u001B[39;00m\n\u001B[1;32m     61\u001B[0m \u001B[38;5;66;03m# fs.open and complete their function during the context of the opened buffer.\u001B[39;00m\n\u001B[1;32m     62\u001B[0m \u001B[38;5;28;01mreturn\u001B[39;00m fs, path\n",
      "\u001B[0;31mFileNotFoundError\u001B[0m: file:///Users/nick/Dropbox (Cole Trapnell's Lab)/Nick/morphMap/data/yx1_samples/20230322/RT/1C_LM010_RT_kikume.nd2"
     ]
    }
   ],
   "source": [
    "from aicsimageio import AICSImage\n",
    "import os \n",
    "\n",
    "# define save paths\n",
    "image_name = \"1C_LM010_RT_kikume\"\n",
    "read_path = \"/Users/nick/Dropbox (Cole Trapnell's Lab)/Nick/morphMap/data/yx1_samples/20230322/RT/\"\n",
    "image_path = read_path + image_name + \".nd2\"\n",
    "pcd_path = \"/Users/nick/Dropbox (Cole Trapnell's Lab)/Nick/morphMap/data/yx1_pcd/20230322/RT/\"\n",
    "\n",
    "# make save directory\n",
    "if not os.path.isdir(pcd_path):\n",
    "    os.makedirs(pcd_path)\n",
    "\n",
    "# load image\n",
    "imObject = AICSImage(image_path)"
   ]
  },
  {
   "cell_type": "code",
   "execution_count": null,
   "metadata": {},
   "outputs": [],
   "source": [
    "# upsample along z axis\n",
    "import scipy\n",
    "import numpy as np\n",
    "\n",
    "# get resolution\n",
    "res_raw = imObject.physical_pixel_sizes\n",
    "res_array = np.asarray(res_raw)\n",
    "res_array = np.insert(res_array, 0, 1)\n",
    "pixel_size_z = res_array[1]\n",
    "pixel_size_x = res_array[2]\n",
    "pixel_size_y = res_array[3]\n",
    "\n",
    "# extract raw image\n",
    "imData = np.squeeze(imObject.data)\n",
    "\n",
    "# resize image such that voxels are isotropic\n",
    "z_rs_factor = pixel_size_z/pixel_size_x\n",
    "ds_factor = 2\n",
    "pixel_size_new = pixel_size_x / ds_factor\n",
    "imData_rs = scipy.ndimage.zoom(imData, [z_rs_factor/ds_factor, 1/ds_factor, 1/ds_factor])"
   ]
  },
  {
   "cell_type": "markdown",
   "metadata": {},
   "source": [
    "## Step1: segment 2D region that contains the embryo"
   ]
  },
  {
   "cell_type": "code",
   "execution_count": null,
   "metadata": {},
   "outputs": [],
   "source": [
    "import plotly.graph_objects as go\n",
    "from skimage.morphology import (erosion, dilation, opening, closing,  # noqa\n",
    "                                white_tophat)\n",
    "import plotly.express as px\n",
    "from skimage import data\n",
    "from skimage import filters\n",
    "from skimage.segmentation import active_contour\n",
    "import matplotlib.pyplot as plt\n",
    "from skimage.measure import label, regionprops\n",
    "from skimage.morphology import black_tophat, skeletonize, convex_hull_image \n",
    "from skimage.morphology import disk\n",
    "import skimage\n",
    "\n",
    "# find brightest pixel\n",
    "max_pos_z = np.argmax(imData_rs, axis=0)\n",
    "max_brightness_z = np.max(imData_rs, axis=0)\n",
    "\n",
    "# Calculate threshold\n",
    "# threshold_ni = filters.threshold_niblack(max_brightness_z, window_size=51)\n",
    "# threshold_ot = filters.threshold_otsu(max_brightness_z)\n",
    "threshold_sa = filters.threshold_sauvola(max_brightness_z, window_size=11)\n",
    "\n",
    "# this should result in a sparse cloud of white regions that jointly define the embryo body\n",
    "fish_mask = (max_brightness_z < threshold_sa)*1\n",
    "\n",
    "# use morphological closure operation to fill in shape\n",
    "footprint = disk(13)\n",
    "fish_closed = closing(fish_mask, footprint)\n",
    "\n",
    "# remove small objects \n",
    "fish_strip = skimage.morphology.remove_small_objects(label(fish_closed), min_size=64)\n",
    "\n",
    "# erode to\n",
    "fish_clean = skimage.morphology.binary_erosion(fish_strip, footprint)\n",
    "                   \n",
    "# generate x and y reference grids\n",
    "x_grid, y_grid = np.meshgrid(range(0, imData_rs.shape[2]), range(0, imData_rs.shape[1]))\n",
    "# x_points = x_grid[np.where(fish_clean==1)]\n",
    "# y_points = y_grid[np.where(fish_clean==1)]\n",
    "# xy_in = np.concatenate((np.reshape(x_points, (x_points.size, 1)), \n",
    "#                         np.reshape(y_points, (y_points.size, 1))), axis=1)\n",
    "# # xy_in = [(x_points[i], y_points[i]) for i in range(x_points.size)]\n",
    "\n",
    "# fig = px.scatter(x=xy_in[:, 0], \n",
    "#                  y=xy_in[:, 1])\n",
    "\n",
    "# fig.show()\n",
    "plt.imshow(fish_clean)\n"
   ]
  },
  {
   "cell_type": "markdown",
   "metadata": {},
   "source": [
    "**Apply 2D mask to the full 3D image.** Then, apply thresholding to find the first \"inside\" pixel in each xy column"
   ]
  },
  {
   "cell_type": "code",
   "execution_count": null,
   "metadata": {},
   "outputs": [],
   "source": [
    "# # calculate pixel-specific thresholds \n",
    "# threshold_3D_sa = filters.threshold_niblack(imData_rs, window_size=51)\n",
    "# imData_thresh = (imData_rs > threshold_3D_sa)*1\n",
    "\n",
    "# # apply mask\n",
    "# imData_masked = np.multiply(fish_clean, imData_thresh)\n",
    "\n",
    "# plt.imshow(imData_masked[20, :, :])"
   ]
  },
  {
   "cell_type": "code",
   "execution_count": null,
   "metadata": {},
   "outputs": [],
   "source": [
    "# generate final 2D mask that dictates which mixels are and are not counted\n",
    "threshold_sa_2 = filters.threshold_sauvola(max_brightness_z, window_size=11)\n",
    "# bkd = np.percentile(max_brightness_z[np.where(fish_clean != 1)], 99)\n",
    "imData2D_thresh = (max_brightness_z > threshold_sa_2)*1\n",
    "imData2D_masked = np.multiply(fish_clean, imData2D_thresh)\n",
    "# footprint_small = disk(1)\n",
    "# imData2D_masked = skimage.morphology.binary_erosion(imData2D_masked, footprint_small)\n",
    "plt.imshow(imData2D_masked)"
   ]
  },
  {
   "cell_type": "code",
   "execution_count": null,
   "metadata": {},
   "outputs": [],
   "source": [
    "import pyvista as pv\n",
    "import open3d as o3d\n",
    "\n",
    "# calculate position of max point for each\n",
    "x_surf = x_grid[np.where(imData2D_masked==1)]*pixel_size_new\n",
    "y_surf = y_grid[np.where(imData2D_masked==1)]*pixel_size_new\n",
    "z_surf = max_pos_z[np.where(imData2D_masked==1)]*pixel_size_new\n",
    "i_surf = max_brightness_z[np.where(imData2D_masked==1)]*pixel_size_new\n",
    "\n",
    "n_samples = x_surf.size\n",
    "xyz_array = np.concatenate((np.reshape(x_surf, (n_samples, 1)),\n",
    "                            np.reshape(y_surf, (n_samples, 1)),\n",
    "                            np.reshape(z_surf, (n_samples, 1))), axis=1)\n",
    "\n",
    "\n",
    "# Pass xyz to Open3D.o3d.geometry.PointCloud and visualize\n",
    "pcd = o3d.geometry.PointCloud()\n",
    "pcd.points = o3d.utility.Vector3dVector(xyz_array)\n",
    "o3d.io.write_point_cloud(pcd_path + image_name + \"_full.ply\", pcd)\n",
    "\n",
    "# plot\n",
    "pv_cloud = pv.PolyData(np.asarray(pcd.points))\n",
    "pv_cloud.plot(jupyter_backend='ipygany', scalars=i_surf)"
   ]
  },
  {
   "cell_type": "markdown",
   "metadata": {
    "pycharm": {
     "is_executing": true
    }
   },
   "source": [
    "**Remove outlier points** "
   ]
  },
  {
   "cell_type": "code",
   "execution_count": null,
   "metadata": {},
   "outputs": [],
   "source": [
    "cl, ind = pcd.remove_statistical_outlier(nb_neighbors=20, std_ratio=1.5)\n",
    "\n",
    "xyz_out = np.delete(xyz_array, ind, axis=0)\n",
    "xyz_in = xyz_array[ind]\n",
    "\n",
    "pcd_in = o3d.geometry.PointCloud()\n",
    "pcd_in.points = o3d.utility.Vector3dVector(xyz_in)\n",
    "\n",
    "pcd_out = o3d.geometry.PointCloud()\n",
    "pcd_out.points = o3d.utility.Vector3dVector(xyz_out)\n",
    "\n",
    "pv_cloud_out = pv.PolyData(xyz_out)\n",
    "pv_cloud_in = pv.PolyData(xyz_in)\n",
    "pv_cloud_in.plot(jupyter_backend='ipygany', scalars=xyz_in[:, 2])"
   ]
  },
  {
   "cell_type": "markdown",
   "metadata": {},
   "source": [
    "**Downsample**"
   ]
  },
  {
   "cell_type": "code",
   "execution_count": null,
   "metadata": {},
   "outputs": [],
   "source": [
    "vx_size = 7\n",
    "pcd_down = pcd_in.voxel_down_sample(voxel_size=vx_size)\n",
    "xyz_down = np.asarray(pcd_down.points)\n",
    "pv_down = pv.PolyData(xyz_down)\n",
    "pv_down.plot(show_edges=True, jupyter_backend='ipygany')"
   ]
  },
  {
   "cell_type": "markdown",
   "metadata": {
    "pycharm": {
     "is_executing": true
    }
   },
   "source": [
    "**Attempt rough meshing with \"raw\" points.** "
   ]
  },
  {
   "cell_type": "code",
   "execution_count": null,
   "metadata": {},
   "outputs": [],
   "source": [
    "# Attempt with delaunay 2d algorithm\n",
    "alpha = 20\n",
    "dl_3d_mesh = pv_down.delaunay_2d(alpha=alpha)\n",
    "# dl_3d_mesh = alphashape.alphashape(xyz_in, alpha=8)\n",
    "dl_3d_mesh.fill_holes(200, inplace=True)\n",
    "smooth = dl_3d_mesh.smooth_taubin(n_iter=25, pass_band=0.3)\n",
    "# smooth.plot(show_edges=True, jupyter_backend='ipygany')\n",
    "smooth.plot(show_edges=True, jupyter_backend='ipygany')"
   ]
  },
  {
   "cell_type": "code",
   "execution_count": null,
   "metadata": {},
   "outputs": [],
   "source": [
    "# fig = go.Figure()\n",
    "\n",
    "# fig.add_trace(go.Mesh3d(x=xyz_in[:, 0], y=xyz_in[:, 1], z=xyz_in[:, 2],\n",
    "#                                     alphahull=9,\n",
    "#                                     opacity=0.25,\n",
    "#                                     color='gray'))\n",
    "\n",
    "# fig.show()"
   ]
  },
  {
   "cell_type": "code",
   "execution_count": null,
   "metadata": {},
   "outputs": [],
   "source": [
    "# dl_3d_mesh_test = dl_3d_mesh.extract_geometry()\n",
    "# smooth = dl_3d_mesh_test.smooth(n_iter=10000)\n",
    "# smooth.plot(show_edges=True, jupyter_backend='ipygany')"
   ]
  },
  {
   "cell_type": "markdown",
   "metadata": {},
   "source": [
    "**Experiment with Gaussian Process Regression as a way to smooth and interpolate the data prior to meshing**"
   ]
  },
  {
   "cell_type": "code",
   "execution_count": null,
   "metadata": {},
   "outputs": [],
   "source": [
    "# from sklearn.gaussian_process import GaussianProcessRegressor\n",
    "# from sklearn.gaussian_process.kernels import RBF\n",
    "\n",
    "# # downsample\n",
    "# pcd_down = pcd_in.voxel_down_sample(voxel_size=7)\n",
    "# xyz_down = np.asarray(pcd_down.points)\n",
    "# print(np.asarray(pcd_down.points).shape)\n",
    "\n",
    "# # fit model\n",
    "# scale = 2\n",
    "# gp = GaussianProcessRegressor(kernel=RBF(scale, (1e-5, 1e5)))\n",
    "# gp.fit(xyz_down[:,0:2], xyz_down[:,2])  \n",
    "\n"
   ]
  },
  {
   "cell_type": "code",
   "execution_count": null,
   "metadata": {},
   "outputs": [],
   "source": [
    "# # xyz_pd = np.concatenate((xy_in, z_pd), axis=1)\n",
    "# # get prediction\n",
    "# pd_grid_res = 75\n",
    "# x_pd = np.linspace(np.min(xyz_down[:, 0]), np.max(xyz_down[:, 0]), pd_grid_res)\n",
    "# y_pd = np.linspace(np.min(xyz_down[:, 1]), np.max(xyz_down[:, 1]), pd_grid_res)\n",
    "\n",
    "# xg_pd, yg_pd = np.meshgrid(x_pd, y_pd)\n",
    "\n",
    "# xy_in = np.concatenate((np.reshape(xg_pd, (xg_pd.size, 1)),np.reshape(yg_pd, (yg_pd.size, 1))), axis=1)\n",
    "# z_pd = gp.predict(xy_in)\n",
    "\n",
    "# fig = px.scatter_3d(x=xy_in[:, 0], \n",
    "#                     y=xy_in[:, 1],\n",
    "#                     z=z_pd,\n",
    "#                     opacity=0.2,\n",
    "#                    color = z_pd)\n",
    "\n",
    "# fig.update_layout(scene=dict(zaxis=dict(range=[0.2,150])))\n",
    "# fig.show()"
   ]
  },
  {
   "cell_type": "code",
   "execution_count": null,
   "metadata": {},
   "outputs": [],
   "source": [
    "# from pymeshfix import _meshfix\n",
    "\n",
    "# dl_3d_geom = dl_3d_mesh.extract_geometry()\n",
    "# dl_3d_geom.save(pv_mesh_name)\n",
    "\n",
    "\n",
    "# # tin = _meshfix.PyTMesh()\n",
    "# # tin.load_file(pv_mesh_name)\n",
    "\n",
    "# # fix_size = 200\n",
    "# # tin.fill_small_boundaries(nbe=fix_size, refine=True)\n",
    "\n",
    "# # # convert to mesh\n",
    "# # vert, faces = tin.return_arrays()\n",
    "# # triangles = np.empty((faces.shape[0], 4), dtype=faces.dtype)\n",
    "# # triangles[:, -3:] = faces\n",
    "# # triangles[:, 0] = 3\n",
    "\n",
    "# # surf_fix = pv.PolyData(vert, triangles)\n",
    "# dl_3d_geom.plot(show_edges=False, jupyter_backend='ipygany')"
   ]
  },
  {
   "cell_type": "code",
   "execution_count": null,
   "metadata": {},
   "outputs": [],
   "source": [
    "# surf_fix.plot(show_edges=False, jupyter_backend='panel')"
   ]
  },
  {
   "cell_type": "markdown",
   "metadata": {
    "pycharm": {
     "is_executing": true
    }
   },
   "source": [
    "This captures gross morphological features, but we give up a lot of xy resolution. How could we do better?\n",
    "\n",
    "**Attempt 1:** fit spline along z direction"
   ]
  },
  {
   "cell_type": "code",
   "execution_count": null,
   "metadata": {},
   "outputs": [],
   "source": [
    "# import scipy\n",
    "\n",
    "# test = scipy.interpolate.bisplrep(xyz_ds_in[:, 0], xyz_ds_in[:, 1], xyz_ds_in[:, 2])"
   ]
  },
  {
   "cell_type": "code",
   "execution_count": null,
   "metadata": {},
   "outputs": [],
   "source": [
    "# npoints = 50\n",
    "# xg = np.linspace(np.min(xyz_ds_in[:, 0]), np.max(xyz_ds_in[:, 0]), npoints)\n",
    "# yg = np.linspace(np.min(xyz_ds_in[:, 1]), np.max(xyz_ds_in[:, 1]), npoints)\n",
    "\n",
    "# x_grid, y_grid = np.meshgrid(xg, yg)\n",
    "# test_out = scipy.interpolate.bisplev(xg, yg, test, dx=0, dy=0)\n",
    "\n",
    "\n",
    "# xyz_interp = np.concatenate((np.reshape(x_grid, (x_grid.size, 1)), \n",
    "#                              np.reshape(y_grid, (x_grid.size, 1)),\n",
    "#                              np.reshape(test_out, (x_grid.size, 1))),\n",
    "#                              axis=1)\n",
    "\n",
    "# xyz_interp_filt = xyz_interp[np.where(xyz_interp[:, 2]<=350)]\n",
    "# xyz_interp_filt = xyz_interp_filt[xyz_interp_filt[:, 2]>=0]\n",
    "# # pcd_interp = o3d.geometry.PointCloud()\n",
    "# # pcd_interp.points = o3d.utility.Vector3dVector(xyz_interp)\n",
    "# # bbox = pcd_ds.get_axis_aligned_bounding_box()\n",
    "# # pcd_interp_crop = pcd_interp.crop(bbox)\n",
    "\n",
    "# pv_cloud_interp = pv.PolyData(xyz_interp_filt)\n",
    "# pv_cloud_interp.plot(jupyter_backend='ipygany')"
   ]
  },
  {
   "cell_type": "markdown",
   "metadata": {},
   "source": [
    "**Attempt 2:** downsample, interpolate, and then infer mesh"
   ]
  },
  {
   "cell_type": "code",
   "execution_count": null,
   "metadata": {},
   "outputs": [],
   "source": [
    "# import numpy as np\n",
    "# import scipy\n",
    "# from scipy import interpolate\n",
    "\n",
    "\n",
    "# f = interpolate.interp2d(xyz_ds_in[:, 0], xyz_ds_in[:, 1], xyz_ds_in[:, 2], kind='linear')\n"
   ]
  },
  {
   "cell_type": "code",
   "execution_count": null,
   "metadata": {},
   "outputs": [],
   "source": [
    "# npoints = 150\n",
    "# xg = np.linspace(np.min(xyz_ds_in[:, 0]), np.max(xyz_ds_in[:, 0]), npoints)\n",
    "# yg = np.linspace(np.min(xyz_ds_in[:, 1]), np.max(xyz_ds_in[:, 1]), npoints)\n",
    "\n",
    "# x_grid, y_grid = np.meshgrid(xg, yg)\n",
    "\n",
    "# znew = f(xg, yg)\n",
    "\n",
    "# xyz_interp = np.concatenate((np.reshape(x_grid, (x_grid.size, 1)), \n",
    "#                              np.reshape(y_grid, (x_grid.size, 1)),\n",
    "#                              np.reshape(znew, (x_grid.size, 1))),\n",
    "#                              axis=1)\n",
    "\n",
    "# xyz_interp_filt = xyz_interp[np.where(xyz_interp[:, 2]<=350)]\n",
    "# xyz_interp_filt = xyz_interp_filt[xyz_interp_filt[:, 2]>0]\n",
    "# pv_cloud_interp = pv.PolyData(xyz_interp_filt)\n",
    "# pv_cloud_interp.plot(jupyter_backend='ipygany')"
   ]
  },
  {
   "cell_type": "code",
   "execution_count": null,
   "metadata": {},
   "outputs": [],
   "source": []
  }
 ],
 "metadata": {
  "kernelspec": {
   "display_name": "Python 3 (ipykernel)",
   "language": "python",
   "name": "python3"
  },
  "language_info": {
   "codemirror_mode": {
    "name": "ipython",
    "version": 3
   },
   "file_extension": ".py",
   "mimetype": "text/x-python",
   "name": "python",
   "nbconvert_exporter": "python",
   "pygments_lexer": "ipython3",
   "version": "3.10.8"
  }
 },
 "nbformat": 4,
 "nbformat_minor": 1
}
