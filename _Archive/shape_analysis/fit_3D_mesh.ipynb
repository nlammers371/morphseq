{
 "cells": [
  {
   "cell_type": "markdown",
   "metadata": {},
   "source": [
    "# Experiment with extracting shape info from confocal images of fish embryos"
   ]
  },
  {
   "cell_type": "code",
   "execution_count": null,
   "metadata": {},
   "outputs": [],
   "source": [
    "from aicsimageio import AICSImage\n",
    "import os \n",
    "\n",
    "# define save paths\n",
    "image_name = \"1A_LM010_RT_kikume\"\n",
    "read_path = \"/Users/nick/Dropbox (Cole Trapnell's Lab)/Nick/morphMap/data/yx1_samples/20230322/RT/\"\n",
    "image_path = read_path + image_name + \".nd2\"\n",
    "pcd_path = \"/Users/nick/Dropbox (Cole Trapnell's Lab)/Nick/morphMap/data/yx1_pcd/20230322/RT/\"\n",
    "\n",
    "# make save directory\n",
    "if not os.path.isdir(pcd_path):\n",
    "    os.makedirs(pcd_path)\n",
    "\n",
    "# load image\n",
    "imObject = AICSImage(image_path)"
   ]
  },
  {
   "cell_type": "code",
   "execution_count": null,
   "metadata": {},
   "outputs": [],
   "source": [
    "# upsample along z axis\n",
    "import scipy\n",
    "import numpy as np\n",
    "\n",
    "# get resolution\n",
    "res_raw = imObject.physical_pixel_sizes\n",
    "res_array = np.asarray(res_raw)\n",
    "res_array = np.insert(res_array, 0, 1)\n",
    "pixel_size_z = res_array[1]\n",
    "pixel_size_x = res_array[2]\n",
    "pixel_size_y = res_array[3]\n",
    "\n",
    "# extract raw image\n",
    "imData = np.squeeze(imObject.data)\n",
    "\n",
    "z_rs_factor = pixel_size_z/pixel_size_x\n",
    "print(z_rs_factor)\n",
    "\n",
    "ds_factor = 2\n",
    "pixel_size_new = pixel_size_x / ds_factor\n",
    "imData_rs = scipy.ndimage.zoom(imData, [z_rs_factor/ds_factor, 1/ds_factor, 1/ds_factor])"
   ]
  },
  {
   "cell_type": "markdown",
   "metadata": {},
   "source": [
    "# Step1: obtain rough \"surface prior\"\n",
    "For each xy coordinate in image, determine whether it contains \"inside\" pixels. Then, find the surface pixel for those that do have one ore more inside pixels.\n",
    "\n",
    "The most naive approach I can imagine is taking the brightest pixel in each Z column as my surface point. Let's try that first"
   ]
  },
  {
   "cell_type": "code",
   "execution_count": null,
   "metadata": {},
   "outputs": [],
   "source": [
    "import numpy as np\n",
    "import plotly.graph_objects as go\n",
    "import plotly.express as px\n",
    "\n",
    "\n",
    "\n",
    "# find brightest pixel\n",
    "\n",
    "max_pos_z = np.argmax(imData_rs, axis=0)\n",
    "max_brightness_z = np.max(imData_rs, axis=0)\n",
    "\n",
    "# generate x and y axes\n",
    "xg, yg = np.meshgrid(range(max_pos_z.shape[1]), range(max_pos_z.shape[0]))\n",
    "\n",
    "im95 = np.percentile(max_brightness_z, 90)\n",
    "x_plot = xg[np.where(max_brightness_z>=im95)]\n",
    "y_plot = yg[np.where(max_brightness_z>=im95)]\n",
    "z_plot = max_pos_z[np.where(max_brightness_z>=im95)]\n",
    "\n",
    "fig = px.scatter_3d(x=x_plot*pixel_size_new, \n",
    "                    y=y_plot*pixel_size_new,\n",
    "                    z=z_plot*pixel_size_new,\n",
    "                    opacity=0.02,\n",
    "                    color=z_plot)\n",
    "fig.show()"
   ]
  },
  {
   "cell_type": "markdown",
   "metadata": {},
   "source": [
    "**Try to convert this to a 3D mesh.**"
   ]
  },
  {
   "cell_type": "code",
   "execution_count": null,
   "metadata": {
    "pycharm": {
     "is_executing": true
    }
   },
   "outputs": [],
   "source": [
    "import pyvista as pv\n",
    "import pymeshfix as mf\n",
    "from pymeshfix import MeshFix\n",
    "from pymeshfix._meshfix import PyTMesh\n",
    "# from open3d.j_visualizer import JVisualizer\n",
    "import open3d as o3d\n",
    "\n",
    "# await pv.set_jupyter_backend('trame')\n",
    "np.random.seed(124)\n",
    "n_samples = x_plot.size\n",
    "#index_vec = 5000\n",
    "mesh_indices = range(0, x_plot.size)#index_vednp.random.choice(index_vec, n_samples)\n",
    "\n",
    "# convert xyz coordinates to a point cloud object\n",
    "xyz_array = np.concatenate((np.reshape(x_plot[mesh_indices]*pixel_size_x, (n_samples, 1)),\n",
    "                            np.reshape(y_plot[mesh_indices]*pixel_size_y, (n_samples, 1)),\n",
    "                            np.reshape(z_plot[mesh_indices]*pixel_size_x, (n_samples, 1))), axis=1)\n",
    "\n",
    "\n",
    "# Pass xyz to Open3D.o3d.geometry.PointCloud and visualize\n",
    "pcd = o3d.geometry.PointCloud()\n",
    "pcd.points = o3d.utility.Vector3dVector(xyz_array)\n",
    "o3d.io.write_point_cloud(pcd_path + image_name + \"_full.ply\", pcd)\n",
    "\n",
    "# downsample to a managable number of points\n",
    "pcd_ds = pcd.voxel_down_sample(voxel_size=2)\n",
    "\n",
    "# plot point cloud\n",
    "print(np.asarray(pcd_ds.points).shape)\n",
    "\n",
    "pv_cloud = pv.PolyData(np.asarray(pcd_ds.points))\n",
    "pv_cloud.plot(jupyter_backend='ipygany')"
   ]
  },
  {
   "cell_type": "markdown",
   "metadata": {
    "pycharm": {
     "is_executing": true
    }
   },
   "source": [
    "**Step 1:** Remove outlier points"
   ]
  },
  {
   "cell_type": "code",
   "execution_count": null,
   "metadata": {
    "pycharm": {
     "is_executing": true
    }
   },
   "outputs": [],
   "source": [
    "# cl, ind = pcd_ds.remove_statistical_outlier(nb_neighbors=10, std_ratio=3)\n",
    "# xyz_ds = np.asarray(pcd_ds.points)\n",
    "\n",
    "# xyz_ds_out = np.delete(xyz_ds, ind, axis=0)\n",
    "# xyz_ds_in = xyz_ds[ind]\n",
    "\n",
    "# pcd_in = o3d.geometry.PointCloud()\n",
    "# pcd_in.points = o3d.utility.Vector3dVector(xyz_ds_in)\n",
    "\n",
    "# pcd_out = o3d.geometry.PointCloud()\n",
    "# pcd_out.points = o3d.utility.Vector3dVector(xyz_ds_out)\n",
    "\n",
    "# pv_cloud_out = pv.PolyData(xyz_ds_out)\n",
    "# pv_cloud_in = pv.PolyData(xyz_ds_in)\n",
    "# pv_cloud_in = pcd_ds#.plot(jupyter_backend='ipygany')"
   ]
  },
  {
   "cell_type": "markdown",
   "metadata": {
    "pycharm": {
     "is_executing": true
    }
   },
   "source": [
    "**Attempt rough meshing with \"raw\" points.** Note that this only works reasonanbly when the alpha parameter is set to be larger than the z resoultion in Z (20um in this case)"
   ]
  },
  {
   "cell_type": "code",
   "execution_count": null,
   "metadata": {
    "pycharm": {
     "is_executing": true
    }
   },
   "outputs": [],
   "source": [
    "# Attempt with delaunay 3d\n",
    "alpha = 10\n",
    "dl_3d_mesh = pv_cloud.delaunay_3d(alpha=alpha)\n",
    "# dl_3d_mesh_alt = pv_cloud.reconstruct_surface()\n",
    "dl_3d_mesh.plot(show_edges=True, jupyter_backend='ipygany')\n"
   ]
  },
  {
   "cell_type": "code",
   "execution_count": null,
   "metadata": {},
   "outputs": [],
   "source": [
    "faces = []\n",
    "i, offset = 0, 0\n",
    "cc = dl_3d_mesh.cells # fetch up front\n",
    "while i < dl_3d_mesh.n_cells:\n",
    "    nn = cc[offset]\n",
    "    faces.append(cc[offset+1:offset+1+nn])\n",
    "    offset += nn + 1\n",
    "    i += 1\n"
   ]
  },
  {
   "cell_type": "code",
   "execution_count": null,
   "metadata": {},
   "outputs": [],
   "source": [
    "edges = dl_3d_mesh.extract_all_edges()\n",
    "\n",
    "shell = dl_3d_mesh.extract_geometry()\n",
    "print(shell.faces)\n",
    "print(shell.verts)\n",
    "\n",
    "pv_mesh_name = pcd_path + image_name + \"_pv_mesh.ply\"\n",
    "shell.save(pv_mesh_name)\n",
    "\n",
    "tin = _meshfix.PyTMesh()\n",
    "tin.load_file(pv_mesh_name)\n",
    "#shell.plot(show_edges=False, jupyter_backend='ipygany')"
   ]
  },
  {
   "cell_type": "code",
   "execution_count": null,
   "metadata": {},
   "outputs": [],
   "source": [
    "from pymeshfix import _meshfix\n",
    "\n",
    "fix_size = 200\n",
    "tin.fill_small_boundaries(nbe=fix_size, refine=True)\n",
    "\n",
    "# convert to mesh\n",
    "vert, faces = sf.return_arrays()\n",
    "triangles = np.empty((faces.shape[0], 4), dtype=faces.dtype)\n",
    "triangles[:, -3:] = faces\n",
    "triangles[:, 0] = 3\n",
    "\n",
    "surf_fix = pv.PolyData(vert, triangles)\n",
    "\n",
    "surf_fix.plot(show_edges=False, jupyter_backend='panel')"
   ]
  },
  {
   "cell_type": "code",
   "execution_count": null,
   "metadata": {},
   "outputs": [],
   "source": [
    "dl_3d_mesh.__dict__.keys()"
   ]
  },
  {
   "cell_type": "markdown",
   "metadata": {
    "pycharm": {
     "is_executing": true
    }
   },
   "source": [
    "This captures gross morphological features, but we give up a lot of xy resolution. How could we do better?\n",
    "\n",
    "**Attempt 1:** fit spline along z direction"
   ]
  },
  {
   "cell_type": "code",
   "execution_count": null,
   "metadata": {
    "pycharm": {
     "is_executing": true
    }
   },
   "outputs": [],
   "source": [
    "import scipy\n",
    "\n",
    "test = scipy.interpolate.bisplrep(xyz_ds_in[:, 0], xyz_ds_in[:, 1], xyz_ds_in[:, 2])"
   ]
  },
  {
   "cell_type": "code",
   "execution_count": null,
   "metadata": {},
   "outputs": [],
   "source": [
    "npoints = 50\n",
    "xg = np.linspace(np.min(xyz_ds_in[:, 0]), np.max(xyz_ds_in[:, 0]), npoints)\n",
    "yg = np.linspace(np.min(xyz_ds_in[:, 1]), np.max(xyz_ds_in[:, 1]), npoints)\n",
    "\n",
    "x_grid, y_grid = np.meshgrid(xg, yg)\n",
    "test_out = scipy.interpolate.bisplev(xg, yg, test, dx=0, dy=0)\n",
    "\n",
    "\n",
    "xyz_interp = np.concatenate((np.reshape(x_grid, (x_grid.size, 1)), \n",
    "                             np.reshape(y_grid, (x_grid.size, 1)),\n",
    "                             np.reshape(test_out, (x_grid.size, 1))),\n",
    "                             axis=1)\n",
    "\n",
    "xyz_interp_filt = xyz_interp[np.where(xyz_interp[:, 2]<=350)]\n",
    "xyz_interp_filt = xyz_interp_filt[xyz_interp_filt[:, 2]>=0]\n",
    "# pcd_interp = o3d.geometry.PointCloud()\n",
    "# pcd_interp.points = o3d.utility.Vector3dVector(xyz_interp)\n",
    "# bbox = pcd_ds.get_axis_aligned_bounding_box()\n",
    "# pcd_interp_crop = pcd_interp.crop(bbox)\n",
    "\n",
    "pv_cloud_interp = pv.PolyData(xyz_interp_filt)\n",
    "pv_cloud_interp.plot(jupyter_backend='ipygany')"
   ]
  },
  {
   "cell_type": "markdown",
   "metadata": {},
   "source": [
    "**Attempt 2:** downsample, interpolate, and then infer mesh"
   ]
  },
  {
   "cell_type": "code",
   "execution_count": null,
   "metadata": {},
   "outputs": [],
   "source": [
    "import numpy as np\n",
    "import scipy\n",
    "from scipy import interpolate\n",
    "\n",
    "\n",
    "f = interpolate.interp2d(xyz_ds_in[:, 0], xyz_ds_in[:, 1], xyz_ds_in[:, 2], kind='linear')\n"
   ]
  },
  {
   "cell_type": "code",
   "execution_count": null,
   "metadata": {},
   "outputs": [],
   "source": [
    "npoints = 150\n",
    "xg = np.linspace(np.min(xyz_ds_in[:, 0]), np.max(xyz_ds_in[:, 0]), npoints)\n",
    "yg = np.linspace(np.min(xyz_ds_in[:, 1]), np.max(xyz_ds_in[:, 1]), npoints)\n",
    "\n",
    "x_grid, y_grid = np.meshgrid(xg, yg)\n",
    "\n",
    "znew = f(xg, yg)\n",
    "\n",
    "xyz_interp = np.concatenate((np.reshape(x_grid, (x_grid.size, 1)), \n",
    "                             np.reshape(y_grid, (x_grid.size, 1)),\n",
    "                             np.reshape(znew, (x_grid.size, 1))),\n",
    "                             axis=1)\n",
    "\n",
    "xyz_interp_filt = xyz_interp[np.where(xyz_interp[:, 2]<=350)]\n",
    "xyz_interp_filt = xyz_interp_filt[xyz_interp_filt[:, 2]>0]\n",
    "pv_cloud_interp = pv.PolyData(xyz_interp_filt)\n",
    "pv_cloud_interp.plot(jupyter_backend='ipygany')"
   ]
  },
  {
   "cell_type": "code",
   "execution_count": null,
   "metadata": {},
   "outputs": [],
   "source": []
  }
 ],
 "metadata": {
  "kernelspec": {
   "display_name": "Python 3 (ipykernel)",
   "language": "python",
   "name": "python3"
  },
  "language_info": {
   "codemirror_mode": {
    "name": "ipython",
    "version": 3
   },
   "file_extension": ".py",
   "mimetype": "text/x-python",
   "name": "python",
   "nbconvert_exporter": "python",
   "pygments_lexer": "ipython3",
   "version": "3.10.8"
  }
 },
 "nbformat": 4,
 "nbformat_minor": 1
}
