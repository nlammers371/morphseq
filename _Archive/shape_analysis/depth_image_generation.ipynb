{
 "cells": [
  {
   "cell_type": "markdown",
   "metadata": {},
   "source": [
    "# Experiment with extracting shape info from confocal images of fish embryos"
   ]
  },
  {
   "cell_type": "code",
   "execution_count": null,
   "metadata": {},
   "outputs": [],
   "source": [
    "from aicsimageio import AICSImage\n",
    "import os \n",
    "import glob2 as glob\n",
    "import numpy as np\n",
    "from matplotlib import pyplot as plt\n",
    "import plotly.graph_objects as go\n",
    "from skimage.morphology import (erosion, dilation, opening, closing,  # noqa\n",
    "                                white_tophat)\n",
    "import plotly.express as px\n",
    "from skimage import data\n",
    "from skimage import filters\n",
    "from skimage.segmentation import active_contour\n",
    "import matplotlib.pyplot as plt\n",
    "from skimage.measure import label, regionprops\n",
    "from skimage.morphology import black_tophat, skeletonize, convex_hull_image \n",
    "from skimage.morphology import disk\n",
    "import skimage\n",
    "from matplotlib.pyplot import colorbar \n",
    "from matplotlib.pyplot import savefig\n",
    "\n",
    "save_path_depth = \"/Users/nick/Dropbox (Cole Trapnell's Lab)/Nick/morphSeq/data/20230412/3D_depth/\"\n",
    "# make save directory\n",
    "if not os.path.isdir(save_path_depth):\n",
    "    os.makedirs(save_path_depth)\n",
    "    \n",
    "\n",
    "image_path = \"/Users/nick/Dropbox (Cole Trapnell's Lab)/Nick/morphSeq/data/20230412/timeseries.nd2\"\n",
    "imObject = AICSImage(image_path)\n",
    "\n",
    "imObject.set_scene(\"XYPos:17\")\n",
    "n_time_points = imObject.dims[\"T\"][0]\n",
    "res_raw = imObject.physical_pixel_sizes\n",
    "res_array = np.asarray(res_raw)\n",
    "\n",
    "# generate and save depth image\n",
    "n_time_points = imObject.dims[\"T\"][0]\n",
    "\n",
    "# im_array = np.empty((n_time_points, 317*818))\n",
    "for t in range(n_time_points):\n",
    "\n",
    "    # extract image\n",
    "    imData = np.squeeze(imObject.get_image_data(\"CZYX\", T=t))\n",
    "    imData_rs = scipy.ndimage.zoom(imData, [1, 1/4, 1/4])\n",
    "    \n",
    "    z_grid3, _, _ = np.meshgrid(range(0, imData_rs.shape[0]), \n",
    "                                        range(0, imData_rs.shape[1]), \n",
    "                                        range(0, imData_rs.shape[2]),\n",
    "                                       indexing=\"ij\")\n",
    "    \n",
    "    max_z_plane = np.argmax(imData_rs, axis=0)\n",
    "    max_z_b = np.max(imData_rs, axis=0)\n",
    "    \n",
    "    threshold_sa = filters.threshold_sauvola(max_z_b, window_size=11)\n",
    "\n",
    "    # this should result in a sparse cloud of white regions that jointly define the embryo body\n",
    "    fish_mask = (max_z_b < threshold_sa)*1\n",
    "\n",
    "    # use morphological closure operation to fill in shape\n",
    "    footprint = disk(18)\n",
    "    fish_closed = closing(fish_mask, footprint)\n",
    "\n",
    "    # remove small objects \n",
    "    fish_strip = skimage.morphology.remove_small_objects(label(fish_closed), min_size=64)\n",
    "\n",
    "    # erode to\n",
    "    fish_clean = skimage.morphology.binary_erosion(fish_strip, footprint)\n",
    "    \n",
    "    \n",
    "    max_z_plane = max_z_plane*20\n",
    "    mm = np.max(max_z_plane)\n",
    "    max_z_plane[np.where(fish_clean==0)] = mm\n",
    "    \n",
    "    fig = plt.figure()\n",
    "    \n",
    "    im_plot = mm-max_z_plane\n",
    "\n",
    "    ax = plt.imshow(np.flipud(im_plot))\n",
    "    \n",
    "    cbar = colorbar(label='height of surface (microns)', shrink=0.5, boundaries= [0, 300])\n",
    "    \n",
    "    fig.savefig(save_path_depth + f'depth_T{t:03}.tif')\n",
    "#     fig.show()\n",
    "    \n",
    "#     im_array[t, :] = max_z_plane.flatten()"
   ]
  },
  {
   "cell_type": "code",
   "execution_count": null,
   "metadata": {},
   "outputs": [],
   "source": [
    "# im_array = np.empty((n_time_points, 317*818))\n",
    "for t in range(n_time_points):\n",
    "\n",
    "    # extract image\n",
    "    imData = np.squeeze(imObject.get_image_data(\"CZYX\", T=t))\n",
    "    imData_rs = scipy.ndimage.zoom(imData, [1, 1/4, 1/4])\n",
    "    \n",
    "    z_grid3, _, _ = np.meshgrid(range(0, imData_rs.shape[0]), \n",
    "                                        range(0, imData_rs.shape[1]), \n",
    "                                        range(0, imData_rs.shape[2]),\n",
    "                                       indexing=\"ij\")\n",
    "    \n",
    "    max_z_plane = np.argmax(imData_rs, axis=0)\n",
    "    max_z_b = np.max(imData_rs, axis=0)\n",
    "    \n",
    "    threshold_sa = filters.threshold_sauvola(max_z_b, window_size=11)\n",
    "\n",
    "    # this should result in a sparse cloud of white regions that jointly define the embryo body\n",
    "    fish_mask = (max_z_b < threshold_sa)*1\n",
    "\n",
    "    # use morphological closure operation to fill in shape\n",
    "    footprint = disk(15)\n",
    "    fish_closed = closing(fish_mask, footprint)\n",
    "\n",
    "    # remove small objects \n",
    "    fish_strip = skimage.morphology.remove_small_objects(label(fish_closed), min_size=64)\n",
    "\n",
    "    # erode to\n",
    "    fish_clean = skimage.morphology.binary_erosion(fish_strip, footprint)\n",
    "    \n",
    "    \n",
    "    max_z_plane = max_z_plane*20\n",
    "    mm = np.max(max_z_plane)\n",
    "    max_z_plane[np.where(fish_clean==0)] = mm\n",
    "    \n",
    "    fig = plt.figure()\n",
    "    \n",
    "    im_plot = mm-max_z_plane\n",
    "\n",
    "    ax = plt.imshow(np.flipud(im_plot))\n",
    "    \n",
    "    cbar = colorbar(label='height of surface (microns)', shrink=0.5)\n",
    "    plt.clim(0, 300)\n",
    "    \n",
    "    fig.savefig(save_path_depth + f'depth_T{t:03}.tif')"
   ]
  },
  {
   "cell_type": "code",
   "execution_count": null,
   "metadata": {},
   "outputs": [],
   "source": [
    "res_array"
   ]
  },
  {
   "cell_type": "code",
   "execution_count": null,
   "metadata": {},
   "outputs": [],
   "source": [
    "import umap\n",
    "from sklearn.datasets import fetch_openml\n",
    "import matplotlib.pyplot as plt\n",
    "# apply UMAP dimensionality reduction (why not?)\n",
    "\n",
    "reducer = umap.UMAP(random_state=42)\n",
    "embedding = reducer.fit_transform(im_array)"
   ]
  },
  {
   "cell_type": "code",
   "execution_count": null,
   "metadata": {},
   "outputs": [],
   "source": [
    "import plotly.graph_objects as go\n",
    "import plotly.express as px\n",
    "\n",
    "fig = px.scatter(embedding[:, 0], embedding[:, 1], color=range(n_time_points))\n",
    "fig.show()"
   ]
  },
  {
   "cell_type": "code",
   "execution_count": null,
   "metadata": {},
   "outputs": [],
   "source": [
    "from matplotlib import pyplot as plt\n",
    "\n",
    "z_grid3, y_grid3, x_grid3 = np.meshgrid(range(0, imData.shape[0]), \n",
    "                                        range(0, imData.shape[1]), \n",
    "                                        range(0, imData.shape[2]),\n",
    "                                        indexing=\"ij\")\n",
    "\n",
    "mean_z_plane = np.divide(np.sum(np.multiply(imData, z_grid3), axis=0), np.sum(imData, axis=0))\n",
    "maxmean_z_plane = mean_z_plane.astype(float)\n",
    "\n",
    "max_z_plane = np.argmax(imData, axis=0)\n",
    "\n",
    "plt.imshow(max_z_plane)"
   ]
  },
  {
   "cell_type": "code",
   "execution_count": null,
   "metadata": {},
   "outputs": [],
   "source": [
    "import umap\n",
    "from sklearn.datasets import fetch_openml\n",
    "import matplotlib.pyplot as plt\n",
    "# apply UMAP dimensionality reduction (why not?)\n",
    "\n",
    "reducer = umap.UMAP(random_state=42)\n",
    "embedding = reducer.fit_transform(max_z_plane.flatten())"
   ]
  },
  {
   "cell_type": "markdown",
   "metadata": {},
   "source": [
    "Attempt to infer a surface using marching cubes"
   ]
  },
  {
   "cell_type": "markdown",
   "metadata": {},
   "source": [
    "**Can we use linear interpolation to fill label gaps?**"
   ]
  },
  {
   "cell_type": "code",
   "execution_count": null,
   "metadata": {},
   "outputs": [],
   "source": [
    "from skimage.morphology import disk\n",
    "from skimage.morphology import (erosion, dilation, opening, closing,  # noqa\n",
    "                                white_tophat)\n",
    "\n",
    "# first, generate 3D mask to identify interior pixels that we wish to interpolate\n",
    "fish_mask = (np.max(labelDataBin, axis=0) == 1)*1\n",
    "\n",
    "# use morphological closure operation to fill in shape\n",
    "footprint = disk(8)\n",
    "fp_small = disk(2)\n",
    "fish_closed = closing(fish_mask > 0, footprint)\n",
    "fish_clean = skimage.morphology.remove_small_objects(label(fish_closed), min_size=64)\n",
    "fish_eroded = skimage.morphology.binary_erosion(fish_clean, fp_small)\n",
    "# plt.imshow(fish_mask)\n",
    "plt.imshow(fish_clean)"
   ]
  },
  {
   "cell_type": "markdown",
   "metadata": {},
   "source": [
    "Use known z label locations to interpolate missing ones"
   ]
  },
  {
   "cell_type": "code",
   "execution_count": null,
   "metadata": {},
   "outputs": [],
   "source": [
    "from scipy.interpolate import LinearNDInterpolator\n",
    "\n",
    "y_grid2, x_grid2 = np.meshgrid(\n",
    "                                range(0, max_z_plane.shape[0]), \n",
    "                                range(0, max_z_plane.shape[1]),\n",
    "                                indexing=\"ij\")\n",
    "\n",
    "x_flat = x_grid2.flatten()\n",
    "y_flat = y_grid2.flatten()\n",
    "\n",
    "# generate diplacement vectors\n",
    "max_z_plane_vals = max_z_plane.flatten()\n",
    "mask_flat = (fish_clean.flatten() > 0)*1\n",
    "mask_er = (fish_eroded.flatten() > 0)*1\n",
    "\n",
    "ref_x = x_flat[np.where((~np.isnan(max_z_plane_vals)) & (mask_flat==1))]\n",
    "ref_y = y_flat[np.where((~np.isnan(max_z_plane_vals)) & (mask_flat==1))]\n",
    "ref_z = max_z_plane_vals[np.where((~np.isnan(max_z_plane_vals)) & (mask_flat==1))]\n",
    "\n",
    "query_x = x_flat[np.where(mask_flat==1)]\n",
    "query_y = y_flat[np.where(mask_flat==1)]\n",
    "query_x_er = x_flat[np.where(mask_er==1)]\n",
    "query_y_er = y_flat[np.where(mask_er==1)]\n",
    "\n",
    "# interpolate\n",
    "interp_z = LinearNDInterpolator(list(zip(ref_x, ref_y)), ref_z)\n",
    "query_z = interp_z(query_x, query_y)\n",
    "            \n",
    "\n",
    "# disp_x = interp_x(source_xyz_norm[:, 0], source_xyz_norm[:, 1], source_xyz_norm[:, 2])\n",
    "# disp_y = interp_y(source_xyz_norm[:, 0], source_xyz_norm[:, 1], source_xyz_norm[:, 2])\n",
    "# disp_z = interp_z(source_xyz_norm[:, 0], source_xyz_norm[:, 1], source_xyz_norm[:, 2])"
   ]
  },
  {
   "cell_type": "code",
   "execution_count": null,
   "metadata": {},
   "outputs": [],
   "source": [
    "surf_mask_array_raw = np.zeros(labelData_rs.shape)\n",
    "surf_mask_array_raw[np.round(query_z).astype(int), query_y, query_x] = 1\n",
    "\n",
    "surf_mask_array = surf_mask_array_raw.copy() \n",
    "# surf_mask_array[40, query_y_er, query_x_er] = 1\n",
    "\n",
    "plt.imshow(np.argmax(surf_mask_array, axis=0))"
   ]
  },
  {
   "cell_type": "markdown",
   "metadata": {},
   "source": [
    "Maybe alphashape?"
   ]
  },
  {
   "cell_type": "code",
   "execution_count": null,
   "metadata": {},
   "outputs": [],
   "source": [
    "from alphashape import alphashape\n",
    "import open3d as o3d\n",
    "z_flat = max_z_plane.flatten()\n",
    "plot_x = x_flat[np.where((~np.isnan(max_z_plane_vals)))]\n",
    "plot_y = y_flat[np.where((~np.isnan(max_z_plane_vals)))]\n",
    "plot_z = z_flat[np.where((~np.isnan(max_z_plane_vals)))]\n",
    "\n",
    "surf_flat = surf_mask_array.flatten()\n",
    "keep_indices = np.where(surf_mask_array>0)\n",
    "# x3 = x_grid3[keep_indices]\n",
    "# y3 = y_grid3[keep_indices]\n",
    "# z3 = z_grid3[keep_indices]\n",
    "# generate smooth bottom\n",
    "base_array = np.empty((len(plot_x), 3))\n",
    "base_array[:, 0] = plot_x\n",
    "base_array[:, 1] = plot_y\n",
    "base_array[:, 2] = plot_z + 10\n",
    "\n",
    "xyz_array3 = np.concatenate((plot_x[:, np.newaxis], plot_y[:, np.newaxis], plot_z[:, np.newaxis]), axis=1)\n",
    "# xyz_array3 = np.concatenate((x_surf3[:, np.newaxis], y_surf3[:, np.newaxis], z_surf3[:, np.newaxis]), axis=1)\n",
    "xyz_array3 = np.concatenate((xyz_array3, base_array), axis=0)\n",
    "xyz_array3_norm = xyz_array3.copy()\n",
    "xyz_array3_norm = xyz_array3_norm / np.max(xyz_array3_norm)\n",
    "\n",
    "print(xyz_array3_norm.shape)\n",
    "\n",
    "pcd = o3d.geometry.PointCloud()\n",
    "pcd.points = o3d.utility.Vector3dVector(xyz_array3_norm)\n",
    "pcd_ds = pcd.voxel_down_sample(voxel_size=0.0001)\n",
    "\n",
    "xyz_ds = np.asarray(pcd_ds.points)\n",
    "print(xyz_ds.shape)\n",
    "alpha_fish = alphashape(xyz_ds, alpha=50)\n",
    "alpha_fish.show()"
   ]
  },
  {
   "cell_type": "markdown",
   "metadata": {},
   "source": [
    "Well...let's try a different method"
   ]
  },
  {
   "cell_type": "code",
   "execution_count": null,
   "metadata": {},
   "outputs": [],
   "source": [
    "from skimage.filters import gaussian\n",
    "\n",
    "surf_mask_array_smooth = np.argmax(surf_mask_array_raw.copy(), axis=0)\n",
    "surf_mask_array_smooth[np.where(surf_mask_array_smooth==0)] = 84\n",
    "surf_mask_array_smooth = gaussian(surf_mask_array_smooth, sigma=2, preserve_range=True)\n",
    "plt.imshow(surf_mask_array_smooth)\n",
    "new_z = surf_mask_array_smooth[query_y_er, query_x_er]"
   ]
  },
  {
   "cell_type": "code",
   "execution_count": null,
   "metadata": {},
   "outputs": [],
   "source": [
    "xyz_array = np.concatenate((query_x_er[:, np.newaxis], query_y_er[:, np.newaxis], new_z[:, np.newaxis]), axis=1)\n",
    "\n",
    "base_array = np.empty((len(query_x_er), 3))\n",
    "base_array[:, 0] = query_x_er\n",
    "base_array[:, 1] = query_y_er\n",
    "base_array[:, 2] = new_z + 20\n",
    "\n",
    "# xyz_array3 = np.concatenate((plot_x[:, np.newaxis], plot_y[:, np.newaxis], plot_z[:, np.newaxis]), axis=1)\n",
    "# xyz_array3 = np.concatenate((x_surf3[:, np.newaxis], y_surf3[:, np.newaxis], z_surf3[:, np.newaxis]), axis=1)\n",
    "xyz_array3 = np.concatenate((xyz_array, base_array), axis=0)\n",
    "xyz_array3_norm = xyz_array3.copy()\n",
    "xyz_array3_norm = xyz_array3_norm / np.max(xyz_array3_norm)\n",
    "\n",
    "print(xyz_array3_norm.shape)\n",
    "\n",
    "pcd = o3d.geometry.PointCloud()\n",
    "pcd.points = o3d.utility.Vector3dVector(xyz_array3_norm)\n",
    "pcd_ds = pcd.voxel_down_sample(voxel_size=0.0001)\n",
    "cl, ind = pcd_ds.remove_statistical_outlier(nb_neighbors=20,\n",
    "                                                        std_ratio=2.0)\n",
    "\n",
    "xyz_ds = np.asarray(pcd_ds.points)\n",
    "print(xyz_ds.shape)\n",
    "alpha_fish = alphashape(xyz_ds[ind], alpha=50)\n",
    "alpha_fish.show()"
   ]
  },
  {
   "cell_type": "code",
   "execution_count": null,
   "metadata": {},
   "outputs": [],
   "source": [
    "alpha_fish"
   ]
  },
  {
   "cell_type": "code",
   "execution_count": null,
   "metadata": {},
   "outputs": [],
   "source": [
    "import pyvista as pv\n",
    "import open3d as o3d\n",
    "\n",
    "xyz_array = np.concatenate((query_x_er[:, np.newaxis], query_y_er[:, np.newaxis], new_z[:, np.newaxis]), axis=1)\n",
    "\n",
    "pcd = o3d.geometry.PointCloud()\n",
    "pcd.points = o3d.utility.Vector3dVector(xyz_array)\n",
    "pcd_ds = pcd.voxel_down_sample(voxel_size=1)\n",
    "\n",
    "xyz_ds = np.asarray(pcd_ds.points)\n",
    "pv_cloud = pv.PolyData(xyz_ds)\n",
    "print(xyz_ds.shape)\n",
    "print(xyz_array.shape)\n",
    "\n",
    "\n",
    "alpha = 10\n",
    "dl_3d_mesh = pv_cloud.delaunay_2d(alpha=alpha)\n",
    "# # dl_3d_mesh = alphashape.alphashape(xyz_in, alpha=8)\n",
    "# dl_3d_mesh.fill_holes(200, inplace=True)\n",
    "smooth = dl_3d_mesh.smooth_taubin(n_iter=5000)\n",
    "smooth.plot(jupyter_backend='ipygany', scalars=xyz_ds[:, 2])"
   ]
  },
  {
   "cell_type": "code",
   "execution_count": null,
   "metadata": {},
   "outputs": [],
   "source": [
    "from sklearn.datasets import fetch_openml\n",
    "\n",
    "mnist = fetch_openml('mnist_784', version=1)\n",
    "mnist.target = mnist.target.astype(int)"
   ]
  },
  {
   "cell_type": "code",
   "execution_count": null,
   "metadata": {},
   "outputs": [],
   "source": [
    "(mnist.data.shape)"
   ]
  },
  {
   "cell_type": "code",
   "execution_count": null,
   "metadata": {},
   "outputs": [],
   "source": [
    "nppas.fill_holes_in_surface(smoothed_surface, size_limit=300)"
   ]
  },
  {
   "cell_type": "code",
   "execution_count": null,
   "metadata": {},
   "outputs": [],
   "source": [
    "simplified_surface2 = nppas.decimate_quadric(smoothed_surface, fraction=0.01)\n",
    "simplified_surface2"
   ]
  },
  {
   "cell_type": "markdown",
   "metadata": {},
   "source": [
    "**Let's see if we can fill gaps using linear interpolation**"
   ]
  },
  {
   "cell_type": "code",
   "execution_count": null,
   "metadata": {},
   "outputs": [],
   "source": [
    "from skimage.morphology import disk\n",
    "from skimage.morphology import (erosion, dilation, opening, closing,  # noqa\n",
    "                                white_tophat)\n",
    "\n",
    "# first, generate 3D mask to identify interior pixels that we wish to interpolate\n",
    "fish_mask = (np.max(imDataBin, axis=0) == 1)*1\n",
    "\n",
    "# use morphological closure operation to fill in shape\n",
    "footprint = disk(15)\n",
    "fish_closed = closing(fish_mask, footprint)\n",
    "\n",
    "# plt.imshow(fish_mask)\n",
    "plt.imshow(fish_closed)\n"
   ]
  },
  {
   "cell_type": "code",
   "execution_count": null,
   "metadata": {},
   "outputs": [],
   "source": [
    "from scipy import interpolate\n",
    "\n",
    "# identify \"holes\" for which not a single pixel nonzero exists \n",
    "query_indices = np.where((fish_closed==1) & (fish_mask!=1))[0]\n",
    "ref_indices = np.where(fish_mask==1)[0]\n",
    "print(len(candidate_indices))\n",
    "print(len(ref_indices))\n",
    "\n",
    "f = interpolate.interp2d(xyz_array2[:, 0], xyz_array2[:, 1], xyz_array2[:, 2], kind='linear')\n",
    "x_query = x_grid2[query_indices]\n",
    "y_query = y_grid2[query_indices]\n",
    "z_query = f(x_query, y_query)"
   ]
  },
  {
   "cell_type": "markdown",
   "metadata": {
    "pycharm": {
     "is_executing": true
    }
   },
   "source": [
    "Try fitting to the surface points only"
   ]
  },
  {
   "cell_type": "code",
   "execution_count": null,
   "metadata": {},
   "outputs": [],
   "source": [
    "surf_mask_array = np.zeros(imData_rs.shape)\n",
    "sub_i = np.roll(xyz_array2, 1, axis=1)\n",
    "surf_indices = np.ravel_multi_index((1,2,2), imData_rs.shape)\n",
    "surf_mask_array[xyz_array2[:, 2], xyz_array2[:, 1], xyz_array2[:, 0]] = 1\n",
    "\n",
    "e_surf = nppas.all_labels_to_surface(surf_mask_array)\n",
    "e_surf"
   ]
  },
  {
   "cell_type": "code",
   "execution_count": null,
   "metadata": {},
   "outputs": [],
   "source": [
    "e_surf.__dict__.keys()"
   ]
  },
  {
   "cell_type": "markdown",
   "metadata": {},
   "source": [
    "**Attempt 2:** downsample, interpolate, and then infer mesh"
   ]
  },
  {
   "cell_type": "code",
   "execution_count": null,
   "metadata": {},
   "outputs": [],
   "source": [
    "# import numpy as np\n",
    "# import scipy\n",
    "# from scipy import interpolate\n",
    "\n",
    "\n",
    "# f = interpolate.interp2d(xyz_ds_in[:, 0], xyz_ds_in[:, 1], xyz_ds_in[:, 2], kind='linear')\n"
   ]
  },
  {
   "cell_type": "code",
   "execution_count": null,
   "metadata": {},
   "outputs": [],
   "source": [
    "# npoints = 150\n",
    "# xg = np.linspace(np.min(xyz_ds_in[:, 0]), np.max(xyz_ds_in[:, 0]), npoints)\n",
    "# yg = np.linspace(np.min(xyz_ds_in[:, 1]), np.max(xyz_ds_in[:, 1]), npoints)\n",
    "\n",
    "# x_grid, y_grid = np.meshgrid(xg, yg)\n",
    "\n",
    "# znew = f(xg, yg)\n",
    "\n",
    "# xyz_interp = np.concatenate((np.reshape(x_grid, (x_grid.size, 1)), \n",
    "#                              np.reshape(y_grid, (x_grid.size, 1)),\n",
    "#                              np.reshape(znew, (x_grid.size, 1))),\n",
    "#                              axis=1)\n",
    "\n",
    "# xyz_interp_filt = xyz_interp[np.where(xyz_interp[:, 2]<=350)]\n",
    "# xyz_interp_filt = xyz_interp_filt[xyz_interp_filt[:, 2]>0]\n",
    "# pv_cloud_interp = pv.PolyData(xyz_interp_filt)\n",
    "# pv_cloud_interp.plot(jupyter_backend='ipygany')"
   ]
  },
  {
   "cell_type": "code",
   "execution_count": null,
   "metadata": {},
   "outputs": [],
   "source": []
  }
 ],
 "metadata": {
  "kernelspec": {
   "display_name": "Python 3 (ipykernel)",
   "language": "python",
   "name": "python3"
  },
  "language_info": {
   "codemirror_mode": {
    "name": "ipython",
    "version": 3
   },
   "file_extension": ".py",
   "mimetype": "text/x-python",
   "name": "python",
   "nbconvert_exporter": "python",
   "pygments_lexer": "ipython3",
   "version": "3.10.8"
  }
 },
 "nbformat": 4,
 "nbformat_minor": 1
}
