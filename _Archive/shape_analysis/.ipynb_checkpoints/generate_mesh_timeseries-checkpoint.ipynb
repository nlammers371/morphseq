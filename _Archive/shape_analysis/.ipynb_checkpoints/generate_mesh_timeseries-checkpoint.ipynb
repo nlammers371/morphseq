{
 "cells": [
  {
   "cell_type": "code",
   "execution_count": 2,
   "id": "009f2e71",
   "metadata": {},
   "outputs": [],
   "source": [
    "import trimesh\n",
    "import glob2 as glob\n",
    "import numpy as np\n",
    "import os\n",
    "\n",
    "# set save path\n",
    "read_path = \"/Users/nick/Dropbox (Cole Trapnell's Lab)/Nick/morphSeq/data/20230412/3D_mesh_objects_v4/\"\n",
    "save_path_plain = \"/Users/nick/Dropbox (Cole Trapnell's Lab)/Nick/morphSeq/data/20230412/3D_mesh_tifs_base_v4/\"\n",
    "save_path_dist = \"/Users/nick/Dropbox (Cole Trapnell's Lab)/Nick/morphSeq/data/20230412/3D_mesh_tifs_dist/\"\n",
    "# make save directory\n",
    "if not os.path.isdir(save_path_plain):\n",
    "    os.makedirs(save_path_plain)\n",
    "    \n",
    "if not os.path.isdir(save_path_dist):\n",
    "    os.makedirs(save_path_dist)\n",
    "\n",
    "# get list of segmentation files\n",
    "mesh_list = sorted(glob.glob(read_path + \"*.stl\"))\n",
    "\n",
    "\n",
    "    # calculate distances\n",
    "    \n",
    "# trimesh.registration.icp(a, b, i"
   ]
  },
  {
   "cell_type": "markdown",
   "id": "88105f12",
   "metadata": {},
   "source": [
    "**Make basic surface plots first**"
   ]
  },
  {
   "cell_type": "code",
   "execution_count": 2,
   "id": "3026f132",
   "metadata": {},
   "outputs": [
    {
     "name": "stderr",
     "output_type": "stream",
     "text": [
      "2023-04-24 15:20:49.760 python[99725:20865952] GLDRendererMetal command buffer completion error: Error Domain=MTLCommandBufferErrorDomain Code=8 \"Insufficient Memory (00000008:kIOGPUCommandBufferCallbackErrorOutOfMemory)\" UserInfo={NSLocalizedDescription=Insufficient Memory (00000008:kIOGPUCommandBufferCallbackErrorOutOfMemory)}\n"
     ]
    }
   ],
   "source": [
    "import pyvista as pv\n",
    "import pyvistaqt as pvqt\n",
    "\n",
    "b_tuple = np.asarray([0.1, 1, 0.1, 0.5, 0, 0.15])*1000\n",
    "for m in range(len(mesh_list)):\n",
    "    \n",
    "    # load \n",
    "    mesh1 = trimesh.load_mesh(mesh_list[m])\n",
    "#     mesh2 = trimesh.load_mesh(mesh_list[m+1])\n",
    "    \n",
    "    # smooth \n",
    "    mesh1_sm = trimesh.smoothing.filter_taubin(mesh1, iterations=100)\n",
    "    points = np.asarray(mesh1_sm.vertices)\n",
    "    zf = (np.max(points[:, 0]) - np.min(points[:, 0]))/0.8\n",
    "#     mesh2_sm = trimesh.smoothing.filter_taubin(mesh2, iterations=25)\n",
    "    \n",
    "    # get distance between meshes\n",
    "#     points = np.asarray(mesh1_sm.vertices)\n",
    "#     distances = trimesh.proximity.signed_distance(mesh2_sm, points)\n",
    "    \n",
    "    # bound scalar display range\n",
    "#     p75 = 0.003#np.percentile(distances, 85)\n",
    "#     p10 = -0.003#np.percentile(distances, 15)\n",
    "#     distances[np.where(distances>p75)] = p75\n",
    "#     distances[np.where(distances<p10)] = p10\n",
    "\n",
    "    pv_mesh1 = pv.wrap(mesh1_sm)\n",
    "#     target_reduction = 0.25\n",
    "#     pv_mesh1.point_data['scalars'] = distances\n",
    "#     pv_mesh1_ds = pv_mesh1.decimate_pro(target_reduction, preserve_topology=True)\n",
    "\n",
    "    plotter = pv.Plotter(off_screen=True)\n",
    "    plotter.add_mesh(pv_mesh1, lighting=True, show_edges=False)\n",
    "    plotter.camera_position = 'xy'\n",
    "    plotter.camera.azimuth = 180\n",
    "    plotter.camera_elevation = 0\n",
    "    plotter.camera.zoom(zf)\n",
    "    plotter.remove_legend()\n",
    "#     plotter.remove_scalar_bar()\n",
    "#     plotter.update_bounds_axes(b_tuple)\n",
    "#     plotter.show(screenshot=save_path_plain + f'dish_surf_T{m:03}.tif')\n",
    "#     plotter.show_bounds(axes_ranges=b_tuple, \n",
    "#                     show_zlabels=False, show_xlabels=False, show_ylabels=False,\n",
    "#                     show_xaxis=False, show_yaxis=False, show_zaxis=False)\n",
    "#     plotter.show(jupyter_backend='static')\n",
    "\n",
    "    plotter.screenshot(filename=save_path_plain + f'dish_surf_T{m:03}.tif')\n",
    "    \n",
    "    plotter.close()\n",
    "    plotter.deep_clean()\n"
   ]
  },
  {
   "cell_type": "code",
   "execution_count": 17,
   "id": "619af409",
   "metadata": {},
   "outputs": [
    {
     "ename": "AttributeError",
     "evalue": "Render window is not available.",
     "output_type": "error",
     "traceback": [
      "\u001B[0;31m---------------------------------------------------------------------------\u001B[0m",
      "\u001B[0;31mAttributeError\u001B[0m                            Traceback (most recent call last)",
      "Cell \u001B[0;32mIn[17], line 52\u001B[0m\n\u001B[1;32m     44\u001B[0m     plotter\u001B[38;5;241m.\u001B[39mremove_scalar_bar()\n\u001B[1;32m     45\u001B[0m \u001B[38;5;66;03m#     plotter.update_bounds_axes(b_tuple)\u001B[39;00m\n\u001B[1;32m     46\u001B[0m \u001B[38;5;66;03m#     plotter.show(screenshot=save_path_plain + f'dish_surf_T{m:03}.tif')\u001B[39;00m\n\u001B[1;32m     47\u001B[0m \u001B[38;5;66;03m#     plotter.show_bounds(axes_ranges=b_tuple, \u001B[39;00m\n\u001B[1;32m     48\u001B[0m \u001B[38;5;66;03m#                     show_zlabels=False, show_xlabels=False, show_ylabels=False,\u001B[39;00m\n\u001B[1;32m     49\u001B[0m \u001B[38;5;66;03m#                     show_xaxis=False, show_yaxis=False, show_zaxis=False)\u001B[39;00m\n\u001B[1;32m     50\u001B[0m \u001B[38;5;66;03m#     plotter.show(jupyter_backend='static')\u001B[39;00m\n\u001B[0;32m---> 52\u001B[0m     \u001B[43mplotter\u001B[49m\u001B[38;5;241;43m.\u001B[39;49m\u001B[43mscreenshot\u001B[49m\u001B[43m(\u001B[49m\u001B[43mfilename\u001B[49m\u001B[38;5;241;43m=\u001B[39;49m\u001B[43msave_path_dist\u001B[49m\u001B[43m \u001B[49m\u001B[38;5;241;43m+\u001B[39;49m\u001B[43m \u001B[49m\u001B[38;5;124;43mf\u001B[39;49m\u001B[38;5;124;43m'\u001B[39;49m\u001B[38;5;124;43mfish_surf_T\u001B[39;49m\u001B[38;5;132;43;01m{\u001B[39;49;00m\u001B[43mm\u001B[49m\u001B[38;5;132;43;01m:\u001B[39;49;00m\u001B[38;5;124;43m03\u001B[39;49m\u001B[38;5;132;43;01m}\u001B[39;49;00m\u001B[38;5;124;43m.tif\u001B[39;49m\u001B[38;5;124;43m'\u001B[39;49m\u001B[43m)\u001B[49m\n\u001B[1;32m     54\u001B[0m     plotter\u001B[38;5;241m.\u001B[39mclose()\n\u001B[1;32m     55\u001B[0m     plotter\u001B[38;5;241m.\u001B[39mdeep_clean()\n",
      "File \u001B[0;32m~/miniforge3/envs/morphseq-env/lib/python3.10/site-packages/pyvista/plotting/plotting.py:5609\u001B[0m, in \u001B[0;36mBasePlotter.screenshot\u001B[0;34m(self, filename, transparent_background, return_img, window_size, scale)\u001B[0m\n\u001B[1;32m   5606\u001B[0m     \u001B[38;5;28mself\u001B[39m\u001B[38;5;241m.\u001B[39mrender()\n\u001B[1;32m   5608\u001B[0m \u001B[38;5;28;01mwith\u001B[39;00m \u001B[38;5;28mself\u001B[39m\u001B[38;5;241m.\u001B[39mimage_scale_context(scale):\n\u001B[0;32m-> 5609\u001B[0m     \u001B[38;5;28;01mreturn\u001B[39;00m \u001B[38;5;28mself\u001B[39m\u001B[38;5;241m.\u001B[39m_save_image(\u001B[38;5;28;43mself\u001B[39;49m\u001B[38;5;241;43m.\u001B[39;49m\u001B[43mimage\u001B[49m, filename, return_img)\n",
      "File \u001B[0;32m~/miniforge3/envs/morphseq-env/lib/python3.10/site-packages/pyvista/plotting/plotting.py:1713\u001B[0m, in \u001B[0;36mBasePlotter.image\u001B[0;34m(self)\u001B[0m\n\u001B[1;32m   1710\u001B[0m     \u001B[38;5;28;01mreturn\u001B[39;00m \u001B[38;5;28mself\u001B[39m\u001B[38;5;241m.\u001B[39mlast_image\n\u001B[1;32m   1712\u001B[0m \u001B[38;5;28mself\u001B[39m\u001B[38;5;241m.\u001B[39m_check_rendered()\n\u001B[0;32m-> 1713\u001B[0m \u001B[38;5;28;43mself\u001B[39;49m\u001B[38;5;241;43m.\u001B[39;49m\u001B[43m_check_has_ren_win\u001B[49m\u001B[43m(\u001B[49m\u001B[43m)\u001B[49m\n\u001B[1;32m   1715\u001B[0m data \u001B[38;5;241m=\u001B[39m image_from_window(\u001B[38;5;28mself\u001B[39m\u001B[38;5;241m.\u001B[39mrender_window, scale\u001B[38;5;241m=\u001B[39m\u001B[38;5;28mself\u001B[39m\u001B[38;5;241m.\u001B[39mimage_scale)\n\u001B[1;32m   1716\u001B[0m \u001B[38;5;28;01mif\u001B[39;00m \u001B[38;5;28mself\u001B[39m\u001B[38;5;241m.\u001B[39mimage_transparent_background:\n",
      "File \u001B[0;32m~/miniforge3/envs/morphseq-env/lib/python3.10/site-packages/pyvista/plotting/plotting.py:1704\u001B[0m, in \u001B[0;36mBasePlotter._check_has_ren_win\u001B[0;34m(self)\u001B[0m\n\u001B[1;32m   1702\u001B[0m \u001B[38;5;124;03m\"\"\"Check if render window attribute exists and raise an exception if not.\"\"\"\u001B[39;00m\n\u001B[1;32m   1703\u001B[0m \u001B[38;5;28;01mif\u001B[39;00m \u001B[38;5;28mself\u001B[39m\u001B[38;5;241m.\u001B[39mrender_window \u001B[38;5;129;01mis\u001B[39;00m \u001B[38;5;28;01mNone\u001B[39;00m \u001B[38;5;129;01mor\u001B[39;00m \u001B[38;5;129;01mnot\u001B[39;00m \u001B[38;5;28mself\u001B[39m\u001B[38;5;241m.\u001B[39mrender_window\u001B[38;5;241m.\u001B[39mIsCurrent():\n\u001B[0;32m-> 1704\u001B[0m     \u001B[38;5;28;01mraise\u001B[39;00m \u001B[38;5;167;01mAttributeError\u001B[39;00m(\u001B[38;5;124m'\u001B[39m\u001B[38;5;124mRender window is not available.\u001B[39m\u001B[38;5;124m'\u001B[39m)\n",
      "\u001B[0;31mAttributeError\u001B[0m: Render window is not available."
     ]
    }
   ],
   "source": [
    "import pyvista as pv\n",
    "import pyvistaqt as pvqt\n",
    "mesh_prev = []\n",
    "for m in range(len(mesh_list)-4):\n",
    "    \n",
    "    # load \n",
    "    mesh1 = trimesh.load_mesh(mesh_list[m])\n",
    "#     mesh2 = trimesh.load_mesh(mesh_list[m+1])\n",
    "    mesh3 = trimesh.load_mesh(mesh_list[m+4])\n",
    "    \n",
    "    \n",
    "    # smooth \n",
    "    mesh1_sm_raw = trimesh.smoothing.filter_taubin(mesh1, iterations=50)\n",
    "    \n",
    "#     mesh2_sm = trimesh.smoothing.filter_taubin(mesh2, iterations=50)\n",
    "    mesh3_sm = trimesh.smoothing.filter_taubin(mesh3, iterations=50)\n",
    "    \n",
    "    # register first\n",
    "    trf, _ = trimesh.registration.mesh_other(mesh1_sm_raw, mesh3_sm)\n",
    "    mesh1_sm = mesh1_sm_raw.apply_transform(trf)\n",
    "    \n",
    "    # get distance between meshes\n",
    "    points = np.asarray(mesh1_sm.vertices)\n",
    "    distances = trimesh.proximity.signed_distance(mesh3_sm, points)\n",
    "    zf = (np.max(points[:, 0]) - np.min(points[:, 0]))/0.8\n",
    "    # bound scalar display range\n",
    "    p75 = 0.008#np.percentile(distances, 85)\n",
    "    p10 = -0.008#np.percentile(distances, 15)\n",
    "    distances[np.where(distances>p75)] = p75\n",
    "    distances[np.where(distances<p10)] = p10\n",
    "\n",
    "    if m > 0:\n",
    "        trf, _ = trimesh.registration.mesh_other(mesh1_sm_raw, mesh_prev)\n",
    "        mesh1_plot = mesh1_sm_raw.apply_transform(trf)\n",
    "    else\n",
    "        mesh1_plot = mesh1_sm_raw\n",
    "        \n",
    "    pv_mesh1 = pv.wrap(mesh1_sm_raw)\n",
    "#     target_reduction = 0.25\n",
    "    pv_mesh1.point_data['scalars'] = distances\n",
    "#     pv_mesh1_ds = pv_mesh1.decimate_pro(target_reduction, preserve_topology=True)\n",
    "\n",
    "    plotter = pv.Plotter(off_screen=True)\n",
    "    plotter.add_mesh(pv_mesh1, lighting=True, show_edges=False, scalars='scalars')\n",
    "    plotter.camera_position = 'xy'\n",
    "    plotter.camera.azimuth = 180\n",
    "    plotter.camera_elevation = 0\n",
    "    plotter.camera.zoom(zf)\n",
    "    plotter.remove_legend()\n",
    "    plotter.remove_scalar_bar()\n",
    "#     plotter.update_bounds_axes(b_tuple)\n",
    "#     plotter.show(screenshot=save_path_plain + f'dish_surf_T{m:03}.tif')\n",
    "#     plotter.show_bounds(axes_ranges=b_tuple, \n",
    "#                     show_zlabels=False, show_xlabels=False, show_ylabels=False,\n",
    "#                     show_xaxis=False, show_yaxis=False, show_zaxis=False)\n",
    "#     plotter.show(jupyter_backend='static')\n",
    "\n",
    "    plotter.screenshot(filename=save_path_dist + f'fish_surf_T{m:03}.tif')\n",
    "    \n",
    "    plotter.close()\n",
    "    plotter.deep_clean()\n",
    "    \n",
    "    mesh_prev = mesh1_plot\n",
    "\n"
   ]
  },
  {
   "cell_type": "code",
   "execution_count": 16,
   "id": "1efc9f9d",
   "metadata": {},
   "outputs": [
    {
     "data": {
      "application/vnd.jupyter.widget-view+json": {
       "model_id": "976e2adcea8242b689ed47a4cf59b10c",
       "version_major": 2,
       "version_minor": 0
      },
      "text/plain": [
       "AppLayout(children=(VBox(children=(HTML(value='<h3></h3>'), Dropdown(description='Colormap:', options=(('BrBG'…"
      ]
     },
     "metadata": {},
     "output_type": "display_data"
    }
   ],
   "source": [
    "mesh1_sm_raw = trimesh.smoothing.filter_taubin(mesh1, iterations=500)\n",
    "pv_mesh1 = pv.wrap(mesh1_sm_raw)\n",
    "pv_mesh1_ds = pv_mesh1.decimate_pro(0.1, preserve_topology=True)\n",
    "curv = pv_mesh1_ds.curvature()\n",
    "curv[np.where(np.abs(curv)>=10)] = 10\n",
    "pv_mesh1_ds.plot(jupyter_backend='ipygany', scalars=curv)"
   ]
  },
  {
   "cell_type": "code",
   "execution_count": 11,
   "id": "ec9504f2",
   "metadata": {},
   "outputs": [
    {
     "name": "stdout",
     "output_type": "stream",
     "text": [
      "-5088911940.958595\n",
      "-1283.3790457697419\n",
      "5088911606.203498\n",
      "1822.4886176513703\n"
     ]
    }
   ],
   "source": [
    "print(np.min(curv))\n",
    "print(np.percentile(curv,1))\n",
    "print(np.max(curv))\n",
    "print(np.percentile(curv,99))"
   ]
  },
  {
   "cell_type": "code",
   "execution_count": null,
   "id": "fe3f36a3",
   "metadata": {},
   "outputs": [],
   "source": []
  }
 ],
 "metadata": {
  "kernelspec": {
   "display_name": "Python 3 (ipykernel)",
   "language": "python",
   "name": "python3"
  },
  "language_info": {
   "codemirror_mode": {
    "name": "ipython",
    "version": 3
   },
   "file_extension": ".py",
   "mimetype": "text/x-python",
   "name": "python",
   "nbconvert_exporter": "python",
   "pygments_lexer": "ipython3",
   "version": "3.10.8"
  }
 },
 "nbformat": 4,
 "nbformat_minor": 5
}
