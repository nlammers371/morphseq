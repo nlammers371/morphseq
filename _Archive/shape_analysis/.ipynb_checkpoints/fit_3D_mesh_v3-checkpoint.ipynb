{
 "cells": [
  {
   "cell_type": "markdown",
   "metadata": {},
   "source": [
    "# Experiment with extracting shape info from confocal images of fish embryos"
   ]
  },
  {
   "cell_type": "code",
   "execution_count": null,
   "metadata": {
    "pycharm": {
     "is_executing": true
    }
   },
   "outputs": [],
   "source": [
    "from aicsimageio import AICSImage\n",
    "import os \n",
    "\n",
    "# define save paths\n",
    "image_name = \"1C_LM010_RT_kikume\"\n",
    "read_path = \"/Users/nick/Dropbox (Cole Trapnell's Lab)/Nick/morphMap/data/yx1_samples/20230322/RT/\"\n",
    "image_path = read_path + image_name + \".nd2\"\n",
    "pcd_path = \"/Users/nick/Dropbox (Cole Trapnell's Lab)/Nick/morphMap/data/yx1_pcd/20230322/RT/\"\n",
    "\n",
    "# make save directory\n",
    "if not os.path.isdir(pcd_path):\n",
    "    os.makedirs(pcd_path)\n",
    "\n",
    "# load image\n",
    "imObject = AICSImage(image_path)"
   ]
  },
  {
   "cell_type": "code",
   "execution_count": null,
   "metadata": {
    "pycharm": {
     "is_executing": true
    }
   },
   "outputs": [],
   "source": [
    "# upsample along z axis\n",
    "import scipy\n",
    "import numpy as np\n",
    "\n",
    "# get resolution\n",
    "res_raw = imObject.physical_pixel_sizes\n",
    "res_array = np.asarray(res_raw)\n",
    "res_array = np.insert(res_array, 0, 1)\n",
    "pixel_size_z = res_array[1]\n",
    "pixel_size_x = res_array[2]\n",
    "pixel_size_y = res_array[3]\n",
    "\n",
    "# extract raw image\n",
    "imData = np.squeeze(imObject.data)\n",
    "\n",
    "# resize image such that voxels are isotropic\n",
    "z_rs_factor = pixel_size_z/pixel_size_x\n",
    "ds_factor = 2\n",
    "pixel_size_xy = pixel_size_x * ds_factor\n",
    "pixel_size_z = pixel_size_x * ds_factor * 4\n",
    "\n",
    "imData_rs = scipy.ndimage.zoom(imData, [z_rs_factor/ds_factor/4, 1/ds_factor, 1/ds_factor])"
   ]
  },
  {
   "cell_type": "markdown",
   "metadata": {},
   "source": [
    "## Step1: segment 2D region that contains the embryo"
   ]
  },
  {
   "cell_type": "code",
   "execution_count": null,
   "metadata": {
    "pycharm": {
     "is_executing": true
    }
   },
   "outputs": [],
   "source": [
    "import plotly.graph_objects as go\n",
    "from skimage.morphology import (erosion, dilation, opening, closing,  # noqa\n",
    "                                white_tophat)\n",
    "import plotly.express as px\n",
    "from skimage import data\n",
    "from skimage import filters\n",
    "from skimage.segmentation import active_contour\n",
    "import matplotlib.pyplot as plt\n",
    "from skimage.measure import label, regionprops\n",
    "from skimage.morphology import black_tophat, skeletonize, convex_hull_image \n",
    "from skimage.morphology import disk\n",
    "import skimage\n",
    "\n",
    "# find brightest pixel\n",
    "max_pos_z = np.argmax(imData_rs, axis=0)\n",
    "max_brightness_z = np.max(imData_rs, axis=0)\n",
    "\n",
    "# Calculate threshold\n",
    "# threshold_ni = filters.threshold_niblack(max_brightness_z, window_size=51)\n",
    "# threshold_ot = filters.threshold_otsu(max_brightness_z)\n",
    "threshold_sa_3d = filters.threshold_sauvola(imData_rs, window_size=11)\n",
    "threshold_sa_2d = filters.threshold_sauvola(max_brightness_z, window_size=11)\n",
    "\n",
    "# this should result in a sparse cloud of white regions that jointly define the embryo body\n",
    "fish_mask_2d = (max_brightness_z < threshold_sa_2d)*1\n",
    "\n",
    "# # use morphological closure operation to fill in shape\n",
    "footprint = disk(15)\n",
    "fish_closed = closing(fish_mask_2d, footprint)\n",
    "\n",
    "# # remove small objects \n",
    "fish_strip = skimage.morphology.remove_small_objects(label(fish_closed), min_size=50000)\n",
    "\n",
    "# # erode to\n",
    "fish_clean = skimage.morphology.binary_dilation(fish_strip, footprint)\n",
    "\n",
    "# apply 3D threshold and mask with 2d outline\n",
    "fish_mask = np.multiply(fish_clean, (imData_rs < threshold_sa_3d)*1)\n",
    "\n",
    "plt.subplot(2,2,1)\n",
    "plt.imshow(fish_mask[5,:,:])\n",
    "\n",
    "plt.subplot(2,2,2)\n",
    "plt.imshow(fish_mask[15,:,:])\n",
    "\n",
    "plt.subplot(2,2,3)\n",
    "plt.imshow(fish_mask[25,:,:])\n",
    "\n",
    "plt.subplot(2,2,4)\n",
    "plt.imshow(fish_mask[35,:,:])\n"
   ]
  },
  {
   "cell_type": "code",
   "execution_count": null,
   "metadata": {},
   "outputs": [],
   "source": [
    "plt.imshow(fish_clean)"
   ]
  },
  {
   "cell_type": "markdown",
   "metadata": {},
   "source": [
    "**Generate 3D point cloud containing thresholded points**"
   ]
  },
  {
   "cell_type": "code",
   "execution_count": null,
   "metadata": {
    "pycharm": {
     "is_executing": true
    }
   },
   "outputs": [],
   "source": [
    "# generate coordinate grid arrays\n",
    "z_grid, y_grid, x_grid = np.meshgrid(range(0, imData_rs.shape[0]), \n",
    "                                     range(0, imData_rs.shape[1]), \n",
    "                                     range(0, imData_rs.shape[2]),\n",
    "                                     indexing='ij')\n",
    "\n",
    "# get embryo points\n",
    "x_points = x_grid[np.where(fish_mask==1)]*pixel_size_xy\n",
    "y_points = y_grid[np.where(fish_mask==1)]*pixel_size_xy\n",
    "z_points = z_grid[np.where(fish_mask==1)]*pixel_size_z\n",
    "i_points = imData_rs[np.where(fish_mask==1)]\n",
    "\n",
    "# convert to array\n",
    "n_samples = x_points.size\n",
    "xyz_array = np.concatenate((np.reshape(x_points, (n_samples, 1)),\n",
    "                            np.reshape(y_points, (n_samples, 1)),\n",
    "                            np.reshape(z_points, (n_samples, 1))), axis=1)\n",
    "\n",
    "# Pass xyz to Open3D.o3d.geometry.PointCloud and visualize\n",
    "pcd = o3d.geometry.PointCloud()\n",
    "pcd.points = o3d.utility.Vector3dVector(xyz_array)\n",
    "o3d.io.write_point_cloud(pcd_path + image_name + \"_3D.ply\", pcd)\n",
    "\n",
    "# plot\n",
    "pv_cloud = pv.PolyData(np.asarray(pcd.points))\n",
    "pv_cloud.plot(jupyter_backend='ipygany', scalars=i_points)"
   ]
  },
  {
   "cell_type": "markdown",
   "metadata": {
    "pycharm": {
     "is_executing": true
    }
   },
   "source": [
    "**Remove outlier points** "
   ]
  },
  {
   "cell_type": "code",
   "execution_count": null,
   "metadata": {
    "pycharm": {
     "is_executing": true
    }
   },
   "outputs": [],
   "source": [
    "# cl, ind = pcd.remove_statistical_outlier(nb_neighbors=20, std_ratio=1.5)\n",
    "\n",
    "# xyz_out = np.delete(xyz_array, ind, axis=0)\n",
    "# xyz_in = xyz_array[ind]\n",
    "\n",
    "# pcd_in = o3d.geometry.PointCloud()\n",
    "# pcd_in.points = o3d.utility.Vector3dVector(xyz_in)\n",
    "\n",
    "# pcd_out = o3d.geometry.PointCloud()\n",
    "# pcd_out.points = o3d.utility.Vector3dVector(xyz_out)\n",
    "\n",
    "# pv_cloud_out = pv.PolyData(xyz_out)\n",
    "# pv_cloud_in = pv.PolyData(xyz_in)\n",
    "# pv_cloud_in.plot(jupyter_backend='ipygany', scalars=xyz_in[:, 2])"
   ]
  },
  {
   "cell_type": "markdown",
   "metadata": {},
   "source": [
    "**Downsample**"
   ]
  },
  {
   "cell_type": "code",
   "execution_count": null,
   "metadata": {},
   "outputs": [],
   "source": [
    "vx_size = 7\n",
    "pcd_down = pcd.voxel_down_sample(voxel_size=vx_size)\n",
    "xyz_down = np.asarray(pcd_down.points)\n",
    "pv_down = pv.PolyData(xyz_down)\n",
    "pv_down.plot(show_edges=True, jupyter_backend='ipygany')"
   ]
  },
  {
   "cell_type": "markdown",
   "metadata": {
    "pycharm": {
     "is_executing": true
    }
   },
   "source": [
    "**Attempt rough meshing with \"raw\" points.** "
   ]
  },
  {
   "cell_type": "code",
   "execution_count": null,
   "metadata": {
    "pycharm": {
     "is_executing": true
    }
   },
   "outputs": [],
   "source": [
    "# Attempt with delaunay 2d algorithm\n",
    "alpha = 10\n",
    "dl_3d_mesh = pv_down.delaunay_3d(alpha=alpha)\n",
    "# dl_3d_mesh = alphashape.alphashape(xyz_in, alpha=8)\n",
    "# dl_3d_mesh.fill_holes(200, inplace=True)\n",
    "# smooth = dl_3d_mesh.smooth_taubin(n_iter=25, pass_band=0.3)\n",
    "# smooth.plot(show_edges=True, jupyter_backend='ipygany')\n",
    "dl_3d_mesh.plot(show_edges=True, jupyter_backend='ipygany')"
   ]
  },
  {
   "cell_type": "markdown",
   "metadata": {
    "pycharm": {
     "is_executing": true
    }
   },
   "source": [
    "**Try masking approach in 3D**"
   ]
  },
  {
   "cell_type": "code",
   "execution_count": null,
   "metadata": {},
   "outputs": [],
   "source": [
    "from skimage.morphology import ball\n",
    "import scipy\n",
    "\n",
    "z_rs_factor = pixel_size_z/pixel_size_x\n",
    "ds_factor = 8\n",
    "pixel_size_xy = pixel_size_x * ds_factor\n",
    "pixel_size_z = pixel_size_x * ds_factor * 4\n",
    "\n",
    "imData_rs = scipy.ndimage.zoom(imData, [z_rs_factor/ds_factor/4, 1/ds_factor, 1/ds_factor])\n",
    "\n",
    "z_grid, y_grid, x_grid = np.meshgrid(range(0, imData_rs.shape[0]), \n",
    "                                     range(0, imData_rs.shape[1]), \n",
    "                                     range(0, imData_rs.shape[2]),\n",
    "                                     indexing='ij')\n",
    "\n",
    "\n",
    "threshold_sa_3d = filters.threshold_sauvola(imData_rs, window_size=5)\n",
    "\n",
    "# this should result in a sparse cloud of white regions that jointly define the embryo body\n",
    "fish_strip_3d = (imData_rs > threshold_sa_3d)*1\n",
    "\n",
    "# use morphological closure operation to fill in shape\n",
    "footprint = ball(5)\n",
    "# fish_strip_3d = scipy.ndimage.morphology.binary_closing(fish_mask_3d, footprint)\n",
    "\n",
    "# # remove small objects \n",
    "# fish_strip_3d = skimage.morphology.ndimage.remove_small_objects(label(fish_closed_3d), min_size=50000)\n",
    "\n",
    "plt.subplot(2,2,1)\n",
    "plt.imshow(fish_strip_3d[1,:,:])\n",
    "\n",
    "plt.subplot(2,2,2)\n",
    "plt.imshow(fish_strip_3d[6,:,:])\n",
    "\n",
    "plt.subplot(2,2,3)\n",
    "plt.imshow(fish_strip_3d[11,:,:])\n",
    "\n",
    "plt.subplot(2,2,4)\n",
    "plt.imshow(fish_strip_3d[16,:,:])\n"
   ]
  },
  {
   "cell_type": "code",
   "execution_count": null,
   "metadata": {},
   "outputs": [],
   "source": [
    "x_points2 = x_grid[np.where(fish_strip_3d>0)]*pixel_size_xy\n",
    "y_points2 = y_grid[np.where(fish_strip_3d>0)]*pixel_size_xy\n",
    "z_points2 = z_grid[np.where(fish_strip_3d>0)]*pixel_size_z\n",
    "i_points2 = imData_rs[np.where(fish_strip_3d>0)]\n",
    "\n",
    "# convert to array\n",
    "n_samples2 = x_points2.size\n",
    "xyz_array2 = np.concatenate((np.reshape(x_points2, (n_samples2, 1)),\n",
    "                            np.reshape(y_points2, (n_samples2, 1)),\n",
    "                            np.reshape(z_points2, (n_samples2, 1))), axis=1)\n",
    "\n",
    "# Pass xyz to Open3D.o3d.geometry.PointCloud and visualize\n",
    "pcd2 = o3d.geometry.PointCloud()\n",
    "pcd2.points = o3d.utility.Vector3dVector(xyz_array2)\n",
    "# o3d.io.write_point_cloud(pcd_path + image_name + \"_3D.ply\", pcd)\n",
    "\n",
    "\n",
    "# plot\n",
    "vx_size = 3\n",
    "pcd_down2 = pcd2.voxel_down_sample(voxel_size=vx_size)\n",
    "xyz_down2 = np.asarray(pcd_down2.points)\n",
    "pv_down2 = pv.PolyData(xyz_down2)\n",
    "pv_down2.plot(show_edges=True, jupyter_backend='ipygany')"
   ]
  },
  {
   "cell_type": "code",
   "execution_count": null,
   "metadata": {},
   "outputs": [],
   "source": [
    "np.where(fish_strip_3d==1)"
   ]
  },
  {
   "cell_type": "code",
   "execution_count": null,
   "metadata": {},
   "outputs": [],
   "source": []
  }
 ],
 "metadata": {
  "kernelspec": {
   "display_name": "Python 3 (ipykernel)",
   "language": "python",
   "name": "python3"
  },
  "language_info": {
   "codemirror_mode": {
    "name": "ipython",
    "version": 3
   },
   "file_extension": ".py",
   "mimetype": "text/x-python",
   "name": "python",
   "nbconvert_exporter": "python",
   "pygments_lexer": "ipython3",
   "version": "3.10.8"
  }
 },
 "nbformat": 4,
 "nbformat_minor": 1
}
