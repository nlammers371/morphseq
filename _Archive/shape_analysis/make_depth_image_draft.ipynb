{
 "cells": [
  {
   "cell_type": "markdown",
   "metadata": {},
   "source": [
    "# Experiment with extracting shape info from confocal images of fish embryos"
   ]
  },
  {
   "cell_type": "code",
   "execution_count": null,
   "metadata": {},
   "outputs": [],
   "source": [
    "from aicsimageio import AICSImage\n",
    "import os \n",
    "import glob2 as glob\n",
    "import numpy as np\n",
    "from matplotlib import pyplot as plt\n",
    "import plotly.graph_objects as go\n",
    "from skimage.morphology import (erosion, dilation, opening, closing,  # noqa\n",
    "                                white_tophat)\n",
    "import plotly.express as px\n",
    "from skimage import data\n",
    "from skimage import filters\n",
    "from skimage.segmentation import active_contour\n",
    "import matplotlib.pyplot as plt\n",
    "from skimage.measure import label, regionprops\n",
    "from skimage.morphology import black_tophat, skeletonize, convex_hull_image \n",
    "from skimage.morphology import disk\n",
    "import skimage\n",
    "from matplotlib.pyplot import colorbar \n",
    "from matplotlib.pyplot import savefig\n",
    "import scipy\n",
    "\n",
    "save_path_depth = \"/Users/nick/Dropbox (Cole Trapnell's Lab)/Nick/morphSeq/data/20230412/3D_depth/\"\n",
    "# make save directory\n",
    "if not os.path.isdir(save_path_depth):\n",
    "    os.makedirs(save_path_depth)\n",
    "    \n",
    "\n",
    "image_path = \"/Users/nick/Dropbox (Cole Trapnell's Lab)/Nick/morphSeq/data/20230412/timeseries.nd2\"\n",
    "imObject = AICSImage(image_path)\n",
    "\n",
    "imObject.set_scene(\"XYPos:17\")\n",
    "n_time_points = imObject.dims[\"T\"][0]\n",
    "res_raw = imObject.physical_pixel_sizes\n",
    "res_array = np.asarray(res_raw)\n",
    "\n",
    "# generate and save depth image\n",
    "n_time_points = imObject.dims[\"T\"][0]"
   ]
  },
  {
   "cell_type": "code",
   "execution_count": null,
   "metadata": {},
   "outputs": [],
   "source": [
    "from skimage.measure import label, regionprops, regionprops_table\n",
    "\n",
    "scale_x = 512\n",
    "scale_y = 256\n",
    "\n",
    "### resample to obtain desired pixel resoultion\n",
    "target_res = 5.86 # um per pixel\n",
    "rs_vector = res_array / target_res\n",
    "rs_inv = np.floor(rs_vector**(-1)).astype(int)\n",
    "rs_inv[0] = 1\n",
    "rs_vector2 = np.multiply(rs_inv, rs_vector)\n",
    "# set time index\n",
    "t = 0\n",
    "\n",
    "# extract image\n",
    "imData = np.squeeze(imObject.get_image_data(\"CZYX\", T=t))\n",
    "\n",
    "# Step 1: block reduction. Essentially max pooling\n",
    "imData_block = skimage.measure.block_reduce(imData, (rs_inv[0], rs_inv[1], rs_inv[2]), np.max)\n",
    "\n",
    "# Step 2: rescale so that voxels are isotropic\n",
    "imData_rs = scipy.ndimage.zoom(imData_block, rs_vector2)\n",
    "\n",
    "# Step 3: find brightest Z pixels at each xy coordinate\n",
    "max_z_b = np.argmax(imData_rs, 0)\n",
    "max_b_z = np.max(imData_rs, 0) # and brightest pixel values\n",
    "\n",
    "# Step 4: mask\n",
    "threshold_sa = filters.threshold_sauvola(max_b_z, window_size=9)\n",
    "fish_mask = (max_b_z < threshold_sa)*1 \n",
    "fp = disk(10)\n",
    "fish_closed = closing(fish_mask, fp) # morphological closing\n",
    "fp_small = disk(5)\n",
    "fish_strip = skimage.morphology.remove_small_objects(label(fish_closed), min_size=600) # remove small objects\n",
    "fish_clean = skimage.morphology.binary_erosion(fish_strip, fp_small) # clean up edges\n",
    "fish_clean = scipy.ndimage.binary_fill_holes(fish_clean)\n",
    "plt.imshow(fish_clean)"
   ]
  },
  {
   "cell_type": "code",
   "execution_count": null,
   "metadata": {},
   "outputs": [],
   "source": [
    "# max_z_b = max_b_z\n",
    "\n",
    "# step 5: Normalize\n",
    "mean_z = np.mean(max_z_b[np.where(fish_clean==1)])\n",
    "std_z = np.std(max_z_b[np.where(fish_clean==1)])\n",
    "\n",
    "im_norm = -(max_z_b-mean_z)/std_z\n",
    "\n",
    "size_x = 512\n",
    "size_y = 256\n",
    "\n",
    "# step 6: use mask to replace background pixels with white noise\n",
    "im_norm[np.where(fish_clean==0)] = np.random.normal(loc=0, scale=.1, size=(np.sum(fish_clean==0),))\n",
    "\n",
    "# Step 7: resize and center image\n",
    "regions = regionprops(label(fish_clean))\n",
    "im_center = regions[0].centroid\n",
    "im_centroid = np.round(im_center).astype(int)\n",
    "\n",
    "im_array = np.random.normal(loc=0, scale=.1, size=(size_y, size_x)) # initialize array\n",
    "\n",
    "xmin = max(im_centroid[1]-(size_x/2),0)\n",
    "xmax = min(xmin+size_x, fish_clean.shape[1])\n",
    "from_x = np.arange(xmin, xmax).astype(int)\n",
    "\n",
    "ymin = max(im_centroid[0]-(size_y/2),0)\n",
    "ymax = min(xmin+size_y, fish_clean.shape[0])\n",
    "from_y = np.arange(ymin, ymax).astype(int)\n",
    "\n",
    "c_diff_y = size_y/2 - im_center[0] + 0.5\n",
    "c_diff_x = size_x/2 - im_center[1] + 0.5\n",
    "\n",
    "to_y = np.round(from_y + c_diff_y).astype(int)\n",
    "to_x = np.round(from_x + c_diff_x).astype(int)\n",
    "\n",
    "im_array[to_y[0]:to_y[-1], to_x[0]:to_x[-1]] = im_norm[from_y[0]:from_y[-1], from_x[0]:from_x[-1]]\n",
    "\n",
    "plt.imshow(im_array)"
   ]
  },
  {
   "cell_type": "code",
   "execution_count": null,
   "metadata": {},
   "outputs": [],
   "source": [
    "np.max(im_array)"
   ]
  },
  {
   "cell_type": "code",
   "execution_count": null,
   "metadata": {},
   "outputs": [],
   "source": [
    "import umap\n",
    "from sklearn.datasets import fetch_openml\n",
    "import matplotlib.pyplot as plt\n",
    "# apply UMAP dimensionality reduction (why not?)\n",
    "\n",
    "reducer = umap.UMAP(random_state=42)\n",
    "embedding = reducer.fit_transform(im_array)"
   ]
  },
  {
   "cell_type": "code",
   "execution_count": null,
   "metadata": {},
   "outputs": [],
   "source": [
    "import plotly.graph_objects as go\n",
    "import plotly.express as px\n",
    "\n",
    "fig = px.scatter(embedding[:, 0], embedding[:, 1], color=range(n_time_points))\n",
    "fig.show()"
   ]
  }
 ],
 "metadata": {
  "kernelspec": {
   "display_name": "Python 3 (ipykernel)",
   "language": "python",
   "name": "python3"
  },
  "language_info": {
   "codemirror_mode": {
    "name": "ipython",
    "version": 3
   },
   "file_extension": ".py",
   "mimetype": "text/x-python",
   "name": "python",
   "nbconvert_exporter": "python",
   "pygments_lexer": "ipython3",
   "version": "3.10.8"
  }
 },
 "nbformat": 4,
 "nbformat_minor": 1
}
