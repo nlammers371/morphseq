{
 "cells": [
  {
   "cell_type": "markdown",
   "metadata": {},
   "source": [
    "# Experiment with extracting shape info from confocal images of fish embryos"
   ]
  },
  {
   "cell_type": "code",
   "execution_count": null,
   "metadata": {
    "pycharm": {
     "is_executing": true
    }
   },
   "outputs": [],
   "source": [
    "from aicsimageio import AICSImage\n",
    "import os \n",
    "\n",
    "# define save paths\n",
    "image_name = \"2024_StayGold_10x_s018_T40\"\n",
    "read_path = \"/Users/nick/Dropbox (Cole Trapnell's Lab)/Nick/morphSeq/data/yx1_samples/20230412/\"\n",
    "image_path = read_path + image_name + \".ome.tif\"\n",
    "pcd_path = \"/Users/nick/Dropbox (Cole Trapnell's Lab)/Nick/morphSeq/data/yx1_pcd/20230412/\"\n",
    "\n",
    "# make save directory\n",
    "if not os.path.isdir(pcd_path):\n",
    "    os.makedirs(pcd_path)\n",
    "\n",
    "# load image\n",
    "imObject = AICSImage(image_path)\n"
   ]
  },
  {
   "cell_type": "code",
   "execution_count": null,
   "metadata": {
    "pycharm": {
     "is_executing": true
    }
   },
   "outputs": [],
   "source": [
    "# upsample along z axis\n",
    "import scipy\n",
    "import numpy as np\n",
    "\n",
    "# get resolution\n",
    "res_raw = imObject.physical_pixel_sizes\n",
    "res_array = np.asarray(res_raw)\n",
    "res_array = np.insert(res_array, 0, 1)\n",
    "pixel_size_z = 20#res_array[1]\n",
    "pixel_size_x = 1#res_array[2]\n",
    "pixel_size_y = 1#res_array[3]\n",
    "\n",
    "# extract raw image\n",
    "imData = np.squeeze(imObject.data)\n",
    "\n",
    "# resize image such that voxels are isotropic\n",
    "z_rs_factor = pixel_size_z/pixel_size_x\n",
    "ds_factor = 4\n",
    "pixel_size_new = pixel_size_x / ds_factor\n",
    "imData_rs = scipy.ndimage.zoom(imData, [z_rs_factor/ds_factor, 1/ds_factor, 1/ds_factor])"
   ]
  },
  {
   "cell_type": "markdown",
   "metadata": {},
   "source": [
    "## Step1: segment 2D region that contains the embryo"
   ]
  },
  {
   "cell_type": "code",
   "execution_count": null,
   "metadata": {
    "pycharm": {
     "is_executing": true
    }
   },
   "outputs": [],
   "source": [
    "import plotly.graph_objects as go\n",
    "from skimage.morphology import (erosion, dilation, opening, closing,  # noqa\n",
    "                                white_tophat)\n",
    "import plotly.express as px\n",
    "from skimage import data\n",
    "from skimage import filters\n",
    "from skimage.segmentation import active_contour\n",
    "import matplotlib.pyplot as plt\n",
    "from skimage.measure import label, regionprops\n",
    "from skimage.morphology import black_tophat, skeletonize, convex_hull_image \n",
    "from skimage.morphology import disk\n",
    "import skimage\n",
    "\n",
    "# find brightest pixel at each xy position\n",
    "max_pos_z = np.argmax(imData_rs, axis=0)\n",
    "max_brightness_z = np.max(imData_rs, axis=0)\n",
    "\n",
    "# Calculate threshold\n",
    "# threshold_ni = filters.threshold_niblack(max_brightness_z, window_size=51)\n",
    "# threshold_ot = filters.threshold_otsu(max_brightness_z)\n",
    "threshold_sa = filters.threshold_sauvola(max_brightness_z, window_size=11)\n",
    "\n",
    "# this should result in a sparse cloud of white regions that jointly define the embryo body\n",
    "fish_mask = (max_brightness_z < threshold_sa)*1\n",
    "\n",
    "# use morphological closure operation to fill in shape\n",
    "footprint = disk(21)\n",
    "fish_closed = closing(fish_mask, footprint)\n",
    "\n",
    "# remove small objects \n",
    "fish_strip = skimage.morphology.remove_small_objects(label(fish_closed), min_size=64)\n",
    "\n",
    "# erode to\n",
    "fish_clean = skimage.morphology.binary_erosion(fish_strip, footprint)\n",
    "                   \n",
    "# generate x and y reference grids\n",
    "x_grid, y_grid = np.meshgrid(range(0, imData_rs.shape[2]), range(0, imData_rs.shape[1]))\n",
    "# x_points = x_grid[np.where(fish_clean==1)]\n",
    "# y_points = y_grid[np.where(fish_clean==1)]\n",
    "# xy_in = np.concatenate((np.reshape(x_points, (x_points.size, 1)), \n",
    "#                         np.reshape(y_points, (y_points.size, 1))), axis=1)\n",
    "# # xy_in = [(x_points[i], y_points[i]) for i in range(x_points.size)]\n",
    "\n",
    "# fig = px.scatter(x=xy_in[:, 0], \n",
    "#                  y=xy_in[:, 1])\n",
    "\n",
    "# fig.show()\n",
    "plt.imshow(fish_mask)\n",
    "# plt.imshow(fish_closed)\n",
    "# plt.imshow(fish_strip)\n"
   ]
  },
  {
   "cell_type": "markdown",
   "metadata": {},
   "source": [
    "## Look at various projections"
   ]
  },
  {
   "cell_type": "code",
   "execution_count": null,
   "metadata": {},
   "outputs": [],
   "source": [
    "max_p_xy = np.max(imData_rs, axis=0)\n",
    "i_99 = np.percentile(max_p_xy, 99)\n",
    "plt.imshow(max_p_xy, vmax=i_99)"
   ]
  },
  {
   "cell_type": "code",
   "execution_count": null,
   "metadata": {},
   "outputs": [],
   "source": [
    "max_p_xz = np.max(imData_rs, axis=1)\n",
    "i_99 = np.percentile(max_p_xz, 99)\n",
    "plt.imshow(max_p_xz, vmax=i_99)"
   ]
  },
  {
   "cell_type": "code",
   "execution_count": null,
   "metadata": {},
   "outputs": [],
   "source": [
    "max_p_yz = np.max(imData_rs, axis=2)\n",
    "i_99 = np.percentile(max_p_yz, 99)\n",
    "plt.imshow(max_p_yz, vmax=i_99)"
   ]
  },
  {
   "cell_type": "markdown",
   "metadata": {},
   "source": [
    "**Apply 2D mask to the full 3D image.** Then, apply thresholding to find the first \"inside\" pixel in each xy column"
   ]
  },
  {
   "cell_type": "code",
   "execution_count": null,
   "metadata": {
    "pycharm": {
     "is_executing": true
    }
   },
   "outputs": [],
   "source": [
    "# # calculate pixel-specific thresholds \n",
    "# threshold_3D_sa = filters.threshold_niblack(imData_rs, window_size=51)\n",
    "# imData_thresh = (imData_rs > threshold_3D_sa)*1\n",
    "\n",
    "# # apply mask\n",
    "# imData_masked = np.multiply(fish_clean, imData_thresh)\n",
    "\n",
    "# plt.imshow(imData_masked[20, :, :])"
   ]
  },
  {
   "cell_type": "code",
   "execution_count": null,
   "metadata": {
    "pycharm": {
     "is_executing": true
    }
   },
   "outputs": [],
   "source": [
    "# generate final 2D mask that dictates which mixels are and are not counted\n",
    "threshold_sa_2 = filters.threshold_sauvola(max_brightness_z, window_size=11)\n",
    "# bkd = np.percentile(max_brightness_z[np.where(fish_clean != 1)], 99)\n",
    "imData2D_thresh = (max_brightness_z > threshold_sa_2)*1\n",
    "imData2D_masked = np.multiply(fish_clean, imData2D_thresh)\n",
    "# footprint_small = disk(1)\n",
    "# imData2D_masked = skimage.morphology.binary_erosion(imData2D_masked, footprint_small)\n",
    "plt.imshow(imData2D_masked)"
   ]
  },
  {
   "cell_type": "code",
   "execution_count": null,
   "metadata": {
    "pycharm": {
     "is_executing": true
    }
   },
   "outputs": [],
   "source": [
    "import pyvista as pv\n",
    "import open3d as o3d\n",
    "\n",
    "# calculate position of max point for each\n",
    "x_surf = x_grid[np.where(imData2D_masked==1)]*pixel_size_new\n",
    "y_surf = y_grid[np.where(imData2D_masked==1)]*pixel_size_new\n",
    "z_surf = max_pos_z[np.where(imData2D_masked==1)]*pixel_size_new\n",
    "i_surf = max_brightness_z[np.where(imData2D_masked==1)]*pixel_size_new\n",
    "\n",
    "n_samples = x_surf.size\n",
    "xyz_array = np.concatenate((np.reshape(x_surf, (n_samples, 1)),\n",
    "                            np.reshape(y_surf, (n_samples, 1)),\n",
    "                            np.reshape(z_surf, (n_samples, 1))), axis=1)\n",
    "\n",
    "\n",
    "# Pass xyz to Open3D.o3d.geometry.PointCloud and visualize\n",
    "pcd = o3d.geometry.PointCloud()\n",
    "pcd.points = o3d.utility.Vector3dVector(xyz_array)\n",
    "o3d.io.write_point_cloud(pcd_path + image_name + \"_full.ply\", pcd)\n",
    "\n",
    "# plot\n",
    "pv_cloud = pv.PolyData(np.asarray(pcd.points))\n",
    "pv_cloud.plot(jupyter_backend='ipygany', scalars=i_surf)"
   ]
  },
  {
   "cell_type": "markdown",
   "metadata": {
    "pycharm": {
     "is_executing": true
    }
   },
   "source": [
    "**Downsample and Remove outlier points** "
   ]
  },
  {
   "cell_type": "code",
   "execution_count": null,
   "metadata": {
    "pycharm": {
     "is_executing": true
    }
   },
   "outputs": [],
   "source": [
    "downpcd = pcd.voxel_down_sample(voxel_size=1)\n",
    "\n",
    "cl, ind = downpcd.remove_statistical_outlier(nb_neighbors=20, std_ratio=1.5)\n",
    "\n",
    "# xyz_out = np.delete(xyz_array, ind, axis=0)\n",
    "# xyz_in = xyz_array[ind]\n",
    "\n",
    "pcd_in = downpcd.select_by_index(ind)\n",
    "# pcd_in.points = o3d.utility.Vector3dVector(xyz_in)\n",
    "\n",
    "# pcd_out = o3d.geometry.PointCloud()\n",
    "# pcd_out.points = o3d.utility.Vector3dVector(xyz_out)\n",
    "\n",
    "# pv_cloud_out = pv.PolyData(pcd_in.points)\n",
    "xyz_in = np.asarray(pcd_in.points)\n",
    "pv_cloud_in = pv.PolyData(xyz_in)\n",
    "pv_cloud_in.plot(jupyter_backend='ipygany', scalars=xyz_in[:, 2])"
   ]
  },
  {
   "cell_type": "markdown",
   "metadata": {
    "pycharm": {
     "is_executing": true
    }
   },
   "source": [
    "**Attempt rough meshing with \"raw\" points.** "
   ]
  },
  {
   "cell_type": "code",
   "execution_count": null,
   "metadata": {
    "pycharm": {
     "is_executing": true
    }
   },
   "outputs": [],
   "source": [
    "# Attempt with delaunay 2d algorithm\n",
    "alpha = 30\n",
    "dl_3d_mesh = pv_cloud_in.delaunay_2d(alpha=alpha)\n",
    "# dl_3d_mesh = alphashape.alphashape(xyz_in, alpha=8)\n",
    "dl_3d_mesh.fill_holes(200, inplace=True)\n",
    "smooth = dl_3d_mesh#.smooth_taubin(n_iter=50, pass_band=0.2)\n",
    "# smooth.plot(show_edges=True, jupyter_backend='ipygany')\n",
    "smooth.plot(show_edges=True, jupyter_backend='ipygany')"
   ]
  },
  {
   "cell_type": "markdown",
   "metadata": {},
   "source": [
    "## What if we apply threshold to the entire 3D volume?"
   ]
  },
  {
   "cell_type": "code",
   "execution_count": null,
   "metadata": {
    "pycharm": {
     "is_executing": true
    }
   },
   "outputs": [],
   "source": [
    "from skimage.filters import threshold_multiotsu\n",
    "\n",
    "\n",
    "# thresholds = threshold_multiotsu(imData_rs)\n",
    "\n",
    "thresh_sa3 = filters.threshold_sauvola(imData_rs, window_size=11)\n",
    "im3_thresh = imData_rs <= thresh_sa3\n",
    "# footprint = ball(11)\n",
    "# fish_closed3 = closing(im3_thresh, footprint)\n",
    "# im3_thresh2 = np.multiply(fish_strip, fish_closed3) # apply 2D mask\n",
    "keep_indices = np.where(im3_thresh==1)\n",
    "\n",
    "z_grid3, y_grid3, x_grid3 = np.meshgrid(range(0, imData_rs.shape[0]), \n",
    "                                        range(0, imData_rs.shape[1]), \n",
    "                                        range(0, imData_rs.shape[2]),\n",
    "                                       indexing=\"ij\")\n",
    "\n",
    "# # calculate position of max point for each\n",
    "x_surf3 = x_grid3[keep_indices]*pixel_size_new\n",
    "y_surf3 = y_grid3[keep_indices]*pixel_size_new\n",
    "z_surf3 = z_grid3[keep_indices]*pixel_size_new\n",
    "i_surf3 = imData_rs[keep_indices]"
   ]
  },
  {
   "cell_type": "code",
   "execution_count": null,
   "metadata": {
    "pycharm": {
     "is_executing": true
    }
   },
   "outputs": [],
   "source": [
    "n_samples3 = x_surf3.size\n",
    "xyz_array3 = np.concatenate((np.reshape(x_surf3, (n_samples3, 1)),\n",
    "                             np.reshape(y_surf3, (n_samples3, 1)),\n",
    "                             np.reshape(z_surf3, (n_samples3, 1))), axis=1)\n",
    "\n",
    "dtype = o3d.core.float32\n",
    "device = o3d.core.Device(\"CPU:0\")\n",
    "\n",
    "pcd3 = o3d.geometry.PointCloud()\n",
    "pcd3.points = o3d.utility.Vector3dVector(xyz_array3)\n"
   ]
  },
  {
   "cell_type": "code",
   "execution_count": null,
   "metadata": {},
   "outputs": [],
   "source": [
    "# enocde point intensity using the color attribute\n",
    "color_array = np.empty((np.asarray(pcd3.points).shape))\n",
    "color_array[:, 2] = i_surf3\n",
    "pcd3.colors = o3d.utility.Vector3dVector(color_array) \n",
    "\n",
    "downpcd3 = pcd3.voxel_down_sample(voxel_size=2)\n",
    "\n",
    "cl, ind = downpcd3.remove_statistical_outlier(nb_neighbors=20, std_ratio=1.5)\n",
    "\n",
    "# xyz_out = np.delete(xyz_array, ind, axis=0)\n",
    "# xyz_in = xyz_array[ind]\n",
    "\n",
    "pcd_in3 = downpcd3.select_by_index(ind)\n",
    "c_array = np.asarray(pcd_in3.colors)\n",
    "# plot\n",
    "pv_cloud3 = pv.PolyData(np.asarray(pcd_in3.points))\n",
    "pv_cloud3.plot(jupyter_backend='ipygany', scalars=c_array[:, 2])"
   ]
  },
  {
   "cell_type": "markdown",
   "metadata": {},
   "source": [
    "**Experiment with Gaussian Process Regression as a way to smooth and interpolate the data prior to meshing**"
   ]
  },
  {
   "cell_type": "code",
   "execution_count": null,
   "metadata": {
    "pycharm": {
     "is_executing": true
    }
   },
   "outputs": [],
   "source": [
    "# from sklearn.gaussian_process import GaussianProcessRegressor\n",
    "# from sklearn.gaussian_process.kernels import RBF\n",
    "\n",
    "# # downsample\n",
    "# pcd_down = pcd_in.voxel_down_sample(voxel_size=7)\n",
    "# xyz_down = np.asarray(pcd_down.points)\n",
    "# print(np.asarray(pcd_down.points).shape)\n",
    "\n",
    "# # fit model\n",
    "# scale = 2\n",
    "# gp = GaussianProcessRegressor(kernel=RBF(scale, (1e-5, 1e5)))\n",
    "# gp.fit(xyz_down[:,0:2], xyz_down[:,2])  \n",
    "\n"
   ]
  },
  {
   "cell_type": "code",
   "execution_count": null,
   "metadata": {
    "pycharm": {
     "is_executing": true
    }
   },
   "outputs": [],
   "source": [
    "# # xyz_pd = np.concatenate((xy_in, z_pd), axis=1)\n",
    "# # get prediction\n",
    "# pd_grid_res = 75\n",
    "# x_pd = np.linspace(np.min(xyz_down[:, 0]), np.max(xyz_down[:, 0]), pd_grid_res)\n",
    "# y_pd = np.linspace(np.min(xyz_down[:, 1]), np.max(xyz_down[:, 1]), pd_grid_res)\n",
    "\n",
    "# xg_pd, yg_pd = np.meshgrid(x_pd, y_pd)\n",
    "\n",
    "# xy_in = np.concatenate((np.reshape(xg_pd, (xg_pd.size, 1)),np.reshape(yg_pd, (yg_pd.size, 1))), axis=1)\n",
    "# z_pd = gp.predict(xy_in)\n",
    "\n",
    "# fig = px.scatter_3d(x=xy_in[:, 0], \n",
    "#                     y=xy_in[:, 1],\n",
    "#                     z=z_pd,\n",
    "#                     opacity=0.2,\n",
    "#                    color = z_pd)\n",
    "\n",
    "# fig.update_layout(scene=dict(zaxis=dict(range=[0.2,150])))\n",
    "# fig.show()"
   ]
  },
  {
   "cell_type": "code",
   "execution_count": null,
   "metadata": {
    "pycharm": {
     "is_executing": true
    }
   },
   "outputs": [],
   "source": [
    "# from pymeshfix import _meshfix\n",
    "\n",
    "# dl_3d_geom = dl_3d_mesh.extract_geometry()\n",
    "# dl_3d_geom.save(pv_mesh_name)\n",
    "\n",
    "\n",
    "# # tin = _meshfix.PyTMesh()\n",
    "# # tin.load_file(pv_mesh_name)\n",
    "\n",
    "# # fix_size = 200\n",
    "# # tin.fill_small_boundaries(nbe=fix_size, refine=True)\n",
    "\n",
    "# # # convert to mesh\n",
    "# # vert, faces = tin.return_arrays()\n",
    "# # triangles = np.empty((faces.shape[0], 4), dtype=faces.dtype)\n",
    "# # triangles[:, -3:] = faces\n",
    "# # triangles[:, 0] = 3\n",
    "\n",
    "# # surf_fix = pv.PolyData(vert, triangles)\n",
    "# dl_3d_geom.plot(show_edges=False, jupyter_backend='ipygany')"
   ]
  },
  {
   "cell_type": "code",
   "execution_count": null,
   "metadata": {
    "pycharm": {
     "is_executing": true
    }
   },
   "outputs": [],
   "source": [
    "# surf_fix.plot(show_edges=False, jupyter_backend='panel')"
   ]
  },
  {
   "cell_type": "markdown",
   "metadata": {
    "pycharm": {
     "is_executing": true
    }
   },
   "source": [
    "This captures gross morphological features, but we give up a lot of xy resolution. How could we do better?\n",
    "\n",
    "**Attempt 1:** fit spline along z direction"
   ]
  },
  {
   "cell_type": "code",
   "execution_count": null,
   "metadata": {
    "pycharm": {
     "is_executing": true
    }
   },
   "outputs": [],
   "source": [
    "# import scipy\n",
    "\n",
    "# test = scipy.interpolate.bisplrep(xyz_ds_in[:, 0], xyz_ds_in[:, 1], xyz_ds_in[:, 2])"
   ]
  },
  {
   "cell_type": "code",
   "execution_count": null,
   "metadata": {
    "pycharm": {
     "is_executing": true
    }
   },
   "outputs": [],
   "source": [
    "# npoints = 50\n",
    "# xg = np.linspace(np.min(xyz_ds_in[:, 0]), np.max(xyz_ds_in[:, 0]), npoints)\n",
    "# yg = np.linspace(np.min(xyz_ds_in[:, 1]), np.max(xyz_ds_in[:, 1]), npoints)\n",
    "\n",
    "# x_grid, y_grid = np.meshgrid(xg, yg)\n",
    "# test_out = scipy.interpolate.bisplev(xg, yg, test, dx=0, dy=0)\n",
    "\n",
    "\n",
    "# xyz_interp = np.concatenate((np.reshape(x_grid, (x_grid.size, 1)), \n",
    "#                              np.reshape(y_grid, (x_grid.size, 1)),\n",
    "#                              np.reshape(test_out, (x_grid.size, 1))),\n",
    "#                              axis=1)\n",
    "\n",
    "# xyz_interp_filt = xyz_interp[np.where(xyz_interp[:, 2]<=350)]\n",
    "# xyz_interp_filt = xyz_interp_filt[xyz_interp_filt[:, 2]>=0]\n",
    "# # pcd_interp = o3d.geometry.PointCloud()\n",
    "# # pcd_interp.points = o3d.utility.Vector3dVector(xyz_interp)\n",
    "# # bbox = pcd_ds.get_axis_aligned_bounding_box()\n",
    "# # pcd_interp_crop = pcd_interp.crop(bbox)\n",
    "\n",
    "# pv_cloud_interp = pv.PolyData(xyz_interp_filt)\n",
    "# pv_cloud_interp.plot(jupyter_backend='ipygany')"
   ]
  },
  {
   "cell_type": "markdown",
   "metadata": {},
   "source": [
    "**Attempt 2:** downsample, interpolate, and then infer mesh"
   ]
  },
  {
   "cell_type": "code",
   "execution_count": null,
   "metadata": {
    "pycharm": {
     "is_executing": true
    }
   },
   "outputs": [],
   "source": [
    "# import numpy as np\n",
    "# import scipy\n",
    "# from scipy import interpolate\n",
    "\n",
    "\n",
    "# f = interpolate.interp2d(xyz_ds_in[:, 0], xyz_ds_in[:, 1], xyz_ds_in[:, 2], kind='linear')\n"
   ]
  },
  {
   "cell_type": "code",
   "execution_count": null,
   "metadata": {
    "pycharm": {
     "is_executing": true
    }
   },
   "outputs": [],
   "source": [
    "# npoints = 150\n",
    "# xg = np.linspace(np.min(xyz_ds_in[:, 0]), np.max(xyz_ds_in[:, 0]), npoints)\n",
    "# yg = np.linspace(np.min(xyz_ds_in[:, 1]), np.max(xyz_ds_in[:, 1]), npoints)\n",
    "\n",
    "# x_grid, y_grid = np.meshgrid(xg, yg)\n",
    "\n",
    "# znew = f(xg, yg)\n",
    "\n",
    "# xyz_interp = np.concatenate((np.reshape(x_grid, (x_grid.size, 1)), \n",
    "#                              np.reshape(y_grid, (x_grid.size, 1)),\n",
    "#                              np.reshape(znew, (x_grid.size, 1))),\n",
    "#                              axis=1)\n",
    "\n",
    "# xyz_interp_filt = xyz_interp[np.where(xyz_interp[:, 2]<=350)]\n",
    "# xyz_interp_filt = xyz_interp_filt[xyz_interp_filt[:, 2]>0]\n",
    "# pv_cloud_interp = pv.PolyData(xyz_interp_filt)\n",
    "# pv_cloud_interp.plot(jupyter_backend='ipygany')"
   ]
  },
  {
   "cell_type": "code",
   "execution_count": null,
   "metadata": {
    "pycharm": {
     "is_executing": true
    }
   },
   "outputs": [],
   "source": []
  }
 ],
 "metadata": {
  "kernelspec": {
   "display_name": "Python 3 (ipykernel)",
   "language": "python",
   "name": "python3"
  },
  "language_info": {
   "codemirror_mode": {
    "name": "ipython",
    "version": 3
   },
   "file_extension": ".py",
   "mimetype": "text/x-python",
   "name": "python",
   "nbconvert_exporter": "python",
   "pygments_lexer": "ipython3",
   "version": "3.10.8"
  }
 },
 "nbformat": 4,
 "nbformat_minor": 1
}
