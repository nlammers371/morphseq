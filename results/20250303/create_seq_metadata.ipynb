{
 "cells": [
  {
   "cell_type": "markdown",
   "id": "56223bbd-9f4a-4e31-97b5-b6601f09cb73",
   "metadata": {},
   "source": [
    "### This notebook loads count datasets and compiles them into a metadata data frame"
   ]
  },
  {
   "cell_type": "code",
   "execution_count": 6,
   "id": "ed665e8d-a0c3-4e02-9247-0cd3e00ee4fa",
   "metadata": {},
   "outputs": [],
   "source": [
    "import pandas as pd\n",
    "import numpy as np\n",
    "import os\n",
    "from glob2 import glob\n",
    "\n",
    "# set path to data\n",
    "hooke_data_path = \"/Users/nick/Cole Trapnell's Lab Dropbox/Nick Lammers/Nick/morphseq/seq_data/emb_projections/ccs_data_cell_type_broad/\"\n",
    "\n",
    "# set write path\n",
    "out_path = \"/Users/nick/Cole Trapnell's Lab Dropbox/Nick Lammers/Nick/morphseq/metadata/\""
   ]
  },
  {
   "cell_type": "code",
   "execution_count": 7,
   "id": "2e47e87a-cbf6-48ee-8d0a-c4f0ccefa7b5",
   "metadata": {},
   "outputs": [],
   "source": [
    "# get list of files\n",
    "ccs_list = sorted(glob(hooke_data_path + \"*_metadata.csv\"))\n",
    "\n",
    "df_list = []\n",
    "for ccs_path in ccs_list:\n",
    "    df = pd.read_csv(ccs_path, index_col=0)\n",
    "    df_list.append(df)\n",
    "\n",
    "meta_df = pd.concat(df_list, axis=0)\n",
    "meta_df = meta_df.drop_duplicates(subset=[\"sample\"])\n",
    "\n",
    "meta_df.to_csv(out_path + \"seq_embryo_df.csv\", index=True)"
   ]
  }
 ],
 "metadata": {
  "kernelspec": {
   "display_name": "Python 3 (ipykernel)",
   "language": "python",
   "name": "python3"
  },
  "language_info": {
   "codemirror_mode": {
    "name": "ipython",
    "version": 3
   },
   "file_extension": ".py",
   "mimetype": "text/x-python",
   "name": "python",
   "nbconvert_exporter": "python",
   "pygments_lexer": "ipython3",
   "version": "3.10.13"
  }
 },
 "nbformat": 4,
 "nbformat_minor": 5
}
