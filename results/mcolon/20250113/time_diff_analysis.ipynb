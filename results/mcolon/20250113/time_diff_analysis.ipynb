{
 "cells": [
  {
   "cell_type": "code",
   "execution_count": 7,
   "metadata": {},
   "outputs": [
    {
     "name": "stderr",
     "output_type": "stream",
     "text": [
      "/tmp/8671962.1.trapnell-login.q/ipykernel_3749754/1188106209.py:35: DtypeWarning: Columns (2) have mixed types. Specify dtype option on import or set low_memory=False.\n",
      "  df_orig = pd.read_csv(path)\n"
     ]
    }
   ],
   "source": [
    "import pandas as pd\n",
    "import os\n",
    "import numpy as np\n",
    "import seaborn as sns \n",
    "import plotly.express as px\n",
    "from sklearn.decomposition import PCA\n",
    "import plotly.graph_objects as go\n",
    "import plotly.express as px\n",
    "import matplotlib.colors as mcolors\n",
    "import matplotlib.cm as cm\n",
    "\n",
    "os.chdir(\"/net/trapnell/vol1/home/mdcolon/proj/morphseq\")\n",
    "from src.vae.auxiliary_scripts.assess_vae_results import assess_vae_results\n",
    "\n",
    "from src.functions.embryo_df_performance_metrics import *\n",
    "\n",
    "\n",
    "# save_dir = \"/net/trapnell/vol1/home/mdcolon/proj/morphseq/results/20250113\"\n",
    "# save_dir = \"/net/trapnell/vol1/home/mdcolon/proj/morphseq/results/20250115\"\n",
    "save_dir = \"/net/trapnell/vol1/home/mdcolon/proj/morphseq/results/20250121\"\n",
    "\n",
    "\n",
    "\n",
    "merged_df = pd.read_csv(\"/net/trapnell/vol1/home/mdcolon/proj/morphseq/results/20241216/sweep_analysis/paired_models_and_metrics_df.csv\")\n",
    "merged_df_avg = merged_df[merged_df[\"Perturbation\"]==\"avg_pert\"]\n",
    "splines_final_df = pd.read_csv(\"/net/trapnell/vol1/home/mdcolon/proj/morphseq/results/20241216/sweep_analysis/splines_final_df.csv\")\n",
    "\n",
    "\n",
    "prev_embryo_df = pd.read_csv(\"/net/trapnell/vol1/home/mdcolon/proj/fishcaster/data/embryo_morph_df.csv\")\n",
    "\n",
    "\n",
    "\n",
    "model_index = 74 #choosen best morphology space\n",
    "\n",
    "path = merged_df_avg[merged_df_avg[\"model_index\"] == model_index][\"embryo_df_path_nohld\"].iloc[0]\n",
    "df_orig = pd.read_csv(path)\n",
    "z_mu_columns = [col for col in df_orig.columns if 'z_mu' in col]    \n",
    "z_mu_biological_columns = [col for col in z_mu_columns if \"b\" in col]\n",
    "df_orig[\"embryo_id\"] = df_orig[\"snip_id\"].str.rsplit('_', n=1).str[0]\n",
    "\n",
    "df_orig = df_orig.merge(\n",
    "    prev_embryo_df[['snip_id', 'temperature']],\n",
    "    on='snip_id',\n",
    "    how='left'  # Use 'left' to keep all rows from df\n",
    ").dropna()\n",
    "\n",
    "\n",
    "\n"
   ]
  },
  {
   "cell_type": "markdown",
   "metadata": {},
   "source": [
    "# partitioning dataset by temperature"
   ]
  },
  {
   "cell_type": "code",
   "execution_count": 8,
   "metadata": {},
   "outputs": [],
   "source": [
    "# Specify the minimum number of snip_ids per embryo_id\n",
    "min_snips = 20\n",
    "\n",
    "# Filter the DataFrame to only include embryo_id with at least `min_snips` snip_ids\n",
    "df = df_orig.groupby('embryo_id').filter(lambda x: len(x) >= min_snips)\n",
    "df_30 = df[df[\"temperature\"]==30.0]\n",
    "df_22 = df[df[\"temperature\"]==22.0]\n"
   ]
  },
  {
   "cell_type": "code",
   "execution_count": 17,
   "metadata": {},
   "outputs": [],
   "source": [
    "import pandas as pd\n",
    "from sklearn.decomposition import PCA\n",
    "\n",
    "def apply_pca_on_pert_comparisons(\n",
    "    df, \n",
    "    z_mu_biological_columns, \n",
    "    pert_comparisons=None, \n",
    "    n_components=3\n",
    "):\n",
    "    \"\"\"\n",
    "    Applies PCA on a subset of the DataFrame based on specified perturbations and adds PCA components\n",
    "    to the same DataFrame (rows not in 'pert_comparisons' are removed).\n",
    "\n",
    "    Parameters:\n",
    "    - df (pd.DataFrame): The original DataFrame containing the data.\n",
    "    - z_mu_biological_columns (list): List of column names in df to use for PCA.\n",
    "    - pert_comparisons (iterable, optional): An iterable (e.g., list) of phenotypes to include in PCA.\n",
    "                                             If None, all unique phenotypes are used.\n",
    "    - n_components (int, optional): Number of PCA components to compute. Default is 3.\n",
    "\n",
    "    Returns:\n",
    "    - pd.DataFrame: The filtered DataFrame (rows matching 'pert_comparisons') with added PCA columns.\n",
    "    \"\"\"\n",
    "    # Ensure necessary columns exist\n",
    "    required_columns = ['phenotype'] + z_mu_biological_columns\n",
    "    missing_columns = [col for col in required_columns if col not in df.columns]\n",
    "    if missing_columns:\n",
    "        raise ValueError(f\"DataFrame is missing required columns: {missing_columns}\")\n",
    "    \n",
    "    # Set pert_comparisons to all unique phenotypes if not provided\n",
    "    if pert_comparisons is None:\n",
    "        pert_comparisons = df['phenotype'].unique()\n",
    "        print(f\"No perturbations specified. Using all available phenotypes: {list(pert_comparisons)}\")\n",
    "    else:\n",
    "        print(f\"Using specified perturbations for PCA: {pert_comparisons}\")\n",
    "\n",
    "    # Filter the DataFrame based on 'pert_comparisons'\n",
    "    df = df[df['phenotype'].isin(pert_comparisons)]\n",
    "    \n",
    "    # If no rows remain, raise an error\n",
    "    if df.empty:\n",
    "        raise ValueError(\"No data found for the specified perturbations in pert_comparisons.\")\n",
    "    \n",
    "    # Extract the data for PCA\n",
    "    X = df[z_mu_biological_columns].values\n",
    "    \n",
    "    # Handle missing values if any\n",
    "    if pd.isnull(X).any():\n",
    "        raise ValueError(\"Missing values detected in z_mu_biological_columns. \"\n",
    "                         \"Please handle them before applying PCA.\")\n",
    "    \n",
    "    # Apply PCA\n",
    "    pca = PCA(n_components=n_components)\n",
    "    pcs = pca.fit_transform(X)\n",
    "    \n",
    "    # Create PCA column names\n",
    "    pca_columns = [f\"PCA_{i+1}\" for i in range(n_components)]\n",
    "    \n",
    "    # In-place assignment of PCA columns using a concise for loop\n",
    "    # Initialize columns with NaN (optional) before assignment\n",
    "    df.loc[:, pca_columns] = pd.NA\n",
    "    \n",
    "    for i, col in enumerate(pca_columns):\n",
    "        df[col] = pcs[:, i]\n",
    "    \n",
    "    # Calculate Explained Variance\n",
    "    explained_variance_ratio = pca.explained_variance_ratio_\n",
    "    total_explained_variance = explained_variance_ratio.sum()\n",
    "    \n",
    "    # Print organized output\n",
    "    print(\"\\nPCA Explained Variance:\")\n",
    "    print(\"----------------------------\")\n",
    "    print(f\"Total Explained Variance by {n_components} components: {total_explained_variance:.2%}\\n\")\n",
    "    \n",
    "    variance_data = {\n",
    "        'Principal Component': pca_columns,\n",
    "        'Explained Variance Ratio': [f\"{ratio:.2%}\" for ratio in explained_variance_ratio]\n",
    "    }\n",
    "    variance_df = pd.DataFrame(variance_data)\n",
    "    print(variance_df.to_string(index=False))\n",
    "    print(\"----------------------------\\n\")\n",
    "    \n",
    "    return df"
   ]
  },
  {
   "cell_type": "code",
   "execution_count": 9,
   "metadata": {},
   "outputs": [],
   "source": [
    "pert_comparisons = [\"wt\", \"lmx1b\", \"inj-ctrl\"]\n"
   ]
  },
  {
   "cell_type": "code",
   "execution_count": 18,
   "metadata": {},
   "outputs": [
    {
     "name": "stdout",
     "output_type": "stream",
     "text": [
      "Using specified perturbations for PCA: ['wt', 'lmx1b', 'inj-ctrl']\n",
      "\n",
      "PCA Explained Variance:\n",
      "----------------------------\n",
      "Total Explained Variance by 3 components: 87.41%\n",
      "\n",
      "Principal Component Explained Variance Ratio\n",
      "              PCA_1                   43.38%\n",
      "              PCA_2                   32.66%\n",
      "              PCA_3                   11.38%\n",
      "----------------------------\n",
      "\n",
      "Using specified perturbations for PCA: ['wt', 'lmx1b', 'inj-ctrl']\n"
     ]
    },
    {
     "name": "stderr",
     "output_type": "stream",
     "text": [
      "/tmp/8671962.1.trapnell-login.q/ipykernel_3749754/1512297501.py:64: SettingWithCopyWarning: \n",
      "A value is trying to be set on a copy of a slice from a DataFrame.\n",
      "Try using .loc[row_indexer,col_indexer] = value instead\n",
      "\n",
      "See the caveats in the documentation: https://pandas.pydata.org/pandas-docs/stable/user_guide/indexing.html#returning-a-view-versus-a-copy\n",
      "  df[col] = pcs[:, i]\n",
      "/tmp/8671962.1.trapnell-login.q/ipykernel_3749754/1512297501.py:64: SettingWithCopyWarning: \n",
      "A value is trying to be set on a copy of a slice from a DataFrame.\n",
      "Try using .loc[row_indexer,col_indexer] = value instead\n",
      "\n",
      "See the caveats in the documentation: https://pandas.pydata.org/pandas-docs/stable/user_guide/indexing.html#returning-a-view-versus-a-copy\n",
      "  df[col] = pcs[:, i]\n"
     ]
    },
    {
     "name": "stdout",
     "output_type": "stream",
     "text": [
      "\n",
      "PCA Explained Variance:\n",
      "----------------------------\n",
      "Total Explained Variance by 3 components: 88.17%\n",
      "\n",
      "Principal Component Explained Variance Ratio\n",
      "              PCA_1                   42.27%\n",
      "              PCA_2                   33.94%\n",
      "              PCA_3                   11.95%\n",
      "----------------------------\n",
      "\n",
      "Using specified perturbations for PCA: ['wt', 'lmx1b', 'inj-ctrl']\n",
      "\n",
      "PCA Explained Variance:\n",
      "----------------------------\n",
      "Total Explained Variance by 3 components: 85.55%\n",
      "\n",
      "Principal Component Explained Variance Ratio\n",
      "              PCA_1                   40.39%\n",
      "              PCA_2                   34.65%\n",
      "              PCA_3                   10.51%\n",
      "----------------------------\n",
      "\n"
     ]
    },
    {
     "name": "stderr",
     "output_type": "stream",
     "text": [
      "/tmp/8671962.1.trapnell-login.q/ipykernel_3749754/1512297501.py:64: SettingWithCopyWarning: \n",
      "A value is trying to be set on a copy of a slice from a DataFrame.\n",
      "Try using .loc[row_indexer,col_indexer] = value instead\n",
      "\n",
      "See the caveats in the documentation: https://pandas.pydata.org/pandas-docs/stable/user_guide/indexing.html#returning-a-view-versus-a-copy\n",
      "  df[col] = pcs[:, i]\n"
     ]
    }
   ],
   "source": [
    "df_30   = apply_pca_on_pert_comparisons(df_30  ,z_mu_biological_columns,pert_comparisons=pert_comparisons )\n",
    "df_22   = apply_pca_on_pert_comparisons(df_22  ,z_mu_biological_columns,pert_comparisons=pert_comparisons )\n",
    "df      = apply_pca_on_pert_comparisons(df_orig,z_mu_biological_columns,pert_comparisons=pert_comparisons )"
   ]
  },
  {
   "cell_type": "markdown",
   "metadata": {},
   "source": [
    "# creating splines\n"
   ]
  },
  {
   "cell_type": "code",
   "execution_count": 12,
   "metadata": {},
   "outputs": [],
   "source": [
    "import os\n",
    "import numpy as np\n",
    "import pandas as pd\n",
    "import plotly.graph_objects as go\n",
    "import plotly.express as px\n",
    "from tqdm import tqdm\n",
    "from sklearn.decomposition import PCA\n",
    "from sklearn.covariance import MinCovDet\n",
    "\n",
    "# ============================\n",
    "# Utility Functions\n",
    "# ============================\n",
    "def compute_spline_distances(spline_pts):\n",
    "    \"\"\"Compute cumulative distances along the spline.\"\"\"\n",
    "    diffs = np.diff(spline_pts, axis=0)\n",
    "    seg_lengths = np.linalg.norm(diffs, axis=1)\n",
    "    cumdist = np.insert(np.cumsum(seg_lengths), 0, 0.0)\n",
    "    return cumdist, cumdist[-1]\n",
    "\n",
    "def split_spline(spline_pts, k):\n",
    "    \"\"\"\n",
    "    Split the spline into k segments based on cumulative distance.\n",
    "    Returns a list of (start_pt, end_pt) tuples.\n",
    "    \"\"\"\n",
    "    cumdist, total_dist = compute_spline_distances(spline_pts)\n",
    "    segment_distances = np.linspace(0, total_dist, k+1)\n",
    "    segment_indices = np.searchsorted(cumdist, segment_distances)\n",
    "    segment_list = []\n",
    "    for i in range(k):\n",
    "        i0 = min(segment_indices[i], len(spline_pts) - 1)\n",
    "        i1 = min(segment_indices[i+1], len(spline_pts) - 1)\n",
    "        start_pt = spline_pts[i0]\n",
    "        end_pt = spline_pts[i1]\n",
    "        segment_list.append((start_pt, end_pt))\n",
    "    return segment_list\n",
    "\n",
    "def point_to_segment_distance(point, seg_start, seg_end):\n",
    "    \"\"\"\n",
    "    Minimum distance from a 3D point to a line segment defined by seg_start, seg_end.\n",
    "    \"\"\"\n",
    "    seg_vec = seg_end - seg_start\n",
    "    pt_vec = point - seg_start\n",
    "    seg_len_sq = np.dot(seg_vec, seg_vec)\n",
    "    if seg_len_sq == 0.0:\n",
    "        return np.linalg.norm(point - seg_start)\n",
    "    t = np.dot(pt_vec, seg_vec) / seg_len_sq\n",
    "    t = np.clip(t, 0.0, 1.0)\n",
    "    projection = seg_start + t * seg_vec\n",
    "    return np.linalg.norm(point - projection)\n",
    "\n",
    "def assign_points_to_segments(pert_df, segments):\n",
    "    \"\"\"\n",
    "    Assign each point to the closest segment, create a 'segment_id' column in pert_df.\n",
    "    \"\"\"\n",
    "    points = pert_df[[\"PCA_1\", \"PCA_2\", \"PCA_3\"]].values\n",
    "    assigned_segments = []\n",
    "    \n",
    "    for p in points:\n",
    "        min_dist = float('inf')\n",
    "        seg_idx = -1\n",
    "        for i, (s0, s1) in enumerate(segments):\n",
    "            dist = point_to_segment_distance(p, s0, s1)\n",
    "            if dist < min_dist:\n",
    "                min_dist = dist\n",
    "                seg_idx = i\n",
    "        assigned_segments.append(seg_idx)\n",
    "    \n",
    "    pert_df[\"segment_id\"] = assigned_segments\n",
    "    return pert_df\n",
    "\n",
    "def perform_robust_pca(seg_points):\n",
    "    \"\"\"\n",
    "    Perform robust PCA using Minimum Covariance Determinant (MCD).\n",
    "    Returns the principal axis (first eigenvector) or None if not enough points.\n",
    "    \"\"\"\n",
    "    if len(seg_points) < 2:\n",
    "        return None\n",
    "    try:\n",
    "        mcd = MinCovDet().fit(seg_points)\n",
    "        cov = mcd.covariance_\n",
    "        eig_vals, eig_vecs = np.linalg.eigh(cov)\n",
    "        principal_axis = eig_vecs[:, np.argmax(eig_vals)]\n",
    "        principal_axis /= np.linalg.norm(principal_axis)\n",
    "        return principal_axis\n",
    "    except:\n",
    "        # Fallback to standard PCA if MCD fails\n",
    "        pca = PCA(n_components=3)\n",
    "        pca.fit(seg_points)\n",
    "        principal_axis = pca.components_[0]\n",
    "        principal_axis /= np.linalg.norm(principal_axis)\n",
    "        return principal_axis\n",
    "\n",
    "def create_spline_segments_for_df(df, pert_splines, k=50):\n",
    "    \"\"\"\n",
    "    For each phenotype in df, finds its spline in pert_splines, splits it into k segments,\n",
    "    assigns each point to a segment, performs robust PCA for each segment, and returns:\n",
    "    \n",
    "    1) df_augmented: original df augmented with 'segment_id'\n",
    "    2) segment_info_df: columns = [\n",
    "        phenotype, seg_id, segment_avg_time, segment_var_time,\n",
    "        principal_axis_x, principal_axis_y, principal_axis_z,\n",
    "        segment_midpoint_x, segment_midpoint_y, segment_midpoint_z,\n",
    "        segment_start_x, segment_start_y, segment_start_z,\n",
    "        segment_end_x, segment_end_y, segment_end_z\n",
    "    ]\n",
    "    3) (optionally) return pert_splines, which is often unchanged\n",
    "    \"\"\"\n",
    "    # 1. Copy df so we don't mutate the original\n",
    "    df_augmented = df.copy()\n",
    "    \n",
    "    # 2. We'll store per-segment info in this list of dicts\n",
    "    segment_info_records = []\n",
    "    \n",
    "    # 3. Loop over each phenotype\n",
    "    unique_phenotypes = df_augmented[\"phenotype\"].unique()\n",
    "    for pert in tqdm(unique_phenotypes, desc=\"Processing phenotypes\"):\n",
    "        # A) Extract all points for this phenotype\n",
    "        pert_df = df_augmented[df_augmented[\"phenotype\"] == pert].copy()\n",
    "        if pert_df.empty:\n",
    "            continue\n",
    "        \n",
    "        # B) Retrieve the spline points for this phenotype\n",
    "        spline_data = pert_splines[pert_splines[\"phenotype\"] == pert]\n",
    "        if spline_data.empty:\n",
    "            continue\n",
    "        \n",
    "        # Convert to NumPy\n",
    "        spline_points = spline_data[[\"PCA_1\", \"PCA_2\", \"PCA_3\"]].values\n",
    "        \n",
    "        # C) Split the spline\n",
    "        segment_list = split_spline(spline_points, k)\n",
    "        \n",
    "        # D) Assign points to segments\n",
    "        pert_df = assign_points_to_segments(pert_df, segment_list)\n",
    "        \n",
    "        # E) Update df_augmented with new segment IDs\n",
    "        df_augmented.loc[pert_df.index, \"segment_id\"] = pert_df[\"segment_id\"]\n",
    "        \n",
    "        # F) For each segment, perform robust PCA\n",
    "        seg_data_dict = {}\n",
    "        for seg_id in range(k):\n",
    "            seg_points_df = pert_df[pert_df[\"segment_id\"] == seg_id]\n",
    "            seg_points = seg_points_df[[\"PCA_1\", \"PCA_2\", \"PCA_3\"]].values\n",
    "            \n",
    "            if len(seg_points) < 2:\n",
    "                principal_axis = None\n",
    "            else:\n",
    "                principal_axis = perform_robust_pca(seg_points)\n",
    "            \n",
    "            seg_start, seg_end = segment_list[seg_id]\n",
    "            midpoint = 0.5 * (seg_start + seg_end)\n",
    "            \n",
    "            seg_data_dict[seg_id] = {\n",
    "                \"principal_axis\": principal_axis,\n",
    "                \"segment_midpoint\": midpoint,\n",
    "                \"segment_start\": seg_start,\n",
    "                \"segment_end\": seg_end,\n",
    "                \"segment_avg_time\": seg_points_df[\"predicted_stage_hpf\"].mean(),\n",
    "                \"segment_var_time\": seg_points_df[\"predicted_stage_hpf\"].var()\n",
    "            }\n",
    "        \n",
    "        # G) Build segment_info_records\n",
    "        for seg_id, info in seg_data_dict.items():\n",
    "            principal_axis = info[\"principal_axis\"]\n",
    "            midpoint = info[\"segment_midpoint\"]\n",
    "            seg_start = info[\"segment_start\"]\n",
    "            seg_end = info[\"segment_end\"]\n",
    "            segment_avg_time = info[\"segment_avg_time\"]\n",
    "            segment_var_time = info[\"segment_var_time\"]\n",
    "            \n",
    "            if principal_axis is None:\n",
    "                px, py, pz = np.nan, np.nan, np.nan\n",
    "            else:\n",
    "                px, py, pz = principal_axis\n",
    "            \n",
    "            mx, my, mz = midpoint\n",
    "            sx, sy, sz = seg_start\n",
    "            ex, ey, ez = seg_end\n",
    "            \n",
    "            record = {\n",
    "                \"phenotype\": pert,\n",
    "                \"seg_id\": seg_id,\n",
    "                \"segment_avg_time\": segment_avg_time,\n",
    "                \"segment_var_time\": segment_var_time,\n",
    "                \"principal_axis_x\": px,\n",
    "                \"principal_axis_y\": py,\n",
    "                \"principal_axis_z\": pz,\n",
    "                \"segment_midpoint_x\": mx,\n",
    "                \"segment_midpoint_y\": my,\n",
    "                \"segment_midpoint_z\": mz,\n",
    "                \"segment_start_x\": sx,\n",
    "                \"segment_start_y\": sy,\n",
    "                \"segment_start_z\": sz,\n",
    "                \"segment_end_x\": ex,\n",
    "                \"segment_end_y\": ey,\n",
    "                \"segment_end_z\": ez\n",
    "            }\n",
    "            segment_info_records.append(record)\n",
    "    \n",
    "    # 4. Convert records to DataFrame\n",
    "    segment_info_df = pd.DataFrame(segment_info_records)\n",
    "    return df_augmented, segment_info_df, pert_splines\n",
    "\n",
    "# ============================\n",
    "# Main Wrapper Function\n",
    "# ============================\n",
    "def build_splines_and_segments(\n",
    "    df,\n",
    "    save_dir,\n",
    "    model_index,\n",
    "    LocalPrincipalCurveClass,\n",
    "    comparisons=None,\n",
    "    bandwidth=0.5,\n",
    "    max_iter=250,\n",
    "    tol=1e-3,\n",
    "    angle_penalty_exp=2,\n",
    "    early_stage_offset=1.0,\n",
    "    late_stage_offset=3.0,\n",
    "    k=50\n",
    "):\n",
    "    \"\"\"\n",
    "    1) Builds splines for each phenotype in `comparisons` using LocalPrincipalCurve\n",
    "    2) Creates `df_augmented` by assigning segment IDs for each phenotype\n",
    "    3) Returns `pert_splines`, `df_augmented`, and `segment_info_df`\n",
    "    \n",
    "    Parameters\n",
    "    ----------\n",
    "    df : pd.DataFrame\n",
    "        Input DataFrame containing at least [\"phenotype\", \"PCA_1\", \"PCA_2\", \"PCA_3\", \"predicted_stage_hpf\"].\n",
    "    comparisons : list\n",
    "        List of phenotypes to process.\n",
    "    save_dir : str\n",
    "        Directory to save the spline CSV if desired.\n",
    "    model_index : int\n",
    "        Model index used in naming output files.\n",
    "    LocalPrincipalCurveClass : class\n",
    "        Reference to your LocalPrincipalCurve class (or a similar spline-fitting class).\n",
    "    bandwidth : float\n",
    "        Bandwidth parameter for LocalPrincipalCurve.\n",
    "    max_iter : int\n",
    "        Max iterations for LocalPrincipalCurve fitting.\n",
    "    tol : float\n",
    "        Tolerance for LocalPrincipalCurve convergence.\n",
    "    angle_penalty_exp : int\n",
    "        Angle penalty exponent for LocalPrincipalCurve.\n",
    "    early_stage_offset : float\n",
    "        Window (in hours) for selecting \"early\" timepoints to compute the average start point.\n",
    "    late_stage_offset : float\n",
    "        Window (in hours) for selecting \"late\" timepoints to compute the average end point.\n",
    "    k : int\n",
    "        Number of segments to split each spline into.\n",
    "\n",
    "    Returns\n",
    "    -------\n",
    "    pert_splines : pd.DataFrame\n",
    "        DataFrame containing the spline points for each phenotype.\n",
    "    df_augmented : pd.DataFrame\n",
    "        Original DataFrame plus a `segment_id` column.\n",
    "    segment_info_df : pd.DataFrame\n",
    "        Per-segment PCA info (principal_axis, midpoint, etc.).\n",
    "    \"\"\"\n",
    "    \n",
    "    # ----------------------------\n",
    "    # 1. Generate a color palette\n",
    "    # and Handle `comparisons` Parameter\n",
    "    # ----------------------------\n",
    "    if comparisons is None:\n",
    "        comparisons = list(df[\"phenotype\"].unique())\n",
    "        print(f\"No comparisons specified. Using all available phenotypes: {comparisons}\")\n",
    "    else:\n",
    "        print(f\"Using specified comparisons for spline building: {comparisons}\")\n",
    "        \n",
    "\n",
    "    color_palette = px.colors.qualitative.Plotly\n",
    "    if len(comparisons) > len(color_palette):\n",
    "        extended_palette = color_palette * (len(comparisons) // len(color_palette) + 1)\n",
    "    else:\n",
    "        extended_palette = color_palette\n",
    "\n",
    "    # ----------------------------\n",
    "    # 2. Build Spline Data\n",
    "    # ----------------------------\n",
    "    print(\"Building spline data for each phenotype...\")\n",
    "    splines_records = []\n",
    "\n",
    "    df = df[df[\"phenotype\"].isin(comparisons)]\n",
    "    \n",
    "    for idx, pert in enumerate(tqdm(comparisons, desc=\"Creating splines for each phenotype\")):\n",
    "        # Filter the DataFrame for the given phenotype\n",
    "        pert_df = df[df[\"phenotype\"] == pert].copy()\n",
    "        if pert_df.empty:\n",
    "            # If no data points for this phenotype, skip\n",
    "            continue\n",
    "\n",
    "        # Extract PCA coordinates\n",
    "        pert_3d = pert_df[[\"PCA_1\", \"PCA_2\", \"PCA_3\"]].values\n",
    "        \n",
    "        # Compute average early stage point\n",
    "        min_time = pert_df[\"predicted_stage_hpf\"].min()\n",
    "        early_mask = (pert_df[\"predicted_stage_hpf\"] >= min_time) & \\\n",
    "                     (pert_df[\"predicted_stage_hpf\"] < min_time + early_stage_offset)\n",
    "        avg_early_timepoint = pert_df.loc[early_mask, [\"PCA_1\", \"PCA_2\", \"PCA_3\"]].mean().values\n",
    "        \n",
    "        # Compute average late stage point\n",
    "        max_time = pert_df[\"predicted_stage_hpf\"].max()\n",
    "        late_mask = (pert_df[\"predicted_stage_hpf\"] >= (max_time - late_stage_offset))\n",
    "        avg_late_timepoint = pert_df.loc[late_mask, [\"PCA_1\", \"PCA_2\", \"PCA_3\"]].mean().values\n",
    "\n",
    "        # Downsample for curve fitting (example: 5% for wt, 10% for others)\n",
    "        if len(pert_3d) == 0:\n",
    "            continue\n",
    "        \n",
    "        if pert == \"wt\":\n",
    "            subset_size = max(1, int(0.05 * len(pert_3d)))\n",
    "        else:\n",
    "            subset_size = max(1, int(0.10 * len(pert_3d)))\n",
    "\n",
    "        # Randomly select a subset of points for fitting\n",
    "        rng = np.random.RandomState(42)\n",
    "        subset_indices = rng.choice(len(pert_3d), size=subset_size, replace=False)\n",
    "        pert_3d_subset = pert_3d[subset_indices, :]\n",
    "\n",
    "        # Fit LocalPrincipalCurve\n",
    "        lpc = LocalPrincipalCurveClass(\n",
    "            bandwidth=bandwidth,\n",
    "            max_iter=max_iter,\n",
    "            tol=tol,\n",
    "            angle_penalty_exp=angle_penalty_exp\n",
    "        )\n",
    "        \n",
    "        # Fit with the optional start_points/end_point to anchor the spline\n",
    "        lpc.fit(\n",
    "            pert_3d_subset,\n",
    "            start_points=avg_early_timepoint,\n",
    "            end_point=avg_late_timepoint,\n",
    "            remove_similar_end_start_points=True\n",
    "        )\n",
    "        \n",
    "        spline_points = None\n",
    "        if len(lpc.cubic_splines) > 0:\n",
    "            # If your local principal curve class stores the final spline\n",
    "            spline_points = lpc.cubic_splines[0]\n",
    "        else:\n",
    "            # If no spline was built, skip\n",
    "            continue\n",
    "        \n",
    "        # Create a temporary DataFrame for the current spline\n",
    "        spline_df = pd.DataFrame(spline_points, columns=[\"PCA_1\", \"PCA_2\", \"PCA_3\"])\n",
    "        spline_df[\"phenotype\"] = pert\n",
    "        \n",
    "        # Collect for later concatenation\n",
    "        splines_records.append(spline_df)\n",
    "\n",
    "    # Concatenate all spline DataFrames\n",
    "    if splines_records:\n",
    "        pert_splines = pd.concat(splines_records, ignore_index=True)\n",
    "    else:\n",
    "        # Fallback to an empty DataFrame if no splines\n",
    "        pert_splines = pd.DataFrame(columns=[\"PCA_1\", \"PCA_2\", \"PCA_3\", \"phenotype\"])\n",
    "\n",
    "    # Optionally, save the spline data\n",
    "    spline_csv_path = os.path.join(save_dir, f\"pert_splines_{model_index}_unique.csv\")\n",
    "    pert_splines.to_csv(spline_csv_path, index=False)\n",
    "    print(f\"Spline DataFrame 'pert_splines' saved to: {spline_csv_path}\")\n",
    "\n",
    "    # ----------------------------\n",
    "    # 3. Create segments for each phenotype using the function above\n",
    "    # ----------------------------\n",
    "    print(\"Assigning segments and building segment_info_df...\")\n",
    "    df_augmented, segment_info_df, pert_splines_out = create_spline_segments_for_df(\n",
    "        df=df,\n",
    "        pert_splines=pert_splines,\n",
    "        k=k\n",
    "    )\n",
    "\n",
    "    # Return all three final structures\n",
    "    return pert_splines_out, df_augmented, segment_info_df"
   ]
  },
  {
   "cell_type": "markdown",
   "metadata": {},
   "source": [
    "## run pipeline on temp = 30"
   ]
  },
  {
   "cell_type": "code",
   "execution_count": 26,
   "metadata": {},
   "outputs": [
    {
     "name": "stdout",
     "output_type": "stream",
     "text": [
      "Using specified comparisons for spline building: ['wt', 'lmx1b', 'inj-ctrl']\n",
      "Building spline data for each phenotype...\n"
     ]
    },
    {
     "name": "stderr",
     "output_type": "stream",
     "text": [
      " ... (more hidden) ..."
     ]
    },
    {
     "name": "stdout",
     "output_type": "stream",
     "text": [
      "Starting point not in dataset. Using closest point: [ 1.47121752  2.13318189 -0.63422623]\n"
     ]
    },
    {
     "name": "stderr",
     "output_type": "stream",
     "text": [
      " ... (more hidden) ..."
     ]
    },
    {
     "name": "stdout",
     "output_type": "stream",
     "text": [
      "Starting point not in dataset. Using closest point: [ 1.34046015  2.02142912 -0.44426781]\n"
     ]
    },
    {
     "name": "stderr",
     "output_type": "stream",
     "text": [
      " ... (more hidden) ...\n"
     ]
    },
    {
     "name": "stdout",
     "output_type": "stream",
     "text": [
      "Starting point not in dataset. Using closest point: [ 1.29817803  1.88876139 -1.24965802]\n",
      "Spline DataFrame 'pert_splines' saved to: /net/trapnell/vol1/home/mdcolon/proj/morphseq/results/20250115/pert_splines_74_unique.csv\n",
      "Assigning segments and building segment_info_df...\n"
     ]
    },
    {
     "name": "stderr",
     "output_type": "stream",
     "text": [
      " ... (more hidden) .../net/trapnell/vol1/home/mdcolon/software/miniconda3/envs/vae_env_cluster/lib/python3.9/site-packages/sklearn/covariance/_robust_covariance.py:747: UserWarning:\n",
      "\n",
      "The covariance matrix associated to your dataset is not full rank\n",
      "\n",
      " ... (more hidden) .../net/trapnell/vol1/home/mdcolon/software/miniconda3/envs/vae_env_cluster/lib/python3.9/site-packages/sklearn/covariance/_robust_covariance.py:747: UserWarning:\n",
      "\n",
      "The covariance matrix associated to your dataset is not full rank\n",
      "\n",
      "/net/trapnell/vol1/home/mdcolon/software/miniconda3/envs/vae_env_cluster/lib/python3.9/site-packages/sklearn/covariance/_robust_covariance.py:747: UserWarning:\n",
      "\n",
      "The covariance matrix associated to your dataset is not full rank\n",
      "\n",
      " ... (more hidden) ...\n"
     ]
    }
   ],
   "source": [
    "pert_splines, df_augmented, segment_info_df = build_splines_and_segments(\n",
    "    df=df_30,\n",
    "    comparisons=pert_comparisons,\n",
    "    save_dir=save_dir,\n",
    "    model_index=model_index,\n",
    "    LocalPrincipalCurveClass=LocalPrincipalCurve,\n",
    "    bandwidth=0.5,\n",
    "    max_iter=250,\n",
    "    tol=1e-3,\n",
    "    angle_penalty_exp=2,\n",
    "    early_stage_offset=1.0,\n",
    "    late_stage_offset=3.0,\n",
    "    k=50\n",
    ")"
   ]
  },
  {
   "cell_type": "code",
   "execution_count": 11,
   "metadata": {},
   "outputs": [
    {
     "data": {
      "text/html": [
       "<div>\n",
       "<style scoped>\n",
       "    .dataframe tbody tr th:only-of-type {\n",
       "        vertical-align: middle;\n",
       "    }\n",
       "\n",
       "    .dataframe tbody tr th {\n",
       "        vertical-align: top;\n",
       "    }\n",
       "\n",
       "    .dataframe thead th {\n",
       "        text-align: right;\n",
       "    }\n",
       "</style>\n",
       "<table border=\"1\" class=\"dataframe\">\n",
       "  <thead>\n",
       "    <tr style=\"text-align: right;\">\n",
       "      <th></th>\n",
       "      <th>Unnamed: 0</th>\n",
       "      <th>snip_id</th>\n",
       "      <th>experiment_date</th>\n",
       "      <th>medium</th>\n",
       "      <th>short_pert_name</th>\n",
       "      <th>control_flag</th>\n",
       "      <th>phenotype</th>\n",
       "      <th>predicted_stage_hpf</th>\n",
       "      <th>surface_area_um</th>\n",
       "      <th>length_um</th>\n",
       "      <th>...</th>\n",
       "      <th>UMAP_02_bio_3</th>\n",
       "      <th>UMAP_00_n_3</th>\n",
       "      <th>UMAP_01_n_3</th>\n",
       "      <th>UMAP_02_n_3</th>\n",
       "      <th>embryo_id</th>\n",
       "      <th>temperature</th>\n",
       "      <th>PCA_1</th>\n",
       "      <th>PCA_2</th>\n",
       "      <th>PCA_3</th>\n",
       "      <th>segment_id</th>\n",
       "    </tr>\n",
       "  </thead>\n",
       "  <tbody>\n",
       "    <tr>\n",
       "      <th>28553</th>\n",
       "      <td>28553</td>\n",
       "      <td>20231110_A08_e00_t0000</td>\n",
       "      <td>20231110</td>\n",
       "      <td>MC_015</td>\n",
       "      <td>wt_wik</td>\n",
       "      <td>0</td>\n",
       "      <td>wt</td>\n",
       "      <td>14.575800</td>\n",
       "      <td>4.695712e+05</td>\n",
       "      <td>1440.615136</td>\n",
       "      <td>...</td>\n",
       "      <td>-0.530697</td>\n",
       "      <td>-1.536007</td>\n",
       "      <td>-3.314493</td>\n",
       "      <td>15.352544</td>\n",
       "      <td>20231110_A08_e00</td>\n",
       "      <td>30.0</td>\n",
       "      <td>1.604002</td>\n",
       "      <td>2.361333</td>\n",
       "      <td>-0.257550</td>\n",
       "      <td>1.0</td>\n",
       "    </tr>\n",
       "    <tr>\n",
       "      <th>28554</th>\n",
       "      <td>28554</td>\n",
       "      <td>20231110_A08_e00_t0001</td>\n",
       "      <td>20231110</td>\n",
       "      <td>MC_015</td>\n",
       "      <td>wt_wik</td>\n",
       "      <td>0</td>\n",
       "      <td>wt</td>\n",
       "      <td>15.485597</td>\n",
       "      <td>5.008578e+05</td>\n",
       "      <td>1518.497108</td>\n",
       "      <td>...</td>\n",
       "      <td>-0.356257</td>\n",
       "      <td>-1.753363</td>\n",
       "      <td>-3.234301</td>\n",
       "      <td>14.841131</td>\n",
       "      <td>20231110_A08_e00</td>\n",
       "      <td>30.0</td>\n",
       "      <td>1.255865</td>\n",
       "      <td>2.252998</td>\n",
       "      <td>-0.743311</td>\n",
       "      <td>3.0</td>\n",
       "    </tr>\n",
       "    <tr>\n",
       "      <th>28555</th>\n",
       "      <td>28555</td>\n",
       "      <td>20231110_A08_e00_t0003</td>\n",
       "      <td>20231110</td>\n",
       "      <td>MC_015</td>\n",
       "      <td>wt_wik</td>\n",
       "      <td>0</td>\n",
       "      <td>wt</td>\n",
       "      <td>17.003744</td>\n",
       "      <td>5.276554e+05</td>\n",
       "      <td>1553.130108</td>\n",
       "      <td>...</td>\n",
       "      <td>1.187136</td>\n",
       "      <td>-1.475960</td>\n",
       "      <td>-3.162710</td>\n",
       "      <td>14.183237</td>\n",
       "      <td>20231110_A08_e00</td>\n",
       "      <td>30.0</td>\n",
       "      <td>1.172694</td>\n",
       "      <td>2.369588</td>\n",
       "      <td>-0.602534</td>\n",
       "      <td>2.0</td>\n",
       "    </tr>\n",
       "    <tr>\n",
       "      <th>28556</th>\n",
       "      <td>28556</td>\n",
       "      <td>20231110_A08_e00_t0004</td>\n",
       "      <td>20231110</td>\n",
       "      <td>MC_015</td>\n",
       "      <td>wt_wik</td>\n",
       "      <td>0</td>\n",
       "      <td>wt</td>\n",
       "      <td>17.765088</td>\n",
       "      <td>5.543171e+05</td>\n",
       "      <td>1611.701777</td>\n",
       "      <td>...</td>\n",
       "      <td>0.872036</td>\n",
       "      <td>-1.872480</td>\n",
       "      <td>-3.348654</td>\n",
       "      <td>14.243721</td>\n",
       "      <td>20231110_A08_e00</td>\n",
       "      <td>30.0</td>\n",
       "      <td>1.086011</td>\n",
       "      <td>2.437398</td>\n",
       "      <td>-0.601313</td>\n",
       "      <td>1.0</td>\n",
       "    </tr>\n",
       "    <tr>\n",
       "      <th>28557</th>\n",
       "      <td>28557</td>\n",
       "      <td>20231110_A08_e00_t0005</td>\n",
       "      <td>20231110</td>\n",
       "      <td>MC_015</td>\n",
       "      <td>wt_wik</td>\n",
       "      <td>0</td>\n",
       "      <td>wt</td>\n",
       "      <td>18.522744</td>\n",
       "      <td>5.767618e+05</td>\n",
       "      <td>1635.800120</td>\n",
       "      <td>...</td>\n",
       "      <td>1.116986</td>\n",
       "      <td>-1.514437</td>\n",
       "      <td>-2.890027</td>\n",
       "      <td>13.727813</td>\n",
       "      <td>20231110_A08_e00</td>\n",
       "      <td>30.0</td>\n",
       "      <td>0.992295</td>\n",
       "      <td>2.387300</td>\n",
       "      <td>-0.656380</td>\n",
       "      <td>1.0</td>\n",
       "    </tr>\n",
       "    <tr>\n",
       "      <th>...</th>\n",
       "      <td>...</td>\n",
       "      <td>...</td>\n",
       "      <td>...</td>\n",
       "      <td>...</td>\n",
       "      <td>...</td>\n",
       "      <td>...</td>\n",
       "      <td>...</td>\n",
       "      <td>...</td>\n",
       "      <td>...</td>\n",
       "      <td>...</td>\n",
       "      <td>...</td>\n",
       "      <td>...</td>\n",
       "      <td>...</td>\n",
       "      <td>...</td>\n",
       "      <td>...</td>\n",
       "      <td>...</td>\n",
       "      <td>...</td>\n",
       "      <td>...</td>\n",
       "      <td>...</td>\n",
       "      <td>...</td>\n",
       "      <td>...</td>\n",
       "    </tr>\n",
       "    <tr>\n",
       "      <th>51711</th>\n",
       "      <td>51711</td>\n",
       "      <td>20240418_H06_e00_t0033</td>\n",
       "      <td>20240418</td>\n",
       "      <td>EM</td>\n",
       "      <td>wt_noto</td>\n",
       "      <td>0</td>\n",
       "      <td>wt</td>\n",
       "      <td>42.852133</td>\n",
       "      <td>1.204580e+06</td>\n",
       "      <td>2972.949444</td>\n",
       "      <td>...</td>\n",
       "      <td>3.840455</td>\n",
       "      <td>-0.917594</td>\n",
       "      <td>-1.681337</td>\n",
       "      <td>4.521986</td>\n",
       "      <td>20240418_H06_e00</td>\n",
       "      <td>30.0</td>\n",
       "      <td>1.954933</td>\n",
       "      <td>-0.584337</td>\n",
       "      <td>-0.180685</td>\n",
       "      <td>43.0</td>\n",
       "    </tr>\n",
       "    <tr>\n",
       "      <th>51712</th>\n",
       "      <td>51712</td>\n",
       "      <td>20240418_H06_e00_t0034</td>\n",
       "      <td>20240418</td>\n",
       "      <td>EM</td>\n",
       "      <td>wt_noto</td>\n",
       "      <td>0</td>\n",
       "      <td>wt</td>\n",
       "      <td>43.412247</td>\n",
       "      <td>1.107088e+06</td>\n",
       "      <td>2813.581831</td>\n",
       "      <td>...</td>\n",
       "      <td>3.920996</td>\n",
       "      <td>-0.900388</td>\n",
       "      <td>-1.762553</td>\n",
       "      <td>4.561643</td>\n",
       "      <td>20240418_H06_e00</td>\n",
       "      <td>30.0</td>\n",
       "      <td>1.906638</td>\n",
       "      <td>-0.617029</td>\n",
       "      <td>0.185494</td>\n",
       "      <td>43.0</td>\n",
       "    </tr>\n",
       "    <tr>\n",
       "      <th>51713</th>\n",
       "      <td>51713</td>\n",
       "      <td>20240418_H06_e00_t0035</td>\n",
       "      <td>20240418</td>\n",
       "      <td>EM</td>\n",
       "      <td>wt_noto</td>\n",
       "      <td>0</td>\n",
       "      <td>wt</td>\n",
       "      <td>43.972128</td>\n",
       "      <td>1.195110e+06</td>\n",
       "      <td>3022.353290</td>\n",
       "      <td>...</td>\n",
       "      <td>3.721135</td>\n",
       "      <td>-0.970442</td>\n",
       "      <td>-1.640879</td>\n",
       "      <td>4.428900</td>\n",
       "      <td>20240418_H06_e00</td>\n",
       "      <td>30.0</td>\n",
       "      <td>2.249995</td>\n",
       "      <td>-0.493025</td>\n",
       "      <td>0.068428</td>\n",
       "      <td>44.0</td>\n",
       "    </tr>\n",
       "    <tr>\n",
       "      <th>51715</th>\n",
       "      <td>51715</td>\n",
       "      <td>20240418_H06_e00_t0037</td>\n",
       "      <td>20240418</td>\n",
       "      <td>EM</td>\n",
       "      <td>wt_noto</td>\n",
       "      <td>0</td>\n",
       "      <td>wt</td>\n",
       "      <td>45.092780</td>\n",
       "      <td>1.188285e+06</td>\n",
       "      <td>2894.310392</td>\n",
       "      <td>...</td>\n",
       "      <td>3.905595</td>\n",
       "      <td>-3.653291</td>\n",
       "      <td>-2.725747</td>\n",
       "      <td>5.166055</td>\n",
       "      <td>20240418_H06_e00</td>\n",
       "      <td>30.0</td>\n",
       "      <td>2.013779</td>\n",
       "      <td>-0.564938</td>\n",
       "      <td>0.232023</td>\n",
       "      <td>44.0</td>\n",
       "    </tr>\n",
       "    <tr>\n",
       "      <th>51716</th>\n",
       "      <td>51716</td>\n",
       "      <td>20240418_H06_e00_t0038</td>\n",
       "      <td>20240418</td>\n",
       "      <td>EM</td>\n",
       "      <td>wt_noto</td>\n",
       "      <td>0</td>\n",
       "      <td>wt</td>\n",
       "      <td>45.653480</td>\n",
       "      <td>1.111963e+06</td>\n",
       "      <td>2922.874328</td>\n",
       "      <td>...</td>\n",
       "      <td>3.771344</td>\n",
       "      <td>-3.758735</td>\n",
       "      <td>-2.816049</td>\n",
       "      <td>5.153598</td>\n",
       "      <td>20240418_H06_e00</td>\n",
       "      <td>30.0</td>\n",
       "      <td>1.898978</td>\n",
       "      <td>-0.633157</td>\n",
       "      <td>0.059105</td>\n",
       "      <td>43.0</td>\n",
       "    </tr>\n",
       "  </tbody>\n",
       "</table>\n",
       "<p>9826 rows × 234 columns</p>\n",
       "</div>"
      ],
      "text/plain": [
       "       Unnamed: 0                 snip_id experiment_date  medium  \\\n",
       "28553       28553  20231110_A08_e00_t0000        20231110  MC_015   \n",
       "28554       28554  20231110_A08_e00_t0001        20231110  MC_015   \n",
       "28555       28555  20231110_A08_e00_t0003        20231110  MC_015   \n",
       "28556       28556  20231110_A08_e00_t0004        20231110  MC_015   \n",
       "28557       28557  20231110_A08_e00_t0005        20231110  MC_015   \n",
       "...           ...                     ...             ...     ...   \n",
       "51711       51711  20240418_H06_e00_t0033        20240418      EM   \n",
       "51712       51712  20240418_H06_e00_t0034        20240418      EM   \n",
       "51713       51713  20240418_H06_e00_t0035        20240418      EM   \n",
       "51715       51715  20240418_H06_e00_t0037        20240418      EM   \n",
       "51716       51716  20240418_H06_e00_t0038        20240418      EM   \n",
       "\n",
       "      short_pert_name  control_flag phenotype  predicted_stage_hpf  \\\n",
       "28553          wt_wik             0        wt            14.575800   \n",
       "28554          wt_wik             0        wt            15.485597   \n",
       "28555          wt_wik             0        wt            17.003744   \n",
       "28556          wt_wik             0        wt            17.765088   \n",
       "28557          wt_wik             0        wt            18.522744   \n",
       "...               ...           ...       ...                  ...   \n",
       "51711         wt_noto             0        wt            42.852133   \n",
       "51712         wt_noto             0        wt            43.412247   \n",
       "51713         wt_noto             0        wt            43.972128   \n",
       "51715         wt_noto             0        wt            45.092780   \n",
       "51716         wt_noto             0        wt            45.653480   \n",
       "\n",
       "       surface_area_um    length_um  ...  UMAP_02_bio_3 UMAP_00_n_3  \\\n",
       "28553     4.695712e+05  1440.615136  ...      -0.530697   -1.536007   \n",
       "28554     5.008578e+05  1518.497108  ...      -0.356257   -1.753363   \n",
       "28555     5.276554e+05  1553.130108  ...       1.187136   -1.475960   \n",
       "28556     5.543171e+05  1611.701777  ...       0.872036   -1.872480   \n",
       "28557     5.767618e+05  1635.800120  ...       1.116986   -1.514437   \n",
       "...                ...          ...  ...            ...         ...   \n",
       "51711     1.204580e+06  2972.949444  ...       3.840455   -0.917594   \n",
       "51712     1.107088e+06  2813.581831  ...       3.920996   -0.900388   \n",
       "51713     1.195110e+06  3022.353290  ...       3.721135   -0.970442   \n",
       "51715     1.188285e+06  2894.310392  ...       3.905595   -3.653291   \n",
       "51716     1.111963e+06  2922.874328  ...       3.771344   -3.758735   \n",
       "\n",
       "       UMAP_01_n_3  UMAP_02_n_3         embryo_id  temperature     PCA_1  \\\n",
       "28553    -3.314493    15.352544  20231110_A08_e00         30.0  1.604002   \n",
       "28554    -3.234301    14.841131  20231110_A08_e00         30.0  1.255865   \n",
       "28555    -3.162710    14.183237  20231110_A08_e00         30.0  1.172694   \n",
       "28556    -3.348654    14.243721  20231110_A08_e00         30.0  1.086011   \n",
       "28557    -2.890027    13.727813  20231110_A08_e00         30.0  0.992295   \n",
       "...            ...          ...               ...          ...       ...   \n",
       "51711    -1.681337     4.521986  20240418_H06_e00         30.0  1.954933   \n",
       "51712    -1.762553     4.561643  20240418_H06_e00         30.0  1.906638   \n",
       "51713    -1.640879     4.428900  20240418_H06_e00         30.0  2.249995   \n",
       "51715    -2.725747     5.166055  20240418_H06_e00         30.0  2.013779   \n",
       "51716    -2.816049     5.153598  20240418_H06_e00         30.0  1.898978   \n",
       "\n",
       "          PCA_2     PCA_3  segment_id  \n",
       "28553  2.361333 -0.257550         1.0  \n",
       "28554  2.252998 -0.743311         3.0  \n",
       "28555  2.369588 -0.602534         2.0  \n",
       "28556  2.437398 -0.601313         1.0  \n",
       "28557  2.387300 -0.656380         1.0  \n",
       "...         ...       ...         ...  \n",
       "51711 -0.584337 -0.180685        43.0  \n",
       "51712 -0.617029  0.185494        43.0  \n",
       "51713 -0.493025  0.068428        44.0  \n",
       "51715 -0.564938  0.232023        44.0  \n",
       "51716 -0.633157  0.059105        43.0  \n",
       "\n",
       "[9826 rows x 234 columns]"
      ]
     },
     "execution_count": 11,
     "metadata": {},
     "output_type": "execute_result"
    }
   ],
   "source": [
    "df_augmented"
   ]
  },
  {
   "cell_type": "code",
   "execution_count": 13,
   "metadata": {},
   "outputs": [],
   "source": [
    "import numpy as np\n",
    "import pandas as pd\n",
    "\n",
    "def point_to_segment_projection(p, seg_start, seg_end):\n",
    "    \"\"\"\n",
    "    Return the closest point on the line segment [seg_start, seg_end] to p\n",
    "    and the distance from p to that point.\n",
    "    \n",
    "    p, seg_start, seg_end are all 3D numpy arrays.\n",
    "    \"\"\"\n",
    "    seg_vec = seg_end - seg_start\n",
    "    pt_vec = p - seg_start\n",
    "    seg_len_sq = np.dot(seg_vec, seg_vec)\n",
    "    \n",
    "    if seg_len_sq == 0.0:\n",
    "        # Degenerate segment; closest point is seg_start\n",
    "        return seg_start, np.linalg.norm(p - seg_start)\n",
    "    \n",
    "    t = np.dot(pt_vec, seg_vec) / seg_len_sq\n",
    "    t_clamped = np.clip(t, 0.0, 1.0)\n",
    "    closest = seg_start + t_clamped * seg_vec\n",
    "    dist = np.linalg.norm(p - closest)\n",
    "    return closest, dist\n",
    "\n",
    "def project_onto_plane(p, midpoint, normal):\n",
    "    \"\"\"\n",
    "    Given:\n",
    "      - p: a 3D point (numpy array)\n",
    "      - midpoint: a 3D point on the plane\n",
    "      - normal: the plane's normal (3D)\n",
    "    Returns:\n",
    "      - plane_point: orthogonal projection of p onto the plane\n",
    "      - distance_to_plane: absolute distance from p to the plane\n",
    "      - distance_to_axis: distance from p to the principal axis (line through midpoint in direction normal)\n",
    "      - hypotenuse: sqrt(distance_to_plane^2 + distance_to_axis^2)\n",
    "    \"\"\"\n",
    "    # (Assume normal is unit-length. If not, we should normalize it.)\n",
    "    # alpha = (p - m) · n\n",
    "    alpha = np.dot((p - midpoint), normal)\n",
    "    \n",
    "    # plane_point = p - alpha * n\n",
    "    plane_point = p - alpha * normal\n",
    "    \n",
    "    distance_to_plane = abs(alpha)  # since normal is unit\n",
    "    # The \"axis\" is the line { midpoint + t * normal }, so the closest point on the axis is midpoint + alpha * normal\n",
    "    closest_on_axis = midpoint + alpha * normal\n",
    "    distance_to_axis = np.linalg.norm(p - closest_on_axis)\n",
    "    hypotenuse = np.sqrt(distance_to_plane**2 + distance_to_axis**2)\n",
    "    \n",
    "    return plane_point, distance_to_plane, distance_to_axis, hypotenuse\n",
    "\n",
    "\n",
    "def project_points_onto_reference_spline(\n",
    "    df_points,\n",
    "    reference_spline_info,\n",
    "    k_segments=None\n",
    "):\n",
    "    \"\"\"\n",
    "    Projects the rows in df_points onto a reference spline (and planes) given by reference_spline_info.\n",
    "    \n",
    "    Steps:\n",
    "      1. For each point in df_points:\n",
    "         - Find the closest segment in reference_spline_info by line-segment distance.\n",
    "         - Let 'seg_id' = that segment's ID.\n",
    "      2. Use the principal axis (plane normal) and midpoint of that segment to project the point onto the plane.\n",
    "      3. Also compute the closest point on the line segment in 3D.\n",
    "      4. Record all relevant distances (distance_to_plane, distance_to_axis, hypotenuse, etc.).\n",
    "    \n",
    "    Returns a new DataFrame 'projection_df' with columns:\n",
    "      [ snip_id, embryo_id, phenotype, predicted_stage_hpf,\n",
    "        PCA_1, PCA_2, PCA_3,\n",
    "        ref_seg_id, \n",
    "        closest_on_spline_x, closest_on_spline_y, closest_on_spline_z,\n",
    "        plane_point_x, plane_point_y, plane_point_z,\n",
    "        distance_to_plane, distance_to_axis, hypotenuse\n",
    "      ]\n",
    "    \"\"\"\n",
    "    # 1) Convert reference_spline_info into a structure for quick iteration\n",
    "    #    Each segment row: seg_id, principal_axis, midpoint, seg_start, seg_end\n",
    "    segment_dicts = []\n",
    "    for _, row in reference_spline_info.iterrows():\n",
    "        seg_id = row[\"seg_id\"]\n",
    "        \n",
    "        principal_axis = np.array([\n",
    "            row[\"principal_axis_x\"],\n",
    "            row[\"principal_axis_y\"],\n",
    "            row[\"principal_axis_z\"]\n",
    "        ], dtype=float)\n",
    "        \n",
    "        midpoint = np.array([\n",
    "            row[\"segment_midpoint_x\"],\n",
    "            row[\"segment_midpoint_y\"],\n",
    "            row[\"segment_midpoint_z\"]\n",
    "        ], dtype=float)\n",
    "        \n",
    "        seg_start = np.array([\n",
    "            row[\"segment_start_x\"],\n",
    "            row[\"segment_start_y\"],\n",
    "            row[\"segment_start_z\"]\n",
    "        ], dtype=float)\n",
    "        \n",
    "        seg_end = np.array([\n",
    "            row[\"segment_end_x\"],\n",
    "            row[\"segment_end_y\"],\n",
    "            row[\"segment_end_z\"]\n",
    "        ], dtype=float)\n",
    "        \n",
    "        # Optional: if principal_axis is not guaranteed unit length, normalize it\n",
    "        norm = np.linalg.norm(principal_axis)\n",
    "        if norm > 1e-12:\n",
    "            principal_axis = principal_axis / norm\n",
    "        \n",
    "        segment_dicts.append({\n",
    "            \"seg_id\": seg_id,\n",
    "            \"principal_axis\": principal_axis,\n",
    "            \"midpoint\": midpoint,\n",
    "            \"seg_start\": seg_start,\n",
    "            \"seg_end\": seg_end\n",
    "        })\n",
    "        \n",
    "    # 2) For each point in df_points, find the closest segment\n",
    "    records = []\n",
    "    \n",
    "    # We'll iterate over df_points rows\n",
    "    for idx, row in df_points.iterrows():\n",
    "        # Extract the 3D point\n",
    "        p = np.array([row[\"PCA_1\"], row[\"PCA_2\"], row[\"PCA_3\"]], dtype=float)\n",
    "        \n",
    "        # Find the segment that yields the smallest distance\n",
    "        min_dist = np.inf\n",
    "        best_segment = None\n",
    "        \n",
    "        for seg_info in segment_dicts:\n",
    "            closest_pt, dist = point_to_segment_projection(p, seg_info[\"seg_start\"], seg_info[\"seg_end\"])\n",
    "            if dist < min_dist:\n",
    "                min_dist = dist\n",
    "                best_segment = seg_info\n",
    "        \n",
    "        if best_segment is None:\n",
    "            # In an extreme edge case, if we can't find anything, skip\n",
    "            continue\n",
    "        \n",
    "        # Now project onto the plane for this best segment\n",
    "        principal_axis = best_segment[\"principal_axis\"]\n",
    "        midpoint = best_segment[\"midpoint\"]\n",
    "        seg_id = best_segment[\"seg_id\"]\n",
    "        seg_start = best_segment[\"seg_start\"]\n",
    "        seg_end = best_segment[\"seg_end\"]\n",
    "        \n",
    "        # 3) Closest point on the segment itself\n",
    "        closest_on_spline, _ = point_to_segment_projection(p, seg_start, seg_end)\n",
    "        \n",
    "        # 4) Plane projection\n",
    "        plane_point, distance_to_plane, distance_to_axis, hypotenuse = project_onto_plane(p, midpoint, principal_axis)\n",
    "        \n",
    "        record = {\n",
    "            \"snip_id\": row.get(\"snip_id\", None),\n",
    "            \"embryo_id\": row.get(\"embryo_id\", None),\n",
    "            \"phenotype\": row.get(\"phenotype\", None),\n",
    "            \"predicted_stage_hpf\": row.get(\"predicted_stage_hpf\", None),\n",
    "            \n",
    "            \"PCA_1\": p[0],\n",
    "            \"PCA_2\": p[1],\n",
    "            \"PCA_3\": p[2],\n",
    "            \n",
    "            \"ref_seg_id\": seg_id,  # The segment this point ended up belonging to\n",
    "            \"closest_on_spline_x\": closest_on_spline[0],\n",
    "            \"closest_on_spline_y\": closest_on_spline[1],\n",
    "            \"closest_on_spline_z\": closest_on_spline[2],\n",
    "            \n",
    "            \"plane_point_x\": plane_point[0],\n",
    "            \"plane_point_y\": plane_point[1],\n",
    "            \"plane_point_z\": plane_point[2],\n",
    "            \n",
    "            \"distance_to_plane\": distance_to_plane,\n",
    "            \"distance_to_axis\": distance_to_axis,\n",
    "            \"hypotenuse\": hypotenuse\n",
    "        }\n",
    "        records.append(record)\n",
    "    \n",
    "    projection_df = pd.DataFrame(records)\n",
    "    return projection_df"
   ]
  },
  {
   "cell_type": "code",
   "execution_count": null,
   "metadata": {},
   "outputs": [],
   "source": [
    "inj_ctrl_df"
   ]
  },
  {
   "cell_type": "code",
   "execution_count": 13,
   "metadata": {},
   "outputs": [],
   "source": [
    "# Suppose we have:\n",
    "# df_augmented       -> your main augmented DataFrame with \"wt\" and \"lmx1b\" (and others)\n",
    "# segment_info_df    -> from create_spline_segments_for_df\n",
    "# We pick \"wt\" splines for reference:\n",
    "wt_splines_n_planes = segment_info_df[segment_info_df[\"phenotype\"] == \"wt\"]\n",
    "\n",
    "# A) Points from \"wt\" itself\n",
    "wt_pert_df = df_augmented[df_augmented[\"phenotype\"] == \"wt\"]\n",
    "wt_projection_to_wt = project_points_onto_reference_spline(\n",
    "    wt_pert_df,\n",
    "    wt_splines_n_planes\n",
    ")\n",
    "\n",
    "# B) Points from \"lmx1b\"\n",
    "lmx1b_pert_df = df_augmented[df_augmented[\"phenotype\"] == \"lmx1b\"]\n",
    "lmx1b_projection_to_wt = project_points_onto_reference_spline(\n",
    "    lmx1b_pert_df,\n",
    "    wt_splines_n_planes\n",
    ")\n",
    "\n",
    "\n",
    "inj_ctrl_df = df_augmented[df_augmented[\"phenotype\"]==\"inj-ctrl\"]\n",
    "inj_ctrl_projection_to_wt = project_points_onto_reference_spline(\n",
    "    inj_ctrl_df,\n",
    "    wt_splines_n_planes\n",
    ")\n",
    "\n"
   ]
  },
  {
   "cell_type": "code",
   "execution_count": 67,
   "metadata": {},
   "outputs": [],
   "source": [
    "import os\n",
    "import numpy as np\n",
    "import pandas as pd\n",
    "import plotly.graph_objects as go\n",
    "import plotly.express as px\n",
    "\n",
    "def plot_3d_spline_and_projections(\n",
    "    projection_dfs,\n",
    "    segment_info_df,\n",
    "    pert_splines=None,\n",
    "    save_dir=None,\n",
    "    filename=\"splines_with_plane.html\",\n",
    "    k=None,\n",
    "    title=\"3D Visualization of Spline and Projections\",\n",
    "    plane_opacity=0.2,\n",
    "    axis_length=0.5,\n",
    "    show_legend=True,\n",
    "    plane_size=1.0,\n",
    "    plane_grid_steps=10\n",
    "):\n",
    "    \"\"\"\n",
    "    Plots a 3D visualization of:\n",
    "      1) The reference spline (if `pert_splines` is provided).\n",
    "      2) Multiple sets of projected points (`projection_dfs`), each with columns:\n",
    "         [\"PCA_1\", \"PCA_2\", \"PCA_3\", \"ref_seg_id\", \"phenotype\", ...]\n",
    "         Points are colored by their 'ref_seg_id' to the reference spline.\n",
    "      3) Principal axes for each segment (from `segment_info_df`).\n",
    "      4) Plane surfaces (also from `segment_info_df`), each as a separate toggleable trace.\n",
    "\n",
    "    Parameters\n",
    "    ----------\n",
    "    projection_dfs : list or pd.DataFrame\n",
    "        One or more DataFrames of projected points.  \n",
    "        Each DataFrame should have at least columns:\n",
    "            [\"PCA_1\", \"PCA_2\", \"PCA_3\", \"ref_seg_id\", \"phenotype\", ...]\n",
    "        where 'ref_seg_id' is the segment on the reference spline to which the point was assigned.\n",
    "    segment_info_df : pd.DataFrame\n",
    "        The reference segment info (e.g., from WT) with columns like:\n",
    "            [\n",
    "              \"seg_id\",\n",
    "              \"principal_axis_x\", \"principal_axis_y\", \"principal_axis_z\",\n",
    "              \"segment_midpoint_x\", \"segment_midpoint_y\", \"segment_midpoint_z\",\n",
    "              \"segment_start_x\",   \"segment_start_y\",   \"segment_start_z\",\n",
    "              \"segment_end_x\",     \"segment_end_y\",     \"segment_end_z\",\n",
    "              \"phenotype\" (optional, if relevant)\n",
    "            ]\n",
    "        This defines the planes, principal axes, etc.\n",
    "    pert_splines : pd.DataFrame or None\n",
    "        Optional. If provided, plots the reference spline line.\n",
    "        Columns expected: [\"phenotype\", \"PCA_1\", \"PCA_2\", \"PCA_3\"].\n",
    "    save_dir : str or None\n",
    "        If provided, the figure is saved as an HTML file in this directory.\n",
    "    filename : str\n",
    "        File name for the output HTML file.\n",
    "    k : int or None\n",
    "        Number of segments. If None, we infer it from `segment_info_df`.\n",
    "    title : str\n",
    "        Title for the figure.\n",
    "    plane_opacity : float\n",
    "        Opacity (0 to 1) for the plane surfaces.\n",
    "    axis_length : float\n",
    "        Half-length for drawing the principal axis line from each segment's midpoint.\n",
    "    show_legend : bool\n",
    "        Whether to show the Plotly legend.\n",
    "    plane_size : float\n",
    "        Half-width/height of the plane patch to draw around the midpoint.\n",
    "    plane_grid_steps : int\n",
    "        Resolution of the mesh for plane surfaces.\n",
    "\n",
    "    Returns\n",
    "    -------\n",
    "    fig : plotly.graph_objs._figure.Figure\n",
    "        The constructed 3D Plotly figure.\n",
    "    \"\"\"\n",
    "    # ---------------------------------------------------------------------\n",
    "    # 0. Handle the case if a single DataFrame is passed instead of a list\n",
    "    # ---------------------------------------------------------------------\n",
    "    if isinstance(projection_dfs, pd.DataFrame):\n",
    "        projection_dfs = [projection_dfs]\n",
    "    \n",
    "    # ---------------------------------------------------------------------\n",
    "    # 1. Initialize the figure and color palette\n",
    "    # ---------------------------------------------------------------------\n",
    "    fig = go.Figure()\n",
    "    color_palette = px.colors.qualitative.Dark24  # Up to 24 distinct colors\n",
    "\n",
    "    # If k not provided, try to deduce from 'segment_info_df'\n",
    "    if k is None:\n",
    "        if not segment_info_df.empty:\n",
    "            k = int(segment_info_df[\"seg_id\"].max()) + 1\n",
    "        else:\n",
    "            k = 1\n",
    "\n",
    "    # ---------------------------------------------------------------------\n",
    "    # 2. Plot the reference spline (if provided)\n",
    "    # ---------------------------------------------------------------------\n",
    "    if pert_splines is not None and not pert_splines.empty:\n",
    "        # We assume there's only ONE reference phenotype for the spline,\n",
    "        # or we can just loop if multiple. Here, let's loop for each phenotype:\n",
    "        for pert in pert_splines[\"phenotype\"].unique():\n",
    "            spline_df = pert_splines[pert_splines[\"phenotype\"] == pert]\n",
    "            spline_pts = spline_df[[\"PCA_1\", \"PCA_2\", \"PCA_3\"]].values\n",
    "            if len(spline_pts) < 2:\n",
    "                continue\n",
    "\n",
    "            fig.add_trace(go.Scatter3d(\n",
    "                x=spline_pts[:, 0],\n",
    "                y=spline_pts[:, 1],\n",
    "                z=spline_pts[:, 2],\n",
    "                mode='lines+markers',\n",
    "                name=f\"Spline ({pert})\",\n",
    "                line=dict(color='black', width=4),\n",
    "                marker=dict(size=3, color='black'),\n",
    "                legendgroup=f\"Spline_{pert}\",\n",
    "            ))\n",
    "\n",
    "    # ---------------------------------------------------------------------\n",
    "    # 3. Plot each projection DataFrame, coloring points by segment\n",
    "    # ---------------------------------------------------------------------\n",
    "    # We create separate traces for each (phenotype, seg_id) within each DataFrame,\n",
    "    # so that each perturbation can be toggled individually.\n",
    "    for df_idx, proj_df in enumerate(projection_dfs):\n",
    "        # Group by (phenotype, ref_seg_id). \n",
    "        # If 'phenotype' isn't present, group by ref_seg_id only (fallback).\n",
    "        group_cols = [\"ref_seg_id\"]\n",
    "        if \"phenotype\" in proj_df.columns:\n",
    "            group_cols = [\"phenotype\", \"ref_seg_id\"]\n",
    "        \n",
    "        grouped = proj_df.groupby(group_cols)\n",
    "\n",
    "        for key_tuple, group_data in grouped:\n",
    "            if len(group_cols) == 2:\n",
    "                pert, seg_id = key_tuple\n",
    "            else:\n",
    "                # If we only grouped by ref_seg_id, we have no phenotype info\n",
    "                seg_id = key_tuple\n",
    "                pert   = f\"ProjDF_{df_idx}\"  # fallback label\n",
    "\n",
    "            # Convert seg_id to int if possible\n",
    "            try:\n",
    "                seg_id = int(seg_id)\n",
    "            except:\n",
    "                pass\n",
    "\n",
    "            color_idx = seg_id % len(color_palette) if isinstance(seg_id, int) else 0\n",
    "            seg_color = color_palette[color_idx]\n",
    "\n",
    "            fig.add_trace(go.Scatter3d(\n",
    "                x=group_data[\"PCA_1\"],\n",
    "                y=group_data[\"PCA_2\"],\n",
    "                z=group_data[\"PCA_3\"],\n",
    "                mode='markers',\n",
    "                name=f\"{pert} - seg {seg_id}\",\n",
    "                marker=dict(size=3, color=seg_color, opacity=0.7),\n",
    "                legendgroup=pert,  \n",
    "            ))\n",
    "\n",
    "    # ---------------------------------------------------------------------\n",
    "    # 4. Plot principal axis lines for each segment in the reference\n",
    "    # ---------------------------------------------------------------------\n",
    "    # segment_info_df might contain multiple phenotypes if you merged them,\n",
    "    # but presumably for a single reference, it's just one phenotype or none.\n",
    "    # We'll group by seg_id to handle it generally.\n",
    "    for seg_id, seg_row_df in segment_info_df.groupby(\"seg_id\"):\n",
    "        # There's typically just 1 row for each (phenotype, seg_id), but let's handle n rows\n",
    "        for _, row in seg_row_df.iterrows():\n",
    "            px_ = row.get(\"principal_axis_x\", np.nan)\n",
    "            py_ = row.get(\"principal_axis_y\", np.nan)\n",
    "            pz_ = row.get(\"principal_axis_z\", np.nan)\n",
    "            if pd.isnull(px_) or pd.isnull(py_) or pd.isnull(pz_):\n",
    "                continue\n",
    "            \n",
    "            principal_axis = np.array([px_, py_, pz_], dtype=float)\n",
    "            midpoint = np.array([\n",
    "                row.get(\"segment_midpoint_x\", 0),\n",
    "                row.get(\"segment_midpoint_y\", 0),\n",
    "                row.get(\"segment_midpoint_z\", 0)\n",
    "            ], dtype=float)\n",
    "\n",
    "            color_idx = int(seg_id) % len(color_palette)\n",
    "            axis_color = color_palette[color_idx]\n",
    "\n",
    "            start_line = midpoint - axis_length * principal_axis\n",
    "            end_line   = midpoint + axis_length * principal_axis\n",
    "\n",
    "            fig.add_trace(go.Scatter3d(\n",
    "                x=[start_line[0], end_line[0]],\n",
    "                y=[start_line[1], end_line[1]],\n",
    "                z=[start_line[2], end_line[2]],\n",
    "                mode='lines',\n",
    "                line=dict(color=axis_color, width=5),\n",
    "                name=f\"Axis seg {seg_id}\",\n",
    "                legendgroup=\"ReferenceAxes\"\n",
    "            ))\n",
    "\n",
    "    # ---------------------------------------------------------------------\n",
    "    # 5. Plot planes for each segment in the reference\n",
    "    # ---------------------------------------------------------------------\n",
    "    # Each plane is added as a separate trace for toggling.\n",
    "    for seg_id, seg_row_df in segment_info_df.groupby(\"seg_id\"):\n",
    "        for _, row in seg_row_df.iterrows():\n",
    "            # Normal\n",
    "            px_ = row.get(\"principal_axis_x\", np.nan)\n",
    "            py_ = row.get(\"principal_axis_y\", np.nan)\n",
    "            pz_ = row.get(\"principal_axis_z\", np.nan)\n",
    "            if pd.isnull(px_) or pd.isnull(py_) or pd.isnull(pz_):\n",
    "                continue\n",
    "\n",
    "            plane_normal = np.array([px_, py_, pz_], dtype=float)\n",
    "            norm_mag = np.linalg.norm(plane_normal)\n",
    "            if norm_mag < 1e-12:\n",
    "                continue\n",
    "\n",
    "            midpoint = np.array([\n",
    "                row.get(\"segment_midpoint_x\", 0),\n",
    "                row.get(\"segment_midpoint_y\", 0),\n",
    "                row.get(\"segment_midpoint_z\", 0)\n",
    "            ], dtype=float)\n",
    "            d = -np.dot(plane_normal, midpoint)\n",
    "\n",
    "            color_idx = int(seg_id) % len(color_palette)\n",
    "            plane_color = color_palette[color_idx]\n",
    "\n",
    "            # Build a grid\n",
    "            xx, yy = np.meshgrid(\n",
    "                np.linspace(midpoint[0] - plane_size, midpoint[0] + plane_size, plane_grid_steps),\n",
    "                np.linspace(midpoint[1] - plane_size, midpoint[1] + plane_size, plane_grid_steps)\n",
    "            )\n",
    "\n",
    "            if abs(plane_normal[2]) > 1e-12:\n",
    "                zz = (-plane_normal[0]*xx - plane_normal[1]*yy - d) / plane_normal[2]\n",
    "            else:\n",
    "                # Plane is vertical in Z\n",
    "                zz = np.full_like(xx, midpoint[2])\n",
    "\n",
    "            fig.add_trace(go.Surface(\n",
    "                x=xx,\n",
    "                y=yy,\n",
    "                z=zz,\n",
    "                opacity=plane_opacity,\n",
    "                colorscale=[[0, plane_color], [1, plane_color]],\n",
    "                showscale=False,\n",
    "                name=f\"Plane seg {seg_id}\",\n",
    "                legendgroup=\"ReferencePlanes\",\n",
    "            ))\n",
    "\n",
    "    # ---------------------------------------------------------------------\n",
    "    # 6. Final layout updates\n",
    "    # ---------------------------------------------------------------------\n",
    "    fig.update_layout(\n",
    "        scene=dict(\n",
    "            xaxis_title=\"PCA_1\",\n",
    "            yaxis_title=\"PCA_2\",\n",
    "            zaxis_title=\"PCA_3\",\n",
    "            aspectmode='data'\n",
    "        ),\n",
    "        width=1200,\n",
    "        height=800,\n",
    "        title=title,\n",
    "        showlegend=show_legend\n",
    "    )\n",
    "\n",
    "    # Optionally save to HTML\n",
    "    if save_dir is not None:\n",
    "        os.makedirs(save_dir, exist_ok=True)\n",
    "        outpath = os.path.join(save_dir, filename)\n",
    "        fig.write_html(outpath)\n",
    "        print(f\"3D visualization saved to: {outpath}\")\n",
    "    else:\n",
    "        print(\"3D visualization not saved (no save_dir provided).\")\n",
    "\n",
    "    return fig"
   ]
  },
  {
   "cell_type": "code",
   "execution_count": 74,
   "metadata": {},
   "outputs": [
    {
     "name": "stdout",
     "output_type": "stream",
     "text": [
      "3D visualization saved to: /net/trapnell/vol1/home/mdcolon/proj/morphseq/results/20250113/3d_vis_spline_n_planes_temp=30.html\n"
     ]
    }
   ],
   "source": [
    "# -------------------------\n",
    "projection_dfs = [\n",
    "    wt_projection_to_wt,\n",
    "    lmx1b_projection_to_wt,\n",
    "    inj_ctrl_projection_to_wt,\n",
    "]\n",
    "\n",
    "fig = plot_3d_spline_and_projections(\n",
    "    projection_dfs =projection_dfs,\n",
    "    segment_info_df=wt_splines_n_planes,\n",
    "    pert_splines=pert_splines,  # or None if you don't have/need them\n",
    "    save_dir=save_dir,\n",
    "    filename=\"3d_vis_spline_n_planes_temp=30.html\",\n",
    "    k=None,\n",
    "    title=\"My 3D Spline + Projection Visualization temp = 30\",\n",
    "    plane_opacity=0.2,\n",
    "    axis_length=0.5,\n",
    "    show_legend=True\n",
    ")"
   ]
  },
  {
   "cell_type": "code",
   "execution_count": null,
   "metadata": {},
   "outputs": [],
   "source": [
    "def plot_development_delay(\n",
    "    spline_df,\n",
    "    projection_dfs,\n",
    "    df_augmented,\n",
    "    color_col=\"some_metadata\",\n",
    "    save_dir=\".\",\n",
    "    file_prefix=\"dev_delay\",\n",
    "    min_images=5,\n",
    "    max_embryos_per_phenotype=25,\n",
    "    smoothing_window=1,\n",
    "    random_seed=None\n",
    "):\n",
    "    \"\"\"\n",
    "    Plots developmental delay for multiple embryos over time with optional smoothing.\n",
    "    \n",
    "    The plot shows predicted_stage_hpf (x-axis) vs time_delay (y-axis), where\n",
    "    time_delay = segment_avg_time - predicted_stage_hpf (from spline).\n",
    "\n",
    "    Embryos are grouped and downsampled by 'phenotype', but colored per point\n",
    "    by a column in `df_augmented` (using snip_id to join). This allows you to see\n",
    "    how each point (snip_id) might have a different color_col value over time.\n",
    "\n",
    "    NOTE: This version checks if `color_col` is already in the projection DataFrames.\n",
    "          If so, it will NOT re-merge from df_augmented to avoid duplication.\n",
    "\n",
    "    Parameters\n",
    "    ----------\n",
    "    spline_df : pd.DataFrame\n",
    "        The reference spline DataFrame. Must contain:\n",
    "            - seg_id\n",
    "            - segment_avg_time\n",
    "\n",
    "    projection_dfs : list of pd.DataFrame\n",
    "        A list of projection DataFrames. Each must contain:\n",
    "            - ref_seg_id (to match seg_id)\n",
    "            - embryo_id\n",
    "            - phenotype\n",
    "            - predicted_stage_hpf\n",
    "            - snip_id\n",
    "            - ...\n",
    "    \n",
    "    df_augmented : pd.DataFrame\n",
    "        A DataFrame with additional metadata. Must include:\n",
    "            - snip_id\n",
    "            - color_col (the column you want to color by), if you need to merge it in.\n",
    "\n",
    "    color_col : str\n",
    "        Column name (in df_augmented or already in `projection_dfs`) to color by.\n",
    "        If numeric, uses a continuous colormap; if categorical, uses a discrete palette.\n",
    "\n",
    "    save_dir : str\n",
    "        Directory to save the resulting HTML file.\n",
    "\n",
    "    file_prefix : str\n",
    "        Filename prefix for the saved plot HTML.\n",
    "\n",
    "    min_images : int\n",
    "        Minimum number of data points required for an embryo to be included.\n",
    "\n",
    "    max_embryos_per_phenotype : int\n",
    "        Maximum number of embryo_ids to randomly select per phenotype.\n",
    "\n",
    "    smoothing_window : int\n",
    "        Number of time points to average over for smoothing the time_delay.\n",
    "        Default is 1 (no smoothing).\n",
    "\n",
    "    random_seed : int, optional\n",
    "        For reproducible random selection. By default None.\n",
    "    \n",
    "    Returns\n",
    "    -------\n",
    "    fig : go.Figure or None\n",
    "        The Plotly figure object with the 2D lines+markers plot, or None if no data remains\n",
    "        after filtering.\n",
    "    \"\"\"\n",
    "    # -------------------------\n",
    "    # 0. Optional: Seed for Reproducibility\n",
    "    # -------------------------\n",
    "    if random_seed is not None:\n",
    "        np.random.seed(random_seed)\n",
    "    \n",
    "    # -------------------------\n",
    "    # 1. Prepare Save Directory\n",
    "    # -------------------------\n",
    "    os.makedirs(save_dir, exist_ok=True)\n",
    "    \n",
    "    # -------------------------\n",
    "    # 2. Concatenate All Projection DataFrames\n",
    "    # -------------------------\n",
    "    if not isinstance(projection_dfs, list):\n",
    "        raise TypeError(\"projection_dfs must be a list of pandas DataFrames.\")\n",
    "    \n",
    "    df_proj = pd.concat(projection_dfs, ignore_index=True)\n",
    "    \n",
    "    # Ensure required columns are present in df_proj\n",
    "    required_cols = [\"ref_seg_id\", \"embryo_id\", \"phenotype\", \"predicted_stage_hpf\", \"snip_id\"]\n",
    "    missing_cols = [col for col in required_cols if col not in df_proj.columns]\n",
    "    if missing_cols:\n",
    "        raise ValueError(\n",
    "            f\"The following required columns are missing in projection DataFrames: {missing_cols}\"\n",
    "        )\n",
    "    \n",
    "    # -------------------------\n",
    "    # 3. Merge with Spline Data to Get 'segment_avg_time'\n",
    "    # -------------------------\n",
    "    if \"seg_id\" not in spline_df.columns or \"segment_avg_time\" not in spline_df.columns:\n",
    "        raise ValueError(\"spline_df must have 'seg_id' and 'segment_avg_time' columns.\")\n",
    "    \n",
    "    df_merged = df_proj.merge(\n",
    "        spline_df[['seg_id', 'segment_avg_time']],\n",
    "        left_on='ref_seg_id',\n",
    "        right_on='seg_id',\n",
    "        how='left'\n",
    "    )\n",
    "    \n",
    "    # Drop rows with missing 'segment_avg_time'\n",
    "    df_merged.dropna(subset=['segment_avg_time'], inplace=True)\n",
    "    \n",
    "    # -------------------------\n",
    "    # 4. Merge color_col if missing\n",
    "    # -------------------------\n",
    "    if color_col not in df_merged.columns:\n",
    "        # We need to pull color_col from df_augmented if it exists there\n",
    "        if \"snip_id\" not in df_augmented.columns:\n",
    "            raise ValueError(\"df_augmented must have a 'snip_id' column to merge on.\")\n",
    "        if color_col not in df_augmented.columns:\n",
    "            raise ValueError(f\"'{color_col}' not found in df_augmented columns.\")\n",
    "        \n",
    "        df_merged = df_merged.merge(\n",
    "            df_augmented[['snip_id', color_col]],\n",
    "            on='snip_id',\n",
    "            how='left'  # keep rows from df_merged, fill color_col with NaN if missing\n",
    "        )\n",
    "    \n",
    "    # -------------------------\n",
    "    # 5. Compute 'time_delay'\n",
    "    #    (Changed to segment_avg_time - predicted_stage_hpf)\n",
    "    # -------------------------\n",
    "    df_merged['time_delay'] = df_merged['segment_avg_time'] - df_merged['predicted_stage_hpf']\n",
    "    \n",
    "    # -------------------------\n",
    "    # 6. Filter Embryos by Minimum Data Points\n",
    "    # -------------------------\n",
    "    embryo_counts = df_merged.groupby('embryo_id').size()\n",
    "    valid_embryos = embryo_counts[embryo_counts >= min_images].index\n",
    "    df_filtered = df_merged[df_merged['embryo_id'].isin(valid_embryos)]\n",
    "    \n",
    "    if df_filtered.empty:\n",
    "        print(f\"No embryos have at least {min_images} data points. Exiting.\")\n",
    "        return None\n",
    "    \n",
    "    # -------------------------\n",
    "    # 7. Downsample Embryos per Phenotype\n",
    "    #    (Group by 'phenotype')\n",
    "    # ------------------------- f\n",
    "    chosen_embryos = []\n",
    "    for phen in df_filtered['phenotype'].unique():\n",
    "        phen_df = df_filtered[df_filtered['phenotype'] == phen]\n",
    "        embryo_ids = phen_df['embryo_id'].unique()\n",
    "        \n",
    "        if len(embryo_ids) > max_embryos_per_phenotype:\n",
    "            chosen = np.random.choice(embryo_ids, max_embryos_per_phenotype, replace=False)\n",
    "        else:\n",
    "            chosen = embryo_ids\n",
    "        \n",
    "        chosen_embryos.extend([(phen, e) for e in chosen])\n",
    "    \n",
    "    if not chosen_embryos:\n",
    "        print(\"No embryos selected after downsampling.\")\n",
    "        return None\n",
    "    \n",
    "    # -------------------------\n",
    "    # 8. Build color mapping functions\n",
    "    # -------------------------\n",
    "    # If color_col is absent, color everything gray\n",
    "    if color_col not in df_filtered.columns:\n",
    "        print(\n",
    "            f\"WARNING: '{color_col}' is not present in the final DataFrame. \"\n",
    "            \"All points will be colored gray.\"\n",
    "        )\n",
    "        color_mode = 'none'\n",
    "    else:\n",
    "        # Check if numeric or categorical\n",
    "        if pd.api.types.is_numeric_dtype(df_filtered[color_col]):\n",
    "            # Numeric => continuous scale\n",
    "            vmin = df_filtered[color_col].min()\n",
    "            vmax = df_filtered[color_col].max()\n",
    "            norm = mcolors.Normalize(vmin=vmin, vmax=vmax)\n",
    "            cmap = cm.get_cmap('viridis')\n",
    "            \n",
    "            def color_func(val):\n",
    "                if pd.isnull(val):\n",
    "                    return 'gray'\n",
    "                return mcolors.to_hex(cmap(norm(val)))\n",
    "            \n",
    "            color_mode = 'numeric'\n",
    "        else:\n",
    "            # Categorical => discrete palette\n",
    "            unique_categories = df_filtered[color_col].dropna().unique()\n",
    "            num_categories = len(unique_categories)\n",
    "            \n",
    "            color_palette = px.colors.qualitative.Plotly\n",
    "            if num_categories > len(color_palette):\n",
    "                # extend the palette if needed\n",
    "                color_palette = (color_palette * ((num_categories // len(color_palette)) + 1))[:num_categories]\n",
    "            \n",
    "            cat_color_map = {cat: color_palette[i] for i, cat in enumerate(unique_categories)}\n",
    "            \n",
    "            def color_func(val):\n",
    "                if pd.isnull(val):\n",
    "                    return 'gray'\n",
    "                return cat_color_map.get(val, 'gray')\n",
    "            \n",
    "            color_mode = 'categorical'\n",
    "    \n",
    "    # -------------------------\n",
    "    # 9. Initialize Plotly Figure\n",
    "    # -------------------------\n",
    "    fig = go.Figure()\n",
    "    \n",
    "    # -------------------------\n",
    "    # 10. Add Traces (one trace per embryo), \n",
    "    #     but color each point individually\n",
    "    # -------------------------\n",
    "    for (phen, embryo) in chosen_embryos:\n",
    "        embryo_df = (\n",
    "            df_filtered\n",
    "            .loc[(df_filtered['phenotype'] == phen) & (df_filtered['embryo_id'] == embryo)]\n",
    "            .sort_values('predicted_stage_hpf')\n",
    "        )\n",
    "        \n",
    "        if embryo_df.empty:\n",
    "            continue\n",
    "        \n",
    "        # Smooth time_delay if needed\n",
    "        if smoothing_window > 1:\n",
    "            embryo_df['time_delay_smooth'] = (\n",
    "                embryo_df['time_delay']\n",
    "                .rolling(window=smoothing_window, min_periods=1, center=True)\n",
    "                .mean()\n",
    "            )\n",
    "        else:\n",
    "            embryo_df['time_delay_smooth'] = embryo_df['time_delay']\n",
    "        \n",
    "        # Build the per-point colors\n",
    "        if color_mode == 'none':\n",
    "            point_colors = ['gray'] * len(embryo_df)\n",
    "        else:\n",
    "            point_colors = [color_func(val) for val in embryo_df[color_col]]\n",
    "        \n",
    "        # Now add a single trace for this embryo, \n",
    "        # with the line a neutral color and the markers individually colored\n",
    "        fig.add_trace(go.Scatter(\n",
    "            x=embryo_df['predicted_stage_hpf'],\n",
    "            y=embryo_df['time_delay_smooth'],\n",
    "            mode='lines+markers',\n",
    "            name=f\"{phen} - {embryo}\",\n",
    "            line=dict(color='lightgray', width=2),  # or some other neutral color\n",
    "            marker=dict(size=6, color=point_colors),\n",
    "            customdata=np.stack([\n",
    "                embryo_df['time_delay'],\n",
    "                embryo_df['embryo_id'],\n",
    "                embryo_df['snip_id'],\n",
    "                embryo_df['segment_avg_time'],\n",
    "                embryo_df['phenotype'],\n",
    "                embryo_df[color_col] if color_col in embryo_df.columns else np.nan\n",
    "            ], axis=1),\n",
    "            hovertemplate=(\n",
    "                f\"{color_col}: \" + \"%{customdata[5]}<br>\"\n",
    "                \"Time Delay (Original): %{customdata[0]:.2f}<br>\"\n",
    "                \"Time Delay (Smoothed): %{y:.2f}<br>\"\n",
    "                \"Embryo ID: %{customdata[1]}<br>\"\n",
    "                \"Snip ID: %{customdata[2]}<br>\"\n",
    "                \"Predicted Stage (hpf): %{x:.2f}<br>\"\n",
    "                \"Segment Avg Time: %{customdata[3]:.2f}<br>\"\n",
    "                \"Phenotype: %{customdata[4]}<extra></extra>\"\n",
    "            ),\n",
    "            showlegend=True\n",
    "        ))\n",
    "    \n",
    "    # -------------------------\n",
    "    # 11. Update Layout\n",
    "    # -------------------------\n",
    "    fig.update_layout(\n",
    "        title=f\"Dev Delay Per Embryo — colored by {color_col}\",\n",
    "        xaxis_title=\"Predicted Stage (hpf)\",\n",
    "        yaxis_title=\"Time Delay (segment_avg_time - predicted_stage_hpf)\",\n",
    "        legend=dict(\n",
    "            title=\"Phenotype - Embryo\",\n",
    "            itemsizing='constant',\n",
    "            x=0.8,\n",
    "            y=1.0\n",
    "        ),\n",
    "        width=1000,\n",
    "        height=700,\n",
    "        margin=dict(l=0, r=200, b=0, t=50)\n",
    "    )\n",
    "    \n",
    "    # -------------------------\n",
    "    # 12. Save Plot as HTML\n",
    "    # -------------------------\n",
    "    outfile = os.path.join(save_dir, f\"{file_prefix}_dev_delay.html\")\n",
    "    fig.write_html(outfile)\n",
    "    print(f\"Developmental delay plot saved to: {outfile}\")\n",
    "    \n",
    "    return fig"
   ]
  },
  {
   "cell_type": "code",
   "execution_count": 21,
   "metadata": {},
   "outputs": [
    {
     "data": {
      "text/html": [
       "<div>\n",
       "<style scoped>\n",
       "    .dataframe tbody tr th:only-of-type {\n",
       "        vertical-align: middle;\n",
       "    }\n",
       "\n",
       "    .dataframe tbody tr th {\n",
       "        vertical-align: top;\n",
       "    }\n",
       "\n",
       "    .dataframe thead th {\n",
       "        text-align: right;\n",
       "    }\n",
       "</style>\n",
       "<table border=\"1\" class=\"dataframe\">\n",
       "  <thead>\n",
       "    <tr style=\"text-align: right;\">\n",
       "      <th></th>\n",
       "      <th>snip_id</th>\n",
       "      <th>embryo_id</th>\n",
       "      <th>phenotype</th>\n",
       "      <th>predicted_stage_hpf</th>\n",
       "      <th>PCA_1</th>\n",
       "      <th>PCA_2</th>\n",
       "      <th>PCA_3</th>\n",
       "      <th>ref_seg_id</th>\n",
       "      <th>closest_on_spline_x</th>\n",
       "      <th>closest_on_spline_y</th>\n",
       "      <th>closest_on_spline_z</th>\n",
       "      <th>plane_point_x</th>\n",
       "      <th>plane_point_y</th>\n",
       "      <th>plane_point_z</th>\n",
       "      <th>distance_to_plane</th>\n",
       "      <th>distance_to_axis</th>\n",
       "      <th>hypotenuse</th>\n",
       "    </tr>\n",
       "  </thead>\n",
       "  <tbody>\n",
       "    <tr>\n",
       "      <th>0</th>\n",
       "      <td>20231206_A11_e00_t0000</td>\n",
       "      <td>20231206_A11_e00</td>\n",
       "      <td>inj-ctrl</td>\n",
       "      <td>15.255479</td>\n",
       "      <td>1.405107</td>\n",
       "      <td>1.838382</td>\n",
       "      <td>-1.174441</td>\n",
       "      <td>5</td>\n",
       "      <td>1.214713</td>\n",
       "      <td>1.909938</td>\n",
       "      <td>-1.069723</td>\n",
       "      <td>1.271828</td>\n",
       "      <td>1.979907</td>\n",
       "      <td>-1.134643</td>\n",
       "      <td>0.198435</td>\n",
       "      <td>0.121702</td>\n",
       "      <td>0.232782</td>\n",
       "    </tr>\n",
       "    <tr>\n",
       "      <th>1</th>\n",
       "      <td>20231206_A11_e00_t0001</td>\n",
       "      <td>20231206_A11_e00</td>\n",
       "      <td>inj-ctrl</td>\n",
       "      <td>16.299549</td>\n",
       "      <td>1.434386</td>\n",
       "      <td>1.976818</td>\n",
       "      <td>-0.931986</td>\n",
       "      <td>4</td>\n",
       "      <td>1.341449</td>\n",
       "      <td>1.996531</td>\n",
       "      <td>-0.881232</td>\n",
       "      <td>1.362955</td>\n",
       "      <td>2.033945</td>\n",
       "      <td>-0.919317</td>\n",
       "      <td>0.092339</td>\n",
       "      <td>0.059309</td>\n",
       "      <td>0.109746</td>\n",
       "    </tr>\n",
       "    <tr>\n",
       "      <th>2</th>\n",
       "      <td>20231206_A11_e00_t0002</td>\n",
       "      <td>20231206_A11_e00</td>\n",
       "      <td>inj-ctrl</td>\n",
       "      <td>17.234840</td>\n",
       "      <td>1.400584</td>\n",
       "      <td>2.045106</td>\n",
       "      <td>-0.747688</td>\n",
       "      <td>3</td>\n",
       "      <td>1.411158</td>\n",
       "      <td>2.058225</td>\n",
       "      <td>-0.760606</td>\n",
       "      <td>1.407736</td>\n",
       "      <td>2.042091</td>\n",
       "      <td>-0.748384</td>\n",
       "      <td>0.007793</td>\n",
       "      <td>0.091962</td>\n",
       "      <td>0.092292</td>\n",
       "    </tr>\n",
       "    <tr>\n",
       "      <th>3</th>\n",
       "      <td>20231206_A11_e00_t0003</td>\n",
       "      <td>20231206_A11_e00</td>\n",
       "      <td>inj-ctrl</td>\n",
       "      <td>18.171122</td>\n",
       "      <td>1.339535</td>\n",
       "      <td>2.317474</td>\n",
       "      <td>-0.715668</td>\n",
       "      <td>3</td>\n",
       "      <td>1.458492</td>\n",
       "      <td>2.135014</td>\n",
       "      <td>-0.643877</td>\n",
       "      <td>1.497461</td>\n",
       "      <td>2.250885</td>\n",
       "      <td>-0.731031</td>\n",
       "      <td>0.172078</td>\n",
       "      <td>0.162220</td>\n",
       "      <td>0.236487</td>\n",
       "    </tr>\n",
       "    <tr>\n",
       "      <th>4</th>\n",
       "      <td>20231206_A11_e00_t0004</td>\n",
       "      <td>20231206_A11_e00</td>\n",
       "      <td>inj-ctrl</td>\n",
       "      <td>19.109724</td>\n",
       "      <td>1.165578</td>\n",
       "      <td>2.225146</td>\n",
       "      <td>-0.783489</td>\n",
       "      <td>4</td>\n",
       "      <td>1.376730</td>\n",
       "      <td>2.021570</td>\n",
       "      <td>-0.826353</td>\n",
       "      <td>1.389615</td>\n",
       "      <td>2.045971</td>\n",
       "      <td>-0.823224</td>\n",
       "      <td>0.289612</td>\n",
       "      <td>0.110701</td>\n",
       "      <td>0.310048</td>\n",
       "    </tr>\n",
       "    <tr>\n",
       "      <th>...</th>\n",
       "      <td>...</td>\n",
       "      <td>...</td>\n",
       "      <td>...</td>\n",
       "      <td>...</td>\n",
       "      <td>...</td>\n",
       "      <td>...</td>\n",
       "      <td>...</td>\n",
       "      <td>...</td>\n",
       "      <td>...</td>\n",
       "      <td>...</td>\n",
       "      <td>...</td>\n",
       "      <td>...</td>\n",
       "      <td>...</td>\n",
       "      <td>...</td>\n",
       "      <td>...</td>\n",
       "      <td>...</td>\n",
       "      <td>...</td>\n",
       "    </tr>\n",
       "    <tr>\n",
       "      <th>579</th>\n",
       "      <td>20231206_H12_e00_t0032</td>\n",
       "      <td>20231206_H12_e00</td>\n",
       "      <td>inj-ctrl</td>\n",
       "      <td>55.428823</td>\n",
       "      <td>2.745822</td>\n",
       "      <td>-0.371603</td>\n",
       "      <td>0.223447</td>\n",
       "      <td>46</td>\n",
       "      <td>2.687359</td>\n",
       "      <td>-0.220888</td>\n",
       "      <td>0.234706</td>\n",
       "      <td>2.735505</td>\n",
       "      <td>-0.359114</td>\n",
       "      <td>0.274159</td>\n",
       "      <td>0.053237</td>\n",
       "      <td>0.160041</td>\n",
       "      <td>0.168663</td>\n",
       "    </tr>\n",
       "    <tr>\n",
       "      <th>580</th>\n",
       "      <td>20231206_H12_e00_t0033</td>\n",
       "      <td>20231206_H12_e00</td>\n",
       "      <td>inj-ctrl</td>\n",
       "      <td>56.365674</td>\n",
       "      <td>2.721195</td>\n",
       "      <td>-0.301191</td>\n",
       "      <td>0.212873</td>\n",
       "      <td>46</td>\n",
       "      <td>2.686768</td>\n",
       "      <td>-0.221108</td>\n",
       "      <td>0.234580</td>\n",
       "      <td>2.713052</td>\n",
       "      <td>-0.291334</td>\n",
       "      <td>0.252898</td>\n",
       "      <td>0.042018</td>\n",
       "      <td>0.091826</td>\n",
       "      <td>0.100983</td>\n",
       "    </tr>\n",
       "    <tr>\n",
       "      <th>581</th>\n",
       "      <td>20231206_H12_e00_t0034</td>\n",
       "      <td>20231206_H12_e00</td>\n",
       "      <td>inj-ctrl</td>\n",
       "      <td>57.301418</td>\n",
       "      <td>2.770324</td>\n",
       "      <td>-0.270652</td>\n",
       "      <td>0.186179</td>\n",
       "      <td>46</td>\n",
       "      <td>2.733032</td>\n",
       "      <td>-0.203901</td>\n",
       "      <td>0.244473</td>\n",
       "      <td>2.756797</td>\n",
       "      <td>-0.254277</td>\n",
       "      <td>0.252671</td>\n",
       "      <td>0.069802</td>\n",
       "      <td>0.116955</td>\n",
       "      <td>0.136201</td>\n",
       "    </tr>\n",
       "    <tr>\n",
       "      <th>582</th>\n",
       "      <td>20231206_H12_e00_t0035</td>\n",
       "      <td>20231206_H12_e00</td>\n",
       "      <td>inj-ctrl</td>\n",
       "      <td>58.234058</td>\n",
       "      <td>2.893648</td>\n",
       "      <td>-0.295454</td>\n",
       "      <td>0.338434</td>\n",
       "      <td>47</td>\n",
       "      <td>2.865534</td>\n",
       "      <td>-0.158372</td>\n",
       "      <td>0.283609</td>\n",
       "      <td>2.923146</td>\n",
       "      <td>-0.282418</td>\n",
       "      <td>0.279708</td>\n",
       "      <td>0.066999</td>\n",
       "      <td>0.136491</td>\n",
       "      <td>0.152048</td>\n",
       "    </tr>\n",
       "    <tr>\n",
       "      <th>583</th>\n",
       "      <td>20231206_H12_e00_t0036</td>\n",
       "      <td>20231206_H12_e00</td>\n",
       "      <td>inj-ctrl</td>\n",
       "      <td>59.167870</td>\n",
       "      <td>2.870344</td>\n",
       "      <td>-0.305217</td>\n",
       "      <td>0.262608</td>\n",
       "      <td>47</td>\n",
       "      <td>2.823559</td>\n",
       "      <td>-0.172397</td>\n",
       "      <td>0.270065</td>\n",
       "      <td>2.875934</td>\n",
       "      <td>-0.302747</td>\n",
       "      <td>0.251480</td>\n",
       "      <td>0.012695</td>\n",
       "      <td>0.156622</td>\n",
       "      <td>0.157135</td>\n",
       "    </tr>\n",
       "  </tbody>\n",
       "</table>\n",
       "<p>584 rows × 17 columns</p>\n",
       "</div>"
      ],
      "text/plain": [
       "                    snip_id         embryo_id phenotype  predicted_stage_hpf  \\\n",
       "0    20231206_A11_e00_t0000  20231206_A11_e00  inj-ctrl            15.255479   \n",
       "1    20231206_A11_e00_t0001  20231206_A11_e00  inj-ctrl            16.299549   \n",
       "2    20231206_A11_e00_t0002  20231206_A11_e00  inj-ctrl            17.234840   \n",
       "3    20231206_A11_e00_t0003  20231206_A11_e00  inj-ctrl            18.171122   \n",
       "4    20231206_A11_e00_t0004  20231206_A11_e00  inj-ctrl            19.109724   \n",
       "..                      ...               ...       ...                  ...   \n",
       "579  20231206_H12_e00_t0032  20231206_H12_e00  inj-ctrl            55.428823   \n",
       "580  20231206_H12_e00_t0033  20231206_H12_e00  inj-ctrl            56.365674   \n",
       "581  20231206_H12_e00_t0034  20231206_H12_e00  inj-ctrl            57.301418   \n",
       "582  20231206_H12_e00_t0035  20231206_H12_e00  inj-ctrl            58.234058   \n",
       "583  20231206_H12_e00_t0036  20231206_H12_e00  inj-ctrl            59.167870   \n",
       "\n",
       "        PCA_1     PCA_2     PCA_3  ref_seg_id  closest_on_spline_x  \\\n",
       "0    1.405107  1.838382 -1.174441           5             1.214713   \n",
       "1    1.434386  1.976818 -0.931986           4             1.341449   \n",
       "2    1.400584  2.045106 -0.747688           3             1.411158   \n",
       "3    1.339535  2.317474 -0.715668           3             1.458492   \n",
       "4    1.165578  2.225146 -0.783489           4             1.376730   \n",
       "..        ...       ...       ...         ...                  ...   \n",
       "579  2.745822 -0.371603  0.223447          46             2.687359   \n",
       "580  2.721195 -0.301191  0.212873          46             2.686768   \n",
       "581  2.770324 -0.270652  0.186179          46             2.733032   \n",
       "582  2.893648 -0.295454  0.338434          47             2.865534   \n",
       "583  2.870344 -0.305217  0.262608          47             2.823559   \n",
       "\n",
       "     closest_on_spline_y  closest_on_spline_z  plane_point_x  plane_point_y  \\\n",
       "0               1.909938            -1.069723       1.271828       1.979907   \n",
       "1               1.996531            -0.881232       1.362955       2.033945   \n",
       "2               2.058225            -0.760606       1.407736       2.042091   \n",
       "3               2.135014            -0.643877       1.497461       2.250885   \n",
       "4               2.021570            -0.826353       1.389615       2.045971   \n",
       "..                   ...                  ...            ...            ...   \n",
       "579            -0.220888             0.234706       2.735505      -0.359114   \n",
       "580            -0.221108             0.234580       2.713052      -0.291334   \n",
       "581            -0.203901             0.244473       2.756797      -0.254277   \n",
       "582            -0.158372             0.283609       2.923146      -0.282418   \n",
       "583            -0.172397             0.270065       2.875934      -0.302747   \n",
       "\n",
       "     plane_point_z  distance_to_plane  distance_to_axis  hypotenuse  \n",
       "0        -1.134643           0.198435          0.121702    0.232782  \n",
       "1        -0.919317           0.092339          0.059309    0.109746  \n",
       "2        -0.748384           0.007793          0.091962    0.092292  \n",
       "3        -0.731031           0.172078          0.162220    0.236487  \n",
       "4        -0.823224           0.289612          0.110701    0.310048  \n",
       "..             ...                ...               ...         ...  \n",
       "579       0.274159           0.053237          0.160041    0.168663  \n",
       "580       0.252898           0.042018          0.091826    0.100983  \n",
       "581       0.252671           0.069802          0.116955    0.136201  \n",
       "582       0.279708           0.066999          0.136491    0.152048  \n",
       "583       0.251480           0.012695          0.156622    0.157135  \n",
       "\n",
       "[584 rows x 17 columns]"
      ]
     },
     "execution_count": 21,
     "metadata": {},
     "output_type": "execute_result"
    }
   ],
   "source": []
  },
  {
   "cell_type": "code",
   "execution_count": 20,
   "metadata": {},
   "outputs": [
    {
     "name": "stdout",
     "output_type": "stream",
     "text": [
      "Developmental delay plot saved to: /net/trapnell/vol1/home/mdcolon/proj/morphseq/results/20250115/dev_delay_multi_proj_pert_comp_with_['wt', 'lmx1b', 'inj-ctrl']_phenotype_test_dev_delay.html\n"
     ]
    }
   ],
   "source": [
    "# -------------------------\n",
    "projection_dfs = [\n",
    "    wt_projection_to_wt,\n",
    "    lmx1b_projection_to_wt,\n",
    "    inj_ctrl_projection_to_wt,\n",
    "]\n",
    "\n",
    "color_col = \"phenotype\"\n",
    "fig = plot_development_delay(\n",
    "    spline_df=wt_splines_n_planes,\n",
    "    projection_dfs=projection_dfs,\n",
    "    save_dir=save_dir,\n",
    "    df_augmented = df_30,\n",
    "    color_col =color_col,\n",
    "    file_prefix=f\"dev_delay_multi_proj_pert_comp_with_{pert_comparisons}_{color_col}_test\",\n",
    "    min_images=10,  # Ensures embryos have at least 2 points\n",
    "    max_embryos_per_phenotype=200,\n",
    "    smoothing_window=5,  # Smooth over 3 time points\n",
    ")"
   ]
  },
  {
   "cell_type": "code",
   "execution_count": null,
   "metadata": {},
   "outputs": [],
   "source": [
    "# -------------------------\n",
    "projection_dfs = [\n",
    "    wt_projection_to_wt,\n",
    "    lmx1b_projection_to_wt,\n",
    "    inj_ctrl_projection_to_wt,\n",
    "]\n",
    "\n",
    "fig = plot_3d_spline_and_projections(\n",
    "    projection_dfs =projection_dfs,\n",
    "    segment_info_df=wt_splines_n_planes,\n",
    "    pert_splines=pert_splines,  # or None if you don't have/need them\n",
    "    save_dir=save_dir,\n",
    "    filename=\"3d_vis_spline_n_planes_temp=30.html\",\n",
    "    k=None,\n",
    "    title=\"My 3D Spline + Projection Visualization temp = 30\",\n",
    "    plane_opacity=0.2,\n",
    "    axis_length=0.5,\n",
    "    show_legend=True\n",
    ")"
   ]
  },
  {
   "cell_type": "markdown",
   "metadata": {},
   "source": [
    "## figuring out explanatory of the spread and bias of the time delay "
   ]
  },
  {
   "cell_type": "code",
   "execution_count": 14,
   "metadata": {},
   "outputs": [
    {
     "data": {
      "text/plain": [
       "{'PCA_1',\n",
       " 'PCA_2',\n",
       " 'PCA_3',\n",
       " 'UMAP_00_2',\n",
       " 'UMAP_00_3',\n",
       " 'UMAP_00_bio_2',\n",
       " 'UMAP_00_bio_3',\n",
       " 'UMAP_00_n_2',\n",
       " 'UMAP_00_n_3',\n",
       " 'UMAP_01_2',\n",
       " 'UMAP_01_3',\n",
       " 'UMAP_01_bio_2',\n",
       " 'UMAP_01_bio_3',\n",
       " 'UMAP_01_n_2',\n",
       " 'UMAP_01_n_3',\n",
       " 'UMAP_02_3',\n",
       " 'UMAP_02_bio_3',\n",
       " 'UMAP_02_n_3',\n",
       " 'Unnamed: 0',\n",
       " 'control_flag',\n",
       " 'embryo_id',\n",
       " 'experiment_date',\n",
       " 'length_um',\n",
       " 'medium',\n",
       " 'phenotype',\n",
       " 'predicted_stage_hpf',\n",
       " 'recon_mse',\n",
       " 'short_pert_name',\n",
       " 'snip_id',\n",
       " 'surface_area_um',\n",
       " 'temperature',\n",
       " 'train_cat',\n",
       " 'width_um',\n",
       " 'z_mu_b_20',\n",
       " 'z_mu_b_21',\n",
       " 'z_mu_b_22',\n",
       " 'z_mu_b_23',\n",
       " 'z_mu_b_24',\n",
       " 'z_mu_b_25',\n",
       " 'z_mu_b_26',\n",
       " 'z_mu_b_27',\n",
       " 'z_mu_b_28',\n",
       " 'z_mu_b_29',\n",
       " 'z_mu_b_30',\n",
       " 'z_mu_b_31',\n",
       " 'z_mu_b_32',\n",
       " 'z_mu_b_33',\n",
       " 'z_mu_b_34',\n",
       " 'z_mu_b_35',\n",
       " 'z_mu_b_36',\n",
       " 'z_mu_b_37',\n",
       " 'z_mu_b_38',\n",
       " 'z_mu_b_39',\n",
       " 'z_mu_b_40',\n",
       " 'z_mu_b_41',\n",
       " 'z_mu_b_42',\n",
       " 'z_mu_b_43',\n",
       " 'z_mu_b_44',\n",
       " 'z_mu_b_45',\n",
       " 'z_mu_b_46',\n",
       " 'z_mu_b_47',\n",
       " 'z_mu_b_48',\n",
       " 'z_mu_b_49',\n",
       " 'z_mu_b_50',\n",
       " 'z_mu_b_51',\n",
       " 'z_mu_b_52',\n",
       " 'z_mu_b_53',\n",
       " 'z_mu_b_54',\n",
       " 'z_mu_b_55',\n",
       " 'z_mu_b_56',\n",
       " 'z_mu_b_57',\n",
       " 'z_mu_b_58',\n",
       " 'z_mu_b_59',\n",
       " 'z_mu_b_60',\n",
       " 'z_mu_b_61',\n",
       " 'z_mu_b_62',\n",
       " 'z_mu_b_63',\n",
       " 'z_mu_b_64',\n",
       " 'z_mu_b_65',\n",
       " 'z_mu_b_66',\n",
       " 'z_mu_b_67',\n",
       " 'z_mu_b_68',\n",
       " 'z_mu_b_69',\n",
       " 'z_mu_b_70',\n",
       " 'z_mu_b_71',\n",
       " 'z_mu_b_72',\n",
       " 'z_mu_b_73',\n",
       " 'z_mu_b_74',\n",
       " 'z_mu_b_75',\n",
       " 'z_mu_b_76',\n",
       " 'z_mu_b_77',\n",
       " 'z_mu_b_78',\n",
       " 'z_mu_b_79',\n",
       " 'z_mu_b_80',\n",
       " 'z_mu_b_81',\n",
       " 'z_mu_b_82',\n",
       " 'z_mu_b_83',\n",
       " 'z_mu_b_84',\n",
       " 'z_mu_b_85',\n",
       " 'z_mu_b_86',\n",
       " 'z_mu_b_87',\n",
       " 'z_mu_b_88',\n",
       " 'z_mu_b_89',\n",
       " 'z_mu_b_90',\n",
       " 'z_mu_b_91',\n",
       " 'z_mu_b_92',\n",
       " 'z_mu_b_93',\n",
       " 'z_mu_b_94',\n",
       " 'z_mu_b_95',\n",
       " 'z_mu_b_96',\n",
       " 'z_mu_b_97',\n",
       " 'z_mu_b_98',\n",
       " 'z_mu_b_99',\n",
       " 'z_mu_n_00',\n",
       " 'z_mu_n_01',\n",
       " 'z_mu_n_02',\n",
       " 'z_mu_n_03',\n",
       " 'z_mu_n_04',\n",
       " 'z_mu_n_05',\n",
       " 'z_mu_n_06',\n",
       " 'z_mu_n_07',\n",
       " 'z_mu_n_08',\n",
       " 'z_mu_n_09',\n",
       " 'z_mu_n_10',\n",
       " 'z_mu_n_11',\n",
       " 'z_mu_n_12',\n",
       " 'z_mu_n_13',\n",
       " 'z_mu_n_14',\n",
       " 'z_mu_n_15',\n",
       " 'z_mu_n_16',\n",
       " 'z_mu_n_17',\n",
       " 'z_mu_n_18',\n",
       " 'z_mu_n_19',\n",
       " 'z_sigma_b_20',\n",
       " 'z_sigma_b_21',\n",
       " 'z_sigma_b_22',\n",
       " 'z_sigma_b_23',\n",
       " 'z_sigma_b_24',\n",
       " 'z_sigma_b_25',\n",
       " 'z_sigma_b_26',\n",
       " 'z_sigma_b_27',\n",
       " 'z_sigma_b_28',\n",
       " 'z_sigma_b_29',\n",
       " 'z_sigma_b_30',\n",
       " 'z_sigma_b_31',\n",
       " 'z_sigma_b_32',\n",
       " 'z_sigma_b_33',\n",
       " 'z_sigma_b_34',\n",
       " 'z_sigma_b_35',\n",
       " 'z_sigma_b_36',\n",
       " 'z_sigma_b_37',\n",
       " 'z_sigma_b_38',\n",
       " 'z_sigma_b_39',\n",
       " 'z_sigma_b_40',\n",
       " 'z_sigma_b_41',\n",
       " 'z_sigma_b_42',\n",
       " 'z_sigma_b_43',\n",
       " 'z_sigma_b_44',\n",
       " 'z_sigma_b_45',\n",
       " 'z_sigma_b_46',\n",
       " 'z_sigma_b_47',\n",
       " 'z_sigma_b_48',\n",
       " 'z_sigma_b_49',\n",
       " 'z_sigma_b_50',\n",
       " 'z_sigma_b_51',\n",
       " 'z_sigma_b_52',\n",
       " 'z_sigma_b_53',\n",
       " 'z_sigma_b_54',\n",
       " 'z_sigma_b_55',\n",
       " 'z_sigma_b_56',\n",
       " 'z_sigma_b_57',\n",
       " 'z_sigma_b_58',\n",
       " 'z_sigma_b_59',\n",
       " 'z_sigma_b_60',\n",
       " 'z_sigma_b_61',\n",
       " 'z_sigma_b_62',\n",
       " 'z_sigma_b_63',\n",
       " 'z_sigma_b_64',\n",
       " 'z_sigma_b_65',\n",
       " 'z_sigma_b_66',\n",
       " 'z_sigma_b_67',\n",
       " 'z_sigma_b_68',\n",
       " 'z_sigma_b_69',\n",
       " 'z_sigma_b_70',\n",
       " 'z_sigma_b_71',\n",
       " 'z_sigma_b_72',\n",
       " 'z_sigma_b_73',\n",
       " 'z_sigma_b_74',\n",
       " 'z_sigma_b_75',\n",
       " 'z_sigma_b_76',\n",
       " 'z_sigma_b_77',\n",
       " 'z_sigma_b_78',\n",
       " 'z_sigma_b_79',\n",
       " 'z_sigma_b_80',\n",
       " 'z_sigma_b_81',\n",
       " 'z_sigma_b_82',\n",
       " 'z_sigma_b_83',\n",
       " 'z_sigma_b_84',\n",
       " 'z_sigma_b_85',\n",
       " 'z_sigma_b_86',\n",
       " 'z_sigma_b_87',\n",
       " 'z_sigma_b_88',\n",
       " 'z_sigma_b_89',\n",
       " 'z_sigma_b_90',\n",
       " 'z_sigma_b_91',\n",
       " 'z_sigma_b_92',\n",
       " 'z_sigma_b_93',\n",
       " 'z_sigma_b_94',\n",
       " 'z_sigma_b_95',\n",
       " 'z_sigma_b_96',\n",
       " 'z_sigma_b_97',\n",
       " 'z_sigma_b_98',\n",
       " 'z_sigma_b_99',\n",
       " 'z_sigma_n_00',\n",
       " 'z_sigma_n_01',\n",
       " 'z_sigma_n_02',\n",
       " 'z_sigma_n_03',\n",
       " 'z_sigma_n_04',\n",
       " 'z_sigma_n_05',\n",
       " 'z_sigma_n_06',\n",
       " 'z_sigma_n_07',\n",
       " 'z_sigma_n_08',\n",
       " 'z_sigma_n_09',\n",
       " 'z_sigma_n_10',\n",
       " 'z_sigma_n_11',\n",
       " 'z_sigma_n_12',\n",
       " 'z_sigma_n_13',\n",
       " 'z_sigma_n_14',\n",
       " 'z_sigma_n_15',\n",
       " 'z_sigma_n_16',\n",
       " 'z_sigma_n_17',\n",
       " 'z_sigma_n_18',\n",
       " 'z_sigma_n_19'}"
      ]
     },
     "execution_count": 14,
     "metadata": {},
     "output_type": "execute_result"
    }
   ],
   "source": [
    "set(df_30.columns)"
   ]
  },
  {
   "cell_type": "code",
   "execution_count": null,
   "metadata": {},
   "outputs": [
    {
     "name": "stdout",
     "output_type": "stream",
     "text": [
      "       Unnamed: 0                 snip_id experiment_date  medium  \\\n",
      "28553       28553  20231110_A08_e00_t0000        20231110  MC_015   \n",
      "28554       28554  20231110_A08_e00_t0001        20231110  MC_015   \n",
      "28555       28555  20231110_A08_e00_t0003        20231110  MC_015   \n",
      "28556       28556  20231110_A08_e00_t0004        20231110  MC_015   \n",
      "28557       28557  20231110_A08_e00_t0005        20231110  MC_015   \n",
      "\n",
      "      short_pert_name  control_flag phenotype  predicted_stage_hpf  \\\n",
      "28553          wt_wik             0        wt            14.575800   \n",
      "28554          wt_wik             0        wt            15.485597   \n",
      "28555          wt_wik             0        wt            17.003744   \n",
      "28556          wt_wik             0        wt            17.765088   \n",
      "28557          wt_wik             0        wt            18.522744   \n",
      "\n",
      "       surface_area_um    length_um  ...  UMAP_01_n_3 UMAP_02_n_3  \\\n",
      "28553    469571.159214  1440.615136  ...    -3.314493   15.352544   \n",
      "28554    500857.765998  1518.497108  ...    -3.234301   14.841131   \n",
      "28555    527655.424853  1553.130108  ...    -3.162710   14.183237   \n",
      "28556    554317.054982  1611.701777  ...    -3.348654   14.243721   \n",
      "28557    576761.794631  1635.800120  ...    -2.890027   13.727813   \n",
      "\n",
      "              embryo_id  temperature     PCA_1     PCA_2     PCA_3  \\\n",
      "28553  20231110_A08_e00         30.0  1.604002  2.361333 -0.257550   \n",
      "28554  20231110_A08_e00         30.0  1.255865  2.252998 -0.743311   \n",
      "28555  20231110_A08_e00         30.0  1.172694  2.369588 -0.602534   \n",
      "28556  20231110_A08_e00         30.0  1.086011  2.437398 -0.601313   \n",
      "28557  20231110_A08_e00         30.0  0.992295  2.387300 -0.656380   \n",
      "\n",
      "       log2_surface_area_um  log2_length_um  log2_width_um  \n",
      "28553             18.840987       10.493470       8.642624  \n",
      "28554             18.934044       10.569378       8.700873  \n",
      "28555             19.009239       10.601892       8.774626  \n",
      "28556             19.080354       10.655264       8.816140  \n",
      "28557             19.137619       10.676662       8.871810  \n",
      "\n",
      "[5 rows x 236 columns]\n"
     ]
    }
   ],
   "source": [
    "df_30\n",
    "\n",
    "\"surface_area_um\"\n",
    "\"length_um\"\n",
    "\"surface_area_um\"\n",
    "\n",
    "import pandas as pd\n",
    "import numpy as np\n",
    "\n",
    "# Columns to transform (removed duplicate)\n",
    "columns_to_log2 = [\"surface_area_um\", \"length_um\", \"width_um\"]\n",
    "\n",
    "# Add log2-transformed columns, handling non-positive values by adding 1\n",
    "df_30 = df_30.assign(**{\n",
    "    f'log2_{col}': np.log2(df_30[col].replace({0: np.nan}) + 1) \n",
    "    for col in columns_to_log2\n",
    "})\n",
    "\n",
    "# Optionally, drop rows with non-positive original values if needed\n",
    "# df_30.dropna(subset=[f'log2_{col}' for col in columns_to_log2], inplace=True)\n",
    "\n"
   ]
  },
  {
   "cell_type": "code",
   "execution_count": 24,
   "metadata": {},
   "outputs": [],
   "source": [
    "df_30\n",
    "\n",
    "# Columns to transform (removed duplicate)\n",
    "columns_to_log2 = [\"surface_area_um\", \"length_um\", \"width_um\"]\n",
    "\n",
    "# Add log2-transformed columns, handling non-positive values by adding 1\n",
    "df_30 = df_30.assign(**{\n",
    "    f'log2_{col}': np.log2(df_30[col].replace({0: np.nan}) + 1) \n",
    "    for col in columns_to_log2\n",
    "})\n"
   ]
  },
  {
   "cell_type": "code",
   "execution_count": 73,
   "metadata": {},
   "outputs": [
    {
     "name": "stdout",
     "output_type": "stream",
     "text": [
      "Developmental delay plot saved to: /net/trapnell/vol1/home/mdcolon/proj/morphseq/results/20250115/dev_delay_wt_only_temperature_dev_delay.html\n",
      "Developmental delay plot saved to: /net/trapnell/vol1/home/mdcolon/proj/morphseq/results/20250115/dev_delay_wt_only_surface_area_um_dev_delay.html\n",
      "Developmental delay plot saved to: /net/trapnell/vol1/home/mdcolon/proj/morphseq/results/20250115/dev_delay_wt_only_length_um_dev_delay.html\n",
      "Developmental delay plot saved to: /net/trapnell/vol1/home/mdcolon/proj/morphseq/results/20250115/dev_delay_wt_only_width_um_dev_delay.html\n",
      "Developmental delay plot saved to: /net/trapnell/vol1/home/mdcolon/proj/morphseq/results/20250115/dev_delay_wt_only_experiment_date_dev_delay.html\n",
      "Developmental delay plot saved to: /net/trapnell/vol1/home/mdcolon/proj/morphseq/results/20250115/dev_delay_wt_only_train_cat_dev_delay.html\n",
      "Developmental delay plot saved to: /net/trapnell/vol1/home/mdcolon/proj/morphseq/results/20250115/dev_delay_wt_only_recon_mse_dev_delay.html\n"
     ]
    }
   ],
   "source": [
    "\n",
    "# -------------------------\n",
    "projection_dfs = [\n",
    "    wt_projection_to_wt,\n",
    "    # inj_ctrl_projection_to_wt,\n",
    "]\n",
    "\n",
    "for color_col in [\"temperature\",\"surface_area_um\", \"length_um\", \"width_um\",\"experiment_date\",\"train_cat\",\"recon_mse\"]:\n",
    "    fig = plot_development_delay(\n",
    "        spline_df=wt_splines_n_planes,\n",
    "        projection_dfs=projection_dfs,\n",
    "        save_dir=save_dir,\n",
    "        df_augmented = df,\n",
    "        color_col =color_col,\n",
    "        file_prefix=f\"dev_delay_wt_only_{color_col}\",\n",
    "        min_images=20,  # Ensures embryos have at least 2 points\n",
    "        max_embryos_per_phenotype=1000,\n",
    "        smoothing_window=5,  # Smooth over 5 time points\n",
    ")"
   ]
  },
  {
   "cell_type": "code",
   "execution_count": 14,
   "metadata": {},
   "outputs": [],
   "source": [
    "import pandas as pd\n",
    "import numpy as np\n",
    "import plotly.express as px\n",
    "import os\n",
    "\n",
    "def plot_average_surface_area_over_time(\n",
    "    df_augmented,\n",
    "    window_size=1.0,\n",
    "    value_col='surface_area_um',\n",
    "    time_col='predicted_stage_hpf',\n",
    "    group_col='phenotype',\n",
    "    save_dir=\".\",\n",
    "    file_name=\"average_surface_area_over_time.html\"\n",
    "):\n",
    "    \"\"\"\n",
    "    Calculates and plots the average surface_area_um over specified windows of predicted_stage_hpf\n",
    "    for each phenotype.\n",
    "\n",
    "    Parameters\n",
    "    ----------\n",
    "    df_augmented : pd.DataFrame\n",
    "        The input DataFrame containing the data.\n",
    "    \n",
    "    window_size : float, optional\n",
    "        The size of each window/bin for predicted_stage_hpf. Default is 1.0.\n",
    "    \n",
    "    value_col : str, optional\n",
    "        The column name for which to calculate the average. Default is 'surface_area_um'.\n",
    "    \n",
    "    time_col : str, optional\n",
    "        The column name representing the time or stage. Default is 'predicted_stage_hpf'.\n",
    "    \n",
    "    group_col : str, optional\n",
    "        The column name representing the groups (e.g., phenotype). Default is 'phenotype'.\n",
    "    \n",
    "    save_dir : str, optional\n",
    "        Directory to save the resulting plot HTML file. Default is current directory.\n",
    "    \n",
    "    file_name : str, optional\n",
    "        Filename for the saved plot HTML. Default is 'average_surface_area_over_time.html'.\n",
    "    \n",
    "    Returns\n",
    "    -------\n",
    "    fig : plotly.graph_objs._figure.Figure\n",
    "        The Plotly figure object.\n",
    "    \"\"\"\n",
    "    # -------------------------\n",
    "    # 1. Validate Inputs\n",
    "    # -------------------------\n",
    "    required_cols = [time_col, group_col, value_col]\n",
    "    missing_cols = [col for col in required_cols if col not in df_augmented.columns]\n",
    "    if missing_cols:\n",
    "        raise ValueError(f\"The following required columns are missing in df_augmented: {missing_cols}\")\n",
    "    \n",
    "    # -------------------------\n",
    "    # 2. Define Bins for predicted_stage_hpf\n",
    "    # -------------------------\n",
    "    min_stage = df_augmented[time_col].min()\n",
    "    max_stage = df_augmented[time_col].max()\n",
    "    \n",
    "    # Create bin edges\n",
    "    bins = np.arange(start=min_stage, stop=max_stage + window_size, step=window_size)\n",
    "    \n",
    "    # Define bin labels as the center of each bin\n",
    "    bin_labels = bins[:-1] + window_size / 2\n",
    "    \n",
    "    # Assign each row to a bin\n",
    "    df_augmented['hpf_bin'] = pd.cut(\n",
    "        df_augmented[time_col],\n",
    "        bins=bins,\n",
    "        labels=bin_labels,\n",
    "        include_lowest=True,\n",
    "        right=False\n",
    "    )\n",
    "    \n",
    "    # Drop rows that didn't fall into any bin (if any)\n",
    "    df_binned = df_augmented.dropna(subset=['hpf_bin'])\n",
    "    \n",
    "    # -------------------------\n",
    "    # 3. Group and Calculate Mean\n",
    "    # -------------------------\n",
    "    grouped = df_binned.groupby([group_col, 'hpf_bin'])[value_col].mean().reset_index()\n",
    "    \n",
    "    # Optionally, count the number of samples per group and bin\n",
    "    grouped_counts = df_binned.groupby([group_col, 'hpf_bin']).size().reset_index(name='count')\n",
    "    \n",
    "    # Merge counts with the grouped means\n",
    "    grouped = grouped.merge(grouped_counts, on=[group_col, 'hpf_bin'])\n",
    "    \n",
    "    # -------------------------\n",
    "    # 4. Plotting\n",
    "    # -------------------------\n",
    "    fig = px.line(\n",
    "        grouped,\n",
    "        x='hpf_bin',\n",
    "        y=value_col,\n",
    "        color=group_col,\n",
    "        markers=True,\n",
    "        title=f'Average {value_col} Over Time by {group_col.capitalize()}',\n",
    "        labels={\n",
    "            'hpf_bin': f'Predicted Stage ({time_col})',\n",
    "            value_col: f'Average {value_col}',\n",
    "            group_col: group_col.capitalize()\n",
    "        },\n",
    "        hover_data={'count': True}\n",
    "    )\n",
    "    \n",
    "    # Update layout for better aesthetics\n",
    "    fig.update_layout(\n",
    "        xaxis=dict(title=f'Predicted Stage ({time_col})'),\n",
    "        yaxis=dict(title=f'Average {value_col}'),\n",
    "        legend_title=dict(text=group_col.capitalize()),\n",
    "        hovermode='x unified'\n",
    "    )\n",
    "    \n",
    "    # -------------------------\n",
    "    # 5. Save Plot as HTML\n",
    "    # -------------------------\n",
    "    os.makedirs(save_dir, exist_ok=True)\n",
    "    output_path = os.path.join(save_dir, file_name)\n",
    "    fig.write_html(output_path)\n",
    "    print(f\"Plot saved to: {output_path}\")\n",
    "    \n",
    "    return fig\n",
    "\n",
    "# -------------------------\n",
    "# 6. Example Usage\n",
    "# -------------------------\n",
    "\n"
   ]
  },
  {
   "cell_type": "code",
   "execution_count": 31,
   "metadata": {},
   "outputs": [
    {
     "name": "stdout",
     "output_type": "stream",
     "text": [
      "Plot saved to: /net/trapnell/vol1/home/mdcolon/proj/morphseq/results/20250115/average_surface_area_over_time.html\n"
     ]
    },
    {
     "name": "stderr",
     "output_type": "stream",
     "text": [
      "/tmp/8671962.1.trapnell-login.q/ipykernel_2837030/1218628744.py:68: SettingWithCopyWarning:\n",
      "\n",
      "\n",
      "A value is trying to be set on a copy of a slice from a DataFrame.\n",
      "Try using .loc[row_indexer,col_indexer] = value instead\n",
      "\n",
      "See the caveats in the documentation: https://pandas.pydata.org/pandas-docs/stable/user_guide/indexing.html#returning-a-view-versus-a-copy\n",
      "\n",
      "/tmp/8671962.1.trapnell-login.q/ipykernel_2837030/1218628744.py:82: FutureWarning:\n",
      "\n",
      "The default of observed=False is deprecated and will be changed to True in a future version of pandas. Pass observed=False to retain current behavior or observed=True to adopt the future default and silence this warning.\n",
      "\n",
      "/tmp/8671962.1.trapnell-login.q/ipykernel_2837030/1218628744.py:85: FutureWarning:\n",
      "\n",
      "The default of observed=False is deprecated and will be changed to True in a future version of pandas. Pass observed=False to retain current behavior or observed=True to adopt the future default and silence this warning.\n",
      "\n"
     ]
    },
    {
     "data": {
      "application/vnd.plotly.v1+json": {
       "config": {
        "plotlyServerURL": "https://plot.ly"
       },
       "data": [
        {
         "customdata": [
          [
           41
          ],
          [
           40
          ],
          [
           52
          ],
          [
           41
          ],
          [
           45
          ],
          [
           43
          ],
          [
           39
          ],
          [
           32
          ],
          [
           35
          ],
          [
           34
          ],
          [
           33
          ],
          [
           35
          ],
          [
           237
          ],
          [
           238
          ],
          [
           241
          ],
          [
           241
          ],
          [
           221
          ],
          [
           203
          ],
          [
           198
          ],
          [
           188
          ],
          [
           175
          ],
          [
           162
          ],
          [
           147
          ],
          [
           138
          ],
          [
           137
          ],
          [
           135
          ],
          [
           133
          ],
          [
           131
          ],
          [
           121
          ],
          [
           114
          ],
          [
           104
          ],
          [
           99
          ],
          [
           96
          ],
          [
           90
          ],
          [
           52
          ],
          [
           21
          ],
          [
           29
          ],
          [
           43
          ],
          [
           30
          ],
          [
           31
          ],
          [
           33
          ],
          [
           32
          ],
          [
           30
          ],
          [
           25
          ],
          [
           31
          ],
          [
           26
          ],
          [
           33
          ],
          [
           21
          ],
          [
           29
          ],
          [
           21
          ],
          [
           24
          ],
          [
           23
          ],
          [
           19
          ],
          [
           23
          ],
          [
           16
          ],
          [
           25
          ],
          [
           14
          ],
          [
           23
          ],
          [
           15
          ],
          [
           7
          ]
         ],
         "hovertemplate": "Phenotype=lmx1b<br>Predicted Stage (predicted_stage_hpf)=%{x}<br>Average log2_length_um=%{y}<br>count=%{customdata[0]}<extra></extra>",
         "legendgroup": "lmx1b",
         "line": {
          "color": "#636efa",
          "dash": "solid"
         },
         "marker": {
          "symbol": "circle"
         },
         "mode": "lines+markers",
         "name": "lmx1b",
         "orientation": "v",
         "showlegend": true,
         "type": "scatter",
         "x": [
          12.5,
          13.5,
          14.5,
          15.5,
          16.5,
          17.5,
          18.5,
          19.5,
          20.5,
          21.5,
          22.5,
          23.5,
          24.5,
          25.5,
          26.5,
          27.5,
          28.5,
          29.5,
          30.5,
          31.5,
          32.5,
          33.5,
          34.5,
          35.5,
          36.5,
          37.5,
          38.5,
          39.5,
          40.5,
          41.5,
          42.5,
          43.5,
          44.5,
          45.5,
          46.5,
          47.5,
          48.5,
          49.5,
          50.5,
          51.5,
          52.5,
          53.5,
          54.5,
          55.5,
          56.5,
          57.5,
          58.5,
          59.5,
          60.5,
          61.5,
          62.5,
          63.5,
          64.5,
          65.5,
          66.5,
          67.5,
          68.5,
          69.5,
          70.5,
          71.5
         ],
         "xaxis": "x",
         "y": [
          9.724807929170787,
          9.793794399574447,
          9.975077624304335,
          9.936388723356995,
          10.137837382750483,
          10.157638847100571,
          10.185849622289721,
          10.244036659268982,
          10.287709356651384,
          10.346627371335332,
          10.43186671249986,
          10.44363348035915,
          10.577041744462562,
          10.683096674953733,
          10.744217079602327,
          10.818012432040977,
          10.87465049519337,
          10.967348103692844,
          11.018628117939107,
          11.068762746038235,
          11.068934201918962,
          11.086522794676675,
          11.09580154620416,
          11.153262884414122,
          11.158061204140239,
          11.165047772263241,
          11.145305684191593,
          11.137874112300478,
          11.152628687531989,
          11.1657652590366,
          11.235327330503095,
          11.27789955951288,
          11.294061964638772,
          11.308595214795046,
          11.308351387351466,
          11.24504844033211,
          11.196558830143035,
          11.16628863698527,
          11.229847379279509,
          11.287541329893772,
          11.235459458609983,
          11.19791064259522,
          11.2500863238188,
          11.221367549053582,
          11.199694550898288,
          11.242591325671238,
          11.161116231655775,
          11.156319606939967,
          11.140721737234566,
          11.12609502722474,
          11.099281387129729,
          11.180437988206531,
          11.070428329914222,
          11.100688251524257,
          11.09793307105418,
          11.086914215308134,
          11.104812927993395,
          11.087259663212716,
          11.109307937201654,
          11.01844792876282
         ],
         "yaxis": "y"
        },
        {
         "customdata": [
          [
           41
          ],
          [
           36
          ],
          [
           74
          ],
          [
           79
          ],
          [
           91
          ],
          [
           109
          ],
          [
           102
          ],
          [
           97
          ],
          [
           91
          ],
          [
           98
          ],
          [
           109
          ],
          [
           98
          ],
          [
           220
          ],
          [
           214
          ],
          [
           204
          ],
          [
           180
          ],
          [
           186
          ],
          [
           167
          ],
          [
           168
          ],
          [
           155
          ],
          [
           167
          ],
          [
           147
          ],
          [
           151
          ],
          [
           154
          ],
          [
           127
          ],
          [
           121
          ],
          [
           132
          ],
          [
           100
          ],
          [
           95
          ],
          [
           79
          ],
          [
           65
          ],
          [
           64
          ],
          [
           49
          ],
          [
           54
          ],
          [
           46
          ],
          [
           37
          ],
          [
           57
          ],
          [
           39
          ],
          [
           31
          ],
          [
           22
          ],
          [
           20
          ],
          [
           23
          ],
          [
           16
          ],
          [
           24
          ],
          [
           15
          ],
          [
           25
          ],
          [
           16
          ],
          [
           22
          ],
          [
           20
          ],
          [
           16
          ],
          [
           18
          ],
          [
           8
          ],
          [
           12
          ],
          [
           7
          ],
          [
           12
          ],
          [
           6
          ],
          [
           12
          ],
          [
           7
          ],
          [
           9
          ],
          [
           3
          ]
         ],
         "hovertemplate": "Phenotype=wt<br>Predicted Stage (predicted_stage_hpf)=%{x}<br>Average log2_length_um=%{y}<br>count=%{customdata[0]}<extra></extra>",
         "legendgroup": "wt",
         "line": {
          "color": "#EF553B",
          "dash": "solid"
         },
         "marker": {
          "symbol": "circle"
         },
         "mode": "lines+markers",
         "name": "wt",
         "orientation": "v",
         "showlegend": true,
         "type": "scatter",
         "x": [
          12.5,
          13.5,
          14.5,
          15.5,
          16.5,
          17.5,
          18.5,
          19.5,
          20.5,
          21.5,
          22.5,
          23.5,
          24.5,
          25.5,
          26.5,
          27.5,
          28.5,
          29.5,
          30.5,
          31.5,
          32.5,
          33.5,
          34.5,
          35.5,
          36.5,
          37.5,
          38.5,
          39.5,
          40.5,
          41.5,
          42.5,
          43.5,
          44.5,
          45.5,
          46.5,
          47.5,
          48.5,
          49.5,
          50.5,
          51.5,
          52.5,
          53.5,
          54.5,
          55.5,
          56.5,
          57.5,
          58.5,
          59.5,
          60.5,
          61.5,
          62.5,
          63.5,
          64.5,
          65.5,
          66.5,
          67.5,
          68.5,
          69.5,
          70.5,
          71.5
         ],
         "xaxis": "x",
         "y": [
          9.679563392753515,
          9.714170418669818,
          10.09464965565088,
          10.175416077525467,
          10.173641895479836,
          10.214290033008156,
          10.28422169250014,
          10.379415345773934,
          10.395135173003641,
          10.473735481124484,
          10.597564275768312,
          10.686530192000694,
          10.86846539235275,
          10.96316925310686,
          11.010328172361824,
          11.013668340695618,
          11.074354240238504,
          11.132810131449228,
          11.137372670628674,
          11.17628387296426,
          11.231427123324005,
          11.255843196121878,
          11.248307115443534,
          11.274802043891585,
          11.27075833547921,
          11.299865830568583,
          11.294093281220219,
          11.306703349960237,
          11.305781484867483,
          11.291478770817868,
          11.333125331022927,
          11.324661865122753,
          11.28021546402944,
          11.283260387546543,
          11.341576841017853,
          11.328718831556051,
          11.350741965952345,
          11.213045215604142,
          11.179328965023098,
          11.177069860337586,
          11.218973859821869,
          11.24134447212659,
          11.163921513594229,
          11.253467499229394,
          11.20187832623264,
          11.232951591893492,
          11.24531593209565,
          11.298438096133133,
          11.202669964527972,
          11.299998311517083,
          11.312306904915271,
          11.274441626780222,
          11.316493268706829,
          11.382211004711335,
          11.316185983537652,
          11.30910856155279,
          11.307160363241879,
          11.197557063670944,
          11.271820810449519,
          11.284108981341491
         ],
         "yaxis": "y"
        }
       ],
       "layout": {
        "hovermode": "x unified",
        "legend": {
         "title": {
          "text": "Phenotype"
         },
         "tracegroupgap": 0
        },
        "template": {
         "data": {
          "bar": [
           {
            "error_x": {
             "color": "#2a3f5f"
            },
            "error_y": {
             "color": "#2a3f5f"
            },
            "marker": {
             "line": {
              "color": "#E5ECF6",
              "width": 0.5
             },
             "pattern": {
              "fillmode": "overlay",
              "size": 10,
              "solidity": 0.2
             }
            },
            "type": "bar"
           }
          ],
          "barpolar": [
           {
            "marker": {
             "line": {
              "color": "#E5ECF6",
              "width": 0.5
             },
             "pattern": {
              "fillmode": "overlay",
              "size": 10,
              "solidity": 0.2
             }
            },
            "type": "barpolar"
           }
          ],
          "carpet": [
           {
            "aaxis": {
             "endlinecolor": "#2a3f5f",
             "gridcolor": "white",
             "linecolor": "white",
             "minorgridcolor": "white",
             "startlinecolor": "#2a3f5f"
            },
            "baxis": {
             "endlinecolor": "#2a3f5f",
             "gridcolor": "white",
             "linecolor": "white",
             "minorgridcolor": "white",
             "startlinecolor": "#2a3f5f"
            },
            "type": "carpet"
           }
          ],
          "choropleth": [
           {
            "colorbar": {
             "outlinewidth": 0,
             "ticks": ""
            },
            "type": "choropleth"
           }
          ],
          "contour": [
           {
            "colorbar": {
             "outlinewidth": 0,
             "ticks": ""
            },
            "colorscale": [
             [
              0,
              "#0d0887"
             ],
             [
              0.1111111111111111,
              "#46039f"
             ],
             [
              0.2222222222222222,
              "#7201a8"
             ],
             [
              0.3333333333333333,
              "#9c179e"
             ],
             [
              0.4444444444444444,
              "#bd3786"
             ],
             [
              0.5555555555555556,
              "#d8576b"
             ],
             [
              0.6666666666666666,
              "#ed7953"
             ],
             [
              0.7777777777777778,
              "#fb9f3a"
             ],
             [
              0.8888888888888888,
              "#fdca26"
             ],
             [
              1,
              "#f0f921"
             ]
            ],
            "type": "contour"
           }
          ],
          "contourcarpet": [
           {
            "colorbar": {
             "outlinewidth": 0,
             "ticks": ""
            },
            "type": "contourcarpet"
           }
          ],
          "heatmap": [
           {
            "colorbar": {
             "outlinewidth": 0,
             "ticks": ""
            },
            "colorscale": [
             [
              0,
              "#0d0887"
             ],
             [
              0.1111111111111111,
              "#46039f"
             ],
             [
              0.2222222222222222,
              "#7201a8"
             ],
             [
              0.3333333333333333,
              "#9c179e"
             ],
             [
              0.4444444444444444,
              "#bd3786"
             ],
             [
              0.5555555555555556,
              "#d8576b"
             ],
             [
              0.6666666666666666,
              "#ed7953"
             ],
             [
              0.7777777777777778,
              "#fb9f3a"
             ],
             [
              0.8888888888888888,
              "#fdca26"
             ],
             [
              1,
              "#f0f921"
             ]
            ],
            "type": "heatmap"
           }
          ],
          "heatmapgl": [
           {
            "colorbar": {
             "outlinewidth": 0,
             "ticks": ""
            },
            "colorscale": [
             [
              0,
              "#0d0887"
             ],
             [
              0.1111111111111111,
              "#46039f"
             ],
             [
              0.2222222222222222,
              "#7201a8"
             ],
             [
              0.3333333333333333,
              "#9c179e"
             ],
             [
              0.4444444444444444,
              "#bd3786"
             ],
             [
              0.5555555555555556,
              "#d8576b"
             ],
             [
              0.6666666666666666,
              "#ed7953"
             ],
             [
              0.7777777777777778,
              "#fb9f3a"
             ],
             [
              0.8888888888888888,
              "#fdca26"
             ],
             [
              1,
              "#f0f921"
             ]
            ],
            "type": "heatmapgl"
           }
          ],
          "histogram": [
           {
            "marker": {
             "pattern": {
              "fillmode": "overlay",
              "size": 10,
              "solidity": 0.2
             }
            },
            "type": "histogram"
           }
          ],
          "histogram2d": [
           {
            "colorbar": {
             "outlinewidth": 0,
             "ticks": ""
            },
            "colorscale": [
             [
              0,
              "#0d0887"
             ],
             [
              0.1111111111111111,
              "#46039f"
             ],
             [
              0.2222222222222222,
              "#7201a8"
             ],
             [
              0.3333333333333333,
              "#9c179e"
             ],
             [
              0.4444444444444444,
              "#bd3786"
             ],
             [
              0.5555555555555556,
              "#d8576b"
             ],
             [
              0.6666666666666666,
              "#ed7953"
             ],
             [
              0.7777777777777778,
              "#fb9f3a"
             ],
             [
              0.8888888888888888,
              "#fdca26"
             ],
             [
              1,
              "#f0f921"
             ]
            ],
            "type": "histogram2d"
           }
          ],
          "histogram2dcontour": [
           {
            "colorbar": {
             "outlinewidth": 0,
             "ticks": ""
            },
            "colorscale": [
             [
              0,
              "#0d0887"
             ],
             [
              0.1111111111111111,
              "#46039f"
             ],
             [
              0.2222222222222222,
              "#7201a8"
             ],
             [
              0.3333333333333333,
              "#9c179e"
             ],
             [
              0.4444444444444444,
              "#bd3786"
             ],
             [
              0.5555555555555556,
              "#d8576b"
             ],
             [
              0.6666666666666666,
              "#ed7953"
             ],
             [
              0.7777777777777778,
              "#fb9f3a"
             ],
             [
              0.8888888888888888,
              "#fdca26"
             ],
             [
              1,
              "#f0f921"
             ]
            ],
            "type": "histogram2dcontour"
           }
          ],
          "mesh3d": [
           {
            "colorbar": {
             "outlinewidth": 0,
             "ticks": ""
            },
            "type": "mesh3d"
           }
          ],
          "parcoords": [
           {
            "line": {
             "colorbar": {
              "outlinewidth": 0,
              "ticks": ""
             }
            },
            "type": "parcoords"
           }
          ],
          "pie": [
           {
            "automargin": true,
            "type": "pie"
           }
          ],
          "scatter": [
           {
            "fillpattern": {
             "fillmode": "overlay",
             "size": 10,
             "solidity": 0.2
            },
            "type": "scatter"
           }
          ],
          "scatter3d": [
           {
            "line": {
             "colorbar": {
              "outlinewidth": 0,
              "ticks": ""
             }
            },
            "marker": {
             "colorbar": {
              "outlinewidth": 0,
              "ticks": ""
             }
            },
            "type": "scatter3d"
           }
          ],
          "scattercarpet": [
           {
            "marker": {
             "colorbar": {
              "outlinewidth": 0,
              "ticks": ""
             }
            },
            "type": "scattercarpet"
           }
          ],
          "scattergeo": [
           {
            "marker": {
             "colorbar": {
              "outlinewidth": 0,
              "ticks": ""
             }
            },
            "type": "scattergeo"
           }
          ],
          "scattergl": [
           {
            "marker": {
             "colorbar": {
              "outlinewidth": 0,
              "ticks": ""
             }
            },
            "type": "scattergl"
           }
          ],
          "scattermapbox": [
           {
            "marker": {
             "colorbar": {
              "outlinewidth": 0,
              "ticks": ""
             }
            },
            "type": "scattermapbox"
           }
          ],
          "scatterpolar": [
           {
            "marker": {
             "colorbar": {
              "outlinewidth": 0,
              "ticks": ""
             }
            },
            "type": "scatterpolar"
           }
          ],
          "scatterpolargl": [
           {
            "marker": {
             "colorbar": {
              "outlinewidth": 0,
              "ticks": ""
             }
            },
            "type": "scatterpolargl"
           }
          ],
          "scatterternary": [
           {
            "marker": {
             "colorbar": {
              "outlinewidth": 0,
              "ticks": ""
             }
            },
            "type": "scatterternary"
           }
          ],
          "surface": [
           {
            "colorbar": {
             "outlinewidth": 0,
             "ticks": ""
            },
            "colorscale": [
             [
              0,
              "#0d0887"
             ],
             [
              0.1111111111111111,
              "#46039f"
             ],
             [
              0.2222222222222222,
              "#7201a8"
             ],
             [
              0.3333333333333333,
              "#9c179e"
             ],
             [
              0.4444444444444444,
              "#bd3786"
             ],
             [
              0.5555555555555556,
              "#d8576b"
             ],
             [
              0.6666666666666666,
              "#ed7953"
             ],
             [
              0.7777777777777778,
              "#fb9f3a"
             ],
             [
              0.8888888888888888,
              "#fdca26"
             ],
             [
              1,
              "#f0f921"
             ]
            ],
            "type": "surface"
           }
          ],
          "table": [
           {
            "cells": {
             "fill": {
              "color": "#EBF0F8"
             },
             "line": {
              "color": "white"
             }
            },
            "header": {
             "fill": {
              "color": "#C8D4E3"
             },
             "line": {
              "color": "white"
             }
            },
            "type": "table"
           }
          ]
         },
         "layout": {
          "annotationdefaults": {
           "arrowcolor": "#2a3f5f",
           "arrowhead": 0,
           "arrowwidth": 1
          },
          "autotypenumbers": "strict",
          "coloraxis": {
           "colorbar": {
            "outlinewidth": 0,
            "ticks": ""
           }
          },
          "colorscale": {
           "diverging": [
            [
             0,
             "#8e0152"
            ],
            [
             0.1,
             "#c51b7d"
            ],
            [
             0.2,
             "#de77ae"
            ],
            [
             0.3,
             "#f1b6da"
            ],
            [
             0.4,
             "#fde0ef"
            ],
            [
             0.5,
             "#f7f7f7"
            ],
            [
             0.6,
             "#e6f5d0"
            ],
            [
             0.7,
             "#b8e186"
            ],
            [
             0.8,
             "#7fbc41"
            ],
            [
             0.9,
             "#4d9221"
            ],
            [
             1,
             "#276419"
            ]
           ],
           "sequential": [
            [
             0,
             "#0d0887"
            ],
            [
             0.1111111111111111,
             "#46039f"
            ],
            [
             0.2222222222222222,
             "#7201a8"
            ],
            [
             0.3333333333333333,
             "#9c179e"
            ],
            [
             0.4444444444444444,
             "#bd3786"
            ],
            [
             0.5555555555555556,
             "#d8576b"
            ],
            [
             0.6666666666666666,
             "#ed7953"
            ],
            [
             0.7777777777777778,
             "#fb9f3a"
            ],
            [
             0.8888888888888888,
             "#fdca26"
            ],
            [
             1,
             "#f0f921"
            ]
           ],
           "sequentialminus": [
            [
             0,
             "#0d0887"
            ],
            [
             0.1111111111111111,
             "#46039f"
            ],
            [
             0.2222222222222222,
             "#7201a8"
            ],
            [
             0.3333333333333333,
             "#9c179e"
            ],
            [
             0.4444444444444444,
             "#bd3786"
            ],
            [
             0.5555555555555556,
             "#d8576b"
            ],
            [
             0.6666666666666666,
             "#ed7953"
            ],
            [
             0.7777777777777778,
             "#fb9f3a"
            ],
            [
             0.8888888888888888,
             "#fdca26"
            ],
            [
             1,
             "#f0f921"
            ]
           ]
          },
          "colorway": [
           "#636efa",
           "#EF553B",
           "#00cc96",
           "#ab63fa",
           "#FFA15A",
           "#19d3f3",
           "#FF6692",
           "#B6E880",
           "#FF97FF",
           "#FECB52"
          ],
          "font": {
           "color": "#2a3f5f"
          },
          "geo": {
           "bgcolor": "white",
           "lakecolor": "white",
           "landcolor": "#E5ECF6",
           "showlakes": true,
           "showland": true,
           "subunitcolor": "white"
          },
          "hoverlabel": {
           "align": "left"
          },
          "hovermode": "closest",
          "mapbox": {
           "style": "light"
          },
          "paper_bgcolor": "white",
          "plot_bgcolor": "#E5ECF6",
          "polar": {
           "angularaxis": {
            "gridcolor": "white",
            "linecolor": "white",
            "ticks": ""
           },
           "bgcolor": "#E5ECF6",
           "radialaxis": {
            "gridcolor": "white",
            "linecolor": "white",
            "ticks": ""
           }
          },
          "scene": {
           "xaxis": {
            "backgroundcolor": "#E5ECF6",
            "gridcolor": "white",
            "gridwidth": 2,
            "linecolor": "white",
            "showbackground": true,
            "ticks": "",
            "zerolinecolor": "white"
           },
           "yaxis": {
            "backgroundcolor": "#E5ECF6",
            "gridcolor": "white",
            "gridwidth": 2,
            "linecolor": "white",
            "showbackground": true,
            "ticks": "",
            "zerolinecolor": "white"
           },
           "zaxis": {
            "backgroundcolor": "#E5ECF6",
            "gridcolor": "white",
            "gridwidth": 2,
            "linecolor": "white",
            "showbackground": true,
            "ticks": "",
            "zerolinecolor": "white"
           }
          },
          "shapedefaults": {
           "line": {
            "color": "#2a3f5f"
           }
          },
          "ternary": {
           "aaxis": {
            "gridcolor": "white",
            "linecolor": "white",
            "ticks": ""
           },
           "baxis": {
            "gridcolor": "white",
            "linecolor": "white",
            "ticks": ""
           },
           "bgcolor": "#E5ECF6",
           "caxis": {
            "gridcolor": "white",
            "linecolor": "white",
            "ticks": ""
           }
          },
          "title": {
           "x": 0.05
          },
          "xaxis": {
           "automargin": true,
           "gridcolor": "white",
           "linecolor": "white",
           "ticks": "",
           "title": {
            "standoff": 15
           },
           "zerolinecolor": "white",
           "zerolinewidth": 2
          },
          "yaxis": {
           "automargin": true,
           "gridcolor": "white",
           "linecolor": "white",
           "ticks": "",
           "title": {
            "standoff": 15
           },
           "zerolinecolor": "white",
           "zerolinewidth": 2
          }
         }
        },
        "title": {
         "text": "Average log2_length_um Over Time by Phenotype"
        },
        "xaxis": {
         "anchor": "y",
         "domain": [
          0,
          1
         ],
         "title": {
          "text": "Predicted Stage (predicted_stage_hpf)"
         }
        },
        "yaxis": {
         "anchor": "x",
         "domain": [
          0,
          1
         ],
         "title": {
          "text": "Average log2_length_um"
         }
        }
       }
      },
      "text/html": [
       "<div>                            <div id=\"cc811a62-e958-45ad-8af2-091df2265def\" class=\"plotly-graph-div\" style=\"height:525px; width:100%;\"></div>            <script type=\"text/javascript\">                require([\"plotly\"], function(Plotly) {                    window.PLOTLYENV=window.PLOTLYENV || {};                                    if (document.getElementById(\"cc811a62-e958-45ad-8af2-091df2265def\")) {                    Plotly.newPlot(                        \"cc811a62-e958-45ad-8af2-091df2265def\",                        [{\"customdata\":[[41],[40],[52],[41],[45],[43],[39],[32],[35],[34],[33],[35],[237],[238],[241],[241],[221],[203],[198],[188],[175],[162],[147],[138],[137],[135],[133],[131],[121],[114],[104],[99],[96],[90],[52],[21],[29],[43],[30],[31],[33],[32],[30],[25],[31],[26],[33],[21],[29],[21],[24],[23],[19],[23],[16],[25],[14],[23],[15],[7]],\"hovertemplate\":\"Phenotype=lmx1b\\u003cbr\\u003ePredicted Stage (predicted_stage_hpf)=%{x}\\u003cbr\\u003eAverage log2_length_um=%{y}\\u003cbr\\u003ecount=%{customdata[0]}\\u003cextra\\u003e\\u003c\\u002fextra\\u003e\",\"legendgroup\":\"lmx1b\",\"line\":{\"color\":\"#636efa\",\"dash\":\"solid\"},\"marker\":{\"symbol\":\"circle\"},\"mode\":\"lines+markers\",\"name\":\"lmx1b\",\"orientation\":\"v\",\"showlegend\":true,\"x\":[12.5,13.5,14.5,15.5,16.5,17.5,18.5,19.5,20.5,21.5,22.5,23.5,24.5,25.5,26.5,27.5,28.5,29.5,30.5,31.5,32.5,33.5,34.5,35.5,36.5,37.5,38.5,39.5,40.5,41.5,42.5,43.5,44.5,45.5,46.5,47.5,48.5,49.5,50.5,51.5,52.5,53.5,54.5,55.5,56.5,57.5,58.5,59.5,60.5,61.5,62.5,63.5,64.5,65.5,66.5,67.5,68.5,69.5,70.5,71.5],\"xaxis\":\"x\",\"y\":[9.724807929170787,9.793794399574447,9.975077624304335,9.936388723356995,10.137837382750483,10.157638847100571,10.185849622289721,10.244036659268982,10.287709356651384,10.346627371335332,10.43186671249986,10.44363348035915,10.577041744462562,10.683096674953733,10.744217079602327,10.818012432040977,10.87465049519337,10.967348103692844,11.018628117939107,11.068762746038235,11.068934201918962,11.086522794676675,11.09580154620416,11.153262884414122,11.158061204140239,11.165047772263241,11.145305684191593,11.137874112300478,11.152628687531989,11.1657652590366,11.235327330503095,11.27789955951288,11.294061964638772,11.308595214795046,11.308351387351466,11.24504844033211,11.196558830143035,11.16628863698527,11.229847379279509,11.287541329893772,11.235459458609983,11.19791064259522,11.2500863238188,11.221367549053582,11.199694550898288,11.242591325671238,11.161116231655775,11.156319606939967,11.140721737234566,11.12609502722474,11.099281387129729,11.180437988206531,11.070428329914222,11.100688251524257,11.09793307105418,11.086914215308134,11.104812927993395,11.087259663212716,11.109307937201654,11.01844792876282],\"yaxis\":\"y\",\"type\":\"scatter\"},{\"customdata\":[[41],[36],[74],[79],[91],[109],[102],[97],[91],[98],[109],[98],[220],[214],[204],[180],[186],[167],[168],[155],[167],[147],[151],[154],[127],[121],[132],[100],[95],[79],[65],[64],[49],[54],[46],[37],[57],[39],[31],[22],[20],[23],[16],[24],[15],[25],[16],[22],[20],[16],[18],[8],[12],[7],[12],[6],[12],[7],[9],[3]],\"hovertemplate\":\"Phenotype=wt\\u003cbr\\u003ePredicted Stage (predicted_stage_hpf)=%{x}\\u003cbr\\u003eAverage log2_length_um=%{y}\\u003cbr\\u003ecount=%{customdata[0]}\\u003cextra\\u003e\\u003c\\u002fextra\\u003e\",\"legendgroup\":\"wt\",\"line\":{\"color\":\"#EF553B\",\"dash\":\"solid\"},\"marker\":{\"symbol\":\"circle\"},\"mode\":\"lines+markers\",\"name\":\"wt\",\"orientation\":\"v\",\"showlegend\":true,\"x\":[12.5,13.5,14.5,15.5,16.5,17.5,18.5,19.5,20.5,21.5,22.5,23.5,24.5,25.5,26.5,27.5,28.5,29.5,30.5,31.5,32.5,33.5,34.5,35.5,36.5,37.5,38.5,39.5,40.5,41.5,42.5,43.5,44.5,45.5,46.5,47.5,48.5,49.5,50.5,51.5,52.5,53.5,54.5,55.5,56.5,57.5,58.5,59.5,60.5,61.5,62.5,63.5,64.5,65.5,66.5,67.5,68.5,69.5,70.5,71.5],\"xaxis\":\"x\",\"y\":[9.679563392753515,9.714170418669818,10.09464965565088,10.175416077525467,10.173641895479836,10.214290033008156,10.28422169250014,10.379415345773934,10.395135173003641,10.473735481124484,10.597564275768312,10.686530192000694,10.86846539235275,10.96316925310686,11.010328172361824,11.013668340695618,11.074354240238504,11.132810131449228,11.137372670628674,11.17628387296426,11.231427123324005,11.255843196121878,11.248307115443534,11.274802043891585,11.27075833547921,11.299865830568583,11.294093281220219,11.306703349960237,11.305781484867483,11.291478770817868,11.333125331022927,11.324661865122753,11.28021546402944,11.283260387546543,11.341576841017853,11.328718831556051,11.350741965952345,11.213045215604142,11.179328965023098,11.177069860337586,11.218973859821869,11.24134447212659,11.163921513594229,11.253467499229394,11.20187832623264,11.232951591893492,11.24531593209565,11.298438096133133,11.202669964527972,11.299998311517083,11.312306904915271,11.274441626780222,11.316493268706829,11.382211004711335,11.316185983537652,11.30910856155279,11.307160363241879,11.197557063670944,11.271820810449519,11.284108981341491],\"yaxis\":\"y\",\"type\":\"scatter\"}],                        {\"template\":{\"data\":{\"histogram2dcontour\":[{\"type\":\"histogram2dcontour\",\"colorbar\":{\"outlinewidth\":0,\"ticks\":\"\"},\"colorscale\":[[0.0,\"#0d0887\"],[0.1111111111111111,\"#46039f\"],[0.2222222222222222,\"#7201a8\"],[0.3333333333333333,\"#9c179e\"],[0.4444444444444444,\"#bd3786\"],[0.5555555555555556,\"#d8576b\"],[0.6666666666666666,\"#ed7953\"],[0.7777777777777778,\"#fb9f3a\"],[0.8888888888888888,\"#fdca26\"],[1.0,\"#f0f921\"]]}],\"choropleth\":[{\"type\":\"choropleth\",\"colorbar\":{\"outlinewidth\":0,\"ticks\":\"\"}}],\"histogram2d\":[{\"type\":\"histogram2d\",\"colorbar\":{\"outlinewidth\":0,\"ticks\":\"\"},\"colorscale\":[[0.0,\"#0d0887\"],[0.1111111111111111,\"#46039f\"],[0.2222222222222222,\"#7201a8\"],[0.3333333333333333,\"#9c179e\"],[0.4444444444444444,\"#bd3786\"],[0.5555555555555556,\"#d8576b\"],[0.6666666666666666,\"#ed7953\"],[0.7777777777777778,\"#fb9f3a\"],[0.8888888888888888,\"#fdca26\"],[1.0,\"#f0f921\"]]}],\"heatmap\":[{\"type\":\"heatmap\",\"colorbar\":{\"outlinewidth\":0,\"ticks\":\"\"},\"colorscale\":[[0.0,\"#0d0887\"],[0.1111111111111111,\"#46039f\"],[0.2222222222222222,\"#7201a8\"],[0.3333333333333333,\"#9c179e\"],[0.4444444444444444,\"#bd3786\"],[0.5555555555555556,\"#d8576b\"],[0.6666666666666666,\"#ed7953\"],[0.7777777777777778,\"#fb9f3a\"],[0.8888888888888888,\"#fdca26\"],[1.0,\"#f0f921\"]]}],\"heatmapgl\":[{\"type\":\"heatmapgl\",\"colorbar\":{\"outlinewidth\":0,\"ticks\":\"\"},\"colorscale\":[[0.0,\"#0d0887\"],[0.1111111111111111,\"#46039f\"],[0.2222222222222222,\"#7201a8\"],[0.3333333333333333,\"#9c179e\"],[0.4444444444444444,\"#bd3786\"],[0.5555555555555556,\"#d8576b\"],[0.6666666666666666,\"#ed7953\"],[0.7777777777777778,\"#fb9f3a\"],[0.8888888888888888,\"#fdca26\"],[1.0,\"#f0f921\"]]}],\"contourcarpet\":[{\"type\":\"contourcarpet\",\"colorbar\":{\"outlinewidth\":0,\"ticks\":\"\"}}],\"contour\":[{\"type\":\"contour\",\"colorbar\":{\"outlinewidth\":0,\"ticks\":\"\"},\"colorscale\":[[0.0,\"#0d0887\"],[0.1111111111111111,\"#46039f\"],[0.2222222222222222,\"#7201a8\"],[0.3333333333333333,\"#9c179e\"],[0.4444444444444444,\"#bd3786\"],[0.5555555555555556,\"#d8576b\"],[0.6666666666666666,\"#ed7953\"],[0.7777777777777778,\"#fb9f3a\"],[0.8888888888888888,\"#fdca26\"],[1.0,\"#f0f921\"]]}],\"surface\":[{\"type\":\"surface\",\"colorbar\":{\"outlinewidth\":0,\"ticks\":\"\"},\"colorscale\":[[0.0,\"#0d0887\"],[0.1111111111111111,\"#46039f\"],[0.2222222222222222,\"#7201a8\"],[0.3333333333333333,\"#9c179e\"],[0.4444444444444444,\"#bd3786\"],[0.5555555555555556,\"#d8576b\"],[0.6666666666666666,\"#ed7953\"],[0.7777777777777778,\"#fb9f3a\"],[0.8888888888888888,\"#fdca26\"],[1.0,\"#f0f921\"]]}],\"mesh3d\":[{\"type\":\"mesh3d\",\"colorbar\":{\"outlinewidth\":0,\"ticks\":\"\"}}],\"scatter\":[{\"fillpattern\":{\"fillmode\":\"overlay\",\"size\":10,\"solidity\":0.2},\"type\":\"scatter\"}],\"parcoords\":[{\"type\":\"parcoords\",\"line\":{\"colorbar\":{\"outlinewidth\":0,\"ticks\":\"\"}}}],\"scatterpolargl\":[{\"type\":\"scatterpolargl\",\"marker\":{\"colorbar\":{\"outlinewidth\":0,\"ticks\":\"\"}}}],\"bar\":[{\"error_x\":{\"color\":\"#2a3f5f\"},\"error_y\":{\"color\":\"#2a3f5f\"},\"marker\":{\"line\":{\"color\":\"#E5ECF6\",\"width\":0.5},\"pattern\":{\"fillmode\":\"overlay\",\"size\":10,\"solidity\":0.2}},\"type\":\"bar\"}],\"scattergeo\":[{\"type\":\"scattergeo\",\"marker\":{\"colorbar\":{\"outlinewidth\":0,\"ticks\":\"\"}}}],\"scatterpolar\":[{\"type\":\"scatterpolar\",\"marker\":{\"colorbar\":{\"outlinewidth\":0,\"ticks\":\"\"}}}],\"histogram\":[{\"marker\":{\"pattern\":{\"fillmode\":\"overlay\",\"size\":10,\"solidity\":0.2}},\"type\":\"histogram\"}],\"scattergl\":[{\"type\":\"scattergl\",\"marker\":{\"colorbar\":{\"outlinewidth\":0,\"ticks\":\"\"}}}],\"scatter3d\":[{\"type\":\"scatter3d\",\"line\":{\"colorbar\":{\"outlinewidth\":0,\"ticks\":\"\"}},\"marker\":{\"colorbar\":{\"outlinewidth\":0,\"ticks\":\"\"}}}],\"scattermapbox\":[{\"type\":\"scattermapbox\",\"marker\":{\"colorbar\":{\"outlinewidth\":0,\"ticks\":\"\"}}}],\"scatterternary\":[{\"type\":\"scatterternary\",\"marker\":{\"colorbar\":{\"outlinewidth\":0,\"ticks\":\"\"}}}],\"scattercarpet\":[{\"type\":\"scattercarpet\",\"marker\":{\"colorbar\":{\"outlinewidth\":0,\"ticks\":\"\"}}}],\"carpet\":[{\"aaxis\":{\"endlinecolor\":\"#2a3f5f\",\"gridcolor\":\"white\",\"linecolor\":\"white\",\"minorgridcolor\":\"white\",\"startlinecolor\":\"#2a3f5f\"},\"baxis\":{\"endlinecolor\":\"#2a3f5f\",\"gridcolor\":\"white\",\"linecolor\":\"white\",\"minorgridcolor\":\"white\",\"startlinecolor\":\"#2a3f5f\"},\"type\":\"carpet\"}],\"table\":[{\"cells\":{\"fill\":{\"color\":\"#EBF0F8\"},\"line\":{\"color\":\"white\"}},\"header\":{\"fill\":{\"color\":\"#C8D4E3\"},\"line\":{\"color\":\"white\"}},\"type\":\"table\"}],\"barpolar\":[{\"marker\":{\"line\":{\"color\":\"#E5ECF6\",\"width\":0.5},\"pattern\":{\"fillmode\":\"overlay\",\"size\":10,\"solidity\":0.2}},\"type\":\"barpolar\"}],\"pie\":[{\"automargin\":true,\"type\":\"pie\"}]},\"layout\":{\"autotypenumbers\":\"strict\",\"colorway\":[\"#636efa\",\"#EF553B\",\"#00cc96\",\"#ab63fa\",\"#FFA15A\",\"#19d3f3\",\"#FF6692\",\"#B6E880\",\"#FF97FF\",\"#FECB52\"],\"font\":{\"color\":\"#2a3f5f\"},\"hovermode\":\"closest\",\"hoverlabel\":{\"align\":\"left\"},\"paper_bgcolor\":\"white\",\"plot_bgcolor\":\"#E5ECF6\",\"polar\":{\"bgcolor\":\"#E5ECF6\",\"angularaxis\":{\"gridcolor\":\"white\",\"linecolor\":\"white\",\"ticks\":\"\"},\"radialaxis\":{\"gridcolor\":\"white\",\"linecolor\":\"white\",\"ticks\":\"\"}},\"ternary\":{\"bgcolor\":\"#E5ECF6\",\"aaxis\":{\"gridcolor\":\"white\",\"linecolor\":\"white\",\"ticks\":\"\"},\"baxis\":{\"gridcolor\":\"white\",\"linecolor\":\"white\",\"ticks\":\"\"},\"caxis\":{\"gridcolor\":\"white\",\"linecolor\":\"white\",\"ticks\":\"\"}},\"coloraxis\":{\"colorbar\":{\"outlinewidth\":0,\"ticks\":\"\"}},\"colorscale\":{\"sequential\":[[0.0,\"#0d0887\"],[0.1111111111111111,\"#46039f\"],[0.2222222222222222,\"#7201a8\"],[0.3333333333333333,\"#9c179e\"],[0.4444444444444444,\"#bd3786\"],[0.5555555555555556,\"#d8576b\"],[0.6666666666666666,\"#ed7953\"],[0.7777777777777778,\"#fb9f3a\"],[0.8888888888888888,\"#fdca26\"],[1.0,\"#f0f921\"]],\"sequentialminus\":[[0.0,\"#0d0887\"],[0.1111111111111111,\"#46039f\"],[0.2222222222222222,\"#7201a8\"],[0.3333333333333333,\"#9c179e\"],[0.4444444444444444,\"#bd3786\"],[0.5555555555555556,\"#d8576b\"],[0.6666666666666666,\"#ed7953\"],[0.7777777777777778,\"#fb9f3a\"],[0.8888888888888888,\"#fdca26\"],[1.0,\"#f0f921\"]],\"diverging\":[[0,\"#8e0152\"],[0.1,\"#c51b7d\"],[0.2,\"#de77ae\"],[0.3,\"#f1b6da\"],[0.4,\"#fde0ef\"],[0.5,\"#f7f7f7\"],[0.6,\"#e6f5d0\"],[0.7,\"#b8e186\"],[0.8,\"#7fbc41\"],[0.9,\"#4d9221\"],[1,\"#276419\"]]},\"xaxis\":{\"gridcolor\":\"white\",\"linecolor\":\"white\",\"ticks\":\"\",\"title\":{\"standoff\":15},\"zerolinecolor\":\"white\",\"automargin\":true,\"zerolinewidth\":2},\"yaxis\":{\"gridcolor\":\"white\",\"linecolor\":\"white\",\"ticks\":\"\",\"title\":{\"standoff\":15},\"zerolinecolor\":\"white\",\"automargin\":true,\"zerolinewidth\":2},\"scene\":{\"xaxis\":{\"backgroundcolor\":\"#E5ECF6\",\"gridcolor\":\"white\",\"linecolor\":\"white\",\"showbackground\":true,\"ticks\":\"\",\"zerolinecolor\":\"white\",\"gridwidth\":2},\"yaxis\":{\"backgroundcolor\":\"#E5ECF6\",\"gridcolor\":\"white\",\"linecolor\":\"white\",\"showbackground\":true,\"ticks\":\"\",\"zerolinecolor\":\"white\",\"gridwidth\":2},\"zaxis\":{\"backgroundcolor\":\"#E5ECF6\",\"gridcolor\":\"white\",\"linecolor\":\"white\",\"showbackground\":true,\"ticks\":\"\",\"zerolinecolor\":\"white\",\"gridwidth\":2}},\"shapedefaults\":{\"line\":{\"color\":\"#2a3f5f\"}},\"annotationdefaults\":{\"arrowcolor\":\"#2a3f5f\",\"arrowhead\":0,\"arrowwidth\":1},\"geo\":{\"bgcolor\":\"white\",\"landcolor\":\"#E5ECF6\",\"subunitcolor\":\"white\",\"showland\":true,\"showlakes\":true,\"lakecolor\":\"white\"},\"title\":{\"x\":0.05},\"mapbox\":{\"style\":\"light\"}}},\"xaxis\":{\"anchor\":\"y\",\"domain\":[0.0,1.0],\"title\":{\"text\":\"Predicted Stage (predicted_stage_hpf)\"}},\"yaxis\":{\"anchor\":\"x\",\"domain\":[0.0,1.0],\"title\":{\"text\":\"Average log2_length_um\"}},\"legend\":{\"title\":{\"text\":\"Phenotype\"},\"tracegroupgap\":0},\"title\":{\"text\":\"Average log2_length_um Over Time by Phenotype\"},\"hovermode\":\"x unified\"},                        {\"responsive\": true}                    ).then(function(){\n",
       "                            \n",
       "var gd = document.getElementById('cc811a62-e958-45ad-8af2-091df2265def');\n",
       "var x = new MutationObserver(function (mutations, observer) {{\n",
       "        var display = window.getComputedStyle(gd).display;\n",
       "        if (!display || display === 'none') {{\n",
       "            console.log([gd, 'removed!']);\n",
       "            Plotly.purge(gd);\n",
       "            observer.disconnect();\n",
       "        }}\n",
       "}});\n",
       "\n",
       "// Listen for the removal of the full notebook cells\n",
       "var notebookContainer = gd.closest('#notebook-container');\n",
       "if (notebookContainer) {{\n",
       "    x.observe(notebookContainer, {childList: true});\n",
       "}}\n",
       "\n",
       "// Listen for the clearing of the current output cell\n",
       "var outputEl = gd.closest('.output');\n",
       "if (outputEl) {{\n",
       "    x.observe(outputEl, {childList: true});\n",
       "}}\n",
       "\n",
       "                        })                };                });            </script>        </div>"
      ]
     },
     "metadata": {},
     "output_type": "display_data"
    },
    {
     "name": "stdout",
     "output_type": "stream",
     "text": [
      "Plot saved to: /net/trapnell/vol1/home/mdcolon/proj/morphseq/results/20250115/average_surface_area_over_time.html\n"
     ]
    },
    {
     "name": "stderr",
     "output_type": "stream",
     "text": [
      "/tmp/8671962.1.trapnell-login.q/ipykernel_2837030/1218628744.py:68: SettingWithCopyWarning:\n",
      "\n",
      "\n",
      "A value is trying to be set on a copy of a slice from a DataFrame.\n",
      "Try using .loc[row_indexer,col_indexer] = value instead\n",
      "\n",
      "See the caveats in the documentation: https://pandas.pydata.org/pandas-docs/stable/user_guide/indexing.html#returning-a-view-versus-a-copy\n",
      "\n",
      "/tmp/8671962.1.trapnell-login.q/ipykernel_2837030/1218628744.py:82: FutureWarning:\n",
      "\n",
      "The default of observed=False is deprecated and will be changed to True in a future version of pandas. Pass observed=False to retain current behavior or observed=True to adopt the future default and silence this warning.\n",
      "\n",
      "/tmp/8671962.1.trapnell-login.q/ipykernel_2837030/1218628744.py:85: FutureWarning:\n",
      "\n",
      "The default of observed=False is deprecated and will be changed to True in a future version of pandas. Pass observed=False to retain current behavior or observed=True to adopt the future default and silence this warning.\n",
      "\n"
     ]
    },
    {
     "data": {
      "application/vnd.plotly.v1+json": {
       "config": {
        "plotlyServerURL": "https://plot.ly"
       },
       "data": [
        {
         "customdata": [
          [
           41
          ],
          [
           40
          ],
          [
           52
          ],
          [
           41
          ],
          [
           45
          ],
          [
           43
          ],
          [
           39
          ],
          [
           32
          ],
          [
           35
          ],
          [
           34
          ],
          [
           33
          ],
          [
           35
          ],
          [
           237
          ],
          [
           238
          ],
          [
           241
          ],
          [
           241
          ],
          [
           221
          ],
          [
           203
          ],
          [
           198
          ],
          [
           188
          ],
          [
           175
          ],
          [
           162
          ],
          [
           147
          ],
          [
           138
          ],
          [
           137
          ],
          [
           135
          ],
          [
           133
          ],
          [
           131
          ],
          [
           121
          ],
          [
           114
          ],
          [
           104
          ],
          [
           99
          ],
          [
           96
          ],
          [
           90
          ],
          [
           52
          ],
          [
           21
          ],
          [
           29
          ],
          [
           43
          ],
          [
           30
          ],
          [
           31
          ],
          [
           33
          ],
          [
           32
          ],
          [
           30
          ],
          [
           25
          ],
          [
           31
          ],
          [
           26
          ],
          [
           33
          ],
          [
           21
          ],
          [
           29
          ],
          [
           21
          ],
          [
           24
          ],
          [
           23
          ],
          [
           19
          ],
          [
           23
          ],
          [
           16
          ],
          [
           25
          ],
          [
           14
          ],
          [
           23
          ],
          [
           15
          ],
          [
           7
          ]
         ],
         "hovertemplate": "Phenotype=lmx1b<br>Predicted Stage (predicted_stage_hpf)=%{x}<br>Average log2_surface_area_um=%{y}<br>count=%{customdata[0]}<extra></extra>",
         "legendgroup": "lmx1b",
         "line": {
          "color": "#636efa",
          "dash": "solid"
         },
         "marker": {
          "symbol": "circle"
         },
         "mode": "lines+markers",
         "name": "lmx1b",
         "orientation": "v",
         "showlegend": true,
         "type": "scatter",
         "x": [
          12.5,
          13.5,
          14.5,
          15.5,
          16.5,
          17.5,
          18.5,
          19.5,
          20.5,
          21.5,
          22.5,
          23.5,
          24.5,
          25.5,
          26.5,
          27.5,
          28.5,
          29.5,
          30.5,
          31.5,
          32.5,
          33.5,
          34.5,
          35.5,
          36.5,
          37.5,
          38.5,
          39.5,
          40.5,
          41.5,
          42.5,
          43.5,
          44.5,
          45.5,
          46.5,
          47.5,
          48.5,
          49.5,
          50.5,
          51.5,
          52.5,
          53.5,
          54.5,
          55.5,
          56.5,
          57.5,
          58.5,
          59.5,
          60.5,
          61.5,
          62.5,
          63.5,
          64.5,
          65.5,
          66.5,
          67.5,
          68.5,
          69.5,
          70.5,
          71.5
         ],
         "xaxis": "x",
         "y": [
          18.79170813439324,
          18.82024804335185,
          18.856503711736718,
          18.927382263864306,
          18.96060725514386,
          19.008892239966652,
          19.07480579392897,
          19.12087138839783,
          19.14849916820422,
          19.18620879785604,
          19.21540439191299,
          19.258016386775967,
          19.393258168880795,
          19.44423512111734,
          19.485554122231594,
          19.545205385782513,
          19.580528035534034,
          19.640248163253233,
          19.65849991256567,
          19.691559770302142,
          19.719172263232817,
          19.762952824766945,
          19.79486108562739,
          19.837146848443552,
          19.851850877242814,
          19.87334961235846,
          19.869580571082995,
          19.895799477026785,
          19.913722181989698,
          19.926940320462734,
          19.963966573670493,
          19.990776695118523,
          20.00973385702586,
          20.028723265963443,
          20.006764334655085,
          19.92108074695592,
          19.987397621534107,
          20.018212777984676,
          20.02455062706697,
          20.075294057645575,
          20.079389908416534,
          20.08037652531744,
          20.089964111729383,
          20.124570928001088,
          20.114973237994406,
          20.119848237745337,
          20.107837811755427,
          20.124128241629077,
          20.120463677023984,
          20.127582888465163,
          20.104695914213842,
          20.12016906285727,
          20.103643355087293,
          20.099154213052376,
          20.13412465509398,
          20.127539063991236,
          20.12725293591982,
          20.131146365772544,
          20.157511843875117,
          20.091573602879755
         ],
         "yaxis": "y"
        },
        {
         "customdata": [
          [
           41
          ],
          [
           36
          ],
          [
           74
          ],
          [
           79
          ],
          [
           91
          ],
          [
           109
          ],
          [
           102
          ],
          [
           97
          ],
          [
           91
          ],
          [
           98
          ],
          [
           109
          ],
          [
           98
          ],
          [
           220
          ],
          [
           214
          ],
          [
           204
          ],
          [
           180
          ],
          [
           186
          ],
          [
           167
          ],
          [
           168
          ],
          [
           155
          ],
          [
           167
          ],
          [
           147
          ],
          [
           151
          ],
          [
           154
          ],
          [
           127
          ],
          [
           121
          ],
          [
           132
          ],
          [
           100
          ],
          [
           95
          ],
          [
           79
          ],
          [
           65
          ],
          [
           64
          ],
          [
           49
          ],
          [
           54
          ],
          [
           46
          ],
          [
           37
          ],
          [
           57
          ],
          [
           39
          ],
          [
           31
          ],
          [
           22
          ],
          [
           20
          ],
          [
           23
          ],
          [
           16
          ],
          [
           24
          ],
          [
           15
          ],
          [
           25
          ],
          [
           16
          ],
          [
           22
          ],
          [
           20
          ],
          [
           16
          ],
          [
           18
          ],
          [
           8
          ],
          [
           12
          ],
          [
           7
          ],
          [
           12
          ],
          [
           6
          ],
          [
           12
          ],
          [
           7
          ],
          [
           9
          ],
          [
           3
          ]
         ],
         "hovertemplate": "Phenotype=wt<br>Predicted Stage (predicted_stage_hpf)=%{x}<br>Average log2_surface_area_um=%{y}<br>count=%{customdata[0]}<extra></extra>",
         "legendgroup": "wt",
         "line": {
          "color": "#EF553B",
          "dash": "solid"
         },
         "marker": {
          "symbol": "circle"
         },
         "mode": "lines+markers",
         "name": "wt",
         "orientation": "v",
         "showlegend": true,
         "type": "scatter",
         "x": [
          12.5,
          13.5,
          14.5,
          15.5,
          16.5,
          17.5,
          18.5,
          19.5,
          20.5,
          21.5,
          22.5,
          23.5,
          24.5,
          25.5,
          26.5,
          27.5,
          28.5,
          29.5,
          30.5,
          31.5,
          32.5,
          33.5,
          34.5,
          35.5,
          36.5,
          37.5,
          38.5,
          39.5,
          40.5,
          41.5,
          42.5,
          43.5,
          44.5,
          45.5,
          46.5,
          47.5,
          48.5,
          49.5,
          50.5,
          51.5,
          52.5,
          53.5,
          54.5,
          55.5,
          56.5,
          57.5,
          58.5,
          59.5,
          60.5,
          61.5,
          62.5,
          63.5,
          64.5,
          65.5,
          66.5,
          67.5,
          68.5,
          69.5,
          70.5,
          71.5
         ],
         "xaxis": "x",
         "y": [
          18.739886694941312,
          18.78304270010699,
          18.82090292968886,
          18.857603429806414,
          18.91127464591052,
          18.983390649017547,
          19.047825022243945,
          19.15747944722581,
          19.230199657134733,
          19.288497798364237,
          19.35225167588075,
          19.421758328883822,
          19.531733503029855,
          19.5715557543645,
          19.6052931176244,
          19.636807927177692,
          19.682627793009164,
          19.710103191048997,
          19.72716938904691,
          19.772641514298787,
          19.814264097710172,
          19.86263357489481,
          19.86816194917912,
          19.888160966922676,
          19.900334855834,
          19.933503282397837,
          19.951398092103812,
          19.966103840376615,
          19.971946570717286,
          19.99775849833466,
          20.050637779281566,
          20.063143630260875,
          20.033283597525173,
          20.09622421305005,
          20.108168924628455,
          20.130721175335154,
          20.164374469558027,
          20.216853725937032,
          20.194356792081308,
          20.148886937038984,
          20.196112199823467,
          20.20561489699288,
          20.173230452683555,
          20.20398162218543,
          20.20327472379132,
          20.223823622520207,
          20.215470816258108,
          20.256869865240578,
          20.210526822160993,
          20.25571429185096,
          20.289865242011075,
          20.334601044643826,
          20.336126072770835,
          20.33427999658553,
          20.3416412126446,
          20.351717484609043,
          20.334282813654617,
          20.3810620251164,
          20.322600241763766,
          20.33188525602282
         ],
         "yaxis": "y"
        }
       ],
       "layout": {
        "hovermode": "x unified",
        "legend": {
         "title": {
          "text": "Phenotype"
         },
         "tracegroupgap": 0
        },
        "template": {
         "data": {
          "bar": [
           {
            "error_x": {
             "color": "#2a3f5f"
            },
            "error_y": {
             "color": "#2a3f5f"
            },
            "marker": {
             "line": {
              "color": "#E5ECF6",
              "width": 0.5
             },
             "pattern": {
              "fillmode": "overlay",
              "size": 10,
              "solidity": 0.2
             }
            },
            "type": "bar"
           }
          ],
          "barpolar": [
           {
            "marker": {
             "line": {
              "color": "#E5ECF6",
              "width": 0.5
             },
             "pattern": {
              "fillmode": "overlay",
              "size": 10,
              "solidity": 0.2
             }
            },
            "type": "barpolar"
           }
          ],
          "carpet": [
           {
            "aaxis": {
             "endlinecolor": "#2a3f5f",
             "gridcolor": "white",
             "linecolor": "white",
             "minorgridcolor": "white",
             "startlinecolor": "#2a3f5f"
            },
            "baxis": {
             "endlinecolor": "#2a3f5f",
             "gridcolor": "white",
             "linecolor": "white",
             "minorgridcolor": "white",
             "startlinecolor": "#2a3f5f"
            },
            "type": "carpet"
           }
          ],
          "choropleth": [
           {
            "colorbar": {
             "outlinewidth": 0,
             "ticks": ""
            },
            "type": "choropleth"
           }
          ],
          "contour": [
           {
            "colorbar": {
             "outlinewidth": 0,
             "ticks": ""
            },
            "colorscale": [
             [
              0,
              "#0d0887"
             ],
             [
              0.1111111111111111,
              "#46039f"
             ],
             [
              0.2222222222222222,
              "#7201a8"
             ],
             [
              0.3333333333333333,
              "#9c179e"
             ],
             [
              0.4444444444444444,
              "#bd3786"
             ],
             [
              0.5555555555555556,
              "#d8576b"
             ],
             [
              0.6666666666666666,
              "#ed7953"
             ],
             [
              0.7777777777777778,
              "#fb9f3a"
             ],
             [
              0.8888888888888888,
              "#fdca26"
             ],
             [
              1,
              "#f0f921"
             ]
            ],
            "type": "contour"
           }
          ],
          "contourcarpet": [
           {
            "colorbar": {
             "outlinewidth": 0,
             "ticks": ""
            },
            "type": "contourcarpet"
           }
          ],
          "heatmap": [
           {
            "colorbar": {
             "outlinewidth": 0,
             "ticks": ""
            },
            "colorscale": [
             [
              0,
              "#0d0887"
             ],
             [
              0.1111111111111111,
              "#46039f"
             ],
             [
              0.2222222222222222,
              "#7201a8"
             ],
             [
              0.3333333333333333,
              "#9c179e"
             ],
             [
              0.4444444444444444,
              "#bd3786"
             ],
             [
              0.5555555555555556,
              "#d8576b"
             ],
             [
              0.6666666666666666,
              "#ed7953"
             ],
             [
              0.7777777777777778,
              "#fb9f3a"
             ],
             [
              0.8888888888888888,
              "#fdca26"
             ],
             [
              1,
              "#f0f921"
             ]
            ],
            "type": "heatmap"
           }
          ],
          "heatmapgl": [
           {
            "colorbar": {
             "outlinewidth": 0,
             "ticks": ""
            },
            "colorscale": [
             [
              0,
              "#0d0887"
             ],
             [
              0.1111111111111111,
              "#46039f"
             ],
             [
              0.2222222222222222,
              "#7201a8"
             ],
             [
              0.3333333333333333,
              "#9c179e"
             ],
             [
              0.4444444444444444,
              "#bd3786"
             ],
             [
              0.5555555555555556,
              "#d8576b"
             ],
             [
              0.6666666666666666,
              "#ed7953"
             ],
             [
              0.7777777777777778,
              "#fb9f3a"
             ],
             [
              0.8888888888888888,
              "#fdca26"
             ],
             [
              1,
              "#f0f921"
             ]
            ],
            "type": "heatmapgl"
           }
          ],
          "histogram": [
           {
            "marker": {
             "pattern": {
              "fillmode": "overlay",
              "size": 10,
              "solidity": 0.2
             }
            },
            "type": "histogram"
           }
          ],
          "histogram2d": [
           {
            "colorbar": {
             "outlinewidth": 0,
             "ticks": ""
            },
            "colorscale": [
             [
              0,
              "#0d0887"
             ],
             [
              0.1111111111111111,
              "#46039f"
             ],
             [
              0.2222222222222222,
              "#7201a8"
             ],
             [
              0.3333333333333333,
              "#9c179e"
             ],
             [
              0.4444444444444444,
              "#bd3786"
             ],
             [
              0.5555555555555556,
              "#d8576b"
             ],
             [
              0.6666666666666666,
              "#ed7953"
             ],
             [
              0.7777777777777778,
              "#fb9f3a"
             ],
             [
              0.8888888888888888,
              "#fdca26"
             ],
             [
              1,
              "#f0f921"
             ]
            ],
            "type": "histogram2d"
           }
          ],
          "histogram2dcontour": [
           {
            "colorbar": {
             "outlinewidth": 0,
             "ticks": ""
            },
            "colorscale": [
             [
              0,
              "#0d0887"
             ],
             [
              0.1111111111111111,
              "#46039f"
             ],
             [
              0.2222222222222222,
              "#7201a8"
             ],
             [
              0.3333333333333333,
              "#9c179e"
             ],
             [
              0.4444444444444444,
              "#bd3786"
             ],
             [
              0.5555555555555556,
              "#d8576b"
             ],
             [
              0.6666666666666666,
              "#ed7953"
             ],
             [
              0.7777777777777778,
              "#fb9f3a"
             ],
             [
              0.8888888888888888,
              "#fdca26"
             ],
             [
              1,
              "#f0f921"
             ]
            ],
            "type": "histogram2dcontour"
           }
          ],
          "mesh3d": [
           {
            "colorbar": {
             "outlinewidth": 0,
             "ticks": ""
            },
            "type": "mesh3d"
           }
          ],
          "parcoords": [
           {
            "line": {
             "colorbar": {
              "outlinewidth": 0,
              "ticks": ""
             }
            },
            "type": "parcoords"
           }
          ],
          "pie": [
           {
            "automargin": true,
            "type": "pie"
           }
          ],
          "scatter": [
           {
            "fillpattern": {
             "fillmode": "overlay",
             "size": 10,
             "solidity": 0.2
            },
            "type": "scatter"
           }
          ],
          "scatter3d": [
           {
            "line": {
             "colorbar": {
              "outlinewidth": 0,
              "ticks": ""
             }
            },
            "marker": {
             "colorbar": {
              "outlinewidth": 0,
              "ticks": ""
             }
            },
            "type": "scatter3d"
           }
          ],
          "scattercarpet": [
           {
            "marker": {
             "colorbar": {
              "outlinewidth": 0,
              "ticks": ""
             }
            },
            "type": "scattercarpet"
           }
          ],
          "scattergeo": [
           {
            "marker": {
             "colorbar": {
              "outlinewidth": 0,
              "ticks": ""
             }
            },
            "type": "scattergeo"
           }
          ],
          "scattergl": [
           {
            "marker": {
             "colorbar": {
              "outlinewidth": 0,
              "ticks": ""
             }
            },
            "type": "scattergl"
           }
          ],
          "scattermapbox": [
           {
            "marker": {
             "colorbar": {
              "outlinewidth": 0,
              "ticks": ""
             }
            },
            "type": "scattermapbox"
           }
          ],
          "scatterpolar": [
           {
            "marker": {
             "colorbar": {
              "outlinewidth": 0,
              "ticks": ""
             }
            },
            "type": "scatterpolar"
           }
          ],
          "scatterpolargl": [
           {
            "marker": {
             "colorbar": {
              "outlinewidth": 0,
              "ticks": ""
             }
            },
            "type": "scatterpolargl"
           }
          ],
          "scatterternary": [
           {
            "marker": {
             "colorbar": {
              "outlinewidth": 0,
              "ticks": ""
             }
            },
            "type": "scatterternary"
           }
          ],
          "surface": [
           {
            "colorbar": {
             "outlinewidth": 0,
             "ticks": ""
            },
            "colorscale": [
             [
              0,
              "#0d0887"
             ],
             [
              0.1111111111111111,
              "#46039f"
             ],
             [
              0.2222222222222222,
              "#7201a8"
             ],
             [
              0.3333333333333333,
              "#9c179e"
             ],
             [
              0.4444444444444444,
              "#bd3786"
             ],
             [
              0.5555555555555556,
              "#d8576b"
             ],
             [
              0.6666666666666666,
              "#ed7953"
             ],
             [
              0.7777777777777778,
              "#fb9f3a"
             ],
             [
              0.8888888888888888,
              "#fdca26"
             ],
             [
              1,
              "#f0f921"
             ]
            ],
            "type": "surface"
           }
          ],
          "table": [
           {
            "cells": {
             "fill": {
              "color": "#EBF0F8"
             },
             "line": {
              "color": "white"
             }
            },
            "header": {
             "fill": {
              "color": "#C8D4E3"
             },
             "line": {
              "color": "white"
             }
            },
            "type": "table"
           }
          ]
         },
         "layout": {
          "annotationdefaults": {
           "arrowcolor": "#2a3f5f",
           "arrowhead": 0,
           "arrowwidth": 1
          },
          "autotypenumbers": "strict",
          "coloraxis": {
           "colorbar": {
            "outlinewidth": 0,
            "ticks": ""
           }
          },
          "colorscale": {
           "diverging": [
            [
             0,
             "#8e0152"
            ],
            [
             0.1,
             "#c51b7d"
            ],
            [
             0.2,
             "#de77ae"
            ],
            [
             0.3,
             "#f1b6da"
            ],
            [
             0.4,
             "#fde0ef"
            ],
            [
             0.5,
             "#f7f7f7"
            ],
            [
             0.6,
             "#e6f5d0"
            ],
            [
             0.7,
             "#b8e186"
            ],
            [
             0.8,
             "#7fbc41"
            ],
            [
             0.9,
             "#4d9221"
            ],
            [
             1,
             "#276419"
            ]
           ],
           "sequential": [
            [
             0,
             "#0d0887"
            ],
            [
             0.1111111111111111,
             "#46039f"
            ],
            [
             0.2222222222222222,
             "#7201a8"
            ],
            [
             0.3333333333333333,
             "#9c179e"
            ],
            [
             0.4444444444444444,
             "#bd3786"
            ],
            [
             0.5555555555555556,
             "#d8576b"
            ],
            [
             0.6666666666666666,
             "#ed7953"
            ],
            [
             0.7777777777777778,
             "#fb9f3a"
            ],
            [
             0.8888888888888888,
             "#fdca26"
            ],
            [
             1,
             "#f0f921"
            ]
           ],
           "sequentialminus": [
            [
             0,
             "#0d0887"
            ],
            [
             0.1111111111111111,
             "#46039f"
            ],
            [
             0.2222222222222222,
             "#7201a8"
            ],
            [
             0.3333333333333333,
             "#9c179e"
            ],
            [
             0.4444444444444444,
             "#bd3786"
            ],
            [
             0.5555555555555556,
             "#d8576b"
            ],
            [
             0.6666666666666666,
             "#ed7953"
            ],
            [
             0.7777777777777778,
             "#fb9f3a"
            ],
            [
             0.8888888888888888,
             "#fdca26"
            ],
            [
             1,
             "#f0f921"
            ]
           ]
          },
          "colorway": [
           "#636efa",
           "#EF553B",
           "#00cc96",
           "#ab63fa",
           "#FFA15A",
           "#19d3f3",
           "#FF6692",
           "#B6E880",
           "#FF97FF",
           "#FECB52"
          ],
          "font": {
           "color": "#2a3f5f"
          },
          "geo": {
           "bgcolor": "white",
           "lakecolor": "white",
           "landcolor": "#E5ECF6",
           "showlakes": true,
           "showland": true,
           "subunitcolor": "white"
          },
          "hoverlabel": {
           "align": "left"
          },
          "hovermode": "closest",
          "mapbox": {
           "style": "light"
          },
          "paper_bgcolor": "white",
          "plot_bgcolor": "#E5ECF6",
          "polar": {
           "angularaxis": {
            "gridcolor": "white",
            "linecolor": "white",
            "ticks": ""
           },
           "bgcolor": "#E5ECF6",
           "radialaxis": {
            "gridcolor": "white",
            "linecolor": "white",
            "ticks": ""
           }
          },
          "scene": {
           "xaxis": {
            "backgroundcolor": "#E5ECF6",
            "gridcolor": "white",
            "gridwidth": 2,
            "linecolor": "white",
            "showbackground": true,
            "ticks": "",
            "zerolinecolor": "white"
           },
           "yaxis": {
            "backgroundcolor": "#E5ECF6",
            "gridcolor": "white",
            "gridwidth": 2,
            "linecolor": "white",
            "showbackground": true,
            "ticks": "",
            "zerolinecolor": "white"
           },
           "zaxis": {
            "backgroundcolor": "#E5ECF6",
            "gridcolor": "white",
            "gridwidth": 2,
            "linecolor": "white",
            "showbackground": true,
            "ticks": "",
            "zerolinecolor": "white"
           }
          },
          "shapedefaults": {
           "line": {
            "color": "#2a3f5f"
           }
          },
          "ternary": {
           "aaxis": {
            "gridcolor": "white",
            "linecolor": "white",
            "ticks": ""
           },
           "baxis": {
            "gridcolor": "white",
            "linecolor": "white",
            "ticks": ""
           },
           "bgcolor": "#E5ECF6",
           "caxis": {
            "gridcolor": "white",
            "linecolor": "white",
            "ticks": ""
           }
          },
          "title": {
           "x": 0.05
          },
          "xaxis": {
           "automargin": true,
           "gridcolor": "white",
           "linecolor": "white",
           "ticks": "",
           "title": {
            "standoff": 15
           },
           "zerolinecolor": "white",
           "zerolinewidth": 2
          },
          "yaxis": {
           "automargin": true,
           "gridcolor": "white",
           "linecolor": "white",
           "ticks": "",
           "title": {
            "standoff": 15
           },
           "zerolinecolor": "white",
           "zerolinewidth": 2
          }
         }
        },
        "title": {
         "text": "Average log2_surface_area_um Over Time by Phenotype"
        },
        "xaxis": {
         "anchor": "y",
         "domain": [
          0,
          1
         ],
         "title": {
          "text": "Predicted Stage (predicted_stage_hpf)"
         }
        },
        "yaxis": {
         "anchor": "x",
         "domain": [
          0,
          1
         ],
         "title": {
          "text": "Average log2_surface_area_um"
         }
        }
       }
      },
      "text/html": [
       "<div>                            <div id=\"61971958-53b7-4819-886f-10cc9e3b9389\" class=\"plotly-graph-div\" style=\"height:525px; width:100%;\"></div>            <script type=\"text/javascript\">                require([\"plotly\"], function(Plotly) {                    window.PLOTLYENV=window.PLOTLYENV || {};                                    if (document.getElementById(\"61971958-53b7-4819-886f-10cc9e3b9389\")) {                    Plotly.newPlot(                        \"61971958-53b7-4819-886f-10cc9e3b9389\",                        [{\"customdata\":[[41],[40],[52],[41],[45],[43],[39],[32],[35],[34],[33],[35],[237],[238],[241],[241],[221],[203],[198],[188],[175],[162],[147],[138],[137],[135],[133],[131],[121],[114],[104],[99],[96],[90],[52],[21],[29],[43],[30],[31],[33],[32],[30],[25],[31],[26],[33],[21],[29],[21],[24],[23],[19],[23],[16],[25],[14],[23],[15],[7]],\"hovertemplate\":\"Phenotype=lmx1b\\u003cbr\\u003ePredicted Stage (predicted_stage_hpf)=%{x}\\u003cbr\\u003eAverage log2_surface_area_um=%{y}\\u003cbr\\u003ecount=%{customdata[0]}\\u003cextra\\u003e\\u003c\\u002fextra\\u003e\",\"legendgroup\":\"lmx1b\",\"line\":{\"color\":\"#636efa\",\"dash\":\"solid\"},\"marker\":{\"symbol\":\"circle\"},\"mode\":\"lines+markers\",\"name\":\"lmx1b\",\"orientation\":\"v\",\"showlegend\":true,\"x\":[12.5,13.5,14.5,15.5,16.5,17.5,18.5,19.5,20.5,21.5,22.5,23.5,24.5,25.5,26.5,27.5,28.5,29.5,30.5,31.5,32.5,33.5,34.5,35.5,36.5,37.5,38.5,39.5,40.5,41.5,42.5,43.5,44.5,45.5,46.5,47.5,48.5,49.5,50.5,51.5,52.5,53.5,54.5,55.5,56.5,57.5,58.5,59.5,60.5,61.5,62.5,63.5,64.5,65.5,66.5,67.5,68.5,69.5,70.5,71.5],\"xaxis\":\"x\",\"y\":[18.79170813439324,18.82024804335185,18.856503711736718,18.927382263864306,18.96060725514386,19.008892239966652,19.07480579392897,19.12087138839783,19.14849916820422,19.18620879785604,19.21540439191299,19.258016386775967,19.393258168880795,19.44423512111734,19.485554122231594,19.545205385782513,19.580528035534034,19.640248163253233,19.65849991256567,19.691559770302142,19.719172263232817,19.762952824766945,19.79486108562739,19.837146848443552,19.851850877242814,19.87334961235846,19.869580571082995,19.895799477026785,19.913722181989698,19.926940320462734,19.963966573670493,19.990776695118523,20.00973385702586,20.028723265963443,20.006764334655085,19.92108074695592,19.987397621534107,20.018212777984676,20.02455062706697,20.075294057645575,20.079389908416534,20.08037652531744,20.089964111729383,20.124570928001088,20.114973237994406,20.119848237745337,20.107837811755427,20.124128241629077,20.120463677023984,20.127582888465163,20.104695914213842,20.12016906285727,20.103643355087293,20.099154213052376,20.13412465509398,20.127539063991236,20.12725293591982,20.131146365772544,20.157511843875117,20.091573602879755],\"yaxis\":\"y\",\"type\":\"scatter\"},{\"customdata\":[[41],[36],[74],[79],[91],[109],[102],[97],[91],[98],[109],[98],[220],[214],[204],[180],[186],[167],[168],[155],[167],[147],[151],[154],[127],[121],[132],[100],[95],[79],[65],[64],[49],[54],[46],[37],[57],[39],[31],[22],[20],[23],[16],[24],[15],[25],[16],[22],[20],[16],[18],[8],[12],[7],[12],[6],[12],[7],[9],[3]],\"hovertemplate\":\"Phenotype=wt\\u003cbr\\u003ePredicted Stage (predicted_stage_hpf)=%{x}\\u003cbr\\u003eAverage log2_surface_area_um=%{y}\\u003cbr\\u003ecount=%{customdata[0]}\\u003cextra\\u003e\\u003c\\u002fextra\\u003e\",\"legendgroup\":\"wt\",\"line\":{\"color\":\"#EF553B\",\"dash\":\"solid\"},\"marker\":{\"symbol\":\"circle\"},\"mode\":\"lines+markers\",\"name\":\"wt\",\"orientation\":\"v\",\"showlegend\":true,\"x\":[12.5,13.5,14.5,15.5,16.5,17.5,18.5,19.5,20.5,21.5,22.5,23.5,24.5,25.5,26.5,27.5,28.5,29.5,30.5,31.5,32.5,33.5,34.5,35.5,36.5,37.5,38.5,39.5,40.5,41.5,42.5,43.5,44.5,45.5,46.5,47.5,48.5,49.5,50.5,51.5,52.5,53.5,54.5,55.5,56.5,57.5,58.5,59.5,60.5,61.5,62.5,63.5,64.5,65.5,66.5,67.5,68.5,69.5,70.5,71.5],\"xaxis\":\"x\",\"y\":[18.739886694941312,18.78304270010699,18.82090292968886,18.857603429806414,18.91127464591052,18.983390649017547,19.047825022243945,19.15747944722581,19.230199657134733,19.288497798364237,19.35225167588075,19.421758328883822,19.531733503029855,19.5715557543645,19.6052931176244,19.636807927177692,19.682627793009164,19.710103191048997,19.72716938904691,19.772641514298787,19.814264097710172,19.86263357489481,19.86816194917912,19.888160966922676,19.900334855834,19.933503282397837,19.951398092103812,19.966103840376615,19.971946570717286,19.99775849833466,20.050637779281566,20.063143630260875,20.033283597525173,20.09622421305005,20.108168924628455,20.130721175335154,20.164374469558027,20.216853725937032,20.194356792081308,20.148886937038984,20.196112199823467,20.20561489699288,20.173230452683555,20.20398162218543,20.20327472379132,20.223823622520207,20.215470816258108,20.256869865240578,20.210526822160993,20.25571429185096,20.289865242011075,20.334601044643826,20.336126072770835,20.33427999658553,20.3416412126446,20.351717484609043,20.334282813654617,20.3810620251164,20.322600241763766,20.33188525602282],\"yaxis\":\"y\",\"type\":\"scatter\"}],                        {\"template\":{\"data\":{\"histogram2dcontour\":[{\"type\":\"histogram2dcontour\",\"colorbar\":{\"outlinewidth\":0,\"ticks\":\"\"},\"colorscale\":[[0.0,\"#0d0887\"],[0.1111111111111111,\"#46039f\"],[0.2222222222222222,\"#7201a8\"],[0.3333333333333333,\"#9c179e\"],[0.4444444444444444,\"#bd3786\"],[0.5555555555555556,\"#d8576b\"],[0.6666666666666666,\"#ed7953\"],[0.7777777777777778,\"#fb9f3a\"],[0.8888888888888888,\"#fdca26\"],[1.0,\"#f0f921\"]]}],\"choropleth\":[{\"type\":\"choropleth\",\"colorbar\":{\"outlinewidth\":0,\"ticks\":\"\"}}],\"histogram2d\":[{\"type\":\"histogram2d\",\"colorbar\":{\"outlinewidth\":0,\"ticks\":\"\"},\"colorscale\":[[0.0,\"#0d0887\"],[0.1111111111111111,\"#46039f\"],[0.2222222222222222,\"#7201a8\"],[0.3333333333333333,\"#9c179e\"],[0.4444444444444444,\"#bd3786\"],[0.5555555555555556,\"#d8576b\"],[0.6666666666666666,\"#ed7953\"],[0.7777777777777778,\"#fb9f3a\"],[0.8888888888888888,\"#fdca26\"],[1.0,\"#f0f921\"]]}],\"heatmap\":[{\"type\":\"heatmap\",\"colorbar\":{\"outlinewidth\":0,\"ticks\":\"\"},\"colorscale\":[[0.0,\"#0d0887\"],[0.1111111111111111,\"#46039f\"],[0.2222222222222222,\"#7201a8\"],[0.3333333333333333,\"#9c179e\"],[0.4444444444444444,\"#bd3786\"],[0.5555555555555556,\"#d8576b\"],[0.6666666666666666,\"#ed7953\"],[0.7777777777777778,\"#fb9f3a\"],[0.8888888888888888,\"#fdca26\"],[1.0,\"#f0f921\"]]}],\"heatmapgl\":[{\"type\":\"heatmapgl\",\"colorbar\":{\"outlinewidth\":0,\"ticks\":\"\"},\"colorscale\":[[0.0,\"#0d0887\"],[0.1111111111111111,\"#46039f\"],[0.2222222222222222,\"#7201a8\"],[0.3333333333333333,\"#9c179e\"],[0.4444444444444444,\"#bd3786\"],[0.5555555555555556,\"#d8576b\"],[0.6666666666666666,\"#ed7953\"],[0.7777777777777778,\"#fb9f3a\"],[0.8888888888888888,\"#fdca26\"],[1.0,\"#f0f921\"]]}],\"contourcarpet\":[{\"type\":\"contourcarpet\",\"colorbar\":{\"outlinewidth\":0,\"ticks\":\"\"}}],\"contour\":[{\"type\":\"contour\",\"colorbar\":{\"outlinewidth\":0,\"ticks\":\"\"},\"colorscale\":[[0.0,\"#0d0887\"],[0.1111111111111111,\"#46039f\"],[0.2222222222222222,\"#7201a8\"],[0.3333333333333333,\"#9c179e\"],[0.4444444444444444,\"#bd3786\"],[0.5555555555555556,\"#d8576b\"],[0.6666666666666666,\"#ed7953\"],[0.7777777777777778,\"#fb9f3a\"],[0.8888888888888888,\"#fdca26\"],[1.0,\"#f0f921\"]]}],\"surface\":[{\"type\":\"surface\",\"colorbar\":{\"outlinewidth\":0,\"ticks\":\"\"},\"colorscale\":[[0.0,\"#0d0887\"],[0.1111111111111111,\"#46039f\"],[0.2222222222222222,\"#7201a8\"],[0.3333333333333333,\"#9c179e\"],[0.4444444444444444,\"#bd3786\"],[0.5555555555555556,\"#d8576b\"],[0.6666666666666666,\"#ed7953\"],[0.7777777777777778,\"#fb9f3a\"],[0.8888888888888888,\"#fdca26\"],[1.0,\"#f0f921\"]]}],\"mesh3d\":[{\"type\":\"mesh3d\",\"colorbar\":{\"outlinewidth\":0,\"ticks\":\"\"}}],\"scatter\":[{\"fillpattern\":{\"fillmode\":\"overlay\",\"size\":10,\"solidity\":0.2},\"type\":\"scatter\"}],\"parcoords\":[{\"type\":\"parcoords\",\"line\":{\"colorbar\":{\"outlinewidth\":0,\"ticks\":\"\"}}}],\"scatterpolargl\":[{\"type\":\"scatterpolargl\",\"marker\":{\"colorbar\":{\"outlinewidth\":0,\"ticks\":\"\"}}}],\"bar\":[{\"error_x\":{\"color\":\"#2a3f5f\"},\"error_y\":{\"color\":\"#2a3f5f\"},\"marker\":{\"line\":{\"color\":\"#E5ECF6\",\"width\":0.5},\"pattern\":{\"fillmode\":\"overlay\",\"size\":10,\"solidity\":0.2}},\"type\":\"bar\"}],\"scattergeo\":[{\"type\":\"scattergeo\",\"marker\":{\"colorbar\":{\"outlinewidth\":0,\"ticks\":\"\"}}}],\"scatterpolar\":[{\"type\":\"scatterpolar\",\"marker\":{\"colorbar\":{\"outlinewidth\":0,\"ticks\":\"\"}}}],\"histogram\":[{\"marker\":{\"pattern\":{\"fillmode\":\"overlay\",\"size\":10,\"solidity\":0.2}},\"type\":\"histogram\"}],\"scattergl\":[{\"type\":\"scattergl\",\"marker\":{\"colorbar\":{\"outlinewidth\":0,\"ticks\":\"\"}}}],\"scatter3d\":[{\"type\":\"scatter3d\",\"line\":{\"colorbar\":{\"outlinewidth\":0,\"ticks\":\"\"}},\"marker\":{\"colorbar\":{\"outlinewidth\":0,\"ticks\":\"\"}}}],\"scattermapbox\":[{\"type\":\"scattermapbox\",\"marker\":{\"colorbar\":{\"outlinewidth\":0,\"ticks\":\"\"}}}],\"scatterternary\":[{\"type\":\"scatterternary\",\"marker\":{\"colorbar\":{\"outlinewidth\":0,\"ticks\":\"\"}}}],\"scattercarpet\":[{\"type\":\"scattercarpet\",\"marker\":{\"colorbar\":{\"outlinewidth\":0,\"ticks\":\"\"}}}],\"carpet\":[{\"aaxis\":{\"endlinecolor\":\"#2a3f5f\",\"gridcolor\":\"white\",\"linecolor\":\"white\",\"minorgridcolor\":\"white\",\"startlinecolor\":\"#2a3f5f\"},\"baxis\":{\"endlinecolor\":\"#2a3f5f\",\"gridcolor\":\"white\",\"linecolor\":\"white\",\"minorgridcolor\":\"white\",\"startlinecolor\":\"#2a3f5f\"},\"type\":\"carpet\"}],\"table\":[{\"cells\":{\"fill\":{\"color\":\"#EBF0F8\"},\"line\":{\"color\":\"white\"}},\"header\":{\"fill\":{\"color\":\"#C8D4E3\"},\"line\":{\"color\":\"white\"}},\"type\":\"table\"}],\"barpolar\":[{\"marker\":{\"line\":{\"color\":\"#E5ECF6\",\"width\":0.5},\"pattern\":{\"fillmode\":\"overlay\",\"size\":10,\"solidity\":0.2}},\"type\":\"barpolar\"}],\"pie\":[{\"automargin\":true,\"type\":\"pie\"}]},\"layout\":{\"autotypenumbers\":\"strict\",\"colorway\":[\"#636efa\",\"#EF553B\",\"#00cc96\",\"#ab63fa\",\"#FFA15A\",\"#19d3f3\",\"#FF6692\",\"#B6E880\",\"#FF97FF\",\"#FECB52\"],\"font\":{\"color\":\"#2a3f5f\"},\"hovermode\":\"closest\",\"hoverlabel\":{\"align\":\"left\"},\"paper_bgcolor\":\"white\",\"plot_bgcolor\":\"#E5ECF6\",\"polar\":{\"bgcolor\":\"#E5ECF6\",\"angularaxis\":{\"gridcolor\":\"white\",\"linecolor\":\"white\",\"ticks\":\"\"},\"radialaxis\":{\"gridcolor\":\"white\",\"linecolor\":\"white\",\"ticks\":\"\"}},\"ternary\":{\"bgcolor\":\"#E5ECF6\",\"aaxis\":{\"gridcolor\":\"white\",\"linecolor\":\"white\",\"ticks\":\"\"},\"baxis\":{\"gridcolor\":\"white\",\"linecolor\":\"white\",\"ticks\":\"\"},\"caxis\":{\"gridcolor\":\"white\",\"linecolor\":\"white\",\"ticks\":\"\"}},\"coloraxis\":{\"colorbar\":{\"outlinewidth\":0,\"ticks\":\"\"}},\"colorscale\":{\"sequential\":[[0.0,\"#0d0887\"],[0.1111111111111111,\"#46039f\"],[0.2222222222222222,\"#7201a8\"],[0.3333333333333333,\"#9c179e\"],[0.4444444444444444,\"#bd3786\"],[0.5555555555555556,\"#d8576b\"],[0.6666666666666666,\"#ed7953\"],[0.7777777777777778,\"#fb9f3a\"],[0.8888888888888888,\"#fdca26\"],[1.0,\"#f0f921\"]],\"sequentialminus\":[[0.0,\"#0d0887\"],[0.1111111111111111,\"#46039f\"],[0.2222222222222222,\"#7201a8\"],[0.3333333333333333,\"#9c179e\"],[0.4444444444444444,\"#bd3786\"],[0.5555555555555556,\"#d8576b\"],[0.6666666666666666,\"#ed7953\"],[0.7777777777777778,\"#fb9f3a\"],[0.8888888888888888,\"#fdca26\"],[1.0,\"#f0f921\"]],\"diverging\":[[0,\"#8e0152\"],[0.1,\"#c51b7d\"],[0.2,\"#de77ae\"],[0.3,\"#f1b6da\"],[0.4,\"#fde0ef\"],[0.5,\"#f7f7f7\"],[0.6,\"#e6f5d0\"],[0.7,\"#b8e186\"],[0.8,\"#7fbc41\"],[0.9,\"#4d9221\"],[1,\"#276419\"]]},\"xaxis\":{\"gridcolor\":\"white\",\"linecolor\":\"white\",\"ticks\":\"\",\"title\":{\"standoff\":15},\"zerolinecolor\":\"white\",\"automargin\":true,\"zerolinewidth\":2},\"yaxis\":{\"gridcolor\":\"white\",\"linecolor\":\"white\",\"ticks\":\"\",\"title\":{\"standoff\":15},\"zerolinecolor\":\"white\",\"automargin\":true,\"zerolinewidth\":2},\"scene\":{\"xaxis\":{\"backgroundcolor\":\"#E5ECF6\",\"gridcolor\":\"white\",\"linecolor\":\"white\",\"showbackground\":true,\"ticks\":\"\",\"zerolinecolor\":\"white\",\"gridwidth\":2},\"yaxis\":{\"backgroundcolor\":\"#E5ECF6\",\"gridcolor\":\"white\",\"linecolor\":\"white\",\"showbackground\":true,\"ticks\":\"\",\"zerolinecolor\":\"white\",\"gridwidth\":2},\"zaxis\":{\"backgroundcolor\":\"#E5ECF6\",\"gridcolor\":\"white\",\"linecolor\":\"white\",\"showbackground\":true,\"ticks\":\"\",\"zerolinecolor\":\"white\",\"gridwidth\":2}},\"shapedefaults\":{\"line\":{\"color\":\"#2a3f5f\"}},\"annotationdefaults\":{\"arrowcolor\":\"#2a3f5f\",\"arrowhead\":0,\"arrowwidth\":1},\"geo\":{\"bgcolor\":\"white\",\"landcolor\":\"#E5ECF6\",\"subunitcolor\":\"white\",\"showland\":true,\"showlakes\":true,\"lakecolor\":\"white\"},\"title\":{\"x\":0.05},\"mapbox\":{\"style\":\"light\"}}},\"xaxis\":{\"anchor\":\"y\",\"domain\":[0.0,1.0],\"title\":{\"text\":\"Predicted Stage (predicted_stage_hpf)\"}},\"yaxis\":{\"anchor\":\"x\",\"domain\":[0.0,1.0],\"title\":{\"text\":\"Average log2_surface_area_um\"}},\"legend\":{\"title\":{\"text\":\"Phenotype\"},\"tracegroupgap\":0},\"title\":{\"text\":\"Average log2_surface_area_um Over Time by Phenotype\"},\"hovermode\":\"x unified\"},                        {\"responsive\": true}                    ).then(function(){\n",
       "                            \n",
       "var gd = document.getElementById('61971958-53b7-4819-886f-10cc9e3b9389');\n",
       "var x = new MutationObserver(function (mutations, observer) {{\n",
       "        var display = window.getComputedStyle(gd).display;\n",
       "        if (!display || display === 'none') {{\n",
       "            console.log([gd, 'removed!']);\n",
       "            Plotly.purge(gd);\n",
       "            observer.disconnect();\n",
       "        }}\n",
       "}});\n",
       "\n",
       "// Listen for the removal of the full notebook cells\n",
       "var notebookContainer = gd.closest('#notebook-container');\n",
       "if (notebookContainer) {{\n",
       "    x.observe(notebookContainer, {childList: true});\n",
       "}}\n",
       "\n",
       "// Listen for the clearing of the current output cell\n",
       "var outputEl = gd.closest('.output');\n",
       "if (outputEl) {{\n",
       "    x.observe(outputEl, {childList: true});\n",
       "}}\n",
       "\n",
       "                        })                };                });            </script>        </div>"
      ]
     },
     "metadata": {},
     "output_type": "display_data"
    }
   ],
   "source": [
    "# Call the plotting function\n",
    "fig = plot_average_surface_area_over_time(\n",
    "    df_augmented=df_augmented[df_augmented[\"phenotype\"] != \"inj-ctrl\"],\n",
    "    window_size=1.0,  # Adjust the window size as needed\n",
    "    value_col='log2_length_um',  # Column to average\n",
    "    time_col='predicted_stage_hpf',  # Time or stage column\n",
    "    group_col='phenotype',  # Grouping column\n",
    "    save_dir=save_dir,  # Directory to save the plot\n",
    "    file_name='average_surface_area_over_time.html'  # Output filename\n",
    ")\n",
    "\n",
    "# To display the plot in an interactive environment (e.g., Jupyter Notebook)\n",
    "fig.show()\n",
    "\n",
    "# Call the plotting function\n",
    "fig = plot_average_surface_area_over_time(\n",
    "    df_augmented=df_augmented[df_augmented[\"phenotype\"] != \"inj-ctrl\"],\n",
    "    window_size=1.0,  # Adjust the window size as needed\n",
    "    value_col='log2_surface_area_um',  # Column to average\n",
    "    time_col='predicted_stage_hpf',  # Time or stage column\n",
    "    group_col='phenotype',  # Grouping column\n",
    "    save_dir=save_dir,  # Directory to save the plot\n",
    "    file_name='average_surface_area_over_time.html'  # Output filename\n",
    ")\n",
    "\n",
    "# To display the plot in an interactive environment (e.g., Jupyter Notebook)\n",
    "fig.show()"
   ]
  },
  {
   "cell_type": "code",
   "execution_count": 30,
   "metadata": {},
   "outputs": [
    {
     "name": "stdout",
     "output_type": "stream",
     "text": [
      "Plot saved to: /net/trapnell/vol1/home/mdcolon/proj/morphseq/results/20250115/average_surface_area_over_time.html\n"
     ]
    },
    {
     "name": "stderr",
     "output_type": "stream",
     "text": [
      "/tmp/8671962.1.trapnell-login.q/ipykernel_2837030/1218628744.py:68: SettingWithCopyWarning:\n",
      "\n",
      "\n",
      "A value is trying to be set on a copy of a slice from a DataFrame.\n",
      "Try using .loc[row_indexer,col_indexer] = value instead\n",
      "\n",
      "See the caveats in the documentation: https://pandas.pydata.org/pandas-docs/stable/user_guide/indexing.html#returning-a-view-versus-a-copy\n",
      "\n",
      "/tmp/8671962.1.trapnell-login.q/ipykernel_2837030/1218628744.py:82: FutureWarning:\n",
      "\n",
      "The default of observed=False is deprecated and will be changed to True in a future version of pandas. Pass observed=False to retain current behavior or observed=True to adopt the future default and silence this warning.\n",
      "\n",
      "/tmp/8671962.1.trapnell-login.q/ipykernel_2837030/1218628744.py:85: FutureWarning:\n",
      "\n",
      "The default of observed=False is deprecated and will be changed to True in a future version of pandas. Pass observed=False to retain current behavior or observed=True to adopt the future default and silence this warning.\n",
      "\n"
     ]
    },
    {
     "data": {
      "application/vnd.plotly.v1+json": {
       "config": {
        "plotlyServerURL": "https://plot.ly"
       },
       "data": [
        {
         "customdata": [
          [
           41
          ],
          [
           40
          ],
          [
           52
          ],
          [
           41
          ],
          [
           45
          ],
          [
           43
          ],
          [
           39
          ],
          [
           32
          ],
          [
           35
          ],
          [
           34
          ],
          [
           33
          ],
          [
           35
          ],
          [
           237
          ],
          [
           238
          ],
          [
           241
          ],
          [
           241
          ],
          [
           221
          ],
          [
           203
          ],
          [
           198
          ],
          [
           188
          ],
          [
           175
          ],
          [
           162
          ],
          [
           147
          ],
          [
           138
          ],
          [
           137
          ],
          [
           135
          ],
          [
           133
          ],
          [
           131
          ],
          [
           121
          ],
          [
           114
          ],
          [
           104
          ],
          [
           99
          ],
          [
           96
          ],
          [
           90
          ],
          [
           52
          ],
          [
           21
          ],
          [
           29
          ],
          [
           43
          ],
          [
           30
          ],
          [
           31
          ],
          [
           33
          ],
          [
           32
          ],
          [
           30
          ],
          [
           25
          ],
          [
           31
          ],
          [
           26
          ],
          [
           33
          ],
          [
           21
          ],
          [
           29
          ],
          [
           21
          ],
          [
           24
          ],
          [
           23
          ],
          [
           19
          ],
          [
           23
          ],
          [
           16
          ],
          [
           25
          ],
          [
           14
          ],
          [
           23
          ],
          [
           15
          ],
          [
           7
          ]
         ],
         "hovertemplate": "Phenotype=lmx1b<br>Predicted Stage (predicted_stage_hpf)=%{x}<br>Average length_um=%{y}<br>count=%{customdata[0]}<extra></extra>",
         "legendgroup": "lmx1b",
         "line": {
          "color": "#636efa",
          "dash": "solid"
         },
         "marker": {
          "symbol": "circle"
         },
         "mode": "lines+markers",
         "name": "lmx1b",
         "orientation": "v",
         "showlegend": true,
         "type": "scatter",
         "x": [
          12.5,
          13.5,
          14.5,
          15.5,
          16.5,
          17.5,
          18.5,
          19.5,
          20.5,
          21.5,
          22.5,
          23.5,
          24.5,
          25.5,
          26.5,
          27.5,
          28.5,
          29.5,
          30.5,
          31.5,
          32.5,
          33.5,
          34.5,
          35.5,
          36.5,
          37.5,
          38.5,
          39.5,
          40.5,
          41.5,
          42.5,
          43.5,
          44.5,
          45.5,
          46.5,
          47.5,
          48.5,
          49.5,
          50.5,
          51.5,
          52.5,
          53.5,
          54.5,
          55.5,
          56.5,
          57.5,
          58.5,
          59.5,
          60.5,
          61.5,
          62.5,
          63.5,
          64.5,
          65.5,
          66.5,
          67.5,
          68.5,
          69.5,
          70.5,
          71.5
         ],
         "xaxis": "x",
         "y": [
          847.0356692768746,
          888.516983175737,
          1022.7644375427498,
          987.461617197092,
          1142.0815841798353,
          1158.2868355957362,
          1183.4555108584939,
          1234.5104038954698,
          1275.9257667285337,
          1324.0691587007602,
          1409.323208393881,
          1417.192870938956,
          1542.413128576857,
          1667.8920362966703,
          1742.0968331476142,
          1832.6424971949264,
          1910.803680340919,
          2029.0959416321818,
          2103.038702976792,
          2174.790406258446,
          2179.1466466481384,
          2210.757930370346,
          2233.3459064336544,
          2318.991747922139,
          2321.863828004063,
          2338.727417619815,
          2318.833480045465,
          2310.1655980609744,
          2342.377306892154,
          2364.052986519096,
          2462.2793766019295,
          2529.0061065169793,
          2564.6915098795903,
          2582.2667758060916,
          2590.442550728643,
          2576.609101430997,
          2433.916680234231,
          2371.9189791197036,
          2473.518433283801,
          2564.7650780103254,
          2481.3205117749117,
          2424.7172566250997,
          2501.7244956076474,
          2450.735108396068,
          2417.423156094907,
          2504.461126308483,
          2359.383701040616,
          2351.954662926447,
          2346.1874543236654,
          2286.8921341503647,
          2258.4653120016874,
          2401.908435224719,
          2226.8433290926305,
          2272.821628656505,
          2265.6822726651676,
          2252.94740248911,
          2275.384245127097,
          2259.8612034076023,
          2278.9133562539364,
          2159.0625651171517
         ],
         "yaxis": "y"
        },
        {
         "customdata": [
          [
           41
          ],
          [
           36
          ],
          [
           74
          ],
          [
           79
          ],
          [
           91
          ],
          [
           109
          ],
          [
           102
          ],
          [
           97
          ],
          [
           91
          ],
          [
           98
          ],
          [
           109
          ],
          [
           98
          ],
          [
           220
          ],
          [
           214
          ],
          [
           204
          ],
          [
           180
          ],
          [
           186
          ],
          [
           167
          ],
          [
           168
          ],
          [
           155
          ],
          [
           167
          ],
          [
           147
          ],
          [
           151
          ],
          [
           154
          ],
          [
           127
          ],
          [
           121
          ],
          [
           132
          ],
          [
           100
          ],
          [
           95
          ],
          [
           79
          ],
          [
           65
          ],
          [
           64
          ],
          [
           49
          ],
          [
           54
          ],
          [
           46
          ],
          [
           37
          ],
          [
           57
          ],
          [
           39
          ],
          [
           31
          ],
          [
           22
          ],
          [
           20
          ],
          [
           23
          ],
          [
           16
          ],
          [
           24
          ],
          [
           15
          ],
          [
           25
          ],
          [
           16
          ],
          [
           22
          ],
          [
           20
          ],
          [
           16
          ],
          [
           18
          ],
          [
           8
          ],
          [
           12
          ],
          [
           7
          ],
          [
           12
          ],
          [
           6
          ],
          [
           12
          ],
          [
           7
          ],
          [
           9
          ],
          [
           3
          ]
         ],
         "hovertemplate": "Phenotype=wt<br>Predicted Stage (predicted_stage_hpf)=%{x}<br>Average length_um=%{y}<br>count=%{customdata[0]}<extra></extra>",
         "legendgroup": "wt",
         "line": {
          "color": "#EF553B",
          "dash": "solid"
         },
         "marker": {
          "symbol": "circle"
         },
         "mode": "lines+markers",
         "name": "wt",
         "orientation": "v",
         "showlegend": true,
         "type": "scatter",
         "x": [
          12.5,
          13.5,
          14.5,
          15.5,
          16.5,
          17.5,
          18.5,
          19.5,
          20.5,
          21.5,
          22.5,
          23.5,
          24.5,
          25.5,
          26.5,
          27.5,
          28.5,
          29.5,
          30.5,
          31.5,
          32.5,
          33.5,
          34.5,
          35.5,
          36.5,
          37.5,
          38.5,
          39.5,
          40.5,
          41.5,
          42.5,
          43.5,
          44.5,
          45.5,
          46.5,
          47.5,
          48.5,
          49.5,
          50.5,
          51.5,
          52.5,
          53.5,
          54.5,
          55.5,
          56.5,
          57.5,
          58.5,
          59.5,
          60.5,
          61.5,
          62.5,
          63.5,
          64.5,
          65.5,
          66.5,
          67.5,
          68.5,
          69.5,
          70.5,
          71.5
         ],
         "xaxis": "x",
         "y": [
          820.4453011511786,
          840.2565509761015,
          1124.9843258719823,
          1189.0955445101538,
          1188.471009405937,
          1222.6190351824262,
          1282.4998447166768,
          1369.319893780032,
          1386.5396192297044,
          1461.714815730065,
          1586.8059138817443,
          1680.9027019605371,
          1894.0869965915495,
          2023.6538151200286,
          2091.857367813888,
          2101.4651552381115,
          2194.246502953852,
          2284.984404049888,
          2299.882343546366,
          2360.187356986983,
          2452.247737205536,
          2491.857118492463,
          2487.029659399726,
          2536.872238155605,
          2526.0006903626463,
          2575.34166957412,
          2573.752496728292,
          2604.8606251688816,
          2595.0921327161077,
          2575.2530388682353,
          2619.4485745220572,
          2599.394555001093,
          2525.4634626350226,
          2528.6772129288343,
          2633.403204824878,
          2629.133613436875,
          2666.230214281074,
          2440.413200336815,
          2388.021620117028,
          2377.3430770489545,
          2451.689905502205,
          2494.920323107725,
          2361.135107343381,
          2506.3976476606567,
          2421.358777803269,
          2472.3931021513145,
          2473.4678592698046,
          2578.5596421047426,
          2406.5244266972854,
          2583.588350199723,
          2606.974354361192,
          2540.9645259782646,
          2608.272151420264,
          2740.693212298979,
          2608.6809696231257,
          2594.271226747506,
          2626.888126585654,
          2400.873150100639,
          2574.217975455371,
          2572.236405350973
         ],
         "yaxis": "y"
        }
       ],
       "layout": {
        "hovermode": "x unified",
        "legend": {
         "title": {
          "text": "Phenotype"
         },
         "tracegroupgap": 0
        },
        "template": {
         "data": {
          "bar": [
           {
            "error_x": {
             "color": "#2a3f5f"
            },
            "error_y": {
             "color": "#2a3f5f"
            },
            "marker": {
             "line": {
              "color": "#E5ECF6",
              "width": 0.5
             },
             "pattern": {
              "fillmode": "overlay",
              "size": 10,
              "solidity": 0.2
             }
            },
            "type": "bar"
           }
          ],
          "barpolar": [
           {
            "marker": {
             "line": {
              "color": "#E5ECF6",
              "width": 0.5
             },
             "pattern": {
              "fillmode": "overlay",
              "size": 10,
              "solidity": 0.2
             }
            },
            "type": "barpolar"
           }
          ],
          "carpet": [
           {
            "aaxis": {
             "endlinecolor": "#2a3f5f",
             "gridcolor": "white",
             "linecolor": "white",
             "minorgridcolor": "white",
             "startlinecolor": "#2a3f5f"
            },
            "baxis": {
             "endlinecolor": "#2a3f5f",
             "gridcolor": "white",
             "linecolor": "white",
             "minorgridcolor": "white",
             "startlinecolor": "#2a3f5f"
            },
            "type": "carpet"
           }
          ],
          "choropleth": [
           {
            "colorbar": {
             "outlinewidth": 0,
             "ticks": ""
            },
            "type": "choropleth"
           }
          ],
          "contour": [
           {
            "colorbar": {
             "outlinewidth": 0,
             "ticks": ""
            },
            "colorscale": [
             [
              0,
              "#0d0887"
             ],
             [
              0.1111111111111111,
              "#46039f"
             ],
             [
              0.2222222222222222,
              "#7201a8"
             ],
             [
              0.3333333333333333,
              "#9c179e"
             ],
             [
              0.4444444444444444,
              "#bd3786"
             ],
             [
              0.5555555555555556,
              "#d8576b"
             ],
             [
              0.6666666666666666,
              "#ed7953"
             ],
             [
              0.7777777777777778,
              "#fb9f3a"
             ],
             [
              0.8888888888888888,
              "#fdca26"
             ],
             [
              1,
              "#f0f921"
             ]
            ],
            "type": "contour"
           }
          ],
          "contourcarpet": [
           {
            "colorbar": {
             "outlinewidth": 0,
             "ticks": ""
            },
            "type": "contourcarpet"
           }
          ],
          "heatmap": [
           {
            "colorbar": {
             "outlinewidth": 0,
             "ticks": ""
            },
            "colorscale": [
             [
              0,
              "#0d0887"
             ],
             [
              0.1111111111111111,
              "#46039f"
             ],
             [
              0.2222222222222222,
              "#7201a8"
             ],
             [
              0.3333333333333333,
              "#9c179e"
             ],
             [
              0.4444444444444444,
              "#bd3786"
             ],
             [
              0.5555555555555556,
              "#d8576b"
             ],
             [
              0.6666666666666666,
              "#ed7953"
             ],
             [
              0.7777777777777778,
              "#fb9f3a"
             ],
             [
              0.8888888888888888,
              "#fdca26"
             ],
             [
              1,
              "#f0f921"
             ]
            ],
            "type": "heatmap"
           }
          ],
          "heatmapgl": [
           {
            "colorbar": {
             "outlinewidth": 0,
             "ticks": ""
            },
            "colorscale": [
             [
              0,
              "#0d0887"
             ],
             [
              0.1111111111111111,
              "#46039f"
             ],
             [
              0.2222222222222222,
              "#7201a8"
             ],
             [
              0.3333333333333333,
              "#9c179e"
             ],
             [
              0.4444444444444444,
              "#bd3786"
             ],
             [
              0.5555555555555556,
              "#d8576b"
             ],
             [
              0.6666666666666666,
              "#ed7953"
             ],
             [
              0.7777777777777778,
              "#fb9f3a"
             ],
             [
              0.8888888888888888,
              "#fdca26"
             ],
             [
              1,
              "#f0f921"
             ]
            ],
            "type": "heatmapgl"
           }
          ],
          "histogram": [
           {
            "marker": {
             "pattern": {
              "fillmode": "overlay",
              "size": 10,
              "solidity": 0.2
             }
            },
            "type": "histogram"
           }
          ],
          "histogram2d": [
           {
            "colorbar": {
             "outlinewidth": 0,
             "ticks": ""
            },
            "colorscale": [
             [
              0,
              "#0d0887"
             ],
             [
              0.1111111111111111,
              "#46039f"
             ],
             [
              0.2222222222222222,
              "#7201a8"
             ],
             [
              0.3333333333333333,
              "#9c179e"
             ],
             [
              0.4444444444444444,
              "#bd3786"
             ],
             [
              0.5555555555555556,
              "#d8576b"
             ],
             [
              0.6666666666666666,
              "#ed7953"
             ],
             [
              0.7777777777777778,
              "#fb9f3a"
             ],
             [
              0.8888888888888888,
              "#fdca26"
             ],
             [
              1,
              "#f0f921"
             ]
            ],
            "type": "histogram2d"
           }
          ],
          "histogram2dcontour": [
           {
            "colorbar": {
             "outlinewidth": 0,
             "ticks": ""
            },
            "colorscale": [
             [
              0,
              "#0d0887"
             ],
             [
              0.1111111111111111,
              "#46039f"
             ],
             [
              0.2222222222222222,
              "#7201a8"
             ],
             [
              0.3333333333333333,
              "#9c179e"
             ],
             [
              0.4444444444444444,
              "#bd3786"
             ],
             [
              0.5555555555555556,
              "#d8576b"
             ],
             [
              0.6666666666666666,
              "#ed7953"
             ],
             [
              0.7777777777777778,
              "#fb9f3a"
             ],
             [
              0.8888888888888888,
              "#fdca26"
             ],
             [
              1,
              "#f0f921"
             ]
            ],
            "type": "histogram2dcontour"
           }
          ],
          "mesh3d": [
           {
            "colorbar": {
             "outlinewidth": 0,
             "ticks": ""
            },
            "type": "mesh3d"
           }
          ],
          "parcoords": [
           {
            "line": {
             "colorbar": {
              "outlinewidth": 0,
              "ticks": ""
             }
            },
            "type": "parcoords"
           }
          ],
          "pie": [
           {
            "automargin": true,
            "type": "pie"
           }
          ],
          "scatter": [
           {
            "fillpattern": {
             "fillmode": "overlay",
             "size": 10,
             "solidity": 0.2
            },
            "type": "scatter"
           }
          ],
          "scatter3d": [
           {
            "line": {
             "colorbar": {
              "outlinewidth": 0,
              "ticks": ""
             }
            },
            "marker": {
             "colorbar": {
              "outlinewidth": 0,
              "ticks": ""
             }
            },
            "type": "scatter3d"
           }
          ],
          "scattercarpet": [
           {
            "marker": {
             "colorbar": {
              "outlinewidth": 0,
              "ticks": ""
             }
            },
            "type": "scattercarpet"
           }
          ],
          "scattergeo": [
           {
            "marker": {
             "colorbar": {
              "outlinewidth": 0,
              "ticks": ""
             }
            },
            "type": "scattergeo"
           }
          ],
          "scattergl": [
           {
            "marker": {
             "colorbar": {
              "outlinewidth": 0,
              "ticks": ""
             }
            },
            "type": "scattergl"
           }
          ],
          "scattermapbox": [
           {
            "marker": {
             "colorbar": {
              "outlinewidth": 0,
              "ticks": ""
             }
            },
            "type": "scattermapbox"
           }
          ],
          "scatterpolar": [
           {
            "marker": {
             "colorbar": {
              "outlinewidth": 0,
              "ticks": ""
             }
            },
            "type": "scatterpolar"
           }
          ],
          "scatterpolargl": [
           {
            "marker": {
             "colorbar": {
              "outlinewidth": 0,
              "ticks": ""
             }
            },
            "type": "scatterpolargl"
           }
          ],
          "scatterternary": [
           {
            "marker": {
             "colorbar": {
              "outlinewidth": 0,
              "ticks": ""
             }
            },
            "type": "scatterternary"
           }
          ],
          "surface": [
           {
            "colorbar": {
             "outlinewidth": 0,
             "ticks": ""
            },
            "colorscale": [
             [
              0,
              "#0d0887"
             ],
             [
              0.1111111111111111,
              "#46039f"
             ],
             [
              0.2222222222222222,
              "#7201a8"
             ],
             [
              0.3333333333333333,
              "#9c179e"
             ],
             [
              0.4444444444444444,
              "#bd3786"
             ],
             [
              0.5555555555555556,
              "#d8576b"
             ],
             [
              0.6666666666666666,
              "#ed7953"
             ],
             [
              0.7777777777777778,
              "#fb9f3a"
             ],
             [
              0.8888888888888888,
              "#fdca26"
             ],
             [
              1,
              "#f0f921"
             ]
            ],
            "type": "surface"
           }
          ],
          "table": [
           {
            "cells": {
             "fill": {
              "color": "#EBF0F8"
             },
             "line": {
              "color": "white"
             }
            },
            "header": {
             "fill": {
              "color": "#C8D4E3"
             },
             "line": {
              "color": "white"
             }
            },
            "type": "table"
           }
          ]
         },
         "layout": {
          "annotationdefaults": {
           "arrowcolor": "#2a3f5f",
           "arrowhead": 0,
           "arrowwidth": 1
          },
          "autotypenumbers": "strict",
          "coloraxis": {
           "colorbar": {
            "outlinewidth": 0,
            "ticks": ""
           }
          },
          "colorscale": {
           "diverging": [
            [
             0,
             "#8e0152"
            ],
            [
             0.1,
             "#c51b7d"
            ],
            [
             0.2,
             "#de77ae"
            ],
            [
             0.3,
             "#f1b6da"
            ],
            [
             0.4,
             "#fde0ef"
            ],
            [
             0.5,
             "#f7f7f7"
            ],
            [
             0.6,
             "#e6f5d0"
            ],
            [
             0.7,
             "#b8e186"
            ],
            [
             0.8,
             "#7fbc41"
            ],
            [
             0.9,
             "#4d9221"
            ],
            [
             1,
             "#276419"
            ]
           ],
           "sequential": [
            [
             0,
             "#0d0887"
            ],
            [
             0.1111111111111111,
             "#46039f"
            ],
            [
             0.2222222222222222,
             "#7201a8"
            ],
            [
             0.3333333333333333,
             "#9c179e"
            ],
            [
             0.4444444444444444,
             "#bd3786"
            ],
            [
             0.5555555555555556,
             "#d8576b"
            ],
            [
             0.6666666666666666,
             "#ed7953"
            ],
            [
             0.7777777777777778,
             "#fb9f3a"
            ],
            [
             0.8888888888888888,
             "#fdca26"
            ],
            [
             1,
             "#f0f921"
            ]
           ],
           "sequentialminus": [
            [
             0,
             "#0d0887"
            ],
            [
             0.1111111111111111,
             "#46039f"
            ],
            [
             0.2222222222222222,
             "#7201a8"
            ],
            [
             0.3333333333333333,
             "#9c179e"
            ],
            [
             0.4444444444444444,
             "#bd3786"
            ],
            [
             0.5555555555555556,
             "#d8576b"
            ],
            [
             0.6666666666666666,
             "#ed7953"
            ],
            [
             0.7777777777777778,
             "#fb9f3a"
            ],
            [
             0.8888888888888888,
             "#fdca26"
            ],
            [
             1,
             "#f0f921"
            ]
           ]
          },
          "colorway": [
           "#636efa",
           "#EF553B",
           "#00cc96",
           "#ab63fa",
           "#FFA15A",
           "#19d3f3",
           "#FF6692",
           "#B6E880",
           "#FF97FF",
           "#FECB52"
          ],
          "font": {
           "color": "#2a3f5f"
          },
          "geo": {
           "bgcolor": "white",
           "lakecolor": "white",
           "landcolor": "#E5ECF6",
           "showlakes": true,
           "showland": true,
           "subunitcolor": "white"
          },
          "hoverlabel": {
           "align": "left"
          },
          "hovermode": "closest",
          "mapbox": {
           "style": "light"
          },
          "paper_bgcolor": "white",
          "plot_bgcolor": "#E5ECF6",
          "polar": {
           "angularaxis": {
            "gridcolor": "white",
            "linecolor": "white",
            "ticks": ""
           },
           "bgcolor": "#E5ECF6",
           "radialaxis": {
            "gridcolor": "white",
            "linecolor": "white",
            "ticks": ""
           }
          },
          "scene": {
           "xaxis": {
            "backgroundcolor": "#E5ECF6",
            "gridcolor": "white",
            "gridwidth": 2,
            "linecolor": "white",
            "showbackground": true,
            "ticks": "",
            "zerolinecolor": "white"
           },
           "yaxis": {
            "backgroundcolor": "#E5ECF6",
            "gridcolor": "white",
            "gridwidth": 2,
            "linecolor": "white",
            "showbackground": true,
            "ticks": "",
            "zerolinecolor": "white"
           },
           "zaxis": {
            "backgroundcolor": "#E5ECF6",
            "gridcolor": "white",
            "gridwidth": 2,
            "linecolor": "white",
            "showbackground": true,
            "ticks": "",
            "zerolinecolor": "white"
           }
          },
          "shapedefaults": {
           "line": {
            "color": "#2a3f5f"
           }
          },
          "ternary": {
           "aaxis": {
            "gridcolor": "white",
            "linecolor": "white",
            "ticks": ""
           },
           "baxis": {
            "gridcolor": "white",
            "linecolor": "white",
            "ticks": ""
           },
           "bgcolor": "#E5ECF6",
           "caxis": {
            "gridcolor": "white",
            "linecolor": "white",
            "ticks": ""
           }
          },
          "title": {
           "x": 0.05
          },
          "xaxis": {
           "automargin": true,
           "gridcolor": "white",
           "linecolor": "white",
           "ticks": "",
           "title": {
            "standoff": 15
           },
           "zerolinecolor": "white",
           "zerolinewidth": 2
          },
          "yaxis": {
           "automargin": true,
           "gridcolor": "white",
           "linecolor": "white",
           "ticks": "",
           "title": {
            "standoff": 15
           },
           "zerolinecolor": "white",
           "zerolinewidth": 2
          }
         }
        },
        "title": {
         "text": "Average length_um Over Time by Phenotype"
        },
        "xaxis": {
         "anchor": "y",
         "domain": [
          0,
          1
         ],
         "title": {
          "text": "Predicted Stage (predicted_stage_hpf)"
         }
        },
        "yaxis": {
         "anchor": "x",
         "domain": [
          0,
          1
         ],
         "title": {
          "text": "Average length_um"
         }
        }
       }
      },
      "text/html": [
       "<div>                            <div id=\"add00a38-1483-4944-b1b3-33dd6d272125\" class=\"plotly-graph-div\" style=\"height:525px; width:100%;\"></div>            <script type=\"text/javascript\">                require([\"plotly\"], function(Plotly) {                    window.PLOTLYENV=window.PLOTLYENV || {};                                    if (document.getElementById(\"add00a38-1483-4944-b1b3-33dd6d272125\")) {                    Plotly.newPlot(                        \"add00a38-1483-4944-b1b3-33dd6d272125\",                        [{\"customdata\":[[41],[40],[52],[41],[45],[43],[39],[32],[35],[34],[33],[35],[237],[238],[241],[241],[221],[203],[198],[188],[175],[162],[147],[138],[137],[135],[133],[131],[121],[114],[104],[99],[96],[90],[52],[21],[29],[43],[30],[31],[33],[32],[30],[25],[31],[26],[33],[21],[29],[21],[24],[23],[19],[23],[16],[25],[14],[23],[15],[7]],\"hovertemplate\":\"Phenotype=lmx1b\\u003cbr\\u003ePredicted Stage (predicted_stage_hpf)=%{x}\\u003cbr\\u003eAverage length_um=%{y}\\u003cbr\\u003ecount=%{customdata[0]}\\u003cextra\\u003e\\u003c\\u002fextra\\u003e\",\"legendgroup\":\"lmx1b\",\"line\":{\"color\":\"#636efa\",\"dash\":\"solid\"},\"marker\":{\"symbol\":\"circle\"},\"mode\":\"lines+markers\",\"name\":\"lmx1b\",\"orientation\":\"v\",\"showlegend\":true,\"x\":[12.5,13.5,14.5,15.5,16.5,17.5,18.5,19.5,20.5,21.5,22.5,23.5,24.5,25.5,26.5,27.5,28.5,29.5,30.5,31.5,32.5,33.5,34.5,35.5,36.5,37.5,38.5,39.5,40.5,41.5,42.5,43.5,44.5,45.5,46.5,47.5,48.5,49.5,50.5,51.5,52.5,53.5,54.5,55.5,56.5,57.5,58.5,59.5,60.5,61.5,62.5,63.5,64.5,65.5,66.5,67.5,68.5,69.5,70.5,71.5],\"xaxis\":\"x\",\"y\":[847.0356692768746,888.516983175737,1022.7644375427498,987.461617197092,1142.0815841798353,1158.2868355957362,1183.4555108584939,1234.5104038954698,1275.9257667285337,1324.0691587007602,1409.323208393881,1417.192870938956,1542.413128576857,1667.8920362966703,1742.0968331476142,1832.6424971949264,1910.803680340919,2029.0959416321818,2103.038702976792,2174.790406258446,2179.1466466481384,2210.757930370346,2233.3459064336544,2318.991747922139,2321.863828004063,2338.727417619815,2318.833480045465,2310.1655980609744,2342.377306892154,2364.052986519096,2462.2793766019295,2529.0061065169793,2564.6915098795903,2582.2667758060916,2590.442550728643,2576.609101430997,2433.916680234231,2371.9189791197036,2473.518433283801,2564.7650780103254,2481.3205117749117,2424.7172566250997,2501.7244956076474,2450.735108396068,2417.423156094907,2504.461126308483,2359.383701040616,2351.954662926447,2346.1874543236654,2286.8921341503647,2258.4653120016874,2401.908435224719,2226.8433290926305,2272.821628656505,2265.6822726651676,2252.94740248911,2275.384245127097,2259.8612034076023,2278.9133562539364,2159.0625651171517],\"yaxis\":\"y\",\"type\":\"scatter\"},{\"customdata\":[[41],[36],[74],[79],[91],[109],[102],[97],[91],[98],[109],[98],[220],[214],[204],[180],[186],[167],[168],[155],[167],[147],[151],[154],[127],[121],[132],[100],[95],[79],[65],[64],[49],[54],[46],[37],[57],[39],[31],[22],[20],[23],[16],[24],[15],[25],[16],[22],[20],[16],[18],[8],[12],[7],[12],[6],[12],[7],[9],[3]],\"hovertemplate\":\"Phenotype=wt\\u003cbr\\u003ePredicted Stage (predicted_stage_hpf)=%{x}\\u003cbr\\u003eAverage length_um=%{y}\\u003cbr\\u003ecount=%{customdata[0]}\\u003cextra\\u003e\\u003c\\u002fextra\\u003e\",\"legendgroup\":\"wt\",\"line\":{\"color\":\"#EF553B\",\"dash\":\"solid\"},\"marker\":{\"symbol\":\"circle\"},\"mode\":\"lines+markers\",\"name\":\"wt\",\"orientation\":\"v\",\"showlegend\":true,\"x\":[12.5,13.5,14.5,15.5,16.5,17.5,18.5,19.5,20.5,21.5,22.5,23.5,24.5,25.5,26.5,27.5,28.5,29.5,30.5,31.5,32.5,33.5,34.5,35.5,36.5,37.5,38.5,39.5,40.5,41.5,42.5,43.5,44.5,45.5,46.5,47.5,48.5,49.5,50.5,51.5,52.5,53.5,54.5,55.5,56.5,57.5,58.5,59.5,60.5,61.5,62.5,63.5,64.5,65.5,66.5,67.5,68.5,69.5,70.5,71.5],\"xaxis\":\"x\",\"y\":[820.4453011511786,840.2565509761015,1124.9843258719823,1189.0955445101538,1188.471009405937,1222.6190351824262,1282.4998447166768,1369.319893780032,1386.5396192297044,1461.714815730065,1586.8059138817443,1680.9027019605371,1894.0869965915495,2023.6538151200286,2091.857367813888,2101.4651552381115,2194.246502953852,2284.984404049888,2299.882343546366,2360.187356986983,2452.247737205536,2491.857118492463,2487.029659399726,2536.872238155605,2526.0006903626463,2575.34166957412,2573.752496728292,2604.8606251688816,2595.0921327161077,2575.2530388682353,2619.4485745220572,2599.394555001093,2525.4634626350226,2528.6772129288343,2633.403204824878,2629.133613436875,2666.230214281074,2440.413200336815,2388.021620117028,2377.3430770489545,2451.689905502205,2494.920323107725,2361.135107343381,2506.3976476606567,2421.358777803269,2472.3931021513145,2473.4678592698046,2578.5596421047426,2406.5244266972854,2583.588350199723,2606.974354361192,2540.9645259782646,2608.272151420264,2740.693212298979,2608.6809696231257,2594.271226747506,2626.888126585654,2400.873150100639,2574.217975455371,2572.236405350973],\"yaxis\":\"y\",\"type\":\"scatter\"}],                        {\"template\":{\"data\":{\"histogram2dcontour\":[{\"type\":\"histogram2dcontour\",\"colorbar\":{\"outlinewidth\":0,\"ticks\":\"\"},\"colorscale\":[[0.0,\"#0d0887\"],[0.1111111111111111,\"#46039f\"],[0.2222222222222222,\"#7201a8\"],[0.3333333333333333,\"#9c179e\"],[0.4444444444444444,\"#bd3786\"],[0.5555555555555556,\"#d8576b\"],[0.6666666666666666,\"#ed7953\"],[0.7777777777777778,\"#fb9f3a\"],[0.8888888888888888,\"#fdca26\"],[1.0,\"#f0f921\"]]}],\"choropleth\":[{\"type\":\"choropleth\",\"colorbar\":{\"outlinewidth\":0,\"ticks\":\"\"}}],\"histogram2d\":[{\"type\":\"histogram2d\",\"colorbar\":{\"outlinewidth\":0,\"ticks\":\"\"},\"colorscale\":[[0.0,\"#0d0887\"],[0.1111111111111111,\"#46039f\"],[0.2222222222222222,\"#7201a8\"],[0.3333333333333333,\"#9c179e\"],[0.4444444444444444,\"#bd3786\"],[0.5555555555555556,\"#d8576b\"],[0.6666666666666666,\"#ed7953\"],[0.7777777777777778,\"#fb9f3a\"],[0.8888888888888888,\"#fdca26\"],[1.0,\"#f0f921\"]]}],\"heatmap\":[{\"type\":\"heatmap\",\"colorbar\":{\"outlinewidth\":0,\"ticks\":\"\"},\"colorscale\":[[0.0,\"#0d0887\"],[0.1111111111111111,\"#46039f\"],[0.2222222222222222,\"#7201a8\"],[0.3333333333333333,\"#9c179e\"],[0.4444444444444444,\"#bd3786\"],[0.5555555555555556,\"#d8576b\"],[0.6666666666666666,\"#ed7953\"],[0.7777777777777778,\"#fb9f3a\"],[0.8888888888888888,\"#fdca26\"],[1.0,\"#f0f921\"]]}],\"heatmapgl\":[{\"type\":\"heatmapgl\",\"colorbar\":{\"outlinewidth\":0,\"ticks\":\"\"},\"colorscale\":[[0.0,\"#0d0887\"],[0.1111111111111111,\"#46039f\"],[0.2222222222222222,\"#7201a8\"],[0.3333333333333333,\"#9c179e\"],[0.4444444444444444,\"#bd3786\"],[0.5555555555555556,\"#d8576b\"],[0.6666666666666666,\"#ed7953\"],[0.7777777777777778,\"#fb9f3a\"],[0.8888888888888888,\"#fdca26\"],[1.0,\"#f0f921\"]]}],\"contourcarpet\":[{\"type\":\"contourcarpet\",\"colorbar\":{\"outlinewidth\":0,\"ticks\":\"\"}}],\"contour\":[{\"type\":\"contour\",\"colorbar\":{\"outlinewidth\":0,\"ticks\":\"\"},\"colorscale\":[[0.0,\"#0d0887\"],[0.1111111111111111,\"#46039f\"],[0.2222222222222222,\"#7201a8\"],[0.3333333333333333,\"#9c179e\"],[0.4444444444444444,\"#bd3786\"],[0.5555555555555556,\"#d8576b\"],[0.6666666666666666,\"#ed7953\"],[0.7777777777777778,\"#fb9f3a\"],[0.8888888888888888,\"#fdca26\"],[1.0,\"#f0f921\"]]}],\"surface\":[{\"type\":\"surface\",\"colorbar\":{\"outlinewidth\":0,\"ticks\":\"\"},\"colorscale\":[[0.0,\"#0d0887\"],[0.1111111111111111,\"#46039f\"],[0.2222222222222222,\"#7201a8\"],[0.3333333333333333,\"#9c179e\"],[0.4444444444444444,\"#bd3786\"],[0.5555555555555556,\"#d8576b\"],[0.6666666666666666,\"#ed7953\"],[0.7777777777777778,\"#fb9f3a\"],[0.8888888888888888,\"#fdca26\"],[1.0,\"#f0f921\"]]}],\"mesh3d\":[{\"type\":\"mesh3d\",\"colorbar\":{\"outlinewidth\":0,\"ticks\":\"\"}}],\"scatter\":[{\"fillpattern\":{\"fillmode\":\"overlay\",\"size\":10,\"solidity\":0.2},\"type\":\"scatter\"}],\"parcoords\":[{\"type\":\"parcoords\",\"line\":{\"colorbar\":{\"outlinewidth\":0,\"ticks\":\"\"}}}],\"scatterpolargl\":[{\"type\":\"scatterpolargl\",\"marker\":{\"colorbar\":{\"outlinewidth\":0,\"ticks\":\"\"}}}],\"bar\":[{\"error_x\":{\"color\":\"#2a3f5f\"},\"error_y\":{\"color\":\"#2a3f5f\"},\"marker\":{\"line\":{\"color\":\"#E5ECF6\",\"width\":0.5},\"pattern\":{\"fillmode\":\"overlay\",\"size\":10,\"solidity\":0.2}},\"type\":\"bar\"}],\"scattergeo\":[{\"type\":\"scattergeo\",\"marker\":{\"colorbar\":{\"outlinewidth\":0,\"ticks\":\"\"}}}],\"scatterpolar\":[{\"type\":\"scatterpolar\",\"marker\":{\"colorbar\":{\"outlinewidth\":0,\"ticks\":\"\"}}}],\"histogram\":[{\"marker\":{\"pattern\":{\"fillmode\":\"overlay\",\"size\":10,\"solidity\":0.2}},\"type\":\"histogram\"}],\"scattergl\":[{\"type\":\"scattergl\",\"marker\":{\"colorbar\":{\"outlinewidth\":0,\"ticks\":\"\"}}}],\"scatter3d\":[{\"type\":\"scatter3d\",\"line\":{\"colorbar\":{\"outlinewidth\":0,\"ticks\":\"\"}},\"marker\":{\"colorbar\":{\"outlinewidth\":0,\"ticks\":\"\"}}}],\"scattermapbox\":[{\"type\":\"scattermapbox\",\"marker\":{\"colorbar\":{\"outlinewidth\":0,\"ticks\":\"\"}}}],\"scatterternary\":[{\"type\":\"scatterternary\",\"marker\":{\"colorbar\":{\"outlinewidth\":0,\"ticks\":\"\"}}}],\"scattercarpet\":[{\"type\":\"scattercarpet\",\"marker\":{\"colorbar\":{\"outlinewidth\":0,\"ticks\":\"\"}}}],\"carpet\":[{\"aaxis\":{\"endlinecolor\":\"#2a3f5f\",\"gridcolor\":\"white\",\"linecolor\":\"white\",\"minorgridcolor\":\"white\",\"startlinecolor\":\"#2a3f5f\"},\"baxis\":{\"endlinecolor\":\"#2a3f5f\",\"gridcolor\":\"white\",\"linecolor\":\"white\",\"minorgridcolor\":\"white\",\"startlinecolor\":\"#2a3f5f\"},\"type\":\"carpet\"}],\"table\":[{\"cells\":{\"fill\":{\"color\":\"#EBF0F8\"},\"line\":{\"color\":\"white\"}},\"header\":{\"fill\":{\"color\":\"#C8D4E3\"},\"line\":{\"color\":\"white\"}},\"type\":\"table\"}],\"barpolar\":[{\"marker\":{\"line\":{\"color\":\"#E5ECF6\",\"width\":0.5},\"pattern\":{\"fillmode\":\"overlay\",\"size\":10,\"solidity\":0.2}},\"type\":\"barpolar\"}],\"pie\":[{\"automargin\":true,\"type\":\"pie\"}]},\"layout\":{\"autotypenumbers\":\"strict\",\"colorway\":[\"#636efa\",\"#EF553B\",\"#00cc96\",\"#ab63fa\",\"#FFA15A\",\"#19d3f3\",\"#FF6692\",\"#B6E880\",\"#FF97FF\",\"#FECB52\"],\"font\":{\"color\":\"#2a3f5f\"},\"hovermode\":\"closest\",\"hoverlabel\":{\"align\":\"left\"},\"paper_bgcolor\":\"white\",\"plot_bgcolor\":\"#E5ECF6\",\"polar\":{\"bgcolor\":\"#E5ECF6\",\"angularaxis\":{\"gridcolor\":\"white\",\"linecolor\":\"white\",\"ticks\":\"\"},\"radialaxis\":{\"gridcolor\":\"white\",\"linecolor\":\"white\",\"ticks\":\"\"}},\"ternary\":{\"bgcolor\":\"#E5ECF6\",\"aaxis\":{\"gridcolor\":\"white\",\"linecolor\":\"white\",\"ticks\":\"\"},\"baxis\":{\"gridcolor\":\"white\",\"linecolor\":\"white\",\"ticks\":\"\"},\"caxis\":{\"gridcolor\":\"white\",\"linecolor\":\"white\",\"ticks\":\"\"}},\"coloraxis\":{\"colorbar\":{\"outlinewidth\":0,\"ticks\":\"\"}},\"colorscale\":{\"sequential\":[[0.0,\"#0d0887\"],[0.1111111111111111,\"#46039f\"],[0.2222222222222222,\"#7201a8\"],[0.3333333333333333,\"#9c179e\"],[0.4444444444444444,\"#bd3786\"],[0.5555555555555556,\"#d8576b\"],[0.6666666666666666,\"#ed7953\"],[0.7777777777777778,\"#fb9f3a\"],[0.8888888888888888,\"#fdca26\"],[1.0,\"#f0f921\"]],\"sequentialminus\":[[0.0,\"#0d0887\"],[0.1111111111111111,\"#46039f\"],[0.2222222222222222,\"#7201a8\"],[0.3333333333333333,\"#9c179e\"],[0.4444444444444444,\"#bd3786\"],[0.5555555555555556,\"#d8576b\"],[0.6666666666666666,\"#ed7953\"],[0.7777777777777778,\"#fb9f3a\"],[0.8888888888888888,\"#fdca26\"],[1.0,\"#f0f921\"]],\"diverging\":[[0,\"#8e0152\"],[0.1,\"#c51b7d\"],[0.2,\"#de77ae\"],[0.3,\"#f1b6da\"],[0.4,\"#fde0ef\"],[0.5,\"#f7f7f7\"],[0.6,\"#e6f5d0\"],[0.7,\"#b8e186\"],[0.8,\"#7fbc41\"],[0.9,\"#4d9221\"],[1,\"#276419\"]]},\"xaxis\":{\"gridcolor\":\"white\",\"linecolor\":\"white\",\"ticks\":\"\",\"title\":{\"standoff\":15},\"zerolinecolor\":\"white\",\"automargin\":true,\"zerolinewidth\":2},\"yaxis\":{\"gridcolor\":\"white\",\"linecolor\":\"white\",\"ticks\":\"\",\"title\":{\"standoff\":15},\"zerolinecolor\":\"white\",\"automargin\":true,\"zerolinewidth\":2},\"scene\":{\"xaxis\":{\"backgroundcolor\":\"#E5ECF6\",\"gridcolor\":\"white\",\"linecolor\":\"white\",\"showbackground\":true,\"ticks\":\"\",\"zerolinecolor\":\"white\",\"gridwidth\":2},\"yaxis\":{\"backgroundcolor\":\"#E5ECF6\",\"gridcolor\":\"white\",\"linecolor\":\"white\",\"showbackground\":true,\"ticks\":\"\",\"zerolinecolor\":\"white\",\"gridwidth\":2},\"zaxis\":{\"backgroundcolor\":\"#E5ECF6\",\"gridcolor\":\"white\",\"linecolor\":\"white\",\"showbackground\":true,\"ticks\":\"\",\"zerolinecolor\":\"white\",\"gridwidth\":2}},\"shapedefaults\":{\"line\":{\"color\":\"#2a3f5f\"}},\"annotationdefaults\":{\"arrowcolor\":\"#2a3f5f\",\"arrowhead\":0,\"arrowwidth\":1},\"geo\":{\"bgcolor\":\"white\",\"landcolor\":\"#E5ECF6\",\"subunitcolor\":\"white\",\"showland\":true,\"showlakes\":true,\"lakecolor\":\"white\"},\"title\":{\"x\":0.05},\"mapbox\":{\"style\":\"light\"}}},\"xaxis\":{\"anchor\":\"y\",\"domain\":[0.0,1.0],\"title\":{\"text\":\"Predicted Stage (predicted_stage_hpf)\"}},\"yaxis\":{\"anchor\":\"x\",\"domain\":[0.0,1.0],\"title\":{\"text\":\"Average length_um\"}},\"legend\":{\"title\":{\"text\":\"Phenotype\"},\"tracegroupgap\":0},\"title\":{\"text\":\"Average length_um Over Time by Phenotype\"},\"hovermode\":\"x unified\"},                        {\"responsive\": true}                    ).then(function(){\n",
       "                            \n",
       "var gd = document.getElementById('add00a38-1483-4944-b1b3-33dd6d272125');\n",
       "var x = new MutationObserver(function (mutations, observer) {{\n",
       "        var display = window.getComputedStyle(gd).display;\n",
       "        if (!display || display === 'none') {{\n",
       "            console.log([gd, 'removed!']);\n",
       "            Plotly.purge(gd);\n",
       "            observer.disconnect();\n",
       "        }}\n",
       "}});\n",
       "\n",
       "// Listen for the removal of the full notebook cells\n",
       "var notebookContainer = gd.closest('#notebook-container');\n",
       "if (notebookContainer) {{\n",
       "    x.observe(notebookContainer, {childList: true});\n",
       "}}\n",
       "\n",
       "// Listen for the clearing of the current output cell\n",
       "var outputEl = gd.closest('.output');\n",
       "if (outputEl) {{\n",
       "    x.observe(outputEl, {childList: true});\n",
       "}}\n",
       "\n",
       "                        })                };                });            </script>        </div>"
      ]
     },
     "metadata": {},
     "output_type": "display_data"
    }
   ],
   "source": [
    "# Call the plotting function\n",
    "fig = plot_average_surface_area_over_time(\n",
    "    df_augmented=df_augmented[df_augmented[\"phenotype\"] != \"inj-ctrl\"],\n",
    "    window_size=1.0,  # Adjust the window size as needed\n",
    "    value_col='length_um',  # Column to average\n",
    "    time_col='predicted_stage_hpf',  # Time or stage column\n",
    "    group_col='phenotype',  # Grouping column\n",
    "    save_dir=save_dir,  # Directory to save the plot\n",
    "    file_name='average_surface_area_over_time.html'  # Output filename\n",
    ")\n",
    "\n",
    "# To display the plot in an interactive environment (e.g., Jupyter Notebook)\n",
    "fig.show()"
   ]
  },
  {
   "cell_type": "code",
   "execution_count": 6,
   "metadata": {},
   "outputs": [
    {
     "ename": "NameError",
     "evalue": "name 'df' is not defined",
     "output_type": "error",
     "traceback": [
      "\u001b[0;31m---------------------------------------------------------------------------\u001b[0m",
      "\u001b[0;31mNameError\u001b[0m                                 Traceback (most recent call last)",
      "Cell \u001b[0;32mIn[6], line 1\u001b[0m\n\u001b[0;32m----> 1\u001b[0m \u001b[43mdf\u001b[49m\n",
      "\u001b[0;31mNameError\u001b[0m: name 'df' is not defined"
     ]
    }
   ],
   "source": [
    "df"
   ]
  },
  {
   "cell_type": "code",
   "execution_count": 21,
   "metadata": {},
   "outputs": [
    {
     "ename": "SyntaxError",
     "evalue": "invalid syntax (1831935995.py, line 3)",
     "output_type": "error",
     "traceback": [
      "\u001b[0;36m  Cell \u001b[0;32mIn[21], line 3\u001b[0;36m\u001b[0m\n\u001b[0;31m    df_temp[\"phenotype_2.0\"] = df_temp[\"phenotype\"] + df_temp[]\u001b[0m\n\u001b[0m                                                              ^\u001b[0m\n\u001b[0;31mSyntaxError\u001b[0m\u001b[0;31m:\u001b[0m invalid syntax\n"
     ]
    }
   ],
   "source": [
    "df_temp = df_augmented[df_augmented[\"phenotype\"] != \"inj-ctrl\"]\n",
    "# Call the plotting function\n",
    "df_temp[\"phenotype_2.0\"] = df_temp[\"phenotype\"] + df_temp[\"temperature\"].as(charactere)"
   ]
  },
  {
   "cell_type": "code",
   "execution_count": null,
   "metadata": {},
   "outputs": [],
   "source": [
    "fig = plot_average_surface_area_over_time(\n",
    "    df_augmented=,\n",
    "    window_size=1.0,  # Adjust the window size as needed\n",
    "    value_col='log2_surface_area_um',  # Column to average\n",
    "    time_col='predicted_stage_hpf',  # Time or stage column\n",
    "    group_col='phenotype',  # Grouping column\n",
    "    save_dir=save_dir,  # Directory to save the plot\n",
    "    file_name='average_surface_area_over_time.html'  # Output filename\n",
    ")\n"
   ]
  },
  {
   "cell_type": "code",
   "execution_count": 24,
   "metadata": {},
   "outputs": [
    {
     "name": "stderr",
     "output_type": "stream",
     "text": [
      "/tmp/8671962.1.trapnell-login.q/ipykernel_3749754/2760035277.py:82: FutureWarning: The default of observed=False is deprecated and will be changed to True in a future version of pandas. Pass observed=False to retain current behavior or observed=True to adopt the future default and silence this warning.\n",
      "  grouped = df_binned.groupby([group_col, 'hpf_bin'])[value_col].mean().reset_index()\n",
      "/tmp/8671962.1.trapnell-login.q/ipykernel_3749754/2760035277.py:85: FutureWarning: The default of observed=False is deprecated and will be changed to True in a future version of pandas. Pass observed=False to retain current behavior or observed=True to adopt the future default and silence this warning.\n",
      "  grouped_counts = df_binned.groupby([group_col, 'hpf_bin']).size().reset_index(name='count')\n"
     ]
    },
    {
     "name": "stdout",
     "output_type": "stream",
     "text": [
      "Plot saved to: /net/trapnell/vol1/home/mdcolon/proj/morphseq/results/20250115/average_surface_area_over_time.html\n"
     ]
    }
   ],
   "source": [
    "# Create a copy of the filtered DataFrame to avoid SettingWithCopyWarning\n",
    "df_temp = df_augmented[df_augmented[\"phenotype\"] != \"inj-ctrl\"].copy()\n",
    "\n",
    "# Convert 'temperature' to string and concatenate with 'phenotype'\n",
    "df_temp[\"phenotype_2.0\"] = df_temp[\"phenotype\"] + df_temp[\"temperature\"].astype(str)\n",
    "\n",
    "\n",
    "fig = plot_average_surface_area_over_time(\n",
    "    df_augmented=df_temp,\n",
    "    window_size=1.0,  # Adjust the window size as needed\n",
    "    value_col='surface_area_um',  # Column to average\n",
    "    time_col='predicted_stage_hpf',  # Time or stage column\n",
    "    group_col='phenotype_2.0',  # Grouping column\n",
    "    save_dir=save_dir,  # Directory to save the plot\n",
    "    file_name='average_surface_area_over_time.html'  # Output filename\n",
    ")\n"
   ]
  },
  {
   "cell_type": "code",
   "execution_count": 19,
   "metadata": {},
   "outputs": [
    {
     "name": "stdout",
     "output_type": "stream",
     "text": [
      "Using specified comparisons for spline building: ['wt', 'lmx1b', 'inj-ctrl']\n",
      "Building spline data for each phenotype...\n"
     ]
    },
    {
     "name": "stderr",
     "output_type": "stream",
     "text": [
      " ... (more hidden) ..."
     ]
    },
    {
     "name": "stdout",
     "output_type": "stream",
     "text": [
      "Starting point not in dataset. Using closest point: [1.69808274 1.18923543 2.35914988]\n"
     ]
    },
    {
     "name": "stderr",
     "output_type": "stream",
     "text": [
      " ... (more hidden) ..."
     ]
    },
    {
     "name": "stdout",
     "output_type": "stream",
     "text": [
      "Starting point not in dataset. Using closest point: [1.76393518 1.55899987 1.2731445 ]\n"
     ]
    },
    {
     "name": "stderr",
     "output_type": "stream",
     "text": [
      " ... (more hidden) ...\n"
     ]
    },
    {
     "name": "stdout",
     "output_type": "stream",
     "text": [
      "Starting point not in dataset. Using closest point: [1.37331154 1.83560134 0.15910864]\n",
      "Spline DataFrame 'pert_splines' saved to: /net/trapnell/vol1/home/mdcolon/proj/morphseq/results/20250115/pert_splines_74_unique.csv\n",
      "Assigning segments and building segment_info_df...\n"
     ]
    },
    {
     "name": "stderr",
     "output_type": "stream",
     "text": [
      " ... (more hidden) ...\n"
     ]
    }
   ],
   "source": [
    "pert_splines, df_augmented, segment_info_df = build_splines_and_segments(\n",
    "    df=df,\n",
    "    comparisons=pert_comparisons,\n",
    "    save_dir=save_dir,\n",
    "    model_index=model_index,\n",
    "    LocalPrincipalCurveClass=LocalPrincipalCurve,\n",
    "    bandwidth=0.5,\n",
    "    max_iter=250,\n",
    "    tol=1e-3,\n",
    "    angle_penalty_exp=2,\n",
    "    early_stage_offset=1.0,\n",
    "    late_stage_offset=3.0,\n",
    "    k=50\n",
    ")\n",
    "\n",
    "# Suppose we have:\n",
    "# df_augmented       -> your main augmented DataFrame with \"wt\" and \"lmx1b\" (and others)\n",
    "# segment_info_df    -> from create_spline_segments_for_df\n",
    "# We pick \"wt\" splines for reference:\n",
    "wt_splines_n_planes = segment_info_df[segment_info_df[\"phenotype\"] == \"wt\"]\n",
    "\n",
    "# A) Points from \"wt\" itself\n",
    "wt_pert_df = df_augmented[df_augmented[\"phenotype\"] == \"wt\"]\n",
    "wt_projection_to_wt = project_points_onto_reference_spline(\n",
    "    wt_pert_df,\n",
    "    wt_splines_n_planes\n",
    ")\n",
    "\n",
    "# B) Points from \"lmx1b\"\n",
    "lmx1b_pert_df = df_augmented[df_augmented[\"phenotype\"] == \"lmx1b\"]\n",
    "lmx1b_projection_to_wt = project_points_onto_reference_spline(\n",
    "    lmx1b_pert_df,\n",
    "    wt_splines_n_planes\n",
    ")\n",
    "\n",
    "\n",
    "inj_ctrl_df = df_augmented[df_augmented[\"phenotype\"]==\"inj-ctrl\"]\n",
    "inj_ctrl_projection_to_wt = project_points_onto_reference_spline(\n",
    "    inj_ctrl_df,\n",
    "    wt_splines_n_planes\n",
    ")\n"
   ]
  },
  {
   "cell_type": "code",
   "execution_count": 62,
   "metadata": {},
   "outputs": [
    {
     "data": {
      "text/html": [
       "<div>\n",
       "<style scoped>\n",
       "    .dataframe tbody tr th:only-of-type {\n",
       "        vertical-align: middle;\n",
       "    }\n",
       "\n",
       "    .dataframe tbody tr th {\n",
       "        vertical-align: top;\n",
       "    }\n",
       "\n",
       "    .dataframe thead th {\n",
       "        text-align: right;\n",
       "    }\n",
       "</style>\n",
       "<table border=\"1\" class=\"dataframe\">\n",
       "  <thead>\n",
       "    <tr style=\"text-align: right;\">\n",
       "      <th></th>\n",
       "      <th>snip_id</th>\n",
       "      <th>embryo_id</th>\n",
       "      <th>phenotype</th>\n",
       "      <th>predicted_stage_hpf</th>\n",
       "      <th>PCA_1</th>\n",
       "      <th>PCA_2</th>\n",
       "      <th>PCA_3</th>\n",
       "      <th>ref_seg_id</th>\n",
       "      <th>closest_on_spline_x</th>\n",
       "      <th>closest_on_spline_y</th>\n",
       "      <th>closest_on_spline_z</th>\n",
       "      <th>plane_point_x</th>\n",
       "      <th>plane_point_y</th>\n",
       "      <th>plane_point_z</th>\n",
       "      <th>distance_to_plane</th>\n",
       "      <th>distance_to_axis</th>\n",
       "      <th>hypotenuse</th>\n",
       "    </tr>\n",
       "  </thead>\n",
       "  <tbody>\n",
       "    <tr>\n",
       "      <th>0</th>\n",
       "      <td>20230830_B01_e00_t0000</td>\n",
       "      <td>20230830_B01_e00</td>\n",
       "      <td>lmx1b</td>\n",
       "      <td>48.003040</td>\n",
       "      <td>-0.634685</td>\n",
       "      <td>-0.716434</td>\n",
       "      <td>0.451853</td>\n",
       "      <td>35</td>\n",
       "      <td>-0.676455</td>\n",
       "      <td>-1.323069</td>\n",
       "      <td>0.612077</td>\n",
       "      <td>-0.586571</td>\n",
       "      <td>-0.925552</td>\n",
       "      <td>0.822536</td>\n",
       "      <td>0.428312</td>\n",
       "      <td>0.466191</td>\n",
       "      <td>0.633076</td>\n",
       "    </tr>\n",
       "    <tr>\n",
       "      <th>1</th>\n",
       "      <td>20230830_B02_e00_t0000</td>\n",
       "      <td>20230830_B02_e00</td>\n",
       "      <td>lmx1b</td>\n",
       "      <td>48.041152</td>\n",
       "      <td>-1.318634</td>\n",
       "      <td>-0.202735</td>\n",
       "      <td>0.335342</td>\n",
       "      <td>29</td>\n",
       "      <td>-1.870550</td>\n",
       "      <td>-0.498198</td>\n",
       "      <td>0.325564</td>\n",
       "      <td>-1.616993</td>\n",
       "      <td>-0.206973</td>\n",
       "      <td>0.607483</td>\n",
       "      <td>0.403853</td>\n",
       "      <td>0.478641</td>\n",
       "      <td>0.626254</td>\n",
       "    </tr>\n",
       "    <tr>\n",
       "      <th>2</th>\n",
       "      <td>20230830_C01_e00_t0000</td>\n",
       "      <td>20230830_C01_e00</td>\n",
       "      <td>lmx1b</td>\n",
       "      <td>48.006064</td>\n",
       "      <td>-0.199328</td>\n",
       "      <td>-0.892894</td>\n",
       "      <td>0.041203</td>\n",
       "      <td>37</td>\n",
       "      <td>-0.012602</td>\n",
       "      <td>-1.336565</td>\n",
       "      <td>0.368092</td>\n",
       "      <td>-0.042187</td>\n",
       "      <td>-0.911614</td>\n",
       "      <td>0.406711</td>\n",
       "      <td>0.398296</td>\n",
       "      <td>0.433040</td>\n",
       "      <td>0.588357</td>\n",
       "    </tr>\n",
       "    <tr>\n",
       "      <th>3</th>\n",
       "      <td>20230830_C02_e00_t0000</td>\n",
       "      <td>20230830_C02_e00</td>\n",
       "      <td>lmx1b</td>\n",
       "      <td>48.038104</td>\n",
       "      <td>-1.260557</td>\n",
       "      <td>-0.437670</td>\n",
       "      <td>0.285745</td>\n",
       "      <td>30</td>\n",
       "      <td>-1.739242</td>\n",
       "      <td>-0.704617</td>\n",
       "      <td>0.443785</td>\n",
       "      <td>-1.613373</td>\n",
       "      <td>-0.552602</td>\n",
       "      <td>0.625208</td>\n",
       "      <td>0.502915</td>\n",
       "      <td>0.269379</td>\n",
       "      <td>0.570516</td>\n",
       "    </tr>\n",
       "    <tr>\n",
       "      <th>4</th>\n",
       "      <td>20230830_D01_e00_t0000</td>\n",
       "      <td>20230830_D01_e00</td>\n",
       "      <td>lmx1b</td>\n",
       "      <td>48.009094</td>\n",
       "      <td>-1.066294</td>\n",
       "      <td>-0.354176</td>\n",
       "      <td>0.221378</td>\n",
       "      <td>30</td>\n",
       "      <td>-1.729299</td>\n",
       "      <td>-0.718159</td>\n",
       "      <td>0.451028</td>\n",
       "      <td>-1.558585</td>\n",
       "      <td>-0.514542</td>\n",
       "      <td>0.695037</td>\n",
       "      <td>0.701727</td>\n",
       "      <td>0.364982</td>\n",
       "      <td>0.790969</td>\n",
       "    </tr>\n",
       "    <tr>\n",
       "      <th>...</th>\n",
       "      <td>...</td>\n",
       "      <td>...</td>\n",
       "      <td>...</td>\n",
       "      <td>...</td>\n",
       "      <td>...</td>\n",
       "      <td>...</td>\n",
       "      <td>...</td>\n",
       "      <td>...</td>\n",
       "      <td>...</td>\n",
       "      <td>...</td>\n",
       "      <td>...</td>\n",
       "      <td>...</td>\n",
       "      <td>...</td>\n",
       "      <td>...</td>\n",
       "      <td>...</td>\n",
       "      <td>...</td>\n",
       "      <td>...</td>\n",
       "    </tr>\n",
       "    <tr>\n",
       "      <th>5222</th>\n",
       "      <td>20240307_H10_e00_t0011</td>\n",
       "      <td>20240307_H10_e00</td>\n",
       "      <td>lmx1b</td>\n",
       "      <td>55.690648</td>\n",
       "      <td>2.206931</td>\n",
       "      <td>-1.150623</td>\n",
       "      <td>-1.158771</td>\n",
       "      <td>47</td>\n",
       "      <td>2.316383</td>\n",
       "      <td>-1.020501</td>\n",
       "      <td>-0.952295</td>\n",
       "      <td>2.295625</td>\n",
       "      <td>-1.000094</td>\n",
       "      <td>-0.956538</td>\n",
       "      <td>0.267253</td>\n",
       "      <td>0.028719</td>\n",
       "      <td>0.268791</td>\n",
       "    </tr>\n",
       "    <tr>\n",
       "      <th>5223</th>\n",
       "      <td>20240307_H10_e00_t0012</td>\n",
       "      <td>20240307_H10_e00</td>\n",
       "      <td>lmx1b</td>\n",
       "      <td>56.335641</td>\n",
       "      <td>2.247897</td>\n",
       "      <td>-1.165470</td>\n",
       "      <td>-1.183750</td>\n",
       "      <td>47</td>\n",
       "      <td>2.356427</td>\n",
       "      <td>-1.016753</td>\n",
       "      <td>-0.975885</td>\n",
       "      <td>2.341127</td>\n",
       "      <td>-1.007241</td>\n",
       "      <td>-0.971174</td>\n",
       "      <td>0.280922</td>\n",
       "      <td>0.059513</td>\n",
       "      <td>0.287157</td>\n",
       "    </tr>\n",
       "    <tr>\n",
       "      <th>5224</th>\n",
       "      <td>20240307_H10_e00_t0014</td>\n",
       "      <td>20240307_H10_e00</td>\n",
       "      <td>lmx1b</td>\n",
       "      <td>57.626360</td>\n",
       "      <td>2.383901</td>\n",
       "      <td>-1.121162</td>\n",
       "      <td>-1.292634</td>\n",
       "      <td>48</td>\n",
       "      <td>2.501913</td>\n",
       "      <td>-1.004595</td>\n",
       "      <td>-1.057124</td>\n",
       "      <td>2.440999</td>\n",
       "      <td>-0.948123</td>\n",
       "      <td>-1.094674</td>\n",
       "      <td>0.269056</td>\n",
       "      <td>0.108937</td>\n",
       "      <td>0.290272</td>\n",
       "    </tr>\n",
       "    <tr>\n",
       "      <th>5225</th>\n",
       "      <td>20240307_H10_e00_t0016</td>\n",
       "      <td>20240307_H10_e00</td>\n",
       "      <td>lmx1b</td>\n",
       "      <td>58.917710</td>\n",
       "      <td>2.434693</td>\n",
       "      <td>-1.158945</td>\n",
       "      <td>-1.321609</td>\n",
       "      <td>48</td>\n",
       "      <td>2.550875</td>\n",
       "      <td>-1.000808</td>\n",
       "      <td>-1.083533</td>\n",
       "      <td>2.499185</td>\n",
       "      <td>-0.963500</td>\n",
       "      <td>-1.098015</td>\n",
       "      <td>0.303894</td>\n",
       "      <td>0.056864</td>\n",
       "      <td>0.309169</td>\n",
       "    </tr>\n",
       "    <tr>\n",
       "      <th>5226</th>\n",
       "      <td>20240307_H10_e00_t0017</td>\n",
       "      <td>20240307_H10_e00</td>\n",
       "      <td>lmx1b</td>\n",
       "      <td>59.564665</td>\n",
       "      <td>2.356549</td>\n",
       "      <td>-1.143268</td>\n",
       "      <td>-1.259381</td>\n",
       "      <td>48</td>\n",
       "      <td>2.465675</td>\n",
       "      <td>-1.007397</td>\n",
       "      <td>-1.037579</td>\n",
       "      <td>2.412705</td>\n",
       "      <td>-0.973088</td>\n",
       "      <td>-1.064691</td>\n",
       "      <td>0.264611</td>\n",
       "      <td>0.124416</td>\n",
       "      <td>0.292401</td>\n",
       "    </tr>\n",
       "  </tbody>\n",
       "</table>\n",
       "<p>5227 rows × 17 columns</p>\n",
       "</div>"
      ],
      "text/plain": [
       "                     snip_id         embryo_id phenotype  predicted_stage_hpf  \\\n",
       "0     20230830_B01_e00_t0000  20230830_B01_e00     lmx1b            48.003040   \n",
       "1     20230830_B02_e00_t0000  20230830_B02_e00     lmx1b            48.041152   \n",
       "2     20230830_C01_e00_t0000  20230830_C01_e00     lmx1b            48.006064   \n",
       "3     20230830_C02_e00_t0000  20230830_C02_e00     lmx1b            48.038104   \n",
       "4     20230830_D01_e00_t0000  20230830_D01_e00     lmx1b            48.009094   \n",
       "...                      ...               ...       ...                  ...   \n",
       "5222  20240307_H10_e00_t0011  20240307_H10_e00     lmx1b            55.690648   \n",
       "5223  20240307_H10_e00_t0012  20240307_H10_e00     lmx1b            56.335641   \n",
       "5224  20240307_H10_e00_t0014  20240307_H10_e00     lmx1b            57.626360   \n",
       "5225  20240307_H10_e00_t0016  20240307_H10_e00     lmx1b            58.917710   \n",
       "5226  20240307_H10_e00_t0017  20240307_H10_e00     lmx1b            59.564665   \n",
       "\n",
       "         PCA_1     PCA_2     PCA_3  ref_seg_id  closest_on_spline_x  \\\n",
       "0    -0.634685 -0.716434  0.451853          35            -0.676455   \n",
       "1    -1.318634 -0.202735  0.335342          29            -1.870550   \n",
       "2    -0.199328 -0.892894  0.041203          37            -0.012602   \n",
       "3    -1.260557 -0.437670  0.285745          30            -1.739242   \n",
       "4    -1.066294 -0.354176  0.221378          30            -1.729299   \n",
       "...        ...       ...       ...         ...                  ...   \n",
       "5222  2.206931 -1.150623 -1.158771          47             2.316383   \n",
       "5223  2.247897 -1.165470 -1.183750          47             2.356427   \n",
       "5224  2.383901 -1.121162 -1.292634          48             2.501913   \n",
       "5225  2.434693 -1.158945 -1.321609          48             2.550875   \n",
       "5226  2.356549 -1.143268 -1.259381          48             2.465675   \n",
       "\n",
       "      closest_on_spline_y  closest_on_spline_z  plane_point_x  plane_point_y  \\\n",
       "0               -1.323069             0.612077      -0.586571      -0.925552   \n",
       "1               -0.498198             0.325564      -1.616993      -0.206973   \n",
       "2               -1.336565             0.368092      -0.042187      -0.911614   \n",
       "3               -0.704617             0.443785      -1.613373      -0.552602   \n",
       "4               -0.718159             0.451028      -1.558585      -0.514542   \n",
       "...                   ...                  ...            ...            ...   \n",
       "5222            -1.020501            -0.952295       2.295625      -1.000094   \n",
       "5223            -1.016753            -0.975885       2.341127      -1.007241   \n",
       "5224            -1.004595            -1.057124       2.440999      -0.948123   \n",
       "5225            -1.000808            -1.083533       2.499185      -0.963500   \n",
       "5226            -1.007397            -1.037579       2.412705      -0.973088   \n",
       "\n",
       "      plane_point_z  distance_to_plane  distance_to_axis  hypotenuse  \n",
       "0          0.822536           0.428312          0.466191    0.633076  \n",
       "1          0.607483           0.403853          0.478641    0.626254  \n",
       "2          0.406711           0.398296          0.433040    0.588357  \n",
       "3          0.625208           0.502915          0.269379    0.570516  \n",
       "4          0.695037           0.701727          0.364982    0.790969  \n",
       "...             ...                ...               ...         ...  \n",
       "5222      -0.956538           0.267253          0.028719    0.268791  \n",
       "5223      -0.971174           0.280922          0.059513    0.287157  \n",
       "5224      -1.094674           0.269056          0.108937    0.290272  \n",
       "5225      -1.098015           0.303894          0.056864    0.309169  \n",
       "5226      -1.064691           0.264611          0.124416    0.292401  \n",
       "\n",
       "[5227 rows x 17 columns]"
      ]
     },
     "execution_count": 62,
     "metadata": {},
     "output_type": "execute_result"
    }
   ],
   "source": [
    "lmx1b_projection_to_wt"
   ]
  },
  {
   "cell_type": "code",
   "execution_count": null,
   "metadata": {},
   "outputs": [
    {
     "name": "stdout",
     "output_type": "stream",
     "text": [
      "3D visualization saved to: /net/trapnell/vol1/home/mdcolon/proj/morphseq/results/20250115/3d_vis_spline_n_planes_wt_lmx1b_test.html\n"
     ]
    }
   ],
   "source": [
    "# -------------------------\n",
    "projection_dfs = [\n",
    "    wt_projection_to_wt,\n",
    "    lmx1b_projection_to_wt,\n",
    "    # inj_ctrl_projection_to_wt,\n",
    "]\n",
    "import os\n",
    "import numpy as np\n",
    "import pandas as pd\n",
    "import plotly.express as px\n",
    "import plotly.graph_objects as go\n",
    "\n",
    "\n",
    "fig = plot_3d_spline_and_projections(\n",
    "    projection_dfs =projection_dfs,\n",
    "    segment_info_df=wt_splines_n_planes,\n",
    "    pert_splines=pert_splines,  # or None if you don't have/need them\n",
    "    save_dir=save_dir,\n",
    "    filename=\"3d_vis_spline_n_planes_wt_lmx1b_test.html\",\n",
    "    k=None,\n",
    "    title=\"My 3D Spline + Projection Visualization lmx1b and wt\",\n",
    "    plane_opacity=0.2,\n",
    "    axis_length=0.5,\n",
    "    show_legend=True\n",
    ")"
   ]
  }
 ],
 "metadata": {
  "kernelspec": {
   "display_name": "vae_env_cluster",
   "language": "python",
   "name": "vae_env_cluster"
  }
 },
 "nbformat": 4,
 "nbformat_minor": 2
}
