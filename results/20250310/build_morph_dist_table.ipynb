{
 "cells": [
  {
   "cell_type": "markdown",
   "id": "0",
   "metadata": {},
   "source": [
    "#### This notebook looks at temperature-dependent changes to embryo morphology"
   ]
  },
  {
   "cell_type": "code",
   "execution_count": null,
   "id": "1",
   "metadata": {
    "pycharm": {
     "is_executing": true
    }
   },
   "outputs": [],
   "source": [
    "import numpy as np\n",
    "import pandas as pd\n",
    "import plotly.express as px\n",
    "import plotly.graph_objects as go\n",
    "import os\n",
    "from glob2 import glob"
   ]
  },
  {
   "cell_type": "code",
   "execution_count": null,
   "id": "2",
   "metadata": {},
   "outputs": [],
   "source": [
    "# load embryo_df for our current best model\n",
    "# root = \"/media/nick/hdd02/Cole Trapnell's Lab Dropbox/Nick Lammers/Nick/morphseq/\"\n",
    "\n",
    "root = \"/Users/nick/Cole Trapnell's Lab Dropbox/Nick Lammers/Nick/morphseq/\"\n",
    "train_name = \"20241107_ds\"\n",
    "model_name = \"SeqVAE_z100_ne150_sweep_01_block01_iter030\" \n",
    "train_dir = os.path.join(root, \"training_data\", train_name, \"\")\n",
    "output_dir = os.path.join(train_dir, model_name) \n",
    "\n",
    "# get path to model\n",
    "training_path = sorted(glob(os.path.join(output_dir, \"*\")))[-1]\n",
    "training_name = os.path.dirname(training_path)\n",
    "read_path = os.path.join(training_path, \"figures\", \"\")\n",
    "\n",
    "# path to save data\n",
    "data_path = os.path.join(root, \"results\", \"20240310\", \"\")\n",
    "\n",
    "# path to figures and data\n",
    "fig_path = \"/Users/nick/Cole Trapnell's Lab Dropbox/Nick Lammers/Nick/slides/morphseq/20250312/morph_metrics_v2/\"\n",
    "os.makedirs(fig_path, exist_ok=True)"
   ]
  },
  {
   "cell_type": "markdown",
   "id": "3",
   "metadata": {},
   "source": [
    "### Load more target PCA and spline fits that focus on HF + AB controls"
   ]
  },
  {
   "cell_type": "code",
   "execution_count": null,
   "id": "4",
   "metadata": {},
   "outputs": [],
   "source": [
    "import joblib\n",
    "\n",
    "# load datasets\n",
    "hf_pca_df = pd.read_csv(os.path.join(data_path, \"hf_morph_df.csv\"))\n",
    "ref_pca_df = pd.read_csv(os.path.join(data_path, \"ab_ref_morph_df.csv\"))\n",
    "spline_df = pd.read_csv(os.path.join(data_path, \"spline_morph_df_full.csv\"))\n",
    "spline_df[\"knot_index\"] = spline_df.index\n",
    "\n",
    "# Save the model to a file\n",
    "morph_stage_model = joblib.load(os.path.join(data_path, 'morph_stage_model.joblib'))"
   ]
  },
  {
   "cell_type": "markdown",
   "id": "5",
   "metadata": {},
   "source": [
    "### Calculate embryo deviations from wt reference"
   ]
  },
  {
   "cell_type": "code",
   "execution_count": null,
   "id": "6",
   "metadata": {},
   "outputs": [],
   "source": [
    "from scipy.spatial import distance_matrix\n",
    "\n",
    "pca_cols = [col for col in hf_pca_df.columns if \"PCA\" in col]\n",
    "stage_dist_mat = distance_matrix(hf_pca_df[pca_cols], spline_df[pca_cols])\n",
    "\n",
    "hf_pca_df[\"knot_index\"] = np.argmin(stage_dist_mat, axis=1)\n",
    "hf_pca_df[\"dist_to_spline\"] = np.min(stage_dist_mat, axis=1)\n",
    "\n",
    "fig = px.scatter(hf_pca_df, x=\"knot_index\", y=\"dist_to_spline\", color=\"temperature\", \n",
    "                 symbol=\"timepoint\", hover_data=[\"snip_id\"])\n",
    "\n",
    "fig.update_traces(marker=dict(size=8, line=dict(color=\"black\", width=1)))\n",
    "fig.show()"
   ]
  },
  {
   "cell_type": "code",
   "execution_count": null,
   "id": "7",
   "metadata": {},
   "outputs": [],
   "source": [
    "hf_pca_df.to_csv(os.path.join(data_path, \"hf_morph_dist_df.csv\"), index=False)"
   ]
  }
 ],
 "metadata": {
  "kernelspec": {
   "display_name": "Python 3 (ipykernel)",
   "language": "python",
   "name": "python3"
  },
  "language_info": {
   "codemirror_mode": {
    "name": "ipython",
    "version": 3
   },
   "file_extension": ".py",
   "mimetype": "text/x-python",
   "name": "python",
   "nbconvert_exporter": "python",
   "pygments_lexer": "ipython3",
   "version": "3.10.13"
  }
 },
 "nbformat": 4,
 "nbformat_minor": 5
}
