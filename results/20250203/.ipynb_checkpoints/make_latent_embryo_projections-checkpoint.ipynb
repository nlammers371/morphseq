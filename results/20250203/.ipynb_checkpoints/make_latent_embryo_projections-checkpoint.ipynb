{
 "cells": [
  {
   "cell_type": "markdown",
   "id": "1c6f054a-fa6c-4fb7-aca8-f6acc4d6cded",
   "metadata": {},
   "source": [
    "### Experiment with using Hooke latent space for embryo projections"
   ]
  },
  {
   "cell_type": "code",
   "execution_count": 1,
   "id": "ed17d00d-3b64-4ad0-a024-1e4dcce21110",
   "metadata": {},
   "outputs": [],
   "source": [
    "import pandas as pd\n",
    "import numpy as np\n",
    "import plotly.express as px\n",
    "import plotly.graph_objects as go\n",
    "import os\n",
    "import glob2 as glob\n",
    "import patsy\n",
    "\n",
    "# set paths\n",
    "fig_root = \"/Users/nick/Cole Trapnell's Lab Dropbox/Nick Lammers/Nick/morphseq/figures/seq_data/PLN/\"\n",
    "\n",
    "# specify which regression to use\n",
    "ccm = \"t_spline_inter3\" #\"t_spline_inter\"\n",
    "\n",
    "fig_folder = os.path.join(fig_root, ccm, \"\")\n",
    "os.makedirs(fig_folder, exist_ok=True)\n",
    "\n",
    "# set path to data\n",
    "hooke_data_path = \"/Users/nick/Cole Trapnell's Lab Dropbox/Nick Lammers/Nick/morphseq/seq_data/emb_projections/hooke_model_files/\"\n",
    "ccs_data_path = \"/Users/nick/Cole Trapnell's Lab Dropbox/Nick Lammers/Nick/morphseq/seq_data/emb_projections/ccs_data_cell_type_broad/\"\n",
    "model_path = os.path.join(hooke_data_path, ccm, \"\")"
   ]
  },
  {
   "cell_type": "markdown",
   "id": "6bdcc557-a432-4692-92e9-b011dee169a1",
   "metadata": {},
   "source": [
    "### Load in metadata, model params, and counts matrices "
   ]
  },
  {
   "cell_type": "code",
   "execution_count": 6,
   "id": "1f2957b3-7e1f-491b-99d5-bb944a763a52",
   "metadata": {},
   "outputs": [
    {
     "data": {
      "text/html": [
       "<div>\n",
       "<style scoped>\n",
       "    .dataframe tbody tr th:only-of-type {\n",
       "        vertical-align: middle;\n",
       "    }\n",
       "\n",
       "    .dataframe tbody tr th {\n",
       "        vertical-align: top;\n",
       "    }\n",
       "\n",
       "    .dataframe thead th {\n",
       "        text-align: right;\n",
       "    }\n",
       "</style>\n",
       "<table border=\"1\" class=\"dataframe\">\n",
       "  <thead>\n",
       "    <tr style=\"text-align: right;\">\n",
       "      <th></th>\n",
       "      <th>Intercept</th>\n",
       "      <th>ns(timepoint, knots=(28.5, 51, 73.5))1</th>\n",
       "      <th>ns(timepoint, knots=(28.5, 51, 73.5))2</th>\n",
       "      <th>ns(timepoint, knots=(28.5, 51, 73.5))3</th>\n",
       "      <th>ns(timepoint, knots=(28.5, 51, 73.5))4</th>\n",
       "      <th>dis_protocol</th>\n",
       "      <th>exptCHEM2</th>\n",
       "      <th>exptCHEM3</th>\n",
       "      <th>exptCHEM5</th>\n",
       "      <th>exptGAP13</th>\n",
       "      <th>exptGAP14</th>\n",
       "      <th>exptGAP16</th>\n",
       "      <th>exptGAP18</th>\n",
       "      <th>exptHF4</th>\n",
       "      <th>expthotfish2</th>\n",
       "      <th>exptREF1</th>\n",
       "      <th>ns(timepoint, knots=(28.5, 51, 73.5))1:dis_protocol</th>\n",
       "      <th>ns(timepoint, knots=(28.5, 51, 73.5))2:dis_protocol</th>\n",
       "      <th>ns(timepoint, knots=(28.5, 51, 73.5))3:dis_protocol</th>\n",
       "      <th>ns(timepoint, knots=(28.5, 51, 73.5))4:dis_protocol</th>\n",
       "    </tr>\n",
       "  </thead>\n",
       "  <tbody>\n",
       "    <tr>\n",
       "      <th>adenohypophysis</th>\n",
       "      <td>-0.496078</td>\n",
       "      <td>0.841948</td>\n",
       "      <td>1.107938</td>\n",
       "      <td>-1.555601</td>\n",
       "      <td>1.630829</td>\n",
       "      <td>-1.098184</td>\n",
       "      <td>0.136667</td>\n",
       "      <td>-0.485007</td>\n",
       "      <td>-1.407277</td>\n",
       "      <td>-1.365259</td>\n",
       "      <td>-0.578510</td>\n",
       "      <td>-0.258444</td>\n",
       "      <td>-0.148815</td>\n",
       "      <td>-0.794681</td>\n",
       "      <td>-1.147725</td>\n",
       "      <td>-0.434220</td>\n",
       "      <td>0.240736</td>\n",
       "      <td>0.482198</td>\n",
       "      <td>3.557939</td>\n",
       "      <td>-0.378103</td>\n",
       "    </tr>\n",
       "    <tr>\n",
       "      <th>adrenal gland</th>\n",
       "      <td>-1.814042</td>\n",
       "      <td>2.015353</td>\n",
       "      <td>4.894048</td>\n",
       "      <td>-0.575699</td>\n",
       "      <td>4.161103</td>\n",
       "      <td>0.007751</td>\n",
       "      <td>-0.250772</td>\n",
       "      <td>-1.042806</td>\n",
       "      <td>-3.849458</td>\n",
       "      <td>-0.262136</td>\n",
       "      <td>0.052147</td>\n",
       "      <td>0.027810</td>\n",
       "      <td>0.898090</td>\n",
       "      <td>-1.480764</td>\n",
       "      <td>0.320295</td>\n",
       "      <td>1.055328</td>\n",
       "      <td>-2.087997</td>\n",
       "      <td>-4.970865</td>\n",
       "      <td>-2.298769</td>\n",
       "      <td>-4.155990</td>\n",
       "    </tr>\n",
       "    <tr>\n",
       "      <th>annular ligament (doublets?)</th>\n",
       "      <td>1.153327</td>\n",
       "      <td>2.114316</td>\n",
       "      <td>3.745463</td>\n",
       "      <td>-1.731080</td>\n",
       "      <td>7.151964</td>\n",
       "      <td>-1.359858</td>\n",
       "      <td>0.144598</td>\n",
       "      <td>-0.528973</td>\n",
       "      <td>-3.951906</td>\n",
       "      <td>-5.273558</td>\n",
       "      <td>-5.568966</td>\n",
       "      <td>0.118168</td>\n",
       "      <td>1.636440</td>\n",
       "      <td>-3.787234</td>\n",
       "      <td>-1.020568</td>\n",
       "      <td>-8.895006</td>\n",
       "      <td>-0.273235</td>\n",
       "      <td>-1.655863</td>\n",
       "      <td>-5.012906</td>\n",
       "      <td>-0.504264</td>\n",
       "    </tr>\n",
       "    <tr>\n",
       "      <th>anterior eye</th>\n",
       "      <td>-2.964543</td>\n",
       "      <td>2.812734</td>\n",
       "      <td>3.169770</td>\n",
       "      <td>7.170701</td>\n",
       "      <td>3.787265</td>\n",
       "      <td>1.352020</td>\n",
       "      <td>-0.224479</td>\n",
       "      <td>-0.540434</td>\n",
       "      <td>-0.942577</td>\n",
       "      <td>-1.232248</td>\n",
       "      <td>-0.745440</td>\n",
       "      <td>-0.625006</td>\n",
       "      <td>0.213320</td>\n",
       "      <td>-0.026404</td>\n",
       "      <td>-1.391667</td>\n",
       "      <td>-2.149864</td>\n",
       "      <td>0.230724</td>\n",
       "      <td>-1.347048</td>\n",
       "      <td>-1.758573</td>\n",
       "      <td>-1.799894</td>\n",
       "    </tr>\n",
       "    <tr>\n",
       "      <th>apical ectodermal ridge</th>\n",
       "      <td>-3.327873</td>\n",
       "      <td>7.792945</td>\n",
       "      <td>6.046793</td>\n",
       "      <td>14.458558</td>\n",
       "      <td>5.435542</td>\n",
       "      <td>1.195726</td>\n",
       "      <td>-0.095148</td>\n",
       "      <td>-0.481309</td>\n",
       "      <td>-0.110157</td>\n",
       "      <td>-1.238860</td>\n",
       "      <td>-0.331090</td>\n",
       "      <td>-0.493474</td>\n",
       "      <td>-0.168954</td>\n",
       "      <td>-0.285752</td>\n",
       "      <td>0.564575</td>\n",
       "      <td>-0.370616</td>\n",
       "      <td>-1.678648</td>\n",
       "      <td>-2.208385</td>\n",
       "      <td>-6.793787</td>\n",
       "      <td>-1.370673</td>\n",
       "    </tr>\n",
       "  </tbody>\n",
       "</table>\n",
       "</div>"
      ],
      "text/plain": [
       "                              Intercept  \\\n",
       "adenohypophysis               -0.496078   \n",
       "adrenal gland                 -1.814042   \n",
       "annular ligament (doublets?)   1.153327   \n",
       "anterior eye                  -2.964543   \n",
       "apical ectodermal ridge       -3.327873   \n",
       "\n",
       "                              ns(timepoint, knots=(28.5, 51, 73.5))1  \\\n",
       "adenohypophysis                                             0.841948   \n",
       "adrenal gland                                               2.015353   \n",
       "annular ligament (doublets?)                                2.114316   \n",
       "anterior eye                                                2.812734   \n",
       "apical ectodermal ridge                                     7.792945   \n",
       "\n",
       "                              ns(timepoint, knots=(28.5, 51, 73.5))2  \\\n",
       "adenohypophysis                                             1.107938   \n",
       "adrenal gland                                               4.894048   \n",
       "annular ligament (doublets?)                                3.745463   \n",
       "anterior eye                                                3.169770   \n",
       "apical ectodermal ridge                                     6.046793   \n",
       "\n",
       "                              ns(timepoint, knots=(28.5, 51, 73.5))3  \\\n",
       "adenohypophysis                                            -1.555601   \n",
       "adrenal gland                                              -0.575699   \n",
       "annular ligament (doublets?)                               -1.731080   \n",
       "anterior eye                                                7.170701   \n",
       "apical ectodermal ridge                                    14.458558   \n",
       "\n",
       "                              ns(timepoint, knots=(28.5, 51, 73.5))4  \\\n",
       "adenohypophysis                                             1.630829   \n",
       "adrenal gland                                               4.161103   \n",
       "annular ligament (doublets?)                                7.151964   \n",
       "anterior eye                                                3.787265   \n",
       "apical ectodermal ridge                                     5.435542   \n",
       "\n",
       "                              dis_protocol  exptCHEM2  exptCHEM3  exptCHEM5  \\\n",
       "adenohypophysis                  -1.098184   0.136667  -0.485007  -1.407277   \n",
       "adrenal gland                     0.007751  -0.250772  -1.042806  -3.849458   \n",
       "annular ligament (doublets?)     -1.359858   0.144598  -0.528973  -3.951906   \n",
       "anterior eye                      1.352020  -0.224479  -0.540434  -0.942577   \n",
       "apical ectodermal ridge           1.195726  -0.095148  -0.481309  -0.110157   \n",
       "\n",
       "                              exptGAP13  exptGAP14  exptGAP16  exptGAP18  \\\n",
       "adenohypophysis               -1.365259  -0.578510  -0.258444  -0.148815   \n",
       "adrenal gland                 -0.262136   0.052147   0.027810   0.898090   \n",
       "annular ligament (doublets?)  -5.273558  -5.568966   0.118168   1.636440   \n",
       "anterior eye                  -1.232248  -0.745440  -0.625006   0.213320   \n",
       "apical ectodermal ridge       -1.238860  -0.331090  -0.493474  -0.168954   \n",
       "\n",
       "                               exptHF4  expthotfish2  exptREF1  \\\n",
       "adenohypophysis              -0.794681     -1.147725 -0.434220   \n",
       "adrenal gland                -1.480764      0.320295  1.055328   \n",
       "annular ligament (doublets?) -3.787234     -1.020568 -8.895006   \n",
       "anterior eye                 -0.026404     -1.391667 -2.149864   \n",
       "apical ectodermal ridge      -0.285752      0.564575 -0.370616   \n",
       "\n",
       "                              ns(timepoint, knots=(28.5, 51, 73.5))1:dis_protocol  \\\n",
       "adenohypophysis                                                        0.240736     \n",
       "adrenal gland                                                         -2.087997     \n",
       "annular ligament (doublets?)                                          -0.273235     \n",
       "anterior eye                                                           0.230724     \n",
       "apical ectodermal ridge                                               -1.678648     \n",
       "\n",
       "                              ns(timepoint, knots=(28.5, 51, 73.5))2:dis_protocol  \\\n",
       "adenohypophysis                                                        0.482198     \n",
       "adrenal gland                                                         -4.970865     \n",
       "annular ligament (doublets?)                                          -1.655863     \n",
       "anterior eye                                                          -1.347048     \n",
       "apical ectodermal ridge                                               -2.208385     \n",
       "\n",
       "                              ns(timepoint, knots=(28.5, 51, 73.5))3:dis_protocol  \\\n",
       "adenohypophysis                                                        3.557939     \n",
       "adrenal gland                                                         -2.298769     \n",
       "annular ligament (doublets?)                                          -5.012906     \n",
       "anterior eye                                                          -1.758573     \n",
       "apical ectodermal ridge                                               -6.793787     \n",
       "\n",
       "                              ns(timepoint, knots=(28.5, 51, 73.5))4:dis_protocol  \n",
       "adenohypophysis                                                       -0.378103    \n",
       "adrenal gland                                                         -4.155990    \n",
       "annular ligament (doublets?)                                          -0.504264    \n",
       "anterior eye                                                          -1.799894    \n",
       "apical ectodermal ridge                                               -1.370673    "
      ]
     },
     "execution_count": 6,
     "metadata": {},
     "output_type": "execute_result"
    }
   ],
   "source": [
    "# load full counts dataset\n",
    "hooke_counts_long = pd.read_csv(model_path + \"abundance_estimates.csv\", index_col=0)\n",
    "cols = list(hooke_counts_long.columns)\n",
    "cell_ind = cols.index(\"cell_group\")\n",
    "cov_cols = cols[:cell_ind]\n",
    "hooke_counts_df = hooke_counts_long.pivot(index=cov_cols,\n",
    "                                           columns=[\"cell_group\"], values = [\"log_abund\"])\n",
    "hooke_counts_df.columns = ['_'.join(map(str, col)).strip('_') for col in hooke_counts_df.columns.values]\n",
    "hooke_counts_df.reset_index(inplace=True)\n",
    "new_cols = [col.replace(\"log_abund_\", \"\") for col in hooke_counts_df.columns.values]\n",
    "hooke_counts_df.columns = new_cols\n",
    "sort_cols = new_cols[:cell_ind] + sorted(new_cols[cell_ind:], key=str.lower)\n",
    "hooke_counts_df = hooke_counts_df.loc[:, sort_cols]\n",
    "\n",
    "# make stripped-down metadata df\n",
    "meta_df = hooke_counts_df[cov_cols].copy()\n",
    "meta_df.loc[:, \"dummy_response\"] = 0\n",
    "\n",
    "# model formula\n",
    "with open(model_path + \"model_string.txt\", \"r\") as file:\n",
    "    formula_str = file.read()\n",
    "formula_str = \"dummy_response \" + formula_str \n",
    "formula_str = formula_str.replace(\"ns(\", \"cr(\")\n",
    "formula_str = formula_str.replace(\"c(\", \"(\")\n",
    "formula_str = formula_str.replace(\"\\n\", \"\")\n",
    "\n",
    "# load hooke predictions (for comparison purposes)\n",
    "latent_df = pd.read_csv(model_path + \"latents.csv\", index_col=0)\n",
    "time_splines = pd.read_csv(model_path + \"time_splines.csv\")\n",
    "\n",
    "# load hooke model files\n",
    "# b_array = pd.read_csv(model_path + \"B.csv\", index_col=0)\n",
    "cov_array = pd.read_csv(model_path + \"COV.csv\", index_col=0)\n",
    "beta_array = pd.read_csv(model_path + \"B.csv\", index_col=0).T\n",
    "\n",
    "# latent_df.head()\n",
    "beta_array = beta_array.rename(columns={\"(Intercept)\":\"Intercept\"})\n",
    "cols_from = beta_array.columns\n",
    "cols_from_clean = [col.replace(\" = c\", \"=\") for col in cols_from]\n",
    "beta_array.columns = cols_from_clean\n",
    "beta_array.head()"
   ]
  },
  {
   "cell_type": "markdown",
   "id": "2342f914-2874-466a-9f28-56083d11985b",
   "metadata": {},
   "source": [
    "### Define helper functions for spline interpolation and covariate matrix generation"
   ]
  },
  {
   "cell_type": "code",
   "execution_count": 7,
   "id": "a56ee4fc-8732-4c66-adae-b212f02ce0bf",
   "metadata": {},
   "outputs": [],
   "source": [
    "from scipy.interpolate import interp1d\n",
    "# Assume the lookup table has columns: \"timepoint\", \"V1\", \"V2\", \"V3\", \"V4\"\n",
    "# (The actual names might differ; adjust as necessary.)\n",
    "\n",
    "# Define a function to interpolate the spline basis for a new time value.\n",
    "def get_spline_basis(new_time_vec, lookup_df):\n",
    "    # Create an empty dictionary to hold the interpolated values.\n",
    "    out_df = pd.DataFrame(new_time_vec, columns=[\"timepoint\"])\n",
    "    \n",
    "    # Loop through each spline column (skip the \"timepoint\" column).\n",
    "    for col in lookup_df.columns[1:]:\n",
    "        # Create an interpolation function for this column.\n",
    "        f_interp = interp1d(lookup_df[\"timepoint\"], lookup_df[col],\n",
    "                            kind='linear', fill_value=\"extrapolate\")\n",
    "        # Evaluate the interpolation at the new time value.\n",
    "        out_df[col] = f_interp(new_time_vec)\n",
    "    return out_df"
   ]
  },
  {
   "cell_type": "code",
   "execution_count": 8,
   "id": "9150e09c-8c86-48c4-86cf-7c357775d349",
   "metadata": {},
   "outputs": [],
   "source": [
    "def get_covariate_df(formula_str, meta_df, time_splines):\n",
    "    meta_df[\"dummy_response\"] = 0\n",
    "    _, X = patsy.dmatrices(formula_str, meta_df, return_type='dataframe')\n",
    "    col_list = list(X.columns)\n",
    "    cols_to_clean = [col.replace(\"[T.\", \"\") for col in col_list]\n",
    "    cols_to_clean = [col.replace(\"]\", \"\") for col in cols_to_clean]\n",
    "    cols_to_clean = [col.replace(\"[\", \"\") for col in cols_to_clean]\n",
    "    cols_to_clean = [col.replace(\"cr\", \"ns\") for col in cols_to_clean]\n",
    "    cols_to_keep = [col for col in cols_to_clean if col in cols_from_clean]\n",
    "    X.columns = cols_to_clean\n",
    "    X = X.loc[:, cols_to_keep]\n",
    "    \n",
    "    # replace spline cols with lookups (can't get patsy to match ns from R)\n",
    "    spline_cols = [col for col in cols_to_keep if \"ns(\" in col]\n",
    "    spline_vals = get_spline_basis(meta_df.loc[:, \"timepoint\"].to_numpy(), time_splines)\n",
    "    if \"inter\" in ccm:\n",
    "        X.loc[:, spline_cols[:4]] = spline_vals.iloc[:, 1:].to_numpy()\n",
    "        X.loc[:, spline_cols[4:]] = np.multiply(spline_vals.iloc[:, 1:].to_numpy(), X.loc[:, \"dis_protocol\"].to_numpy()[:, None])\n",
    "    else:\n",
    "        X.loc[:, spline_cols] = spline_vals.iloc[:, 1:].to_numpy()\n",
    "\n",
    "    return X, spline_vals.iloc[:, 0].to_numpy()"
   ]
  },
  {
   "cell_type": "markdown",
   "id": "f7d14ebe-4fe6-447c-95b0-28c07a4dd356",
   "metadata": {},
   "source": [
    "### Generate WT reference trajectory\n",
    "Assume bead dissociation and remove experiment-specific effects"
   ]
  },
  {
   "cell_type": "code",
   "execution_count": 12,
   "id": "94b0f80e-fd9f-455b-9067-7dcbfcbead66",
   "metadata": {},
   "outputs": [
    {
     "data": {
      "text/html": [
       "<div>\n",
       "<style scoped>\n",
       "    .dataframe tbody tr th:only-of-type {\n",
       "        vertical-align: middle;\n",
       "    }\n",
       "\n",
       "    .dataframe tbody tr th {\n",
       "        vertical-align: top;\n",
       "    }\n",
       "\n",
       "    .dataframe thead th {\n",
       "        text-align: right;\n",
       "    }\n",
       "</style>\n",
       "<table border=\"1\" class=\"dataframe\">\n",
       "  <thead>\n",
       "    <tr style=\"text-align: right;\">\n",
       "      <th></th>\n",
       "      <th>adenohypophysis</th>\n",
       "      <th>adrenal gland</th>\n",
       "      <th>annular ligament (doublets?)</th>\n",
       "      <th>anterior eye</th>\n",
       "      <th>apical ectodermal ridge</th>\n",
       "      <th>basal cell</th>\n",
       "      <th>cardiomyocyte</th>\n",
       "      <th>chondrocranium</th>\n",
       "      <th>connective tissue-meninges-dermal FB, early</th>\n",
       "      <th>connective tissue-meninges-dermal FB, late</th>\n",
       "      <th>...</th>\n",
       "      <th>unknown (myeloid, tox2+, gse1+)</th>\n",
       "      <th>unknown (neural crest, jhy+, prickle1b+, prdm1a+)</th>\n",
       "      <th>unknown (retina, pvalb7+)</th>\n",
       "      <th>unknown (stroma or muscle)</th>\n",
       "      <th>unknown (tenocyte, tnmd+, cdon+)</th>\n",
       "      <th>unknown 1 (pancreas, ins+, gcga+, gcgb+, isl1+, sst1.1+)</th>\n",
       "      <th>unknown pronephros (possibly doublets)</th>\n",
       "      <th>vacuolated, notochord</th>\n",
       "      <th>xanthophore</th>\n",
       "      <th>yolk syncytial layer (rbp4+)</th>\n",
       "    </tr>\n",
       "  </thead>\n",
       "  <tbody>\n",
       "    <tr>\n",
       "      <th>0</th>\n",
       "      <td>-1.839431</td>\n",
       "      <td>-1.948629</td>\n",
       "      <td>-4.729309</td>\n",
       "      <td>0.417205</td>\n",
       "      <td>-1.213203</td>\n",
       "      <td>-0.236943</td>\n",
       "      <td>-0.174554</td>\n",
       "      <td>-1.876779</td>\n",
       "      <td>0.938715</td>\n",
       "      <td>0.490001</td>\n",
       "      <td>...</td>\n",
       "      <td>-1.552107</td>\n",
       "      <td>0.789133</td>\n",
       "      <td>-4.152301</td>\n",
       "      <td>-1.112081</td>\n",
       "      <td>-3.650823</td>\n",
       "      <td>-3.154140</td>\n",
       "      <td>-3.809526</td>\n",
       "      <td>-1.238452</td>\n",
       "      <td>-0.845334</td>\n",
       "      <td>-0.171750</td>\n",
       "    </tr>\n",
       "    <tr>\n",
       "      <th>1</th>\n",
       "      <td>-1.754381</td>\n",
       "      <td>-1.965108</td>\n",
       "      <td>-5.039586</td>\n",
       "      <td>0.486522</td>\n",
       "      <td>-1.236979</td>\n",
       "      <td>-0.272975</td>\n",
       "      <td>-0.093238</td>\n",
       "      <td>-2.045763</td>\n",
       "      <td>1.065269</td>\n",
       "      <td>0.494845</td>\n",
       "      <td>...</td>\n",
       "      <td>-1.586209</td>\n",
       "      <td>0.689993</td>\n",
       "      <td>-4.380265</td>\n",
       "      <td>-1.110891</td>\n",
       "      <td>-3.802967</td>\n",
       "      <td>-3.414560</td>\n",
       "      <td>-3.821288</td>\n",
       "      <td>-1.175355</td>\n",
       "      <td>-0.746362</td>\n",
       "      <td>-0.044202</td>\n",
       "    </tr>\n",
       "    <tr>\n",
       "      <th>2</th>\n",
       "      <td>-1.670516</td>\n",
       "      <td>-1.981828</td>\n",
       "      <td>-5.343953</td>\n",
       "      <td>0.555416</td>\n",
       "      <td>-1.259233</td>\n",
       "      <td>-0.307469</td>\n",
       "      <td>-0.013173</td>\n",
       "      <td>-2.211061</td>\n",
       "      <td>1.187645</td>\n",
       "      <td>0.500684</td>\n",
       "      <td>...</td>\n",
       "      <td>-1.619535</td>\n",
       "      <td>0.592117</td>\n",
       "      <td>-4.604286</td>\n",
       "      <td>-1.108810</td>\n",
       "      <td>-3.951408</td>\n",
       "      <td>-3.673039</td>\n",
       "      <td>-3.832422</td>\n",
       "      <td>-1.113111</td>\n",
       "      <td>-0.648507</td>\n",
       "      <td>0.079319</td>\n",
       "    </tr>\n",
       "    <tr>\n",
       "      <th>3</th>\n",
       "      <td>-1.587949</td>\n",
       "      <td>-1.998813</td>\n",
       "      <td>-5.641851</td>\n",
       "      <td>0.623848</td>\n",
       "      <td>-1.279822</td>\n",
       "      <td>-0.340278</td>\n",
       "      <td>0.065522</td>\n",
       "      <td>-2.372324</td>\n",
       "      <td>1.305446</td>\n",
       "      <td>0.507612</td>\n",
       "      <td>...</td>\n",
       "      <td>-1.652012</td>\n",
       "      <td>0.495623</td>\n",
       "      <td>-4.823991</td>\n",
       "      <td>-1.105755</td>\n",
       "      <td>-4.095794</td>\n",
       "      <td>-3.929396</td>\n",
       "      <td>-3.842869</td>\n",
       "      <td>-1.051800</td>\n",
       "      <td>-0.551875</td>\n",
       "      <td>0.198432</td>\n",
       "    </tr>\n",
       "    <tr>\n",
       "      <th>4</th>\n",
       "      <td>-1.506792</td>\n",
       "      <td>-2.016086</td>\n",
       "      <td>-5.932722</td>\n",
       "      <td>0.691777</td>\n",
       "      <td>-1.298602</td>\n",
       "      <td>-0.371258</td>\n",
       "      <td>0.142729</td>\n",
       "      <td>-2.529203</td>\n",
       "      <td>1.418278</td>\n",
       "      <td>0.515723</td>\n",
       "      <td>...</td>\n",
       "      <td>-1.683566</td>\n",
       "      <td>0.400633</td>\n",
       "      <td>-5.039007</td>\n",
       "      <td>-1.101641</td>\n",
       "      <td>-4.235776</td>\n",
       "      <td>-4.183446</td>\n",
       "      <td>-3.852568</td>\n",
       "      <td>-0.991501</td>\n",
       "      <td>-0.456571</td>\n",
       "      <td>0.312756</td>\n",
       "    </tr>\n",
       "  </tbody>\n",
       "</table>\n",
       "<p>5 rows × 189 columns</p>\n",
       "</div>"
      ],
      "text/plain": [
       "   adenohypophysis  adrenal gland  annular ligament (doublets?)  anterior eye  \\\n",
       "0        -1.839431      -1.948629                     -4.729309      0.417205   \n",
       "1        -1.754381      -1.965108                     -5.039586      0.486522   \n",
       "2        -1.670516      -1.981828                     -5.343953      0.555416   \n",
       "3        -1.587949      -1.998813                     -5.641851      0.623848   \n",
       "4        -1.506792      -2.016086                     -5.932722      0.691777   \n",
       "\n",
       "   apical ectodermal ridge  basal cell  cardiomyocyte  chondrocranium  \\\n",
       "0                -1.213203   -0.236943      -0.174554       -1.876779   \n",
       "1                -1.236979   -0.272975      -0.093238       -2.045763   \n",
       "2                -1.259233   -0.307469      -0.013173       -2.211061   \n",
       "3                -1.279822   -0.340278       0.065522       -2.372324   \n",
       "4                -1.298602   -0.371258       0.142729       -2.529203   \n",
       "\n",
       "   connective tissue-meninges-dermal FB, early  \\\n",
       "0                                     0.938715   \n",
       "1                                     1.065269   \n",
       "2                                     1.187645   \n",
       "3                                     1.305446   \n",
       "4                                     1.418278   \n",
       "\n",
       "   connective tissue-meninges-dermal FB, late  ...  \\\n",
       "0                                    0.490001  ...   \n",
       "1                                    0.494845  ...   \n",
       "2                                    0.500684  ...   \n",
       "3                                    0.507612  ...   \n",
       "4                                    0.515723  ...   \n",
       "\n",
       "   unknown (myeloid, tox2+, gse1+)  \\\n",
       "0                        -1.552107   \n",
       "1                        -1.586209   \n",
       "2                        -1.619535   \n",
       "3                        -1.652012   \n",
       "4                        -1.683566   \n",
       "\n",
       "   unknown (neural crest, jhy+, prickle1b+, prdm1a+)  \\\n",
       "0                                           0.789133   \n",
       "1                                           0.689993   \n",
       "2                                           0.592117   \n",
       "3                                           0.495623   \n",
       "4                                           0.400633   \n",
       "\n",
       "   unknown (retina, pvalb7+)  unknown (stroma or muscle)  \\\n",
       "0                  -4.152301                   -1.112081   \n",
       "1                  -4.380265                   -1.110891   \n",
       "2                  -4.604286                   -1.108810   \n",
       "3                  -4.823991                   -1.105755   \n",
       "4                  -5.039007                   -1.101641   \n",
       "\n",
       "   unknown (tenocyte, tnmd+, cdon+)  \\\n",
       "0                         -3.650823   \n",
       "1                         -3.802967   \n",
       "2                         -3.951408   \n",
       "3                         -4.095794   \n",
       "4                         -4.235776   \n",
       "\n",
       "   unknown 1 (pancreas, ins+, gcga+, gcgb+, isl1+, sst1.1+)  \\\n",
       "0                                          -3.154140          \n",
       "1                                          -3.414560          \n",
       "2                                          -3.673039          \n",
       "3                                          -3.929396          \n",
       "4                                          -4.183446          \n",
       "\n",
       "   unknown pronephros (possibly doublets)  vacuolated, notochord  xanthophore  \\\n",
       "0                               -3.809526              -1.238452    -0.845334   \n",
       "1                               -3.821288              -1.175355    -0.746362   \n",
       "2                               -3.832422              -1.113111    -0.648507   \n",
       "3                               -3.842869              -1.051800    -0.551875   \n",
       "4                               -3.852568              -0.991501    -0.456571   \n",
       "\n",
       "   yolk syncytial layer (rbp4+)  \n",
       "0                     -0.171750  \n",
       "1                     -0.044202  \n",
       "2                      0.079319  \n",
       "3                      0.198432  \n",
       "4                      0.312756  \n",
       "\n",
       "[5 rows x 189 columns]"
      ]
     },
     "execution_count": 12,
     "metadata": {},
     "output_type": "execute_result"
    }
   ],
   "source": [
    "import itertools\n",
    "\n",
    "# set parameters\n",
    "dis_val = 2 # bead method\n",
    "expt_val = 0 # remove experiment-specific offsets\n",
    "\n",
    "nt = 100 # number of timepoints to calculate latent predictions\n",
    "dis_protocol_vals = np.unique(meta_df[\"dis_protocol\"]).tolist()\n",
    "expt_vals = np.unique(meta_df[\"expt\"]).tolist()\n",
    "time_vals = np.linspace(12, 74, nt).tolist()\n",
    "\n",
    "query_df = pd.DataFrame(itertools.product(time_vals, dis_protocol_vals, expt_vals), columns=[\"timepoint\", \"dis_protocol\", \"expt\"])\n",
    "\n",
    "# get covariate matrix\n",
    "X_ref, t_vec = get_covariate_df(formula_str, query_df, time_splines)\n",
    "expt_cols = [col for col in X_ref.columns if \"expt\" in col]\n",
    "ref_filter = (X_ref.loc[:, \"dis_protocol\"]==dis_val) & (np.all(X_ref.loc[:, expt_cols].to_numpy()==0, axis=1))\n",
    "# null_expt_filter = np.all(X_ref.loc[:, expt_cols].to_numpy()==0, axis=1)\n",
    "# null_expt_filter = X_ref.loc[:, \"dis_protocol\"]==2\n",
    "\n",
    "# expt_array = np.c_[np.zeros((X_ref.shape[0], 1)), X_ref.loc[:, expt_cols].to_numpy()]\n",
    "# expt_vec = np.argmax(expt_array, axis=1)\n",
    "# expt_names = [\"baseline (bead)\"] + [col.replace(\"expt\", \"\") for col in expt_cols]\n",
    "\n",
    "X_ref = X_ref.loc[ref_filter, :].reset_index(drop=True)\n",
    "t_vec = t_vec[ref_filter]\n",
    "\n",
    "# get log abundance predictions\n",
    "wt_ref_pd = np.matmul(X_ref, beta_array.T)\n",
    "wt_ref_pd.head()"
   ]
  },
  {
   "cell_type": "code",
   "execution_count": 13,
   "id": "4a450a03-0d55-4218-bc4d-32c9d6174ae0",
   "metadata": {},
   "outputs": [
    {
     "data": {
      "text/html": [
       "<div>\n",
       "<style scoped>\n",
       "    .dataframe tbody tr th:only-of-type {\n",
       "        vertical-align: middle;\n",
       "    }\n",
       "\n",
       "    .dataframe tbody tr th {\n",
       "        vertical-align: top;\n",
       "    }\n",
       "\n",
       "    .dataframe thead th {\n",
       "        text-align: right;\n",
       "    }\n",
       "</style>\n",
       "<table border=\"1\" class=\"dataframe\">\n",
       "  <thead>\n",
       "    <tr style=\"text-align: right;\">\n",
       "      <th></th>\n",
       "      <th>Intercept</th>\n",
       "      <th>ns(timepoint, knots=(28.5, 51, 73.5))1</th>\n",
       "      <th>ns(timepoint, knots=(28.5, 51, 73.5))2</th>\n",
       "      <th>ns(timepoint, knots=(28.5, 51, 73.5))3</th>\n",
       "      <th>ns(timepoint, knots=(28.5, 51, 73.5))4</th>\n",
       "      <th>dis_protocol</th>\n",
       "      <th>exptCHEM2</th>\n",
       "      <th>exptCHEM3</th>\n",
       "      <th>exptCHEM5</th>\n",
       "      <th>exptGAP13</th>\n",
       "      <th>exptGAP14</th>\n",
       "      <th>exptGAP16</th>\n",
       "      <th>exptGAP18</th>\n",
       "      <th>exptHF4</th>\n",
       "      <th>expthotfish2</th>\n",
       "      <th>exptREF1</th>\n",
       "      <th>ns(timepoint, knots=(28.5, 51, 73.5))1:dis_protocol</th>\n",
       "      <th>ns(timepoint, knots=(28.5, 51, 73.5))2:dis_protocol</th>\n",
       "      <th>ns(timepoint, knots=(28.5, 51, 73.5))3:dis_protocol</th>\n",
       "      <th>ns(timepoint, knots=(28.5, 51, 73.5))4:dis_protocol</th>\n",
       "    </tr>\n",
       "  </thead>\n",
       "  <tbody>\n",
       "    <tr>\n",
       "      <th>adenohypophysis</th>\n",
       "      <td>-0.496078</td>\n",
       "      <td>0.841948</td>\n",
       "      <td>1.107938</td>\n",
       "      <td>-1.555601</td>\n",
       "      <td>1.630829</td>\n",
       "      <td>-1.098184</td>\n",
       "      <td>0.136667</td>\n",
       "      <td>-0.485007</td>\n",
       "      <td>-1.407277</td>\n",
       "      <td>-1.365259</td>\n",
       "      <td>-0.578510</td>\n",
       "      <td>-0.258444</td>\n",
       "      <td>-0.148815</td>\n",
       "      <td>-0.794681</td>\n",
       "      <td>-1.147725</td>\n",
       "      <td>-0.434220</td>\n",
       "      <td>0.240736</td>\n",
       "      <td>0.482198</td>\n",
       "      <td>3.557939</td>\n",
       "      <td>-0.378103</td>\n",
       "    </tr>\n",
       "    <tr>\n",
       "      <th>adrenal gland</th>\n",
       "      <td>-1.814042</td>\n",
       "      <td>2.015353</td>\n",
       "      <td>4.894048</td>\n",
       "      <td>-0.575699</td>\n",
       "      <td>4.161103</td>\n",
       "      <td>0.007751</td>\n",
       "      <td>-0.250772</td>\n",
       "      <td>-1.042806</td>\n",
       "      <td>-3.849458</td>\n",
       "      <td>-0.262136</td>\n",
       "      <td>0.052147</td>\n",
       "      <td>0.027810</td>\n",
       "      <td>0.898090</td>\n",
       "      <td>-1.480764</td>\n",
       "      <td>0.320295</td>\n",
       "      <td>1.055328</td>\n",
       "      <td>-2.087997</td>\n",
       "      <td>-4.970865</td>\n",
       "      <td>-2.298769</td>\n",
       "      <td>-4.155990</td>\n",
       "    </tr>\n",
       "    <tr>\n",
       "      <th>annular ligament (doublets?)</th>\n",
       "      <td>1.153327</td>\n",
       "      <td>2.114316</td>\n",
       "      <td>3.745463</td>\n",
       "      <td>-1.731080</td>\n",
       "      <td>7.151964</td>\n",
       "      <td>-1.359858</td>\n",
       "      <td>0.144598</td>\n",
       "      <td>-0.528973</td>\n",
       "      <td>-3.951906</td>\n",
       "      <td>-5.273558</td>\n",
       "      <td>-5.568966</td>\n",
       "      <td>0.118168</td>\n",
       "      <td>1.636440</td>\n",
       "      <td>-3.787234</td>\n",
       "      <td>-1.020568</td>\n",
       "      <td>-8.895006</td>\n",
       "      <td>-0.273235</td>\n",
       "      <td>-1.655863</td>\n",
       "      <td>-5.012906</td>\n",
       "      <td>-0.504264</td>\n",
       "    </tr>\n",
       "    <tr>\n",
       "      <th>anterior eye</th>\n",
       "      <td>-2.964543</td>\n",
       "      <td>2.812734</td>\n",
       "      <td>3.169770</td>\n",
       "      <td>7.170701</td>\n",
       "      <td>3.787265</td>\n",
       "      <td>1.352020</td>\n",
       "      <td>-0.224479</td>\n",
       "      <td>-0.540434</td>\n",
       "      <td>-0.942577</td>\n",
       "      <td>-1.232248</td>\n",
       "      <td>-0.745440</td>\n",
       "      <td>-0.625006</td>\n",
       "      <td>0.213320</td>\n",
       "      <td>-0.026404</td>\n",
       "      <td>-1.391667</td>\n",
       "      <td>-2.149864</td>\n",
       "      <td>0.230724</td>\n",
       "      <td>-1.347048</td>\n",
       "      <td>-1.758573</td>\n",
       "      <td>-1.799894</td>\n",
       "    </tr>\n",
       "    <tr>\n",
       "      <th>apical ectodermal ridge</th>\n",
       "      <td>-3.327873</td>\n",
       "      <td>7.792945</td>\n",
       "      <td>6.046793</td>\n",
       "      <td>14.458558</td>\n",
       "      <td>5.435542</td>\n",
       "      <td>1.195726</td>\n",
       "      <td>-0.095148</td>\n",
       "      <td>-0.481309</td>\n",
       "      <td>-0.110157</td>\n",
       "      <td>-1.238860</td>\n",
       "      <td>-0.331090</td>\n",
       "      <td>-0.493474</td>\n",
       "      <td>-0.168954</td>\n",
       "      <td>-0.285752</td>\n",
       "      <td>0.564575</td>\n",
       "      <td>-0.370616</td>\n",
       "      <td>-1.678648</td>\n",
       "      <td>-2.208385</td>\n",
       "      <td>-6.793787</td>\n",
       "      <td>-1.370673</td>\n",
       "    </tr>\n",
       "  </tbody>\n",
       "</table>\n",
       "</div>"
      ],
      "text/plain": [
       "                              Intercept  \\\n",
       "adenohypophysis               -0.496078   \n",
       "adrenal gland                 -1.814042   \n",
       "annular ligament (doublets?)   1.153327   \n",
       "anterior eye                  -2.964543   \n",
       "apical ectodermal ridge       -3.327873   \n",
       "\n",
       "                              ns(timepoint, knots=(28.5, 51, 73.5))1  \\\n",
       "adenohypophysis                                             0.841948   \n",
       "adrenal gland                                               2.015353   \n",
       "annular ligament (doublets?)                                2.114316   \n",
       "anterior eye                                                2.812734   \n",
       "apical ectodermal ridge                                     7.792945   \n",
       "\n",
       "                              ns(timepoint, knots=(28.5, 51, 73.5))2  \\\n",
       "adenohypophysis                                             1.107938   \n",
       "adrenal gland                                               4.894048   \n",
       "annular ligament (doublets?)                                3.745463   \n",
       "anterior eye                                                3.169770   \n",
       "apical ectodermal ridge                                     6.046793   \n",
       "\n",
       "                              ns(timepoint, knots=(28.5, 51, 73.5))3  \\\n",
       "adenohypophysis                                            -1.555601   \n",
       "adrenal gland                                              -0.575699   \n",
       "annular ligament (doublets?)                               -1.731080   \n",
       "anterior eye                                                7.170701   \n",
       "apical ectodermal ridge                                    14.458558   \n",
       "\n",
       "                              ns(timepoint, knots=(28.5, 51, 73.5))4  \\\n",
       "adenohypophysis                                             1.630829   \n",
       "adrenal gland                                               4.161103   \n",
       "annular ligament (doublets?)                                7.151964   \n",
       "anterior eye                                                3.787265   \n",
       "apical ectodermal ridge                                     5.435542   \n",
       "\n",
       "                              dis_protocol  exptCHEM2  exptCHEM3  exptCHEM5  \\\n",
       "adenohypophysis                  -1.098184   0.136667  -0.485007  -1.407277   \n",
       "adrenal gland                     0.007751  -0.250772  -1.042806  -3.849458   \n",
       "annular ligament (doublets?)     -1.359858   0.144598  -0.528973  -3.951906   \n",
       "anterior eye                      1.352020  -0.224479  -0.540434  -0.942577   \n",
       "apical ectodermal ridge           1.195726  -0.095148  -0.481309  -0.110157   \n",
       "\n",
       "                              exptGAP13  exptGAP14  exptGAP16  exptGAP18  \\\n",
       "adenohypophysis               -1.365259  -0.578510  -0.258444  -0.148815   \n",
       "adrenal gland                 -0.262136   0.052147   0.027810   0.898090   \n",
       "annular ligament (doublets?)  -5.273558  -5.568966   0.118168   1.636440   \n",
       "anterior eye                  -1.232248  -0.745440  -0.625006   0.213320   \n",
       "apical ectodermal ridge       -1.238860  -0.331090  -0.493474  -0.168954   \n",
       "\n",
       "                               exptHF4  expthotfish2  exptREF1  \\\n",
       "adenohypophysis              -0.794681     -1.147725 -0.434220   \n",
       "adrenal gland                -1.480764      0.320295  1.055328   \n",
       "annular ligament (doublets?) -3.787234     -1.020568 -8.895006   \n",
       "anterior eye                 -0.026404     -1.391667 -2.149864   \n",
       "apical ectodermal ridge      -0.285752      0.564575 -0.370616   \n",
       "\n",
       "                              ns(timepoint, knots=(28.5, 51, 73.5))1:dis_protocol  \\\n",
       "adenohypophysis                                                        0.240736     \n",
       "adrenal gland                                                         -2.087997     \n",
       "annular ligament (doublets?)                                          -0.273235     \n",
       "anterior eye                                                           0.230724     \n",
       "apical ectodermal ridge                                               -1.678648     \n",
       "\n",
       "                              ns(timepoint, knots=(28.5, 51, 73.5))2:dis_protocol  \\\n",
       "adenohypophysis                                                        0.482198     \n",
       "adrenal gland                                                         -4.970865     \n",
       "annular ligament (doublets?)                                          -1.655863     \n",
       "anterior eye                                                          -1.347048     \n",
       "apical ectodermal ridge                                               -2.208385     \n",
       "\n",
       "                              ns(timepoint, knots=(28.5, 51, 73.5))3:dis_protocol  \\\n",
       "adenohypophysis                                                        3.557939     \n",
       "adrenal gland                                                         -2.298769     \n",
       "annular ligament (doublets?)                                          -5.012906     \n",
       "anterior eye                                                          -1.758573     \n",
       "apical ectodermal ridge                                               -6.793787     \n",
       "\n",
       "                              ns(timepoint, knots=(28.5, 51, 73.5))4:dis_protocol  \n",
       "adenohypophysis                                                       -0.378103    \n",
       "adrenal gland                                                         -4.155990    \n",
       "annular ligament (doublets?)                                          -0.504264    \n",
       "anterior eye                                                          -1.799894    \n",
       "apical ectodermal ridge                                               -1.370673    "
      ]
     },
     "execution_count": 13,
     "metadata": {},
     "output_type": "execute_result"
    }
   ],
   "source": [
    "beta_array.head()"
   ]
  },
  {
   "cell_type": "markdown",
   "id": "dd25cac1-9fba-4074-9ee3-d5d128f60798",
   "metadata": {},
   "source": [
    "### Step 1: can we assign accurate pseudotime values to reference WT embryos?"
   ]
  },
  {
   "cell_type": "code",
   "execution_count": 19,
   "id": "71062c58-8fd6-4032-95e3-b50b9116089d",
   "metadata": {},
   "outputs": [
    {
     "data": {
      "text/plain": [
       "['Intercept',\n",
       " 'ns(timepoint, knots=(28.5, 51, 73.5))1',\n",
       " 'ns(timepoint, knots=(28.5, 51, 73.5))2',\n",
       " 'ns(timepoint, knots=(28.5, 51, 73.5))3',\n",
       " 'ns(timepoint, knots=(28.5, 51, 73.5))4',\n",
       " 'dis_protocol',\n",
       " 'exptCHEM2',\n",
       " 'exptCHEM3',\n",
       " 'exptCHEM5',\n",
       " 'exptGAP13',\n",
       " 'exptGAP14',\n",
       " 'exptGAP16',\n",
       " 'exptGAP18',\n",
       " 'exptHF4',\n",
       " 'expthotfish2',\n",
       " 'exptREF1',\n",
       " 'ns(timepoint, knots=(28.5, 51, 73.5))1:dis_protocol',\n",
       " 'ns(timepoint, knots=(28.5, 51, 73.5))2:dis_protocol',\n",
       " 'ns(timepoint, knots=(28.5, 51, 73.5))3:dis_protocol',\n",
       " 'ns(timepoint, knots=(28.5, 51, 73.5))4:dis_protocol']"
      ]
     },
     "execution_count": 19,
     "metadata": {},
     "output_type": "execute_result"
    }
   ],
   "source": [
    "beta_array.columns.tolist()"
   ]
  },
  {
   "cell_type": "code",
   "execution_count": 20,
   "id": "3d9fd01e-3b5c-4e77-9907-729de055d668",
   "metadata": {},
   "outputs": [],
   "source": [
    "# # stripped-down function to generate covariate table\n",
    "# cov_col_list = ['Intercept', 'exptCHEM2', 'exptCHEM3', 'exptCHEM5', 'exptGAP13',\n",
    "#        'exptGAP14', 'exptGAP16', 'exptGAP18', 'exptHF4', 'exptREF1',\n",
    "#        'exptREF2', 'expthotfish2',\n",
    "#        'ns(timepoint, knots=(26.25, 49.5, 72.75))1',\n",
    "#        'ns(timepoint, knots=(26.25, 49.5, 72.75))2',\n",
    "#        'ns(timepoint, knots=(26.25, 49.5, 72.75))3',\n",
    "#        'ns(timepoint, knots=(26.25, 49.5, 72.75))4', 'dis_protocol',\n",
    "#        'ns(timepoint, knots=(26.25, 49.5, 72.75))1:dis_protocol',\n",
    "#        'ns(timepoint, knots=(26.25, 49.5, 72.75))2:dis_protocol',\n",
    "#        'ns(timepoint, knots=(26.25, 49.5, 72.75))3:dis_protocol',\n",
    "#        'ns(timepoint, knots=(26.25, 49.5, 72.75))4:dis_protocol']\n",
    "\n",
    "cov_col_list = beta_array.columns.tolist()\n",
    "\n",
    "spline_cols = [col for col in cov_col_list if \"ns(\" in col]\n",
    "\n",
    "def construct_X(timepoint, dis, expt, t_splines=time_splines, spline_cols=spline_cols):\n",
    "    X = pd.DataFrame(np.zeros((1, len(cov_col_list))), columns=cov_col_list)\n",
    "    X[\"Intercept\"] = 1.0\n",
    "    X[\"dis_protocol\"] = dis\n",
    "    expt_i = [i for i in range(len(cov_col_list)) if expt in cov_col_list[i]][0]\n",
    "    X[cov_col_list[expt_i]] = 1.0\n",
    "    \n",
    "    spline_vals = get_spline_basis(np.asarray([timepoint]), time_splines)\n",
    "    \n",
    "    X.loc[:, spline_cols[:4]] = spline_vals.iloc[:, 1:].to_numpy()\n",
    "    X.loc[:, spline_cols[4:]] = np.multiply(spline_vals.iloc[:, 1:].to_numpy(), X.loc[:, \"dis_protocol\"].to_numpy()[:, None])\n",
    "\n",
    "    return X\n",
    "\n",
    "def update_X(X, timepoint, spline_cols=spline_cols):\n",
    "    spline_vals = get_spline_basis(np.asarray([timepoint]), time_splines)\n",
    "    \n",
    "    X.loc[:, spline_cols[:4]] = spline_vals.iloc[:, 1:].to_numpy()\n",
    "    X.loc[:, spline_cols[4:]] = np.multiply(spline_vals.iloc[:, 1:].to_numpy(), X.loc[:, \"dis_protocol\"].to_numpy()[:, None])\n",
    "\n",
    "    return X"
   ]
  },
  {
   "cell_type": "code",
   "execution_count": 21,
   "id": "0f8386f4-e39e-465b-b76a-dd17cc44349b",
   "metadata": {},
   "outputs": [],
   "source": [
    "from scipy.special import factorial\n",
    "from scipy.stats import poisson\n",
    "from scipy.optimize import minimize\n",
    "\n",
    "# define key helper functions\n",
    "def calc_zi(log_lambda, theta_array, X):\n",
    "    Zi = log_lambda - np.matmul(X, theta_array.T)\n",
    "    return Zi.to_numpy()[0]\n",
    "\n",
    "def calc_logL_gauss(PHI, Zi): # note that the leaves out the normalization factor. If this is slow, consider simplifying for diagonal Cov\n",
    "    logL = -0.5 * (Zi[None, :] @ PHI @ Zi[:, None])\n",
    "    return logL[0][0]\n",
    "\n",
    "def calc_logL_poiss(raw_counts, log_lambda):\n",
    "    # logL = np.sum(np.multiply(raw_counts, log_lambda) - np.exp(log_lambda) - factorial(raw_counts))\n",
    "    log_pmf = poisson.logpmf(raw_counts, np.exp(log_lambda))\n",
    "    return np.sum(log_pmf)\n"
   ]
  },
  {
   "cell_type": "markdown",
   "id": "92303f6c-a8fc-498a-b257-5ca11e4189b4",
   "metadata": {},
   "source": [
    "### Load in REF1 counts"
   ]
  },
  {
   "cell_type": "code",
   "execution_count": 22,
   "id": "5dd342be-2bda-4590-98d6-b412be407659",
   "metadata": {},
   "outputs": [],
   "source": [
    "ccs_raw = pd.read_csv(os.path.join(ccs_data_path, \"REF1_counts_table.csv\"), index_col=0).T\n",
    "ccs_meta = pd.read_csv(os.path.join(ccs_data_path, \"REF1_metadata.csv\"), index_col=0)\n",
    "\n",
    "# augment ccs table to incorporate missing cell types\n",
    "mdl_cell_types = wt_ref_pd.columns\n",
    "ccs = ccs_raw.reindex(columns=mdl_cell_types, fill_value=0)\n",
    "\n",
    "####\n",
    "# experiment parameters\n",
    "####\n",
    "expt = \"REF1\"\n",
    "dis = 2 # bead\n",
    "t_sigma = 10\n",
    "\n",
    "####\n",
    "# model parameters\n",
    "####\n",
    "# inverse cov matrix\n",
    "PHI = np.linalg.inv(cov_array)\n",
    "COV = cov_array.to_numpy()\n",
    "# covariates\n",
    "X0 = construct_X(20, dis, expt) \n",
    "# regression vars\n",
    "THETA = beta_array.copy()"
   ]
  },
  {
   "cell_type": "code",
   "execution_count": 23,
   "id": "85ef9aae-a1cb-4771-830b-86438ebfa7fb",
   "metadata": {},
   "outputs": [
    {
     "data": {
      "text/html": [
       "<div>\n",
       "<style scoped>\n",
       "    .dataframe tbody tr th:only-of-type {\n",
       "        vertical-align: middle;\n",
       "    }\n",
       "\n",
       "    .dataframe tbody tr th {\n",
       "        vertical-align: top;\n",
       "    }\n",
       "\n",
       "    .dataframe thead th {\n",
       "        text-align: right;\n",
       "    }\n",
       "</style>\n",
       "<table border=\"1\" class=\"dataframe\">\n",
       "  <thead>\n",
       "    <tr style=\"text-align: right;\">\n",
       "      <th></th>\n",
       "      <th>Intercept</th>\n",
       "      <th>ns(timepoint, knots=(28.5, 51, 73.5))1</th>\n",
       "      <th>ns(timepoint, knots=(28.5, 51, 73.5))2</th>\n",
       "      <th>ns(timepoint, knots=(28.5, 51, 73.5))3</th>\n",
       "      <th>ns(timepoint, knots=(28.5, 51, 73.5))4</th>\n",
       "      <th>dis_protocol</th>\n",
       "      <th>exptCHEM2</th>\n",
       "      <th>exptCHEM3</th>\n",
       "      <th>exptCHEM5</th>\n",
       "      <th>exptGAP13</th>\n",
       "      <th>exptGAP14</th>\n",
       "      <th>exptGAP16</th>\n",
       "      <th>exptGAP18</th>\n",
       "      <th>exptHF4</th>\n",
       "      <th>expthotfish2</th>\n",
       "      <th>exptREF1</th>\n",
       "      <th>ns(timepoint, knots=(28.5, 51, 73.5))1:dis_protocol</th>\n",
       "      <th>ns(timepoint, knots=(28.5, 51, 73.5))2:dis_protocol</th>\n",
       "      <th>ns(timepoint, knots=(28.5, 51, 73.5))3:dis_protocol</th>\n",
       "      <th>ns(timepoint, knots=(28.5, 51, 73.5))4:dis_protocol</th>\n",
       "    </tr>\n",
       "  </thead>\n",
       "  <tbody>\n",
       "    <tr>\n",
       "      <th>0</th>\n",
       "      <td>1.0</td>\n",
       "      <td>0.040151</td>\n",
       "      <td>-0.137402</td>\n",
       "      <td>0.412205</td>\n",
       "      <td>-0.274804</td>\n",
       "      <td>2</td>\n",
       "      <td>0.0</td>\n",
       "      <td>0.0</td>\n",
       "      <td>0.0</td>\n",
       "      <td>0.0</td>\n",
       "      <td>0.0</td>\n",
       "      <td>0.0</td>\n",
       "      <td>0.0</td>\n",
       "      <td>0.0</td>\n",
       "      <td>0.0</td>\n",
       "      <td>1.0</td>\n",
       "      <td>0.080302</td>\n",
       "      <td>-0.274804</td>\n",
       "      <td>0.824411</td>\n",
       "      <td>-0.549607</td>\n",
       "    </tr>\n",
       "  </tbody>\n",
       "</table>\n",
       "</div>"
      ],
      "text/plain": [
       "   Intercept  ns(timepoint, knots=(28.5, 51, 73.5))1  \\\n",
       "0        1.0                                0.040151   \n",
       "\n",
       "   ns(timepoint, knots=(28.5, 51, 73.5))2  \\\n",
       "0                               -0.137402   \n",
       "\n",
       "   ns(timepoint, knots=(28.5, 51, 73.5))3  \\\n",
       "0                                0.412205   \n",
       "\n",
       "   ns(timepoint, knots=(28.5, 51, 73.5))4  dis_protocol  exptCHEM2  exptCHEM3  \\\n",
       "0                               -0.274804             2        0.0        0.0   \n",
       "\n",
       "   exptCHEM5  exptGAP13  exptGAP14  exptGAP16  exptGAP18  exptHF4  \\\n",
       "0        0.0        0.0        0.0        0.0        0.0      0.0   \n",
       "\n",
       "   expthotfish2  exptREF1  \\\n",
       "0           0.0       1.0   \n",
       "\n",
       "   ns(timepoint, knots=(28.5, 51, 73.5))1:dis_protocol  \\\n",
       "0                                           0.080302     \n",
       "\n",
       "   ns(timepoint, knots=(28.5, 51, 73.5))2:dis_protocol  \\\n",
       "0                                          -0.274804     \n",
       "\n",
       "   ns(timepoint, knots=(28.5, 51, 73.5))3:dis_protocol  \\\n",
       "0                                           0.824411     \n",
       "\n",
       "   ns(timepoint, knots=(28.5, 51, 73.5))4:dis_protocol  \n",
       "0                                          -0.549607    "
      ]
     },
     "execution_count": 23,
     "metadata": {},
     "output_type": "execute_result"
    }
   ],
   "source": [
    "X0.head()"
   ]
  },
  {
   "cell_type": "code",
   "execution_count": 24,
   "id": "df485f00-d3ef-4efa-9c6e-84fc9555640b",
   "metadata": {},
   "outputs": [],
   "source": [
    "def calculate_logL(params, raw_counts, X0=X0, THETA=THETA, PHI=PHI, COV=COV):\n",
    "    # extract params\n",
    "    t = params[0]\n",
    "    Zi = params[1:]\n",
    "    \n",
    "    # generate updated covariate matrix\n",
    "    X = update_X(X0, t)\n",
    "    mu = (X @ THETA.T).to_numpy().ravel()\n",
    "    # L, Zi = calculate_L(X, THETA, COV, raw_counts)\n",
    "    \n",
    "    # calculate Zi and gaussian logL\n",
    "    # Zi = (L - mu)\n",
    "    logL_g = calc_logL_gauss(PHI, Zi)\n",
    "\n",
    "    # caculate Poisson logL \n",
    "    L = Zi + mu\n",
    "    logL_p = calc_logL_poiss(raw_counts, L)\n",
    "\n",
    "    return -(logL_g + logL_p)/len(raw_counts)"
   ]
  },
  {
   "cell_type": "code",
   "execution_count": 25,
   "id": "be5979db-03ef-48b7-8829-6a88e9e66a7c",
   "metadata": {},
   "outputs": [],
   "source": [
    "# embryo_id = embryo_id_vec[-2]\n",
    "# print(ccs_meta.loc[embryo_id, \"timepoint\"])\n",
    "# raw_counts = ccs.loc[embryo_id, :].to_numpy()\n",
    "\n",
    "# p0 = [36] + [0] * len(raw_counts)\n",
    "\n",
    "# result = minimize(calculate_logL_v2, p0 , args=(raw_counts,))\n",
    "# result"
   ]
  },
  {
   "cell_type": "code",
   "execution_count": null,
   "id": "62587562-8538-47a5-a9d1-7f41633ea626",
   "metadata": {},
   "outputs": [
    {
     "name": "stderr",
     "output_type": "stream",
     "text": [
      "  7%|▋         | 1/15 [00:25<05:51, 25.10s/it]"
     ]
    }
   ],
   "source": [
    "from tqdm import tqdm \n",
    "zi0_vec = [0] * COV.shape[0]\n",
    "\n",
    "t_vec = np.linspace(12, 72)\n",
    "n_test = 15\n",
    "np.random.seed(541)\n",
    "embryos_to_test = np.random.choice(np.where((ccs_meta.loc[:, \"timepoint\"] >=12) & (ccs_meta.loc[:, \"timepoint\"] <=72))[0], n_test)\n",
    "embryo_id_vec = np.asarray(ccs.index)[embryos_to_test]\n",
    "\n",
    "# logL_array = np.empty((len(t_vec), len(embryos_to_test)))\n",
    "expt_time_vec = np.empty((len(embryos_to_test),))\n",
    "opt_t_vec = np.empty((len(embryos_to_test),)) \n",
    "se_t_vec = np.empty((len(embryos_to_test),)) \n",
    "opt_Z_array = np.empty((len(zi0_vec), len(embryos_to_test))) \n",
    "se_Z_array = np.empty((len(zi0_vec), len(embryos_to_test))) \n",
    "\n",
    "for e, embryo_id in enumerate(tqdm(embryo_id_vec)):\n",
    "\n",
    "    # embryo_ind = 149\n",
    "    # get raw counts\n",
    "    # embryo_id = list(ccs.index)[embryo_ind]\n",
    "    raw_counts = ccs.loc[embryo_id, :].to_numpy()\n",
    "    expt_time_vec[e] = ccs_meta.loc[embryo_id, \"timepoint\"]\n",
    "\n",
    "    # randomly choose t0 \n",
    "    dt = np.random.normal(loc=0, scale=t_sigma)\n",
    "    t0 = np.min([np.max([expt_time_vec[e] + dt, 12]), 72])\n",
    "    result = minimize(calculate_logL, [t0] + zi0_vec, args=(raw_counts,))\n",
    "    standard_errors = np.sqrt(np.diag(result.hess_inv))\n",
    "    \n",
    "    opt_t_vec[e] = result.x[0]\n",
    "    se_t_vec[e] = standard_errors[0]\n",
    "\n",
    "    opt_Z_array[:, e] = result.x[1:]\n",
    "    se_Z_array[:, e] = standard_errors[1:]\n",
    "    \n",
    "    # for i, t in enumerate(t_vec):\n",
    "    #      logL_array[i, e] = calculate_logL([t], raw_counts)"
   ]
  },
  {
   "cell_type": "code",
   "execution_count": 63,
   "id": "82125ff6-3177-4cef-9969-86f2182a2b87",
   "metadata": {},
   "outputs": [
    {
     "data": {
      "application/vnd.plotly.v1+json": {
       "config": {
        "plotlyServerURL": "https://plot.ly"
       },
       "data": [
        {
         "error_y": {
          "array": [
           0.017768795478411162,
           0.005018629942707632,
           2.527363715845355,
           0.005050469665353813,
           2.1040055054809366,
           0.0023329954345671093,
           1.583656713436374,
           4.99227404789862,
           9.1792391929117,
           9.063636387286056,
           0.005710733343176151,
           9.988504902771162,
           5.9457750125199045,
           0.0047426095409659995,
           0.0033447176601120697,
           9.856329657668182,
           3.329710905029528,
           0.005056116641185905,
           0.0027839082368789204,
           0.005434303603559944,
           10.46670534231878,
           2.030734991863648,
           0.005770942671646219,
           8.124972358843529,
           0.005950419116372472
          ]
         },
         "hovertemplate": "x=%{x}<br>y=%{y}<extra></extra>",
         "legendgroup": "",
         "marker": {
          "color": "#636efa",
          "symbol": "circle"
         },
         "mode": "markers",
         "name": "",
         "orientation": "v",
         "showlegend": false,
         "type": "scatter",
         "x": [
          36,
          18,
          48,
          24,
          48,
          48,
          48,
          36,
          14,
          12,
          14,
          14,
          24,
          14,
          60,
          18,
          60,
          14,
          48,
          18,
          14,
          36,
          36,
          14,
          36
         ],
         "xaxis": "x",
         "y": [
          38.375375362783416,
          22.82882882815867,
          45.181745721629596,
          32.88288287871195,
          48.199977383683,
          49.546546534607295,
          49.23298999168728,
          35.18296775489507,
          16.508252929288354,
          16.1345180691673,
          22.177177165546347,
          19.46350175717467,
          31.894001179265036,
          21.897897884418807,
          54.666666663344735,
          22.7585330648457,
          51.288905641138015,
          22.17717716564077,
          49.081081070745036,
          22.54954953954869,
          21.845878826013315,
          31.725257888743005,
          34.83783782440041,
          12.65682427871097,
          32.51051050752542
         ],
         "yaxis": "y"
        },
        {
         "hovertemplate": "<b>OLS trendline</b><br>y = 0.773013 * x + 8.97195<br>R<sup>2</sup>=0.939180<br><br>x=%{x}<br>y=%{y} <b>(trend)</b><extra></extra>",
         "legendgroup": "",
         "marker": {
          "color": "#636efa",
          "symbol": "circle"
         },
         "mode": "lines",
         "name": "",
         "showlegend": false,
         "type": "scatter",
         "x": [
          12,
          14,
          14,
          14,
          14,
          14,
          14,
          14,
          18,
          18,
          18,
          24,
          24,
          36,
          36,
          36,
          36,
          36,
          48,
          48,
          48,
          48,
          48,
          60,
          60
         ],
         "xaxis": "x",
         "y": [
          18.24811312323132,
          19.79413992779278,
          19.79413992779278,
          19.79413992779278,
          19.79413992779278,
          19.79413992779278,
          19.79413992779278,
          19.79413992779278,
          22.8861935369157,
          22.8861935369157,
          22.8861935369157,
          27.52427395060008,
          27.52427395060008,
          36.80043477796884,
          36.80043477796884,
          36.80043477796884,
          36.80043477796884,
          36.80043477796884,
          46.0765956053376,
          46.0765956053376,
          46.0765956053376,
          46.0765956053376,
          46.0765956053376,
          55.35275643270636,
          55.35275643270636
         ],
         "yaxis": "y"
        }
       ],
       "layout": {
        "height": 600,
        "legend": {
         "tracegroupgap": 0
        },
        "margin": {
         "t": 60
        },
        "template": {
         "data": {
          "bar": [
           {
            "error_x": {
             "color": "#2a3f5f"
            },
            "error_y": {
             "color": "#2a3f5f"
            },
            "marker": {
             "line": {
              "color": "#E5ECF6",
              "width": 0.5
             },
             "pattern": {
              "fillmode": "overlay",
              "size": 10,
              "solidity": 0.2
             }
            },
            "type": "bar"
           }
          ],
          "barpolar": [
           {
            "marker": {
             "line": {
              "color": "#E5ECF6",
              "width": 0.5
             },
             "pattern": {
              "fillmode": "overlay",
              "size": 10,
              "solidity": 0.2
             }
            },
            "type": "barpolar"
           }
          ],
          "carpet": [
           {
            "aaxis": {
             "endlinecolor": "#2a3f5f",
             "gridcolor": "white",
             "linecolor": "white",
             "minorgridcolor": "white",
             "startlinecolor": "#2a3f5f"
            },
            "baxis": {
             "endlinecolor": "#2a3f5f",
             "gridcolor": "white",
             "linecolor": "white",
             "minorgridcolor": "white",
             "startlinecolor": "#2a3f5f"
            },
            "type": "carpet"
           }
          ],
          "choropleth": [
           {
            "colorbar": {
             "outlinewidth": 0,
             "ticks": ""
            },
            "type": "choropleth"
           }
          ],
          "contour": [
           {
            "colorbar": {
             "outlinewidth": 0,
             "ticks": ""
            },
            "colorscale": [
             [
              0,
              "#0d0887"
             ],
             [
              0.1111111111111111,
              "#46039f"
             ],
             [
              0.2222222222222222,
              "#7201a8"
             ],
             [
              0.3333333333333333,
              "#9c179e"
             ],
             [
              0.4444444444444444,
              "#bd3786"
             ],
             [
              0.5555555555555556,
              "#d8576b"
             ],
             [
              0.6666666666666666,
              "#ed7953"
             ],
             [
              0.7777777777777778,
              "#fb9f3a"
             ],
             [
              0.8888888888888888,
              "#fdca26"
             ],
             [
              1,
              "#f0f921"
             ]
            ],
            "type": "contour"
           }
          ],
          "contourcarpet": [
           {
            "colorbar": {
             "outlinewidth": 0,
             "ticks": ""
            },
            "type": "contourcarpet"
           }
          ],
          "heatmap": [
           {
            "colorbar": {
             "outlinewidth": 0,
             "ticks": ""
            },
            "colorscale": [
             [
              0,
              "#0d0887"
             ],
             [
              0.1111111111111111,
              "#46039f"
             ],
             [
              0.2222222222222222,
              "#7201a8"
             ],
             [
              0.3333333333333333,
              "#9c179e"
             ],
             [
              0.4444444444444444,
              "#bd3786"
             ],
             [
              0.5555555555555556,
              "#d8576b"
             ],
             [
              0.6666666666666666,
              "#ed7953"
             ],
             [
              0.7777777777777778,
              "#fb9f3a"
             ],
             [
              0.8888888888888888,
              "#fdca26"
             ],
             [
              1,
              "#f0f921"
             ]
            ],
            "type": "heatmap"
           }
          ],
          "heatmapgl": [
           {
            "colorbar": {
             "outlinewidth": 0,
             "ticks": ""
            },
            "colorscale": [
             [
              0,
              "#0d0887"
             ],
             [
              0.1111111111111111,
              "#46039f"
             ],
             [
              0.2222222222222222,
              "#7201a8"
             ],
             [
              0.3333333333333333,
              "#9c179e"
             ],
             [
              0.4444444444444444,
              "#bd3786"
             ],
             [
              0.5555555555555556,
              "#d8576b"
             ],
             [
              0.6666666666666666,
              "#ed7953"
             ],
             [
              0.7777777777777778,
              "#fb9f3a"
             ],
             [
              0.8888888888888888,
              "#fdca26"
             ],
             [
              1,
              "#f0f921"
             ]
            ],
            "type": "heatmapgl"
           }
          ],
          "histogram": [
           {
            "marker": {
             "pattern": {
              "fillmode": "overlay",
              "size": 10,
              "solidity": 0.2
             }
            },
            "type": "histogram"
           }
          ],
          "histogram2d": [
           {
            "colorbar": {
             "outlinewidth": 0,
             "ticks": ""
            },
            "colorscale": [
             [
              0,
              "#0d0887"
             ],
             [
              0.1111111111111111,
              "#46039f"
             ],
             [
              0.2222222222222222,
              "#7201a8"
             ],
             [
              0.3333333333333333,
              "#9c179e"
             ],
             [
              0.4444444444444444,
              "#bd3786"
             ],
             [
              0.5555555555555556,
              "#d8576b"
             ],
             [
              0.6666666666666666,
              "#ed7953"
             ],
             [
              0.7777777777777778,
              "#fb9f3a"
             ],
             [
              0.8888888888888888,
              "#fdca26"
             ],
             [
              1,
              "#f0f921"
             ]
            ],
            "type": "histogram2d"
           }
          ],
          "histogram2dcontour": [
           {
            "colorbar": {
             "outlinewidth": 0,
             "ticks": ""
            },
            "colorscale": [
             [
              0,
              "#0d0887"
             ],
             [
              0.1111111111111111,
              "#46039f"
             ],
             [
              0.2222222222222222,
              "#7201a8"
             ],
             [
              0.3333333333333333,
              "#9c179e"
             ],
             [
              0.4444444444444444,
              "#bd3786"
             ],
             [
              0.5555555555555556,
              "#d8576b"
             ],
             [
              0.6666666666666666,
              "#ed7953"
             ],
             [
              0.7777777777777778,
              "#fb9f3a"
             ],
             [
              0.8888888888888888,
              "#fdca26"
             ],
             [
              1,
              "#f0f921"
             ]
            ],
            "type": "histogram2dcontour"
           }
          ],
          "mesh3d": [
           {
            "colorbar": {
             "outlinewidth": 0,
             "ticks": ""
            },
            "type": "mesh3d"
           }
          ],
          "parcoords": [
           {
            "line": {
             "colorbar": {
              "outlinewidth": 0,
              "ticks": ""
             }
            },
            "type": "parcoords"
           }
          ],
          "pie": [
           {
            "automargin": true,
            "type": "pie"
           }
          ],
          "scatter": [
           {
            "fillpattern": {
             "fillmode": "overlay",
             "size": 10,
             "solidity": 0.2
            },
            "type": "scatter"
           }
          ],
          "scatter3d": [
           {
            "line": {
             "colorbar": {
              "outlinewidth": 0,
              "ticks": ""
             }
            },
            "marker": {
             "colorbar": {
              "outlinewidth": 0,
              "ticks": ""
             }
            },
            "type": "scatter3d"
           }
          ],
          "scattercarpet": [
           {
            "marker": {
             "colorbar": {
              "outlinewidth": 0,
              "ticks": ""
             }
            },
            "type": "scattercarpet"
           }
          ],
          "scattergeo": [
           {
            "marker": {
             "colorbar": {
              "outlinewidth": 0,
              "ticks": ""
             }
            },
            "type": "scattergeo"
           }
          ],
          "scattergl": [
           {
            "marker": {
             "colorbar": {
              "outlinewidth": 0,
              "ticks": ""
             }
            },
            "type": "scattergl"
           }
          ],
          "scattermapbox": [
           {
            "marker": {
             "colorbar": {
              "outlinewidth": 0,
              "ticks": ""
             }
            },
            "type": "scattermapbox"
           }
          ],
          "scatterpolar": [
           {
            "marker": {
             "colorbar": {
              "outlinewidth": 0,
              "ticks": ""
             }
            },
            "type": "scatterpolar"
           }
          ],
          "scatterpolargl": [
           {
            "marker": {
             "colorbar": {
              "outlinewidth": 0,
              "ticks": ""
             }
            },
            "type": "scatterpolargl"
           }
          ],
          "scatterternary": [
           {
            "marker": {
             "colorbar": {
              "outlinewidth": 0,
              "ticks": ""
             }
            },
            "type": "scatterternary"
           }
          ],
          "surface": [
           {
            "colorbar": {
             "outlinewidth": 0,
             "ticks": ""
            },
            "colorscale": [
             [
              0,
              "#0d0887"
             ],
             [
              0.1111111111111111,
              "#46039f"
             ],
             [
              0.2222222222222222,
              "#7201a8"
             ],
             [
              0.3333333333333333,
              "#9c179e"
             ],
             [
              0.4444444444444444,
              "#bd3786"
             ],
             [
              0.5555555555555556,
              "#d8576b"
             ],
             [
              0.6666666666666666,
              "#ed7953"
             ],
             [
              0.7777777777777778,
              "#fb9f3a"
             ],
             [
              0.8888888888888888,
              "#fdca26"
             ],
             [
              1,
              "#f0f921"
             ]
            ],
            "type": "surface"
           }
          ],
          "table": [
           {
            "cells": {
             "fill": {
              "color": "#EBF0F8"
             },
             "line": {
              "color": "white"
             }
            },
            "header": {
             "fill": {
              "color": "#C8D4E3"
             },
             "line": {
              "color": "white"
             }
            },
            "type": "table"
           }
          ]
         },
         "layout": {
          "annotationdefaults": {
           "arrowcolor": "#2a3f5f",
           "arrowhead": 0,
           "arrowwidth": 1
          },
          "autotypenumbers": "strict",
          "coloraxis": {
           "colorbar": {
            "outlinewidth": 0,
            "ticks": ""
           }
          },
          "colorscale": {
           "diverging": [
            [
             0,
             "#8e0152"
            ],
            [
             0.1,
             "#c51b7d"
            ],
            [
             0.2,
             "#de77ae"
            ],
            [
             0.3,
             "#f1b6da"
            ],
            [
             0.4,
             "#fde0ef"
            ],
            [
             0.5,
             "#f7f7f7"
            ],
            [
             0.6,
             "#e6f5d0"
            ],
            [
             0.7,
             "#b8e186"
            ],
            [
             0.8,
             "#7fbc41"
            ],
            [
             0.9,
             "#4d9221"
            ],
            [
             1,
             "#276419"
            ]
           ],
           "sequential": [
            [
             0,
             "#0d0887"
            ],
            [
             0.1111111111111111,
             "#46039f"
            ],
            [
             0.2222222222222222,
             "#7201a8"
            ],
            [
             0.3333333333333333,
             "#9c179e"
            ],
            [
             0.4444444444444444,
             "#bd3786"
            ],
            [
             0.5555555555555556,
             "#d8576b"
            ],
            [
             0.6666666666666666,
             "#ed7953"
            ],
            [
             0.7777777777777778,
             "#fb9f3a"
            ],
            [
             0.8888888888888888,
             "#fdca26"
            ],
            [
             1,
             "#f0f921"
            ]
           ],
           "sequentialminus": [
            [
             0,
             "#0d0887"
            ],
            [
             0.1111111111111111,
             "#46039f"
            ],
            [
             0.2222222222222222,
             "#7201a8"
            ],
            [
             0.3333333333333333,
             "#9c179e"
            ],
            [
             0.4444444444444444,
             "#bd3786"
            ],
            [
             0.5555555555555556,
             "#d8576b"
            ],
            [
             0.6666666666666666,
             "#ed7953"
            ],
            [
             0.7777777777777778,
             "#fb9f3a"
            ],
            [
             0.8888888888888888,
             "#fdca26"
            ],
            [
             1,
             "#f0f921"
            ]
           ]
          },
          "colorway": [
           "#636efa",
           "#EF553B",
           "#00cc96",
           "#ab63fa",
           "#FFA15A",
           "#19d3f3",
           "#FF6692",
           "#B6E880",
           "#FF97FF",
           "#FECB52"
          ],
          "font": {
           "color": "#2a3f5f"
          },
          "geo": {
           "bgcolor": "white",
           "lakecolor": "white",
           "landcolor": "#E5ECF6",
           "showlakes": true,
           "showland": true,
           "subunitcolor": "white"
          },
          "hoverlabel": {
           "align": "left"
          },
          "hovermode": "closest",
          "mapbox": {
           "style": "light"
          },
          "paper_bgcolor": "white",
          "plot_bgcolor": "#E5ECF6",
          "polar": {
           "angularaxis": {
            "gridcolor": "white",
            "linecolor": "white",
            "ticks": ""
           },
           "bgcolor": "#E5ECF6",
           "radialaxis": {
            "gridcolor": "white",
            "linecolor": "white",
            "ticks": ""
           }
          },
          "scene": {
           "xaxis": {
            "backgroundcolor": "#E5ECF6",
            "gridcolor": "white",
            "gridwidth": 2,
            "linecolor": "white",
            "showbackground": true,
            "ticks": "",
            "zerolinecolor": "white"
           },
           "yaxis": {
            "backgroundcolor": "#E5ECF6",
            "gridcolor": "white",
            "gridwidth": 2,
            "linecolor": "white",
            "showbackground": true,
            "ticks": "",
            "zerolinecolor": "white"
           },
           "zaxis": {
            "backgroundcolor": "#E5ECF6",
            "gridcolor": "white",
            "gridwidth": 2,
            "linecolor": "white",
            "showbackground": true,
            "ticks": "",
            "zerolinecolor": "white"
           }
          },
          "shapedefaults": {
           "line": {
            "color": "#2a3f5f"
           }
          },
          "ternary": {
           "aaxis": {
            "gridcolor": "white",
            "linecolor": "white",
            "ticks": ""
           },
           "baxis": {
            "gridcolor": "white",
            "linecolor": "white",
            "ticks": ""
           },
           "bgcolor": "#E5ECF6",
           "caxis": {
            "gridcolor": "white",
            "linecolor": "white",
            "ticks": ""
           }
          },
          "title": {
           "x": 0.05
          },
          "xaxis": {
           "automargin": true,
           "gridcolor": "white",
           "linecolor": "white",
           "ticks": "",
           "title": {
            "standoff": 15
           },
           "zerolinecolor": "white",
           "zerolinewidth": 2
          },
          "yaxis": {
           "automargin": true,
           "gridcolor": "white",
           "linecolor": "white",
           "ticks": "",
           "title": {
            "standoff": 15
           },
           "zerolinecolor": "white",
           "zerolinewidth": 2
          }
         }
        },
        "width": 800,
        "xaxis": {
         "anchor": "y",
         "autorange": true,
         "domain": [
          0,
          1
         ],
         "range": [
          8.981530343007915,
          63.01846965699208
         ],
         "title": {
          "text": "x"
         },
         "type": "linear"
        },
        "yaxis": {
         "anchor": "x",
         "autorange": false,
         "domain": [
          0,
          1
         ],
         "range": [
          0,
          72
         ],
         "title": {
          "text": "y"
         },
         "type": "linear"
        }
       }
      },
      "image/png": "[encoded data removed]",
      "text/html": [
       "<div>                            <div id=\"ceb3bc96-116a-49ec-be9f-625ad6890e3f\" class=\"plotly-graph-div\" style=\"height:600px; width:800px;\"></div>            <script type=\"text/javascript\">                require([\"plotly\"], function(Plotly) {                    window.PLOTLYENV=window.PLOTLYENV || {};                                    if (document.getElementById(\"ceb3bc96-116a-49ec-be9f-625ad6890e3f\")) {                    Plotly.newPlot(                        \"ceb3bc96-116a-49ec-be9f-625ad6890e3f\",                        [{\"error_y\":{\"array\":[0.017768795478411162,0.005018629942707632,2.527363715845355,0.005050469665353813,2.1040055054809366,0.0023329954345671093,1.583656713436374,4.99227404789862,9.1792391929117,9.063636387286056,0.005710733343176151,9.988504902771162,5.9457750125199045,0.0047426095409659995,0.0033447176601120697,9.856329657668182,3.329710905029528,0.005056116641185905,0.0027839082368789204,0.005434303603559944,10.46670534231878,2.030734991863648,0.005770942671646219,8.124972358843529,0.005950419116372472]},\"hovertemplate\":\"x=%{x}\\u003cbr\\u003ey=%{y}\\u003cextra\\u003e\\u003c\\u002fextra\\u003e\",\"legendgroup\":\"\",\"marker\":{\"color\":\"#636efa\",\"symbol\":\"circle\"},\"mode\":\"markers\",\"name\":\"\",\"orientation\":\"v\",\"showlegend\":false,\"x\":[36.0,18.0,48.0,24.0,48.0,48.0,48.0,36.0,14.0,12.0,14.0,14.0,24.0,14.0,60.0,18.0,60.0,14.0,48.0,18.0,14.0,36.0,36.0,14.0,36.0],\"xaxis\":\"x\",\"y\":[38.375375362783416,22.82882882815867,45.181745721629596,32.88288287871195,48.199977383683,49.546546534607295,49.23298999168728,35.18296775489507,16.508252929288354,16.1345180691673,22.177177165546347,19.46350175717467,31.894001179265036,21.897897884418807,54.666666663344735,22.7585330648457,51.288905641138015,22.17717716564077,49.081081070745036,22.54954953954869,21.845878826013315,31.725257888743005,34.83783782440041,12.65682427871097,32.51051050752542],\"yaxis\":\"y\",\"type\":\"scatter\"},{\"hovertemplate\":\"\\u003cb\\u003eOLS trendline\\u003c\\u002fb\\u003e\\u003cbr\\u003ey = 0.773013 * x + 8.97195\\u003cbr\\u003eR\\u003csup\\u003e2\\u003c\\u002fsup\\u003e=0.939180\\u003cbr\\u003e\\u003cbr\\u003ex=%{x}\\u003cbr\\u003ey=%{y} \\u003cb\\u003e(trend)\\u003c\\u002fb\\u003e\\u003cextra\\u003e\\u003c\\u002fextra\\u003e\",\"legendgroup\":\"\",\"marker\":{\"color\":\"#636efa\",\"symbol\":\"circle\"},\"mode\":\"lines\",\"name\":\"\",\"showlegend\":false,\"x\":[12.0,14.0,14.0,14.0,14.0,14.0,14.0,14.0,18.0,18.0,18.0,24.0,24.0,36.0,36.0,36.0,36.0,36.0,48.0,48.0,48.0,48.0,48.0,60.0,60.0],\"xaxis\":\"x\",\"y\":[18.24811312323132,19.79413992779278,19.79413992779278,19.79413992779278,19.79413992779278,19.79413992779278,19.79413992779278,19.79413992779278,22.8861935369157,22.8861935369157,22.8861935369157,27.52427395060008,27.52427395060008,36.80043477796884,36.80043477796884,36.80043477796884,36.80043477796884,36.80043477796884,46.0765956053376,46.0765956053376,46.0765956053376,46.0765956053376,46.0765956053376,55.35275643270636,55.35275643270636],\"yaxis\":\"y\",\"type\":\"scatter\"}],                        {\"template\":{\"data\":{\"histogram2dcontour\":[{\"type\":\"histogram2dcontour\",\"colorbar\":{\"outlinewidth\":0,\"ticks\":\"\"},\"colorscale\":[[0.0,\"#0d0887\"],[0.1111111111111111,\"#46039f\"],[0.2222222222222222,\"#7201a8\"],[0.3333333333333333,\"#9c179e\"],[0.4444444444444444,\"#bd3786\"],[0.5555555555555556,\"#d8576b\"],[0.6666666666666666,\"#ed7953\"],[0.7777777777777778,\"#fb9f3a\"],[0.8888888888888888,\"#fdca26\"],[1.0,\"#f0f921\"]]}],\"choropleth\":[{\"type\":\"choropleth\",\"colorbar\":{\"outlinewidth\":0,\"ticks\":\"\"}}],\"histogram2d\":[{\"type\":\"histogram2d\",\"colorbar\":{\"outlinewidth\":0,\"ticks\":\"\"},\"colorscale\":[[0.0,\"#0d0887\"],[0.1111111111111111,\"#46039f\"],[0.2222222222222222,\"#7201a8\"],[0.3333333333333333,\"#9c179e\"],[0.4444444444444444,\"#bd3786\"],[0.5555555555555556,\"#d8576b\"],[0.6666666666666666,\"#ed7953\"],[0.7777777777777778,\"#fb9f3a\"],[0.8888888888888888,\"#fdca26\"],[1.0,\"#f0f921\"]]}],\"heatmap\":[{\"type\":\"heatmap\",\"colorbar\":{\"outlinewidth\":0,\"ticks\":\"\"},\"colorscale\":[[0.0,\"#0d0887\"],[0.1111111111111111,\"#46039f\"],[0.2222222222222222,\"#7201a8\"],[0.3333333333333333,\"#9c179e\"],[0.4444444444444444,\"#bd3786\"],[0.5555555555555556,\"#d8576b\"],[0.6666666666666666,\"#ed7953\"],[0.7777777777777778,\"#fb9f3a\"],[0.8888888888888888,\"#fdca26\"],[1.0,\"#f0f921\"]]}],\"heatmapgl\":[{\"type\":\"heatmapgl\",\"colorbar\":{\"outlinewidth\":0,\"ticks\":\"\"},\"colorscale\":[[0.0,\"#0d0887\"],[0.1111111111111111,\"#46039f\"],[0.2222222222222222,\"#7201a8\"],[0.3333333333333333,\"#9c179e\"],[0.4444444444444444,\"#bd3786\"],[0.5555555555555556,\"#d8576b\"],[0.6666666666666666,\"#ed7953\"],[0.7777777777777778,\"#fb9f3a\"],[0.8888888888888888,\"#fdca26\"],[1.0,\"#f0f921\"]]}],\"contourcarpet\":[{\"type\":\"contourcarpet\",\"colorbar\":{\"outlinewidth\":0,\"ticks\":\"\"}}],\"contour\":[{\"type\":\"contour\",\"colorbar\":{\"outlinewidth\":0,\"ticks\":\"\"},\"colorscale\":[[0.0,\"#0d0887\"],[0.1111111111111111,\"#46039f\"],[0.2222222222222222,\"#7201a8\"],[0.3333333333333333,\"#9c179e\"],[0.4444444444444444,\"#bd3786\"],[0.5555555555555556,\"#d8576b\"],[0.6666666666666666,\"#ed7953\"],[0.7777777777777778,\"#fb9f3a\"],[0.8888888888888888,\"#fdca26\"],[1.0,\"#f0f921\"]]}],\"surface\":[{\"type\":\"surface\",\"colorbar\":{\"outlinewidth\":0,\"ticks\":\"\"},\"colorscale\":[[0.0,\"#0d0887\"],[0.1111111111111111,\"#46039f\"],[0.2222222222222222,\"#7201a8\"],[0.3333333333333333,\"#9c179e\"],[0.4444444444444444,\"#bd3786\"],[0.5555555555555556,\"#d8576b\"],[0.6666666666666666,\"#ed7953\"],[0.7777777777777778,\"#fb9f3a\"],[0.8888888888888888,\"#fdca26\"],[1.0,\"#f0f921\"]]}],\"mesh3d\":[{\"type\":\"mesh3d\",\"colorbar\":{\"outlinewidth\":0,\"ticks\":\"\"}}],\"scatter\":[{\"fillpattern\":{\"fillmode\":\"overlay\",\"size\":10,\"solidity\":0.2},\"type\":\"scatter\"}],\"parcoords\":[{\"type\":\"parcoords\",\"line\":{\"colorbar\":{\"outlinewidth\":0,\"ticks\":\"\"}}}],\"scatterpolargl\":[{\"type\":\"scatterpolargl\",\"marker\":{\"colorbar\":{\"outlinewidth\":0,\"ticks\":\"\"}}}],\"bar\":[{\"error_x\":{\"color\":\"#2a3f5f\"},\"error_y\":{\"color\":\"#2a3f5f\"},\"marker\":{\"line\":{\"color\":\"#E5ECF6\",\"width\":0.5},\"pattern\":{\"fillmode\":\"overlay\",\"size\":10,\"solidity\":0.2}},\"type\":\"bar\"}],\"scattergeo\":[{\"type\":\"scattergeo\",\"marker\":{\"colorbar\":{\"outlinewidth\":0,\"ticks\":\"\"}}}],\"scatterpolar\":[{\"type\":\"scatterpolar\",\"marker\":{\"colorbar\":{\"outlinewidth\":0,\"ticks\":\"\"}}}],\"histogram\":[{\"marker\":{\"pattern\":{\"fillmode\":\"overlay\",\"size\":10,\"solidity\":0.2}},\"type\":\"histogram\"}],\"scattergl\":[{\"type\":\"scattergl\",\"marker\":{\"colorbar\":{\"outlinewidth\":0,\"ticks\":\"\"}}}],\"scatter3d\":[{\"type\":\"scatter3d\",\"line\":{\"colorbar\":{\"outlinewidth\":0,\"ticks\":\"\"}},\"marker\":{\"colorbar\":{\"outlinewidth\":0,\"ticks\":\"\"}}}],\"scattermapbox\":[{\"type\":\"scattermapbox\",\"marker\":{\"colorbar\":{\"outlinewidth\":0,\"ticks\":\"\"}}}],\"scatterternary\":[{\"type\":\"scatterternary\",\"marker\":{\"colorbar\":{\"outlinewidth\":0,\"ticks\":\"\"}}}],\"scattercarpet\":[{\"type\":\"scattercarpet\",\"marker\":{\"colorbar\":{\"outlinewidth\":0,\"ticks\":\"\"}}}],\"carpet\":[{\"aaxis\":{\"endlinecolor\":\"#2a3f5f\",\"gridcolor\":\"white\",\"linecolor\":\"white\",\"minorgridcolor\":\"white\",\"startlinecolor\":\"#2a3f5f\"},\"baxis\":{\"endlinecolor\":\"#2a3f5f\",\"gridcolor\":\"white\",\"linecolor\":\"white\",\"minorgridcolor\":\"white\",\"startlinecolor\":\"#2a3f5f\"},\"type\":\"carpet\"}],\"table\":[{\"cells\":{\"fill\":{\"color\":\"#EBF0F8\"},\"line\":{\"color\":\"white\"}},\"header\":{\"fill\":{\"color\":\"#C8D4E3\"},\"line\":{\"color\":\"white\"}},\"type\":\"table\"}],\"barpolar\":[{\"marker\":{\"line\":{\"color\":\"#E5ECF6\",\"width\":0.5},\"pattern\":{\"fillmode\":\"overlay\",\"size\":10,\"solidity\":0.2}},\"type\":\"barpolar\"}],\"pie\":[{\"automargin\":true,\"type\":\"pie\"}]},\"layout\":{\"autotypenumbers\":\"strict\",\"colorway\":[\"#636efa\",\"#EF553B\",\"#00cc96\",\"#ab63fa\",\"#FFA15A\",\"#19d3f3\",\"#FF6692\",\"#B6E880\",\"#FF97FF\",\"#FECB52\"],\"font\":{\"color\":\"#2a3f5f\"},\"hovermode\":\"closest\",\"hoverlabel\":{\"align\":\"left\"},\"paper_bgcolor\":\"white\",\"plot_bgcolor\":\"#E5ECF6\",\"polar\":{\"bgcolor\":\"#E5ECF6\",\"angularaxis\":{\"gridcolor\":\"white\",\"linecolor\":\"white\",\"ticks\":\"\"},\"radialaxis\":{\"gridcolor\":\"white\",\"linecolor\":\"white\",\"ticks\":\"\"}},\"ternary\":{\"bgcolor\":\"#E5ECF6\",\"aaxis\":{\"gridcolor\":\"white\",\"linecolor\":\"white\",\"ticks\":\"\"},\"baxis\":{\"gridcolor\":\"white\",\"linecolor\":\"white\",\"ticks\":\"\"},\"caxis\":{\"gridcolor\":\"white\",\"linecolor\":\"white\",\"ticks\":\"\"}},\"coloraxis\":{\"colorbar\":{\"outlinewidth\":0,\"ticks\":\"\"}},\"colorscale\":{\"sequential\":[[0.0,\"#0d0887\"],[0.1111111111111111,\"#46039f\"],[0.2222222222222222,\"#7201a8\"],[0.3333333333333333,\"#9c179e\"],[0.4444444444444444,\"#bd3786\"],[0.5555555555555556,\"#d8576b\"],[0.6666666666666666,\"#ed7953\"],[0.7777777777777778,\"#fb9f3a\"],[0.8888888888888888,\"#fdca26\"],[1.0,\"#f0f921\"]],\"sequentialminus\":[[0.0,\"#0d0887\"],[0.1111111111111111,\"#46039f\"],[0.2222222222222222,\"#7201a8\"],[0.3333333333333333,\"#9c179e\"],[0.4444444444444444,\"#bd3786\"],[0.5555555555555556,\"#d8576b\"],[0.6666666666666666,\"#ed7953\"],[0.7777777777777778,\"#fb9f3a\"],[0.8888888888888888,\"#fdca26\"],[1.0,\"#f0f921\"]],\"diverging\":[[0,\"#8e0152\"],[0.1,\"#c51b7d\"],[0.2,\"#de77ae\"],[0.3,\"#f1b6da\"],[0.4,\"#fde0ef\"],[0.5,\"#f7f7f7\"],[0.6,\"#e6f5d0\"],[0.7,\"#b8e186\"],[0.8,\"#7fbc41\"],[0.9,\"#4d9221\"],[1,\"#276419\"]]},\"xaxis\":{\"gridcolor\":\"white\",\"linecolor\":\"white\",\"ticks\":\"\",\"title\":{\"standoff\":15},\"zerolinecolor\":\"white\",\"automargin\":true,\"zerolinewidth\":2},\"yaxis\":{\"gridcolor\":\"white\",\"linecolor\":\"white\",\"ticks\":\"\",\"title\":{\"standoff\":15},\"zerolinecolor\":\"white\",\"automargin\":true,\"zerolinewidth\":2},\"scene\":{\"xaxis\":{\"backgroundcolor\":\"#E5ECF6\",\"gridcolor\":\"white\",\"linecolor\":\"white\",\"showbackground\":true,\"ticks\":\"\",\"zerolinecolor\":\"white\",\"gridwidth\":2},\"yaxis\":{\"backgroundcolor\":\"#E5ECF6\",\"gridcolor\":\"white\",\"linecolor\":\"white\",\"showbackground\":true,\"ticks\":\"\",\"zerolinecolor\":\"white\",\"gridwidth\":2},\"zaxis\":{\"backgroundcolor\":\"#E5ECF6\",\"gridcolor\":\"white\",\"linecolor\":\"white\",\"showbackground\":true,\"ticks\":\"\",\"zerolinecolor\":\"white\",\"gridwidth\":2}},\"shapedefaults\":{\"line\":{\"color\":\"#2a3f5f\"}},\"annotationdefaults\":{\"arrowcolor\":\"#2a3f5f\",\"arrowhead\":0,\"arrowwidth\":1},\"geo\":{\"bgcolor\":\"white\",\"landcolor\":\"#E5ECF6\",\"subunitcolor\":\"white\",\"showland\":true,\"showlakes\":true,\"lakecolor\":\"white\"},\"title\":{\"x\":0.05},\"mapbox\":{\"style\":\"light\"}}},\"xaxis\":{\"anchor\":\"y\",\"domain\":[0.0,1.0],\"title\":{\"text\":\"x\"}},\"yaxis\":{\"anchor\":\"x\",\"domain\":[0.0,1.0],\"title\":{\"text\":\"y\"},\"range\":[0,72]},\"legend\":{\"tracegroupgap\":0},\"margin\":{\"t\":60},\"width\":800,\"height\":600},                        {\"responsive\": true}                    ).then(function(){\n",
       "                            \n",
       "var gd = document.getElementById('ceb3bc96-116a-49ec-be9f-625ad6890e3f');\n",
       "var x = new MutationObserver(function (mutations, observer) {{\n",
       "        var display = window.getComputedStyle(gd).display;\n",
       "        if (!display || display === 'none') {{\n",
       "            console.log([gd, 'removed!']);\n",
       "            Plotly.purge(gd);\n",
       "            observer.disconnect();\n",
       "        }}\n",
       "}});\n",
       "\n",
       "// Listen for the removal of the full notebook cells\n",
       "var notebookContainer = gd.closest('#notebook-container');\n",
       "if (notebookContainer) {{\n",
       "    x.observe(notebookContainer, {childList: true});\n",
       "}}\n",
       "\n",
       "// Listen for the clearing of the current output cell\n",
       "var outputEl = gd.closest('.output');\n",
       "if (outputEl) {{\n",
       "    x.observe(outputEl, {childList: true});\n",
       "}}\n",
       "\n",
       "                        })                };                });            </script>        </div>"
      ]
     },
     "metadata": {},
     "output_type": "display_data"
    },
    {
     "name": "stdout",
     "output_type": "stream",
     "text": [
      "                                      px_fit_results\n",
      "0  <statsmodels.regression.linear_model.Regressio...\n"
     ]
    }
   ],
   "source": [
    "fig = px.scatter(x=expt_time_vec, y=opt_t_vec, error_y=se_t_vec, trendline=\"ols\")\n",
    "\n",
    "fig.update_layout(xaxis=dict(range=[0, 72]), \n",
    "                  yaxis=dict(range=[0, 72]))\n",
    "fig.update_layout(width=800, height=600) \n",
    "fig.show()\n",
    "\n",
    "results = px.get_trendline_results(fig)\n",
    "print(results)"
   ]
  },
  {
   "cell_type": "code",
   "execution_count": 69,
   "id": "b3d6a59f-79b5-43d9-94ed-e53f557f9833",
   "metadata": {},
   "outputs": [
    {
     "data": {
      "text/plain": [
       "array([8.9719523, 0.7730134])"
      ]
     },
     "execution_count": 69,
     "metadata": {},
     "output_type": "execute_result"
    }
   ],
   "source": [
    "results.iloc[0,0].params"
   ]
  },
  {
   "cell_type": "code",
   "execution_count": 51,
   "id": "d1a62dfa-cbad-4ede-a883-feaa73b77b90",
   "metadata": {},
   "outputs": [
    {
     "data": {
      "text/plain": [
       "np.float64(0.012623303421739044)"
      ]
     },
     "execution_count": 51,
     "metadata": {},
     "output_type": "execute_result"
    }
   ],
   "source": [
    "se_t_vec[9]"
   ]
  },
  {
   "cell_type": "code",
   "execution_count": 15,
   "id": "bfbdf335-897d-4d9d-95a3-5d6196685550",
   "metadata": {},
   "outputs": [
    {
     "name": "stdout",
     "output_type": "stream",
     "text": [
      "60.53098116409098\n",
      "8.000546012429141e-33\n"
     ]
    }
   ],
   "source": [
    "# run it \n",
    "\n",
    "# initial guessess\n",
    "initial_params = [40]\n",
    "\n",
    "# Minimize the negative log-likelihood\n",
    "result = minimize(calculate_logL, initial_params, args=(raw_counts,))\n",
    "\n",
    "mu = result.x[0]\n",
    "ste = np.sqrt(result.hess_inv[0, 0])\n",
    "print(mu)\n",
    "print(ste)"
   ]
  },
  {
   "cell_type": "code",
   "execution_count": 18,
   "id": "5c905c3e-aa58-4a1a-8b89-5c0784633696",
   "metadata": {},
   "outputs": [
    {
     "data": {
      "text/plain": [
       "np.float64(3.138133333062373e+66)"
      ]
     },
     "execution_count": 18,
     "metadata": {},
     "output_type": "execute_result"
    }
   ],
   "source": [
    "calculate_logL(initial_params, raw_counts)"
   ]
  },
  {
   "cell_type": "code",
   "execution_count": 81,
   "id": "b7456ee1-6f59-403d-b4ff-dbc3d3b774d0",
   "metadata": {},
   "outputs": [
    {
     "data": {
      "text/plain": [
       "np.float64(5.859892096721073)"
      ]
     },
     "execution_count": 81,
     "metadata": {},
     "output_type": "execute_result"
    }
   ],
   "source": [
    "np.sqrt(result.hess_inv[0, 0])"
   ]
  },
  {
   "cell_type": "code",
   "execution_count": null,
   "id": "7d621d1d-6821-47c4-bfbf-e6b61b816c2d",
   "metadata": {},
   "outputs": [],
   "source": []
  }
 ],
 "metadata": {
  "kernelspec": {
   "display_name": "Python 3 (ipykernel)",
   "language": "python",
   "name": "python3"
  },
  "language_info": {
   "codemirror_mode": {
    "name": "ipython",
    "version": 3
   },
   "file_extension": ".py",
   "mimetype": "text/x-python",
   "name": "python",
   "nbconvert_exporter": "python",
   "pygments_lexer": "ipython3",
   "version": "3.10.13"
  }
 },
 "nbformat": 4,
 "nbformat_minor": 5
}
