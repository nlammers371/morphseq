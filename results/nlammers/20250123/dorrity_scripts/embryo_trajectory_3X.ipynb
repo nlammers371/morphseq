{
 "cells": [
  {
   "cell_type": "code",
   "execution_count": null,
   "metadata": {
    "id": "HZ_ajHwxmZq3"
   },
   "outputs": [],
   "source": [
    "suppressPackageStartupMessages({\n",
    "  library(dplyr)\n",
    "  library(plotly)\n",
    "  library(viridis)\n",
    "  library(data.table)\n",
    "  library(DelayedArray)\n",
    "  library(devtools)\n",
    "  library(tidyr)\n",
    "  library(plotly)\n",
    "  library(htmlwidgets)\n",
    "  library(stringr)\n",
    "  library(VGAM)\n",
    "  \n",
    "  DelayedArray:::set_verbose_block_processing(TRUE)\n",
    "  options(DelayedArray.block.size=1e9)  \n",
    "})\n",
    "\n",
    "# load dev branch: currently \n",
    "# load_all(\"/net/trapnell/vol1/home/lsaund11/bin/monocle3-dev\")\n",
    "load_all(\"/net/trapnell/vol1/home/duran/bin/monocle3_dev\")\n",
    "\n",
    "# library(monocle3)\n",
    "\n",
    "source(\"/net/trapnell/vol1/home/sanjays/projects/GAP/bin/projection_utils_clean.R\")\n",
    "\n",
    "# set working dir on cluster\n",
    "setwd(\"/net/trapnell/vol1/home/sanjays/projects/GAP/GAP21_eliza-syd/\")\n",
    "\n",
    "\n",
    "# Temporarily disable OpenMP threading in functions to be run in parallel\n",
    "old_omp_num_threads = as.numeric(Sys.getenv(\"OMP_NUM_THREADS\"))\n",
    "  if (is.na(old_omp_num_threads)){\n",
    "    old_omp_num_threads = 1\n",
    "  }\n",
    "RhpcBLASctl::omp_set_num_threads(1)\n",
    "\n",
    "# Temporarily set the number of threads the BLAS library can use to be 1\n",
    "old_blas_num_threads = as.numeric(Sys.getenv(\"OPENBLAS_NUM_THREADS\"))\n",
    "if (is.na(old_omp_num_threads)){\n",
    "    old_blas_num_threads = 1\n",
    "}\n",
    "RhpcBLASctl::blas_set_num_threads(1)"
   ]
  },
  {
   "cell_type": "code",
   "execution_count": null,
   "metadata": {
    "id": "HhiTCGRxs2f-"
   },
   "outputs": [],
   "source": [
    "setwd(\"/net/trapnell/vol1/home/sanjays/projects/GAP/GAP21_eliza-syd\")"
   ]
  },
  {
   "cell_type": "markdown",
   "metadata": {
    "id": "poIxPMWYuYpP"
   },
   "source": [
    "# load files"
   ]
  },
  {
   "cell_type": "code",
   "execution_count": null,
   "metadata": {
    "id": "6wHO1vz-uaQY"
   },
   "outputs": [],
   "source": [
    "ref_cds <- readRDS(\"/net/trapnell/vol1/home/sanjays/projects/GAP/COMB_GAP/R_objects/full_gap_hf_ctrl_ref_mito-filt_1.25M_model-update_anno_cds.RDS\")\n",
    "\n",
    "\n",
    "# maybe this is old \n",
    "hf_cds <- readRDS(\"/net/trapnell/vol1/home/dorrity/analysis/nobackup/hotfish/210509_projection/hf4_no-ctrls_projected_major-group-anno_clean_cds.RDS\")\n"
   ]
  },
  {
   "cell_type": "markdown",
   "metadata": {
    "id": "sBReJucCkP1j"
   },
   "source": [
    "# functions"
   ]
  },
  {
   "cell_type": "code",
   "execution_count": null,
   "metadata": {
    "id": "nTom3IgckQtN"
   },
   "outputs": [],
   "source": []
  },
  {
   "cell_type": "markdown",
   "metadata": {
    "id": "u7Cq4Tj-tSW5"
   },
   "source": [
    "# make reference embryo trajectory"
   ]
  },
  {
   "cell_type": "code",
   "execution_count": null,
   "metadata": {
    "id": "YBCNeRqRtUTu"
   },
   "outputs": [],
   "source": [
    "ref_cds = ref_cds[, !is.na(colData(ref_cds)$embryo)]\n",
    "coldata_ref = colData(ref_cds) %>% as.data.frame()"
   ]
  },
  {
   "cell_type": "markdown",
   "metadata": {
    "id": "rM4DfHM5u77j"
   },
   "source": [
    "let's first set up a wide matrix that contains the number of cell of each type (columns) in each embryo (row).  "
   ]
  },
  {
   "cell_type": "code",
   "execution_count": null,
   "metadata": {
    "id": "h312wZVKuSD7"
   },
   "outputs": [],
   "source": [
    "covariates_df = coldata_ref %>% \n",
    "  select(embryo, timepoint) %>% \n",
    "  distinct() %>% as.data.frame\n",
    "\n",
    "rownames(covariates_df) = covariates_df$embryo\n",
    "\n",
    "coldata_ref_summary = coldata_ref %>% \n",
    "  group_by(embryo, cell_type_sub) %>% \n",
    "  summarize(cells=n())\n",
    "\n",
    "\n",
    "cell_counts_wide = spread(coldata_ref_summary, embryo, cells, fill=0)\n",
    "cell_types = as.character(cell_counts_wide %>% pull(cell_type_sub))\n",
    "cell_counts_wide = as.matrix(cell_counts_wide[,2:ncol(cell_counts_wide)])\n",
    "row.names(cell_counts_wide) = cell_types\n",
    "\n",
    "cell_counts_wide = t(cell_counts_wide)\n",
    "cell_counts_wide = cell_counts_wide[as.character(covariates_df$embryo),]\n",
    "\n",
    "thresh_cells_per_cluster = 1500\n",
    "thresh_cells_per_cluster_upper = 40000\n",
    "\n",
    "# filter embs with low counts\n",
    "cell_counts_wide = cell_counts_wide[,colSums(cell_counts_wide) < thresh_cells_per_cluster_upper]\n",
    "cell_counts_wide = cell_counts_wide[,colSums(cell_counts_wide) > thresh_cells_per_cluster]\n",
    "\n",
    "\n",
    "# normalize by size factors, make a cds to get them\n",
    "all_cell_count_cds = new_cell_data_set(t(cell_counts_wide), \n",
    "                                   cell_metadata=covariates_df)\n",
    "\n",
    "all_cell_count_cds <- all_cell_count_cds[,Matrix::colSums(exprs(all_cell_count_cds)) != 0]\n",
    "all_cell_count_cds = detect_genes(all_cell_count_cds)\n",
    "all_cell_count_cds = estimate_size_factors(all_cell_count_cds)\n",
    "all_cell_count_cds = preprocess_cds(all_cell_count_cds, num_dim = 10, norm_method=\"size_only\", method = \"PCA\")\n",
    "all_cell_count_cds = reduce_dimension(all_cell_count_cds, preprocess_method = \"PCA\")\n",
    "\n",
    "sf = size_factors(all_cell_count_cds)\n",
    "cell_counts_wide = cell_counts_wide[names(sf),]\n",
    "cell_counts_wide = round(cell_counts_wide / sf, 0)\n",
    "covariates_df = covariates_df[names(sf),]\n",
    "\n"
   ]
  },
  {
   "cell_type": "markdown",
   "metadata": {
    "id": "0IKxNtJWu3-I"
   },
   "source": [
    "Next, let's fit a multinomial regression model that describes the changes in cell type frequencies a smoothed function of time."
   ]
  },
  {
   "cell_type": "code",
   "execution_count": null,
   "metadata": {
    "id": "Wx3t6At5wyAn"
   },
   "outputs": [],
   "source": [
    "spline_df = 3\n",
    "spt_mult_fit <- VGAM::vglm(cell_counts_wide ~ sm.ns(timepoint, df=spline_df), \n",
    "                          data = covariates_df, family = \"multinomial\", trace = FALSE)"
   ]
  },
  {
   "cell_type": "markdown",
   "metadata": {
    "id": "OV1cWnIqu_zq"
   },
   "source": [
    "Next, we will trace out a curve that describes how cell type proportions change over time by emitting the predictions of this model from 24-96hpf."
   ]
  },
  {
   "cell_type": "code",
   "execution_count": null,
   "metadata": {
    "id": "Alq6qH96vAK5"
   },
   "outputs": [],
   "source": [
    "time_span_dummy = data.frame(timepoint=seq(18, 96, by=0.2))\n",
    "time_span_dummy$embryo = stringr::str_c(\"dummy-\", row.names(time_span_dummy))\n",
    "row.names(time_span_dummy) = time_span_dummy$embryo \n",
    "\n",
    "xxx_df = covariates_df\n",
    "xxx_df$total_cells = rowSums(cell_counts_wide) \n",
    "\n",
    "cell_count_fit = glm(total_cells ~ splines::ns(timepoint, df=spline_df), \n",
    "                        family = \"poisson\", data=xxx_df, trace=FALSE)\n",
    "\n",
    "emb_trajectory = predict(cell_count_fit, newdata=time_span_dummy, type=\"response\") * predict(spt_mult_fit, newdata=time_span_dummy,type=\"response\")\n"
   ]
  },
  {
   "cell_type": "markdown",
   "metadata": {
    "id": "zqNoAvXAvEgu"
   },
   "source": [
    "Now, let's plot the trajectory predicted by the model along with the actual embryo counts in a low-dimensional space with UMAP:"
   ]
  },
  {
   "cell_type": "code",
   "execution_count": null,
   "metadata": {
    "id": "eP2-PwRxuidp"
   },
   "outputs": [],
   "source": [
    "# Cell count trajectory over embryos\n",
    "row.names(covariates_df) = rownames(cell_counts_wide)\n",
    "cell_count_trajectory_cell_metadata = covariates_df\n",
    "cell_count_trajectory_cell_metadata$fake = FALSE\n",
    "time_span_dummy$fake = TRUE\n",
    "cell_count_trajectory_cell_metadata = rbind(cell_count_trajectory_cell_metadata, time_span_dummy)\n",
    "cell_count_trajectory_counts = t(cell_counts_wide)\n",
    "#cell_count_trajectory_counts = cell_count_trajectory_counts / rowSums(cell_count_trajectory_counts)\n",
    "cell_count_trajectory_counts = cbind(t(cell_counts_wide), t(emb_trajectory))\n",
    "cell_count_cds = new_cell_data_set(cell_count_trajectory_counts, cell_metadata=cell_count_trajectory_cell_metadata)\n"
   ]
  },
  {
   "cell_type": "code",
   "execution_count": null,
   "metadata": {
    "id": "ZaArPlpk1IxE"
   },
   "outputs": [],
   "source": [
    "# add a batch label \n",
    "cell_count_coldata = as.data.frame(colData(cell_count_cds)) \n",
    "cell_count_coldata$embryo = gsub(\"-\", \".\", cell_count_coldata$embryo)\n",
    "cell_count_coldata = cell_count_coldata %>% separate(col = embryo, sep=\"\\\\.\", into = c(\"expt\", \"other\"), extra=\"merge\") \n",
    "colData(cell_count_cds)$expt = cell_count_coldata$expt"
   ]
  },
  {
   "cell_type": "code",
   "execution_count": null,
   "metadata": {
    "id": "Vh9DmAIHuhPb"
   },
   "outputs": [],
   "source": [
    "cell_count_cds = preprocess_cds(cell_count_cds, num_dim = 10, norm_method=\"size_only\")\n",
    "cell_count_cds = align_cds(cell_count_cds, alignment_group = \"expt\")\n",
    "cell_count_cds = reduce_dimension(cell_count_cds, \n",
    "                                  preprocess_method = \"Aligned\", \n",
    "                                  build_nn_index = T)\n",
    "\n",
    "\n",
    "save_transform_models(cell_count_cds, dir = \"ref_embryo_model\")\n",
    "\n",
    "# check to make sure this doesn't look like garbage\n",
    "plot_cells(cell_count_cds, color_cells_by=\"timepoint\", cell_size = 1) %>% ggsave(filename=\"embryo_traj.png\")"
   ]
  },
  {
   "cell_type": "code",
   "execution_count": null,
   "metadata": {
    "id": "CB1wX6gGumr8"
   },
   "outputs": [],
   "source": [
    "cell_count_cds = cluster_cells(cell_count_cds)\n",
    "cell_count_cds = learn_graph(cell_count_cds)\n",
    "\n",
    "get_earliest_principal_node <- function(cds, start_time=18){\n",
    "  cell_ids <- which(colData(cds)[, \"timepoint\"] == start_time)\n",
    "  \n",
    "  closest_vertex <-\n",
    "  cds@principal_graph_aux[[\"UMAP\"]]$pr_graph_cell_proj_closest_vertex\n",
    "  closest_vertex <- as.matrix(closest_vertex[colnames(cds), ])\n",
    "  root_pr_nodes <-\n",
    "  igraph::V(principal_graph(cds)[[\"UMAP\"]])$name[as.numeric(names\n",
    "  (which.max(table(closest_vertex[cell_ids,]))))]\n",
    "  \n",
    "  root_pr_nodes\n",
    "}\n",
    "\n",
    "cell_count_cds = order_cells(cell_count_cds,\n",
    "                             root_pr_nodes=get_earliest_principal_node(cell_count_cds))\n",
    "\n",
    "# plot by pseudotime\n",
    "p <- plot_cells(cell_count_cds, color_cells_by=\"pseudotime\", cell_size=1)  +\n",
    "     theme(legend.position = \"none\",\n",
    "        rect = element_rect(fill = \"transparent\"),\n",
    "        panel.background = element_rect(fill = \"transparent\",colour = NA),\n",
    "        plot.background = element_rect(fill = \"transparent\",colour = NA),\n",
    "        strip.background = element_blank(),\n",
    "        strip.text.x = element_blank())\n",
    "     \n",
    "ggsave(p, filename=\"embryo_traj_pseudotime.png\")"
   ]
  },
  {
   "cell_type": "code",
   "execution_count": null,
   "metadata": {
    "id": "QkrQjmPPupA-"
   },
   "outputs": [],
   "source": [
    "colData(cell_count_cds)$pseudostage = pseudotime(cell_count_cds)\n",
    "\n",
    "# save RDS\n",
    "saveRDS(cell_count_cds, file = 'R_objects/final_reference_embryoTraj.rds')"
   ]
  },
  {
   "cell_type": "code",
   "execution_count": null,
   "metadata": {
    "id": "00m0nyEGi7j6"
   },
   "outputs": [],
   "source": [
    "ref_cell_count_cds <- readRDS(file = 'R_objects/final_reference_embryoTraj.rds')\n",
    "ref_cell_count_coldata <- colData(ref_cell_count_cds) %>% as.data.frame"
   ]
  },
  {
   "cell_type": "markdown",
   "metadata": {
    "id": "G3Nk-1CUvMck"
   },
   "source": [
    "# make HF query embryo cds"
   ]
  },
  {
   "cell_type": "code",
   "execution_count": null,
   "metadata": {
    "id": "NXZo5zgBRCwO"
   },
   "outputs": [],
   "source": [
    "hf_cds = hf_cds[, !is.na(colData(hf_cds)$embryo)]\n",
    "hf_cds = hf_cds[, !is.na(colData(hf_cds)$cell_type_sub)]\n"
   ]
  },
  {
   "cell_type": "code",
   "execution_count": null,
   "metadata": {
    "id": "vMRtli6bw9Wi"
   },
   "outputs": [],
   "source": [
    "make_cell_count_cds <- function(cds) {\n",
    "    coldata_query = colData(cds) %>% as.data.frame\n",
    "    covariates_df = coldata_query %>%\n",
    "    select(embryo, timepoint, temp) %>%\n",
    "    distinct() %>% as.data.frame\n",
    "    rownames(covariates_df) = covariates_df$embryo\n",
    "    coldata_query_summary = coldata_query %>%\n",
    "      group_by(embryo, cell_type_sub) %>%\n",
    "      summarize(cells=n())\n",
    "    cell_counts_wide = spread(coldata_query_summary, embryo, cells, fill=0)\n",
    "    cell_types = as.character(cell_counts_wide %>%\n",
    "                              pull(cell_type_sub))\n",
    "    cell_counts_wide = as.matrix(cell_counts_wide[,2:ncol(cell_counts_wide)])\n",
    "    row.names(cell_counts_wide) = cell_types\n",
    "    cell_counts_wide = t(cell_counts_wide)\n",
    "    cell_counts_wide = cell_counts_wide[as.character(covariates_df$embryo),]\n",
    "\n",
    "    # # normalize by size factors, make a cds to get them\n",
    "    all_cell_count_cds = new_cell_data_set(t(cell_counts_wide),\n",
    "                                    cell_metadata=covariates_df)\n",
    "    # all_cell_count_cds <- all_cell_count_cds[,Matrix::colSums(exprs(all_cell_count_cds)) != 0]\n",
    "    all_cell_count_cds = detect_genes(all_cell_count_cds)\n",
    "    all_cell_count_cds = estimate_size_factors(all_cell_count_cds)\n",
    "    sf = size_factors(all_cell_count_cds)\n",
    "    cell_counts_wide = cell_counts_wide[names(sf),]\n",
    "    cell_counts_wide = round(cell_counts_wide / sf, 0)\n",
    "    covariates_df = covariates_df[names(sf),]\n",
    "    row.names(covariates_df) = rownames(cell_counts_wide)\n",
    "    cell_count_cds = new_cell_data_set(t(cell_counts_wide), cell_metadata=covariates_df)\n",
    "    cell_count_cds = detect_genes(cell_count_cds)\n",
    "    cell_count_cds = estimate_size_factors(cell_count_cds)\n",
    "    return(cell_count_cds)\n",
    "}"
   ]
  },
  {
   "cell_type": "code",
   "execution_count": null,
   "metadata": {
    "id": "8DunQG4RhzP3"
   },
   "outputs": [],
   "source": [
    "hf_cell_count_cds <- make_cell_count_cds(hf_cds)"
   ]
  },
  {
   "cell_type": "code",
   "execution_count": null,
   "metadata": {
    "id": "Xgw_bT5YnXBv"
   },
   "outputs": [],
   "source": [
    "saveRDS(hf_cell_count_cds, file = 'R_objects/hf_cell_count_cds.rds')"
   ]
  },
  {
   "cell_type": "markdown",
   "metadata": {
    "id": "EMYbLjc9usyT"
   },
   "source": [
    "# project"
   ]
  },
  {
   "cell_type": "code",
   "execution_count": null,
   "metadata": {
    "id": "H8FEdJE0o1Hm"
   },
   "outputs": [],
   "source": [
    "hf_cell_count_cds <- readRDS(file = 'R_objects/hf_cell_count_cds.rds')"
   ]
  },
  {
   "cell_type": "code",
   "execution_count": null,
   "metadata": {
    "id": "5J8fTQlSus8A"
   },
   "outputs": [],
   "source": [
    "\n",
    "# load the models into the query \n",
    "hf_cell_count_cds <- load_transform_models(hf_cell_count_cds, \n",
    "                                          \"ref_embryo_model\")\n",
    "# no error!\n",
    "# Error in load_transform_models(hf_cell_count_cds, \"ref_embryo_model\") : \n",
    "# md5sum mismatch for file 'ref_embryo_model/rdd_umap_transform_model.rds\n",
    "\n",
    "# preprocess transform\n",
    "hf_cell_count_cds <- preprocess_transform(hf_cell_count_cds, method=\"PCA\")\n",
    "\n",
    "# umap transform \n",
    "hf_cell_count_cds <- reduce_dimension_transform(hf_cell_count_cds, preprocess_method = \"PCA\")"
   ]
  },
  {
   "cell_type": "code",
   "execution_count": null,
   "metadata": {
    "id": "wLn5L8gNrl-Y"
   },
   "outputs": [],
   "source": [
    "saveRDS(hf_cell_count_cds, file = 'R_objects/hf_cell_count_cds.rds')"
   ]
  },
  {
   "cell_type": "code",
   "execution_count": null,
   "metadata": {
    "id": "cN7MFAShpzVE"
   },
   "outputs": [],
   "source": [
    "colData(hf_cell_count_cds)$expt = \"HF\""
   ]
  },
  {
   "cell_type": "code",
   "execution_count": null,
   "metadata": {
    "id": "ZzX7zt0PpkaU"
   },
   "outputs": [],
   "source": [
    "ref_hf_cell_count_cds <- combine_cds(list(hf_cell_count_cds, ref_cell_count_cds), keep_reduced_dims=T)\n",
    "\n",
    "plot_cells(ref_hf_cell_count_cds, color_cells_by = \"expt\") %>% ggsave(filename=\"ref_hf_plot.png\")"
   ]
  },
  {
   "cell_type": "code",
   "execution_count": null,
   "metadata": {
    "id": "8NDmjGclvPeI"
   },
   "outputs": [],
   "source": [
    "hf_cell_count_cds <- add_gap_time(hf_cell_count_cds, \n",
    "                                ref_cell_count_coldata, \n",
    "                                transfer_type = \"timepoint\", \n",
    "                                colname = \"mean_nn_time\", \n",
    "                                k = 15)"
   ]
  },
  {
   "cell_type": "code",
   "execution_count": null,
   "metadata": {
    "id": "KjoJPreOyQoL"
   },
   "outputs": [],
   "source": [
    "hf_cell_count_cds <- add_gap_time(hf_cell_count_cds, \n",
    "                                ref_cell_count_coldata, \n",
    "                                transfer_type = \"pseudostage\", \n",
    "                                colname = \"mean_nn_pseudostage\", \n",
    "                                k = 10)"
   ]
  },
  {
   "cell_type": "code",
   "execution_count": null,
   "metadata": {
    "id": "AwzccorfdzKx"
   },
   "outputs": [],
   "source": [
    "# or learn graph in the combined cds"
   ]
  },
  {
   "cell_type": "code",
   "execution_count": null,
   "metadata": {
    "id": "deA6iVYzyUcG"
   },
   "outputs": [],
   "source": [
    "# plot_cells(query_embryo_cds, color_cells_by = \"ref_label_time\", \n",
    "#            label_cell_groups = T, label_groups_by_cluster = F, cell_size = 1.5) +\n",
    "#   scale_color_viridis_c() +\n",
    "#   ggsave(\"plots/hf4_15nn-celltype_x1y2_umap3D.png\")\n",
    "\n",
    "# plot_cells(query_embryo_cds, color_cells_by = \"pseudostage\", \n",
    "#            label_cell_groups = T, label_groups_by_cluster = F, cell_size = 1.5) +\n",
    "#   scale_color_viridis_c() \n"
   ]
  }
 ],
 "metadata": {
  "colab": {
   "collapsed_sections": [],
   "name": "embryo_trajectory_3X.ipynb",
   "provenance": []
  },
  "kernelspec": {
   "display_name": "Python 3 (ipykernel)",
   "language": "python",
   "name": "python3"
  },
  "language_info": {
   "codemirror_mode": {
    "name": "ipython",
    "version": 3
   },
   "file_extension": ".py",
   "mimetype": "text/x-python",
   "name": "python",
   "nbconvert_exporter": "python",
   "pygments_lexer": "ipython3",
   "version": "3.10.13"
  }
 },
 "nbformat": 4,
 "nbformat_minor": 4
}
