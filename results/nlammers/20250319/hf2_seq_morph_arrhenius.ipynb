{
 "cells": [
  {
   "cell_type": "markdown",
   "id": "0",
   "metadata": {},
   "source": [
    "### Compare hotfish stage scaling to theoretical expectation"
   ]
  },
  {
   "cell_type": "code",
   "execution_count": null,
   "id": "1",
   "metadata": {
    "pycharm": {
     "is_executing": true
    }
   },
   "outputs": [],
   "source": [
    "import numpy as np\n",
    "import pandas as pd\n",
    "import plotly.express as px\n",
    "import plotly.graph_objects as go\n",
    "import os\n",
    "from glob2 import glob"
   ]
  },
  {
   "cell_type": "markdown",
   "id": "2",
   "metadata": {},
   "source": [
    "### Set paths"
   ]
  },
  {
   "cell_type": "code",
   "execution_count": null,
   "id": "3",
   "metadata": {},
   "outputs": [],
   "source": [
    "root = \"/Users/nick/Cole Trapnell's Lab Dropbox/Nick Lammers/Nick/morphseq/\"\n",
    "\n",
    "# path to save data\n",
    "data_path = os.path.join(root, \"results\", \"20250312\", \"morph_latent_space\", \"\")\n",
    "os.makedirs(data_path, exist_ok=True)\n",
    "\n",
    "\n",
    "# set path to Hooke outputs\n",
    "model_name = \"bead_expt_linear\" \n",
    "latent_path = \"/Users/nick/Cole Trapnell's Lab Dropbox/Nick Lammers/Nick/morphseq/seq_data/emb_projections/latent_projections/\"\n",
    "model_path = os.path.join(latent_path, model_name, \"\")\n",
    "\n",
    "# fig path\n",
    "fig_path = \"/Users/nick/Cole Trapnell's Lab Dropbox/Nick Lammers/Nick/slides/morphseq/20250320/morphseq_mdl_params/\"\n",
    "os.makedirs(fig_path, exist_ok=True)"
   ]
  },
  {
   "cell_type": "markdown",
   "id": "4",
   "metadata": {},
   "source": [
    "### Load data"
   ]
  },
  {
   "cell_type": "code",
   "execution_count": null,
   "id": "5",
   "metadata": {},
   "outputs": [],
   "source": [
    "# morph latent encodings\n",
    "hf_morph_df = pd.read_csv(data_path + \"hf_pca_morph_df.csv\")\n",
    "hf_morph_df = hf_morph_df.set_index(\"snip_id\")\n",
    "\n",
    "# hooke latent encodings\n",
    "# seq_df = pd.read_csv(data_path + \"hf_seq_df.csv\", index_col=0)\n",
    "seq_time_df = pd.read_csv(model_path + \"time_predictions.csv\", index_col=0)\n",
    "\n",
    "# metadata df that allows us to link the two\n",
    "morphseq_df = pd.read_csv(os.path.join(root, \"metadata\", \"morphseq_metadata.csv\"))"
   ]
  },
  {
   "cell_type": "markdown",
   "id": "6",
   "metadata": {},
   "source": [
    "### Subset for hotfish2 "
   ]
  },
  {
   "cell_type": "code",
   "execution_count": null,
   "id": "7",
   "metadata": {},
   "outputs": [],
   "source": [
    "# filter out a couple observations that had QC problems\n",
    "hf_morphseq_df = morphseq_df.loc[np.isin(morphseq_df[\"snip_id\"], hf_morph_df.index), :].reset_index()\n",
    "\n",
    "# merge on morph stage\n",
    "hf_morphseq_df = hf_morphseq_df.merge(pd.DataFrame(hf_morph_df.loc[:, [\"mdl_stage_hpf\"]]), left_on=\"snip_id\", right_index=True, how=\"left\").rename(\n",
    "                                columns={\"mdl_stage_hpf\":\"morph_stage_hpf\"})\n",
    "\n",
    "# merge on seq staging info\n",
    "hf_morphseq_df = hf_morphseq_df.merge(pd.DataFrame(seq_time_df.loc[:, [\"pseudostage\"]]), left_on=\"sample\", right_index=True, how=\"left\").rename(\n",
    "                    columns={\"pseudostage\":\"seq_stage_hpf\"})"
   ]
  },
  {
   "cell_type": "markdown",
   "id": "8",
   "metadata": {},
   "source": [
    "### Make seq vs morph plots"
   ]
  },
  {
   "cell_type": "code",
   "execution_count": null,
   "id": "9",
   "metadata": {},
   "outputs": [],
   "source": [
    "from src.functions.plot_functions import format_2d_plotly\n",
    "\n",
    "# now group by cohort\n",
    "cohort_stage_df = hf_morphseq_df.loc[:, [\"temperature\", \"timepoint\", \"seq_stage_hpf\", \"morph_stage_hpf\"]].groupby(\n",
    "                    [\"temperature\", \"timepoint\"]).agg([\"mean\", \"std\"])\n",
    "\n",
    "cohort_stage_df.columns = [f\"{col[0]}_{col[1]}\" for col in cohort_stage_df.columns]\n",
    "cohort_stage_df = cohort_stage_df.reset_index()\n",
    "cohort_stage_df = cohort_stage_df.rename(columns={\"timepoint_\":\"timepoint\", \"temperature_\":\"temperature\"})\n",
    "\n",
    "\n",
    "# get predicted stage using linear formula\n",
    "ref_vec = np.linspace(14, 48)\n",
    "marker_size = 14\n",
    "colormap = \"RdBu_r\"\n",
    "\n",
    "fig = px.scatter(cohort_stage_df, y=\"seq_stage_hpf_mean\", x=\"morph_stage_hpf_mean\", \n",
    "                 error_y=\"seq_stage_hpf_std\", error_x=\"morph_stage_hpf_std\",\n",
    "                 color=\"temperature\", symbol=\"timepoint\",color_continuous_scale=colormap, range_color=[19, 35])\n",
    "\n",
    "fig.update_traces(error_y=dict(width=0))\n",
    "# fig.update_traces(mode=\"lines+markers\", line=dict(color=\"white\", width=0.5))\n",
    "\n",
    "fig.add_trace(go.Scatter(x=ref_vec, y=ref_vec, mode=\"lines\", line=dict(color=\"white\", width=2.5, dash=\"dash\"), showlegend=False))\n",
    "\n",
    "axis_labels = [\"morphological stage (hpf)\", \"transcriptional stage (hpf)\"]\n",
    "\n",
    "fig = format_2d_plotly(fig, marker_size=marker_size, axis_labels=axis_labels, font_size=20)#, show_gridlines=False)\n",
    "\n",
    "# fig.update_xaxes(range=[24, 48])\n",
    "# fig.update_yaxes(range=[24, 48])\n",
    "\n",
    "fig.show()\n",
    "\n",
    "fig.write_image(fig_path + \"seq_vs_morph_stage.png\", scale=2)\n",
    "fig.write_html(fig_path + \"seq_vs_morph_stage.html\")"
   ]
  },
  {
   "cell_type": "code",
   "execution_count": null,
   "id": "10",
   "metadata": {},
   "outputs": [],
   "source": [
    "fig = px.scatter(cohort_stage_df, y=\"seq_stage_hpf_std\", x=\"morph_stage_hpf_std\",\n",
    "                 color=\"temperature\", symbol=\"timepoint\",color_continuous_scale=colormap, range_color=[19, 35])\n",
    "\n",
    "fig.update_traces(error_y=dict(width=0))\n",
    "# fig.update_traces(mode=\"lines+markers\", line=dict(color=\"white\", width=0.5))\n",
    "\n",
    "ref_vec = np.linspace(0, 4)\n",
    "\n",
    "fig.add_trace(go.Scatter(x=ref_vec, y=ref_vec, mode=\"lines\", line=dict(color=\"white\", width=2.5, dash=\"dash\"), showlegend=False))\n",
    "\n",
    "axis_labels = [\"morphological stage (hpf)\", \"transcriptional stage (hpf)\"]\n",
    "\n",
    "fig = format_2d_plotly(fig, marker_size=marker_size, axis_labels=axis_labels, font_size=20)#, show_gridlines=False)\n",
    "\n",
    "fig.show()\n",
    "\n",
    "fig.write_image(fig_path + \"seq_vs_morph_stage_noise.png\", scale=2)\n",
    "fig.write_html(fig_path + \"seq_vs_morph_stage_noise.html\")"
   ]
  },
  {
   "cell_type": "markdown",
   "id": "11",
   "metadata": {},
   "source": [
    "### Use basic Arrhenius model to make predictions"
   ]
  },
  {
   "cell_type": "code",
   "execution_count": null,
   "id": "12",
   "metadata": {},
   "outputs": [],
   "source": [
    "from functools import partial\n",
    "from scipy.optimize import least_squares\n",
    "\n",
    "# dev_rate = A*exp(-E/(RT))\n",
    "# R is 8.314\n",
    "# from Toulany et al 2023: E=65.2\n",
    "# let's fit A using 28C data\n",
    "\n",
    "fit_temps = np.asarray([25, 28.5, 32])\n",
    "\n",
    "def pd_arr(times, temps, params, R=8.314):\n",
    "    arr_pd = np.multiply(times, params[0] * np.exp(-params[1] * (temps**-1) / R))\n",
    "    return arr_pd\n",
    "    \n",
    "# def arrhenius_fit(params, times,  temps, stages_morph, stages_seq):\n",
    "#     # R = 8.314\n",
    "#     # inv_temps = temps**-1\n",
    "#     stages_morph_pd = pd_arr(times=times, temps=temps, params=params[:2])# * np.exp(-params[1] * inv_temps / R)\n",
    "#     stages_seq_pd = pd_arr(times=times, temps=temps, params=[params[0], params[2]])#params[0] * np.exp(-params[2] * inv_temps / R)\n",
    "\n",
    "#     ds_vec = stages_seq.ravel() - stages_seq_pd.ravel()\n",
    "#     dm_vec = stages_morph.ravel() - stages_morph_pd.ravel()\n",
    "    \n",
    "#     return np.hstack((ds_vec, dm_vec))\n",
    "\n",
    "def arrhenius_fit(params, times,  temps, stages):\n",
    "    \n",
    "    stages_pd = pd_arr(times=times, temps=temps, params=params)# * np.exp(-params[1] * inv_temps / R)\n",
    "    # stages_seq_pd = pd_arr(times=times, temps=temps, params=[params[0], params[2]])#params[0] * np.exp(-params[2] * inv_temps / R)\n",
    "\n",
    "    diff_vec = stages_pd.ravel() - stages.ravel()\n",
    "    \n",
    "    return diff_vec\n",
    "\n",
    "# get fit vectors\n",
    "fit_filter = np.isin(hf_morphseq_df[\"temperature\"], fit_temps)\n",
    "temp_vec = hf_morphseq_df.loc[fit_filter, \"temperature\"].to_numpy() + 273.15\n",
    "time_vec = hf_morphseq_df.loc[fit_filter, \"timepoint\"].to_numpy()\n",
    "seq_stage_vec = hf_morphseq_df.loc[fit_filter, \"seq_stage_hpf\"].to_numpy()\n",
    "morph_stage_vec = hf_morphseq_df.loc[fit_filter, \"morph_stage_hpf\"].to_numpy()\n",
    "\n",
    "# fit\n",
    "arr_fit_seq = partial(arrhenius_fit, temps=temp_vec, times=time_vec, stages=seq_stage_vec)\n",
    "arr_fit_morph = partial(arrhenius_fit, temps=temp_vec, times=time_vec, stages=morph_stage_vec)\n",
    "# arr_fit = partial(arrhenius_fit, temps=temp_vec, times=time_vec, stages_seq=seq_stage_vec, stages_morph=morph_stage_vec)\n",
    "\n",
    "x0 = [1, 200]\n",
    "\n",
    "res_seq = least_squares(arr_fit_seq, x0)\n",
    "res_morph = least_squares(arr_fit_morph, x0)\n",
    "# res_morph = least_squares(arr_fit_morph, x0)"
   ]
  },
  {
   "cell_type": "code",
   "execution_count": null,
   "id": "13",
   "metadata": {},
   "outputs": [],
   "source": [
    "arr_params_seq = res_seq.x\n",
    "arr_params_morph = res_morph.x\n",
    "time_vec = cohort_stage_df[\"timepoint\"].to_numpy()\n",
    "temp_vec = cohort_stage_df[\"temperature\"].to_numpy() + 273.15\n",
    "arr_prediction_morph = pd_arr(time_vec, temp_vec, arr_params_morph)\n",
    "arr_prediction_seq = pd_arr(time_vec, temp_vec, arr_params_seq)\n",
    "\n",
    "ref_vec = np.linspace(14, 50)\n",
    "\n",
    "# make seq fig\n",
    "fig = px.scatter(cohort_stage_df, y=\"seq_stage_hpf_mean\", x=arr_prediction_seq, \n",
    "                 error_y=\"seq_stage_hpf_std\",\n",
    "                 color=\"temperature\", symbol=\"timepoint\",color_continuous_scale=colormap, range_color=[19, 35])\n",
    "\n",
    "fig.update_traces(error_y=dict(width=0))\n",
    "# fig.update_traces(mode=\"lines+markers\", line=dict(color=\"white\", width=0.5))\n",
    "\n",
    "fig.add_trace(go.Scatter(x=ref_vec, y=ref_vec, mode=\"lines\", line=dict(color=\"white\", width=2.5, dash=\"dash\"), showlegend=False))\n",
    "\n",
    "axis_labels = [\"predicted stage (Arrhenius)\", \"transcriptional stage (hpf)\"]\n",
    "\n",
    "fig = format_2d_plotly(fig, marker_size=marker_size, axis_labels=axis_labels, font_size=20)#, show_gridlines=False)\n",
    "\n",
    "fig.show()\n",
    "\n",
    "fig.write_image(fig_path + \"seq_vs_expected_stage.png\", scale=2)\n",
    "fig.write_html(fig_path + \"seq_vs_expected_stage.html\")"
   ]
  },
  {
   "cell_type": "code",
   "execution_count": null,
   "id": "14",
   "metadata": {},
   "outputs": [],
   "source": [
    "temps_to_show = np.asarray([28.5, 25, 32, 19, 33.5, 35])\n",
    "arr_path = os.path.join(fig_path, \"morph_temp_series\",\"\")\n",
    "os.makedirs(arr_path, exist_ok=True)\n",
    "\n",
    "for t in range(3, len(temps_to_show)+1):\n",
    "\n",
    "    temp_filter = np.isin(cohort_stage_df[\"temperature\"], temps_to_show[:t])\n",
    "    # make seq fig\n",
    "    fig = px.scatter(cohort_stage_df.loc[temp_filter], y=\"morph_stage_hpf_mean\", x=arr_prediction_morph[temp_filter], \n",
    "                     error_y=\"morph_stage_hpf_std\",\n",
    "                     color=\"temperature\", symbol=\"timepoint\",color_continuous_scale=colormap, range_color=[19, 35])\n",
    "    \n",
    "    fig.update_traces(error_y=dict(width=0))\n",
    "    # fig.update_traces(mode=\"lines+markers\", line=dict(color=\"white\", width=0.5))\n",
    "    \n",
    "    fig.add_trace(go.Scatter(x=ref_vec, y=ref_vec, mode=\"lines\", line=dict(color=\"white\", width=2.5, dash=\"dash\"), showlegend=False))\n",
    "    \n",
    "    axis_labels = [\"predicted stage (Arrhenius)\", \"morphological stage (hpf)\"]\n",
    "    \n",
    "    fig = format_2d_plotly(fig, marker_size=marker_size, axis_labels=axis_labels, font_size=20)#, show_gridlines=False)\n",
    "    \n",
    "    fig.write_image(arr_path + f\"morph_vs_expected_stage_{t:02}.png\", scale=2)\n",
    "    fig.write_html(arr_path + f\"morph_vs_expected_stage_{t:02}.html\")\n",
    "\n",
    "fig.show()"
   ]
  },
  {
   "cell_type": "markdown",
   "id": "15",
   "metadata": {},
   "source": [
    "### Replot morph shift metrics"
   ]
  },
  {
   "cell_type": "code",
   "execution_count": null,
   "id": "16",
   "metadata": {},
   "outputs": [],
   "source": [
    "cohort_stage_df[\"stage_shift_morph\"] = cohort_stage_df[\"morph_stage_hpf_mean\"] - cohort_stage_df[\"timepoint\"]\n",
    "cohort_stage_df[\"stage_shift_morph_pd\"] = arr_prediction_morph - cohort_stage_df[\"timepoint\"]\n",
    "\n",
    "fig = px.scatter(cohort_stage_df, x=\"temperature\", y=\"stage_shift_morph\", \n",
    "                     error_y=\"morph_stage_hpf_std\",\n",
    "                     color=\"temperature\", symbol=\"timepoint\",color_continuous_scale=colormap, range_color=[19, 35])\n",
    "    \n",
    "# fig.update_traces(error_y=dict(width=0))\n",
    "# fig.update_traces(mode=\"lines+markers\", line=dict(color=\"white\", width=0.5))\n",
    "# sym_list = [\"circle\", \"diamond\", \"square\"]\n",
    "\n",
    "\n",
    "axis_labels = [\"temperature (C)\", \"stage shift (δₜ)\"]\n",
    "\n",
    "fig = format_2d_plotly(fig, marker_size=marker_size, axis_labels=axis_labels, font_size=20)\n",
    "\n",
    "fig.write_image(fig_path + f\"morph_shift_vs_temp.png\", scale=2)\n",
    "fig.write_html(fig_path + f\"morph_vs_temp.html\")\n",
    "\n",
    "for t, tp in enumerate([24, 30, 36]):#, 30, 36]):\n",
    "    t_filter = cohort_stage_df[\"timepoint\"]==tp\n",
    "    if t == 1:\n",
    "        lw = 3\n",
    "    else:\n",
    "        lw = 1\n",
    "    fig.add_trace(go.Scatter(x=cohort_stage_df.loc[t_filter, \"temperature\"], \n",
    "                             y=cohort_stage_df.loc[t_filter, \"stage_shift_morph_pd\"], \n",
    "                             mode=\"lines\", line=dict(color=\"white\", width=lw, dash=\"dash\"), showlegend=False))\n",
    "\n",
    "fig.write_image(fig_path + f\"morph_shift_vs_temp_pd.png\", scale=2)\n",
    "fig.write_html(fig_path + f\"morph_vs_temp_pd.html\")\n",
    "fig.show()"
   ]
  },
  {
   "cell_type": "code",
   "execution_count": null,
   "id": "17",
   "metadata": {},
   "outputs": [],
   "source": [
    "ind = 0\n",
    "fig = px.scatter(pd_df_mean, x=\"total_se_mean\", y=null_df_mean[\"total_se_mean\"], color=\"temperature\", symbol=\"timepoint\")\n",
    "                # log_x=True, log_y=True)\n",
    "fig.update_traces(marker=dict(size=8))\n",
    "fig.update_layout(width=1000, height=800)\n",
    "fig.update_xaxes(range=[0, 4])\n",
    "fig.update_yaxes(range=[0, 4])\n",
    "fig.show()"
   ]
  },
  {
   "cell_type": "code",
   "execution_count": null,
   "id": "18",
   "metadata": {},
   "outputs": [],
   "source": [
    "pca_cols_morph"
   ]
  },
  {
   "cell_type": "code",
   "execution_count": null,
   "id": "19",
   "metadata": {},
   "outputs": [],
   "source": [
    "mean_cols"
   ]
  },
  {
   "cell_type": "code",
   "execution_count": null,
   "id": "20",
   "metadata": {},
   "outputs": [],
   "source": []
  }
 ],
 "metadata": {
  "kernelspec": {
   "display_name": "Python 3 (ipykernel)",
   "language": "python",
   "name": "python3"
  },
  "language_info": {
   "codemirror_mode": {
    "name": "ipython",
    "version": 3
   },
   "file_extension": ".py",
   "mimetype": "text/x-python",
   "name": "python",
   "nbconvert_exporter": "python",
   "pygments_lexer": "ipython3",
   "version": "3.10.13"
  }
 },
 "nbformat": 4,
 "nbformat_minor": 5
}
