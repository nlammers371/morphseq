{
 "cells": [
  {
   "cell_type": "markdown",
   "id": "0",
   "metadata": {},
   "source": [
    "#### This notebook add temperature and PCA fields to embryo metadata"
   ]
  },
  {
   "cell_type": "code",
   "execution_count": null,
   "id": "1",
   "metadata": {
    "pycharm": {
     "is_executing": true
    }
   },
   "outputs": [],
   "source": [
    "import numpy as np\n",
    "import pandas as pd\n",
    "import plotly.express as px\n",
    "import plotly.graph_objects as go\n",
    "import os\n",
    "from glob2 import glob"
   ]
  },
  {
   "cell_type": "code",
   "execution_count": null,
   "id": "2",
   "metadata": {},
   "outputs": [],
   "source": [
    "root = \"/Users/nick/Cole Trapnell's Lab Dropbox/Nick Lammers/Nick/morphseq/\"\n",
    "read_path = os.path.join(root, \"results\", \"20250312\", \"vae_output\", \"\") \n",
    "# path to figures and data\n",
    "# fig_root = \"/media/nick/hdd02/Cole Trapnell's Lab Dropbox/Nick Lammers/Nick/slides/morphseq/20250213/\"\n",
    "# fig_path = \"/Users/nick/Cole Trapnell's Lab Dropbox/Nick Lammers/Nick/slides/morphseq/20250312/morph_metrics/\"\n",
    "# os.makedirs(fig_path, exist_ok=True)"
   ]
  },
  {
   "cell_type": "code",
   "execution_count": null,
   "id": "3",
   "metadata": {},
   "outputs": [],
   "source": [
    "morph_df = pd.read_csv(read_path + \"embryo_stats_df.csv\", index_col=0)\n",
    "umap_df = pd.read_csv(read_path + \"umap_df.csv\", index_col=0)\n",
    "morph_df.head()"
   ]
  },
  {
   "cell_type": "markdown",
   "id": "4",
   "metadata": {},
   "source": [
    "### We need to add temperature metadata from well map files"
   ]
  },
  {
   "cell_type": "code",
   "execution_count": null,
   "id": "5",
   "metadata": {},
   "outputs": [],
   "source": [
    "# subset for hotfish experiments\n",
    "HF_experiments = np.asarray(['20240813_24hpf', '20240813_30hpf', '20240813_36hpf', '20240813_extras'])\n",
    "hf_morph_df = morph_df.loc[np.isin(morph_df[\"experiment_date\"], HF_experiments), :].reset_index()\n",
    "\n",
    "# extract well info\n",
    "exp_vec = hf_morph_df.loc[:, \"experiment_date\"].to_numpy()\n",
    "eid_vec = hf_morph_df.loc[:, \"embryo_id\"].to_numpy()\n",
    "well_list = np.asarray([eid.split(\"_\")[-2] for eid in eid_vec])\n",
    "hf_morph_df[\"well_id\"] = well_list\n",
    "letter_index = np.asarray([\"A\", \"B\", \"C\", \"D\", \"E\", \"F\", \"G\", \"H\"])\n",
    "\n",
    "# load plate maps \n",
    "metadata_dir = os.path.join(root, \"metadata\", \"well_metadata\", \"\")\n",
    "df_list = []\n",
    "for exp in HF_experiments:\n",
    "    # Construct the file path: e.g., \"metadata/morphseq_maps/20240813_24hpf.xlsx\"\n",
    "    file_path = os.path.join(metadata_dir, f\"{exp}_well_metadata.xlsx\")\n",
    "    \n",
    "    # Read the \"temperature\" sheet from the Excel file into a DataFrame.\n",
    "    temp_df = pd.read_excel(file_path, sheet_name=\"temperature\", index_col=0)\n",
    "\n",
    "    well_list = []\n",
    "    temp_list = []\n",
    "    for i in range(temp_df.shape[0]):\n",
    "        for j in range(temp_df.shape[1]):\n",
    "            well_list.append(letter_index[i] + f\"{j+1:02}\")\n",
    "            temp_list.append(temp_df.iloc[i,j])\n",
    "\n",
    "    df = pd.DataFrame(well_list, columns=[\"well_id\"])\n",
    "    df[\"temp\"] = temp_list\n",
    "    df[\"experiment_date\"] = exp\n",
    "    df_list.append(df)\n",
    "\n",
    "temp_df = pd.concat(df_list, ignore_index=True)\n",
    "\n",
    "temp_df.head()"
   ]
  },
  {
   "cell_type": "code",
   "execution_count": null,
   "id": "6",
   "metadata": {},
   "outputs": [],
   "source": [
    "# get snip IDs for the relevant embryos and update metadata\n",
    "print(temp_df.shape)\n",
    "temp_df = temp_df.merge(hf_morph_df.loc[:, [\"experiment_date\", \"well_id\", \"snip_id\"]], how=\"left\", on=[\"experiment_date\", \"well_id\"])\n",
    "print(temp_df.shape)\n",
    "snip_id_vec = temp_df[\"snip_id\"].to_numpy()\n",
    "temp_vec = temp_df[\"temp\"].to_numpy()\n",
    "\n",
    "# update\n",
    "for s, snip_id in enumerate(snip_id_vec):\n",
    "    # update the main morph df\n",
    "    morph_df.loc[morph_df[\"snip_id\"] == snip_id, \"temperature\"] = temp_vec[s]\n",
    "    \n",
    "# umap df\n",
    "if \"temperature\" in umap_df.columns.tolist():\n",
    "    umap_df = umap_df.drop(labels=[\"temperature\"], axis=1)\n",
    "umap_df = umap_df.merge(morph_df.loc[:, [\"snip_id\", \"temperature\"]], how=\"left\", on=\"snip_id\")"
   ]
  },
  {
   "cell_type": "markdown",
   "id": "7",
   "metadata": {},
   "source": [
    "#### Calculate PCA to complement UMAP info"
   ]
  },
  {
   "cell_type": "code",
   "execution_count": null,
   "id": "8",
   "metadata": {},
   "outputs": [],
   "source": [
    "from sklearn.decomposition import PCA\n",
    "\n",
    "# get cols\n",
    "morph_cols = morph_df.columns.tolist()\n",
    "full_cols = [col for col in morph_cols if \"z_mu\" in col]\n",
    "bio_cols = [col for col in morph_cols if \"z_mu_b\" in col]\n",
    "nbio_cols = [col for col in morph_cols if \"z_mu_n\" in col]\n",
    "\n",
    "# initialize\n",
    "n_components_b = 10\n",
    "n_components_n = 5\n",
    "\n",
    "pca_full = PCA(n_components=n_components_b)\n",
    "pca_bio = PCA(n_components=n_components_b)\n",
    "pca_nbio = PCA(n_components=n_components_n)\n",
    "\n",
    "# fit\n",
    "pca_full.fit(morph_df.loc[:, full_cols])\n",
    "pca_bio.fit(morph_df.loc[:, bio_cols])\n",
    "pca_nbio.fit(morph_df.loc[:, nbio_cols])\n",
    "\n",
    "# reduce\n",
    "pca_array_full = pca_full.transform(morph_df.loc[:, full_cols])\n",
    "pca_array_bio = pca_bio.transform(morph_df.loc[:, bio_cols])\n",
    "pca_array_nbio = pca_nbio.transform(morph_df.loc[:, nbio_cols])"
   ]
  },
  {
   "cell_type": "code",
   "execution_count": null,
   "id": "9",
   "metadata": {},
   "outputs": [],
   "source": [
    "# plot cumulative expllained variance\n",
    "var_exp = pca_bio.explained_variance_ratio_\n",
    "var_exp_c = np.cumsum(var_exp)\n",
    "\n",
    "fig = px.line(x=np.arange(n_components_b), y=var_exp_c)\n",
    "fig.update_layout(xaxis=dict(title=\"number of PCs\"),\n",
    "                  yaxis=dict(title=\"total explained variance\"))\n",
    "fig.show()\n",
    "fig.write_image(os.path.join(fig_path, \"pc_plot.png\"))"
   ]
  },
  {
   "cell_type": "code",
   "execution_count": null,
   "id": "10",
   "metadata": {},
   "outputs": [],
   "source": [
    "# get col names\n",
    "pca_cols_full = [f\"PCA_{p:02}_all\" for p in range(n_components_b)]\n",
    "pca_cols_bio = [f\"PCA_{p:02}_bio\" for p in range(n_components_b)]\n",
    "pca_cols_nbio = [f\"PCA_{p:02}_nbio\" for p in range(n_components_n)]\n",
    "\n",
    "# update UMAP df\n",
    "umap_df.loc[:, pca_cols_full] = pca_array_full\n",
    "umap_df.loc[:, pca_cols_bio] = pca_array_bio  \n",
    "umap_df.loc[:, pca_cols_nbio] = pca_array_nbio"
   ]
  },
  {
   "cell_type": "code",
   "execution_count": null,
   "id": "11",
   "metadata": {},
   "outputs": [],
   "source": [
    "# save\n",
    "morph_df.to_csv(read_path + \"embryo_stats_df.csv\")\n",
    "umap_df.to_csv(read_path + \"umap_df.csv\")"
   ]
  },
  {
   "cell_type": "code",
   "execution_count": null,
   "id": "12",
   "metadata": {},
   "outputs": [],
   "source": []
  }
 ],
 "metadata": {
  "kernelspec": {
   "display_name": "Python 3 (ipykernel)",
   "language": "python",
   "name": "python3"
  },
  "language_info": {
   "codemirror_mode": {
    "name": "ipython",
    "version": 3
   },
   "file_extension": ".py",
   "mimetype": "text/x-python",
   "name": "python",
   "nbconvert_exporter": "python",
   "pygments_lexer": "ipython3",
   "version": "3.10.13"
  }
 },
 "nbformat": 4,
 "nbformat_minor": 5
}
