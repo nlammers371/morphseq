{
 "cells": [
  {
   "cell_type": "markdown",
   "id": "0",
   "metadata": {},
   "source": [
    "#### This notebook combines morphological and transcriptional embeddings for all embryos with 1-to-1 pairings from morphseq experiments"
   ]
  },
  {
   "cell_type": "code",
   "execution_count": null,
   "id": "1",
   "metadata": {},
   "outputs": [],
   "source": [
    "import numpy as np\n",
    "import pandas as pd\n",
    "import plotly.express as px\n",
    "import plotly.graph_objects as go\n",
    "import os\n",
    "from glob2 import glob\n",
    "from sklearn.cross_decomposition import CCA"
   ]
  },
  {
   "cell_type": "markdown",
   "id": "2",
   "metadata": {},
   "source": [
    "### Set path variables to datasets"
   ]
  },
  {
   "cell_type": "code",
   "execution_count": null,
   "id": "3",
   "metadata": {},
   "outputs": [],
   "source": [
    "# load embryo_df for our current best model\n",
    "# root = \"/media/nick/hdd02/Cole Trapnell's Lab Dropbox/Nick Lammers/Nick/morphseq/\"\n",
    "root = \"/Users/nick/Cole Trapnell's Lab Dropbox/Nick Lammers/Nick/morphseq/\"\n",
    "train_name = \"20241107_ds\"\n",
    "model_name = \"SeqVAE_z100_ne150_sweep_01_block01_iter030\" \n",
    "train_dir = os.path.join(root, \"training_data\", train_name, \"\")\n",
    "output_dir = os.path.join(train_dir, model_name) \n",
    "\n",
    "# get path to morph model\n",
    "training_path = sorted(glob(os.path.join(output_dir, \"*\")))[-1]\n",
    "training_name = os.path.dirname(training_path)\n",
    "morph_read_path = os.path.join(training_path, \"figures\", \"\")\n",
    "\n",
    "# set path to hooke projections\n",
    "hooke_model_name = \"bead_expt_linear\"\n",
    "latent_path = \"/Users/nick/Cole Trapnell's Lab Dropbox/Nick Lammers/Nick/morphseq/seq_data/emb_projections/latent_projections/\"\n",
    "hooke_model_path = os.path.join(latent_path, hooke_model_name, \"\")\n",
    "\n",
    "# path to figures and data\n",
    "fig_path = \"/Users/nick/Cole Trapnell's Lab Dropbox/Nick Lammers/Nick/slides/morphseq/20250312/morphseq_cca/\"\n",
    "os.makedirs(fig_path, exist_ok=True)"
   ]
  },
  {
   "cell_type": "markdown",
   "id": "4",
   "metadata": {},
   "source": [
    "### Load morphVAE datasets"
   ]
  },
  {
   "cell_type": "code",
   "execution_count": null,
   "id": "5",
   "metadata": {},
   "outputs": [],
   "source": [
    "# load in morphseq datasets\n",
    "morph_df = pd.read_csv(morph_read_path + \"embryo_stats_df.csv\", index_col=0)\n",
    "# morph_umap_df = pd.read_csv(morph_read_path + \"umap_df.csv\", index_col=0)\n",
    "# morph_umap_df = morph_umap_df.merge(morph_df.loc[:, [\"snip_id\", \"embryo_id\", \"experiment_time\"]], how=\"left\", on=[\"snip_id\"])\n",
    "# morph_umap_df.head()"
   ]
  },
  {
   "cell_type": "code",
   "execution_count": null,
   "id": "6",
   "metadata": {},
   "outputs": [],
   "source": [
    "# load in master experiment log\n",
    "im_meta_df = pd.read_csv(os.path.join(root, \"metadata\", \"experiment_metadata.csv\"), encoding=\"latin1\")\n",
    "im_meta_df.tail(3)"
   ]
  },
  {
   "cell_type": "markdown",
   "id": "7",
   "metadata": {},
   "source": [
    "### Load Hooke latent projections"
   ]
  },
  {
   "cell_type": "code",
   "execution_count": null,
   "id": "8",
   "metadata": {},
   "outputs": [],
   "source": [
    "# load full counts dataset\n",
    "# hooke_counts_df = pd.read_csv(hooke_model_path + \"combined_counts.csv\", index_col=0)\n",
    "# hooke_metadata_df = pd.read_csv(hooke_model_path + \"combined_metadata.csv\", index_col=0)\n",
    "# hooke_latents_df = pd.read_csv(hooke_model_path + \"latent_projections.csv\", index_col=0)\n",
    "# hooke_latents_df.head()\n",
    "\n",
    "# load in metadata file\n",
    "ccs_meta_df = pd.read_csv(os.path.join(root, \"metadata\", \"seq_embryo_df.csv\"), index_col=0)\n",
    "\n",
    "# generate experiment key\n",
    "exp_df = ccs_meta_df.loc[:, [\"expt\", \"target\", \"temp\"]].drop_duplicates().reset_index()\n",
    "exp_df.to_csv(os.path.join(root, \"metadata\", \"experiment_key.csv\"), index=False)"
   ]
  },
  {
   "cell_type": "markdown",
   "id": "9",
   "metadata": {},
   "source": [
    "### Load plate maps to link morph and seq embryo embeddings"
   ]
  },
  {
   "cell_type": "code",
   "execution_count": null,
   "id": "10",
   "metadata": {},
   "outputs": [],
   "source": [
    "# generate list to use for indexing\n",
    "col_id_list = [1, 2, 3, 4, 5, 6, 7, 8, 9, 10, 11, 12]\n",
    "row_letter_list = [\"A\", \"B\", \"C\", \"D\", \"E\", \"F\", \"G\", \"H\"]\n",
    "well_name_list = []\n",
    "for r in range(len(row_letter_list)):\n",
    "    for c in range(len(col_id_list)):\n",
    "        well_name = row_letter_list[r] + f\"{col_id_list[c]:02}\"\n",
    "        well_name_list.append(well_name)\n",
    "\n",
    "# dummy_df = pd.DataFrame(np.empty(len(well_name_list)), columns=[colname], index=new_index)\n",
    "# well_name_list = np.asarray(well_name_list)\n",
    "\n",
    "def get_sheet_df(xlsx, sheet_name, colname, col_id_list=col_id_list, row_letter_list=row_letter_list): \n",
    "    \n",
    "    if sheet_name == \"image_to_hash_plate_map\":\n",
    "        if \"image_to_hash_plate_map\" in xlsx.sheet_names:\n",
    "            df = xlsx.parse(sheet_name, index_col=0)\n",
    "        else:\n",
    "            df = xlsx.parse(\"image_to_hash_plate_num\", index_col=0)\n",
    "    elif sheet_name == \"temperature\":\n",
    "        if \"temperature\" in xlsx.sheet_names:\n",
    "            df = xlsx.parse(sheet_name, index_col=0)\n",
    "        else:\n",
    "            df = pd.DataFrame(np.empty((len(row_letter_list), len(col_id_list))), columns=col_id_list, index=row_letter_list)\n",
    "            df.iloc[:, :] = 28.5\n",
    "    else:\n",
    "        df = xlsx.parse(sheet_name, index_col=0)\n",
    "        if df.size == 0:\n",
    "            df = pd.DataFrame(np.empty((len(row_letter_list), len(col_id_list))), columns=col_id_list, index=row_letter_list)\n",
    "            \n",
    "    data_vec = df.iloc[:, :].to_numpy().ravel()\n",
    "        \n",
    "    col_array = np.asarray([str(num).zfill(2) for num in df.columns.tolist()])[None, :]\n",
    "    row_array = np.asarray(list(df.index))[:, None]\n",
    "    new_index = (row_array + col_array).ravel()\n",
    "    \n",
    "    sheet_df = pd.DataFrame(data_vec, columns=[colname], index=new_index)\n",
    "\n",
    "    return sheet_df"
   ]
  },
  {
   "cell_type": "code",
   "execution_count": null,
   "id": "11",
   "metadata": {},
   "outputs": [],
   "source": [
    "from functools import reduce\n",
    "\n",
    "morph_map_path = os.path.join(root, \"metadata\", \"morphseq_maps\", \"\")\n",
    "plate_map_list = sorted(glob(morph_map_path + \"*morph_well_metadata.xlsx\"))\n",
    "len(plate_map_list)\n",
    "\n",
    "# read in and combine metadata\n",
    "df_list = []\n",
    "sheet_list = [\"genotype\", \"image_to_hash_map\", \"temperature\", \"image_to_hash_plate_map\", \"start_age_hpf\", \"image_notes\", \"morph_seq_qc\"]\n",
    "col_list =   [\"genotype\", \"hash_well\", \"temperature\", \"hash_plate_num\", \"stage_hpf\", \"image_notes\", \"qc_flag\"]\n",
    "for m, map_path in enumerate(plate_map_list):\n",
    "\n",
    "    exp_name = os.path.basename(map_path).replace(\"_morph_well_metadata.xlsx\", \"\")\n",
    "    if \"$\" not in exp_name:\n",
    "        # extract column vectors\n",
    "        xl_temp = pd.ExcelFile(map_path)\n",
    "        df_col_list = []\n",
    "        for s, sheet in enumerate(sheet_list):\n",
    "            dfc = get_sheet_df(xl_temp, sheet, col_list[s])\n",
    "            df_col_list.append(dfc)\n",
    "    \n",
    "        # Merge all DataFrames on the 'index' column using reduce and pd.merge\n",
    "        df_temp = reduce(lambda left, right: pd.merge(left, right, left_index=True, right_index=True), df_col_list)\n",
    "        df_temp[\"experiment_date\"] = exp_name\n",
    "        df_temp = df_temp.reset_index(names=[\"image_well\"])\n",
    "        \n",
    "        # add sci experiment name\n",
    "        sci_expt = im_meta_df.loc[im_meta_df[\"start_date\"] == exp_name, \"sci_experiment\"]\n",
    "        df_temp[\"sci_expt\"] = sci_expt.values[0]\n",
    "        \n",
    "        # add to list\n",
    "        df_list.append(df_temp)\n",
    "\n",
    "morphseq_df = pd.concat(df_list, axis=0, ignore_index=True)\n",
    "morphseq_df.loc[np.isnan(morphseq_df[\"qc_flag\"]), \"qc_flag\"] = 0\n",
    "morphseq_df.loc[morphseq_df[\"image_notes\"].astype(str)==\"nan\", \"image_notes\"] = \"\"\n",
    "print(morphseq_df.shape)\n",
    "morphseq_df = morphseq_df.dropna().reset_index(drop=True)\n",
    "print(morphseq_df.shape)\n",
    "morphseq_df.head()"
   ]
  },
  {
   "cell_type": "markdown",
   "id": "12",
   "metadata": {},
   "source": [
    "### Standardize a few columns"
   ]
  },
  {
   "cell_type": "code",
   "execution_count": null,
   "id": "13",
   "metadata": {},
   "outputs": [],
   "source": [
    "# integer types\n",
    "morphseq_df[\"hash_plate_num\"] = morphseq_df[\"hash_plate_num\"].astype(int)\n",
    "morphseq_df[\"qc_flag\"] = morphseq_df[\"qc_flag\"].astype(int)\n",
    "\n",
    "# standardize control notation\n",
    "genotype_vec = morphseq_df[\"genotype\"].values.tolist()\n",
    "new_gt_vec = [(g.replace(\"wik-\", \"\")).replace(\"ab-\", \"\") for g in genotype_vec]\n",
    "morphseq_df[\"genotype\"] = new_gt_vec\n",
    "\n",
    "# standardize hash well notation\n",
    "hash_vec = morphseq_df[\"hash_well\"].values.tolist().copy()\n",
    "new_hash_vec = [f\"{h[0]}0{h[1]}\" if len(h)==2 else h for h in hash_vec]\n",
    "morphseq_df[\"hash_well\"] = new_hash_vec\n",
    "\n",
    "# we also need to create a version stripped of 0 padding for matching to seq data\n",
    "hash_vec = morphseq_df[\"hash_well\"].values.tolist().copy()\n",
    "stripped_hash_vec = [f\"{h[0]}{h[-1]}\" if h[1]=='0' else h for h in hash_vec]\n",
    "morphseq_df[\"hash_well_seq\"] = stripped_hash_vec\n",
    "\n",
    "# create plate string\n",
    "plate_num_vec = morphseq_df[\"hash_plate_num\"].values.tolist()\n",
    "plate_str_vec = [f\"P{p:02}\" for p in plate_num_vec]\n",
    "morphseq_df[\"hash_plate_str\"] = plate_str_vec"
   ]
  },
  {
   "cell_type": "markdown",
   "id": "14",
   "metadata": {},
   "source": [
    "### Create ID variables to link to image and sequencing data"
   ]
  },
  {
   "cell_type": "code",
   "execution_count": null,
   "id": "15",
   "metadata": {},
   "outputs": [],
   "source": [
    "# the key variable from the imaging side is 'snip_id'\n",
    "morphseq_df[\"snip_id\"] = morphseq_df[\"experiment_date\"] + \"_\" + morphseq_df[\"image_well\"] + \"_e00_t0000\""
   ]
  },
  {
   "cell_type": "code",
   "execution_count": null,
   "id": "16",
   "metadata": {},
   "outputs": [],
   "source": [
    "morphseq_df[\"sample\"] = morphseq_df[\"sci_expt\"] + \"_\" + morphseq_df[\"hash_plate_str\"] + \"_\" + morphseq_df[\"hash_well_seq\"]\n",
    "morphseq_df.head()"
   ]
  },
  {
   "cell_type": "markdown",
   "id": "17",
   "metadata": {},
   "source": [
    "### Join on key metadata from each modality--we will not join on latent variables at this stage"
   ]
  },
  {
   "cell_type": "code",
   "execution_count": null,
   "id": "18",
   "metadata": {},
   "outputs": [],
   "source": [
    "morph_meta_cols = [\"snip_id\", \"embryo_id\", \"short_pert_name\", \"medium\", \"phenotype\", \"train_cat\", \"predicted_stage_hpf\"]\n",
    "morph_meta_df = morph_df.loc[:, morph_meta_cols]\n",
    "morphseq_df = morphseq_df.merge(morph_meta_df, how=\"left\", on=\"snip_id\", indicator=True)\n",
    "\n",
    "morphseq_df = morphseq_df.rename(columns={\"_merge\":\"has_morph_data\"})\n",
    "morphseq_df[\"has_morph_data\"] = (morphseq_df[\"has_morph_data\"]==\"both\" ).astype(int)\n",
    "morphseq_df.head()"
   ]
  },
  {
   "cell_type": "code",
   "execution_count": null,
   "id": "19",
   "metadata": {},
   "outputs": [],
   "source": [
    "seq_meta_cols = ['sample', 'Size_Factor', 'n.umi', 'perc_mitochondrial_umis',\n",
    "       'top_to_second_best_ratio', 'hash_umis', 'log.n.umi', 'mean_nn_time', 'collection_batch',\n",
    "       'dis_protocol', 'fix_protocol', 'timepoint', 'drug_addition', 'stage',\n",
    "       'dose', 'temp', 'cells_per_embryo','perturbation', 'target', 'strain']\n",
    "seq_meta_df = ccs_meta_df.loc[:, seq_meta_cols]\n",
    "\n",
    "morphseq_df = morphseq_df.merge(seq_meta_df, how=\"left\", on=\"sample\", indicator=True)\n",
    "morphseq_df = morphseq_df.rename(columns={\"_merge\":\"has_sci_data\"})\n",
    "morphseq_df[\"has_sci_data\"] = (morphseq_df[\"has_sci_data\"]==\"both\" ).astype(int)\n"
   ]
  },
  {
   "cell_type": "code",
   "execution_count": null,
   "id": "20",
   "metadata": {},
   "outputs": [],
   "source": [
    "# save\n",
    "morphseq_df.to_csv(os.path.join(root, \"metadata\", \"morphseq_metadata.csv\"), index=False)"
   ]
  },
  {
   "cell_type": "code",
   "execution_count": null,
   "id": "21",
   "metadata": {},
   "outputs": [],
   "source": [
    "# np.mean(morphseq_df[\"_merge\"]==\"both\")\n",
    "ei, ec = np.unique(morphseq_df.loc[morphseq_df[\"has_sci_data\"]!=1, \"experiment_date\"], return_counts=True)\n",
    "print(ei)\n",
    "print(ec)"
   ]
  },
  {
   "cell_type": "code",
   "execution_count": null,
   "id": "22",
   "metadata": {},
   "outputs": [],
   "source": [
    "morphseq_df[\"snip_id\"]"
   ]
  },
  {
   "cell_type": "markdown",
   "id": "23",
   "metadata": {},
   "source": [
    "### Quick sanity check: do the stages match?"
   ]
  },
  {
   "cell_type": "code",
   "execution_count": null,
   "id": "24",
   "metadata": {},
   "outputs": [],
   "source": [
    "fig = px.scatter(morphseq_df, x=\"stage_hpf\", y=\"timepoint\", color=\"experiment_date\")\n",
    "fig.show()"
   ]
  },
  {
   "cell_type": "code",
   "execution_count": null,
   "id": "25",
   "metadata": {},
   "outputs": [],
   "source": [
    "# where are these mismatches coming from\n",
    "miss_flags = (morphseq_df[\"stage_hpf\"] != morphseq_df[\"timepoint\"]) & ~np.isnan(morphseq_df[\"timepoint\"])\n",
    "morphseq_df.loc[miss_flags, :]"
   ]
  },
  {
   "cell_type": "code",
   "execution_count": null,
   "id": "26",
   "metadata": {},
   "outputs": [],
   "source": [
    "sci_flag = (morphseq_df[\"has_sci_data\"]==1)\n",
    "morphseq_df.loc[sci_flag & (morphseq_df[\"experiment_date\"]==\"20240510\"), :]"
   ]
  },
  {
   "cell_type": "code",
   "execution_count": null,
   "id": "27",
   "metadata": {},
   "outputs": [],
   "source": [
    "morphseq_df.columns"
   ]
  },
  {
   "cell_type": "code",
   "execution_count": null,
   "id": "28",
   "metadata": {},
   "outputs": [],
   "source": [
    "d_cols = [col for col in ccs_meta_df.columns if \"date\" in col]\n",
    "d_cols"
   ]
  },
  {
   "cell_type": "code",
   "execution_count": null,
   "id": "29",
   "metadata": {},
   "outputs": [],
   "source": [
    "np.unique(ccs_meta_df[\"expt_seq_date\"].astype(str))"
   ]
  },
  {
   "cell_type": "code",
   "execution_count": null,
   "id": "30",
   "metadata": {},
   "outputs": [],
   "source": [
    "print(len(seq_meta_df[\"sample\"]))\n",
    "print(len(np.unique(seq_meta_df[\"sample\"])))"
   ]
  },
  {
   "cell_type": "code",
   "execution_count": null,
   "id": "31",
   "metadata": {},
   "outputs": [],
   "source": [
    "print(len(morphseq_df[\"sample\"]))\n",
    "print(len(np.unique(morphseq_df[\"sample\"])))"
   ]
  },
  {
   "cell_type": "code",
   "execution_count": null,
   "id": "32",
   "metadata": {},
   "outputs": [],
   "source": [
    "si, sc = np.unique(morphseq_df[\"sample\"], return_counts=True)\n",
    "problem_samples = si[sc>1]\n",
    "np.unique(morphseq_df.loc[np.isin(morphseq_df[\"sample\"], problem_samples), \"experiment_date\"])"
   ]
  },
  {
   "cell_type": "code",
   "execution_count": null,
   "id": "33",
   "metadata": {},
   "outputs": [],
   "source": [
    "print(np.sum(morphseq_df[\"sci_expt\"]==\"LMX1B\"))\n",
    "print(np.sum(morphseq_df[\"sci_expt\"]==\"LMX1Bearly\"))\n",
    "print(np.sum(ccs_meta_df[\"expt\"]==\"LMX1B\"))\n",
    "print(np.sum(ccs_meta_df[\"expt\"]==\"LMX1Bearly\"))"
   ]
  },
  {
   "cell_type": "code",
   "execution_count": null,
   "id": "34",
   "metadata": {},
   "outputs": [],
   "source": [
    "np.unique(ccs_meta_df.loc[ccs_meta_df[\"target\"]==\"tbx6\", \"hash_well\"])"
   ]
  },
  {
   "cell_type": "code",
   "execution_count": null,
   "id": "35",
   "metadata": {},
   "outputs": [],
   "source": [
    "lmx1bearly_filter = ccs_meta_df[\"expt\"]==\"LMX1Bearly\"\n",
    "hw_filter = ccs_meta_df[\"hash_well\"]==\"A08\"\n",
    "time_filter = ccs_meta_df[\"timepoint\"] >= 36\n",
    "ccs_meta_df.loc[lmx1bearly_filter & time_filter, \"hash_well\"]"
   ]
  },
  {
   "cell_type": "code",
   "execution_count": null,
   "id": "36",
   "metadata": {},
   "outputs": [],
   "source": []
  }
 ],
 "metadata": {
  "kernelspec": {
   "display_name": "Python 3 (ipykernel)",
   "language": "python",
   "name": "python3"
  },
  "language_info": {
   "codemirror_mode": {
    "name": "ipython",
    "version": 3
   },
   "file_extension": ".py",
   "mimetype": "text/x-python",
   "name": "python",
   "nbconvert_exporter": "python",
   "pygments_lexer": "ipython3",
   "version": "3.10.13"
  }
 },
 "nbformat": 4,
 "nbformat_minor": 5
}
