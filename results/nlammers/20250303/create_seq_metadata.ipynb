{
 "cells": [
  {
   "cell_type": "markdown",
   "id": "0",
   "metadata": {},
   "source": [
    "### This notebook loads count datasets and compiles them into a metadata data frame"
   ]
  },
  {
   "cell_type": "code",
   "execution_count": null,
   "id": "1",
   "metadata": {},
   "outputs": [],
   "source": [
    "import pandas as pd\n",
    "import numpy as np\n",
    "import os\n",
    "from glob2 import glob\n",
    "\n",
    "# set path to data\n",
    "hooke_data_path = \"/Users/nick/Cole Trapnell's Lab Dropbox/Nick Lammers/Nick/morphseq/seq_data/emb_projections/ccs_data_cell_type_broad/\"\n",
    "\n",
    "# set write path\n",
    "out_path = \"/Users/nick/Cole Trapnell's Lab Dropbox/Nick Lammers/Nick/morphseq/metadata/\""
   ]
  },
  {
   "cell_type": "code",
   "execution_count": null,
   "id": "2",
   "metadata": {},
   "outputs": [],
   "source": [
    "# get list of files\n",
    "ccs_list = sorted(glob(hooke_data_path + \"*_metadata.csv\"))\n",
    "\n",
    "df_list = []\n",
    "for ccs_path in ccs_list:\n",
    "    df = pd.read_csv(ccs_path, index_col=0)\n",
    "    df_list.append(df)\n",
    "\n",
    "meta_df = pd.concat(df_list, axis=0)\n",
    "meta_df = meta_df.drop_duplicates(subset=[\"sample\"])\n",
    "\n",
    "meta_df.to_csv(out_path + \"seq_embryo_df.csv\", index=True)"
   ]
  }
 ],
 "metadata": {
  "kernelspec": {
   "display_name": "Python 3 (ipykernel)",
   "language": "python",
   "name": "python3"
  },
  "language_info": {
   "codemirror_mode": {
    "name": "ipython",
    "version": 3
   },
   "file_extension": ".py",
   "mimetype": "text/x-python",
   "name": "python",
   "nbconvert_exporter": "python",
   "pygments_lexer": "ipython3",
   "version": "3.10.13"
  }
 },
 "nbformat": 4,
 "nbformat_minor": 5
}
