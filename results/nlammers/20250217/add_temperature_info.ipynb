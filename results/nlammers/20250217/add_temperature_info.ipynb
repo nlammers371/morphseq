{
 "cells": [
  {
   "cell_type": "markdown",
   "id": "cb110cc0-a74d-4218-91dd-52ac2042e3ee",
   "metadata": {},
   "source": [
    "#### This notebook add temperature and PCA fields to embryo metadata"
   ]
  },
  {
   "cell_type": "code",
   "execution_count": 1,
   "id": "initial_id",
   "metadata": {
    "ExecuteTime": {
     "end_time": "2025-02-14T02:49:11.852741Z",
     "start_time": "2025-02-14T02:49:11.370304Z"
    },
    "pycharm": {
     "is_executing": true
    }
   },
   "outputs": [],
   "source": [
    "import numpy as np\n",
    "import pandas as pd\n",
    "import plotly.express as px\n",
    "import plotly.graph_objects as go\n",
    "import os\n",
    "from glob2 import glob"
   ]
  },
  {
   "cell_type": "code",
   "execution_count": 5,
   "id": "88ff24ee2a93374f",
   "metadata": {},
   "outputs": [],
   "source": [
    "# load embryo_df for our current best model\n",
    "# root = \"/media/nick/hdd02/Cole Trapnell's Lab Dropbox/Nick Lammers/Nick/morphseq/\"\n",
    "\n",
    "root = \"/Users/nick/Cole Trapnell's Lab Dropbox/Nick Lammers/Nick/morphseq/\"\n",
    "train_name = \"20241107_ds\"\n",
    "model_name = \"SeqVAE_z100_ne150_sweep_01_block01_iter030\" \n",
    "train_dir = os.path.join(root, \"training_data\", train_name, \"\")\n",
    "output_dir = os.path.join(train_dir, model_name) \n",
    "\n",
    "# get path to model\n",
    "training_path = sorted(glob(os.path.join(output_dir, \"*\")))[-1]\n",
    "training_name = os.path.dirname(training_path)\n",
    "read_path = os.path.join(training_path, \"figures\", \"\")\n",
    "\n",
    "# path to figures and data\n",
    "# fig_root = \"/media/nick/hdd02/Cole Trapnell's Lab Dropbox/Nick Lammers/Nick/slides/morphseq/20250213/\"\n",
    "fig_path = \"/Users/nick/Cole Trapnell's Lab Dropbox/Nick Lammers/Nick/slides/morphseq/20250312/morph_metrics/\"\n",
    "os.makedirs(fig_path, exist_ok=True)"
   ]
  },
  {
   "cell_type": "code",
   "execution_count": 6,
   "id": "b6416275-eacc-4b49-bb7c-04dacccb3dcc",
   "metadata": {},
   "outputs": [
    {
     "data": {
      "text/plain": [
       "\"/Users/nick/Cole Trapnell's Lab Dropbox/Nick Lammers/Nick/slides/morphseq/20250312/morph_metrics/\""
      ]
     },
     "execution_count": 6,
     "metadata": {},
     "output_type": "execute_result"
    }
   ],
   "source": [
    "fig_path"
   ]
  },
  {
   "cell_type": "code",
   "execution_count": 7,
   "id": "79bfcbc5-e6da-4569-98b6-71ff8d35b3d5",
   "metadata": {},
   "outputs": [
    {
     "name": "stderr",
     "output_type": "stream",
     "text": [
      "/var/folders/m7/tpjttxb92tl8b4c9svgvgby00000gn/T/ipykernel_40312/583710703.py:1: DtypeWarning: Columns (4) have mixed types. Specify dtype option on import or set low_memory=False.\n",
      "  morph_df = pd.read_csv(read_path + \"embryo_stats_df.csv\", index_col=0)\n",
      "/var/folders/m7/tpjttxb92tl8b4c9svgvgby00000gn/T/ipykernel_40312/583710703.py:2: DtypeWarning: Columns (2) have mixed types. Specify dtype option on import or set low_memory=False.\n",
      "  umap_df = pd.read_csv(read_path + \"umap_df.csv\", index_col=0)\n"
     ]
    },
    {
     "data": {
      "text/html": [
       "<div>\n",
       "<style scoped>\n",
       "    .dataframe tbody tr th:only-of-type {\n",
       "        vertical-align: middle;\n",
       "    }\n",
       "\n",
       "    .dataframe tbody tr th {\n",
       "        vertical-align: top;\n",
       "    }\n",
       "\n",
       "    .dataframe thead th {\n",
       "        text-align: right;\n",
       "    }\n",
       "</style>\n",
       "<table border=\"1\" class=\"dataframe\">\n",
       "  <thead>\n",
       "    <tr style=\"text-align: right;\">\n",
       "      <th></th>\n",
       "      <th>snip_id</th>\n",
       "      <th>embryo_id</th>\n",
       "      <th>experiment_time</th>\n",
       "      <th>experiment_date</th>\n",
       "      <th>temperature</th>\n",
       "      <th>medium</th>\n",
       "      <th>short_pert_name</th>\n",
       "      <th>control_flag</th>\n",
       "      <th>phenotype</th>\n",
       "      <th>predicted_stage_hpf</th>\n",
       "      <th>...</th>\n",
       "      <th>UMAP_01_n_2</th>\n",
       "      <th>UMAP_00_3</th>\n",
       "      <th>UMAP_01_3</th>\n",
       "      <th>UMAP_02_3</th>\n",
       "      <th>UMAP_00_bio_3</th>\n",
       "      <th>UMAP_01_bio_3</th>\n",
       "      <th>UMAP_02_bio_3</th>\n",
       "      <th>UMAP_00_n_3</th>\n",
       "      <th>UMAP_01_n_3</th>\n",
       "      <th>UMAP_02_n_3</th>\n",
       "    </tr>\n",
       "  </thead>\n",
       "  <tbody>\n",
       "    <tr>\n",
       "      <th>0</th>\n",
       "      <td>20230525_A03_e00_t0001</td>\n",
       "      <td>20230525_A03_e00</td>\n",
       "      <td>594.316650</td>\n",
       "      <td>20230525</td>\n",
       "      <td>22.0</td>\n",
       "      <td>EM</td>\n",
       "      <td>wt_wik</td>\n",
       "      <td>0</td>\n",
       "      <td>wt</td>\n",
       "      <td>15.105656</td>\n",
       "      <td>...</td>\n",
       "      <td>-2.311100</td>\n",
       "      <td>7.520212</td>\n",
       "      <td>10.468943</td>\n",
       "      <td>11.171429</td>\n",
       "      <td>11.298864</td>\n",
       "      <td>10.072700</td>\n",
       "      <td>10.614341</td>\n",
       "      <td>9.100211</td>\n",
       "      <td>-3.534792</td>\n",
       "      <td>-4.300537</td>\n",
       "    </tr>\n",
       "    <tr>\n",
       "      <th>1</th>\n",
       "      <td>20230525_A03_e00_t0002</td>\n",
       "      <td>20230525_A03_e00</td>\n",
       "      <td>3591.278076</td>\n",
       "      <td>20230525</td>\n",
       "      <td>22.0</td>\n",
       "      <td>EM</td>\n",
       "      <td>wt_wik</td>\n",
       "      <td>0</td>\n",
       "      <td>wt</td>\n",
       "      <td>15.638449</td>\n",
       "      <td>...</td>\n",
       "      <td>-2.686945</td>\n",
       "      <td>8.170442</td>\n",
       "      <td>10.853229</td>\n",
       "      <td>10.748030</td>\n",
       "      <td>11.062443</td>\n",
       "      <td>10.279505</td>\n",
       "      <td>9.276375</td>\n",
       "      <td>9.134713</td>\n",
       "      <td>-4.185889</td>\n",
       "      <td>-4.422592</td>\n",
       "    </tr>\n",
       "    <tr>\n",
       "      <th>2</th>\n",
       "      <td>20230525_A03_e00_t0003</td>\n",
       "      <td>20230525_A03_e00</td>\n",
       "      <td>6591.527710</td>\n",
       "      <td>20230525</td>\n",
       "      <td>22.0</td>\n",
       "      <td>EM</td>\n",
       "      <td>wt_wik</td>\n",
       "      <td>0</td>\n",
       "      <td>wt</td>\n",
       "      <td>16.171827</td>\n",
       "      <td>...</td>\n",
       "      <td>-2.885924</td>\n",
       "      <td>8.539273</td>\n",
       "      <td>10.993577</td>\n",
       "      <td>10.317668</td>\n",
       "      <td>10.528914</td>\n",
       "      <td>10.705087</td>\n",
       "      <td>8.589877</td>\n",
       "      <td>9.127588</td>\n",
       "      <td>-4.285573</td>\n",
       "      <td>-4.554633</td>\n",
       "    </tr>\n",
       "    <tr>\n",
       "      <th>3</th>\n",
       "      <td>20230525_A03_e00_t0004</td>\n",
       "      <td>20230525_A03_e00</td>\n",
       "      <td>9596.864624</td>\n",
       "      <td>20230525</td>\n",
       "      <td>22.0</td>\n",
       "      <td>EM</td>\n",
       "      <td>wt_wik</td>\n",
       "      <td>0</td>\n",
       "      <td>wt</td>\n",
       "      <td>16.706109</td>\n",
       "      <td>...</td>\n",
       "      <td>-3.478214</td>\n",
       "      <td>8.835723</td>\n",
       "      <td>11.208259</td>\n",
       "      <td>10.091439</td>\n",
       "      <td>10.133465</td>\n",
       "      <td>11.015662</td>\n",
       "      <td>7.580985</td>\n",
       "      <td>9.361564</td>\n",
       "      <td>-4.792571</td>\n",
       "      <td>-4.667296</td>\n",
       "    </tr>\n",
       "    <tr>\n",
       "      <th>4</th>\n",
       "      <td>20230525_A03_e00_t0005</td>\n",
       "      <td>20230525_A03_e00</td>\n",
       "      <td>12591.573975</td>\n",
       "      <td>20230525</td>\n",
       "      <td>22.0</td>\n",
       "      <td>EM</td>\n",
       "      <td>wt_wik</td>\n",
       "      <td>0</td>\n",
       "      <td>wt</td>\n",
       "      <td>17.238502</td>\n",
       "      <td>...</td>\n",
       "      <td>-3.564565</td>\n",
       "      <td>8.834275</td>\n",
       "      <td>11.239143</td>\n",
       "      <td>9.971113</td>\n",
       "      <td>9.949432</td>\n",
       "      <td>11.247446</td>\n",
       "      <td>7.242141</td>\n",
       "      <td>9.413491</td>\n",
       "      <td>-4.849039</td>\n",
       "      <td>-4.722008</td>\n",
       "    </tr>\n",
       "  </tbody>\n",
       "</table>\n",
       "<p>5 rows × 230 columns</p>\n",
       "</div>"
      ],
      "text/plain": [
       "                  snip_id         embryo_id  experiment_time experiment_date  \\\n",
       "0  20230525_A03_e00_t0001  20230525_A03_e00       594.316650        20230525   \n",
       "1  20230525_A03_e00_t0002  20230525_A03_e00      3591.278076        20230525   \n",
       "2  20230525_A03_e00_t0003  20230525_A03_e00      6591.527710        20230525   \n",
       "3  20230525_A03_e00_t0004  20230525_A03_e00      9596.864624        20230525   \n",
       "4  20230525_A03_e00_t0005  20230525_A03_e00     12591.573975        20230525   \n",
       "\n",
       "   temperature medium short_pert_name  control_flag phenotype  \\\n",
       "0         22.0     EM          wt_wik             0        wt   \n",
       "1         22.0     EM          wt_wik             0        wt   \n",
       "2         22.0     EM          wt_wik             0        wt   \n",
       "3         22.0     EM          wt_wik             0        wt   \n",
       "4         22.0     EM          wt_wik             0        wt   \n",
       "\n",
       "   predicted_stage_hpf  ...  UMAP_01_n_2  UMAP_00_3  UMAP_01_3  UMAP_02_3  \\\n",
       "0            15.105656  ...    -2.311100   7.520212  10.468943  11.171429   \n",
       "1            15.638449  ...    -2.686945   8.170442  10.853229  10.748030   \n",
       "2            16.171827  ...    -2.885924   8.539273  10.993577  10.317668   \n",
       "3            16.706109  ...    -3.478214   8.835723  11.208259  10.091439   \n",
       "4            17.238502  ...    -3.564565   8.834275  11.239143   9.971113   \n",
       "\n",
       "   UMAP_00_bio_3  UMAP_01_bio_3  UMAP_02_bio_3  UMAP_00_n_3  UMAP_01_n_3  \\\n",
       "0      11.298864      10.072700      10.614341     9.100211    -3.534792   \n",
       "1      11.062443      10.279505       9.276375     9.134713    -4.185889   \n",
       "2      10.528914      10.705087       8.589877     9.127588    -4.285573   \n",
       "3      10.133465      11.015662       7.580985     9.361564    -4.792571   \n",
       "4       9.949432      11.247446       7.242141     9.413491    -4.849039   \n",
       "\n",
       "   UMAP_02_n_3  \n",
       "0    -4.300537  \n",
       "1    -4.422592  \n",
       "2    -4.554633  \n",
       "3    -4.667296  \n",
       "4    -4.722008  \n",
       "\n",
       "[5 rows x 230 columns]"
      ]
     },
     "execution_count": 7,
     "metadata": {},
     "output_type": "execute_result"
    }
   ],
   "source": [
    "morph_df = pd.read_csv(read_path + \"embryo_stats_df.csv\", index_col=0)\n",
    "umap_df = pd.read_csv(read_path + \"umap_df.csv\", index_col=0)\n",
    "morph_df.head()"
   ]
  },
  {
   "cell_type": "markdown",
   "id": "e3eeef14-09f9-4543-81f7-a19087bdb681",
   "metadata": {},
   "source": [
    "### We need to add temperature metadata from well map files"
   ]
  },
  {
   "cell_type": "code",
   "execution_count": 8,
   "id": "6e7dc3d5-baa6-497f-9dd0-926f339475eb",
   "metadata": {},
   "outputs": [
    {
     "data": {
      "text/html": [
       "<div>\n",
       "<style scoped>\n",
       "    .dataframe tbody tr th:only-of-type {\n",
       "        vertical-align: middle;\n",
       "    }\n",
       "\n",
       "    .dataframe tbody tr th {\n",
       "        vertical-align: top;\n",
       "    }\n",
       "\n",
       "    .dataframe thead th {\n",
       "        text-align: right;\n",
       "    }\n",
       "</style>\n",
       "<table border=\"1\" class=\"dataframe\">\n",
       "  <thead>\n",
       "    <tr style=\"text-align: right;\">\n",
       "      <th></th>\n",
       "      <th>well_id</th>\n",
       "      <th>temp</th>\n",
       "      <th>experiment_date</th>\n",
       "    </tr>\n",
       "  </thead>\n",
       "  <tbody>\n",
       "    <tr>\n",
       "      <th>0</th>\n",
       "      <td>A01</td>\n",
       "      <td>NaN</td>\n",
       "      <td>20240813_24hpf</td>\n",
       "    </tr>\n",
       "    <tr>\n",
       "      <th>1</th>\n",
       "      <td>A02</td>\n",
       "      <td>19.0</td>\n",
       "      <td>20240813_24hpf</td>\n",
       "    </tr>\n",
       "    <tr>\n",
       "      <th>2</th>\n",
       "      <td>A03</td>\n",
       "      <td>25.0</td>\n",
       "      <td>20240813_24hpf</td>\n",
       "    </tr>\n",
       "    <tr>\n",
       "      <th>3</th>\n",
       "      <td>A04</td>\n",
       "      <td>28.5</td>\n",
       "      <td>20240813_24hpf</td>\n",
       "    </tr>\n",
       "    <tr>\n",
       "      <th>4</th>\n",
       "      <td>A05</td>\n",
       "      <td>32.0</td>\n",
       "      <td>20240813_24hpf</td>\n",
       "    </tr>\n",
       "  </tbody>\n",
       "</table>\n",
       "</div>"
      ],
      "text/plain": [
       "  well_id  temp experiment_date\n",
       "0     A01   NaN  20240813_24hpf\n",
       "1     A02  19.0  20240813_24hpf\n",
       "2     A03  25.0  20240813_24hpf\n",
       "3     A04  28.5  20240813_24hpf\n",
       "4     A05  32.0  20240813_24hpf"
      ]
     },
     "execution_count": 8,
     "metadata": {},
     "output_type": "execute_result"
    }
   ],
   "source": [
    "# subset for hotfish experiments\n",
    "HF_experiments = np.asarray(['20240813_24hpf', '20240813_30hpf', '20240813_36hpf', '20240813_extras'])\n",
    "hf_morph_df = morph_df.loc[np.isin(morph_df[\"experiment_date\"], HF_experiments), :].reset_index()\n",
    "\n",
    "# extract well info\n",
    "exp_vec = hf_morph_df.loc[:, \"experiment_date\"].to_numpy()\n",
    "eid_vec = hf_morph_df.loc[:, \"embryo_id\"].to_numpy()\n",
    "well_list = np.asarray([eid.split(\"_\")[-2] for eid in eid_vec])\n",
    "hf_morph_df[\"well_id\"] = well_list\n",
    "letter_index = np.asarray([\"A\", \"B\", \"C\", \"D\", \"E\", \"F\", \"G\", \"H\"])\n",
    "\n",
    "# load plate maps \n",
    "metadata_dir = os.path.join(root, \"metadata\", \"well_metadata\", \"\")\n",
    "df_list = []\n",
    "for exp in HF_experiments:\n",
    "    # Construct the file path: e.g., \"metadata/morphseq_maps/20240813_24hpf.xlsx\"\n",
    "    file_path = os.path.join(metadata_dir, f\"{exp}_well_metadata.xlsx\")\n",
    "    \n",
    "    # Read the \"temperature\" sheet from the Excel file into a DataFrame.\n",
    "    temp_df = pd.read_excel(file_path, sheet_name=\"temperature\", index_col=0)\n",
    "\n",
    "    well_list = []\n",
    "    temp_list = []\n",
    "    for i in range(temp_df.shape[0]):\n",
    "        for j in range(temp_df.shape[1]):\n",
    "            well_list.append(letter_index[i] + f\"{j+1:02}\")\n",
    "            temp_list.append(temp_df.iloc[i,j])\n",
    "\n",
    "    df = pd.DataFrame(well_list, columns=[\"well_id\"])\n",
    "    df[\"temp\"] = temp_list\n",
    "    df[\"experiment_date\"] = exp\n",
    "    df_list.append(df)\n",
    "\n",
    "temp_df = pd.concat(df_list, ignore_index=True)\n",
    "\n",
    "temp_df.head()"
   ]
  },
  {
   "cell_type": "code",
   "execution_count": 9,
   "id": "815dc2c2-39cf-4f04-ae5d-717c53948c63",
   "metadata": {},
   "outputs": [
    {
     "name": "stdout",
     "output_type": "stream",
     "text": [
      "(384, 3)\n",
      "(384, 4)\n"
     ]
    }
   ],
   "source": [
    "# get snip IDs for the relevant embryos and update metadata\n",
    "print(temp_df.shape)\n",
    "temp_df = temp_df.merge(hf_morph_df.loc[:, [\"experiment_date\", \"well_id\", \"snip_id\"]], how=\"left\", on=[\"experiment_date\", \"well_id\"])\n",
    "print(temp_df.shape)\n",
    "snip_id_vec = temp_df[\"snip_id\"].to_numpy()\n",
    "temp_vec = temp_df[\"temp\"].to_numpy()\n",
    "\n",
    "# update\n",
    "for s, snip_id in enumerate(snip_id_vec):\n",
    "    # update the main morph df\n",
    "    morph_df.loc[morph_df[\"snip_id\"] == snip_id, \"temperature\"] = temp_vec[s]\n",
    "    \n",
    "# umap df\n",
    "if \"temperature\" in umap_df.columns.tolist():\n",
    "    umap_df = umap_df.drop(labels=[\"temperature\"], axis=1)\n",
    "umap_df = umap_df.merge(morph_df.loc[:, [\"snip_id\", \"temperature\"]], how=\"left\", on=\"snip_id\")"
   ]
  },
  {
   "cell_type": "markdown",
   "id": "90191c24-1032-44a6-b4dd-6e2671ef7e56",
   "metadata": {},
   "source": [
    "#### Calculate PCA to complement UMAP info"
   ]
  },
  {
   "cell_type": "code",
   "execution_count": 14,
   "id": "c12cd058-9e43-46a8-96db-a5d7cabc9173",
   "metadata": {},
   "outputs": [],
   "source": [
    "from sklearn.decomposition import PCA\n",
    "\n",
    "# get cols\n",
    "morph_cols = morph_df.columns.tolist()\n",
    "full_cols = [col for col in morph_cols if \"z_mu\" in col]\n",
    "bio_cols = [col for col in morph_cols if \"z_mu_b\" in col]\n",
    "nbio_cols = [col for col in morph_cols if \"z_mu_n\" in col]\n",
    "\n",
    "# initialize\n",
    "n_components_b = 10\n",
    "n_components_n = 5\n",
    "\n",
    "pca_full = PCA(n_components=n_components_b)\n",
    "pca_bio = PCA(n_components=n_components_b)\n",
    "pca_nbio = PCA(n_components=n_components_n)\n",
    "\n",
    "# fit\n",
    "pca_full.fit(morph_df.loc[:, full_cols])\n",
    "pca_bio.fit(morph_df.loc[:, bio_cols])\n",
    "pca_nbio.fit(morph_df.loc[:, nbio_cols])\n",
    "\n",
    "# reduce\n",
    "pca_array_full = pca_full.transform(morph_df.loc[:, full_cols])\n",
    "pca_array_bio = pca_bio.transform(morph_df.loc[:, bio_cols])\n",
    "pca_array_nbio = pca_nbio.transform(morph_df.loc[:, nbio_cols])"
   ]
  },
  {
   "cell_type": "code",
   "execution_count": 16,
   "id": "92999cad-cb2a-4ace-83a1-878a988c2a08",
   "metadata": {},
   "outputs": [
    {
     "data": {
      "application/vnd.plotly.v1+json": {
       "config": {
        "plotlyServerURL": "https://plot.ly"
       },
       "data": [
        {
         "hovertemplate": "x=%{x}<br>y=%{y}<extra></extra>",
         "legendgroup": "",
         "line": {
          "color": "#636efa",
          "dash": "solid"
         },
         "marker": {
          "symbol": "circle"
         },
         "mode": "lines",
         "name": "",
         "orientation": "v",
         "showlegend": false,
         "type": "scatter",
         "x": [
          0,
          1,
          2,
          3,
          4,
          5,
          6,
          7,
          8,
          9
         ],
         "xaxis": "x",
         "y": [
          0.26099760899590246,
          0.5060233797011295,
          0.693895077006726,
          0.8128833812595362,
          0.9114890638536521,
          0.9861260463169336,
          0.9940378610648316,
          0.9962138420013728,
          0.9972797915852835,
          0.9976274531460277
         ],
         "yaxis": "y"
        }
       ],
       "layout": {
        "autosize": true,
        "legend": {
         "tracegroupgap": 0
        },
        "margin": {
         "t": 60
        },
        "template": {
         "data": {
          "bar": [
           {
            "error_x": {
             "color": "#2a3f5f"
            },
            "error_y": {
             "color": "#2a3f5f"
            },
            "marker": {
             "line": {
              "color": "#E5ECF6",
              "width": 0.5
             },
             "pattern": {
              "fillmode": "overlay",
              "size": 10,
              "solidity": 0.2
             }
            },
            "type": "bar"
           }
          ],
          "barpolar": [
           {
            "marker": {
             "line": {
              "color": "#E5ECF6",
              "width": 0.5
             },
             "pattern": {
              "fillmode": "overlay",
              "size": 10,
              "solidity": 0.2
             }
            },
            "type": "barpolar"
           }
          ],
          "carpet": [
           {
            "aaxis": {
             "endlinecolor": "#2a3f5f",
             "gridcolor": "white",
             "linecolor": "white",
             "minorgridcolor": "white",
             "startlinecolor": "#2a3f5f"
            },
            "baxis": {
             "endlinecolor": "#2a3f5f",
             "gridcolor": "white",
             "linecolor": "white",
             "minorgridcolor": "white",
             "startlinecolor": "#2a3f5f"
            },
            "type": "carpet"
           }
          ],
          "choropleth": [
           {
            "colorbar": {
             "outlinewidth": 0,
             "ticks": ""
            },
            "type": "choropleth"
           }
          ],
          "contour": [
           {
            "colorbar": {
             "outlinewidth": 0,
             "ticks": ""
            },
            "colorscale": [
             [
              0,
              "#0d0887"
             ],
             [
              0.1111111111111111,
              "#46039f"
             ],
             [
              0.2222222222222222,
              "#7201a8"
             ],
             [
              0.3333333333333333,
              "#9c179e"
             ],
             [
              0.4444444444444444,
              "#bd3786"
             ],
             [
              0.5555555555555556,
              "#d8576b"
             ],
             [
              0.6666666666666666,
              "#ed7953"
             ],
             [
              0.7777777777777778,
              "#fb9f3a"
             ],
             [
              0.8888888888888888,
              "#fdca26"
             ],
             [
              1,
              "#f0f921"
             ]
            ],
            "type": "contour"
           }
          ],
          "contourcarpet": [
           {
            "colorbar": {
             "outlinewidth": 0,
             "ticks": ""
            },
            "type": "contourcarpet"
           }
          ],
          "heatmap": [
           {
            "colorbar": {
             "outlinewidth": 0,
             "ticks": ""
            },
            "colorscale": [
             [
              0,
              "#0d0887"
             ],
             [
              0.1111111111111111,
              "#46039f"
             ],
             [
              0.2222222222222222,
              "#7201a8"
             ],
             [
              0.3333333333333333,
              "#9c179e"
             ],
             [
              0.4444444444444444,
              "#bd3786"
             ],
             [
              0.5555555555555556,
              "#d8576b"
             ],
             [
              0.6666666666666666,
              "#ed7953"
             ],
             [
              0.7777777777777778,
              "#fb9f3a"
             ],
             [
              0.8888888888888888,
              "#fdca26"
             ],
             [
              1,
              "#f0f921"
             ]
            ],
            "type": "heatmap"
           }
          ],
          "heatmapgl": [
           {
            "colorbar": {
             "outlinewidth": 0,
             "ticks": ""
            },
            "colorscale": [
             [
              0,
              "#0d0887"
             ],
             [
              0.1111111111111111,
              "#46039f"
             ],
             [
              0.2222222222222222,
              "#7201a8"
             ],
             [
              0.3333333333333333,
              "#9c179e"
             ],
             [
              0.4444444444444444,
              "#bd3786"
             ],
             [
              0.5555555555555556,
              "#d8576b"
             ],
             [
              0.6666666666666666,
              "#ed7953"
             ],
             [
              0.7777777777777778,
              "#fb9f3a"
             ],
             [
              0.8888888888888888,
              "#fdca26"
             ],
             [
              1,
              "#f0f921"
             ]
            ],
            "type": "heatmapgl"
           }
          ],
          "histogram": [
           {
            "marker": {
             "pattern": {
              "fillmode": "overlay",
              "size": 10,
              "solidity": 0.2
             }
            },
            "type": "histogram"
           }
          ],
          "histogram2d": [
           {
            "colorbar": {
             "outlinewidth": 0,
             "ticks": ""
            },
            "colorscale": [
             [
              0,
              "#0d0887"
             ],
             [
              0.1111111111111111,
              "#46039f"
             ],
             [
              0.2222222222222222,
              "#7201a8"
             ],
             [
              0.3333333333333333,
              "#9c179e"
             ],
             [
              0.4444444444444444,
              "#bd3786"
             ],
             [
              0.5555555555555556,
              "#d8576b"
             ],
             [
              0.6666666666666666,
              "#ed7953"
             ],
             [
              0.7777777777777778,
              "#fb9f3a"
             ],
             [
              0.8888888888888888,
              "#fdca26"
             ],
             [
              1,
              "#f0f921"
             ]
            ],
            "type": "histogram2d"
           }
          ],
          "histogram2dcontour": [
           {
            "colorbar": {
             "outlinewidth": 0,
             "ticks": ""
            },
            "colorscale": [
             [
              0,
              "#0d0887"
             ],
             [
              0.1111111111111111,
              "#46039f"
             ],
             [
              0.2222222222222222,
              "#7201a8"
             ],
             [
              0.3333333333333333,
              "#9c179e"
             ],
             [
              0.4444444444444444,
              "#bd3786"
             ],
             [
              0.5555555555555556,
              "#d8576b"
             ],
             [
              0.6666666666666666,
              "#ed7953"
             ],
             [
              0.7777777777777778,
              "#fb9f3a"
             ],
             [
              0.8888888888888888,
              "#fdca26"
             ],
             [
              1,
              "#f0f921"
             ]
            ],
            "type": "histogram2dcontour"
           }
          ],
          "mesh3d": [
           {
            "colorbar": {
             "outlinewidth": 0,
             "ticks": ""
            },
            "type": "mesh3d"
           }
          ],
          "parcoords": [
           {
            "line": {
             "colorbar": {
              "outlinewidth": 0,
              "ticks": ""
             }
            },
            "type": "parcoords"
           }
          ],
          "pie": [
           {
            "automargin": true,
            "type": "pie"
           }
          ],
          "scatter": [
           {
            "fillpattern": {
             "fillmode": "overlay",
             "size": 10,
             "solidity": 0.2
            },
            "type": "scatter"
           }
          ],
          "scatter3d": [
           {
            "line": {
             "colorbar": {
              "outlinewidth": 0,
              "ticks": ""
             }
            },
            "marker": {
             "colorbar": {
              "outlinewidth": 0,
              "ticks": ""
             }
            },
            "type": "scatter3d"
           }
          ],
          "scattercarpet": [
           {
            "marker": {
             "colorbar": {
              "outlinewidth": 0,
              "ticks": ""
             }
            },
            "type": "scattercarpet"
           }
          ],
          "scattergeo": [
           {
            "marker": {
             "colorbar": {
              "outlinewidth": 0,
              "ticks": ""
             }
            },
            "type": "scattergeo"
           }
          ],
          "scattergl": [
           {
            "marker": {
             "colorbar": {
              "outlinewidth": 0,
              "ticks": ""
             }
            },
            "type": "scattergl"
           }
          ],
          "scattermapbox": [
           {
            "marker": {
             "colorbar": {
              "outlinewidth": 0,
              "ticks": ""
             }
            },
            "type": "scattermapbox"
           }
          ],
          "scatterpolar": [
           {
            "marker": {
             "colorbar": {
              "outlinewidth": 0,
              "ticks": ""
             }
            },
            "type": "scatterpolar"
           }
          ],
          "scatterpolargl": [
           {
            "marker": {
             "colorbar": {
              "outlinewidth": 0,
              "ticks": ""
             }
            },
            "type": "scatterpolargl"
           }
          ],
          "scatterternary": [
           {
            "marker": {
             "colorbar": {
              "outlinewidth": 0,
              "ticks": ""
             }
            },
            "type": "scatterternary"
           }
          ],
          "surface": [
           {
            "colorbar": {
             "outlinewidth": 0,
             "ticks": ""
            },
            "colorscale": [
             [
              0,
              "#0d0887"
             ],
             [
              0.1111111111111111,
              "#46039f"
             ],
             [
              0.2222222222222222,
              "#7201a8"
             ],
             [
              0.3333333333333333,
              "#9c179e"
             ],
             [
              0.4444444444444444,
              "#bd3786"
             ],
             [
              0.5555555555555556,
              "#d8576b"
             ],
             [
              0.6666666666666666,
              "#ed7953"
             ],
             [
              0.7777777777777778,
              "#fb9f3a"
             ],
             [
              0.8888888888888888,
              "#fdca26"
             ],
             [
              1,
              "#f0f921"
             ]
            ],
            "type": "surface"
           }
          ],
          "table": [
           {
            "cells": {
             "fill": {
              "color": "#EBF0F8"
             },
             "line": {
              "color": "white"
             }
            },
            "header": {
             "fill": {
              "color": "#C8D4E3"
             },
             "line": {
              "color": "white"
             }
            },
            "type": "table"
           }
          ]
         },
         "layout": {
          "annotationdefaults": {
           "arrowcolor": "#2a3f5f",
           "arrowhead": 0,
           "arrowwidth": 1
          },
          "autotypenumbers": "strict",
          "coloraxis": {
           "colorbar": {
            "outlinewidth": 0,
            "ticks": ""
           }
          },
          "colorscale": {
           "diverging": [
            [
             0,
             "#8e0152"
            ],
            [
             0.1,
             "#c51b7d"
            ],
            [
             0.2,
             "#de77ae"
            ],
            [
             0.3,
             "#f1b6da"
            ],
            [
             0.4,
             "#fde0ef"
            ],
            [
             0.5,
             "#f7f7f7"
            ],
            [
             0.6,
             "#e6f5d0"
            ],
            [
             0.7,
             "#b8e186"
            ],
            [
             0.8,
             "#7fbc41"
            ],
            [
             0.9,
             "#4d9221"
            ],
            [
             1,
             "#276419"
            ]
           ],
           "sequential": [
            [
             0,
             "#0d0887"
            ],
            [
             0.1111111111111111,
             "#46039f"
            ],
            [
             0.2222222222222222,
             "#7201a8"
            ],
            [
             0.3333333333333333,
             "#9c179e"
            ],
            [
             0.4444444444444444,
             "#bd3786"
            ],
            [
             0.5555555555555556,
             "#d8576b"
            ],
            [
             0.6666666666666666,
             "#ed7953"
            ],
            [
             0.7777777777777778,
             "#fb9f3a"
            ],
            [
             0.8888888888888888,
             "#fdca26"
            ],
            [
             1,
             "#f0f921"
            ]
           ],
           "sequentialminus": [
            [
             0,
             "#0d0887"
            ],
            [
             0.1111111111111111,
             "#46039f"
            ],
            [
             0.2222222222222222,
             "#7201a8"
            ],
            [
             0.3333333333333333,
             "#9c179e"
            ],
            [
             0.4444444444444444,
             "#bd3786"
            ],
            [
             0.5555555555555556,
             "#d8576b"
            ],
            [
             0.6666666666666666,
             "#ed7953"
            ],
            [
             0.7777777777777778,
             "#fb9f3a"
            ],
            [
             0.8888888888888888,
             "#fdca26"
            ],
            [
             1,
             "#f0f921"
            ]
           ]
          },
          "colorway": [
           "#636efa",
           "#EF553B",
           "#00cc96",
           "#ab63fa",
           "#FFA15A",
           "#19d3f3",
           "#FF6692",
           "#B6E880",
           "#FF97FF",
           "#FECB52"
          ],
          "font": {
           "color": "#2a3f5f"
          },
          "geo": {
           "bgcolor": "white",
           "lakecolor": "white",
           "landcolor": "#E5ECF6",
           "showlakes": true,
           "showland": true,
           "subunitcolor": "white"
          },
          "hoverlabel": {
           "align": "left"
          },
          "hovermode": "closest",
          "mapbox": {
           "style": "light"
          },
          "paper_bgcolor": "white",
          "plot_bgcolor": "#E5ECF6",
          "polar": {
           "angularaxis": {
            "gridcolor": "white",
            "linecolor": "white",
            "ticks": ""
           },
           "bgcolor": "#E5ECF6",
           "radialaxis": {
            "gridcolor": "white",
            "linecolor": "white",
            "ticks": ""
           }
          },
          "scene": {
           "xaxis": {
            "backgroundcolor": "#E5ECF6",
            "gridcolor": "white",
            "gridwidth": 2,
            "linecolor": "white",
            "showbackground": true,
            "ticks": "",
            "zerolinecolor": "white"
           },
           "yaxis": {
            "backgroundcolor": "#E5ECF6",
            "gridcolor": "white",
            "gridwidth": 2,
            "linecolor": "white",
            "showbackground": true,
            "ticks": "",
            "zerolinecolor": "white"
           },
           "zaxis": {
            "backgroundcolor": "#E5ECF6",
            "gridcolor": "white",
            "gridwidth": 2,
            "linecolor": "white",
            "showbackground": true,
            "ticks": "",
            "zerolinecolor": "white"
           }
          },
          "shapedefaults": {
           "line": {
            "color": "#2a3f5f"
           }
          },
          "ternary": {
           "aaxis": {
            "gridcolor": "white",
            "linecolor": "white",
            "ticks": ""
           },
           "baxis": {
            "gridcolor": "white",
            "linecolor": "white",
            "ticks": ""
           },
           "bgcolor": "#E5ECF6",
           "caxis": {
            "gridcolor": "white",
            "linecolor": "white",
            "ticks": ""
           }
          },
          "title": {
           "x": 0.05
          },
          "xaxis": {
           "automargin": true,
           "gridcolor": "white",
           "linecolor": "white",
           "ticks": "",
           "title": {
            "standoff": 15
           },
           "zerolinecolor": "white",
           "zerolinewidth": 2
          },
          "yaxis": {
           "automargin": true,
           "gridcolor": "white",
           "linecolor": "white",
           "ticks": "",
           "title": {
            "standoff": 15
           },
           "zerolinecolor": "white",
           "zerolinewidth": 2
          }
         }
        },
        "xaxis": {
         "anchor": "y",
         "autorange": true,
         "domain": [
          0,
          1
         ],
         "range": [
          0,
          9
         ],
         "title": {
          "text": "number of PCs"
         },
         "type": "linear"
        },
        "yaxis": {
         "anchor": "x",
         "autorange": true,
         "domain": [
          0,
          1
         ],
         "range": [
          0.22007372876533995,
          1.0385513333765903
         ],
         "title": {
          "text": "total explained variance"
         },
         "type": "linear"
        }
       }
      },
      "image/png": "[encoded data removed]",
      "text/html": [
       "<div>                            <div id=\"2766cd42-e537-44d2-a23d-795eb25e3bcb\" class=\"plotly-graph-div\" style=\"height:525px; width:100%;\"></div>            <script type=\"text/javascript\">                require([\"plotly\"], function(Plotly) {                    window.PLOTLYENV=window.PLOTLYENV || {};                                    if (document.getElementById(\"2766cd42-e537-44d2-a23d-795eb25e3bcb\")) {                    Plotly.newPlot(                        \"2766cd42-e537-44d2-a23d-795eb25e3bcb\",                        [{\"hovertemplate\":\"x=%{x}\\u003cbr\\u003ey=%{y}\\u003cextra\\u003e\\u003c\\u002fextra\\u003e\",\"legendgroup\":\"\",\"line\":{\"color\":\"#636efa\",\"dash\":\"solid\"},\"marker\":{\"symbol\":\"circle\"},\"mode\":\"lines\",\"name\":\"\",\"orientation\":\"v\",\"showlegend\":false,\"x\":[0,1,2,3,4,5,6,7,8,9],\"xaxis\":\"x\",\"y\":[0.26099760899590246,0.5060233797011295,0.693895077006726,0.8128833812595362,0.9114890638536521,0.9861260463169336,0.9940378610648316,0.9962138420013728,0.9972797915852835,0.9976274531460277],\"yaxis\":\"y\",\"type\":\"scatter\"}],                        {\"template\":{\"data\":{\"histogram2dcontour\":[{\"type\":\"histogram2dcontour\",\"colorbar\":{\"outlinewidth\":0,\"ticks\":\"\"},\"colorscale\":[[0.0,\"#0d0887\"],[0.1111111111111111,\"#46039f\"],[0.2222222222222222,\"#7201a8\"],[0.3333333333333333,\"#9c179e\"],[0.4444444444444444,\"#bd3786\"],[0.5555555555555556,\"#d8576b\"],[0.6666666666666666,\"#ed7953\"],[0.7777777777777778,\"#fb9f3a\"],[0.8888888888888888,\"#fdca26\"],[1.0,\"#f0f921\"]]}],\"choropleth\":[{\"type\":\"choropleth\",\"colorbar\":{\"outlinewidth\":0,\"ticks\":\"\"}}],\"histogram2d\":[{\"type\":\"histogram2d\",\"colorbar\":{\"outlinewidth\":0,\"ticks\":\"\"},\"colorscale\":[[0.0,\"#0d0887\"],[0.1111111111111111,\"#46039f\"],[0.2222222222222222,\"#7201a8\"],[0.3333333333333333,\"#9c179e\"],[0.4444444444444444,\"#bd3786\"],[0.5555555555555556,\"#d8576b\"],[0.6666666666666666,\"#ed7953\"],[0.7777777777777778,\"#fb9f3a\"],[0.8888888888888888,\"#fdca26\"],[1.0,\"#f0f921\"]]}],\"heatmap\":[{\"type\":\"heatmap\",\"colorbar\":{\"outlinewidth\":0,\"ticks\":\"\"},\"colorscale\":[[0.0,\"#0d0887\"],[0.1111111111111111,\"#46039f\"],[0.2222222222222222,\"#7201a8\"],[0.3333333333333333,\"#9c179e\"],[0.4444444444444444,\"#bd3786\"],[0.5555555555555556,\"#d8576b\"],[0.6666666666666666,\"#ed7953\"],[0.7777777777777778,\"#fb9f3a\"],[0.8888888888888888,\"#fdca26\"],[1.0,\"#f0f921\"]]}],\"heatmapgl\":[{\"type\":\"heatmapgl\",\"colorbar\":{\"outlinewidth\":0,\"ticks\":\"\"},\"colorscale\":[[0.0,\"#0d0887\"],[0.1111111111111111,\"#46039f\"],[0.2222222222222222,\"#7201a8\"],[0.3333333333333333,\"#9c179e\"],[0.4444444444444444,\"#bd3786\"],[0.5555555555555556,\"#d8576b\"],[0.6666666666666666,\"#ed7953\"],[0.7777777777777778,\"#fb9f3a\"],[0.8888888888888888,\"#fdca26\"],[1.0,\"#f0f921\"]]}],\"contourcarpet\":[{\"type\":\"contourcarpet\",\"colorbar\":{\"outlinewidth\":0,\"ticks\":\"\"}}],\"contour\":[{\"type\":\"contour\",\"colorbar\":{\"outlinewidth\":0,\"ticks\":\"\"},\"colorscale\":[[0.0,\"#0d0887\"],[0.1111111111111111,\"#46039f\"],[0.2222222222222222,\"#7201a8\"],[0.3333333333333333,\"#9c179e\"],[0.4444444444444444,\"#bd3786\"],[0.5555555555555556,\"#d8576b\"],[0.6666666666666666,\"#ed7953\"],[0.7777777777777778,\"#fb9f3a\"],[0.8888888888888888,\"#fdca26\"],[1.0,\"#f0f921\"]]}],\"surface\":[{\"type\":\"surface\",\"colorbar\":{\"outlinewidth\":0,\"ticks\":\"\"},\"colorscale\":[[0.0,\"#0d0887\"],[0.1111111111111111,\"#46039f\"],[0.2222222222222222,\"#7201a8\"],[0.3333333333333333,\"#9c179e\"],[0.4444444444444444,\"#bd3786\"],[0.5555555555555556,\"#d8576b\"],[0.6666666666666666,\"#ed7953\"],[0.7777777777777778,\"#fb9f3a\"],[0.8888888888888888,\"#fdca26\"],[1.0,\"#f0f921\"]]}],\"mesh3d\":[{\"type\":\"mesh3d\",\"colorbar\":{\"outlinewidth\":0,\"ticks\":\"\"}}],\"scatter\":[{\"fillpattern\":{\"fillmode\":\"overlay\",\"size\":10,\"solidity\":0.2},\"type\":\"scatter\"}],\"parcoords\":[{\"type\":\"parcoords\",\"line\":{\"colorbar\":{\"outlinewidth\":0,\"ticks\":\"\"}}}],\"scatterpolargl\":[{\"type\":\"scatterpolargl\",\"marker\":{\"colorbar\":{\"outlinewidth\":0,\"ticks\":\"\"}}}],\"bar\":[{\"error_x\":{\"color\":\"#2a3f5f\"},\"error_y\":{\"color\":\"#2a3f5f\"},\"marker\":{\"line\":{\"color\":\"#E5ECF6\",\"width\":0.5},\"pattern\":{\"fillmode\":\"overlay\",\"size\":10,\"solidity\":0.2}},\"type\":\"bar\"}],\"scattergeo\":[{\"type\":\"scattergeo\",\"marker\":{\"colorbar\":{\"outlinewidth\":0,\"ticks\":\"\"}}}],\"scatterpolar\":[{\"type\":\"scatterpolar\",\"marker\":{\"colorbar\":{\"outlinewidth\":0,\"ticks\":\"\"}}}],\"histogram\":[{\"marker\":{\"pattern\":{\"fillmode\":\"overlay\",\"size\":10,\"solidity\":0.2}},\"type\":\"histogram\"}],\"scattergl\":[{\"type\":\"scattergl\",\"marker\":{\"colorbar\":{\"outlinewidth\":0,\"ticks\":\"\"}}}],\"scatter3d\":[{\"type\":\"scatter3d\",\"line\":{\"colorbar\":{\"outlinewidth\":0,\"ticks\":\"\"}},\"marker\":{\"colorbar\":{\"outlinewidth\":0,\"ticks\":\"\"}}}],\"scattermapbox\":[{\"type\":\"scattermapbox\",\"marker\":{\"colorbar\":{\"outlinewidth\":0,\"ticks\":\"\"}}}],\"scatterternary\":[{\"type\":\"scatterternary\",\"marker\":{\"colorbar\":{\"outlinewidth\":0,\"ticks\":\"\"}}}],\"scattercarpet\":[{\"type\":\"scattercarpet\",\"marker\":{\"colorbar\":{\"outlinewidth\":0,\"ticks\":\"\"}}}],\"carpet\":[{\"aaxis\":{\"endlinecolor\":\"#2a3f5f\",\"gridcolor\":\"white\",\"linecolor\":\"white\",\"minorgridcolor\":\"white\",\"startlinecolor\":\"#2a3f5f\"},\"baxis\":{\"endlinecolor\":\"#2a3f5f\",\"gridcolor\":\"white\",\"linecolor\":\"white\",\"minorgridcolor\":\"white\",\"startlinecolor\":\"#2a3f5f\"},\"type\":\"carpet\"}],\"table\":[{\"cells\":{\"fill\":{\"color\":\"#EBF0F8\"},\"line\":{\"color\":\"white\"}},\"header\":{\"fill\":{\"color\":\"#C8D4E3\"},\"line\":{\"color\":\"white\"}},\"type\":\"table\"}],\"barpolar\":[{\"marker\":{\"line\":{\"color\":\"#E5ECF6\",\"width\":0.5},\"pattern\":{\"fillmode\":\"overlay\",\"size\":10,\"solidity\":0.2}},\"type\":\"barpolar\"}],\"pie\":[{\"automargin\":true,\"type\":\"pie\"}]},\"layout\":{\"autotypenumbers\":\"strict\",\"colorway\":[\"#636efa\",\"#EF553B\",\"#00cc96\",\"#ab63fa\",\"#FFA15A\",\"#19d3f3\",\"#FF6692\",\"#B6E880\",\"#FF97FF\",\"#FECB52\"],\"font\":{\"color\":\"#2a3f5f\"},\"hovermode\":\"closest\",\"hoverlabel\":{\"align\":\"left\"},\"paper_bgcolor\":\"white\",\"plot_bgcolor\":\"#E5ECF6\",\"polar\":{\"bgcolor\":\"#E5ECF6\",\"angularaxis\":{\"gridcolor\":\"white\",\"linecolor\":\"white\",\"ticks\":\"\"},\"radialaxis\":{\"gridcolor\":\"white\",\"linecolor\":\"white\",\"ticks\":\"\"}},\"ternary\":{\"bgcolor\":\"#E5ECF6\",\"aaxis\":{\"gridcolor\":\"white\",\"linecolor\":\"white\",\"ticks\":\"\"},\"baxis\":{\"gridcolor\":\"white\",\"linecolor\":\"white\",\"ticks\":\"\"},\"caxis\":{\"gridcolor\":\"white\",\"linecolor\":\"white\",\"ticks\":\"\"}},\"coloraxis\":{\"colorbar\":{\"outlinewidth\":0,\"ticks\":\"\"}},\"colorscale\":{\"sequential\":[[0.0,\"#0d0887\"],[0.1111111111111111,\"#46039f\"],[0.2222222222222222,\"#7201a8\"],[0.3333333333333333,\"#9c179e\"],[0.4444444444444444,\"#bd3786\"],[0.5555555555555556,\"#d8576b\"],[0.6666666666666666,\"#ed7953\"],[0.7777777777777778,\"#fb9f3a\"],[0.8888888888888888,\"#fdca26\"],[1.0,\"#f0f921\"]],\"sequentialminus\":[[0.0,\"#0d0887\"],[0.1111111111111111,\"#46039f\"],[0.2222222222222222,\"#7201a8\"],[0.3333333333333333,\"#9c179e\"],[0.4444444444444444,\"#bd3786\"],[0.5555555555555556,\"#d8576b\"],[0.6666666666666666,\"#ed7953\"],[0.7777777777777778,\"#fb9f3a\"],[0.8888888888888888,\"#fdca26\"],[1.0,\"#f0f921\"]],\"diverging\":[[0,\"#8e0152\"],[0.1,\"#c51b7d\"],[0.2,\"#de77ae\"],[0.3,\"#f1b6da\"],[0.4,\"#fde0ef\"],[0.5,\"#f7f7f7\"],[0.6,\"#e6f5d0\"],[0.7,\"#b8e186\"],[0.8,\"#7fbc41\"],[0.9,\"#4d9221\"],[1,\"#276419\"]]},\"xaxis\":{\"gridcolor\":\"white\",\"linecolor\":\"white\",\"ticks\":\"\",\"title\":{\"standoff\":15},\"zerolinecolor\":\"white\",\"automargin\":true,\"zerolinewidth\":2},\"yaxis\":{\"gridcolor\":\"white\",\"linecolor\":\"white\",\"ticks\":\"\",\"title\":{\"standoff\":15},\"zerolinecolor\":\"white\",\"automargin\":true,\"zerolinewidth\":2},\"scene\":{\"xaxis\":{\"backgroundcolor\":\"#E5ECF6\",\"gridcolor\":\"white\",\"linecolor\":\"white\",\"showbackground\":true,\"ticks\":\"\",\"zerolinecolor\":\"white\",\"gridwidth\":2},\"yaxis\":{\"backgroundcolor\":\"#E5ECF6\",\"gridcolor\":\"white\",\"linecolor\":\"white\",\"showbackground\":true,\"ticks\":\"\",\"zerolinecolor\":\"white\",\"gridwidth\":2},\"zaxis\":{\"backgroundcolor\":\"#E5ECF6\",\"gridcolor\":\"white\",\"linecolor\":\"white\",\"showbackground\":true,\"ticks\":\"\",\"zerolinecolor\":\"white\",\"gridwidth\":2}},\"shapedefaults\":{\"line\":{\"color\":\"#2a3f5f\"}},\"annotationdefaults\":{\"arrowcolor\":\"#2a3f5f\",\"arrowhead\":0,\"arrowwidth\":1},\"geo\":{\"bgcolor\":\"white\",\"landcolor\":\"#E5ECF6\",\"subunitcolor\":\"white\",\"showland\":true,\"showlakes\":true,\"lakecolor\":\"white\"},\"title\":{\"x\":0.05},\"mapbox\":{\"style\":\"light\"}}},\"xaxis\":{\"anchor\":\"y\",\"domain\":[0.0,1.0],\"title\":{\"text\":\"number of PCs\"}},\"yaxis\":{\"anchor\":\"x\",\"domain\":[0.0,1.0],\"title\":{\"text\":\"total explained variance\"}},\"legend\":{\"tracegroupgap\":0},\"margin\":{\"t\":60}},                        {\"responsive\": true}                    ).then(function(){\n",
       "                            \n",
       "var gd = document.getElementById('2766cd42-e537-44d2-a23d-795eb25e3bcb');\n",
       "var x = new MutationObserver(function (mutations, observer) {{\n",
       "        var display = window.getComputedStyle(gd).display;\n",
       "        if (!display || display === 'none') {{\n",
       "            console.log([gd, 'removed!']);\n",
       "            Plotly.purge(gd);\n",
       "            observer.disconnect();\n",
       "        }}\n",
       "}});\n",
       "\n",
       "// Listen for the removal of the full notebook cells\n",
       "var notebookContainer = gd.closest('#notebook-container');\n",
       "if (notebookContainer) {{\n",
       "    x.observe(notebookContainer, {childList: true});\n",
       "}}\n",
       "\n",
       "// Listen for the clearing of the current output cell\n",
       "var outputEl = gd.closest('.output');\n",
       "if (outputEl) {{\n",
       "    x.observe(outputEl, {childList: true});\n",
       "}}\n",
       "\n",
       "                        })                };                });            </script>        </div>"
      ]
     },
     "metadata": {},
     "output_type": "display_data"
    }
   ],
   "source": [
    "# plot cumulative expllained variance\n",
    "var_exp = pca_bio.explained_variance_ratio_\n",
    "var_exp_c = np.cumsum(var_exp)\n",
    "\n",
    "fig = px.line(x=np.arange(n_components_b), y=var_exp_c)\n",
    "fig.update_layout(xaxis=dict(title=\"number of PCs\"),\n",
    "                  yaxis=dict(title=\"total explained variance\"))\n",
    "fig.show()\n",
    "fig.write_image(os.path.join(fig_path, \"pc_plot.png\"))"
   ]
  },
  {
   "cell_type": "code",
   "execution_count": 18,
   "id": "622bad6c-9d52-4dae-a922-77aff728aa93",
   "metadata": {},
   "outputs": [],
   "source": [
    "# get col names\n",
    "pca_cols_full = [f\"PCA_{p:02}_all\" for p in range(n_components_b)]\n",
    "pca_cols_bio = [f\"PCA_{p:02}_bio\" for p in range(n_components_b)]\n",
    "pca_cols_nbio = [f\"PCA_{p:02}_nbio\" for p in range(n_components_n)]\n",
    "\n",
    "# update UMAP df\n",
    "umap_df.loc[:, pca_cols_full] = pca_array_full\n",
    "umap_df.loc[:, pca_cols_bio] = pca_array_bio  \n",
    "umap_df.loc[:, pca_cols_nbio] = pca_array_nbio"
   ]
  },
  {
   "cell_type": "code",
   "execution_count": 19,
   "id": "c0702607-bedc-44d4-b72b-1e17a53ce916",
   "metadata": {},
   "outputs": [],
   "source": [
    "# save\n",
    "morph_df.to_csv(read_path + \"embryo_stats_df.csv\")\n",
    "umap_df.to_csv(read_path + \"umap_df.csv\")"
   ]
  }
 ],
 "metadata": {
  "kernelspec": {
   "display_name": "Python 3 (ipykernel)",
   "language": "python",
   "name": "python3"
  },
  "language_info": {
   "codemirror_mode": {
    "name": "ipython",
    "version": 3
   },
   "file_extension": ".py",
   "mimetype": "text/x-python",
   "name": "python",
   "nbconvert_exporter": "python",
   "pygments_lexer": "ipython3",
   "version": "3.10.13"
  }
 },
 "nbformat": 4,
 "nbformat_minor": 5
}
